{
 "metadata": {
  "language_info": {
   "codemirror_mode": {
    "name": "ipython",
    "version": 3
   },
   "file_extension": ".py",
   "mimetype": "text/x-python",
   "name": "python",
   "nbconvert_exporter": "python",
   "pygments_lexer": "ipython3",
   "version": "3.8.5-final"
  },
  "orig_nbformat": 2,
  "kernelspec": {
   "name": "python3",
   "display_name": "Python 3",
   "language": "python"
  },
  "metadata": {
   "interpreter": {
    "hash": "f8f6ce6d7de9e7d435f92b1c9caf5a41277a39fcb1cb45c94ace63440491e4eb"
   }
  }
 },
 "nbformat": 4,
 "nbformat_minor": 2,
 "cells": [
  {
   "cell_type": "code",
   "execution_count": 16,
   "metadata": {},
   "outputs": [
    {
     "output_type": "stream",
     "name": "stdout",
     "text": [
      "The autoreload extension is already loaded. To reload it, use:\n  %reload_ext autoreload\n"
     ]
    }
   ],
   "source": [
    "%load_ext autoreload\n",
    "%autoreload 2\n",
    "\n",
    "import torch\n",
    "from torch import nn\n",
    "from gtda.homology import VietorisRipsPersistence as vrp\n",
    "import plotly.express as px\n",
    "import plotly.figure_factory as ff\n",
    "import pandas as pd\n",
    "from itertools import chain, combinations\n",
    "import numpy as np\n",
    "from tqdm import tqdm\n",
    "import matplotlib.pyplot as plt\n",
    "from transformers import AutoConfig, AutoModelForSequenceClassification, AutoTokenizer\n",
    "from gdeep.optimisation import PersistenceGradient, TopoLoss"
   ]
  },
  {
   "cell_type": "code",
   "execution_count": 57,
   "metadata": {},
   "outputs": [
    {
     "output_type": "display_data",
     "data": {
      "text/plain": "<Figure size 432x288 with 1 Axes>",
      "image/svg+xml": "<?xml version=\"1.0\" encoding=\"utf-8\" standalone=\"no\"?>\n<!DOCTYPE svg PUBLIC \"-//W3C//DTD SVG 1.1//EN\"\n  \"http://www.w3.org/Graphics/SVG/1.1/DTD/svg11.dtd\">\n<!-- Created with matplotlib (https://matplotlib.org/) -->\n<svg height=\"248.835411pt\" version=\"1.1\" viewBox=\"0 0 372.103125 248.835411\" width=\"372.103125pt\" xmlns=\"http://www.w3.org/2000/svg\" xmlns:xlink=\"http://www.w3.org/1999/xlink\">\n <metadata>\n  <rdf:RDF xmlns:cc=\"http://creativecommons.org/ns#\" xmlns:dc=\"http://purl.org/dc/elements/1.1/\" xmlns:rdf=\"http://www.w3.org/1999/02/22-rdf-syntax-ns#\">\n   <cc:Work>\n    <dc:type rdf:resource=\"http://purl.org/dc/dcmitype/StillImage\"/>\n    <dc:date>2021-04-15T21:24:33.986811</dc:date>\n    <dc:format>image/svg+xml</dc:format>\n    <dc:creator>\n     <cc:Agent>\n      <dc:title>Matplotlib v3.3.3, https://matplotlib.org/</dc:title>\n     </cc:Agent>\n    </dc:creator>\n   </cc:Work>\n  </rdf:RDF>\n </metadata>\n <defs>\n  <style type=\"text/css\">*{stroke-linecap:butt;stroke-linejoin:round;}</style>\n </defs>\n <g id=\"figure_1\">\n  <g id=\"patch_1\">\n   <path d=\"M 0 248.835411 \nL 372.103125 248.835411 \nL 372.103125 0 \nL 0 0 \nz\n\" style=\"fill:none;\"/>\n  </g>\n  <g id=\"axes_1\">\n   <g id=\"patch_2\">\n    <path d=\"M 30.103125 224.957286 \nL 364.903125 224.957286 \nL 364.903125 7.517286 \nL 30.103125 7.517286 \nz\n\" style=\"fill:#ffffff;\"/>\n   </g>\n   <g id=\"PathCollection_1\">\n    <defs>\n     <path d=\"M 0 3 \nC 0.795609 3 1.55874 2.683901 2.12132 2.12132 \nC 2.683901 1.55874 3 0.795609 3 0 \nC 3 -0.795609 2.683901 -1.55874 2.12132 -2.12132 \nC 1.55874 -2.683901 0.795609 -3 0 -3 \nC -0.795609 -3 -1.55874 -2.683901 -2.12132 -2.12132 \nC -2.683901 -1.55874 -3 -0.795609 -3 0 \nC -3 0.795609 -2.683901 1.55874 -2.12132 2.12132 \nC -1.55874 2.683901 -0.795609 3 0 3 \nz\n\" id=\"ma61e3167a9\" style=\"stroke:#1f77b4;\"/>\n    </defs>\n    <g clip-path=\"url(#pf0069886f8)\">\n     <use style=\"fill:#1f77b4;stroke:#1f77b4;\" x=\"295.137687\" xlink:href=\"#ma61e3167a9\" y=\"215.07365\"/>\n     <use style=\"fill:#1f77b4;stroke:#1f77b4;\" x=\"45.321307\" xlink:href=\"#ma61e3167a9\" y=\"19.734501\"/>\n     <use style=\"fill:#1f77b4;stroke:#1f77b4;\" x=\"67.119535\" xlink:href=\"#ma61e3167a9\" y=\"17.400922\"/>\n     <use style=\"fill:#1f77b4;stroke:#1f77b4;\" x=\"349.684943\" xlink:href=\"#ma61e3167a9\" y=\"79.447038\"/>\n    </g>\n   </g>\n   <g id=\"matplotlib.axis_1\">\n    <g id=\"xtick_1\">\n     <g id=\"line2d_1\">\n      <defs>\n       <path d=\"M 0 0 \nL 0 3.5 \n\" id=\"m434c0efd44\" style=\"stroke:#000000;stroke-width:0.8;\"/>\n      </defs>\n      <g>\n       <use style=\"stroke:#000000;stroke-width:0.8;\" x=\"39.38311\" xlink:href=\"#m434c0efd44\" y=\"224.957286\"/>\n      </g>\n     </g>\n     <g id=\"text_1\">\n      <!-- 0.3 -->\n      <g transform=\"translate(31.431548 239.555723)scale(0.1 -0.1)\">\n       <defs>\n        <path d=\"M 31.78125 66.40625 \nQ 24.171875 66.40625 20.328125 58.90625 \nQ 16.5 51.421875 16.5 36.375 \nQ 16.5 21.390625 20.328125 13.890625 \nQ 24.171875 6.390625 31.78125 6.390625 \nQ 39.453125 6.390625 43.28125 13.890625 \nQ 47.125 21.390625 47.125 36.375 \nQ 47.125 51.421875 43.28125 58.90625 \nQ 39.453125 66.40625 31.78125 66.40625 \nz\nM 31.78125 74.21875 \nQ 44.046875 74.21875 50.515625 64.515625 \nQ 56.984375 54.828125 56.984375 36.375 \nQ 56.984375 17.96875 50.515625 8.265625 \nQ 44.046875 -1.421875 31.78125 -1.421875 \nQ 19.53125 -1.421875 13.0625 8.265625 \nQ 6.59375 17.96875 6.59375 36.375 \nQ 6.59375 54.828125 13.0625 64.515625 \nQ 19.53125 74.21875 31.78125 74.21875 \nz\n\" id=\"DejaVuSans-48\"/>\n        <path d=\"M 10.6875 12.40625 \nL 21 12.40625 \nL 21 0 \nL 10.6875 0 \nz\n\" id=\"DejaVuSans-46\"/>\n        <path d=\"M 40.578125 39.3125 \nQ 47.65625 37.796875 51.625 33 \nQ 55.609375 28.21875 55.609375 21.1875 \nQ 55.609375 10.40625 48.1875 4.484375 \nQ 40.765625 -1.421875 27.09375 -1.421875 \nQ 22.515625 -1.421875 17.65625 -0.515625 \nQ 12.796875 0.390625 7.625 2.203125 \nL 7.625 11.71875 \nQ 11.71875 9.328125 16.59375 8.109375 \nQ 21.484375 6.890625 26.8125 6.890625 \nQ 36.078125 6.890625 40.9375 10.546875 \nQ 45.796875 14.203125 45.796875 21.1875 \nQ 45.796875 27.640625 41.28125 31.265625 \nQ 36.765625 34.90625 28.71875 34.90625 \nL 20.21875 34.90625 \nL 20.21875 43.015625 \nL 29.109375 43.015625 \nQ 36.375 43.015625 40.234375 45.921875 \nQ 44.09375 48.828125 44.09375 54.296875 \nQ 44.09375 59.90625 40.109375 62.90625 \nQ 36.140625 65.921875 28.71875 65.921875 \nQ 24.65625 65.921875 20.015625 65.03125 \nQ 15.375 64.15625 9.8125 62.3125 \nL 9.8125 71.09375 \nQ 15.4375 72.65625 20.34375 73.4375 \nQ 25.25 74.21875 29.59375 74.21875 \nQ 40.828125 74.21875 47.359375 69.109375 \nQ 53.90625 64.015625 53.90625 55.328125 \nQ 53.90625 49.265625 50.4375 45.09375 \nQ 46.96875 40.921875 40.578125 39.3125 \nz\n\" id=\"DejaVuSans-51\"/>\n       </defs>\n       <use xlink:href=\"#DejaVuSans-48\"/>\n       <use x=\"63.623047\" xlink:href=\"#DejaVuSans-46\"/>\n       <use x=\"95.410156\" xlink:href=\"#DejaVuSans-51\"/>\n      </g>\n     </g>\n    </g>\n    <g id=\"xtick_2\">\n     <g id=\"line2d_2\">\n      <g>\n       <use style=\"stroke:#000000;stroke-width:0.8;\" x=\"84.406868\" xlink:href=\"#m434c0efd44\" y=\"224.957286\"/>\n      </g>\n     </g>\n     <g id=\"text_2\">\n      <!-- 0.4 -->\n      <g transform=\"translate(76.455306 239.555723)scale(0.1 -0.1)\">\n       <defs>\n        <path d=\"M 37.796875 64.3125 \nL 12.890625 25.390625 \nL 37.796875 25.390625 \nz\nM 35.203125 72.90625 \nL 47.609375 72.90625 \nL 47.609375 25.390625 \nL 58.015625 25.390625 \nL 58.015625 17.1875 \nL 47.609375 17.1875 \nL 47.609375 0 \nL 37.796875 0 \nL 37.796875 17.1875 \nL 4.890625 17.1875 \nL 4.890625 26.703125 \nz\n\" id=\"DejaVuSans-52\"/>\n       </defs>\n       <use xlink:href=\"#DejaVuSans-48\"/>\n       <use x=\"63.623047\" xlink:href=\"#DejaVuSans-46\"/>\n       <use x=\"95.410156\" xlink:href=\"#DejaVuSans-52\"/>\n      </g>\n     </g>\n    </g>\n    <g id=\"xtick_3\">\n     <g id=\"line2d_3\">\n      <g>\n       <use style=\"stroke:#000000;stroke-width:0.8;\" x=\"129.430626\" xlink:href=\"#m434c0efd44\" y=\"224.957286\"/>\n      </g>\n     </g>\n     <g id=\"text_3\">\n      <!-- 0.5 -->\n      <g transform=\"translate(121.479064 239.555723)scale(0.1 -0.1)\">\n       <defs>\n        <path d=\"M 10.796875 72.90625 \nL 49.515625 72.90625 \nL 49.515625 64.59375 \nL 19.828125 64.59375 \nL 19.828125 46.734375 \nQ 21.96875 47.46875 24.109375 47.828125 \nQ 26.265625 48.1875 28.421875 48.1875 \nQ 40.625 48.1875 47.75 41.5 \nQ 54.890625 34.8125 54.890625 23.390625 \nQ 54.890625 11.625 47.5625 5.09375 \nQ 40.234375 -1.421875 26.90625 -1.421875 \nQ 22.3125 -1.421875 17.546875 -0.640625 \nQ 12.796875 0.140625 7.71875 1.703125 \nL 7.71875 11.625 \nQ 12.109375 9.234375 16.796875 8.0625 \nQ 21.484375 6.890625 26.703125 6.890625 \nQ 35.15625 6.890625 40.078125 11.328125 \nQ 45.015625 15.765625 45.015625 23.390625 \nQ 45.015625 31 40.078125 35.4375 \nQ 35.15625 39.890625 26.703125 39.890625 \nQ 22.75 39.890625 18.8125 39.015625 \nQ 14.890625 38.140625 10.796875 36.28125 \nz\n\" id=\"DejaVuSans-53\"/>\n       </defs>\n       <use xlink:href=\"#DejaVuSans-48\"/>\n       <use x=\"63.623047\" xlink:href=\"#DejaVuSans-46\"/>\n       <use x=\"95.410156\" xlink:href=\"#DejaVuSans-53\"/>\n      </g>\n     </g>\n    </g>\n    <g id=\"xtick_4\">\n     <g id=\"line2d_4\">\n      <g>\n       <use style=\"stroke:#000000;stroke-width:0.8;\" x=\"174.454384\" xlink:href=\"#m434c0efd44\" y=\"224.957286\"/>\n      </g>\n     </g>\n     <g id=\"text_4\">\n      <!-- 0.6 -->\n      <g transform=\"translate(166.502822 239.555723)scale(0.1 -0.1)\">\n       <defs>\n        <path d=\"M 33.015625 40.375 \nQ 26.375 40.375 22.484375 35.828125 \nQ 18.609375 31.296875 18.609375 23.390625 \nQ 18.609375 15.53125 22.484375 10.953125 \nQ 26.375 6.390625 33.015625 6.390625 \nQ 39.65625 6.390625 43.53125 10.953125 \nQ 47.40625 15.53125 47.40625 23.390625 \nQ 47.40625 31.296875 43.53125 35.828125 \nQ 39.65625 40.375 33.015625 40.375 \nz\nM 52.59375 71.296875 \nL 52.59375 62.3125 \nQ 48.875 64.0625 45.09375 64.984375 \nQ 41.3125 65.921875 37.59375 65.921875 \nQ 27.828125 65.921875 22.671875 59.328125 \nQ 17.53125 52.734375 16.796875 39.40625 \nQ 19.671875 43.65625 24.015625 45.921875 \nQ 28.375 48.1875 33.59375 48.1875 \nQ 44.578125 48.1875 50.953125 41.515625 \nQ 57.328125 34.859375 57.328125 23.390625 \nQ 57.328125 12.15625 50.6875 5.359375 \nQ 44.046875 -1.421875 33.015625 -1.421875 \nQ 20.359375 -1.421875 13.671875 8.265625 \nQ 6.984375 17.96875 6.984375 36.375 \nQ 6.984375 53.65625 15.1875 63.9375 \nQ 23.390625 74.21875 37.203125 74.21875 \nQ 40.921875 74.21875 44.703125 73.484375 \nQ 48.484375 72.75 52.59375 71.296875 \nz\n\" id=\"DejaVuSans-54\"/>\n       </defs>\n       <use xlink:href=\"#DejaVuSans-48\"/>\n       <use x=\"63.623047\" xlink:href=\"#DejaVuSans-46\"/>\n       <use x=\"95.410156\" xlink:href=\"#DejaVuSans-54\"/>\n      </g>\n     </g>\n    </g>\n    <g id=\"xtick_5\">\n     <g id=\"line2d_5\">\n      <g>\n       <use style=\"stroke:#000000;stroke-width:0.8;\" x=\"219.478142\" xlink:href=\"#m434c0efd44\" y=\"224.957286\"/>\n      </g>\n     </g>\n     <g id=\"text_5\">\n      <!-- 0.7 -->\n      <g transform=\"translate(211.52658 239.555723)scale(0.1 -0.1)\">\n       <defs>\n        <path d=\"M 8.203125 72.90625 \nL 55.078125 72.90625 \nL 55.078125 68.703125 \nL 28.609375 0 \nL 18.3125 0 \nL 43.21875 64.59375 \nL 8.203125 64.59375 \nz\n\" id=\"DejaVuSans-55\"/>\n       </defs>\n       <use xlink:href=\"#DejaVuSans-48\"/>\n       <use x=\"63.623047\" xlink:href=\"#DejaVuSans-46\"/>\n       <use x=\"95.410156\" xlink:href=\"#DejaVuSans-55\"/>\n      </g>\n     </g>\n    </g>\n    <g id=\"xtick_6\">\n     <g id=\"line2d_6\">\n      <g>\n       <use style=\"stroke:#000000;stroke-width:0.8;\" x=\"264.5019\" xlink:href=\"#m434c0efd44\" y=\"224.957286\"/>\n      </g>\n     </g>\n     <g id=\"text_6\">\n      <!-- 0.8 -->\n      <g transform=\"translate(256.550338 239.555723)scale(0.1 -0.1)\">\n       <defs>\n        <path d=\"M 31.78125 34.625 \nQ 24.75 34.625 20.71875 30.859375 \nQ 16.703125 27.09375 16.703125 20.515625 \nQ 16.703125 13.921875 20.71875 10.15625 \nQ 24.75 6.390625 31.78125 6.390625 \nQ 38.8125 6.390625 42.859375 10.171875 \nQ 46.921875 13.96875 46.921875 20.515625 \nQ 46.921875 27.09375 42.890625 30.859375 \nQ 38.875 34.625 31.78125 34.625 \nz\nM 21.921875 38.8125 \nQ 15.578125 40.375 12.03125 44.71875 \nQ 8.5 49.078125 8.5 55.328125 \nQ 8.5 64.0625 14.71875 69.140625 \nQ 20.953125 74.21875 31.78125 74.21875 \nQ 42.671875 74.21875 48.875 69.140625 \nQ 55.078125 64.0625 55.078125 55.328125 \nQ 55.078125 49.078125 51.53125 44.71875 \nQ 48 40.375 41.703125 38.8125 \nQ 48.828125 37.15625 52.796875 32.3125 \nQ 56.78125 27.484375 56.78125 20.515625 \nQ 56.78125 9.90625 50.3125 4.234375 \nQ 43.84375 -1.421875 31.78125 -1.421875 \nQ 19.734375 -1.421875 13.25 4.234375 \nQ 6.78125 9.90625 6.78125 20.515625 \nQ 6.78125 27.484375 10.78125 32.3125 \nQ 14.796875 37.15625 21.921875 38.8125 \nz\nM 18.3125 54.390625 \nQ 18.3125 48.734375 21.84375 45.5625 \nQ 25.390625 42.390625 31.78125 42.390625 \nQ 38.140625 42.390625 41.71875 45.5625 \nQ 45.3125 48.734375 45.3125 54.390625 \nQ 45.3125 60.0625 41.71875 63.234375 \nQ 38.140625 66.40625 31.78125 66.40625 \nQ 25.390625 66.40625 21.84375 63.234375 \nQ 18.3125 60.0625 18.3125 54.390625 \nz\n\" id=\"DejaVuSans-56\"/>\n       </defs>\n       <use xlink:href=\"#DejaVuSans-48\"/>\n       <use x=\"63.623047\" xlink:href=\"#DejaVuSans-46\"/>\n       <use x=\"95.410156\" xlink:href=\"#DejaVuSans-56\"/>\n      </g>\n     </g>\n    </g>\n    <g id=\"xtick_7\">\n     <g id=\"line2d_7\">\n      <g>\n       <use style=\"stroke:#000000;stroke-width:0.8;\" x=\"309.525658\" xlink:href=\"#m434c0efd44\" y=\"224.957286\"/>\n      </g>\n     </g>\n     <g id=\"text_7\">\n      <!-- 0.9 -->\n      <g transform=\"translate(301.574096 239.555723)scale(0.1 -0.1)\">\n       <defs>\n        <path d=\"M 10.984375 1.515625 \nL 10.984375 10.5 \nQ 14.703125 8.734375 18.5 7.8125 \nQ 22.3125 6.890625 25.984375 6.890625 \nQ 35.75 6.890625 40.890625 13.453125 \nQ 46.046875 20.015625 46.78125 33.40625 \nQ 43.953125 29.203125 39.59375 26.953125 \nQ 35.25 24.703125 29.984375 24.703125 \nQ 19.046875 24.703125 12.671875 31.3125 \nQ 6.296875 37.9375 6.296875 49.421875 \nQ 6.296875 60.640625 12.9375 67.421875 \nQ 19.578125 74.21875 30.609375 74.21875 \nQ 43.265625 74.21875 49.921875 64.515625 \nQ 56.59375 54.828125 56.59375 36.375 \nQ 56.59375 19.140625 48.40625 8.859375 \nQ 40.234375 -1.421875 26.421875 -1.421875 \nQ 22.703125 -1.421875 18.890625 -0.6875 \nQ 15.09375 0.046875 10.984375 1.515625 \nz\nM 30.609375 32.421875 \nQ 37.25 32.421875 41.125 36.953125 \nQ 45.015625 41.5 45.015625 49.421875 \nQ 45.015625 57.28125 41.125 61.84375 \nQ 37.25 66.40625 30.609375 66.40625 \nQ 23.96875 66.40625 20.09375 61.84375 \nQ 16.21875 57.28125 16.21875 49.421875 \nQ 16.21875 41.5 20.09375 36.953125 \nQ 23.96875 32.421875 30.609375 32.421875 \nz\n\" id=\"DejaVuSans-57\"/>\n       </defs>\n       <use xlink:href=\"#DejaVuSans-48\"/>\n       <use x=\"63.623047\" xlink:href=\"#DejaVuSans-46\"/>\n       <use x=\"95.410156\" xlink:href=\"#DejaVuSans-57\"/>\n      </g>\n     </g>\n    </g>\n    <g id=\"xtick_8\">\n     <g id=\"line2d_8\">\n      <g>\n       <use style=\"stroke:#000000;stroke-width:0.8;\" x=\"354.549416\" xlink:href=\"#m434c0efd44\" y=\"224.957286\"/>\n      </g>\n     </g>\n     <g id=\"text_8\">\n      <!-- 1.0 -->\n      <g transform=\"translate(346.597854 239.555723)scale(0.1 -0.1)\">\n       <defs>\n        <path d=\"M 12.40625 8.296875 \nL 28.515625 8.296875 \nL 28.515625 63.921875 \nL 10.984375 60.40625 \nL 10.984375 69.390625 \nL 28.421875 72.90625 \nL 38.28125 72.90625 \nL 38.28125 8.296875 \nL 54.390625 8.296875 \nL 54.390625 0 \nL 12.40625 0 \nz\n\" id=\"DejaVuSans-49\"/>\n       </defs>\n       <use xlink:href=\"#DejaVuSans-49\"/>\n       <use x=\"63.623047\" xlink:href=\"#DejaVuSans-46\"/>\n       <use x=\"95.410156\" xlink:href=\"#DejaVuSans-48\"/>\n      </g>\n     </g>\n    </g>\n   </g>\n   <g id=\"matplotlib.axis_2\">\n    <g id=\"ytick_1\">\n     <g id=\"line2d_9\">\n      <defs>\n       <path d=\"M 0 0 \nL -3.5 0 \n\" id=\"meadd5cf235\" style=\"stroke:#000000;stroke-width:0.8;\"/>\n      </defs>\n      <g>\n       <use style=\"stroke:#000000;stroke-width:0.8;\" x=\"30.103125\" xlink:href=\"#meadd5cf235\" y=\"210.693694\"/>\n      </g>\n     </g>\n     <g id=\"text_9\">\n      <!-- 0.1 -->\n      <g transform=\"translate(7.2 214.492913)scale(0.1 -0.1)\">\n       <use xlink:href=\"#DejaVuSans-48\"/>\n       <use x=\"63.623047\" xlink:href=\"#DejaVuSans-46\"/>\n       <use x=\"95.410156\" xlink:href=\"#DejaVuSans-49\"/>\n      </g>\n     </g>\n    </g>\n    <g id=\"ytick_2\">\n     <g id=\"line2d_10\">\n      <g>\n       <use style=\"stroke:#000000;stroke-width:0.8;\" x=\"30.103125\" xlink:href=\"#meadd5cf235\" y=\"182.165912\"/>\n      </g>\n     </g>\n     <g id=\"text_10\">\n      <!-- 0.2 -->\n      <g transform=\"translate(7.2 185.965131)scale(0.1 -0.1)\">\n       <defs>\n        <path d=\"M 19.1875 8.296875 \nL 53.609375 8.296875 \nL 53.609375 0 \nL 7.328125 0 \nL 7.328125 8.296875 \nQ 12.9375 14.109375 22.625 23.890625 \nQ 32.328125 33.6875 34.8125 36.53125 \nQ 39.546875 41.84375 41.421875 45.53125 \nQ 43.3125 49.21875 43.3125 52.78125 \nQ 43.3125 58.59375 39.234375 62.25 \nQ 35.15625 65.921875 28.609375 65.921875 \nQ 23.96875 65.921875 18.8125 64.3125 \nQ 13.671875 62.703125 7.8125 59.421875 \nL 7.8125 69.390625 \nQ 13.765625 71.78125 18.9375 73 \nQ 24.125 74.21875 28.421875 74.21875 \nQ 39.75 74.21875 46.484375 68.546875 \nQ 53.21875 62.890625 53.21875 53.421875 \nQ 53.21875 48.921875 51.53125 44.890625 \nQ 49.859375 40.875 45.40625 35.40625 \nQ 44.1875 33.984375 37.640625 27.21875 \nQ 31.109375 20.453125 19.1875 8.296875 \nz\n\" id=\"DejaVuSans-50\"/>\n       </defs>\n       <use xlink:href=\"#DejaVuSans-48\"/>\n       <use x=\"63.623047\" xlink:href=\"#DejaVuSans-46\"/>\n       <use x=\"95.410156\" xlink:href=\"#DejaVuSans-50\"/>\n      </g>\n     </g>\n    </g>\n    <g id=\"ytick_3\">\n     <g id=\"line2d_11\">\n      <g>\n       <use style=\"stroke:#000000;stroke-width:0.8;\" x=\"30.103125\" xlink:href=\"#meadd5cf235\" y=\"153.63813\"/>\n      </g>\n     </g>\n     <g id=\"text_11\">\n      <!-- 0.3 -->\n      <g transform=\"translate(7.2 157.437348)scale(0.1 -0.1)\">\n       <use xlink:href=\"#DejaVuSans-48\"/>\n       <use x=\"63.623047\" xlink:href=\"#DejaVuSans-46\"/>\n       <use x=\"95.410156\" xlink:href=\"#DejaVuSans-51\"/>\n      </g>\n     </g>\n    </g>\n    <g id=\"ytick_4\">\n     <g id=\"line2d_12\">\n      <g>\n       <use style=\"stroke:#000000;stroke-width:0.8;\" x=\"30.103125\" xlink:href=\"#meadd5cf235\" y=\"125.110348\"/>\n      </g>\n     </g>\n     <g id=\"text_12\">\n      <!-- 0.4 -->\n      <g transform=\"translate(7.2 128.909566)scale(0.1 -0.1)\">\n       <use xlink:href=\"#DejaVuSans-48\"/>\n       <use x=\"63.623047\" xlink:href=\"#DejaVuSans-46\"/>\n       <use x=\"95.410156\" xlink:href=\"#DejaVuSans-52\"/>\n      </g>\n     </g>\n    </g>\n    <g id=\"ytick_5\">\n     <g id=\"line2d_13\">\n      <g>\n       <use style=\"stroke:#000000;stroke-width:0.8;\" x=\"30.103125\" xlink:href=\"#meadd5cf235\" y=\"96.582565\"/>\n      </g>\n     </g>\n     <g id=\"text_13\">\n      <!-- 0.5 -->\n      <g transform=\"translate(7.2 100.381784)scale(0.1 -0.1)\">\n       <use xlink:href=\"#DejaVuSans-48\"/>\n       <use x=\"63.623047\" xlink:href=\"#DejaVuSans-46\"/>\n       <use x=\"95.410156\" xlink:href=\"#DejaVuSans-53\"/>\n      </g>\n     </g>\n    </g>\n    <g id=\"ytick_6\">\n     <g id=\"line2d_14\">\n      <g>\n       <use style=\"stroke:#000000;stroke-width:0.8;\" x=\"30.103125\" xlink:href=\"#meadd5cf235\" y=\"68.054783\"/>\n      </g>\n     </g>\n     <g id=\"text_14\">\n      <!-- 0.6 -->\n      <g transform=\"translate(7.2 71.854002)scale(0.1 -0.1)\">\n       <use xlink:href=\"#DejaVuSans-48\"/>\n       <use x=\"63.623047\" xlink:href=\"#DejaVuSans-46\"/>\n       <use x=\"95.410156\" xlink:href=\"#DejaVuSans-54\"/>\n      </g>\n     </g>\n    </g>\n    <g id=\"ytick_7\">\n     <g id=\"line2d_15\">\n      <g>\n       <use style=\"stroke:#000000;stroke-width:0.8;\" x=\"30.103125\" xlink:href=\"#meadd5cf235\" y=\"39.527001\"/>\n      </g>\n     </g>\n     <g id=\"text_15\">\n      <!-- 0.7 -->\n      <g transform=\"translate(7.2 43.32622)scale(0.1 -0.1)\">\n       <use xlink:href=\"#DejaVuSans-48\"/>\n       <use x=\"63.623047\" xlink:href=\"#DejaVuSans-46\"/>\n       <use x=\"95.410156\" xlink:href=\"#DejaVuSans-55\"/>\n      </g>\n     </g>\n    </g>\n    <g id=\"ytick_8\">\n     <g id=\"line2d_16\">\n      <g>\n       <use style=\"stroke:#000000;stroke-width:0.8;\" x=\"30.103125\" xlink:href=\"#meadd5cf235\" y=\"10.999219\"/>\n      </g>\n     </g>\n     <g id=\"text_16\">\n      <!-- 0.8 -->\n      <g transform=\"translate(7.2 14.798437)scale(0.1 -0.1)\">\n       <use xlink:href=\"#DejaVuSans-48\"/>\n       <use x=\"63.623047\" xlink:href=\"#DejaVuSans-46\"/>\n       <use x=\"95.410156\" xlink:href=\"#DejaVuSans-56\"/>\n      </g>\n     </g>\n    </g>\n   </g>\n   <g id=\"patch_3\">\n    <path d=\"M 30.103125 224.957286 \nL 30.103125 7.517286 \n\" style=\"fill:none;stroke:#000000;stroke-linecap:square;stroke-linejoin:miter;stroke-width:0.8;\"/>\n   </g>\n   <g id=\"patch_4\">\n    <path d=\"M 364.903125 224.957286 \nL 364.903125 7.517286 \n\" style=\"fill:none;stroke:#000000;stroke-linecap:square;stroke-linejoin:miter;stroke-width:0.8;\"/>\n   </g>\n   <g id=\"patch_5\">\n    <path d=\"M 30.103125 224.957286 \nL 364.903125 224.957286 \n\" style=\"fill:none;stroke:#000000;stroke-linecap:square;stroke-linejoin:miter;stroke-width:0.8;\"/>\n   </g>\n   <g id=\"patch_6\">\n    <path d=\"M 30.103125 7.517286 \nL 364.903125 7.517286 \n\" style=\"fill:none;stroke:#000000;stroke-linecap:square;stroke-linejoin:miter;stroke-width:0.8;\"/>\n   </g>\n  </g>\n </g>\n <defs>\n  <clipPath id=\"pf0069886f8\">\n   <rect height=\"217.44\" width=\"334.8\" x=\"30.103125\" y=\"7.517286\"/>\n  </clipPath>\n </defs>\n</svg>\n",
      "image/png": "[encoded data removed]"
     },
     "metadata": {
      "needs_background": "light"
     }
    }
   ],
   "source": [
    "points = torch.rand(4, 2)\n",
    "A = torch.cdist(points, points)\n",
    "\n",
    "plt.scatter(points[:, 0], points[:, 1])\n",
    "plt.show()"
   ]
  },
  {
   "cell_type": "code",
   "execution_count": 130,
   "metadata": {},
   "outputs": [],
   "source": [
    "vr = vrp(homology_dimensions=[0, 1, 2])\n",
    "points = np.array([[[0.0], [1.0], [3.0]]])\n",
    "Xt = vr.fit_transform(points)\n",
    "vr.plot(Xt)\n",
    "A = torch.cdist(torch.tensor(points[0]), torch.tensor(points[0]))"
   ]
  },
  {
   "cell_type": "code",
   "execution_count": 121,
   "metadata": {},
   "outputs": [
    {
     "output_type": "execute_result",
     "data": {
      "text/plain": [
       "(3, 1)"
      ]
     },
     "metadata": {},
     "execution_count": 121
    }
   ],
   "source": [
    "np.array([[0], [1], [2]]).shape"
   ]
  },
  {
   "cell_type": "code",
   "execution_count": 131,
   "metadata": {},
   "outputs": [],
   "source": [
    "#A = torch.tensor(\n",
    "#    [\n",
    "#        [0, 1, 3, 4],\n",
    "#        [1, 0, 2, 5],\n",
    "#        [3, 2, 0, 6],\n",
    "#        [4, 5, 6, 0],\n",
    "#    ], dtype=torch.float32\n",
    "#)\n",
    "\n",
    "homology_dimensions = [0, 1, 2]\n",
    "\n",
    "topo_loss = TopoLoss(\n",
    "                    homology_dimensions=homology_dimensions,\n",
    "                    collapse_edges=False\n",
    "                    )"
   ]
  },
  {
   "cell_type": "code",
   "execution_count": 132,
   "metadata": {},
   "outputs": [
    {
     "output_type": "execute_result",
     "data": {
      "text/plain": [
       "[(), (1,), (2,), (3,), (1, 2), (1, 3), (2, 3)]"
      ]
     },
     "metadata": {},
     "execution_count": 132
    }
   ],
   "source": [
    "list(topo_loss.powerset([1, 2, 3], max_length=2))"
   ]
  },
  {
   "cell_type": "code",
   "execution_count": 133,
   "metadata": {},
   "outputs": [
    {
     "output_type": "execute_result",
     "data": {
      "text/plain": [
       "[(0,), (1,), (2,), (0, 1), (0, 2), (1, 2), (0, 1, 2)]"
      ]
     },
     "metadata": {},
     "execution_count": 133
    }
   ],
   "source": [
    "list(topo_loss.powerset(list(range(0,len(A))), max(homology_dimensions)+2))[1:]"
   ]
  },
  {
   "cell_type": "code",
   "execution_count": 134,
   "metadata": {},
   "outputs": [
    {
     "output_type": "execute_result",
     "data": {
      "text/plain": [
       "[((0, 0),),\n",
       " ((1, 1),),\n",
       " ((2, 2),),\n",
       " ((0, 1),),\n",
       " ((0, 2),),\n",
       " ((1, 2),),\n",
       " ((0, 1), (0, 2), (1, 2))]"
      ]
     },
     "metadata": {},
     "execution_count": 134
    }
   ],
   "source": [
    "topo_loss._simplicial_pairs_of_indices(A)"
   ]
  },
  {
   "cell_type": "code",
   "execution_count": 135,
   "metadata": {},
   "outputs": [
    {
     "output_type": "execute_result",
     "data": {
      "text/plain": [
       "[0.0, 0.0, 0.0, 1.0, 2.0, 3.0, 3.0]"
      ]
     },
     "metadata": {},
     "execution_count": 135
    }
   ],
   "source": [
    "topo_loss._compute_filtration(A)"
   ]
  },
  {
   "cell_type": "code",
   "execution_count": 145,
   "metadata": {},
   "outputs": [
    {
     "output_type": "execute_result",
     "data": {
      "text/plain": [
       "array([[0., 1.],\n",
       "       [0., 2.],\n",
       "       [0., 0.],\n",
       "       [0., 0.]])"
      ]
     },
     "metadata": {},
     "execution_count": 145
    }
   ],
   "source": [
    "pairs = topo_loss._compute_pairs(A)\n",
    "pairs"
   ]
  },
  {
   "cell_type": "code",
   "execution_count": 146,
   "metadata": {},
   "outputs": [
    {
     "output_type": "execute_result",
     "data": {
      "text/plain": [
       "[0.0, 0.0, 0.0, 1.0, 2.0, 3.0, 3.0]"
      ]
     },
     "metadata": {},
     "execution_count": 146
    }
   ],
   "source": [
    "sorted_filtration_list"
   ]
  },
  {
   "cell_type": "code",
   "execution_count": 147,
   "metadata": {},
   "outputs": [
    {
     "output_type": "stream",
     "name": "stdout",
     "text": [
      "0.0\n1.0\n0.0\n2.0\n0.0\n0.0\n0.0\n0.0\n"
     ]
    }
   ],
   "source": [
    "sorted_filtration_list = topo_loss._compute_filtration(A)\n",
    "for x in chain(*pairs):\n",
    "    print(x)\n"
   ]
  },
  {
   "cell_type": "code",
   "execution_count": 142,
   "metadata": {},
   "outputs": [
    {
     "output_type": "execute_result",
     "data": {
      "text/plain": [
       "[0.0, 0.0, 0.0, 1.0, 2.0, 3.0, 3.0]"
      ]
     },
     "metadata": {},
     "execution_count": 142
    }
   ],
   "source": [
    "sorted_filtration_list"
   ]
  },
  {
   "cell_type": "code",
   "execution_count": 159,
   "metadata": {},
   "outputs": [],
   "source": [
    "af = lambda x: round(x, 7)\n",
    "af(np.pi)\n",
    "\n",
    "approx_pairs = [af(x) for x in chain(*pairs)]\n",
    "\n",
    "phi = sorted_filtration_list\n",
    "\n",
    "indices_in_phi_of_pairs = [i for i in range(len(phi)) if af(phi[i]) in approx_pairs]\n",
    "\n",
    "persistence_pairs_array = -np.ones((len(indices_in_phi_of_pairs),2), dtype=np.int32)\n",
    "\n",
    "for i in indices_in_phi_of_pairs:\n",
    "    try:\n",
    "        temp_index = approx_pairs.index(af(phi[i]))\n",
    "        approx_pairs[temp_index] = np.inf\n",
    "        persistence_pairs_array[temp_index // 2, temp_index % 2]= i\n",
    "    except:\n",
    "        print(\"blub\")"
   ]
  },
  {
   "cell_type": "code",
   "execution_count": 162,
   "metadata": {},
   "outputs": [
    {
     "output_type": "execute_result",
     "data": {
      "text/plain": [
       "[0.0, 0.0, 0.0, 1.0, 2.0, 3.0, 3.0]"
      ]
     },
     "metadata": {},
     "execution_count": 162
    }
   ],
   "source": []
  },
  {
   "cell_type": "code",
   "execution_count": 163,
   "metadata": {},
   "outputs": [
    {
     "output_type": "execute_result",
     "data": {
      "text/plain": [
       "[0.0, 1.0, 0.0, 2.0, 0.0, 0.0, 0.0, 0.0]"
      ]
     },
     "metadata": {},
     "execution_count": 163
    }
   ],
   "source": [
    "list(map(af, list(chain(*pairs))))"
   ]
  },
  {
   "cell_type": "code",
   "execution_count": 164,
   "metadata": {},
   "outputs": [
    {
     "output_type": "execute_result",
     "data": {
      "text/plain": [
       "[0, 1, 2, 3, 4]"
      ]
     },
     "metadata": {},
     "execution_count": 164
    }
   ],
   "source": [
    "indices_in_phi_of_pairs"
   ]
  },
  {
   "cell_type": "code",
   "execution_count": 160,
   "metadata": {},
   "outputs": [
    {
     "output_type": "execute_result",
     "data": {
      "text/plain": [
       "[inf, inf, inf, inf, inf, 0.0, 0.0, 0.0]"
      ]
     },
     "metadata": {},
     "execution_count": 160
    }
   ],
   "source": [
    "approx_pairs"
   ]
  },
  {
   "cell_type": "code",
   "execution_count": 161,
   "metadata": {},
   "outputs": [
    {
     "output_type": "execute_result",
     "data": {
      "text/plain": [
       "[0.0, 1.0, 0.0, 2.0, 0.0, 0.0, 0.0, 0.0]"
      ]
     },
     "metadata": {},
     "execution_count": 161
    }
   ],
   "source": [
    " [af(x) for x in chain(*pairs)]"
   ]
  },
  {
   "cell_type": "code",
   "execution_count": 27,
   "metadata": {},
   "outputs": [
    {
     "output_type": "execute_result",
     "data": {
      "text/plain": [
       "tensor(30.3731)"
      ]
     },
     "metadata": {},
     "execution_count": 27
    }
   ],
   "source": [
    "X = torch.rand(10, 10)\n",
    "torch.einsum('ij, ij-> ', X, X) #torch.trace(X.mm(X.T))"
   ]
  },
  {
   "cell_type": "code",
   "execution_count": 28,
   "metadata": {},
   "outputs": [
    {
     "output_type": "execute_result",
     "data": {
      "text/plain": [
       "tensor(30.3731)"
      ]
     },
     "metadata": {},
     "execution_count": 28
    }
   ],
   "source": [
    "torch.trace(X.mm(X.T))"
   ]
  },
  {
   "cell_type": "code",
   "execution_count": 31,
   "metadata": {},
   "outputs": [
    {
     "output_type": "stream",
     "name": "stderr",
     "text": [
      "/home/reinauer/.local/lib/python3.8/site-packages/gtda/homology/simplicial.py:208: DataDimensionalityWarning: All arrays/matrices are square. This is consistent with a collection of distance/adjacency matrices, but the entries will be treated as collections of vectors in Euclidean space.\n  check_point_clouds(X, accept_sparse=True,\n/home/reinauer/.local/lib/python3.8/site-packages/gtda/homology/simplicial.py:270: DataDimensionalityWarning: All arrays/matrices are square. This is consistent with a collection of distance/adjacency matrices, but the entries will be treated as collections of vectors in Euclidean space.\n  X = check_point_clouds(X, accept_sparse=True,\n"
     ]
    },
    {
     "output_type": "execute_result",
     "data": {
      "text/plain": [
       "(1, 11, 3)"
      ]
     },
     "metadata": {},
     "execution_count": 31
    }
   ],
   "source": [
    "vr = vrp()\n",
    "vr.fit_transform([X.detach().numpy()]).shape"
   ]
  },
  {
   "cell_type": "code",
   "execution_count": 32,
   "metadata": {},
   "outputs": [
    {
     "output_type": "execute_result",
     "data": {
      "text/plain": [
       "3.1415927"
      ]
     },
     "metadata": {},
     "execution_count": 32
    }
   ],
   "source": [
    "round(np.pi, 7)"
   ]
  },
  {
   "cell_type": "code",
   "execution_count": 1,
   "metadata": {},
   "outputs": [
    {
     "output_type": "stream",
     "name": "stdout",
     "text": [
      "Collecting jupyter-tabnine\n",
      "  Downloading jupyter_tabnine-1.2.2-py2.py3-none-any.whl (21 kB)\n",
      "Requirement already satisfied: notebook>=4.2 in /home/reinauer/.local/lib/python3.8/site-packages (from jupyter-tabnine) (6.1.5)\n",
      "Requirement already satisfied: nbconvert in /home/reinauer/.local/lib/python3.8/site-packages (from jupyter-tabnine) (6.0.7)\n",
      "Requirement already satisfied: ipython in /home/reinauer/.local/lib/python3.8/site-packages (from jupyter-tabnine) (7.19.0)\n",
      "Requirement already satisfied: jupyter-core in /home/reinauer/.local/lib/python3.8/site-packages (from jupyter-tabnine) (4.7.0)\n",
      "Requirement already satisfied: nbformat in /home/reinauer/.local/lib/python3.8/site-packages (from notebook>=4.2->jupyter-tabnine) (5.0.8)\n",
      "Requirement already satisfied: jupyter-client>=5.3.4 in /home/reinauer/.local/lib/python3.8/site-packages (from notebook>=4.2->jupyter-tabnine) (6.1.7)\n",
      "Requirement already satisfied: terminado>=0.8.3 in /home/reinauer/.local/lib/python3.8/site-packages (from notebook>=4.2->jupyter-tabnine) (0.9.1)\n",
      "Requirement already satisfied: Send2Trash in /home/reinauer/.local/lib/python3.8/site-packages (from notebook>=4.2->jupyter-tabnine) (1.5.0)\n",
      "Requirement already satisfied: traitlets>=4.2.1 in /home/reinauer/.local/lib/python3.8/site-packages (from notebook>=4.2->jupyter-tabnine) (5.0.5)\n",
      "Requirement already satisfied: ipykernel in /home/reinauer/.local/lib/python3.8/site-packages (from notebook>=4.2->jupyter-tabnine) (5.3.4)\n",
      "Requirement already satisfied: tornado>=5.0 in /home/reinauer/.local/lib/python3.8/site-packages (from notebook>=4.2->jupyter-tabnine) (6.1)\n",
      "Requirement already satisfied: ipython-genutils in /home/reinauer/.local/lib/python3.8/site-packages (from notebook>=4.2->jupyter-tabnine) (0.2.0)\n",
      "Requirement already satisfied: jinja2 in /home/reinauer/.local/lib/python3.8/site-packages (from notebook>=4.2->jupyter-tabnine) (2.11.2)\n",
      "Requirement already satisfied: argon2-cffi in /home/reinauer/.local/lib/python3.8/site-packages (from notebook>=4.2->jupyter-tabnine) (20.1.0)\n",
      "Requirement already satisfied: prometheus-client in /home/reinauer/.local/lib/python3.8/site-packages (from notebook>=4.2->jupyter-tabnine) (0.9.0)\n",
      "Requirement already satisfied: pyzmq>=17 in /home/reinauer/.local/lib/python3.8/site-packages (from notebook>=4.2->jupyter-tabnine) (20.0.0)\n",
      "Requirement already satisfied: python-dateutil>=2.1 in /home/reinauer/anaconda3/envs/giottodeep/lib/python3.8/site-packages (from jupyter-client>=5.3.4->notebook>=4.2->jupyter-tabnine) (2.8.1)\n",
      "Requirement already satisfied: six>=1.5 in /home/reinauer/anaconda3/envs/giottodeep/lib/python3.8/site-packages (from python-dateutil>=2.1->jupyter-client>=5.3.4->notebook>=4.2->jupyter-tabnine) (1.15.0)\n",
      "Requirement already satisfied: ptyprocess in /home/reinauer/.local/lib/python3.8/site-packages (from terminado>=0.8.3->notebook>=4.2->jupyter-tabnine) (0.6.0)\n",
      "Requirement already satisfied: cffi>=1.0.0 in /home/reinauer/.local/lib/python3.8/site-packages (from argon2-cffi->notebook>=4.2->jupyter-tabnine) (1.14.3)\n",
      "Requirement already satisfied: pycparser in /home/reinauer/.local/lib/python3.8/site-packages (from cffi>=1.0.0->argon2-cffi->notebook>=4.2->jupyter-tabnine) (2.20)\n",
      "Requirement already satisfied: jedi>=0.10 in /home/reinauer/.local/lib/python3.8/site-packages (from ipython->jupyter-tabnine) (0.17.2)\n",
      "Requirement already satisfied: decorator in /home/reinauer/.local/lib/python3.8/site-packages (from ipython->jupyter-tabnine) (4.4.2)\n",
      "Requirement already satisfied: prompt-toolkit!=3.0.0,!=3.0.1,<3.1.0,>=2.0.0 in /home/reinauer/.local/lib/python3.8/site-packages (from ipython->jupyter-tabnine) (3.0.8)\n",
      "Requirement already satisfied: pexpect>4.3 in /home/reinauer/anaconda3/envs/giottodeep/lib/python3.8/site-packages (from ipython->jupyter-tabnine) (4.8.0)\n",
      "Requirement already satisfied: pygments in /home/reinauer/.local/lib/python3.8/site-packages (from ipython->jupyter-tabnine) (2.7.2)\n",
      "Requirement already satisfied: setuptools>=18.5 in /home/reinauer/anaconda3/envs/giottodeep/lib/python3.8/site-packages (from ipython->jupyter-tabnine) (50.3.1.post20201107)\n",
      "Requirement already satisfied: backcall in /home/reinauer/.local/lib/python3.8/site-packages (from ipython->jupyter-tabnine) (0.2.0)\n",
      "Requirement already satisfied: pickleshare in /home/reinauer/.local/lib/python3.8/site-packages (from ipython->jupyter-tabnine) (0.7.5)\n",
      "Requirement already satisfied: parso<0.8.0,>=0.7.0 in /home/reinauer/.local/lib/python3.8/site-packages (from jedi>=0.10->ipython->jupyter-tabnine) (0.7.1)\n",
      "Requirement already satisfied: wcwidth in /home/reinauer/.local/lib/python3.8/site-packages (from prompt-toolkit!=3.0.0,!=3.0.1,<3.1.0,>=2.0.0->ipython->jupyter-tabnine) (0.2.5)\n",
      "Requirement already satisfied: MarkupSafe>=0.23 in /home/reinauer/anaconda3/envs/giottodeep/lib/python3.8/site-packages (from jinja2->notebook>=4.2->jupyter-tabnine) (1.1.1)\n",
      "Requirement already satisfied: nbclient<0.6.0,>=0.5.0 in /home/reinauer/.local/lib/python3.8/site-packages (from nbconvert->jupyter-tabnine) (0.5.1)\n",
      "Requirement already satisfied: mistune<2,>=0.8.1 in /home/reinauer/.local/lib/python3.8/site-packages (from nbconvert->jupyter-tabnine) (0.8.4)\n",
      "Requirement already satisfied: entrypoints>=0.2.2 in /home/reinauer/anaconda3/envs/giottodeep/lib/python3.8/site-packages (from nbconvert->jupyter-tabnine) (0.3)\n",
      "Requirement already satisfied: testpath in /home/reinauer/.local/lib/python3.8/site-packages (from nbconvert->jupyter-tabnine) (0.4.4)\n",
      "Requirement already satisfied: defusedxml in /home/reinauer/.local/lib/python3.8/site-packages (from nbconvert->jupyter-tabnine) (0.6.0)\n",
      "Requirement already satisfied: bleach in /home/reinauer/.local/lib/python3.8/site-packages (from nbconvert->jupyter-tabnine) (3.2.1)\n",
      "Requirement already satisfied: pandocfilters>=1.4.1 in /home/reinauer/.local/lib/python3.8/site-packages (from nbconvert->jupyter-tabnine) (1.4.3)\n",
      "Requirement already satisfied: jupyterlab-pygments in /home/reinauer/.local/lib/python3.8/site-packages (from nbconvert->jupyter-tabnine) (0.1.2)\n",
      "Requirement already satisfied: nest-asyncio in /home/reinauer/.local/lib/python3.8/site-packages (from nbclient<0.6.0,>=0.5.0->nbconvert->jupyter-tabnine) (1.4.3)\n",
      "Requirement already satisfied: async-generator in /home/reinauer/.local/lib/python3.8/site-packages (from nbclient<0.6.0,>=0.5.0->nbconvert->jupyter-tabnine) (1.10)\n",
      "Requirement already satisfied: jsonschema!=2.5.0,>=2.4 in /home/reinauer/.local/lib/python3.8/site-packages (from nbformat->notebook>=4.2->jupyter-tabnine) (3.2.0)\n",
      "Requirement already satisfied: pyrsistent>=0.14.0 in /home/reinauer/.local/lib/python3.8/site-packages (from jsonschema!=2.5.0,>=2.4->nbformat->notebook>=4.2->jupyter-tabnine) (0.17.3)\n",
      "Requirement already satisfied: attrs>=17.4.0 in /home/reinauer/.local/lib/python3.8/site-packages (from jsonschema!=2.5.0,>=2.4->nbformat->notebook>=4.2->jupyter-tabnine) (20.3.0)\n",
      "Requirement already satisfied: packaging in /home/reinauer/.local/lib/python3.8/site-packages (from bleach->nbconvert->jupyter-tabnine) (20.4)\n",
      "Requirement already satisfied: webencodings in /home/reinauer/.local/lib/python3.8/site-packages (from bleach->nbconvert->jupyter-tabnine) (0.5.1)\n",
      "Requirement already satisfied: pyparsing>=2.0.2 in /home/reinauer/.local/lib/python3.8/site-packages (from packaging->bleach->nbconvert->jupyter-tabnine) (2.4.7)\n",
      "Installing collected packages: jupyter-tabnine\n",
      "Successfully installed jupyter-tabnine-1.2.2\n"
     ]
    }
   ],
   "source": [
    "!pip3 install jupyter-tabnine"
   ]
  },
  {
   "cell_type": "code",
   "execution_count": 1,
   "metadata": {},
   "outputs": [
    {
     "output_type": "stream",
     "name": "stdout",
     "text": [
      "Collecting jupyter_contrib_nbextensions\n",
      "  Downloading jupyter_contrib_nbextensions-0.5.1-py2.py3-none-any.whl (20.9 MB)\n",
      "\u001b[K     |████████████████████████████████| 20.9 MB 2.9 MB/s \n",
      "\u001b[?25hRequirement already satisfied: pyyaml in /home/reinauer/anaconda3/envs/giottodeep/lib/python3.8/site-packages (from jupyter_contrib_nbextensions) (5.3.1)\n",
      "Requirement already satisfied: jupyter-core in /home/reinauer/.local/lib/python3.8/site-packages (from jupyter_contrib_nbextensions) (4.7.0)\n",
      "Collecting jupyter-latex-envs>=1.3.8\n",
      "  Downloading jupyter_latex_envs-1.4.6.tar.gz (861 kB)\n",
      "\u001b[K     |████████████████████████████████| 861 kB 2.6 MB/s \n",
      "\u001b[?25hRequirement already satisfied: tornado in /home/reinauer/.local/lib/python3.8/site-packages (from jupyter_contrib_nbextensions) (6.1)\n",
      "Requirement already satisfied: traitlets>=4.1 in /home/reinauer/.local/lib/python3.8/site-packages (from jupyter_contrib_nbextensions) (5.0.5)\n",
      "Requirement already satisfied: nbconvert>=4.2 in /home/reinauer/.local/lib/python3.8/site-packages (from jupyter_contrib_nbextensions) (6.0.7)\n",
      "Collecting jupyter-nbextensions-configurator>=0.4.0\n",
      "  Downloading jupyter_nbextensions_configurator-0.4.1.tar.gz (479 kB)\n",
      "\u001b[K     |████████████████████████████████| 479 kB 2.7 MB/s \n",
      "\u001b[?25hCollecting jupyter-contrib-core>=0.3.3\n",
      "  Downloading jupyter_contrib_core-0.3.3-py2.py3-none-any.whl (18 kB)\n",
      "Collecting lxml\n",
      "  Downloading lxml-4.6.3-cp38-cp38-manylinux1_x86_64.whl (5.4 MB)\n",
      "\u001b[K     |████████████████████████████████| 5.4 MB 3.1 MB/s \n",
      "\u001b[?25hRequirement already satisfied: notebook>=4.0 in /home/reinauer/.local/lib/python3.8/site-packages (from jupyter_contrib_nbextensions) (6.1.5)\n",
      "Collecting jupyter-highlight-selected-word>=0.1.1\n",
      "  Downloading jupyter_highlight_selected_word-0.2.0-py2.py3-none-any.whl (11 kB)\n",
      "Requirement already satisfied: ipython-genutils in /home/reinauer/.local/lib/python3.8/site-packages (from jupyter_contrib_nbextensions) (0.2.0)\n",
      "Requirement already satisfied: setuptools in /home/reinauer/anaconda3/envs/giottodeep/lib/python3.8/site-packages (from jupyter-contrib-core>=0.3.3->jupyter_contrib_nbextensions) (50.3.1.post20201107)\n",
      "Requirement already satisfied: ipython in /home/reinauer/.local/lib/python3.8/site-packages (from jupyter-latex-envs>=1.3.8->jupyter_contrib_nbextensions) (7.19.0)\n",
      "Requirement already satisfied: testpath in /home/reinauer/.local/lib/python3.8/site-packages (from nbconvert>=4.2->jupyter_contrib_nbextensions) (0.4.4)\n",
      "Requirement already satisfied: bleach in /home/reinauer/.local/lib/python3.8/site-packages (from nbconvert>=4.2->jupyter_contrib_nbextensions) (3.2.1)\n",
      "Requirement already satisfied: mistune<2,>=0.8.1 in /home/reinauer/.local/lib/python3.8/site-packages (from nbconvert>=4.2->jupyter_contrib_nbextensions) (0.8.4)\n",
      "Requirement already satisfied: pygments>=2.4.1 in /home/reinauer/.local/lib/python3.8/site-packages (from nbconvert>=4.2->jupyter_contrib_nbextensions) (2.7.2)\n",
      "Requirement already satisfied: pandocfilters>=1.4.1 in /home/reinauer/.local/lib/python3.8/site-packages (from nbconvert>=4.2->jupyter_contrib_nbextensions) (1.4.3)\n",
      "Requirement already satisfied: nbformat>=4.4 in /home/reinauer/.local/lib/python3.8/site-packages (from nbconvert>=4.2->jupyter_contrib_nbextensions) (5.0.8)\n",
      "Requirement already satisfied: entrypoints>=0.2.2 in /home/reinauer/anaconda3/envs/giottodeep/lib/python3.8/site-packages (from nbconvert>=4.2->jupyter_contrib_nbextensions) (0.3)\n",
      "Requirement already satisfied: jinja2>=2.4 in /home/reinauer/.local/lib/python3.8/site-packages (from nbconvert>=4.2->jupyter_contrib_nbextensions) (2.11.2)\n",
      "Requirement already satisfied: defusedxml in /home/reinauer/.local/lib/python3.8/site-packages (from nbconvert>=4.2->jupyter_contrib_nbextensions) (0.6.0)\n",
      "Requirement already satisfied: nbclient<0.6.0,>=0.5.0 in /home/reinauer/.local/lib/python3.8/site-packages (from nbconvert>=4.2->jupyter_contrib_nbextensions) (0.5.1)\n",
      "Requirement already satisfied: jupyterlab-pygments in /home/reinauer/.local/lib/python3.8/site-packages (from nbconvert>=4.2->jupyter_contrib_nbextensions) (0.1.2)\n",
      "Requirement already satisfied: MarkupSafe>=0.23 in /home/reinauer/anaconda3/envs/giottodeep/lib/python3.8/site-packages (from jinja2>=2.4->nbconvert>=4.2->jupyter_contrib_nbextensions) (1.1.1)\n",
      "Requirement already satisfied: async-generator in /home/reinauer/.local/lib/python3.8/site-packages (from nbclient<0.6.0,>=0.5.0->nbconvert>=4.2->jupyter_contrib_nbextensions) (1.10)\n",
      "Requirement already satisfied: nest-asyncio in /home/reinauer/.local/lib/python3.8/site-packages (from nbclient<0.6.0,>=0.5.0->nbconvert>=4.2->jupyter_contrib_nbextensions) (1.4.3)\n",
      "Requirement already satisfied: jupyter-client>=6.1.5 in /home/reinauer/.local/lib/python3.8/site-packages (from nbclient<0.6.0,>=0.5.0->nbconvert>=4.2->jupyter_contrib_nbextensions) (6.1.7)\n",
      "Requirement already satisfied: python-dateutil>=2.1 in /home/reinauer/anaconda3/envs/giottodeep/lib/python3.8/site-packages (from jupyter-client>=6.1.5->nbclient<0.6.0,>=0.5.0->nbconvert>=4.2->jupyter_contrib_nbextensions) (2.8.1)\n",
      "Requirement already satisfied: pyzmq>=13 in /home/reinauer/.local/lib/python3.8/site-packages (from jupyter-client>=6.1.5->nbclient<0.6.0,>=0.5.0->nbconvert>=4.2->jupyter_contrib_nbextensions) (20.0.0)\n",
      "Requirement already satisfied: jsonschema!=2.5.0,>=2.4 in /home/reinauer/.local/lib/python3.8/site-packages (from nbformat>=4.4->nbconvert>=4.2->jupyter_contrib_nbextensions) (3.2.0)\n",
      "Requirement already satisfied: pyrsistent>=0.14.0 in /home/reinauer/.local/lib/python3.8/site-packages (from jsonschema!=2.5.0,>=2.4->nbformat>=4.4->nbconvert>=4.2->jupyter_contrib_nbextensions) (0.17.3)\n",
      "Requirement already satisfied: six>=1.11.0 in /home/reinauer/anaconda3/envs/giottodeep/lib/python3.8/site-packages (from jsonschema!=2.5.0,>=2.4->nbformat>=4.4->nbconvert>=4.2->jupyter_contrib_nbextensions) (1.15.0)\n",
      "Requirement already satisfied: attrs>=17.4.0 in /home/reinauer/.local/lib/python3.8/site-packages (from jsonschema!=2.5.0,>=2.4->nbformat>=4.4->nbconvert>=4.2->jupyter_contrib_nbextensions) (20.3.0)\n",
      "Requirement already satisfied: argon2-cffi in /home/reinauer/.local/lib/python3.8/site-packages (from notebook>=4.0->jupyter_contrib_nbextensions) (20.1.0)\n",
      "Requirement already satisfied: prometheus-client in /home/reinauer/.local/lib/python3.8/site-packages (from notebook>=4.0->jupyter_contrib_nbextensions) (0.9.0)\n",
      "Requirement already satisfied: Send2Trash in /home/reinauer/.local/lib/python3.8/site-packages (from notebook>=4.0->jupyter_contrib_nbextensions) (1.5.0)\n",
      "Requirement already satisfied: terminado>=0.8.3 in /home/reinauer/.local/lib/python3.8/site-packages (from notebook>=4.0->jupyter_contrib_nbextensions) (0.9.1)\n",
      "Requirement already satisfied: ipykernel in /home/reinauer/.local/lib/python3.8/site-packages (from notebook>=4.0->jupyter_contrib_nbextensions) (5.3.4)\n",
      "Requirement already satisfied: ptyprocess in /home/reinauer/.local/lib/python3.8/site-packages (from terminado>=0.8.3->notebook>=4.0->jupyter_contrib_nbextensions) (0.6.0)\n",
      "Requirement already satisfied: cffi>=1.0.0 in /home/reinauer/.local/lib/python3.8/site-packages (from argon2-cffi->notebook>=4.0->jupyter_contrib_nbextensions) (1.14.3)\n",
      "Requirement already satisfied: pycparser in /home/reinauer/.local/lib/python3.8/site-packages (from cffi>=1.0.0->argon2-cffi->notebook>=4.0->jupyter_contrib_nbextensions) (2.20)\n",
      "Requirement already satisfied: packaging in /home/reinauer/.local/lib/python3.8/site-packages (from bleach->nbconvert>=4.2->jupyter_contrib_nbextensions) (20.4)\n",
      "Requirement already satisfied: webencodings in /home/reinauer/.local/lib/python3.8/site-packages (from bleach->nbconvert>=4.2->jupyter_contrib_nbextensions) (0.5.1)\n",
      "Requirement already satisfied: prompt-toolkit!=3.0.0,!=3.0.1,<3.1.0,>=2.0.0 in /home/reinauer/.local/lib/python3.8/site-packages (from ipython->jupyter-latex-envs>=1.3.8->jupyter_contrib_nbextensions) (3.0.8)\n",
      "Requirement already satisfied: decorator in /home/reinauer/.local/lib/python3.8/site-packages (from ipython->jupyter-latex-envs>=1.3.8->jupyter_contrib_nbextensions) (4.4.2)\n",
      "Requirement already satisfied: backcall in /home/reinauer/.local/lib/python3.8/site-packages (from ipython->jupyter-latex-envs>=1.3.8->jupyter_contrib_nbextensions) (0.2.0)\n",
      "Requirement already satisfied: pickleshare in /home/reinauer/.local/lib/python3.8/site-packages (from ipython->jupyter-latex-envs>=1.3.8->jupyter_contrib_nbextensions) (0.7.5)\n",
      "Requirement already satisfied: pexpect>4.3 in /home/reinauer/anaconda3/envs/giottodeep/lib/python3.8/site-packages (from ipython->jupyter-latex-envs>=1.3.8->jupyter_contrib_nbextensions) (4.8.0)\n",
      "Requirement already satisfied: jedi>=0.10 in /home/reinauer/.local/lib/python3.8/site-packages (from ipython->jupyter-latex-envs>=1.3.8->jupyter_contrib_nbextensions) (0.17.2)\n",
      "Requirement already satisfied: parso<0.8.0,>=0.7.0 in /home/reinauer/.local/lib/python3.8/site-packages (from jedi>=0.10->ipython->jupyter-latex-envs>=1.3.8->jupyter_contrib_nbextensions) (0.7.1)\n",
      "Requirement already satisfied: wcwidth in /home/reinauer/.local/lib/python3.8/site-packages (from prompt-toolkit!=3.0.0,!=3.0.1,<3.1.0,>=2.0.0->ipython->jupyter-latex-envs>=1.3.8->jupyter_contrib_nbextensions) (0.2.5)\n",
      "Requirement already satisfied: pyparsing>=2.0.2 in /home/reinauer/.local/lib/python3.8/site-packages (from packaging->bleach->nbconvert>=4.2->jupyter_contrib_nbextensions) (2.4.7)\n",
      "Building wheels for collected packages: jupyter-latex-envs, jupyter-nbextensions-configurator\n",
      "  Building wheel for jupyter-latex-envs (setup.py) ... \u001b[?25ldone\n",
      "\u001b[?25h  Created wheel for jupyter-latex-envs: filename=jupyter_latex_envs-1.4.6-py2.py3-none-any.whl size=963395 sha256=ea27efad23f6a3c3e9a7375c100d32110adc19237c788f546e4d754bca47f5dc\n",
      "  Stored in directory: /home/reinauer/.cache/pip/wheels/4d/ba/f4/b8c0941055519ebc0f27e85bfe2bb223f1a59a3b8bfc5c7515\n",
      "  Building wheel for jupyter-nbextensions-configurator (setup.py) ... \u001b[?25ldone\n",
      "\u001b[?25h  Created wheel for jupyter-nbextensions-configurator: filename=jupyter_nbextensions_configurator-0.4.1-py2.py3-none-any.whl size=465825 sha256=a6608ba2647c05c80509a957b989b0f15336f60d909f063b6fcb684af0200872\n",
      "  Stored in directory: /home/reinauer/.cache/pip/wheels/e3/3a/b3/a709b437602c3807f079f0c35ccba3e1adf9af6f2e6b0ebfea\n",
      "Successfully built jupyter-latex-envs jupyter-nbextensions-configurator\n",
      "Installing collected packages: jupyter-contrib-core, lxml, jupyter-nbextensions-configurator, jupyter-latex-envs, jupyter-highlight-selected-word, jupyter-contrib-nbextensions\n",
      "Successfully installed jupyter-contrib-core-0.3.3 jupyter-contrib-nbextensions-0.5.1 jupyter-highlight-selected-word-0.2.0 jupyter-latex-envs-1.4.6 jupyter-nbextensions-configurator-0.4.1 lxml-4.6.3\n"
     ]
    }
   ],
   "source": [
    "!pip3 install jupyter_contrib_nbextensions"
   ]
  },
  {
   "cell_type": "code",
   "execution_count": 3,
   "metadata": {},
   "outputs": [
    {
     "output_type": "stream",
     "name": "stdout",
     "text": [
      "Requirement already satisfied: jupyter_nbextensions_configurator in /home/reinauer/anaconda3/envs/giottodeep/lib/python3.8/site-packages (0.4.1)\n",
      "Requirement already satisfied: traitlets in /home/reinauer/.local/lib/python3.8/site-packages (from jupyter_nbextensions_configurator) (5.0.5)\n",
      "Requirement already satisfied: tornado in /home/reinauer/.local/lib/python3.8/site-packages (from jupyter_nbextensions_configurator) (6.1)\n",
      "Requirement already satisfied: pyyaml in /home/reinauer/anaconda3/envs/giottodeep/lib/python3.8/site-packages (from jupyter_nbextensions_configurator) (5.3.1)\n",
      "Requirement already satisfied: notebook>=4.0 in /home/reinauer/.local/lib/python3.8/site-packages (from jupyter_nbextensions_configurator) (6.1.5)\n",
      "Requirement already satisfied: jupyter-contrib-core>=0.3.3 in /home/reinauer/anaconda3/envs/giottodeep/lib/python3.8/site-packages (from jupyter_nbextensions_configurator) (0.3.3)\n",
      "Requirement already satisfied: jupyter-core in /home/reinauer/.local/lib/python3.8/site-packages (from jupyter_nbextensions_configurator) (4.7.0)\n",
      "Requirement already satisfied: setuptools in /home/reinauer/anaconda3/envs/giottodeep/lib/python3.8/site-packages (from jupyter-contrib-core>=0.3.3->jupyter_nbextensions_configurator) (50.3.1.post20201107)\n",
      "Requirement already satisfied: ipykernel in /home/reinauer/.local/lib/python3.8/site-packages (from notebook>=4.0->jupyter_nbextensions_configurator) (5.3.4)\n",
      "Requirement already satisfied: nbconvert in /home/reinauer/.local/lib/python3.8/site-packages (from notebook>=4.0->jupyter_nbextensions_configurator) (6.0.7)\n",
      "Requirement already satisfied: prometheus-client in /home/reinauer/.local/lib/python3.8/site-packages (from notebook>=4.0->jupyter_nbextensions_configurator) (0.9.0)\n",
      "Requirement already satisfied: nbformat in /home/reinauer/.local/lib/python3.8/site-packages (from notebook>=4.0->jupyter_nbextensions_configurator) (5.0.8)\n",
      "Requirement already satisfied: jinja2 in /home/reinauer/.local/lib/python3.8/site-packages (from notebook>=4.0->jupyter_nbextensions_configurator) (2.11.2)\n",
      "Requirement already satisfied: Send2Trash in /home/reinauer/.local/lib/python3.8/site-packages (from notebook>=4.0->jupyter_nbextensions_configurator) (1.5.0)\n",
      "Requirement already satisfied: ipython-genutils in /home/reinauer/.local/lib/python3.8/site-packages (from notebook>=4.0->jupyter_nbextensions_configurator) (0.2.0)\n",
      "Requirement already satisfied: pyzmq>=17 in /home/reinauer/.local/lib/python3.8/site-packages (from notebook>=4.0->jupyter_nbextensions_configurator) (20.0.0)\n",
      "Requirement already satisfied: terminado>=0.8.3 in /home/reinauer/.local/lib/python3.8/site-packages (from notebook>=4.0->jupyter_nbextensions_configurator) (0.9.1)\n",
      "Requirement already satisfied: jupyter-client>=5.3.4 in /home/reinauer/.local/lib/python3.8/site-packages (from notebook>=4.0->jupyter_nbextensions_configurator) (6.1.7)\n",
      "Requirement already satisfied: argon2-cffi in /home/reinauer/.local/lib/python3.8/site-packages (from notebook>=4.0->jupyter_nbextensions_configurator) (20.1.0)\n",
      "Requirement already satisfied: python-dateutil>=2.1 in /home/reinauer/anaconda3/envs/giottodeep/lib/python3.8/site-packages (from jupyter-client>=5.3.4->notebook>=4.0->jupyter_nbextensions_configurator) (2.8.1)\n",
      "Requirement already satisfied: six>=1.5 in /home/reinauer/anaconda3/envs/giottodeep/lib/python3.8/site-packages (from python-dateutil>=2.1->jupyter-client>=5.3.4->notebook>=4.0->jupyter_nbextensions_configurator) (1.15.0)\n",
      "Requirement already satisfied: ptyprocess in /home/reinauer/.local/lib/python3.8/site-packages (from terminado>=0.8.3->notebook>=4.0->jupyter_nbextensions_configurator) (0.6.0)\n",
      "Requirement already satisfied: cffi>=1.0.0 in /home/reinauer/.local/lib/python3.8/site-packages (from argon2-cffi->notebook>=4.0->jupyter_nbextensions_configurator) (1.14.3)\n",
      "Requirement already satisfied: pycparser in /home/reinauer/.local/lib/python3.8/site-packages (from cffi>=1.0.0->argon2-cffi->notebook>=4.0->jupyter_nbextensions_configurator) (2.20)\n",
      "Requirement already satisfied: ipython>=5.0.0 in /home/reinauer/.local/lib/python3.8/site-packages (from ipykernel->notebook>=4.0->jupyter_nbextensions_configurator) (7.19.0)\n",
      "Requirement already satisfied: prompt-toolkit!=3.0.0,!=3.0.1,<3.1.0,>=2.0.0 in /home/reinauer/.local/lib/python3.8/site-packages (from ipython>=5.0.0->ipykernel->notebook>=4.0->jupyter_nbextensions_configurator) (3.0.8)\n",
      "Requirement already satisfied: pygments in /home/reinauer/.local/lib/python3.8/site-packages (from ipython>=5.0.0->ipykernel->notebook>=4.0->jupyter_nbextensions_configurator) (2.7.2)\n",
      "Requirement already satisfied: decorator in /home/reinauer/.local/lib/python3.8/site-packages (from ipython>=5.0.0->ipykernel->notebook>=4.0->jupyter_nbextensions_configurator) (4.4.2)\n",
      "Requirement already satisfied: pexpect>4.3 in /home/reinauer/anaconda3/envs/giottodeep/lib/python3.8/site-packages (from ipython>=5.0.0->ipykernel->notebook>=4.0->jupyter_nbextensions_configurator) (4.8.0)\n",
      "Requirement already satisfied: pickleshare in /home/reinauer/.local/lib/python3.8/site-packages (from ipython>=5.0.0->ipykernel->notebook>=4.0->jupyter_nbextensions_configurator) (0.7.5)\n",
      "Requirement already satisfied: jedi>=0.10 in /home/reinauer/.local/lib/python3.8/site-packages (from ipython>=5.0.0->ipykernel->notebook>=4.0->jupyter_nbextensions_configurator) (0.17.2)\n",
      "Requirement already satisfied: backcall in /home/reinauer/.local/lib/python3.8/site-packages (from ipython>=5.0.0->ipykernel->notebook>=4.0->jupyter_nbextensions_configurator) (0.2.0)\n",
      "Requirement already satisfied: parso<0.8.0,>=0.7.0 in /home/reinauer/.local/lib/python3.8/site-packages (from jedi>=0.10->ipython>=5.0.0->ipykernel->notebook>=4.0->jupyter_nbextensions_configurator) (0.7.1)\n",
      "Requirement already satisfied: wcwidth in /home/reinauer/.local/lib/python3.8/site-packages (from prompt-toolkit!=3.0.0,!=3.0.1,<3.1.0,>=2.0.0->ipython>=5.0.0->ipykernel->notebook>=4.0->jupyter_nbextensions_configurator) (0.2.5)\n",
      "Requirement already satisfied: MarkupSafe>=0.23 in /home/reinauer/anaconda3/envs/giottodeep/lib/python3.8/site-packages (from jinja2->notebook>=4.0->jupyter_nbextensions_configurator) (1.1.1)\n",
      "Requirement already satisfied: bleach in /home/reinauer/.local/lib/python3.8/site-packages (from nbconvert->notebook>=4.0->jupyter_nbextensions_configurator) (3.2.1)\n",
      "Requirement already satisfied: testpath in /home/reinauer/.local/lib/python3.8/site-packages (from nbconvert->notebook>=4.0->jupyter_nbextensions_configurator) (0.4.4)\n",
      "Requirement already satisfied: defusedxml in /home/reinauer/.local/lib/python3.8/site-packages (from nbconvert->notebook>=4.0->jupyter_nbextensions_configurator) (0.6.0)\n",
      "Requirement already satisfied: mistune<2,>=0.8.1 in /home/reinauer/.local/lib/python3.8/site-packages (from nbconvert->notebook>=4.0->jupyter_nbextensions_configurator) (0.8.4)\n",
      "Requirement already satisfied: entrypoints>=0.2.2 in /home/reinauer/anaconda3/envs/giottodeep/lib/python3.8/site-packages (from nbconvert->notebook>=4.0->jupyter_nbextensions_configurator) (0.3)\n",
      "Requirement already satisfied: nbclient<0.6.0,>=0.5.0 in /home/reinauer/.local/lib/python3.8/site-packages (from nbconvert->notebook>=4.0->jupyter_nbextensions_configurator) (0.5.1)\n",
      "Requirement already satisfied: pandocfilters>=1.4.1 in /home/reinauer/.local/lib/python3.8/site-packages (from nbconvert->notebook>=4.0->jupyter_nbextensions_configurator) (1.4.3)\n",
      "Requirement already satisfied: jupyterlab-pygments in /home/reinauer/.local/lib/python3.8/site-packages (from nbconvert->notebook>=4.0->jupyter_nbextensions_configurator) (0.1.2)\n",
      "Requirement already satisfied: nest-asyncio in /home/reinauer/.local/lib/python3.8/site-packages (from nbclient<0.6.0,>=0.5.0->nbconvert->notebook>=4.0->jupyter_nbextensions_configurator) (1.4.3)\n",
      "Requirement already satisfied: async-generator in /home/reinauer/.local/lib/python3.8/site-packages (from nbclient<0.6.0,>=0.5.0->nbconvert->notebook>=4.0->jupyter_nbextensions_configurator) (1.10)\n",
      "Requirement already satisfied: jsonschema!=2.5.0,>=2.4 in /home/reinauer/.local/lib/python3.8/site-packages (from nbformat->notebook>=4.0->jupyter_nbextensions_configurator) (3.2.0)\n",
      "Requirement already satisfied: pyrsistent>=0.14.0 in /home/reinauer/.local/lib/python3.8/site-packages (from jsonschema!=2.5.0,>=2.4->nbformat->notebook>=4.0->jupyter_nbextensions_configurator) (0.17.3)\n",
      "Requirement already satisfied: attrs>=17.4.0 in /home/reinauer/.local/lib/python3.8/site-packages (from jsonschema!=2.5.0,>=2.4->nbformat->notebook>=4.0->jupyter_nbextensions_configurator) (20.3.0)\n",
      "Requirement already satisfied: packaging in /home/reinauer/.local/lib/python3.8/site-packages (from bleach->nbconvert->notebook>=4.0->jupyter_nbextensions_configurator) (20.4)\n",
      "Requirement already satisfied: webencodings in /home/reinauer/.local/lib/python3.8/site-packages (from bleach->nbconvert->notebook>=4.0->jupyter_nbextensions_configurator) (0.5.1)\n",
      "Requirement already satisfied: pyparsing>=2.0.2 in /home/reinauer/.local/lib/python3.8/site-packages (from packaging->bleach->nbconvert->notebook>=4.0->jupyter_nbextensions_configurator) (2.4.7)\n"
     ]
    }
   ],
   "source": [
    "!pip3 install jupyter_nbextensions_configurator"
   ]
  },
  {
   "cell_type": "code",
   "execution_count": 4,
   "metadata": {
    "tags": [
     "outputPrepend"
    ]
   },
   "outputs": [
    {
     "output_type": "stream",
     "name": "stdout",
     "text": [
      "p/lib/python3.8/site-packages/jupyter_contrib_nbextensions/nbextensions/help_panel -> help_panel\n",
      "\u001b[32m[I 22:50:13 InstallContribNbextensionsApp]\u001b[m Making directory: /home/reinauer/.local/share/jupyter/nbextensions/help_panel/\n",
      "\u001b[32m[I 22:50:13 InstallContribNbextensionsApp]\u001b[m Copying: /home/reinauer/anaconda3/envs/giottodeep/lib/python3.8/site-packages/jupyter_contrib_nbextensions/nbextensions/help_panel/help_panel_ext_fullscreen.png -> /home/reinauer/.local/share/jupyter/nbextensions/help_panel/help_panel_ext_fullscreen.png\n",
      "\u001b[32m[I 22:50:13 InstallContribNbextensionsApp]\u001b[m Copying: /home/reinauer/anaconda3/envs/giottodeep/lib/python3.8/site-packages/jupyter_contrib_nbextensions/nbextensions/help_panel/readme.md -> /home/reinauer/.local/share/jupyter/nbextensions/help_panel/readme.md\n",
      "\u001b[32m[I 22:50:13 InstallContribNbextensionsApp]\u001b[m Copying: /home/reinauer/anaconda3/envs/giottodeep/lib/python3.8/site-packages/jupyter_contrib_nbextensions/nbextensions/help_panel/help_panel.js -> /home/reinauer/.local/share/jupyter/nbextensions/help_panel/help_panel.js\n",
      "\u001b[32m[I 22:50:13 InstallContribNbextensionsApp]\u001b[m Copying: /home/reinauer/anaconda3/envs/giottodeep/lib/python3.8/site-packages/jupyter_contrib_nbextensions/nbextensions/help_panel/icon.png -> /home/reinauer/.local/share/jupyter/nbextensions/help_panel/icon.png\n",
      "\u001b[32m[I 22:50:13 InstallContribNbextensionsApp]\u001b[m Copying: /home/reinauer/anaconda3/envs/giottodeep/lib/python3.8/site-packages/jupyter_contrib_nbextensions/nbextensions/help_panel/help_panel.css -> /home/reinauer/.local/share/jupyter/nbextensions/help_panel/help_panel.css\n",
      "\u001b[32m[I 22:50:13 InstallContribNbextensionsApp]\u001b[m Copying: /home/reinauer/anaconda3/envs/giottodeep/lib/python3.8/site-packages/jupyter_contrib_nbextensions/nbextensions/help_panel/help_panel_ext.png -> /home/reinauer/.local/share/jupyter/nbextensions/help_panel/help_panel_ext.png\n",
      "\u001b[32m[I 22:50:13 InstallContribNbextensionsApp]\u001b[m Copying: /home/reinauer/anaconda3/envs/giottodeep/lib/python3.8/site-packages/jupyter_contrib_nbextensions/nbextensions/help_panel/help_panel.yaml -> /home/reinauer/.local/share/jupyter/nbextensions/help_panel/help_panel.yaml\n",
      "\u001b[32m[I 22:50:13 InstallContribNbextensionsApp]\u001b[m Making directory: /home/reinauer/.local/share/jupyter/nbextensions/help_panel/img\n",
      "\u001b[32m[I 22:50:13 InstallContribNbextensionsApp]\u001b[m Copying: /home/reinauer/anaconda3/envs/giottodeep/lib/python3.8/site-packages/jupyter_contrib_nbextensions/nbextensions/help_panel/img/handle-v.png -> /home/reinauer/.local/share/jupyter/nbextensions/help_panel/img/handle-v.png\n",
      "\u001b[32m[I 22:50:13 InstallContribNbextensionsApp]\u001b[m - Validating: \u001b[32mOK\u001b[0m\n",
      "\u001b[32m[I 22:50:13 InstallContribNbextensionsApp]\u001b[m Installing /home/reinauer/anaconda3/envs/giottodeep/lib/python3.8/site-packages/jupyter_contrib_nbextensions/nbextensions/hide_input -> hide_input\n",
      "\u001b[32m[I 22:50:13 InstallContribNbextensionsApp]\u001b[m Making directory: /home/reinauer/.local/share/jupyter/nbextensions/hide_input/\n",
      "\u001b[32m[I 22:50:13 InstallContribNbextensionsApp]\u001b[m Copying: /home/reinauer/anaconda3/envs/giottodeep/lib/python3.8/site-packages/jupyter_contrib_nbextensions/nbextensions/hide_input/readme.md -> /home/reinauer/.local/share/jupyter/nbextensions/hide_input/readme.md\n",
      "\u001b[32m[I 22:50:13 InstallContribNbextensionsApp]\u001b[m Copying: /home/reinauer/anaconda3/envs/giottodeep/lib/python3.8/site-packages/jupyter_contrib_nbextensions/nbextensions/hide_input/hide-input.yaml -> /home/reinauer/.local/share/jupyter/nbextensions/hide_input/hide-input.yaml\n",
      "\u001b[32m[I 22:50:13 InstallContribNbextensionsApp]\u001b[m Copying: /home/reinauer/anaconda3/envs/giottodeep/lib/python3.8/site-packages/jupyter_contrib_nbextensions/nbextensions/hide_input/icon.png -> /home/reinauer/.local/share/jupyter/nbextensions/hide_input/icon.png\n",
      "\u001b[32m[I 22:50:13 InstallContribNbextensionsApp]\u001b[m Copying: /home/reinauer/anaconda3/envs/giottodeep/lib/python3.8/site-packages/jupyter_contrib_nbextensions/nbextensions/hide_input/main.js -> /home/reinauer/.local/share/jupyter/nbextensions/hide_input/main.js\n",
      "\u001b[32m[I 22:50:13 InstallContribNbextensionsApp]\u001b[m - Validating: \u001b[32mOK\u001b[0m\n",
      "\u001b[32m[I 22:50:13 InstallContribNbextensionsApp]\u001b[m Installing /home/reinauer/anaconda3/envs/giottodeep/lib/python3.8/site-packages/jupyter_highlight_selected_word/static/highlight_selected_word -> highlight_selected_word\n",
      "\u001b[32m[I 22:50:13 InstallContribNbextensionsApp]\u001b[m Making directory: /home/reinauer/.local/share/jupyter/nbextensions/highlight_selected_word/\n",
      "\u001b[32m[I 22:50:13 InstallContribNbextensionsApp]\u001b[m Copying: /home/reinauer/anaconda3/envs/giottodeep/lib/python3.8/site-packages/jupyter_highlight_selected_word/static/highlight_selected_word/README.md -> /home/reinauer/.local/share/jupyter/nbextensions/highlight_selected_word/README.md\n",
      "\u001b[32m[I 22:50:13 InstallContribNbextensionsApp]\u001b[m Copying: /home/reinauer/anaconda3/envs/giottodeep/lib/python3.8/site-packages/jupyter_highlight_selected_word/static/highlight_selected_word/main.js -> /home/reinauer/.local/share/jupyter/nbextensions/highlight_selected_word/main.js\n",
      "\u001b[32m[I 22:50:13 InstallContribNbextensionsApp]\u001b[m Copying: /home/reinauer/anaconda3/envs/giottodeep/lib/python3.8/site-packages/jupyter_highlight_selected_word/static/highlight_selected_word/configurator.yaml -> /home/reinauer/.local/share/jupyter/nbextensions/highlight_selected_word/configurator.yaml\n",
      "\u001b[32m[I 22:50:13 InstallContribNbextensionsApp]\u001b[m - Validating: \u001b[32mOK\u001b[0m\n",
      "\u001b[32m[I 22:50:13 InstallContribNbextensionsApp]\u001b[m Installing /home/reinauer/anaconda3/envs/giottodeep/lib/python3.8/site-packages/latex_envs/static -> latex_envs\n",
      "\u001b[32m[I 22:50:13 InstallContribNbextensionsApp]\u001b[m Making directory: /home/reinauer/.local/share/jupyter/nbextensions/latex_envs/\n",
      "\u001b[32m[I 22:50:13 InstallContribNbextensionsApp]\u001b[m Copying: /home/reinauer/anaconda3/envs/giottodeep/lib/python3.8/site-packages/latex_envs/static/bibtex2.js -> /home/reinauer/.local/share/jupyter/nbextensions/latex_envs/bibtex2.js\n",
      "\u001b[32m[I 22:50:13 InstallContribNbextensionsApp]\u001b[m Copying: /home/reinauer/anaconda3/envs/giottodeep/lib/python3.8/site-packages/latex_envs/static/envsLatex.js -> /home/reinauer/.local/share/jupyter/nbextensions/latex_envs/envsLatex.js\n",
      "\u001b[32m[I 22:50:13 InstallContribNbextensionsApp]\u001b[m Copying: /home/reinauer/anaconda3/envs/giottodeep/lib/python3.8/site-packages/latex_envs/static/initNb.js -> /home/reinauer/.local/share/jupyter/nbextensions/latex_envs/initNb.js\n",
      "\u001b[32m[I 22:50:13 InstallContribNbextensionsApp]\u001b[m Copying: /home/reinauer/anaconda3/envs/giottodeep/lib/python3.8/site-packages/latex_envs/static/main_toolbar.png -> /home/reinauer/.local/share/jupyter/nbextensions/latex_envs/main_toolbar.png\n",
      "\u001b[32m[I 22:50:13 InstallContribNbextensionsApp]\u001b[m Copying: /home/reinauer/anaconda3/envs/giottodeep/lib/python3.8/site-packages/latex_envs/static/icon.png -> /home/reinauer/.local/share/jupyter/nbextensions/latex_envs/icon.png\n",
      "\u001b[32m[I 22:50:13 InstallContribNbextensionsApp]\u001b[m Copying: /home/reinauer/anaconda3/envs/giottodeep/lib/python3.8/site-packages/latex_envs/static/README.md -> /home/reinauer/.local/share/jupyter/nbextensions/latex_envs/README.md\n",
      "\u001b[32m[I 22:50:13 InstallContribNbextensionsApp]\u001b[m Copying: /home/reinauer/anaconda3/envs/giottodeep/lib/python3.8/site-packages/latex_envs/static/latex_envs.yaml -> /home/reinauer/.local/share/jupyter/nbextensions/latex_envs/latex_envs.yaml\n",
      "\u001b[32m[I 22:50:13 InstallContribNbextensionsApp]\u001b[m Copying: /home/reinauer/anaconda3/envs/giottodeep/lib/python3.8/site-packages/latex_envs/static/configuration_toolbar.png -> /home/reinauer/.local/share/jupyter/nbextensions/latex_envs/configuration_toolbar.png\n",
      "\u001b[32m[I 22:50:13 InstallContribNbextensionsApp]\u001b[m Copying: /home/reinauer/anaconda3/envs/giottodeep/lib/python3.8/site-packages/latex_envs/static/envsLatex.json -> /home/reinauer/.local/share/jupyter/nbextensions/latex_envs/envsLatex.json\n",
      "\u001b[32m[I 22:50:13 InstallContribNbextensionsApp]\u001b[m Copying: /home/reinauer/anaconda3/envs/giottodeep/lib/python3.8/site-packages/latex_envs/static/example.png -> /home/reinauer/.local/share/jupyter/nbextensions/latex_envs/example.png\n",
      "\u001b[32m[I 22:50:13 InstallContribNbextensionsApp]\u001b[m Copying: /home/reinauer/anaconda3/envs/giottodeep/lib/python3.8/site-packages/latex_envs/static/latex_envs.css -> /home/reinauer/.local/share/jupyter/nbextensions/latex_envs/latex_envs.css\n",
      "\u001b[32m[I 22:50:13 InstallContribNbextensionsApp]\u001b[m Copying: /home/reinauer/anaconda3/envs/giottodeep/lib/python3.8/site-packages/latex_envs/static/thmsInNb4.js -> /home/reinauer/.local/share/jupyter/nbextensions/latex_envs/thmsInNb4.js\n",
      "\u001b[32m[I 22:50:13 InstallContribNbextensionsApp]\u001b[m Copying: /home/reinauer/anaconda3/envs/giottodeep/lib/python3.8/site-packages/latex_envs/static/bibInNb4.js -> /home/reinauer/.local/share/jupyter/nbextensions/latex_envs/bibInNb4.js\n",
      "\u001b[32m[I 22:50:13 InstallContribNbextensionsApp]\u001b[m Copying: /home/reinauer/anaconda3/envs/giottodeep/lib/python3.8/site-packages/latex_envs/static/latex_envs.js -> /home/reinauer/.local/share/jupyter/nbextensions/latex_envs/latex_envs.js\n",
      "\u001b[32m[I 22:50:13 InstallContribNbextensionsApp]\u001b[m Copying: /home/reinauer/anaconda3/envs/giottodeep/lib/python3.8/site-packages/latex_envs/static/example_user_envs.json -> /home/reinauer/.local/share/jupyter/nbextensions/latex_envs/example_user_envs.json\n",
      "\u001b[32m[I 22:50:13 InstallContribNbextensionsApp]\u001b[m Making directory: /home/reinauer/.local/share/jupyter/nbextensions/latex_envs/doc\n",
      "\u001b[32m[I 22:50:13 InstallContribNbextensionsApp]\u001b[m Copying: /home/reinauer/anaconda3/envs/giottodeep/lib/python3.8/site-packages/latex_envs/static/doc/config_toolbar.png -> /home/reinauer/.local/share/jupyter/nbextensions/latex_envs/doc/config_toolbar.png\n",
      "\u001b[32m[I 22:50:13 InstallContribNbextensionsApp]\u001b[m Copying: /home/reinauer/anaconda3/envs/giottodeep/lib/python3.8/site-packages/latex_envs/static/doc/LaTeX_envs_menu.png -> /home/reinauer/.local/share/jupyter/nbextensions/latex_envs/doc/LaTeX_envs_menu.png\n",
      "\u001b[32m[I 22:50:13 InstallContribNbextensionsApp]\u001b[m Copying: /home/reinauer/anaconda3/envs/giottodeep/lib/python3.8/site-packages/latex_envs/static/doc/header.tex -> /home/reinauer/.local/share/jupyter/nbextensions/latex_envs/doc/header.tex\n",
      "\u001b[32m[I 22:50:13 InstallContribNbextensionsApp]\u001b[m Copying: /home/reinauer/anaconda3/envs/giottodeep/lib/python3.8/site-packages/latex_envs/static/doc/biblio_ipython.bib -> /home/reinauer/.local/share/jupyter/nbextensions/latex_envs/doc/biblio_ipython.bib\n",
      "\u001b[32m[I 22:50:13 InstallContribNbextensionsApp]\u001b[m Copying: /home/reinauer/anaconda3/envs/giottodeep/lib/python3.8/site-packages/latex_envs/static/doc/documentation.tex -> /home/reinauer/.local/share/jupyter/nbextensions/latex_envs/doc/documentation.tex\n",
      "\u001b[32m[I 22:50:13 InstallContribNbextensionsApp]\u001b[m Copying: /home/reinauer/anaconda3/envs/giottodeep/lib/python3.8/site-packages/latex_envs/static/doc/latex_env_doc.ipynb -> /home/reinauer/.local/share/jupyter/nbextensions/latex_envs/doc/latex_env_doc.ipynb\n",
      "\u001b[32m[I 22:50:13 InstallContribNbextensionsApp]\u001b[m Copying: /home/reinauer/anaconda3/envs/giottodeep/lib/python3.8/site-packages/latex_envs/static/doc/Toggles.png -> /home/reinauer/.local/share/jupyter/nbextensions/latex_envs/doc/Toggles.png\n",
      "\u001b[32m[I 22:50:13 InstallContribNbextensionsApp]\u001b[m Copying: /home/reinauer/anaconda3/envs/giottodeep/lib/python3.8/site-packages/latex_envs/static/doc/main_toolbar.png -> /home/reinauer/.local/share/jupyter/nbextensions/latex_envs/doc/main_toolbar.png\n",
      "\u001b[32m[I 22:50:13 InstallContribNbextensionsApp]\u001b[m Copying: /home/reinauer/anaconda3/envs/giottodeep/lib/python3.8/site-packages/latex_envs/static/doc/README.md -> /home/reinauer/.local/share/jupyter/nbextensions/latex_envs/doc/README.md\n",
      "\u001b[32m[I 22:50:13 InstallContribNbextensionsApp]\u001b[m Copying: /home/reinauer/anaconda3/envs/giottodeep/lib/python3.8/site-packages/latex_envs/static/doc/configuration_toolbar.png -> /home/reinauer/.local/share/jupyter/nbextensions/latex_envs/doc/configuration_toolbar.png\n",
      "\u001b[32m[I 22:50:13 InstallContribNbextensionsApp]\u001b[m Copying: /home/reinauer/anaconda3/envs/giottodeep/lib/python3.8/site-packages/latex_envs/static/doc/example.png -> /home/reinauer/.local/share/jupyter/nbextensions/latex_envs/doc/example.png\n",
      "\u001b[32m[I 22:50:13 InstallContribNbextensionsApp]\u001b[m Copying: /home/reinauer/anaconda3/envs/giottodeep/lib/python3.8/site-packages/latex_envs/static/doc/documentation.pdf -> /home/reinauer/.local/share/jupyter/nbextensions/latex_envs/doc/documentation.pdf\n",
      "\u001b[32m[I 22:50:13 InstallContribNbextensionsApp]\u001b[m Copying: /home/reinauer/anaconda3/envs/giottodeep/lib/python3.8/site-packages/latex_envs/static/doc/latex_env_doc.html -> /home/reinauer/.local/share/jupyter/nbextensions/latex_envs/doc/latex_env_doc.html\n",
      "\u001b[32m[I 22:50:13 InstallContribNbextensionsApp]\u001b[m Copying: /home/reinauer/anaconda3/envs/giottodeep/lib/python3.8/site-packages/latex_envs/static/doc/IEEEtran.bst -> /home/reinauer/.local/share/jupyter/nbextensions/latex_envs/doc/IEEEtran.bst\n",
      "\u001b[32m[I 22:50:13 InstallContribNbextensionsApp]\u001b[m Copying: /home/reinauer/anaconda3/envs/giottodeep/lib/python3.8/site-packages/latex_envs/static/doc/latex_env_doc.tex -> /home/reinauer/.local/share/jupyter/nbextensions/latex_envs/doc/latex_env_doc.tex\n",
      "\u001b[32m[I 22:50:13 InstallContribNbextensionsApp]\u001b[m Making directory: /home/reinauer/.local/share/jupyter/nbextensions/latex_envs/doc/latex_env_doc_files\n",
      "\u001b[32m[I 22:50:13 InstallContribNbextensionsApp]\u001b[m Copying: /home/reinauer/anaconda3/envs/giottodeep/lib/python3.8/site-packages/latex_envs/static/doc/latex_env_doc_files/latex_env_doc_43_0.png -> /home/reinauer/.local/share/jupyter/nbextensions/latex_envs/doc/latex_env_doc_files/latex_env_doc_43_0.png\n",
      "\u001b[32m[I 22:50:13 InstallContribNbextensionsApp]\u001b[m Copying: /home/reinauer/anaconda3/envs/giottodeep/lib/python3.8/site-packages/latex_envs/static/doc/latex_env_doc_files/latex_env_doc_27_2.png -> /home/reinauer/.local/share/jupyter/nbextensions/latex_envs/doc/latex_env_doc_files/latex_env_doc_27_2.png\n",
      "\u001b[32m[I 22:50:13 InstallContribNbextensionsApp]\u001b[m Copying: /home/reinauer/anaconda3/envs/giottodeep/lib/python3.8/site-packages/latex_envs/static/doc/latex_env_doc_files/latex_env_doc_26_2.png -> /home/reinauer/.local/share/jupyter/nbextensions/latex_envs/doc/latex_env_doc_files/latex_env_doc_26_2.png\n",
      "\u001b[32m[I 22:50:13 InstallContribNbextensionsApp]\u001b[m Copying: /home/reinauer/anaconda3/envs/giottodeep/lib/python3.8/site-packages/latex_envs/static/doc/latex_env_doc_files/latex_env_doc_46_0.png -> /home/reinauer/.local/share/jupyter/nbextensions/latex_envs/doc/latex_env_doc_files/latex_env_doc_46_0.png\n",
      "\u001b[32m[I 22:50:13 InstallContribNbextensionsApp]\u001b[m Copying: /home/reinauer/anaconda3/envs/giottodeep/lib/python3.8/site-packages/latex_envs/static/doc/latex_env_doc_files/latex_env_doc_41_0.png -> /home/reinauer/.local/share/jupyter/nbextensions/latex_envs/doc/latex_env_doc_files/latex_env_doc_41_0.png\n",
      "\u001b[32m[I 22:50:13 InstallContribNbextensionsApp]\u001b[m Copying: /home/reinauer/anaconda3/envs/giottodeep/lib/python3.8/site-packages/latex_envs/static/doc/latex_env_doc_files/latex_env_doc_44_0.png -> /home/reinauer/.local/share/jupyter/nbextensions/latex_envs/doc/latex_env_doc_files/latex_env_doc_44_0.png\n",
      "\u001b[32m[I 22:50:13 InstallContribNbextensionsApp]\u001b[m Copying: /home/reinauer/anaconda3/envs/giottodeep/lib/python3.8/site-packages/latex_envs/static/doc/latex_env_doc_files/latex_env_doc_50_0.png -> /home/reinauer/.local/share/jupyter/nbextensions/latex_envs/doc/latex_env_doc_files/latex_env_doc_50_0.png\n",
      "\u001b[32m[I 22:50:13 InstallContribNbextensionsApp]\u001b[m Copying: /home/reinauer/anaconda3/envs/giottodeep/lib/python3.8/site-packages/latex_envs/static/doc/latex_env_doc_files/latex_env_doc_48_0.png -> /home/reinauer/.local/share/jupyter/nbextensions/latex_envs/doc/latex_env_doc_files/latex_env_doc_48_0.png\n",
      "\u001b[32m[I 22:50:13 InstallContribNbextensionsApp]\u001b[m Copying: /home/reinauer/anaconda3/envs/giottodeep/lib/python3.8/site-packages/latex_envs/static/doc/latex_env_doc_files/latex_env_doc_52_0.png -> /home/reinauer/.local/share/jupyter/nbextensions/latex_envs/doc/latex_env_doc_files/latex_env_doc_52_0.png\n",
      "\u001b[32m[I 22:50:13 InstallContribNbextensionsApp]\u001b[m Copying: /home/reinauer/anaconda3/envs/giottodeep/lib/python3.8/site-packages/latex_envs/static/doc/latex_env_doc_files/latex_env_doc_23_2.png -> /home/reinauer/.local/share/jupyter/nbextensions/latex_envs/doc/latex_env_doc_files/latex_env_doc_23_2.png\n",
      "\u001b[32m[I 22:50:13 InstallContribNbextensionsApp]\u001b[m Copying: /home/reinauer/anaconda3/envs/giottodeep/lib/python3.8/site-packages/latex_envs/static/doc/latex_env_doc_files/latex_env_doc_47_0.png -> /home/reinauer/.local/share/jupyter/nbextensions/latex_envs/doc/latex_env_doc_files/latex_env_doc_47_0.png\n",
      "\u001b[32m[I 22:50:13 InstallContribNbextensionsApp]\u001b[m Copying: /home/reinauer/anaconda3/envs/giottodeep/lib/python3.8/site-packages/latex_envs/static/doc/latex_env_doc_files/latex_env_doc_42_0.png -> /home/reinauer/.local/share/jupyter/nbextensions/latex_envs/doc/latex_env_doc_files/latex_env_doc_42_0.png\n",
      "\u001b[32m[I 22:50:13 InstallContribNbextensionsApp]\u001b[m Copying: /home/reinauer/anaconda3/envs/giottodeep/lib/python3.8/site-packages/latex_envs/static/doc/latex_env_doc_files/latex_env_doc_45_0.png -> /home/reinauer/.local/share/jupyter/nbextensions/latex_envs/doc/latex_env_doc_files/latex_env_doc_45_0.png\n",
      "\u001b[32m[I 22:50:13 InstallContribNbextensionsApp]\u001b[m Copying: /home/reinauer/anaconda3/envs/giottodeep/lib/python3.8/site-packages/latex_envs/static/doc/latex_env_doc_files/latex_env_doc_24_2.png -> /home/reinauer/.local/share/jupyter/nbextensions/latex_envs/doc/latex_env_doc_files/latex_env_doc_24_2.png\n",
      "\u001b[32m[I 22:50:13 InstallContribNbextensionsApp]\u001b[m Copying: /home/reinauer/anaconda3/envs/giottodeep/lib/python3.8/site-packages/latex_envs/static/doc/latex_env_doc_files/latex_env_doc_49_0.png -> /home/reinauer/.local/share/jupyter/nbextensions/latex_envs/doc/latex_env_doc_files/latex_env_doc_49_0.png\n",
      "\u001b[32m[I 22:50:13 InstallContribNbextensionsApp]\u001b[m Copying: /home/reinauer/anaconda3/envs/giottodeep/lib/python3.8/site-packages/latex_envs/static/doc/latex_env_doc_files/latex_env_doc_51_0.png -> /home/reinauer/.local/share/jupyter/nbextensions/latex_envs/doc/latex_env_doc_files/latex_env_doc_51_0.png\n",
      "\u001b[32m[I 22:50:13 InstallContribNbextensionsApp]\u001b[m Making directory: /home/reinauer/.local/share/jupyter/nbextensions/latex_envs/doc/.ipynb_checkpoints\n",
      "\u001b[32m[I 22:50:13 InstallContribNbextensionsApp]\u001b[m Copying: /home/reinauer/anaconda3/envs/giottodeep/lib/python3.8/site-packages/latex_envs/static/doc/.ipynb_checkpoints/latex_env_doc-checkpoint.ipynb -> /home/reinauer/.local/share/jupyter/nbextensions/latex_envs/doc/.ipynb_checkpoints/latex_env_doc-checkpoint.ipynb\n",
      "\u001b[32m[I 22:50:13 InstallContribNbextensionsApp]\u001b[m - Validating: \u001b[32mOK\u001b[0m\n",
      "\u001b[32m[I 22:50:13 InstallContribNbextensionsApp]\u001b[m Installing jupyter_contrib_nbextensions items to config in /home/reinauer/.jupyter\n",
      "Enabling: jupyter_nbextensions_configurator\n",
      "- Writing config: /home/reinauer/.jupyter\n",
      "    - Validating...\n",
      "      jupyter_nbextensions_configurator 0.4.1 \u001b[32mOK\u001b[0m\n",
      "Enabling notebook nbextension nbextensions_configurator/config_menu/main...\n",
      "Enabling tree nbextension nbextensions_configurator/tree_tab/main...\n",
      "\u001b[32m[I 22:50:13 InstallContribNbextensionsApp]\u001b[m Enabling notebook extension contrib_nbextensions_help_item/main...\n",
      "\u001b[32m[I 22:50:13 InstallContribNbextensionsApp]\u001b[m       - Validating: \u001b[32mOK\u001b[0m\n",
      "\u001b[32m[I 22:50:13 InstallContribNbextensionsApp]\u001b[m - Editing config: /home/reinauer/.jupyter/jupyter_nbconvert_config.json\n",
      "\u001b[32m[I 22:50:13 InstallContribNbextensionsApp]\u001b[m --  Configuring nbconvert template path\n",
      "\u001b[32m[I 22:50:13 InstallContribNbextensionsApp]\u001b[m --  Configuring nbconvert preprocessors\n",
      "\u001b[32m[I 22:50:13 InstallContribNbextensionsApp]\u001b[m - Writing config: /home/reinauer/.jupyter/jupyter_nbconvert_config.json\n",
      "\u001b[32m[I 22:50:13 InstallContribNbextensionsApp]\u001b[m --  Writing updated config file /home/reinauer/.jupyter/jupyter_nbconvert_config.json\n"
     ]
    }
   ],
   "source": [
    "!jupyter contrib nbextension install --user"
   ]
  },
  {
   "cell_type": "code",
   "execution_count": 5,
   "metadata": {},
   "outputs": [
    {
     "output_type": "stream",
     "name": "stdout",
     "text": [
      "Enabling: jupyter_nbextensions_configurator\n- Writing config: /home/reinauer/.jupyter\n    - Validating...\n      jupyter_nbextensions_configurator 0.4.1 \u001b[32mOK\u001b[0m\nEnabling notebook nbextension nbextensions_configurator/config_menu/main...\nEnabling tree nbextension nbextensions_configurator/tree_tab/main...\n"
     ]
    }
   ],
   "source": [
    "!jupyter nbextensions_configurator enable --user"
   ]
  },
  {
   "cell_type": "code",
   "execution_count": 6,
   "metadata": {},
   "outputs": [
    {
     "output_type": "stream",
     "name": "stdout",
     "text": [
      "Requirement already satisfied: jupyter-tabnine in /home/reinauer/anaconda3/envs/giottodeep/lib/python3.8/site-packages (1.2.2)\n",
      "Requirement already satisfied: jupyter-core in /home/reinauer/.local/lib/python3.8/site-packages (from jupyter-tabnine) (4.7.0)\n",
      "Requirement already satisfied: notebook>=4.2 in /home/reinauer/.local/lib/python3.8/site-packages (from jupyter-tabnine) (6.1.5)\n",
      "Requirement already satisfied: nbconvert in /home/reinauer/.local/lib/python3.8/site-packages (from jupyter-tabnine) (6.0.7)\n",
      "Requirement already satisfied: ipython in /home/reinauer/.local/lib/python3.8/site-packages (from jupyter-tabnine) (7.19.0)\n",
      "Requirement already satisfied: prometheus-client in /home/reinauer/.local/lib/python3.8/site-packages (from notebook>=4.2->jupyter-tabnine) (0.9.0)\n",
      "Requirement already satisfied: Send2Trash in /home/reinauer/.local/lib/python3.8/site-packages (from notebook>=4.2->jupyter-tabnine) (1.5.0)\n",
      "Requirement already satisfied: pyzmq>=17 in /home/reinauer/.local/lib/python3.8/site-packages (from notebook>=4.2->jupyter-tabnine) (20.0.0)\n",
      "Requirement already satisfied: tornado>=5.0 in /home/reinauer/.local/lib/python3.8/site-packages (from notebook>=4.2->jupyter-tabnine) (6.1)\n",
      "Requirement already satisfied: terminado>=0.8.3 in /home/reinauer/.local/lib/python3.8/site-packages (from notebook>=4.2->jupyter-tabnine) (0.9.1)\n",
      "Requirement already satisfied: argon2-cffi in /home/reinauer/.local/lib/python3.8/site-packages (from notebook>=4.2->jupyter-tabnine) (20.1.0)\n",
      "Requirement already satisfied: jinja2 in /home/reinauer/.local/lib/python3.8/site-packages (from notebook>=4.2->jupyter-tabnine) (2.11.2)\n",
      "Requirement already satisfied: ipython-genutils in /home/reinauer/.local/lib/python3.8/site-packages (from notebook>=4.2->jupyter-tabnine) (0.2.0)\n",
      "Requirement already satisfied: nbformat in /home/reinauer/.local/lib/python3.8/site-packages (from notebook>=4.2->jupyter-tabnine) (5.0.8)\n",
      "Requirement already satisfied: jupyter-client>=5.3.4 in /home/reinauer/.local/lib/python3.8/site-packages (from notebook>=4.2->jupyter-tabnine) (6.1.7)\n",
      "Requirement already satisfied: ipykernel in /home/reinauer/.local/lib/python3.8/site-packages (from notebook>=4.2->jupyter-tabnine) (5.3.4)\n",
      "Requirement already satisfied: traitlets>=4.2.1 in /home/reinauer/.local/lib/python3.8/site-packages (from notebook>=4.2->jupyter-tabnine) (5.0.5)\n",
      "Requirement already satisfied: python-dateutil>=2.1 in /home/reinauer/anaconda3/envs/giottodeep/lib/python3.8/site-packages (from jupyter-client>=5.3.4->notebook>=4.2->jupyter-tabnine) (2.8.1)\n",
      "Requirement already satisfied: six>=1.5 in /home/reinauer/anaconda3/envs/giottodeep/lib/python3.8/site-packages (from python-dateutil>=2.1->jupyter-client>=5.3.4->notebook>=4.2->jupyter-tabnine) (1.15.0)\n",
      "Requirement already satisfied: ptyprocess in /home/reinauer/.local/lib/python3.8/site-packages (from terminado>=0.8.3->notebook>=4.2->jupyter-tabnine) (0.6.0)\n",
      "Requirement already satisfied: cffi>=1.0.0 in /home/reinauer/.local/lib/python3.8/site-packages (from argon2-cffi->notebook>=4.2->jupyter-tabnine) (1.14.3)\n",
      "Requirement already satisfied: pycparser in /home/reinauer/.local/lib/python3.8/site-packages (from cffi>=1.0.0->argon2-cffi->notebook>=4.2->jupyter-tabnine) (2.20)\n",
      "Requirement already satisfied: jedi>=0.10 in /home/reinauer/.local/lib/python3.8/site-packages (from ipython->jupyter-tabnine) (0.17.2)\n",
      "Requirement already satisfied: pexpect>4.3 in /home/reinauer/anaconda3/envs/giottodeep/lib/python3.8/site-packages (from ipython->jupyter-tabnine) (4.8.0)\n",
      "Requirement already satisfied: backcall in /home/reinauer/.local/lib/python3.8/site-packages (from ipython->jupyter-tabnine) (0.2.0)\n",
      "Requirement already satisfied: pickleshare in /home/reinauer/.local/lib/python3.8/site-packages (from ipython->jupyter-tabnine) (0.7.5)\n",
      "Requirement already satisfied: pygments in /home/reinauer/.local/lib/python3.8/site-packages (from ipython->jupyter-tabnine) (2.7.2)\n",
      "Requirement already satisfied: setuptools>=18.5 in /home/reinauer/anaconda3/envs/giottodeep/lib/python3.8/site-packages (from ipython->jupyter-tabnine) (50.3.1.post20201107)\n",
      "Requirement already satisfied: decorator in /home/reinauer/.local/lib/python3.8/site-packages (from ipython->jupyter-tabnine) (4.4.2)\n",
      "Requirement already satisfied: prompt-toolkit!=3.0.0,!=3.0.1,<3.1.0,>=2.0.0 in /home/reinauer/.local/lib/python3.8/site-packages (from ipython->jupyter-tabnine) (3.0.8)\n",
      "Requirement already satisfied: parso<0.8.0,>=0.7.0 in /home/reinauer/.local/lib/python3.8/site-packages (from jedi>=0.10->ipython->jupyter-tabnine) (0.7.1)\n",
      "Requirement already satisfied: wcwidth in /home/reinauer/.local/lib/python3.8/site-packages (from prompt-toolkit!=3.0.0,!=3.0.1,<3.1.0,>=2.0.0->ipython->jupyter-tabnine) (0.2.5)\n",
      "Requirement already satisfied: MarkupSafe>=0.23 in /home/reinauer/anaconda3/envs/giottodeep/lib/python3.8/site-packages (from jinja2->notebook>=4.2->jupyter-tabnine) (1.1.1)\n",
      "Requirement already satisfied: pandocfilters>=1.4.1 in /home/reinauer/.local/lib/python3.8/site-packages (from nbconvert->jupyter-tabnine) (1.4.3)\n",
      "Requirement already satisfied: defusedxml in /home/reinauer/.local/lib/python3.8/site-packages (from nbconvert->jupyter-tabnine) (0.6.0)\n",
      "Requirement already satisfied: mistune<2,>=0.8.1 in /home/reinauer/.local/lib/python3.8/site-packages (from nbconvert->jupyter-tabnine) (0.8.4)\n",
      "Requirement already satisfied: jupyterlab-pygments in /home/reinauer/.local/lib/python3.8/site-packages (from nbconvert->jupyter-tabnine) (0.1.2)\n",
      "Requirement already satisfied: testpath in /home/reinauer/.local/lib/python3.8/site-packages (from nbconvert->jupyter-tabnine) (0.4.4)\n",
      "Requirement already satisfied: nbclient<0.6.0,>=0.5.0 in /home/reinauer/.local/lib/python3.8/site-packages (from nbconvert->jupyter-tabnine) (0.5.1)\n",
      "Requirement already satisfied: entrypoints>=0.2.2 in /home/reinauer/anaconda3/envs/giottodeep/lib/python3.8/site-packages (from nbconvert->jupyter-tabnine) (0.3)\n",
      "Requirement already satisfied: bleach in /home/reinauer/.local/lib/python3.8/site-packages (from nbconvert->jupyter-tabnine) (3.2.1)\n",
      "Requirement already satisfied: async-generator in /home/reinauer/.local/lib/python3.8/site-packages (from nbclient<0.6.0,>=0.5.0->nbconvert->jupyter-tabnine) (1.10)\n",
      "Requirement already satisfied: nest-asyncio in /home/reinauer/.local/lib/python3.8/site-packages (from nbclient<0.6.0,>=0.5.0->nbconvert->jupyter-tabnine) (1.4.3)\n",
      "Requirement already satisfied: jsonschema!=2.5.0,>=2.4 in /home/reinauer/.local/lib/python3.8/site-packages (from nbformat->notebook>=4.2->jupyter-tabnine) (3.2.0)\n",
      "Requirement already satisfied: attrs>=17.4.0 in /home/reinauer/.local/lib/python3.8/site-packages (from jsonschema!=2.5.0,>=2.4->nbformat->notebook>=4.2->jupyter-tabnine) (20.3.0)\n",
      "Requirement already satisfied: pyrsistent>=0.14.0 in /home/reinauer/.local/lib/python3.8/site-packages (from jsonschema!=2.5.0,>=2.4->nbformat->notebook>=4.2->jupyter-tabnine) (0.17.3)\n",
      "Requirement already satisfied: webencodings in /home/reinauer/.local/lib/python3.8/site-packages (from bleach->nbconvert->jupyter-tabnine) (0.5.1)\n",
      "Requirement already satisfied: packaging in /home/reinauer/.local/lib/python3.8/site-packages (from bleach->nbconvert->jupyter-tabnine) (20.4)\n",
      "Requirement already satisfied: pyparsing>=2.0.2 in /home/reinauer/.local/lib/python3.8/site-packages (from packaging->bleach->nbconvert->jupyter-tabnine) (2.4.7)\n"
     ]
    }
   ],
   "source": [
    "!pip3 install jupyter-tabnine --user"
   ]
  },
  {
   "cell_type": "code",
   "execution_count": 7,
   "metadata": {},
   "outputs": [
    {
     "output_type": "stream",
     "name": "stdout",
     "text": [
      "Traceback (most recent call last):\n  File \"/home/reinauer/.local/bin/jupyter-nbextension\", line 8, in <module>\n    sys.exit(main())\n  File \"/home/reinauer/.local/lib/python3.8/site-packages/jupyter_core/application.py\", line 254, in launch_instance\n    return super(JupyterApp, cls).launch_instance(argv=argv, **kwargs)\n  File \"/home/reinauer/.local/lib/python3.8/site-packages/traitlets/config/application.py\", line 845, in launch_instance\n    app.start()\n  File \"/home/reinauer/.local/lib/python3.8/site-packages/notebook/nbextensions.py\", line 983, in start\n    super(NBExtensionApp, self).start()\n  File \"/home/reinauer/.local/lib/python3.8/site-packages/jupyter_core/application.py\", line 243, in start\n    self.subapp.start()\n  File \"/home/reinauer/.local/lib/python3.8/site-packages/notebook/nbextensions.py\", line 711, in start\n    self.install_extensions()\n  File \"/home/reinauer/.local/lib/python3.8/site-packages/notebook/nbextensions.py\", line 682, in install_extensions\n    full_dests = install(self.extra_args[0],\n  File \"/home/reinauer/.local/lib/python3.8/site-packages/notebook/nbextensions.py\", line 206, in install_nbextension_python\n    m, nbexts = _get_nbextension_metadata(module)\n  File \"/home/reinauer/.local/lib/python3.8/site-packages/notebook/nbextensions.py\", line 1117, in _get_nbextension_metadata\n    m = import_item(module)\n  File \"/home/reinauer/.local/lib/python3.8/site-packages/traitlets/utils/importstring.py\", line 38, in import_item\n    return __import__(parts[0])\nModuleNotFoundError: No module named 'jupyter_tabnine'\n"
     ]
    }
   ],
   "source": [
    "!jupyter nbextension install --py jupyter_tabnine --user"
   ]
  },
  {
   "cell_type": "code",
   "execution_count": 10,
   "metadata": {},
   "outputs": [
    {
     "output_type": "stream",
     "name": "stdout",
     "text": [
      "Traceback (most recent call last):\n  File \"/home/reinauer/.local/bin/jupyter-nbextension\", line 8, in <module>\n    sys.exit(main())\n  File \"/home/reinauer/.local/lib/python3.8/site-packages/jupyter_core/application.py\", line 254, in launch_instance\n    return super(JupyterApp, cls).launch_instance(argv=argv, **kwargs)\n  File \"/home/reinauer/.local/lib/python3.8/site-packages/traitlets/config/application.py\", line 845, in launch_instance\n    app.start()\n  File \"/home/reinauer/.local/lib/python3.8/site-packages/notebook/nbextensions.py\", line 983, in start\n    super(NBExtensionApp, self).start()\n  File \"/home/reinauer/.local/lib/python3.8/site-packages/jupyter_core/application.py\", line 243, in start\n    self.subapp.start()\n  File \"/home/reinauer/.local/lib/python3.8/site-packages/notebook/nbextensions.py\", line 711, in start\n    self.install_extensions()\n  File \"/home/reinauer/.local/lib/python3.8/site-packages/notebook/nbextensions.py\", line 682, in install_extensions\n    full_dests = install(self.extra_args[0],\n  File \"/home/reinauer/.local/lib/python3.8/site-packages/notebook/nbextensions.py\", line 206, in install_nbextension_python\n    m, nbexts = _get_nbextension_metadata(module)\n  File \"/home/reinauer/.local/lib/python3.8/site-packages/notebook/nbextensions.py\", line 1117, in _get_nbextension_metadata\n    m = import_item(module)\n  File \"/home/reinauer/.local/lib/python3.8/site-packages/traitlets/utils/importstring.py\", line 38, in import_item\n    return __import__(parts[0])\nModuleNotFoundError: No module named 'jupyter_tabnine'\n"
     ]
    }
   ],
   "source": [
    "!jupyter nbextension install --py jupyter_tabnine"
   ]
  },
  {
   "cell_type": "code",
   "execution_count": 9,
   "metadata": {},
   "outputs": [
    {
     "output_type": "stream",
     "name": "stdout",
     "text": [
      "Requirement already satisfied: jupyter-tabnine in /home/reinauer/anaconda3/envs/giottodeep/lib/python3.8/site-packages (1.2.2)\n",
      "Requirement already satisfied: nbconvert in /home/reinauer/.local/lib/python3.8/site-packages (from jupyter-tabnine) (6.0.7)\n",
      "Requirement already satisfied: jupyter-core in /home/reinauer/.local/lib/python3.8/site-packages (from jupyter-tabnine) (4.7.0)\n",
      "Requirement already satisfied: ipython in /home/reinauer/.local/lib/python3.8/site-packages (from jupyter-tabnine) (7.19.0)\n",
      "Requirement already satisfied: notebook>=4.2 in /home/reinauer/.local/lib/python3.8/site-packages (from jupyter-tabnine) (6.1.5)\n",
      "Requirement already satisfied: terminado>=0.8.3 in /home/reinauer/.local/lib/python3.8/site-packages (from notebook>=4.2->jupyter-tabnine) (0.9.1)\n",
      "Requirement already satisfied: argon2-cffi in /home/reinauer/.local/lib/python3.8/site-packages (from notebook>=4.2->jupyter-tabnine) (20.1.0)\n",
      "Requirement already satisfied: nbformat in /home/reinauer/.local/lib/python3.8/site-packages (from notebook>=4.2->jupyter-tabnine) (5.0.8)\n",
      "Requirement already satisfied: prometheus-client in /home/reinauer/.local/lib/python3.8/site-packages (from notebook>=4.2->jupyter-tabnine) (0.9.0)\n",
      "Requirement already satisfied: Send2Trash in /home/reinauer/.local/lib/python3.8/site-packages (from notebook>=4.2->jupyter-tabnine) (1.5.0)\n",
      "Requirement already satisfied: traitlets>=4.2.1 in /home/reinauer/.local/lib/python3.8/site-packages (from notebook>=4.2->jupyter-tabnine) (5.0.5)\n",
      "Requirement already satisfied: ipykernel in /home/reinauer/.local/lib/python3.8/site-packages (from notebook>=4.2->jupyter-tabnine) (5.3.4)\n",
      "Requirement already satisfied: pyzmq>=17 in /home/reinauer/.local/lib/python3.8/site-packages (from notebook>=4.2->jupyter-tabnine) (20.0.0)\n",
      "Requirement already satisfied: jupyter-client>=5.3.4 in /home/reinauer/.local/lib/python3.8/site-packages (from notebook>=4.2->jupyter-tabnine) (6.1.7)\n",
      "Requirement already satisfied: ipython-genutils in /home/reinauer/.local/lib/python3.8/site-packages (from notebook>=4.2->jupyter-tabnine) (0.2.0)\n",
      "Requirement already satisfied: jinja2 in /home/reinauer/.local/lib/python3.8/site-packages (from notebook>=4.2->jupyter-tabnine) (2.11.2)\n",
      "Requirement already satisfied: tornado>=5.0 in /home/reinauer/.local/lib/python3.8/site-packages (from notebook>=4.2->jupyter-tabnine) (6.1)\n",
      "Requirement already satisfied: python-dateutil>=2.1 in /home/reinauer/anaconda3/envs/giottodeep/lib/python3.8/site-packages (from jupyter-client>=5.3.4->notebook>=4.2->jupyter-tabnine) (2.8.1)\n",
      "Requirement already satisfied: six>=1.5 in /home/reinauer/anaconda3/envs/giottodeep/lib/python3.8/site-packages (from python-dateutil>=2.1->jupyter-client>=5.3.4->notebook>=4.2->jupyter-tabnine) (1.15.0)\n",
      "Requirement already satisfied: ptyprocess in /home/reinauer/.local/lib/python3.8/site-packages (from terminado>=0.8.3->notebook>=4.2->jupyter-tabnine) (0.6.0)\n",
      "Requirement already satisfied: cffi>=1.0.0 in /home/reinauer/.local/lib/python3.8/site-packages (from argon2-cffi->notebook>=4.2->jupyter-tabnine) (1.14.3)\n",
      "Requirement already satisfied: pycparser in /home/reinauer/.local/lib/python3.8/site-packages (from cffi>=1.0.0->argon2-cffi->notebook>=4.2->jupyter-tabnine) (2.20)\n",
      "Requirement already satisfied: decorator in /home/reinauer/.local/lib/python3.8/site-packages (from ipython->jupyter-tabnine) (4.4.2)\n",
      "Requirement already satisfied: pygments in /home/reinauer/.local/lib/python3.8/site-packages (from ipython->jupyter-tabnine) (2.7.2)\n",
      "Requirement already satisfied: pickleshare in /home/reinauer/.local/lib/python3.8/site-packages (from ipython->jupyter-tabnine) (0.7.5)\n",
      "Requirement already satisfied: backcall in /home/reinauer/.local/lib/python3.8/site-packages (from ipython->jupyter-tabnine) (0.2.0)\n",
      "Requirement already satisfied: setuptools>=18.5 in /home/reinauer/anaconda3/envs/giottodeep/lib/python3.8/site-packages (from ipython->jupyter-tabnine) (50.3.1.post20201107)\n",
      "Requirement already satisfied: pexpect>4.3 in /home/reinauer/anaconda3/envs/giottodeep/lib/python3.8/site-packages (from ipython->jupyter-tabnine) (4.8.0)\n",
      "Requirement already satisfied: jedi>=0.10 in /home/reinauer/.local/lib/python3.8/site-packages (from ipython->jupyter-tabnine) (0.17.2)\n",
      "Requirement already satisfied: prompt-toolkit!=3.0.0,!=3.0.1,<3.1.0,>=2.0.0 in /home/reinauer/.local/lib/python3.8/site-packages (from ipython->jupyter-tabnine) (3.0.8)\n",
      "Requirement already satisfied: parso<0.8.0,>=0.7.0 in /home/reinauer/.local/lib/python3.8/site-packages (from jedi>=0.10->ipython->jupyter-tabnine) (0.7.1)\n",
      "Requirement already satisfied: wcwidth in /home/reinauer/.local/lib/python3.8/site-packages (from prompt-toolkit!=3.0.0,!=3.0.1,<3.1.0,>=2.0.0->ipython->jupyter-tabnine) (0.2.5)\n",
      "Requirement already satisfied: MarkupSafe>=0.23 in /home/reinauer/anaconda3/envs/giottodeep/lib/python3.8/site-packages (from jinja2->notebook>=4.2->jupyter-tabnine) (1.1.1)\n",
      "Requirement already satisfied: nbclient<0.6.0,>=0.5.0 in /home/reinauer/.local/lib/python3.8/site-packages (from nbconvert->jupyter-tabnine) (0.5.1)\n",
      "Requirement already satisfied: mistune<2,>=0.8.1 in /home/reinauer/.local/lib/python3.8/site-packages (from nbconvert->jupyter-tabnine) (0.8.4)\n",
      "Requirement already satisfied: bleach in /home/reinauer/.local/lib/python3.8/site-packages (from nbconvert->jupyter-tabnine) (3.2.1)\n",
      "Requirement already satisfied: testpath in /home/reinauer/.local/lib/python3.8/site-packages (from nbconvert->jupyter-tabnine) (0.4.4)\n",
      "Requirement already satisfied: pandocfilters>=1.4.1 in /home/reinauer/.local/lib/python3.8/site-packages (from nbconvert->jupyter-tabnine) (1.4.3)\n",
      "Requirement already satisfied: defusedxml in /home/reinauer/.local/lib/python3.8/site-packages (from nbconvert->jupyter-tabnine) (0.6.0)\n",
      "Requirement already satisfied: entrypoints>=0.2.2 in /home/reinauer/anaconda3/envs/giottodeep/lib/python3.8/site-packages (from nbconvert->jupyter-tabnine) (0.3)\n",
      "Requirement already satisfied: jupyterlab-pygments in /home/reinauer/.local/lib/python3.8/site-packages (from nbconvert->jupyter-tabnine) (0.1.2)\n",
      "Requirement already satisfied: nest-asyncio in /home/reinauer/.local/lib/python3.8/site-packages (from nbclient<0.6.0,>=0.5.0->nbconvert->jupyter-tabnine) (1.4.3)\n",
      "Requirement already satisfied: async-generator in /home/reinauer/.local/lib/python3.8/site-packages (from nbclient<0.6.0,>=0.5.0->nbconvert->jupyter-tabnine) (1.10)\n",
      "Requirement already satisfied: jsonschema!=2.5.0,>=2.4 in /home/reinauer/.local/lib/python3.8/site-packages (from nbformat->notebook>=4.2->jupyter-tabnine) (3.2.0)\n",
      "Requirement already satisfied: pyrsistent>=0.14.0 in /home/reinauer/.local/lib/python3.8/site-packages (from jsonschema!=2.5.0,>=2.4->nbformat->notebook>=4.2->jupyter-tabnine) (0.17.3)\n",
      "Requirement already satisfied: attrs>=17.4.0 in /home/reinauer/.local/lib/python3.8/site-packages (from jsonschema!=2.5.0,>=2.4->nbformat->notebook>=4.2->jupyter-tabnine) (20.3.0)\n",
      "Requirement already satisfied: packaging in /home/reinauer/.local/lib/python3.8/site-packages (from bleach->nbconvert->jupyter-tabnine) (20.4)\n",
      "Requirement already satisfied: webencodings in /home/reinauer/.local/lib/python3.8/site-packages (from bleach->nbconvert->jupyter-tabnine) (0.5.1)\n",
      "Requirement already satisfied: pyparsing>=2.0.2 in /home/reinauer/.local/lib/python3.8/site-packages (from packaging->bleach->nbconvert->jupyter-tabnine) (2.4.7)\n"
     ]
    }
   ],
   "source": [
    "for i in range(1)"
   ]
  },
  {
   "cell_type": "code",
   "execution_count": null,
   "metadata": {},
   "outputs": [],
   "source": []
  }
 ]
}