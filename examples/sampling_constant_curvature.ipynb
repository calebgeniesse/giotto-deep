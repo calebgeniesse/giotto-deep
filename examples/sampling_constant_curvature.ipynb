{
 "cells": [
  {
   "cell_type": "code",
   "execution_count": null,
   "metadata": {},
   "outputs": [],
   "source": [
    "import numpy as np\n",
    "from sklearn.metrics import pairwise_distances\n",
    "from gtda.homology import VietorisRipsPersistence"
   ]
  },
  {
   "cell_type": "code",
   "execution_count": 9,
   "metadata": {},
   "outputs": [],
   "source": [
    "def phi(curvature,u_vect):\n",
    "    if curvature > 0:\n",
    "        r = (2/np.sqrt(curvature)) * np.arcsin(np.sqrt(u_vect) * np.sin(np.sqrt(curvature)/2))\n",
    "    if curvature == 0:\n",
    "        r = np.sqrt(u_vect)\n",
    "    if curvature < 0:\n",
    "        r = (2/np.sqrt(-curvature)) * np.arcsinh(np.sqrt(u_vect) * np.sinh(np.sqrt(-curvature)/2))\n",
    "    return r    \n",
    "        \n",
    "\n",
    "def sample_uniformly(curvature, n_points):\n",
    "    theta = 2 * np.pi * np.random.random_sample((n_points,))\n",
    "    r = phi(curvature, np.random.random_sample((n_points,)))\n",
    "    return np.stack((r,theta), axis = -1)\n",
    "        \n",
    "def geodesic_distance(curvature, x1 , x2):\n",
    "    \n",
    "    if curvature > 0:\n",
    "        R = 1/np.sqrt(curvature)\n",
    "        v1 = np.array([R * np.sin(x1[0]/R) * np.cos(x1[1]), \n",
    "                       R * np.sin(x1[0]/R) * np.sin(x1[1]),\n",
    "                      R * np.cos(x1[0]/R)])\n",
    "        \n",
    "        v2 = np.array([R * np.sin(x2[0]/R) * np.cos(x2[1]), \n",
    "                       R * np.sin(x2[0]/R) * np.sin(x2[1]),\n",
    "                      R * np.cos(x2[0]/R)])\n",
    "\n",
    "        \n",
    "        dist = R * np.arctan2(np.linalg.norm(np.cross(v1,v2)), (v1*v2).sum())\n",
    "    \n",
    "    if curvature == 0:\n",
    "        v1 = np.array([x1[0]*np.cos(x1[1]), x1[0]*np.sin(x1[1])])\n",
    "        v2 = np.array([x2[0]*np.cos(x2[1]), x2[0]*np.sin(x2[1])])\n",
    "        dist = np.linalg.norm( (v1 - v2) )  \n",
    "    \n",
    "    if curvature < 0:\n",
    "        R = 1/np.sqrt(-curvature)\n",
    "        z = np.array([ np.tanh(x1[0]/(2 * R)) * np.cos(x1[1]),\n",
    "                       np.tanh(x1[0]/(2 * R)) * np.sin(x1[1])])\n",
    "        w = np.array([np.tanh(x2[0]/(2 * R)) * np.cos(x2[1]),\n",
    "                       np.tanh(x2[0]/(2 * R)) * np.sin(x2[1])])\n",
    "        temp = np.linalg.norm([(z*w).sum() - 1, np.linalg.det([z,w]) + 1])\n",
    "        dist = 2 * R * np.arctanh(np.linalg.norm(z - w)/temp) \n",
    "        \n",
    "    return dist\n",
    "\n",
    "def distance_matrix(curvature,n_points):\n",
    "    metric = lambda x1, x2 : geodesic_distance(curvature, x1 , x2)\n",
    "    samples = sample_uniformly(curvature, n_points)\n",
    "    return pairwise_distances(samples, metric = metric)"
   ]
  },
  {
   "cell_type": "code",
   "execution_count": 27,
   "metadata": {},
   "outputs": [],
   "source": [
    "def get_diagrams(curvatures, n_points, hodim):  \n",
    "    \"\"\" This functions outputs the persistence diagrams in homological dimensions given by hodim, \n",
    "    for a list datasets obained by uniformly sampling n_points for each elements in curvatures\n",
    "    \n",
    "    Args:\n",
    "        curvatures (list of float):\n",
    "            List of values of the curvatures of surfaces to sample from\n",
    "        n_points (int):\n",
    "            Number of points to be sampled on each surface\n",
    "        hodim (list of int):\n",
    "            Dimensions in which to compute persistenc diagrams\n",
    "    \"\"\"\n",
    "    \n",
    "    l = []\n",
    "    VR = VietorisRipsPersistence(homology_dimensions=hodim, metric = 'precomputed')\n",
    "    for curvature in curvatures:\n",
    "        matrix = distance_matrix(curvature,n_points)\n",
    "        l.append(matrix)\n",
    "    diagrams = VR.fit_transform(l)\n",
    "    return diagrams"
   ]
  },
  {
   "cell_type": "code",
   "execution_count": 24,
   "metadata": {},
   "outputs": [],
   "source": [
    "n_points = 100\n",
    "curvatures = [-1.,0.,1.]\n",
    "hodim = (0,1)"
   ]
  },
  {
   "cell_type": "code",
   "execution_count": 25,
   "metadata": {},
   "outputs": [
    {
     "data": {
      "text/plain": [
       "array([[[0.        , 0.00471974, 0.        ],\n",
       "        [0.        , 0.00866885, 0.        ],\n",
       "        [0.        , 0.01508031, 0.        ],\n",
       "        ...,\n",
       "        [0.09506082, 0.10150165, 1.        ],\n",
       "        [0.08496598, 0.09495199, 1.        ],\n",
       "        [0.08496598, 0.08496598, 1.        ]],\n",
       "\n",
       "       [[0.        , 0.00372822, 0.        ],\n",
       "        [0.        , 0.01789697, 0.        ],\n",
       "        [0.        , 0.02025775, 0.        ],\n",
       "        ...,\n",
       "        [0.14847943, 0.15354338, 1.        ],\n",
       "        [0.12478179, 0.13185002, 1.        ],\n",
       "        [0.08496598, 0.08496598, 1.        ]],\n",
       "\n",
       "       [[0.        , 0.02192988, 0.        ],\n",
       "        [0.        , 0.02483789, 0.        ],\n",
       "        [0.        , 0.02939336, 0.        ],\n",
       "        ...,\n",
       "        [0.15467198, 0.16753332, 1.        ],\n",
       "        [0.14780238, 0.15374944, 1.        ],\n",
       "        [0.13577044, 0.14028437, 1.        ]]])"
      ]
     },
     "execution_count": 25,
     "metadata": {},
     "output_type": "execute_result"
    }
   ],
   "source": [
    "get_diagrams(curvatures, n_points, hodim)"
   ]
  },
  {
   "cell_type": "code",
   "execution_count": null,
   "metadata": {},
   "outputs": [],
   "source": []
  },
  {
   "cell_type": "code",
   "execution_count": null,
   "metadata": {},
   "outputs": [],
   "source": []
  }
 ],
 "metadata": {
  "kernelspec": {
   "display_name": "Python 3",
   "language": "python",
   "name": "python3"
  },
  "language_info": {
   "codemirror_mode": {
    "name": "ipython",
    "version": 3
   },
   "file_extension": ".py",
   "mimetype": "text/x-python",
   "name": "python",
   "nbconvert_exporter": "python",
   "pygments_lexer": "ipython3",
   "version": "3.9.7"
  }
 },
 "nbformat": 4,
 "nbformat_minor": 2
}
