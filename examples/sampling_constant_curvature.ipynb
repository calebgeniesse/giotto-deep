{
 "cells": [
  {
   "cell_type": "code",
   "execution_count": 1,
   "metadata": {},
   "outputs": [],
   "source": [
    "import numpy as np\n",
    "from sklearn.metrics import pairwise_distances\n",
    "from gtda.homology import VietorisRipsPersistence"
   ]
  },
  {
   "cell_type": "code",
   "execution_count": 2,
   "metadata": {},
   "outputs": [],
   "source": [
    "def phi(curvature,u_vect):\n",
    "    if curvature > 0:\n",
    "        r = (2/np.sqrt(curvature)) * np.arcsin(np.sqrt(u_vect) * np.sin(np.sqrt(curvature)/2))\n",
    "    if curvature == 0:\n",
    "        r = np.sqrt(u_vect)\n",
    "    if curvature < 0:\n",
    "        r = (2/np.sqrt(-curvature)) * np.arcsinh(np.sqrt(u_vect) * np.sinh(np.sqrt(-curvature)/2))\n",
    "    return r    \n",
    "        \n",
    "\n",
    "def sample_uniformly(curvature, n_points):\n",
    "    theta = 2 * np.pi * np.random.random_sample((n_points,))\n",
    "    r = phi(curvature, np.random.random_sample((n_points,)))\n",
    "    return np.stack((r,theta), axis = -1)\n",
    "        \n",
    "def geodesic_distance(curvature, x1 , x2):\n",
    "    \n",
    "    if curvature > 0:\n",
    "        R = 1/np.sqrt(curvature)\n",
    "        v1 = np.array([R * np.sin(x1[0]/R) * np.cos(x1[1]), \n",
    "                       R * np.sin(x1[0]/R) * np.sin(x1[1]),\n",
    "                      R * np.cos(x1[0]/R)])\n",
    "        \n",
    "        v2 = np.array([R * np.sin(x2[0]/R) * np.cos(x2[1]), \n",
    "                       R * np.sin(x2[0]/R) * np.sin(x2[1]),\n",
    "                      R * np.cos(x2[0]/R)])\n",
    "\n",
    "        \n",
    "        dist = R * np.arctan2(np.linalg.norm(np.cross(v1,v2)), (v1*v2).sum())\n",
    "    \n",
    "    if curvature == 0:\n",
    "        v1 = np.array([x1[0]*np.cos(x1[1]), x1[0]*np.sin(x1[1])])\n",
    "        v2 = np.array([x2[0]*np.cos(x2[1]), x2[0]*np.sin(x2[1])])\n",
    "        dist = np.linalg.norm( (v1 - v2) )  \n",
    "    \n",
    "    if curvature < 0:\n",
    "        R = 1/np.sqrt(-curvature)\n",
    "        z = np.array([ np.tanh(x1[0]/(2 * R)) * np.cos(x1[1]),\n",
    "                       np.tanh(x1[0]/(2 * R)) * np.sin(x1[1])])\n",
    "        w = np.array([np.tanh(x2[0]/(2 * R)) * np.cos(x2[1]),\n",
    "                       np.tanh(x2[0]/(2 * R)) * np.sin(x2[1])])\n",
    "        temp = np.linalg.norm([(z*w).sum() - 1, np.linalg.det([z,w]) + 1])\n",
    "        dist = 2 * R * np.arctanh(np.linalg.norm(z - w)/temp) \n",
    "        \n",
    "    return dist\n",
    "\n",
    "def distance_matrix(curvature,n_points):\n",
    "    metric = lambda x1, x2 : geodesic_distance(curvature, x1 , x2)\n",
    "    samples = sample_uniformly(curvature, n_points)\n",
    "    return pairwise_distances(samples, metric = metric, n_jobs=12)"
   ]
  },
  {
   "cell_type": "code",
   "execution_count": 3,
   "metadata": {},
   "outputs": [],
   "source": [
    "def get_diagrams(curvatures, n_points, hodim):  \n",
    "    \"\"\" This functions outputs the persistence diagrams in homological dimensions given by hodim, \n",
    "    for a list datasets obained by uniformly sampling n_points for each elements in curvatures\n",
    "    \n",
    "    Args:\n",
    "        curvatures (list of float):\n",
    "            List of values of the curvatures of surfaces to sample from\n",
    "        n_points (int):\n",
    "            Number of points to be sampled on each surface\n",
    "        hodim (list of int):\n",
    "            Dimensions in which to compute persistenc diagrams\n",
    "    \"\"\"\n",
    "    \n",
    "    l = []\n",
    "    VR = VietorisRipsPersistence(homology_dimensions=hodim, metric = 'precomputed')\n",
    "    for curvature in curvatures:\n",
    "        matrix = distance_matrix(curvature,n_points)\n",
    "        l.append(matrix)\n",
    "    diagrams = VR.fit_transform(l)\n",
    "    return diagrams"
   ]
  },
  {
   "cell_type": "code",
   "execution_count": 15,
   "metadata": {},
   "outputs": [],
   "source": [
    "n_points = 300\n",
    "curvatures =  np.random.uniform(-2, 2, 20)\n",
    "hodim = (0,1)"
   ]
  },
  {
   "cell_type": "code",
   "execution_count": 5,
   "metadata": {},
   "outputs": [],
   "source": [
    "get_diagrams(curvatures, n_points, hodim);"
   ]
  },
  {
   "cell_type": "code",
   "execution_count": 17,
   "metadata": {},
   "outputs": [
    {
     "data": {
      "text/plain": [
       "(20, 300, 300)"
      ]
     },
     "execution_count": 17,
     "metadata": {},
     "output_type": "execute_result"
    }
   ],
   "source": [
    "from joblib import Parallel, delayed\n",
    "\n",
    "\n",
    "\n",
    "def process(i):\n",
    "    return distance_matrix(curvatures[i], n_points)\n",
    "    \n",
    "pds = Parallel(n_jobs=10)(delayed(process)(i) for i in range(len(curvatures)))\n",
    "\n",
    "np.stack(pds, axis=0).shape"
   ]
  },
  {
   "cell_type": "code",
   "execution_count": 7,
   "metadata": {},
   "outputs": [
    {
     "ename": "NameError",
     "evalue": "name 'd_mat' is not defined",
     "output_type": "error",
     "traceback": [
      "\u001b[1;31m---------------------------------------------------------------------------\u001b[0m",
      "\u001b[1;31mNameError\u001b[0m                                 Traceback (most recent call last)",
      "\u001b[1;32m~\\AppData\\Local\\Temp/ipykernel_20504/3397621265.py\u001b[0m in \u001b[0;36m<module>\u001b[1;34m\u001b[0m\n\u001b[1;32m----> 1\u001b[1;33m \u001b[0md_mat\u001b[0m\u001b[1;33m[\u001b[0m\u001b[1;36m0\u001b[0m\u001b[1;33m]\u001b[0m \u001b[1;33m=\u001b[0m \u001b[0mnp\u001b[0m\u001b[1;33m.\u001b[0m\u001b[0marray\u001b[0m\u001b[1;33m(\u001b[0m\u001b[1;33m[\u001b[0m\u001b[1;36m1\u001b[0m\u001b[1;33m,\u001b[0m \u001b[1;36m1\u001b[0m\u001b[1;33m]\u001b[0m\u001b[1;33m)\u001b[0m\u001b[1;33m\u001b[0m\u001b[1;33m\u001b[0m\u001b[0m\n\u001b[0m",
      "\u001b[1;31mNameError\u001b[0m: name 'd_mat' is not defined"
     ]
    }
   ],
   "source": [
    "d_mat[0] = np.array([1, 1])"
   ]
  },
  {
   "cell_type": "code",
   "execution_count": null,
   "metadata": {},
   "outputs": [],
   "source": [
    "process(1)"
   ]
  },
  {
   "cell_type": "code",
   "execution_count": null,
   "metadata": {},
   "outputs": [
    {
     "data": {
      "text/plain": [
       "[None,\n",
       " array([[0.        , 1.18108998, 0.83212347, ..., 1.04505694, 1.25353806,\n",
       "         0.30320705],\n",
       "        [1.18108998, 0.        , 0.83228197, ..., 0.25322695, 0.30109488,\n",
       "         0.89609082],\n",
       "        [0.83212347, 0.83228197, 0.        , ..., 0.58205325, 1.08478027,\n",
       "         0.58041883],\n",
       "        ...,\n",
       "        [1.04505694, 0.25322695, 0.58205325, ..., 0.        , 0.53442013,\n",
       "         0.74437678],\n",
       "        [1.25353806, 0.30109488, 1.08478027, ..., 0.53442013, 0.        ,\n",
       "         1.00606503],\n",
       "        [0.30320705, 0.89609082, 0.58041883, ..., 0.74437678, 1.00606503,\n",
       "         0.        ]]),\n",
       " None]"
      ]
     },
     "execution_count": 18,
     "metadata": {},
     "output_type": "execute_result"
    }
   ],
   "source": [
    "d_mat"
   ]
  },
  {
   "cell_type": "code",
   "execution_count": null,
   "metadata": {},
   "outputs": [],
   "source": []
  }
 ],
 "metadata": {
  "kernelspec": {
   "display_name": "Python 3",
   "language": "python",
   "name": "python3"
  },
  "language_info": {
   "codemirror_mode": {
    "name": "ipython",
    "version": 3
   },
   "file_extension": ".py",
   "mimetype": "text/x-python",
   "name": "python",
   "nbconvert_exporter": "python",
   "pygments_lexer": "ipython3",
   "version": "3.9.6"
  }
 },
 "nbformat": 4,
 "nbformat_minor": 2
}
