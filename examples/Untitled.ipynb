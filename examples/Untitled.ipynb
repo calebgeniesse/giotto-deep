{
 "cells": [
  {
   "cell_type": "markdown",
   "metadata": {},
   "source": [
    "# Effective Python\n",
    "\n",
    "This notebook contains the best practices taken from the homonimous book.\n",
    "\n",
    "Only some chapters are considered here, purely based on the author's ignorance."
   ]
  },
  {
   "cell_type": "code",
   "execution_count": 1,
   "metadata": {},
   "outputs": [
    {
     "name": "stdout",
     "output_type": "stream",
     "text": [
      "3.6.8 |Anaconda, Inc.| (default, Dec 29 2018, 19:04:46) \n",
      "[GCC 4.2.1 Compatible Clang 4.0.1 (tags/RELEASE_401/final)]\n"
     ]
    }
   ],
   "source": [
    "import sys\n",
    "print(sys.version)"
   ]
  },
  {
   "cell_type": "markdown",
   "metadata": {},
   "source": [
    "## It's good to unpack multiple varibles \n",
    "...rather than indexing.\n",
    "\n",
    "Use **f-strings** to display the output.\n"
   ]
  },
  {
   "cell_type": "code",
   "execution_count": 2,
   "metadata": {},
   "outputs": [
    {
     "name": "stdout",
     "output_type": "stream",
     "text": [
      "0.000, 1 and [2, 3, 4, 5, 6, 7, 8, 9]\n"
     ]
    }
   ],
   "source": [
    "def out(i):\n",
    "    assert i > 0\n",
    "    return list(range(i))\n",
    "\n",
    "first, second, *others = out(10)\n",
    "print(f\"{first:0.3f}, {second} and {others}\")"
   ]
  },
  {
   "cell_type": "markdown",
   "metadata": {},
   "source": [
    "## The following evaluate to `False`\n",
    "\n",
    "Recall these niceties about empty strings, empty lists and `0`:"
   ]
  },
  {
   "cell_type": "code",
   "execution_count": 3,
   "metadata": {},
   "outputs": [
    {
     "name": "stdout",
     "output_type": "stream",
     "text": [
      "Got it?\n"
     ]
    }
   ],
   "source": [
    "if []:\n",
    "    print(\"Not printing\")\n",
    "elif \"\":\n",
    "    print(\"Not printing\")\n",
    "elif 0:\n",
    "    print(\"Not printing\")\n",
    "else:\n",
    "    print(\"Got it?\")"
   ]
  },
  {
   "cell_type": "markdown",
   "metadata": {},
   "source": [
    "## RAM manipulations\n",
    "\n",
    "Direct manipulation of the memory cells."
   ]
  },
  {
   "cell_type": "code",
   "execution_count": 4,
   "metadata": {},
   "outputs": [
    {
     "name": "stdout",
     "output_type": "stream",
     "text": [
      "Only bytes can be manipulated in memory, not strings\n"
     ]
    },
    {
     "data": {
      "text/plain": [
       "<memory at 0x7f9422a34888>"
      ]
     },
     "execution_count": 4,
     "metadata": {},
     "output_type": "execute_result"
    }
   ],
   "source": [
    "a = b'123456'  # byte expression\n",
    "aa = \"sdojfbh\"  # string expression\n",
    "mv = memoryview(a)\n",
    "try:\n",
    "    memoryview(aa)\n",
    "except TypeError:\n",
    "    print(\"Only bytes can be manipulated in memory, not strings\")\n",
    "mv"
   ]
  },
  {
   "cell_type": "code",
   "execution_count": 5,
   "metadata": {},
   "outputs": [
    {
     "data": {
      "text/plain": [
       "b'345'"
      ]
     },
     "execution_count": 5,
     "metadata": {},
     "output_type": "execute_result"
    }
   ],
   "source": [
    "mv[2:5].tobytes()  # selecting a subsection of the RAM\n"
   ]
  },
  {
   "cell_type": "markdown",
   "metadata": {},
   "source": [
    "## Use ternary expression to simplify your code"
   ]
  },
  {
   "cell_type": "code",
   "execution_count": 6,
   "metadata": {},
   "outputs": [
    {
     "name": "stdout",
     "output_type": "stream",
     "text": [
      "False\n"
     ]
    }
   ],
   "source": [
    "def true_or_false(input):\n",
    "    \"\"\"This function will print what the\n",
    "    input will evaluate to.\"\"\"\n",
    "    b = \"True\" if input else \"False\"\n",
    "    print(b)\n",
    "    \n",
    "true_or_false([])"
   ]
  },
  {
   "cell_type": "markdown",
   "metadata": {},
   "source": [
    "## Striding \n",
    "...and revertng lists."
   ]
  },
  {
   "cell_type": "code",
   "execution_count": 7,
   "metadata": {},
   "outputs": [
    {
     "name": "stdout",
     "output_type": "stream",
     "text": [
      "Full list: [0, 1, 2, 3, 4, 5, 6, 7, 8, 9, 10, 11, 12, 13, 14, 15, 16], \n",
      "Strided list: [1, 4, 7]\n"
     ]
    },
    {
     "data": {
      "text/plain": [
       "[16, 15, 14, 13, 12, 11, 10, 9, 8, 7, 6, 5, 4, 3, 2, 1, 0]"
      ]
     },
     "execution_count": 7,
     "metadata": {},
     "output_type": "execute_result"
    }
   ],
   "source": [
    "## Striding\n",
    "start = 1\n",
    "end = 10\n",
    "step = 3\n",
    "\n",
    "test = list(range(end + 7))\n",
    "\n",
    "print(f\"Full list: {test}, \\nStrided list: {test[start:end:step]}\")\n",
    "\n",
    "# A nice trick to reverse the list:\n",
    "test[::-1]"
   ]
  },
  {
   "cell_type": "markdown",
   "metadata": {},
   "source": [
    "## Sorting objects with lambda functions\n",
    "\n",
    "Check out the abstract class and how the lambda is used for sorting (and also notice the use of `__repr__`)."
   ]
  },
  {
   "cell_type": "code",
   "execution_count": 8,
   "metadata": {},
   "outputs": [
    {
     "name": "stdout",
     "output_type": "stream",
     "text": [
      "The sorting is not a priori defined!\n",
      "Sort by name: [(a, 1), (bbb, 3), (c, 2)]\n",
      "Sort by name: [(a, 1), (c, 2), (bbb, 3)]\n"
     ]
    }
   ],
   "source": [
    "class Obj():\n",
    "    \"\"\"An object\n",
    "\n",
    "    Args:\n",
    "        name (str):\n",
    "            the name of the Obj\n",
    "        height (float):\n",
    "            the heght of the Obj\n",
    "    \"\"\"\n",
    "    def __init__(self, name, height):\n",
    "        self.name = name\n",
    "        self.height = height\n",
    "        \n",
    "    def __repr__(self):\n",
    "        \"\"\"This method is used by the print function.\n",
    "        It needs to return a string\"\"\"\n",
    "        return f\"({self.name}, {self.height})\"\n",
    "\n",
    "    def method(self):\n",
    "        \"\"\"whatever, not needed\"\"\"\n",
    "        pass\n",
    "\n",
    "\n",
    "ob1, ob2, ob3 = Obj(\"a\", 1), Obj(\"bbb\", 3), Obj(\"c\", 2)\n",
    "\n",
    "list_of_obj = [ob1, ob2, ob3]\n",
    "try:\n",
    "    list_of_obj.sort()\n",
    "except TypeError:\n",
    "    print(\"The sorting is not a priori defined!\")\n",
    "\n",
    "list_of_obj.sort(key=lambda x:x.name)  # we are telling to sort by the name\n",
    "print(f\"Sort by name: {list_of_obj}\")\n",
    "\n",
    "list_of_obj.sort(key=lambda x:x.height)  # we are telling to sort by the height\n",
    "print(f\"Sort by name: {list_of_obj}\")"
   ]
  },
  {
   "cell_type": "markdown",
   "metadata": {},
   "source": [
    "## Add `__missing__` to handle missing keys in `dict`"
   ]
  },
  {
   "cell_type": "code",
   "execution_count": 9,
   "metadata": {},
   "outputs": [
    {
     "data": {
      "text/plain": [
       "{'key1': 5, 'key2': 0.0}"
      ]
     },
     "execution_count": 9,
     "metadata": {},
     "output_type": "execute_result"
    }
   ],
   "source": [
    "class NewDict(dict):\n",
    "    def __missing__(self, key):\n",
    "        \"\"\"This special method is called when the key\n",
    "        is not defined yet.\"\"\"\n",
    "        self[key] = 0.0\n",
    "\n",
    "d = NewDict()\n",
    "d[\"key1\"] = 5\n",
    "d[\"key2\"]  # this is not defined, hence filled in with `0.0`\n",
    "d"
   ]
  },
  {
   "cell_type": "markdown",
   "metadata": {},
   "source": [
    "## Closure\n",
    "\n",
    "Variables inside the scope of a function are not modified for outer scopes."
   ]
  },
  {
   "cell_type": "code",
   "execution_count": 10,
   "metadata": {},
   "outputs": [
    {
     "name": "stdout",
     "output_type": "stream",
     "text": [
      "original var: 1\n",
      "output of function: 3\n"
     ]
    }
   ],
   "source": [
    "\n",
    "def outer_scope():\n",
    "    var = 1\n",
    "    def test_fun(input):\n",
    "        var = 2\n",
    "        return input + var\n",
    "    print(f\"original var: {var}\\noutput of function: {test_fun(1)}\")\n",
    "outer_scope()"
   ]
  },
  {
   "cell_type": "markdown",
   "metadata": {},
   "source": [
    "## Impose keywords arguments\n",
    "\n",
    "For those arguments that are really required to by keyword based, you can enforce it."
   ]
  },
  {
   "cell_type": "code",
   "execution_count": 11,
   "metadata": {},
   "outputs": [
    {
     "name": "stdout",
     "output_type": "stream",
     "text": [
      "Here!\n"
     ]
    }
   ],
   "source": [
    "def fun(a, b=None, c=True, d=False):\n",
    "    return a, b, c, d\n",
    "\n",
    "def fun2(a, b=None, *, c=True, d=False):\n",
    "    return a, b, c, d\n",
    "\n",
    "fun(1,2,3,4)\n",
    "try:\n",
    "    fun2(1,2,3,4)\n",
    "    print(\"Not here!\")\n",
    "except TypeError:\n",
    "    fun2(1,2,c=3,d=4)\n",
    "    print(\"Here!\")"
   ]
  },
  {
   "cell_type": "markdown",
   "metadata": {},
   "source": [
    "## Decorator for debugging\n",
    "\n",
    "Use `functools` to wrap make sure that you can have"
   ]
  },
  {
   "cell_type": "code",
   "execution_count": 12,
   "metadata": {},
   "outputs": [
    {
     "name": "stdout",
     "output_type": "stream",
     "text": [
      "function((-1,), {}) -> 0\n",
      "function((0,), {}) -> 3\n",
      "function((1,), {}) -> 6\n",
      "function((2,), {}) -> 9\n",
      "function((3,), {}) -> 12\n",
      "function((4,), {}) -> 15\n",
      "function((5,), {}) -> 18\n",
      "function((6,), {}) -> 21\n",
      "function((7,), {}) -> 24\n",
      "function((8,), {}) -> 27\n",
      "function((9,), {}) -> 30\n",
      "function((10,), {}) -> 33\n"
     ]
    },
    {
     "data": {
      "text/plain": [
       "33"
      ]
     },
     "execution_count": 12,
     "metadata": {},
     "output_type": "execute_result"
    }
   ],
   "source": [
    "from functools import wraps\n",
    "\n",
    "def trace(func):\n",
    "    @wraps(func)\n",
    "    def wrapper(*args, **kwargs):\n",
    "        result = func(*args, **kwargs)\n",
    "        print(f'{func.__name__}({args!r}, {kwargs!r}) '\n",
    "              f'-> {result!r}')\n",
    "        return result\n",
    "    return wrapper\n",
    "\n",
    "@trace\n",
    "def function(a):\n",
    "    if a < 0:\n",
    "        return 0\n",
    "    return function(a-1) + 3\n",
    "\n",
    "\n",
    "function(10)"
   ]
  },
  {
   "cell_type": "code",
   "execution_count": 13,
   "metadata": {},
   "outputs": [
    {
     "name": "stdout",
     "output_type": "stream",
     "text": [
      "Help on function function in module __main__:\n",
      "\n",
      "function(a)\n",
      "\n"
     ]
    }
   ],
   "source": [
    "help(function)  # notice that now the name is function and not wrapper"
   ]
  },
  {
   "cell_type": "markdown",
   "metadata": {},
   "source": [
    "## Iterators\n",
    "\n",
    "Use them instead of storing the results in a list to spare memory!\n",
    "\n",
    "Use the `__iter__` method to define the way to iterate over your data.\n",
    "\n",
    "Use **generator expressions** to be lighter on memory!\n",
    "\n",
    "Compose generators with `yield from`.\n",
    "\n",
    "Use `itertools` functions, as they are very effective on iterators."
   ]
  },
  {
   "cell_type": "code",
   "execution_count": 14,
   "metadata": {},
   "outputs": [
    {
     "name": "stdout",
     "output_type": "stream",
     "text": [
      "0\n",
      "4\n",
      "8\n",
      "12\n",
      "We exhausted the iterator on the first call\n",
      "<generator object <genexpr> at 0x7f9422c0cd58>\n",
      "received:  10\n",
      "received:  None\n",
      "received:  None\n",
      "First iteration: 0, sending value: 1, further iteration: 2, further iteration: 3\n",
      "[(1, 1), (1, 2), (1, 3), (1, 4), (2, 2), (2, 3), (2, 4), (3, 3), (3, 4), (4, 4)]\n"
     ]
    }
   ],
   "source": [
    "from collections.abc import Iterator\n",
    "\n",
    "class IterableFoo:\n",
    "    \"\"\"Minimal iterable class.\n",
    "    \n",
    "    Args:\n",
    "        lista (iterator):\n",
    "            the list of inputs\n",
    "    \"\"\"\n",
    "    def __init__(self, lista):\n",
    "        self.lista = lista\n",
    "\n",
    "    def __iter__(self):  # this is what is called when doing for x in X:\n",
    "        for item in self.lista:\n",
    "            yield item*4\n",
    "\n",
    "\n",
    "my_list = IterableFoo([0, 1, 2, 3])\n",
    "for i in my_list:\n",
    "    print(i)\n",
    "\n",
    "# define a generator\n",
    "def generator(a):\n",
    "    try:\n",
    "        for item in a:\n",
    "            yield a+3\n",
    "    except TypeError:\n",
    "        yield 0\n",
    "\n",
    "# build the generator instance\n",
    "it = generator([1, 2, 3])\n",
    "\n",
    "# check whether it is an iterator\n",
    "assert isinstance(it, Iterator)\n",
    "\n",
    "not_it = generator(1)\n",
    "next(not_it)\n",
    "try: \n",
    "    next(not_it)\n",
    "except StopIteration:\n",
    "    print(\"We exhausted the iterator on the first call\")\n",
    "    \n",
    "# generator expression: a.k.a. comprehension for generators\n",
    "gen = (i**2 for i in range(1000000000))\n",
    "print(gen)\n",
    "\n",
    "# to compose two generators:\n",
    "def my_generator():\n",
    "    yield 1\n",
    "    yield 2\n",
    "    yield 3\n",
    "\n",
    "# this gets data from the child() generator\n",
    "def fast():\n",
    "    yield from my_generator()\n",
    "    \n",
    "fast()\n",
    "\n",
    "# P.S. do NOT use send, as it is complicated\n",
    "def child2():\n",
    "    for i in range(1_000_000):\n",
    "        ii = yield i\n",
    "        print(\"received: \", ii)\n",
    "        \n",
    "it = iter(child2())\n",
    "print(f\"First iteration: {next(it)}, sending\"\n",
    "      f\" value: {it.send(10)}, further \"\n",
    "      f\"iteration: {next(it)}, further iteration: {next(it)}\")\n",
    "\n",
    "# use itertools functions, as they are very effective\n",
    "from itertools import combinations_with_replacement\n",
    "it = combinations_with_replacement([1, 2, 3, 4], 2)\n",
    "print(list(it))"
   ]
  },
  {
   "cell_type": "markdown",
   "metadata": {},
   "source": [
    "## Use hooks to treat corner cases\n",
    "\n",
    "Hooks are functions passed to the object that can deal with corner cases. Pass hooks to deal with them."
   ]
  },
  {
   "cell_type": "code",
   "execution_count": 15,
   "metadata": {},
   "outputs": [
    {
     "name": "stdout",
     "output_type": "stream",
     "text": [
      "defaultdict(<function missing_key at 0x7f9422c4bd08>, {'key1': 100})\n"
     ]
    }
   ],
   "source": [
    "# defaultdict allow for hooks to treat missing keys\n",
    "from collections import defaultdict\n",
    "\n",
    "# define the hook to handle missing keys\n",
    "def missing_key():\n",
    "    \"\"\"returns 0 as value for a missing key\"\"\"\n",
    "    return 100\n",
    "\n",
    "d = defaultdict(missing_key)  # empty dictionary, with the policy for missing keys\n",
    "\n",
    "d[\"key1\"]\n",
    "print(d)"
   ]
  },
  {
   "cell_type": "markdown",
   "metadata": {},
   "source": [
    "# Use of `@classmethod`, `super()` and mix-in classes"
   ]
  },
  {
   "cell_type": "code",
   "execution_count": 16,
   "metadata": {},
   "outputs": [
    {
     "name": "stdout",
     "output_type": "stream",
     "text": [
      "The Child class inherits from the Parent\n",
      " class the attribute `value` and it is 10.\n",
      " The methods from the mixin class are also\n",
      "available : 1,\n",
      " and <__main__.Child object at 0x7f9422c63f28>\n",
      "Cannot access private attributes\n"
     ]
    }
   ],
   "source": [
    "class Mixin:\n",
    "    \"\"\"The Mixin class does not need any\n",
    "    __init__ constructor, as it will not\n",
    "    have any instance per se but will be \n",
    "    used by other class to inherit the methods.\n",
    "    \"\"\"\n",
    "    def method1(self):\n",
    "        yield 1\n",
    "        yield 2\n",
    "\n",
    "    \n",
    "class Parent(Mixin):  # inherit from Mixin class\n",
    "    def __init__(self, value):\n",
    "        self.value = value\n",
    "        self.__secret_value = value + 1  # private, cannot access\n",
    "\n",
    "    @classmethod  # this method is bound to the class and not to self\n",
    "    def method2(cls, value):  # call it withput cls, as that is automatic!\n",
    "        return cls(value)  # initialise ann instance\n",
    "        \n",
    "class Child(Parent):\n",
    "    def __init__(self, value):\n",
    "        super().__init__(value)  # initialise the parent class\n",
    "\n",
    "# initialise the child class\n",
    "child = Child(10)\n",
    "\n",
    "# results\n",
    "print(f\"The Child class inherits from the Parent\\n class the attribute `value` \"\n",
    "      f\"and it is {child.value}.\\n The methods from the mixin class are also\\n\"\n",
    "      f\"available : {next(child.method1())},\\n and {child.method2(1)}\")\n",
    "\n",
    "# P.S. Try to AVOID provate attributes\n",
    "try:\n",
    "    child.__secret_value\n",
    "except AttributeError:\n",
    "    print(\"Cannot access private attributes\")"
   ]
  },
  {
   "cell_type": "markdown",
   "metadata": {},
   "source": [
    "## A custom class that looks like a list\n",
    "\n",
    "Use the containers of `collections.abc` to help you write all the functions."
   ]
  },
  {
   "cell_type": "code",
   "execution_count": 17,
   "metadata": {},
   "outputs": [
    {
     "name": "stdout",
     "output_type": "stream",
     "text": [
      "Item in position 1: 2, Length: 4\n",
      "1\n",
      "2\n",
      "3\n",
      "4\n"
     ]
    }
   ],
   "source": [
    "from collections.abc import Sequence  # contains all the standard methods of lists, e.g. __iter__\n",
    "\n",
    "class MyList(Sequence):\n",
    "    def __init__(self, *args):\n",
    "        self.args = args\n",
    "    \n",
    "    def __getitem__(self, i):\n",
    "        return self.args[i]\n",
    "    \n",
    "    def __len__(self):\n",
    "        return len(self.args)\n",
    "    \n",
    "lst = MyList(1,2,3,4)\n",
    "print(f\"Item in position 1: {lst[1]}, Length: {len(lst)}\")\n",
    "\n",
    "for i in lst:\n",
    "    print(i)"
   ]
  },
  {
   "cell_type": "markdown",
   "metadata": {},
   "source": [
    "## The use of `@property` or descriptors\n",
    "\n",
    "The idea is to directly access the attributes, but to add a logic when modifying them. Also, **the syntax is exactly the same one of an attribute**!!\n",
    "\n",
    "It is more general to use the `__set__` and `__get__` descriptors."
   ]
  },
  {
   "cell_type": "code",
   "execution_count": 18,
   "metadata": {},
   "outputs": [
    {
     "name": "stdout",
     "output_type": "stream",
     "text": [
      "in the setter...\n",
      "in the getter...\n",
      "1\n",
      "in the setter...\n",
      "in the getter...\n",
      "2\n",
      "in the setter...\n",
      "...as expected!\n"
     ]
    }
   ],
   "source": [
    "class Test:\n",
    "    def __init__(self, value):\n",
    "        self.value = value\n",
    "    \n",
    "    @property # this is the getter method\n",
    "    def value(self):\n",
    "        print(\"in the getter...\")\n",
    "        return self._value  # notice the underscore!\n",
    "    \n",
    "    @value.setter  # this is the setter method\n",
    "    def value(self, new_value):\n",
    "        print(\"in the setter...\")\n",
    "        if new_value > 0:\n",
    "            self._value = new_value  # notice the underscore!\n",
    "        else:\n",
    "            raise ValueError(\"Need positive value\")\n",
    "            \n",
    "tst = Test(1)  # here we set the value in te __init__, hence I expect to use the setter\n",
    "print(tst.value)  # we read te value\n",
    "tst.value = 2  # we set the value\n",
    "print(tst.value)  # we read the value\n",
    "try:\n",
    "    tst.value = -2  # we try to set a negative value\n",
    "except ValueError:\n",
    "    print(\"...as expected!\")"
   ]
  },
  {
   "cell_type": "code",
   "execution_count": 19,
   "metadata": {},
   "outputs": [
    {
     "name": "stdout",
     "output_type": "stream",
     "text": [
      "in the setter...\n",
      "in the getter...\n",
      "2\n",
      "in the setter...\n",
      "...as expected!\n"
     ]
    }
   ],
   "source": [
    "class Test2:\n",
    "    def __init__(self):\n",
    "        pass\n",
    "    \n",
    "    def __get__(self, instance, instance_type):\n",
    "        print(\"in the getter...\")\n",
    "        return self.value\n",
    "\n",
    "    def __set__(self, instance, new_value):\n",
    "        print(\"in the setter...\")\n",
    "        if new_value > 0:\n",
    "            self.value = new_value\n",
    "        else:\n",
    "            raise ValueError(\"Need positive value\")\n",
    "\n",
    "class Outer():\n",
    "    grade = Test2()\n",
    "        \n",
    "tst2 = Outer()  # here we set the value in te __init__, hence I expect to use the setter\n",
    "tst2.grade = 2  # we set the value\n",
    "print(tst2.grade)  # we read the value\n",
    "try:\n",
    "    tst2.grade = -2  # we try to set a negative value\n",
    "except ValueError:\n",
    "    print(\"...as expected!\")"
   ]
  },
  {
   "cell_type": "markdown",
   "metadata": {},
   "source": [
    "## Dynamic creation of class attributes with `__getattribute__`\n",
    "\n",
    "Watch out for recursions! Evey time that you access an attribute inside the `__getattribute__` you will call `__getattribute__`! Hence, do not forget to user `super()` to actually get the attribute of the instance."
   ]
  },
  {
   "cell_type": "code",
   "execution_count": 20,
   "metadata": {},
   "outputs": [
    {
     "name": "stdout",
     "output_type": "stream",
     "text": [
      "setting attributes...\n",
      "* Found '__dict__', returning {'exists': 5}\n",
      "{'exists': 5}\n",
      "setting attributes...\n",
      "* Found '__dict__', returning {'exists': 5, 'foo': 'Value for foo'}\n",
      "{'exists': 5, 'foo': 'Value for foo'}\n",
      "* Found 'foo', returning 'Value for foo'\n",
      "* Found '__dict__', returning {'exists': 5, 'foo': 'Value for foo'}\n",
      "{'exists': 5, 'foo': 'Value for foo'}\n"
     ]
    }
   ],
   "source": [
    "class LazyRecord:\n",
    "    def __init__(self):\n",
    "        self.exists = 5\n",
    "    \n",
    "    def __getattribute__(self, name):  # called every time an attribute is accessed\n",
    "        try:\n",
    "            value = super().__getattribute__(name)  # check if the attribute exists and avoid infinite recurson\n",
    "            print(f'* Found {name!r}, returning {value!r}')\n",
    "            return value\n",
    "        except AttributeError:\n",
    "            value = f'Value for {name}'\n",
    "            setattr(self, name, value)  # setting the attribute name and value\n",
    "            return value\n",
    "        \n",
    "    def __setattr__(self, name, value):  # called every time an attribute is set\n",
    "        print(\"setting attributes...\")\n",
    "        super().__setattr__(name, value)\n",
    "    \n",
    "ll = LazyRecord()\n",
    "\n",
    "print(ll.__dict__)\n",
    "ll.foo  # creating a new attribute!\n",
    "print(ll.__dict__)\n",
    "ll.foo  # creating a new attribute!\n",
    "print(ll.__dict__)\n"
   ]
  },
  {
   "cell_type": "markdown",
   "metadata": {},
   "source": [
    "## Validate all subclasses using `__init_subclass__`\n",
    "\n",
    "Basically, in the parent class, you prepare a method that is fired every time a new class is declared (not instantiated, created!).\n",
    "\n",
    "You can also call the method `__set_name__` to initialise Parent's class attributes when a class is created."
   ]
  },
  {
   "cell_type": "code",
   "execution_count": 21,
   "metadata": {},
   "outputs": [
    {
     "name": "stdout",
     "output_type": "stream",
     "text": [
      "checking...\n",
      "<class '__main__.ChildOK'>\n",
      "Inside __set_name__...\n",
      "checking...\n",
      "<class '__main__.Child'>\n",
      "internal_name: _p\n",
      "checking...\n",
      "<class '__main__.ChildBad'>\n",
      "The validation worked\n"
     ]
    }
   ],
   "source": [
    "class Parent:\n",
    "    def __init_subclass__(cls):\n",
    "        super().__init_subclass__()\n",
    "        # check presence of attribute\n",
    "        print(\"checking...\")\n",
    "        print(cls)\n",
    "        if not hasattr(cls, \"attr\"):\n",
    "            raise AttributeError(f\"Attribute attr not existing\")\n",
    "            \n",
    "    def __set_name__(self, owner, name):\n",
    "        \"\"\"Called on class creation for each descriptor \n",
    "        when its containing class is defined, not at\n",
    "        instance creation!\"\"\"\n",
    "        print(\"Inside __set_name__...\")\n",
    "        self.name = name  # name of the class instance\n",
    "        self.internal_name = '_' + name\n",
    "\n",
    "\n",
    "class ChildOK(Parent):\n",
    "    attr = 0  # required to pass validation\n",
    "    def __init__(self, attr):\n",
    "        self.attr = attr\n",
    "\n",
    "\n",
    "class Child(Parent):\n",
    "    attr = 1\n",
    "    p = Parent()  # here __set_name__ is called\n",
    "\n",
    "\n",
    "c = Child()\n",
    "print(f\"internal_name: {c.p.internal_name}\")\n",
    "\n",
    "try:\n",
    "    class ChildBad(Parent):\n",
    "        ttr2 = 1\n",
    "\n",
    "except AttributeError:\n",
    "    print(\"The validation worked\")"
   ]
  },
  {
   "cell_type": "code",
   "execution_count": null,
   "metadata": {},
   "outputs": [],
   "source": []
  }
 ],
 "metadata": {
  "kernelspec": {
   "display_name": "Python 3",
   "language": "python",
   "name": "python3"
  },
  "language_info": {
   "codemirror_mode": {
    "name": "ipython",
    "version": 3
   },
   "file_extension": ".py",
   "mimetype": "text/x-python",
   "name": "python",
   "nbconvert_exporter": "python",
   "pygments_lexer": "ipython3",
   "version": "3.6.8"
  }
 },
 "nbformat": 4,
 "nbformat_minor": 4
}
