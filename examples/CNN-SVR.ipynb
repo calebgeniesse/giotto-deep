{
 "cells": [
  {
   "cell_type": "code",
   "execution_count": 1,
   "id": "863744ee",
   "metadata": {},
   "outputs": [
    {
     "name": "stdout",
     "output_type": "stream",
     "text": [
      "Using GPU!\n",
      "Using GPU!\n",
      "Using GPU!\n",
      "No TPUs...\n",
      "\u001b[33mDEPRECATION: Configuring installation scheme with distutils config files is deprecated and will no longer work in the near future. If you are using a Homebrew or Linuxbrew Python, please see discussion at https://github.com/Homebrew/homebrew-core/issues/76621\u001b[0m\u001b[33m\n",
      "\u001b[0mRequirement already satisfied: xitorch in /home/linuxbrew/.linuxbrew/lib/python3.9/site-packages (0.3.0)\n",
      "Requirement already satisfied: scipy>=1.1.0 in /home/linuxbrew/.linuxbrew/lib/python3.9/site-packages (from xitorch) (1.8.0)\n",
      "Requirement already satisfied: numpy>=1.8.2 in /home/linuxbrew/.linuxbrew/lib/python3.9/site-packages (from xitorch) (1.21.6)\n",
      "Requirement already satisfied: torch>=1.8 in /home/linuxbrew/.linuxbrew/lib/python3.9/site-packages (from xitorch) (1.11.0)\n",
      "Requirement already satisfied: typing-extensions in /home/linuxbrew/.linuxbrew/lib/python3.9/site-packages (from torch>=1.8->xitorch) (4.1.1)\n",
      "\u001b[33mDEPRECATION: Configuring installation scheme with distutils config files is deprecated and will no longer work in the near future. If you are using a Homebrew or Linuxbrew Python, please see discussion at https://github.com/Homebrew/homebrew-core/issues/76621\u001b[0m\u001b[33m\n",
      "\u001b[0m\u001b[33mWARNING: You are using pip version 22.0.4; however, version 22.1.2 is available.\n",
      "You should consider upgrading via the '/home/linuxbrew/.linuxbrew/opt/python@3.9/bin/python3.9 -m pip install --upgrade pip' command.\u001b[0m\u001b[33m\n",
      "\u001b[0mUsing GPU!\n"
     ]
    }
   ],
   "source": [
    "from gdeep.topactivation import TopactivationFC as TFC\n",
    "from gdeep.pipeline import Pipeline\n",
    "from torch.utils.tensorboard import SummaryWriter\n",
    "\n",
    "from gdeep.models import FFNet\n",
    "from torch import nn\n",
    "import torch\n",
    "from gdeep.data import TorchDataLoader\n",
    "from tqdm import tqdm \n",
    "\n",
    "!pip3 install xitorch\n",
    "from gdeep.models import ModelExtractor\n",
    "from gdeep.topactivation.spectral_analysisTorch import LaplacianOperator\n",
    "from gdeep.topactivation.svr import SVR\n",
    "import matplotlib.pyplot as plt \n",
    "\n",
    "if torch.cuda.is_available():\n",
    "    DEVICE = torch.device(\"cuda\")\n",
    "    print(\"Using GPU!\")\n",
    "else:\n",
    "    DEVICE = torch.device(\"cpu\")\n",
    "\n",
    "\n",
    "def print28x28tensor(tensor):\n",
    "    img=tensor.to('cpu')\n",
    "    pixels = img.reshape((28,28))\n",
    "    plt.imshow(pixels,cmap='gray')"
   ]
  },
  {
   "cell_type": "code",
   "execution_count": 2,
   "id": "a90adf90",
   "metadata": {
    "scrolled": true
   },
   "outputs": [
    {
     "name": "stderr",
     "output_type": "stream",
     "text": [
      " 43%|████████████████▌                      | 799/1875 [00:02<00:02, 372.00it/s]\n"
     ]
    }
   ],
   "source": [
    "# Loading the data \n",
    "activ = torch.load('/home/meller/Documents/giotto-deep/examples/saves/activ_v5')\n",
    "model = torch.load('/home/meller/Documents/giotto-deep/examples/saves/model_v5')\n",
    "activG =torch.load('/home/meller/Documents/giotto-deep/examples/saves/activG_v5')\n",
    "\n",
    "writer = SummaryWriter()\n",
    "dl = TorchDataLoader(name=\"MNIST\")\n",
    "dl_tr, dl_ts = dl.build_dataloaders(batch_size=32)\n",
    "\n",
    "\n",
    "#cpu = torch.ones(1).device\n",
    "\n",
    "\n",
    "arch = [28*28,100,50,50,50, 10]\n",
    "optimizer = torch.optim.SGD\n",
    "loss_fn = nn.CrossEntropyLoss()\n",
    "pipe = Pipeline(model, (dl_tr, dl_ts), loss_fn, writer)\n",
    "\n",
    "\n",
    "me = ModelExtractor(pipe.model, pipe.loss_fn)\n",
    "weights = list(me.get_layers_param().values())\n",
    "\n",
    "\n",
    "predLabel = torch.zeros(activ.shape[0],activ.shape[1])\n",
    "for alter in range(activ.shape[0]):\n",
    "    predLabel[alter] = activ[alter,:,-10:].argmax(dim=1)\n",
    "    \n",
    "    \n",
    "label = torch.zeros(activ[0].shape[0])\n",
    "k_batch = 0 \n",
    "for data, target in tqdm(dl_tr):\n",
    "    label[k_batch*32:(k_batch+1)*32]=target\n",
    "    k_batch+=1\n",
    "    if k_batch*32>=activ[0].shape[0]:\n",
    "        break "
   ]
  },
  {
   "cell_type": "code",
   "execution_count": 3,
   "id": "cb809bf4",
   "metadata": {},
   "outputs": [
    {
     "name": "stdout",
     "output_type": "stream",
     "text": [
      "Files already downloaded and verified\n",
      "Files already downloaded and verified\n"
     ]
    }
   ],
   "source": []
  },
  {
   "cell_type": "code",
   "execution_count": 8,
   "id": "598e5bd7",
   "metadata": {},
   "outputs": [
    {
     "name": "stderr",
     "output_type": "stream",
     "text": [
      "100%|██████████████████████████████████████| 1563/1563 [00:05<00:00, 277.37it/s]\n"
     ]
    }
   ],
   "source": []
  },
  {
   "cell_type": "code",
   "execution_count": 3,
   "id": "8651287a",
   "metadata": {},
   "outputs": [],
   "source": [
    "#from gdeep.data import DataLoaderFromArray -> Useless \n",
    "\n",
    "\n",
    "from foolbox import PyTorchModel\n",
    "from foolbox.attacks import L2FastGradientAttack\n",
    "atkFGM = L2FastGradientAttack()\n",
    "from gdeep.topactivation.spectral_analysisTorch import LaplacianOperator\n",
    "from gdeep.topactivation.svr import SVR\n",
    "\n",
    "import os \n",
    "\n",
    "def train_new_model(model,X,y,epochs=2,epochs_adv=[]):\n",
    "        \n",
    "    Ntest = 32*30\n",
    "    perm = torch.randperm(len(X))\n",
    "    batch_size=32\n",
    "\n",
    "\n",
    "    X_train = X[perm[Ntest:]]\n",
    "    y_train = y[perm[Ntest:]].type(torch.LongTensor)\n",
    "    X_val = X[perm[:Ntest]]\n",
    "    y_val = y[perm[:Ntest]].type(torch.LongTensor)\n",
    "\n",
    "\n",
    "    #model = nn.Sequential(nn.Flatten(), FFNet(arch,bias=False )).to(DEVICE)\n",
    "    optimizer = torch.optim.SGD(model.parameters(),lr=0.1)\n",
    "    #optimizer = torch.optim.Adam(model.parameters())\n",
    "    loss_fn = nn.CrossEntropyLoss()\n",
    "    \n",
    "    atkFGM = L2FastGradientAttack()\n",
    "    epsilons=[2.0]\n",
    "    \n",
    "  \n",
    "    n_batch = len(X_train)//batch_size\n",
    "    print(\"Number of batch per epoch : \",n_batch)\n",
    "\n",
    "\n",
    "    \n",
    "    for epoch in range(epochs):\n",
    "        correct_pred = 0\n",
    "        total_pred = 0\n",
    "        model.train()\n",
    "        for batch_idx in tqdm(range(n_batch)):\n",
    "            data = X_train[batch_idx*batch_size:(batch_idx+1)*batch_size].to(DEVICE)\n",
    "            \n",
    "            target = y_train[batch_idx*batch_size:(batch_idx+1)*batch_size].to(DEVICE)\n",
    "            \n",
    "            \n",
    "            \n",
    "            if epoch in epochs_adv:\n",
    "                fmodel = PyTorchModel(model, bounds=(0, 1), preprocessing=None)\n",
    "                _,clipped_atk,_ = atkFGM(fmodel, data.to(DEVICE), target.to(DEVICE),epsilons=epsilons)\n",
    "                data=clipped_atk[0]\n",
    "\n",
    "            \n",
    "            \n",
    "            optimizer.zero_grad()\n",
    "            output = model(data)\n",
    "            \n",
    "            loss = loss_fn(output, target)\n",
    "            \n",
    "            loss.backward()\n",
    "            optimizer.step()\n",
    "\n",
    "            correct_pred+=(output.argmax(dim=1)==target).sum().item()\n",
    "            total_pred += data.shape[0]\n",
    "        print(15*'-'+' ', 'Epoch : ', epoch, ' ' + 15*'-')\n",
    "        print('Train Accuracy : ',correct_pred/total_pred*100, ' %')\n",
    "        model.eval()\n",
    "        correct_pred = 0\n",
    "        total_pred = 0\n",
    "        for batch_idx in range(len(X_val)//batch_size):\n",
    "            data = X_val[batch_idx*batch_size:(batch_idx+1)*batch_size].to(DEVICE)\n",
    "            target = y_val[batch_idx*batch_size:(batch_idx+1)*batch_size].to(DEVICE)\n",
    "\n",
    "            output = model(data)\n",
    "\n",
    "            correct_pred+=(output.argmax(dim=1)==target).sum().item()\n",
    "            total_pred += data.shape[0]\n",
    "\n",
    "        print('Test Accuracy : ',correct_pred/total_pred*100, ' %') \n",
    "    return model"
   ]
  },
  {
   "cell_type": "code",
   "execution_count": 7,
   "id": "2e38a968",
   "metadata": {},
   "outputs": [],
   "source": [
    "import torch.nn as nn\n",
    "class CNN(nn.Module):\n",
    "    def __init__(self):\n",
    "        super(CNN, self).__init__()        \n",
    "        self.conv1 = nn.Sequential(         \n",
    "            nn.Conv2d(\n",
    "                in_channels=1,              \n",
    "                out_channels=16,            \n",
    "                kernel_size=3,              \n",
    "                stride=1,                   \n",
    "                padding=1,bias=False                  \n",
    "            ),                              \n",
    "            nn.ReLU(),                      \n",
    "            nn.MaxPool2d(kernel_size=2),    \n",
    "        )\n",
    "        self.conv2 = nn.Sequential(         \n",
    "            nn.Conv2d(16, 32, 3, 1, 1,bias=False),     \n",
    "            nn.ReLU(),                      \n",
    "            nn.MaxPool2d(2)               \n",
    "        )    \n",
    "        self.conv3 = nn.Sequential(         \n",
    "            nn.Conv2d(32, 16, 3, 1, 1,bias=False),     \n",
    "            nn.ReLU(),                                     \n",
    "        )   # fully connected layer, output 10 classes\n",
    "        self.out = nn.Linear(16 * 7 * 7, 10,bias=False)    \n",
    "        \n",
    "    def forward(self, x):\n",
    "        x = self.conv1(x)\n",
    "        x = self.conv2(x)\n",
    "        x = self.conv3(x)\n",
    "        # flatten the output of conv2 to (batch_size, 32 * 7 * 7)\n",
    "        x = x.view(x.size(0), -1)       \n",
    "        output = self.out(x)\n",
    "        return output "
   ]
  },
  {
   "cell_type": "code",
   "execution_count": 9,
   "id": "cb4f9035",
   "metadata": {},
   "outputs": [
    {
     "name": "stdout",
     "output_type": "stream",
     "text": [
      "Number of batch per epoch :  770\n"
     ]
    },
    {
     "name": "stderr",
     "output_type": "stream",
     "text": [
      "100%|████████████████████████████████████████| 770/770 [00:02<00:00, 310.91it/s]\n"
     ]
    },
    {
     "name": "stdout",
     "output_type": "stream",
     "text": [
      "---------------  Epoch :  0  ---------------\n",
      "Train Accuracy :  87.3051948051948  %\n",
      "Test Accuracy :  95.9375  %\n"
     ]
    },
    {
     "name": "stderr",
     "output_type": "stream",
     "text": [
      "100%|████████████████████████████████████████| 770/770 [00:02<00:00, 322.92it/s]\n"
     ]
    },
    {
     "name": "stdout",
     "output_type": "stream",
     "text": [
      "---------------  Epoch :  1  ---------------\n",
      "Train Accuracy :  97.23214285714286  %\n",
      "Test Accuracy :  96.35416666666666  %\n"
     ]
    },
    {
     "name": "stderr",
     "output_type": "stream",
     "text": [
      "100%|████████████████████████████████████████| 770/770 [00:02<00:00, 324.92it/s]"
     ]
    },
    {
     "name": "stdout",
     "output_type": "stream",
     "text": [
      "---------------  Epoch :  2  ---------------\n",
      "Train Accuracy :  97.99918831168831  %\n",
      "Test Accuracy :  97.60416666666667  %\n"
     ]
    },
    {
     "name": "stderr",
     "output_type": "stream",
     "text": [
      "\n"
     ]
    }
   ],
   "source": [
    "model = CNN()\n",
    "data = activ[0][:,:784].reshape(activ[0].shape[0],1,28,28)\n",
    "model = train_new_model(model.to(DEVICE),data,label,epochs=3)\n",
    "\n"
   ]
  },
  {
   "cell_type": "markdown",
   "id": "24b021b0",
   "metadata": {},
   "source": [
    "# Weights analysis"
   ]
  },
  {
   "cell_type": "code",
   "execution_count": 10,
   "id": "2880b8ff",
   "metadata": {},
   "outputs": [
    {
     "name": "stdout",
     "output_type": "stream",
     "text": [
      "torch.Size([16, 1, 3, 3])\n",
      "torch.Size([32, 16, 3, 3])\n",
      "torch.Size([16, 32, 3, 3])\n",
      "torch.Size([10, 784])\n"
     ]
    }
   ],
   "source": [
    "weights = []\n",
    "for x in model.parameters():\n",
    "    print(x.shape)\n",
    "    weights.append(x.detach())"
   ]
  },
  {
   "cell_type": "code",
   "execution_count": 8,
   "id": "98706482",
   "metadata": {},
   "outputs": [],
   "source": [
    "\n",
    "def star(k1,k2):\n",
    "    \"\"\" Compute the convolution of 2 filters k1 and k2 (7*7) output  \n",
    "    \"\"\"\n",
    "    return torch.nn.functional.conv2d(k1.reshape(1,3,3), k2.reshape(1,1,3,3), bias=None, stride=1, padding=2) "
   ]
  },
  {
   "cell_type": "code",
   "execution_count": 14,
   "id": "72fdcb4a",
   "metadata": {
    "scrolled": true
   },
   "outputs": [
    {
     "name": "stdout",
     "output_type": "stream",
     "text": [
      "tensor(0.6097)\n",
      "tensor(0.5950, device='cuda:0')\n"
     ]
    }
   ],
   "source": [
    "k1 = weights[0][0][0]\n",
    "k2 = weights[0][1][0]\n",
    "print(star(k1,k2).to('cpu').norm())\n",
    "print(k1.norm()*k2.norm())\n",
    "\n",
    "\n"
   ]
  },
  {
   "cell_type": "code",
   "execution_count": 12,
   "id": "b4178ec3",
   "metadata": {},
   "outputs": [
    {
     "name": "stderr",
     "output_type": "stream",
     "text": [
      "100%|████████████████████████████████████████████| 4/4 [00:00<00:00, 511.27it/s]\n",
      "100%|████████████████████████████████████████████| 4/4 [00:00<00:00, 674.71it/s]\n"
     ]
    }
   ],
   "source": [
    "svr = SVR(weights)\n",
    "cosvr = SVR(weights,method='cosvr')"
   ]
  },
  {
   "cell_type": "code",
   "execution_count": 16,
   "id": "e92119c5",
   "metadata": {},
   "outputs": [
    {
     "data": {
      "application/vnd.plotly.v1+json": {
       "config": {
        "plotlyServerURL": "https://plot.ly"
       },
       "data": [
        {
         "hoverinfo": "text",
         "hoveron": "fills",
         "hovertext": "tensor(0.7148)",
         "marker": {
          "color": "rgb(105, 105, 105)",
          "opacity": 1
         },
         "showlegend": false,
         "text": "tensor(0.7148)",
         "type": "scatter",
         "x": [
          0,
          1
         ],
         "y": [
          1.9038424491882324,
          2.083261251449585
         ]
        },
        {
         "hoverinfo": "text",
         "hoveron": "fills",
         "hovertext": "tensor(0.4793)",
         "marker": {
          "color": "rgb(188, 188, 188)",
          "opacity": 1
         },
         "showlegend": false,
         "text": "tensor(0.4793)",
         "type": "scatter",
         "x": [
          0,
          1
         ],
         "y": [
          1.5754667520523071,
          2.083261251449585
         ]
        },
        {
         "hoverinfo": "text",
         "hoveron": "fills",
         "hovertext": "tensor(0.7029)",
         "marker": {
          "color": "rgb(109, 109, 109)",
          "opacity": 1
         },
         "showlegend": false,
         "text": "tensor(0.7029)",
         "type": "scatter",
         "x": [
          0,
          1
         ],
         "y": [
          1.9038424491882324,
          1.66448175907135
         ]
        },
        {
         "hoverinfo": "text",
         "hoveron": "fills",
         "hovertext": "tensor(0.4920)",
         "marker": {
          "color": "rgb(183, 183, 183)",
          "opacity": 1
         },
         "showlegend": false,
         "text": "tensor(0.4920)",
         "type": "scatter",
         "x": [
          0,
          1
         ],
         "y": [
          1.5754667520523071,
          1.66448175907135
         ]
        },
        {
         "hoverinfo": "text",
         "hoveron": "fills",
         "hovertext": "tensor(0.5731)",
         "marker": {
          "color": "rgb(155, 155, 155)",
          "opacity": 1
         },
         "showlegend": false,
         "text": "tensor(0.5731)",
         "type": "scatter",
         "x": [
          0,
          1
         ],
         "y": [
          1.9038424491882324,
          1.5077980756759644
         ]
        },
        {
         "hoverinfo": "text",
         "hoveron": "fills",
         "hovertext": "tensor(0.5736)",
         "marker": {
          "color": "rgb(154, 154, 154)",
          "opacity": 1
         },
         "showlegend": false,
         "text": "tensor(0.5736)",
         "type": "scatter",
         "x": [
          0,
          1
         ],
         "y": [
          1.5754667520523071,
          1.5077980756759644
         ]
        },
        {
         "hoverinfo": "text",
         "hoveron": "fills",
         "hovertext": "tensor(0.5188)",
         "marker": {
          "color": "rgb(174, 174, 174)",
          "opacity": 1
         },
         "showlegend": false,
         "text": "tensor(0.5188)",
         "type": "scatter",
         "x": [
          0,
          1
         ],
         "y": [
          1.9038424491882324,
          1.2236708402633667
         ]
        },
        {
         "hoverinfo": "text",
         "hoveron": "fills",
         "hovertext": "tensor(0.4674)",
         "marker": {
          "color": "rgb(192, 192, 192)",
          "opacity": 1
         },
         "showlegend": false,
         "text": "tensor(0.4674)",
         "type": "scatter",
         "x": [
          0,
          1
         ],
         "y": [
          1.5754667520523071,
          1.2236708402633667
         ]
        },
        {
         "hoverinfo": "text",
         "hoveron": "fills",
         "hovertext": "tensor(0.4936)",
         "marker": {
          "color": "rgb(183, 183, 183)",
          "opacity": 1
         },
         "showlegend": false,
         "text": "tensor(0.4936)",
         "type": "scatter",
         "x": [
          0,
          1
         ],
         "y": [
          1.9038424491882324,
          1.0875657796859741
         ]
        },
        {
         "hoverinfo": "text",
         "hoveron": "fills",
         "hovertext": "tensor(0.5198)",
         "marker": {
          "color": "rgb(173, 173, 173)",
          "opacity": 1
         },
         "showlegend": false,
         "text": "tensor(0.5198)",
         "type": "scatter",
         "x": [
          0,
          1
         ],
         "y": [
          1.5754667520523071,
          1.0875657796859741
         ]
        },
        {
         "hoverinfo": "text",
         "hoveron": "fills",
         "hovertext": "tensor(0.3895)",
         "marker": {
          "color": "rgb(219, 219, 219)",
          "opacity": 1
         },
         "showlegend": false,
         "text": "tensor(0.3895)",
         "type": "scatter",
         "x": [
          0,
          1
         ],
         "y": [
          0.6308842301368713,
          0.9654330611228943
         ]
        },
        {
         "hoverinfo": "text",
         "hoveron": "fills",
         "hovertext": "tensor(0.3886)",
         "marker": {
          "color": "rgb(220, 220, 220)",
          "opacity": 1
         },
         "showlegend": false,
         "text": "tensor(0.3886)",
         "type": "scatter",
         "x": [
          0,
          1
         ],
         "y": [
          1.9038424491882324,
          0.8610809445381165
         ]
        },
        {
         "hoverinfo": "text",
         "hoveron": "fills",
         "hovertext": "tensor(0.3873)",
         "marker": {
          "color": "rgb(220, 220, 220)",
          "opacity": 1
         },
         "showlegend": false,
         "text": "tensor(0.3873)",
         "type": "scatter",
         "x": [
          0,
          1
         ],
         "y": [
          1.9038424491882324,
          0.6975566148757935
         ]
        },
        {
         "hoverinfo": "text",
         "hoveron": "fills",
         "hovertext": "tensor(0.4191)",
         "marker": {
          "color": "rgb(209, 209, 209)",
          "opacity": 1
         },
         "showlegend": false,
         "text": "tensor(0.4191)",
         "type": "scatter",
         "x": [
          0,
          1
         ],
         "y": [
          0.690639078617096,
          0.5428699254989624
         ]
        },
        {
         "hoverinfo": "text",
         "hoveron": "fills",
         "hovertext": "tensor(0.3778)",
         "marker": {
          "color": "rgb(223, 223, 223)",
          "opacity": 1
         },
         "showlegend": false,
         "text": "tensor(0.3778)",
         "type": "scatter",
         "x": [
          0,
          1
         ],
         "y": [
          0.5904192328453064,
          0.46149682998657227
         ]
        },
        {
         "hoverinfo": "text",
         "hoveron": "fills",
         "hovertext": "tensor(0.4038)",
         "marker": {
          "color": "rgb(168, 168, 168)",
          "opacity": 1
         },
         "showlegend": false,
         "text": "tensor(0.4038)",
         "type": "scatter",
         "x": [
          1,
          2
         ],
         "y": [
          2.083261251449585,
          2.0261247158050537
         ]
        },
        {
         "hoverinfo": "text",
         "hoveron": "fills",
         "hovertext": "tensor(0.4582)",
         "marker": {
          "color": "rgb(145, 145, 145)",
          "opacity": 1
         },
         "showlegend": false,
         "text": "tensor(0.4582)",
         "type": "scatter",
         "x": [
          1,
          2
         ],
         "y": [
          1.66448175907135,
          2.0261247158050537
         ]
        },
        {
         "hoverinfo": "text",
         "hoveron": "fills",
         "hovertext": "tensor(0.3149)",
         "marker": {
          "color": "rgb(204, 204, 204)",
          "opacity": 1
         },
         "showlegend": false,
         "text": "tensor(0.3149)",
         "type": "scatter",
         "x": [
          1,
          2
         ],
         "y": [
          1.5077980756759644,
          2.0261247158050537
         ]
        },
        {
         "hoverinfo": "text",
         "hoveron": "fills",
         "hovertext": "tensor(0.3767)",
         "marker": {
          "color": "rgb(179, 179, 179)",
          "opacity": 1
         },
         "showlegend": false,
         "text": "tensor(0.3767)",
         "type": "scatter",
         "x": [
          1,
          2
         ],
         "y": [
          1.0875657796859741,
          2.0261247158050537
         ]
        },
        {
         "hoverinfo": "text",
         "hoveron": "fills",
         "hovertext": "tensor(0.3575)",
         "marker": {
          "color": "rgb(187, 187, 187)",
          "opacity": 1
         },
         "showlegend": false,
         "text": "tensor(0.3575)",
         "type": "scatter",
         "x": [
          1,
          2
         ],
         "y": [
          0.9654330611228943,
          2.0261247158050537
         ]
        },
        {
         "hoverinfo": "text",
         "hoveron": "fills",
         "hovertext": "tensor(0.3513)",
         "marker": {
          "color": "rgb(189, 189, 189)",
          "opacity": 1
         },
         "showlegend": false,
         "text": "tensor(0.3513)",
         "type": "scatter",
         "x": [
          1,
          2
         ],
         "y": [
          2.083261251449585,
          1.9037014245986938
         ]
        },
        {
         "hoverinfo": "text",
         "hoveron": "fills",
         "hovertext": "tensor(0.2872)",
         "marker": {
          "color": "rgb(215, 215, 215)",
          "opacity": 1
         },
         "showlegend": false,
         "text": "tensor(0.2872)",
         "type": "scatter",
         "x": [
          1,
          2
         ],
         "y": [
          1.66448175907135,
          1.9037014245986938
         ]
        },
        {
         "hoverinfo": "text",
         "hoveron": "fills",
         "hovertext": "tensor(0.3186)",
         "marker": {
          "color": "rgb(203, 203, 203)",
          "opacity": 1
         },
         "showlegend": false,
         "text": "tensor(0.3186)",
         "type": "scatter",
         "x": [
          1,
          2
         ],
         "y": [
          1.5077980756759644,
          1.9037014245986938
         ]
        },
        {
         "hoverinfo": "text",
         "hoveron": "fills",
         "hovertext": "tensor(0.3677)",
         "marker": {
          "color": "rgb(182, 182, 182)",
          "opacity": 1
         },
         "showlegend": false,
         "text": "tensor(0.3677)",
         "type": "scatter",
         "x": [
          1,
          2
         ],
         "y": [
          1.0875657796859741,
          1.9037014245986938
         ]
        },
        {
         "hoverinfo": "text",
         "hoveron": "fills",
         "hovertext": "tensor(0.4657)",
         "marker": {
          "color": "rgb(142, 142, 142)",
          "opacity": 1
         },
         "showlegend": false,
         "text": "tensor(0.4657)",
         "type": "scatter",
         "x": [
          1,
          2
         ],
         "y": [
          0.9654330611228943,
          1.9037014245986938
         ]
        },
        {
         "hoverinfo": "text",
         "hoveron": "fills",
         "hovertext": "tensor(0.5576)",
         "marker": {
          "color": "rgb(105, 105, 105)",
          "opacity": 1
         },
         "showlegend": false,
         "text": "tensor(0.5576)",
         "type": "scatter",
         "x": [
          1,
          2
         ],
         "y": [
          2.083261251449585,
          1.7658140659332275
         ]
        },
        {
         "hoverinfo": "text",
         "hoveron": "fills",
         "hovertext": "tensor(0.4444)",
         "marker": {
          "color": "rgb(151, 151, 151)",
          "opacity": 1
         },
         "showlegend": false,
         "text": "tensor(0.4444)",
         "type": "scatter",
         "x": [
          1,
          2
         ],
         "y": [
          1.66448175907135,
          1.7658140659332275
         ]
        },
        {
         "hoverinfo": "text",
         "hoveron": "fills",
         "hovertext": "tensor(0.3012)",
         "marker": {
          "color": "rgb(210, 210, 210)",
          "opacity": 1
         },
         "showlegend": false,
         "text": "tensor(0.3012)",
         "type": "scatter",
         "x": [
          1,
          2
         ],
         "y": [
          1.5077980756759644,
          1.7658140659332275
         ]
        },
        {
         "hoverinfo": "text",
         "hoveron": "fills",
         "hovertext": "tensor(0.4280)",
         "marker": {
          "color": "rgb(158, 158, 158)",
          "opacity": 1
         },
         "showlegend": false,
         "text": "tensor(0.4280)",
         "type": "scatter",
         "x": [
          1,
          2
         ],
         "y": [
          2.083261251449585,
          1.547328233718872
         ]
        },
        {
         "hoverinfo": "text",
         "hoveron": "fills",
         "hovertext": "tensor(0.3573)",
         "marker": {
          "color": "rgb(187, 187, 187)",
          "opacity": 1
         },
         "showlegend": false,
         "text": "tensor(0.3573)",
         "type": "scatter",
         "x": [
          1,
          2
         ],
         "y": [
          1.66448175907135,
          1.547328233718872
         ]
        },
        {
         "hoverinfo": "text",
         "hoveron": "fills",
         "hovertext": "tensor(0.4574)",
         "marker": {
          "color": "rgb(146, 146, 146)",
          "opacity": 1
         },
         "showlegend": false,
         "text": "tensor(0.4574)",
         "type": "scatter",
         "x": [
          1,
          2
         ],
         "y": [
          0.9654330611228943,
          1.547328233718872
         ]
        },
        {
         "hoverinfo": "text",
         "hoveron": "fills",
         "hovertext": "tensor(0.3331)",
         "marker": {
          "color": "rgb(197, 197, 197)",
          "opacity": 1
         },
         "showlegend": false,
         "text": "tensor(0.3331)",
         "type": "scatter",
         "x": [
          1,
          2
         ],
         "y": [
          2.083261251449585,
          1.4330644607543945
         ]
        },
        {
         "hoverinfo": "text",
         "hoveron": "fills",
         "hovertext": "tensor(0.2930)",
         "marker": {
          "color": "rgb(213, 213, 213)",
          "opacity": 1
         },
         "showlegend": false,
         "text": "tensor(0.2930)",
         "type": "scatter",
         "x": [
          1,
          2
         ],
         "y": [
          1.5077980756759644,
          1.4330644607543945
         ]
        },
        {
         "hoverinfo": "text",
         "hoveron": "fills",
         "hovertext": "tensor(0.3576)",
         "marker": {
          "color": "rgb(187, 187, 187)",
          "opacity": 1
         },
         "showlegend": false,
         "text": "tensor(0.3576)",
         "type": "scatter",
         "x": [
          1,
          2
         ],
         "y": [
          1.0875657796859741,
          1.4330644607543945
         ]
        },
        {
         "hoverinfo": "text",
         "hoveron": "fills",
         "hovertext": "tensor(0.4238)",
         "marker": {
          "color": "rgb(159, 159, 159)",
          "opacity": 1
         },
         "showlegend": false,
         "text": "tensor(0.4238)",
         "type": "scatter",
         "x": [
          1,
          2
         ],
         "y": [
          0.9654330611228943,
          1.4330644607543945
         ]
        },
        {
         "hoverinfo": "text",
         "hoveron": "fills",
         "hovertext": "tensor(0.4574)",
         "marker": {
          "color": "rgb(146, 146, 146)",
          "opacity": 1
         },
         "showlegend": false,
         "text": "tensor(0.4574)",
         "type": "scatter",
         "x": [
          1,
          2
         ],
         "y": [
          2.083261251449585,
          1.3129792213439941
         ]
        },
        {
         "hoverinfo": "text",
         "hoveron": "fills",
         "hovertext": "tensor(0.2955)",
         "marker": {
          "color": "rgb(212, 212, 212)",
          "opacity": 1
         },
         "showlegend": false,
         "text": "tensor(0.2955)",
         "type": "scatter",
         "x": [
          1,
          2
         ],
         "y": [
          1.66448175907135,
          1.3129792213439941
         ]
        },
        {
         "hoverinfo": "text",
         "hoveron": "fills",
         "hovertext": "tensor(0.2974)",
         "marker": {
          "color": "rgb(211, 211, 211)",
          "opacity": 1
         },
         "showlegend": false,
         "text": "tensor(0.2974)",
         "type": "scatter",
         "x": [
          1,
          2
         ],
         "y": [
          1.5077980756759644,
          1.3129792213439941
         ]
        },
        {
         "hoverinfo": "text",
         "hoveron": "fills",
         "hovertext": "tensor(0.3532)",
         "marker": {
          "color": "rgb(188, 188, 188)",
          "opacity": 1
         },
         "showlegend": false,
         "text": "tensor(0.3532)",
         "type": "scatter",
         "x": [
          1,
          2
         ],
         "y": [
          1.0875657796859741,
          1.3129792213439941
         ]
        },
        {
         "hoverinfo": "text",
         "hoveron": "fills",
         "hovertext": "tensor(0.2984)",
         "marker": {
          "color": "rgb(211, 211, 211)",
          "opacity": 1
         },
         "showlegend": false,
         "text": "tensor(0.2984)",
         "type": "scatter",
         "x": [
          1,
          2
         ],
         "y": [
          0.9654330611228943,
          1.3129792213439941
         ]
        },
        {
         "hoverinfo": "text",
         "hoveron": "fills",
         "hovertext": "tensor(0.5152)",
         "marker": {
          "color": "rgb(122, 122, 122)",
          "opacity": 1
         },
         "showlegend": false,
         "text": "tensor(0.5152)",
         "type": "scatter",
         "x": [
          1,
          2
         ],
         "y": [
          2.083261251449585,
          1.1807026863098145
         ]
        },
        {
         "hoverinfo": "text",
         "hoveron": "fills",
         "hovertext": "tensor(0.3007)",
         "marker": {
          "color": "rgb(210, 210, 210)",
          "opacity": 1
         },
         "showlegend": false,
         "text": "tensor(0.3007)",
         "type": "scatter",
         "x": [
          1,
          2
         ],
         "y": [
          1.66448175907135,
          1.1807026863098145
         ]
        },
        {
         "hoverinfo": "text",
         "hoveron": "fills",
         "hovertext": "tensor(0.2927)",
         "marker": {
          "color": "rgb(213, 213, 213)",
          "opacity": 1
         },
         "showlegend": false,
         "text": "tensor(0.2927)",
         "type": "scatter",
         "x": [
          1,
          2
         ],
         "y": [
          1.5077980756759644,
          1.1807026863098145
         ]
        },
        {
         "hoverinfo": "text",
         "hoveron": "fills",
         "hovertext": "tensor(0.3148)",
         "marker": {
          "color": "rgb(204, 204, 204)",
          "opacity": 1
         },
         "showlegend": false,
         "text": "tensor(0.3148)",
         "type": "scatter",
         "x": [
          1,
          2
         ],
         "y": [
          1.0875657796859741,
          1.1807026863098145
         ]
        },
        {
         "hoverinfo": "text",
         "hoveron": "fills",
         "hovertext": "tensor(0.3605)",
         "marker": {
          "color": "rgb(185, 185, 185)",
          "opacity": 1
         },
         "showlegend": false,
         "text": "tensor(0.3605)",
         "type": "scatter",
         "x": [
          1,
          2
         ],
         "y": [
          2.083261251449585,
          0.9820714592933655
         ]
        },
        {
         "hoverinfo": "text",
         "hoveron": "fills",
         "hovertext": "tensor(0.2854)",
         "marker": {
          "color": "rgb(216, 216, 216)",
          "opacity": 1
         },
         "showlegend": false,
         "text": "tensor(0.2854)",
         "type": "scatter",
         "x": [
          1,
          2
         ],
         "y": [
          1.66448175907135,
          0.9820714592933655
         ]
        },
        {
         "hoverinfo": "text",
         "hoveron": "fills",
         "hovertext": "tensor(0.2674)",
         "marker": {
          "color": "rgb(224, 224, 224)",
          "opacity": 1
         },
         "showlegend": false,
         "text": "tensor(0.2674)",
         "type": "scatter",
         "x": [
          1,
          2
         ],
         "y": [
          1.5077980756759644,
          0.9820714592933655
         ]
        },
        {
         "hoverinfo": "text",
         "hoveron": "fills",
         "hovertext": "tensor(0.4127)",
         "marker": {
          "color": "rgb(164, 164, 164)",
          "opacity": 1
         },
         "showlegend": false,
         "text": "tensor(0.4127)",
         "type": "scatter",
         "x": [
          1,
          2
         ],
         "y": [
          1.0875657796859741,
          0.9820714592933655
         ]
        },
        {
         "hoverinfo": "text",
         "hoveron": "fills",
         "hovertext": "tensor(0.2756)",
         "marker": {
          "color": "rgb(220, 220, 220)",
          "opacity": 1
         },
         "showlegend": false,
         "text": "tensor(0.2756)",
         "type": "scatter",
         "x": [
          1,
          2
         ],
         "y": [
          0.9654330611228943,
          0.9820714592933655
         ]
        },
        {
         "hoverinfo": "text",
         "hoveron": "fills",
         "hovertext": "tensor(0.3743)",
         "marker": {
          "color": "rgb(180, 180, 180)",
          "opacity": 1
         },
         "showlegend": false,
         "text": "tensor(0.3743)",
         "type": "scatter",
         "x": [
          1,
          2
         ],
         "y": [
          2.083261251449585,
          0.943584680557251
         ]
        },
        {
         "hoverinfo": "text",
         "hoveron": "fills",
         "hovertext": "tensor(0.3313)",
         "marker": {
          "color": "rgb(197, 197, 197)",
          "opacity": 1
         },
         "showlegend": false,
         "text": "tensor(0.3313)",
         "type": "scatter",
         "x": [
          1,
          2
         ],
         "y": [
          1.66448175907135,
          0.943584680557251
         ]
        },
        {
         "hoverinfo": "text",
         "hoveron": "fills",
         "hovertext": "tensor(0.3956)",
         "marker": {
          "color": "rgb(171, 171, 171)",
          "opacity": 1
         },
         "showlegend": false,
         "text": "tensor(0.3956)",
         "type": "scatter",
         "x": [
          1,
          2
         ],
         "y": [
          1.0875657796859741,
          0.943584680557251
         ]
        },
        {
         "hoverinfo": "text",
         "hoveron": "fills",
         "hovertext": "tensor(0.3172)",
         "marker": {
          "color": "rgb(203, 203, 203)",
          "opacity": 1
         },
         "showlegend": false,
         "text": "tensor(0.3172)",
         "type": "scatter",
         "x": [
          1,
          2
         ],
         "y": [
          2.083261251449585,
          0.8872827291488647
         ]
        },
        {
         "hoverinfo": "text",
         "hoveron": "fills",
         "hovertext": "tensor(0.3733)",
         "marker": {
          "color": "rgb(180, 180, 180)",
          "opacity": 1
         },
         "showlegend": false,
         "text": "tensor(0.3733)",
         "type": "scatter",
         "x": [
          1,
          2
         ],
         "y": [
          1.66448175907135,
          0.8872827291488647
         ]
        },
        {
         "hoverinfo": "text",
         "hoveron": "fills",
         "hovertext": "tensor(0.2974)",
         "marker": {
          "color": "rgb(211, 211, 211)",
          "opacity": 1
         },
         "showlegend": false,
         "text": "tensor(0.2974)",
         "type": "scatter",
         "x": [
          1,
          2
         ],
         "y": [
          1.5077980756759644,
          0.8872827291488647
         ]
        },
        {
         "hoverinfo": "text",
         "hoveron": "fills",
         "hovertext": "tensor(0.2669)",
         "marker": {
          "color": "rgb(224, 224, 224)",
          "opacity": 1
         },
         "showlegend": false,
         "text": "tensor(0.2669)",
         "type": "scatter",
         "x": [
          1,
          2
         ],
         "y": [
          1.0875657796859741,
          0.8872827291488647
         ]
        },
        {
         "hoverinfo": "text",
         "hoveron": "fills",
         "hovertext": "tensor(0.3370)",
         "marker": {
          "color": "rgb(195, 195, 195)",
          "opacity": 1
         },
         "showlegend": false,
         "text": "tensor(0.3370)",
         "type": "scatter",
         "x": [
          1,
          2
         ],
         "y": [
          2.083261251449585,
          0.8425131440162659
         ]
        },
        {
         "hoverinfo": "text",
         "hoveron": "fills",
         "hovertext": "tensor(0.2907)",
         "marker": {
          "color": "rgb(214, 214, 214)",
          "opacity": 1
         },
         "showlegend": false,
         "text": "tensor(0.2907)",
         "type": "scatter",
         "x": [
          1,
          2
         ],
         "y": [
          1.5077980756759644,
          0.8425131440162659
         ]
        },
        {
         "hoverinfo": "text",
         "hoveron": "fills",
         "hovertext": "tensor(0.2661)",
         "marker": {
          "color": "rgb(224, 224, 224)",
          "opacity": 1
         },
         "showlegend": false,
         "text": "tensor(0.2661)",
         "type": "scatter",
         "x": [
          1,
          2
         ],
         "y": [
          1.66448175907135,
          0.7602047324180603
         ]
        },
        {
         "hoverinfo": "text",
         "hoveron": "fills",
         "hovertext": "tensor(0.3490)",
         "marker": {
          "color": "rgb(190, 190, 190)",
          "opacity": 1
         },
         "showlegend": false,
         "text": "tensor(0.3490)",
         "type": "scatter",
         "x": [
          1,
          2
         ],
         "y": [
          1.5077980756759644,
          0.7602047324180603
         ]
        },
        {
         "hoverinfo": "text",
         "hoveron": "fills",
         "hovertext": "tensor(0.3360)",
         "marker": {
          "color": "rgb(195, 195, 195)",
          "opacity": 1
         },
         "showlegend": false,
         "text": "tensor(0.3360)",
         "type": "scatter",
         "x": [
          1,
          2
         ],
         "y": [
          1.66448175907135,
          0.7147452235221863
         ]
        },
        {
         "hoverinfo": "text",
         "hoveron": "fills",
         "hovertext": "tensor(0.3112)",
         "marker": {
          "color": "rgb(206, 206, 206)",
          "opacity": 1
         },
         "showlegend": false,
         "text": "tensor(0.3112)",
         "type": "scatter",
         "x": [
          1,
          2
         ],
         "y": [
          1.0875657796859741,
          0.657653272151947
         ]
        },
        {
         "hoverinfo": "text",
         "hoveron": "fills",
         "hovertext": "tensor(0.2921)",
         "marker": {
          "color": "rgb(213, 213, 213)",
          "opacity": 1
         },
         "showlegend": false,
         "text": "tensor(0.2921)",
         "type": "scatter",
         "x": [
          1,
          2
         ],
         "y": [
          0.8311644196510315,
          0.657653272151947
         ]
        },
        {
         "hoverinfo": "text",
         "hoveron": "fills",
         "hovertext": "tensor(0.2749)",
         "marker": {
          "color": "rgb(220, 220, 220)",
          "opacity": 1
         },
         "showlegend": false,
         "text": "tensor(0.2749)",
         "type": "scatter",
         "x": [
          1,
          2
         ],
         "y": [
          0.5428699254989624,
          0.5964584946632385
         ]
        },
        {
         "hoverinfo": "text",
         "hoveron": "fills",
         "hovertext": "tensor(0.3082)",
         "marker": {
          "color": "rgb(207, 207, 207)",
          "opacity": 1
         },
         "showlegend": false,
         "text": "tensor(0.3082)",
         "type": "scatter",
         "x": [
          1,
          2
         ],
         "y": [
          1.5077980756759644,
          0.5939690470695496
         ]
        },
        {
         "hoverinfo": "text",
         "hoveron": "fills",
         "hovertext": "tensor(0.4138)",
         "marker": {
          "color": "rgb(179, 179, 179)",
          "opacity": 1
         },
         "showlegend": false,
         "text": "tensor(0.4138)",
         "type": "scatter",
         "x": [
          2,
          3
         ],
         "y": [
          2.0261247158050537,
          2.6349756717681885
         ]
        },
        {
         "hoverinfo": "text",
         "hoveron": "fills",
         "hovertext": "tensor(0.3993)",
         "marker": {
          "color": "rgb(196, 196, 196)",
          "opacity": 1
         },
         "showlegend": false,
         "text": "tensor(0.3993)",
         "type": "scatter",
         "x": [
          2,
          3
         ],
         "y": [
          1.9037014245986938,
          2.6349756717681885
         ]
        },
        {
         "hoverinfo": "text",
         "hoveron": "fills",
         "hovertext": "tensor(0.4263)",
         "marker": {
          "color": "rgb(165, 165, 165)",
          "opacity": 1
         },
         "showlegend": false,
         "text": "tensor(0.4263)",
         "type": "scatter",
         "x": [
          2,
          3
         ],
         "y": [
          2.0261247158050537,
          2.3941805362701416
         ]
        },
        {
         "hoverinfo": "text",
         "hoveron": "fills",
         "hovertext": "tensor(0.4309)",
         "marker": {
          "color": "rgb(159, 159, 159)",
          "opacity": 1
         },
         "showlegend": false,
         "text": "tensor(0.4309)",
         "type": "scatter",
         "x": [
          2,
          3
         ],
         "y": [
          1.9037014245986938,
          2.3941805362701416
         ]
        },
        {
         "hoverinfo": "text",
         "hoveron": "fills",
         "hovertext": "tensor(0.4781)",
         "marker": {
          "color": "rgb(105, 105, 105)",
          "opacity": 1
         },
         "showlegend": false,
         "text": "tensor(0.4781)",
         "type": "scatter",
         "x": [
          2,
          3
         ],
         "y": [
          2.0261247158050537,
          2.2688651084899902
         ]
        },
        {
         "hoverinfo": "text",
         "hoveron": "fills",
         "hovertext": "tensor(0.4106)",
         "marker": {
          "color": "rgb(183, 183, 183)",
          "opacity": 1
         },
         "showlegend": false,
         "text": "tensor(0.4106)",
         "type": "scatter",
         "x": [
          2,
          3
         ],
         "y": [
          1.4330644607543945,
          2.197035312652588
         ]
        },
        {
         "hoverinfo": "text",
         "hoveron": "fills",
         "hovertext": "tensor(0.4229)",
         "marker": {
          "color": "rgb(169, 169, 169)",
          "opacity": 1
         },
         "showlegend": false,
         "text": "tensor(0.4229)",
         "type": "scatter",
         "x": [
          2,
          3
         ],
         "y": [
          1.9037014245986938,
          2.07399845123291
         ]
        },
        {
         "hoverinfo": "text",
         "hoveron": "fills",
         "hovertext": "tensor(0.4133)",
         "marker": {
          "color": "rgb(180, 180, 180)",
          "opacity": 1
         },
         "showlegend": false,
         "text": "tensor(0.4133)",
         "type": "scatter",
         "x": [
          2,
          3
         ],
         "y": [
          1.7658140659332275,
          2.07399845123291
         ]
        },
        {
         "hoverinfo": "text",
         "hoveron": "fills",
         "hovertext": "tensor(0.4144)",
         "marker": {
          "color": "rgb(179, 179, 179)",
          "opacity": 1
         },
         "showlegend": false,
         "text": "tensor(0.4144)",
         "type": "scatter",
         "x": [
          2,
          3
         ],
         "y": [
          1.9037014245986938,
          1.8362658023834229
         ]
        },
        {
         "hoverinfo": "text",
         "hoveron": "fills",
         "hovertext": "tensor(0.3790)",
         "marker": {
          "color": "rgb(220, 220, 220)",
          "opacity": 1
         },
         "showlegend": false,
         "text": "tensor(0.3790)",
         "type": "scatter",
         "x": [
          2,
          3
         ],
         "y": [
          2.0261247158050537,
          1.7417162656784058
         ]
        },
        {
         "hoverinfo": "text",
         "hoveron": "fills",
         "hovertext": "tensor(0.4062)",
         "marker": {
          "color": "rgb(188, 188, 188)",
          "opacity": 1
         },
         "showlegend": false,
         "text": "tensor(0.4062)",
         "type": "scatter",
         "x": [
          2,
          3
         ],
         "y": [
          1.9037014245986938,
          1.7417162656784058
         ]
        },
        {
         "hoverinfo": "text",
         "hoveron": "fills",
         "hovertext": "tensor(0.3937)",
         "marker": {
          "color": "rgb(203, 203, 203)",
          "opacity": 1
         },
         "showlegend": false,
         "text": "tensor(0.3937)",
         "type": "scatter",
         "x": [
          2,
          3
         ],
         "y": [
          1.547328233718872,
          1.5474591255187988
         ]
        },
        {
         "hoverinfo": "text",
         "hoveron": "fills",
         "hovertext": "tensor(0.3914)",
         "marker": {
          "color": "rgb(205, 205, 205)",
          "opacity": 1
         },
         "showlegend": false,
         "text": "tensor(0.3914)",
         "type": "scatter",
         "x": [
          2,
          3
         ],
         "y": [
          2.0261247158050537,
          1.4517898559570312
         ]
        },
        {
         "marker": {
          "color": "red",
          "opacity": 1
         },
         "mode": "markers",
         "showlegend": false,
         "type": "scatter",
         "x": [
          0,
          0,
          0,
          0,
          0,
          0,
          0,
          0,
          0
         ],
         "y": [
          1.9038424491882324,
          1.5754667520523071,
          1.3093550205230713,
          1.1214829683303833,
          0.848307728767395,
          0.690639078617096,
          0.6308842301368713,
          0.5904192328453064,
          0.41326260566711426
         ]
        },
        {
         "marker": {
          "color": "red",
          "opacity": 1
         },
         "mode": "markers",
         "showlegend": false,
         "type": "scatter",
         "x": [
          1,
          1,
          1,
          1,
          1,
          1,
          1,
          1,
          1,
          1,
          1,
          1,
          1,
          1,
          1,
          1,
          1,
          1,
          1,
          1,
          1,
          1,
          1,
          1,
          1,
          1,
          1,
          1,
          1,
          1,
          1,
          1
         ],
         "y": [
          2.083261251449585,
          1.66448175907135,
          1.5077980756759644,
          1.2236708402633667,
          1.0875657796859741,
          0.9654330611228943,
          0.8610809445381165,
          0.8311644196510315,
          0.7483893632888794,
          0.7365373373031616,
          0.7177026271820068,
          0.6975566148757935,
          0.6807402968406677,
          0.6735601425170898,
          0.6655216217041016,
          0.6222131252288818,
          0.6132671236991882,
          0.604555070400238,
          0.57433021068573,
          0.5552079677581787,
          0.5428699254989624,
          0.5317686200141907,
          0.52020663022995,
          0.5090396404266357,
          0.4863244891166687,
          0.4631196856498718,
          0.46149682998657227,
          0.44622698426246643,
          0.42415204644203186,
          0.41272851824760437,
          0.36040282249450684,
          0.3429628610610962
         ]
        },
        {
         "marker": {
          "color": "red",
          "opacity": 1
         },
         "mode": "markers",
         "showlegend": false,
         "type": "scatter",
         "x": [
          2,
          2,
          2,
          2,
          2,
          2,
          2,
          2,
          2,
          2,
          2,
          2,
          2,
          2,
          2,
          2
         ],
         "y": [
          2.0261247158050537,
          1.9037014245986938,
          1.7658140659332275,
          1.547328233718872,
          1.4330644607543945,
          1.3129792213439941,
          1.1807026863098145,
          0.9820714592933655,
          0.943584680557251,
          0.8872827291488647,
          0.8425131440162659,
          0.7602047324180603,
          0.7147452235221863,
          0.657653272151947,
          0.5964584946632385,
          0.5939690470695496
         ]
        },
        {
         "marker": {
          "color": "blue",
          "opacity": 1
         },
         "mode": "markers",
         "showlegend": false,
         "type": "scatter",
         "x": [
          3,
          3,
          3,
          3,
          3,
          3,
          3,
          3,
          3,
          3
         ],
         "y": [
          2.6349756717681885,
          2.3941805362701416,
          2.2688651084899902,
          2.197035312652588,
          2.07399845123291,
          1.8362658023834229,
          1.7417162656784058,
          1.5474591255187988,
          1.4517898559570312,
          0.5937504768371582
         ]
        }
       ],
       "layout": {
        "legend": {
         "tracegroupgap": 0
        },
        "margin": {
         "t": 60
        },
        "template": {
         "data": {
          "bar": [
           {
            "error_x": {
             "color": "#2a3f5f"
            },
            "error_y": {
             "color": "#2a3f5f"
            },
            "marker": {
             "line": {
              "color": "#E5ECF6",
              "width": 0.5
             },
             "pattern": {
              "fillmode": "overlay",
              "size": 10,
              "solidity": 0.2
             }
            },
            "type": "bar"
           }
          ],
          "barpolar": [
           {
            "marker": {
             "line": {
              "color": "#E5ECF6",
              "width": 0.5
             },
             "pattern": {
              "fillmode": "overlay",
              "size": 10,
              "solidity": 0.2
             }
            },
            "type": "barpolar"
           }
          ],
          "carpet": [
           {
            "aaxis": {
             "endlinecolor": "#2a3f5f",
             "gridcolor": "white",
             "linecolor": "white",
             "minorgridcolor": "white",
             "startlinecolor": "#2a3f5f"
            },
            "baxis": {
             "endlinecolor": "#2a3f5f",
             "gridcolor": "white",
             "linecolor": "white",
             "minorgridcolor": "white",
             "startlinecolor": "#2a3f5f"
            },
            "type": "carpet"
           }
          ],
          "choropleth": [
           {
            "colorbar": {
             "outlinewidth": 0,
             "ticks": ""
            },
            "type": "choropleth"
           }
          ],
          "contour": [
           {
            "colorbar": {
             "outlinewidth": 0,
             "ticks": ""
            },
            "colorscale": [
             [
              0,
              "#0d0887"
             ],
             [
              0.1111111111111111,
              "#46039f"
             ],
             [
              0.2222222222222222,
              "#7201a8"
             ],
             [
              0.3333333333333333,
              "#9c179e"
             ],
             [
              0.4444444444444444,
              "#bd3786"
             ],
             [
              0.5555555555555556,
              "#d8576b"
             ],
             [
              0.6666666666666666,
              "#ed7953"
             ],
             [
              0.7777777777777778,
              "#fb9f3a"
             ],
             [
              0.8888888888888888,
              "#fdca26"
             ],
             [
              1,
              "#f0f921"
             ]
            ],
            "type": "contour"
           }
          ],
          "contourcarpet": [
           {
            "colorbar": {
             "outlinewidth": 0,
             "ticks": ""
            },
            "type": "contourcarpet"
           }
          ],
          "heatmap": [
           {
            "colorbar": {
             "outlinewidth": 0,
             "ticks": ""
            },
            "colorscale": [
             [
              0,
              "#0d0887"
             ],
             [
              0.1111111111111111,
              "#46039f"
             ],
             [
              0.2222222222222222,
              "#7201a8"
             ],
             [
              0.3333333333333333,
              "#9c179e"
             ],
             [
              0.4444444444444444,
              "#bd3786"
             ],
             [
              0.5555555555555556,
              "#d8576b"
             ],
             [
              0.6666666666666666,
              "#ed7953"
             ],
             [
              0.7777777777777778,
              "#fb9f3a"
             ],
             [
              0.8888888888888888,
              "#fdca26"
             ],
             [
              1,
              "#f0f921"
             ]
            ],
            "type": "heatmap"
           }
          ],
          "heatmapgl": [
           {
            "colorbar": {
             "outlinewidth": 0,
             "ticks": ""
            },
            "colorscale": [
             [
              0,
              "#0d0887"
             ],
             [
              0.1111111111111111,
              "#46039f"
             ],
             [
              0.2222222222222222,
              "#7201a8"
             ],
             [
              0.3333333333333333,
              "#9c179e"
             ],
             [
              0.4444444444444444,
              "#bd3786"
             ],
             [
              0.5555555555555556,
              "#d8576b"
             ],
             [
              0.6666666666666666,
              "#ed7953"
             ],
             [
              0.7777777777777778,
              "#fb9f3a"
             ],
             [
              0.8888888888888888,
              "#fdca26"
             ],
             [
              1,
              "#f0f921"
             ]
            ],
            "type": "heatmapgl"
           }
          ],
          "histogram": [
           {
            "marker": {
             "pattern": {
              "fillmode": "overlay",
              "size": 10,
              "solidity": 0.2
             }
            },
            "type": "histogram"
           }
          ],
          "histogram2d": [
           {
            "colorbar": {
             "outlinewidth": 0,
             "ticks": ""
            },
            "colorscale": [
             [
              0,
              "#0d0887"
             ],
             [
              0.1111111111111111,
              "#46039f"
             ],
             [
              0.2222222222222222,
              "#7201a8"
             ],
             [
              0.3333333333333333,
              "#9c179e"
             ],
             [
              0.4444444444444444,
              "#bd3786"
             ],
             [
              0.5555555555555556,
              "#d8576b"
             ],
             [
              0.6666666666666666,
              "#ed7953"
             ],
             [
              0.7777777777777778,
              "#fb9f3a"
             ],
             [
              0.8888888888888888,
              "#fdca26"
             ],
             [
              1,
              "#f0f921"
             ]
            ],
            "type": "histogram2d"
           }
          ],
          "histogram2dcontour": [
           {
            "colorbar": {
             "outlinewidth": 0,
             "ticks": ""
            },
            "colorscale": [
             [
              0,
              "#0d0887"
             ],
             [
              0.1111111111111111,
              "#46039f"
             ],
             [
              0.2222222222222222,
              "#7201a8"
             ],
             [
              0.3333333333333333,
              "#9c179e"
             ],
             [
              0.4444444444444444,
              "#bd3786"
             ],
             [
              0.5555555555555556,
              "#d8576b"
             ],
             [
              0.6666666666666666,
              "#ed7953"
             ],
             [
              0.7777777777777778,
              "#fb9f3a"
             ],
             [
              0.8888888888888888,
              "#fdca26"
             ],
             [
              1,
              "#f0f921"
             ]
            ],
            "type": "histogram2dcontour"
           }
          ],
          "mesh3d": [
           {
            "colorbar": {
             "outlinewidth": 0,
             "ticks": ""
            },
            "type": "mesh3d"
           }
          ],
          "parcoords": [
           {
            "line": {
             "colorbar": {
              "outlinewidth": 0,
              "ticks": ""
             }
            },
            "type": "parcoords"
           }
          ],
          "pie": [
           {
            "automargin": true,
            "type": "pie"
           }
          ],
          "scatter": [
           {
            "marker": {
             "colorbar": {
              "outlinewidth": 0,
              "ticks": ""
             }
            },
            "type": "scatter"
           }
          ],
          "scatter3d": [
           {
            "line": {
             "colorbar": {
              "outlinewidth": 0,
              "ticks": ""
             }
            },
            "marker": {
             "colorbar": {
              "outlinewidth": 0,
              "ticks": ""
             }
            },
            "type": "scatter3d"
           }
          ],
          "scattercarpet": [
           {
            "marker": {
             "colorbar": {
              "outlinewidth": 0,
              "ticks": ""
             }
            },
            "type": "scattercarpet"
           }
          ],
          "scattergeo": [
           {
            "marker": {
             "colorbar": {
              "outlinewidth": 0,
              "ticks": ""
             }
            },
            "type": "scattergeo"
           }
          ],
          "scattergl": [
           {
            "marker": {
             "colorbar": {
              "outlinewidth": 0,
              "ticks": ""
             }
            },
            "type": "scattergl"
           }
          ],
          "scattermapbox": [
           {
            "marker": {
             "colorbar": {
              "outlinewidth": 0,
              "ticks": ""
             }
            },
            "type": "scattermapbox"
           }
          ],
          "scatterpolar": [
           {
            "marker": {
             "colorbar": {
              "outlinewidth": 0,
              "ticks": ""
             }
            },
            "type": "scatterpolar"
           }
          ],
          "scatterpolargl": [
           {
            "marker": {
             "colorbar": {
              "outlinewidth": 0,
              "ticks": ""
             }
            },
            "type": "scatterpolargl"
           }
          ],
          "scatterternary": [
           {
            "marker": {
             "colorbar": {
              "outlinewidth": 0,
              "ticks": ""
             }
            },
            "type": "scatterternary"
           }
          ],
          "surface": [
           {
            "colorbar": {
             "outlinewidth": 0,
             "ticks": ""
            },
            "colorscale": [
             [
              0,
              "#0d0887"
             ],
             [
              0.1111111111111111,
              "#46039f"
             ],
             [
              0.2222222222222222,
              "#7201a8"
             ],
             [
              0.3333333333333333,
              "#9c179e"
             ],
             [
              0.4444444444444444,
              "#bd3786"
             ],
             [
              0.5555555555555556,
              "#d8576b"
             ],
             [
              0.6666666666666666,
              "#ed7953"
             ],
             [
              0.7777777777777778,
              "#fb9f3a"
             ],
             [
              0.8888888888888888,
              "#fdca26"
             ],
             [
              1,
              "#f0f921"
             ]
            ],
            "type": "surface"
           }
          ],
          "table": [
           {
            "cells": {
             "fill": {
              "color": "#EBF0F8"
             },
             "line": {
              "color": "white"
             }
            },
            "header": {
             "fill": {
              "color": "#C8D4E3"
             },
             "line": {
              "color": "white"
             }
            },
            "type": "table"
           }
          ]
         },
         "layout": {
          "annotationdefaults": {
           "arrowcolor": "#2a3f5f",
           "arrowhead": 0,
           "arrowwidth": 1
          },
          "autotypenumbers": "strict",
          "coloraxis": {
           "colorbar": {
            "outlinewidth": 0,
            "ticks": ""
           }
          },
          "colorscale": {
           "diverging": [
            [
             0,
             "#8e0152"
            ],
            [
             0.1,
             "#c51b7d"
            ],
            [
             0.2,
             "#de77ae"
            ],
            [
             0.3,
             "#f1b6da"
            ],
            [
             0.4,
             "#fde0ef"
            ],
            [
             0.5,
             "#f7f7f7"
            ],
            [
             0.6,
             "#e6f5d0"
            ],
            [
             0.7,
             "#b8e186"
            ],
            [
             0.8,
             "#7fbc41"
            ],
            [
             0.9,
             "#4d9221"
            ],
            [
             1,
             "#276419"
            ]
           ],
           "sequential": [
            [
             0,
             "#0d0887"
            ],
            [
             0.1111111111111111,
             "#46039f"
            ],
            [
             0.2222222222222222,
             "#7201a8"
            ],
            [
             0.3333333333333333,
             "#9c179e"
            ],
            [
             0.4444444444444444,
             "#bd3786"
            ],
            [
             0.5555555555555556,
             "#d8576b"
            ],
            [
             0.6666666666666666,
             "#ed7953"
            ],
            [
             0.7777777777777778,
             "#fb9f3a"
            ],
            [
             0.8888888888888888,
             "#fdca26"
            ],
            [
             1,
             "#f0f921"
            ]
           ],
           "sequentialminus": [
            [
             0,
             "#0d0887"
            ],
            [
             0.1111111111111111,
             "#46039f"
            ],
            [
             0.2222222222222222,
             "#7201a8"
            ],
            [
             0.3333333333333333,
             "#9c179e"
            ],
            [
             0.4444444444444444,
             "#bd3786"
            ],
            [
             0.5555555555555556,
             "#d8576b"
            ],
            [
             0.6666666666666666,
             "#ed7953"
            ],
            [
             0.7777777777777778,
             "#fb9f3a"
            ],
            [
             0.8888888888888888,
             "#fdca26"
            ],
            [
             1,
             "#f0f921"
            ]
           ]
          },
          "colorway": [
           "#636efa",
           "#EF553B",
           "#00cc96",
           "#ab63fa",
           "#FFA15A",
           "#19d3f3",
           "#FF6692",
           "#B6E880",
           "#FF97FF",
           "#FECB52"
          ],
          "font": {
           "color": "#2a3f5f"
          },
          "geo": {
           "bgcolor": "white",
           "lakecolor": "white",
           "landcolor": "#E5ECF6",
           "showlakes": true,
           "showland": true,
           "subunitcolor": "white"
          },
          "hoverlabel": {
           "align": "left"
          },
          "hovermode": "closest",
          "mapbox": {
           "style": "light"
          },
          "paper_bgcolor": "white",
          "plot_bgcolor": "#E5ECF6",
          "polar": {
           "angularaxis": {
            "gridcolor": "white",
            "linecolor": "white",
            "ticks": ""
           },
           "bgcolor": "#E5ECF6",
           "radialaxis": {
            "gridcolor": "white",
            "linecolor": "white",
            "ticks": ""
           }
          },
          "scene": {
           "xaxis": {
            "backgroundcolor": "#E5ECF6",
            "gridcolor": "white",
            "gridwidth": 2,
            "linecolor": "white",
            "showbackground": true,
            "ticks": "",
            "zerolinecolor": "white"
           },
           "yaxis": {
            "backgroundcolor": "#E5ECF6",
            "gridcolor": "white",
            "gridwidth": 2,
            "linecolor": "white",
            "showbackground": true,
            "ticks": "",
            "zerolinecolor": "white"
           },
           "zaxis": {
            "backgroundcolor": "#E5ECF6",
            "gridcolor": "white",
            "gridwidth": 2,
            "linecolor": "white",
            "showbackground": true,
            "ticks": "",
            "zerolinecolor": "white"
           }
          },
          "shapedefaults": {
           "line": {
            "color": "#2a3f5f"
           }
          },
          "ternary": {
           "aaxis": {
            "gridcolor": "white",
            "linecolor": "white",
            "ticks": ""
           },
           "baxis": {
            "gridcolor": "white",
            "linecolor": "white",
            "ticks": ""
           },
           "bgcolor": "#E5ECF6",
           "caxis": {
            "gridcolor": "white",
            "linecolor": "white",
            "ticks": ""
           }
          },
          "title": {
           "x": 0.05
          },
          "xaxis": {
           "automargin": true,
           "gridcolor": "white",
           "linecolor": "white",
           "ticks": "",
           "title": {
            "standoff": 15
           },
           "zerolinecolor": "white",
           "zerolinewidth": 2
          },
          "yaxis": {
           "automargin": true,
           "gridcolor": "white",
           "linecolor": "white",
           "ticks": "",
           "title": {
            "standoff": 15
           },
           "zerolinecolor": "white",
           "zerolinewidth": 2
          }
         }
        },
        "xaxis": {
         "anchor": "y",
         "domain": [
          0,
          1
         ],
         "title": {
          "text": "index"
         }
        },
        "yaxis": {
         "anchor": "x",
         "domain": [
          0,
          1
         ],
         "title": {
          "text": "value"
         }
        }
       }
      },
      "text/html": [
       "<div>                            <div id=\"fa5cc495-0ad5-434c-a7eb-fbd97117326c\" class=\"plotly-graph-div\" style=\"height:525px; width:100%;\"></div>            <script type=\"text/javascript\">                require([\"plotly\"], function(Plotly) {                    window.PLOTLYENV=window.PLOTLYENV || {};                                    if (document.getElementById(\"fa5cc495-0ad5-434c-a7eb-fbd97117326c\")) {                    Plotly.newPlot(                        \"fa5cc495-0ad5-434c-a7eb-fbd97117326c\",                        [{\"hoverinfo\":\"text\",\"hoveron\":\"fills\",\"hovertext\":\"tensor(0.7148)\",\"marker\":{\"color\":\"rgb(105, 105, 105)\",\"opacity\":1},\"showlegend\":false,\"text\":\"tensor(0.7148)\",\"x\":[0,1],\"y\":[1.9038424491882324,2.083261251449585],\"type\":\"scatter\"},{\"hoverinfo\":\"text\",\"hoveron\":\"fills\",\"hovertext\":\"tensor(0.4793)\",\"marker\":{\"color\":\"rgb(188, 188, 188)\",\"opacity\":1},\"showlegend\":false,\"text\":\"tensor(0.4793)\",\"x\":[0,1],\"y\":[1.5754667520523071,2.083261251449585],\"type\":\"scatter\"},{\"hoverinfo\":\"text\",\"hoveron\":\"fills\",\"hovertext\":\"tensor(0.7029)\",\"marker\":{\"color\":\"rgb(109, 109, 109)\",\"opacity\":1},\"showlegend\":false,\"text\":\"tensor(0.7029)\",\"x\":[0,1],\"y\":[1.9038424491882324,1.66448175907135],\"type\":\"scatter\"},{\"hoverinfo\":\"text\",\"hoveron\":\"fills\",\"hovertext\":\"tensor(0.4920)\",\"marker\":{\"color\":\"rgb(183, 183, 183)\",\"opacity\":1},\"showlegend\":false,\"text\":\"tensor(0.4920)\",\"x\":[0,1],\"y\":[1.5754667520523071,1.66448175907135],\"type\":\"scatter\"},{\"hoverinfo\":\"text\",\"hoveron\":\"fills\",\"hovertext\":\"tensor(0.5731)\",\"marker\":{\"color\":\"rgb(155, 155, 155)\",\"opacity\":1},\"showlegend\":false,\"text\":\"tensor(0.5731)\",\"x\":[0,1],\"y\":[1.9038424491882324,1.5077980756759644],\"type\":\"scatter\"},{\"hoverinfo\":\"text\",\"hoveron\":\"fills\",\"hovertext\":\"tensor(0.5736)\",\"marker\":{\"color\":\"rgb(154, 154, 154)\",\"opacity\":1},\"showlegend\":false,\"text\":\"tensor(0.5736)\",\"x\":[0,1],\"y\":[1.5754667520523071,1.5077980756759644],\"type\":\"scatter\"},{\"hoverinfo\":\"text\",\"hoveron\":\"fills\",\"hovertext\":\"tensor(0.5188)\",\"marker\":{\"color\":\"rgb(174, 174, 174)\",\"opacity\":1},\"showlegend\":false,\"text\":\"tensor(0.5188)\",\"x\":[0,1],\"y\":[1.9038424491882324,1.2236708402633667],\"type\":\"scatter\"},{\"hoverinfo\":\"text\",\"hoveron\":\"fills\",\"hovertext\":\"tensor(0.4674)\",\"marker\":{\"color\":\"rgb(192, 192, 192)\",\"opacity\":1},\"showlegend\":false,\"text\":\"tensor(0.4674)\",\"x\":[0,1],\"y\":[1.5754667520523071,1.2236708402633667],\"type\":\"scatter\"},{\"hoverinfo\":\"text\",\"hoveron\":\"fills\",\"hovertext\":\"tensor(0.4936)\",\"marker\":{\"color\":\"rgb(183, 183, 183)\",\"opacity\":1},\"showlegend\":false,\"text\":\"tensor(0.4936)\",\"x\":[0,1],\"y\":[1.9038424491882324,1.0875657796859741],\"type\":\"scatter\"},{\"hoverinfo\":\"text\",\"hoveron\":\"fills\",\"hovertext\":\"tensor(0.5198)\",\"marker\":{\"color\":\"rgb(173, 173, 173)\",\"opacity\":1},\"showlegend\":false,\"text\":\"tensor(0.5198)\",\"x\":[0,1],\"y\":[1.5754667520523071,1.0875657796859741],\"type\":\"scatter\"},{\"hoverinfo\":\"text\",\"hoveron\":\"fills\",\"hovertext\":\"tensor(0.3895)\",\"marker\":{\"color\":\"rgb(219, 219, 219)\",\"opacity\":1},\"showlegend\":false,\"text\":\"tensor(0.3895)\",\"x\":[0,1],\"y\":[0.6308842301368713,0.9654330611228943],\"type\":\"scatter\"},{\"hoverinfo\":\"text\",\"hoveron\":\"fills\",\"hovertext\":\"tensor(0.3886)\",\"marker\":{\"color\":\"rgb(220, 220, 220)\",\"opacity\":1},\"showlegend\":false,\"text\":\"tensor(0.3886)\",\"x\":[0,1],\"y\":[1.9038424491882324,0.8610809445381165],\"type\":\"scatter\"},{\"hoverinfo\":\"text\",\"hoveron\":\"fills\",\"hovertext\":\"tensor(0.3873)\",\"marker\":{\"color\":\"rgb(220, 220, 220)\",\"opacity\":1},\"showlegend\":false,\"text\":\"tensor(0.3873)\",\"x\":[0,1],\"y\":[1.9038424491882324,0.6975566148757935],\"type\":\"scatter\"},{\"hoverinfo\":\"text\",\"hoveron\":\"fills\",\"hovertext\":\"tensor(0.4191)\",\"marker\":{\"color\":\"rgb(209, 209, 209)\",\"opacity\":1},\"showlegend\":false,\"text\":\"tensor(0.4191)\",\"x\":[0,1],\"y\":[0.690639078617096,0.5428699254989624],\"type\":\"scatter\"},{\"hoverinfo\":\"text\",\"hoveron\":\"fills\",\"hovertext\":\"tensor(0.3778)\",\"marker\":{\"color\":\"rgb(223, 223, 223)\",\"opacity\":1},\"showlegend\":false,\"text\":\"tensor(0.3778)\",\"x\":[0,1],\"y\":[0.5904192328453064,0.46149682998657227],\"type\":\"scatter\"},{\"hoverinfo\":\"text\",\"hoveron\":\"fills\",\"hovertext\":\"tensor(0.4038)\",\"marker\":{\"color\":\"rgb(168, 168, 168)\",\"opacity\":1},\"showlegend\":false,\"text\":\"tensor(0.4038)\",\"x\":[1,2],\"y\":[2.083261251449585,2.0261247158050537],\"type\":\"scatter\"},{\"hoverinfo\":\"text\",\"hoveron\":\"fills\",\"hovertext\":\"tensor(0.4582)\",\"marker\":{\"color\":\"rgb(145, 145, 145)\",\"opacity\":1},\"showlegend\":false,\"text\":\"tensor(0.4582)\",\"x\":[1,2],\"y\":[1.66448175907135,2.0261247158050537],\"type\":\"scatter\"},{\"hoverinfo\":\"text\",\"hoveron\":\"fills\",\"hovertext\":\"tensor(0.3149)\",\"marker\":{\"color\":\"rgb(204, 204, 204)\",\"opacity\":1},\"showlegend\":false,\"text\":\"tensor(0.3149)\",\"x\":[1,2],\"y\":[1.5077980756759644,2.0261247158050537],\"type\":\"scatter\"},{\"hoverinfo\":\"text\",\"hoveron\":\"fills\",\"hovertext\":\"tensor(0.3767)\",\"marker\":{\"color\":\"rgb(179, 179, 179)\",\"opacity\":1},\"showlegend\":false,\"text\":\"tensor(0.3767)\",\"x\":[1,2],\"y\":[1.0875657796859741,2.0261247158050537],\"type\":\"scatter\"},{\"hoverinfo\":\"text\",\"hoveron\":\"fills\",\"hovertext\":\"tensor(0.3575)\",\"marker\":{\"color\":\"rgb(187, 187, 187)\",\"opacity\":1},\"showlegend\":false,\"text\":\"tensor(0.3575)\",\"x\":[1,2],\"y\":[0.9654330611228943,2.0261247158050537],\"type\":\"scatter\"},{\"hoverinfo\":\"text\",\"hoveron\":\"fills\",\"hovertext\":\"tensor(0.3513)\",\"marker\":{\"color\":\"rgb(189, 189, 189)\",\"opacity\":1},\"showlegend\":false,\"text\":\"tensor(0.3513)\",\"x\":[1,2],\"y\":[2.083261251449585,1.9037014245986938],\"type\":\"scatter\"},{\"hoverinfo\":\"text\",\"hoveron\":\"fills\",\"hovertext\":\"tensor(0.2872)\",\"marker\":{\"color\":\"rgb(215, 215, 215)\",\"opacity\":1},\"showlegend\":false,\"text\":\"tensor(0.2872)\",\"x\":[1,2],\"y\":[1.66448175907135,1.9037014245986938],\"type\":\"scatter\"},{\"hoverinfo\":\"text\",\"hoveron\":\"fills\",\"hovertext\":\"tensor(0.3186)\",\"marker\":{\"color\":\"rgb(203, 203, 203)\",\"opacity\":1},\"showlegend\":false,\"text\":\"tensor(0.3186)\",\"x\":[1,2],\"y\":[1.5077980756759644,1.9037014245986938],\"type\":\"scatter\"},{\"hoverinfo\":\"text\",\"hoveron\":\"fills\",\"hovertext\":\"tensor(0.3677)\",\"marker\":{\"color\":\"rgb(182, 182, 182)\",\"opacity\":1},\"showlegend\":false,\"text\":\"tensor(0.3677)\",\"x\":[1,2],\"y\":[1.0875657796859741,1.9037014245986938],\"type\":\"scatter\"},{\"hoverinfo\":\"text\",\"hoveron\":\"fills\",\"hovertext\":\"tensor(0.4657)\",\"marker\":{\"color\":\"rgb(142, 142, 142)\",\"opacity\":1},\"showlegend\":false,\"text\":\"tensor(0.4657)\",\"x\":[1,2],\"y\":[0.9654330611228943,1.9037014245986938],\"type\":\"scatter\"},{\"hoverinfo\":\"text\",\"hoveron\":\"fills\",\"hovertext\":\"tensor(0.5576)\",\"marker\":{\"color\":\"rgb(105, 105, 105)\",\"opacity\":1},\"showlegend\":false,\"text\":\"tensor(0.5576)\",\"x\":[1,2],\"y\":[2.083261251449585,1.7658140659332275],\"type\":\"scatter\"},{\"hoverinfo\":\"text\",\"hoveron\":\"fills\",\"hovertext\":\"tensor(0.4444)\",\"marker\":{\"color\":\"rgb(151, 151, 151)\",\"opacity\":1},\"showlegend\":false,\"text\":\"tensor(0.4444)\",\"x\":[1,2],\"y\":[1.66448175907135,1.7658140659332275],\"type\":\"scatter\"},{\"hoverinfo\":\"text\",\"hoveron\":\"fills\",\"hovertext\":\"tensor(0.3012)\",\"marker\":{\"color\":\"rgb(210, 210, 210)\",\"opacity\":1},\"showlegend\":false,\"text\":\"tensor(0.3012)\",\"x\":[1,2],\"y\":[1.5077980756759644,1.7658140659332275],\"type\":\"scatter\"},{\"hoverinfo\":\"text\",\"hoveron\":\"fills\",\"hovertext\":\"tensor(0.4280)\",\"marker\":{\"color\":\"rgb(158, 158, 158)\",\"opacity\":1},\"showlegend\":false,\"text\":\"tensor(0.4280)\",\"x\":[1,2],\"y\":[2.083261251449585,1.547328233718872],\"type\":\"scatter\"},{\"hoverinfo\":\"text\",\"hoveron\":\"fills\",\"hovertext\":\"tensor(0.3573)\",\"marker\":{\"color\":\"rgb(187, 187, 187)\",\"opacity\":1},\"showlegend\":false,\"text\":\"tensor(0.3573)\",\"x\":[1,2],\"y\":[1.66448175907135,1.547328233718872],\"type\":\"scatter\"},{\"hoverinfo\":\"text\",\"hoveron\":\"fills\",\"hovertext\":\"tensor(0.4574)\",\"marker\":{\"color\":\"rgb(146, 146, 146)\",\"opacity\":1},\"showlegend\":false,\"text\":\"tensor(0.4574)\",\"x\":[1,2],\"y\":[0.9654330611228943,1.547328233718872],\"type\":\"scatter\"},{\"hoverinfo\":\"text\",\"hoveron\":\"fills\",\"hovertext\":\"tensor(0.3331)\",\"marker\":{\"color\":\"rgb(197, 197, 197)\",\"opacity\":1},\"showlegend\":false,\"text\":\"tensor(0.3331)\",\"x\":[1,2],\"y\":[2.083261251449585,1.4330644607543945],\"type\":\"scatter\"},{\"hoverinfo\":\"text\",\"hoveron\":\"fills\",\"hovertext\":\"tensor(0.2930)\",\"marker\":{\"color\":\"rgb(213, 213, 213)\",\"opacity\":1},\"showlegend\":false,\"text\":\"tensor(0.2930)\",\"x\":[1,2],\"y\":[1.5077980756759644,1.4330644607543945],\"type\":\"scatter\"},{\"hoverinfo\":\"text\",\"hoveron\":\"fills\",\"hovertext\":\"tensor(0.3576)\",\"marker\":{\"color\":\"rgb(187, 187, 187)\",\"opacity\":1},\"showlegend\":false,\"text\":\"tensor(0.3576)\",\"x\":[1,2],\"y\":[1.0875657796859741,1.4330644607543945],\"type\":\"scatter\"},{\"hoverinfo\":\"text\",\"hoveron\":\"fills\",\"hovertext\":\"tensor(0.4238)\",\"marker\":{\"color\":\"rgb(159, 159, 159)\",\"opacity\":1},\"showlegend\":false,\"text\":\"tensor(0.4238)\",\"x\":[1,2],\"y\":[0.9654330611228943,1.4330644607543945],\"type\":\"scatter\"},{\"hoverinfo\":\"text\",\"hoveron\":\"fills\",\"hovertext\":\"tensor(0.4574)\",\"marker\":{\"color\":\"rgb(146, 146, 146)\",\"opacity\":1},\"showlegend\":false,\"text\":\"tensor(0.4574)\",\"x\":[1,2],\"y\":[2.083261251449585,1.3129792213439941],\"type\":\"scatter\"},{\"hoverinfo\":\"text\",\"hoveron\":\"fills\",\"hovertext\":\"tensor(0.2955)\",\"marker\":{\"color\":\"rgb(212, 212, 212)\",\"opacity\":1},\"showlegend\":false,\"text\":\"tensor(0.2955)\",\"x\":[1,2],\"y\":[1.66448175907135,1.3129792213439941],\"type\":\"scatter\"},{\"hoverinfo\":\"text\",\"hoveron\":\"fills\",\"hovertext\":\"tensor(0.2974)\",\"marker\":{\"color\":\"rgb(211, 211, 211)\",\"opacity\":1},\"showlegend\":false,\"text\":\"tensor(0.2974)\",\"x\":[1,2],\"y\":[1.5077980756759644,1.3129792213439941],\"type\":\"scatter\"},{\"hoverinfo\":\"text\",\"hoveron\":\"fills\",\"hovertext\":\"tensor(0.3532)\",\"marker\":{\"color\":\"rgb(188, 188, 188)\",\"opacity\":1},\"showlegend\":false,\"text\":\"tensor(0.3532)\",\"x\":[1,2],\"y\":[1.0875657796859741,1.3129792213439941],\"type\":\"scatter\"},{\"hoverinfo\":\"text\",\"hoveron\":\"fills\",\"hovertext\":\"tensor(0.2984)\",\"marker\":{\"color\":\"rgb(211, 211, 211)\",\"opacity\":1},\"showlegend\":false,\"text\":\"tensor(0.2984)\",\"x\":[1,2],\"y\":[0.9654330611228943,1.3129792213439941],\"type\":\"scatter\"},{\"hoverinfo\":\"text\",\"hoveron\":\"fills\",\"hovertext\":\"tensor(0.5152)\",\"marker\":{\"color\":\"rgb(122, 122, 122)\",\"opacity\":1},\"showlegend\":false,\"text\":\"tensor(0.5152)\",\"x\":[1,2],\"y\":[2.083261251449585,1.1807026863098145],\"type\":\"scatter\"},{\"hoverinfo\":\"text\",\"hoveron\":\"fills\",\"hovertext\":\"tensor(0.3007)\",\"marker\":{\"color\":\"rgb(210, 210, 210)\",\"opacity\":1},\"showlegend\":false,\"text\":\"tensor(0.3007)\",\"x\":[1,2],\"y\":[1.66448175907135,1.1807026863098145],\"type\":\"scatter\"},{\"hoverinfo\":\"text\",\"hoveron\":\"fills\",\"hovertext\":\"tensor(0.2927)\",\"marker\":{\"color\":\"rgb(213, 213, 213)\",\"opacity\":1},\"showlegend\":false,\"text\":\"tensor(0.2927)\",\"x\":[1,2],\"y\":[1.5077980756759644,1.1807026863098145],\"type\":\"scatter\"},{\"hoverinfo\":\"text\",\"hoveron\":\"fills\",\"hovertext\":\"tensor(0.3148)\",\"marker\":{\"color\":\"rgb(204, 204, 204)\",\"opacity\":1},\"showlegend\":false,\"text\":\"tensor(0.3148)\",\"x\":[1,2],\"y\":[1.0875657796859741,1.1807026863098145],\"type\":\"scatter\"},{\"hoverinfo\":\"text\",\"hoveron\":\"fills\",\"hovertext\":\"tensor(0.3605)\",\"marker\":{\"color\":\"rgb(185, 185, 185)\",\"opacity\":1},\"showlegend\":false,\"text\":\"tensor(0.3605)\",\"x\":[1,2],\"y\":[2.083261251449585,0.9820714592933655],\"type\":\"scatter\"},{\"hoverinfo\":\"text\",\"hoveron\":\"fills\",\"hovertext\":\"tensor(0.2854)\",\"marker\":{\"color\":\"rgb(216, 216, 216)\",\"opacity\":1},\"showlegend\":false,\"text\":\"tensor(0.2854)\",\"x\":[1,2],\"y\":[1.66448175907135,0.9820714592933655],\"type\":\"scatter\"},{\"hoverinfo\":\"text\",\"hoveron\":\"fills\",\"hovertext\":\"tensor(0.2674)\",\"marker\":{\"color\":\"rgb(224, 224, 224)\",\"opacity\":1},\"showlegend\":false,\"text\":\"tensor(0.2674)\",\"x\":[1,2],\"y\":[1.5077980756759644,0.9820714592933655],\"type\":\"scatter\"},{\"hoverinfo\":\"text\",\"hoveron\":\"fills\",\"hovertext\":\"tensor(0.4127)\",\"marker\":{\"color\":\"rgb(164, 164, 164)\",\"opacity\":1},\"showlegend\":false,\"text\":\"tensor(0.4127)\",\"x\":[1,2],\"y\":[1.0875657796859741,0.9820714592933655],\"type\":\"scatter\"},{\"hoverinfo\":\"text\",\"hoveron\":\"fills\",\"hovertext\":\"tensor(0.2756)\",\"marker\":{\"color\":\"rgb(220, 220, 220)\",\"opacity\":1},\"showlegend\":false,\"text\":\"tensor(0.2756)\",\"x\":[1,2],\"y\":[0.9654330611228943,0.9820714592933655],\"type\":\"scatter\"},{\"hoverinfo\":\"text\",\"hoveron\":\"fills\",\"hovertext\":\"tensor(0.3743)\",\"marker\":{\"color\":\"rgb(180, 180, 180)\",\"opacity\":1},\"showlegend\":false,\"text\":\"tensor(0.3743)\",\"x\":[1,2],\"y\":[2.083261251449585,0.943584680557251],\"type\":\"scatter\"},{\"hoverinfo\":\"text\",\"hoveron\":\"fills\",\"hovertext\":\"tensor(0.3313)\",\"marker\":{\"color\":\"rgb(197, 197, 197)\",\"opacity\":1},\"showlegend\":false,\"text\":\"tensor(0.3313)\",\"x\":[1,2],\"y\":[1.66448175907135,0.943584680557251],\"type\":\"scatter\"},{\"hoverinfo\":\"text\",\"hoveron\":\"fills\",\"hovertext\":\"tensor(0.3956)\",\"marker\":{\"color\":\"rgb(171, 171, 171)\",\"opacity\":1},\"showlegend\":false,\"text\":\"tensor(0.3956)\",\"x\":[1,2],\"y\":[1.0875657796859741,0.943584680557251],\"type\":\"scatter\"},{\"hoverinfo\":\"text\",\"hoveron\":\"fills\",\"hovertext\":\"tensor(0.3172)\",\"marker\":{\"color\":\"rgb(203, 203, 203)\",\"opacity\":1},\"showlegend\":false,\"text\":\"tensor(0.3172)\",\"x\":[1,2],\"y\":[2.083261251449585,0.8872827291488647],\"type\":\"scatter\"},{\"hoverinfo\":\"text\",\"hoveron\":\"fills\",\"hovertext\":\"tensor(0.3733)\",\"marker\":{\"color\":\"rgb(180, 180, 180)\",\"opacity\":1},\"showlegend\":false,\"text\":\"tensor(0.3733)\",\"x\":[1,2],\"y\":[1.66448175907135,0.8872827291488647],\"type\":\"scatter\"},{\"hoverinfo\":\"text\",\"hoveron\":\"fills\",\"hovertext\":\"tensor(0.2974)\",\"marker\":{\"color\":\"rgb(211, 211, 211)\",\"opacity\":1},\"showlegend\":false,\"text\":\"tensor(0.2974)\",\"x\":[1,2],\"y\":[1.5077980756759644,0.8872827291488647],\"type\":\"scatter\"},{\"hoverinfo\":\"text\",\"hoveron\":\"fills\",\"hovertext\":\"tensor(0.2669)\",\"marker\":{\"color\":\"rgb(224, 224, 224)\",\"opacity\":1},\"showlegend\":false,\"text\":\"tensor(0.2669)\",\"x\":[1,2],\"y\":[1.0875657796859741,0.8872827291488647],\"type\":\"scatter\"},{\"hoverinfo\":\"text\",\"hoveron\":\"fills\",\"hovertext\":\"tensor(0.3370)\",\"marker\":{\"color\":\"rgb(195, 195, 195)\",\"opacity\":1},\"showlegend\":false,\"text\":\"tensor(0.3370)\",\"x\":[1,2],\"y\":[2.083261251449585,0.8425131440162659],\"type\":\"scatter\"},{\"hoverinfo\":\"text\",\"hoveron\":\"fills\",\"hovertext\":\"tensor(0.2907)\",\"marker\":{\"color\":\"rgb(214, 214, 214)\",\"opacity\":1},\"showlegend\":false,\"text\":\"tensor(0.2907)\",\"x\":[1,2],\"y\":[1.5077980756759644,0.8425131440162659],\"type\":\"scatter\"},{\"hoverinfo\":\"text\",\"hoveron\":\"fills\",\"hovertext\":\"tensor(0.2661)\",\"marker\":{\"color\":\"rgb(224, 224, 224)\",\"opacity\":1},\"showlegend\":false,\"text\":\"tensor(0.2661)\",\"x\":[1,2],\"y\":[1.66448175907135,0.7602047324180603],\"type\":\"scatter\"},{\"hoverinfo\":\"text\",\"hoveron\":\"fills\",\"hovertext\":\"tensor(0.3490)\",\"marker\":{\"color\":\"rgb(190, 190, 190)\",\"opacity\":1},\"showlegend\":false,\"text\":\"tensor(0.3490)\",\"x\":[1,2],\"y\":[1.5077980756759644,0.7602047324180603],\"type\":\"scatter\"},{\"hoverinfo\":\"text\",\"hoveron\":\"fills\",\"hovertext\":\"tensor(0.3360)\",\"marker\":{\"color\":\"rgb(195, 195, 195)\",\"opacity\":1},\"showlegend\":false,\"text\":\"tensor(0.3360)\",\"x\":[1,2],\"y\":[1.66448175907135,0.7147452235221863],\"type\":\"scatter\"},{\"hoverinfo\":\"text\",\"hoveron\":\"fills\",\"hovertext\":\"tensor(0.3112)\",\"marker\":{\"color\":\"rgb(206, 206, 206)\",\"opacity\":1},\"showlegend\":false,\"text\":\"tensor(0.3112)\",\"x\":[1,2],\"y\":[1.0875657796859741,0.657653272151947],\"type\":\"scatter\"},{\"hoverinfo\":\"text\",\"hoveron\":\"fills\",\"hovertext\":\"tensor(0.2921)\",\"marker\":{\"color\":\"rgb(213, 213, 213)\",\"opacity\":1},\"showlegend\":false,\"text\":\"tensor(0.2921)\",\"x\":[1,2],\"y\":[0.8311644196510315,0.657653272151947],\"type\":\"scatter\"},{\"hoverinfo\":\"text\",\"hoveron\":\"fills\",\"hovertext\":\"tensor(0.2749)\",\"marker\":{\"color\":\"rgb(220, 220, 220)\",\"opacity\":1},\"showlegend\":false,\"text\":\"tensor(0.2749)\",\"x\":[1,2],\"y\":[0.5428699254989624,0.5964584946632385],\"type\":\"scatter\"},{\"hoverinfo\":\"text\",\"hoveron\":\"fills\",\"hovertext\":\"tensor(0.3082)\",\"marker\":{\"color\":\"rgb(207, 207, 207)\",\"opacity\":1},\"showlegend\":false,\"text\":\"tensor(0.3082)\",\"x\":[1,2],\"y\":[1.5077980756759644,0.5939690470695496],\"type\":\"scatter\"},{\"hoverinfo\":\"text\",\"hoveron\":\"fills\",\"hovertext\":\"tensor(0.4138)\",\"marker\":{\"color\":\"rgb(179, 179, 179)\",\"opacity\":1},\"showlegend\":false,\"text\":\"tensor(0.4138)\",\"x\":[2,3],\"y\":[2.0261247158050537,2.6349756717681885],\"type\":\"scatter\"},{\"hoverinfo\":\"text\",\"hoveron\":\"fills\",\"hovertext\":\"tensor(0.3993)\",\"marker\":{\"color\":\"rgb(196, 196, 196)\",\"opacity\":1},\"showlegend\":false,\"text\":\"tensor(0.3993)\",\"x\":[2,3],\"y\":[1.9037014245986938,2.6349756717681885],\"type\":\"scatter\"},{\"hoverinfo\":\"text\",\"hoveron\":\"fills\",\"hovertext\":\"tensor(0.4263)\",\"marker\":{\"color\":\"rgb(165, 165, 165)\",\"opacity\":1},\"showlegend\":false,\"text\":\"tensor(0.4263)\",\"x\":[2,3],\"y\":[2.0261247158050537,2.3941805362701416],\"type\":\"scatter\"},{\"hoverinfo\":\"text\",\"hoveron\":\"fills\",\"hovertext\":\"tensor(0.4309)\",\"marker\":{\"color\":\"rgb(159, 159, 159)\",\"opacity\":1},\"showlegend\":false,\"text\":\"tensor(0.4309)\",\"x\":[2,3],\"y\":[1.9037014245986938,2.3941805362701416],\"type\":\"scatter\"},{\"hoverinfo\":\"text\",\"hoveron\":\"fills\",\"hovertext\":\"tensor(0.4781)\",\"marker\":{\"color\":\"rgb(105, 105, 105)\",\"opacity\":1},\"showlegend\":false,\"text\":\"tensor(0.4781)\",\"x\":[2,3],\"y\":[2.0261247158050537,2.2688651084899902],\"type\":\"scatter\"},{\"hoverinfo\":\"text\",\"hoveron\":\"fills\",\"hovertext\":\"tensor(0.4106)\",\"marker\":{\"color\":\"rgb(183, 183, 183)\",\"opacity\":1},\"showlegend\":false,\"text\":\"tensor(0.4106)\",\"x\":[2,3],\"y\":[1.4330644607543945,2.197035312652588],\"type\":\"scatter\"},{\"hoverinfo\":\"text\",\"hoveron\":\"fills\",\"hovertext\":\"tensor(0.4229)\",\"marker\":{\"color\":\"rgb(169, 169, 169)\",\"opacity\":1},\"showlegend\":false,\"text\":\"tensor(0.4229)\",\"x\":[2,3],\"y\":[1.9037014245986938,2.07399845123291],\"type\":\"scatter\"},{\"hoverinfo\":\"text\",\"hoveron\":\"fills\",\"hovertext\":\"tensor(0.4133)\",\"marker\":{\"color\":\"rgb(180, 180, 180)\",\"opacity\":1},\"showlegend\":false,\"text\":\"tensor(0.4133)\",\"x\":[2,3],\"y\":[1.7658140659332275,2.07399845123291],\"type\":\"scatter\"},{\"hoverinfo\":\"text\",\"hoveron\":\"fills\",\"hovertext\":\"tensor(0.4144)\",\"marker\":{\"color\":\"rgb(179, 179, 179)\",\"opacity\":1},\"showlegend\":false,\"text\":\"tensor(0.4144)\",\"x\":[2,3],\"y\":[1.9037014245986938,1.8362658023834229],\"type\":\"scatter\"},{\"hoverinfo\":\"text\",\"hoveron\":\"fills\",\"hovertext\":\"tensor(0.3790)\",\"marker\":{\"color\":\"rgb(220, 220, 220)\",\"opacity\":1},\"showlegend\":false,\"text\":\"tensor(0.3790)\",\"x\":[2,3],\"y\":[2.0261247158050537,1.7417162656784058],\"type\":\"scatter\"},{\"hoverinfo\":\"text\",\"hoveron\":\"fills\",\"hovertext\":\"tensor(0.4062)\",\"marker\":{\"color\":\"rgb(188, 188, 188)\",\"opacity\":1},\"showlegend\":false,\"text\":\"tensor(0.4062)\",\"x\":[2,3],\"y\":[1.9037014245986938,1.7417162656784058],\"type\":\"scatter\"},{\"hoverinfo\":\"text\",\"hoveron\":\"fills\",\"hovertext\":\"tensor(0.3937)\",\"marker\":{\"color\":\"rgb(203, 203, 203)\",\"opacity\":1},\"showlegend\":false,\"text\":\"tensor(0.3937)\",\"x\":[2,3],\"y\":[1.547328233718872,1.5474591255187988],\"type\":\"scatter\"},{\"hoverinfo\":\"text\",\"hoveron\":\"fills\",\"hovertext\":\"tensor(0.3914)\",\"marker\":{\"color\":\"rgb(205, 205, 205)\",\"opacity\":1},\"showlegend\":false,\"text\":\"tensor(0.3914)\",\"x\":[2,3],\"y\":[2.0261247158050537,1.4517898559570312],\"type\":\"scatter\"},{\"marker\":{\"color\":\"red\",\"opacity\":1},\"mode\":\"markers\",\"showlegend\":false,\"x\":[0,0,0,0,0,0,0,0,0],\"y\":[1.9038424491882324,1.5754667520523071,1.3093550205230713,1.1214829683303833,0.848307728767395,0.690639078617096,0.6308842301368713,0.5904192328453064,0.41326260566711426],\"type\":\"scatter\"},{\"marker\":{\"color\":\"red\",\"opacity\":1},\"mode\":\"markers\",\"showlegend\":false,\"x\":[1,1,1,1,1,1,1,1,1,1,1,1,1,1,1,1,1,1,1,1,1,1,1,1,1,1,1,1,1,1,1,1],\"y\":[2.083261251449585,1.66448175907135,1.5077980756759644,1.2236708402633667,1.0875657796859741,0.9654330611228943,0.8610809445381165,0.8311644196510315,0.7483893632888794,0.7365373373031616,0.7177026271820068,0.6975566148757935,0.6807402968406677,0.6735601425170898,0.6655216217041016,0.6222131252288818,0.6132671236991882,0.604555070400238,0.57433021068573,0.5552079677581787,0.5428699254989624,0.5317686200141907,0.52020663022995,0.5090396404266357,0.4863244891166687,0.4631196856498718,0.46149682998657227,0.44622698426246643,0.42415204644203186,0.41272851824760437,0.36040282249450684,0.3429628610610962],\"type\":\"scatter\"},{\"marker\":{\"color\":\"red\",\"opacity\":1},\"mode\":\"markers\",\"showlegend\":false,\"x\":[2,2,2,2,2,2,2,2,2,2,2,2,2,2,2,2],\"y\":[2.0261247158050537,1.9037014245986938,1.7658140659332275,1.547328233718872,1.4330644607543945,1.3129792213439941,1.1807026863098145,0.9820714592933655,0.943584680557251,0.8872827291488647,0.8425131440162659,0.7602047324180603,0.7147452235221863,0.657653272151947,0.5964584946632385,0.5939690470695496],\"type\":\"scatter\"},{\"marker\":{\"color\":\"blue\",\"opacity\":1},\"mode\":\"markers\",\"showlegend\":false,\"x\":[3,3,3,3,3,3,3,3,3,3],\"y\":[2.6349756717681885,2.3941805362701416,2.2688651084899902,2.197035312652588,2.07399845123291,1.8362658023834229,1.7417162656784058,1.5474591255187988,1.4517898559570312,0.5937504768371582],\"type\":\"scatter\"}],                        {\"template\":{\"data\":{\"bar\":[{\"error_x\":{\"color\":\"#2a3f5f\"},\"error_y\":{\"color\":\"#2a3f5f\"},\"marker\":{\"line\":{\"color\":\"#E5ECF6\",\"width\":0.5},\"pattern\":{\"fillmode\":\"overlay\",\"size\":10,\"solidity\":0.2}},\"type\":\"bar\"}],\"barpolar\":[{\"marker\":{\"line\":{\"color\":\"#E5ECF6\",\"width\":0.5},\"pattern\":{\"fillmode\":\"overlay\",\"size\":10,\"solidity\":0.2}},\"type\":\"barpolar\"}],\"carpet\":[{\"aaxis\":{\"endlinecolor\":\"#2a3f5f\",\"gridcolor\":\"white\",\"linecolor\":\"white\",\"minorgridcolor\":\"white\",\"startlinecolor\":\"#2a3f5f\"},\"baxis\":{\"endlinecolor\":\"#2a3f5f\",\"gridcolor\":\"white\",\"linecolor\":\"white\",\"minorgridcolor\":\"white\",\"startlinecolor\":\"#2a3f5f\"},\"type\":\"carpet\"}],\"choropleth\":[{\"colorbar\":{\"outlinewidth\":0,\"ticks\":\"\"},\"type\":\"choropleth\"}],\"contour\":[{\"colorbar\":{\"outlinewidth\":0,\"ticks\":\"\"},\"colorscale\":[[0.0,\"#0d0887\"],[0.1111111111111111,\"#46039f\"],[0.2222222222222222,\"#7201a8\"],[0.3333333333333333,\"#9c179e\"],[0.4444444444444444,\"#bd3786\"],[0.5555555555555556,\"#d8576b\"],[0.6666666666666666,\"#ed7953\"],[0.7777777777777778,\"#fb9f3a\"],[0.8888888888888888,\"#fdca26\"],[1.0,\"#f0f921\"]],\"type\":\"contour\"}],\"contourcarpet\":[{\"colorbar\":{\"outlinewidth\":0,\"ticks\":\"\"},\"type\":\"contourcarpet\"}],\"heatmap\":[{\"colorbar\":{\"outlinewidth\":0,\"ticks\":\"\"},\"colorscale\":[[0.0,\"#0d0887\"],[0.1111111111111111,\"#46039f\"],[0.2222222222222222,\"#7201a8\"],[0.3333333333333333,\"#9c179e\"],[0.4444444444444444,\"#bd3786\"],[0.5555555555555556,\"#d8576b\"],[0.6666666666666666,\"#ed7953\"],[0.7777777777777778,\"#fb9f3a\"],[0.8888888888888888,\"#fdca26\"],[1.0,\"#f0f921\"]],\"type\":\"heatmap\"}],\"heatmapgl\":[{\"colorbar\":{\"outlinewidth\":0,\"ticks\":\"\"},\"colorscale\":[[0.0,\"#0d0887\"],[0.1111111111111111,\"#46039f\"],[0.2222222222222222,\"#7201a8\"],[0.3333333333333333,\"#9c179e\"],[0.4444444444444444,\"#bd3786\"],[0.5555555555555556,\"#d8576b\"],[0.6666666666666666,\"#ed7953\"],[0.7777777777777778,\"#fb9f3a\"],[0.8888888888888888,\"#fdca26\"],[1.0,\"#f0f921\"]],\"type\":\"heatmapgl\"}],\"histogram\":[{\"marker\":{\"pattern\":{\"fillmode\":\"overlay\",\"size\":10,\"solidity\":0.2}},\"type\":\"histogram\"}],\"histogram2d\":[{\"colorbar\":{\"outlinewidth\":0,\"ticks\":\"\"},\"colorscale\":[[0.0,\"#0d0887\"],[0.1111111111111111,\"#46039f\"],[0.2222222222222222,\"#7201a8\"],[0.3333333333333333,\"#9c179e\"],[0.4444444444444444,\"#bd3786\"],[0.5555555555555556,\"#d8576b\"],[0.6666666666666666,\"#ed7953\"],[0.7777777777777778,\"#fb9f3a\"],[0.8888888888888888,\"#fdca26\"],[1.0,\"#f0f921\"]],\"type\":\"histogram2d\"}],\"histogram2dcontour\":[{\"colorbar\":{\"outlinewidth\":0,\"ticks\":\"\"},\"colorscale\":[[0.0,\"#0d0887\"],[0.1111111111111111,\"#46039f\"],[0.2222222222222222,\"#7201a8\"],[0.3333333333333333,\"#9c179e\"],[0.4444444444444444,\"#bd3786\"],[0.5555555555555556,\"#d8576b\"],[0.6666666666666666,\"#ed7953\"],[0.7777777777777778,\"#fb9f3a\"],[0.8888888888888888,\"#fdca26\"],[1.0,\"#f0f921\"]],\"type\":\"histogram2dcontour\"}],\"mesh3d\":[{\"colorbar\":{\"outlinewidth\":0,\"ticks\":\"\"},\"type\":\"mesh3d\"}],\"parcoords\":[{\"line\":{\"colorbar\":{\"outlinewidth\":0,\"ticks\":\"\"}},\"type\":\"parcoords\"}],\"pie\":[{\"automargin\":true,\"type\":\"pie\"}],\"scatter\":[{\"marker\":{\"colorbar\":{\"outlinewidth\":0,\"ticks\":\"\"}},\"type\":\"scatter\"}],\"scatter3d\":[{\"line\":{\"colorbar\":{\"outlinewidth\":0,\"ticks\":\"\"}},\"marker\":{\"colorbar\":{\"outlinewidth\":0,\"ticks\":\"\"}},\"type\":\"scatter3d\"}],\"scattercarpet\":[{\"marker\":{\"colorbar\":{\"outlinewidth\":0,\"ticks\":\"\"}},\"type\":\"scattercarpet\"}],\"scattergeo\":[{\"marker\":{\"colorbar\":{\"outlinewidth\":0,\"ticks\":\"\"}},\"type\":\"scattergeo\"}],\"scattergl\":[{\"marker\":{\"colorbar\":{\"outlinewidth\":0,\"ticks\":\"\"}},\"type\":\"scattergl\"}],\"scattermapbox\":[{\"marker\":{\"colorbar\":{\"outlinewidth\":0,\"ticks\":\"\"}},\"type\":\"scattermapbox\"}],\"scatterpolar\":[{\"marker\":{\"colorbar\":{\"outlinewidth\":0,\"ticks\":\"\"}},\"type\":\"scatterpolar\"}],\"scatterpolargl\":[{\"marker\":{\"colorbar\":{\"outlinewidth\":0,\"ticks\":\"\"}},\"type\":\"scatterpolargl\"}],\"scatterternary\":[{\"marker\":{\"colorbar\":{\"outlinewidth\":0,\"ticks\":\"\"}},\"type\":\"scatterternary\"}],\"surface\":[{\"colorbar\":{\"outlinewidth\":0,\"ticks\":\"\"},\"colorscale\":[[0.0,\"#0d0887\"],[0.1111111111111111,\"#46039f\"],[0.2222222222222222,\"#7201a8\"],[0.3333333333333333,\"#9c179e\"],[0.4444444444444444,\"#bd3786\"],[0.5555555555555556,\"#d8576b\"],[0.6666666666666666,\"#ed7953\"],[0.7777777777777778,\"#fb9f3a\"],[0.8888888888888888,\"#fdca26\"],[1.0,\"#f0f921\"]],\"type\":\"surface\"}],\"table\":[{\"cells\":{\"fill\":{\"color\":\"#EBF0F8\"},\"line\":{\"color\":\"white\"}},\"header\":{\"fill\":{\"color\":\"#C8D4E3\"},\"line\":{\"color\":\"white\"}},\"type\":\"table\"}]},\"layout\":{\"annotationdefaults\":{\"arrowcolor\":\"#2a3f5f\",\"arrowhead\":0,\"arrowwidth\":1},\"autotypenumbers\":\"strict\",\"coloraxis\":{\"colorbar\":{\"outlinewidth\":0,\"ticks\":\"\"}},\"colorscale\":{\"diverging\":[[0,\"#8e0152\"],[0.1,\"#c51b7d\"],[0.2,\"#de77ae\"],[0.3,\"#f1b6da\"],[0.4,\"#fde0ef\"],[0.5,\"#f7f7f7\"],[0.6,\"#e6f5d0\"],[0.7,\"#b8e186\"],[0.8,\"#7fbc41\"],[0.9,\"#4d9221\"],[1,\"#276419\"]],\"sequential\":[[0.0,\"#0d0887\"],[0.1111111111111111,\"#46039f\"],[0.2222222222222222,\"#7201a8\"],[0.3333333333333333,\"#9c179e\"],[0.4444444444444444,\"#bd3786\"],[0.5555555555555556,\"#d8576b\"],[0.6666666666666666,\"#ed7953\"],[0.7777777777777778,\"#fb9f3a\"],[0.8888888888888888,\"#fdca26\"],[1.0,\"#f0f921\"]],\"sequentialminus\":[[0.0,\"#0d0887\"],[0.1111111111111111,\"#46039f\"],[0.2222222222222222,\"#7201a8\"],[0.3333333333333333,\"#9c179e\"],[0.4444444444444444,\"#bd3786\"],[0.5555555555555556,\"#d8576b\"],[0.6666666666666666,\"#ed7953\"],[0.7777777777777778,\"#fb9f3a\"],[0.8888888888888888,\"#fdca26\"],[1.0,\"#f0f921\"]]},\"colorway\":[\"#636efa\",\"#EF553B\",\"#00cc96\",\"#ab63fa\",\"#FFA15A\",\"#19d3f3\",\"#FF6692\",\"#B6E880\",\"#FF97FF\",\"#FECB52\"],\"font\":{\"color\":\"#2a3f5f\"},\"geo\":{\"bgcolor\":\"white\",\"lakecolor\":\"white\",\"landcolor\":\"#E5ECF6\",\"showlakes\":true,\"showland\":true,\"subunitcolor\":\"white\"},\"hoverlabel\":{\"align\":\"left\"},\"hovermode\":\"closest\",\"mapbox\":{\"style\":\"light\"},\"paper_bgcolor\":\"white\",\"plot_bgcolor\":\"#E5ECF6\",\"polar\":{\"angularaxis\":{\"gridcolor\":\"white\",\"linecolor\":\"white\",\"ticks\":\"\"},\"bgcolor\":\"#E5ECF6\",\"radialaxis\":{\"gridcolor\":\"white\",\"linecolor\":\"white\",\"ticks\":\"\"}},\"scene\":{\"xaxis\":{\"backgroundcolor\":\"#E5ECF6\",\"gridcolor\":\"white\",\"gridwidth\":2,\"linecolor\":\"white\",\"showbackground\":true,\"ticks\":\"\",\"zerolinecolor\":\"white\"},\"yaxis\":{\"backgroundcolor\":\"#E5ECF6\",\"gridcolor\":\"white\",\"gridwidth\":2,\"linecolor\":\"white\",\"showbackground\":true,\"ticks\":\"\",\"zerolinecolor\":\"white\"},\"zaxis\":{\"backgroundcolor\":\"#E5ECF6\",\"gridcolor\":\"white\",\"gridwidth\":2,\"linecolor\":\"white\",\"showbackground\":true,\"ticks\":\"\",\"zerolinecolor\":\"white\"}},\"shapedefaults\":{\"line\":{\"color\":\"#2a3f5f\"}},\"ternary\":{\"aaxis\":{\"gridcolor\":\"white\",\"linecolor\":\"white\",\"ticks\":\"\"},\"baxis\":{\"gridcolor\":\"white\",\"linecolor\":\"white\",\"ticks\":\"\"},\"bgcolor\":\"#E5ECF6\",\"caxis\":{\"gridcolor\":\"white\",\"linecolor\":\"white\",\"ticks\":\"\"}},\"title\":{\"x\":0.05},\"xaxis\":{\"automargin\":true,\"gridcolor\":\"white\",\"linecolor\":\"white\",\"ticks\":\"\",\"title\":{\"standoff\":15},\"zerolinecolor\":\"white\",\"zerolinewidth\":2},\"yaxis\":{\"automargin\":true,\"gridcolor\":\"white\",\"linecolor\":\"white\",\"ticks\":\"\",\"title\":{\"standoff\":15},\"zerolinecolor\":\"white\",\"zerolinewidth\":2}}},\"xaxis\":{\"anchor\":\"y\",\"domain\":[0.0,1.0],\"title\":{\"text\":\"index\"}},\"yaxis\":{\"anchor\":\"x\",\"domain\":[0.0,1.0],\"title\":{\"text\":\"value\"}},\"legend\":{\"tracegroupgap\":0},\"margin\":{\"t\":60}},                        {\"responsive\": true}                    ).then(function(){\n",
       "                            \n",
       "var gd = document.getElementById('fa5cc495-0ad5-434c-a7eb-fbd97117326c');\n",
       "var x = new MutationObserver(function (mutations, observer) {{\n",
       "        var display = window.getComputedStyle(gd).display;\n",
       "        if (!display || display === 'none') {{\n",
       "            console.log([gd, 'removed!']);\n",
       "            Plotly.purge(gd);\n",
       "            observer.disconnect();\n",
       "        }}\n",
       "}});\n",
       "\n",
       "// Listen for the removal of the full notebook cells\n",
       "var notebookContainer = gd.closest('#notebook-container');\n",
       "if (notebookContainer) {{\n",
       "    x.observe(notebookContainer, {childList: true});\n",
       "}}\n",
       "\n",
       "// Listen for the clearing of the current output cell\n",
       "var outputEl = gd.closest('.output');\n",
       "if (outputEl) {{\n",
       "    x.observe(outputEl, {childList: true});\n",
       "}}\n",
       "\n",
       "                        })                };                });            </script>        </div>"
      ]
     },
     "metadata": {},
     "output_type": "display_data"
    }
   ],
   "source": [
    "svr.plot(sigmaThreshold=1.5)"
   ]
  },
  {
   "cell_type": "code",
   "execution_count": 17,
   "id": "b2dee2a0",
   "metadata": {},
   "outputs": [
    {
     "data": {
      "application/vnd.plotly.v1+json": {
       "config": {
        "plotlyServerURL": "https://plot.ly"
       },
       "data": [
        {
         "hoverinfo": "text",
         "hoveron": "fills",
         "hovertext": "tensor(0.5136)",
         "marker": {
          "color": "rgb(105, 105, 105)",
          "opacity": 1
         },
         "showlegend": false,
         "text": "tensor(0.5136)",
         "type": "scatter",
         "x": [
          0,
          1
         ],
         "y": [
          3.345569372177124,
          2.8569276332855225
         ]
        },
        {
         "hoverinfo": "text",
         "hoveron": "fills",
         "hovertext": "tensor(0.4899)",
         "marker": {
          "color": "rgb(125, 125, 125)",
          "opacity": 1
         },
         "showlegend": false,
         "text": "tensor(0.4899)",
         "type": "scatter",
         "x": [
          0,
          1
         ],
         "y": [
          3.345569372177124,
          1.5634506940841675
         ]
        },
        {
         "hoverinfo": "text",
         "hoveron": "fills",
         "hovertext": "tensor(0.2714)",
         "marker": {
          "color": "rgb(222, 222, 222)",
          "opacity": 1
         },
         "showlegend": false,
         "text": "tensor(0.2714)",
         "type": "scatter",
         "x": [
          1,
          2
         ],
         "y": [
          2.8569276332855225,
          2.3995308876037598
         ]
        },
        {
         "hoverinfo": "text",
         "hoveron": "fills",
         "hovertext": "tensor(0.3358)",
         "marker": {
          "color": "rgb(191, 191, 191)",
          "opacity": 1
         },
         "showlegend": false,
         "text": "tensor(0.3358)",
         "type": "scatter",
         "x": [
          1,
          2
         ],
         "y": [
          1.3232041597366333,
          2.3995308876037598
         ]
        },
        {
         "hoverinfo": "text",
         "hoveron": "fills",
         "hovertext": "tensor(0.5099)",
         "marker": {
          "color": "rgb(110, 110, 110)",
          "opacity": 1
         },
         "showlegend": false,
         "text": "tensor(0.5099)",
         "type": "scatter",
         "x": [
          1,
          2
         ],
         "y": [
          1.178877830505371,
          2.3995308876037598
         ]
        },
        {
         "hoverinfo": "text",
         "hoveron": "fills",
         "hovertext": "tensor(0.5211)",
         "marker": {
          "color": "rgb(105, 105, 105)",
          "opacity": 1
         },
         "showlegend": false,
         "text": "tensor(0.5211)",
         "type": "scatter",
         "x": [
          1,
          2
         ],
         "y": [
          2.8569276332855225,
          2.1861178874969482
         ]
        },
        {
         "hoverinfo": "text",
         "hoveron": "fills",
         "hovertext": "tensor(0.4708)",
         "marker": {
          "color": "rgb(128, 128, 128)",
          "opacity": 1
         },
         "showlegend": false,
         "text": "tensor(0.4708)",
         "type": "scatter",
         "x": [
          1,
          2
         ],
         "y": [
          1.5634506940841675,
          2.1861178874969482
         ]
        },
        {
         "hoverinfo": "text",
         "hoveron": "fills",
         "hovertext": "tensor(0.3566)",
         "marker": {
          "color": "rgb(182, 182, 182)",
          "opacity": 1
         },
         "showlegend": false,
         "text": "tensor(0.3566)",
         "type": "scatter",
         "x": [
          1,
          2
         ],
         "y": [
          1.3232041597366333,
          2.1861178874969482
         ]
        },
        {
         "hoverinfo": "text",
         "hoveron": "fills",
         "hovertext": "tensor(0.2745)",
         "marker": {
          "color": "rgb(220, 220, 220)",
          "opacity": 1
         },
         "showlegend": false,
         "text": "tensor(0.2745)",
         "type": "scatter",
         "x": [
          1,
          2
         ],
         "y": [
          1.005176305770874,
          2.1861178874969482
         ]
        },
        {
         "hoverinfo": "text",
         "hoveron": "fills",
         "hovertext": "tensor(0.2856)",
         "marker": {
          "color": "rgb(215, 215, 215)",
          "opacity": 1
         },
         "showlegend": false,
         "text": "tensor(0.2856)",
         "type": "scatter",
         "x": [
          1,
          2
         ],
         "y": [
          0.8378585577011108,
          2.1861178874969482
         ]
        },
        {
         "hoverinfo": "text",
         "hoveron": "fills",
         "hovertext": "tensor(0.2719)",
         "marker": {
          "color": "rgb(221, 221, 221)",
          "opacity": 1
         },
         "showlegend": false,
         "text": "tensor(0.2719)",
         "type": "scatter",
         "x": [
          1,
          2
         ],
         "y": [
          2.8569276332855225,
          1.8829734325408936
         ]
        },
        {
         "hoverinfo": "text",
         "hoveron": "fills",
         "hovertext": "tensor(0.3524)",
         "marker": {
          "color": "rgb(184, 184, 184)",
          "opacity": 1
         },
         "showlegend": false,
         "text": "tensor(0.3524)",
         "type": "scatter",
         "x": [
          1,
          2
         ],
         "y": [
          1.5634506940841675,
          1.8829734325408936
         ]
        },
        {
         "hoverinfo": "text",
         "hoveron": "fills",
         "hovertext": "tensor(0.2758)",
         "marker": {
          "color": "rgb(220, 220, 220)",
          "opacity": 1
         },
         "showlegend": false,
         "text": "tensor(0.2758)",
         "type": "scatter",
         "x": [
          1,
          2
         ],
         "y": [
          1.3232041597366333,
          1.8829734325408936
         ]
        },
        {
         "hoverinfo": "text",
         "hoveron": "fills",
         "hovertext": "tensor(0.3049)",
         "marker": {
          "color": "rgb(206, 206, 206)",
          "opacity": 1
         },
         "showlegend": false,
         "text": "tensor(0.3049)",
         "type": "scatter",
         "x": [
          1,
          2
         ],
         "y": [
          1.178877830505371,
          1.8829734325408936
         ]
        },
        {
         "hoverinfo": "text",
         "hoveron": "fills",
         "hovertext": "tensor(0.2835)",
         "marker": {
          "color": "rgb(216, 216, 216)",
          "opacity": 1
         },
         "showlegend": false,
         "text": "tensor(0.2835)",
         "type": "scatter",
         "x": [
          1,
          2
         ],
         "y": [
          1.005176305770874,
          1.8829734325408936
         ]
        },
        {
         "hoverinfo": "text",
         "hoveron": "fills",
         "hovertext": "tensor(0.4143)",
         "marker": {
          "color": "rgb(155, 155, 155)",
          "opacity": 1
         },
         "showlegend": false,
         "text": "tensor(0.4143)",
         "type": "scatter",
         "x": [
          1,
          2
         ],
         "y": [
          2.8569276332855225,
          1.6213772296905518
         ]
        },
        {
         "hoverinfo": "text",
         "hoveron": "fills",
         "hovertext": "tensor(0.3628)",
         "marker": {
          "color": "rgb(179, 179, 179)",
          "opacity": 1
         },
         "showlegend": false,
         "text": "tensor(0.3628)",
         "type": "scatter",
         "x": [
          1,
          2
         ],
         "y": [
          1.3232041597366333,
          1.6213772296905518
         ]
        },
        {
         "hoverinfo": "text",
         "hoveron": "fills",
         "hovertext": "tensor(0.3621)",
         "marker": {
          "color": "rgb(179, 179, 179)",
          "opacity": 1
         },
         "showlegend": false,
         "text": "tensor(0.3621)",
         "type": "scatter",
         "x": [
          1,
          2
         ],
         "y": [
          2.8569276332855225,
          1.0867009162902832
         ]
        },
        {
         "hoverinfo": "text",
         "hoveron": "fills",
         "hovertext": "tensor(0.3043)",
         "marker": {
          "color": "rgb(206, 206, 206)",
          "opacity": 1
         },
         "showlegend": false,
         "text": "tensor(0.3043)",
         "type": "scatter",
         "x": [
          1,
          2
         ],
         "y": [
          1.5634506940841675,
          0.7078291773796082
         ]
        },
        {
         "hoverinfo": "text",
         "hoveron": "fills",
         "hovertext": "tensor(0.3242)",
         "marker": {
          "color": "rgb(197, 197, 197)",
          "opacity": 1
         },
         "showlegend": false,
         "text": "tensor(0.3242)",
         "type": "scatter",
         "x": [
          1,
          2
         ],
         "y": [
          1.3232041597366333,
          0.7078291773796082
         ]
        },
        {
         "hoverinfo": "text",
         "hoveron": "fills",
         "hovertext": "tensor(0.2776)",
         "marker": {
          "color": "rgb(219, 219, 219)",
          "opacity": 1
         },
         "showlegend": false,
         "text": "tensor(0.2776)",
         "type": "scatter",
         "x": [
          1,
          2
         ],
         "y": [
          0.7462927103042603,
          0.6354164481163025
         ]
        },
        {
         "hoverinfo": "text",
         "hoveron": "fills",
         "hovertext": "tensor(0.2806)",
         "marker": {
          "color": "rgb(217, 217, 217)",
          "opacity": 1
         },
         "showlegend": false,
         "text": "tensor(0.2806)",
         "type": "scatter",
         "x": [
          1,
          2
         ],
         "y": [
          1.005176305770874,
          0.5999544858932495
         ]
        },
        {
         "hoverinfo": "text",
         "hoveron": "fills",
         "hovertext": "tensor(0.2844)",
         "marker": {
          "color": "rgb(215, 215, 215)",
          "opacity": 1
         },
         "showlegend": false,
         "text": "tensor(0.2844)",
         "type": "scatter",
         "x": [
          1,
          2
         ],
         "y": [
          0.7054542303085327,
          0.28743353486061096
         ]
        },
        {
         "hoverinfo": "text",
         "hoveron": "fills",
         "hovertext": "tensor(0.3763)",
         "marker": {
          "color": "rgb(205, 205, 205)",
          "opacity": 1
         },
         "showlegend": false,
         "text": "tensor(0.3763)",
         "type": "scatter",
         "x": [
          2,
          3
         ],
         "y": [
          2.3995308876037598,
          2.6349756717681885
         ]
        },
        {
         "hoverinfo": "text",
         "hoveron": "fills",
         "hovertext": "tensor(0.3828)",
         "marker": {
          "color": "rgb(105, 105, 105)",
          "opacity": 1
         },
         "showlegend": false,
         "text": "tensor(0.3828)",
         "type": "scatter",
         "x": [
          2,
          3
         ],
         "y": [
          2.3995308876037598,
          2.3941805362701416
         ]
        },
        {
         "marker": {
          "color": "red",
          "opacity": 1
         },
         "mode": "markers",
         "showlegend": false,
         "type": "scatter",
         "x": [
          0
         ],
         "y": [
          3.345569372177124
         ]
        },
        {
         "marker": {
          "color": "red",
          "opacity": 1
         },
         "mode": "markers",
         "showlegend": false,
         "type": "scatter",
         "x": [
          1,
          1,
          1,
          1,
          1,
          1,
          1,
          1,
          1,
          1,
          1,
          1,
          1,
          1,
          1,
          1
         ],
         "y": [
          2.8569276332855225,
          1.5634506940841675,
          1.3232041597366333,
          1.178877830505371,
          1.005176305770874,
          0.9278902411460876,
          0.9135161638259888,
          0.8875936269760132,
          0.8443133234977722,
          0.8378585577011108,
          0.8250524997711182,
          0.8053434491157532,
          0.7781572341918945,
          0.7632506489753723,
          0.7462927103042603,
          0.7054542303085327
         ]
        },
        {
         "marker": {
          "color": "red",
          "opacity": 1
         },
         "mode": "markers",
         "showlegend": false,
         "type": "scatter",
         "x": [
          2,
          2,
          2,
          2,
          2,
          2,
          2,
          2,
          2,
          2,
          2,
          2,
          2,
          2,
          2,
          2,
          2,
          2,
          2,
          2,
          2,
          2,
          2,
          2,
          2,
          2,
          2,
          2,
          2,
          2,
          2,
          2
         ],
         "y": [
          2.3995308876037598,
          2.1861178874969482,
          1.8829734325408936,
          1.6213772296905518,
          1.0867009162902832,
          0.9942987561225891,
          0.7078291773796082,
          0.6354164481163025,
          0.5999544858932495,
          0.5702909231185913,
          0.5399870872497559,
          0.5070068836212158,
          0.4930686950683594,
          0.4817460775375366,
          0.47316381335258484,
          0.4482353925704956,
          0.4410583972930908,
          0.4293147623538971,
          0.42037153244018555,
          0.40052369236946106,
          0.39431115984916687,
          0.3823627531528473,
          0.3761853873729706,
          0.369818776845932,
          0.3506218194961548,
          0.3395676910877228,
          0.33305656909942627,
          0.3156450688838959,
          0.3090546727180481,
          0.28743353486061096,
          0.2801494896411896,
          0.27244827151298523
         ]
        },
        {
         "marker": {
          "color": "blue",
          "opacity": 1
         },
         "mode": "markers",
         "showlegend": false,
         "type": "scatter",
         "x": [
          3,
          3,
          3,
          3,
          3,
          3,
          3,
          3,
          3,
          3
         ],
         "y": [
          2.6349756717681885,
          2.3941805362701416,
          2.2688651084899902,
          2.197035312652588,
          2.07399845123291,
          1.8362658023834229,
          1.7417162656784058,
          1.5474591255187988,
          1.4517898559570312,
          0.5937504768371582
         ]
        }
       ],
       "layout": {
        "legend": {
         "tracegroupgap": 0
        },
        "margin": {
         "t": 60
        },
        "template": {
         "data": {
          "bar": [
           {
            "error_x": {
             "color": "#2a3f5f"
            },
            "error_y": {
             "color": "#2a3f5f"
            },
            "marker": {
             "line": {
              "color": "#E5ECF6",
              "width": 0.5
             },
             "pattern": {
              "fillmode": "overlay",
              "size": 10,
              "solidity": 0.2
             }
            },
            "type": "bar"
           }
          ],
          "barpolar": [
           {
            "marker": {
             "line": {
              "color": "#E5ECF6",
              "width": 0.5
             },
             "pattern": {
              "fillmode": "overlay",
              "size": 10,
              "solidity": 0.2
             }
            },
            "type": "barpolar"
           }
          ],
          "carpet": [
           {
            "aaxis": {
             "endlinecolor": "#2a3f5f",
             "gridcolor": "white",
             "linecolor": "white",
             "minorgridcolor": "white",
             "startlinecolor": "#2a3f5f"
            },
            "baxis": {
             "endlinecolor": "#2a3f5f",
             "gridcolor": "white",
             "linecolor": "white",
             "minorgridcolor": "white",
             "startlinecolor": "#2a3f5f"
            },
            "type": "carpet"
           }
          ],
          "choropleth": [
           {
            "colorbar": {
             "outlinewidth": 0,
             "ticks": ""
            },
            "type": "choropleth"
           }
          ],
          "contour": [
           {
            "colorbar": {
             "outlinewidth": 0,
             "ticks": ""
            },
            "colorscale": [
             [
              0,
              "#0d0887"
             ],
             [
              0.1111111111111111,
              "#46039f"
             ],
             [
              0.2222222222222222,
              "#7201a8"
             ],
             [
              0.3333333333333333,
              "#9c179e"
             ],
             [
              0.4444444444444444,
              "#bd3786"
             ],
             [
              0.5555555555555556,
              "#d8576b"
             ],
             [
              0.6666666666666666,
              "#ed7953"
             ],
             [
              0.7777777777777778,
              "#fb9f3a"
             ],
             [
              0.8888888888888888,
              "#fdca26"
             ],
             [
              1,
              "#f0f921"
             ]
            ],
            "type": "contour"
           }
          ],
          "contourcarpet": [
           {
            "colorbar": {
             "outlinewidth": 0,
             "ticks": ""
            },
            "type": "contourcarpet"
           }
          ],
          "heatmap": [
           {
            "colorbar": {
             "outlinewidth": 0,
             "ticks": ""
            },
            "colorscale": [
             [
              0,
              "#0d0887"
             ],
             [
              0.1111111111111111,
              "#46039f"
             ],
             [
              0.2222222222222222,
              "#7201a8"
             ],
             [
              0.3333333333333333,
              "#9c179e"
             ],
             [
              0.4444444444444444,
              "#bd3786"
             ],
             [
              0.5555555555555556,
              "#d8576b"
             ],
             [
              0.6666666666666666,
              "#ed7953"
             ],
             [
              0.7777777777777778,
              "#fb9f3a"
             ],
             [
              0.8888888888888888,
              "#fdca26"
             ],
             [
              1,
              "#f0f921"
             ]
            ],
            "type": "heatmap"
           }
          ],
          "heatmapgl": [
           {
            "colorbar": {
             "outlinewidth": 0,
             "ticks": ""
            },
            "colorscale": [
             [
              0,
              "#0d0887"
             ],
             [
              0.1111111111111111,
              "#46039f"
             ],
             [
              0.2222222222222222,
              "#7201a8"
             ],
             [
              0.3333333333333333,
              "#9c179e"
             ],
             [
              0.4444444444444444,
              "#bd3786"
             ],
             [
              0.5555555555555556,
              "#d8576b"
             ],
             [
              0.6666666666666666,
              "#ed7953"
             ],
             [
              0.7777777777777778,
              "#fb9f3a"
             ],
             [
              0.8888888888888888,
              "#fdca26"
             ],
             [
              1,
              "#f0f921"
             ]
            ],
            "type": "heatmapgl"
           }
          ],
          "histogram": [
           {
            "marker": {
             "pattern": {
              "fillmode": "overlay",
              "size": 10,
              "solidity": 0.2
             }
            },
            "type": "histogram"
           }
          ],
          "histogram2d": [
           {
            "colorbar": {
             "outlinewidth": 0,
             "ticks": ""
            },
            "colorscale": [
             [
              0,
              "#0d0887"
             ],
             [
              0.1111111111111111,
              "#46039f"
             ],
             [
              0.2222222222222222,
              "#7201a8"
             ],
             [
              0.3333333333333333,
              "#9c179e"
             ],
             [
              0.4444444444444444,
              "#bd3786"
             ],
             [
              0.5555555555555556,
              "#d8576b"
             ],
             [
              0.6666666666666666,
              "#ed7953"
             ],
             [
              0.7777777777777778,
              "#fb9f3a"
             ],
             [
              0.8888888888888888,
              "#fdca26"
             ],
             [
              1,
              "#f0f921"
             ]
            ],
            "type": "histogram2d"
           }
          ],
          "histogram2dcontour": [
           {
            "colorbar": {
             "outlinewidth": 0,
             "ticks": ""
            },
            "colorscale": [
             [
              0,
              "#0d0887"
             ],
             [
              0.1111111111111111,
              "#46039f"
             ],
             [
              0.2222222222222222,
              "#7201a8"
             ],
             [
              0.3333333333333333,
              "#9c179e"
             ],
             [
              0.4444444444444444,
              "#bd3786"
             ],
             [
              0.5555555555555556,
              "#d8576b"
             ],
             [
              0.6666666666666666,
              "#ed7953"
             ],
             [
              0.7777777777777778,
              "#fb9f3a"
             ],
             [
              0.8888888888888888,
              "#fdca26"
             ],
             [
              1,
              "#f0f921"
             ]
            ],
            "type": "histogram2dcontour"
           }
          ],
          "mesh3d": [
           {
            "colorbar": {
             "outlinewidth": 0,
             "ticks": ""
            },
            "type": "mesh3d"
           }
          ],
          "parcoords": [
           {
            "line": {
             "colorbar": {
              "outlinewidth": 0,
              "ticks": ""
             }
            },
            "type": "parcoords"
           }
          ],
          "pie": [
           {
            "automargin": true,
            "type": "pie"
           }
          ],
          "scatter": [
           {
            "marker": {
             "colorbar": {
              "outlinewidth": 0,
              "ticks": ""
             }
            },
            "type": "scatter"
           }
          ],
          "scatter3d": [
           {
            "line": {
             "colorbar": {
              "outlinewidth": 0,
              "ticks": ""
             }
            },
            "marker": {
             "colorbar": {
              "outlinewidth": 0,
              "ticks": ""
             }
            },
            "type": "scatter3d"
           }
          ],
          "scattercarpet": [
           {
            "marker": {
             "colorbar": {
              "outlinewidth": 0,
              "ticks": ""
             }
            },
            "type": "scattercarpet"
           }
          ],
          "scattergeo": [
           {
            "marker": {
             "colorbar": {
              "outlinewidth": 0,
              "ticks": ""
             }
            },
            "type": "scattergeo"
           }
          ],
          "scattergl": [
           {
            "marker": {
             "colorbar": {
              "outlinewidth": 0,
              "ticks": ""
             }
            },
            "type": "scattergl"
           }
          ],
          "scattermapbox": [
           {
            "marker": {
             "colorbar": {
              "outlinewidth": 0,
              "ticks": ""
             }
            },
            "type": "scattermapbox"
           }
          ],
          "scatterpolar": [
           {
            "marker": {
             "colorbar": {
              "outlinewidth": 0,
              "ticks": ""
             }
            },
            "type": "scatterpolar"
           }
          ],
          "scatterpolargl": [
           {
            "marker": {
             "colorbar": {
              "outlinewidth": 0,
              "ticks": ""
             }
            },
            "type": "scatterpolargl"
           }
          ],
          "scatterternary": [
           {
            "marker": {
             "colorbar": {
              "outlinewidth": 0,
              "ticks": ""
             }
            },
            "type": "scatterternary"
           }
          ],
          "surface": [
           {
            "colorbar": {
             "outlinewidth": 0,
             "ticks": ""
            },
            "colorscale": [
             [
              0,
              "#0d0887"
             ],
             [
              0.1111111111111111,
              "#46039f"
             ],
             [
              0.2222222222222222,
              "#7201a8"
             ],
             [
              0.3333333333333333,
              "#9c179e"
             ],
             [
              0.4444444444444444,
              "#bd3786"
             ],
             [
              0.5555555555555556,
              "#d8576b"
             ],
             [
              0.6666666666666666,
              "#ed7953"
             ],
             [
              0.7777777777777778,
              "#fb9f3a"
             ],
             [
              0.8888888888888888,
              "#fdca26"
             ],
             [
              1,
              "#f0f921"
             ]
            ],
            "type": "surface"
           }
          ],
          "table": [
           {
            "cells": {
             "fill": {
              "color": "#EBF0F8"
             },
             "line": {
              "color": "white"
             }
            },
            "header": {
             "fill": {
              "color": "#C8D4E3"
             },
             "line": {
              "color": "white"
             }
            },
            "type": "table"
           }
          ]
         },
         "layout": {
          "annotationdefaults": {
           "arrowcolor": "#2a3f5f",
           "arrowhead": 0,
           "arrowwidth": 1
          },
          "autotypenumbers": "strict",
          "coloraxis": {
           "colorbar": {
            "outlinewidth": 0,
            "ticks": ""
           }
          },
          "colorscale": {
           "diverging": [
            [
             0,
             "#8e0152"
            ],
            [
             0.1,
             "#c51b7d"
            ],
            [
             0.2,
             "#de77ae"
            ],
            [
             0.3,
             "#f1b6da"
            ],
            [
             0.4,
             "#fde0ef"
            ],
            [
             0.5,
             "#f7f7f7"
            ],
            [
             0.6,
             "#e6f5d0"
            ],
            [
             0.7,
             "#b8e186"
            ],
            [
             0.8,
             "#7fbc41"
            ],
            [
             0.9,
             "#4d9221"
            ],
            [
             1,
             "#276419"
            ]
           ],
           "sequential": [
            [
             0,
             "#0d0887"
            ],
            [
             0.1111111111111111,
             "#46039f"
            ],
            [
             0.2222222222222222,
             "#7201a8"
            ],
            [
             0.3333333333333333,
             "#9c179e"
            ],
            [
             0.4444444444444444,
             "#bd3786"
            ],
            [
             0.5555555555555556,
             "#d8576b"
            ],
            [
             0.6666666666666666,
             "#ed7953"
            ],
            [
             0.7777777777777778,
             "#fb9f3a"
            ],
            [
             0.8888888888888888,
             "#fdca26"
            ],
            [
             1,
             "#f0f921"
            ]
           ],
           "sequentialminus": [
            [
             0,
             "#0d0887"
            ],
            [
             0.1111111111111111,
             "#46039f"
            ],
            [
             0.2222222222222222,
             "#7201a8"
            ],
            [
             0.3333333333333333,
             "#9c179e"
            ],
            [
             0.4444444444444444,
             "#bd3786"
            ],
            [
             0.5555555555555556,
             "#d8576b"
            ],
            [
             0.6666666666666666,
             "#ed7953"
            ],
            [
             0.7777777777777778,
             "#fb9f3a"
            ],
            [
             0.8888888888888888,
             "#fdca26"
            ],
            [
             1,
             "#f0f921"
            ]
           ]
          },
          "colorway": [
           "#636efa",
           "#EF553B",
           "#00cc96",
           "#ab63fa",
           "#FFA15A",
           "#19d3f3",
           "#FF6692",
           "#B6E880",
           "#FF97FF",
           "#FECB52"
          ],
          "font": {
           "color": "#2a3f5f"
          },
          "geo": {
           "bgcolor": "white",
           "lakecolor": "white",
           "landcolor": "#E5ECF6",
           "showlakes": true,
           "showland": true,
           "subunitcolor": "white"
          },
          "hoverlabel": {
           "align": "left"
          },
          "hovermode": "closest",
          "mapbox": {
           "style": "light"
          },
          "paper_bgcolor": "white",
          "plot_bgcolor": "#E5ECF6",
          "polar": {
           "angularaxis": {
            "gridcolor": "white",
            "linecolor": "white",
            "ticks": ""
           },
           "bgcolor": "#E5ECF6",
           "radialaxis": {
            "gridcolor": "white",
            "linecolor": "white",
            "ticks": ""
           }
          },
          "scene": {
           "xaxis": {
            "backgroundcolor": "#E5ECF6",
            "gridcolor": "white",
            "gridwidth": 2,
            "linecolor": "white",
            "showbackground": true,
            "ticks": "",
            "zerolinecolor": "white"
           },
           "yaxis": {
            "backgroundcolor": "#E5ECF6",
            "gridcolor": "white",
            "gridwidth": 2,
            "linecolor": "white",
            "showbackground": true,
            "ticks": "",
            "zerolinecolor": "white"
           },
           "zaxis": {
            "backgroundcolor": "#E5ECF6",
            "gridcolor": "white",
            "gridwidth": 2,
            "linecolor": "white",
            "showbackground": true,
            "ticks": "",
            "zerolinecolor": "white"
           }
          },
          "shapedefaults": {
           "line": {
            "color": "#2a3f5f"
           }
          },
          "ternary": {
           "aaxis": {
            "gridcolor": "white",
            "linecolor": "white",
            "ticks": ""
           },
           "baxis": {
            "gridcolor": "white",
            "linecolor": "white",
            "ticks": ""
           },
           "bgcolor": "#E5ECF6",
           "caxis": {
            "gridcolor": "white",
            "linecolor": "white",
            "ticks": ""
           }
          },
          "title": {
           "x": 0.05
          },
          "xaxis": {
           "automargin": true,
           "gridcolor": "white",
           "linecolor": "white",
           "ticks": "",
           "title": {
            "standoff": 15
           },
           "zerolinecolor": "white",
           "zerolinewidth": 2
          },
          "yaxis": {
           "automargin": true,
           "gridcolor": "white",
           "linecolor": "white",
           "ticks": "",
           "title": {
            "standoff": 15
           },
           "zerolinecolor": "white",
           "zerolinewidth": 2
          }
         }
        },
        "xaxis": {
         "anchor": "y",
         "domain": [
          0,
          1
         ],
         "title": {
          "text": "index"
         }
        },
        "yaxis": {
         "anchor": "x",
         "domain": [
          0,
          1
         ],
         "title": {
          "text": "value"
         }
        }
       }
      },
      "text/html": [
       "<div>                            <div id=\"1bad7b3f-9214-4793-af88-5520cee01660\" class=\"plotly-graph-div\" style=\"height:525px; width:100%;\"></div>            <script type=\"text/javascript\">                require([\"plotly\"], function(Plotly) {                    window.PLOTLYENV=window.PLOTLYENV || {};                                    if (document.getElementById(\"1bad7b3f-9214-4793-af88-5520cee01660\")) {                    Plotly.newPlot(                        \"1bad7b3f-9214-4793-af88-5520cee01660\",                        [{\"hoverinfo\":\"text\",\"hoveron\":\"fills\",\"hovertext\":\"tensor(0.5136)\",\"marker\":{\"color\":\"rgb(105, 105, 105)\",\"opacity\":1},\"showlegend\":false,\"text\":\"tensor(0.5136)\",\"x\":[0,1],\"y\":[3.345569372177124,2.8569276332855225],\"type\":\"scatter\"},{\"hoverinfo\":\"text\",\"hoveron\":\"fills\",\"hovertext\":\"tensor(0.4899)\",\"marker\":{\"color\":\"rgb(125, 125, 125)\",\"opacity\":1},\"showlegend\":false,\"text\":\"tensor(0.4899)\",\"x\":[0,1],\"y\":[3.345569372177124,1.5634506940841675],\"type\":\"scatter\"},{\"hoverinfo\":\"text\",\"hoveron\":\"fills\",\"hovertext\":\"tensor(0.2714)\",\"marker\":{\"color\":\"rgb(222, 222, 222)\",\"opacity\":1},\"showlegend\":false,\"text\":\"tensor(0.2714)\",\"x\":[1,2],\"y\":[2.8569276332855225,2.3995308876037598],\"type\":\"scatter\"},{\"hoverinfo\":\"text\",\"hoveron\":\"fills\",\"hovertext\":\"tensor(0.3358)\",\"marker\":{\"color\":\"rgb(191, 191, 191)\",\"opacity\":1},\"showlegend\":false,\"text\":\"tensor(0.3358)\",\"x\":[1,2],\"y\":[1.3232041597366333,2.3995308876037598],\"type\":\"scatter\"},{\"hoverinfo\":\"text\",\"hoveron\":\"fills\",\"hovertext\":\"tensor(0.5099)\",\"marker\":{\"color\":\"rgb(110, 110, 110)\",\"opacity\":1},\"showlegend\":false,\"text\":\"tensor(0.5099)\",\"x\":[1,2],\"y\":[1.178877830505371,2.3995308876037598],\"type\":\"scatter\"},{\"hoverinfo\":\"text\",\"hoveron\":\"fills\",\"hovertext\":\"tensor(0.5211)\",\"marker\":{\"color\":\"rgb(105, 105, 105)\",\"opacity\":1},\"showlegend\":false,\"text\":\"tensor(0.5211)\",\"x\":[1,2],\"y\":[2.8569276332855225,2.1861178874969482],\"type\":\"scatter\"},{\"hoverinfo\":\"text\",\"hoveron\":\"fills\",\"hovertext\":\"tensor(0.4708)\",\"marker\":{\"color\":\"rgb(128, 128, 128)\",\"opacity\":1},\"showlegend\":false,\"text\":\"tensor(0.4708)\",\"x\":[1,2],\"y\":[1.5634506940841675,2.1861178874969482],\"type\":\"scatter\"},{\"hoverinfo\":\"text\",\"hoveron\":\"fills\",\"hovertext\":\"tensor(0.3566)\",\"marker\":{\"color\":\"rgb(182, 182, 182)\",\"opacity\":1},\"showlegend\":false,\"text\":\"tensor(0.3566)\",\"x\":[1,2],\"y\":[1.3232041597366333,2.1861178874969482],\"type\":\"scatter\"},{\"hoverinfo\":\"text\",\"hoveron\":\"fills\",\"hovertext\":\"tensor(0.2745)\",\"marker\":{\"color\":\"rgb(220, 220, 220)\",\"opacity\":1},\"showlegend\":false,\"text\":\"tensor(0.2745)\",\"x\":[1,2],\"y\":[1.005176305770874,2.1861178874969482],\"type\":\"scatter\"},{\"hoverinfo\":\"text\",\"hoveron\":\"fills\",\"hovertext\":\"tensor(0.2856)\",\"marker\":{\"color\":\"rgb(215, 215, 215)\",\"opacity\":1},\"showlegend\":false,\"text\":\"tensor(0.2856)\",\"x\":[1,2],\"y\":[0.8378585577011108,2.1861178874969482],\"type\":\"scatter\"},{\"hoverinfo\":\"text\",\"hoveron\":\"fills\",\"hovertext\":\"tensor(0.2719)\",\"marker\":{\"color\":\"rgb(221, 221, 221)\",\"opacity\":1},\"showlegend\":false,\"text\":\"tensor(0.2719)\",\"x\":[1,2],\"y\":[2.8569276332855225,1.8829734325408936],\"type\":\"scatter\"},{\"hoverinfo\":\"text\",\"hoveron\":\"fills\",\"hovertext\":\"tensor(0.3524)\",\"marker\":{\"color\":\"rgb(184, 184, 184)\",\"opacity\":1},\"showlegend\":false,\"text\":\"tensor(0.3524)\",\"x\":[1,2],\"y\":[1.5634506940841675,1.8829734325408936],\"type\":\"scatter\"},{\"hoverinfo\":\"text\",\"hoveron\":\"fills\",\"hovertext\":\"tensor(0.2758)\",\"marker\":{\"color\":\"rgb(220, 220, 220)\",\"opacity\":1},\"showlegend\":false,\"text\":\"tensor(0.2758)\",\"x\":[1,2],\"y\":[1.3232041597366333,1.8829734325408936],\"type\":\"scatter\"},{\"hoverinfo\":\"text\",\"hoveron\":\"fills\",\"hovertext\":\"tensor(0.3049)\",\"marker\":{\"color\":\"rgb(206, 206, 206)\",\"opacity\":1},\"showlegend\":false,\"text\":\"tensor(0.3049)\",\"x\":[1,2],\"y\":[1.178877830505371,1.8829734325408936],\"type\":\"scatter\"},{\"hoverinfo\":\"text\",\"hoveron\":\"fills\",\"hovertext\":\"tensor(0.2835)\",\"marker\":{\"color\":\"rgb(216, 216, 216)\",\"opacity\":1},\"showlegend\":false,\"text\":\"tensor(0.2835)\",\"x\":[1,2],\"y\":[1.005176305770874,1.8829734325408936],\"type\":\"scatter\"},{\"hoverinfo\":\"text\",\"hoveron\":\"fills\",\"hovertext\":\"tensor(0.4143)\",\"marker\":{\"color\":\"rgb(155, 155, 155)\",\"opacity\":1},\"showlegend\":false,\"text\":\"tensor(0.4143)\",\"x\":[1,2],\"y\":[2.8569276332855225,1.6213772296905518],\"type\":\"scatter\"},{\"hoverinfo\":\"text\",\"hoveron\":\"fills\",\"hovertext\":\"tensor(0.3628)\",\"marker\":{\"color\":\"rgb(179, 179, 179)\",\"opacity\":1},\"showlegend\":false,\"text\":\"tensor(0.3628)\",\"x\":[1,2],\"y\":[1.3232041597366333,1.6213772296905518],\"type\":\"scatter\"},{\"hoverinfo\":\"text\",\"hoveron\":\"fills\",\"hovertext\":\"tensor(0.3621)\",\"marker\":{\"color\":\"rgb(179, 179, 179)\",\"opacity\":1},\"showlegend\":false,\"text\":\"tensor(0.3621)\",\"x\":[1,2],\"y\":[2.8569276332855225,1.0867009162902832],\"type\":\"scatter\"},{\"hoverinfo\":\"text\",\"hoveron\":\"fills\",\"hovertext\":\"tensor(0.3043)\",\"marker\":{\"color\":\"rgb(206, 206, 206)\",\"opacity\":1},\"showlegend\":false,\"text\":\"tensor(0.3043)\",\"x\":[1,2],\"y\":[1.5634506940841675,0.7078291773796082],\"type\":\"scatter\"},{\"hoverinfo\":\"text\",\"hoveron\":\"fills\",\"hovertext\":\"tensor(0.3242)\",\"marker\":{\"color\":\"rgb(197, 197, 197)\",\"opacity\":1},\"showlegend\":false,\"text\":\"tensor(0.3242)\",\"x\":[1,2],\"y\":[1.3232041597366333,0.7078291773796082],\"type\":\"scatter\"},{\"hoverinfo\":\"text\",\"hoveron\":\"fills\",\"hovertext\":\"tensor(0.2776)\",\"marker\":{\"color\":\"rgb(219, 219, 219)\",\"opacity\":1},\"showlegend\":false,\"text\":\"tensor(0.2776)\",\"x\":[1,2],\"y\":[0.7462927103042603,0.6354164481163025],\"type\":\"scatter\"},{\"hoverinfo\":\"text\",\"hoveron\":\"fills\",\"hovertext\":\"tensor(0.2806)\",\"marker\":{\"color\":\"rgb(217, 217, 217)\",\"opacity\":1},\"showlegend\":false,\"text\":\"tensor(0.2806)\",\"x\":[1,2],\"y\":[1.005176305770874,0.5999544858932495],\"type\":\"scatter\"},{\"hoverinfo\":\"text\",\"hoveron\":\"fills\",\"hovertext\":\"tensor(0.2844)\",\"marker\":{\"color\":\"rgb(215, 215, 215)\",\"opacity\":1},\"showlegend\":false,\"text\":\"tensor(0.2844)\",\"x\":[1,2],\"y\":[0.7054542303085327,0.28743353486061096],\"type\":\"scatter\"},{\"hoverinfo\":\"text\",\"hoveron\":\"fills\",\"hovertext\":\"tensor(0.3763)\",\"marker\":{\"color\":\"rgb(205, 205, 205)\",\"opacity\":1},\"showlegend\":false,\"text\":\"tensor(0.3763)\",\"x\":[2,3],\"y\":[2.3995308876037598,2.6349756717681885],\"type\":\"scatter\"},{\"hoverinfo\":\"text\",\"hoveron\":\"fills\",\"hovertext\":\"tensor(0.3828)\",\"marker\":{\"color\":\"rgb(105, 105, 105)\",\"opacity\":1},\"showlegend\":false,\"text\":\"tensor(0.3828)\",\"x\":[2,3],\"y\":[2.3995308876037598,2.3941805362701416],\"type\":\"scatter\"},{\"marker\":{\"color\":\"red\",\"opacity\":1},\"mode\":\"markers\",\"showlegend\":false,\"x\":[0],\"y\":[3.345569372177124],\"type\":\"scatter\"},{\"marker\":{\"color\":\"red\",\"opacity\":1},\"mode\":\"markers\",\"showlegend\":false,\"x\":[1,1,1,1,1,1,1,1,1,1,1,1,1,1,1,1],\"y\":[2.8569276332855225,1.5634506940841675,1.3232041597366333,1.178877830505371,1.005176305770874,0.9278902411460876,0.9135161638259888,0.8875936269760132,0.8443133234977722,0.8378585577011108,0.8250524997711182,0.8053434491157532,0.7781572341918945,0.7632506489753723,0.7462927103042603,0.7054542303085327],\"type\":\"scatter\"},{\"marker\":{\"color\":\"red\",\"opacity\":1},\"mode\":\"markers\",\"showlegend\":false,\"x\":[2,2,2,2,2,2,2,2,2,2,2,2,2,2,2,2,2,2,2,2,2,2,2,2,2,2,2,2,2,2,2,2],\"y\":[2.3995308876037598,2.1861178874969482,1.8829734325408936,1.6213772296905518,1.0867009162902832,0.9942987561225891,0.7078291773796082,0.6354164481163025,0.5999544858932495,0.5702909231185913,0.5399870872497559,0.5070068836212158,0.4930686950683594,0.4817460775375366,0.47316381335258484,0.4482353925704956,0.4410583972930908,0.4293147623538971,0.42037153244018555,0.40052369236946106,0.39431115984916687,0.3823627531528473,0.3761853873729706,0.369818776845932,0.3506218194961548,0.3395676910877228,0.33305656909942627,0.3156450688838959,0.3090546727180481,0.28743353486061096,0.2801494896411896,0.27244827151298523],\"type\":\"scatter\"},{\"marker\":{\"color\":\"blue\",\"opacity\":1},\"mode\":\"markers\",\"showlegend\":false,\"x\":[3,3,3,3,3,3,3,3,3,3],\"y\":[2.6349756717681885,2.3941805362701416,2.2688651084899902,2.197035312652588,2.07399845123291,1.8362658023834229,1.7417162656784058,1.5474591255187988,1.4517898559570312,0.5937504768371582],\"type\":\"scatter\"}],                        {\"template\":{\"data\":{\"bar\":[{\"error_x\":{\"color\":\"#2a3f5f\"},\"error_y\":{\"color\":\"#2a3f5f\"},\"marker\":{\"line\":{\"color\":\"#E5ECF6\",\"width\":0.5},\"pattern\":{\"fillmode\":\"overlay\",\"size\":10,\"solidity\":0.2}},\"type\":\"bar\"}],\"barpolar\":[{\"marker\":{\"line\":{\"color\":\"#E5ECF6\",\"width\":0.5},\"pattern\":{\"fillmode\":\"overlay\",\"size\":10,\"solidity\":0.2}},\"type\":\"barpolar\"}],\"carpet\":[{\"aaxis\":{\"endlinecolor\":\"#2a3f5f\",\"gridcolor\":\"white\",\"linecolor\":\"white\",\"minorgridcolor\":\"white\",\"startlinecolor\":\"#2a3f5f\"},\"baxis\":{\"endlinecolor\":\"#2a3f5f\",\"gridcolor\":\"white\",\"linecolor\":\"white\",\"minorgridcolor\":\"white\",\"startlinecolor\":\"#2a3f5f\"},\"type\":\"carpet\"}],\"choropleth\":[{\"colorbar\":{\"outlinewidth\":0,\"ticks\":\"\"},\"type\":\"choropleth\"}],\"contour\":[{\"colorbar\":{\"outlinewidth\":0,\"ticks\":\"\"},\"colorscale\":[[0.0,\"#0d0887\"],[0.1111111111111111,\"#46039f\"],[0.2222222222222222,\"#7201a8\"],[0.3333333333333333,\"#9c179e\"],[0.4444444444444444,\"#bd3786\"],[0.5555555555555556,\"#d8576b\"],[0.6666666666666666,\"#ed7953\"],[0.7777777777777778,\"#fb9f3a\"],[0.8888888888888888,\"#fdca26\"],[1.0,\"#f0f921\"]],\"type\":\"contour\"}],\"contourcarpet\":[{\"colorbar\":{\"outlinewidth\":0,\"ticks\":\"\"},\"type\":\"contourcarpet\"}],\"heatmap\":[{\"colorbar\":{\"outlinewidth\":0,\"ticks\":\"\"},\"colorscale\":[[0.0,\"#0d0887\"],[0.1111111111111111,\"#46039f\"],[0.2222222222222222,\"#7201a8\"],[0.3333333333333333,\"#9c179e\"],[0.4444444444444444,\"#bd3786\"],[0.5555555555555556,\"#d8576b\"],[0.6666666666666666,\"#ed7953\"],[0.7777777777777778,\"#fb9f3a\"],[0.8888888888888888,\"#fdca26\"],[1.0,\"#f0f921\"]],\"type\":\"heatmap\"}],\"heatmapgl\":[{\"colorbar\":{\"outlinewidth\":0,\"ticks\":\"\"},\"colorscale\":[[0.0,\"#0d0887\"],[0.1111111111111111,\"#46039f\"],[0.2222222222222222,\"#7201a8\"],[0.3333333333333333,\"#9c179e\"],[0.4444444444444444,\"#bd3786\"],[0.5555555555555556,\"#d8576b\"],[0.6666666666666666,\"#ed7953\"],[0.7777777777777778,\"#fb9f3a\"],[0.8888888888888888,\"#fdca26\"],[1.0,\"#f0f921\"]],\"type\":\"heatmapgl\"}],\"histogram\":[{\"marker\":{\"pattern\":{\"fillmode\":\"overlay\",\"size\":10,\"solidity\":0.2}},\"type\":\"histogram\"}],\"histogram2d\":[{\"colorbar\":{\"outlinewidth\":0,\"ticks\":\"\"},\"colorscale\":[[0.0,\"#0d0887\"],[0.1111111111111111,\"#46039f\"],[0.2222222222222222,\"#7201a8\"],[0.3333333333333333,\"#9c179e\"],[0.4444444444444444,\"#bd3786\"],[0.5555555555555556,\"#d8576b\"],[0.6666666666666666,\"#ed7953\"],[0.7777777777777778,\"#fb9f3a\"],[0.8888888888888888,\"#fdca26\"],[1.0,\"#f0f921\"]],\"type\":\"histogram2d\"}],\"histogram2dcontour\":[{\"colorbar\":{\"outlinewidth\":0,\"ticks\":\"\"},\"colorscale\":[[0.0,\"#0d0887\"],[0.1111111111111111,\"#46039f\"],[0.2222222222222222,\"#7201a8\"],[0.3333333333333333,\"#9c179e\"],[0.4444444444444444,\"#bd3786\"],[0.5555555555555556,\"#d8576b\"],[0.6666666666666666,\"#ed7953\"],[0.7777777777777778,\"#fb9f3a\"],[0.8888888888888888,\"#fdca26\"],[1.0,\"#f0f921\"]],\"type\":\"histogram2dcontour\"}],\"mesh3d\":[{\"colorbar\":{\"outlinewidth\":0,\"ticks\":\"\"},\"type\":\"mesh3d\"}],\"parcoords\":[{\"line\":{\"colorbar\":{\"outlinewidth\":0,\"ticks\":\"\"}},\"type\":\"parcoords\"}],\"pie\":[{\"automargin\":true,\"type\":\"pie\"}],\"scatter\":[{\"marker\":{\"colorbar\":{\"outlinewidth\":0,\"ticks\":\"\"}},\"type\":\"scatter\"}],\"scatter3d\":[{\"line\":{\"colorbar\":{\"outlinewidth\":0,\"ticks\":\"\"}},\"marker\":{\"colorbar\":{\"outlinewidth\":0,\"ticks\":\"\"}},\"type\":\"scatter3d\"}],\"scattercarpet\":[{\"marker\":{\"colorbar\":{\"outlinewidth\":0,\"ticks\":\"\"}},\"type\":\"scattercarpet\"}],\"scattergeo\":[{\"marker\":{\"colorbar\":{\"outlinewidth\":0,\"ticks\":\"\"}},\"type\":\"scattergeo\"}],\"scattergl\":[{\"marker\":{\"colorbar\":{\"outlinewidth\":0,\"ticks\":\"\"}},\"type\":\"scattergl\"}],\"scattermapbox\":[{\"marker\":{\"colorbar\":{\"outlinewidth\":0,\"ticks\":\"\"}},\"type\":\"scattermapbox\"}],\"scatterpolar\":[{\"marker\":{\"colorbar\":{\"outlinewidth\":0,\"ticks\":\"\"}},\"type\":\"scatterpolar\"}],\"scatterpolargl\":[{\"marker\":{\"colorbar\":{\"outlinewidth\":0,\"ticks\":\"\"}},\"type\":\"scatterpolargl\"}],\"scatterternary\":[{\"marker\":{\"colorbar\":{\"outlinewidth\":0,\"ticks\":\"\"}},\"type\":\"scatterternary\"}],\"surface\":[{\"colorbar\":{\"outlinewidth\":0,\"ticks\":\"\"},\"colorscale\":[[0.0,\"#0d0887\"],[0.1111111111111111,\"#46039f\"],[0.2222222222222222,\"#7201a8\"],[0.3333333333333333,\"#9c179e\"],[0.4444444444444444,\"#bd3786\"],[0.5555555555555556,\"#d8576b\"],[0.6666666666666666,\"#ed7953\"],[0.7777777777777778,\"#fb9f3a\"],[0.8888888888888888,\"#fdca26\"],[1.0,\"#f0f921\"]],\"type\":\"surface\"}],\"table\":[{\"cells\":{\"fill\":{\"color\":\"#EBF0F8\"},\"line\":{\"color\":\"white\"}},\"header\":{\"fill\":{\"color\":\"#C8D4E3\"},\"line\":{\"color\":\"white\"}},\"type\":\"table\"}]},\"layout\":{\"annotationdefaults\":{\"arrowcolor\":\"#2a3f5f\",\"arrowhead\":0,\"arrowwidth\":1},\"autotypenumbers\":\"strict\",\"coloraxis\":{\"colorbar\":{\"outlinewidth\":0,\"ticks\":\"\"}},\"colorscale\":{\"diverging\":[[0,\"#8e0152\"],[0.1,\"#c51b7d\"],[0.2,\"#de77ae\"],[0.3,\"#f1b6da\"],[0.4,\"#fde0ef\"],[0.5,\"#f7f7f7\"],[0.6,\"#e6f5d0\"],[0.7,\"#b8e186\"],[0.8,\"#7fbc41\"],[0.9,\"#4d9221\"],[1,\"#276419\"]],\"sequential\":[[0.0,\"#0d0887\"],[0.1111111111111111,\"#46039f\"],[0.2222222222222222,\"#7201a8\"],[0.3333333333333333,\"#9c179e\"],[0.4444444444444444,\"#bd3786\"],[0.5555555555555556,\"#d8576b\"],[0.6666666666666666,\"#ed7953\"],[0.7777777777777778,\"#fb9f3a\"],[0.8888888888888888,\"#fdca26\"],[1.0,\"#f0f921\"]],\"sequentialminus\":[[0.0,\"#0d0887\"],[0.1111111111111111,\"#46039f\"],[0.2222222222222222,\"#7201a8\"],[0.3333333333333333,\"#9c179e\"],[0.4444444444444444,\"#bd3786\"],[0.5555555555555556,\"#d8576b\"],[0.6666666666666666,\"#ed7953\"],[0.7777777777777778,\"#fb9f3a\"],[0.8888888888888888,\"#fdca26\"],[1.0,\"#f0f921\"]]},\"colorway\":[\"#636efa\",\"#EF553B\",\"#00cc96\",\"#ab63fa\",\"#FFA15A\",\"#19d3f3\",\"#FF6692\",\"#B6E880\",\"#FF97FF\",\"#FECB52\"],\"font\":{\"color\":\"#2a3f5f\"},\"geo\":{\"bgcolor\":\"white\",\"lakecolor\":\"white\",\"landcolor\":\"#E5ECF6\",\"showlakes\":true,\"showland\":true,\"subunitcolor\":\"white\"},\"hoverlabel\":{\"align\":\"left\"},\"hovermode\":\"closest\",\"mapbox\":{\"style\":\"light\"},\"paper_bgcolor\":\"white\",\"plot_bgcolor\":\"#E5ECF6\",\"polar\":{\"angularaxis\":{\"gridcolor\":\"white\",\"linecolor\":\"white\",\"ticks\":\"\"},\"bgcolor\":\"#E5ECF6\",\"radialaxis\":{\"gridcolor\":\"white\",\"linecolor\":\"white\",\"ticks\":\"\"}},\"scene\":{\"xaxis\":{\"backgroundcolor\":\"#E5ECF6\",\"gridcolor\":\"white\",\"gridwidth\":2,\"linecolor\":\"white\",\"showbackground\":true,\"ticks\":\"\",\"zerolinecolor\":\"white\"},\"yaxis\":{\"backgroundcolor\":\"#E5ECF6\",\"gridcolor\":\"white\",\"gridwidth\":2,\"linecolor\":\"white\",\"showbackground\":true,\"ticks\":\"\",\"zerolinecolor\":\"white\"},\"zaxis\":{\"backgroundcolor\":\"#E5ECF6\",\"gridcolor\":\"white\",\"gridwidth\":2,\"linecolor\":\"white\",\"showbackground\":true,\"ticks\":\"\",\"zerolinecolor\":\"white\"}},\"shapedefaults\":{\"line\":{\"color\":\"#2a3f5f\"}},\"ternary\":{\"aaxis\":{\"gridcolor\":\"white\",\"linecolor\":\"white\",\"ticks\":\"\"},\"baxis\":{\"gridcolor\":\"white\",\"linecolor\":\"white\",\"ticks\":\"\"},\"bgcolor\":\"#E5ECF6\",\"caxis\":{\"gridcolor\":\"white\",\"linecolor\":\"white\",\"ticks\":\"\"}},\"title\":{\"x\":0.05},\"xaxis\":{\"automargin\":true,\"gridcolor\":\"white\",\"linecolor\":\"white\",\"ticks\":\"\",\"title\":{\"standoff\":15},\"zerolinecolor\":\"white\",\"zerolinewidth\":2},\"yaxis\":{\"automargin\":true,\"gridcolor\":\"white\",\"linecolor\":\"white\",\"ticks\":\"\",\"title\":{\"standoff\":15},\"zerolinecolor\":\"white\",\"zerolinewidth\":2}}},\"xaxis\":{\"anchor\":\"y\",\"domain\":[0.0,1.0],\"title\":{\"text\":\"index\"}},\"yaxis\":{\"anchor\":\"x\",\"domain\":[0.0,1.0],\"title\":{\"text\":\"value\"}},\"legend\":{\"tracegroupgap\":0},\"margin\":{\"t\":60}},                        {\"responsive\": true}                    ).then(function(){\n",
       "                            \n",
       "var gd = document.getElementById('1bad7b3f-9214-4793-af88-5520cee01660');\n",
       "var x = new MutationObserver(function (mutations, observer) {{\n",
       "        var display = window.getComputedStyle(gd).display;\n",
       "        if (!display || display === 'none') {{\n",
       "            console.log([gd, 'removed!']);\n",
       "            Plotly.purge(gd);\n",
       "            observer.disconnect();\n",
       "        }}\n",
       "}});\n",
       "\n",
       "// Listen for the removal of the full notebook cells\n",
       "var notebookContainer = gd.closest('#notebook-container');\n",
       "if (notebookContainer) {{\n",
       "    x.observe(notebookContainer, {childList: true});\n",
       "}}\n",
       "\n",
       "// Listen for the clearing of the current output cell\n",
       "var outputEl = gd.closest('.output');\n",
       "if (outputEl) {{\n",
       "    x.observe(outputEl, {childList: true});\n",
       "}}\n",
       "\n",
       "                        })                };                });            </script>        </div>"
      ]
     },
     "metadata": {},
     "output_type": "display_data"
    }
   ],
   "source": [
    "cosvr.plot(sigmaThreshold=1.5)"
   ]
  },
  {
   "cell_type": "code",
   "execution_count": 23,
   "id": "3f7d0397",
   "metadata": {},
   "outputs": [
    {
     "ename": "RuntimeError",
     "evalue": "mat1 and mat2 shapes cannot be multiplied (7840x1 and 16x16)",
     "output_type": "error",
     "traceback": [
      "\u001b[0;31m---------------------------------------------------------------------------\u001b[0m",
      "\u001b[0;31mRuntimeError\u001b[0m                              Traceback (most recent call last)",
      "Input \u001b[0;32mIn [23]\u001b[0m, in \u001b[0;36m<cell line: 2>\u001b[0;34m()\u001b[0m\n\u001b[1;32m      1\u001b[0m idx \u001b[38;5;241m=\u001b[39m\u001b[38;5;241m2\u001b[39m\n\u001b[0;32m----> 2\u001b[0m plt\u001b[38;5;241m.\u001b[39mimshow(\u001b[43msvr\u001b[49m\u001b[38;5;241;43m.\u001b[39;49m\u001b[43mU\u001b[49m\u001b[43m[\u001b[49m\u001b[43midx\u001b[49m\u001b[43m]\u001b[49m\u001b[38;5;241;43m.\u001b[39;49m\u001b[43mT\u001b[49m\u001b[38;5;129;43m@cosvr\u001b[39;49m\u001b[38;5;241;43m.\u001b[39;49m\u001b[43mV\u001b[49m\u001b[43m[\u001b[49m\u001b[43midx\u001b[49m\u001b[38;5;241;43m+\u001b[39;49m\u001b[38;5;241;43m1\u001b[39;49m\u001b[43m]\u001b[49m)\n",
      "\u001b[0;31mRuntimeError\u001b[0m: mat1 and mat2 shapes cannot be multiplied (7840x1 and 16x16)"
     ]
    }
   ],
   "source": [
    "idx =2\n",
    "plt.imshow(svr.U[idx].T@cosvr.V[idx+1])"
   ]
  },
  {
   "cell_type": "code",
   "execution_count": null,
   "id": "204a5c2a",
   "metadata": {},
   "outputs": [],
   "source": [
    "svr.arch"
   ]
  },
  {
   "cell_type": "code",
   "execution_count": null,
   "id": "1e0209a1",
   "metadata": {},
   "outputs": [],
   "source": [
    "svr.plot(sigmaThreshold=1.5)"
   ]
  },
  {
   "cell_type": "code",
   "execution_count": null,
   "id": "9dcc0f3a",
   "metadata": {},
   "outputs": [],
   "source": [
    "print(svr.V[0].shape)\n",
    "print(svr.U[0].shape)\n",
    "print(svr.U[0].norm(dim=0))"
   ]
  },
  {
   "cell_type": "code",
   "execution_count": null,
   "id": "46111619",
   "metadata": {},
   "outputs": [],
   "source": [
    "svr.V[-1].norm(dim=0)"
   ]
  },
  {
   "cell_type": "code",
   "execution_count": 25,
   "id": "2ea1edc6",
   "metadata": {},
   "outputs": [
    {
     "data": {
      "text/plain": [
       "[1, 16, 32, 16, 10]"
      ]
     },
     "execution_count": 25,
     "metadata": {},
     "output_type": "execute_result"
    }
   ],
   "source": [
    "svr.arch"
   ]
  },
  {
   "cell_type": "code",
   "execution_count": 30,
   "id": "66d092f5",
   "metadata": {},
   "outputs": [
    {
     "data": {
      "text/plain": [
       "array([0.375     , 0.26516504, 0.375     , 0.47434165])"
      ]
     },
     "execution_count": 30,
     "metadata": {},
     "output_type": "execute_result"
    }
   ],
   "source": [
    "import numpy as np\n",
    "1.5/np.sqrt(np.array(svr.arch[1:]))"
   ]
  },
  {
   "cell_type": "code",
   "execution_count": 26,
   "id": "5dc880b3",
   "metadata": {},
   "outputs": [
    {
     "data": {
      "text/plain": [
       "(array([ 89., 181., 124.,  60.,  21.,  16.,   7.,   9.,   3.,   2.]),\n",
       " array([0.04280797, 0.09276854, 0.14272912, 0.19268969, 0.24265027,\n",
       "        0.29261085, 0.3425714 , 0.392532  , 0.44249257, 0.49245313,\n",
       "        0.5424137 ], dtype=float32),\n",
       " <BarContainer object of 10 artists>)"
      ]
     },
     "execution_count": 26,
     "metadata": {},
     "output_type": "execute_result"
    },
    {
     "data": {
      "image/png": "[encoded data removed]",
      "text/plain": [
       "<Figure size 432x288 with 1 Axes>"
      ]
     },
     "metadata": {
      "needs_background": "light"
     },
     "output_type": "display_data"
    }
   ],
   "source": [
    "plt.hist(svr.adjacency[1].flatten().numpy())"
   ]
  },
  {
   "cell_type": "markdown",
   "id": "86e7457d",
   "metadata": {},
   "source": [
    " # Network evolution"
   ]
  },
  {
   "cell_type": "code",
   "execution_count": 200,
   "id": "ed08160c",
   "metadata": {},
   "outputs": [],
   "source": [
    "\n",
    "from foolbox import PyTorchModel\n",
    "from foolbox.attacks import L2FastGradientAttack\n",
    "from foolbox.attacks import L2ProjectedGradientDescentAttack\n",
    "atkPGM = L2ProjectedGradientDescentAttack(steps=30)\n",
    "atkFGM = L2FastGradientAttack()\n",
    "from gdeep.topactivation.spectral_analysisTorch import LaplacianOperator\n",
    "from gdeep.topactivation.svr import SVR\n",
    "\n",
    "import os \n",
    "\n",
    "\n",
    "def train_record_new_model(model,X,y,folder,epochs=3,epochs_adv=[],sigmaThreshold=2,record=False,rate=1):\n",
    "        \n",
    "    Ntest = 32*30\n",
    "    perm = torch.randperm(len(X))\n",
    "    batch_size=32\n",
    "\n",
    "\n",
    "    X_train = X[perm[Ntest:]]\n",
    "    y_train = y[perm[Ntest:]].type(torch.LongTensor)\n",
    "    X_val = X[perm[:Ntest]]\n",
    "    y_val = y[perm[:Ntest]].type(torch.LongTensor)\n",
    "\n",
    "\n",
    "    #model = nn.Sequential(nn.Flatten(), FFNet(arch,bias=False )).to(DEVICE)\n",
    "    optimizer = torch.optim.SGD(model.parameters(),lr=0.1,weight_decay=1e-5)\n",
    "    #optimizer = torch.optim.Adam(model.parameters())\n",
    "    loss_fn = nn.CrossEntropyLoss()\n",
    "    \n",
    "    atkFGM = L2FastGradientAttack()\n",
    "    epsilons=[2.0]\n",
    "    \n",
    "    if not os.path.exists('record/'+folder):\n",
    "        os.mkdir('record/'+folder)\n",
    "    if record:\n",
    "        os.system('rm record/'+folder+'/*')\n",
    "        \n",
    "    n_batch = len(X_train)//batch_size\n",
    "    print(\"Number of batch per epoch : \",n_batch)\n",
    "    \n",
    "    \n",
    "    weights = [A.detach() for A in list(model.parameters())]\n",
    "    svr = SVR(weights)\n",
    "    L1 = torch.zeros((n_batch*epochs,len(svr.adjacency )+1 )) \n",
    "    Entropy = torch.zeros((n_batch*epochs,len(svr.adjacency )) )\n",
    "    PM = torch.zeros((n_batch*epochs))\n",
    "    PM2 = torch.zeros((n_batch*epochs))\n",
    "\n",
    "    \n",
    "    for epoch in range(epochs):\n",
    "        correct_pred = 0\n",
    "        total_pred = 0\n",
    "        model.train()\n",
    "        for batch_idx in tqdm(range(n_batch)):\n",
    "            \n",
    "            data = X_train[batch_idx*batch_size:(batch_idx+1)*batch_size].to(DEVICE)\n",
    "            \n",
    "            target = y_train[batch_idx*batch_size:(batch_idx+1)*batch_size].to(DEVICE)\n",
    "            \n",
    "         \n",
    "            weights = [A.detach() for A in list(model.parameters())]\n",
    "            name = 'record/'+folder+'/'+str(epoch)+'_'+str(batch_idx)\n",
    "\n",
    "            svr = SVR(weights)\n",
    "            if record and batch_idx%rate==0:\n",
    "                if epoch in epochs_adv:\n",
    "                    svr.plot_save(name,nodeColor='blueviolet',sigmaThreshold=sigmaThreshold)\n",
    "                else:\n",
    "                    svr.plot_save(name,nodeColor='blue',sigmaThreshold=sigmaThreshold)\n",
    "                    \n",
    "            L1[epoch*n_batch+batch_idx]= torch.tensor([s.max() for s in svr.S])\n",
    "            Entropy[epoch*n_batch+batch_idx]= svr.entropy()\n",
    "            PM[epoch*n_batch+batch_idx] = svr.pathmetric()\n",
    "            PM2[epoch*n_batch+batch_idx] = svr.pathmetric(svdScale=False)\n",
    "\n",
    "            \n",
    "            \n",
    "            if epoch in epochs_adv:\n",
    "                fmodel = PyTorchModel(model.eval(), bounds=(0, 1), preprocessing=None)\n",
    "                _,clipped_atk,_ = atkPGM(fmodel, data.to(DEVICE), target.to(DEVICE),epsilons=epsilons)\n",
    "                data=clipped_atk[0]\n",
    "\n",
    "            \n",
    "            \n",
    "         \n",
    "            \n",
    "            optimizer.zero_grad()\n",
    "            output = model(data)\n",
    "            \n",
    "            loss = loss_fn(output, target)\n",
    "            \n",
    "            loss.backward()\n",
    "            optimizer.step()\n",
    "\n",
    "            correct_pred+=(output.argmax(dim=1)==target).sum().item()\n",
    "            total_pred += data.shape[0]\n",
    "        print(15*'-'+' ', 'Epoch : ', epoch, ' ' + 15*'-')\n",
    "        print('Train Accuracy : ',correct_pred/total_pred*100, ' %')\n",
    "        model.eval()\n",
    "        correct_pred = 0\n",
    "        total_pred = 0\n",
    "        for batch_idx in range(len(X_val)//batch_size):\n",
    "            data = X_val[batch_idx*batch_size:(batch_idx+1)*batch_size].to(DEVICE)\n",
    "            target = y_val[batch_idx*batch_size:(batch_idx+1)*batch_size].to(DEVICE)\n",
    "\n",
    "            output = model(data)\n",
    "\n",
    "\n",
    "            correct_pred+=(output.argmax(dim=1)==target).sum().item()\n",
    "            total_pred += data.shape[0]\n",
    "\n",
    "        print('Test Accuracy : ',correct_pred/total_pred*100, ' %') \n",
    "        \n",
    "        for batch_idx in range(len(X_val)//batch_size):\n",
    "            data = X_val[batch_idx*batch_size:(batch_idx+1)*batch_size].to(DEVICE)\n",
    "            target = y_val[batch_idx*batch_size:(batch_idx+1)*batch_size].to(DEVICE)\n",
    "            \n",
    "            fmodel = PyTorchModel(model.eval(), bounds=(0, 1), preprocessing=None)\n",
    "            _,clipped_atk,_ = atkPGM(fmodel, data.to(DEVICE), target.to(DEVICE),epsilons=epsilons)\n",
    "            data=clipped_atk[0]\n",
    "            \n",
    "            \n",
    "            output = model(data)\n",
    "\n",
    "\n",
    "            correct_pred+=(output.argmax(dim=1)==target).sum().item()\n",
    "            total_pred += data.shape[0]\n",
    "\n",
    "        print('PGD Robust Accuracy : ',correct_pred/total_pred*100, ' %') \n",
    "    return model,L1,Entropy,PM,PM2"
   ]
  },
  {
   "cell_type": "code",
   "execution_count": 105,
   "id": "c825c036",
   "metadata": {},
   "outputs": [
    {
     "ename": "NameError",
     "evalue": "name 'CNN' is not defined",
     "output_type": "error",
     "traceback": [
      "\u001b[0;31m---------------------------------------------------------------------------\u001b[0m",
      "\u001b[0;31mNameError\u001b[0m                                 Traceback (most recent call last)",
      "Input \u001b[0;32mIn [105]\u001b[0m, in \u001b[0;36m<cell line: 1>\u001b[0;34m()\u001b[0m\n\u001b[0;32m----> 1\u001b[0m model \u001b[38;5;241m=\u001b[39m \u001b[43mCNN\u001b[49m()\n\u001b[1;32m      2\u001b[0m data \u001b[38;5;241m=\u001b[39m activ[\u001b[38;5;241m0\u001b[39m][:,:\u001b[38;5;241m784\u001b[39m]\n\u001b[1;32m      3\u001b[0m model,L1,Entropy,PM\u001b[38;5;241m=\u001b[39m train_record_new_model(model\u001b[38;5;241m.\u001b[39mto(DEVICE),data,label,\u001b[38;5;124m'\u001b[39m\u001b[38;5;124mcnn1\u001b[39m\u001b[38;5;124m'\u001b[39m,record\u001b[38;5;241m=\u001b[39m\u001b[38;5;28;01mTrue\u001b[39;00m,epochs\u001b[38;5;241m=\u001b[39m\u001b[38;5;241m2\u001b[39m,sigmaThreshold\u001b[38;5;241m=\u001b[39m\u001b[38;5;241m1.5\u001b[39m)\n",
      "\u001b[0;31mNameError\u001b[0m: name 'CNN' is not defined"
     ]
    }
   ],
   "source": [
    "model = CNN()\n",
    "data = activ[0][:,:784]\n",
    "model,L1,Entropy,PM,PM2= train_record_new_model(model.to(DEVICE),data,label,'cnn1',record=False,epochs=2,sigmaThreshold=1.5)\n",
    "\n"
   ]
  },
  {
   "cell_type": "markdown",
   "id": "6614871e",
   "metadata": {},
   "source": [
    "# Training on CIFAR10"
   ]
  },
  {
   "cell_type": "code",
   "execution_count": 89,
   "id": "9d24bcfa",
   "metadata": {},
   "outputs": [
    {
     "name": "stdout",
     "output_type": "stream",
     "text": [
      "Files already downloaded and verified\n",
      "Files already downloaded and verified\n"
     ]
    },
    {
     "name": "stderr",
     "output_type": "stream",
     "text": [
      "100%|██████████████████████████████████████| 1563/1563 [00:05<00:00, 280.68it/s]\n"
     ]
    }
   ],
   "source": [
    "# Dataset \n",
    "dl = TorchDataLoader(name=\"CIFAR10\")\n",
    "dl_tr, dl_ts = dl.build_dataloaders(batch_size=32)\n",
    "base = 0 \n",
    "for x in (dl_tr):\n",
    "    step = len(x[1])\n",
    "    base+=step\n",
    "for x in dl_ts:\n",
    "    step = len(x[1])\n",
    "    base+=step\n",
    "\n",
    "from tqdm import tqdm\n",
    "X = torch.zeros(base,3,32,32)\n",
    "y = torch.zeros(base,dtype=int)\n",
    "base = 0 \n",
    "for x in tqdm(dl_tr):\n",
    "    step = len(x[1])\n",
    "    X[base:base+step]=x[0]\n",
    "    y[base:base+step]=x[1]\n",
    "    base+=step\n",
    "for x in dl_ts:\n",
    "    step = len(x[1])\n",
    "    X[base:base+step]=x[0]\n",
    "    y[base:base+step]=x[1]\n",
    "    base+=step"
   ]
  },
  {
   "cell_type": "code",
   "execution_count": 271,
   "id": "f84ddd44",
   "metadata": {},
   "outputs": [],
   "source": [
    "#Network\n",
    "import torch.nn as nn\n",
    "class CNN10(nn.Module):\n",
    "    def __init__(self):\n",
    "        super(CNN10, self).__init__()        \n",
    "        self.conv1 = nn.Sequential(         \n",
    "            nn.Conv2d(\n",
    "                in_channels=3,              \n",
    "                out_channels=16,            \n",
    "                kernel_size=3,              \n",
    "                stride=1,                   \n",
    "                padding=1,bias=False                  \n",
    "            ),                              \n",
    "            nn.ReLU(),                      \n",
    "            nn.MaxPool2d(kernel_size=2),    \n",
    "        )\n",
    "        \n",
    "        self.conv2 = nn.Sequential(         \n",
    "            nn.Conv2d(16, 32, 3, 1, 1,bias=False),     \n",
    "            nn.ReLU(),                      \n",
    "            nn.MaxPool2d(2)               \n",
    "        )    \n",
    "        self.conv3 = nn.Sequential(         \n",
    "            nn.Conv2d(32, 16, 3, 1, 1,bias=False),     \n",
    "            nn.ReLU(),                                     \n",
    "        )   # fully connected layer, output 10 classes\n",
    "        self.out = nn.Linear(16 * 8 * 8, 10,bias=False)    \n",
    "        \n",
    "    def forward(self, x):\n",
    "        x = self.conv1(x)\n",
    "        x = self.conv2(x)\n",
    "        x = self.conv3(x)\n",
    "        # flatten the output of conv2 to (batch_size, 32 * 7 * 7)\n",
    "        x = x.view(x.size(0), -1)       \n",
    "        output = self.out(x)\n",
    "        return output \n"
   ]
  },
  {
   "cell_type": "code",
   "execution_count": 272,
   "id": "3404a5c2",
   "metadata": {
    "scrolled": true
   },
   "outputs": [
    {
     "name": "stdout",
     "output_type": "stream",
     "text": [
      "Number of batch per epoch :  1845\n"
     ]
    },
    {
     "name": "stderr",
     "output_type": "stream",
     "text": [
      "100%|██████████████████████████████████████| 1845/1845 [00:06<00:00, 278.62it/s]\n"
     ]
    },
    {
     "name": "stdout",
     "output_type": "stream",
     "text": [
      "---------------  Epoch :  0  ---------------\n",
      "Train Accuracy :  36.361788617886184  %\n",
      "Test Accuracy :  50.0  %\n"
     ]
    },
    {
     "name": "stderr",
     "output_type": "stream",
     "text": [
      "100%|██████████████████████████████████████| 1845/1845 [00:06<00:00, 279.90it/s]\n"
     ]
    },
    {
     "name": "stdout",
     "output_type": "stream",
     "text": [
      "---------------  Epoch :  1  ---------------\n",
      "Train Accuracy :  53.12161246612466  %\n",
      "Test Accuracy :  56.35416666666667  %\n"
     ]
    },
    {
     "name": "stderr",
     "output_type": "stream",
     "text": [
      "100%|██████████████████████████████████████| 1845/1845 [00:06<00:00, 266.13it/s]\n"
     ]
    },
    {
     "name": "stdout",
     "output_type": "stream",
     "text": [
      "---------------  Epoch :  2  ---------------\n",
      "Train Accuracy :  58.768631436314365  %\n",
      "Test Accuracy :  58.54166666666667  %\n"
     ]
    },
    {
     "name": "stderr",
     "output_type": "stream",
     "text": [
      "100%|██████████████████████████████████████| 1845/1845 [00:06<00:00, 265.77it/s]\n"
     ]
    },
    {
     "name": "stdout",
     "output_type": "stream",
     "text": [
      "---------------  Epoch :  3  ---------------\n",
      "Train Accuracy :  61.63109756097561  %\n",
      "Test Accuracy :  59.895833333333336  %\n"
     ]
    },
    {
     "name": "stderr",
     "output_type": "stream",
     "text": [
      "100%|██████████████████████████████████████| 1845/1845 [00:06<00:00, 274.20it/s]"
     ]
    },
    {
     "name": "stdout",
     "output_type": "stream",
     "text": [
      "---------------  Epoch :  4  ---------------\n",
      "Train Accuracy :  63.38245257452575  %\n",
      "Test Accuracy :  62.916666666666664  %\n"
     ]
    },
    {
     "name": "stderr",
     "output_type": "stream",
     "text": [
      "\n"
     ]
    }
   ],
   "source": [
    "\n",
    "\n",
    "model = CNN10()\n",
    "model = train_new_model(model.to(DEVICE),X,y,epochs=5)\n",
    "\n"
   ]
  },
  {
   "cell_type": "code",
   "execution_count": 122,
   "id": "894e956f",
   "metadata": {},
   "outputs": [
    {
     "data": {
      "text/plain": [
       "0"
      ]
     },
     "execution_count": 122,
     "metadata": {},
     "output_type": "execute_result"
    }
   ],
   "source": [
    "os.system('ls record/cnn-cifar')\n"
   ]
  },
  {
   "cell_type": "code",
   "execution_count": 213,
   "id": "dd857ed1",
   "metadata": {
    "scrolled": false
   },
   "outputs": [
    {
     "name": "stdout",
     "output_type": "stream",
     "text": [
      "Number of batch per epoch :  1845\n"
     ]
    },
    {
     "name": "stderr",
     "output_type": "stream",
     "text": [
      "100%|███████████████████████████████████████| 1845/1845 [00:19<00:00, 96.81it/s]\n"
     ]
    },
    {
     "name": "stdout",
     "output_type": "stream",
     "text": [
      "---------------  Epoch :  0  ---------------\n",
      "Train Accuracy :  34.756097560975604  %\n",
      "Test Accuracy :  49.270833333333336  %\n",
      "PGD Robust Accuracy :  32.395833333333336  %\n"
     ]
    },
    {
     "name": "stderr",
     "output_type": "stream",
     "text": [
      "100%|███████████████████████████████████████| 1845/1845 [00:18<00:00, 98.42it/s]\n"
     ]
    },
    {
     "name": "stdout",
     "output_type": "stream",
     "text": [
      "---------------  Epoch :  1  ---------------\n",
      "Train Accuracy :  54.518970189701896  %\n",
      "Test Accuracy :  57.604166666666664  %\n",
      "PGD Robust Accuracy :  33.802083333333336  %\n"
     ]
    },
    {
     "name": "stderr",
     "output_type": "stream",
     "text": [
      "100%|███████████████████████████████████████| 1845/1845 [01:37<00:00, 19.00it/s]\n"
     ]
    },
    {
     "name": "stdout",
     "output_type": "stream",
     "text": [
      "---------------  Epoch :  2  ---------------\n",
      "Train Accuracy :  28.888888888888886  %\n",
      "Test Accuracy :  54.479166666666664  %\n",
      "PGD Robust Accuracy :  44.84375  %\n"
     ]
    },
    {
     "name": "stderr",
     "output_type": "stream",
     "text": [
      "100%|███████████████████████████████████████| 1845/1845 [00:19<00:00, 96.02it/s]\n"
     ]
    },
    {
     "name": "stdout",
     "output_type": "stream",
     "text": [
      "---------------  Epoch :  3  ---------------\n",
      "Train Accuracy :  58.96510840108401  %\n",
      "Test Accuracy :  63.4375  %\n",
      "PGD Robust Accuracy :  39.58333333333333  %\n"
     ]
    },
    {
     "name": "stderr",
     "output_type": "stream",
     "text": [
      "100%|███████████████████████████████████████| 1845/1845 [01:39<00:00, 18.55it/s]\n"
     ]
    },
    {
     "name": "stdout",
     "output_type": "stream",
     "text": [
      "---------------  Epoch :  4  ---------------\n",
      "Train Accuracy :  31.268631436314365  %\n",
      "Test Accuracy :  57.1875  %\n",
      "PGD Robust Accuracy :  46.041666666666664  %\n"
     ]
    },
    {
     "name": "stderr",
     "output_type": "stream",
     "text": [
      "100%|███████████████████████████████████████| 1845/1845 [00:19<00:00, 96.73it/s]\n"
     ]
    },
    {
     "name": "stdout",
     "output_type": "stream",
     "text": [
      "---------------  Epoch :  5  ---------------\n",
      "Train Accuracy :  61.080623306233065  %\n",
      "Test Accuracy :  64.27083333333333  %\n",
      "PGD Robust Accuracy :  40.36458333333333  %\n"
     ]
    },
    {
     "name": "stderr",
     "output_type": "stream",
     "text": [
      "100%|███████████████████████████████████████| 1845/1845 [01:39<00:00, 18.56it/s]\n"
     ]
    },
    {
     "name": "stdout",
     "output_type": "stream",
     "text": [
      "---------------  Epoch :  6  ---------------\n",
      "Train Accuracy :  31.693766937669377  %\n",
      "Test Accuracy :  56.97916666666667  %\n",
      "PGD Robust Accuracy :  45.9375  %\n"
     ]
    },
    {
     "name": "stderr",
     "output_type": "stream",
     "text": [
      "100%|███████████████████████████████████████| 1845/1845 [00:19<00:00, 95.71it/s]\n"
     ]
    },
    {
     "name": "stdout",
     "output_type": "stream",
     "text": [
      "---------------  Epoch :  7  ---------------\n",
      "Train Accuracy :  62.144308943089435  %\n",
      "Test Accuracy :  66.25  %\n",
      "PGD Robust Accuracy :  40.625  %\n"
     ]
    },
    {
     "name": "stderr",
     "output_type": "stream",
     "text": [
      "100%|███████████████████████████████████████| 1845/1845 [01:39<00:00, 18.56it/s]\n"
     ]
    },
    {
     "name": "stdout",
     "output_type": "stream",
     "text": [
      "---------------  Epoch :  8  ---------------\n",
      "Train Accuracy :  32.27134146341463  %\n",
      "Test Accuracy :  57.395833333333336  %\n",
      "PGD Robust Accuracy :  46.510416666666664  %\n"
     ]
    },
    {
     "name": "stderr",
     "output_type": "stream",
     "text": [
      "100%|███████████████████████████████████████| 1845/1845 [00:19<00:00, 96.21it/s]\n"
     ]
    },
    {
     "name": "stdout",
     "output_type": "stream",
     "text": [
      "---------------  Epoch :  9  ---------------\n",
      "Train Accuracy :  62.72018970189702  %\n",
      "Test Accuracy :  65.20833333333333  %\n",
      "PGD Robust Accuracy :  39.479166666666664  %\n"
     ]
    }
   ],
   "source": [
    "\n",
    "model = CNN10()\n",
    "epochs = 10\n",
    "epochs_adv = [2,4,6,8]\n",
    "model,L1,Entropy,PM,PM2= train_record_new_model(model.to(DEVICE),X,y,'cnn-cifar',record=False,epochs=epochs,epochs_adv=epochs_adv,sigmaThreshold=1.5,rate=2)\n",
    "\n"
   ]
  },
  {
   "cell_type": "code",
   "execution_count": 143,
   "id": "b59b0c4f",
   "metadata": {},
   "outputs": [
    {
     "data": {
      "text/plain": [
       "L2FastGradientAttack(rel_stepsize=1.0, abs_stepsize=None, steps=1, random_start=False)"
      ]
     },
     "execution_count": 143,
     "metadata": {},
     "output_type": "execute_result"
    }
   ],
   "source": [
    "atkFGM()"
   ]
  },
  {
   "cell_type": "code",
   "execution_count": 151,
   "id": "81eb220b",
   "metadata": {},
   "outputs": [
    {
     "data": {
      "text/plain": [
       "torch.Size([5535])"
      ]
     },
     "execution_count": 151,
     "metadata": {},
     "output_type": "execute_result"
    }
   ],
   "source": [
    ".shape"
   ]
  },
  {
   "cell_type": "code",
   "execution_count": 222,
   "id": "241e9f3d",
   "metadata": {},
   "outputs": [],
   "source": [
    " m = model"
   ]
  },
  {
   "cell_type": "code",
   "execution_count": 214,
   "id": "ae1c5827",
   "metadata": {},
   "outputs": [
    {
     "name": "stderr",
     "output_type": "stream",
     "text": [
      "No artists with labels found to put in legend.  Note that artists whose label start with an underscore are ignored when legend() is called with no argument.\n"
     ]
    },
    {
     "data": {
      "image/png": "[encoded data removed]",
      "text/plain": [
       "<Figure size 432x288 with 2 Axes>"
      ]
     },
     "metadata": {
      "needs_background": "light"
     },
     "output_type": "display_data"
    }
   ],
   "source": [
    "# Pathmectric plotting : \n",
    "# Path metric\n",
    "n_batch=len(PM)/epochs\n",
    "import numpy as np \n",
    "ax1 = plt.subplot()\n",
    "\n",
    "\n",
    "metric = PM2\n",
    "\n",
    "for k in epochs_adv:\n",
    "    l1, = ax1.plot(2*[(k+1)*n_batch],[metric.min(),metric.max()],'--',alpha=0.8,color='blue')\n",
    "    l1, = ax1.plot(2*[(k+2)*n_batch],[metric.min(),metric.max()],'--',alpha=0.8,color='blue')\n",
    "    \n",
    "\n",
    "l1 = ax1.plot(metric,color='red',label='Pathmetric')\n",
    "plt.title('Path metric on high modes')\n",
    "\n",
    "# 0 train acc, 1 test acc \n",
    "ax2 = ax1.twinx()\n",
    "\n",
    "\n",
    "acc = torch.tensor([[58.8,92.08, 95.15, 96.5 , 97.3, 97.88,60],\n",
    "                    [ 88.6,93.7,95.4, 95.2,95,95.7,89]])\n",
    "#l2, = ax2.plot(np.array(range(7))*770+770/2,acc[1], color='orange')\n",
    "plt.legend()\n",
    "plt.show()"
   ]
  },
  {
   "cell_type": "code",
   "execution_count": 220,
   "id": "d104d352",
   "metadata": {},
   "outputs": [
    {
     "data": {
      "text/plain": [
       "Text(0, 0.5, 'Connectivity')"
      ]
     },
     "execution_count": 220,
     "metadata": {},
     "output_type": "execute_result"
    },
    {
     "data": {
      "image/png": "[encoded data removed]",
      "text/plain": [
       "<Figure size 432x288 with 1 Axes>"
      ]
     },
     "metadata": {
      "needs_background": "light"
     },
     "output_type": "display_data"
    }
   ],
   "source": [
    "len_batch=len(PM)//epochs\n",
    "limit = 10\n",
    "plt.plot(PM[:limit*len_batch],PM2[:limit*len_batch])\n",
    "for k in epochs_adv:\n",
    "    if k <limit:\n",
    "        plt.plot(PM[k*len_batch:(k+1)*len_batch],PM2[k*len_batch:(k+1)*len_batch],color='blueviolet')\n",
    "plt.xlabel('Intensity')\n",
    "plt.ylabel('Connectivity')"
   ]
  },
  {
   "cell_type": "code",
   "execution_count": 227,
   "id": "b9165c86",
   "metadata": {},
   "outputs": [
    {
     "data": {
      "text/plain": [
       "odict_keys(['conv1.0.weight', 'conv2.0.weight', 'conv3.0.weight', 'out.weight'])"
      ]
     },
     "execution_count": 227,
     "metadata": {},
     "output_type": "execute_result"
    }
   ],
   "source": [
    "model.state_dict().keys()"
   ]
  },
  {
   "cell_type": "code",
   "execution_count": 228,
   "id": "8c3d7475",
   "metadata": {},
   "outputs": [],
   "source": [
    "def deepcopy(model):\n",
    "    m = CNN10()\n",
    "    state_dict = model.state_dict()\n",
    "    \n",
    "    state_dict2 = m.state_dict()\n",
    "    for key in model.state_dict().keys():\n",
    "        state_dict2[key]=state_dict[key].clone()\n",
    "    m.load_state_dict(state_dict2)\n",
    "    return m "
   ]
  },
  {
   "cell_type": "code",
   "execution_count": 261,
   "id": "101056b5",
   "metadata": {},
   "outputs": [
    {
     "data": {
      "text/plain": [
       "torch.Size([60000, 3, 32, 32])"
      ]
     },
     "execution_count": 261,
     "metadata": {},
     "output_type": "execute_result"
    }
   ],
   "source": [
    "X.shape"
   ]
  },
  {
   "cell_type": "code",
   "execution_count": 273,
   "id": "993af932",
   "metadata": {},
   "outputs": [
    {
     "name": "stdout",
     "output_type": "stream",
     "text": [
      "Model is trained forward..........................\n",
      "Number of batch per epoch :  1845\n"
     ]
    },
    {
     "name": "stderr",
     "output_type": "stream",
     "text": [
      "100%|███████████████████████████████████████| 1845/1845 [00:18<00:00, 98.43it/s]\n"
     ]
    },
    {
     "name": "stdout",
     "output_type": "stream",
     "text": [
      "---------------  Epoch :  0  ---------------\n",
      "Train Accuracy :  33.26050135501355  %\n",
      "Test Accuracy :  47.708333333333336  %\n",
      "PGD Robust Accuracy :  31.927083333333332  %\n",
      "Adversarial Training starting................\n",
      "Number of batch per epoch :  1845\n"
     ]
    },
    {
     "name": "stderr",
     "output_type": "stream",
     "text": [
      "100%|███████████████████████████████████████| 1845/1845 [01:39<00:00, 18.57it/s]\n"
     ]
    },
    {
     "name": "stdout",
     "output_type": "stream",
     "text": [
      "---------------  Epoch :  0  ---------------\n",
      "Train Accuracy :  29.043021680216803  %\n",
      "Test Accuracy :  52.604166666666664  %\n",
      "PGD Robust Accuracy :  43.958333333333336  %\n",
      "Model is trained forward..........................\n",
      "Number of batch per epoch :  1845\n"
     ]
    },
    {
     "name": "stderr",
     "output_type": "stream",
     "text": [
      "100%|███████████████████████████████████████| 1845/1845 [00:19<00:00, 96.30it/s]\n"
     ]
    },
    {
     "name": "stdout",
     "output_type": "stream",
     "text": [
      "---------------  Epoch :  0  ---------------\n",
      "Train Accuracy :  53.1029810298103  %\n",
      "Test Accuracy :  59.791666666666664  %\n",
      "PGD Robust Accuracy :  35.46875  %\n",
      "Adversarial Training starting................\n",
      "Number of batch per epoch :  1845\n"
     ]
    },
    {
     "name": "stderr",
     "output_type": "stream",
     "text": [
      "100%|███████████████████████████████████████| 1845/1845 [01:39<00:00, 18.60it/s]\n"
     ]
    },
    {
     "name": "stdout",
     "output_type": "stream",
     "text": [
      "---------------  Epoch :  0  ---------------\n",
      "Train Accuracy :  28.946476964769648  %\n",
      "Test Accuracy :  51.87500000000001  %\n",
      "PGD Robust Accuracy :  41.979166666666664  %\n",
      "Model is trained forward..........................\n",
      "Number of batch per epoch :  1845\n"
     ]
    },
    {
     "name": "stderr",
     "output_type": "stream",
     "text": [
      "100%|███████████████████████████████████████| 1845/1845 [00:19<00:00, 96.15it/s]\n"
     ]
    },
    {
     "name": "stdout",
     "output_type": "stream",
     "text": [
      "---------------  Epoch :  0  ---------------\n",
      "Train Accuracy :  59.08705962059621  %\n",
      "Test Accuracy :  57.49999999999999  %\n",
      "PGD Robust Accuracy :  32.03125  %\n",
      "Adversarial Training starting................\n",
      "Number of batch per epoch :  1845\n"
     ]
    },
    {
     "name": "stderr",
     "output_type": "stream",
     "text": [
      "100%|███████████████████████████████████████| 1845/1845 [01:39<00:00, 18.62it/s]\n"
     ]
    },
    {
     "name": "stdout",
     "output_type": "stream",
     "text": [
      "---------------  Epoch :  0  ---------------\n",
      "Train Accuracy :  26.504065040650403  %\n",
      "Test Accuracy :  52.1875  %\n",
      "PGD Robust Accuracy :  41.041666666666664  %\n",
      "Model is trained forward..........................\n",
      "Number of batch per epoch :  1845\n"
     ]
    },
    {
     "name": "stderr",
     "output_type": "stream",
     "text": [
      "100%|███████████████████████████████████████| 1845/1845 [00:19<00:00, 95.99it/s]\n"
     ]
    },
    {
     "name": "stdout",
     "output_type": "stream",
     "text": [
      "---------------  Epoch :  0  ---------------\n",
      "Train Accuracy :  61.949525745257446  %\n",
      "Test Accuracy :  65.0  %\n",
      "PGD Robust Accuracy :  36.5625  %\n",
      "Adversarial Training starting................\n",
      "Number of batch per epoch :  1845\n"
     ]
    },
    {
     "name": "stderr",
     "output_type": "stream",
     "text": [
      "100%|███████████████████████████████████████| 1845/1845 [01:39<00:00, 18.61it/s]\n"
     ]
    },
    {
     "name": "stdout",
     "output_type": "stream",
     "text": [
      "---------------  Epoch :  0  ---------------\n",
      "Train Accuracy :  23.3960027100271  %\n",
      "Test Accuracy :  49.0625  %\n",
      "PGD Robust Accuracy :  39.166666666666664  %\n",
      "Model is trained forward..........................\n",
      "Number of batch per epoch :  1845\n"
     ]
    },
    {
     "name": "stderr",
     "output_type": "stream",
     "text": [
      "100%|███████████████████████████████████████| 1845/1845 [00:19<00:00, 95.28it/s]\n"
     ]
    },
    {
     "name": "stdout",
     "output_type": "stream",
     "text": [
      "---------------  Epoch :  0  ---------------\n",
      "Train Accuracy :  63.72967479674797  %\n",
      "Test Accuracy :  64.0625  %\n",
      "PGD Robust Accuracy :  33.958333333333336  %\n",
      "Adversarial Training starting................\n",
      "Number of batch per epoch :  1845\n"
     ]
    },
    {
     "name": "stderr",
     "output_type": "stream",
     "text": [
      "100%|███████████████████████████████████████| 1845/1845 [01:39<00:00, 18.62it/s]\n"
     ]
    },
    {
     "name": "stdout",
     "output_type": "stream",
     "text": [
      "---------------  Epoch :  0  ---------------\n",
      "Train Accuracy :  13.424796747967479  %\n",
      "Test Accuracy :  27.604166666666668  %\n",
      "PGD Robust Accuracy :  21.927083333333332  %\n",
      "Model is trained forward..........................\n",
      "Number of batch per epoch :  1845\n"
     ]
    },
    {
     "name": "stderr",
     "output_type": "stream",
     "text": [
      "100%|███████████████████████████████████████| 1845/1845 [00:19<00:00, 95.21it/s]\n"
     ]
    },
    {
     "name": "stdout",
     "output_type": "stream",
     "text": [
      "---------------  Epoch :  0  ---------------\n",
      "Train Accuracy :  65.28455284552845  %\n",
      "Test Accuracy :  64.6875  %\n",
      "PGD Robust Accuracy :  33.802083333333336  %\n",
      "Adversarial Training starting................\n",
      "Number of batch per epoch :  1845\n"
     ]
    },
    {
     "name": "stderr",
     "output_type": "stream",
     "text": [
      "100%|███████████████████████████████████████| 1845/1845 [01:39<00:00, 18.57it/s]\n"
     ]
    },
    {
     "name": "stdout",
     "output_type": "stream",
     "text": [
      "---------------  Epoch :  0  ---------------\n",
      "Train Accuracy :  11.90379403794038  %\n",
      "Test Accuracy :  22.916666666666664  %\n",
      "PGD Robust Accuracy :  19.947916666666668  %\n",
      "Model is trained forward..........................\n",
      "Number of batch per epoch :  1845\n"
     ]
    },
    {
     "name": "stderr",
     "output_type": "stream",
     "text": [
      "100%|███████████████████████████████████████| 1845/1845 [00:19<00:00, 95.71it/s]\n"
     ]
    },
    {
     "name": "stdout",
     "output_type": "stream",
     "text": [
      "---------------  Epoch :  0  ---------------\n",
      "Train Accuracy :  66.15684281842819  %\n",
      "Test Accuracy :  66.77083333333333  %\n",
      "PGD Robust Accuracy :  34.375  %\n",
      "Adversarial Training starting................\n",
      "Number of batch per epoch :  1845\n"
     ]
    },
    {
     "name": "stderr",
     "output_type": "stream",
     "text": [
      "100%|███████████████████████████████████████| 1845/1845 [01:39<00:00, 18.53it/s]\n"
     ]
    },
    {
     "name": "stdout",
     "output_type": "stream",
     "text": [
      "---------------  Epoch :  0  ---------------\n",
      "Train Accuracy :  10.706300813008129  %\n",
      "Test Accuracy :  15.208333333333332  %\n",
      "PGD Robust Accuracy :  13.854166666666668  %\n"
     ]
    },
    {
     "data": {
      "image/png": "[encoded data removed]",
      "text/plain": [
       "<Figure size 432x288 with 1 Axes>"
      ]
     },
     "metadata": {
      "needs_background": "light"
     },
     "output_type": "display_data"
    }
   ],
   "source": [
    "# Model exploration \n",
    "model = CNN10()\n",
    "for epoch in range(7):\n",
    "    \n",
    "    print('Model is trained forward..........................')\n",
    "    model,L1,Entropy,PM,PM2= train_record_new_model(model.to(DEVICE),X,y,'cnn-cifar',record=False,epochs=1,epochs_adv=[],sigmaThreshold=1.5,rate=2)\n",
    "    plt.plot(PM,PM2,color='blue')\n",
    "    m = deepcopy(model)\n",
    "    m2 = deepcopy(model)\n",
    "    print('Adversarial Training starting................')\n",
    "    m,_,_,PM,PM2 = train_record_new_model(m.to(DEVICE),X,y,'cnn-cifar',record=False,epochs=1,epochs_adv=[0],sigmaThreshold=1.5,rate=2)\n",
    "    plt.plot(PM,PM2,color='deeppink')\n",
    "    \n",
    "  \n",
    "    "
   ]
  },
  {
   "cell_type": "code",
   "execution_count": 97,
   "id": "998655dc",
   "metadata": {},
   "outputs": [
    {
     "data": {
      "application/vnd.plotly.v1+json": {
       "config": {
        "plotlyServerURL": "https://plot.ly"
       },
       "data": [
        {
         "hoverinfo": "text",
         "hoveron": "fills",
         "hovertext": "tensor(0.3751)",
         "marker": {
          "color": "rgb(224, 224, 224)",
          "opacity": 1
         },
         "showlegend": false,
         "text": "tensor(0.3751)",
         "type": "scatter",
         "x": [
          0,
          1
         ],
         "y": [
          3.794713258743286,
          2.619462490081787
         ]
        },
        {
         "hoverinfo": "text",
         "marker": {
          "color": "lightgrey",
          "opacity": 0
         },
         "mode": "markers",
         "showlegend": false,
         "text": [
          "tensor(0.3751)"
         ],
         "type": "scatter",
         "x": [
          0.5
         ],
         "y": [
          3.2070878744125366
         ]
        },
        {
         "hoverinfo": "text",
         "hoveron": "fills",
         "hovertext": "tensor(0.4218)",
         "marker": {
          "color": "rgb(189, 189, 189)",
          "opacity": 1
         },
         "showlegend": false,
         "text": "tensor(0.4218)",
         "type": "scatter",
         "x": [
          0,
          1
         ],
         "y": [
          3.5298521518707275,
          2.619462490081787
         ]
        },
        {
         "hoverinfo": "text",
         "marker": {
          "color": "lightgrey",
          "opacity": 0
         },
         "mode": "markers",
         "showlegend": false,
         "text": [
          "tensor(0.4218)"
         ],
         "type": "scatter",
         "x": [
          0.5
         ],
         "y": [
          3.0746573209762573
         ]
        },
        {
         "hoverinfo": "text",
         "hoveron": "fills",
         "hovertext": "tensor(0.4015)",
         "marker": {
          "color": "rgb(205, 205, 205)",
          "opacity": 1
         },
         "showlegend": false,
         "text": "tensor(0.4015)",
         "type": "scatter",
         "x": [
          0,
          1
         ],
         "y": [
          3.794713258743286,
          2.596273183822632
         ]
        },
        {
         "hoverinfo": "text",
         "marker": {
          "color": "lightgrey",
          "opacity": 0
         },
         "mode": "markers",
         "showlegend": false,
         "text": [
          "tensor(0.4015)"
         ],
         "type": "scatter",
         "x": [
          0.5
         ],
         "y": [
          3.195493221282959
         ]
        },
        {
         "hoverinfo": "text",
         "hoveron": "fills",
         "hovertext": "tensor(0.4773)",
         "marker": {
          "color": "rgb(148, 148, 148)",
          "opacity": 1
         },
         "showlegend": false,
         "text": "tensor(0.4773)",
         "type": "scatter",
         "x": [
          0,
          1
         ],
         "y": [
          3.5298521518707275,
          2.596273183822632
         ]
        },
        {
         "hoverinfo": "text",
         "marker": {
          "color": "lightgrey",
          "opacity": 0
         },
         "mode": "markers",
         "showlegend": false,
         "text": [
          "tensor(0.4773)"
         ],
         "type": "scatter",
         "x": [
          0.5
         ],
         "y": [
          3.0630626678466797
         ]
        },
        {
         "hoverinfo": "text",
         "hoveron": "fills",
         "hovertext": "tensor(0.4869)",
         "marker": {
          "color": "rgb(141, 141, 141)",
          "opacity": 1
         },
         "showlegend": false,
         "text": "tensor(0.4869)",
         "type": "scatter",
         "x": [
          0,
          1
         ],
         "y": [
          3.174651861190796,
          2.596273183822632
         ]
        },
        {
         "hoverinfo": "text",
         "marker": {
          "color": "lightgrey",
          "opacity": 0
         },
         "mode": "markers",
         "showlegend": false,
         "text": [
          "tensor(0.4869)"
         ],
         "type": "scatter",
         "x": [
          0.5
         ],
         "y": [
          2.885462522506714
         ]
        },
        {
         "hoverinfo": "text",
         "hoveron": "fills",
         "hovertext": "tensor(0.3970)",
         "marker": {
          "color": "rgb(208, 208, 208)",
          "opacity": 1
         },
         "showlegend": false,
         "text": "tensor(0.3970)",
         "type": "scatter",
         "x": [
          0,
          1
         ],
         "y": [
          3.5298521518707275,
          2.3946924209594727
         ]
        },
        {
         "hoverinfo": "text",
         "marker": {
          "color": "lightgrey",
          "opacity": 0
         },
         "mode": "markers",
         "showlegend": false,
         "text": [
          "tensor(0.3970)"
         ],
         "type": "scatter",
         "x": [
          0.5
         ],
         "y": [
          2.9622722864151
         ]
        },
        {
         "hoverinfo": "text",
         "hoveron": "fills",
         "hovertext": "tensor(0.5143)",
         "marker": {
          "color": "rgb(120, 120, 120)",
          "opacity": 1
         },
         "showlegend": false,
         "text": "tensor(0.5143)",
         "type": "scatter",
         "x": [
          0,
          1
         ],
         "y": [
          3.174651861190796,
          2.3946924209594727
         ]
        },
        {
         "hoverinfo": "text",
         "marker": {
          "color": "lightgrey",
          "opacity": 0
         },
         "mode": "markers",
         "showlegend": false,
         "text": [
          "tensor(0.5143)"
         ],
         "type": "scatter",
         "x": [
          0.5
         ],
         "y": [
          2.7846721410751343
         ]
        },
        {
         "hoverinfo": "text",
         "hoveron": "fills",
         "hovertext": "tensor(0.4759)",
         "marker": {
          "color": "rgb(149, 149, 149)",
          "opacity": 1
         },
         "showlegend": false,
         "text": "tensor(0.4759)",
         "type": "scatter",
         "x": [
          0,
          1
         ],
         "y": [
          3.794713258743286,
          2.3428449630737305
         ]
        },
        {
         "hoverinfo": "text",
         "marker": {
          "color": "lightgrey",
          "opacity": 0
         },
         "mode": "markers",
         "showlegend": false,
         "text": [
          "tensor(0.4759)"
         ],
         "type": "scatter",
         "x": [
          0.5
         ],
         "y": [
          3.0687791109085083
         ]
        },
        {
         "hoverinfo": "text",
         "hoveron": "fills",
         "hovertext": "tensor(0.3813)",
         "marker": {
          "color": "rgb(220, 220, 220)",
          "opacity": 1
         },
         "showlegend": false,
         "text": "tensor(0.3813)",
         "type": "scatter",
         "x": [
          0,
          1
         ],
         "y": [
          2.2334070205688477,
          2.3428449630737305
         ]
        },
        {
         "hoverinfo": "text",
         "marker": {
          "color": "lightgrey",
          "opacity": 0
         },
         "mode": "markers",
         "showlegend": false,
         "text": [
          "tensor(0.3813)"
         ],
         "type": "scatter",
         "x": [
          0.5
         ],
         "y": [
          2.288125991821289
         ]
        },
        {
         "hoverinfo": "text",
         "hoveron": "fills",
         "hovertext": "tensor(0.4714)",
         "marker": {
          "color": "rgb(152, 152, 152)",
          "opacity": 1
         },
         "showlegend": false,
         "text": "tensor(0.4714)",
         "type": "scatter",
         "x": [
          0,
          1
         ],
         "y": [
          3.794713258743286,
          2.221325397491455
         ]
        },
        {
         "hoverinfo": "text",
         "marker": {
          "color": "lightgrey",
          "opacity": 0
         },
         "mode": "markers",
         "showlegend": false,
         "text": [
          "tensor(0.4714)"
         ],
         "type": "scatter",
         "x": [
          0.5
         ],
         "y": [
          3.0080193281173706
         ]
        },
        {
         "hoverinfo": "text",
         "hoveron": "fills",
         "hovertext": "tensor(0.3776)",
         "marker": {
          "color": "rgb(223, 223, 223)",
          "opacity": 1
         },
         "showlegend": false,
         "text": "tensor(0.3776)",
         "type": "scatter",
         "x": [
          0,
          1
         ],
         "y": [
          3.1129493713378906,
          2.221325397491455
         ]
        },
        {
         "hoverinfo": "text",
         "marker": {
          "color": "lightgrey",
          "opacity": 0
         },
         "mode": "markers",
         "showlegend": false,
         "text": [
          "tensor(0.3776)"
         ],
         "type": "scatter",
         "x": [
          0.5
         ],
         "y": [
          2.667137384414673
         ]
        },
        {
         "hoverinfo": "text",
         "hoveron": "fills",
         "hovertext": "tensor(0.3947)",
         "marker": {
          "color": "rgb(210, 210, 210)",
          "opacity": 1
         },
         "showlegend": false,
         "text": "tensor(0.3947)",
         "type": "scatter",
         "x": [
          0,
          1
         ],
         "y": [
          2.2334070205688477,
          2.221325397491455
         ]
        },
        {
         "hoverinfo": "text",
         "marker": {
          "color": "lightgrey",
          "opacity": 0
         },
         "mode": "markers",
         "showlegend": false,
         "text": [
          "tensor(0.3947)"
         ],
         "type": "scatter",
         "x": [
          0.5
         ],
         "y": [
          2.2273662090301514
         ]
        },
        {
         "hoverinfo": "text",
         "hoveron": "fills",
         "hovertext": "tensor(0.5159)",
         "marker": {
          "color": "rgb(119, 119, 119)",
          "opacity": 1
         },
         "showlegend": false,
         "text": "tensor(0.5159)",
         "type": "scatter",
         "x": [
          0,
          1
         ],
         "y": [
          3.794713258743286,
          2.137263536453247
         ]
        },
        {
         "hoverinfo": "text",
         "marker": {
          "color": "lightgrey",
          "opacity": 0
         },
         "mode": "markers",
         "showlegend": false,
         "text": [
          "tensor(0.5159)"
         ],
         "type": "scatter",
         "x": [
          0.5
         ],
         "y": [
          2.9659883975982666
         ]
        },
        {
         "hoverinfo": "text",
         "hoveron": "fills",
         "hovertext": "tensor(0.4262)",
         "marker": {
          "color": "rgb(186, 186, 186)",
          "opacity": 1
         },
         "showlegend": false,
         "text": "tensor(0.4262)",
         "type": "scatter",
         "x": [
          0,
          1
         ],
         "y": [
          1.8703166246414185,
          2.137263536453247
         ]
        },
        {
         "hoverinfo": "text",
         "marker": {
          "color": "lightgrey",
          "opacity": 0
         },
         "mode": "markers",
         "showlegend": false,
         "text": [
          "tensor(0.4262)"
         ],
         "type": "scatter",
         "x": [
          0.5
         ],
         "y": [
          2.0037900805473328
         ]
        },
        {
         "hoverinfo": "text",
         "hoveron": "fills",
         "hovertext": "tensor(0.4159)",
         "marker": {
          "color": "rgb(194, 194, 194)",
          "opacity": 1
         },
         "showlegend": false,
         "text": "tensor(0.4159)",
         "type": "scatter",
         "x": [
          0,
          1
         ],
         "y": [
          3.174651861190796,
          1.970856785774231
         ]
        },
        {
         "hoverinfo": "text",
         "marker": {
          "color": "lightgrey",
          "opacity": 0
         },
         "mode": "markers",
         "showlegend": false,
         "text": [
          "tensor(0.4159)"
         ],
         "type": "scatter",
         "x": [
          0.5
         ],
         "y": [
          2.5727543234825134
         ]
        },
        {
         "hoverinfo": "text",
         "hoveron": "fills",
         "hovertext": "tensor(0.4236)",
         "marker": {
          "color": "rgb(188, 188, 188)",
          "opacity": 1
         },
         "showlegend": false,
         "text": "tensor(0.4236)",
         "type": "scatter",
         "x": [
          0,
          1
         ],
         "y": [
          2.2334070205688477,
          1.970856785774231
         ]
        },
        {
         "hoverinfo": "text",
         "marker": {
          "color": "lightgrey",
          "opacity": 0
         },
         "mode": "markers",
         "showlegend": false,
         "text": [
          "tensor(0.4236)"
         ],
         "type": "scatter",
         "x": [
          0.5
         ],
         "y": [
          2.1021319031715393
         ]
        },
        {
         "hoverinfo": "text",
         "hoveron": "fills",
         "hovertext": "tensor(0.5354)",
         "marker": {
          "color": "rgb(105, 105, 105)",
          "opacity": 1
         },
         "showlegend": false,
         "text": "tensor(0.5354)",
         "type": "scatter",
         "x": [
          0,
          1
         ],
         "y": [
          3.794713258743286,
          1.8472234010696411
         ]
        },
        {
         "hoverinfo": "text",
         "marker": {
          "color": "lightgrey",
          "opacity": 0
         },
         "mode": "markers",
         "showlegend": false,
         "text": [
          "tensor(0.5354)"
         ],
         "type": "scatter",
         "x": [
          0.5
         ],
         "y": [
          2.8209683299064636
         ]
        },
        {
         "hoverinfo": "text",
         "hoveron": "fills",
         "hovertext": "tensor(0.3961)",
         "marker": {
          "color": "rgb(209, 209, 209)",
          "opacity": 1
         },
         "showlegend": false,
         "text": "tensor(0.3961)",
         "type": "scatter",
         "x": [
          0,
          1
         ],
         "y": [
          3.174651861190796,
          1.8472234010696411
         ]
        },
        {
         "hoverinfo": "text",
         "marker": {
          "color": "lightgrey",
          "opacity": 0
         },
         "mode": "markers",
         "showlegend": false,
         "text": [
          "tensor(0.3961)"
         ],
         "type": "scatter",
         "x": [
          0.5
         ],
         "y": [
          2.5109376311302185
         ]
        },
        {
         "hoverinfo": "text",
         "hoveron": "fills",
         "hovertext": "tensor(0.3818)",
         "marker": {
          "color": "rgb(219, 219, 219)",
          "opacity": 1
         },
         "showlegend": false,
         "text": "tensor(0.3818)",
         "type": "scatter",
         "x": [
          0,
          1
         ],
         "y": [
          3.794713258743286,
          1.8216333389282227
         ]
        },
        {
         "hoverinfo": "text",
         "marker": {
          "color": "lightgrey",
          "opacity": 0
         },
         "mode": "markers",
         "showlegend": false,
         "text": [
          "tensor(0.3818)"
         ],
         "type": "scatter",
         "x": [
          0.5
         ],
         "y": [
          2.8081732988357544
         ]
        },
        {
         "hoverinfo": "text",
         "hoveron": "fills",
         "hovertext": "tensor(0.3959)",
         "marker": {
          "color": "rgb(209, 209, 209)",
          "opacity": 1
         },
         "showlegend": false,
         "text": "tensor(0.3959)",
         "type": "scatter",
         "x": [
          0,
          1
         ],
         "y": [
          2.2334070205688477,
          1.8216333389282227
         ]
        },
        {
         "hoverinfo": "text",
         "marker": {
          "color": "lightgrey",
          "opacity": 0
         },
         "mode": "markers",
         "showlegend": false,
         "text": [
          "tensor(0.3959)"
         ],
         "type": "scatter",
         "x": [
          0.5
         ],
         "y": [
          2.027520179748535
         ]
        },
        {
         "hoverinfo": "text",
         "hoveron": "fills",
         "hovertext": "tensor(0.5065)",
         "marker": {
          "color": "rgb(126, 126, 126)",
          "opacity": 1
         },
         "showlegend": false,
         "text": "tensor(0.5065)",
         "type": "scatter",
         "x": [
          0,
          1
         ],
         "y": [
          3.1129493713378906,
          1.7692784070968628
         ]
        },
        {
         "hoverinfo": "text",
         "marker": {
          "color": "lightgrey",
          "opacity": 0
         },
         "mode": "markers",
         "showlegend": false,
         "text": [
          "tensor(0.5065)"
         ],
         "type": "scatter",
         "x": [
          0.5
         ],
         "y": [
          2.4411138892173767
         ]
        },
        {
         "hoverinfo": "text",
         "hoveron": "fills",
         "hovertext": "tensor(0.4356)",
         "marker": {
          "color": "rgb(179, 179, 179)",
          "opacity": 1
         },
         "showlegend": false,
         "text": "tensor(0.4356)",
         "type": "scatter",
         "x": [
          0,
          1
         ],
         "y": [
          3.5298521518707275,
          1.6622753143310547
         ]
        },
        {
         "hoverinfo": "text",
         "marker": {
          "color": "lightgrey",
          "opacity": 0
         },
         "mode": "markers",
         "showlegend": false,
         "text": [
          "tensor(0.4356)"
         ],
         "type": "scatter",
         "x": [
          0.5
         ],
         "y": [
          2.596063733100891
         ]
        },
        {
         "hoverinfo": "text",
         "hoveron": "fills",
         "hovertext": "tensor(0.4651)",
         "marker": {
          "color": "rgb(157, 157, 157)",
          "opacity": 1
         },
         "showlegend": false,
         "text": "tensor(0.4651)",
         "type": "scatter",
         "x": [
          0,
          1
         ],
         "y": [
          3.174651861190796,
          1.6622753143310547
         ]
        },
        {
         "hoverinfo": "text",
         "marker": {
          "color": "lightgrey",
          "opacity": 0
         },
         "mode": "markers",
         "showlegend": false,
         "text": [
          "tensor(0.4651)"
         ],
         "type": "scatter",
         "x": [
          0.5
         ],
         "y": [
          2.4184635877609253
         ]
        },
        {
         "hoverinfo": "text",
         "hoveron": "fills",
         "hovertext": "tensor(0.4928)",
         "marker": {
          "color": "rgb(136, 136, 136)",
          "opacity": 1
         },
         "showlegend": false,
         "text": "tensor(0.4928)",
         "type": "scatter",
         "x": [
          0,
          1
         ],
         "y": [
          3.794713258743286,
          1.6028425693511963
         ]
        },
        {
         "hoverinfo": "text",
         "marker": {
          "color": "lightgrey",
          "opacity": 0
         },
         "mode": "markers",
         "showlegend": false,
         "text": [
          "tensor(0.4928)"
         ],
         "type": "scatter",
         "x": [
          0.5
         ],
         "y": [
          2.698777914047241
         ]
        },
        {
         "hoverinfo": "text",
         "hoveron": "fills",
         "hovertext": "tensor(0.4574)",
         "marker": {
          "color": "rgb(163, 163, 163)",
          "opacity": 1
         },
         "showlegend": false,
         "text": "tensor(0.4574)",
         "type": "scatter",
         "x": [
          0,
          1
         ],
         "y": [
          3.5298521518707275,
          1.6028425693511963
         ]
        },
        {
         "hoverinfo": "text",
         "marker": {
          "color": "lightgrey",
          "opacity": 0
         },
         "mode": "markers",
         "showlegend": false,
         "text": [
          "tensor(0.4574)"
         ],
         "type": "scatter",
         "x": [
          0.5
         ],
         "y": [
          2.566347360610962
         ]
        },
        {
         "hoverinfo": "text",
         "hoveron": "fills",
         "hovertext": "tensor(0.4053)",
         "marker": {
          "color": "rgb(202, 202, 202)",
          "opacity": 1
         },
         "showlegend": false,
         "text": "tensor(0.4053)",
         "type": "scatter",
         "x": [
          0,
          1
         ],
         "y": [
          3.794713258743286,
          1.5505636930465698
         ]
        },
        {
         "hoverinfo": "text",
         "marker": {
          "color": "lightgrey",
          "opacity": 0
         },
         "mode": "markers",
         "showlegend": false,
         "text": [
          "tensor(0.4053)"
         ],
         "type": "scatter",
         "x": [
          0.5
         ],
         "y": [
          2.672638475894928
         ]
        },
        {
         "hoverinfo": "text",
         "hoveron": "fills",
         "hovertext": "tensor(0.4099)",
         "marker": {
          "color": "rgb(198, 198, 198)",
          "opacity": 1
         },
         "showlegend": false,
         "text": "tensor(0.4099)",
         "type": "scatter",
         "x": [
          0,
          1
         ],
         "y": [
          3.1129493713378906,
          1.4318276643753052
         ]
        },
        {
         "hoverinfo": "text",
         "marker": {
          "color": "lightgrey",
          "opacity": 0
         },
         "mode": "markers",
         "showlegend": false,
         "text": [
          "tensor(0.4099)"
         ],
         "type": "scatter",
         "x": [
          0.5
         ],
         "y": [
          2.272388517856598
         ]
        },
        {
         "hoverinfo": "text",
         "hoveron": "fills",
         "hovertext": "tensor(0.3789)",
         "marker": {
          "color": "rgb(222, 222, 222)",
          "opacity": 1
         },
         "showlegend": false,
         "text": "tensor(0.3789)",
         "type": "scatter",
         "x": [
          0,
          1
         ],
         "y": [
          3.794713258743286,
          1.418615460395813
         ]
        },
        {
         "hoverinfo": "text",
         "marker": {
          "color": "lightgrey",
          "opacity": 0
         },
         "mode": "markers",
         "showlegend": false,
         "text": [
          "tensor(0.3789)"
         ],
         "type": "scatter",
         "x": [
          0.5
         ],
         "y": [
          2.6066643595695496
         ]
        },
        {
         "hoverinfo": "text",
         "hoveron": "fills",
         "hovertext": "tensor(0.3751)",
         "marker": {
          "color": "rgb(224, 224, 224)",
          "opacity": 1
         },
         "showlegend": false,
         "text": "tensor(0.3751)",
         "type": "scatter",
         "x": [
          0,
          1
         ],
         "y": [
          3.5298521518707275,
          1.418615460395813
         ]
        },
        {
         "hoverinfo": "text",
         "marker": {
          "color": "lightgrey",
          "opacity": 0
         },
         "mode": "markers",
         "showlegend": false,
         "text": [
          "tensor(0.3751)"
         ],
         "type": "scatter",
         "x": [
          0.5
         ],
         "y": [
          2.4742338061332703
         ]
        },
        {
         "hoverinfo": "text",
         "hoveron": "fills",
         "hovertext": "tensor(0.4165)",
         "marker": {
          "color": "rgb(193, 193, 193)",
          "opacity": 1
         },
         "showlegend": false,
         "text": "tensor(0.4165)",
         "type": "scatter",
         "x": [
          0,
          1
         ],
         "y": [
          1.8703166246414185,
          1.418615460395813
         ]
        },
        {
         "hoverinfo": "text",
         "marker": {
          "color": "lightgrey",
          "opacity": 0
         },
         "mode": "markers",
         "showlegend": false,
         "text": [
          "tensor(0.4165)"
         ],
         "type": "scatter",
         "x": [
          0.5
         ],
         "y": [
          1.6444660425186157
         ]
        },
        {
         "hoverinfo": "text",
         "hoveron": "fills",
         "hovertext": "tensor(0.4329)",
         "marker": {
          "color": "rgb(181, 181, 181)",
          "opacity": 1
         },
         "showlegend": false,
         "text": "tensor(0.4329)",
         "type": "scatter",
         "x": [
          0,
          1
         ],
         "y": [
          3.5298521518707275,
          1.3469513654708862
         ]
        },
        {
         "hoverinfo": "text",
         "marker": {
          "color": "lightgrey",
          "opacity": 0
         },
         "mode": "markers",
         "showlegend": false,
         "text": [
          "tensor(0.4329)"
         ],
         "type": "scatter",
         "x": [
          0.5
         ],
         "y": [
          2.438401758670807
         ]
        },
        {
         "hoverinfo": "text",
         "hoveron": "fills",
         "hovertext": "tensor(0.4169)",
         "marker": {
          "color": "rgb(193, 193, 193)",
          "opacity": 1
         },
         "showlegend": false,
         "text": "tensor(0.4169)",
         "type": "scatter",
         "x": [
          0,
          1
         ],
         "y": [
          3.174651861190796,
          1.2487871646881104
         ]
        },
        {
         "hoverinfo": "text",
         "marker": {
          "color": "lightgrey",
          "opacity": 0
         },
         "mode": "markers",
         "showlegend": false,
         "text": [
          "tensor(0.4169)"
         ],
         "type": "scatter",
         "x": [
          0.5
         ],
         "y": [
          2.211719512939453
         ]
        },
        {
         "hoverinfo": "text",
         "hoveron": "fills",
         "hovertext": "tensor(0.4360)",
         "marker": {
          "color": "rgb(179, 179, 179)",
          "opacity": 1
         },
         "showlegend": false,
         "text": "tensor(0.4360)",
         "type": "scatter",
         "x": [
          0,
          1
         ],
         "y": [
          3.174651861190796,
          1.2146083116531372
         ]
        },
        {
         "hoverinfo": "text",
         "marker": {
          "color": "lightgrey",
          "opacity": 0
         },
         "mode": "markers",
         "showlegend": false,
         "text": [
          "tensor(0.4360)"
         ],
         "type": "scatter",
         "x": [
          0.5
         ],
         "y": [
          2.1946300864219666
         ]
        },
        {
         "hoverinfo": "text",
         "hoveron": "fills",
         "hovertext": "tensor(0.4268)",
         "marker": {
          "color": "rgb(186, 186, 186)",
          "opacity": 1
         },
         "showlegend": false,
         "text": "tensor(0.4268)",
         "type": "scatter",
         "x": [
          0,
          1
         ],
         "y": [
          3.794713258743286,
          1.1437726020812988
         ]
        },
        {
         "hoverinfo": "text",
         "marker": {
          "color": "lightgrey",
          "opacity": 0
         },
         "mode": "markers",
         "showlegend": false,
         "text": [
          "tensor(0.4268)"
         ],
         "type": "scatter",
         "x": [
          0.5
         ],
         "y": [
          2.4692429304122925
         ]
        },
        {
         "hoverinfo": "text",
         "hoveron": "fills",
         "hovertext": "tensor(0.4196)",
         "marker": {
          "color": "rgb(191, 191, 191)",
          "opacity": 1
         },
         "showlegend": false,
         "text": "tensor(0.4196)",
         "type": "scatter",
         "x": [
          0,
          1
         ],
         "y": [
          3.5298521518707275,
          1.1437726020812988
         ]
        },
        {
         "hoverinfo": "text",
         "marker": {
          "color": "lightgrey",
          "opacity": 0
         },
         "mode": "markers",
         "showlegend": false,
         "text": [
          "tensor(0.4196)"
         ],
         "type": "scatter",
         "x": [
          0.5
         ],
         "y": [
          2.336812376976013
         ]
        },
        {
         "hoverinfo": "text",
         "hoveron": "fills",
         "hovertext": "tensor(0.4011)",
         "marker": {
          "color": "rgb(205, 205, 205)",
          "opacity": 1
         },
         "showlegend": false,
         "text": "tensor(0.4011)",
         "type": "scatter",
         "x": [
          0,
          1
         ],
         "y": [
          3.794713258743286,
          1.0473504066467285
         ]
        },
        {
         "hoverinfo": "text",
         "marker": {
          "color": "lightgrey",
          "opacity": 0
         },
         "mode": "markers",
         "showlegend": false,
         "text": [
          "tensor(0.4011)"
         ],
         "type": "scatter",
         "x": [
          0.5
         ],
         "y": [
          2.4210318326950073
         ]
        },
        {
         "hoverinfo": "text",
         "hoveron": "fills",
         "hovertext": "tensor(0.4858)",
         "marker": {
          "color": "rgb(142, 142, 142)",
          "opacity": 1
         },
         "showlegend": false,
         "text": "tensor(0.4858)",
         "type": "scatter",
         "x": [
          0,
          1
         ],
         "y": [
          3.1129493713378906,
          1.0473504066467285
         ]
        },
        {
         "hoverinfo": "text",
         "marker": {
          "color": "lightgrey",
          "opacity": 0
         },
         "mode": "markers",
         "showlegend": false,
         "text": [
          "tensor(0.4858)"
         ],
         "type": "scatter",
         "x": [
          0.5
         ],
         "y": [
          2.0801498889923096
         ]
        },
        {
         "hoverinfo": "text",
         "hoveron": "fills",
         "hovertext": "tensor(0.4069)",
         "marker": {
          "color": "rgb(201, 201, 201)",
          "opacity": 1
         },
         "showlegend": false,
         "text": "tensor(0.4069)",
         "type": "scatter",
         "x": [
          0,
          1
         ],
         "y": [
          3.174651861190796,
          0.945694625377655
         ]
        },
        {
         "hoverinfo": "text",
         "marker": {
          "color": "lightgrey",
          "opacity": 0
         },
         "mode": "markers",
         "showlegend": false,
         "text": [
          "tensor(0.4069)"
         ],
         "type": "scatter",
         "x": [
          0.5
         ],
         "y": [
          2.0601732432842255
         ]
        },
        {
         "hoverinfo": "text",
         "hoveron": "fills",
         "hovertext": "tensor(0.3863)",
         "marker": {
          "color": "rgb(216, 216, 216)",
          "opacity": 1
         },
         "showlegend": false,
         "text": "tensor(0.3863)",
         "type": "scatter",
         "x": [
          0,
          1
         ],
         "y": [
          3.174651861190796,
          0.8879631161689758
         ]
        },
        {
         "hoverinfo": "text",
         "marker": {
          "color": "lightgrey",
          "opacity": 0
         },
         "mode": "markers",
         "showlegend": false,
         "text": [
          "tensor(0.3863)"
         ],
         "type": "scatter",
         "x": [
          0.5
         ],
         "y": [
          2.031307488679886
         ]
        },
        {
         "hoverinfo": "text",
         "hoveron": "fills",
         "hovertext": "tensor(0.4007)",
         "marker": {
          "color": "rgb(205, 205, 205)",
          "opacity": 1
         },
         "showlegend": false,
         "text": "tensor(0.4007)",
         "type": "scatter",
         "x": [
          0,
          1
         ],
         "y": [
          3.1129493713378906,
          0.8163379430770874
         ]
        },
        {
         "hoverinfo": "text",
         "marker": {
          "color": "lightgrey",
          "opacity": 0
         },
         "mode": "markers",
         "showlegend": false,
         "text": [
          "tensor(0.4007)"
         ],
         "type": "scatter",
         "x": [
          0.5
         ],
         "y": [
          1.964643657207489
         ]
        },
        {
         "hoverinfo": "text",
         "hoveron": "fills",
         "hovertext": "tensor(0.4023)",
         "marker": {
          "color": "rgb(204, 204, 204)",
          "opacity": 1
         },
         "showlegend": false,
         "text": "tensor(0.4023)",
         "type": "scatter",
         "x": [
          0,
          1
         ],
         "y": [
          1.8703166246414185,
          0.666287362575531
         ]
        },
        {
         "hoverinfo": "text",
         "marker": {
          "color": "lightgrey",
          "opacity": 0
         },
         "mode": "markers",
         "showlegend": false,
         "text": [
          "tensor(0.4023)"
         ],
         "type": "scatter",
         "x": [
          0.5
         ],
         "y": [
          1.2683019936084747
         ]
        },
        {
         "hoverinfo": "text",
         "hoveron": "fills",
         "hovertext": "tensor(0.2673)",
         "marker": {
          "color": "rgb(222, 222, 222)",
          "opacity": 1
         },
         "showlegend": false,
         "text": "tensor(0.2673)",
         "type": "scatter",
         "x": [
          1,
          2
         ],
         "y": [
          2.3946924209594727,
          3.0063483715057373
         ]
        },
        {
         "hoverinfo": "text",
         "marker": {
          "color": "lightgrey",
          "opacity": 0
         },
         "mode": "markers",
         "showlegend": false,
         "text": [
          "tensor(0.2673)"
         ],
         "type": "scatter",
         "x": [
          1.5
         ],
         "y": [
          2.700520396232605
         ]
        },
        {
         "hoverinfo": "text",
         "hoveron": "fills",
         "hovertext": "tensor(0.2953)",
         "marker": {
          "color": "rgb(185, 185, 185)",
          "opacity": 1
         },
         "showlegend": false,
         "text": "tensor(0.2953)",
         "type": "scatter",
         "x": [
          1,
          2
         ],
         "y": [
          2.221325397491455,
          3.0063483715057373
         ]
        },
        {
         "hoverinfo": "text",
         "marker": {
          "color": "lightgrey",
          "opacity": 0
         },
         "mode": "markers",
         "showlegend": false,
         "text": [
          "tensor(0.2953)"
         ],
         "type": "scatter",
         "x": [
          1.5
         ],
         "y": [
          2.613836884498596
         ]
        },
        {
         "hoverinfo": "text",
         "hoveron": "fills",
         "hovertext": "tensor(0.2700)",
         "marker": {
          "color": "rgb(218, 218, 218)",
          "opacity": 1
         },
         "showlegend": false,
         "text": "tensor(0.2700)",
         "type": "scatter",
         "x": [
          1,
          2
         ],
         "y": [
          1.8472234010696411,
          3.0063483715057373
         ]
        },
        {
         "hoverinfo": "text",
         "marker": {
          "color": "lightgrey",
          "opacity": 0
         },
         "mode": "markers",
         "showlegend": false,
         "text": [
          "tensor(0.2700)"
         ],
         "type": "scatter",
         "x": [
          1.5
         ],
         "y": [
          2.426785886287689
         ]
        },
        {
         "hoverinfo": "text",
         "hoveron": "fills",
         "hovertext": "tensor(0.3499)",
         "marker": {
          "color": "rgb(115, 115, 115)",
          "opacity": 1
         },
         "showlegend": false,
         "text": "tensor(0.3499)",
         "type": "scatter",
         "x": [
          1,
          2
         ],
         "y": [
          1.7692784070968628,
          3.0063483715057373
         ]
        },
        {
         "hoverinfo": "text",
         "marker": {
          "color": "lightgrey",
          "opacity": 0
         },
         "mode": "markers",
         "showlegend": false,
         "text": [
          "tensor(0.3499)"
         ],
         "type": "scatter",
         "x": [
          1.5
         ],
         "y": [
          2.3878133893013
         ]
        },
        {
         "hoverinfo": "text",
         "hoveron": "fills",
         "hovertext": "tensor(0.2981)",
         "marker": {
          "color": "rgb(182, 182, 182)",
          "opacity": 1
         },
         "showlegend": false,
         "text": "tensor(0.2981)",
         "type": "scatter",
         "x": [
          1,
          2
         ],
         "y": [
          2.221325397491455,
          2.6082797050476074
         ]
        },
        {
         "hoverinfo": "text",
         "marker": {
          "color": "lightgrey",
          "opacity": 0
         },
         "mode": "markers",
         "showlegend": false,
         "text": [
          "tensor(0.2981)"
         ],
         "type": "scatter",
         "x": [
          1.5
         ],
         "y": [
          2.4148025512695312
         ]
        },
        {
         "hoverinfo": "text",
         "hoveron": "fills",
         "hovertext": "tensor(0.3122)",
         "marker": {
          "color": "rgb(164, 164, 164)",
          "opacity": 1
         },
         "showlegend": false,
         "text": "tensor(0.3122)",
         "type": "scatter",
         "x": [
          1,
          2
         ],
         "y": [
          1.970856785774231,
          2.6082797050476074
         ]
        },
        {
         "hoverinfo": "text",
         "marker": {
          "color": "lightgrey",
          "opacity": 0
         },
         "mode": "markers",
         "showlegend": false,
         "text": [
          "tensor(0.3122)"
         ],
         "type": "scatter",
         "x": [
          1.5
         ],
         "y": [
          2.289568245410919
         ]
        },
        {
         "hoverinfo": "text",
         "hoveron": "fills",
         "hovertext": "tensor(0.3048)",
         "marker": {
          "color": "rgb(173, 173, 173)",
          "opacity": 1
         },
         "showlegend": false,
         "text": "tensor(0.3048)",
         "type": "scatter",
         "x": [
          1,
          2
         ],
         "y": [
          1.7692784070968628,
          2.6082797050476074
         ]
        },
        {
         "hoverinfo": "text",
         "marker": {
          "color": "lightgrey",
          "opacity": 0
         },
         "mode": "markers",
         "showlegend": false,
         "text": [
          "tensor(0.3048)"
         ],
         "type": "scatter",
         "x": [
          1.5
         ],
         "y": [
          2.188779056072235
         ]
        },
        {
         "hoverinfo": "text",
         "hoveron": "fills",
         "hovertext": "tensor(0.2779)",
         "marker": {
          "color": "rgb(208, 208, 208)",
          "opacity": 1
         },
         "showlegend": false,
         "text": "tensor(0.2779)",
         "type": "scatter",
         "x": [
          1,
          2
         ],
         "y": [
          1.6028425693511963,
          2.6082797050476074
         ]
        },
        {
         "hoverinfo": "text",
         "marker": {
          "color": "lightgrey",
          "opacity": 0
         },
         "mode": "markers",
         "showlegend": false,
         "text": [
          "tensor(0.2779)"
         ],
         "type": "scatter",
         "x": [
          1.5
         ],
         "y": [
          2.105561137199402
         ]
        },
        {
         "hoverinfo": "text",
         "hoveron": "fills",
         "hovertext": "tensor(0.3000)",
         "marker": {
          "color": "rgb(179, 179, 179)",
          "opacity": 1
         },
         "showlegend": false,
         "text": "tensor(0.3000)",
         "type": "scatter",
         "x": [
          1,
          2
         ],
         "y": [
          2.619462490081787,
          2.4827346801757812
         ]
        },
        {
         "hoverinfo": "text",
         "marker": {
          "color": "lightgrey",
          "opacity": 0
         },
         "mode": "markers",
         "showlegend": false,
         "text": [
          "tensor(0.3000)"
         ],
         "type": "scatter",
         "x": [
          1.5
         ],
         "y": [
          2.551098585128784
         ]
        },
        {
         "hoverinfo": "text",
         "hoveron": "fills",
         "hovertext": "tensor(0.3348)",
         "marker": {
          "color": "rgb(134, 134, 134)",
          "opacity": 1
         },
         "showlegend": false,
         "text": "tensor(0.3348)",
         "type": "scatter",
         "x": [
          1,
          2
         ],
         "y": [
          1.6028425693511963,
          2.4827346801757812
         ]
        },
        {
         "hoverinfo": "text",
         "marker": {
          "color": "lightgrey",
          "opacity": 0
         },
         "mode": "markers",
         "showlegend": false,
         "text": [
          "tensor(0.3348)"
         ],
         "type": "scatter",
         "x": [
          1.5
         ],
         "y": [
          2.0427886247634888
         ]
        },
        {
         "hoverinfo": "text",
         "hoveron": "fills",
         "hovertext": "tensor(0.2693)",
         "marker": {
          "color": "rgb(219, 219, 219)",
          "opacity": 1
         },
         "showlegend": false,
         "text": "tensor(0.2693)",
         "type": "scatter",
         "x": [
          1,
          2
         ],
         "y": [
          2.596273183822632,
          2.3844170570373535
         ]
        },
        {
         "hoverinfo": "text",
         "marker": {
          "color": "lightgrey",
          "opacity": 0
         },
         "mode": "markers",
         "showlegend": false,
         "text": [
          "tensor(0.2693)"
         ],
         "type": "scatter",
         "x": [
          1.5
         ],
         "y": [
          2.4903451204299927
         ]
        },
        {
         "hoverinfo": "text",
         "hoveron": "fills",
         "hovertext": "tensor(0.2701)",
         "marker": {
          "color": "rgb(218, 218, 218)",
          "opacity": 1
         },
         "showlegend": false,
         "text": "tensor(0.2701)",
         "type": "scatter",
         "x": [
          1,
          2
         ],
         "y": [
          1.8216333389282227,
          2.3844170570373535
         ]
        },
        {
         "hoverinfo": "text",
         "marker": {
          "color": "lightgrey",
          "opacity": 0
         },
         "mode": "markers",
         "showlegend": false,
         "text": [
          "tensor(0.2701)"
         ],
         "type": "scatter",
         "x": [
          1.5
         ],
         "y": [
          2.103025197982788
         ]
        },
        {
         "hoverinfo": "text",
         "hoveron": "fills",
         "hovertext": "tensor(0.2736)",
         "marker": {
          "color": "rgb(214, 214, 214)",
          "opacity": 1
         },
         "showlegend": false,
         "text": "tensor(0.2736)",
         "type": "scatter",
         "x": [
          1,
          2
         ],
         "y": [
          1.6622753143310547,
          2.3844170570373535
         ]
        },
        {
         "hoverinfo": "text",
         "marker": {
          "color": "lightgrey",
          "opacity": 0
         },
         "mode": "markers",
         "showlegend": false,
         "text": [
          "tensor(0.2736)"
         ],
         "type": "scatter",
         "x": [
          1.5
         ],
         "y": [
          2.023346185684204
         ]
        },
        {
         "hoverinfo": "text",
         "hoveron": "fills",
         "hovertext": "tensor(0.2938)",
         "marker": {
          "color": "rgb(187, 187, 187)",
          "opacity": 1
         },
         "showlegend": false,
         "text": "tensor(0.2938)",
         "type": "scatter",
         "x": [
          1,
          2
         ],
         "y": [
          1.970856785774231,
          2.222792148590088
         ]
        },
        {
         "hoverinfo": "text",
         "marker": {
          "color": "lightgrey",
          "opacity": 0
         },
         "mode": "markers",
         "showlegend": false,
         "text": [
          "tensor(0.2938)"
         ],
         "type": "scatter",
         "x": [
          1.5
         ],
         "y": [
          2.0968244671821594
         ]
        },
        {
         "hoverinfo": "text",
         "hoveron": "fills",
         "hovertext": "tensor(0.3003)",
         "marker": {
          "color": "rgb(179, 179, 179)",
          "opacity": 1
         },
         "showlegend": false,
         "text": "tensor(0.3003)",
         "type": "scatter",
         "x": [
          1,
          2
         ],
         "y": [
          1.7692784070968628,
          2.222792148590088
         ]
        },
        {
         "hoverinfo": "text",
         "marker": {
          "color": "lightgrey",
          "opacity": 0
         },
         "mode": "markers",
         "showlegend": false,
         "text": [
          "tensor(0.3003)"
         ],
         "type": "scatter",
         "x": [
          1.5
         ],
         "y": [
          1.9960352778434753
         ]
        },
        {
         "hoverinfo": "text",
         "hoveron": "fills",
         "hovertext": "tensor(0.3578)",
         "marker": {
          "color": "rgb(105, 105, 105)",
          "opacity": 1
         },
         "showlegend": false,
         "text": "tensor(0.3578)",
         "type": "scatter",
         "x": [
          1,
          2
         ],
         "y": [
          1.2487871646881104,
          2.222792148590088
         ]
        },
        {
         "hoverinfo": "text",
         "marker": {
          "color": "lightgrey",
          "opacity": 0
         },
         "mode": "markers",
         "showlegend": false,
         "text": [
          "tensor(0.3578)"
         ],
         "type": "scatter",
         "x": [
          1.5
         ],
         "y": [
          1.7357896566390991
         ]
        },
        {
         "hoverinfo": "text",
         "hoveron": "fills",
         "hovertext": "tensor(0.3438)",
         "marker": {
          "color": "rgb(123, 123, 123)",
          "opacity": 1
         },
         "showlegend": false,
         "text": "tensor(0.3438)",
         "type": "scatter",
         "x": [
          1,
          2
         ],
         "y": [
          2.137263536453247,
          2.1357510089874268
         ]
        },
        {
         "hoverinfo": "text",
         "marker": {
          "color": "lightgrey",
          "opacity": 0
         },
         "mode": "markers",
         "showlegend": false,
         "text": [
          "tensor(0.3438)"
         ],
         "type": "scatter",
         "x": [
          1.5
         ],
         "y": [
          2.136507272720337
         ]
        },
        {
         "hoverinfo": "text",
         "hoveron": "fills",
         "hovertext": "tensor(0.2771)",
         "marker": {
          "color": "rgb(209, 209, 209)",
          "opacity": 1
         },
         "showlegend": false,
         "text": "tensor(0.2771)",
         "type": "scatter",
         "x": [
          1,
          2
         ],
         "y": [
          1.5505636930465698,
          2.1357510089874268
         ]
        },
        {
         "hoverinfo": "text",
         "marker": {
          "color": "lightgrey",
          "opacity": 0
         },
         "mode": "markers",
         "showlegend": false,
         "text": [
          "tensor(0.2771)"
         ],
         "type": "scatter",
         "x": [
          1.5
         ],
         "y": [
          1.8431573510169983
         ]
        },
        {
         "hoverinfo": "text",
         "hoveron": "fills",
         "hovertext": "tensor(0.2814)",
         "marker": {
          "color": "rgb(203, 203, 203)",
          "opacity": 1
         },
         "showlegend": false,
         "text": "tensor(0.2814)",
         "type": "scatter",
         "x": [
          1,
          2
         ],
         "y": [
          2.3428449630737305,
          2.025749444961548
         ]
        },
        {
         "hoverinfo": "text",
         "marker": {
          "color": "lightgrey",
          "opacity": 0
         },
         "mode": "markers",
         "showlegend": false,
         "text": [
          "tensor(0.2814)"
         ],
         "type": "scatter",
         "x": [
          1.5
         ],
         "y": [
          2.184297204017639
         ]
        },
        {
         "hoverinfo": "text",
         "hoveron": "fills",
         "hovertext": "tensor(0.3270)",
         "marker": {
          "color": "rgb(144, 144, 144)",
          "opacity": 1
         },
         "showlegend": false,
         "text": "tensor(0.3270)",
         "type": "scatter",
         "x": [
          1,
          2
         ],
         "y": [
          2.221325397491455,
          2.025749444961548
         ]
        },
        {
         "hoverinfo": "text",
         "marker": {
          "color": "lightgrey",
          "opacity": 0
         },
         "mode": "markers",
         "showlegend": false,
         "text": [
          "tensor(0.3270)"
         ],
         "type": "scatter",
         "x": [
          1.5
         ],
         "y": [
          2.1235374212265015
         ]
        },
        {
         "hoverinfo": "text",
         "hoveron": "fills",
         "hovertext": "tensor(0.3193)",
         "marker": {
          "color": "rgb(154, 154, 154)",
          "opacity": 1
         },
         "showlegend": false,
         "text": "tensor(0.3193)",
         "type": "scatter",
         "x": [
          1,
          2
         ],
         "y": [
          2.3428449630737305,
          1.8898452520370483
         ]
        },
        {
         "hoverinfo": "text",
         "marker": {
          "color": "lightgrey",
          "opacity": 0
         },
         "mode": "markers",
         "showlegend": false,
         "text": [
          "tensor(0.3193)"
         ],
         "type": "scatter",
         "x": [
          1.5
         ],
         "y": [
          2.1163451075553894
         ]
        },
        {
         "hoverinfo": "text",
         "hoveron": "fills",
         "hovertext": "tensor(0.2782)",
         "marker": {
          "color": "rgb(208, 208, 208)",
          "opacity": 1
         },
         "showlegend": false,
         "text": "tensor(0.2782)",
         "type": "scatter",
         "x": [
          1,
          2
         ],
         "y": [
          1.970856785774231,
          1.8898452520370483
         ]
        },
        {
         "hoverinfo": "text",
         "marker": {
          "color": "lightgrey",
          "opacity": 0
         },
         "mode": "markers",
         "showlegend": false,
         "text": [
          "tensor(0.2782)"
         ],
         "type": "scatter",
         "x": [
          1.5
         ],
         "y": [
          1.9303510189056396
         ]
        },
        {
         "hoverinfo": "text",
         "hoveron": "fills",
         "hovertext": "tensor(0.2698)",
         "marker": {
          "color": "rgb(219, 219, 219)",
          "opacity": 1
         },
         "showlegend": false,
         "text": "tensor(0.2698)",
         "type": "scatter",
         "x": [
          1,
          2
         ],
         "y": [
          2.619462490081787,
          1.7701843976974487
         ]
        },
        {
         "hoverinfo": "text",
         "marker": {
          "color": "lightgrey",
          "opacity": 0
         },
         "mode": "markers",
         "showlegend": false,
         "text": [
          "tensor(0.2698)"
         ],
         "type": "scatter",
         "x": [
          1.5
         ],
         "y": [
          2.194823443889618
         ]
        },
        {
         "hoverinfo": "text",
         "hoveron": "fills",
         "hovertext": "tensor(0.2822)",
         "marker": {
          "color": "rgb(202, 202, 202)",
          "opacity": 1
         },
         "showlegend": false,
         "text": "tensor(0.2822)",
         "type": "scatter",
         "x": [
          1,
          2
         ],
         "y": [
          1.5505636930465698,
          1.7701843976974487
         ]
        },
        {
         "hoverinfo": "text",
         "marker": {
          "color": "lightgrey",
          "opacity": 0
         },
         "mode": "markers",
         "showlegend": false,
         "text": [
          "tensor(0.2822)"
         ],
         "type": "scatter",
         "x": [
          1.5
         ],
         "y": [
          1.6603740453720093
         ]
        },
        {
         "hoverinfo": "text",
         "hoveron": "fills",
         "hovertext": "tensor(0.2773)",
         "marker": {
          "color": "rgb(209, 209, 209)",
          "opacity": 1
         },
         "showlegend": false,
         "text": "tensor(0.2773)",
         "type": "scatter",
         "x": [
          1,
          2
         ],
         "y": [
          1.4318276643753052,
          1.7072043418884277
         ]
        },
        {
         "hoverinfo": "text",
         "marker": {
          "color": "lightgrey",
          "opacity": 0
         },
         "mode": "markers",
         "showlegend": false,
         "text": [
          "tensor(0.2773)"
         ],
         "type": "scatter",
         "x": [
          1.5
         ],
         "y": [
          1.5695160031318665
         ]
        },
        {
         "hoverinfo": "text",
         "hoveron": "fills",
         "hovertext": "tensor(0.3378)",
         "marker": {
          "color": "rgb(130, 130, 130)",
          "opacity": 1
         },
         "showlegend": false,
         "text": "tensor(0.3378)",
         "type": "scatter",
         "x": [
          1,
          2
         ],
         "y": [
          2.596273183822632,
          1.702305555343628
         ]
        },
        {
         "hoverinfo": "text",
         "marker": {
          "color": "lightgrey",
          "opacity": 0
         },
         "mode": "markers",
         "showlegend": false,
         "text": [
          "tensor(0.3378)"
         ],
         "type": "scatter",
         "x": [
          1.5
         ],
         "y": [
          2.14928936958313
         ]
        },
        {
         "hoverinfo": "text",
         "hoveron": "fills",
         "hovertext": "tensor(0.2702)",
         "marker": {
          "color": "rgb(218, 218, 218)",
          "opacity": 1
         },
         "showlegend": false,
         "text": "tensor(0.2702)",
         "type": "scatter",
         "x": [
          1,
          2
         ],
         "y": [
          1.970856785774231,
          1.702305555343628
         ]
        },
        {
         "hoverinfo": "text",
         "marker": {
          "color": "lightgrey",
          "opacity": 0
         },
         "mode": "markers",
         "showlegend": false,
         "text": [
          "tensor(0.2702)"
         ],
         "type": "scatter",
         "x": [
          1.5
         ],
         "y": [
          1.8365811705589294
         ]
        },
        {
         "hoverinfo": "text",
         "hoveron": "fills",
         "hovertext": "tensor(0.2764)",
         "marker": {
          "color": "rgb(210, 210, 210)",
          "opacity": 1
         },
         "showlegend": false,
         "text": "tensor(0.2764)",
         "type": "scatter",
         "x": [
          1,
          2
         ],
         "y": [
          2.221325397491455,
          1.4379551410675049
         ]
        },
        {
         "hoverinfo": "text",
         "marker": {
          "color": "lightgrey",
          "opacity": 0
         },
         "mode": "markers",
         "showlegend": false,
         "text": [
          "tensor(0.2764)"
         ],
         "type": "scatter",
         "x": [
          1.5
         ],
         "y": [
          1.82964026927948
         ]
        },
        {
         "hoverinfo": "text",
         "hoveron": "fills",
         "hovertext": "tensor(0.2658)",
         "marker": {
          "color": "rgb(224, 224, 224)",
          "opacity": 1
         },
         "showlegend": false,
         "text": "tensor(0.2658)",
         "type": "scatter",
         "x": [
          1,
          2
         ],
         "y": [
          2.137263536453247,
          1.4379551410675049
         ]
        },
        {
         "hoverinfo": "text",
         "marker": {
          "color": "lightgrey",
          "opacity": 0
         },
         "mode": "markers",
         "showlegend": false,
         "text": [
          "tensor(0.2658)"
         ],
         "type": "scatter",
         "x": [
          1.5
         ],
         "y": [
          1.787609338760376
         ]
        },
        {
         "hoverinfo": "text",
         "hoveron": "fills",
         "hovertext": "tensor(0.3427)",
         "marker": {
          "color": "rgb(124, 124, 124)",
          "opacity": 1
         },
         "showlegend": false,
         "text": "tensor(0.3427)",
         "type": "scatter",
         "x": [
          1,
          2
         ],
         "y": [
          2.137263536453247,
          1.2427138090133667
         ]
        },
        {
         "hoverinfo": "text",
         "marker": {
          "color": "lightgrey",
          "opacity": 0
         },
         "mode": "markers",
         "showlegend": false,
         "text": [
          "tensor(0.3427)"
         ],
         "type": "scatter",
         "x": [
          1.5
         ],
         "y": [
          1.6899886727333069
         ]
        },
        {
         "hoverinfo": "text",
         "hoveron": "fills",
         "hovertext": "tensor(0.3836)",
         "marker": {
          "color": "rgb(208, 208, 208)",
          "opacity": 1
         },
         "showlegend": false,
         "text": "tensor(0.3836)",
         "type": "scatter",
         "x": [
          2,
          3
         ],
         "y": [
          2.6082797050476074,
          4.51681661605835
         ]
        },
        {
         "hoverinfo": "text",
         "marker": {
          "color": "lightgrey",
          "opacity": 0
         },
         "mode": "markers",
         "showlegend": false,
         "text": [
          "tensor(0.3836)"
         ],
         "type": "scatter",
         "x": [
          2.5
         ],
         "y": [
          3.5625481605529785
         ]
        },
        {
         "hoverinfo": "text",
         "hoveron": "fills",
         "hovertext": "tensor(0.4092)",
         "marker": {
          "color": "rgb(161, 161, 161)",
          "opacity": 1
         },
         "showlegend": false,
         "text": "tensor(0.4092)",
         "type": "scatter",
         "x": [
          2,
          3
         ],
         "y": [
          2.222792148590088,
          4.51681661605835
         ]
        },
        {
         "hoverinfo": "text",
         "marker": {
          "color": "lightgrey",
          "opacity": 0
         },
         "mode": "markers",
         "showlegend": false,
         "text": [
          "tensor(0.4092)"
         ],
         "type": "scatter",
         "x": [
          2.5
         ],
         "y": [
          3.3698043823242188
         ]
        },
        {
         "hoverinfo": "text",
         "hoveron": "fills",
         "hovertext": "tensor(0.4394)",
         "marker": {
          "color": "rgb(105, 105, 105)",
          "opacity": 1
         },
         "showlegend": false,
         "text": "tensor(0.4394)",
         "type": "scatter",
         "x": [
          2,
          3
         ],
         "y": [
          3.0063483715057373,
          3.746652126312256
         ]
        },
        {
         "hoverinfo": "text",
         "marker": {
          "color": "lightgrey",
          "opacity": 0
         },
         "mode": "markers",
         "showlegend": false,
         "text": [
          "tensor(0.4394)"
         ],
         "type": "scatter",
         "x": [
          2.5
         ],
         "y": [
          3.3765002489089966
         ]
        },
        {
         "hoverinfo": "text",
         "hoveron": "fills",
         "hovertext": "tensor(0.3809)",
         "marker": {
          "color": "rgb(214, 214, 214)",
          "opacity": 1
         },
         "showlegend": false,
         "text": "tensor(0.3809)",
         "type": "scatter",
         "x": [
          2,
          3
         ],
         "y": [
          1.8898452520370483,
          3.2807815074920654
         ]
        },
        {
         "hoverinfo": "text",
         "marker": {
          "color": "lightgrey",
          "opacity": 0
         },
         "mode": "markers",
         "showlegend": false,
         "text": [
          "tensor(0.3809)"
         ],
         "type": "scatter",
         "x": [
          2.5
         ],
         "y": [
          2.585313379764557
         ]
        },
        {
         "marker": {
          "color": "red",
          "opacity": 1
         },
         "mode": "markers",
         "showlegend": false,
         "type": "scatter",
         "x": [
          0,
          0,
          0,
          0,
          0,
          0,
          0,
          0,
          0,
          0,
          0,
          0,
          0,
          0,
          0,
          0
         ],
         "y": [
          3.794713258743286,
          3.5298521518707275,
          3.174651861190796,
          3.1129493713378906,
          2.2334070205688477,
          1.8703166246414185,
          1.4214890003204346,
          1.1826372146606445,
          0.9169599413871765,
          0.7205042243003845,
          0.624684751033783,
          0.608867883682251,
          0.5374576449394226,
          0.47529956698417664,
          0.4129175543785095,
          0.3060093820095062
         ]
        },
        {
         "marker": {
          "color": "red",
          "opacity": 1
         },
         "mode": "markers",
         "showlegend": false,
         "type": "scatter",
         "x": [
          1,
          1,
          1,
          1,
          1,
          1,
          1,
          1,
          1,
          1,
          1,
          1,
          1,
          1,
          1,
          1,
          1,
          1,
          1,
          1,
          1,
          1,
          1,
          1,
          1,
          1,
          1,
          1,
          1,
          1,
          1,
          1
         ],
         "y": [
          2.619462490081787,
          2.596273183822632,
          2.3946924209594727,
          2.3428449630737305,
          2.221325397491455,
          2.137263536453247,
          1.970856785774231,
          1.8472234010696411,
          1.8216333389282227,
          1.7692784070968628,
          1.6622753143310547,
          1.6028425693511963,
          1.5505636930465698,
          1.4318276643753052,
          1.418615460395813,
          1.3469513654708862,
          1.2487871646881104,
          1.2146083116531372,
          1.1437726020812988,
          1.1069715023040771,
          1.0473504066467285,
          1.0157853364944458,
          0.948200523853302,
          0.945694625377655,
          0.8879631161689758,
          0.8163379430770874,
          0.7625325918197632,
          0.7112823724746704,
          0.6763978600502014,
          0.666287362575531,
          0.6121438145637512,
          0.4986434876918793
         ]
        },
        {
         "marker": {
          "color": "red",
          "opacity": 1
         },
         "mode": "markers",
         "showlegend": false,
         "type": "scatter",
         "x": [
          2,
          2,
          2,
          2,
          2,
          2,
          2,
          2,
          2,
          2,
          2,
          2,
          2,
          2,
          2,
          2
         ],
         "y": [
          3.0063483715057373,
          2.6082797050476074,
          2.4827346801757812,
          2.3844170570373535,
          2.222792148590088,
          2.1357510089874268,
          2.025749444961548,
          1.8898452520370483,
          1.7701843976974487,
          1.7072043418884277,
          1.702305555343628,
          1.6014516353607178,
          1.4379551410675049,
          1.3516851663589478,
          1.3317166566848755,
          1.2427138090133667
         ]
        },
        {
         "marker": {
          "color": "blue",
          "opacity": 1
         },
         "mode": "markers",
         "showlegend": false,
         "type": "scatter",
         "x": [
          3,
          3,
          3,
          3,
          3,
          3,
          3,
          3,
          3,
          3
         ],
         "y": [
          4.51681661605835,
          3.746652126312256,
          3.584092855453491,
          3.2807815074920654,
          2.9047014713287354,
          2.6586861610412598,
          2.5615859031677246,
          2.4447479248046875,
          2.036566972732544,
          0.568924605846405
         ]
        }
       ],
       "layout": {
        "legend": {
         "tracegroupgap": 0
        },
        "margin": {
         "t": 60
        },
        "template": {
         "data": {
          "bar": [
           {
            "error_x": {
             "color": "#2a3f5f"
            },
            "error_y": {
             "color": "#2a3f5f"
            },
            "marker": {
             "line": {
              "color": "#E5ECF6",
              "width": 0.5
             },
             "pattern": {
              "fillmode": "overlay",
              "size": 10,
              "solidity": 0.2
             }
            },
            "type": "bar"
           }
          ],
          "barpolar": [
           {
            "marker": {
             "line": {
              "color": "#E5ECF6",
              "width": 0.5
             },
             "pattern": {
              "fillmode": "overlay",
              "size": 10,
              "solidity": 0.2
             }
            },
            "type": "barpolar"
           }
          ],
          "carpet": [
           {
            "aaxis": {
             "endlinecolor": "#2a3f5f",
             "gridcolor": "white",
             "linecolor": "white",
             "minorgridcolor": "white",
             "startlinecolor": "#2a3f5f"
            },
            "baxis": {
             "endlinecolor": "#2a3f5f",
             "gridcolor": "white",
             "linecolor": "white",
             "minorgridcolor": "white",
             "startlinecolor": "#2a3f5f"
            },
            "type": "carpet"
           }
          ],
          "choropleth": [
           {
            "colorbar": {
             "outlinewidth": 0,
             "ticks": ""
            },
            "type": "choropleth"
           }
          ],
          "contour": [
           {
            "colorbar": {
             "outlinewidth": 0,
             "ticks": ""
            },
            "colorscale": [
             [
              0,
              "#0d0887"
             ],
             [
              0.1111111111111111,
              "#46039f"
             ],
             [
              0.2222222222222222,
              "#7201a8"
             ],
             [
              0.3333333333333333,
              "#9c179e"
             ],
             [
              0.4444444444444444,
              "#bd3786"
             ],
             [
              0.5555555555555556,
              "#d8576b"
             ],
             [
              0.6666666666666666,
              "#ed7953"
             ],
             [
              0.7777777777777778,
              "#fb9f3a"
             ],
             [
              0.8888888888888888,
              "#fdca26"
             ],
             [
              1,
              "#f0f921"
             ]
            ],
            "type": "contour"
           }
          ],
          "contourcarpet": [
           {
            "colorbar": {
             "outlinewidth": 0,
             "ticks": ""
            },
            "type": "contourcarpet"
           }
          ],
          "heatmap": [
           {
            "colorbar": {
             "outlinewidth": 0,
             "ticks": ""
            },
            "colorscale": [
             [
              0,
              "#0d0887"
             ],
             [
              0.1111111111111111,
              "#46039f"
             ],
             [
              0.2222222222222222,
              "#7201a8"
             ],
             [
              0.3333333333333333,
              "#9c179e"
             ],
             [
              0.4444444444444444,
              "#bd3786"
             ],
             [
              0.5555555555555556,
              "#d8576b"
             ],
             [
              0.6666666666666666,
              "#ed7953"
             ],
             [
              0.7777777777777778,
              "#fb9f3a"
             ],
             [
              0.8888888888888888,
              "#fdca26"
             ],
             [
              1,
              "#f0f921"
             ]
            ],
            "type": "heatmap"
           }
          ],
          "heatmapgl": [
           {
            "colorbar": {
             "outlinewidth": 0,
             "ticks": ""
            },
            "colorscale": [
             [
              0,
              "#0d0887"
             ],
             [
              0.1111111111111111,
              "#46039f"
             ],
             [
              0.2222222222222222,
              "#7201a8"
             ],
             [
              0.3333333333333333,
              "#9c179e"
             ],
             [
              0.4444444444444444,
              "#bd3786"
             ],
             [
              0.5555555555555556,
              "#d8576b"
             ],
             [
              0.6666666666666666,
              "#ed7953"
             ],
             [
              0.7777777777777778,
              "#fb9f3a"
             ],
             [
              0.8888888888888888,
              "#fdca26"
             ],
             [
              1,
              "#f0f921"
             ]
            ],
            "type": "heatmapgl"
           }
          ],
          "histogram": [
           {
            "marker": {
             "pattern": {
              "fillmode": "overlay",
              "size": 10,
              "solidity": 0.2
             }
            },
            "type": "histogram"
           }
          ],
          "histogram2d": [
           {
            "colorbar": {
             "outlinewidth": 0,
             "ticks": ""
            },
            "colorscale": [
             [
              0,
              "#0d0887"
             ],
             [
              0.1111111111111111,
              "#46039f"
             ],
             [
              0.2222222222222222,
              "#7201a8"
             ],
             [
              0.3333333333333333,
              "#9c179e"
             ],
             [
              0.4444444444444444,
              "#bd3786"
             ],
             [
              0.5555555555555556,
              "#d8576b"
             ],
             [
              0.6666666666666666,
              "#ed7953"
             ],
             [
              0.7777777777777778,
              "#fb9f3a"
             ],
             [
              0.8888888888888888,
              "#fdca26"
             ],
             [
              1,
              "#f0f921"
             ]
            ],
            "type": "histogram2d"
           }
          ],
          "histogram2dcontour": [
           {
            "colorbar": {
             "outlinewidth": 0,
             "ticks": ""
            },
            "colorscale": [
             [
              0,
              "#0d0887"
             ],
             [
              0.1111111111111111,
              "#46039f"
             ],
             [
              0.2222222222222222,
              "#7201a8"
             ],
             [
              0.3333333333333333,
              "#9c179e"
             ],
             [
              0.4444444444444444,
              "#bd3786"
             ],
             [
              0.5555555555555556,
              "#d8576b"
             ],
             [
              0.6666666666666666,
              "#ed7953"
             ],
             [
              0.7777777777777778,
              "#fb9f3a"
             ],
             [
              0.8888888888888888,
              "#fdca26"
             ],
             [
              1,
              "#f0f921"
             ]
            ],
            "type": "histogram2dcontour"
           }
          ],
          "mesh3d": [
           {
            "colorbar": {
             "outlinewidth": 0,
             "ticks": ""
            },
            "type": "mesh3d"
           }
          ],
          "parcoords": [
           {
            "line": {
             "colorbar": {
              "outlinewidth": 0,
              "ticks": ""
             }
            },
            "type": "parcoords"
           }
          ],
          "pie": [
           {
            "automargin": true,
            "type": "pie"
           }
          ],
          "scatter": [
           {
            "marker": {
             "colorbar": {
              "outlinewidth": 0,
              "ticks": ""
             }
            },
            "type": "scatter"
           }
          ],
          "scatter3d": [
           {
            "line": {
             "colorbar": {
              "outlinewidth": 0,
              "ticks": ""
             }
            },
            "marker": {
             "colorbar": {
              "outlinewidth": 0,
              "ticks": ""
             }
            },
            "type": "scatter3d"
           }
          ],
          "scattercarpet": [
           {
            "marker": {
             "colorbar": {
              "outlinewidth": 0,
              "ticks": ""
             }
            },
            "type": "scattercarpet"
           }
          ],
          "scattergeo": [
           {
            "marker": {
             "colorbar": {
              "outlinewidth": 0,
              "ticks": ""
             }
            },
            "type": "scattergeo"
           }
          ],
          "scattergl": [
           {
            "marker": {
             "colorbar": {
              "outlinewidth": 0,
              "ticks": ""
             }
            },
            "type": "scattergl"
           }
          ],
          "scattermapbox": [
           {
            "marker": {
             "colorbar": {
              "outlinewidth": 0,
              "ticks": ""
             }
            },
            "type": "scattermapbox"
           }
          ],
          "scatterpolar": [
           {
            "marker": {
             "colorbar": {
              "outlinewidth": 0,
              "ticks": ""
             }
            },
            "type": "scatterpolar"
           }
          ],
          "scatterpolargl": [
           {
            "marker": {
             "colorbar": {
              "outlinewidth": 0,
              "ticks": ""
             }
            },
            "type": "scatterpolargl"
           }
          ],
          "scatterternary": [
           {
            "marker": {
             "colorbar": {
              "outlinewidth": 0,
              "ticks": ""
             }
            },
            "type": "scatterternary"
           }
          ],
          "surface": [
           {
            "colorbar": {
             "outlinewidth": 0,
             "ticks": ""
            },
            "colorscale": [
             [
              0,
              "#0d0887"
             ],
             [
              0.1111111111111111,
              "#46039f"
             ],
             [
              0.2222222222222222,
              "#7201a8"
             ],
             [
              0.3333333333333333,
              "#9c179e"
             ],
             [
              0.4444444444444444,
              "#bd3786"
             ],
             [
              0.5555555555555556,
              "#d8576b"
             ],
             [
              0.6666666666666666,
              "#ed7953"
             ],
             [
              0.7777777777777778,
              "#fb9f3a"
             ],
             [
              0.8888888888888888,
              "#fdca26"
             ],
             [
              1,
              "#f0f921"
             ]
            ],
            "type": "surface"
           }
          ],
          "table": [
           {
            "cells": {
             "fill": {
              "color": "#EBF0F8"
             },
             "line": {
              "color": "white"
             }
            },
            "header": {
             "fill": {
              "color": "#C8D4E3"
             },
             "line": {
              "color": "white"
             }
            },
            "type": "table"
           }
          ]
         },
         "layout": {
          "annotationdefaults": {
           "arrowcolor": "#2a3f5f",
           "arrowhead": 0,
           "arrowwidth": 1
          },
          "autotypenumbers": "strict",
          "coloraxis": {
           "colorbar": {
            "outlinewidth": 0,
            "ticks": ""
           }
          },
          "colorscale": {
           "diverging": [
            [
             0,
             "#8e0152"
            ],
            [
             0.1,
             "#c51b7d"
            ],
            [
             0.2,
             "#de77ae"
            ],
            [
             0.3,
             "#f1b6da"
            ],
            [
             0.4,
             "#fde0ef"
            ],
            [
             0.5,
             "#f7f7f7"
            ],
            [
             0.6,
             "#e6f5d0"
            ],
            [
             0.7,
             "#b8e186"
            ],
            [
             0.8,
             "#7fbc41"
            ],
            [
             0.9,
             "#4d9221"
            ],
            [
             1,
             "#276419"
            ]
           ],
           "sequential": [
            [
             0,
             "#0d0887"
            ],
            [
             0.1111111111111111,
             "#46039f"
            ],
            [
             0.2222222222222222,
             "#7201a8"
            ],
            [
             0.3333333333333333,
             "#9c179e"
            ],
            [
             0.4444444444444444,
             "#bd3786"
            ],
            [
             0.5555555555555556,
             "#d8576b"
            ],
            [
             0.6666666666666666,
             "#ed7953"
            ],
            [
             0.7777777777777778,
             "#fb9f3a"
            ],
            [
             0.8888888888888888,
             "#fdca26"
            ],
            [
             1,
             "#f0f921"
            ]
           ],
           "sequentialminus": [
            [
             0,
             "#0d0887"
            ],
            [
             0.1111111111111111,
             "#46039f"
            ],
            [
             0.2222222222222222,
             "#7201a8"
            ],
            [
             0.3333333333333333,
             "#9c179e"
            ],
            [
             0.4444444444444444,
             "#bd3786"
            ],
            [
             0.5555555555555556,
             "#d8576b"
            ],
            [
             0.6666666666666666,
             "#ed7953"
            ],
            [
             0.7777777777777778,
             "#fb9f3a"
            ],
            [
             0.8888888888888888,
             "#fdca26"
            ],
            [
             1,
             "#f0f921"
            ]
           ]
          },
          "colorway": [
           "#636efa",
           "#EF553B",
           "#00cc96",
           "#ab63fa",
           "#FFA15A",
           "#19d3f3",
           "#FF6692",
           "#B6E880",
           "#FF97FF",
           "#FECB52"
          ],
          "font": {
           "color": "#2a3f5f"
          },
          "geo": {
           "bgcolor": "white",
           "lakecolor": "white",
           "landcolor": "#E5ECF6",
           "showlakes": true,
           "showland": true,
           "subunitcolor": "white"
          },
          "hoverlabel": {
           "align": "left"
          },
          "hovermode": "closest",
          "mapbox": {
           "style": "light"
          },
          "paper_bgcolor": "white",
          "plot_bgcolor": "#E5ECF6",
          "polar": {
           "angularaxis": {
            "gridcolor": "white",
            "linecolor": "white",
            "ticks": ""
           },
           "bgcolor": "#E5ECF6",
           "radialaxis": {
            "gridcolor": "white",
            "linecolor": "white",
            "ticks": ""
           }
          },
          "scene": {
           "xaxis": {
            "backgroundcolor": "#E5ECF6",
            "gridcolor": "white",
            "gridwidth": 2,
            "linecolor": "white",
            "showbackground": true,
            "ticks": "",
            "zerolinecolor": "white"
           },
           "yaxis": {
            "backgroundcolor": "#E5ECF6",
            "gridcolor": "white",
            "gridwidth": 2,
            "linecolor": "white",
            "showbackground": true,
            "ticks": "",
            "zerolinecolor": "white"
           },
           "zaxis": {
            "backgroundcolor": "#E5ECF6",
            "gridcolor": "white",
            "gridwidth": 2,
            "linecolor": "white",
            "showbackground": true,
            "ticks": "",
            "zerolinecolor": "white"
           }
          },
          "shapedefaults": {
           "line": {
            "color": "#2a3f5f"
           }
          },
          "ternary": {
           "aaxis": {
            "gridcolor": "white",
            "linecolor": "white",
            "ticks": ""
           },
           "baxis": {
            "gridcolor": "white",
            "linecolor": "white",
            "ticks": ""
           },
           "bgcolor": "#E5ECF6",
           "caxis": {
            "gridcolor": "white",
            "linecolor": "white",
            "ticks": ""
           }
          },
          "title": {
           "x": 0.05
          },
          "xaxis": {
           "automargin": true,
           "gridcolor": "white",
           "linecolor": "white",
           "ticks": "",
           "title": {
            "standoff": 15
           },
           "zerolinecolor": "white",
           "zerolinewidth": 2
          },
          "yaxis": {
           "automargin": true,
           "gridcolor": "white",
           "linecolor": "white",
           "ticks": "",
           "title": {
            "standoff": 15
           },
           "zerolinecolor": "white",
           "zerolinewidth": 2
          }
         }
        },
        "xaxis": {
         "anchor": "y",
         "domain": [
          0,
          1
         ],
         "title": {
          "text": "index"
         }
        },
        "yaxis": {
         "anchor": "x",
         "domain": [
          0,
          1
         ],
         "title": {
          "text": "value"
         }
        }
       }
      },
      "text/html": [
       "<div>                            <div id=\"b415fa92-154f-416c-9f5f-0b3fee7678eb\" class=\"plotly-graph-div\" style=\"height:525px; width:100%;\"></div>            <script type=\"text/javascript\">                require([\"plotly\"], function(Plotly) {                    window.PLOTLYENV=window.PLOTLYENV || {};                                    if (document.getElementById(\"b415fa92-154f-416c-9f5f-0b3fee7678eb\")) {                    Plotly.newPlot(                        \"b415fa92-154f-416c-9f5f-0b3fee7678eb\",                        [{\"hoverinfo\":\"text\",\"hoveron\":\"fills\",\"hovertext\":\"tensor(0.3751)\",\"marker\":{\"color\":\"rgb(224, 224, 224)\",\"opacity\":1},\"showlegend\":false,\"text\":\"tensor(0.3751)\",\"x\":[0,1],\"y\":[3.794713258743286,2.619462490081787],\"type\":\"scatter\"},{\"hoverinfo\":\"text\",\"marker\":{\"color\":\"lightgrey\",\"opacity\":0},\"mode\":\"markers\",\"showlegend\":false,\"text\":[\"tensor(0.3751)\"],\"x\":[0.5],\"y\":[3.2070878744125366],\"type\":\"scatter\"},{\"hoverinfo\":\"text\",\"hoveron\":\"fills\",\"hovertext\":\"tensor(0.4218)\",\"marker\":{\"color\":\"rgb(189, 189, 189)\",\"opacity\":1},\"showlegend\":false,\"text\":\"tensor(0.4218)\",\"x\":[0,1],\"y\":[3.5298521518707275,2.619462490081787],\"type\":\"scatter\"},{\"hoverinfo\":\"text\",\"marker\":{\"color\":\"lightgrey\",\"opacity\":0},\"mode\":\"markers\",\"showlegend\":false,\"text\":[\"tensor(0.4218)\"],\"x\":[0.5],\"y\":[3.0746573209762573],\"type\":\"scatter\"},{\"hoverinfo\":\"text\",\"hoveron\":\"fills\",\"hovertext\":\"tensor(0.4015)\",\"marker\":{\"color\":\"rgb(205, 205, 205)\",\"opacity\":1},\"showlegend\":false,\"text\":\"tensor(0.4015)\",\"x\":[0,1],\"y\":[3.794713258743286,2.596273183822632],\"type\":\"scatter\"},{\"hoverinfo\":\"text\",\"marker\":{\"color\":\"lightgrey\",\"opacity\":0},\"mode\":\"markers\",\"showlegend\":false,\"text\":[\"tensor(0.4015)\"],\"x\":[0.5],\"y\":[3.195493221282959],\"type\":\"scatter\"},{\"hoverinfo\":\"text\",\"hoveron\":\"fills\",\"hovertext\":\"tensor(0.4773)\",\"marker\":{\"color\":\"rgb(148, 148, 148)\",\"opacity\":1},\"showlegend\":false,\"text\":\"tensor(0.4773)\",\"x\":[0,1],\"y\":[3.5298521518707275,2.596273183822632],\"type\":\"scatter\"},{\"hoverinfo\":\"text\",\"marker\":{\"color\":\"lightgrey\",\"opacity\":0},\"mode\":\"markers\",\"showlegend\":false,\"text\":[\"tensor(0.4773)\"],\"x\":[0.5],\"y\":[3.0630626678466797],\"type\":\"scatter\"},{\"hoverinfo\":\"text\",\"hoveron\":\"fills\",\"hovertext\":\"tensor(0.4869)\",\"marker\":{\"color\":\"rgb(141, 141, 141)\",\"opacity\":1},\"showlegend\":false,\"text\":\"tensor(0.4869)\",\"x\":[0,1],\"y\":[3.174651861190796,2.596273183822632],\"type\":\"scatter\"},{\"hoverinfo\":\"text\",\"marker\":{\"color\":\"lightgrey\",\"opacity\":0},\"mode\":\"markers\",\"showlegend\":false,\"text\":[\"tensor(0.4869)\"],\"x\":[0.5],\"y\":[2.885462522506714],\"type\":\"scatter\"},{\"hoverinfo\":\"text\",\"hoveron\":\"fills\",\"hovertext\":\"tensor(0.3970)\",\"marker\":{\"color\":\"rgb(208, 208, 208)\",\"opacity\":1},\"showlegend\":false,\"text\":\"tensor(0.3970)\",\"x\":[0,1],\"y\":[3.5298521518707275,2.3946924209594727],\"type\":\"scatter\"},{\"hoverinfo\":\"text\",\"marker\":{\"color\":\"lightgrey\",\"opacity\":0},\"mode\":\"markers\",\"showlegend\":false,\"text\":[\"tensor(0.3970)\"],\"x\":[0.5],\"y\":[2.9622722864151],\"type\":\"scatter\"},{\"hoverinfo\":\"text\",\"hoveron\":\"fills\",\"hovertext\":\"tensor(0.5143)\",\"marker\":{\"color\":\"rgb(120, 120, 120)\",\"opacity\":1},\"showlegend\":false,\"text\":\"tensor(0.5143)\",\"x\":[0,1],\"y\":[3.174651861190796,2.3946924209594727],\"type\":\"scatter\"},{\"hoverinfo\":\"text\",\"marker\":{\"color\":\"lightgrey\",\"opacity\":0},\"mode\":\"markers\",\"showlegend\":false,\"text\":[\"tensor(0.5143)\"],\"x\":[0.5],\"y\":[2.7846721410751343],\"type\":\"scatter\"},{\"hoverinfo\":\"text\",\"hoveron\":\"fills\",\"hovertext\":\"tensor(0.4759)\",\"marker\":{\"color\":\"rgb(149, 149, 149)\",\"opacity\":1},\"showlegend\":false,\"text\":\"tensor(0.4759)\",\"x\":[0,1],\"y\":[3.794713258743286,2.3428449630737305],\"type\":\"scatter\"},{\"hoverinfo\":\"text\",\"marker\":{\"color\":\"lightgrey\",\"opacity\":0},\"mode\":\"markers\",\"showlegend\":false,\"text\":[\"tensor(0.4759)\"],\"x\":[0.5],\"y\":[3.0687791109085083],\"type\":\"scatter\"},{\"hoverinfo\":\"text\",\"hoveron\":\"fills\",\"hovertext\":\"tensor(0.3813)\",\"marker\":{\"color\":\"rgb(220, 220, 220)\",\"opacity\":1},\"showlegend\":false,\"text\":\"tensor(0.3813)\",\"x\":[0,1],\"y\":[2.2334070205688477,2.3428449630737305],\"type\":\"scatter\"},{\"hoverinfo\":\"text\",\"marker\":{\"color\":\"lightgrey\",\"opacity\":0},\"mode\":\"markers\",\"showlegend\":false,\"text\":[\"tensor(0.3813)\"],\"x\":[0.5],\"y\":[2.288125991821289],\"type\":\"scatter\"},{\"hoverinfo\":\"text\",\"hoveron\":\"fills\",\"hovertext\":\"tensor(0.4714)\",\"marker\":{\"color\":\"rgb(152, 152, 152)\",\"opacity\":1},\"showlegend\":false,\"text\":\"tensor(0.4714)\",\"x\":[0,1],\"y\":[3.794713258743286,2.221325397491455],\"type\":\"scatter\"},{\"hoverinfo\":\"text\",\"marker\":{\"color\":\"lightgrey\",\"opacity\":0},\"mode\":\"markers\",\"showlegend\":false,\"text\":[\"tensor(0.4714)\"],\"x\":[0.5],\"y\":[3.0080193281173706],\"type\":\"scatter\"},{\"hoverinfo\":\"text\",\"hoveron\":\"fills\",\"hovertext\":\"tensor(0.3776)\",\"marker\":{\"color\":\"rgb(223, 223, 223)\",\"opacity\":1},\"showlegend\":false,\"text\":\"tensor(0.3776)\",\"x\":[0,1],\"y\":[3.1129493713378906,2.221325397491455],\"type\":\"scatter\"},{\"hoverinfo\":\"text\",\"marker\":{\"color\":\"lightgrey\",\"opacity\":0},\"mode\":\"markers\",\"showlegend\":false,\"text\":[\"tensor(0.3776)\"],\"x\":[0.5],\"y\":[2.667137384414673],\"type\":\"scatter\"},{\"hoverinfo\":\"text\",\"hoveron\":\"fills\",\"hovertext\":\"tensor(0.3947)\",\"marker\":{\"color\":\"rgb(210, 210, 210)\",\"opacity\":1},\"showlegend\":false,\"text\":\"tensor(0.3947)\",\"x\":[0,1],\"y\":[2.2334070205688477,2.221325397491455],\"type\":\"scatter\"},{\"hoverinfo\":\"text\",\"marker\":{\"color\":\"lightgrey\",\"opacity\":0},\"mode\":\"markers\",\"showlegend\":false,\"text\":[\"tensor(0.3947)\"],\"x\":[0.5],\"y\":[2.2273662090301514],\"type\":\"scatter\"},{\"hoverinfo\":\"text\",\"hoveron\":\"fills\",\"hovertext\":\"tensor(0.5159)\",\"marker\":{\"color\":\"rgb(119, 119, 119)\",\"opacity\":1},\"showlegend\":false,\"text\":\"tensor(0.5159)\",\"x\":[0,1],\"y\":[3.794713258743286,2.137263536453247],\"type\":\"scatter\"},{\"hoverinfo\":\"text\",\"marker\":{\"color\":\"lightgrey\",\"opacity\":0},\"mode\":\"markers\",\"showlegend\":false,\"text\":[\"tensor(0.5159)\"],\"x\":[0.5],\"y\":[2.9659883975982666],\"type\":\"scatter\"},{\"hoverinfo\":\"text\",\"hoveron\":\"fills\",\"hovertext\":\"tensor(0.4262)\",\"marker\":{\"color\":\"rgb(186, 186, 186)\",\"opacity\":1},\"showlegend\":false,\"text\":\"tensor(0.4262)\",\"x\":[0,1],\"y\":[1.8703166246414185,2.137263536453247],\"type\":\"scatter\"},{\"hoverinfo\":\"text\",\"marker\":{\"color\":\"lightgrey\",\"opacity\":0},\"mode\":\"markers\",\"showlegend\":false,\"text\":[\"tensor(0.4262)\"],\"x\":[0.5],\"y\":[2.0037900805473328],\"type\":\"scatter\"},{\"hoverinfo\":\"text\",\"hoveron\":\"fills\",\"hovertext\":\"tensor(0.4159)\",\"marker\":{\"color\":\"rgb(194, 194, 194)\",\"opacity\":1},\"showlegend\":false,\"text\":\"tensor(0.4159)\",\"x\":[0,1],\"y\":[3.174651861190796,1.970856785774231],\"type\":\"scatter\"},{\"hoverinfo\":\"text\",\"marker\":{\"color\":\"lightgrey\",\"opacity\":0},\"mode\":\"markers\",\"showlegend\":false,\"text\":[\"tensor(0.4159)\"],\"x\":[0.5],\"y\":[2.5727543234825134],\"type\":\"scatter\"},{\"hoverinfo\":\"text\",\"hoveron\":\"fills\",\"hovertext\":\"tensor(0.4236)\",\"marker\":{\"color\":\"rgb(188, 188, 188)\",\"opacity\":1},\"showlegend\":false,\"text\":\"tensor(0.4236)\",\"x\":[0,1],\"y\":[2.2334070205688477,1.970856785774231],\"type\":\"scatter\"},{\"hoverinfo\":\"text\",\"marker\":{\"color\":\"lightgrey\",\"opacity\":0},\"mode\":\"markers\",\"showlegend\":false,\"text\":[\"tensor(0.4236)\"],\"x\":[0.5],\"y\":[2.1021319031715393],\"type\":\"scatter\"},{\"hoverinfo\":\"text\",\"hoveron\":\"fills\",\"hovertext\":\"tensor(0.5354)\",\"marker\":{\"color\":\"rgb(105, 105, 105)\",\"opacity\":1},\"showlegend\":false,\"text\":\"tensor(0.5354)\",\"x\":[0,1],\"y\":[3.794713258743286,1.8472234010696411],\"type\":\"scatter\"},{\"hoverinfo\":\"text\",\"marker\":{\"color\":\"lightgrey\",\"opacity\":0},\"mode\":\"markers\",\"showlegend\":false,\"text\":[\"tensor(0.5354)\"],\"x\":[0.5],\"y\":[2.8209683299064636],\"type\":\"scatter\"},{\"hoverinfo\":\"text\",\"hoveron\":\"fills\",\"hovertext\":\"tensor(0.3961)\",\"marker\":{\"color\":\"rgb(209, 209, 209)\",\"opacity\":1},\"showlegend\":false,\"text\":\"tensor(0.3961)\",\"x\":[0,1],\"y\":[3.174651861190796,1.8472234010696411],\"type\":\"scatter\"},{\"hoverinfo\":\"text\",\"marker\":{\"color\":\"lightgrey\",\"opacity\":0},\"mode\":\"markers\",\"showlegend\":false,\"text\":[\"tensor(0.3961)\"],\"x\":[0.5],\"y\":[2.5109376311302185],\"type\":\"scatter\"},{\"hoverinfo\":\"text\",\"hoveron\":\"fills\",\"hovertext\":\"tensor(0.3818)\",\"marker\":{\"color\":\"rgb(219, 219, 219)\",\"opacity\":1},\"showlegend\":false,\"text\":\"tensor(0.3818)\",\"x\":[0,1],\"y\":[3.794713258743286,1.8216333389282227],\"type\":\"scatter\"},{\"hoverinfo\":\"text\",\"marker\":{\"color\":\"lightgrey\",\"opacity\":0},\"mode\":\"markers\",\"showlegend\":false,\"text\":[\"tensor(0.3818)\"],\"x\":[0.5],\"y\":[2.8081732988357544],\"type\":\"scatter\"},{\"hoverinfo\":\"text\",\"hoveron\":\"fills\",\"hovertext\":\"tensor(0.3959)\",\"marker\":{\"color\":\"rgb(209, 209, 209)\",\"opacity\":1},\"showlegend\":false,\"text\":\"tensor(0.3959)\",\"x\":[0,1],\"y\":[2.2334070205688477,1.8216333389282227],\"type\":\"scatter\"},{\"hoverinfo\":\"text\",\"marker\":{\"color\":\"lightgrey\",\"opacity\":0},\"mode\":\"markers\",\"showlegend\":false,\"text\":[\"tensor(0.3959)\"],\"x\":[0.5],\"y\":[2.027520179748535],\"type\":\"scatter\"},{\"hoverinfo\":\"text\",\"hoveron\":\"fills\",\"hovertext\":\"tensor(0.5065)\",\"marker\":{\"color\":\"rgb(126, 126, 126)\",\"opacity\":1},\"showlegend\":false,\"text\":\"tensor(0.5065)\",\"x\":[0,1],\"y\":[3.1129493713378906,1.7692784070968628],\"type\":\"scatter\"},{\"hoverinfo\":\"text\",\"marker\":{\"color\":\"lightgrey\",\"opacity\":0},\"mode\":\"markers\",\"showlegend\":false,\"text\":[\"tensor(0.5065)\"],\"x\":[0.5],\"y\":[2.4411138892173767],\"type\":\"scatter\"},{\"hoverinfo\":\"text\",\"hoveron\":\"fills\",\"hovertext\":\"tensor(0.4356)\",\"marker\":{\"color\":\"rgb(179, 179, 179)\",\"opacity\":1},\"showlegend\":false,\"text\":\"tensor(0.4356)\",\"x\":[0,1],\"y\":[3.5298521518707275,1.6622753143310547],\"type\":\"scatter\"},{\"hoverinfo\":\"text\",\"marker\":{\"color\":\"lightgrey\",\"opacity\":0},\"mode\":\"markers\",\"showlegend\":false,\"text\":[\"tensor(0.4356)\"],\"x\":[0.5],\"y\":[2.596063733100891],\"type\":\"scatter\"},{\"hoverinfo\":\"text\",\"hoveron\":\"fills\",\"hovertext\":\"tensor(0.4651)\",\"marker\":{\"color\":\"rgb(157, 157, 157)\",\"opacity\":1},\"showlegend\":false,\"text\":\"tensor(0.4651)\",\"x\":[0,1],\"y\":[3.174651861190796,1.6622753143310547],\"type\":\"scatter\"},{\"hoverinfo\":\"text\",\"marker\":{\"color\":\"lightgrey\",\"opacity\":0},\"mode\":\"markers\",\"showlegend\":false,\"text\":[\"tensor(0.4651)\"],\"x\":[0.5],\"y\":[2.4184635877609253],\"type\":\"scatter\"},{\"hoverinfo\":\"text\",\"hoveron\":\"fills\",\"hovertext\":\"tensor(0.4928)\",\"marker\":{\"color\":\"rgb(136, 136, 136)\",\"opacity\":1},\"showlegend\":false,\"text\":\"tensor(0.4928)\",\"x\":[0,1],\"y\":[3.794713258743286,1.6028425693511963],\"type\":\"scatter\"},{\"hoverinfo\":\"text\",\"marker\":{\"color\":\"lightgrey\",\"opacity\":0},\"mode\":\"markers\",\"showlegend\":false,\"text\":[\"tensor(0.4928)\"],\"x\":[0.5],\"y\":[2.698777914047241],\"type\":\"scatter\"},{\"hoverinfo\":\"text\",\"hoveron\":\"fills\",\"hovertext\":\"tensor(0.4574)\",\"marker\":{\"color\":\"rgb(163, 163, 163)\",\"opacity\":1},\"showlegend\":false,\"text\":\"tensor(0.4574)\",\"x\":[0,1],\"y\":[3.5298521518707275,1.6028425693511963],\"type\":\"scatter\"},{\"hoverinfo\":\"text\",\"marker\":{\"color\":\"lightgrey\",\"opacity\":0},\"mode\":\"markers\",\"showlegend\":false,\"text\":[\"tensor(0.4574)\"],\"x\":[0.5],\"y\":[2.566347360610962],\"type\":\"scatter\"},{\"hoverinfo\":\"text\",\"hoveron\":\"fills\",\"hovertext\":\"tensor(0.4053)\",\"marker\":{\"color\":\"rgb(202, 202, 202)\",\"opacity\":1},\"showlegend\":false,\"text\":\"tensor(0.4053)\",\"x\":[0,1],\"y\":[3.794713258743286,1.5505636930465698],\"type\":\"scatter\"},{\"hoverinfo\":\"text\",\"marker\":{\"color\":\"lightgrey\",\"opacity\":0},\"mode\":\"markers\",\"showlegend\":false,\"text\":[\"tensor(0.4053)\"],\"x\":[0.5],\"y\":[2.672638475894928],\"type\":\"scatter\"},{\"hoverinfo\":\"text\",\"hoveron\":\"fills\",\"hovertext\":\"tensor(0.4099)\",\"marker\":{\"color\":\"rgb(198, 198, 198)\",\"opacity\":1},\"showlegend\":false,\"text\":\"tensor(0.4099)\",\"x\":[0,1],\"y\":[3.1129493713378906,1.4318276643753052],\"type\":\"scatter\"},{\"hoverinfo\":\"text\",\"marker\":{\"color\":\"lightgrey\",\"opacity\":0},\"mode\":\"markers\",\"showlegend\":false,\"text\":[\"tensor(0.4099)\"],\"x\":[0.5],\"y\":[2.272388517856598],\"type\":\"scatter\"},{\"hoverinfo\":\"text\",\"hoveron\":\"fills\",\"hovertext\":\"tensor(0.3789)\",\"marker\":{\"color\":\"rgb(222, 222, 222)\",\"opacity\":1},\"showlegend\":false,\"text\":\"tensor(0.3789)\",\"x\":[0,1],\"y\":[3.794713258743286,1.418615460395813],\"type\":\"scatter\"},{\"hoverinfo\":\"text\",\"marker\":{\"color\":\"lightgrey\",\"opacity\":0},\"mode\":\"markers\",\"showlegend\":false,\"text\":[\"tensor(0.3789)\"],\"x\":[0.5],\"y\":[2.6066643595695496],\"type\":\"scatter\"},{\"hoverinfo\":\"text\",\"hoveron\":\"fills\",\"hovertext\":\"tensor(0.3751)\",\"marker\":{\"color\":\"rgb(224, 224, 224)\",\"opacity\":1},\"showlegend\":false,\"text\":\"tensor(0.3751)\",\"x\":[0,1],\"y\":[3.5298521518707275,1.418615460395813],\"type\":\"scatter\"},{\"hoverinfo\":\"text\",\"marker\":{\"color\":\"lightgrey\",\"opacity\":0},\"mode\":\"markers\",\"showlegend\":false,\"text\":[\"tensor(0.3751)\"],\"x\":[0.5],\"y\":[2.4742338061332703],\"type\":\"scatter\"},{\"hoverinfo\":\"text\",\"hoveron\":\"fills\",\"hovertext\":\"tensor(0.4165)\",\"marker\":{\"color\":\"rgb(193, 193, 193)\",\"opacity\":1},\"showlegend\":false,\"text\":\"tensor(0.4165)\",\"x\":[0,1],\"y\":[1.8703166246414185,1.418615460395813],\"type\":\"scatter\"},{\"hoverinfo\":\"text\",\"marker\":{\"color\":\"lightgrey\",\"opacity\":0},\"mode\":\"markers\",\"showlegend\":false,\"text\":[\"tensor(0.4165)\"],\"x\":[0.5],\"y\":[1.6444660425186157],\"type\":\"scatter\"},{\"hoverinfo\":\"text\",\"hoveron\":\"fills\",\"hovertext\":\"tensor(0.4329)\",\"marker\":{\"color\":\"rgb(181, 181, 181)\",\"opacity\":1},\"showlegend\":false,\"text\":\"tensor(0.4329)\",\"x\":[0,1],\"y\":[3.5298521518707275,1.3469513654708862],\"type\":\"scatter\"},{\"hoverinfo\":\"text\",\"marker\":{\"color\":\"lightgrey\",\"opacity\":0},\"mode\":\"markers\",\"showlegend\":false,\"text\":[\"tensor(0.4329)\"],\"x\":[0.5],\"y\":[2.438401758670807],\"type\":\"scatter\"},{\"hoverinfo\":\"text\",\"hoveron\":\"fills\",\"hovertext\":\"tensor(0.4169)\",\"marker\":{\"color\":\"rgb(193, 193, 193)\",\"opacity\":1},\"showlegend\":false,\"text\":\"tensor(0.4169)\",\"x\":[0,1],\"y\":[3.174651861190796,1.2487871646881104],\"type\":\"scatter\"},{\"hoverinfo\":\"text\",\"marker\":{\"color\":\"lightgrey\",\"opacity\":0},\"mode\":\"markers\",\"showlegend\":false,\"text\":[\"tensor(0.4169)\"],\"x\":[0.5],\"y\":[2.211719512939453],\"type\":\"scatter\"},{\"hoverinfo\":\"text\",\"hoveron\":\"fills\",\"hovertext\":\"tensor(0.4360)\",\"marker\":{\"color\":\"rgb(179, 179, 179)\",\"opacity\":1},\"showlegend\":false,\"text\":\"tensor(0.4360)\",\"x\":[0,1],\"y\":[3.174651861190796,1.2146083116531372],\"type\":\"scatter\"},{\"hoverinfo\":\"text\",\"marker\":{\"color\":\"lightgrey\",\"opacity\":0},\"mode\":\"markers\",\"showlegend\":false,\"text\":[\"tensor(0.4360)\"],\"x\":[0.5],\"y\":[2.1946300864219666],\"type\":\"scatter\"},{\"hoverinfo\":\"text\",\"hoveron\":\"fills\",\"hovertext\":\"tensor(0.4268)\",\"marker\":{\"color\":\"rgb(186, 186, 186)\",\"opacity\":1},\"showlegend\":false,\"text\":\"tensor(0.4268)\",\"x\":[0,1],\"y\":[3.794713258743286,1.1437726020812988],\"type\":\"scatter\"},{\"hoverinfo\":\"text\",\"marker\":{\"color\":\"lightgrey\",\"opacity\":0},\"mode\":\"markers\",\"showlegend\":false,\"text\":[\"tensor(0.4268)\"],\"x\":[0.5],\"y\":[2.4692429304122925],\"type\":\"scatter\"},{\"hoverinfo\":\"text\",\"hoveron\":\"fills\",\"hovertext\":\"tensor(0.4196)\",\"marker\":{\"color\":\"rgb(191, 191, 191)\",\"opacity\":1},\"showlegend\":false,\"text\":\"tensor(0.4196)\",\"x\":[0,1],\"y\":[3.5298521518707275,1.1437726020812988],\"type\":\"scatter\"},{\"hoverinfo\":\"text\",\"marker\":{\"color\":\"lightgrey\",\"opacity\":0},\"mode\":\"markers\",\"showlegend\":false,\"text\":[\"tensor(0.4196)\"],\"x\":[0.5],\"y\":[2.336812376976013],\"type\":\"scatter\"},{\"hoverinfo\":\"text\",\"hoveron\":\"fills\",\"hovertext\":\"tensor(0.4011)\",\"marker\":{\"color\":\"rgb(205, 205, 205)\",\"opacity\":1},\"showlegend\":false,\"text\":\"tensor(0.4011)\",\"x\":[0,1],\"y\":[3.794713258743286,1.0473504066467285],\"type\":\"scatter\"},{\"hoverinfo\":\"text\",\"marker\":{\"color\":\"lightgrey\",\"opacity\":0},\"mode\":\"markers\",\"showlegend\":false,\"text\":[\"tensor(0.4011)\"],\"x\":[0.5],\"y\":[2.4210318326950073],\"type\":\"scatter\"},{\"hoverinfo\":\"text\",\"hoveron\":\"fills\",\"hovertext\":\"tensor(0.4858)\",\"marker\":{\"color\":\"rgb(142, 142, 142)\",\"opacity\":1},\"showlegend\":false,\"text\":\"tensor(0.4858)\",\"x\":[0,1],\"y\":[3.1129493713378906,1.0473504066467285],\"type\":\"scatter\"},{\"hoverinfo\":\"text\",\"marker\":{\"color\":\"lightgrey\",\"opacity\":0},\"mode\":\"markers\",\"showlegend\":false,\"text\":[\"tensor(0.4858)\"],\"x\":[0.5],\"y\":[2.0801498889923096],\"type\":\"scatter\"},{\"hoverinfo\":\"text\",\"hoveron\":\"fills\",\"hovertext\":\"tensor(0.4069)\",\"marker\":{\"color\":\"rgb(201, 201, 201)\",\"opacity\":1},\"showlegend\":false,\"text\":\"tensor(0.4069)\",\"x\":[0,1],\"y\":[3.174651861190796,0.945694625377655],\"type\":\"scatter\"},{\"hoverinfo\":\"text\",\"marker\":{\"color\":\"lightgrey\",\"opacity\":0},\"mode\":\"markers\",\"showlegend\":false,\"text\":[\"tensor(0.4069)\"],\"x\":[0.5],\"y\":[2.0601732432842255],\"type\":\"scatter\"},{\"hoverinfo\":\"text\",\"hoveron\":\"fills\",\"hovertext\":\"tensor(0.3863)\",\"marker\":{\"color\":\"rgb(216, 216, 216)\",\"opacity\":1},\"showlegend\":false,\"text\":\"tensor(0.3863)\",\"x\":[0,1],\"y\":[3.174651861190796,0.8879631161689758],\"type\":\"scatter\"},{\"hoverinfo\":\"text\",\"marker\":{\"color\":\"lightgrey\",\"opacity\":0},\"mode\":\"markers\",\"showlegend\":false,\"text\":[\"tensor(0.3863)\"],\"x\":[0.5],\"y\":[2.031307488679886],\"type\":\"scatter\"},{\"hoverinfo\":\"text\",\"hoveron\":\"fills\",\"hovertext\":\"tensor(0.4007)\",\"marker\":{\"color\":\"rgb(205, 205, 205)\",\"opacity\":1},\"showlegend\":false,\"text\":\"tensor(0.4007)\",\"x\":[0,1],\"y\":[3.1129493713378906,0.8163379430770874],\"type\":\"scatter\"},{\"hoverinfo\":\"text\",\"marker\":{\"color\":\"lightgrey\",\"opacity\":0},\"mode\":\"markers\",\"showlegend\":false,\"text\":[\"tensor(0.4007)\"],\"x\":[0.5],\"y\":[1.964643657207489],\"type\":\"scatter\"},{\"hoverinfo\":\"text\",\"hoveron\":\"fills\",\"hovertext\":\"tensor(0.4023)\",\"marker\":{\"color\":\"rgb(204, 204, 204)\",\"opacity\":1},\"showlegend\":false,\"text\":\"tensor(0.4023)\",\"x\":[0,1],\"y\":[1.8703166246414185,0.666287362575531],\"type\":\"scatter\"},{\"hoverinfo\":\"text\",\"marker\":{\"color\":\"lightgrey\",\"opacity\":0},\"mode\":\"markers\",\"showlegend\":false,\"text\":[\"tensor(0.4023)\"],\"x\":[0.5],\"y\":[1.2683019936084747],\"type\":\"scatter\"},{\"hoverinfo\":\"text\",\"hoveron\":\"fills\",\"hovertext\":\"tensor(0.2673)\",\"marker\":{\"color\":\"rgb(222, 222, 222)\",\"opacity\":1},\"showlegend\":false,\"text\":\"tensor(0.2673)\",\"x\":[1,2],\"y\":[2.3946924209594727,3.0063483715057373],\"type\":\"scatter\"},{\"hoverinfo\":\"text\",\"marker\":{\"color\":\"lightgrey\",\"opacity\":0},\"mode\":\"markers\",\"showlegend\":false,\"text\":[\"tensor(0.2673)\"],\"x\":[1.5],\"y\":[2.700520396232605],\"type\":\"scatter\"},{\"hoverinfo\":\"text\",\"hoveron\":\"fills\",\"hovertext\":\"tensor(0.2953)\",\"marker\":{\"color\":\"rgb(185, 185, 185)\",\"opacity\":1},\"showlegend\":false,\"text\":\"tensor(0.2953)\",\"x\":[1,2],\"y\":[2.221325397491455,3.0063483715057373],\"type\":\"scatter\"},{\"hoverinfo\":\"text\",\"marker\":{\"color\":\"lightgrey\",\"opacity\":0},\"mode\":\"markers\",\"showlegend\":false,\"text\":[\"tensor(0.2953)\"],\"x\":[1.5],\"y\":[2.613836884498596],\"type\":\"scatter\"},{\"hoverinfo\":\"text\",\"hoveron\":\"fills\",\"hovertext\":\"tensor(0.2700)\",\"marker\":{\"color\":\"rgb(218, 218, 218)\",\"opacity\":1},\"showlegend\":false,\"text\":\"tensor(0.2700)\",\"x\":[1,2],\"y\":[1.8472234010696411,3.0063483715057373],\"type\":\"scatter\"},{\"hoverinfo\":\"text\",\"marker\":{\"color\":\"lightgrey\",\"opacity\":0},\"mode\":\"markers\",\"showlegend\":false,\"text\":[\"tensor(0.2700)\"],\"x\":[1.5],\"y\":[2.426785886287689],\"type\":\"scatter\"},{\"hoverinfo\":\"text\",\"hoveron\":\"fills\",\"hovertext\":\"tensor(0.3499)\",\"marker\":{\"color\":\"rgb(115, 115, 115)\",\"opacity\":1},\"showlegend\":false,\"text\":\"tensor(0.3499)\",\"x\":[1,2],\"y\":[1.7692784070968628,3.0063483715057373],\"type\":\"scatter\"},{\"hoverinfo\":\"text\",\"marker\":{\"color\":\"lightgrey\",\"opacity\":0},\"mode\":\"markers\",\"showlegend\":false,\"text\":[\"tensor(0.3499)\"],\"x\":[1.5],\"y\":[2.3878133893013],\"type\":\"scatter\"},{\"hoverinfo\":\"text\",\"hoveron\":\"fills\",\"hovertext\":\"tensor(0.2981)\",\"marker\":{\"color\":\"rgb(182, 182, 182)\",\"opacity\":1},\"showlegend\":false,\"text\":\"tensor(0.2981)\",\"x\":[1,2],\"y\":[2.221325397491455,2.6082797050476074],\"type\":\"scatter\"},{\"hoverinfo\":\"text\",\"marker\":{\"color\":\"lightgrey\",\"opacity\":0},\"mode\":\"markers\",\"showlegend\":false,\"text\":[\"tensor(0.2981)\"],\"x\":[1.5],\"y\":[2.4148025512695312],\"type\":\"scatter\"},{\"hoverinfo\":\"text\",\"hoveron\":\"fills\",\"hovertext\":\"tensor(0.3122)\",\"marker\":{\"color\":\"rgb(164, 164, 164)\",\"opacity\":1},\"showlegend\":false,\"text\":\"tensor(0.3122)\",\"x\":[1,2],\"y\":[1.970856785774231,2.6082797050476074],\"type\":\"scatter\"},{\"hoverinfo\":\"text\",\"marker\":{\"color\":\"lightgrey\",\"opacity\":0},\"mode\":\"markers\",\"showlegend\":false,\"text\":[\"tensor(0.3122)\"],\"x\":[1.5],\"y\":[2.289568245410919],\"type\":\"scatter\"},{\"hoverinfo\":\"text\",\"hoveron\":\"fills\",\"hovertext\":\"tensor(0.3048)\",\"marker\":{\"color\":\"rgb(173, 173, 173)\",\"opacity\":1},\"showlegend\":false,\"text\":\"tensor(0.3048)\",\"x\":[1,2],\"y\":[1.7692784070968628,2.6082797050476074],\"type\":\"scatter\"},{\"hoverinfo\":\"text\",\"marker\":{\"color\":\"lightgrey\",\"opacity\":0},\"mode\":\"markers\",\"showlegend\":false,\"text\":[\"tensor(0.3048)\"],\"x\":[1.5],\"y\":[2.188779056072235],\"type\":\"scatter\"},{\"hoverinfo\":\"text\",\"hoveron\":\"fills\",\"hovertext\":\"tensor(0.2779)\",\"marker\":{\"color\":\"rgb(208, 208, 208)\",\"opacity\":1},\"showlegend\":false,\"text\":\"tensor(0.2779)\",\"x\":[1,2],\"y\":[1.6028425693511963,2.6082797050476074],\"type\":\"scatter\"},{\"hoverinfo\":\"text\",\"marker\":{\"color\":\"lightgrey\",\"opacity\":0},\"mode\":\"markers\",\"showlegend\":false,\"text\":[\"tensor(0.2779)\"],\"x\":[1.5],\"y\":[2.105561137199402],\"type\":\"scatter\"},{\"hoverinfo\":\"text\",\"hoveron\":\"fills\",\"hovertext\":\"tensor(0.3000)\",\"marker\":{\"color\":\"rgb(179, 179, 179)\",\"opacity\":1},\"showlegend\":false,\"text\":\"tensor(0.3000)\",\"x\":[1,2],\"y\":[2.619462490081787,2.4827346801757812],\"type\":\"scatter\"},{\"hoverinfo\":\"text\",\"marker\":{\"color\":\"lightgrey\",\"opacity\":0},\"mode\":\"markers\",\"showlegend\":false,\"text\":[\"tensor(0.3000)\"],\"x\":[1.5],\"y\":[2.551098585128784],\"type\":\"scatter\"},{\"hoverinfo\":\"text\",\"hoveron\":\"fills\",\"hovertext\":\"tensor(0.3348)\",\"marker\":{\"color\":\"rgb(134, 134, 134)\",\"opacity\":1},\"showlegend\":false,\"text\":\"tensor(0.3348)\",\"x\":[1,2],\"y\":[1.6028425693511963,2.4827346801757812],\"type\":\"scatter\"},{\"hoverinfo\":\"text\",\"marker\":{\"color\":\"lightgrey\",\"opacity\":0},\"mode\":\"markers\",\"showlegend\":false,\"text\":[\"tensor(0.3348)\"],\"x\":[1.5],\"y\":[2.0427886247634888],\"type\":\"scatter\"},{\"hoverinfo\":\"text\",\"hoveron\":\"fills\",\"hovertext\":\"tensor(0.2693)\",\"marker\":{\"color\":\"rgb(219, 219, 219)\",\"opacity\":1},\"showlegend\":false,\"text\":\"tensor(0.2693)\",\"x\":[1,2],\"y\":[2.596273183822632,2.3844170570373535],\"type\":\"scatter\"},{\"hoverinfo\":\"text\",\"marker\":{\"color\":\"lightgrey\",\"opacity\":0},\"mode\":\"markers\",\"showlegend\":false,\"text\":[\"tensor(0.2693)\"],\"x\":[1.5],\"y\":[2.4903451204299927],\"type\":\"scatter\"},{\"hoverinfo\":\"text\",\"hoveron\":\"fills\",\"hovertext\":\"tensor(0.2701)\",\"marker\":{\"color\":\"rgb(218, 218, 218)\",\"opacity\":1},\"showlegend\":false,\"text\":\"tensor(0.2701)\",\"x\":[1,2],\"y\":[1.8216333389282227,2.3844170570373535],\"type\":\"scatter\"},{\"hoverinfo\":\"text\",\"marker\":{\"color\":\"lightgrey\",\"opacity\":0},\"mode\":\"markers\",\"showlegend\":false,\"text\":[\"tensor(0.2701)\"],\"x\":[1.5],\"y\":[2.103025197982788],\"type\":\"scatter\"},{\"hoverinfo\":\"text\",\"hoveron\":\"fills\",\"hovertext\":\"tensor(0.2736)\",\"marker\":{\"color\":\"rgb(214, 214, 214)\",\"opacity\":1},\"showlegend\":false,\"text\":\"tensor(0.2736)\",\"x\":[1,2],\"y\":[1.6622753143310547,2.3844170570373535],\"type\":\"scatter\"},{\"hoverinfo\":\"text\",\"marker\":{\"color\":\"lightgrey\",\"opacity\":0},\"mode\":\"markers\",\"showlegend\":false,\"text\":[\"tensor(0.2736)\"],\"x\":[1.5],\"y\":[2.023346185684204],\"type\":\"scatter\"},{\"hoverinfo\":\"text\",\"hoveron\":\"fills\",\"hovertext\":\"tensor(0.2938)\",\"marker\":{\"color\":\"rgb(187, 187, 187)\",\"opacity\":1},\"showlegend\":false,\"text\":\"tensor(0.2938)\",\"x\":[1,2],\"y\":[1.970856785774231,2.222792148590088],\"type\":\"scatter\"},{\"hoverinfo\":\"text\",\"marker\":{\"color\":\"lightgrey\",\"opacity\":0},\"mode\":\"markers\",\"showlegend\":false,\"text\":[\"tensor(0.2938)\"],\"x\":[1.5],\"y\":[2.0968244671821594],\"type\":\"scatter\"},{\"hoverinfo\":\"text\",\"hoveron\":\"fills\",\"hovertext\":\"tensor(0.3003)\",\"marker\":{\"color\":\"rgb(179, 179, 179)\",\"opacity\":1},\"showlegend\":false,\"text\":\"tensor(0.3003)\",\"x\":[1,2],\"y\":[1.7692784070968628,2.222792148590088],\"type\":\"scatter\"},{\"hoverinfo\":\"text\",\"marker\":{\"color\":\"lightgrey\",\"opacity\":0},\"mode\":\"markers\",\"showlegend\":false,\"text\":[\"tensor(0.3003)\"],\"x\":[1.5],\"y\":[1.9960352778434753],\"type\":\"scatter\"},{\"hoverinfo\":\"text\",\"hoveron\":\"fills\",\"hovertext\":\"tensor(0.3578)\",\"marker\":{\"color\":\"rgb(105, 105, 105)\",\"opacity\":1},\"showlegend\":false,\"text\":\"tensor(0.3578)\",\"x\":[1,2],\"y\":[1.2487871646881104,2.222792148590088],\"type\":\"scatter\"},{\"hoverinfo\":\"text\",\"marker\":{\"color\":\"lightgrey\",\"opacity\":0},\"mode\":\"markers\",\"showlegend\":false,\"text\":[\"tensor(0.3578)\"],\"x\":[1.5],\"y\":[1.7357896566390991],\"type\":\"scatter\"},{\"hoverinfo\":\"text\",\"hoveron\":\"fills\",\"hovertext\":\"tensor(0.3438)\",\"marker\":{\"color\":\"rgb(123, 123, 123)\",\"opacity\":1},\"showlegend\":false,\"text\":\"tensor(0.3438)\",\"x\":[1,2],\"y\":[2.137263536453247,2.1357510089874268],\"type\":\"scatter\"},{\"hoverinfo\":\"text\",\"marker\":{\"color\":\"lightgrey\",\"opacity\":0},\"mode\":\"markers\",\"showlegend\":false,\"text\":[\"tensor(0.3438)\"],\"x\":[1.5],\"y\":[2.136507272720337],\"type\":\"scatter\"},{\"hoverinfo\":\"text\",\"hoveron\":\"fills\",\"hovertext\":\"tensor(0.2771)\",\"marker\":{\"color\":\"rgb(209, 209, 209)\",\"opacity\":1},\"showlegend\":false,\"text\":\"tensor(0.2771)\",\"x\":[1,2],\"y\":[1.5505636930465698,2.1357510089874268],\"type\":\"scatter\"},{\"hoverinfo\":\"text\",\"marker\":{\"color\":\"lightgrey\",\"opacity\":0},\"mode\":\"markers\",\"showlegend\":false,\"text\":[\"tensor(0.2771)\"],\"x\":[1.5],\"y\":[1.8431573510169983],\"type\":\"scatter\"},{\"hoverinfo\":\"text\",\"hoveron\":\"fills\",\"hovertext\":\"tensor(0.2814)\",\"marker\":{\"color\":\"rgb(203, 203, 203)\",\"opacity\":1},\"showlegend\":false,\"text\":\"tensor(0.2814)\",\"x\":[1,2],\"y\":[2.3428449630737305,2.025749444961548],\"type\":\"scatter\"},{\"hoverinfo\":\"text\",\"marker\":{\"color\":\"lightgrey\",\"opacity\":0},\"mode\":\"markers\",\"showlegend\":false,\"text\":[\"tensor(0.2814)\"],\"x\":[1.5],\"y\":[2.184297204017639],\"type\":\"scatter\"},{\"hoverinfo\":\"text\",\"hoveron\":\"fills\",\"hovertext\":\"tensor(0.3270)\",\"marker\":{\"color\":\"rgb(144, 144, 144)\",\"opacity\":1},\"showlegend\":false,\"text\":\"tensor(0.3270)\",\"x\":[1,2],\"y\":[2.221325397491455,2.025749444961548],\"type\":\"scatter\"},{\"hoverinfo\":\"text\",\"marker\":{\"color\":\"lightgrey\",\"opacity\":0},\"mode\":\"markers\",\"showlegend\":false,\"text\":[\"tensor(0.3270)\"],\"x\":[1.5],\"y\":[2.1235374212265015],\"type\":\"scatter\"},{\"hoverinfo\":\"text\",\"hoveron\":\"fills\",\"hovertext\":\"tensor(0.3193)\",\"marker\":{\"color\":\"rgb(154, 154, 154)\",\"opacity\":1},\"showlegend\":false,\"text\":\"tensor(0.3193)\",\"x\":[1,2],\"y\":[2.3428449630737305,1.8898452520370483],\"type\":\"scatter\"},{\"hoverinfo\":\"text\",\"marker\":{\"color\":\"lightgrey\",\"opacity\":0},\"mode\":\"markers\",\"showlegend\":false,\"text\":[\"tensor(0.3193)\"],\"x\":[1.5],\"y\":[2.1163451075553894],\"type\":\"scatter\"},{\"hoverinfo\":\"text\",\"hoveron\":\"fills\",\"hovertext\":\"tensor(0.2782)\",\"marker\":{\"color\":\"rgb(208, 208, 208)\",\"opacity\":1},\"showlegend\":false,\"text\":\"tensor(0.2782)\",\"x\":[1,2],\"y\":[1.970856785774231,1.8898452520370483],\"type\":\"scatter\"},{\"hoverinfo\":\"text\",\"marker\":{\"color\":\"lightgrey\",\"opacity\":0},\"mode\":\"markers\",\"showlegend\":false,\"text\":[\"tensor(0.2782)\"],\"x\":[1.5],\"y\":[1.9303510189056396],\"type\":\"scatter\"},{\"hoverinfo\":\"text\",\"hoveron\":\"fills\",\"hovertext\":\"tensor(0.2698)\",\"marker\":{\"color\":\"rgb(219, 219, 219)\",\"opacity\":1},\"showlegend\":false,\"text\":\"tensor(0.2698)\",\"x\":[1,2],\"y\":[2.619462490081787,1.7701843976974487],\"type\":\"scatter\"},{\"hoverinfo\":\"text\",\"marker\":{\"color\":\"lightgrey\",\"opacity\":0},\"mode\":\"markers\",\"showlegend\":false,\"text\":[\"tensor(0.2698)\"],\"x\":[1.5],\"y\":[2.194823443889618],\"type\":\"scatter\"},{\"hoverinfo\":\"text\",\"hoveron\":\"fills\",\"hovertext\":\"tensor(0.2822)\",\"marker\":{\"color\":\"rgb(202, 202, 202)\",\"opacity\":1},\"showlegend\":false,\"text\":\"tensor(0.2822)\",\"x\":[1,2],\"y\":[1.5505636930465698,1.7701843976974487],\"type\":\"scatter\"},{\"hoverinfo\":\"text\",\"marker\":{\"color\":\"lightgrey\",\"opacity\":0},\"mode\":\"markers\",\"showlegend\":false,\"text\":[\"tensor(0.2822)\"],\"x\":[1.5],\"y\":[1.6603740453720093],\"type\":\"scatter\"},{\"hoverinfo\":\"text\",\"hoveron\":\"fills\",\"hovertext\":\"tensor(0.2773)\",\"marker\":{\"color\":\"rgb(209, 209, 209)\",\"opacity\":1},\"showlegend\":false,\"text\":\"tensor(0.2773)\",\"x\":[1,2],\"y\":[1.4318276643753052,1.7072043418884277],\"type\":\"scatter\"},{\"hoverinfo\":\"text\",\"marker\":{\"color\":\"lightgrey\",\"opacity\":0},\"mode\":\"markers\",\"showlegend\":false,\"text\":[\"tensor(0.2773)\"],\"x\":[1.5],\"y\":[1.5695160031318665],\"type\":\"scatter\"},{\"hoverinfo\":\"text\",\"hoveron\":\"fills\",\"hovertext\":\"tensor(0.3378)\",\"marker\":{\"color\":\"rgb(130, 130, 130)\",\"opacity\":1},\"showlegend\":false,\"text\":\"tensor(0.3378)\",\"x\":[1,2],\"y\":[2.596273183822632,1.702305555343628],\"type\":\"scatter\"},{\"hoverinfo\":\"text\",\"marker\":{\"color\":\"lightgrey\",\"opacity\":0},\"mode\":\"markers\",\"showlegend\":false,\"text\":[\"tensor(0.3378)\"],\"x\":[1.5],\"y\":[2.14928936958313],\"type\":\"scatter\"},{\"hoverinfo\":\"text\",\"hoveron\":\"fills\",\"hovertext\":\"tensor(0.2702)\",\"marker\":{\"color\":\"rgb(218, 218, 218)\",\"opacity\":1},\"showlegend\":false,\"text\":\"tensor(0.2702)\",\"x\":[1,2],\"y\":[1.970856785774231,1.702305555343628],\"type\":\"scatter\"},{\"hoverinfo\":\"text\",\"marker\":{\"color\":\"lightgrey\",\"opacity\":0},\"mode\":\"markers\",\"showlegend\":false,\"text\":[\"tensor(0.2702)\"],\"x\":[1.5],\"y\":[1.8365811705589294],\"type\":\"scatter\"},{\"hoverinfo\":\"text\",\"hoveron\":\"fills\",\"hovertext\":\"tensor(0.2764)\",\"marker\":{\"color\":\"rgb(210, 210, 210)\",\"opacity\":1},\"showlegend\":false,\"text\":\"tensor(0.2764)\",\"x\":[1,2],\"y\":[2.221325397491455,1.4379551410675049],\"type\":\"scatter\"},{\"hoverinfo\":\"text\",\"marker\":{\"color\":\"lightgrey\",\"opacity\":0},\"mode\":\"markers\",\"showlegend\":false,\"text\":[\"tensor(0.2764)\"],\"x\":[1.5],\"y\":[1.82964026927948],\"type\":\"scatter\"},{\"hoverinfo\":\"text\",\"hoveron\":\"fills\",\"hovertext\":\"tensor(0.2658)\",\"marker\":{\"color\":\"rgb(224, 224, 224)\",\"opacity\":1},\"showlegend\":false,\"text\":\"tensor(0.2658)\",\"x\":[1,2],\"y\":[2.137263536453247,1.4379551410675049],\"type\":\"scatter\"},{\"hoverinfo\":\"text\",\"marker\":{\"color\":\"lightgrey\",\"opacity\":0},\"mode\":\"markers\",\"showlegend\":false,\"text\":[\"tensor(0.2658)\"],\"x\":[1.5],\"y\":[1.787609338760376],\"type\":\"scatter\"},{\"hoverinfo\":\"text\",\"hoveron\":\"fills\",\"hovertext\":\"tensor(0.3427)\",\"marker\":{\"color\":\"rgb(124, 124, 124)\",\"opacity\":1},\"showlegend\":false,\"text\":\"tensor(0.3427)\",\"x\":[1,2],\"y\":[2.137263536453247,1.2427138090133667],\"type\":\"scatter\"},{\"hoverinfo\":\"text\",\"marker\":{\"color\":\"lightgrey\",\"opacity\":0},\"mode\":\"markers\",\"showlegend\":false,\"text\":[\"tensor(0.3427)\"],\"x\":[1.5],\"y\":[1.6899886727333069],\"type\":\"scatter\"},{\"hoverinfo\":\"text\",\"hoveron\":\"fills\",\"hovertext\":\"tensor(0.3836)\",\"marker\":{\"color\":\"rgb(208, 208, 208)\",\"opacity\":1},\"showlegend\":false,\"text\":\"tensor(0.3836)\",\"x\":[2,3],\"y\":[2.6082797050476074,4.51681661605835],\"type\":\"scatter\"},{\"hoverinfo\":\"text\",\"marker\":{\"color\":\"lightgrey\",\"opacity\":0},\"mode\":\"markers\",\"showlegend\":false,\"text\":[\"tensor(0.3836)\"],\"x\":[2.5],\"y\":[3.5625481605529785],\"type\":\"scatter\"},{\"hoverinfo\":\"text\",\"hoveron\":\"fills\",\"hovertext\":\"tensor(0.4092)\",\"marker\":{\"color\":\"rgb(161, 161, 161)\",\"opacity\":1},\"showlegend\":false,\"text\":\"tensor(0.4092)\",\"x\":[2,3],\"y\":[2.222792148590088,4.51681661605835],\"type\":\"scatter\"},{\"hoverinfo\":\"text\",\"marker\":{\"color\":\"lightgrey\",\"opacity\":0},\"mode\":\"markers\",\"showlegend\":false,\"text\":[\"tensor(0.4092)\"],\"x\":[2.5],\"y\":[3.3698043823242188],\"type\":\"scatter\"},{\"hoverinfo\":\"text\",\"hoveron\":\"fills\",\"hovertext\":\"tensor(0.4394)\",\"marker\":{\"color\":\"rgb(105, 105, 105)\",\"opacity\":1},\"showlegend\":false,\"text\":\"tensor(0.4394)\",\"x\":[2,3],\"y\":[3.0063483715057373,3.746652126312256],\"type\":\"scatter\"},{\"hoverinfo\":\"text\",\"marker\":{\"color\":\"lightgrey\",\"opacity\":0},\"mode\":\"markers\",\"showlegend\":false,\"text\":[\"tensor(0.4394)\"],\"x\":[2.5],\"y\":[3.3765002489089966],\"type\":\"scatter\"},{\"hoverinfo\":\"text\",\"hoveron\":\"fills\",\"hovertext\":\"tensor(0.3809)\",\"marker\":{\"color\":\"rgb(214, 214, 214)\",\"opacity\":1},\"showlegend\":false,\"text\":\"tensor(0.3809)\",\"x\":[2,3],\"y\":[1.8898452520370483,3.2807815074920654],\"type\":\"scatter\"},{\"hoverinfo\":\"text\",\"marker\":{\"color\":\"lightgrey\",\"opacity\":0},\"mode\":\"markers\",\"showlegend\":false,\"text\":[\"tensor(0.3809)\"],\"x\":[2.5],\"y\":[2.585313379764557],\"type\":\"scatter\"},{\"marker\":{\"color\":\"red\",\"opacity\":1},\"mode\":\"markers\",\"showlegend\":false,\"x\":[0,0,0,0,0,0,0,0,0,0,0,0,0,0,0,0],\"y\":[3.794713258743286,3.5298521518707275,3.174651861190796,3.1129493713378906,2.2334070205688477,1.8703166246414185,1.4214890003204346,1.1826372146606445,0.9169599413871765,0.7205042243003845,0.624684751033783,0.608867883682251,0.5374576449394226,0.47529956698417664,0.4129175543785095,0.3060093820095062],\"type\":\"scatter\"},{\"marker\":{\"color\":\"red\",\"opacity\":1},\"mode\":\"markers\",\"showlegend\":false,\"x\":[1,1,1,1,1,1,1,1,1,1,1,1,1,1,1,1,1,1,1,1,1,1,1,1,1,1,1,1,1,1,1,1],\"y\":[2.619462490081787,2.596273183822632,2.3946924209594727,2.3428449630737305,2.221325397491455,2.137263536453247,1.970856785774231,1.8472234010696411,1.8216333389282227,1.7692784070968628,1.6622753143310547,1.6028425693511963,1.5505636930465698,1.4318276643753052,1.418615460395813,1.3469513654708862,1.2487871646881104,1.2146083116531372,1.1437726020812988,1.1069715023040771,1.0473504066467285,1.0157853364944458,0.948200523853302,0.945694625377655,0.8879631161689758,0.8163379430770874,0.7625325918197632,0.7112823724746704,0.6763978600502014,0.666287362575531,0.6121438145637512,0.4986434876918793],\"type\":\"scatter\"},{\"marker\":{\"color\":\"red\",\"opacity\":1},\"mode\":\"markers\",\"showlegend\":false,\"x\":[2,2,2,2,2,2,2,2,2,2,2,2,2,2,2,2],\"y\":[3.0063483715057373,2.6082797050476074,2.4827346801757812,2.3844170570373535,2.222792148590088,2.1357510089874268,2.025749444961548,1.8898452520370483,1.7701843976974487,1.7072043418884277,1.702305555343628,1.6014516353607178,1.4379551410675049,1.3516851663589478,1.3317166566848755,1.2427138090133667],\"type\":\"scatter\"},{\"marker\":{\"color\":\"blue\",\"opacity\":1},\"mode\":\"markers\",\"showlegend\":false,\"x\":[3,3,3,3,3,3,3,3,3,3],\"y\":[4.51681661605835,3.746652126312256,3.584092855453491,3.2807815074920654,2.9047014713287354,2.6586861610412598,2.5615859031677246,2.4447479248046875,2.036566972732544,0.568924605846405],\"type\":\"scatter\"}],                        {\"template\":{\"data\":{\"bar\":[{\"error_x\":{\"color\":\"#2a3f5f\"},\"error_y\":{\"color\":\"#2a3f5f\"},\"marker\":{\"line\":{\"color\":\"#E5ECF6\",\"width\":0.5},\"pattern\":{\"fillmode\":\"overlay\",\"size\":10,\"solidity\":0.2}},\"type\":\"bar\"}],\"barpolar\":[{\"marker\":{\"line\":{\"color\":\"#E5ECF6\",\"width\":0.5},\"pattern\":{\"fillmode\":\"overlay\",\"size\":10,\"solidity\":0.2}},\"type\":\"barpolar\"}],\"carpet\":[{\"aaxis\":{\"endlinecolor\":\"#2a3f5f\",\"gridcolor\":\"white\",\"linecolor\":\"white\",\"minorgridcolor\":\"white\",\"startlinecolor\":\"#2a3f5f\"},\"baxis\":{\"endlinecolor\":\"#2a3f5f\",\"gridcolor\":\"white\",\"linecolor\":\"white\",\"minorgridcolor\":\"white\",\"startlinecolor\":\"#2a3f5f\"},\"type\":\"carpet\"}],\"choropleth\":[{\"colorbar\":{\"outlinewidth\":0,\"ticks\":\"\"},\"type\":\"choropleth\"}],\"contour\":[{\"colorbar\":{\"outlinewidth\":0,\"ticks\":\"\"},\"colorscale\":[[0.0,\"#0d0887\"],[0.1111111111111111,\"#46039f\"],[0.2222222222222222,\"#7201a8\"],[0.3333333333333333,\"#9c179e\"],[0.4444444444444444,\"#bd3786\"],[0.5555555555555556,\"#d8576b\"],[0.6666666666666666,\"#ed7953\"],[0.7777777777777778,\"#fb9f3a\"],[0.8888888888888888,\"#fdca26\"],[1.0,\"#f0f921\"]],\"type\":\"contour\"}],\"contourcarpet\":[{\"colorbar\":{\"outlinewidth\":0,\"ticks\":\"\"},\"type\":\"contourcarpet\"}],\"heatmap\":[{\"colorbar\":{\"outlinewidth\":0,\"ticks\":\"\"},\"colorscale\":[[0.0,\"#0d0887\"],[0.1111111111111111,\"#46039f\"],[0.2222222222222222,\"#7201a8\"],[0.3333333333333333,\"#9c179e\"],[0.4444444444444444,\"#bd3786\"],[0.5555555555555556,\"#d8576b\"],[0.6666666666666666,\"#ed7953\"],[0.7777777777777778,\"#fb9f3a\"],[0.8888888888888888,\"#fdca26\"],[1.0,\"#f0f921\"]],\"type\":\"heatmap\"}],\"heatmapgl\":[{\"colorbar\":{\"outlinewidth\":0,\"ticks\":\"\"},\"colorscale\":[[0.0,\"#0d0887\"],[0.1111111111111111,\"#46039f\"],[0.2222222222222222,\"#7201a8\"],[0.3333333333333333,\"#9c179e\"],[0.4444444444444444,\"#bd3786\"],[0.5555555555555556,\"#d8576b\"],[0.6666666666666666,\"#ed7953\"],[0.7777777777777778,\"#fb9f3a\"],[0.8888888888888888,\"#fdca26\"],[1.0,\"#f0f921\"]],\"type\":\"heatmapgl\"}],\"histogram\":[{\"marker\":{\"pattern\":{\"fillmode\":\"overlay\",\"size\":10,\"solidity\":0.2}},\"type\":\"histogram\"}],\"histogram2d\":[{\"colorbar\":{\"outlinewidth\":0,\"ticks\":\"\"},\"colorscale\":[[0.0,\"#0d0887\"],[0.1111111111111111,\"#46039f\"],[0.2222222222222222,\"#7201a8\"],[0.3333333333333333,\"#9c179e\"],[0.4444444444444444,\"#bd3786\"],[0.5555555555555556,\"#d8576b\"],[0.6666666666666666,\"#ed7953\"],[0.7777777777777778,\"#fb9f3a\"],[0.8888888888888888,\"#fdca26\"],[1.0,\"#f0f921\"]],\"type\":\"histogram2d\"}],\"histogram2dcontour\":[{\"colorbar\":{\"outlinewidth\":0,\"ticks\":\"\"},\"colorscale\":[[0.0,\"#0d0887\"],[0.1111111111111111,\"#46039f\"],[0.2222222222222222,\"#7201a8\"],[0.3333333333333333,\"#9c179e\"],[0.4444444444444444,\"#bd3786\"],[0.5555555555555556,\"#d8576b\"],[0.6666666666666666,\"#ed7953\"],[0.7777777777777778,\"#fb9f3a\"],[0.8888888888888888,\"#fdca26\"],[1.0,\"#f0f921\"]],\"type\":\"histogram2dcontour\"}],\"mesh3d\":[{\"colorbar\":{\"outlinewidth\":0,\"ticks\":\"\"},\"type\":\"mesh3d\"}],\"parcoords\":[{\"line\":{\"colorbar\":{\"outlinewidth\":0,\"ticks\":\"\"}},\"type\":\"parcoords\"}],\"pie\":[{\"automargin\":true,\"type\":\"pie\"}],\"scatter\":[{\"marker\":{\"colorbar\":{\"outlinewidth\":0,\"ticks\":\"\"}},\"type\":\"scatter\"}],\"scatter3d\":[{\"line\":{\"colorbar\":{\"outlinewidth\":0,\"ticks\":\"\"}},\"marker\":{\"colorbar\":{\"outlinewidth\":0,\"ticks\":\"\"}},\"type\":\"scatter3d\"}],\"scattercarpet\":[{\"marker\":{\"colorbar\":{\"outlinewidth\":0,\"ticks\":\"\"}},\"type\":\"scattercarpet\"}],\"scattergeo\":[{\"marker\":{\"colorbar\":{\"outlinewidth\":0,\"ticks\":\"\"}},\"type\":\"scattergeo\"}],\"scattergl\":[{\"marker\":{\"colorbar\":{\"outlinewidth\":0,\"ticks\":\"\"}},\"type\":\"scattergl\"}],\"scattermapbox\":[{\"marker\":{\"colorbar\":{\"outlinewidth\":0,\"ticks\":\"\"}},\"type\":\"scattermapbox\"}],\"scatterpolar\":[{\"marker\":{\"colorbar\":{\"outlinewidth\":0,\"ticks\":\"\"}},\"type\":\"scatterpolar\"}],\"scatterpolargl\":[{\"marker\":{\"colorbar\":{\"outlinewidth\":0,\"ticks\":\"\"}},\"type\":\"scatterpolargl\"}],\"scatterternary\":[{\"marker\":{\"colorbar\":{\"outlinewidth\":0,\"ticks\":\"\"}},\"type\":\"scatterternary\"}],\"surface\":[{\"colorbar\":{\"outlinewidth\":0,\"ticks\":\"\"},\"colorscale\":[[0.0,\"#0d0887\"],[0.1111111111111111,\"#46039f\"],[0.2222222222222222,\"#7201a8\"],[0.3333333333333333,\"#9c179e\"],[0.4444444444444444,\"#bd3786\"],[0.5555555555555556,\"#d8576b\"],[0.6666666666666666,\"#ed7953\"],[0.7777777777777778,\"#fb9f3a\"],[0.8888888888888888,\"#fdca26\"],[1.0,\"#f0f921\"]],\"type\":\"surface\"}],\"table\":[{\"cells\":{\"fill\":{\"color\":\"#EBF0F8\"},\"line\":{\"color\":\"white\"}},\"header\":{\"fill\":{\"color\":\"#C8D4E3\"},\"line\":{\"color\":\"white\"}},\"type\":\"table\"}]},\"layout\":{\"annotationdefaults\":{\"arrowcolor\":\"#2a3f5f\",\"arrowhead\":0,\"arrowwidth\":1},\"autotypenumbers\":\"strict\",\"coloraxis\":{\"colorbar\":{\"outlinewidth\":0,\"ticks\":\"\"}},\"colorscale\":{\"diverging\":[[0,\"#8e0152\"],[0.1,\"#c51b7d\"],[0.2,\"#de77ae\"],[0.3,\"#f1b6da\"],[0.4,\"#fde0ef\"],[0.5,\"#f7f7f7\"],[0.6,\"#e6f5d0\"],[0.7,\"#b8e186\"],[0.8,\"#7fbc41\"],[0.9,\"#4d9221\"],[1,\"#276419\"]],\"sequential\":[[0.0,\"#0d0887\"],[0.1111111111111111,\"#46039f\"],[0.2222222222222222,\"#7201a8\"],[0.3333333333333333,\"#9c179e\"],[0.4444444444444444,\"#bd3786\"],[0.5555555555555556,\"#d8576b\"],[0.6666666666666666,\"#ed7953\"],[0.7777777777777778,\"#fb9f3a\"],[0.8888888888888888,\"#fdca26\"],[1.0,\"#f0f921\"]],\"sequentialminus\":[[0.0,\"#0d0887\"],[0.1111111111111111,\"#46039f\"],[0.2222222222222222,\"#7201a8\"],[0.3333333333333333,\"#9c179e\"],[0.4444444444444444,\"#bd3786\"],[0.5555555555555556,\"#d8576b\"],[0.6666666666666666,\"#ed7953\"],[0.7777777777777778,\"#fb9f3a\"],[0.8888888888888888,\"#fdca26\"],[1.0,\"#f0f921\"]]},\"colorway\":[\"#636efa\",\"#EF553B\",\"#00cc96\",\"#ab63fa\",\"#FFA15A\",\"#19d3f3\",\"#FF6692\",\"#B6E880\",\"#FF97FF\",\"#FECB52\"],\"font\":{\"color\":\"#2a3f5f\"},\"geo\":{\"bgcolor\":\"white\",\"lakecolor\":\"white\",\"landcolor\":\"#E5ECF6\",\"showlakes\":true,\"showland\":true,\"subunitcolor\":\"white\"},\"hoverlabel\":{\"align\":\"left\"},\"hovermode\":\"closest\",\"mapbox\":{\"style\":\"light\"},\"paper_bgcolor\":\"white\",\"plot_bgcolor\":\"#E5ECF6\",\"polar\":{\"angularaxis\":{\"gridcolor\":\"white\",\"linecolor\":\"white\",\"ticks\":\"\"},\"bgcolor\":\"#E5ECF6\",\"radialaxis\":{\"gridcolor\":\"white\",\"linecolor\":\"white\",\"ticks\":\"\"}},\"scene\":{\"xaxis\":{\"backgroundcolor\":\"#E5ECF6\",\"gridcolor\":\"white\",\"gridwidth\":2,\"linecolor\":\"white\",\"showbackground\":true,\"ticks\":\"\",\"zerolinecolor\":\"white\"},\"yaxis\":{\"backgroundcolor\":\"#E5ECF6\",\"gridcolor\":\"white\",\"gridwidth\":2,\"linecolor\":\"white\",\"showbackground\":true,\"ticks\":\"\",\"zerolinecolor\":\"white\"},\"zaxis\":{\"backgroundcolor\":\"#E5ECF6\",\"gridcolor\":\"white\",\"gridwidth\":2,\"linecolor\":\"white\",\"showbackground\":true,\"ticks\":\"\",\"zerolinecolor\":\"white\"}},\"shapedefaults\":{\"line\":{\"color\":\"#2a3f5f\"}},\"ternary\":{\"aaxis\":{\"gridcolor\":\"white\",\"linecolor\":\"white\",\"ticks\":\"\"},\"baxis\":{\"gridcolor\":\"white\",\"linecolor\":\"white\",\"ticks\":\"\"},\"bgcolor\":\"#E5ECF6\",\"caxis\":{\"gridcolor\":\"white\",\"linecolor\":\"white\",\"ticks\":\"\"}},\"title\":{\"x\":0.05},\"xaxis\":{\"automargin\":true,\"gridcolor\":\"white\",\"linecolor\":\"white\",\"ticks\":\"\",\"title\":{\"standoff\":15},\"zerolinecolor\":\"white\",\"zerolinewidth\":2},\"yaxis\":{\"automargin\":true,\"gridcolor\":\"white\",\"linecolor\":\"white\",\"ticks\":\"\",\"title\":{\"standoff\":15},\"zerolinecolor\":\"white\",\"zerolinewidth\":2}}},\"xaxis\":{\"anchor\":\"y\",\"domain\":[0.0,1.0],\"title\":{\"text\":\"index\"}},\"yaxis\":{\"anchor\":\"x\",\"domain\":[0.0,1.0],\"title\":{\"text\":\"value\"}},\"legend\":{\"tracegroupgap\":0},\"margin\":{\"t\":60}},                        {\"responsive\": true}                    ).then(function(){\n",
       "                            \n",
       "var gd = document.getElementById('b415fa92-154f-416c-9f5f-0b3fee7678eb');\n",
       "var x = new MutationObserver(function (mutations, observer) {{\n",
       "        var display = window.getComputedStyle(gd).display;\n",
       "        if (!display || display === 'none') {{\n",
       "            console.log([gd, 'removed!']);\n",
       "            Plotly.purge(gd);\n",
       "            observer.disconnect();\n",
       "        }}\n",
       "}});\n",
       "\n",
       "// Listen for the removal of the full notebook cells\n",
       "var notebookContainer = gd.closest('#notebook-container');\n",
       "if (notebookContainer) {{\n",
       "    x.observe(notebookContainer, {childList: true});\n",
       "}}\n",
       "\n",
       "// Listen for the clearing of the current output cell\n",
       "var outputEl = gd.closest('.output');\n",
       "if (outputEl) {{\n",
       "    x.observe(outputEl, {childList: true});\n",
       "}}\n",
       "\n",
       "                        })                };                });            </script>        </div>"
      ]
     },
     "metadata": {},
     "output_type": "display_data"
    }
   ],
   "source": [
    "weights = [A.detach() for A in list(model.parameters())]\n",
    "svr = SVR(weights)\n",
    "svr.plot(sigmaThreshold=1.5)"
   ]
  },
  {
   "cell_type": "code",
   "execution_count": 46,
   "id": "f1ca5da1",
   "metadata": {
    "scrolled": true
   },
   "outputs": [
    {
     "name": "stdout",
     "output_type": "stream",
     "text": [
      "torch.Size([32, 32, 3])\n"
     ]
    },
    {
     "data": {
      "image/png": "[encoded data removed]",
      "text/plain": [
       "<Figure size 432x288 with 1 Axes>"
      ]
     },
     "metadata": {
      "needs_background": "light"
     },
     "output_type": "display_data"
    }
   ],
   "source": [
    "def printCifar(tensor):\n",
    "    img=tensor.to('cpu')\n",
    "    pixels = img.reshape((3,32,32)).transpose(0,2).transpose(1,0)\n",
    "    print(pixels.shape)\n",
    "    plt.imshow(pixels)\n",
    "\n",
    "\n",
    "perm = torch.randperm(10)\n",
    "def permute(x):\n",
    "    return perm[x]\n"
   ]
  },
  {
   "cell_type": "code",
   "execution_count": null,
   "id": "98f634ea",
   "metadata": {},
   "outputs": [],
   "source": [
    "\n",
    "print32x32tensor(X[2])\n"
   ]
  },
  {
   "cell_type": "code",
   "execution_count": 60,
   "id": "388fdb65",
   "metadata": {},
   "outputs": [],
   "source": [
    "names =['airplane', 'automobile','bird','cat', 'deer', 'dog', 'frog', 'horse', 'ship', 'truck']\n",
    "def lab(output):\n",
    "    return names[output.argmax()]"
   ]
  },
  {
   "cell_type": "code",
   "execution_count": 172,
   "id": "3ed45b58",
   "metadata": {},
   "outputs": [
    {
     "name": "stdout",
     "output_type": "stream",
     "text": [
      "torch.Size([32, 32, 3])\n",
      "deer\n",
      "dog\n"
     ]
    },
    {
     "data": {
      "image/png": "[encoded data removed]",
      "text/plain": [
       "<Figure size 432x288 with 1 Axes>"
      ]
     },
     "metadata": {
      "needs_background": "light"
     },
     "output_type": "display_data"
    }
   ],
   "source": [
    "idx=56\n",
    "printCifar(X[idx])\n",
    "print(lab(model(X[idx].reshape(1,3,32,32).to(DEVICE))))\n",
    "print(names[y[idx]])"
   ]
  },
  {
   "cell_type": "code",
   "execution_count": 159,
   "id": "9b059b38",
   "metadata": {},
   "outputs": [
    {
     "data": {
      "text/plain": [
       "CNN10(\n",
       "  (conv1): Sequential(\n",
       "    (0): Conv2d(3, 16, kernel_size=(3, 3), stride=(1, 1), padding=(1, 1), bias=False)\n",
       "    (1): ReLU()\n",
       "    (2): MaxPool2d(kernel_size=2, stride=2, padding=0, dilation=1, ceil_mode=False)\n",
       "  )\n",
       "  (conv2): Sequential(\n",
       "    (0): Conv2d(16, 32, kernel_size=(3, 3), stride=(1, 1), padding=(1, 1), bias=False)\n",
       "    (1): ReLU()\n",
       "    (2): MaxPool2d(kernel_size=2, stride=2, padding=0, dilation=1, ceil_mode=False)\n",
       "  )\n",
       "  (conv3): Sequential(\n",
       "    (0): Conv2d(32, 16, kernel_size=(3, 3), stride=(1, 1), padding=(1, 1), bias=False)\n",
       "    (1): ReLU()\n",
       "  )\n",
       "  (out): Linear(in_features=1024, out_features=10, bias=False)\n",
       ")"
      ]
     },
     "execution_count": 159,
     "metadata": {},
     "output_type": "execute_result"
    }
   ],
   "source": [
    "model\n"
   ]
  },
  {
   "cell_type": "code",
   "execution_count": 194,
   "id": "41e06998",
   "metadata": {},
   "outputs": [],
   "source": [
    " n = 100\n",
    "fmodel = PyTorchModel(model.eval(), bounds=(0, 1), preprocessing=None)\n",
    "epsilons = [2]\n",
    "_,clipped_atk,_ = atkFGM(fmodel, X[:n].to(DEVICE), y[:n].to(DEVICE),epsilons=epsilons)\n",
    "data=clipped_atk[0]"
   ]
  },
  {
   "cell_type": "code",
   "execution_count": 195,
   "id": "f81487be",
   "metadata": {
    "scrolled": true
   },
   "outputs": [
    {
     "name": "stdout",
     "output_type": "stream",
     "text": [
      "tensor(39, device='cuda:0')\n",
      "tensor(8, device='cuda:0')\n",
      "tensor(55, device='cuda:0')\n"
     ]
    }
   ],
   "source": [
    "print((model(data).argmax(dim=1) == model(X[:n].to(DEVICE)).argmax(dim=1) ).sum())\n",
    "print((model(data).argmax(dim=1) == y[:n].to(DEVICE) ).sum())\n",
    "print((model(X[:n].to(DEVICE)).argmax(dim=1) == y[:n].to(DEVICE) ).sum())"
   ]
  },
  {
   "cell_type": "markdown",
   "id": "1e637e15",
   "metadata": {},
   "source": [
    "## Similarities between models on input level "
   ]
  },
  {
   "cell_type": "markdown",
   "id": "ba38c02b",
   "metadata": {},
   "source": [
    "Trying to see if there s a correlation between features learned by a model and one which was given random labels \n",
    "Correlation between features of one model "
   ]
  },
  {
   "cell_type": "code",
   "execution_count": 243,
   "id": "7004b6eb",
   "metadata": {},
   "outputs": [
    {
     "data": {
      "text/plain": [
       "tensor([9, 6, 2, 5, 4, 5, 9, 7, 6, 0, 6, 0, 9, 6, 0])"
      ]
     },
     "execution_count": 243,
     "metadata": {},
     "output_type": "execute_result"
    }
   ],
   "source": []
  },
  {
   "cell_type": "code",
   "execution_count": 245,
   "id": "78a18800",
   "metadata": {
    "scrolled": true
   },
   "outputs": [
    {
     "name": "stdout",
     "output_type": "stream",
     "text": [
      "Number of batch per epoch :  1845\n"
     ]
    },
    {
     "name": "stderr",
     "output_type": "stream",
     "text": [
      "100%|███████████████████████████████████████| 1845/1845 [00:19<00:00, 94.04it/s]\n"
     ]
    },
    {
     "name": "stdout",
     "output_type": "stream",
     "text": [
      "---------------  Epoch :  0  ---------------\n",
      "Train Accuracy :  36.234756097560975  %\n",
      "Test Accuracy :  48.75  %\n",
      "PGD Robust Accuracy :  31.874999999999996  %\n"
     ]
    },
    {
     "name": "stderr",
     "output_type": "stream",
     "text": [
      "100%|███████████████████████████████████████| 1845/1845 [00:18<00:00, 98.60it/s]\n"
     ]
    },
    {
     "name": "stdout",
     "output_type": "stream",
     "text": [
      "---------------  Epoch :  1  ---------------\n",
      "Train Accuracy :  54.32757452574526  %\n",
      "Test Accuracy :  57.395833333333336  %\n",
      "PGD Robust Accuracy :  34.479166666666664  %\n",
      "Number of batch per epoch :  1845\n"
     ]
    },
    {
     "name": "stderr",
     "output_type": "stream",
     "text": [
      "100%|██████████████████████████████████████| 1845/1845 [00:18<00:00, 100.13it/s]\n"
     ]
    },
    {
     "name": "stdout",
     "output_type": "stream",
     "text": [
      "---------------  Epoch :  0  ---------------\n",
      "Train Accuracy :  32.34756097560976  %\n",
      "Test Accuracy :  49.895833333333336  %\n",
      "PGD Robust Accuracy :  30.885416666666664  %\n"
     ]
    },
    {
     "name": "stderr",
     "output_type": "stream",
     "text": [
      "100%|██████████████████████████████████████| 1845/1845 [00:18<00:00, 100.47it/s]\n"
     ]
    },
    {
     "name": "stdout",
     "output_type": "stream",
     "text": [
      "---------------  Epoch :  1  ---------------\n",
      "Train Accuracy :  51.355013550135496  %\n",
      "Test Accuracy :  56.875  %\n",
      "PGD Robust Accuracy :  32.864583333333336  %\n",
      "Number of batch per epoch :  1845\n"
     ]
    },
    {
     "name": "stderr",
     "output_type": "stream",
     "text": [
      "100%|███████████████████████████████████████| 1845/1845 [00:18<00:00, 99.95it/s]\n"
     ]
    },
    {
     "name": "stdout",
     "output_type": "stream",
     "text": [
      "---------------  Epoch :  0  ---------------\n",
      "Train Accuracy :  34.49017615176152  %\n",
      "Test Accuracy :  52.81249999999999  %\n",
      "PGD Robust Accuracy :  32.864583333333336  %\n"
     ]
    },
    {
     "name": "stderr",
     "output_type": "stream",
     "text": [
      "100%|███████████████████████████████████████| 1845/1845 [01:36<00:00, 19.15it/s]\n"
     ]
    },
    {
     "name": "stdout",
     "output_type": "stream",
     "text": [
      "---------------  Epoch :  1  ---------------\n",
      "Train Accuracy :  27.210365853658537  %\n",
      "Test Accuracy :  50.31250000000001  %\n",
      "PGD Robust Accuracy :  40.3125  %\n",
      "Number of batch per epoch :  1845\n"
     ]
    },
    {
     "name": "stderr",
     "output_type": "stream",
     "text": [
      "100%|███████████████████████████████████████| 1845/1845 [00:18<00:00, 99.25it/s]\n"
     ]
    },
    {
     "name": "stdout",
     "output_type": "stream",
     "text": [
      "---------------  Epoch :  0  ---------------\n",
      "Train Accuracy :  9.876355013550135  %\n",
      "Test Accuracy :  9.479166666666666  %\n",
      "PGD Robust Accuracy :  4.895833333333333  %\n"
     ]
    },
    {
     "name": "stderr",
     "output_type": "stream",
     "text": [
      "100%|███████████████████████████████████████| 1845/1845 [00:18<00:00, 99.93it/s]\n"
     ]
    },
    {
     "name": "stdout",
     "output_type": "stream",
     "text": [
      "---------------  Epoch :  1  ---------------\n",
      "Train Accuracy :  10.149051490514905  %\n",
      "Test Accuracy :  10.104166666666666  %\n",
      "PGD Robust Accuracy :  5.104166666666667  %\n",
      "Number of batch per epoch :  1845\n"
     ]
    },
    {
     "name": "stderr",
     "output_type": "stream",
     "text": [
      "100%|██████████████████████████████████████| 1845/1845 [00:18<00:00, 100.36it/s]\n"
     ]
    },
    {
     "name": "stdout",
     "output_type": "stream",
     "text": [
      "---------------  Epoch :  0  ---------------\n",
      "Train Accuracy :  37.0630081300813  %\n",
      "Test Accuracy :  50.625  %\n",
      "PGD Robust Accuracy :  32.708333333333336  %\n"
     ]
    },
    {
     "name": "stderr",
     "output_type": "stream",
     "text": [
      "100%|███████████████████████████████████████| 1845/1845 [00:18<00:00, 97.17it/s]\n"
     ]
    },
    {
     "name": "stdout",
     "output_type": "stream",
     "text": [
      "---------------  Epoch :  1  ---------------\n",
      "Train Accuracy :  55.15413279132792  %\n",
      "Test Accuracy :  57.49999999999999  %\n",
      "PGD Robust Accuracy :  34.63541666666667  %\n"
     ]
    }
   ],
   "source": [
    "\n",
    "W = []\n",
    "# 0 : normal 2 ep \n",
    "model = CNN10()\n",
    "model,L1,Entropy,PM,PM2= train_record_new_model(model.to(DEVICE),X,y,'cnn-cifar',epochs=2,epochs_adv=[])\n",
    "weights = [A.detach() for A in list(model.parameters())]\n",
    "W.append(weights)\n",
    "# 1 : normal 2 ep \n",
    "model = CNN10()\n",
    "model,L1,Entropy,PM,PM2= train_record_new_model(model.to(DEVICE),X,y,'cnn-cifar',epochs=2,epochs_adv=[])\n",
    "weights = [A.detach() for A in list(model.parameters())]\n",
    "W.append(weights)\n",
    "# 2 : normal 1 ep adversarial 1 ep \n",
    "model = CNN10()\n",
    "model,L1,Entropy,PM,PM2= train_record_new_model(model.to(DEVICE),X,y,'cnn-cifar',epochs=2,epochs_adv=[1])\n",
    "weights = [A.detach() for A in list(model.parameters())]\n",
    "W.append(weights)\n",
    "# Random labels\n",
    "yrand = torch.randint(10,(len(y),))\n",
    "model = CNN10()\n",
    "model,L1,Entropy,PM,PM2= train_record_new_model(model.to(DEVICE),X,yrand,'cnn-cifar',epochs=2,epochs_adv=[])\n",
    "weights = [A.detach() for A in list(model.parameters())]\n",
    "W.append(weights)\n",
    "# permuted labels \n",
    "model = CNN10()\n",
    "model,L1,Entropy,PM,PM2= train_record_new_model(model.to(DEVICE),X,permute(y),'cnn-cifar',epochs=2,epochs_adv=[])\n",
    "weights = [A.detach() for A in list(model.parameters())]\n",
    "W.append(weights)"
   ]
  },
  {
   "cell_type": "code",
   "execution_count": 247,
   "id": "d2498498",
   "metadata": {},
   "outputs": [],
   "source": [
    "svr = []\n",
    "for w in W:\n",
    "    svr.append(SVR(w))"
   ]
  },
  {
   "cell_type": "code",
   "execution_count": 259,
   "id": "458b8d6c",
   "metadata": {},
   "outputs": [
    {
     "data": {
      "text/plain": [
       "<matplotlib.image.AxesImage at 0x7fa7e1129730>"
      ]
     },
     "execution_count": 259,
     "metadata": {},
     "output_type": "execute_result"
    },
    {
     "data": {
      "image/png": "[encoded data removed]",
      "text/plain": [
       "<Figure size 432x288 with 1 Axes>"
      ]
     },
     "metadata": {
      "needs_background": "light"
     },
     "output_type": "display_data"
    }
   ],
   "source": [
    "# Gram matrix between training methods \n",
    "v0  = svr[0].V[0]\n",
    "v1  = svr[4].V[0]\n",
    "plt.imshow(torch.abs(v1.T@v0))"
   ]
  }
 ],
 "metadata": {
  "kernelspec": {
   "display_name": "Python 3 (ipykernel)",
   "language": "python",
   "name": "python3"
  },
  "language_info": {
   "codemirror_mode": {
    "name": "ipython",
    "version": 3
   },
   "file_extension": ".py",
   "mimetype": "text/x-python",
   "name": "python",
   "nbconvert_exporter": "python",
   "pygments_lexer": "ipython3",
   "version": "3.9.12"
  }
 },
 "nbformat": 4,
 "nbformat_minor": 5
}
