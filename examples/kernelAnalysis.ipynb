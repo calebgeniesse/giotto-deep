{
 "cells": [
  {
   "cell_type": "code",
   "execution_count": 1,
   "id": "98c7a584",
   "metadata": {
    "scrolled": false
   },
   "outputs": [
    {
     "name": "stdout",
     "output_type": "stream",
     "text": [
      "Using GPU!\n",
      "Using GPU!\n",
      "Using GPU!\n",
      "No TPUs...\n",
      "\u001b[33mDEPRECATION: Configuring installation scheme with distutils config files is deprecated and will no longer work in the near future. If you are using a Homebrew or Linuxbrew Python, please see discussion at https://github.com/Homebrew/homebrew-core/issues/76621\u001b[0m\u001b[33m\n",
      "\u001b[0mRequirement already satisfied: xitorch in /home/linuxbrew/.linuxbrew/lib/python3.9/site-packages (0.3.0)\n",
      "Requirement already satisfied: numpy>=1.8.2 in /home/linuxbrew/.linuxbrew/lib/python3.9/site-packages (from xitorch) (1.22.3)\n",
      "Requirement already satisfied: torch>=1.8 in /home/linuxbrew/.linuxbrew/lib/python3.9/site-packages (from xitorch) (1.11.0)\n",
      "Requirement already satisfied: scipy>=1.1.0 in /home/linuxbrew/.linuxbrew/lib/python3.9/site-packages (from xitorch) (1.8.0)\n",
      "Requirement already satisfied: typing-extensions in /home/linuxbrew/.linuxbrew/lib/python3.9/site-packages (from torch>=1.8->xitorch) (4.1.1)\n",
      "\u001b[33mDEPRECATION: Configuring installation scheme with distutils config files is deprecated and will no longer work in the near future. If you are using a Homebrew or Linuxbrew Python, please see discussion at https://github.com/Homebrew/homebrew-core/issues/76621\u001b[0m\u001b[33m\n",
      "\u001b[0mUsing GPU!\n"
     ]
    }
   ],
   "source": [
    "from gdeep.topactivation import TopactivationFC as TFC\n",
    "from gdeep.pipeline import Pipeline\n",
    "from torch.utils.tensorboard import SummaryWriter\n",
    "\n",
    "from gdeep.models import FFNet\n",
    "from torch import nn\n",
    "import torch\n",
    "from gdeep.data import TorchDataLoader\n",
    "\n",
    "!pip3 install xitorch\n",
    "from gdeep.models import ModelExtractor\n",
    "from gdeep.topactivation.spectral_analysisTorch import LaplacianOperator\n",
    "import matplotlib.pyplot as plt \n",
    "\n",
    "if torch.cuda.is_available():\n",
    "    DEVICE = torch.device(\"cuda\")\n",
    "    print(\"Using GPU!\")\n",
    "else:\n",
    "    DEVICE = torch.device(\"cpu\")\n",
    "\n",
    "writer = SummaryWriter()\n",
    "dl = TorchDataLoader(name=\"MNIST\")\n",
    "dl_tr, dl_ts = dl.build_dataloaders(batch_size=32)\n",
    "\n",
    "arch = [28*28, 50, 50, 10]\n",
    "model = nn.Sequential(nn.Flatten(), FFNet(arch,bias=False ))\n",
    "loss_fn = nn.CrossEntropyLoss()\n",
    "pipe = Pipeline(model, (dl_tr, dl_ts), loss_fn, writer)\n",
    "\n",
    "\n",
    "#cpu = torch.ones(1).device\n",
    "\n",
    "me = ModelExtractor(pipe.model, pipe.loss_fn)\n",
    "weights = list(me.get_layers_param().values())\n",
    "#weights = [layer.to(cpu) for layer in weights]\n",
    "lapOp = LaplacianOperator(weights)\n",
    "\n",
    "def print28x28tensor(tensor):\n",
    "    img=tensor.to('cpu')\n",
    "    pixels = img.reshape((28,28))\n",
    "    plt.imshow(pixels,cmap='gray')"
   ]
  },
  {
   "cell_type": "code",
   "execution_count": 2,
   "id": "67fe7fb9",
   "metadata": {},
   "outputs": [],
   "source": [
    "from gdeep.topactivation.attack_carlini_wagner_l2 import AttackCarliniWagnerL2"
   ]
  },
  {
   "cell_type": "code",
   "execution_count": 3,
   "id": "d3f31a90",
   "metadata": {},
   "outputs": [
    {
     "name": "stdout",
     "output_type": "stream",
     "text": [
      "Epoch 1\n",
      "-------------------------------\n",
      "Epoch training loss: 1.342672 \tEpoch training accuracy: 59.03%                                      500 ]                     \n",
      "Time taken for this epoch: 7.00s\n",
      "Learning rate value: 0.10000000\n",
      "Validation results: \n",
      " Accuracy: 83.62%,                 Avg loss: 0.537760 \n",
      "\n",
      "Epoch 2\n",
      "-------------------------------\n",
      "Epoch training loss: 0.412013 \tEpoch training accuracy: 87.66%                                      500 ]                     \n",
      "Time taken for this epoch: 7.00s\n",
      "Learning rate value: 0.10000000\n",
      "Validation results: \n",
      " Accuracy: 90.22%,                 Avg loss: 0.333322 \n",
      "\n"
     ]
    }
   ],
   "source": [
    "#Trainig the model \n",
    "\n",
    "arch = [28*28, 50,50,50, 10]\n",
    "optimizer = torch.optim.SGD\n",
    "model = nn.Sequential(nn.Flatten(), FFNet(arch,bias=False ))\n",
    "pipe = Pipeline(model, (dl_tr, dl_ts), loss_fn, writer)\n",
    "\n",
    "\n",
    "epochs = 2\n",
    "\n",
    "#for i in range(epochs):\n",
    "    #Train : \n",
    "pipe.train(optimizer, epochs, False, {\"lr\": 0.1}, n_accumulated_grads=5,keep_training=True)\n",
    "    \n",
    "   \n",
    "me = ModelExtractor(pipe.model, pipe.loss_fn)\n",
    "weights = list(me.get_layers_param().values())\n",
    "\n"
   ]
  },
  {
   "cell_type": "code",
   "execution_count": 4,
   "id": "877f029b",
   "metadata": {
    "scrolled": false
   },
   "outputs": [],
   "source": [
    "import torchattacks\n",
    "#help(torchattacks.PGD)\n",
    "\n"
   ]
  },
  {
   "cell_type": "code",
   "execution_count": 56,
   "id": "598e9aff",
   "metadata": {
    "scrolled": true
   },
   "outputs": [
    {
     "name": "stdout",
     "output_type": "stream",
     "text": [
      "torch.Size([32, 1, 28, 28])\n",
      "torch.Size([32])\n",
      "ok\n"
     ]
    }
   ],
   "source": [
    "#import torchattacks\n",
    "#atk = torchattacks.CW(pipe.model,kappa=0,c=1)\n",
    "#atk2 = torchattacks.FGSM(pipe.model, eps=8/255, steps=40, random_start=True)\n",
    "#atk3 = torchattacks.FGSM(pipe.model,eps=0.3)\n",
    "#atk=AttackCarliniWagnerL2()\n",
    "\n",
    "from foolbox import PyTorchModel\n",
    "from foolbox.attacks import L2CarliniWagnerAttack\n",
    "atk = L2CarliniWagnerAttack()\n",
    "epsilons = [2.0\n",
    "    ]\n",
    "\n",
    "for a in dl_ts:\n",
    "    perm = torch.randperm(len(a[1])).to(DEVICE)\n",
    "    print(a[0].shape)\n",
    "    print(a[1].shape)\n",
    "    fmodel = PyTorchModel(pipe.model, bounds=(0, 1), preprocessing=None)\n",
    "    #adv_images = atk.run(pipe.model,a[0].to(DEVICE),a[1][perm].to(DEVICE))\n",
    "    print('ok')\n",
    "    raw_advs, clipped_advs, success = atk(fmodel, a[0].to(DEVICE), a[1].to(DEVICE),epsilons=epsilons)\n",
    "    \n",
    "   \n",
    "    break "
   ]
  },
  {
   "cell_type": "code",
   "execution_count": 53,
   "id": "f620d863",
   "metadata": {},
   "outputs": [
    {
     "data": {
      "text/plain": [
       "tensor([[False, False, False, False,  True, False,  True,  True,  True,  True,\n",
       "         False,  True,  True, False, False,  True,  True, False,  True,  True,\n",
       "          True, False,  True, False,  True, False, False,  True, False,  True,\n",
       "         False,  True],\n",
       "        [False,  True,  True,  True,  True,  True,  True,  True,  True,  True,\n",
       "          True,  True,  True,  True,  True,  True,  True,  True,  True,  True,\n",
       "          True,  True,  True,  True,  True,  True,  True,  True,  True,  True,\n",
       "          True,  True]], device='cuda:0')"
      ]
     },
     "execution_count": 53,
     "metadata": {},
     "output_type": "execute_result"
    }
   ],
   "source": [
    "success"
   ]
  },
  {
   "cell_type": "code",
   "execution_count": 34,
   "id": "2a8f2db2",
   "metadata": {},
   "outputs": [
    {
     "data": {
      "text/plain": [
       "torch.Size([32, 1, 28, 28])"
      ]
     },
     "execution_count": 34,
     "metadata": {},
     "output_type": "execute_result"
    }
   ],
   "source": [
    "raw_advs[0].shape"
   ]
  },
  {
   "cell_type": "code",
   "execution_count": 54,
   "id": "9ccc954f",
   "metadata": {},
   "outputs": [
    {
     "data": {
      "image/png": "[encoded data removed]",
      "text/plain": [
       "<Figure size 432x288 with 1 Axes>"
      ]
     },
     "metadata": {
      "needs_background": "light"
     },
     "output_type": "display_data"
    }
   ],
   "source": [
    "print28x28tensor(raw_advs[1][0]) "
   ]
  },
  {
   "cell_type": "code",
   "execution_count": 47,
   "id": "fde988ba",
   "metadata": {},
   "outputs": [
    {
     "data": {
      "text/plain": [
       "tensor([1, 9, 5, 6, 7, 1, 4, 3, 4, 4, 6, 9, 4, 1, 9, 5, 3, 9, 1, 0, 0, 0, 7, 9,\n",
       "        7, 2, 6, 4, 5, 1, 0, 0])"
      ]
     },
     "execution_count": 47,
     "metadata": {},
     "output_type": "execute_result"
    }
   ],
   "source": [
    "a[1][perm]"
   ]
  },
  {
   "cell_type": "code",
   "execution_count": 48,
   "id": "5e1f0eaf",
   "metadata": {},
   "outputs": [
    {
     "name": "stdout",
     "output_type": "stream",
     "text": [
      "tensor(6, device='cuda:0')\n",
      "tensor(6, device='cuda:0')\n"
     ]
    }
   ],
   "source": [
    "idx= 8\n",
    "print(pipe.model(a[0][idx].to(DEVICE)).argmax())\n",
    "print(pipe.model(raw_advs[0][idx].to(DEVICE)).argmax())"
   ]
  },
  {
   "cell_type": "code",
   "execution_count": 26,
   "id": "bffd72f0",
   "metadata": {},
   "outputs": [
    {
     "data": {
      "text/plain": [
       "torch.Size([1, 28, 28])"
      ]
     },
     "execution_count": 26,
     "metadata": {},
     "output_type": "execute_result"
    }
   ],
   "source": [
    "a[0][1].shape"
   ]
  },
  {
   "cell_type": "code",
   "execution_count": 55,
   "id": "ec5fb31d",
   "metadata": {},
   "outputs": [
    {
     "data": {
      "text/plain": [
       "tensor(1.1846)"
      ]
     },
     "execution_count": 55,
     "metadata": {},
     "output_type": "execute_result"
    }
   ],
   "source": [
    "(a[0][1]-raw_advs[0][1].to('cpu')).norm()"
   ]
  },
  {
   "cell_type": "code",
   "execution_count": null,
   "id": "3f4d69c1",
   "metadata": {},
   "outputs": [],
   "source": [
    "print28x28tensor(a[0][1]) "
   ]
  },
  {
   "cell_type": "code",
   "execution_count": null,
   "id": "0086746e",
   "metadata": {},
   "outputs": [],
   "source": [
    "epsilon = 0.2\n",
    "n_batch = 1 #Number of batch used to generate the dataset \n",
    "\n",
    "\n",
    "activ = torch.zeros((3,n_batch*32,sum(arch)))\n",
    "#final tensor activ[alter][idx] contains an activation vector for data sample idx with a specific alteration :\n",
    "# 0 : no alteration, raw data \n",
    "# 1 : data + adversarial  noise\n",
    "# 2 : data + shuffle of adversarial noise (random perturbation with same statistics)\n",
    "label = torch.zeros(n_batch*32)\n",
    "predLabel = torch.zeros(5,n_batch*32)\n",
    "\n",
    "\n",
    "topactiv = TFC(pipe,arch)\n",
    "dl = TorchDataLoader(name=\"MNIST\")\n",
    "dl_tr, dl_ts = dl.build_dataloaders(batch_size=32)\n",
    "\n",
    "from foolbox import PyTorchModel\n",
    "from foolbox.attacks import L2CarliniWagnerAttack\n",
    "atk = L2CarliniWagnerAttack()\n",
    "epsilons = [2.0]\n",
    "fmodel = PyTorchModel(pipe.model, bounds=(0, 1), preprocessing=None)\n",
    "\n",
    "k_batch = 0 \n",
    "for data, target in dl_tr: \n",
    "    \n",
    "    \n",
    "    data=data.to(DEVICE) ##SUBOPTIMAL !!!\n",
    "    target = target.to(DEVICE)\n",
    "    data_perturbed = topactiv.fgsm_attack(data, target,epsilon)\n",
    "    \n",
    "    perm = torch.randperm(len(target)).to(DEVICE)\n",
    "    \n",
    "\n",
    "    raw_advs, clipped_advs, success = atk(fmodel, a[0].to(DEVICE), a[1].to(DEVICE),epsilons=epsilons)\n",
    "    data_carlini = raw_advs[0]\n",
    "    \n",
    "    #data_noised = data+epsilon*2*(torch.bernoulli(0.5*torch.ones(data.shape))-1)\n",
    "    #Shuffle\n",
    "    data_noised = torch.zeros(32,1,28,28).to(DEVICE)\n",
    "    data_noised2 = torch.zeros(32,1,28,28).to(DEVICE)\n",
    "    for i in range(32):\n",
    "        indices=torch.randperm(784).to(DEVICE)\n",
    "        data_noised[i]=(data_perturbed-data)[i].reshape(784)[indices].reshape(1,28,28)+data[i]\n",
    "        data_noised2[i]=(rdata_carlini-data)[i].reshape(784)[indices].reshape(1,28,28)+data[i]\n",
    "    \n",
    "    normal_activation = torch.cat(me.get_activations(data)[:-2],dim=1)\n",
    "    perturbed_activation = torch.cat(me.get_activations(data_perturbed)[:-2],dim=1)\n",
    "    noised_activation= torch.cat(me.get_activations(data_noised)[:-2],dim=1)\n",
    "    \n",
    "    \n",
    "    activ[0][k_batch*32:(k_batch+1)*32]=normal_activation\n",
    "    activ[1][k_batch*32:(k_batch+1)*32]=perturbed_activation\n",
    "    activ[2][k_batch*32:(k_batch+1)*32]=noised_activation\n",
    "    activ[3][k_batch*32:(k_batch+1)*32]=\n",
    "    activ[2][k_batch*32:(k_batch+1)*32]=\n",
    "    \n",
    "    label[k_batch*32:(k_batch+1)*32]=target\n",
    "    for alter in range(3):\n",
    "        predLabel[alter][k_batch*32:(k_batch+1)*32]=activ[alter][k_batch*32:(k_batch+1)*32,-10:].argmax(dim=1)\n",
    "    \n",
    "    k_batch+=1\n",
    "    if k_batch>=n_batch:\n",
    "        break \n",
    "print(activ.shape)\n",
    "\n",
    "def print28x28tensor(tensor):\n",
    "    img=tensor.to('cpu')\n",
    "    pixels = img.reshape((28,28))\n",
    "    plt.imshow(pixels,cmap='gray')"
   ]
  }
 ],
 "metadata": {
  "kernelspec": {
   "display_name": "Python 3 (ipykernel)",
   "language": "python",
   "name": "python3"
  },
  "language_info": {
   "codemirror_mode": {
    "name": "ipython",
    "version": 3
   },
   "file_extension": ".py",
   "mimetype": "text/x-python",
   "name": "python",
   "nbconvert_exporter": "python",
   "pygments_lexer": "ipython3",
   "version": "3.9.12"
  }
 },
 "nbformat": 4,
 "nbformat_minor": 5
}
