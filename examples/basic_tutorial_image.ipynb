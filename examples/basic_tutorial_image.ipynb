{
 "cells": [
  {
   "cell_type": "markdown",
   "metadata": {},
   "source": [
    "# Basic tutorial: image data\n",
    "#### Author: Matteo Caorsi\n",
    "\n",
    "This short tutorial shows you how to use the basic functioning of *giotto-deep* API for an imagee classfication task.\n",
    "\n",
    "Image classifcation is about associating a picture with a label: for example, you would like your model to be able to associate a label `cat` to the image of a cat and a label `dog`to an image of a dog:\n",
    "\n",
    "![img](./images/image_class.png)\n",
    "\n",
    "It is important to clarify that the set of labels has to be pre-defined and the modls have to be trained with a sufficient amount of data per label.\n",
    "\n",
    "The main steps of the tutorial are the following:\n",
    " 1. creation of a dataset\n",
    " 2. creation of a model\n",
    " 3. define metrics and losses\n",
    " 4. run benchmarks\n",
    " 5. visualise results interactively"
   ]
  },
  {
   "cell_type": "code",
   "execution_count": null,
   "metadata": {},
   "outputs": [],
   "source": [
    "%reload_ext autoreload\n",
    "%autoreload 2\n",
    "%matplotlib inline\n",
    "import numpy as np\n",
    "import torch\n",
    "from torch import nn\n",
    "from torch.utils.data.sampler import SubsetRandomSampler\n",
    "from torch.utils.tensorboard.writer import SummaryWriter\n",
    "import torchvision.models as models\n",
    "from gtda.diagrams import BettiCurve\n",
    "from gtda.plotting import plot_betti_surfaces\n",
    "\n",
    "from gdeep.data.datasets import DatasetBuilder, DataLoaderBuilder\n",
    "from gdeep.models import FFNet\n",
    "from gdeep.visualisation import persistence_diagrams_of_activations\n",
    "from gdeep.data.preprocessors import ToTensorImage\n",
    "from gdeep.trainer import Trainer\n"
   ]
  },
  {
   "cell_type": "markdown",
   "metadata": {},
   "source": [
    "# Initialize the tensorboard writer\n",
    "\n",
    "In order to analyse the results of your models, you need to start tensorboard.\n",
    "On the terminal, move inside the `/examples` folder. There run the following command:\n",
    "\n",
    "```\n",
    "tensorboard --logdir=runs\n",
    "```\n",
    "\n",
    "Then go [here](http://localhost:6006/) after the training of your model to see all the visualisation results."
   ]
  },
  {
   "cell_type": "code",
   "execution_count": null,
   "metadata": {},
   "outputs": [],
   "source": [
    "writer = SummaryWriter()\n"
   ]
  },
  {
   "cell_type": "markdown",
   "metadata": {},
   "source": [
    "# Create your dataset\n",
    "\n",
    "In this example we will be using the `CIFAR10` dataset, which is a dataset of many thousands of images with ten classes.\n",
    "\n",
    "In giotto-deep it is enough to call `DatasetBuilder(name=\"CIFAR10\")` to get the dataset!"
   ]
  },
  {
   "cell_type": "code",
   "execution_count": null,
   "metadata": {},
   "outputs": [],
   "source": [
    "db = DatasetBuilder(name=\"CIFAR10\")\n",
    "ds_tr, ds_val, ds_ts = db.build()\n",
    "NUMBER_OF_CLASSES = 10\n"
   ]
  },
  {
   "cell_type": "markdown",
   "metadata": {},
   "source": [
    "## Preprocessing\n",
    "\n",
    "The preprocessing steps consist in transformin the imagees to tensors. We have already provided a simple class to do such preprocessing: `ToTensorImage`.\n",
    "\n",
    "The transormation is computed on the fly, hence bring very light on the memory."
   ]
  },
  {
   "cell_type": "code",
   "execution_count": null,
   "metadata": {},
   "outputs": [],
   "source": [
    "# Preprocessing\n",
    "\n",
    "\n",
    "transformation = ToTensorImage((32, 32))\n",
    "transformation.fit_to_dataset(\n",
    "    ds_tr\n",
    ")  # this is useless for this transformation, but in general this is the API\n",
    "\n",
    "transformed_ds_tr = transformation.attach_transform_to_dataset(ds_tr)\n",
    "transformed_ds_val = transformation.attach_transform_to_dataset(ds_val)\n",
    "transformed_ds_ts = transformation.attach_transform_to_dataset(ds_ts)\n",
    "\n",
    "# use only 320 images from cifar10 for training\n",
    "train_indices = list(range(32 * 10))\n",
    "val_indices = list(range(32 * 5))\n",
    "test_indices = list(range(32 * 5))\n",
    "dl_tr, dl_val, dl_ts = DataLoaderBuilder(\n",
    "    (transformed_ds_tr, transformed_ds_val, transformed_ds_ts)\n",
    ").build(\n",
    "    (\n",
    "        {\"batch_size\": 32, \"sampler\": SubsetRandomSampler(train_indices)},\n",
    "        {\"batch_size\": 32, \"sampler\": SubsetRandomSampler(val_indices)},\n",
    "        {\"batch_size\": 32, \"sampler\": SubsetRandomSampler(test_indices)},\n",
    "    )\n",
    ")\n"
   ]
  },
  {
   "cell_type": "markdown",
   "metadata": {},
   "source": [
    "## Define and train your model\n",
    "\n",
    "In the next cell we show how simple it is to take a model from `torch`, like [ResNet18](https://pytorch.org/vision/main/models/generated/torchvision.models.resnet18.html) and use it for training in Giotto-deep."
   ]
  },
  {
   "cell_type": "code",
   "execution_count": null,
   "metadata": {},
   "outputs": [],
   "source": [
    "# wrap a sequential model in a torch nn.Module\n",
    "class model3(nn.Module):\n",
    "    def __init__(self):\n",
    "        super(model3, self).__init__()\n",
    "        self.seqmodel = nn.Sequential(\n",
    "            models.resnet18(pretrained=True), nn.Linear(1000, NUMBER_OF_CLASSES)\n",
    "        )\n",
    "\n",
    "    def forward(self, X):\n",
    "        return self.seqmodel(X)\n",
    "\n",
    "\n",
    "model = model3()\n"
   ]
  },
  {
   "cell_type": "markdown",
   "metadata": {},
   "source": [
    "## Training the model\n",
    "\n",
    "We have prepard te dataset, we have prepared the model... it is now tim to train it!\n",
    "\n",
    "In giotto-deep it is just a matter of initialising the `Trainer` and run it with `train`. All the outputs, the exceptions, cross validation... everything you is just a parameter for the trainer. Have a look at the next cell!"
   ]
  },
  {
   "cell_type": "code",
   "execution_count": null,
   "metadata": {},
   "outputs": [],
   "source": [
    "from torch.optim import SGD\n",
    "\n",
    "loss_fn = nn.CrossEntropyLoss()\n",
    "\n",
    "pipe = Trainer(model, (dl_tr, dl_ts), loss_fn, writer)\n",
    "\n",
    "# train the model\n",
    "pipe.train(\n",
    "    SGD,\n",
    "    3,\n",
    "    False,\n",
    "    {\"lr\": 0.01},\n",
    "    {\"batch_size\": 32, \"sampler\": SubsetRandomSampler(train_indices)},\n",
    ")\n"
   ]
  },
  {
   "cell_type": "markdown",
   "metadata": {},
   "source": [
    "# Evaluate model\n",
    "\n",
    "In the next section we compute the confusion matrix on the entire training dataloader."
   ]
  },
  {
   "cell_type": "code",
   "execution_count": null,
   "metadata": {},
   "outputs": [],
   "source": [
    "pipe.evaluate_classification(NUMBER_OF_CLASSES)\n"
   ]
  },
  {
   "cell_type": "markdown",
   "metadata": {},
   "source": [
    "# Simply use interpretability tools\n",
    "\n",
    "After th training we would like to inspect what the model has learned. This is possible thanks to interpretability tools.\n",
    "\n",
    "Here below we show you how simple it is, in giotto-deep, to use many interpretabnility tools in one single line of code.\n",
    "\n",
    "The example below uses the `GuidedGradCAM` algorithm: given an input `datum`, the modl computes the gradients via backpropagation till the specified layder `conv1` and then averages over teh chanels of the convolutional layer.\n",
    "\n",
    "The result is then displayed as superimposition of the initial image, with a red/green hue to identify which pixes are pushing for and against the classification of teh given image into the selected `class`."
   ]
  },
  {
   "cell_type": "code",
   "execution_count": null,
   "metadata": {},
   "outputs": [],
   "source": [
    "from gdeep.analysis.interpretability import Interpreter\n",
    "from gdeep.visualisation import Visualiser\n",
    "\n",
    "inter = Interpreter(pipe.model, method=\"GuidedGradCam\")\n",
    "datum = next(iter(dl_tr))[0][0].reshape(1, 3, 32, 32)\n",
    "layer = pipe.model.seqmodel[0].layer2[0].conv1\n",
    "class_ = 1\n",
    "output = inter.interpret_image(datum, class_, layer)\n",
    "\n",
    "# visualise the interpreter\n",
    "vs = Visualiser(pipe)\n",
    "try:\n",
    "    vs.plot_interpreter_image(inter)\n",
    "except AssertionError:\n",
    "    print(\"The heatmap is made of all zeros...\")\n"
   ]
  },
  {
   "cell_type": "markdown",
   "metadata": {},
   "source": [
    "# Appendix\n",
    "\n",
    "More advanced stuff ahead!\n",
    "\n",
    "## Extract inner data from your models\n",
    "\n",
    "For deeper analysis of the working of deep learning models, it is possible, in giotto-deep, to easily extract tons of parameters from your models:\n",
    "Here below we show you how to extract:\n",
    " - each layer parameter,\n",
    " - the decision boundary,\n",
    " - the activation functions given an input datum,\n",
    " - the gradients at each node, given an input and a target."
   ]
  },
  {
   "cell_type": "code",
   "execution_count": null,
   "metadata": {},
   "outputs": [],
   "source": [
    "from gdeep.models import ModelExtractor\n",
    "\n",
    "me = ModelExtractor(pipe.model, loss_fn)\n",
    "\n",
    "list_of_layers = me.get_layers_param()\n",
    "\n",
    "for k, item in list_of_layers.items():\n",
    "    print(k, item.shape)\n"
   ]
  },
  {
   "cell_type": "code",
   "execution_count": null,
   "metadata": {},
   "outputs": [],
   "source": [
    "# the decision boundary will be available on tensorboard, in the projectors section.\n",
    "x = next(iter(dl_tr))[0][0]\n",
    "if x.dtype is not torch.int64:  # cannot backpropagate on integers!\n",
    "    res = me.get_decision_boundary(x, n_epochs=1)\n",
    "    res.shape\n"
   ]
  },
  {
   "cell_type": "code",
   "execution_count": null,
   "metadata": {},
   "outputs": [],
   "source": [
    "x = next(iter(dl_tr))[0]\n",
    "list_activations = me.get_activations(x)\n",
    "len(list_activations)\n"
   ]
  },
  {
   "cell_type": "code",
   "execution_count": null,
   "metadata": {},
   "outputs": [],
   "source": [
    "x, target = next(iter(dl_tr))  # a whole batch!\n",
    "if x.dtype is torch.float:  # cannot backpropagate on integers!\n",
    "    for gradient in me.get_gradients(x, target=target)[1]:\n",
    "        print(gradient.shape)\n"
   ]
  },
  {
   "cell_type": "markdown",
   "metadata": {},
   "source": [
    "## Visualise activations and other topological aspects of your model\n",
    "\n",
    "Finally, we show you how it is possible to extract, layer per layer, given a certain input batch, the persistence diagrams computed on the activation space. This means that, for a fixed layer, the input batch is representated as a point cloud in the space of activations for that selected layer. Out of this point cloud we compute the persistence diagrams. In giotto-deep this is literally one line of code."
   ]
  },
  {
   "cell_type": "code",
   "execution_count": null,
   "metadata": {},
   "outputs": [],
   "source": [
    "# the diagrams can be seen on tensorboard!\n",
    "vs.plot_persistence_diagrams(x)\n"
   ]
  },
  {
   "cell_type": "code",
   "execution_count": null,
   "metadata": {},
   "outputs": [],
   "source": []
  }
 ],
 "metadata": {
  "kernelspec": {
   "display_name": "Python 3 (ipykernel)",
   "language": "python",
   "name": "python3"
  },
  "language_info": {
   "codemirror_mode": {
    "name": "ipython",
    "version": 3
   },
   "file_extension": ".py",
   "mimetype": "text/x-python",
   "name": "python",
   "nbconvert_exporter": "python",
   "pygments_lexer": "ipython3",
   "version": "3.9.7"
  }
 },
 "nbformat": 4,
 "nbformat_minor": 4
}