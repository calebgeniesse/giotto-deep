{
 "cells": [
  {
   "cell_type": "markdown",
   "metadata": {},
   "source": [
    "# Basic tutorial: Training a topological model\n",
    "### Author: Raphael Reinauer\n",
    "### Date: 2022-04-05\n",
    " This short tutorial shows how to use the GDeep framework to train topological\n",
    " models using the topological datasets provided by the GDeep dataset cloud.\n",
    " The main steps of the tutorial are the following:\n",
    " 1. Specify the dataset you want to use.\n",
    " 2. Specify the model and the hyperparameter space you want to use.\n",
    " 3. Run a large scale hyperparameter search to find the good hyperparameters."
   ]
  },
  {
   "cell_type": "code",
   "execution_count": null,
   "metadata": {},
   "outputs": [],
   "source": [
    "# This snippet will deactivate autoreload if this file\n",
    "# is run as a script and activate it if it is run as a notebook.\n",
    "from gdeep.utility.utils import autoreload_if_notebook\n",
    "\n",
    "autoreload_if_notebook()\n",
    "# Include necessary imports\n",
    "from os.path import join\n",
    "\n",
    "# Import the GDeep hpo module\n",
    "from gdeep.search import PersformerHyperparameterSearch\n"
   ]
  },
  {
   "cell_type": "markdown",
   "metadata": {},
   "source": [
    " ## Training a topological model with the Dataset Cloud\n",
    " In this tutorial we will use the our custom datasets storage\n",
    " on [Google Cloud Datastore](https://cloud.google.com/datastore/) to\n",
    " load datasets and train a topological model.\n",
    " The dataset cloud storage contain a variety of topological datasets\n",
    " that can be easily used in GDeep.\n",
    " We will use the Mutag dataset from the\n",
    " [Mutagenicity Benchmark](https://www.ncbi.nlm.nih.gov/pmc/articles/PMC5276825/)\n",
    " to do performance benchmarking for the Persformer model.\n",
    " For this benchmark we will use the GDeep\n",
    " [Persformer](https://doi.org/10.48550/arXiv.2112.15210) model,\n",
    " the GDeep pipeline and the GDeep hyperparameter search.\n",
    " With only a few lines of code we can train multiple topological models\n",
    " with different hyperparameters and evaluate the performance of the model."
   ]
  },
  {
   "cell_type": "code",
   "execution_count": null,
   "metadata": {},
   "outputs": [],
   "source": [
    "# This is how you use the api to search for the best hyperparameters for\n",
    "# the MutagDataset using the PersformerHyperparameterSearch class.\n",
    "# The search is performed using the hyperparameter\n",
    "# search space described in hpo_space file provided.\n",
    "# Please customize the file to your own dataset.\n",
    "# The results are written to the path_writer directory.\n",
    "\n",
    "dataset_name = (\n",
    "    \"MutagDataset\"  # name of the dataset - has to exist in the datacloud buckets\n",
    ")\n",
    "download_directory = join(\n",
    "    \"data\", \"DatasetCloud\"\n",
    ")  # directory where the dataset is downloaded\n",
    "path_hpo_metadata = join(\n",
    "    \"hpo_space\", \"Mutag_hyperparameter_space.json\"\n",
    ")  # file describing the hyperparameter search space\n",
    "path_writer = join(\n",
    "    \"runs\", \"auto_ml\"\n",
    ")  # directory where the runs are stored using the tensorboard writer\n",
    "\n",
    "# Initialize the search object with the search parameters.\n",
    "hpo = PersformerHyperparameterSearch(\n",
    "    dataset_name=dataset_name,\n",
    "    download_directory=download_directory,\n",
    "    path_hpo_metadata=path_hpo_metadata,\n",
    "    path_writer=path_writer,\n",
    ")\n",
    "\n",
    "# Start the hyperparameter search.\n",
    "hpo.search()\n"
   ]
  },
  {
   "cell_type": "code",
   "execution_count": null,
   "metadata": {},
   "outputs": [],
   "source": []
  }
 ],
 "metadata": {
  "kernelspec": {
   "display_name": "Python 3 (ipykernel)",
   "language": "python",
   "name": "python3"
  },
  "language_info": {
   "codemirror_mode": {
    "name": "ipython",
    "version": 3
   },
   "file_extension": ".py",
   "mimetype": "text/x-python",
   "name": "python",
   "nbconvert_exporter": "python",
   "pygments_lexer": "ipython3",
   "version": "3.9.7"
  }
 },
 "nbformat": 4,
 "nbformat_minor": 4
}