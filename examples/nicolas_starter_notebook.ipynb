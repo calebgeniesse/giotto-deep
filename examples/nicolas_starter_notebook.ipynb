{
 "metadata": {
  "language_info": {
   "codemirror_mode": {
    "name": "ipython",
    "version": 3
   },
   "file_extension": ".py",
   "mimetype": "text/x-python",
   "name": "python",
   "nbconvert_exporter": "python",
   "pygments_lexer": "ipython3",
   "version": "3.8.5-final"
  },
  "orig_nbformat": 2,
  "kernelspec": {
   "name": "python3",
   "display_name": "Python 3",
   "language": "python"
  }
 },
 "nbformat": 4,
 "nbformat_minor": 2,
 "cells": [
  {
   "cell_type": "code",
   "execution_count": 1,
   "metadata": {},
   "outputs": [],
   "source": [
    "%reload_ext autoreload\n",
    "%autoreload 2\n",
    "%matplotlib inline\n",
    "\n",
    "seed=42\n",
    "\n",
    "\n",
    "import os\n",
    "\n",
    "import torch\n",
    "import torch.nn as nn\n",
    "import torch.nn.functional as F\n",
    "if torch.cuda.is_available():\n",
    "    print(\"Yeah we have a GPU!\")\n",
    "dev = torch.device(\"cuda\") if torch.cuda.is_available() else torch.device(\"cpu\")\n",
    "import torchvision\n",
    "import torchvision.transforms as transforms\n",
    "import torch.optim as optim\n",
    "\n",
    "import matplotlib.pyplot as plt\n",
    "import numpy as np\n",
    "\n",
    "from gdeep.decision_boundary.decision_boundary_calculator import *\n",
    "from gdeep.create_nets.sample_nn import SampleCNN_MNIST_SAMPLE,\\\n",
    "    SampleCNN_MNIST_SAMPLE_2\n",
    "from gdeep.create_nets import Net\n",
    "\n",
    "try:\n",
    "    from color_scale import lab_color_scale\n",
    "except:\n",
    "    pass"
   ]
  },
  {
   "cell_type": "code",
   "execution_count": 2,
   "metadata": {},
   "outputs": [],
   "source": [
    "# https://pytorch.org/tutorials/beginner/blitz/cifar10_tutorial.html\n",
    "\n",
    "batch_size = 64\n",
    "\n",
    "transform = transforms.Compose(\n",
    "    [transforms.ToTensor(),\n",
    "     transforms.Normalize((0.1307,), (0.3081,))])\n",
    "\n",
    "# Train set\n",
    "trainset = torchvision.datasets.MNIST(root='./data', train=True,\n",
    "                                        download=True, transform=transform)\n",
    "\n",
    "# Filters for labels 0 and 1\n",
    "trainset_0_1 = torch.utils.data.Subset(trainset, torch.stack((trainset.targets == 0, trainset.targets == 1), axis=-1).any(-1).nonzero()[:,0])\n",
    "\n",
    "trainloader = torch.utils.data.DataLoader(trainset_0_1, batch_size=batch_size,\n",
    "                                          shuffle=True, num_workers=2,\n",
    "                                          pin_memory=True)\n",
    "\n",
    "\n",
    "# Test set\n",
    "testset = torchvision.datasets.MNIST(root='./data', train=False,\n",
    "                                       download=True, transform=transform)\n",
    "# Filters for labels 0 and 1\n",
    "testset_0_1 = torch.utils.data.Subset(testset, torch.stack((testset.targets == 0, testset.targets == 1), axis=-1).any(-1).nonzero()[:,0])\n",
    "testloader = torch.utils.data.DataLoader(testset_0_1, batch_size=batch_size,\n",
    "                                         shuffle=False, num_workers=2,\n",
    "                                         pin_memory=True)"
   ]
  },
  {
   "cell_type": "code",
   "execution_count": 3,
   "metadata": {},
   "outputs": [
    {
     "output_type": "stream",
     "name": "stdout",
     "text": [
      "Trainable parameters of NN: 61026 \n\nSampleCNN_MNIST_SAMPLE(\n  (conv1): Conv2d(1, 6, kernel_size=(5, 5), stride=(1, 1), padding=(2, 2))\n  (pool): MaxPool2d(kernel_size=2, stride=2, padding=0, dilation=1, ceil_mode=False)\n  (conv2): Conv2d(6, 16, kernel_size=(5, 5), stride=(1, 1))\n  (fc1): Linear(in_features=400, out_features=120, bias=True)\n  (fc2): Linear(in_features=120, out_features=84, bias=True)\n  (fc3): Linear(in_features=84, out_features=2, bias=True)\n)\n"
     ]
    }
   ],
   "source": [
    "digit_detect_nn = SampleCNN_MNIST_SAMPLE().to(dev)\n",
    "\n",
    "print(\"Trainable parameters of NN:\",\\\n",
    "    sum(p.numel() for p in digit_detect_nn.parameters()), '\\n')\n",
    "\n",
    "print(digit_detect_nn)"
   ]
  },
  {
   "cell_type": "code",
   "execution_count": null,
   "metadata": {},
   "outputs": [],
   "source": [
    "n_epoch = 6\n",
    "\n",
    "criterion = nn.CrossEntropyLoss()\n",
    "optimizer = optim.SGD(digit_detect_nn.parameters(), lr=0.001, momentum=0.9)\n",
    "\n",
    "\n",
    "for epoch in range(n_epoch):  # loop over the dataset multiple times\n",
    "\n",
    "    running_loss = 0.0\n",
    "    for i, data in enumerate(trainloader, 0):\n",
    "        # get the inputs; data is a list of [inputs, labels]\n",
    "        inputs, labels = data\n",
    "        inputs = inputs.to(dev)\n",
    "        labels = labels.to(dev)\n",
    "\n",
    "        # zero the parameter gradients\n",
    "        optimizer.zero_grad()\n",
    "\n",
    "        # forward + backward + optimize\n",
    "        outputs = digit_detect_nn(inputs)\n",
    "        loss = criterion(outputs, labels)\n",
    "        loss.backward()\n",
    "        optimizer.step()\n",
    "\n",
    "        # print statistics\n",
    "        running_loss += loss.item()\n",
    "        if i % 20 == 19:    # print every 2000 mini-batches\n",
    "            print('[%d, %5d] loss: %.3f' %\n",
    "                  (epoch + 1, i + 1, running_loss / 20))\n",
    "            running_loss = 0.0\n",
    "\n",
    "print('Finished Training')"
   ]
  },
  {
   "cell_type": "code",
   "execution_count": null,
   "metadata": {},
   "outputs": [],
   "source": [
    "correct = 0\n",
    "total = 0\n",
    "with torch.no_grad():\n",
    "    for data in testloader:\n",
    "        images, labels = data\n",
    "        images = images.to(dev)\n",
    "        labels = labels.to(dev)\n",
    "        outputs = digit_detect_nn(images)\n",
    "        _, predicted = torch.max(outputs.data, 1)\n",
    "        total += labels.size(0)\n",
    "        correct += (predicted == labels).sum().item()\n",
    "\n",
    "print('Accuracy of the network on the 10000 test images: %f %%' % (\n",
    "    100. * correct / total))"
   ]
  },
  {
   "cell_type": "code",
   "execution_count": null,
   "metadata": {},
   "outputs": [],
   "source": [
    "for param in digit_detect_nn.parameters():\n",
    "            param.requires_grad = False\n",
    "model = lambda x: F.softmax(digit_detect_nn(x), dim=-1)"
   ]
  },
  {
   "cell_type": "code",
   "execution_count": null,
   "metadata": {},
   "outputs": [],
   "source": [
    "steps = 1000\n",
    "\n",
    "dc_samples = {'spacial': [], 'gradients': []}\n",
    "\n",
    "for initial_points_batch, _ in iter(testloader):\n",
    "    initial_points_batch.to(dev, non_blocking=True)\n",
    "    g = GradientFlowDecisionBoundaryCalculator(\n",
    "                model=model,\n",
    "                initial_points=initial_points_batch,\n",
    "                optimizer=lambda params: torch.optim.Adam(params)\n",
    "    )\n",
    "    #TODO: clip to [0,1]\n",
    "    g.step(steps)\n",
    "\n",
    "    y = g.get_decision_boundary()\n",
    "    delta = torch.zeros_like(y, requires_grad=True)\n",
    "    loss = torch.sum(torch.einsum('ij,j->i', model(y+delta), torch.tensor([1., 0.])))\n",
    "    loss.backward()\n",
    "    dc_samples['gradients'].append(delta.grad.detach())\n",
    "\n",
    "    dc_samples['spacial'].append(y.detach().cpu())"
   ]
  },
  {
   "cell_type": "code",
   "execution_count": null,
   "metadata": {},
   "outputs": [],
   "source": [
    "dc_samples_tensor = {'spacial': [], 'gradients': []}\n",
    "dc_samples_tensor['spacial'] = torch.cat(dc_samples['spacial'], axis=0)\n",
    "dc_samples_tensor['gradients'] = torch.cat(dc_samples['gradients'], axis=0).reshape([-1, 28*28])\n",
    "dc_samples_tensor['normal'] = dc_samples_tensor_loaded['gradients'] / dc_samples_tensor_loaded['gradients'].norm(dim=1)[:, None]"
   ]
  },
  {
   "cell_type": "code",
   "execution_count": null,
   "metadata": {},
   "outputs": [],
   "source": [
    "db_file = os.path.join('tensors', 'db_normal')\n",
    "try:\n",
    "    torch.save(dc_samples_tensor, db_file)\n",
    "except:\n",
    "    pass\n",
    "dc_samples_tensor_loaded = torch.load(db_file)"
   ]
  }
 ]
}