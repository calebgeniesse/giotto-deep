{
 "cells": [
  {
   "cell_type": "code",
   "execution_count": 2,
   "id": "80a49415",
   "metadata": {},
   "outputs": [
    {
     "name": "stdout",
     "output_type": "stream",
     "text": [
      "Using GPU!\n",
      "Using GPU!\n",
      "Using GPU!\n",
      "No TPUs...\n",
      "\u001b[33mDEPRECATION: Configuring installation scheme with distutils config files is deprecated and will no longer work in the near future. If you are using a Homebrew or Linuxbrew Python, please see discussion at https://github.com/Homebrew/homebrew-core/issues/76621\u001b[0m\u001b[33m\n",
      "\u001b[0mRequirement already satisfied: xitorch in /home/linuxbrew/.linuxbrew/lib/python3.9/site-packages (0.3.0)\n",
      "Requirement already satisfied: numpy>=1.8.2 in /home/linuxbrew/.linuxbrew/lib/python3.9/site-packages (from xitorch) (1.22.3)\n",
      "Requirement already satisfied: scipy>=1.1.0 in /home/linuxbrew/.linuxbrew/lib/python3.9/site-packages (from xitorch) (1.8.0)\n",
      "Requirement already satisfied: torch>=1.8 in /home/linuxbrew/.linuxbrew/lib/python3.9/site-packages (from xitorch) (1.11.0)\n",
      "Requirement already satisfied: typing-extensions in /home/linuxbrew/.linuxbrew/lib/python3.9/site-packages (from torch>=1.8->xitorch) (4.1.1)\n",
      "\u001b[33mDEPRECATION: Configuring installation scheme with distutils config files is deprecated and will no longer work in the near future. If you are using a Homebrew or Linuxbrew Python, please see discussion at https://github.com/Homebrew/homebrew-core/issues/76621\u001b[0m\u001b[33m\n",
      "\u001b[0mUsing GPU!\n"
     ]
    }
   ],
   "source": [
    "from gdeep.topactivation import TopactivationFC as TFC\n",
    "from gdeep.pipeline import Pipeline\n",
    "from torch.utils.tensorboard import SummaryWriter\n",
    "\n",
    "from gdeep.models import FFNet\n",
    "from torch import nn\n",
    "import torch\n",
    "from gdeep.data import TorchDataLoader\n",
    "\n",
    "!pip3 install xitorch\n",
    "from gdeep.models import ModelExtractor\n",
    "from gdeep.topactivation.spectral_analysisTorch import LaplacianOperator\n",
    "import matplotlib.pyplot as plt \n",
    "\n",
    "if torch.cuda.is_available():\n",
    "    DEVICE = torch.device(\"cuda\")\n",
    "    print(\"Using GPU!\")\n",
    "else:\n",
    "    DEVICE = torch.device(\"cpu\")\n",
    "\n",
    "\n",
    "def print28x28tensor(tensor):\n",
    "    img=tensor.to('cpu')\n",
    "    pixels = img.reshape((28,28))\n",
    "    plt.imshow(pixels,cmap='gray')"
   ]
  },
  {
   "cell_type": "code",
   "execution_count": 129,
   "id": "e1b04b6f",
   "metadata": {},
   "outputs": [],
   "source": [
    "#Trainig the model \n",
    "\n",
    "writer = SummaryWriter()\n",
    "dl = TorchDataLoader(name=\"MNIST\")\n",
    "dl_tr, dl_ts = dl.build_dataloaders(batch_size=32)\n",
    "\n",
    "\n",
    "#cpu = torch.ones(1).device\n",
    "\n",
    "\n",
    "arch = [28*28,28*28,28*28]\n",
    "\n",
    "model = nn.Sequential(nn.Flatten(), FFNet(arch,bias=False ))\n",
    "\n",
    "\n",
    "\n"
   ]
  },
  {
   "cell_type": "code",
   "execution_count": 127,
   "id": "80af1f68",
   "metadata": {},
   "outputs": [
    {
     "data": {
      "text/plain": [
       "[torch.Size([32, 784]),\n",
       " torch.Size([32, 3]),\n",
       " torch.Size([32, 2]),\n",
       " torch.Size([32, 2]),\n",
       " torch.Size([32, 2])]"
      ]
     },
     "execution_count": 127,
     "metadata": {},
     "output_type": "execute_result"
    }
   ],
   "source": [
    "for sample,_ in dl_tr:\n",
    "    break\n",
    "pipe2=Pipeline(model, (train_loader, test_loader), loss_fn, writer)\n",
    "me2 = ModelExtractor(pipe2.model, pipe2.loss_fn)\n",
    "activations = me2.get_activations(sample)\n",
    "[x.shape for x in activations]"
   ]
  },
  {
   "cell_type": "code",
   "execution_count": 130,
   "id": "8209e4c8",
   "metadata": {
    "scrolled": true
   },
   "outputs": [
    {
     "name": "stderr",
     "output_type": "stream",
     "text": [
      "100%|██████████████████████████████████████| 1875/1875 [00:05<00:00, 338.33it/s]\n"
     ]
    }
   ],
   "source": [
    "from tqdm import tqdm \n",
    "dset = {'train' : [],'test':[]}\n",
    "for data,label in tqdm(dl_tr):\n",
    "    for i in range(len(data)):\n",
    "        dset['train'].append((data[i][0],torch.rot90(data[i][0]).reshape(28*28)))\n",
    "\n",
    "for data,label in dl_ts:\n",
    "    for i in range(len(data)):\n",
    "        dset['test'].append((data[i][0],torch.rot90(data[i][0]).reshape(28*28)))\n"
   ]
  },
  {
   "cell_type": "code",
   "execution_count": 131,
   "id": "783215d5",
   "metadata": {},
   "outputs": [],
   "source": [
    "train_loader = torch.utils.data.DataLoader(dset['train'], batch_size=32, shuffle=True, num_workers=6)\n",
    "test_loader = torch.utils.data.DataLoader(dset['test'], batch_size=32, shuffle=True, num_workers=6)"
   ]
  },
  {
   "cell_type": "code",
   "execution_count": 41,
   "id": "288e7aa0",
   "metadata": {
    "scrolled": true
   },
   "outputs": [
    {
     "data": {
      "text/plain": [
       "torch.Size([28, 28])"
      ]
     },
     "execution_count": 41,
     "metadata": {},
     "output_type": "execute_result"
    }
   ],
   "source": [
    "dset['train'][0][0].shape"
   ]
  },
  {
   "cell_type": "code",
   "execution_count": 132,
   "id": "d1dcddff",
   "metadata": {},
   "outputs": [
    {
     "data": {
      "image/png": "[encoded data removed]",
      "text/plain": [
       "<Figure size 432x288 with 1 Axes>"
      ]
     },
     "metadata": {
      "needs_background": "light"
     },
     "output_type": "display_data"
    },
    {
     "data": {
      "image/png": "[encoded data removed]",
      "text/plain": [
       "<Figure size 432x288 with 1 Axes>"
      ]
     },
     "metadata": {
      "needs_background": "light"
     },
     "output_type": "display_data"
    }
   ],
   "source": [
    "for x,y in train_loader:\n",
    "    print28x28tensor(x[0])\n",
    "    plt.show()\n",
    "    print28x28tensor(y[0])\n",
    "    #print28x28tensor(y[0])\n",
    "    break"
   ]
  },
  {
   "cell_type": "code",
   "execution_count": 154,
   "id": "c69a0a26",
   "metadata": {
    "scrolled": false
   },
   "outputs": [
    {
     "name": "stderr",
     "output_type": "stream",
     "text": [
      " 10%|████▍                                       | 1/10 [00:07<01:09,  7.72s/it]"
     ]
    },
    {
     "name": "stdout",
     "output_type": "stream",
     "text": [
      "[1,    32] loss: 0.024\n"
     ]
    },
    {
     "name": "stderr",
     "output_type": "stream",
     "text": [
      "\r",
      " 20%|████████▊                                   | 2/10 [00:15<01:01,  7.68s/it]"
     ]
    },
    {
     "name": "stdout",
     "output_type": "stream",
     "text": [
      "[2,    32] loss: 0.024\n"
     ]
    },
    {
     "name": "stderr",
     "output_type": "stream",
     "text": [
      "\r",
      " 30%|█████████████▏                              | 3/10 [00:22<00:53,  7.61s/it]"
     ]
    },
    {
     "name": "stdout",
     "output_type": "stream",
     "text": [
      "[3,    32] loss: 0.023\n"
     ]
    },
    {
     "name": "stderr",
     "output_type": "stream",
     "text": [
      "\r",
      " 40%|█████████████████▌                          | 4/10 [00:30<00:45,  7.59s/it]"
     ]
    },
    {
     "name": "stdout",
     "output_type": "stream",
     "text": [
      "[4,    32] loss: 0.023\n"
     ]
    },
    {
     "name": "stderr",
     "output_type": "stream",
     "text": [
      "\r",
      " 50%|██████████████████████                      | 5/10 [00:37<00:37,  7.53s/it]"
     ]
    },
    {
     "name": "stdout",
     "output_type": "stream",
     "text": [
      "[5,    32] loss: 0.023\n"
     ]
    },
    {
     "name": "stderr",
     "output_type": "stream",
     "text": [
      "\r",
      " 60%|██████████████████████████▍                 | 6/10 [00:45<00:30,  7.57s/it]"
     ]
    },
    {
     "name": "stdout",
     "output_type": "stream",
     "text": [
      "[6,    32] loss: 0.022\n"
     ]
    },
    {
     "name": "stderr",
     "output_type": "stream",
     "text": [
      "\r",
      " 70%|██████████████████████████████▊             | 7/10 [00:53<00:22,  7.55s/it]"
     ]
    },
    {
     "name": "stdout",
     "output_type": "stream",
     "text": [
      "[7,    32] loss: 0.022\n"
     ]
    },
    {
     "name": "stderr",
     "output_type": "stream",
     "text": [
      "\r",
      " 80%|███████████████████████████████████▏        | 8/10 [01:00<00:15,  7.56s/it]"
     ]
    },
    {
     "name": "stdout",
     "output_type": "stream",
     "text": [
      "[8,    32] loss: 0.022\n"
     ]
    },
    {
     "name": "stderr",
     "output_type": "stream",
     "text": [
      "\r",
      " 90%|███████████████████████████████████████▌    | 9/10 [01:08<00:07,  7.64s/it]"
     ]
    },
    {
     "name": "stdout",
     "output_type": "stream",
     "text": [
      "[9,    32] loss: 0.021\n"
     ]
    },
    {
     "name": "stderr",
     "output_type": "stream",
     "text": [
      "100%|███████████████████████████████████████████| 10/10 [01:16<00:00,  7.62s/it]"
     ]
    },
    {
     "name": "stdout",
     "output_type": "stream",
     "text": [
      "[10,    32] loss: 0.021\n"
     ]
    },
    {
     "name": "stderr",
     "output_type": "stream",
     "text": [
      "\n"
     ]
    }
   ],
   "source": [
    "\n",
    "#pipe = Pipeline(model, (train_loader, test_loader), loss_fn, writer)\n",
    "\n",
    "\n",
    "epochs = 10\n",
    "optimizer = torch.optim.SGD(model.parameters(), lr=0.01)\n",
    "loss_fn = nn.MSELoss()\n",
    "lr = 0.01\n",
    "\n",
    "\n",
    "for epoch in tqdm(range(epochs)):\n",
    "    #Train : \n",
    "    #pipe.train(optimizer, epochs, False, {\"lr\": 0.1}, n_accumulated_grads=5,keep_training=True)\n",
    "    running_loss=0.0\n",
    "    for data,target in train_loader:\n",
    "        optimizer.zero_grad()\n",
    "\n",
    "        output = model(data)\n",
    "        loss = loss_fn(output, target)\n",
    "        loss.backward()\n",
    "        optimizer.step()\n",
    "\n",
    "        # print statistics\n",
    "        running_loss += loss.item()\n",
    "        \n",
    "        \n",
    "    print(f'[{epoch + 1}, {i + 1:5d}] loss: {running_loss / 2000:.3f}')\n",
    "    \n",
    "    \n",
    "    \n",
    "   \n",
    "me = ModelExtractor(pipe.model, pipe.loss_fn)\n",
    "weights = list(me.get_layers_param().values())\n"
   ]
  },
  {
   "cell_type": "code",
   "execution_count": null,
   "id": "2cb08621",
   "metadata": {},
   "outputs": [],
   "source": []
  },
  {
   "cell_type": "code",
   "execution_count": 156,
   "id": "3f00b43f",
   "metadata": {},
   "outputs": [
    {
     "data": {
      "image/png": "[encoded data removed]",
      "text/plain": [
       "<Figure size 432x288 with 1 Axes>"
      ]
     },
     "metadata": {
      "needs_background": "light"
     },
     "output_type": "display_data"
    },
    {
     "data": {
      "image/png": "[encoded data removed]",
      "text/plain": [
       "<Figure size 432x288 with 1 Axes>"
      ]
     },
     "metadata": {
      "needs_background": "light"
     },
     "output_type": "display_data"
    }
   ],
   "source": [
    "for x,y in train_loader:\n",
    "    print28x28tensor(x[0])\n",
    "    plt.show()\n",
    "    print28x28tensor(model(x.to(DEVICE))[0].detach())\n",
    "    #print28x28tensor(y[0])\n",
    "    break"
   ]
  },
  {
   "cell_type": "code",
   "execution_count": 159,
   "id": "9dd66e61",
   "metadata": {},
   "outputs": [],
   "source": [
    "pipe = Pipeline(model, (train_loader, test_loader), loss_fn, writer)"
   ]
  },
  {
   "cell_type": "code",
   "execution_count": 162,
   "id": "f9c65ecb",
   "metadata": {},
   "outputs": [
    {
     "name": "stderr",
     "output_type": "stream",
     "text": [
      " 16%|██████▏                                | 299/1875 [00:02<00:13, 117.35it/s]\n"
     ]
    }
   ],
   "source": [
    "epsilon = 0.1\n",
    "n_batch = 300 #Number of batch used to generate the dataset \n",
    "activ = torch.zeros((3,n_batch*32,sum(arch)))\n",
    "#final tensor activ[alter][idx] contains an activation vector for data sample idx with a specific alteration :\n",
    "# 0 : no alteration, raw data \n",
    "# 1 : data + adversarial  noise\n",
    "# 2 : data + shuffle of adversarial noise (random perturbation with same statistics)\n",
    "label = torch.zeros(n_batch*32)\n",
    "\n",
    "\n",
    "topactiv = TFC(pipe,arch)\n",
    "dl = TorchDataLoader(name=\"MNIST\")\n",
    "dl_tr, dl_ts = dl.build_dataloaders(batch_size=32)\n",
    "\n",
    "k_batch = 0 \n",
    "for data, target in tqdm(train_loader): \n",
    "    \n",
    "    \n",
    "    data=data.to(DEVICE) ##SUBOPTIMAL !!!\n",
    "    target = target.to(DEVICE)\n",
    "    data_perturbed = topactiv.fgsm_attack(data, target,epsilon)\n",
    "    \n",
    "    #data_noised = data+epsilon*2*(torch.bernoulli(0.5*torch.ones(data.shape))-1)\n",
    "    #Shuffle\n",
    "    data_noised = torch.zeros(32,1,28,28).to(DEVICE)\n",
    "    for i in range(32):\n",
    "        indices=torch.randperm(784).to(DEVICE)\n",
    "        data_noised[i]=(data_perturbed-data)[i].reshape(784)[indices].reshape(1,28,28)+data[i]\n",
    "    \n",
    "    \n",
    "    normal_activation = torch.cat(me.get_activations(data)[:-2],dim=1)\n",
    "    perturbed_activation = torch.cat(me.get_activations(data_perturbed)[:-2],dim=1)\n",
    "    noised_activation= torch.cat(me.get_activations(data_noised)[:-2],dim=1)\n",
    "\n",
    "    \n",
    "    activ[0][k_batch*32:(k_batch+1)*32]=normal_activation\n",
    "    activ[1][k_batch*32:(k_batch+1)*32]=perturbed_activation\n",
    "    activ[2][k_batch*32:(k_batch+1)*32]=noised_activation\n",
    "    #label[k_batch*32:(k_batch+1)*32]=\n",
    "    \n",
    "    k_batch+=1\n",
    "    if k_batch>=n_batch:\n",
    "        break "
   ]
  },
  {
   "cell_type": "code",
   "execution_count": 140,
   "id": "37ff0d36",
   "metadata": {},
   "outputs": [
    {
     "name": "stdout",
     "output_type": "stream",
     "text": [
      "ok\n",
      "Sequential(\n",
      "  (0): Flatten(start_dim=1, end_dim=-1)\n",
      "  (1): FFNet(\n",
      "    (linears): ModuleList(\n",
      "      (0): Linear(in_features=784, out_features=784, bias=False)\n",
      "      (1): Linear(in_features=784, out_features=784, bias=False)\n",
      "    )\n",
      "  )\n",
      ")\n",
      "ok\n",
      "Flatten(start_dim=1, end_dim=-1)\n",
      "ok\n",
      "FFNet(\n",
      "  (linears): ModuleList(\n",
      "    (0): Linear(in_features=784, out_features=784, bias=False)\n",
      "    (1): Linear(in_features=784, out_features=784, bias=False)\n",
      "  )\n",
      ")\n",
      "ok\n",
      "ModuleList(\n",
      "  (0): Linear(in_features=784, out_features=784, bias=False)\n",
      "  (1): Linear(in_features=784, out_features=784, bias=False)\n",
      ")\n",
      "ok\n",
      "Linear(in_features=784, out_features=784, bias=False)\n",
      "ok\n",
      "Linear(in_features=784, out_features=784, bias=False)\n"
     ]
    }
   ],
   "source": [
    "for x in pipe.model.modules():\n",
    "    print('ok')\n",
    "    print(x)"
   ]
  },
  {
   "cell_type": "code",
   "execution_count": 164,
   "id": "95961813",
   "metadata": {
    "scrolled": true
   },
   "outputs": [
    {
     "data": {
      "image/png": "[encoded data removed]",
      "text/plain": [
       "<Figure size 432x288 with 1 Axes>"
      ]
     },
     "metadata": {
      "needs_background": "light"
     },
     "output_type": "display_data"
    },
    {
     "data": {
      "image/png": "[encoded data removed]",
      "text/plain": [
       "<Figure size 432x288 with 1 Axes>"
      ]
     },
     "metadata": {
      "needs_background": "light"
     },
     "output_type": "display_data"
    }
   ],
   "source": [
    "for x,y in train_loader:\n",
    "    print28x28tensor(x[0])\n",
    "    plt.show()\n",
    "    print28x28tensor(pipe.model(x.to(DEVICE))[0].detach())\n",
    "    #print28x28tensor(y[0])\n",
    "    break"
   ]
  },
  {
   "cell_type": "code",
   "execution_count": 165,
   "id": "d4afa623",
   "metadata": {},
   "outputs": [],
   "source": [
    "idx = torch.randint(low=0,high=activ[0].shape[0],size=(1,))"
   ]
  },
  {
   "cell_type": "code",
   "execution_count": 168,
   "id": "ec7dfd5a",
   "metadata": {},
   "outputs": [
    {
     "data": {
      "image/png": "[encoded data removed]",
      "text/plain": [
       "<Figure size 432x288 with 1 Axes>"
      ]
     },
     "metadata": {
      "needs_background": "light"
     },
     "output_type": "display_data"
    },
    {
     "data": {
      "image/png": "[encoded data removed]",
      "text/plain": [
       "<Figure size 432x288 with 1 Axes>"
      ]
     },
     "metadata": {
      "needs_background": "light"
     },
     "output_type": "display_data"
    }
   ],
   "source": [
    "alter = 1\n",
    "print28x28tensor(activ[alter][idx,:28*28])\n",
    "plt.show()\n",
    "print28x28tensor(activ[alter][idx,-28*28:])\n",
    "plt.show()\n",
    "#print28x28tensor(activ[1][idx,:28*28])\n",
    "#print28x28tensor(activ[1][idx,:28*28])"
   ]
  },
  {
   "cell_type": "code",
   "execution_count": 173,
   "id": "442ecac7",
   "metadata": {
    "scrolled": true
   },
   "outputs": [
    {
     "data": {
      "image/png": "[encoded data removed]",
      "text/plain": [
       "<Figure size 432x288 with 1 Axes>"
      ]
     },
     "metadata": {
      "needs_background": "light"
     },
     "output_type": "display_data"
    }
   ],
   "source": [
    "#Effective network visualisation\n",
    "me = ModelExtractor(pipe.model, pipe.loss_fn)\n",
    "weights = list(me.get_layers_param().values())\n",
    "    \n",
    "\n",
    "from scipy.linalg import null_space\n",
    "S = []\n",
    "V = []\n",
    "U = []\n",
    "K = []\n",
    "for layer in weights:\n",
    "    u,s,v= torch.svd(layer)\n",
    "    U.append(u.to('cpu'))\n",
    "    S.append(s.to('cpu'))\n",
    "    V.append(v.to('cpu'))\n",
    "    K.append(null_space(layer.to('cpu')))\n",
    "\n",
    "\n",
    "adjacency = [V[i+1].T@U[i]@torch.diag(S[i]) for i in range(len(arch)-2)]\n",
    "\n",
    "def y_scale(x):\n",
    "    return torch.exp(x)\n",
    "\n",
    "#Nodes \n",
    "for i in range(len(S)):\n",
    "    plt.scatter(len(S[i])*[i],y_scale(S[i]))\n",
    "    \n",
    "#Edges  \n",
    "for k in range(len(adjacency)):\n",
    "    E = torch.abs(adjacency[k])\n",
    "    for i in range(E.shape[0]):\n",
    "        for j in range(E.shape[1]):\n",
    "            if E[i,j]>3e-1:\n",
    "                plt.plot([k,k+1],[y_scale(S[k][j]),y_scale(S[k+1][i])],color='grey',alpha=((E[i,j]/E.max())**0.5).item()) #Peut-être j,i\n",
    "plt.show()"
   ]
  },
  {
   "cell_type": "code",
   "execution_count": 171,
   "id": "4660bd7f",
   "metadata": {},
   "outputs": [
    {
     "data": {
      "text/plain": [
       "2"
      ]
     },
     "execution_count": 171,
     "metadata": {},
     "output_type": "execute_result"
    }
   ],
   "source": [
    "len(weights)"
   ]
  },
  {
   "cell_type": "code",
   "execution_count": null,
   "id": "4199e5c7",
   "metadata": {},
   "outputs": [],
   "source": []
  }
 ],
 "metadata": {
  "kernelspec": {
   "display_name": "Python 3 (ipykernel)",
   "language": "python",
   "name": "python3"
  },
  "language_info": {
   "codemirror_mode": {
    "name": "ipython",
    "version": 3
   },
   "file_extension": ".py",
   "mimetype": "text/x-python",
   "name": "python",
   "nbconvert_exporter": "python",
   "pygments_lexer": "ipython3",
   "version": "3.9.12"
  }
 },
 "nbformat": 4,
 "nbformat_minor": 5
}
