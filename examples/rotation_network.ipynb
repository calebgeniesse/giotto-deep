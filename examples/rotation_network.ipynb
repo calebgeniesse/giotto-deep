{
 "cells": [
  {
   "cell_type": "code",
   "execution_count": 59,
   "id": "80a49415",
   "metadata": {},
   "outputs": [
    {
     "name": "stdout",
     "output_type": "stream",
     "text": [
      "\u001b[33mDEPRECATION: Configuring installation scheme with distutils config files is deprecated and will no longer work in the near future. If you are using a Homebrew or Linuxbrew Python, please see discussion at https://github.com/Homebrew/homebrew-core/issues/76621\u001b[0m\u001b[33m\n",
      "\u001b[0mRequirement already satisfied: xitorch in /home/linuxbrew/.linuxbrew/lib/python3.9/site-packages (0.3.0)\n",
      "Requirement already satisfied: numpy>=1.8.2 in /home/linuxbrew/.linuxbrew/lib/python3.9/site-packages (from xitorch) (1.21.6)\n",
      "Requirement already satisfied: scipy>=1.1.0 in /home/linuxbrew/.linuxbrew/lib/python3.9/site-packages (from xitorch) (1.8.0)\n",
      "Requirement already satisfied: torch>=1.8 in /home/linuxbrew/.linuxbrew/lib/python3.9/site-packages (from xitorch) (1.11.0)\n",
      "Requirement already satisfied: typing-extensions in /home/linuxbrew/.linuxbrew/lib/python3.9/site-packages (from torch>=1.8->xitorch) (4.1.1)\n",
      "\u001b[33mDEPRECATION: Configuring installation scheme with distutils config files is deprecated and will no longer work in the near future. If you are using a Homebrew or Linuxbrew Python, please see discussion at https://github.com/Homebrew/homebrew-core/issues/76621\u001b[0m\u001b[33m\n",
      "\u001b[0m\u001b[33mWARNING: You are using pip version 22.0.4; however, version 22.1.2 is available.\n",
      "You should consider upgrading via the '/home/linuxbrew/.linuxbrew/opt/python@3.9/bin/python3.9 -m pip install --upgrade pip' command.\u001b[0m\u001b[33m\n",
      "\u001b[0mUsing GPU!\n"
     ]
    }
   ],
   "source": [
    "from gdeep.topactivation import TopactivationFC as TFC\n",
    "from gdeep.pipeline import Pipeline\n",
    "from torch.utils.tensorboard import SummaryWriter\n",
    "\n",
    "from gdeep.models import FFNet\n",
    "from torch import nn\n",
    "import torch\n",
    "from gdeep.data import TorchDataLoader\n",
    "\n",
    "!pip3 install xitorch\n",
    "from gdeep.models import ModelExtractor\n",
    "from gdeep.topactivation.spectral_analysisTorch import LaplacianOperator\n",
    "import matplotlib.pyplot as plt \n",
    "\n",
    "if torch.cuda.is_available():\n",
    "    DEVICE = torch.device(\"cuda\")\n",
    "    print(\"Using GPU!\")\n",
    "else:\n",
    "    DEVICE = torch.device(\"cpu\")\n",
    "\n",
    "\n",
    "def print28x28tensor(tensor):\n",
    "    img=tensor.to('cpu')\n",
    "    pixels = img.reshape((28,28))\n",
    "    plt.imshow(pixels,cmap='gray')\n",
    "    \n",
    "    \n",
    "from gdeep.topactivation.svr import SVR"
   ]
  },
  {
   "cell_type": "code",
   "execution_count": 83,
   "id": "e1b04b6f",
   "metadata": {},
   "outputs": [],
   "source": [
    "#Trainig the model \n",
    "\n",
    "writer = SummaryWriter()\n",
    "dl = TorchDataLoader(name=\"MNIST\")\n",
    "dl_tr, dl_ts = dl.build_dataloaders(batch_size=32)\n",
    "\n",
    "\n",
    "#cpu = torch.ones(1).device\n",
    "\n",
    "\n",
    "arch = [28*28,100,20,100,28*28]\n",
    "\n",
    "model = nn.Sequential(nn.Flatten(), FFNet(arch,bias=False )).to(DEVICE)\n",
    "\n",
    "\n",
    "\n"
   ]
  },
  {
   "cell_type": "markdown",
   "id": "a2884453",
   "metadata": {},
   "source": [
    "for sample,_ in dl_tr:\n",
    "    break\n",
    "pipe2=Pipeline(model, (train_loader, test_loader), loss_fn, writer)\n",
    "me2 = ModelExtractor(pipe2.model, pipe2.loss_fn)\n",
    "activations = me2.get_activations(sample)\n",
    "[x.shape for x in activations]"
   ]
  },
  {
   "cell_type": "code",
   "execution_count": 4,
   "id": "d6955b0b",
   "metadata": {},
   "outputs": [
    {
     "data": {
      "image/png": "[encoded data removed]",
      "text/plain": [
       "<Figure size 432x288 with 1 Axes>"
      ]
     },
     "metadata": {
      "needs_background": "light"
     },
     "output_type": "display_data"
    }
   ],
   "source": [
    "for data in dl_tr:\n",
    "    print28x28tensor(data[0][3]+0.1*torch.randn(1,28,28))\n",
    "    break "
   ]
  },
  {
   "cell_type": "code",
   "execution_count": 5,
   "id": "8209e4c8",
   "metadata": {
    "scrolled": true
   },
   "outputs": [
    {
     "name": "stderr",
     "output_type": "stream",
     "text": [
      "100%|██████████████████████████████████████| 1875/1875 [00:06<00:00, 274.32it/s]\n"
     ]
    }
   ],
   "source": [
    "from tqdm import tqdm \n",
    "\n",
    "sigma = 0.3\n",
    "dset = {'train' : [],'test':[]}\n",
    "for data,label in tqdm(dl_tr):\n",
    "    for i in range(len(data)):\n",
    "        dset['train'].append((data[i][0]+sigma*torch.randn(28,28),(data[i][0]).reshape(28*28)))\n",
    "\n",
    "for data,label in dl_ts:\n",
    "    for i in range(len(data)):\n",
    "        dset['test'].append((data[i][0]+sigma*torch.randn(28,28),(data[i][0]).reshape(28*28)))\n"
   ]
  },
  {
   "cell_type": "code",
   "execution_count": 6,
   "id": "783215d5",
   "metadata": {},
   "outputs": [],
   "source": [
    "train_loader = torch.utils.data.DataLoader(dset['train'], batch_size=32, shuffle=True, num_workers=6)\n",
    "test_loader = torch.utils.data.DataLoader(dset['test'], batch_size=32, shuffle=True, num_workers=6)"
   ]
  },
  {
   "cell_type": "code",
   "execution_count": 7,
   "id": "d1dcddff",
   "metadata": {},
   "outputs": [
    {
     "data": {
      "image/png": "[encoded data removed]",
      "text/plain": [
       "<Figure size 432x288 with 1 Axes>"
      ]
     },
     "metadata": {
      "needs_background": "light"
     },
     "output_type": "display_data"
    },
    {
     "data": {
      "image/png": "[encoded data removed]",
      "text/plain": [
       "<Figure size 432x288 with 1 Axes>"
      ]
     },
     "metadata": {
      "needs_background": "light"
     },
     "output_type": "display_data"
    }
   ],
   "source": [
    "for x,y in train_loader:\n",
    "    print28x28tensor(x[0])\n",
    "    plt.show()\n",
    "    print28x28tensor(y[0])\n",
    "    #print28x28tensor(y[0])\n",
    "    break"
   ]
  },
  {
   "cell_type": "code",
   "execution_count": 8,
   "id": "c69a0a26",
   "metadata": {
    "scrolled": false
   },
   "outputs": [
    {
     "name": "stderr",
     "output_type": "stream",
     "text": [
      " 10%|████▍                                       | 1/10 [00:04<00:36,  4.09s/it]"
     ]
    },
    {
     "name": "stdout",
     "output_type": "stream",
     "text": [
      "[1,    16] loss: 0.029\n"
     ]
    },
    {
     "name": "stderr",
     "output_type": "stream",
     "text": [
      "\r",
      " 20%|████████▊                                   | 2/10 [00:08<00:33,  4.15s/it]"
     ]
    },
    {
     "name": "stdout",
     "output_type": "stream",
     "text": [
      "[2,    16] loss: 0.023\n"
     ]
    },
    {
     "name": "stderr",
     "output_type": "stream",
     "text": [
      "\r",
      " 30%|█████████████▏                              | 3/10 [00:12<00:29,  4.15s/it]"
     ]
    },
    {
     "name": "stdout",
     "output_type": "stream",
     "text": [
      "[3,    16] loss: 0.022\n"
     ]
    },
    {
     "name": "stderr",
     "output_type": "stream",
     "text": [
      "\r",
      " 40%|█████████████████▌                          | 4/10 [00:16<00:24,  4.10s/it]"
     ]
    },
    {
     "name": "stdout",
     "output_type": "stream",
     "text": [
      "[4,    16] loss: 0.021\n"
     ]
    },
    {
     "name": "stderr",
     "output_type": "stream",
     "text": [
      "\r",
      " 50%|██████████████████████                      | 5/10 [00:20<00:20,  4.17s/it]"
     ]
    },
    {
     "name": "stdout",
     "output_type": "stream",
     "text": [
      "[5,    16] loss: 0.020\n"
     ]
    },
    {
     "name": "stderr",
     "output_type": "stream",
     "text": [
      "\r",
      " 60%|██████████████████████████▍                 | 6/10 [00:25<00:17,  4.40s/it]"
     ]
    },
    {
     "name": "stdout",
     "output_type": "stream",
     "text": [
      "[6,    16] loss: 0.020\n"
     ]
    },
    {
     "name": "stderr",
     "output_type": "stream",
     "text": [
      "\r",
      " 70%|██████████████████████████████▊             | 7/10 [00:30<00:13,  4.51s/it]"
     ]
    },
    {
     "name": "stdout",
     "output_type": "stream",
     "text": [
      "[7,    16] loss: 0.020\n"
     ]
    },
    {
     "name": "stderr",
     "output_type": "stream",
     "text": [
      "\r",
      " 80%|███████████████████████████████████▏        | 8/10 [00:35<00:09,  4.57s/it]"
     ]
    },
    {
     "name": "stdout",
     "output_type": "stream",
     "text": [
      "[8,    16] loss: 0.019\n"
     ]
    },
    {
     "name": "stderr",
     "output_type": "stream",
     "text": [
      "\r",
      " 90%|███████████████████████████████████████▌    | 9/10 [00:39<00:04,  4.41s/it]"
     ]
    },
    {
     "name": "stdout",
     "output_type": "stream",
     "text": [
      "[9,    16] loss: 0.019\n"
     ]
    },
    {
     "name": "stderr",
     "output_type": "stream",
     "text": [
      "100%|███████████████████████████████████████████| 10/10 [00:43<00:00,  4.31s/it]"
     ]
    },
    {
     "name": "stdout",
     "output_type": "stream",
     "text": [
      "[10,    16] loss: 0.019\n"
     ]
    },
    {
     "name": "stderr",
     "output_type": "stream",
     "text": [
      "\n"
     ]
    }
   ],
   "source": [
    "\n",
    "#pipe = Pipeline(model, (train_loader, test_loader), loss_fn, writer)\n",
    "\n",
    "\n",
    "epochs = 10\n",
    "optimizer = torch.optim.Adam(model.parameters())\n",
    "loss_fn = nn.MSELoss()\n",
    "lr = 0.01\n",
    "\n",
    "\n",
    "for epoch in tqdm(range(epochs)):\n",
    "    #Train : \n",
    "    #pipe.train(optimizer, epochs, False, {\"lr\": 0.1}, n_accumulated_grads=5,keep_training=True)\n",
    "    running_loss=0.0\n",
    "    for data,target in train_loader:\n",
    "        optimizer.zero_grad()\n",
    "\n",
    "        output = model(data.to(DEVICE))\n",
    "        loss = loss_fn(output, target.to(DEVICE))\n",
    "        loss.backward()\n",
    "        optimizer.step()\n",
    "\n",
    "        # print statistics\n",
    "        running_loss += loss.item()\n",
    "        \n",
    "        \n",
    "    print(f'[{epoch + 1}, {i + 1:5d}] loss: {running_loss / 2000:.3f}')\n",
    "    \n",
    "    \n",
    "    \n",
    "   \n",
    "weights = [w.detach() for w in model.parameters()]\n"
   ]
  },
  {
   "cell_type": "code",
   "execution_count": 12,
   "id": "3f00b43f",
   "metadata": {},
   "outputs": [
    {
     "data": {
      "image/png": "[encoded data removed]",
      "text/plain": [
       "<Figure size 432x288 with 1 Axes>"
      ]
     },
     "metadata": {
      "needs_background": "light"
     },
     "output_type": "display_data"
    },
    {
     "data": {
      "image/png": "[encoded data removed]",
      "text/plain": [
       "<Figure size 432x288 with 1 Axes>"
      ]
     },
     "metadata": {
      "needs_background": "light"
     },
     "output_type": "display_data"
    }
   ],
   "source": [
    "for x,y in train_loader:\n",
    "    idx = 5\n",
    "    print28x28tensor(x[idx])\n",
    "    plt.show()\n",
    "    print28x28tensor(model(x.to(DEVICE))[idx].detach())\n",
    "    #print28x28tensor(y[0])\n",
    "    break"
   ]
  },
  {
   "cell_type": "markdown",
   "id": "37b02782",
   "metadata": {},
   "source": [
    "# SVR of autoencoder"
   ]
  },
  {
   "cell_type": "code",
   "execution_count": 10,
   "id": "3746eea1",
   "metadata": {},
   "outputs": [
    {
     "name": "stderr",
     "output_type": "stream",
     "text": [
      "100%|████████████████████████████████████████████| 4/4 [00:00<00:00, 144.89it/s]\n"
     ]
    }
   ],
   "source": [
    "svr = SVR(weights)"
   ]
  },
  {
   "cell_type": "code",
   "execution_count": 14,
   "id": "590c0429",
   "metadata": {},
   "outputs": [
    {
     "name": "stderr",
     "output_type": "stream",
     "text": [
      "100%|█████████████████████████████████████████████| 3/3 [00:00<00:00, 18.47it/s]\n"
     ]
    },
    {
     "data": {
      "application/vnd.plotly.v1+json": {
       "config": {
        "plotlyServerURL": "https://plot.ly"
       },
       "data": [
        {
         "hoverinfo": "text",
         "hoveron": "fills",
         "hovertext": "tensor(0.0527)",
         "marker": {
          "color": "rgb(224, 224, 224)",
          "opacity": 1
         },
         "showlegend": false,
         "text": "tensor(0.0527)",
         "type": "scatter",
         "x": [
          0,
          1
         ],
         "y": [
          2.704345464706421,
          0.6904761791229248
         ]
        },
        {
         "hoverinfo": "text",
         "hoveron": "fills",
         "hovertext": "tensor(0.0528)",
         "marker": {
          "color": "rgb(224, 224, 224)",
          "opacity": 1
         },
         "showlegend": false,
         "text": "tensor(0.0528)",
         "type": "scatter",
         "x": [
          0,
          1
         ],
         "y": [
          3.9885919094085693,
          0.6904761791229248
         ]
        },
        {
         "hoverinfo": "text",
         "hoveron": "fills",
         "hovertext": "tensor(0.0535)",
         "marker": {
          "color": "rgb(224, 224, 224)",
          "opacity": 1
         },
         "showlegend": false,
         "text": "tensor(0.0535)",
         "type": "scatter",
         "x": [
          0,
          1
         ],
         "y": [
          2.5078911781311035,
          0.49586597084999084
         ]
        },
        {
         "hoverinfo": "text",
         "hoveron": "fills",
         "hovertext": "tensor(0.0538)",
         "marker": {
          "color": "rgb(224, 224, 224)",
          "opacity": 1
         },
         "showlegend": false,
         "text": "tensor(0.0538)",
         "type": "scatter",
         "x": [
          0,
          1
         ],
         "y": [
          2.639782190322876,
          0.46499326825141907
         ]
        },
        {
         "hoverinfo": "text",
         "hoveron": "fills",
         "hovertext": "tensor(0.0543)",
         "marker": {
          "color": "rgb(224, 224, 224)",
          "opacity": 1
         },
         "showlegend": false,
         "text": "tensor(0.0543)",
         "type": "scatter",
         "x": [
          0,
          1
         ],
         "y": [
          3.647151470184326,
          0.5492258071899414
         ]
        },
        {
         "hoverinfo": "text",
         "hoveron": "fills",
         "hovertext": "tensor(0.0545)",
         "marker": {
          "color": "rgb(224, 224, 224)",
          "opacity": 1
         },
         "showlegend": false,
         "text": "tensor(0.0545)",
         "type": "scatter",
         "x": [
          0,
          1
         ],
         "y": [
          2.5596470832824707,
          0.6904761791229248
         ]
        },
        {
         "hoverinfo": "text",
         "hoveron": "fills",
         "hovertext": "tensor(0.0558)",
         "marker": {
          "color": "rgb(223, 223, 223)",
          "opacity": 1
         },
         "showlegend": false,
         "text": "tensor(0.0558)",
         "type": "scatter",
         "x": [
          0,
          1
         ],
         "y": [
          3.9885919094085693,
          0.3720211088657379
         ]
        },
        {
         "hoverinfo": "text",
         "hoveron": "fills",
         "hovertext": "tensor(0.0560)",
         "marker": {
          "color": "rgb(223, 223, 223)",
          "opacity": 1
         },
         "showlegend": false,
         "text": "tensor(0.0560)",
         "type": "scatter",
         "x": [
          0,
          1
         ],
         "y": [
          3.23360538482666,
          0.37859150767326355
         ]
        },
        {
         "hoverinfo": "text",
         "hoveron": "fills",
         "hovertext": "tensor(0.0579)",
         "marker": {
          "color": "rgb(222, 222, 222)",
          "opacity": 1
         },
         "showlegend": false,
         "text": "tensor(0.0579)",
         "type": "scatter",
         "x": [
          0,
          1
         ],
         "y": [
          2.126610279083252,
          0.5042160749435425
         ]
        },
        {
         "hoverinfo": "text",
         "hoveron": "fills",
         "hovertext": "tensor(0.0581)",
         "marker": {
          "color": "rgb(222, 222, 222)",
          "opacity": 1
         },
         "showlegend": false,
         "text": "tensor(0.0581)",
         "type": "scatter",
         "x": [
          0,
          1
         ],
         "y": [
          1.8193022012710571,
          0.49586597084999084
         ]
        },
        {
         "hoverinfo": "text",
         "hoveron": "fills",
         "hovertext": "tensor(0.0583)",
         "marker": {
          "color": "rgb(222, 222, 222)",
          "opacity": 1
         },
         "showlegend": false,
         "text": "tensor(0.0583)",
         "type": "scatter",
         "x": [
          0,
          1
         ],
         "y": [
          3.159949779510498,
          0.49586597084999084
         ]
        },
        {
         "hoverinfo": "text",
         "hoveron": "fills",
         "hovertext": "tensor(0.0583)",
         "marker": {
          "color": "rgb(222, 222, 222)",
          "opacity": 1
         },
         "showlegend": false,
         "text": "tensor(0.0583)",
         "type": "scatter",
         "x": [
          0,
          1
         ],
         "y": [
          3.2907259464263916,
          0.5978738069534302
         ]
        },
        {
         "hoverinfo": "text",
         "hoveron": "fills",
         "hovertext": "tensor(0.0588)",
         "marker": {
          "color": "rgb(222, 222, 222)",
          "opacity": 1
         },
         "showlegend": false,
         "text": "tensor(0.0588)",
         "type": "scatter",
         "x": [
          0,
          1
         ],
         "y": [
          3.404479503631592,
          0.32427841424942017
         ]
        },
        {
         "hoverinfo": "text",
         "hoveron": "fills",
         "hovertext": "tensor(0.0589)",
         "marker": {
          "color": "rgb(222, 222, 222)",
          "opacity": 1
         },
         "showlegend": false,
         "text": "tensor(0.0589)",
         "type": "scatter",
         "x": [
          0,
          1
         ],
         "y": [
          0.8361209034919739,
          0.626976490020752
         ]
        },
        {
         "hoverinfo": "text",
         "hoveron": "fills",
         "hovertext": "tensor(0.0597)",
         "marker": {
          "color": "rgb(222, 222, 222)",
          "opacity": 1
         },
         "showlegend": false,
         "text": "tensor(0.0597)",
         "type": "scatter",
         "x": [
          0,
          1
         ],
         "y": [
          0.7942330837249756,
          1.0267270803451538
         ]
        },
        {
         "hoverinfo": "text",
         "hoveron": "fills",
         "hovertext": "tensor(0.0601)",
         "marker": {
          "color": "rgb(222, 222, 222)",
          "opacity": 1
         },
         "showlegend": false,
         "text": "tensor(0.0601)",
         "type": "scatter",
         "x": [
          0,
          1
         ],
         "y": [
          3.058302164077759,
          0.45438575744628906
         ]
        },
        {
         "hoverinfo": "text",
         "hoveron": "fills",
         "hovertext": "tensor(0.0610)",
         "marker": {
          "color": "rgb(221, 221, 221)",
          "opacity": 1
         },
         "showlegend": false,
         "text": "tensor(0.0610)",
         "type": "scatter",
         "x": [
          0,
          1
         ],
         "y": [
          3.3122904300689697,
          0.5612174868583679
         ]
        },
        {
         "hoverinfo": "text",
         "hoveron": "fills",
         "hovertext": "tensor(0.0626)",
         "marker": {
          "color": "rgb(221, 221, 221)",
          "opacity": 1
         },
         "showlegend": false,
         "text": "tensor(0.0626)",
         "type": "scatter",
         "x": [
          0,
          1
         ],
         "y": [
          2.7688844203948975,
          0.45438575744628906
         ]
        },
        {
         "hoverinfo": "text",
         "hoveron": "fills",
         "hovertext": "tensor(0.0628)",
         "marker": {
          "color": "rgb(221, 221, 221)",
          "opacity": 1
         },
         "showlegend": false,
         "text": "tensor(0.0628)",
         "type": "scatter",
         "x": [
          0,
          1
         ],
         "y": [
          2.6714441776275635,
          0.42812344431877136
         ]
        },
        {
         "hoverinfo": "text",
         "hoveron": "fills",
         "hovertext": "tensor(0.0632)",
         "marker": {
          "color": "rgb(221, 221, 221)",
          "opacity": 1
         },
         "showlegend": false,
         "text": "tensor(0.0632)",
         "type": "scatter",
         "x": [
          0,
          1
         ],
         "y": [
          2.7688844203948975,
          0.4202691614627838
         ]
        },
        {
         "hoverinfo": "text",
         "hoveron": "fills",
         "hovertext": "tensor(0.0633)",
         "marker": {
          "color": "rgb(221, 221, 221)",
          "opacity": 1
         },
         "showlegend": false,
         "text": "tensor(0.0633)",
         "type": "scatter",
         "x": [
          0,
          1
         ],
         "y": [
          3.0732574462890625,
          0.46499326825141907
         ]
        },
        {
         "hoverinfo": "text",
         "hoveron": "fills",
         "hovertext": "tensor(0.0646)",
         "marker": {
          "color": "rgb(220, 220, 220)",
          "opacity": 1
         },
         "showlegend": false,
         "text": "tensor(0.0646)",
         "type": "scatter",
         "x": [
          0,
          1
         ],
         "y": [
          3.2907259464263916,
          0.45438575744628906
         ]
        },
        {
         "hoverinfo": "text",
         "hoveron": "fills",
         "hovertext": "tensor(0.0655)",
         "marker": {
          "color": "rgb(220, 220, 220)",
          "opacity": 1
         },
         "showlegend": false,
         "text": "tensor(0.0655)",
         "type": "scatter",
         "x": [
          0,
          1
         ],
         "y": [
          3.415273904800415,
          0.3720211088657379
         ]
        },
        {
         "hoverinfo": "text",
         "hoveron": "fills",
         "hovertext": "tensor(0.0662)",
         "marker": {
          "color": "rgb(220, 220, 220)",
          "opacity": 1
         },
         "showlegend": false,
         "text": "tensor(0.0662)",
         "type": "scatter",
         "x": [
          0,
          1
         ],
         "y": [
          3.404479503631592,
          0.4202691614627838
         ]
        },
        {
         "hoverinfo": "text",
         "hoveron": "fills",
         "hovertext": "tensor(0.0667)",
         "marker": {
          "color": "rgb(220, 220, 220)",
          "opacity": 1
         },
         "showlegend": false,
         "text": "tensor(0.0667)",
         "type": "scatter",
         "x": [
          0,
          1
         ],
         "y": [
          3.23360538482666,
          0.42812344431877136
         ]
        },
        {
         "hoverinfo": "text",
         "hoveron": "fills",
         "hovertext": "tensor(0.0671)",
         "marker": {
          "color": "rgb(219, 219, 219)",
          "opacity": 1
         },
         "showlegend": false,
         "text": "tensor(0.0671)",
         "type": "scatter",
         "x": [
          0,
          1
         ],
         "y": [
          3.2907259464263916,
          0.49586597084999084
         ]
        },
        {
         "hoverinfo": "text",
         "hoveron": "fills",
         "hovertext": "tensor(0.0679)",
         "marker": {
          "color": "rgb(219, 219, 219)",
          "opacity": 1
         },
         "showlegend": false,
         "text": "tensor(0.0679)",
         "type": "scatter",
         "x": [
          0,
          1
         ],
         "y": [
          2.361077308654785,
          0.626976490020752
         ]
        },
        {
         "hoverinfo": "text",
         "hoveron": "fills",
         "hovertext": "tensor(0.0691)",
         "marker": {
          "color": "rgb(219, 219, 219)",
          "opacity": 1
         },
         "showlegend": false,
         "text": "tensor(0.0691)",
         "type": "scatter",
         "x": [
          0,
          1
         ],
         "y": [
          2.139887571334839,
          0.3720211088657379
         ]
        },
        {
         "hoverinfo": "text",
         "hoveron": "fills",
         "hovertext": "tensor(0.0706)",
         "marker": {
          "color": "rgb(218, 218, 218)",
          "opacity": 1
         },
         "showlegend": false,
         "text": "tensor(0.0706)",
         "type": "scatter",
         "x": [
          0,
          1
         ],
         "y": [
          1.9828819036483765,
          0.5978738069534302
         ]
        },
        {
         "hoverinfo": "text",
         "hoveron": "fills",
         "hovertext": "tensor(0.0709)",
         "marker": {
          "color": "rgb(218, 218, 218)",
          "opacity": 1
         },
         "showlegend": false,
         "text": "tensor(0.0709)",
         "type": "scatter",
         "x": [
          0,
          1
         ],
         "y": [
          2.5931129455566406,
          0.4202691614627838
         ]
        },
        {
         "hoverinfo": "text",
         "hoveron": "fills",
         "hovertext": "tensor(0.0725)",
         "marker": {
          "color": "rgb(218, 218, 218)",
          "opacity": 1
         },
         "showlegend": false,
         "text": "tensor(0.0725)",
         "type": "scatter",
         "x": [
          0,
          1
         ],
         "y": [
          2.5078911781311035,
          0.3042122423648834
         ]
        },
        {
         "hoverinfo": "text",
         "hoveron": "fills",
         "hovertext": "tensor(0.0731)",
         "marker": {
          "color": "rgb(217, 217, 217)",
          "opacity": 1
         },
         "showlegend": false,
         "text": "tensor(0.0731)",
         "type": "scatter",
         "x": [
          0,
          1
         ],
         "y": [
          3.159949779510498,
          0.4202691614627838
         ]
        },
        {
         "hoverinfo": "text",
         "hoveron": "fills",
         "hovertext": "tensor(0.0732)",
         "marker": {
          "color": "rgb(217, 217, 217)",
          "opacity": 1
         },
         "showlegend": false,
         "text": "tensor(0.0732)",
         "type": "scatter",
         "x": [
          0,
          1
         ],
         "y": [
          3.23360538482666,
          0.32427841424942017
         ]
        },
        {
         "hoverinfo": "text",
         "hoveron": "fills",
         "hovertext": "tensor(0.0739)",
         "marker": {
          "color": "rgb(217, 217, 217)",
          "opacity": 1
         },
         "showlegend": false,
         "text": "tensor(0.0739)",
         "type": "scatter",
         "x": [
          0,
          1
         ],
         "y": [
          3.058302164077759,
          0.46499326825141907
         ]
        },
        {
         "hoverinfo": "text",
         "hoveron": "fills",
         "hovertext": "tensor(0.0749)",
         "marker": {
          "color": "rgb(217, 217, 217)",
          "opacity": 1
         },
         "showlegend": false,
         "text": "tensor(0.0749)",
         "type": "scatter",
         "x": [
          0,
          1
         ],
         "y": [
          2.2932965755462646,
          0.6904761791229248
         ]
        },
        {
         "hoverinfo": "text",
         "hoveron": "fills",
         "hovertext": "tensor(0.0757)",
         "marker": {
          "color": "rgb(216, 216, 216)",
          "opacity": 1
         },
         "showlegend": false,
         "text": "tensor(0.0757)",
         "type": "scatter",
         "x": [
          0,
          1
         ],
         "y": [
          2.024095058441162,
          0.3042122423648834
         ]
        },
        {
         "hoverinfo": "text",
         "hoveron": "fills",
         "hovertext": "tensor(0.0760)",
         "marker": {
          "color": "rgb(216, 216, 216)",
          "opacity": 1
         },
         "showlegend": false,
         "text": "tensor(0.0760)",
         "type": "scatter",
         "x": [
          0,
          1
         ],
         "y": [
          3.3122904300689697,
          0.46499326825141907
         ]
        },
        {
         "hoverinfo": "text",
         "hoveron": "fills",
         "hovertext": "tensor(0.0764)",
         "marker": {
          "color": "rgb(216, 216, 216)",
          "opacity": 1
         },
         "showlegend": false,
         "text": "tensor(0.0764)",
         "type": "scatter",
         "x": [
          0,
          1
         ],
         "y": [
          2.323760986328125,
          0.3977718651294708
         ]
        },
        {
         "hoverinfo": "text",
         "hoveron": "fills",
         "hovertext": "tensor(0.0766)",
         "marker": {
          "color": "rgb(216, 216, 216)",
          "opacity": 1
         },
         "showlegend": false,
         "text": "tensor(0.0766)",
         "type": "scatter",
         "x": [
          0,
          1
         ],
         "y": [
          3.415273904800415,
          0.3989025950431824
         ]
        },
        {
         "hoverinfo": "text",
         "hoveron": "fills",
         "hovertext": "tensor(0.0771)",
         "marker": {
          "color": "rgb(216, 216, 216)",
          "opacity": 1
         },
         "showlegend": false,
         "text": "tensor(0.0771)",
         "type": "scatter",
         "x": [
          0,
          1
         ],
         "y": [
          3.3122904300689697,
          0.3720211088657379
         ]
        },
        {
         "hoverinfo": "text",
         "hoveron": "fills",
         "hovertext": "tensor(0.0783)",
         "marker": {
          "color": "rgb(216, 216, 216)",
          "opacity": 1
         },
         "showlegend": false,
         "text": "tensor(0.0783)",
         "type": "scatter",
         "x": [
          0,
          1
         ],
         "y": [
          3.404479503631592,
          0.5042160749435425
         ]
        },
        {
         "hoverinfo": "text",
         "hoveron": "fills",
         "hovertext": "tensor(0.0805)",
         "marker": {
          "color": "rgb(215, 215, 215)",
          "opacity": 1
         },
         "showlegend": false,
         "text": "tensor(0.0805)",
         "type": "scatter",
         "x": [
          0,
          1
         ],
         "y": [
          2.796233892440796,
          0.343168169260025
         ]
        },
        {
         "hoverinfo": "text",
         "hoveron": "fills",
         "hovertext": "tensor(0.0815)",
         "marker": {
          "color": "rgb(215, 215, 215)",
          "opacity": 1
         },
         "showlegend": false,
         "text": "tensor(0.0815)",
         "type": "scatter",
         "x": [
          0,
          1
         ],
         "y": [
          3.159949779510498,
          0.45438575744628906
         ]
        },
        {
         "hoverinfo": "text",
         "hoveron": "fills",
         "hovertext": "tensor(0.0826)",
         "marker": {
          "color": "rgb(214, 214, 214)",
          "opacity": 1
         },
         "showlegend": false,
         "text": "tensor(0.0826)",
         "type": "scatter",
         "x": [
          0,
          1
         ],
         "y": [
          2.4578988552093506,
          0.5612174868583679
         ]
        },
        {
         "hoverinfo": "text",
         "hoveron": "fills",
         "hovertext": "tensor(0.0832)",
         "marker": {
          "color": "rgb(214, 214, 214)",
          "opacity": 1
         },
         "showlegend": false,
         "text": "tensor(0.0832)",
         "type": "scatter",
         "x": [
          0,
          1
         ],
         "y": [
          3.415273904800415,
          0.626976490020752
         ]
        },
        {
         "hoverinfo": "text",
         "hoveron": "fills",
         "hovertext": "tensor(0.0841)",
         "marker": {
          "color": "rgb(214, 214, 214)",
          "opacity": 1
         },
         "showlegend": false,
         "text": "tensor(0.0841)",
         "type": "scatter",
         "x": [
          0,
          1
         ],
         "y": [
          2.2057909965515137,
          0.343168169260025
         ]
        },
        {
         "hoverinfo": "text",
         "hoveron": "fills",
         "hovertext": "tensor(0.0844)",
         "marker": {
          "color": "rgb(214, 214, 214)",
          "opacity": 1
         },
         "showlegend": false,
         "text": "tensor(0.0844)",
         "type": "scatter",
         "x": [
          0,
          1
         ],
         "y": [
          2.6714441776275635,
          0.32427841424942017
         ]
        },
        {
         "hoverinfo": "text",
         "hoveron": "fills",
         "hovertext": "tensor(0.0856)",
         "marker": {
          "color": "rgb(213, 213, 213)",
          "opacity": 1
         },
         "showlegend": false,
         "text": "tensor(0.0856)",
         "type": "scatter",
         "x": [
          0,
          1
         ],
         "y": [
          3.9885919094085693,
          0.5492258071899414
         ]
        },
        {
         "hoverinfo": "text",
         "hoveron": "fills",
         "hovertext": "tensor(0.0864)",
         "marker": {
          "color": "rgb(213, 213, 213)",
          "opacity": 1
         },
         "showlegend": false,
         "text": "tensor(0.0864)",
         "type": "scatter",
         "x": [
          0,
          1
         ],
         "y": [
          2.9346117973327637,
          0.3989025950431824
         ]
        },
        {
         "hoverinfo": "text",
         "hoveron": "fills",
         "hovertext": "tensor(0.0887)",
         "marker": {
          "color": "rgb(212, 212, 212)",
          "opacity": 1
         },
         "showlegend": false,
         "text": "tensor(0.0887)",
         "type": "scatter",
         "x": [
          0,
          1
         ],
         "y": [
          2.139887571334839,
          0.4202691614627838
         ]
        },
        {
         "hoverinfo": "text",
         "hoveron": "fills",
         "hovertext": "tensor(0.0912)",
         "marker": {
          "color": "rgb(211, 211, 211)",
          "opacity": 1
         },
         "showlegend": false,
         "text": "tensor(0.0912)",
         "type": "scatter",
         "x": [
          0,
          1
         ],
         "y": [
          2.882082462310791,
          0.3977718651294708
         ]
        },
        {
         "hoverinfo": "text",
         "hoveron": "fills",
         "hovertext": "tensor(0.0912)",
         "marker": {
          "color": "rgb(211, 211, 211)",
          "opacity": 1
         },
         "showlegend": false,
         "text": "tensor(0.0912)",
         "type": "scatter",
         "x": [
          0,
          1
         ],
         "y": [
          2.8289291858673096,
          0.42812344431877136
         ]
        },
        {
         "hoverinfo": "text",
         "hoveron": "fills",
         "hovertext": "tensor(0.0972)",
         "marker": {
          "color": "rgb(209, 209, 209)",
          "opacity": 1
         },
         "showlegend": false,
         "text": "tensor(0.0972)",
         "type": "scatter",
         "x": [
          0,
          1
         ],
         "y": [
          2.5752620697021484,
          0.3989025950431824
         ]
        },
        {
         "hoverinfo": "text",
         "hoveron": "fills",
         "hovertext": "tensor(0.0973)",
         "marker": {
          "color": "rgb(209, 209, 209)",
          "opacity": 1
         },
         "showlegend": false,
         "text": "tensor(0.0973)",
         "type": "scatter",
         "x": [
          0,
          1
         ],
         "y": [
          4.804696083068848,
          1.0267270803451538
         ]
        },
        {
         "hoverinfo": "text",
         "hoveron": "fills",
         "hovertext": "tensor(0.0974)",
         "marker": {
          "color": "rgb(209, 209, 209)",
          "opacity": 1
         },
         "showlegend": false,
         "text": "tensor(0.0974)",
         "type": "scatter",
         "x": [
          0,
          1
         ],
         "y": [
          2.7688844203948975,
          0.3977718651294708
         ]
        },
        {
         "hoverinfo": "text",
         "hoveron": "fills",
         "hovertext": "tensor(0.0979)",
         "marker": {
          "color": "rgb(209, 209, 209)",
          "opacity": 1
         },
         "showlegend": false,
         "text": "tensor(0.0979)",
         "type": "scatter",
         "x": [
          0,
          1
         ],
         "y": [
          3.404479503631592,
          0.3989025950431824
         ]
        },
        {
         "hoverinfo": "text",
         "hoveron": "fills",
         "hovertext": "tensor(0.0981)",
         "marker": {
          "color": "rgb(209, 209, 209)",
          "opacity": 1
         },
         "showlegend": false,
         "text": "tensor(0.0981)",
         "type": "scatter",
         "x": [
          0,
          1
         ],
         "y": [
          4.804696083068848,
          0.5492258071899414
         ]
        },
        {
         "hoverinfo": "text",
         "hoveron": "fills",
         "hovertext": "tensor(0.0991)",
         "marker": {
          "color": "rgb(209, 209, 209)",
          "opacity": 1
         },
         "showlegend": false,
         "text": "tensor(0.0991)",
         "type": "scatter",
         "x": [
          0,
          1
         ],
         "y": [
          0.8361209034919739,
          0.5612174868583679
         ]
        },
        {
         "hoverinfo": "text",
         "hoveron": "fills",
         "hovertext": "tensor(0.1026)",
         "marker": {
          "color": "rgb(207, 207, 207)",
          "opacity": 1
         },
         "showlegend": false,
         "text": "tensor(0.1026)",
         "type": "scatter",
         "x": [
          0,
          1
         ],
         "y": [
          4.804696083068848,
          0.5978738069534302
         ]
        },
        {
         "hoverinfo": "text",
         "hoveron": "fills",
         "hovertext": "tensor(0.1125)",
         "marker": {
          "color": "rgb(204, 204, 204)",
          "opacity": 1
         },
         "showlegend": false,
         "text": "tensor(0.1125)",
         "type": "scatter",
         "x": [
          0,
          1
         ],
         "y": [
          3.159949779510498,
          0.32427841424942017
         ]
        },
        {
         "hoverinfo": "text",
         "hoveron": "fills",
         "hovertext": "tensor(0.1153)",
         "marker": {
          "color": "rgb(203, 203, 203)",
          "opacity": 1
         },
         "showlegend": false,
         "text": "tensor(0.1153)",
         "type": "scatter",
         "x": [
          0,
          1
         ],
         "y": [
          2.796233892440796,
          0.46499326825141907
         ]
        },
        {
         "hoverinfo": "text",
         "hoveron": "fills",
         "hovertext": "tensor(0.1316)",
         "marker": {
          "color": "rgb(198, 198, 198)",
          "opacity": 1
         },
         "showlegend": false,
         "text": "tensor(0.1316)",
         "type": "scatter",
         "x": [
          0,
          1
         ],
         "y": [
          2.796233892440796,
          0.3977718651294708
         ]
        },
        {
         "hoverinfo": "text",
         "hoveron": "fills",
         "hovertext": "tensor(0.1320)",
         "marker": {
          "color": "rgb(197, 197, 197)",
          "opacity": 1
         },
         "showlegend": false,
         "text": "tensor(0.1320)",
         "type": "scatter",
         "x": [
          0,
          1
         ],
         "y": [
          3.647151470184326,
          0.42812344431877136
         ]
        },
        {
         "hoverinfo": "text",
         "hoveron": "fills",
         "hovertext": "tensor(0.1390)",
         "marker": {
          "color": "rgb(195, 195, 195)",
          "opacity": 1
         },
         "showlegend": false,
         "text": "tensor(0.1390)",
         "type": "scatter",
         "x": [
          0,
          1
         ],
         "y": [
          3.0429201126098633,
          0.3369946777820587
         ]
        },
        {
         "hoverinfo": "text",
         "hoveron": "fills",
         "hovertext": "tensor(0.1507)",
         "marker": {
          "color": "rgb(191, 191, 191)",
          "opacity": 1
         },
         "showlegend": false,
         "text": "tensor(0.1507)",
         "type": "scatter",
         "x": [
          0,
          1
         ],
         "y": [
          3.058302164077759,
          0.3369946777820587
         ]
        },
        {
         "hoverinfo": "text",
         "hoveron": "fills",
         "hovertext": "tensor(0.1509)",
         "marker": {
          "color": "rgb(191, 191, 191)",
          "opacity": 1
         },
         "showlegend": false,
         "text": "tensor(0.1509)",
         "type": "scatter",
         "x": [
          0,
          1
         ],
         "y": [
          3.0429201126098633,
          0.45438575744628906
         ]
        },
        {
         "hoverinfo": "text",
         "hoveron": "fills",
         "hovertext": "tensor(0.1601)",
         "marker": {
          "color": "rgb(188, 188, 188)",
          "opacity": 1
         },
         "showlegend": false,
         "text": "tensor(0.1601)",
         "type": "scatter",
         "x": [
          0,
          1
         ],
         "y": [
          3.7332119941711426,
          0.37859150767326355
         ]
        },
        {
         "hoverinfo": "text",
         "hoveron": "fills",
         "hovertext": "tensor(0.4078)",
         "marker": {
          "color": "rgb(105, 105, 105)",
          "opacity": 1
         },
         "showlegend": false,
         "text": "tensor(0.4078)",
         "type": "scatter",
         "x": [
          0,
          1
         ],
         "y": [
          0.6132833957672119,
          1.0267270803451538
         ]
        },
        {
         "hoverinfo": "text",
         "hoveron": "fills",
         "hovertext": "tensor(0.2838)",
         "marker": {
          "color": "rgb(168, 168, 168)",
          "opacity": 1
         },
         "showlegend": false,
         "text": "tensor(0.2838)",
         "type": "scatter",
         "x": [
          1,
          2
         ],
         "y": [
          0.3042122423648834,
          1.3244906663894653
         ]
        },
        {
         "hoverinfo": "text",
         "hoveron": "fills",
         "hovertext": "tensor(0.3062)",
         "marker": {
          "color": "rgb(115, 115, 115)",
          "opacity": 1
         },
         "showlegend": false,
         "text": "tensor(0.3062)",
         "type": "scatter",
         "x": [
          1,
          2
         ],
         "y": [
          1.0267270803451538,
          0.7068561911582947
         ]
        },
        {
         "hoverinfo": "text",
         "hoveron": "fills",
         "hovertext": "tensor(0.3109)",
         "marker": {
          "color": "rgb(105, 105, 105)",
          "opacity": 1
         },
         "showlegend": false,
         "text": "tensor(0.3109)",
         "type": "scatter",
         "x": [
          1,
          2
         ],
         "y": [
          1.0267270803451538,
          0.8459863662719727
         ]
        },
        {
         "hoverinfo": "text",
         "hoveron": "fills",
         "hovertext": "tensor(0.0519)",
         "marker": {
          "color": "rgb(224, 224, 224)",
          "opacity": 1
         },
         "showlegend": false,
         "text": "tensor(0.0519)",
         "type": "scatter",
         "x": [
          2,
          3
         ],
         "y": [
          1.2990845441818237,
          1.4524025917053223
         ]
        },
        {
         "hoverinfo": "text",
         "hoveron": "fills",
         "hovertext": "tensor(0.0524)",
         "marker": {
          "color": "rgb(224, 224, 224)",
          "opacity": 1
         },
         "showlegend": false,
         "text": "tensor(0.0524)",
         "type": "scatter",
         "x": [
          2,
          3
         ],
         "y": [
          1.0444220304489136,
          1.811625361442566
         ]
        },
        {
         "hoverinfo": "text",
         "hoveron": "fills",
         "hovertext": "tensor(0.0531)",
         "marker": {
          "color": "rgb(223, 223, 223)",
          "opacity": 1
         },
         "showlegend": false,
         "text": "tensor(0.0531)",
         "type": "scatter",
         "x": [
          2,
          3
         ],
         "y": [
          1.100414514541626,
          1.9768190383911133
         ]
        },
        {
         "hoverinfo": "text",
         "hoveron": "fills",
         "hovertext": "tensor(0.0533)",
         "marker": {
          "color": "rgb(223, 223, 223)",
          "opacity": 1
         },
         "showlegend": false,
         "text": "tensor(0.0533)",
         "type": "scatter",
         "x": [
          2,
          3
         ],
         "y": [
          1.2990845441818237,
          1.7006748914718628
         ]
        },
        {
         "hoverinfo": "text",
         "hoveron": "fills",
         "hovertext": "tensor(0.0540)",
         "marker": {
          "color": "rgb(222, 222, 222)",
          "opacity": 1
         },
         "showlegend": false,
         "text": "tensor(0.0540)",
         "type": "scatter",
         "x": [
          2,
          3
         ],
         "y": [
          1.3244906663894653,
          1.8328523635864258
         ]
        },
        {
         "hoverinfo": "text",
         "hoveron": "fills",
         "hovertext": "tensor(0.0543)",
         "marker": {
          "color": "rgb(221, 221, 221)",
          "opacity": 1
         },
         "showlegend": false,
         "text": "tensor(0.0543)",
         "type": "scatter",
         "x": [
          2,
          3
         ],
         "y": [
          1.2990845441818237,
          1.9047176837921143
         ]
        },
        {
         "hoverinfo": "text",
         "hoveron": "fills",
         "hovertext": "tensor(0.0546)",
         "marker": {
          "color": "rgb(221, 221, 221)",
          "opacity": 1
         },
         "showlegend": false,
         "text": "tensor(0.0546)",
         "type": "scatter",
         "x": [
          2,
          3
         ],
         "y": [
          1.100414514541626,
          1.4695656299591064
         ]
        },
        {
         "hoverinfo": "text",
         "hoveron": "fills",
         "hovertext": "tensor(0.0547)",
         "marker": {
          "color": "rgb(221, 221, 221)",
          "opacity": 1
         },
         "showlegend": false,
         "text": "tensor(0.0547)",
         "type": "scatter",
         "x": [
          2,
          3
         ],
         "y": [
          1.369702935218811,
          1.3788464069366455
         ]
        },
        {
         "hoverinfo": "text",
         "hoveron": "fills",
         "hovertext": "tensor(0.0547)",
         "marker": {
          "color": "rgb(221, 221, 221)",
          "opacity": 1
         },
         "showlegend": false,
         "text": "tensor(0.0547)",
         "type": "scatter",
         "x": [
          2,
          3
         ],
         "y": [
          1.7076104879379272,
          2.2129838466644287
         ]
        },
        {
         "hoverinfo": "text",
         "hoveron": "fills",
         "hovertext": "tensor(0.0549)",
         "marker": {
          "color": "rgb(221, 221, 221)",
          "opacity": 1
         },
         "showlegend": false,
         "text": "tensor(0.0549)",
         "type": "scatter",
         "x": [
          2,
          3
         ],
         "y": [
          0.8459863662719727,
          3.07024884223938
         ]
        },
        {
         "hoverinfo": "text",
         "hoveron": "fills",
         "hovertext": "tensor(0.0553)",
         "marker": {
          "color": "rgb(220, 220, 220)",
          "opacity": 1
         },
         "showlegend": false,
         "text": "tensor(0.0553)",
         "type": "scatter",
         "x": [
          2,
          3
         ],
         "y": [
          1.3244906663894653,
          1.4967232942581177
         ]
        },
        {
         "hoverinfo": "text",
         "hoveron": "fills",
         "hovertext": "tensor(0.0555)",
         "marker": {
          "color": "rgb(220, 220, 220)",
          "opacity": 1
         },
         "showlegend": false,
         "text": "tensor(0.0555)",
         "type": "scatter",
         "x": [
          2,
          3
         ],
         "y": [
          1.369702935218811,
          0.30333060026168823
         ]
        },
        {
         "hoverinfo": "text",
         "hoveron": "fills",
         "hovertext": "tensor(0.0556)",
         "marker": {
          "color": "rgb(220, 220, 220)",
          "opacity": 1
         },
         "showlegend": false,
         "text": "tensor(0.0556)",
         "type": "scatter",
         "x": [
          2,
          3
         ],
         "y": [
          0.931535005569458,
          4.318966865539551
         ]
        },
        {
         "hoverinfo": "text",
         "hoveron": "fills",
         "hovertext": "tensor(0.0558)",
         "marker": {
          "color": "rgb(219, 219, 219)",
          "opacity": 1
         },
         "showlegend": false,
         "text": "tensor(0.0558)",
         "type": "scatter",
         "x": [
          2,
          3
         ],
         "y": [
          1.4741110801696777,
          1.6125266551971436
         ]
        },
        {
         "hoverinfo": "text",
         "hoveron": "fills",
         "hovertext": "tensor(0.0559)",
         "marker": {
          "color": "rgb(219, 219, 219)",
          "opacity": 1
         },
         "showlegend": false,
         "text": "tensor(0.0559)",
         "type": "scatter",
         "x": [
          2,
          3
         ],
         "y": [
          0.9749743342399597,
          1.9768190383911133
         ]
        },
        {
         "hoverinfo": "text",
         "hoveron": "fills",
         "hovertext": "tensor(0.0566)",
         "marker": {
          "color": "rgb(219, 219, 219)",
          "opacity": 1
         },
         "showlegend": false,
         "text": "tensor(0.0566)",
         "type": "scatter",
         "x": [
          2,
          3
         ],
         "y": [
          1.3244906663894653,
          2.2639379501342773
         ]
        },
        {
         "hoverinfo": "text",
         "hoveron": "fills",
         "hovertext": "tensor(0.0573)",
         "marker": {
          "color": "rgb(218, 218, 218)",
          "opacity": 1
         },
         "showlegend": false,
         "text": "tensor(0.0573)",
         "type": "scatter",
         "x": [
          2,
          3
         ],
         "y": [
          1.4741110801696777,
          2.149627447128296
         ]
        },
        {
         "hoverinfo": "text",
         "hoveron": "fills",
         "hovertext": "tensor(0.0578)",
         "marker": {
          "color": "rgb(217, 217, 217)",
          "opacity": 1
         },
         "showlegend": false,
         "text": "tensor(0.0578)",
         "type": "scatter",
         "x": [
          2,
          3
         ],
         "y": [
          1.2851179838180542,
          0.906166672706604
         ]
        },
        {
         "hoverinfo": "text",
         "hoveron": "fills",
         "hovertext": "tensor(0.0580)",
         "marker": {
          "color": "rgb(217, 217, 217)",
          "opacity": 1
         },
         "showlegend": false,
         "text": "tensor(0.0580)",
         "type": "scatter",
         "x": [
          2,
          3
         ],
         "y": [
          1.3244906663894653,
          2.6290619373321533
         ]
        },
        {
         "hoverinfo": "text",
         "hoveron": "fills",
         "hovertext": "tensor(0.0581)",
         "marker": {
          "color": "rgb(217, 217, 217)",
          "opacity": 1
         },
         "showlegend": false,
         "text": "tensor(0.0581)",
         "type": "scatter",
         "x": [
          2,
          3
         ],
         "y": [
          1.4536851644515991,
          0.9320855736732483
         ]
        },
        {
         "hoverinfo": "text",
         "hoveron": "fills",
         "hovertext": "tensor(0.0581)",
         "marker": {
          "color": "rgb(217, 217, 217)",
          "opacity": 1
         },
         "showlegend": false,
         "text": "tensor(0.0581)",
         "type": "scatter",
         "x": [
          2,
          3
         ],
         "y": [
          1.169908046722412,
          2.4459035396575928
         ]
        },
        {
         "hoverinfo": "text",
         "hoveron": "fills",
         "hovertext": "tensor(0.0583)",
         "marker": {
          "color": "rgb(216, 216, 216)",
          "opacity": 1
         },
         "showlegend": false,
         "text": "tensor(0.0583)",
         "type": "scatter",
         "x": [
          2,
          3
         ],
         "y": [
          0.8459863662719727,
          2.2059059143066406
         ]
        },
        {
         "hoverinfo": "text",
         "hoveron": "fills",
         "hovertext": "tensor(0.0598)",
         "marker": {
          "color": "rgb(214, 214, 214)",
          "opacity": 1
         },
         "showlegend": false,
         "text": "tensor(0.0598)",
         "type": "scatter",
         "x": [
          2,
          3
         ],
         "y": [
          1.4536851644515991,
          1.6614478826522827
         ]
        },
        {
         "hoverinfo": "text",
         "hoveron": "fills",
         "hovertext": "tensor(0.0603)",
         "marker": {
          "color": "rgb(214, 214, 214)",
          "opacity": 1
         },
         "showlegend": false,
         "text": "tensor(0.0603)",
         "type": "scatter",
         "x": [
          2,
          3
         ],
         "y": [
          1.3244906663894653,
          2.2129838466644287
         ]
        },
        {
         "hoverinfo": "text",
         "hoveron": "fills",
         "hovertext": "tensor(0.0609)",
         "marker": {
          "color": "rgb(213, 213, 213)",
          "opacity": 1
         },
         "showlegend": false,
         "text": "tensor(0.0609)",
         "type": "scatter",
         "x": [
          2,
          3
         ],
         "y": [
          0.931535005569458,
          0.5910821557044983
         ]
        },
        {
         "hoverinfo": "text",
         "hoveron": "fills",
         "hovertext": "tensor(0.0618)",
         "marker": {
          "color": "rgb(212, 212, 212)",
          "opacity": 1
         },
         "showlegend": false,
         "text": "tensor(0.0618)",
         "type": "scatter",
         "x": [
          2,
          3
         ],
         "y": [
          0.931535005569458,
          3.983774423599243
         ]
        },
        {
         "hoverinfo": "text",
         "hoveron": "fills",
         "hovertext": "tensor(0.0630)",
         "marker": {
          "color": "rgb(210, 210, 210)",
          "opacity": 1
         },
         "showlegend": false,
         "text": "tensor(0.0630)",
         "type": "scatter",
         "x": [
          2,
          3
         ],
         "y": [
          1.2139644622802734,
          2.1376633644104004
         ]
        },
        {
         "hoverinfo": "text",
         "hoveron": "fills",
         "hovertext": "tensor(0.0637)",
         "marker": {
          "color": "rgb(209, 209, 209)",
          "opacity": 1
         },
         "showlegend": false,
         "text": "tensor(0.0637)",
         "type": "scatter",
         "x": [
          2,
          3
         ],
         "y": [
          1.2990845441818237,
          2.019932985305786
         ]
        },
        {
         "hoverinfo": "text",
         "hoveron": "fills",
         "hovertext": "tensor(0.0640)",
         "marker": {
          "color": "rgb(209, 209, 209)",
          "opacity": 1
         },
         "showlegend": false,
         "text": "tensor(0.0640)",
         "type": "scatter",
         "x": [
          2,
          3
         ],
         "y": [
          1.369702935218811,
          1.6058075428009033
         ]
        },
        {
         "hoverinfo": "text",
         "hoveron": "fills",
         "hovertext": "tensor(0.0662)",
         "marker": {
          "color": "rgb(206, 206, 206)",
          "opacity": 1
         },
         "showlegend": false,
         "text": "tensor(0.0662)",
         "type": "scatter",
         "x": [
          2,
          3
         ],
         "y": [
          1.3244906663894653,
          1.349476933479309
         ]
        },
        {
         "hoverinfo": "text",
         "hoveron": "fills",
         "hovertext": "tensor(0.0672)",
         "marker": {
          "color": "rgb(205, 205, 205)",
          "opacity": 1
         },
         "showlegend": false,
         "text": "tensor(0.0672)",
         "type": "scatter",
         "x": [
          2,
          3
         ],
         "y": [
          1.169908046722412,
          1.2876253128051758
         ]
        },
        {
         "hoverinfo": "text",
         "hoveron": "fills",
         "hovertext": "tensor(0.0684)",
         "marker": {
          "color": "rgb(204, 204, 204)",
          "opacity": 1
         },
         "showlegend": false,
         "text": "tensor(0.0684)",
         "type": "scatter",
         "x": [
          2,
          3
         ],
         "y": [
          1.4741110801696777,
          1.78946053981781
         ]
        },
        {
         "hoverinfo": "text",
         "hoveron": "fills",
         "hovertext": "tensor(0.0697)",
         "marker": {
          "color": "rgb(202, 202, 202)",
          "opacity": 1
         },
         "showlegend": false,
         "text": "tensor(0.0697)",
         "type": "scatter",
         "x": [
          2,
          3
         ],
         "y": [
          1.1989957094192505,
          2.019932985305786
         ]
        },
        {
         "hoverinfo": "text",
         "hoveron": "fills",
         "hovertext": "tensor(0.0697)",
         "marker": {
          "color": "rgb(202, 202, 202)",
          "opacity": 1
         },
         "showlegend": false,
         "text": "tensor(0.0697)",
         "type": "scatter",
         "x": [
          2,
          3
         ],
         "y": [
          1.7076104879379272,
          2.3143086433410645
         ]
        },
        {
         "hoverinfo": "text",
         "hoveron": "fills",
         "hovertext": "tensor(0.0699)",
         "marker": {
          "color": "rgb(202, 202, 202)",
          "opacity": 1
         },
         "showlegend": false,
         "text": "tensor(0.0699)",
         "type": "scatter",
         "x": [
          2,
          3
         ],
         "y": [
          1.0444220304489136,
          2.2639379501342773
         ]
        },
        {
         "hoverinfo": "text",
         "hoveron": "fills",
         "hovertext": "tensor(0.0701)",
         "marker": {
          "color": "rgb(201, 201, 201)",
          "opacity": 1
         },
         "showlegend": false,
         "text": "tensor(0.0701)",
         "type": "scatter",
         "x": [
          2,
          3
         ],
         "y": [
          1.2990845441818237,
          1.4967232942581177
         ]
        },
        {
         "hoverinfo": "text",
         "hoveron": "fills",
         "hovertext": "tensor(0.0717)",
         "marker": {
          "color": "rgb(199, 199, 199)",
          "opacity": 1
         },
         "showlegend": false,
         "text": "tensor(0.0717)",
         "type": "scatter",
         "x": [
          2,
          3
         ],
         "y": [
          0.7068561911582947,
          1.6125266551971436
         ]
        },
        {
         "hoverinfo": "text",
         "hoveron": "fills",
         "hovertext": "tensor(0.0731)",
         "marker": {
          "color": "rgb(198, 198, 198)",
          "opacity": 1
         },
         "showlegend": false,
         "text": "tensor(0.0731)",
         "type": "scatter",
         "x": [
          2,
          3
         ],
         "y": [
          1.100414514541626,
          1.8588289022445679
         ]
        },
        {
         "hoverinfo": "text",
         "hoveron": "fills",
         "hovertext": "tensor(0.0738)",
         "marker": {
          "color": "rgb(197, 197, 197)",
          "opacity": 1
         },
         "showlegend": false,
         "text": "tensor(0.0738)",
         "type": "scatter",
         "x": [
          2,
          3
         ],
         "y": [
          1.5580251216888428,
          1.1778103113174438
         ]
        },
        {
         "hoverinfo": "text",
         "hoveron": "fills",
         "hovertext": "tensor(0.0778)",
         "marker": {
          "color": "rgb(192, 192, 192)",
          "opacity": 1
         },
         "showlegend": false,
         "text": "tensor(0.0778)",
         "type": "scatter",
         "x": [
          2,
          3
         ],
         "y": [
          1.4113447666168213,
          0.6606476902961731
         ]
        },
        {
         "hoverinfo": "text",
         "hoveron": "fills",
         "hovertext": "tensor(0.0781)",
         "marker": {
          "color": "rgb(191, 191, 191)",
          "opacity": 1
         },
         "showlegend": false,
         "text": "tensor(0.0781)",
         "type": "scatter",
         "x": [
          2,
          3
         ],
         "y": [
          1.4113447666168213,
          0.40976613759994507
         ]
        },
        {
         "hoverinfo": "text",
         "hoveron": "fills",
         "hovertext": "tensor(0.0785)",
         "marker": {
          "color": "rgb(191, 191, 191)",
          "opacity": 1
         },
         "showlegend": false,
         "text": "tensor(0.0785)",
         "type": "scatter",
         "x": [
          2,
          3
         ],
         "y": [
          1.4113447666168213,
          1.4695656299591064
         ]
        },
        {
         "hoverinfo": "text",
         "hoveron": "fills",
         "hovertext": "tensor(0.0825)",
         "marker": {
          "color": "rgb(186, 186, 186)",
          "opacity": 1
         },
         "showlegend": false,
         "text": "tensor(0.0825)",
         "type": "scatter",
         "x": [
          2,
          3
         ],
         "y": [
          1.100414514541626,
          2.2059059143066406
         ]
        },
        {
         "hoverinfo": "text",
         "hoveron": "fills",
         "hovertext": "tensor(0.0838)",
         "marker": {
          "color": "rgb(184, 184, 184)",
          "opacity": 1
         },
         "showlegend": false,
         "text": "tensor(0.0838)",
         "type": "scatter",
         "x": [
          2,
          3
         ],
         "y": [
          1.4536851644515991,
          1.8588289022445679
         ]
        },
        {
         "hoverinfo": "text",
         "hoveron": "fills",
         "hovertext": "tensor(0.0844)",
         "marker": {
          "color": "rgb(183, 183, 183)",
          "opacity": 1
         },
         "showlegend": false,
         "text": "tensor(0.0844)",
         "type": "scatter",
         "x": [
          2,
          3
         ],
         "y": [
          1.7076104879379272,
          1.4967232942581177
         ]
        },
        {
         "hoverinfo": "text",
         "hoveron": "fills",
         "hovertext": "tensor(0.0869)",
         "marker": {
          "color": "rgb(180, 180, 180)",
          "opacity": 1
         },
         "showlegend": false,
         "text": "tensor(0.0869)",
         "type": "scatter",
         "x": [
          2,
          3
         ],
         "y": [
          1.6701821088790894,
          0.16390176117420197
         ]
        },
        {
         "hoverinfo": "text",
         "hoveron": "fills",
         "hovertext": "tensor(0.0879)",
         "marker": {
          "color": "rgb(179, 179, 179)",
          "opacity": 1
         },
         "showlegend": false,
         "text": "tensor(0.0879)",
         "type": "scatter",
         "x": [
          2,
          3
         ],
         "y": [
          0.7068561911582947,
          1.6614478826522827
         ]
        },
        {
         "hoverinfo": "text",
         "hoveron": "fills",
         "hovertext": "tensor(0.0917)",
         "marker": {
          "color": "rgb(174, 174, 174)",
          "opacity": 1
         },
         "showlegend": false,
         "text": "tensor(0.0917)",
         "type": "scatter",
         "x": [
          2,
          3
         ],
         "y": [
          1.4113447666168213,
          1.9227077960968018
         ]
        },
        {
         "hoverinfo": "text",
         "hoveron": "fills",
         "hovertext": "tensor(0.0937)",
         "marker": {
          "color": "rgb(171, 171, 171)",
          "opacity": 1
         },
         "showlegend": false,
         "text": "tensor(0.0937)",
         "type": "scatter",
         "x": [
          2,
          3
         ],
         "y": [
          1.2851179838180542,
          1.8328523635864258
         ]
        },
        {
         "hoverinfo": "text",
         "hoveron": "fills",
         "hovertext": "tensor(0.0959)",
         "marker": {
          "color": "rgb(169, 169, 169)",
          "opacity": 1
         },
         "showlegend": false,
         "text": "tensor(0.0959)",
         "type": "scatter",
         "x": [
          2,
          3
         ],
         "y": [
          1.5580251216888428,
          1.9047176837921143
         ]
        },
        {
         "hoverinfo": "text",
         "hoveron": "fills",
         "hovertext": "tensor(0.0982)",
         "marker": {
          "color": "rgb(166, 166, 166)",
          "opacity": 1
         },
         "showlegend": false,
         "text": "tensor(0.0982)",
         "type": "scatter",
         "x": [
          2,
          3
         ],
         "y": [
          1.169908046722412,
          2.715660333633423
         ]
        },
        {
         "hoverinfo": "text",
         "hoveron": "fills",
         "hovertext": "tensor(0.0983)",
         "marker": {
          "color": "rgb(166, 166, 166)",
          "opacity": 1
         },
         "showlegend": false,
         "text": "tensor(0.0983)",
         "type": "scatter",
         "x": [
          2,
          3
         ],
         "y": [
          1.5199308395385742,
          1.1281819343566895
         ]
        },
        {
         "hoverinfo": "text",
         "hoveron": "fills",
         "hovertext": "tensor(0.0984)",
         "marker": {
          "color": "rgb(166, 166, 166)",
          "opacity": 1
         },
         "showlegend": false,
         "text": "tensor(0.0984)",
         "type": "scatter",
         "x": [
          2,
          3
         ],
         "y": [
          1.6701821088790894,
          2.0577101707458496
         ]
        },
        {
         "hoverinfo": "text",
         "hoveron": "fills",
         "hovertext": "tensor(0.0993)",
         "marker": {
          "color": "rgb(164, 164, 164)",
          "opacity": 1
         },
         "showlegend": false,
         "text": "tensor(0.0993)",
         "type": "scatter",
         "x": [
          2,
          3
         ],
         "y": [
          0.7068561911582947,
          1.4695656299591064
         ]
        },
        {
         "hoverinfo": "text",
         "hoveron": "fills",
         "hovertext": "tensor(0.1016)",
         "marker": {
          "color": "rgb(162, 162, 162)",
          "opacity": 1
         },
         "showlegend": false,
         "text": "tensor(0.1016)",
         "type": "scatter",
         "x": [
          2,
          3
         ],
         "y": [
          1.5580251216888428,
          1.8328523635864258
         ]
        },
        {
         "hoverinfo": "text",
         "hoveron": "fills",
         "hovertext": "tensor(0.1033)",
         "marker": {
          "color": "rgb(159, 159, 159)",
          "opacity": 1
         },
         "showlegend": false,
         "text": "tensor(0.1033)",
         "type": "scatter",
         "x": [
          2,
          3
         ],
         "y": [
          1.2139644622802734,
          2.4663312435150146
         ]
        },
        {
         "hoverinfo": "text",
         "hoveron": "fills",
         "hovertext": "tensor(0.1323)",
         "marker": {
          "color": "rgb(123, 123, 123)",
          "opacity": 1
         },
         "showlegend": false,
         "text": "tensor(0.1323)",
         "type": "scatter",
         "x": [
          2,
          3
         ],
         "y": [
          1.3244906663894653,
          1.8588289022445679
         ]
        },
        {
         "hoverinfo": "text",
         "hoveron": "fills",
         "hovertext": "tensor(0.1466)",
         "marker": {
          "color": "rgb(105, 105, 105)",
          "opacity": 1
         },
         "showlegend": false,
         "text": "tensor(0.1466)",
         "type": "scatter",
         "x": [
          2,
          3
         ],
         "y": [
          1.6701821088790894,
          0.27540603280067444
         ]
        },
        {
         "marker": {
          "cmax": 1,
          "cmin": 0,
          "color": [
           1,
           0.07760842889547348,
           0.025043120607733727,
           0.20883691310882568,
           0.34239810705184937,
           0.04716543108224869,
           0,
           0.05453077331185341,
           0.048800572752952576,
           0,
           0.030703825876116753,
           0,
           0.076909638941288,
           0,
           0,
           0.05528309568762779,
           0,
           0,
           0,
           0,
           0,
           0,
           0,
           0.03164433687925339,
           0,
           0.002994783688336611,
           0,
           0.017540013417601585,
           0.007521188352257013,
           0,
           0,
           0,
           0,
           0,
           0,
           0,
           0.026926757767796516,
           0,
           0.04627135396003723,
           0.04117162898182869,
           0,
           0.0586252324283123,
           0.025359725579619408,
           0.010214550420641899,
           0,
           0,
           0,
           0,
           0.03788233920931816,
           0.2815952003002167,
           0,
           0.003639096161350608,
           0.02990022674202919,
           0.060500193387269974,
           0.02411315217614174,
           0.1200581043958664,
           0,
           0,
           0.0021590462420135736,
           0,
           0.26316195726394653,
           0.22453132271766663,
           0,
           0.09944407641887665,
           0.033382855355739594,
           0.07916606962680817,
           0.16487286984920502,
           0.008345880545675755,
           0.0085366889834404,
           0.2730948030948639,
           0.2006918340921402,
           0.027315324172377586,
           0.3543635904788971,
           0.0026562726125121117,
           0.10681845992803574,
           0.18041197955608368,
           0.57216477394104,
           0.304801881313324,
           0,
           0.6390243768692017,
           0.13681308925151825,
           0.6036184430122375,
           0.7400956749916077,
           0.3635205328464508,
           0.41796064376831055,
           0.1366066187620163,
           0.19645147025585175,
           0.4901059567928314,
           0.42138805985450745,
           0.3109154999256134,
           0.5701295137405396,
           0.5666968822479248,
           0.493683785200119,
           0.5281986594200134,
           0.6537079811096191,
           0.7961856722831726,
           0.6684107184410095,
           0.48293057084083557,
           0.5938119292259216,
           0.8072624802589417
          ],
          "colorscale": [
           [
            0,
            "grey"
           ],
           [
            1,
            "blue"
           ]
          ],
          "opacity": 1
         },
         "mode": "markers",
         "showlegend": false,
         "type": "scatter",
         "x": [
          0,
          0,
          0,
          0,
          0,
          0,
          0,
          0,
          0,
          0,
          0,
          0,
          0,
          0,
          0,
          0,
          0,
          0,
          0,
          0,
          0,
          0,
          0,
          0,
          0,
          0,
          0,
          0,
          0,
          0,
          0,
          0,
          0,
          0,
          0,
          0,
          0,
          0,
          0,
          0,
          0,
          0,
          0,
          0,
          0,
          0,
          0,
          0,
          0,
          0,
          0,
          0,
          0,
          0,
          0,
          0,
          0,
          0,
          0,
          0,
          0,
          0,
          0,
          0,
          0,
          0,
          0,
          0,
          0,
          0,
          0,
          0,
          0,
          0,
          0,
          0,
          0,
          0,
          0,
          0,
          0,
          0,
          0,
          0,
          0,
          0,
          0,
          0,
          0,
          0,
          0,
          0,
          0,
          0,
          0,
          0,
          0,
          0,
          0,
          0
         ],
         "y": [
          0.6132833957672119,
          0.7531019449234009,
          0.7792544960975647,
          0.7942330837249756,
          0.8361209034919739,
          0.8726426959037781,
          0.8796297311782837,
          0.9011120200157166,
          0.9209587574005127,
          0.9467439651489258,
          0.9545454382896423,
          0.9800134897232056,
          0.9866744875907898,
          1.0099848508834839,
          1.022818684577942,
          1.0488061904907227,
          1.0513912439346313,
          1.0748884677886963,
          1.0924044847488403,
          1.1211161613464355,
          1.133892297744751,
          1.160874843597412,
          1.1680318117141724,
          1.2034268379211426,
          1.2100577354431152,
          1.2424236536026,
          1.2515771389007568,
          1.2840697765350342,
          1.314836859703064,
          1.3320003747940063,
          1.3432039022445679,
          1.3516970872879028,
          1.3881596326828003,
          1.3961933851242065,
          1.4510583877563477,
          1.4538602828979492,
          1.4938699007034302,
          1.508805513381958,
          1.528975009918213,
          1.5974777936935425,
          1.6007007360458374,
          1.6217454671859741,
          1.6491457223892212,
          1.6618403196334839,
          1.7006525993347168,
          1.7264095544815063,
          1.7392631769180298,
          1.756422758102417,
          1.788145899772644,
          1.8193022012710571,
          1.846677541732788,
          1.852670431137085,
          1.8619521856307983,
          1.9215589761734009,
          1.936113715171814,
          1.9828819036483765,
          2.015448570251465,
          2.024095058441162,
          2.0441107749938965,
          2.0519540309906006,
          2.126610279083252,
          2.139887571334839,
          2.1503822803497314,
          2.2057909965515137,
          2.2270431518554688,
          2.2569262981414795,
          2.2932965755462646,
          2.3122222423553467,
          2.323760986328125,
          2.361077308654785,
          2.392364025115967,
          2.425569534301758,
          2.4578988552093506,
          2.485501527786255,
          2.5078911781311035,
          2.5596470832824707,
          2.5752620697021484,
          2.5931129455566406,
          2.639782190322876,
          2.6714441776275635,
          2.704345464706421,
          2.7688844203948975,
          2.796233892440796,
          2.8289291858673096,
          2.882082462310791,
          2.9267921447753906,
          2.9346117973327637,
          3.0429201126098633,
          3.058302164077759,
          3.0732574462890625,
          3.159949779510498,
          3.23360538482666,
          3.2907259464263916,
          3.3122904300689697,
          3.404479503631592,
          3.415273904800415,
          3.647151470184326,
          3.7332119941711426,
          3.9885919094085693,
          4.804696083068848
         ]
        },
        {
         "marker": {
          "cmax": 1,
          "cmin": 0,
          "color": [
           0.48349514603614807,
           0.7917417287826538,
           0.9776451587677002,
           0.4997141659259796,
           0.9477508068084717,
           1,
           0.2542944550514221,
           0.4572238028049469,
           0.35982945561408997,
           0.6663968563079834,
           0.5339017510414124,
           0.8591054081916809,
           0.6807882785797119,
           0.27764201164245605,
           0.6047382950782776,
           0.5026720762252808,
           0.2939315736293793,
           0.08152615278959274,
           0.08317243307828903,
           1.6478819816256873e-05
          ],
          "colorscale": [
           [
            0,
            "grey"
           ],
           [
            1,
            "blue"
           ]
          ],
          "opacity": 1
         },
         "mode": "markers",
         "showlegend": false,
         "type": "scatter",
         "x": [
          1,
          1,
          1,
          1,
          1,
          1,
          1,
          1,
          1,
          1,
          1,
          1,
          1,
          1,
          1,
          1,
          1,
          1,
          1,
          1
         ],
         "y": [
          0.3042122423648834,
          0.32427841424942017,
          0.3369946777820587,
          0.343168169260025,
          0.3720211088657379,
          0.37859150767326355,
          0.3977718651294708,
          0.3989025950431824,
          0.4202691614627838,
          0.42812344431877136,
          0.45438575744628906,
          0.46499326825141907,
          0.49586597084999084,
          0.5042160749435425,
          0.5492258071899414,
          0.5612174868583679,
          0.5978738069534302,
          0.626976490020752,
          0.6904761791229248,
          1.0267270803451538
         ]
        },
        {
         "marker": {
          "cmax": 1,
          "cmin": 0,
          "color": [
           1,
           0.4590040445327759,
           0.6121881604194641,
           0.1872006505727768,
           0.6942005157470703,
           0.7404605746269226,
           0.5519761443138123,
           0.2317168414592743,
           0.3510681092739105,
           0.4562877118587494,
           0.33574339747428894,
           0.722624659538269,
           0.1039985790848732,
           0.10497314482927322,
           0.5493122935295105,
           0.22425925731658936,
           0.05816120281815529,
           0.09465835988521576,
           0.00011238512524869293,
           0.2018376588821411
          ],
          "colorscale": [
           [
            0,
            "grey"
           ],
           [
            1,
            "blue"
           ]
          ],
          "opacity": 1
         },
         "mode": "markers",
         "showlegend": false,
         "type": "scatter",
         "x": [
          2,
          2,
          2,
          2,
          2,
          2,
          2,
          2,
          2,
          2,
          2,
          2,
          2,
          2,
          2,
          2,
          2,
          2,
          2,
          2
         ],
         "y": [
          0.7068561911582947,
          0.8459863662719727,
          0.931535005569458,
          0.9749743342399597,
          1.0444220304489136,
          1.100414514541626,
          1.169908046722412,
          1.1989957094192505,
          1.2139644622802734,
          1.2851179838180542,
          1.2990845441818237,
          1.3244906663894653,
          1.369702935218811,
          1.4113447666168213,
          1.4536851644515991,
          1.4741110801696777,
          1.5199308395385742,
          1.5580251216888428,
          1.6701821088790894,
          1.7076104879379272
         ]
        },
        {
         "marker": {
          "cmax": 1,
          "cmin": 0,
          "color": [
           1,
           1,
           1,
           1,
           1,
           1,
           1,
           1,
           1,
           1,
           1,
           1,
           1,
           1,
           1,
           1,
           1,
           1,
           1,
           1,
           1,
           1,
           1,
           1,
           1,
           1,
           1,
           1,
           1,
           1,
           1,
           1,
           1,
           1,
           1,
           1,
           1,
           1,
           1,
           1,
           1,
           1,
           1,
           1,
           1,
           1,
           1,
           1,
           1,
           1,
           1,
           1,
           1,
           1,
           1,
           1,
           1,
           1,
           1,
           1,
           1,
           1,
           1,
           1,
           1,
           1,
           1,
           1,
           1,
           1,
           1,
           1,
           1,
           1,
           1,
           1,
           1,
           1,
           1,
           1,
           1,
           1,
           1,
           1,
           1,
           1,
           1,
           1,
           1,
           1,
           1,
           1,
           1,
           1,
           1,
           1,
           1,
           1,
           1,
           1
          ],
          "colorscale": [
           [
            0,
            "grey"
           ],
           [
            1,
            "blue"
           ]
          ],
          "opacity": 1
         },
         "mode": "markers",
         "showlegend": false,
         "type": "scatter",
         "x": [
          3,
          3,
          3,
          3,
          3,
          3,
          3,
          3,
          3,
          3,
          3,
          3,
          3,
          3,
          3,
          3,
          3,
          3,
          3,
          3,
          3,
          3,
          3,
          3,
          3,
          3,
          3,
          3,
          3,
          3,
          3,
          3,
          3,
          3,
          3,
          3,
          3,
          3,
          3,
          3,
          3,
          3,
          3,
          3,
          3,
          3,
          3,
          3,
          3,
          3,
          3,
          3,
          3,
          3,
          3,
          3,
          3,
          3,
          3,
          3,
          3,
          3,
          3,
          3,
          3,
          3,
          3,
          3,
          3,
          3,
          3,
          3,
          3,
          3,
          3,
          3,
          3,
          3,
          3,
          3,
          3,
          3,
          3,
          3,
          3,
          3,
          3,
          3,
          3,
          3,
          3,
          3,
          3,
          3,
          3,
          3,
          3,
          3,
          3,
          3
         ],
         "y": [
          0.16390176117420197,
          0.27540603280067444,
          0.30333060026168823,
          0.3361114263534546,
          0.3797321617603302,
          0.40976613759994507,
          0.4344148337841034,
          0.4687801003456116,
          0.4783191680908203,
          0.4896848499774933,
          0.5483348965644836,
          0.5782589316368103,
          0.5910821557044983,
          0.6164600253105164,
          0.6606476902961731,
          0.6846404075622559,
          0.71257483959198,
          0.7366378307342529,
          0.7390692234039307,
          0.8142604231834412,
          0.8182922601699829,
          0.8824418783187866,
          0.906166672706604,
          0.9320855736732483,
          0.9806090593338013,
          1.0552258491516113,
          1.066525936126709,
          1.1281819343566895,
          1.1657606363296509,
          1.1778103113174438,
          1.2516722679138184,
          1.2876253128051758,
          1.3369630575180054,
          1.349476933479309,
          1.3788464069366455,
          1.4524025917053223,
          1.4695656299591064,
          1.4967232942581177,
          1.5352438688278198,
          1.5445832014083862,
          1.5829403400421143,
          1.6058075428009033,
          1.6125266551971436,
          1.6567156314849854,
          1.6614478826522827,
          1.7006748914718628,
          1.78946053981781,
          1.811625361442566,
          1.8328523635864258,
          1.8588289022445679,
          1.9047176837921143,
          1.9227077960968018,
          1.9768190383911133,
          2.019932985305786,
          2.0577101707458496,
          2.1376633644104004,
          2.149627447128296,
          2.2059059143066406,
          2.2129838466644287,
          2.2639379501342773,
          2.3143086433410645,
          2.3331425189971924,
          2.4459035396575928,
          2.4663312435150146,
          2.4752981662750244,
          2.50468111038208,
          2.5701990127563477,
          2.6290619373321533,
          2.6651079654693604,
          2.715660333633423,
          2.7747862339019775,
          2.7989161014556885,
          2.8279807567596436,
          2.843845844268799,
          2.9564461708068848,
          2.979180335998535,
          3.0298357009887695,
          3.07024884223938,
          3.1060519218444824,
          3.18759822845459,
          3.252592086791992,
          3.3069002628326416,
          3.313072919845581,
          3.37825345993042,
          3.4150495529174805,
          3.475457191467285,
          3.5638864040374756,
          3.6479380130767822,
          3.7101199626922607,
          3.7336509227752686,
          3.841622829437256,
          3.983774423599243,
          4.010087966918945,
          4.116659164428711,
          4.162781238555908,
          4.318966865539551,
          4.435929775238037,
          4.46183967590332,
          4.63397741317749,
          4.731869220733643
         ]
        }
       ],
       "layout": {
        "template": {
         "data": {
          "bar": [
           {
            "error_x": {
             "color": "#2a3f5f"
            },
            "error_y": {
             "color": "#2a3f5f"
            },
            "marker": {
             "line": {
              "color": "#E5ECF6",
              "width": 0.5
             },
             "pattern": {
              "fillmode": "overlay",
              "size": 10,
              "solidity": 0.2
             }
            },
            "type": "bar"
           }
          ],
          "barpolar": [
           {
            "marker": {
             "line": {
              "color": "#E5ECF6",
              "width": 0.5
             },
             "pattern": {
              "fillmode": "overlay",
              "size": 10,
              "solidity": 0.2
             }
            },
            "type": "barpolar"
           }
          ],
          "carpet": [
           {
            "aaxis": {
             "endlinecolor": "#2a3f5f",
             "gridcolor": "white",
             "linecolor": "white",
             "minorgridcolor": "white",
             "startlinecolor": "#2a3f5f"
            },
            "baxis": {
             "endlinecolor": "#2a3f5f",
             "gridcolor": "white",
             "linecolor": "white",
             "minorgridcolor": "white",
             "startlinecolor": "#2a3f5f"
            },
            "type": "carpet"
           }
          ],
          "choropleth": [
           {
            "colorbar": {
             "outlinewidth": 0,
             "ticks": ""
            },
            "type": "choropleth"
           }
          ],
          "contour": [
           {
            "colorbar": {
             "outlinewidth": 0,
             "ticks": ""
            },
            "colorscale": [
             [
              0,
              "#0d0887"
             ],
             [
              0.1111111111111111,
              "#46039f"
             ],
             [
              0.2222222222222222,
              "#7201a8"
             ],
             [
              0.3333333333333333,
              "#9c179e"
             ],
             [
              0.4444444444444444,
              "#bd3786"
             ],
             [
              0.5555555555555556,
              "#d8576b"
             ],
             [
              0.6666666666666666,
              "#ed7953"
             ],
             [
              0.7777777777777778,
              "#fb9f3a"
             ],
             [
              0.8888888888888888,
              "#fdca26"
             ],
             [
              1,
              "#f0f921"
             ]
            ],
            "type": "contour"
           }
          ],
          "contourcarpet": [
           {
            "colorbar": {
             "outlinewidth": 0,
             "ticks": ""
            },
            "type": "contourcarpet"
           }
          ],
          "heatmap": [
           {
            "colorbar": {
             "outlinewidth": 0,
             "ticks": ""
            },
            "colorscale": [
             [
              0,
              "#0d0887"
             ],
             [
              0.1111111111111111,
              "#46039f"
             ],
             [
              0.2222222222222222,
              "#7201a8"
             ],
             [
              0.3333333333333333,
              "#9c179e"
             ],
             [
              0.4444444444444444,
              "#bd3786"
             ],
             [
              0.5555555555555556,
              "#d8576b"
             ],
             [
              0.6666666666666666,
              "#ed7953"
             ],
             [
              0.7777777777777778,
              "#fb9f3a"
             ],
             [
              0.8888888888888888,
              "#fdca26"
             ],
             [
              1,
              "#f0f921"
             ]
            ],
            "type": "heatmap"
           }
          ],
          "heatmapgl": [
           {
            "colorbar": {
             "outlinewidth": 0,
             "ticks": ""
            },
            "colorscale": [
             [
              0,
              "#0d0887"
             ],
             [
              0.1111111111111111,
              "#46039f"
             ],
             [
              0.2222222222222222,
              "#7201a8"
             ],
             [
              0.3333333333333333,
              "#9c179e"
             ],
             [
              0.4444444444444444,
              "#bd3786"
             ],
             [
              0.5555555555555556,
              "#d8576b"
             ],
             [
              0.6666666666666666,
              "#ed7953"
             ],
             [
              0.7777777777777778,
              "#fb9f3a"
             ],
             [
              0.8888888888888888,
              "#fdca26"
             ],
             [
              1,
              "#f0f921"
             ]
            ],
            "type": "heatmapgl"
           }
          ],
          "histogram": [
           {
            "marker": {
             "pattern": {
              "fillmode": "overlay",
              "size": 10,
              "solidity": 0.2
             }
            },
            "type": "histogram"
           }
          ],
          "histogram2d": [
           {
            "colorbar": {
             "outlinewidth": 0,
             "ticks": ""
            },
            "colorscale": [
             [
              0,
              "#0d0887"
             ],
             [
              0.1111111111111111,
              "#46039f"
             ],
             [
              0.2222222222222222,
              "#7201a8"
             ],
             [
              0.3333333333333333,
              "#9c179e"
             ],
             [
              0.4444444444444444,
              "#bd3786"
             ],
             [
              0.5555555555555556,
              "#d8576b"
             ],
             [
              0.6666666666666666,
              "#ed7953"
             ],
             [
              0.7777777777777778,
              "#fb9f3a"
             ],
             [
              0.8888888888888888,
              "#fdca26"
             ],
             [
              1,
              "#f0f921"
             ]
            ],
            "type": "histogram2d"
           }
          ],
          "histogram2dcontour": [
           {
            "colorbar": {
             "outlinewidth": 0,
             "ticks": ""
            },
            "colorscale": [
             [
              0,
              "#0d0887"
             ],
             [
              0.1111111111111111,
              "#46039f"
             ],
             [
              0.2222222222222222,
              "#7201a8"
             ],
             [
              0.3333333333333333,
              "#9c179e"
             ],
             [
              0.4444444444444444,
              "#bd3786"
             ],
             [
              0.5555555555555556,
              "#d8576b"
             ],
             [
              0.6666666666666666,
              "#ed7953"
             ],
             [
              0.7777777777777778,
              "#fb9f3a"
             ],
             [
              0.8888888888888888,
              "#fdca26"
             ],
             [
              1,
              "#f0f921"
             ]
            ],
            "type": "histogram2dcontour"
           }
          ],
          "mesh3d": [
           {
            "colorbar": {
             "outlinewidth": 0,
             "ticks": ""
            },
            "type": "mesh3d"
           }
          ],
          "parcoords": [
           {
            "line": {
             "colorbar": {
              "outlinewidth": 0,
              "ticks": ""
             }
            },
            "type": "parcoords"
           }
          ],
          "pie": [
           {
            "automargin": true,
            "type": "pie"
           }
          ],
          "scatter": [
           {
            "marker": {
             "colorbar": {
              "outlinewidth": 0,
              "ticks": ""
             }
            },
            "type": "scatter"
           }
          ],
          "scatter3d": [
           {
            "line": {
             "colorbar": {
              "outlinewidth": 0,
              "ticks": ""
             }
            },
            "marker": {
             "colorbar": {
              "outlinewidth": 0,
              "ticks": ""
             }
            },
            "type": "scatter3d"
           }
          ],
          "scattercarpet": [
           {
            "marker": {
             "colorbar": {
              "outlinewidth": 0,
              "ticks": ""
             }
            },
            "type": "scattercarpet"
           }
          ],
          "scattergeo": [
           {
            "marker": {
             "colorbar": {
              "outlinewidth": 0,
              "ticks": ""
             }
            },
            "type": "scattergeo"
           }
          ],
          "scattergl": [
           {
            "marker": {
             "colorbar": {
              "outlinewidth": 0,
              "ticks": ""
             }
            },
            "type": "scattergl"
           }
          ],
          "scattermapbox": [
           {
            "marker": {
             "colorbar": {
              "outlinewidth": 0,
              "ticks": ""
             }
            },
            "type": "scattermapbox"
           }
          ],
          "scatterpolar": [
           {
            "marker": {
             "colorbar": {
              "outlinewidth": 0,
              "ticks": ""
             }
            },
            "type": "scatterpolar"
           }
          ],
          "scatterpolargl": [
           {
            "marker": {
             "colorbar": {
              "outlinewidth": 0,
              "ticks": ""
             }
            },
            "type": "scatterpolargl"
           }
          ],
          "scatterternary": [
           {
            "marker": {
             "colorbar": {
              "outlinewidth": 0,
              "ticks": ""
             }
            },
            "type": "scatterternary"
           }
          ],
          "surface": [
           {
            "colorbar": {
             "outlinewidth": 0,
             "ticks": ""
            },
            "colorscale": [
             [
              0,
              "#0d0887"
             ],
             [
              0.1111111111111111,
              "#46039f"
             ],
             [
              0.2222222222222222,
              "#7201a8"
             ],
             [
              0.3333333333333333,
              "#9c179e"
             ],
             [
              0.4444444444444444,
              "#bd3786"
             ],
             [
              0.5555555555555556,
              "#d8576b"
             ],
             [
              0.6666666666666666,
              "#ed7953"
             ],
             [
              0.7777777777777778,
              "#fb9f3a"
             ],
             [
              0.8888888888888888,
              "#fdca26"
             ],
             [
              1,
              "#f0f921"
             ]
            ],
            "type": "surface"
           }
          ],
          "table": [
           {
            "cells": {
             "fill": {
              "color": "#EBF0F8"
             },
             "line": {
              "color": "white"
             }
            },
            "header": {
             "fill": {
              "color": "#C8D4E3"
             },
             "line": {
              "color": "white"
             }
            },
            "type": "table"
           }
          ]
         },
         "layout": {
          "annotationdefaults": {
           "arrowcolor": "#2a3f5f",
           "arrowhead": 0,
           "arrowwidth": 1
          },
          "autotypenumbers": "strict",
          "coloraxis": {
           "colorbar": {
            "outlinewidth": 0,
            "ticks": ""
           }
          },
          "colorscale": {
           "diverging": [
            [
             0,
             "#8e0152"
            ],
            [
             0.1,
             "#c51b7d"
            ],
            [
             0.2,
             "#de77ae"
            ],
            [
             0.3,
             "#f1b6da"
            ],
            [
             0.4,
             "#fde0ef"
            ],
            [
             0.5,
             "#f7f7f7"
            ],
            [
             0.6,
             "#e6f5d0"
            ],
            [
             0.7,
             "#b8e186"
            ],
            [
             0.8,
             "#7fbc41"
            ],
            [
             0.9,
             "#4d9221"
            ],
            [
             1,
             "#276419"
            ]
           ],
           "sequential": [
            [
             0,
             "#0d0887"
            ],
            [
             0.1111111111111111,
             "#46039f"
            ],
            [
             0.2222222222222222,
             "#7201a8"
            ],
            [
             0.3333333333333333,
             "#9c179e"
            ],
            [
             0.4444444444444444,
             "#bd3786"
            ],
            [
             0.5555555555555556,
             "#d8576b"
            ],
            [
             0.6666666666666666,
             "#ed7953"
            ],
            [
             0.7777777777777778,
             "#fb9f3a"
            ],
            [
             0.8888888888888888,
             "#fdca26"
            ],
            [
             1,
             "#f0f921"
            ]
           ],
           "sequentialminus": [
            [
             0,
             "#0d0887"
            ],
            [
             0.1111111111111111,
             "#46039f"
            ],
            [
             0.2222222222222222,
             "#7201a8"
            ],
            [
             0.3333333333333333,
             "#9c179e"
            ],
            [
             0.4444444444444444,
             "#bd3786"
            ],
            [
             0.5555555555555556,
             "#d8576b"
            ],
            [
             0.6666666666666666,
             "#ed7953"
            ],
            [
             0.7777777777777778,
             "#fb9f3a"
            ],
            [
             0.8888888888888888,
             "#fdca26"
            ],
            [
             1,
             "#f0f921"
            ]
           ]
          },
          "colorway": [
           "#636efa",
           "#EF553B",
           "#00cc96",
           "#ab63fa",
           "#FFA15A",
           "#19d3f3",
           "#FF6692",
           "#B6E880",
           "#FF97FF",
           "#FECB52"
          ],
          "font": {
           "color": "#2a3f5f"
          },
          "geo": {
           "bgcolor": "white",
           "lakecolor": "white",
           "landcolor": "#E5ECF6",
           "showlakes": true,
           "showland": true,
           "subunitcolor": "white"
          },
          "hoverlabel": {
           "align": "left"
          },
          "hovermode": "closest",
          "mapbox": {
           "style": "light"
          },
          "paper_bgcolor": "white",
          "plot_bgcolor": "#E5ECF6",
          "polar": {
           "angularaxis": {
            "gridcolor": "white",
            "linecolor": "white",
            "ticks": ""
           },
           "bgcolor": "#E5ECF6",
           "radialaxis": {
            "gridcolor": "white",
            "linecolor": "white",
            "ticks": ""
           }
          },
          "scene": {
           "xaxis": {
            "backgroundcolor": "#E5ECF6",
            "gridcolor": "white",
            "gridwidth": 2,
            "linecolor": "white",
            "showbackground": true,
            "ticks": "",
            "zerolinecolor": "white"
           },
           "yaxis": {
            "backgroundcolor": "#E5ECF6",
            "gridcolor": "white",
            "gridwidth": 2,
            "linecolor": "white",
            "showbackground": true,
            "ticks": "",
            "zerolinecolor": "white"
           },
           "zaxis": {
            "backgroundcolor": "#E5ECF6",
            "gridcolor": "white",
            "gridwidth": 2,
            "linecolor": "white",
            "showbackground": true,
            "ticks": "",
            "zerolinecolor": "white"
           }
          },
          "shapedefaults": {
           "line": {
            "color": "#2a3f5f"
           }
          },
          "ternary": {
           "aaxis": {
            "gridcolor": "white",
            "linecolor": "white",
            "ticks": ""
           },
           "baxis": {
            "gridcolor": "white",
            "linecolor": "white",
            "ticks": ""
           },
           "bgcolor": "#E5ECF6",
           "caxis": {
            "gridcolor": "white",
            "linecolor": "white",
            "ticks": ""
           }
          },
          "title": {
           "x": 0.05
          },
          "xaxis": {
           "automargin": true,
           "gridcolor": "white",
           "linecolor": "white",
           "ticks": "",
           "title": {
            "standoff": 15
           },
           "zerolinecolor": "white",
           "zerolinewidth": 2
          },
          "yaxis": {
           "automargin": true,
           "gridcolor": "white",
           "linecolor": "white",
           "ticks": "",
           "title": {
            "standoff": 15
           },
           "zerolinecolor": "white",
           "zerolinewidth": 2
          }
         }
        },
        "title": {
         "text": "Network SVR - Link minimum significance : 2 sigma"
        },
        "xaxis": {
         "title": {
          "text": "Layer index"
         }
        },
        "yaxis": {
         "title": {
          "text": "Singular value"
         }
        }
       }
      },
      "text/html": [
       "<div>                            <div id=\"3b6f7c1b-590a-42e7-a3bc-a1702dc105f3\" class=\"plotly-graph-div\" style=\"height:525px; width:100%;\"></div>            <script type=\"text/javascript\">                require([\"plotly\"], function(Plotly) {                    window.PLOTLYENV=window.PLOTLYENV || {};                                    if (document.getElementById(\"3b6f7c1b-590a-42e7-a3bc-a1702dc105f3\")) {                    Plotly.newPlot(                        \"3b6f7c1b-590a-42e7-a3bc-a1702dc105f3\",                        [{\"hoverinfo\":\"text\",\"hoveron\":\"fills\",\"hovertext\":\"tensor(0.0527)\",\"marker\":{\"color\":\"rgb(224, 224, 224)\",\"opacity\":1},\"showlegend\":false,\"text\":\"tensor(0.0527)\",\"x\":[0,1],\"y\":[2.704345464706421,0.6904761791229248],\"type\":\"scatter\"},{\"hoverinfo\":\"text\",\"hoveron\":\"fills\",\"hovertext\":\"tensor(0.0528)\",\"marker\":{\"color\":\"rgb(224, 224, 224)\",\"opacity\":1},\"showlegend\":false,\"text\":\"tensor(0.0528)\",\"x\":[0,1],\"y\":[3.9885919094085693,0.6904761791229248],\"type\":\"scatter\"},{\"hoverinfo\":\"text\",\"hoveron\":\"fills\",\"hovertext\":\"tensor(0.0535)\",\"marker\":{\"color\":\"rgb(224, 224, 224)\",\"opacity\":1},\"showlegend\":false,\"text\":\"tensor(0.0535)\",\"x\":[0,1],\"y\":[2.5078911781311035,0.49586597084999084],\"type\":\"scatter\"},{\"hoverinfo\":\"text\",\"hoveron\":\"fills\",\"hovertext\":\"tensor(0.0538)\",\"marker\":{\"color\":\"rgb(224, 224, 224)\",\"opacity\":1},\"showlegend\":false,\"text\":\"tensor(0.0538)\",\"x\":[0,1],\"y\":[2.639782190322876,0.46499326825141907],\"type\":\"scatter\"},{\"hoverinfo\":\"text\",\"hoveron\":\"fills\",\"hovertext\":\"tensor(0.0543)\",\"marker\":{\"color\":\"rgb(224, 224, 224)\",\"opacity\":1},\"showlegend\":false,\"text\":\"tensor(0.0543)\",\"x\":[0,1],\"y\":[3.647151470184326,0.5492258071899414],\"type\":\"scatter\"},{\"hoverinfo\":\"text\",\"hoveron\":\"fills\",\"hovertext\":\"tensor(0.0545)\",\"marker\":{\"color\":\"rgb(224, 224, 224)\",\"opacity\":1},\"showlegend\":false,\"text\":\"tensor(0.0545)\",\"x\":[0,1],\"y\":[2.5596470832824707,0.6904761791229248],\"type\":\"scatter\"},{\"hoverinfo\":\"text\",\"hoveron\":\"fills\",\"hovertext\":\"tensor(0.0558)\",\"marker\":{\"color\":\"rgb(223, 223, 223)\",\"opacity\":1},\"showlegend\":false,\"text\":\"tensor(0.0558)\",\"x\":[0,1],\"y\":[3.9885919094085693,0.3720211088657379],\"type\":\"scatter\"},{\"hoverinfo\":\"text\",\"hoveron\":\"fills\",\"hovertext\":\"tensor(0.0560)\",\"marker\":{\"color\":\"rgb(223, 223, 223)\",\"opacity\":1},\"showlegend\":false,\"text\":\"tensor(0.0560)\",\"x\":[0,1],\"y\":[3.23360538482666,0.37859150767326355],\"type\":\"scatter\"},{\"hoverinfo\":\"text\",\"hoveron\":\"fills\",\"hovertext\":\"tensor(0.0579)\",\"marker\":{\"color\":\"rgb(222, 222, 222)\",\"opacity\":1},\"showlegend\":false,\"text\":\"tensor(0.0579)\",\"x\":[0,1],\"y\":[2.126610279083252,0.5042160749435425],\"type\":\"scatter\"},{\"hoverinfo\":\"text\",\"hoveron\":\"fills\",\"hovertext\":\"tensor(0.0581)\",\"marker\":{\"color\":\"rgb(222, 222, 222)\",\"opacity\":1},\"showlegend\":false,\"text\":\"tensor(0.0581)\",\"x\":[0,1],\"y\":[1.8193022012710571,0.49586597084999084],\"type\":\"scatter\"},{\"hoverinfo\":\"text\",\"hoveron\":\"fills\",\"hovertext\":\"tensor(0.0583)\",\"marker\":{\"color\":\"rgb(222, 222, 222)\",\"opacity\":1},\"showlegend\":false,\"text\":\"tensor(0.0583)\",\"x\":[0,1],\"y\":[3.159949779510498,0.49586597084999084],\"type\":\"scatter\"},{\"hoverinfo\":\"text\",\"hoveron\":\"fills\",\"hovertext\":\"tensor(0.0583)\",\"marker\":{\"color\":\"rgb(222, 222, 222)\",\"opacity\":1},\"showlegend\":false,\"text\":\"tensor(0.0583)\",\"x\":[0,1],\"y\":[3.2907259464263916,0.5978738069534302],\"type\":\"scatter\"},{\"hoverinfo\":\"text\",\"hoveron\":\"fills\",\"hovertext\":\"tensor(0.0588)\",\"marker\":{\"color\":\"rgb(222, 222, 222)\",\"opacity\":1},\"showlegend\":false,\"text\":\"tensor(0.0588)\",\"x\":[0,1],\"y\":[3.404479503631592,0.32427841424942017],\"type\":\"scatter\"},{\"hoverinfo\":\"text\",\"hoveron\":\"fills\",\"hovertext\":\"tensor(0.0589)\",\"marker\":{\"color\":\"rgb(222, 222, 222)\",\"opacity\":1},\"showlegend\":false,\"text\":\"tensor(0.0589)\",\"x\":[0,1],\"y\":[0.8361209034919739,0.626976490020752],\"type\":\"scatter\"},{\"hoverinfo\":\"text\",\"hoveron\":\"fills\",\"hovertext\":\"tensor(0.0597)\",\"marker\":{\"color\":\"rgb(222, 222, 222)\",\"opacity\":1},\"showlegend\":false,\"text\":\"tensor(0.0597)\",\"x\":[0,1],\"y\":[0.7942330837249756,1.0267270803451538],\"type\":\"scatter\"},{\"hoverinfo\":\"text\",\"hoveron\":\"fills\",\"hovertext\":\"tensor(0.0601)\",\"marker\":{\"color\":\"rgb(222, 222, 222)\",\"opacity\":1},\"showlegend\":false,\"text\":\"tensor(0.0601)\",\"x\":[0,1],\"y\":[3.058302164077759,0.45438575744628906],\"type\":\"scatter\"},{\"hoverinfo\":\"text\",\"hoveron\":\"fills\",\"hovertext\":\"tensor(0.0610)\",\"marker\":{\"color\":\"rgb(221, 221, 221)\",\"opacity\":1},\"showlegend\":false,\"text\":\"tensor(0.0610)\",\"x\":[0,1],\"y\":[3.3122904300689697,0.5612174868583679],\"type\":\"scatter\"},{\"hoverinfo\":\"text\",\"hoveron\":\"fills\",\"hovertext\":\"tensor(0.0626)\",\"marker\":{\"color\":\"rgb(221, 221, 221)\",\"opacity\":1},\"showlegend\":false,\"text\":\"tensor(0.0626)\",\"x\":[0,1],\"y\":[2.7688844203948975,0.45438575744628906],\"type\":\"scatter\"},{\"hoverinfo\":\"text\",\"hoveron\":\"fills\",\"hovertext\":\"tensor(0.0628)\",\"marker\":{\"color\":\"rgb(221, 221, 221)\",\"opacity\":1},\"showlegend\":false,\"text\":\"tensor(0.0628)\",\"x\":[0,1],\"y\":[2.6714441776275635,0.42812344431877136],\"type\":\"scatter\"},{\"hoverinfo\":\"text\",\"hoveron\":\"fills\",\"hovertext\":\"tensor(0.0632)\",\"marker\":{\"color\":\"rgb(221, 221, 221)\",\"opacity\":1},\"showlegend\":false,\"text\":\"tensor(0.0632)\",\"x\":[0,1],\"y\":[2.7688844203948975,0.4202691614627838],\"type\":\"scatter\"},{\"hoverinfo\":\"text\",\"hoveron\":\"fills\",\"hovertext\":\"tensor(0.0633)\",\"marker\":{\"color\":\"rgb(221, 221, 221)\",\"opacity\":1},\"showlegend\":false,\"text\":\"tensor(0.0633)\",\"x\":[0,1],\"y\":[3.0732574462890625,0.46499326825141907],\"type\":\"scatter\"},{\"hoverinfo\":\"text\",\"hoveron\":\"fills\",\"hovertext\":\"tensor(0.0646)\",\"marker\":{\"color\":\"rgb(220, 220, 220)\",\"opacity\":1},\"showlegend\":false,\"text\":\"tensor(0.0646)\",\"x\":[0,1],\"y\":[3.2907259464263916,0.45438575744628906],\"type\":\"scatter\"},{\"hoverinfo\":\"text\",\"hoveron\":\"fills\",\"hovertext\":\"tensor(0.0655)\",\"marker\":{\"color\":\"rgb(220, 220, 220)\",\"opacity\":1},\"showlegend\":false,\"text\":\"tensor(0.0655)\",\"x\":[0,1],\"y\":[3.415273904800415,0.3720211088657379],\"type\":\"scatter\"},{\"hoverinfo\":\"text\",\"hoveron\":\"fills\",\"hovertext\":\"tensor(0.0662)\",\"marker\":{\"color\":\"rgb(220, 220, 220)\",\"opacity\":1},\"showlegend\":false,\"text\":\"tensor(0.0662)\",\"x\":[0,1],\"y\":[3.404479503631592,0.4202691614627838],\"type\":\"scatter\"},{\"hoverinfo\":\"text\",\"hoveron\":\"fills\",\"hovertext\":\"tensor(0.0667)\",\"marker\":{\"color\":\"rgb(220, 220, 220)\",\"opacity\":1},\"showlegend\":false,\"text\":\"tensor(0.0667)\",\"x\":[0,1],\"y\":[3.23360538482666,0.42812344431877136],\"type\":\"scatter\"},{\"hoverinfo\":\"text\",\"hoveron\":\"fills\",\"hovertext\":\"tensor(0.0671)\",\"marker\":{\"color\":\"rgb(219, 219, 219)\",\"opacity\":1},\"showlegend\":false,\"text\":\"tensor(0.0671)\",\"x\":[0,1],\"y\":[3.2907259464263916,0.49586597084999084],\"type\":\"scatter\"},{\"hoverinfo\":\"text\",\"hoveron\":\"fills\",\"hovertext\":\"tensor(0.0679)\",\"marker\":{\"color\":\"rgb(219, 219, 219)\",\"opacity\":1},\"showlegend\":false,\"text\":\"tensor(0.0679)\",\"x\":[0,1],\"y\":[2.361077308654785,0.626976490020752],\"type\":\"scatter\"},{\"hoverinfo\":\"text\",\"hoveron\":\"fills\",\"hovertext\":\"tensor(0.0691)\",\"marker\":{\"color\":\"rgb(219, 219, 219)\",\"opacity\":1},\"showlegend\":false,\"text\":\"tensor(0.0691)\",\"x\":[0,1],\"y\":[2.139887571334839,0.3720211088657379],\"type\":\"scatter\"},{\"hoverinfo\":\"text\",\"hoveron\":\"fills\",\"hovertext\":\"tensor(0.0706)\",\"marker\":{\"color\":\"rgb(218, 218, 218)\",\"opacity\":1},\"showlegend\":false,\"text\":\"tensor(0.0706)\",\"x\":[0,1],\"y\":[1.9828819036483765,0.5978738069534302],\"type\":\"scatter\"},{\"hoverinfo\":\"text\",\"hoveron\":\"fills\",\"hovertext\":\"tensor(0.0709)\",\"marker\":{\"color\":\"rgb(218, 218, 218)\",\"opacity\":1},\"showlegend\":false,\"text\":\"tensor(0.0709)\",\"x\":[0,1],\"y\":[2.5931129455566406,0.4202691614627838],\"type\":\"scatter\"},{\"hoverinfo\":\"text\",\"hoveron\":\"fills\",\"hovertext\":\"tensor(0.0725)\",\"marker\":{\"color\":\"rgb(218, 218, 218)\",\"opacity\":1},\"showlegend\":false,\"text\":\"tensor(0.0725)\",\"x\":[0,1],\"y\":[2.5078911781311035,0.3042122423648834],\"type\":\"scatter\"},{\"hoverinfo\":\"text\",\"hoveron\":\"fills\",\"hovertext\":\"tensor(0.0731)\",\"marker\":{\"color\":\"rgb(217, 217, 217)\",\"opacity\":1},\"showlegend\":false,\"text\":\"tensor(0.0731)\",\"x\":[0,1],\"y\":[3.159949779510498,0.4202691614627838],\"type\":\"scatter\"},{\"hoverinfo\":\"text\",\"hoveron\":\"fills\",\"hovertext\":\"tensor(0.0732)\",\"marker\":{\"color\":\"rgb(217, 217, 217)\",\"opacity\":1},\"showlegend\":false,\"text\":\"tensor(0.0732)\",\"x\":[0,1],\"y\":[3.23360538482666,0.32427841424942017],\"type\":\"scatter\"},{\"hoverinfo\":\"text\",\"hoveron\":\"fills\",\"hovertext\":\"tensor(0.0739)\",\"marker\":{\"color\":\"rgb(217, 217, 217)\",\"opacity\":1},\"showlegend\":false,\"text\":\"tensor(0.0739)\",\"x\":[0,1],\"y\":[3.058302164077759,0.46499326825141907],\"type\":\"scatter\"},{\"hoverinfo\":\"text\",\"hoveron\":\"fills\",\"hovertext\":\"tensor(0.0749)\",\"marker\":{\"color\":\"rgb(217, 217, 217)\",\"opacity\":1},\"showlegend\":false,\"text\":\"tensor(0.0749)\",\"x\":[0,1],\"y\":[2.2932965755462646,0.6904761791229248],\"type\":\"scatter\"},{\"hoverinfo\":\"text\",\"hoveron\":\"fills\",\"hovertext\":\"tensor(0.0757)\",\"marker\":{\"color\":\"rgb(216, 216, 216)\",\"opacity\":1},\"showlegend\":false,\"text\":\"tensor(0.0757)\",\"x\":[0,1],\"y\":[2.024095058441162,0.3042122423648834],\"type\":\"scatter\"},{\"hoverinfo\":\"text\",\"hoveron\":\"fills\",\"hovertext\":\"tensor(0.0760)\",\"marker\":{\"color\":\"rgb(216, 216, 216)\",\"opacity\":1},\"showlegend\":false,\"text\":\"tensor(0.0760)\",\"x\":[0,1],\"y\":[3.3122904300689697,0.46499326825141907],\"type\":\"scatter\"},{\"hoverinfo\":\"text\",\"hoveron\":\"fills\",\"hovertext\":\"tensor(0.0764)\",\"marker\":{\"color\":\"rgb(216, 216, 216)\",\"opacity\":1},\"showlegend\":false,\"text\":\"tensor(0.0764)\",\"x\":[0,1],\"y\":[2.323760986328125,0.3977718651294708],\"type\":\"scatter\"},{\"hoverinfo\":\"text\",\"hoveron\":\"fills\",\"hovertext\":\"tensor(0.0766)\",\"marker\":{\"color\":\"rgb(216, 216, 216)\",\"opacity\":1},\"showlegend\":false,\"text\":\"tensor(0.0766)\",\"x\":[0,1],\"y\":[3.415273904800415,0.3989025950431824],\"type\":\"scatter\"},{\"hoverinfo\":\"text\",\"hoveron\":\"fills\",\"hovertext\":\"tensor(0.0771)\",\"marker\":{\"color\":\"rgb(216, 216, 216)\",\"opacity\":1},\"showlegend\":false,\"text\":\"tensor(0.0771)\",\"x\":[0,1],\"y\":[3.3122904300689697,0.3720211088657379],\"type\":\"scatter\"},{\"hoverinfo\":\"text\",\"hoveron\":\"fills\",\"hovertext\":\"tensor(0.0783)\",\"marker\":{\"color\":\"rgb(216, 216, 216)\",\"opacity\":1},\"showlegend\":false,\"text\":\"tensor(0.0783)\",\"x\":[0,1],\"y\":[3.404479503631592,0.5042160749435425],\"type\":\"scatter\"},{\"hoverinfo\":\"text\",\"hoveron\":\"fills\",\"hovertext\":\"tensor(0.0805)\",\"marker\":{\"color\":\"rgb(215, 215, 215)\",\"opacity\":1},\"showlegend\":false,\"text\":\"tensor(0.0805)\",\"x\":[0,1],\"y\":[2.796233892440796,0.343168169260025],\"type\":\"scatter\"},{\"hoverinfo\":\"text\",\"hoveron\":\"fills\",\"hovertext\":\"tensor(0.0815)\",\"marker\":{\"color\":\"rgb(215, 215, 215)\",\"opacity\":1},\"showlegend\":false,\"text\":\"tensor(0.0815)\",\"x\":[0,1],\"y\":[3.159949779510498,0.45438575744628906],\"type\":\"scatter\"},{\"hoverinfo\":\"text\",\"hoveron\":\"fills\",\"hovertext\":\"tensor(0.0826)\",\"marker\":{\"color\":\"rgb(214, 214, 214)\",\"opacity\":1},\"showlegend\":false,\"text\":\"tensor(0.0826)\",\"x\":[0,1],\"y\":[2.4578988552093506,0.5612174868583679],\"type\":\"scatter\"},{\"hoverinfo\":\"text\",\"hoveron\":\"fills\",\"hovertext\":\"tensor(0.0832)\",\"marker\":{\"color\":\"rgb(214, 214, 214)\",\"opacity\":1},\"showlegend\":false,\"text\":\"tensor(0.0832)\",\"x\":[0,1],\"y\":[3.415273904800415,0.626976490020752],\"type\":\"scatter\"},{\"hoverinfo\":\"text\",\"hoveron\":\"fills\",\"hovertext\":\"tensor(0.0841)\",\"marker\":{\"color\":\"rgb(214, 214, 214)\",\"opacity\":1},\"showlegend\":false,\"text\":\"tensor(0.0841)\",\"x\":[0,1],\"y\":[2.2057909965515137,0.343168169260025],\"type\":\"scatter\"},{\"hoverinfo\":\"text\",\"hoveron\":\"fills\",\"hovertext\":\"tensor(0.0844)\",\"marker\":{\"color\":\"rgb(214, 214, 214)\",\"opacity\":1},\"showlegend\":false,\"text\":\"tensor(0.0844)\",\"x\":[0,1],\"y\":[2.6714441776275635,0.32427841424942017],\"type\":\"scatter\"},{\"hoverinfo\":\"text\",\"hoveron\":\"fills\",\"hovertext\":\"tensor(0.0856)\",\"marker\":{\"color\":\"rgb(213, 213, 213)\",\"opacity\":1},\"showlegend\":false,\"text\":\"tensor(0.0856)\",\"x\":[0,1],\"y\":[3.9885919094085693,0.5492258071899414],\"type\":\"scatter\"},{\"hoverinfo\":\"text\",\"hoveron\":\"fills\",\"hovertext\":\"tensor(0.0864)\",\"marker\":{\"color\":\"rgb(213, 213, 213)\",\"opacity\":1},\"showlegend\":false,\"text\":\"tensor(0.0864)\",\"x\":[0,1],\"y\":[2.9346117973327637,0.3989025950431824],\"type\":\"scatter\"},{\"hoverinfo\":\"text\",\"hoveron\":\"fills\",\"hovertext\":\"tensor(0.0887)\",\"marker\":{\"color\":\"rgb(212, 212, 212)\",\"opacity\":1},\"showlegend\":false,\"text\":\"tensor(0.0887)\",\"x\":[0,1],\"y\":[2.139887571334839,0.4202691614627838],\"type\":\"scatter\"},{\"hoverinfo\":\"text\",\"hoveron\":\"fills\",\"hovertext\":\"tensor(0.0912)\",\"marker\":{\"color\":\"rgb(211, 211, 211)\",\"opacity\":1},\"showlegend\":false,\"text\":\"tensor(0.0912)\",\"x\":[0,1],\"y\":[2.882082462310791,0.3977718651294708],\"type\":\"scatter\"},{\"hoverinfo\":\"text\",\"hoveron\":\"fills\",\"hovertext\":\"tensor(0.0912)\",\"marker\":{\"color\":\"rgb(211, 211, 211)\",\"opacity\":1},\"showlegend\":false,\"text\":\"tensor(0.0912)\",\"x\":[0,1],\"y\":[2.8289291858673096,0.42812344431877136],\"type\":\"scatter\"},{\"hoverinfo\":\"text\",\"hoveron\":\"fills\",\"hovertext\":\"tensor(0.0972)\",\"marker\":{\"color\":\"rgb(209, 209, 209)\",\"opacity\":1},\"showlegend\":false,\"text\":\"tensor(0.0972)\",\"x\":[0,1],\"y\":[2.5752620697021484,0.3989025950431824],\"type\":\"scatter\"},{\"hoverinfo\":\"text\",\"hoveron\":\"fills\",\"hovertext\":\"tensor(0.0973)\",\"marker\":{\"color\":\"rgb(209, 209, 209)\",\"opacity\":1},\"showlegend\":false,\"text\":\"tensor(0.0973)\",\"x\":[0,1],\"y\":[4.804696083068848,1.0267270803451538],\"type\":\"scatter\"},{\"hoverinfo\":\"text\",\"hoveron\":\"fills\",\"hovertext\":\"tensor(0.0974)\",\"marker\":{\"color\":\"rgb(209, 209, 209)\",\"opacity\":1},\"showlegend\":false,\"text\":\"tensor(0.0974)\",\"x\":[0,1],\"y\":[2.7688844203948975,0.3977718651294708],\"type\":\"scatter\"},{\"hoverinfo\":\"text\",\"hoveron\":\"fills\",\"hovertext\":\"tensor(0.0979)\",\"marker\":{\"color\":\"rgb(209, 209, 209)\",\"opacity\":1},\"showlegend\":false,\"text\":\"tensor(0.0979)\",\"x\":[0,1],\"y\":[3.404479503631592,0.3989025950431824],\"type\":\"scatter\"},{\"hoverinfo\":\"text\",\"hoveron\":\"fills\",\"hovertext\":\"tensor(0.0981)\",\"marker\":{\"color\":\"rgb(209, 209, 209)\",\"opacity\":1},\"showlegend\":false,\"text\":\"tensor(0.0981)\",\"x\":[0,1],\"y\":[4.804696083068848,0.5492258071899414],\"type\":\"scatter\"},{\"hoverinfo\":\"text\",\"hoveron\":\"fills\",\"hovertext\":\"tensor(0.0991)\",\"marker\":{\"color\":\"rgb(209, 209, 209)\",\"opacity\":1},\"showlegend\":false,\"text\":\"tensor(0.0991)\",\"x\":[0,1],\"y\":[0.8361209034919739,0.5612174868583679],\"type\":\"scatter\"},{\"hoverinfo\":\"text\",\"hoveron\":\"fills\",\"hovertext\":\"tensor(0.1026)\",\"marker\":{\"color\":\"rgb(207, 207, 207)\",\"opacity\":1},\"showlegend\":false,\"text\":\"tensor(0.1026)\",\"x\":[0,1],\"y\":[4.804696083068848,0.5978738069534302],\"type\":\"scatter\"},{\"hoverinfo\":\"text\",\"hoveron\":\"fills\",\"hovertext\":\"tensor(0.1125)\",\"marker\":{\"color\":\"rgb(204, 204, 204)\",\"opacity\":1},\"showlegend\":false,\"text\":\"tensor(0.1125)\",\"x\":[0,1],\"y\":[3.159949779510498,0.32427841424942017],\"type\":\"scatter\"},{\"hoverinfo\":\"text\",\"hoveron\":\"fills\",\"hovertext\":\"tensor(0.1153)\",\"marker\":{\"color\":\"rgb(203, 203, 203)\",\"opacity\":1},\"showlegend\":false,\"text\":\"tensor(0.1153)\",\"x\":[0,1],\"y\":[2.796233892440796,0.46499326825141907],\"type\":\"scatter\"},{\"hoverinfo\":\"text\",\"hoveron\":\"fills\",\"hovertext\":\"tensor(0.1316)\",\"marker\":{\"color\":\"rgb(198, 198, 198)\",\"opacity\":1},\"showlegend\":false,\"text\":\"tensor(0.1316)\",\"x\":[0,1],\"y\":[2.796233892440796,0.3977718651294708],\"type\":\"scatter\"},{\"hoverinfo\":\"text\",\"hoveron\":\"fills\",\"hovertext\":\"tensor(0.1320)\",\"marker\":{\"color\":\"rgb(197, 197, 197)\",\"opacity\":1},\"showlegend\":false,\"text\":\"tensor(0.1320)\",\"x\":[0,1],\"y\":[3.647151470184326,0.42812344431877136],\"type\":\"scatter\"},{\"hoverinfo\":\"text\",\"hoveron\":\"fills\",\"hovertext\":\"tensor(0.1390)\",\"marker\":{\"color\":\"rgb(195, 195, 195)\",\"opacity\":1},\"showlegend\":false,\"text\":\"tensor(0.1390)\",\"x\":[0,1],\"y\":[3.0429201126098633,0.3369946777820587],\"type\":\"scatter\"},{\"hoverinfo\":\"text\",\"hoveron\":\"fills\",\"hovertext\":\"tensor(0.1507)\",\"marker\":{\"color\":\"rgb(191, 191, 191)\",\"opacity\":1},\"showlegend\":false,\"text\":\"tensor(0.1507)\",\"x\":[0,1],\"y\":[3.058302164077759,0.3369946777820587],\"type\":\"scatter\"},{\"hoverinfo\":\"text\",\"hoveron\":\"fills\",\"hovertext\":\"tensor(0.1509)\",\"marker\":{\"color\":\"rgb(191, 191, 191)\",\"opacity\":1},\"showlegend\":false,\"text\":\"tensor(0.1509)\",\"x\":[0,1],\"y\":[3.0429201126098633,0.45438575744628906],\"type\":\"scatter\"},{\"hoverinfo\":\"text\",\"hoveron\":\"fills\",\"hovertext\":\"tensor(0.1601)\",\"marker\":{\"color\":\"rgb(188, 188, 188)\",\"opacity\":1},\"showlegend\":false,\"text\":\"tensor(0.1601)\",\"x\":[0,1],\"y\":[3.7332119941711426,0.37859150767326355],\"type\":\"scatter\"},{\"hoverinfo\":\"text\",\"hoveron\":\"fills\",\"hovertext\":\"tensor(0.4078)\",\"marker\":{\"color\":\"rgb(105, 105, 105)\",\"opacity\":1},\"showlegend\":false,\"text\":\"tensor(0.4078)\",\"x\":[0,1],\"y\":[0.6132833957672119,1.0267270803451538],\"type\":\"scatter\"},{\"hoverinfo\":\"text\",\"hoveron\":\"fills\",\"hovertext\":\"tensor(0.2838)\",\"marker\":{\"color\":\"rgb(168, 168, 168)\",\"opacity\":1},\"showlegend\":false,\"text\":\"tensor(0.2838)\",\"x\":[1,2],\"y\":[0.3042122423648834,1.3244906663894653],\"type\":\"scatter\"},{\"hoverinfo\":\"text\",\"hoveron\":\"fills\",\"hovertext\":\"tensor(0.3062)\",\"marker\":{\"color\":\"rgb(115, 115, 115)\",\"opacity\":1},\"showlegend\":false,\"text\":\"tensor(0.3062)\",\"x\":[1,2],\"y\":[1.0267270803451538,0.7068561911582947],\"type\":\"scatter\"},{\"hoverinfo\":\"text\",\"hoveron\":\"fills\",\"hovertext\":\"tensor(0.3109)\",\"marker\":{\"color\":\"rgb(105, 105, 105)\",\"opacity\":1},\"showlegend\":false,\"text\":\"tensor(0.3109)\",\"x\":[1,2],\"y\":[1.0267270803451538,0.8459863662719727],\"type\":\"scatter\"},{\"hoverinfo\":\"text\",\"hoveron\":\"fills\",\"hovertext\":\"tensor(0.0519)\",\"marker\":{\"color\":\"rgb(224, 224, 224)\",\"opacity\":1},\"showlegend\":false,\"text\":\"tensor(0.0519)\",\"x\":[2,3],\"y\":[1.2990845441818237,1.4524025917053223],\"type\":\"scatter\"},{\"hoverinfo\":\"text\",\"hoveron\":\"fills\",\"hovertext\":\"tensor(0.0524)\",\"marker\":{\"color\":\"rgb(224, 224, 224)\",\"opacity\":1},\"showlegend\":false,\"text\":\"tensor(0.0524)\",\"x\":[2,3],\"y\":[1.0444220304489136,1.811625361442566],\"type\":\"scatter\"},{\"hoverinfo\":\"text\",\"hoveron\":\"fills\",\"hovertext\":\"tensor(0.0531)\",\"marker\":{\"color\":\"rgb(223, 223, 223)\",\"opacity\":1},\"showlegend\":false,\"text\":\"tensor(0.0531)\",\"x\":[2,3],\"y\":[1.100414514541626,1.9768190383911133],\"type\":\"scatter\"},{\"hoverinfo\":\"text\",\"hoveron\":\"fills\",\"hovertext\":\"tensor(0.0533)\",\"marker\":{\"color\":\"rgb(223, 223, 223)\",\"opacity\":1},\"showlegend\":false,\"text\":\"tensor(0.0533)\",\"x\":[2,3],\"y\":[1.2990845441818237,1.7006748914718628],\"type\":\"scatter\"},{\"hoverinfo\":\"text\",\"hoveron\":\"fills\",\"hovertext\":\"tensor(0.0540)\",\"marker\":{\"color\":\"rgb(222, 222, 222)\",\"opacity\":1},\"showlegend\":false,\"text\":\"tensor(0.0540)\",\"x\":[2,3],\"y\":[1.3244906663894653,1.8328523635864258],\"type\":\"scatter\"},{\"hoverinfo\":\"text\",\"hoveron\":\"fills\",\"hovertext\":\"tensor(0.0543)\",\"marker\":{\"color\":\"rgb(221, 221, 221)\",\"opacity\":1},\"showlegend\":false,\"text\":\"tensor(0.0543)\",\"x\":[2,3],\"y\":[1.2990845441818237,1.9047176837921143],\"type\":\"scatter\"},{\"hoverinfo\":\"text\",\"hoveron\":\"fills\",\"hovertext\":\"tensor(0.0546)\",\"marker\":{\"color\":\"rgb(221, 221, 221)\",\"opacity\":1},\"showlegend\":false,\"text\":\"tensor(0.0546)\",\"x\":[2,3],\"y\":[1.100414514541626,1.4695656299591064],\"type\":\"scatter\"},{\"hoverinfo\":\"text\",\"hoveron\":\"fills\",\"hovertext\":\"tensor(0.0547)\",\"marker\":{\"color\":\"rgb(221, 221, 221)\",\"opacity\":1},\"showlegend\":false,\"text\":\"tensor(0.0547)\",\"x\":[2,3],\"y\":[1.369702935218811,1.3788464069366455],\"type\":\"scatter\"},{\"hoverinfo\":\"text\",\"hoveron\":\"fills\",\"hovertext\":\"tensor(0.0547)\",\"marker\":{\"color\":\"rgb(221, 221, 221)\",\"opacity\":1},\"showlegend\":false,\"text\":\"tensor(0.0547)\",\"x\":[2,3],\"y\":[1.7076104879379272,2.2129838466644287],\"type\":\"scatter\"},{\"hoverinfo\":\"text\",\"hoveron\":\"fills\",\"hovertext\":\"tensor(0.0549)\",\"marker\":{\"color\":\"rgb(221, 221, 221)\",\"opacity\":1},\"showlegend\":false,\"text\":\"tensor(0.0549)\",\"x\":[2,3],\"y\":[0.8459863662719727,3.07024884223938],\"type\":\"scatter\"},{\"hoverinfo\":\"text\",\"hoveron\":\"fills\",\"hovertext\":\"tensor(0.0553)\",\"marker\":{\"color\":\"rgb(220, 220, 220)\",\"opacity\":1},\"showlegend\":false,\"text\":\"tensor(0.0553)\",\"x\":[2,3],\"y\":[1.3244906663894653,1.4967232942581177],\"type\":\"scatter\"},{\"hoverinfo\":\"text\",\"hoveron\":\"fills\",\"hovertext\":\"tensor(0.0555)\",\"marker\":{\"color\":\"rgb(220, 220, 220)\",\"opacity\":1},\"showlegend\":false,\"text\":\"tensor(0.0555)\",\"x\":[2,3],\"y\":[1.369702935218811,0.30333060026168823],\"type\":\"scatter\"},{\"hoverinfo\":\"text\",\"hoveron\":\"fills\",\"hovertext\":\"tensor(0.0556)\",\"marker\":{\"color\":\"rgb(220, 220, 220)\",\"opacity\":1},\"showlegend\":false,\"text\":\"tensor(0.0556)\",\"x\":[2,3],\"y\":[0.931535005569458,4.318966865539551],\"type\":\"scatter\"},{\"hoverinfo\":\"text\",\"hoveron\":\"fills\",\"hovertext\":\"tensor(0.0558)\",\"marker\":{\"color\":\"rgb(219, 219, 219)\",\"opacity\":1},\"showlegend\":false,\"text\":\"tensor(0.0558)\",\"x\":[2,3],\"y\":[1.4741110801696777,1.6125266551971436],\"type\":\"scatter\"},{\"hoverinfo\":\"text\",\"hoveron\":\"fills\",\"hovertext\":\"tensor(0.0559)\",\"marker\":{\"color\":\"rgb(219, 219, 219)\",\"opacity\":1},\"showlegend\":false,\"text\":\"tensor(0.0559)\",\"x\":[2,3],\"y\":[0.9749743342399597,1.9768190383911133],\"type\":\"scatter\"},{\"hoverinfo\":\"text\",\"hoveron\":\"fills\",\"hovertext\":\"tensor(0.0566)\",\"marker\":{\"color\":\"rgb(219, 219, 219)\",\"opacity\":1},\"showlegend\":false,\"text\":\"tensor(0.0566)\",\"x\":[2,3],\"y\":[1.3244906663894653,2.2639379501342773],\"type\":\"scatter\"},{\"hoverinfo\":\"text\",\"hoveron\":\"fills\",\"hovertext\":\"tensor(0.0573)\",\"marker\":{\"color\":\"rgb(218, 218, 218)\",\"opacity\":1},\"showlegend\":false,\"text\":\"tensor(0.0573)\",\"x\":[2,3],\"y\":[1.4741110801696777,2.149627447128296],\"type\":\"scatter\"},{\"hoverinfo\":\"text\",\"hoveron\":\"fills\",\"hovertext\":\"tensor(0.0578)\",\"marker\":{\"color\":\"rgb(217, 217, 217)\",\"opacity\":1},\"showlegend\":false,\"text\":\"tensor(0.0578)\",\"x\":[2,3],\"y\":[1.2851179838180542,0.906166672706604],\"type\":\"scatter\"},{\"hoverinfo\":\"text\",\"hoveron\":\"fills\",\"hovertext\":\"tensor(0.0580)\",\"marker\":{\"color\":\"rgb(217, 217, 217)\",\"opacity\":1},\"showlegend\":false,\"text\":\"tensor(0.0580)\",\"x\":[2,3],\"y\":[1.3244906663894653,2.6290619373321533],\"type\":\"scatter\"},{\"hoverinfo\":\"text\",\"hoveron\":\"fills\",\"hovertext\":\"tensor(0.0581)\",\"marker\":{\"color\":\"rgb(217, 217, 217)\",\"opacity\":1},\"showlegend\":false,\"text\":\"tensor(0.0581)\",\"x\":[2,3],\"y\":[1.4536851644515991,0.9320855736732483],\"type\":\"scatter\"},{\"hoverinfo\":\"text\",\"hoveron\":\"fills\",\"hovertext\":\"tensor(0.0581)\",\"marker\":{\"color\":\"rgb(217, 217, 217)\",\"opacity\":1},\"showlegend\":false,\"text\":\"tensor(0.0581)\",\"x\":[2,3],\"y\":[1.169908046722412,2.4459035396575928],\"type\":\"scatter\"},{\"hoverinfo\":\"text\",\"hoveron\":\"fills\",\"hovertext\":\"tensor(0.0583)\",\"marker\":{\"color\":\"rgb(216, 216, 216)\",\"opacity\":1},\"showlegend\":false,\"text\":\"tensor(0.0583)\",\"x\":[2,3],\"y\":[0.8459863662719727,2.2059059143066406],\"type\":\"scatter\"},{\"hoverinfo\":\"text\",\"hoveron\":\"fills\",\"hovertext\":\"tensor(0.0598)\",\"marker\":{\"color\":\"rgb(214, 214, 214)\",\"opacity\":1},\"showlegend\":false,\"text\":\"tensor(0.0598)\",\"x\":[2,3],\"y\":[1.4536851644515991,1.6614478826522827],\"type\":\"scatter\"},{\"hoverinfo\":\"text\",\"hoveron\":\"fills\",\"hovertext\":\"tensor(0.0603)\",\"marker\":{\"color\":\"rgb(214, 214, 214)\",\"opacity\":1},\"showlegend\":false,\"text\":\"tensor(0.0603)\",\"x\":[2,3],\"y\":[1.3244906663894653,2.2129838466644287],\"type\":\"scatter\"},{\"hoverinfo\":\"text\",\"hoveron\":\"fills\",\"hovertext\":\"tensor(0.0609)\",\"marker\":{\"color\":\"rgb(213, 213, 213)\",\"opacity\":1},\"showlegend\":false,\"text\":\"tensor(0.0609)\",\"x\":[2,3],\"y\":[0.931535005569458,0.5910821557044983],\"type\":\"scatter\"},{\"hoverinfo\":\"text\",\"hoveron\":\"fills\",\"hovertext\":\"tensor(0.0618)\",\"marker\":{\"color\":\"rgb(212, 212, 212)\",\"opacity\":1},\"showlegend\":false,\"text\":\"tensor(0.0618)\",\"x\":[2,3],\"y\":[0.931535005569458,3.983774423599243],\"type\":\"scatter\"},{\"hoverinfo\":\"text\",\"hoveron\":\"fills\",\"hovertext\":\"tensor(0.0630)\",\"marker\":{\"color\":\"rgb(210, 210, 210)\",\"opacity\":1},\"showlegend\":false,\"text\":\"tensor(0.0630)\",\"x\":[2,3],\"y\":[1.2139644622802734,2.1376633644104004],\"type\":\"scatter\"},{\"hoverinfo\":\"text\",\"hoveron\":\"fills\",\"hovertext\":\"tensor(0.0637)\",\"marker\":{\"color\":\"rgb(209, 209, 209)\",\"opacity\":1},\"showlegend\":false,\"text\":\"tensor(0.0637)\",\"x\":[2,3],\"y\":[1.2990845441818237,2.019932985305786],\"type\":\"scatter\"},{\"hoverinfo\":\"text\",\"hoveron\":\"fills\",\"hovertext\":\"tensor(0.0640)\",\"marker\":{\"color\":\"rgb(209, 209, 209)\",\"opacity\":1},\"showlegend\":false,\"text\":\"tensor(0.0640)\",\"x\":[2,3],\"y\":[1.369702935218811,1.6058075428009033],\"type\":\"scatter\"},{\"hoverinfo\":\"text\",\"hoveron\":\"fills\",\"hovertext\":\"tensor(0.0662)\",\"marker\":{\"color\":\"rgb(206, 206, 206)\",\"opacity\":1},\"showlegend\":false,\"text\":\"tensor(0.0662)\",\"x\":[2,3],\"y\":[1.3244906663894653,1.349476933479309],\"type\":\"scatter\"},{\"hoverinfo\":\"text\",\"hoveron\":\"fills\",\"hovertext\":\"tensor(0.0672)\",\"marker\":{\"color\":\"rgb(205, 205, 205)\",\"opacity\":1},\"showlegend\":false,\"text\":\"tensor(0.0672)\",\"x\":[2,3],\"y\":[1.169908046722412,1.2876253128051758],\"type\":\"scatter\"},{\"hoverinfo\":\"text\",\"hoveron\":\"fills\",\"hovertext\":\"tensor(0.0684)\",\"marker\":{\"color\":\"rgb(204, 204, 204)\",\"opacity\":1},\"showlegend\":false,\"text\":\"tensor(0.0684)\",\"x\":[2,3],\"y\":[1.4741110801696777,1.78946053981781],\"type\":\"scatter\"},{\"hoverinfo\":\"text\",\"hoveron\":\"fills\",\"hovertext\":\"tensor(0.0697)\",\"marker\":{\"color\":\"rgb(202, 202, 202)\",\"opacity\":1},\"showlegend\":false,\"text\":\"tensor(0.0697)\",\"x\":[2,3],\"y\":[1.1989957094192505,2.019932985305786],\"type\":\"scatter\"},{\"hoverinfo\":\"text\",\"hoveron\":\"fills\",\"hovertext\":\"tensor(0.0697)\",\"marker\":{\"color\":\"rgb(202, 202, 202)\",\"opacity\":1},\"showlegend\":false,\"text\":\"tensor(0.0697)\",\"x\":[2,3],\"y\":[1.7076104879379272,2.3143086433410645],\"type\":\"scatter\"},{\"hoverinfo\":\"text\",\"hoveron\":\"fills\",\"hovertext\":\"tensor(0.0699)\",\"marker\":{\"color\":\"rgb(202, 202, 202)\",\"opacity\":1},\"showlegend\":false,\"text\":\"tensor(0.0699)\",\"x\":[2,3],\"y\":[1.0444220304489136,2.2639379501342773],\"type\":\"scatter\"},{\"hoverinfo\":\"text\",\"hoveron\":\"fills\",\"hovertext\":\"tensor(0.0701)\",\"marker\":{\"color\":\"rgb(201, 201, 201)\",\"opacity\":1},\"showlegend\":false,\"text\":\"tensor(0.0701)\",\"x\":[2,3],\"y\":[1.2990845441818237,1.4967232942581177],\"type\":\"scatter\"},{\"hoverinfo\":\"text\",\"hoveron\":\"fills\",\"hovertext\":\"tensor(0.0717)\",\"marker\":{\"color\":\"rgb(199, 199, 199)\",\"opacity\":1},\"showlegend\":false,\"text\":\"tensor(0.0717)\",\"x\":[2,3],\"y\":[0.7068561911582947,1.6125266551971436],\"type\":\"scatter\"},{\"hoverinfo\":\"text\",\"hoveron\":\"fills\",\"hovertext\":\"tensor(0.0731)\",\"marker\":{\"color\":\"rgb(198, 198, 198)\",\"opacity\":1},\"showlegend\":false,\"text\":\"tensor(0.0731)\",\"x\":[2,3],\"y\":[1.100414514541626,1.8588289022445679],\"type\":\"scatter\"},{\"hoverinfo\":\"text\",\"hoveron\":\"fills\",\"hovertext\":\"tensor(0.0738)\",\"marker\":{\"color\":\"rgb(197, 197, 197)\",\"opacity\":1},\"showlegend\":false,\"text\":\"tensor(0.0738)\",\"x\":[2,3],\"y\":[1.5580251216888428,1.1778103113174438],\"type\":\"scatter\"},{\"hoverinfo\":\"text\",\"hoveron\":\"fills\",\"hovertext\":\"tensor(0.0778)\",\"marker\":{\"color\":\"rgb(192, 192, 192)\",\"opacity\":1},\"showlegend\":false,\"text\":\"tensor(0.0778)\",\"x\":[2,3],\"y\":[1.4113447666168213,0.6606476902961731],\"type\":\"scatter\"},{\"hoverinfo\":\"text\",\"hoveron\":\"fills\",\"hovertext\":\"tensor(0.0781)\",\"marker\":{\"color\":\"rgb(191, 191, 191)\",\"opacity\":1},\"showlegend\":false,\"text\":\"tensor(0.0781)\",\"x\":[2,3],\"y\":[1.4113447666168213,0.40976613759994507],\"type\":\"scatter\"},{\"hoverinfo\":\"text\",\"hoveron\":\"fills\",\"hovertext\":\"tensor(0.0785)\",\"marker\":{\"color\":\"rgb(191, 191, 191)\",\"opacity\":1},\"showlegend\":false,\"text\":\"tensor(0.0785)\",\"x\":[2,3],\"y\":[1.4113447666168213,1.4695656299591064],\"type\":\"scatter\"},{\"hoverinfo\":\"text\",\"hoveron\":\"fills\",\"hovertext\":\"tensor(0.0825)\",\"marker\":{\"color\":\"rgb(186, 186, 186)\",\"opacity\":1},\"showlegend\":false,\"text\":\"tensor(0.0825)\",\"x\":[2,3],\"y\":[1.100414514541626,2.2059059143066406],\"type\":\"scatter\"},{\"hoverinfo\":\"text\",\"hoveron\":\"fills\",\"hovertext\":\"tensor(0.0838)\",\"marker\":{\"color\":\"rgb(184, 184, 184)\",\"opacity\":1},\"showlegend\":false,\"text\":\"tensor(0.0838)\",\"x\":[2,3],\"y\":[1.4536851644515991,1.8588289022445679],\"type\":\"scatter\"},{\"hoverinfo\":\"text\",\"hoveron\":\"fills\",\"hovertext\":\"tensor(0.0844)\",\"marker\":{\"color\":\"rgb(183, 183, 183)\",\"opacity\":1},\"showlegend\":false,\"text\":\"tensor(0.0844)\",\"x\":[2,3],\"y\":[1.7076104879379272,1.4967232942581177],\"type\":\"scatter\"},{\"hoverinfo\":\"text\",\"hoveron\":\"fills\",\"hovertext\":\"tensor(0.0869)\",\"marker\":{\"color\":\"rgb(180, 180, 180)\",\"opacity\":1},\"showlegend\":false,\"text\":\"tensor(0.0869)\",\"x\":[2,3],\"y\":[1.6701821088790894,0.16390176117420197],\"type\":\"scatter\"},{\"hoverinfo\":\"text\",\"hoveron\":\"fills\",\"hovertext\":\"tensor(0.0879)\",\"marker\":{\"color\":\"rgb(179, 179, 179)\",\"opacity\":1},\"showlegend\":false,\"text\":\"tensor(0.0879)\",\"x\":[2,3],\"y\":[0.7068561911582947,1.6614478826522827],\"type\":\"scatter\"},{\"hoverinfo\":\"text\",\"hoveron\":\"fills\",\"hovertext\":\"tensor(0.0917)\",\"marker\":{\"color\":\"rgb(174, 174, 174)\",\"opacity\":1},\"showlegend\":false,\"text\":\"tensor(0.0917)\",\"x\":[2,3],\"y\":[1.4113447666168213,1.9227077960968018],\"type\":\"scatter\"},{\"hoverinfo\":\"text\",\"hoveron\":\"fills\",\"hovertext\":\"tensor(0.0937)\",\"marker\":{\"color\":\"rgb(171, 171, 171)\",\"opacity\":1},\"showlegend\":false,\"text\":\"tensor(0.0937)\",\"x\":[2,3],\"y\":[1.2851179838180542,1.8328523635864258],\"type\":\"scatter\"},{\"hoverinfo\":\"text\",\"hoveron\":\"fills\",\"hovertext\":\"tensor(0.0959)\",\"marker\":{\"color\":\"rgb(169, 169, 169)\",\"opacity\":1},\"showlegend\":false,\"text\":\"tensor(0.0959)\",\"x\":[2,3],\"y\":[1.5580251216888428,1.9047176837921143],\"type\":\"scatter\"},{\"hoverinfo\":\"text\",\"hoveron\":\"fills\",\"hovertext\":\"tensor(0.0982)\",\"marker\":{\"color\":\"rgb(166, 166, 166)\",\"opacity\":1},\"showlegend\":false,\"text\":\"tensor(0.0982)\",\"x\":[2,3],\"y\":[1.169908046722412,2.715660333633423],\"type\":\"scatter\"},{\"hoverinfo\":\"text\",\"hoveron\":\"fills\",\"hovertext\":\"tensor(0.0983)\",\"marker\":{\"color\":\"rgb(166, 166, 166)\",\"opacity\":1},\"showlegend\":false,\"text\":\"tensor(0.0983)\",\"x\":[2,3],\"y\":[1.5199308395385742,1.1281819343566895],\"type\":\"scatter\"},{\"hoverinfo\":\"text\",\"hoveron\":\"fills\",\"hovertext\":\"tensor(0.0984)\",\"marker\":{\"color\":\"rgb(166, 166, 166)\",\"opacity\":1},\"showlegend\":false,\"text\":\"tensor(0.0984)\",\"x\":[2,3],\"y\":[1.6701821088790894,2.0577101707458496],\"type\":\"scatter\"},{\"hoverinfo\":\"text\",\"hoveron\":\"fills\",\"hovertext\":\"tensor(0.0993)\",\"marker\":{\"color\":\"rgb(164, 164, 164)\",\"opacity\":1},\"showlegend\":false,\"text\":\"tensor(0.0993)\",\"x\":[2,3],\"y\":[0.7068561911582947,1.4695656299591064],\"type\":\"scatter\"},{\"hoverinfo\":\"text\",\"hoveron\":\"fills\",\"hovertext\":\"tensor(0.1016)\",\"marker\":{\"color\":\"rgb(162, 162, 162)\",\"opacity\":1},\"showlegend\":false,\"text\":\"tensor(0.1016)\",\"x\":[2,3],\"y\":[1.5580251216888428,1.8328523635864258],\"type\":\"scatter\"},{\"hoverinfo\":\"text\",\"hoveron\":\"fills\",\"hovertext\":\"tensor(0.1033)\",\"marker\":{\"color\":\"rgb(159, 159, 159)\",\"opacity\":1},\"showlegend\":false,\"text\":\"tensor(0.1033)\",\"x\":[2,3],\"y\":[1.2139644622802734,2.4663312435150146],\"type\":\"scatter\"},{\"hoverinfo\":\"text\",\"hoveron\":\"fills\",\"hovertext\":\"tensor(0.1323)\",\"marker\":{\"color\":\"rgb(123, 123, 123)\",\"opacity\":1},\"showlegend\":false,\"text\":\"tensor(0.1323)\",\"x\":[2,3],\"y\":[1.3244906663894653,1.8588289022445679],\"type\":\"scatter\"},{\"hoverinfo\":\"text\",\"hoveron\":\"fills\",\"hovertext\":\"tensor(0.1466)\",\"marker\":{\"color\":\"rgb(105, 105, 105)\",\"opacity\":1},\"showlegend\":false,\"text\":\"tensor(0.1466)\",\"x\":[2,3],\"y\":[1.6701821088790894,0.27540603280067444],\"type\":\"scatter\"},{\"marker\":{\"cmax\":1,\"cmin\":0,\"color\":[1.0,0.07760842889547348,0.025043120607733727,0.20883691310882568,0.34239810705184937,0.04716543108224869,0.0,0.05453077331185341,0.048800572752952576,0.0,0.030703825876116753,0.0,0.076909638941288,0.0,0.0,0.05528309568762779,0.0,0.0,0.0,0.0,0.0,0.0,0.0,0.03164433687925339,0.0,0.002994783688336611,0.0,0.017540013417601585,0.007521188352257013,0.0,0.0,0.0,0.0,0.0,0.0,0.0,0.026926757767796516,0.0,0.04627135396003723,0.04117162898182869,0.0,0.0586252324283123,0.025359725579619408,0.010214550420641899,0.0,0.0,0.0,0.0,0.03788233920931816,0.2815952003002167,0.0,0.003639096161350608,0.02990022674202919,0.060500193387269974,0.02411315217614174,0.1200581043958664,0.0,0.0,0.0021590462420135736,0.0,0.26316195726394653,0.22453132271766663,0.0,0.09944407641887665,0.033382855355739594,0.07916606962680817,0.16487286984920502,0.008345880545675755,0.0085366889834404,0.2730948030948639,0.2006918340921402,0.027315324172377586,0.3543635904788971,0.0026562726125121117,0.10681845992803574,0.18041197955608368,0.57216477394104,0.304801881313324,0.0,0.6390243768692017,0.13681308925151825,0.6036184430122375,0.7400956749916077,0.3635205328464508,0.41796064376831055,0.1366066187620163,0.19645147025585175,0.4901059567928314,0.42138805985450745,0.3109154999256134,0.5701295137405396,0.5666968822479248,0.493683785200119,0.5281986594200134,0.6537079811096191,0.7961856722831726,0.6684107184410095,0.48293057084083557,0.5938119292259216,0.8072624802589417],\"colorscale\":[[0,\"grey\"],[1,\"blue\"]],\"opacity\":1},\"mode\":\"markers\",\"showlegend\":false,\"x\":[0,0,0,0,0,0,0,0,0,0,0,0,0,0,0,0,0,0,0,0,0,0,0,0,0,0,0,0,0,0,0,0,0,0,0,0,0,0,0,0,0,0,0,0,0,0,0,0,0,0,0,0,0,0,0,0,0,0,0,0,0,0,0,0,0,0,0,0,0,0,0,0,0,0,0,0,0,0,0,0,0,0,0,0,0,0,0,0,0,0,0,0,0,0,0,0,0,0,0,0],\"y\":[0.6132833957672119,0.7531019449234009,0.7792544960975647,0.7942330837249756,0.8361209034919739,0.8726426959037781,0.8796297311782837,0.9011120200157166,0.9209587574005127,0.9467439651489258,0.9545454382896423,0.9800134897232056,0.9866744875907898,1.0099848508834839,1.022818684577942,1.0488061904907227,1.0513912439346313,1.0748884677886963,1.0924044847488403,1.1211161613464355,1.133892297744751,1.160874843597412,1.1680318117141724,1.2034268379211426,1.2100577354431152,1.2424236536026,1.2515771389007568,1.2840697765350342,1.314836859703064,1.3320003747940063,1.3432039022445679,1.3516970872879028,1.3881596326828003,1.3961933851242065,1.4510583877563477,1.4538602828979492,1.4938699007034302,1.508805513381958,1.528975009918213,1.5974777936935425,1.6007007360458374,1.6217454671859741,1.6491457223892212,1.6618403196334839,1.7006525993347168,1.7264095544815063,1.7392631769180298,1.756422758102417,1.788145899772644,1.8193022012710571,1.846677541732788,1.852670431137085,1.8619521856307983,1.9215589761734009,1.936113715171814,1.9828819036483765,2.015448570251465,2.024095058441162,2.0441107749938965,2.0519540309906006,2.126610279083252,2.139887571334839,2.1503822803497314,2.2057909965515137,2.2270431518554688,2.2569262981414795,2.2932965755462646,2.3122222423553467,2.323760986328125,2.361077308654785,2.392364025115967,2.425569534301758,2.4578988552093506,2.485501527786255,2.5078911781311035,2.5596470832824707,2.5752620697021484,2.5931129455566406,2.639782190322876,2.6714441776275635,2.704345464706421,2.7688844203948975,2.796233892440796,2.8289291858673096,2.882082462310791,2.9267921447753906,2.9346117973327637,3.0429201126098633,3.058302164077759,3.0732574462890625,3.159949779510498,3.23360538482666,3.2907259464263916,3.3122904300689697,3.404479503631592,3.415273904800415,3.647151470184326,3.7332119941711426,3.9885919094085693,4.804696083068848],\"type\":\"scatter\"},{\"marker\":{\"cmax\":1,\"cmin\":0,\"color\":[0.48349514603614807,0.7917417287826538,0.9776451587677002,0.4997141659259796,0.9477508068084717,1.0,0.2542944550514221,0.4572238028049469,0.35982945561408997,0.6663968563079834,0.5339017510414124,0.8591054081916809,0.6807882785797119,0.27764201164245605,0.6047382950782776,0.5026720762252808,0.2939315736293793,0.08152615278959274,0.08317243307828903,1.6478819816256873e-05],\"colorscale\":[[0,\"grey\"],[1,\"blue\"]],\"opacity\":1},\"mode\":\"markers\",\"showlegend\":false,\"x\":[1,1,1,1,1,1,1,1,1,1,1,1,1,1,1,1,1,1,1,1],\"y\":[0.3042122423648834,0.32427841424942017,0.3369946777820587,0.343168169260025,0.3720211088657379,0.37859150767326355,0.3977718651294708,0.3989025950431824,0.4202691614627838,0.42812344431877136,0.45438575744628906,0.46499326825141907,0.49586597084999084,0.5042160749435425,0.5492258071899414,0.5612174868583679,0.5978738069534302,0.626976490020752,0.6904761791229248,1.0267270803451538],\"type\":\"scatter\"},{\"marker\":{\"cmax\":1,\"cmin\":0,\"color\":[1.0,0.4590040445327759,0.6121881604194641,0.1872006505727768,0.6942005157470703,0.7404605746269226,0.5519761443138123,0.2317168414592743,0.3510681092739105,0.4562877118587494,0.33574339747428894,0.722624659538269,0.1039985790848732,0.10497314482927322,0.5493122935295105,0.22425925731658936,0.05816120281815529,0.09465835988521576,0.00011238512524869293,0.2018376588821411],\"colorscale\":[[0,\"grey\"],[1,\"blue\"]],\"opacity\":1},\"mode\":\"markers\",\"showlegend\":false,\"x\":[2,2,2,2,2,2,2,2,2,2,2,2,2,2,2,2,2,2,2,2],\"y\":[0.7068561911582947,0.8459863662719727,0.931535005569458,0.9749743342399597,1.0444220304489136,1.100414514541626,1.169908046722412,1.1989957094192505,1.2139644622802734,1.2851179838180542,1.2990845441818237,1.3244906663894653,1.369702935218811,1.4113447666168213,1.4536851644515991,1.4741110801696777,1.5199308395385742,1.5580251216888428,1.6701821088790894,1.7076104879379272],\"type\":\"scatter\"},{\"marker\":{\"cmax\":1,\"cmin\":0,\"color\":[1.0,1.0,1.0,1.0,1.0,1.0,1.0,1.0,1.0,1.0,1.0,1.0,1.0,1.0,1.0,1.0,1.0,1.0,1.0,1.0,1.0,1.0,1.0,1.0,1.0,1.0,1.0,1.0,1.0,1.0,1.0,1.0,1.0,1.0,1.0,1.0,1.0,1.0,1.0,1.0,1.0,1.0,1.0,1.0,1.0,1.0,1.0,1.0,1.0,1.0,1.0,1.0,1.0,1.0,1.0,1.0,1.0,1.0,1.0,1.0,1.0,1.0,1.0,1.0,1.0,1.0,1.0,1.0,1.0,1.0,1.0,1.0,1.0,1.0,1.0,1.0,1.0,1.0,1.0,1.0,1.0,1.0,1.0,1.0,1.0,1.0,1.0,1.0,1.0,1.0,1.0,1.0,1.0,1.0,1.0,1.0,1.0,1.0,1.0,1.0],\"colorscale\":[[0,\"grey\"],[1,\"blue\"]],\"opacity\":1},\"mode\":\"markers\",\"showlegend\":false,\"x\":[3,3,3,3,3,3,3,3,3,3,3,3,3,3,3,3,3,3,3,3,3,3,3,3,3,3,3,3,3,3,3,3,3,3,3,3,3,3,3,3,3,3,3,3,3,3,3,3,3,3,3,3,3,3,3,3,3,3,3,3,3,3,3,3,3,3,3,3,3,3,3,3,3,3,3,3,3,3,3,3,3,3,3,3,3,3,3,3,3,3,3,3,3,3,3,3,3,3,3,3],\"y\":[0.16390176117420197,0.27540603280067444,0.30333060026168823,0.3361114263534546,0.3797321617603302,0.40976613759994507,0.4344148337841034,0.4687801003456116,0.4783191680908203,0.4896848499774933,0.5483348965644836,0.5782589316368103,0.5910821557044983,0.6164600253105164,0.6606476902961731,0.6846404075622559,0.71257483959198,0.7366378307342529,0.7390692234039307,0.8142604231834412,0.8182922601699829,0.8824418783187866,0.906166672706604,0.9320855736732483,0.9806090593338013,1.0552258491516113,1.066525936126709,1.1281819343566895,1.1657606363296509,1.1778103113174438,1.2516722679138184,1.2876253128051758,1.3369630575180054,1.349476933479309,1.3788464069366455,1.4524025917053223,1.4695656299591064,1.4967232942581177,1.5352438688278198,1.5445832014083862,1.5829403400421143,1.6058075428009033,1.6125266551971436,1.6567156314849854,1.6614478826522827,1.7006748914718628,1.78946053981781,1.811625361442566,1.8328523635864258,1.8588289022445679,1.9047176837921143,1.9227077960968018,1.9768190383911133,2.019932985305786,2.0577101707458496,2.1376633644104004,2.149627447128296,2.2059059143066406,2.2129838466644287,2.2639379501342773,2.3143086433410645,2.3331425189971924,2.4459035396575928,2.4663312435150146,2.4752981662750244,2.50468111038208,2.5701990127563477,2.6290619373321533,2.6651079654693604,2.715660333633423,2.7747862339019775,2.7989161014556885,2.8279807567596436,2.843845844268799,2.9564461708068848,2.979180335998535,3.0298357009887695,3.07024884223938,3.1060519218444824,3.18759822845459,3.252592086791992,3.3069002628326416,3.313072919845581,3.37825345993042,3.4150495529174805,3.475457191467285,3.5638864040374756,3.6479380130767822,3.7101199626922607,3.7336509227752686,3.841622829437256,3.983774423599243,4.010087966918945,4.116659164428711,4.162781238555908,4.318966865539551,4.435929775238037,4.46183967590332,4.63397741317749,4.731869220733643],\"type\":\"scatter\"}],                        {\"title\":{\"text\":\"Network SVR - Link minimum significance : 2 sigma\"},\"xaxis\":{\"title\":{\"text\":\"Layer index\"}},\"yaxis\":{\"title\":{\"text\":\"Singular value\"}},\"template\":{\"data\":{\"bar\":[{\"error_x\":{\"color\":\"#2a3f5f\"},\"error_y\":{\"color\":\"#2a3f5f\"},\"marker\":{\"line\":{\"color\":\"#E5ECF6\",\"width\":0.5},\"pattern\":{\"fillmode\":\"overlay\",\"size\":10,\"solidity\":0.2}},\"type\":\"bar\"}],\"barpolar\":[{\"marker\":{\"line\":{\"color\":\"#E5ECF6\",\"width\":0.5},\"pattern\":{\"fillmode\":\"overlay\",\"size\":10,\"solidity\":0.2}},\"type\":\"barpolar\"}],\"carpet\":[{\"aaxis\":{\"endlinecolor\":\"#2a3f5f\",\"gridcolor\":\"white\",\"linecolor\":\"white\",\"minorgridcolor\":\"white\",\"startlinecolor\":\"#2a3f5f\"},\"baxis\":{\"endlinecolor\":\"#2a3f5f\",\"gridcolor\":\"white\",\"linecolor\":\"white\",\"minorgridcolor\":\"white\",\"startlinecolor\":\"#2a3f5f\"},\"type\":\"carpet\"}],\"choropleth\":[{\"colorbar\":{\"outlinewidth\":0,\"ticks\":\"\"},\"type\":\"choropleth\"}],\"contour\":[{\"colorbar\":{\"outlinewidth\":0,\"ticks\":\"\"},\"colorscale\":[[0.0,\"#0d0887\"],[0.1111111111111111,\"#46039f\"],[0.2222222222222222,\"#7201a8\"],[0.3333333333333333,\"#9c179e\"],[0.4444444444444444,\"#bd3786\"],[0.5555555555555556,\"#d8576b\"],[0.6666666666666666,\"#ed7953\"],[0.7777777777777778,\"#fb9f3a\"],[0.8888888888888888,\"#fdca26\"],[1.0,\"#f0f921\"]],\"type\":\"contour\"}],\"contourcarpet\":[{\"colorbar\":{\"outlinewidth\":0,\"ticks\":\"\"},\"type\":\"contourcarpet\"}],\"heatmap\":[{\"colorbar\":{\"outlinewidth\":0,\"ticks\":\"\"},\"colorscale\":[[0.0,\"#0d0887\"],[0.1111111111111111,\"#46039f\"],[0.2222222222222222,\"#7201a8\"],[0.3333333333333333,\"#9c179e\"],[0.4444444444444444,\"#bd3786\"],[0.5555555555555556,\"#d8576b\"],[0.6666666666666666,\"#ed7953\"],[0.7777777777777778,\"#fb9f3a\"],[0.8888888888888888,\"#fdca26\"],[1.0,\"#f0f921\"]],\"type\":\"heatmap\"}],\"heatmapgl\":[{\"colorbar\":{\"outlinewidth\":0,\"ticks\":\"\"},\"colorscale\":[[0.0,\"#0d0887\"],[0.1111111111111111,\"#46039f\"],[0.2222222222222222,\"#7201a8\"],[0.3333333333333333,\"#9c179e\"],[0.4444444444444444,\"#bd3786\"],[0.5555555555555556,\"#d8576b\"],[0.6666666666666666,\"#ed7953\"],[0.7777777777777778,\"#fb9f3a\"],[0.8888888888888888,\"#fdca26\"],[1.0,\"#f0f921\"]],\"type\":\"heatmapgl\"}],\"histogram\":[{\"marker\":{\"pattern\":{\"fillmode\":\"overlay\",\"size\":10,\"solidity\":0.2}},\"type\":\"histogram\"}],\"histogram2d\":[{\"colorbar\":{\"outlinewidth\":0,\"ticks\":\"\"},\"colorscale\":[[0.0,\"#0d0887\"],[0.1111111111111111,\"#46039f\"],[0.2222222222222222,\"#7201a8\"],[0.3333333333333333,\"#9c179e\"],[0.4444444444444444,\"#bd3786\"],[0.5555555555555556,\"#d8576b\"],[0.6666666666666666,\"#ed7953\"],[0.7777777777777778,\"#fb9f3a\"],[0.8888888888888888,\"#fdca26\"],[1.0,\"#f0f921\"]],\"type\":\"histogram2d\"}],\"histogram2dcontour\":[{\"colorbar\":{\"outlinewidth\":0,\"ticks\":\"\"},\"colorscale\":[[0.0,\"#0d0887\"],[0.1111111111111111,\"#46039f\"],[0.2222222222222222,\"#7201a8\"],[0.3333333333333333,\"#9c179e\"],[0.4444444444444444,\"#bd3786\"],[0.5555555555555556,\"#d8576b\"],[0.6666666666666666,\"#ed7953\"],[0.7777777777777778,\"#fb9f3a\"],[0.8888888888888888,\"#fdca26\"],[1.0,\"#f0f921\"]],\"type\":\"histogram2dcontour\"}],\"mesh3d\":[{\"colorbar\":{\"outlinewidth\":0,\"ticks\":\"\"},\"type\":\"mesh3d\"}],\"parcoords\":[{\"line\":{\"colorbar\":{\"outlinewidth\":0,\"ticks\":\"\"}},\"type\":\"parcoords\"}],\"pie\":[{\"automargin\":true,\"type\":\"pie\"}],\"scatter\":[{\"marker\":{\"colorbar\":{\"outlinewidth\":0,\"ticks\":\"\"}},\"type\":\"scatter\"}],\"scatter3d\":[{\"line\":{\"colorbar\":{\"outlinewidth\":0,\"ticks\":\"\"}},\"marker\":{\"colorbar\":{\"outlinewidth\":0,\"ticks\":\"\"}},\"type\":\"scatter3d\"}],\"scattercarpet\":[{\"marker\":{\"colorbar\":{\"outlinewidth\":0,\"ticks\":\"\"}},\"type\":\"scattercarpet\"}],\"scattergeo\":[{\"marker\":{\"colorbar\":{\"outlinewidth\":0,\"ticks\":\"\"}},\"type\":\"scattergeo\"}],\"scattergl\":[{\"marker\":{\"colorbar\":{\"outlinewidth\":0,\"ticks\":\"\"}},\"type\":\"scattergl\"}],\"scattermapbox\":[{\"marker\":{\"colorbar\":{\"outlinewidth\":0,\"ticks\":\"\"}},\"type\":\"scattermapbox\"}],\"scatterpolar\":[{\"marker\":{\"colorbar\":{\"outlinewidth\":0,\"ticks\":\"\"}},\"type\":\"scatterpolar\"}],\"scatterpolargl\":[{\"marker\":{\"colorbar\":{\"outlinewidth\":0,\"ticks\":\"\"}},\"type\":\"scatterpolargl\"}],\"scatterternary\":[{\"marker\":{\"colorbar\":{\"outlinewidth\":0,\"ticks\":\"\"}},\"type\":\"scatterternary\"}],\"surface\":[{\"colorbar\":{\"outlinewidth\":0,\"ticks\":\"\"},\"colorscale\":[[0.0,\"#0d0887\"],[0.1111111111111111,\"#46039f\"],[0.2222222222222222,\"#7201a8\"],[0.3333333333333333,\"#9c179e\"],[0.4444444444444444,\"#bd3786\"],[0.5555555555555556,\"#d8576b\"],[0.6666666666666666,\"#ed7953\"],[0.7777777777777778,\"#fb9f3a\"],[0.8888888888888888,\"#fdca26\"],[1.0,\"#f0f921\"]],\"type\":\"surface\"}],\"table\":[{\"cells\":{\"fill\":{\"color\":\"#EBF0F8\"},\"line\":{\"color\":\"white\"}},\"header\":{\"fill\":{\"color\":\"#C8D4E3\"},\"line\":{\"color\":\"white\"}},\"type\":\"table\"}]},\"layout\":{\"annotationdefaults\":{\"arrowcolor\":\"#2a3f5f\",\"arrowhead\":0,\"arrowwidth\":1},\"autotypenumbers\":\"strict\",\"coloraxis\":{\"colorbar\":{\"outlinewidth\":0,\"ticks\":\"\"}},\"colorscale\":{\"diverging\":[[0,\"#8e0152\"],[0.1,\"#c51b7d\"],[0.2,\"#de77ae\"],[0.3,\"#f1b6da\"],[0.4,\"#fde0ef\"],[0.5,\"#f7f7f7\"],[0.6,\"#e6f5d0\"],[0.7,\"#b8e186\"],[0.8,\"#7fbc41\"],[0.9,\"#4d9221\"],[1,\"#276419\"]],\"sequential\":[[0.0,\"#0d0887\"],[0.1111111111111111,\"#46039f\"],[0.2222222222222222,\"#7201a8\"],[0.3333333333333333,\"#9c179e\"],[0.4444444444444444,\"#bd3786\"],[0.5555555555555556,\"#d8576b\"],[0.6666666666666666,\"#ed7953\"],[0.7777777777777778,\"#fb9f3a\"],[0.8888888888888888,\"#fdca26\"],[1.0,\"#f0f921\"]],\"sequentialminus\":[[0.0,\"#0d0887\"],[0.1111111111111111,\"#46039f\"],[0.2222222222222222,\"#7201a8\"],[0.3333333333333333,\"#9c179e\"],[0.4444444444444444,\"#bd3786\"],[0.5555555555555556,\"#d8576b\"],[0.6666666666666666,\"#ed7953\"],[0.7777777777777778,\"#fb9f3a\"],[0.8888888888888888,\"#fdca26\"],[1.0,\"#f0f921\"]]},\"colorway\":[\"#636efa\",\"#EF553B\",\"#00cc96\",\"#ab63fa\",\"#FFA15A\",\"#19d3f3\",\"#FF6692\",\"#B6E880\",\"#FF97FF\",\"#FECB52\"],\"font\":{\"color\":\"#2a3f5f\"},\"geo\":{\"bgcolor\":\"white\",\"lakecolor\":\"white\",\"landcolor\":\"#E5ECF6\",\"showlakes\":true,\"showland\":true,\"subunitcolor\":\"white\"},\"hoverlabel\":{\"align\":\"left\"},\"hovermode\":\"closest\",\"mapbox\":{\"style\":\"light\"},\"paper_bgcolor\":\"white\",\"plot_bgcolor\":\"#E5ECF6\",\"polar\":{\"angularaxis\":{\"gridcolor\":\"white\",\"linecolor\":\"white\",\"ticks\":\"\"},\"bgcolor\":\"#E5ECF6\",\"radialaxis\":{\"gridcolor\":\"white\",\"linecolor\":\"white\",\"ticks\":\"\"}},\"scene\":{\"xaxis\":{\"backgroundcolor\":\"#E5ECF6\",\"gridcolor\":\"white\",\"gridwidth\":2,\"linecolor\":\"white\",\"showbackground\":true,\"ticks\":\"\",\"zerolinecolor\":\"white\"},\"yaxis\":{\"backgroundcolor\":\"#E5ECF6\",\"gridcolor\":\"white\",\"gridwidth\":2,\"linecolor\":\"white\",\"showbackground\":true,\"ticks\":\"\",\"zerolinecolor\":\"white\"},\"zaxis\":{\"backgroundcolor\":\"#E5ECF6\",\"gridcolor\":\"white\",\"gridwidth\":2,\"linecolor\":\"white\",\"showbackground\":true,\"ticks\":\"\",\"zerolinecolor\":\"white\"}},\"shapedefaults\":{\"line\":{\"color\":\"#2a3f5f\"}},\"ternary\":{\"aaxis\":{\"gridcolor\":\"white\",\"linecolor\":\"white\",\"ticks\":\"\"},\"baxis\":{\"gridcolor\":\"white\",\"linecolor\":\"white\",\"ticks\":\"\"},\"bgcolor\":\"#E5ECF6\",\"caxis\":{\"gridcolor\":\"white\",\"linecolor\":\"white\",\"ticks\":\"\"}},\"title\":{\"x\":0.05},\"xaxis\":{\"automargin\":true,\"gridcolor\":\"white\",\"linecolor\":\"white\",\"ticks\":\"\",\"title\":{\"standoff\":15},\"zerolinecolor\":\"white\",\"zerolinewidth\":2},\"yaxis\":{\"automargin\":true,\"gridcolor\":\"white\",\"linecolor\":\"white\",\"ticks\":\"\",\"title\":{\"standoff\":15},\"zerolinecolor\":\"white\",\"zerolinewidth\":2}}}},                        {\"responsive\": true}                    ).then(function(){\n",
       "                            \n",
       "var gd = document.getElementById('3b6f7c1b-590a-42e7-a3bc-a1702dc105f3');\n",
       "var x = new MutationObserver(function (mutations, observer) {{\n",
       "        var display = window.getComputedStyle(gd).display;\n",
       "        if (!display || display === 'none') {{\n",
       "            console.log([gd, 'removed!']);\n",
       "            Plotly.purge(gd);\n",
       "            observer.disconnect();\n",
       "        }}\n",
       "}});\n",
       "\n",
       "// Listen for the removal of the full notebook cells\n",
       "var notebookContainer = gd.closest('#notebook-container');\n",
       "if (notebookContainer) {{\n",
       "    x.observe(notebookContainer, {childList: true});\n",
       "}}\n",
       "\n",
       "// Listen for the clearing of the current output cell\n",
       "var outputEl = gd.closest('.output');\n",
       "if (outputEl) {{\n",
       "    x.observe(outputEl, {childList: true});\n",
       "}}\n",
       "\n",
       "                        })                };                });            </script>        </div>"
      ]
     },
     "metadata": {},
     "output_type": "display_data"
    }
   ],
   "source": [
    "svr.plot(sigmaThreshold=2)"
   ]
  },
  {
   "cell_type": "markdown",
   "id": "1c757e9e",
   "metadata": {},
   "source": [
    "## Something else "
   ]
  },
  {
   "cell_type": "code",
   "execution_count": 162,
   "id": "f9c65ecb",
   "metadata": {},
   "outputs": [
    {
     "name": "stderr",
     "output_type": "stream",
     "text": [
      " 16%|██████▏                                | 299/1875 [00:02<00:13, 117.35it/s]\n"
     ]
    }
   ],
   "source": [
    "epsilon = 0.1\n",
    "n_batch = 300 #Number of batch used to generate the dataset \n",
    "activ = torch.zeros((3,n_batch*32,sum(arch)))\n",
    "#final tensor activ[alter][idx] contains an activation vector for data sample idx with a specific alteration :\n",
    "# 0 : no alteration, raw data \n",
    "# 1 : data + adversarial  noise\n",
    "# 2 : data + shuffle of adversarial noise (random perturbation with same statistics)\n",
    "label = torch.zeros(n_batch*32)\n",
    "\n",
    "\n",
    "topactiv = TFC(pipe,arch)\n",
    "dl = TorchDataLoader(name=\"MNIST\")\n",
    "dl_tr, dl_ts = dl.build_dataloaders(batch_size=32)\n",
    "\n",
    "k_batch = 0 \n",
    "for data, target in tqdm(train_loader): \n",
    "    \n",
    "    \n",
    "    data=data.to(DEVICE) ##SUBOPTIMAL !!!\n",
    "    target = target.to(DEVICE)\n",
    "    data_perturbed = topactiv.fgsm_attack(data, target,epsilon)\n",
    "    \n",
    "    #data_noised = data+epsilon*2*(torch.bernoulli(0.5*torch.ones(data.shape))-1)\n",
    "    #Shuffle\n",
    "    data_noised = torch.zeros(32,1,28,28).to(DEVICE)\n",
    "    for i in range(32):\n",
    "        indices=torch.randperm(784).to(DEVICE)\n",
    "        data_noised[i]=(data_perturbed-data)[i].reshape(784)[indices].reshape(1,28,28)+data[i]\n",
    "    \n",
    "    \n",
    "    normal_activation = torch.cat(me.get_activations(data)[:-2],dim=1)\n",
    "    perturbed_activation = torch.cat(me.get_activations(data_perturbed)[:-2],dim=1)\n",
    "    noised_activation= torch.cat(me.get_activations(data_noised)[:-2],dim=1)\n",
    "\n",
    "    \n",
    "    activ[0][k_batch*32:(k_batch+1)*32]=normal_activation\n",
    "    activ[1][k_batch*32:(k_batch+1)*32]=perturbed_activation\n",
    "    activ[2][k_batch*32:(k_batch+1)*32]=noised_activation\n",
    "    #label[k_batch*32:(k_batch+1)*32]=\n",
    "    \n",
    "    k_batch+=1\n",
    "    if k_batch>=n_batch:\n",
    "        break "
   ]
  },
  {
   "cell_type": "code",
   "execution_count": 140,
   "id": "37ff0d36",
   "metadata": {},
   "outputs": [
    {
     "name": "stdout",
     "output_type": "stream",
     "text": [
      "ok\n",
      "Sequential(\n",
      "  (0): Flatten(start_dim=1, end_dim=-1)\n",
      "  (1): FFNet(\n",
      "    (linears): ModuleList(\n",
      "      (0): Linear(in_features=784, out_features=784, bias=False)\n",
      "      (1): Linear(in_features=784, out_features=784, bias=False)\n",
      "    )\n",
      "  )\n",
      ")\n",
      "ok\n",
      "Flatten(start_dim=1, end_dim=-1)\n",
      "ok\n",
      "FFNet(\n",
      "  (linears): ModuleList(\n",
      "    (0): Linear(in_features=784, out_features=784, bias=False)\n",
      "    (1): Linear(in_features=784, out_features=784, bias=False)\n",
      "  )\n",
      ")\n",
      "ok\n",
      "ModuleList(\n",
      "  (0): Linear(in_features=784, out_features=784, bias=False)\n",
      "  (1): Linear(in_features=784, out_features=784, bias=False)\n",
      ")\n",
      "ok\n",
      "Linear(in_features=784, out_features=784, bias=False)\n",
      "ok\n",
      "Linear(in_features=784, out_features=784, bias=False)\n"
     ]
    }
   ],
   "source": [
    "for x in pipe.model.modules():\n",
    "    print('ok')\n",
    "    print(x)"
   ]
  },
  {
   "cell_type": "code",
   "execution_count": 164,
   "id": "95961813",
   "metadata": {
    "scrolled": true
   },
   "outputs": [
    {
     "data": {
      "image/png": "[encoded data removed]",
      "text/plain": [
       "<Figure size 432x288 with 1 Axes>"
      ]
     },
     "metadata": {
      "needs_background": "light"
     },
     "output_type": "display_data"
    },
    {
     "data": {
      "image/png": "[encoded data removed]",
      "text/plain": [
       "<Figure size 432x288 with 1 Axes>"
      ]
     },
     "metadata": {
      "needs_background": "light"
     },
     "output_type": "display_data"
    }
   ],
   "source": [
    "for x,y in train_loader:\n",
    "    print28x28tensor(x[0])\n",
    "    plt.show()\n",
    "    print28x28tensor(pipe.model(x.to(DEVICE))[0].detach())\n",
    "    #print28x28tensor(y[0])\n",
    "    break"
   ]
  },
  {
   "cell_type": "code",
   "execution_count": 165,
   "id": "d4afa623",
   "metadata": {},
   "outputs": [],
   "source": [
    "idx = torch.randint(low=0,high=activ[0].shape[0],size=(1,))"
   ]
  },
  {
   "cell_type": "code",
   "execution_count": 168,
   "id": "ec7dfd5a",
   "metadata": {},
   "outputs": [
    {
     "data": {
      "image/png": "[encoded data removed]",
      "text/plain": [
       "<Figure size 432x288 with 1 Axes>"
      ]
     },
     "metadata": {
      "needs_background": "light"
     },
     "output_type": "display_data"
    },
    {
     "data": {
      "image/png": "[encoded data removed]",
      "text/plain": [
       "<Figure size 432x288 with 1 Axes>"
      ]
     },
     "metadata": {
      "needs_background": "light"
     },
     "output_type": "display_data"
    }
   ],
   "source": [
    "alter = 1\n",
    "print28x28tensor(activ[alter][idx,:28*28])\n",
    "plt.show()\n",
    "print28x28tensor(activ[alter][idx,-28*28:])\n",
    "plt.show()\n",
    "#print28x28tensor(activ[1][idx,:28*28])\n",
    "#print28x28tensor(activ[1][idx,:28*28])"
   ]
  },
  {
   "cell_type": "code",
   "execution_count": 173,
   "id": "442ecac7",
   "metadata": {
    "scrolled": true
   },
   "outputs": [
    {
     "data": {
      "image/png": "[encoded data removed]",
      "text/plain": [
       "<Figure size 432x288 with 1 Axes>"
      ]
     },
     "metadata": {
      "needs_background": "light"
     },
     "output_type": "display_data"
    }
   ],
   "source": [
    "#Effective network visualisation\n",
    "me = ModelExtractor(pipe.model, pipe.loss_fn)\n",
    "weights = list(me.get_layers_param().values())\n",
    "    \n",
    "\n",
    "from scipy.linalg import null_space\n",
    "S = []\n",
    "V = []\n",
    "U = []\n",
    "K = []\n",
    "for layer in weights:\n",
    "    u,s,v= torch.svd(layer)\n",
    "    U.append(u.to('cpu'))\n",
    "    S.append(s.to('cpu'))\n",
    "    V.append(v.to('cpu'))\n",
    "    K.append(null_space(layer.to('cpu')))\n",
    "\n",
    "\n",
    "adjacency = [V[i+1].T@U[i]@torch.diag(S[i]) for i in range(len(arch)-2)]\n",
    "\n",
    "def y_scale(x):\n",
    "    return torch.exp(x)\n",
    "\n",
    "#Nodes \n",
    "for i in range(len(S)):\n",
    "    plt.scatter(len(S[i])*[i],y_scale(S[i]))\n",
    "    \n",
    "#Edges  \n",
    "for k in range(len(adjacency)):\n",
    "    E = torch.abs(adjacency[k])\n",
    "    for i in range(E.shape[0]):\n",
    "        for j in range(E.shape[1]):\n",
    "            if E[i,j]>3e-1:\n",
    "                plt.plot([k,k+1],[y_scale(S[k][j]),y_scale(S[k+1][i])],color='grey',alpha=((E[i,j]/E.max())**0.5).item()) #Peut-être j,i\n",
    "plt.show()"
   ]
  },
  {
   "cell_type": "code",
   "execution_count": 171,
   "id": "4660bd7f",
   "metadata": {},
   "outputs": [
    {
     "data": {
      "text/plain": [
       "2"
      ]
     },
     "execution_count": 171,
     "metadata": {},
     "output_type": "execute_result"
    }
   ],
   "source": [
    "len(weights)"
   ]
  },
  {
   "cell_type": "code",
   "execution_count": null,
   "id": "4199e5c7",
   "metadata": {},
   "outputs": [],
   "source": []
  }
 ],
 "metadata": {
  "kernelspec": {
   "display_name": "Python 3 (ipykernel)",
   "language": "python",
   "name": "python3"
  },
  "language_info": {
   "codemirror_mode": {
    "name": "ipython",
    "version": 3
   },
   "file_extension": ".py",
   "mimetype": "text/x-python",
   "name": "python",
   "nbconvert_exporter": "python",
   "pygments_lexer": "ipython3",
   "version": "3.9.12"
  }
 },
 "nbformat": 4,
 "nbformat_minor": 5
}
