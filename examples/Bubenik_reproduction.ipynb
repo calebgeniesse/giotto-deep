{
 "cells": [
  {
   "cell_type": "code",
   "execution_count": 3,
   "metadata": {},
   "outputs": [],
   "source": [
    "import numpy as np\n",
    "from sklearn.metrics import pairwise_distances\n",
    "from gtda.homology import VietorisRipsPersistence\n",
    "from torch.utils.data import DataLoader, TensorDataset  # type: ignore\n",
    "\n",
    "from joblib import Parallel, delayed\n",
    "\n",
    "class CurvatureSamplingGenerator(object):\n",
    "    \n",
    "    def __init__(self,\n",
    "                 curvature_interval=(-2.0, 2.0),\n",
    "                 num_samplings=100,\n",
    "                 num_points_per_sampling=1_000,\n",
    "                 homology_dimensions=(0, 1),\n",
    "                 n_jobs=1,\n",
    "    ):\n",
    "        assert len(curvature_interval) == 2, \"Curvature interval must be 2-dimensional\"\n",
    "        self._curvature_interval = curvature_interval\n",
    "        self._num_samplings = num_samplings\n",
    "        self._num_points_per_sampling = num_points_per_sampling\n",
    "        self._homology_dimensions = homology_dimensions\n",
    "        \n",
    "        self._curvatures = np.random.uniform(low=curvature_interval[0],\n",
    "                                             high=curvature_interval[1],\n",
    "                                             size=(self._num_samplings))\n",
    "        \n",
    "        self._n_jobs = n_jobs\n",
    "        \n",
    "        self._compute_diagrams()\n",
    "        \n",
    "    \n",
    "    def _phi(self, curvature, u_vect):\n",
    "        if curvature > 0:\n",
    "            r = (2/np.sqrt(curvature)) * np.arcsin(np.sqrt(u_vect) * np.sin(np.sqrt(curvature)/2))\n",
    "        if curvature == 0:\n",
    "            r = np.sqrt(u_vect)\n",
    "        if curvature < 0:\n",
    "            r = (2/np.sqrt(-curvature)) * np.arcsinh(np.sqrt(u_vect) * np.sinh(np.sqrt(-curvature)/2))\n",
    "        return r    \n",
    "\n",
    "    def _sample_uniformly(self, curvature, n_points):\n",
    "        theta = 2 * np.pi * np.random.random_sample((n_points,))\n",
    "        r = self._phi(curvature, np.random.random_sample((n_points,)))\n",
    "        return np.stack((r,theta), axis = -1)\n",
    "            \n",
    "    def _geodesic_distance(self, curvature, x1 , x2):\n",
    "        \n",
    "        if curvature > 0:\n",
    "            R = 1/np.sqrt(curvature)\n",
    "            v1 = np.array([R * np.sin(x1[0]/R) * np.cos(x1[1]), \n",
    "                        R * np.sin(x1[0]/R) * np.sin(x1[1]),\n",
    "                        R * np.cos(x1[0]/R)])\n",
    "            \n",
    "            v2 = np.array([R * np.sin(x2[0]/R) * np.cos(x2[1]), \n",
    "                        R * np.sin(x2[0]/R) * np.sin(x2[1]),\n",
    "                        R * np.cos(x2[0]/R)])\n",
    "\n",
    "            \n",
    "            dist = R * np.arctan2(np.linalg.norm(np.cross(v1,v2)), (v1*v2).sum())\n",
    "        \n",
    "        elif curvature == 0:\n",
    "            v1 = np.array([x1[0]*np.cos(x1[1]), x1[0]*np.sin(x1[1])])\n",
    "            v2 = np.array([x2[0]*np.cos(x2[1]), x2[0]*np.sin(x2[1])])\n",
    "            dist = np.linalg.norm( (v1 - v2) )  \n",
    "        \n",
    "        elif curvature < 0:\n",
    "            R = 1/np.sqrt(-curvature)\n",
    "            z = np.array([ np.tanh(x1[0]/(2 * R)) * np.cos(x1[1]),\n",
    "                        np.tanh(x1[0]/(2 * R)) * np.sin(x1[1])])\n",
    "            w = np.array([np.tanh(x2[0]/(2 * R)) * np.cos(x2[1]),\n",
    "                        np.tanh(x2[0]/(2 * R)) * np.sin(x2[1])])\n",
    "            temp = np.linalg.norm([(z*w).sum() - 1, np.linalg.det([z,w]) + 1])\n",
    "            dist = 2 * R * np.arctanh(np.linalg.norm(z - w)/temp) \n",
    "            \n",
    "        return dist\n",
    "\n",
    "    def _compute_distance_matrix(self, curvature, n_points):\n",
    "        metric = lambda x1, x2 : self._geodesic_distance(curvature, x1 , x2)\n",
    "        samples = self._sample_uniformly(curvature, n_points)\n",
    "        return pairwise_distances(samples, metric = metric)\n",
    "    \n",
    "    def _compute_diagrams(self):  \n",
    "        \"\"\" This functions outputs the persistence diagrams in homological dimensions given by\n",
    "        the homology dimensions, \n",
    "        for a list datasets obtained by uniformly sampling n_points for each elements in curvatures\n",
    "        \"\"\"\n",
    "        \n",
    "        distance_matrices = []\n",
    "        VR = VietorisRipsPersistence(homology_dimensions=self._homology_dimensions,\n",
    "                                     metric = 'precomputed',  n_jobs=self._n_jobs)\n",
    "        # for curvature in self._curvatures:\n",
    "        #     distance_matrix = self._compute_distance_matrix(curvature,\n",
    "        #                                     self._num_points_per_sampling)\n",
    "        #     distance_matrices.append(distance_matrix)\n",
    "        \n",
    "        def process(i):\n",
    "            return self._compute_distance_matrix(self._curvatures[i],\n",
    "                                            self._num_points_per_sampling)\n",
    "        \n",
    "        distance_matrices = Parallel(n_jobs=self._n_jobs)(delayed(process)(i)\n",
    "                                                for i in range(len(self._curvatures)))\n",
    "        \n",
    "        self._diagrams = VR.fit_transform(distance_matrices)\n",
    "\n",
    "    def _persistence_diagrams_to_one_hot(self, persistence_diagrams):\n",
    "        \"\"\" Convert homology dimension to one-hot encoding\n",
    "\n",
    "        Args:\n",
    "            persistence_diagrams ([np.array]): persistence diagram with categorical\n",
    "                homology dimension.\n",
    "\n",
    "        Returns:\n",
    "            [np.array]: persistent diagram with one-hot encoded homology dimension.\n",
    "        \"\"\"\n",
    "        return np.concatenate(\n",
    "            (\n",
    "                self._diagrams[:, :, :2],  # point coordinates\n",
    "                (np.eye(len(self._homology_dimensions))  # type: ignore\n",
    "                [self._diagrams[:, :, -1].astype(np.int32)]),\n",
    "            ),\n",
    "            axis=-1)\n",
    "\n",
    "    def get_diagrams(self):\n",
    "        return self._persistence_diagrams_to_one_hot(self._diagrams)\n",
    "    \n",
    "    def get_curvatures(self):\n",
    "        return self._curvatures\n",
    "    \n",
    "    def get_dataloader(self, **dataloaders_kwargs):\n",
    "        DataLoader(TensorDataset(self._diagrams, self._curvatures),\n",
    "                   **dataloaders_kwargs)"
   ]
  },
  {
   "cell_type": "markdown",
   "metadata": {},
   "source": [
    "## Generate diagrams"
   ]
  },
  {
   "cell_type": "code",
   "execution_count": 52,
   "metadata": {},
   "outputs": [],
   "source": [
    "from sklearn.svm import SVR as regression\n",
    "from gtda.diagrams import PersistenceLandscape as PL\n",
    "\n",
    "\n",
    "cg = CurvatureSamplingGenerator(num_samplings=200,\n",
    "                        num_points_per_sampling=300,\n",
    "                        n_jobs=-1)\n",
    "curvatures = cg.get_curvatures()\n",
    "diagrams = cg.get_diagrams()\n",
    "#np.save('curvatures_10k.npy', curvatures)\n",
    "#np.save('diagrams_curvature_10k.npy', diagrams)\n",
    "\n",
    "cg_test = CurvatureSamplingGenerator(num_samplings=200,\n",
    "                        num_points_per_sampling=300,\n",
    "                        n_jobs=-1)\n",
    "curvatures_test = cg_test.get_curvatures()\n",
    "diagrams_test = cg_test.get_diagrams()\n"
   ]
  },
  {
   "cell_type": "markdown",
   "metadata": {},
   "source": [
    "## H^0 features"
   ]
  },
  {
   "cell_type": "code",
   "execution_count": 53,
   "metadata": {},
   "outputs": [],
   "source": [
    "death_vector_sorted = np.sort(diagrams[:,:,1][diagrams[:,:,2] == 1.].reshape((diagrams.shape[0], -1)))\n",
    "death_vector_sorted_test = np.sort(diagrams_test[:,:,1][diagrams_test[:,:,2] == 1.].reshape((diagrams_test.shape[0], -1)))"
   ]
  },
  {
   "cell_type": "code",
   "execution_count": 54,
   "metadata": {},
   "outputs": [
    {
     "data": {
      "text/plain": [
       "SVR(C=100, cache_size=200, coef0=0.0, degree=3, epsilon=0.0, gamma='scale',\n",
       "    kernel='rbf', max_iter=-1, shrinking=True, tol=0.001, verbose=False)"
      ]
     },
     "execution_count": 54,
     "metadata": {},
     "output_type": "execute_result"
    }
   ],
   "source": [
    "model1 = regression(kernel = 'linear', C = 100, epsilon = 0.)\n",
    "model1.fit(death_vector_sorted, curvatures)\n",
    "\n",
    "model2 = model = regression(kernel = 'rbf', C = 100, epsilon = 0.)\n",
    "model2.fit(death_vector_sorted, curvatures)\n"
   ]
  },
  {
   "cell_type": "code",
   "execution_count": 55,
   "metadata": {},
   "outputs": [
    {
     "data": {
      "text/plain": [
       "(0.7379613761531418, 0.5620594235906025)"
      ]
     },
     "execution_count": 55,
     "metadata": {},
     "output_type": "execute_result"
    }
   ],
   "source": [
    "\n",
    "model1.score(death_vector_sorted, curvatures), model1.score(death_vector_sorted_test, curvatures_test)"
   ]
  },
  {
   "cell_type": "code",
   "execution_count": 56,
   "metadata": {},
   "outputs": [
    {
     "data": {
      "text/plain": [
       "(0.9389045875238544, 0.8344364239315983)"
      ]
     },
     "execution_count": 56,
     "metadata": {},
     "output_type": "execute_result"
    }
   ],
   "source": [
    "\n",
    "model2.score(death_vector_sorted, curvatures), model2.score(death_vector_sorted_test, curvatures_test)"
   ]
  },
  {
   "cell_type": "markdown",
   "metadata": {},
   "source": [
    "## H^1 features"
   ]
  },
  {
   "cell_type": "code",
   "execution_count": 57,
   "metadata": {},
   "outputs": [],
   "source": [
    "n_layers = 3\n",
    "n_bins = 100\n",
    "\n",
    "landscapes = PL(n_layers = n_layers, n_bins = n_bins)"
   ]
  },
  {
   "cell_type": "code",
   "execution_count": 58,
   "metadata": {},
   "outputs": [],
   "source": [
    "diagrams_dim1 = diagrams[:,:,[0,1,3]][diagrams[:,:,3] == 1.].reshape((diagrams.shape[0], -1,3))\n",
    "\n",
    "diagrams_dim1_test = diagrams_test[:,:,[0,1,3]][diagrams_test[:,:,3] == 1.].reshape((diagrams_test.shape[0], -1,3))"
   ]
  },
  {
   "cell_type": "code",
   "execution_count": 59,
   "metadata": {},
   "outputs": [],
   "source": [
    "landscapes_data = landscapes.fit_transform(diagrams_dim1)\n",
    "landscapes_data_test = landscapes.fit_transform(diagrams_dim1_test)\n",
    "\n",
    "feature_dim1 = landscapes_data.reshape(diagrams.shape[0], n_layers*n_bins)\n",
    "\n",
    "feature_dim1_test = landscapes_data_test.reshape(diagrams_test.shape[0], n_layers*n_bins)\n"
   ]
  },
  {
   "cell_type": "code",
   "execution_count": 60,
   "metadata": {},
   "outputs": [
    {
     "data": {
      "text/plain": [
       "SVR(C=100, cache_size=200, coef0=0.0, degree=3, epsilon=0.0, gamma='scale',\n",
       "    kernel='rbf', max_iter=-1, shrinking=True, tol=0.001, verbose=False)"
      ]
     },
     "execution_count": 60,
     "metadata": {},
     "output_type": "execute_result"
    }
   ],
   "source": [
    "model1 = regression(kernel = 'linear', C = 100, epsilon = 0.)\n",
    "model1.fit(feature_dim1, curvatures)\n",
    "\n",
    "model2 = model = regression(kernel = 'rbf', C = 100, epsilon = 0.)\n",
    "model2.fit(feature_dim1, curvatures)"
   ]
  },
  {
   "cell_type": "code",
   "execution_count": 61,
   "metadata": {},
   "outputs": [
    {
     "data": {
      "text/plain": [
       "(0.796405400678837, 0.3493843788691263)"
      ]
     },
     "execution_count": 61,
     "metadata": {},
     "output_type": "execute_result"
    }
   ],
   "source": [
    "model1.score(feature_dim1, curvatures), model1.score(feature_dim1_test, curvatures_test)"
   ]
  },
  {
   "cell_type": "code",
   "execution_count": 62,
   "metadata": {},
   "outputs": [
    {
     "data": {
      "text/plain": [
       "(0.9738298539613811, -0.45838387128968194)"
      ]
     },
     "execution_count": 62,
     "metadata": {},
     "output_type": "execute_result"
    }
   ],
   "source": [
    "model2.score(feature_dim1, curvatures), model2.score(feature_dim1_test, curvatures_test)"
   ]
  },
  {
   "cell_type": "markdown",
   "metadata": {},
   "source": [
    "## H^0 + H^1 features"
   ]
  },
  {
   "cell_type": "code",
   "execution_count": 63,
   "metadata": {},
   "outputs": [
    {
     "data": {
      "text/plain": [
       "SVR(C=100, cache_size=200, coef0=0.0, degree=3, epsilon=0.0, gamma='scale',\n",
       "    kernel='rbf', max_iter=-1, shrinking=True, tol=0.001, verbose=False)"
      ]
     },
     "execution_count": 63,
     "metadata": {},
     "output_type": "execute_result"
    }
   ],
   "source": [
    "model1 = regression(kernel = 'linear', C = 100, epsilon = 0.)\n",
    "model1.fit(feature_dim1, curvatures)\n",
    "\n",
    "model2 = model = regression(kernel = 'rbf', C = 100, epsilon = 0.)\n",
    "model2.fit(feature_dim1, curvatures)"
   ]
  },
  {
   "cell_type": "code",
   "execution_count": 64,
   "metadata": {},
   "outputs": [],
   "source": [
    "features_total = np.concatenate((death_vector_sorted,feature_dim1), axis = 1)\n",
    "\n",
    "features_total_test = np.concatenate((death_vector_sorted_test,feature_dim1_test), axis = 1)"
   ]
  },
  {
   "cell_type": "code",
   "execution_count": 65,
   "metadata": {},
   "outputs": [
    {
     "data": {
      "text/plain": [
       "SVR(C=100, cache_size=200, coef0=0.0, degree=3, epsilon=0.0, gamma='scale',\n",
       "    kernel='rbf', max_iter=-1, shrinking=True, tol=0.001, verbose=False)"
      ]
     },
     "execution_count": 65,
     "metadata": {},
     "output_type": "execute_result"
    }
   ],
   "source": [
    "model1 = regression(kernel = 'linear', C = 100, epsilon = 0.)\n",
    "model1.fit(features_total, curvatures)\n",
    "\n",
    "model2 = model = regression(kernel = 'rbf', C = 100, epsilon = 0.)\n",
    "model2.fit(features_total, curvatures)\n",
    "\n"
   ]
  },
  {
   "cell_type": "code",
   "execution_count": 66,
   "metadata": {},
   "outputs": [
    {
     "data": {
      "text/plain": [
       "(0.826725007083985, -0.03374945555429387)"
      ]
     },
     "execution_count": 66,
     "metadata": {},
     "output_type": "execute_result"
    }
   ],
   "source": [
    "model1.score(features_total, curvatures), model1.score(features_total_test, curvatures_test)"
   ]
  },
  {
   "cell_type": "code",
   "execution_count": 67,
   "metadata": {},
   "outputs": [
    {
     "data": {
      "text/plain": [
       "(0.9716777129881303, 0.5865827446966916)"
      ]
     },
     "execution_count": 67,
     "metadata": {},
     "output_type": "execute_result"
    }
   ],
   "source": [
    "model2.score(features_total, curvatures), model2.score(features_total_test, curvatures_test)"
   ]
  },
  {
   "cell_type": "code",
   "execution_count": null,
   "metadata": {},
   "outputs": [],
   "source": []
  },
  {
   "cell_type": "code",
   "execution_count": null,
   "metadata": {},
   "outputs": [],
   "source": []
  },
  {
   "cell_type": "code",
   "execution_count": null,
   "metadata": {},
   "outputs": [],
   "source": []
  },
  {
   "cell_type": "code",
   "execution_count": null,
   "metadata": {},
   "outputs": [],
   "source": []
  },
  {
   "cell_type": "code",
   "execution_count": null,
   "metadata": {},
   "outputs": [],
   "source": []
  },
  {
   "cell_type": "code",
   "execution_count": null,
   "metadata": {},
   "outputs": [],
   "source": []
  },
  {
   "cell_type": "code",
   "execution_count": null,
   "metadata": {},
   "outputs": [],
   "source": []
  },
  {
   "cell_type": "code",
   "execution_count": null,
   "metadata": {},
   "outputs": [],
   "source": []
  },
  {
   "cell_type": "code",
   "execution_count": null,
   "metadata": {},
   "outputs": [],
   "source": []
  },
  {
   "cell_type": "code",
   "execution_count": null,
   "metadata": {},
   "outputs": [],
   "source": []
  }
 ],
 "metadata": {
  "kernelspec": {
   "display_name": "Python 3",
   "language": "python",
   "name": "python3"
  },
  "language_info": {
   "codemirror_mode": {
    "name": "ipython",
    "version": 3
   },
   "file_extension": ".py",
   "mimetype": "text/x-python",
   "name": "python",
   "nbconvert_exporter": "python",
   "pygments_lexer": "ipython3",
   "version": "3.7.4"
  }
 },
 "nbformat": 4,
 "nbformat_minor": 2
}
