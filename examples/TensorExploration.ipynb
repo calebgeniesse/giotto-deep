{
 "cells": [
  {
   "cell_type": "code",
   "execution_count": 1,
   "id": "927cd632",
   "metadata": {},
   "outputs": [],
   "source": [
    "import torch\n",
    "import matplotlib.pyplot as plt \n",
    "i,z,o = 16,9,32\n"
   ]
  },
  {
   "cell_type": "code",
   "execution_count": 9,
   "id": "9d1f8a7f",
   "metadata": {},
   "outputs": [],
   "source": [
    "x = torch.randn((i,z,o))\n",
    "ui,si,vi = torch.svd(x.reshape(i,z*o))\n",
    "uo,so,vo = torch.svd(x.reshape(i*z,o))\n"
   ]
  },
  {
   "cell_type": "code",
   "execution_count": 11,
   "id": "1813ed83",
   "metadata": {},
   "outputs": [
    {
     "data": {
      "text/plain": [
       "[<matplotlib.lines.Line2D at 0x7f23e43e14c0>]"
      ]
     },
     "execution_count": 11,
     "metadata": {},
     "output_type": "execute_result"
    },
    {
     "data": {
      "image/png": "[encoded data removed]",
      "text/plain": [
       "<Figure size 432x288 with 1 Axes>"
      ]
     },
     "metadata": {
      "needs_background": "light"
     },
     "output_type": "display_data"
    }
   ],
   "source": [
    "plt.plot(so)\n",
    "plt.plot(si)"
   ]
  },
  {
   "cell_type": "code",
   "execution_count": 20,
   "id": "5916a1a8",
   "metadata": {},
   "outputs": [
    {
     "data": {
      "text/plain": [
       "torch.Size([6, 5])"
      ]
     },
     "execution_count": 20,
     "metadata": {},
     "output_type": "execute_result"
    }
   ],
   "source": [
    "y = torch.randn((5,6))\n",
    "y.transpose(0,-1).shape"
   ]
  },
  {
   "cell_type": "code",
   "execution_count": 31,
   "id": "f0642402",
   "metadata": {},
   "outputs": [
    {
     "data": {
      "text/plain": [
       "[2, 1, 0]"
      ]
     },
     "execution_count": 31,
     "metadata": {},
     "output_type": "execute_result"
    }
   ],
   "source": []
  },
  {
   "cell_type": "code",
   "execution_count": 32,
   "id": "704c0258",
   "metadata": {},
   "outputs": [
    {
     "name": "stdout",
     "output_type": "stream",
     "text": [
      "torch.Size([16, 9, 32])\n"
     ]
    },
    {
     "data": {
      "text/plain": [
       "torch.Size([32, 9, 16])"
      ]
     },
     "execution_count": 32,
     "metadata": {},
     "output_type": "execute_result"
    }
   ],
   "source": [
    "print(x.shape)\n",
    "x.permute(list(range(len(x.shape)))[::-1] ).shape"
   ]
  },
  {
   "cell_type": "code",
   "execution_count": 38,
   "id": "c435c479",
   "metadata": {},
   "outputs": [
    {
     "name": "stdout",
     "output_type": "stream",
     "text": [
      "torch.Size([16, 9, 9, 32])\n",
      "torch.Size([16, 32])\n"
     ]
    }
   ],
   "source": [
    "y = torch.randn((i,z,z,o))\n",
    "print(y.shape)\n",
    "print(torch.linalg.norm(y,dim=(1,2)).shape)"
   ]
  }
 ],
 "metadata": {
  "kernelspec": {
   "display_name": "Python 3 (ipykernel)",
   "language": "python",
   "name": "python3"
  },
  "language_info": {
   "codemirror_mode": {
    "name": "ipython",
    "version": 3
   },
   "file_extension": ".py",
   "mimetype": "text/x-python",
   "name": "python",
   "nbconvert_exporter": "python",
   "pygments_lexer": "ipython3",
   "version": "3.9.12"
  }
 },
 "nbformat": 4,
 "nbformat_minor": 5
}
