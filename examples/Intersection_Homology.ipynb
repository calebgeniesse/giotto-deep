{
 "cells": [
  {
   "cell_type": "code",
   "execution_count": null,
   "metadata": {},
   "outputs": [],
   "source": [
    "# import libraries\n",
    "import numpy as np\n",
    "import plotly.express as px\n",
    "import networkx as nx\n",
    "from networkx.algorithms.clique import find_cliques, enumerate_all_cliques\n",
    "from sklearn.neighbors import kneighbors_graph\n",
    "from scipy.sparse import csr_matrix\n",
    "import matplotlib.pyplot as plt\n",
    "from networkx.drawing.nx_pylab import draw_kamada_kawai\n",
    "import warnings\n",
    "from networkx.algorithms.components import number_connected_components\n",
    "from itertools import combinations, chain"
   ]
  },
  {
   "cell_type": "code",
   "execution_count": null,
   "metadata": {},
   "outputs": [],
   "source": [
    "# import IH classes\n",
    "from gdeep.utility.intersection_homology import IntersectionHomology, compute_coarsest_strata\n"
   ]
  },
  {
   "cell_type": "markdown",
   "metadata": {},
   "source": [
    "# Intersection homology \n",
    "\n",
    "This notebooks shows how to use compoute intersection homology for a given perversity. The perversity can be user-defined. We have two approaches to finding a suitable stratification:\n",
    "\n",
    "1. Use the coarsest possible stratification\n",
    "2. Use the singularity loci stratification as if being defined in the continuous setting (default)"
   ]
  },
  {
   "cell_type": "markdown",
   "metadata": {},
   "source": [
    "# Perversities\n",
    "Let $X$ be a stratified space with strata $X_d$.\n",
    "\n",
    "An i-simplex $\\sigma$ in $K$ is said to be $p$-proper if the following condition holds for all $k = 0,...,d$:\n",
    "\n",
    "$$dim(\\bar\\sigma  \\cap X_{d−k}) \\leq i − k + p(k)$$\n",
    "\n",
    "where $\\bar \\sigma$ denotes the closure of the open simplex $\\sigma$, and $p:\\{0,1,...,n\\}\\to \\{0,1,...,n\\}$ is a perversisty. Notice that a perversity satisfies $p(k+1)=p(k)$ or $p(k)+1$"
   ]
  },
  {
   "cell_type": "markdown",
   "metadata": {},
   "source": [
    "# Coarsest Stratification\n",
    "$B_\\sigma := St(\\sigma) = \\{\\tau \\in K | \\sigma \\leq \\tau\\}$. Using the partial order induced by inclusions of minimal open neighborhoods, we set $\\tau \\leq \\sigma$ if $B_\\sigma \\subset B_\\tau$ \n",
    "\n",
    "### Algorithm\n",
    "1. Set $i=0$, $d_0 =dim X$, $X_{d_0} = X$,and initialize $S_j = \\varnothing$,forall $0\\leq j\\leq d_0$. \n",
    "2. While $d_i \\geq 0$, do\n",
    "\n",
    "   (a) For each $x\\in X_{d_i}$,set $S_{d_i} = S_{d_i} \\cup x$ if $\\delta(w\\leq y)=1$,$\\forall$ adjacent pairs $w\\leq y$ in $B_x \\cap X_{d_i}$ \n",
    "   \n",
    "   (b) Set $d_{i+1} = dim(X_{d_i} − S_{d_i} )$\n",
    "   \n",
    "   (c) Define $X_{d_{i+1}} = X_{d_i} − S_{d_i}$ \n",
    "   \n",
    "   (d) Set $i=i+1$\n",
    "   \n",
    "3. Return $S$"
   ]
  },
  {
   "cell_type": "markdown",
   "metadata": {},
   "source": [
    "# Computing standard homology of clique complex"
   ]
  },
  {
   "cell_type": "code",
   "execution_count": null,
   "metadata": {},
   "outputs": [],
   "source": [
    "# random point cloud\n",
    "X = np.random.random((15,3))\n",
    "# we will build the knn graph with knn=3 and compute the homology of th clique complex\n",
    "ih = IntersectionHomology(knn=3, perversity_check=False)\n",
    "\n",
    "#ih.fit(X)\n",
    "#print(ih.simplices)\n",
    "homology = ih.fit_transform(X)\n",
    "print(homology)\n",
    "ih.plot()\n"
   ]
  },
  {
   "cell_type": "markdown",
   "metadata": {},
   "source": [
    "# Computing intersection homology with top perversty"
   ]
  },
  {
   "cell_type": "code",
   "execution_count": null,
   "metadata": {},
   "outputs": [],
   "source": [
    "\n",
    "# we will build the knn graph with knn=3 and compute the homology of th clique complex\n",
    "ih = IntersectionHomology(knn=3)\n",
    "\n",
    "#ih.fit(X)\n",
    "#print(ih.simplices)\n",
    "homology = ih.fit_transform(X)\n",
    "print(homology)\n",
    "ih.plot()"
   ]
  },
  {
   "cell_type": "markdown",
   "metadata": {},
   "source": [
    "# Computing with dual perversity"
   ]
  },
  {
   "cell_type": "code",
   "execution_count": null,
   "metadata": {},
   "outputs": [],
   "source": [
    "ih2 = IntersectionHomology(knn=3,perversity=IntersectionHomology.q)\n",
    "\n",
    "#ih.fit(X)\n",
    "#print(ih.simplices)\n",
    "homology = ih2.fit_transform(X)\n",
    "print(homology)\n",
    "ih2.plot()"
   ]
  },
  {
   "cell_type": "code",
   "execution_count": null,
   "metadata": {},
   "outputs": [],
   "source": [
    "# build a graph from edges: a bouquet of 2 circles\n",
    "G = nx.Graph()\n",
    "edges = [(0,1),(1, 2), (0, 3),(2,3),(0,4),(0,5),(4,6),(5,6)]\n",
    "G.add_edges_from(edges)\n",
    "ih = IntersectionHomology()\n",
    "homology = ih.fit_transform(G)\n",
    "print(\"Simplices: \",ih.simplices)\n",
    "ih.plot()\n",
    "homology"
   ]
  },
  {
   "cell_type": "code",
   "execution_count": null,
   "metadata": {},
   "outputs": [],
   "source": [
    "# 2 2-spheres\n",
    "G = nx.Graph()\n",
    "edges = [(0,1),(1, 2), (0, 3),(2,3),(0,4),(0,5),(4,6),(5,6),(1,3),(0,2),(0,6),(4,5)]\n",
    "G.add_edges_from(edges)\n",
    "\n",
    "ih = IntersectionHomology()\n",
    "ih.fit(G)\n",
    "# we remove the tetrahedra from the proper simplices, as we are interestd in checking if\n",
    "# we are able to find duality between H0 and H2\n",
    "lst = ih.list_proper[:-2]\n",
    "homology = ih.transform(G,lst)\n",
    "print(homology)\n",
    "\n",
    "print(\"dual perversity: \")\n",
    "ih2 = IntersectionHomology(perversity=IntersectionHomology.q)\n",
    "ih2.fit(G)\n",
    "# removing 2 tetrehedra (which happen to be the last simplices in the list_proper)\n",
    "lst2 = ih.list_proper[:-2]\n",
    "homology2 = ih2.transform(G,lst2)\n",
    "ih2.plot()\n",
    "print(homology2)\n"
   ]
  },
  {
   "cell_type": "code",
   "execution_count": null,
   "metadata": {},
   "outputs": [],
   "source": [
    "# 2 3-spheres\n",
    "G = nx.Graph()\n",
    "edges = [(0,1),(0,2),(0,3),(0,4),(1,2),(1,3),(1,4),(2,3),(2,4),(3,4),#sphere 1\n",
    "         (0,9),\n",
    "         (9,5),(9,6),(9,7),(9,8),(5,6),(5,7),(5,8),(6,7),(6,8),(7,8)]# sphere 2\n",
    "G.add_edges_from(edges)\n",
    "\n",
    "ih = IntersectionHomology()\n",
    "ih.fit(G)\n",
    "# remove the hyper-tetrahedra\n",
    "lst = ih.list_proper[:-2]\n",
    "homology = ih.transform(G,lst)\n",
    "ih.plot()\n",
    "homology\n",
    "\n"
   ]
  },
  {
   "cell_type": "code",
   "execution_count": null,
   "metadata": {},
   "outputs": [],
   "source": [
    "# cross check: 3 disconnected circles\n",
    "G = nx.Graph()\n",
    "edges = [(0,1),(1, 2), (2, 3),(3,0),(4,5),(5,6),(6,7),(7,4),(8,9),(9,10),(10,11),(11,8)]\n",
    "G.add_edges_from(edges)\n",
    "\n",
    "ih = IntersectionHomology()\n",
    "homology = ih.fit_transform(G)\n",
    "ih.plot()\n",
    "homology\n",
    "\n"
   ]
  },
  {
   "cell_type": "code",
   "execution_count": null,
   "metadata": {},
   "outputs": [],
   "source": [
    "# pinched torus\n",
    "G = nx.Graph()\n",
    "edges = [(0,1),(1, 2), (2, 3),(3,0),(4,5),(5,6),(6,7),(7,4),(8,9),(9,10),(10,11),(11,8),# 3 loops with 4 vertices each\n",
    "         (0,12),(1,12),(2,12),(3,12),(8,12),(9,12),(10,12),(11,12),# singular point\n",
    "         (0,4),(1,5),(2,6),(3,7),(4,8),(5,9),(6,10),(7,11), #straight connections\n",
    "         (0,5),(1,6),(2,7),(3,4),(4,9),(5,10),(6,11),(7,8)] # oblique conections\n",
    "G.add_edges_from(edges)\n",
    "\n",
    "ih = IntersectionHomology()\n",
    "homology = ih.fit_transform(G)\n",
    "ih.plot()\n",
    "print(\"Homology groups representatives\")\n",
    "homology\n"
   ]
  },
  {
   "cell_type": "code",
   "execution_count": null,
   "metadata": {},
   "outputs": [],
   "source": []
  },
  {
   "cell_type": "code",
   "execution_count": null,
   "metadata": {},
   "outputs": [],
   "source": []
  }
 ],
 "metadata": {
  "kernelspec": {
   "display_name": "Python 3 (ipykernel)",
   "language": "python",
   "name": "python3"
  },
  "language_info": {
   "codemirror_mode": {
    "name": "ipython",
    "version": 3
   },
   "file_extension": ".py",
   "mimetype": "text/x-python",
   "name": "python",
   "nbconvert_exporter": "python",
   "pygments_lexer": "ipython3",
   "version": "3.9.7"
  }
 },
 "nbformat": 4,
 "nbformat_minor": 4
}
