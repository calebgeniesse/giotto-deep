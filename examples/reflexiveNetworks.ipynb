{
 "cells": [
  {
   "cell_type": "code",
   "execution_count": 1,
   "id": "b7991b8e",
   "metadata": {},
   "outputs": [
    {
     "name": "stdout",
     "output_type": "stream",
     "text": [
      "Using GPU!\n",
      "Using GPU!\n",
      "Using GPU!\n",
      "No TPUs...\n",
      "\u001b[33mDEPRECATION: Configuring installation scheme with distutils config files is deprecated and will no longer work in the near future. If you are using a Homebrew or Linuxbrew Python, please see discussion at https://github.com/Homebrew/homebrew-core/issues/76621\u001b[0m\u001b[33m\n",
      "\u001b[0mRequirement already satisfied: xitorch in /home/linuxbrew/.linuxbrew/lib/python3.9/site-packages (0.3.0)\n",
      "Requirement already satisfied: numpy>=1.8.2 in /home/linuxbrew/.linuxbrew/lib/python3.9/site-packages (from xitorch) (1.21.6)\n",
      "Requirement already satisfied: torch>=1.8 in /home/linuxbrew/.linuxbrew/lib/python3.9/site-packages (from xitorch) (1.11.0)\n",
      "Requirement already satisfied: scipy>=1.1.0 in /home/linuxbrew/.linuxbrew/lib/python3.9/site-packages (from xitorch) (1.8.0)\n",
      "Requirement already satisfied: typing-extensions in /home/linuxbrew/.linuxbrew/lib/python3.9/site-packages (from torch>=1.8->xitorch) (4.1.1)\n",
      "\u001b[33mDEPRECATION: Configuring installation scheme with distutils config files is deprecated and will no longer work in the near future. If you are using a Homebrew or Linuxbrew Python, please see discussion at https://github.com/Homebrew/homebrew-core/issues/76621\u001b[0m\u001b[33m\n",
      "\u001b[0mUsing GPU!\n"
     ]
    }
   ],
   "source": [
    "from gdeep.topactivation import TopactivationFC as TFC\n",
    "from gdeep.pipeline import Pipeline\n",
    "from torch.utils.tensorboard import SummaryWriter\n",
    "\n",
    "from gdeep.models import FFNet\n",
    "from torch import nn\n",
    "import torch\n",
    "from gdeep.data import TorchDataLoader\n",
    "from tqdm import tqdm \n",
    "\n",
    "!pip3 install xitorch\n",
    "from gdeep.models import ModelExtractor\n",
    "from gdeep.topactivation.spectral_analysisTorch import LaplacianOperator\n",
    "import matplotlib.pyplot as plt \n",
    "\n",
    "if torch.cuda.is_available():\n",
    "    DEVICE = torch.device(\"cuda\")\n",
    "    print(\"Using GPU!\")\n",
    "else:\n",
    "    DEVICE = torch.device(\"cpu\")\n",
    "\n",
    "    \n",
    "# To REMOOOOOOOOOOOOOOOOOOOOOOOOVE \n",
    "#DEVICE = torch.device(\"cpu\")\n",
    "\n",
    "def print28x28tensor(tensor):\n",
    "    img=tensor.to('cpu')\n",
    "    pixels = img.reshape((28,28))\n",
    "    plt.imshow(pixels,cmap='gray')\n",
    "    \n",
    "    \n",
    "writer = SummaryWriter()\n",
    "dl = TorchDataLoader(name=\"MNIST\")\n",
    "dl_tr, dl_ts = dl.build_dataloaders(batch_size=32)"
   ]
  },
  {
   "cell_type": "code",
   "execution_count": 2,
   "id": "323c61e4",
   "metadata": {},
   "outputs": [],
   "source": [
    "import torch.nn.functional as F\n",
    "\n",
    "class ReflexiveModel(nn.Module):\n",
    "    \"\"\"This is the class to build a custom feed\n",
    "    forward reflexive network that is easily built from an array,\n",
    "    in which the number and dimensions of the layers is specified.\n",
    "\n",
    "    Args:\n",
    "        arch (list of int or 1d array, default=[2,3,3,2]):\n",
    "            this is the list containing the dimension of the layers\n",
    "            inside your network. all laysers have ``relu`` except for\n",
    "            the last one which has ``sigmoid`` as activation function.\n",
    "            The first number is the dimension of the input! Thhe final\n",
    "            of the output\n",
    "        it : number of iteration (encoder / decoder)\"\"\"\n",
    "    def __init__(self, arch=(2, 3, 3, 2),bias=True):\n",
    "        super(ReflexiveModel, self).__init__()\n",
    "        self.linears = nn.ModuleList([nn.Linear(arch[i], arch[i+1],bias=bias) for i in range(len(arch)-1)])\n",
    "        self.back_linears = nn.ModuleList([nn.Linear(arch[len(arch)-1-i], arch[len(arch)-2-i],bias=bias) for i in range(len(arch)-1)])\n",
    "\n",
    "    def forward(self, x):\n",
    "        x = self.encoder(x)\n",
    "        return x\n",
    "    \n",
    "    def encoder(self,x):\n",
    "        for i, l in enumerate(self.linears[:-1]):\n",
    "            x = F.relu(l(x))\n",
    "        x = self.linears[-1](x)\n",
    "        return x\n",
    "    \n",
    "    def decoder(self,y):\n",
    "        for i, l in enumerate(self.back_linears[:-1]):\n",
    "            y = F.relu(l(y))\n",
    "        y = torch.sigmoid(self.back_linears[-1](y))\n",
    "        return y\n",
    "        \n",
    "        "
   ]
  },
  {
   "cell_type": "code",
   "execution_count": 3,
   "id": "f06bb2ef",
   "metadata": {
    "scrolled": true
   },
   "outputs": [
    {
     "name": "stdout",
     "output_type": "stream",
     "text": [
      "---------- Phase : 0 ----------\n",
      "---------------  Epoch :  0  ---------------\n",
      "Train Accuracy :  90.27666666666667  %\n",
      "Test Accuracy :  94.58  %\n",
      "---------------  Epoch :  1  ---------------\n",
      "Train Accuracy :  95.74666666666667  %\n",
      "Test Accuracy :  95.94  %\n",
      "---------------  Epoch :  2  ---------------\n",
      "Train Accuracy :  96.98666666666666  %\n",
      "Test Accuracy :  96.12  %\n",
      "---------- Phase : 1 ----------\n",
      "---------------  Epoch :  0  ---------------\n",
      "Train Accuracy :  97.725  %\n",
      "Test Accuracy :  96.58  %\n",
      "---------------  Epoch :  1  ---------------\n",
      "Train Accuracy :  98.19666666666666  %\n",
      "Test Accuracy :  96.69  %\n",
      "---------------  Epoch :  2  ---------------\n",
      "Train Accuracy :  98.53333333333333  %\n",
      "Test Accuracy :  96.39999999999999  %\n",
      "---------- Phase : 2 ----------\n",
      "---------------  Epoch :  0  ---------------\n",
      "Train Accuracy :  96.05333333333334  %\n",
      "Test Accuracy :  95.19999999999999  %\n",
      "---------------  Epoch :  1  ---------------\n",
      "Train Accuracy :  95.98333333333333  %\n",
      "Test Accuracy :  95.13000000000001  %\n",
      "---------------  Epoch :  2  ---------------\n",
      "Train Accuracy :  95.89333333333333  %\n",
      "Test Accuracy :  95.03  %\n",
      "---------------  Epoch :  3  ---------------\n",
      "Train Accuracy :  95.38666666666667  %\n",
      "Test Accuracy :  94.26  %\n"
     ]
    }
   ],
   "source": [
    "# Training loop \n",
    "\n",
    "\n",
    "arch = [784,100,50,50,10]\n",
    "model = ReflexiveModel(arch,bias=False).to(DEVICE)\n",
    "optimizer = torch.optim.Adam(model.parameters(), weight_decay=1e-5)\n",
    "#loss_reconst = torch.nn.BCEWithLogitsLoss()\n",
    "loss_reconst = torch.nn.MSELoss()\n",
    "loss_fn = torch.nn.CrossEntropyLoss()\n",
    "\n",
    "\n",
    "\n",
    "training = [3,3,4] # 0 : # of epoch for classifier alone, 1 : # of epoch for both classifier and decoder, 2 : # epoch for decoder alone\n",
    "\n",
    "for phase,epochs in enumerate(training): \n",
    "    print(10*'-'+' Phase : '+str(phase)+' '+10*'-')\n",
    "    for epoch in range(epochs):\n",
    "        correct_pred = 0\n",
    "        total_pred = 0\n",
    "        model.train()\n",
    "        for batch_idx, (data, target) in enumerate(dl_tr):\n",
    "            data = data.view([-1, 784]).to(DEVICE)\n",
    "            target = target.to(DEVICE)\n",
    "\n",
    "            optimizer.zero_grad()\n",
    "            \n",
    "            if phase==0:\n",
    "                output = model(data)\n",
    "                loss = loss_fn(output, target)\n",
    "                \n",
    "            elif phase==1:\n",
    "                output = model(data)\n",
    "                decoded = model.decoder(output)\n",
    "                loss1 = loss_fn(output, target)\n",
    "                loss2 = loss_reconst(decoded,data)\n",
    "                loss = loss1+loss2\n",
    "            elif phase==2:\n",
    "                with torch.no_grad():\n",
    "                    output = model(data)\n",
    "                decoded = model.decoder(output)\n",
    "                loss = loss_reconst(decoded,data)\n",
    "                \n",
    "            loss.backward()\n",
    "            optimizer.step()\n",
    "\n",
    "\n",
    "            correct_pred+=(output.argmax(dim=1)==target).sum().item()\n",
    "            total_pred += data.shape[0]\n",
    "        print(15*'-'+' ', 'Epoch : ', epoch, ' ' + 15*'-')\n",
    "        print('Train Accuracy : ',correct_pred/total_pred*100, ' %')\n",
    "        model.eval()\n",
    "        correct_pred = 0\n",
    "        total_pred = 0\n",
    "        for batch_idx, (data, target) in enumerate(dl_ts):\n",
    "            data = data.view([-1, 784]).to(DEVICE)\n",
    "            target = target.to(DEVICE)\n",
    "\n",
    "            output = model(data)\n",
    "\n",
    "\n",
    "            correct_pred+=(output.argmax(dim=1)==target).sum().item()\n",
    "            total_pred += data.shape[0]\n",
    "\n",
    "        print('Test Accuracy : ',correct_pred/total_pred*100, ' %') \n",
    "\n",
    "\n",
    "    \n"
   ]
  },
  {
   "cell_type": "markdown",
   "id": "1afe2dc7",
   "metadata": {},
   "source": [
    "## Generating attacks "
   ]
  },
  {
   "cell_type": "code",
   "execution_count": 7,
   "id": "155c4243",
   "metadata": {},
   "outputs": [
    {
     "name": "stderr",
     "output_type": "stream",
     "text": [
      "  1%|▌                                        | 4/313 [03:55<5:03:02, 58.84s/it]\n"
     ]
    }
   ],
   "source": [
    "\n",
    "from torch.nn.functional import relu \n",
    "\n",
    "def cap01(x):\n",
    "    return 1-relu(1-relu(x))\n",
    "\n",
    "\n",
    "\n",
    "\n",
    "\n",
    "\n",
    "\n",
    "from foolbox import PyTorchModel\n",
    "from foolbox.attacks import L2CarliniWagnerAttack\n",
    "from foolbox.attacks import L2DeepFoolAttack\n",
    "from foolbox.attacks import L2FastGradientAttack\n",
    "atkFGM = L2FastGradientAttack()\n",
    "atk = L2CarliniWagnerAttack()\n",
    "atk2 = L2DeepFoolAttack()\n",
    "\n",
    "\n",
    "def attack(model,n_batch=5):\n",
    "    source = torch.zeros((7,n_batch*32,arch[0]))\n",
    "\n",
    "    #final tensor source[alter][idx] contains an data input for data sample idx with a specific alteration :\n",
    "    # 0 : no alteration, raw data \n",
    "    # 1 : data + adversarial  noise\n",
    "    # 2 : data + shuffle of adversarial noise (random perturbation with same statistics)\n",
    "    # 3 : data + carlini attack \n",
    "    # 4 : data + shuffle of carlini \n",
    "\n",
    "    label = torch.zeros(n_batch*32)\n",
    "    predLabel = torch.zeros(7,n_batch*32)\n",
    "\n",
    "    epsilons = [2.0]\n",
    "    model.eval()\n",
    "    fmodel = PyTorchModel(model, bounds=(0, 1), preprocessing=None)\n",
    "\n",
    "    k_batch = 0 \n",
    "    for data, target in tqdm(dl_ts): \n",
    "        #print('k_batch :', k_batch )\n",
    "\n",
    "        data=data.view([-1,784]).to(DEVICE) \n",
    "        target = target.to(DEVICE)\n",
    "\n",
    "\n",
    "        perm = torch.randperm(len(target)).to(DEVICE)\n",
    "\n",
    "        raw_fgm,_,_ = atkFGM(fmodel, data.to(DEVICE), target.to(DEVICE),epsilons=epsilons)\n",
    "        raw_advs, clipped_advs, success = atk(fmodel, data.to(DEVICE), target.to(DEVICE),epsilons=epsilons)\n",
    "        raw_advs2,_,_ = atk2(fmodel, data.to(DEVICE), target.to(DEVICE),epsilons=epsilons)\n",
    "\n",
    "        #data_perturbed = topactiv.fgsm_attack(data, target,epsilon) #Trick to do targeted fgsm (target : target[perm])\n",
    "\n",
    "\n",
    "        data_perturbed = cap01(raw_fgm[0])\n",
    "        data_carlini = cap01(raw_advs[0])\n",
    "        data_deepfool = cap01(raw_advs2[0])\n",
    "\n",
    "\n",
    "        #data_noised = data+epsilon*2*(torch.bernoulli(0.5*torch.ones(data.shape))-1)\n",
    "        #Shuffle\n",
    "        data_noised = torch.zeros(32,784).to(DEVICE)\n",
    "        data_noised2 = torch.zeros(32,784).to(DEVICE)\n",
    "        data_noised3 = torch.zeros(32,784).to(DEVICE)\n",
    "        for i in range(32):\n",
    "            indices=torch.randperm(784).to(DEVICE)\n",
    "            data_noised[i]=(data_perturbed-data)[i].reshape(784)[indices]+data[i]\n",
    "            data_noised2[i]=(data_carlini-data)[i].reshape(784)[indices]+data[i]\n",
    "            data_noised3[i]=(data_deepfool-data)[i].reshape(784)[indices]+data[i]\n",
    "\n",
    "            data_noised[i]=cap01(data_noised[i])\n",
    "            data_noised2[i]=cap01(data_noised2[i])\n",
    "            data_noised2[i]=cap01(data_noised3[i])\n",
    "\n",
    "\n",
    "\n",
    "\n",
    "        source[0][k_batch*32:(k_batch+1)*32]=data\n",
    "        source[1][k_batch*32:(k_batch+1)*32]=data_perturbed\n",
    "        source[2][k_batch*32:(k_batch+1)*32]=data_noised\n",
    "        source[3][k_batch*32:(k_batch+1)*32]=data_carlini\n",
    "        source[4][k_batch*32:(k_batch+1)*32]=data_noised2\n",
    "        source[5][k_batch*32:(k_batch+1)*32]=data_deepfool\n",
    "        source[6][k_batch*32:(k_batch+1)*32]=data_noised3\n",
    "\n",
    "\n",
    "        label[k_batch*32:(k_batch+1)*32]=target\n",
    "\n",
    "        model.eval()\n",
    "        for alter in range(7):\n",
    "            predLabel[alter][k_batch*32:(k_batch+1)*32]=model(source[alter][k_batch*32:(k_batch+1)*32].to(DEVICE)).argmax(dim=1)\n",
    "\n",
    "        k_batch+=1\n",
    "        if k_batch>=n_batch:\n",
    "            break \n",
    "\n",
    "    return source,label,predLabel\n",
    "\n",
    "def print28x28tensor(tensor):\n",
    "    img=tensor.to('cpu')\n",
    "    pixels = img.reshape((28,28))\n",
    "    plt.imshow(pixels,cmap='gray')\n",
    "    \n",
    "source,label,predLabel=attack(model)"
   ]
  },
  {
   "cell_type": "code",
   "execution_count": 8,
   "id": "4836c8c0",
   "metadata": {
    "scrolled": false
   },
   "outputs": [
    {
     "name": "stdout",
     "output_type": "stream",
     "text": [
      "------ Accuracy under different attacks  ------\n",
      "Normal  :  95.625  %\n",
      "FGM  :  12.5  %\n",
      "FGM Noise  :  95.0  %\n",
      "CW  :  0.0  %\n",
      "CW Noise  :  95.625  %\n",
      "DeepFool  :  0.0  %\n",
      "DeepFool Noise  :  95.625  %\n"
     ]
    }
   ],
   "source": [
    "print(6*'-',\"Accuracy under different attacks \",6*'-')\n",
    "for alter,name in enumerate(['Normal', 'FGM', 'FGM Noise', 'CW' , 'CW Noise','DeepFool','DeepFool Noise']):\n",
    "    print(name, ' : ',(label==predLabel[alter]).sum().item()/len(label)*100,' %')"
   ]
  },
  {
   "cell_type": "code",
   "execution_count": null,
   "id": "f093e919",
   "metadata": {},
   "outputs": [],
   "source": [
    "code = torch.zeros((1,10)).to(DEVICE)\n",
    "code[0,5]=1\n",
    "idx = 12\n",
    "alter=1\n",
    "code = model(source[alter,idx].to(DEVICE))\n",
    "\n",
    "print28x28tensor(model.decoder(code).detach())\n",
    "\n",
    "plt.show()\n",
    "print28x28tensor(source[alter,idx])"
   ]
  },
  {
   "cell_type": "code",
   "execution_count": 143,
   "id": "e54d3423",
   "metadata": {},
   "outputs": [],
   "source": [
    "\n",
    "def visu_reco(alter,idx):\n",
    "    model.eval()\n",
    "    code = model(source[alter,idx].to(DEVICE))\n",
    "    print('Predicted Label : ',code.argmax().item())\n",
    "    print28x28tensor(model.decoder(code.to(DEVICE)).detach())\n",
    "    return code "
   ]
  },
  {
   "cell_type": "code",
   "execution_count": 147,
   "id": "610899f2",
   "metadata": {},
   "outputs": [
    {
     "name": "stdout",
     "output_type": "stream",
     "text": [
      "Predicted Label :  4\n"
     ]
    },
    {
     "data": {
      "text/plain": [
       "tensor([-6.0271, -1.4278, -4.3413, -3.2226,  7.7452, -2.5484, -4.1044, -1.7979,\n",
       "         0.9068, -0.7332], device='cuda:0', grad_fn=<SqueezeBackward3>)"
      ]
     },
     "execution_count": 147,
     "metadata": {},
     "output_type": "execute_result"
    },
    {
     "data": {
      "image/png": "[encoded data removed]",
      "text/plain": [
       "<Figure size 432x288 with 1 Axes>"
      ]
     },
     "metadata": {
      "needs_background": "light"
     },
     "output_type": "display_data"
    }
   ],
   "source": [
    "visu_reco(2,6)"
   ]
  },
  {
   "cell_type": "code",
   "execution_count": 155,
   "id": "c26856ea",
   "metadata": {},
   "outputs": [],
   "source": [
    "def ping_pong(alter,idx,it=1):\n",
    "    data=source[alter,idx].to(DEVICE)\n",
    "    print('True label : ',int(label[idx].item()))\n",
    "    for _ in range(it):\n",
    "        code = model(data)\n",
    "        print(code.argmax().item())\n",
    "        data = model.decoder(code)\n",
    "    return code \n",
    "\n",
    "\n",
    "def flip_tick(alter,idx,it=10):\n",
    "    \n",
    "    data=source[alter,idx].to(DEVICE)\n",
    "    pred = 0 \n",
    "    first = True\n",
    "    for k in range(it):\n",
    "        code = model(data)\n",
    "        prevPred = pred \n",
    "        pred = (code.argmax().item())\n",
    "        data = model.decoder(code)\n",
    "        if pred != prevPred and not first:\n",
    "            return k \n",
    "        first = False \n",
    "    return -1 "
   ]
  },
  {
   "cell_type": "code",
   "execution_count": 163,
   "id": "ae6670e5",
   "metadata": {},
   "outputs": [
    {
     "name": "stdout",
     "output_type": "stream",
     "text": [
      "True label :  4\n",
      "4\n",
      "8\n",
      "8\n",
      "8\n",
      "8\n"
     ]
    },
    {
     "data": {
      "text/plain": [
       "3"
      ]
     },
     "execution_count": 163,
     "metadata": {},
     "output_type": "execute_result"
    },
    {
     "data": {
      "image/png": "[encoded data removed]",
      "text/plain": [
       "<Figure size 432x288 with 1 Axes>"
      ]
     },
     "metadata": {
      "needs_background": "light"
     },
     "output_type": "display_data"
    }
   ],
   "source": [
    "code = ping_pong(3,6,it=5)\n",
    "print28x28tensor(model.decoder(code.to(DEVICE)).detach())\n",
    "flip_tick(0,7)"
   ]
  },
  {
   "cell_type": "code",
   "execution_count": 150,
   "id": "233645d4",
   "metadata": {},
   "outputs": [
    {
     "name": "stdout",
     "output_type": "stream",
     "text": [
      "Predicted Label :  4\n"
     ]
    },
    {
     "data": {
      "text/plain": [
       "tensor([-1.6200, -3.7496, -1.4602, -2.9195,  3.3988, -2.2427, -4.3775, -1.2258,\n",
       "        -1.5876,  2.8413], device='cuda:0', grad_fn=<SqueezeBackward3>)"
      ]
     },
     "execution_count": 150,
     "metadata": {},
     "output_type": "execute_result"
    },
    {
     "data": {
      "image/png": "[encoded data removed]",
      "text/plain": [
       "<Figure size 432x288 with 1 Axes>"
      ]
     },
     "metadata": {
      "needs_background": "light"
     },
     "output_type": "display_data"
    }
   ],
   "source": [
    "visu_reco(3,4)"
   ]
  },
  {
   "cell_type": "markdown",
   "id": "8945df1f",
   "metadata": {},
   "source": [
    "# One shot reconstruction loss "
   ]
  },
  {
   "cell_type": "code",
   "execution_count": 151,
   "id": "be4869dc",
   "metadata": {},
   "outputs": [],
   "source": [
    "def rec_loss(alter,number):\n",
    "    idxs = (label==number)\n",
    "    codes = model(source[alter,idxs].to(DEVICE))\n",
    "    decodeds = model.decoder(codes)\n",
    "    losses = torch.zeros(codes.shape[0])\n",
    "    for i in range(len(losses)):\n",
    "        losses[i]=loss_reconst(decodeds[i],source[alter,idxs][i].to(DEVICE))\n",
    "    return losses.mean().item(),losses.std().item()\n",
    "\n",
    "\n"
   ]
  },
  {
   "cell_type": "code",
   "execution_count": 174,
   "id": "2e588db7",
   "metadata": {
    "scrolled": true
   },
   "outputs": [
    {
     "data": {
      "application/vnd.plotly.v1+json": {
       "config": {
        "plotlyServerURL": "https://plot.ly"
       },
       "data": [
        {
         "error_y": {
          "array": [
           0.01216169260442257,
           0.012652349658310413,
           0.00795468594878912,
           0.015867209061980247,
           0.012019026093184948,
           0.011726138181984425,
           0.011025347746908665,
           0.014530605636537075,
           0.010740610770881176,
           0.01519441232085228
          ]
         },
         "hovertemplate": "alter=FGM<br>number=%{x}<br>mean=%{y}<extra></extra>",
         "legendgroup": "FGM",
         "marker": {
          "color": "#636efa",
          "symbol": "circle"
         },
         "mode": "markers",
         "name": "FGM",
         "orientation": "v",
         "showlegend": true,
         "type": "scatter",
         "x": [
          0,
          1,
          2,
          3,
          4,
          5,
          6,
          7,
          8,
          9
         ],
         "xaxis": "x",
         "y": [
          0.04894658178091049,
          0.031036725267767906,
          0.057138871401548386,
          0.047524962574243546,
          0.04799111187458038,
          0.04328064247965813,
          0.04817346855998039,
          0.04529076814651489,
          0.04058964177966118,
          0.04383193701505661
         ],
         "yaxis": "y"
        },
        {
         "error_y": {
          "array": [
           0.01401517167687416,
           0.009387819096446037,
           0.012936013750731945,
           0.01814095675945282,
           0.008977596648037434,
           0.014942274428904057,
           0.0164811871945858,
           0.013322326354682446,
           0.011615701019763947,
           0.01696859486401081
          ]
         },
         "hovertemplate": "alter=FGM Noise<br>number=%{x}<br>mean=%{y}<extra></extra>",
         "legendgroup": "FGM Noise",
         "marker": {
          "color": "#EF553B",
          "symbol": "circle"
         },
         "mode": "markers",
         "name": "FGM Noise",
         "orientation": "v",
         "showlegend": true,
         "type": "scatter",
         "x": [
          0,
          1,
          2,
          3,
          4,
          5,
          6,
          7,
          8,
          9
         ],
         "xaxis": "x",
         "y": [
          0.06041480973362923,
          0.02220478467643261,
          0.05619484558701515,
          0.04729371890425682,
          0.041901007294654846,
          0.04808678850531578,
          0.04236249253153801,
          0.03875860199332237,
          0.042155489325523376,
          0.04132171347737312
         ],
         "yaxis": "y"
        }
       ],
       "layout": {
        "legend": {
         "title": {
          "text": "alter"
         },
         "tracegroupgap": 0
        },
        "margin": {
         "t": 60
        },
        "template": {
         "data": {
          "bar": [
           {
            "error_x": {
             "color": "#2a3f5f"
            },
            "error_y": {
             "color": "#2a3f5f"
            },
            "marker": {
             "line": {
              "color": "#E5ECF6",
              "width": 0.5
             },
             "pattern": {
              "fillmode": "overlay",
              "size": 10,
              "solidity": 0.2
             }
            },
            "type": "bar"
           }
          ],
          "barpolar": [
           {
            "marker": {
             "line": {
              "color": "#E5ECF6",
              "width": 0.5
             },
             "pattern": {
              "fillmode": "overlay",
              "size": 10,
              "solidity": 0.2
             }
            },
            "type": "barpolar"
           }
          ],
          "carpet": [
           {
            "aaxis": {
             "endlinecolor": "#2a3f5f",
             "gridcolor": "white",
             "linecolor": "white",
             "minorgridcolor": "white",
             "startlinecolor": "#2a3f5f"
            },
            "baxis": {
             "endlinecolor": "#2a3f5f",
             "gridcolor": "white",
             "linecolor": "white",
             "minorgridcolor": "white",
             "startlinecolor": "#2a3f5f"
            },
            "type": "carpet"
           }
          ],
          "choropleth": [
           {
            "colorbar": {
             "outlinewidth": 0,
             "ticks": ""
            },
            "type": "choropleth"
           }
          ],
          "contour": [
           {
            "colorbar": {
             "outlinewidth": 0,
             "ticks": ""
            },
            "colorscale": [
             [
              0,
              "#0d0887"
             ],
             [
              0.1111111111111111,
              "#46039f"
             ],
             [
              0.2222222222222222,
              "#7201a8"
             ],
             [
              0.3333333333333333,
              "#9c179e"
             ],
             [
              0.4444444444444444,
              "#bd3786"
             ],
             [
              0.5555555555555556,
              "#d8576b"
             ],
             [
              0.6666666666666666,
              "#ed7953"
             ],
             [
              0.7777777777777778,
              "#fb9f3a"
             ],
             [
              0.8888888888888888,
              "#fdca26"
             ],
             [
              1,
              "#f0f921"
             ]
            ],
            "type": "contour"
           }
          ],
          "contourcarpet": [
           {
            "colorbar": {
             "outlinewidth": 0,
             "ticks": ""
            },
            "type": "contourcarpet"
           }
          ],
          "heatmap": [
           {
            "colorbar": {
             "outlinewidth": 0,
             "ticks": ""
            },
            "colorscale": [
             [
              0,
              "#0d0887"
             ],
             [
              0.1111111111111111,
              "#46039f"
             ],
             [
              0.2222222222222222,
              "#7201a8"
             ],
             [
              0.3333333333333333,
              "#9c179e"
             ],
             [
              0.4444444444444444,
              "#bd3786"
             ],
             [
              0.5555555555555556,
              "#d8576b"
             ],
             [
              0.6666666666666666,
              "#ed7953"
             ],
             [
              0.7777777777777778,
              "#fb9f3a"
             ],
             [
              0.8888888888888888,
              "#fdca26"
             ],
             [
              1,
              "#f0f921"
             ]
            ],
            "type": "heatmap"
           }
          ],
          "heatmapgl": [
           {
            "colorbar": {
             "outlinewidth": 0,
             "ticks": ""
            },
            "colorscale": [
             [
              0,
              "#0d0887"
             ],
             [
              0.1111111111111111,
              "#46039f"
             ],
             [
              0.2222222222222222,
              "#7201a8"
             ],
             [
              0.3333333333333333,
              "#9c179e"
             ],
             [
              0.4444444444444444,
              "#bd3786"
             ],
             [
              0.5555555555555556,
              "#d8576b"
             ],
             [
              0.6666666666666666,
              "#ed7953"
             ],
             [
              0.7777777777777778,
              "#fb9f3a"
             ],
             [
              0.8888888888888888,
              "#fdca26"
             ],
             [
              1,
              "#f0f921"
             ]
            ],
            "type": "heatmapgl"
           }
          ],
          "histogram": [
           {
            "marker": {
             "pattern": {
              "fillmode": "overlay",
              "size": 10,
              "solidity": 0.2
             }
            },
            "type": "histogram"
           }
          ],
          "histogram2d": [
           {
            "colorbar": {
             "outlinewidth": 0,
             "ticks": ""
            },
            "colorscale": [
             [
              0,
              "#0d0887"
             ],
             [
              0.1111111111111111,
              "#46039f"
             ],
             [
              0.2222222222222222,
              "#7201a8"
             ],
             [
              0.3333333333333333,
              "#9c179e"
             ],
             [
              0.4444444444444444,
              "#bd3786"
             ],
             [
              0.5555555555555556,
              "#d8576b"
             ],
             [
              0.6666666666666666,
              "#ed7953"
             ],
             [
              0.7777777777777778,
              "#fb9f3a"
             ],
             [
              0.8888888888888888,
              "#fdca26"
             ],
             [
              1,
              "#f0f921"
             ]
            ],
            "type": "histogram2d"
           }
          ],
          "histogram2dcontour": [
           {
            "colorbar": {
             "outlinewidth": 0,
             "ticks": ""
            },
            "colorscale": [
             [
              0,
              "#0d0887"
             ],
             [
              0.1111111111111111,
              "#46039f"
             ],
             [
              0.2222222222222222,
              "#7201a8"
             ],
             [
              0.3333333333333333,
              "#9c179e"
             ],
             [
              0.4444444444444444,
              "#bd3786"
             ],
             [
              0.5555555555555556,
              "#d8576b"
             ],
             [
              0.6666666666666666,
              "#ed7953"
             ],
             [
              0.7777777777777778,
              "#fb9f3a"
             ],
             [
              0.8888888888888888,
              "#fdca26"
             ],
             [
              1,
              "#f0f921"
             ]
            ],
            "type": "histogram2dcontour"
           }
          ],
          "mesh3d": [
           {
            "colorbar": {
             "outlinewidth": 0,
             "ticks": ""
            },
            "type": "mesh3d"
           }
          ],
          "parcoords": [
           {
            "line": {
             "colorbar": {
              "outlinewidth": 0,
              "ticks": ""
             }
            },
            "type": "parcoords"
           }
          ],
          "pie": [
           {
            "automargin": true,
            "type": "pie"
           }
          ],
          "scatter": [
           {
            "marker": {
             "colorbar": {
              "outlinewidth": 0,
              "ticks": ""
             }
            },
            "type": "scatter"
           }
          ],
          "scatter3d": [
           {
            "line": {
             "colorbar": {
              "outlinewidth": 0,
              "ticks": ""
             }
            },
            "marker": {
             "colorbar": {
              "outlinewidth": 0,
              "ticks": ""
             }
            },
            "type": "scatter3d"
           }
          ],
          "scattercarpet": [
           {
            "marker": {
             "colorbar": {
              "outlinewidth": 0,
              "ticks": ""
             }
            },
            "type": "scattercarpet"
           }
          ],
          "scattergeo": [
           {
            "marker": {
             "colorbar": {
              "outlinewidth": 0,
              "ticks": ""
             }
            },
            "type": "scattergeo"
           }
          ],
          "scattergl": [
           {
            "marker": {
             "colorbar": {
              "outlinewidth": 0,
              "ticks": ""
             }
            },
            "type": "scattergl"
           }
          ],
          "scattermapbox": [
           {
            "marker": {
             "colorbar": {
              "outlinewidth": 0,
              "ticks": ""
             }
            },
            "type": "scattermapbox"
           }
          ],
          "scatterpolar": [
           {
            "marker": {
             "colorbar": {
              "outlinewidth": 0,
              "ticks": ""
             }
            },
            "type": "scatterpolar"
           }
          ],
          "scatterpolargl": [
           {
            "marker": {
             "colorbar": {
              "outlinewidth": 0,
              "ticks": ""
             }
            },
            "type": "scatterpolargl"
           }
          ],
          "scatterternary": [
           {
            "marker": {
             "colorbar": {
              "outlinewidth": 0,
              "ticks": ""
             }
            },
            "type": "scatterternary"
           }
          ],
          "surface": [
           {
            "colorbar": {
             "outlinewidth": 0,
             "ticks": ""
            },
            "colorscale": [
             [
              0,
              "#0d0887"
             ],
             [
              0.1111111111111111,
              "#46039f"
             ],
             [
              0.2222222222222222,
              "#7201a8"
             ],
             [
              0.3333333333333333,
              "#9c179e"
             ],
             [
              0.4444444444444444,
              "#bd3786"
             ],
             [
              0.5555555555555556,
              "#d8576b"
             ],
             [
              0.6666666666666666,
              "#ed7953"
             ],
             [
              0.7777777777777778,
              "#fb9f3a"
             ],
             [
              0.8888888888888888,
              "#fdca26"
             ],
             [
              1,
              "#f0f921"
             ]
            ],
            "type": "surface"
           }
          ],
          "table": [
           {
            "cells": {
             "fill": {
              "color": "#EBF0F8"
             },
             "line": {
              "color": "white"
             }
            },
            "header": {
             "fill": {
              "color": "#C8D4E3"
             },
             "line": {
              "color": "white"
             }
            },
            "type": "table"
           }
          ]
         },
         "layout": {
          "annotationdefaults": {
           "arrowcolor": "#2a3f5f",
           "arrowhead": 0,
           "arrowwidth": 1
          },
          "autotypenumbers": "strict",
          "coloraxis": {
           "colorbar": {
            "outlinewidth": 0,
            "ticks": ""
           }
          },
          "colorscale": {
           "diverging": [
            [
             0,
             "#8e0152"
            ],
            [
             0.1,
             "#c51b7d"
            ],
            [
             0.2,
             "#de77ae"
            ],
            [
             0.3,
             "#f1b6da"
            ],
            [
             0.4,
             "#fde0ef"
            ],
            [
             0.5,
             "#f7f7f7"
            ],
            [
             0.6,
             "#e6f5d0"
            ],
            [
             0.7,
             "#b8e186"
            ],
            [
             0.8,
             "#7fbc41"
            ],
            [
             0.9,
             "#4d9221"
            ],
            [
             1,
             "#276419"
            ]
           ],
           "sequential": [
            [
             0,
             "#0d0887"
            ],
            [
             0.1111111111111111,
             "#46039f"
            ],
            [
             0.2222222222222222,
             "#7201a8"
            ],
            [
             0.3333333333333333,
             "#9c179e"
            ],
            [
             0.4444444444444444,
             "#bd3786"
            ],
            [
             0.5555555555555556,
             "#d8576b"
            ],
            [
             0.6666666666666666,
             "#ed7953"
            ],
            [
             0.7777777777777778,
             "#fb9f3a"
            ],
            [
             0.8888888888888888,
             "#fdca26"
            ],
            [
             1,
             "#f0f921"
            ]
           ],
           "sequentialminus": [
            [
             0,
             "#0d0887"
            ],
            [
             0.1111111111111111,
             "#46039f"
            ],
            [
             0.2222222222222222,
             "#7201a8"
            ],
            [
             0.3333333333333333,
             "#9c179e"
            ],
            [
             0.4444444444444444,
             "#bd3786"
            ],
            [
             0.5555555555555556,
             "#d8576b"
            ],
            [
             0.6666666666666666,
             "#ed7953"
            ],
            [
             0.7777777777777778,
             "#fb9f3a"
            ],
            [
             0.8888888888888888,
             "#fdca26"
            ],
            [
             1,
             "#f0f921"
            ]
           ]
          },
          "colorway": [
           "#636efa",
           "#EF553B",
           "#00cc96",
           "#ab63fa",
           "#FFA15A",
           "#19d3f3",
           "#FF6692",
           "#B6E880",
           "#FF97FF",
           "#FECB52"
          ],
          "font": {
           "color": "#2a3f5f"
          },
          "geo": {
           "bgcolor": "white",
           "lakecolor": "white",
           "landcolor": "#E5ECF6",
           "showlakes": true,
           "showland": true,
           "subunitcolor": "white"
          },
          "hoverlabel": {
           "align": "left"
          },
          "hovermode": "closest",
          "mapbox": {
           "style": "light"
          },
          "paper_bgcolor": "white",
          "plot_bgcolor": "#E5ECF6",
          "polar": {
           "angularaxis": {
            "gridcolor": "white",
            "linecolor": "white",
            "ticks": ""
           },
           "bgcolor": "#E5ECF6",
           "radialaxis": {
            "gridcolor": "white",
            "linecolor": "white",
            "ticks": ""
           }
          },
          "scene": {
           "xaxis": {
            "backgroundcolor": "#E5ECF6",
            "gridcolor": "white",
            "gridwidth": 2,
            "linecolor": "white",
            "showbackground": true,
            "ticks": "",
            "zerolinecolor": "white"
           },
           "yaxis": {
            "backgroundcolor": "#E5ECF6",
            "gridcolor": "white",
            "gridwidth": 2,
            "linecolor": "white",
            "showbackground": true,
            "ticks": "",
            "zerolinecolor": "white"
           },
           "zaxis": {
            "backgroundcolor": "#E5ECF6",
            "gridcolor": "white",
            "gridwidth": 2,
            "linecolor": "white",
            "showbackground": true,
            "ticks": "",
            "zerolinecolor": "white"
           }
          },
          "shapedefaults": {
           "line": {
            "color": "#2a3f5f"
           }
          },
          "ternary": {
           "aaxis": {
            "gridcolor": "white",
            "linecolor": "white",
            "ticks": ""
           },
           "baxis": {
            "gridcolor": "white",
            "linecolor": "white",
            "ticks": ""
           },
           "bgcolor": "#E5ECF6",
           "caxis": {
            "gridcolor": "white",
            "linecolor": "white",
            "ticks": ""
           }
          },
          "title": {
           "x": 0.05
          },
          "xaxis": {
           "automargin": true,
           "gridcolor": "white",
           "linecolor": "white",
           "ticks": "",
           "title": {
            "standoff": 15
           },
           "zerolinecolor": "white",
           "zerolinewidth": 2
          },
          "yaxis": {
           "automargin": true,
           "gridcolor": "white",
           "linecolor": "white",
           "ticks": "",
           "title": {
            "standoff": 15
           },
           "zerolinecolor": "white",
           "zerolinewidth": 2
          }
         }
        },
        "xaxis": {
         "anchor": "y",
         "domain": [
          0,
          1
         ],
         "title": {
          "text": "number"
         }
        },
        "yaxis": {
         "anchor": "x",
         "domain": [
          0,
          1
         ],
         "title": {
          "text": "mean"
         }
        }
       }
      },
      "text/html": [
       "<div>                            <div id=\"7788a932-8463-4a2a-a7fc-9a4f50f20dc0\" class=\"plotly-graph-div\" style=\"height:525px; width:100%;\"></div>            <script type=\"text/javascript\">                require([\"plotly\"], function(Plotly) {                    window.PLOTLYENV=window.PLOTLYENV || {};                                    if (document.getElementById(\"7788a932-8463-4a2a-a7fc-9a4f50f20dc0\")) {                    Plotly.newPlot(                        \"7788a932-8463-4a2a-a7fc-9a4f50f20dc0\",                        [{\"error_y\":{\"array\":[0.01216169260442257,0.012652349658310413,0.00795468594878912,0.015867209061980247,0.012019026093184948,0.011726138181984425,0.011025347746908665,0.014530605636537075,0.010740610770881176,0.01519441232085228]},\"hovertemplate\":\"alter=FGM<br>number=%{x}<br>mean=%{y}<extra></extra>\",\"legendgroup\":\"FGM\",\"marker\":{\"color\":\"#636efa\",\"symbol\":\"circle\"},\"mode\":\"markers\",\"name\":\"FGM\",\"orientation\":\"v\",\"showlegend\":true,\"x\":[0,1,2,3,4,5,6,7,8,9],\"xaxis\":\"x\",\"y\":[0.04894658178091049,0.031036725267767906,0.057138871401548386,0.047524962574243546,0.04799111187458038,0.04328064247965813,0.04817346855998039,0.04529076814651489,0.04058964177966118,0.04383193701505661],\"yaxis\":\"y\",\"type\":\"scatter\"},{\"error_y\":{\"array\":[0.01401517167687416,0.009387819096446037,0.012936013750731945,0.01814095675945282,0.008977596648037434,0.014942274428904057,0.0164811871945858,0.013322326354682446,0.011615701019763947,0.01696859486401081]},\"hovertemplate\":\"alter=FGM Noise<br>number=%{x}<br>mean=%{y}<extra></extra>\",\"legendgroup\":\"FGM Noise\",\"marker\":{\"color\":\"#EF553B\",\"symbol\":\"circle\"},\"mode\":\"markers\",\"name\":\"FGM Noise\",\"orientation\":\"v\",\"showlegend\":true,\"x\":[0,1,2,3,4,5,6,7,8,9],\"xaxis\":\"x\",\"y\":[0.06041480973362923,0.02220478467643261,0.05619484558701515,0.04729371890425682,0.041901007294654846,0.04808678850531578,0.04236249253153801,0.03875860199332237,0.042155489325523376,0.04132171347737312],\"yaxis\":\"y\",\"type\":\"scatter\"}],                        {\"template\":{\"data\":{\"bar\":[{\"error_x\":{\"color\":\"#2a3f5f\"},\"error_y\":{\"color\":\"#2a3f5f\"},\"marker\":{\"line\":{\"color\":\"#E5ECF6\",\"width\":0.5},\"pattern\":{\"fillmode\":\"overlay\",\"size\":10,\"solidity\":0.2}},\"type\":\"bar\"}],\"barpolar\":[{\"marker\":{\"line\":{\"color\":\"#E5ECF6\",\"width\":0.5},\"pattern\":{\"fillmode\":\"overlay\",\"size\":10,\"solidity\":0.2}},\"type\":\"barpolar\"}],\"carpet\":[{\"aaxis\":{\"endlinecolor\":\"#2a3f5f\",\"gridcolor\":\"white\",\"linecolor\":\"white\",\"minorgridcolor\":\"white\",\"startlinecolor\":\"#2a3f5f\"},\"baxis\":{\"endlinecolor\":\"#2a3f5f\",\"gridcolor\":\"white\",\"linecolor\":\"white\",\"minorgridcolor\":\"white\",\"startlinecolor\":\"#2a3f5f\"},\"type\":\"carpet\"}],\"choropleth\":[{\"colorbar\":{\"outlinewidth\":0,\"ticks\":\"\"},\"type\":\"choropleth\"}],\"contour\":[{\"colorbar\":{\"outlinewidth\":0,\"ticks\":\"\"},\"colorscale\":[[0.0,\"#0d0887\"],[0.1111111111111111,\"#46039f\"],[0.2222222222222222,\"#7201a8\"],[0.3333333333333333,\"#9c179e\"],[0.4444444444444444,\"#bd3786\"],[0.5555555555555556,\"#d8576b\"],[0.6666666666666666,\"#ed7953\"],[0.7777777777777778,\"#fb9f3a\"],[0.8888888888888888,\"#fdca26\"],[1.0,\"#f0f921\"]],\"type\":\"contour\"}],\"contourcarpet\":[{\"colorbar\":{\"outlinewidth\":0,\"ticks\":\"\"},\"type\":\"contourcarpet\"}],\"heatmap\":[{\"colorbar\":{\"outlinewidth\":0,\"ticks\":\"\"},\"colorscale\":[[0.0,\"#0d0887\"],[0.1111111111111111,\"#46039f\"],[0.2222222222222222,\"#7201a8\"],[0.3333333333333333,\"#9c179e\"],[0.4444444444444444,\"#bd3786\"],[0.5555555555555556,\"#d8576b\"],[0.6666666666666666,\"#ed7953\"],[0.7777777777777778,\"#fb9f3a\"],[0.8888888888888888,\"#fdca26\"],[1.0,\"#f0f921\"]],\"type\":\"heatmap\"}],\"heatmapgl\":[{\"colorbar\":{\"outlinewidth\":0,\"ticks\":\"\"},\"colorscale\":[[0.0,\"#0d0887\"],[0.1111111111111111,\"#46039f\"],[0.2222222222222222,\"#7201a8\"],[0.3333333333333333,\"#9c179e\"],[0.4444444444444444,\"#bd3786\"],[0.5555555555555556,\"#d8576b\"],[0.6666666666666666,\"#ed7953\"],[0.7777777777777778,\"#fb9f3a\"],[0.8888888888888888,\"#fdca26\"],[1.0,\"#f0f921\"]],\"type\":\"heatmapgl\"}],\"histogram\":[{\"marker\":{\"pattern\":{\"fillmode\":\"overlay\",\"size\":10,\"solidity\":0.2}},\"type\":\"histogram\"}],\"histogram2d\":[{\"colorbar\":{\"outlinewidth\":0,\"ticks\":\"\"},\"colorscale\":[[0.0,\"#0d0887\"],[0.1111111111111111,\"#46039f\"],[0.2222222222222222,\"#7201a8\"],[0.3333333333333333,\"#9c179e\"],[0.4444444444444444,\"#bd3786\"],[0.5555555555555556,\"#d8576b\"],[0.6666666666666666,\"#ed7953\"],[0.7777777777777778,\"#fb9f3a\"],[0.8888888888888888,\"#fdca26\"],[1.0,\"#f0f921\"]],\"type\":\"histogram2d\"}],\"histogram2dcontour\":[{\"colorbar\":{\"outlinewidth\":0,\"ticks\":\"\"},\"colorscale\":[[0.0,\"#0d0887\"],[0.1111111111111111,\"#46039f\"],[0.2222222222222222,\"#7201a8\"],[0.3333333333333333,\"#9c179e\"],[0.4444444444444444,\"#bd3786\"],[0.5555555555555556,\"#d8576b\"],[0.6666666666666666,\"#ed7953\"],[0.7777777777777778,\"#fb9f3a\"],[0.8888888888888888,\"#fdca26\"],[1.0,\"#f0f921\"]],\"type\":\"histogram2dcontour\"}],\"mesh3d\":[{\"colorbar\":{\"outlinewidth\":0,\"ticks\":\"\"},\"type\":\"mesh3d\"}],\"parcoords\":[{\"line\":{\"colorbar\":{\"outlinewidth\":0,\"ticks\":\"\"}},\"type\":\"parcoords\"}],\"pie\":[{\"automargin\":true,\"type\":\"pie\"}],\"scatter\":[{\"marker\":{\"colorbar\":{\"outlinewidth\":0,\"ticks\":\"\"}},\"type\":\"scatter\"}],\"scatter3d\":[{\"line\":{\"colorbar\":{\"outlinewidth\":0,\"ticks\":\"\"}},\"marker\":{\"colorbar\":{\"outlinewidth\":0,\"ticks\":\"\"}},\"type\":\"scatter3d\"}],\"scattercarpet\":[{\"marker\":{\"colorbar\":{\"outlinewidth\":0,\"ticks\":\"\"}},\"type\":\"scattercarpet\"}],\"scattergeo\":[{\"marker\":{\"colorbar\":{\"outlinewidth\":0,\"ticks\":\"\"}},\"type\":\"scattergeo\"}],\"scattergl\":[{\"marker\":{\"colorbar\":{\"outlinewidth\":0,\"ticks\":\"\"}},\"type\":\"scattergl\"}],\"scattermapbox\":[{\"marker\":{\"colorbar\":{\"outlinewidth\":0,\"ticks\":\"\"}},\"type\":\"scattermapbox\"}],\"scatterpolar\":[{\"marker\":{\"colorbar\":{\"outlinewidth\":0,\"ticks\":\"\"}},\"type\":\"scatterpolar\"}],\"scatterpolargl\":[{\"marker\":{\"colorbar\":{\"outlinewidth\":0,\"ticks\":\"\"}},\"type\":\"scatterpolargl\"}],\"scatterternary\":[{\"marker\":{\"colorbar\":{\"outlinewidth\":0,\"ticks\":\"\"}},\"type\":\"scatterternary\"}],\"surface\":[{\"colorbar\":{\"outlinewidth\":0,\"ticks\":\"\"},\"colorscale\":[[0.0,\"#0d0887\"],[0.1111111111111111,\"#46039f\"],[0.2222222222222222,\"#7201a8\"],[0.3333333333333333,\"#9c179e\"],[0.4444444444444444,\"#bd3786\"],[0.5555555555555556,\"#d8576b\"],[0.6666666666666666,\"#ed7953\"],[0.7777777777777778,\"#fb9f3a\"],[0.8888888888888888,\"#fdca26\"],[1.0,\"#f0f921\"]],\"type\":\"surface\"}],\"table\":[{\"cells\":{\"fill\":{\"color\":\"#EBF0F8\"},\"line\":{\"color\":\"white\"}},\"header\":{\"fill\":{\"color\":\"#C8D4E3\"},\"line\":{\"color\":\"white\"}},\"type\":\"table\"}]},\"layout\":{\"annotationdefaults\":{\"arrowcolor\":\"#2a3f5f\",\"arrowhead\":0,\"arrowwidth\":1},\"autotypenumbers\":\"strict\",\"coloraxis\":{\"colorbar\":{\"outlinewidth\":0,\"ticks\":\"\"}},\"colorscale\":{\"diverging\":[[0,\"#8e0152\"],[0.1,\"#c51b7d\"],[0.2,\"#de77ae\"],[0.3,\"#f1b6da\"],[0.4,\"#fde0ef\"],[0.5,\"#f7f7f7\"],[0.6,\"#e6f5d0\"],[0.7,\"#b8e186\"],[0.8,\"#7fbc41\"],[0.9,\"#4d9221\"],[1,\"#276419\"]],\"sequential\":[[0.0,\"#0d0887\"],[0.1111111111111111,\"#46039f\"],[0.2222222222222222,\"#7201a8\"],[0.3333333333333333,\"#9c179e\"],[0.4444444444444444,\"#bd3786\"],[0.5555555555555556,\"#d8576b\"],[0.6666666666666666,\"#ed7953\"],[0.7777777777777778,\"#fb9f3a\"],[0.8888888888888888,\"#fdca26\"],[1.0,\"#f0f921\"]],\"sequentialminus\":[[0.0,\"#0d0887\"],[0.1111111111111111,\"#46039f\"],[0.2222222222222222,\"#7201a8\"],[0.3333333333333333,\"#9c179e\"],[0.4444444444444444,\"#bd3786\"],[0.5555555555555556,\"#d8576b\"],[0.6666666666666666,\"#ed7953\"],[0.7777777777777778,\"#fb9f3a\"],[0.8888888888888888,\"#fdca26\"],[1.0,\"#f0f921\"]]},\"colorway\":[\"#636efa\",\"#EF553B\",\"#00cc96\",\"#ab63fa\",\"#FFA15A\",\"#19d3f3\",\"#FF6692\",\"#B6E880\",\"#FF97FF\",\"#FECB52\"],\"font\":{\"color\":\"#2a3f5f\"},\"geo\":{\"bgcolor\":\"white\",\"lakecolor\":\"white\",\"landcolor\":\"#E5ECF6\",\"showlakes\":true,\"showland\":true,\"subunitcolor\":\"white\"},\"hoverlabel\":{\"align\":\"left\"},\"hovermode\":\"closest\",\"mapbox\":{\"style\":\"light\"},\"paper_bgcolor\":\"white\",\"plot_bgcolor\":\"#E5ECF6\",\"polar\":{\"angularaxis\":{\"gridcolor\":\"white\",\"linecolor\":\"white\",\"ticks\":\"\"},\"bgcolor\":\"#E5ECF6\",\"radialaxis\":{\"gridcolor\":\"white\",\"linecolor\":\"white\",\"ticks\":\"\"}},\"scene\":{\"xaxis\":{\"backgroundcolor\":\"#E5ECF6\",\"gridcolor\":\"white\",\"gridwidth\":2,\"linecolor\":\"white\",\"showbackground\":true,\"ticks\":\"\",\"zerolinecolor\":\"white\"},\"yaxis\":{\"backgroundcolor\":\"#E5ECF6\",\"gridcolor\":\"white\",\"gridwidth\":2,\"linecolor\":\"white\",\"showbackground\":true,\"ticks\":\"\",\"zerolinecolor\":\"white\"},\"zaxis\":{\"backgroundcolor\":\"#E5ECF6\",\"gridcolor\":\"white\",\"gridwidth\":2,\"linecolor\":\"white\",\"showbackground\":true,\"ticks\":\"\",\"zerolinecolor\":\"white\"}},\"shapedefaults\":{\"line\":{\"color\":\"#2a3f5f\"}},\"ternary\":{\"aaxis\":{\"gridcolor\":\"white\",\"linecolor\":\"white\",\"ticks\":\"\"},\"baxis\":{\"gridcolor\":\"white\",\"linecolor\":\"white\",\"ticks\":\"\"},\"bgcolor\":\"#E5ECF6\",\"caxis\":{\"gridcolor\":\"white\",\"linecolor\":\"white\",\"ticks\":\"\"}},\"title\":{\"x\":0.05},\"xaxis\":{\"automargin\":true,\"gridcolor\":\"white\",\"linecolor\":\"white\",\"ticks\":\"\",\"title\":{\"standoff\":15},\"zerolinecolor\":\"white\",\"zerolinewidth\":2},\"yaxis\":{\"automargin\":true,\"gridcolor\":\"white\",\"linecolor\":\"white\",\"ticks\":\"\",\"title\":{\"standoff\":15},\"zerolinecolor\":\"white\",\"zerolinewidth\":2}}},\"xaxis\":{\"anchor\":\"y\",\"domain\":[0.0,1.0],\"title\":{\"text\":\"number\"}},\"yaxis\":{\"anchor\":\"x\",\"domain\":[0.0,1.0],\"title\":{\"text\":\"mean\"}},\"legend\":{\"title\":{\"text\":\"alter\"},\"tracegroupgap\":0},\"margin\":{\"t\":60}},                        {\"responsive\": true}                    ).then(function(){\n",
       "                            \n",
       "var gd = document.getElementById('7788a932-8463-4a2a-a7fc-9a4f50f20dc0');\n",
       "var x = new MutationObserver(function (mutations, observer) {{\n",
       "        var display = window.getComputedStyle(gd).display;\n",
       "        if (!display || display === 'none') {{\n",
       "            console.log([gd, 'removed!']);\n",
       "            Plotly.purge(gd);\n",
       "            observer.disconnect();\n",
       "        }}\n",
       "}});\n",
       "\n",
       "// Listen for the removal of the full notebook cells\n",
       "var notebookContainer = gd.closest('#notebook-container');\n",
       "if (notebookContainer) {{\n",
       "    x.observe(notebookContainer, {childList: true});\n",
       "}}\n",
       "\n",
       "// Listen for the clearing of the current output cell\n",
       "var outputEl = gd.closest('.output');\n",
       "if (outputEl) {{\n",
       "    x.observe(outputEl, {childList: true});\n",
       "}}\n",
       "\n",
       "                        })                };                });            </script>        </div>"
      ]
     },
     "metadata": {},
     "output_type": "display_data"
    }
   ],
   "source": [
    "import plotly.express as px\n",
    "import pandas as pd \n",
    "\n",
    "\n",
    "df= pd.DataFrame({})\n",
    "for conf in [(0,'Normal'),(1,'FGM'),(2,'FGM Noise'),(3,'CW'),(4,'CW Noise')][1:3]:\n",
    "    lossMean=[]\n",
    "    lossStd=[]\n",
    "    for number in range(10):\n",
    "        m,s = rec_loss(conf[0],number)\n",
    "        lossMean.append(m)\n",
    "        lossStd.append(s)\n",
    "    dfConf = pd.DataFrame({'number' : list(range(10)),'mean' : lossMean,'std' : lossStd, 'alter' : 10*[conf[1]] })\n",
    "    df=pd.concat([df,dfConf])\n",
    "    \n",
    "fig = px.scatter(df, x=\"number\", y=\"mean\", color=\"alter\", error_y=\"std\")\n",
    "fig.show()"
   ]
  },
  {
   "cell_type": "code",
   "execution_count": 173,
   "id": "897d528b",
   "metadata": {},
   "outputs": [
    {
     "data": {
      "text/plain": [
       "0.009090663"
      ]
     },
     "execution_count": 173,
     "metadata": {},
     "output_type": "execute_result"
    }
   ],
   "source": [
    "losses = []\n",
    "for idx in range(100):\n",
    "    losses.append(loss_reconst(source[0][idx],source[3][idx]))\n",
    "losses = np.array(losses)\n",
    "losses.max()"
   ]
  },
  {
   "cell_type": "markdown",
   "id": "8026b356",
   "metadata": {},
   "source": [
    "# First divergence time"
   ]
  },
  {
   "cell_type": "code",
   "execution_count": 156,
   "id": "26014824",
   "metadata": {},
   "outputs": [],
   "source": [
    "flips = torch.zeros(source.shape[:2])\n",
    "for alter in range(flips.shape[0]):\n",
    "    for idx in range(flips.shape[1]):\n",
    "        flips[alter,idx]=flip_tick(alter,idx,it=10)"
   ]
  },
  {
   "cell_type": "code",
   "execution_count": 158,
   "id": "1cc84e7d",
   "metadata": {},
   "outputs": [
    {
     "name": "stdout",
     "output_type": "stream",
     "text": [
      "Total number of samples 160\n",
      "Number of no flips inputs\n",
      "0  :  49\n",
      "1  :  59\n",
      "2  :  49\n",
      "3  :  2\n",
      "4  :  49\n",
      "Average flip when there is one\n",
      "0  :  4.549549579620361\n",
      "1  :  3.584158420562744\n",
      "2  :  4.360360145568848\n",
      "3  :  1.1455695629119873\n",
      "4  :  4.477477550506592\n"
     ]
    }
   ],
   "source": [
    "print('Total number of samples',len(flips[0]))\n",
    "print('Number of no flips inputs')\n",
    "for alter in range(5):\n",
    "    print(alter, ' : ', (flips[alter]==-1).sum().item())\n",
    "\n",
    "print('Average flip when there is one')\n",
    "for alter in range(5):\n",
    "    print(alter, ' : ', flips[alter][flips[alter]!=-1].mean().item())"
   ]
  },
  {
   "cell_type": "markdown",
   "id": "79b32ffb",
   "metadata": {},
   "source": [
    "## Visualization of backward network "
   ]
  },
  {
   "cell_type": "code",
   "execution_count": 131,
   "id": "f1f0b491",
   "metadata": {},
   "outputs": [],
   "source": [
    "#Effective low network visualisation\n",
    "\n",
    "import pandas as pd \n",
    "import plotly.express as px\n",
    "import plotly.graph_objects as go\n",
    "import numpy as np \n",
    "\n",
    "\n",
    "def mode_transform(weights,sigmaThreshold=3):\n",
    "    S = []\n",
    "    V = []\n",
    "    U = []\n",
    "    K = []\n",
    "    for layer in weights:\n",
    "        u,s,v= torch.svd(layer)\n",
    "        U.append(u.to('cpu'))\n",
    "        S.append(s.to('cpu'))\n",
    "        V.append(v.to('cpu'))\n",
    "\n",
    "    adjacency = [V[i+1].T@U[i] for i in range(len(arch)-2)]\n",
    "\n",
    "\n",
    "\n",
    "    def y_scale(x):\n",
    "        return x \n",
    "        return (x-0.4)**0.2\n",
    "\n",
    "    df = pd.DataFrame({})\n",
    "    fig = px.scatter(df)\n",
    "\n",
    "\n",
    "    #Edges  \n",
    "    for k in range(len(adjacency)):\n",
    "        E2=torch.abs(adjacency[k])\n",
    "        for i in range(E2.shape[0]):\n",
    "            for j in range(E2.shape[1]):\n",
    "                Emin = sigmaThreshold*1/np.sqrt(arch[k+1]) # 3 sigma away from the random uniform baseline \n",
    "                if E2[i,j]>Emin:\n",
    "                    edge = pd.DataFrame({\"x\" : [k,k+1],\"y\": [y_scale(S[k][j]).item(),y_scale(S[k+1][i]).item()]})\n",
    "                    #figEdge = go.scatter.Line(x=[k,k+1],y=[y_scale(S[k][j]),y_scale(S[k+1][i])],fillcolor='grey')\n",
    "\n",
    "                    #fig.add_trace(figEdge)\n",
    "                    coeff = 1-(E2[i,j]-Emin)/(E2.max()-Emin) # A mieux faire \n",
    "                    color = coeff.item()*np.array([120,120,120])+np.array([105,105,105])\n",
    "                    r,g,b=int(color[0]),int(color[1]),int(color[2])\n",
    "                    color = \"rgb\"+str((r,g,b))\n",
    "                    fig.add_scatter(x=edge[\"x\"],y=edge[\"y\"],marker={\"color\":color,\"opacity\":1},hovertext=str(adjacency[k][i,j])\n",
    "                                   ,hoveron=\"fills\",hoverinfo=\"text\",text=str(adjacency[k][i,j]),showlegend=False ) \n",
    "\n",
    "                    middle_node_trace = go.Scatter(\n",
    "                        x=[np.array(edge[\"x\"]).mean()],\n",
    "                        y=[np.array(edge[\"y\"]).mean()],\n",
    "                        text=[str(adjacency[k][i,j])],\n",
    "                        mode='markers',\n",
    "                        hoverinfo='text',\n",
    "                        showlegend=False,\n",
    "                        marker=go.scatter.Marker(\n",
    "                            opacity=0,\n",
    "                            color='lightgrey'\n",
    "                        )\n",
    "                    )\n",
    "\n",
    "                    fig.add_trace(middle_node_trace)\n",
    "\n",
    "\n",
    "\n",
    "\n",
    "    base=0\n",
    "    for i in range (len(S)):\n",
    "        layer_i = pd.DataFrame({'x' : len(S[i])*[i], 'y': y_scale(S[i])})\n",
    "        df = pd.concat([df,layer_i])\n",
    "        base+=len(S[i])\n",
    "\n",
    "\n",
    "    #fig.add_scatter(x=df[\"x\"], y=df[\"y\"])           \n",
    "    node_trace = go.Scatter(\n",
    "        x=df[\"x\"],\n",
    "        y=df[\"y\"],\n",
    "        mode='markers',\n",
    "        showlegend=False,\n",
    "        marker=go.scatter.Marker(\n",
    "            opacity=1,\n",
    "        ))\n",
    "\n",
    "    fig.add_trace(node_trace)\n",
    "\n",
    "    fig.show()\n",
    "    return U,S,V\n"
   ]
  },
  {
   "cell_type": "code",
   "execution_count": 132,
   "id": "f2347a80",
   "metadata": {},
   "outputs": [
    {
     "data": {
      "application/vnd.plotly.v1+json": {
       "config": {
        "plotlyServerURL": "https://plot.ly"
       },
       "data": [
        {
         "hoverinfo": "text",
         "hoveron": "fills",
         "hovertext": "tensor(-0.6291)",
         "marker": {
          "color": "rgb(136, 136, 136)",
          "opacity": 1
         },
         "showlegend": false,
         "text": "tensor(-0.6291)",
         "type": "scatter",
         "x": [
          0,
          1
         ],
         "y": [
          2.628654956817627,
          3.3988218307495117
         ]
        },
        {
         "hoverinfo": "text",
         "marker": {
          "color": "lightgrey",
          "opacity": 0
         },
         "mode": "markers",
         "showlegend": false,
         "text": [
          "tensor(-0.6291)"
         ],
         "type": "scatter",
         "x": [
          0.5
         ],
         "y": [
          3.0137383937835693
         ]
        },
        {
         "hoverinfo": "text",
         "hoveron": "fills",
         "hovertext": "tensor(-0.5877)",
         "marker": {
          "color": "rgb(147, 147, 147)",
          "opacity": 1
         },
         "showlegend": false,
         "text": "tensor(-0.5877)",
         "type": "scatter",
         "x": [
          0,
          1
         ],
         "y": [
          2.030905246734619,
          3.3988218307495117
         ]
        },
        {
         "hoverinfo": "text",
         "marker": {
          "color": "lightgrey",
          "opacity": 0
         },
         "mode": "markers",
         "showlegend": false,
         "text": [
          "tensor(-0.5877)"
         ],
         "type": "scatter",
         "x": [
          0.5
         ],
         "y": [
          2.7148635387420654
         ]
        },
        {
         "hoverinfo": "text",
         "hoveron": "fills",
         "hovertext": "tensor(-0.4224)",
         "marker": {
          "color": "rgb(191, 191, 191)",
          "opacity": 1
         },
         "showlegend": false,
         "text": "tensor(-0.4224)",
         "type": "scatter",
         "x": [
          0,
          1
         ],
         "y": [
          2.628654956817627,
          3.0638983249664307
         ]
        },
        {
         "hoverinfo": "text",
         "marker": {
          "color": "lightgrey",
          "opacity": 0
         },
         "mode": "markers",
         "showlegend": false,
         "text": [
          "tensor(-0.4224)"
         ],
         "type": "scatter",
         "x": [
          0.5
         ],
         "y": [
          2.846276640892029
         ]
        },
        {
         "hoverinfo": "text",
         "hoveron": "fills",
         "hovertext": "tensor(-0.7448)",
         "marker": {
          "color": "rgb(105, 105, 105)",
          "opacity": 1
         },
         "showlegend": false,
         "text": "tensor(-0.7448)",
         "type": "scatter",
         "x": [
          0,
          1
         ],
         "y": [
          2.284287214279175,
          3.0638983249664307
         ]
        },
        {
         "hoverinfo": "text",
         "marker": {
          "color": "lightgrey",
          "opacity": 0
         },
         "mode": "markers",
         "showlegend": false,
         "text": [
          "tensor(-0.7448)"
         ],
         "type": "scatter",
         "x": [
          0.5
         ],
         "y": [
          2.6740927696228027
         ]
        },
        {
         "hoverinfo": "text",
         "hoveron": "fills",
         "hovertext": "tensor(0.7233)",
         "marker": {
          "color": "rgb(110, 110, 110)",
          "opacity": 1
         },
         "showlegend": false,
         "text": "tensor(0.7233)",
         "type": "scatter",
         "x": [
          0,
          1
         ],
         "y": [
          2.4386801719665527,
          2.925884485244751
         ]
        },
        {
         "hoverinfo": "text",
         "marker": {
          "color": "lightgrey",
          "opacity": 0
         },
         "mode": "markers",
         "showlegend": false,
         "text": [
          "tensor(0.7233)"
         ],
         "type": "scatter",
         "x": [
          0.5
         ],
         "y": [
          2.682282328605652
         ]
        },
        {
         "hoverinfo": "text",
         "hoveron": "fills",
         "hovertext": "tensor(-0.3163)",
         "marker": {
          "color": "rgb(220, 220, 220)",
          "opacity": 1
         },
         "showlegend": false,
         "text": "tensor(-0.3163)",
         "type": "scatter",
         "x": [
          0,
          1
         ],
         "y": [
          2.007646322250366,
          2.925884485244751
         ]
        },
        {
         "hoverinfo": "text",
         "marker": {
          "color": "lightgrey",
          "opacity": 0
         },
         "mode": "markers",
         "showlegend": false,
         "text": [
          "tensor(-0.3163)"
         ],
         "type": "scatter",
         "x": [
          0.5
         ],
         "y": [
          2.4667654037475586
         ]
        },
        {
         "hoverinfo": "text",
         "hoveron": "fills",
         "hovertext": "tensor(0.4929)",
         "marker": {
          "color": "rgb(172, 172, 172)",
          "opacity": 1
         },
         "showlegend": false,
         "text": "tensor(0.4929)",
         "type": "scatter",
         "x": [
          0,
          1
         ],
         "y": [
          2.628654956817627,
          2.5901923179626465
         ]
        },
        {
         "hoverinfo": "text",
         "marker": {
          "color": "lightgrey",
          "opacity": 0
         },
         "mode": "markers",
         "showlegend": false,
         "text": [
          "tensor(0.4929)"
         ],
         "type": "scatter",
         "x": [
          0.5
         ],
         "y": [
          2.6094236373901367
         ]
        },
        {
         "hoverinfo": "text",
         "hoveron": "fills",
         "hovertext": "tensor(-0.5003)",
         "marker": {
          "color": "rgb(170, 170, 170)",
          "opacity": 1
         },
         "showlegend": false,
         "text": "tensor(-0.5003)",
         "type": "scatter",
         "x": [
          0,
          1
         ],
         "y": [
          2.030905246734619,
          2.5901923179626465
         ]
        },
        {
         "hoverinfo": "text",
         "marker": {
          "color": "lightgrey",
          "opacity": 0
         },
         "mode": "markers",
         "showlegend": false,
         "text": [
          "tensor(-0.5003)"
         ],
         "type": "scatter",
         "x": [
          0.5
         ],
         "y": [
          2.310548782348633
         ]
        },
        {
         "hoverinfo": "text",
         "hoveron": "fills",
         "hovertext": "tensor(-0.3114)",
         "marker": {
          "color": "rgb(221, 221, 221)",
          "opacity": 1
         },
         "showlegend": false,
         "text": "tensor(-0.3114)",
         "type": "scatter",
         "x": [
          0,
          1
         ],
         "y": [
          1.7493679523468018,
          2.5901923179626465
         ]
        },
        {
         "hoverinfo": "text",
         "marker": {
          "color": "lightgrey",
          "opacity": 0
         },
         "mode": "markers",
         "showlegend": false,
         "text": [
          "tensor(-0.3114)"
         ],
         "type": "scatter",
         "x": [
          0.5
         ],
         "y": [
          2.169780135154724
         ]
        },
        {
         "hoverinfo": "text",
         "hoveron": "fills",
         "hovertext": "tensor(-0.3534)",
         "marker": {
          "color": "rgb(210, 210, 210)",
          "opacity": 1
         },
         "showlegend": false,
         "text": "tensor(-0.3534)",
         "type": "scatter",
         "x": [
          0,
          1
         ],
         "y": [
          1.4511265754699707,
          2.5901923179626465
         ]
        },
        {
         "hoverinfo": "text",
         "marker": {
          "color": "lightgrey",
          "opacity": 0
         },
         "mode": "markers",
         "showlegend": false,
         "text": [
          "tensor(-0.3534)"
         ],
         "type": "scatter",
         "x": [
          0.5
         ],
         "y": [
          2.0206594467163086
         ]
        },
        {
         "hoverinfo": "text",
         "hoveron": "fills",
         "hovertext": "tensor(-0.5862)",
         "marker": {
          "color": "rgb(147, 147, 147)",
          "opacity": 1
         },
         "showlegend": false,
         "text": "tensor(-0.5862)",
         "type": "scatter",
         "x": [
          0,
          1
         ],
         "y": [
          2.007646322250366,
          2.4514570236206055
         ]
        },
        {
         "hoverinfo": "text",
         "marker": {
          "color": "lightgrey",
          "opacity": 0
         },
         "mode": "markers",
         "showlegend": false,
         "text": [
          "tensor(-0.5862)"
         ],
         "type": "scatter",
         "x": [
          0.5
         ],
         "y": [
          2.229551672935486
         ]
        },
        {
         "hoverinfo": "text",
         "hoveron": "fills",
         "hovertext": "tensor(0.3031)",
         "marker": {
          "color": "rgb(224, 224, 224)",
          "opacity": 1
         },
         "showlegend": false,
         "text": "tensor(0.3031)",
         "type": "scatter",
         "x": [
          0,
          1
         ],
         "y": [
          1.7493679523468018,
          2.2928051948547363
         ]
        },
        {
         "hoverinfo": "text",
         "marker": {
          "color": "lightgrey",
          "opacity": 0
         },
         "mode": "markers",
         "showlegend": false,
         "text": [
          "tensor(0.3031)"
         ],
         "type": "scatter",
         "x": [
          0.5
         ],
         "y": [
          2.021086573600769
         ]
        },
        {
         "hoverinfo": "text",
         "hoveron": "fills",
         "hovertext": "tensor(0.6719)",
         "marker": {
          "color": "rgb(124, 124, 124)",
          "opacity": 1
         },
         "showlegend": false,
         "text": "tensor(0.6719)",
         "type": "scatter",
         "x": [
          0,
          1
         ],
         "y": [
          1.5608956813812256,
          2.2928051948547363
         ]
        },
        {
         "hoverinfo": "text",
         "marker": {
          "color": "lightgrey",
          "opacity": 0
         },
         "mode": "markers",
         "showlegend": false,
         "text": [
          "tensor(0.6719)"
         ],
         "type": "scatter",
         "x": [
          0.5
         ],
         "y": [
          1.926850438117981
         ]
        },
        {
         "hoverinfo": "text",
         "hoveron": "fills",
         "hovertext": "tensor(-0.3771)",
         "marker": {
          "color": "rgb(204, 204, 204)",
          "opacity": 1
         },
         "showlegend": false,
         "text": "tensor(-0.3771)",
         "type": "scatter",
         "x": [
          0,
          1
         ],
         "y": [
          1.4511265754699707,
          2.2928051948547363
         ]
        },
        {
         "hoverinfo": "text",
         "marker": {
          "color": "lightgrey",
          "opacity": 0
         },
         "mode": "markers",
         "showlegend": false,
         "text": [
          "tensor(-0.3771)"
         ],
         "type": "scatter",
         "x": [
          0.5
         ],
         "y": [
          1.8719658851623535
         ]
        },
        {
         "hoverinfo": "text",
         "hoveron": "fills",
         "hovertext": "tensor(0.4946)",
         "marker": {
          "color": "rgb(172, 172, 172)",
          "opacity": 1
         },
         "showlegend": false,
         "text": "tensor(0.4946)",
         "type": "scatter",
         "x": [
          0,
          1
         ],
         "y": [
          2.007646322250366,
          2.1535778045654297
         ]
        },
        {
         "hoverinfo": "text",
         "marker": {
          "color": "lightgrey",
          "opacity": 0
         },
         "mode": "markers",
         "showlegend": false,
         "text": [
          "tensor(0.4946)"
         ],
         "type": "scatter",
         "x": [
          0.5
         ],
         "y": [
          2.080612063407898
         ]
        },
        {
         "hoverinfo": "text",
         "hoveron": "fills",
         "hovertext": "tensor(-0.3304)",
         "marker": {
          "color": "rgb(216, 216, 216)",
          "opacity": 1
         },
         "showlegend": false,
         "text": "tensor(-0.3304)",
         "type": "scatter",
         "x": [
          0,
          1
         ],
         "y": [
          1.7493679523468018,
          2.1535778045654297
         ]
        },
        {
         "hoverinfo": "text",
         "marker": {
          "color": "lightgrey",
          "opacity": 0
         },
         "mode": "markers",
         "showlegend": false,
         "text": [
          "tensor(-0.3304)"
         ],
         "type": "scatter",
         "x": [
          0.5
         ],
         "y": [
          1.9514728784561157
         ]
        },
        {
         "hoverinfo": "text",
         "hoveron": "fills",
         "hovertext": "tensor(-0.4684)",
         "marker": {
          "color": "rgb(179, 179, 179)",
          "opacity": 1
         },
         "showlegend": false,
         "text": "tensor(-0.4684)",
         "type": "scatter",
         "x": [
          0,
          1
         ],
         "y": [
          1.5608956813812256,
          1.9853415489196777
         ]
        },
        {
         "hoverinfo": "text",
         "marker": {
          "color": "lightgrey",
          "opacity": 0
         },
         "mode": "markers",
         "showlegend": false,
         "text": [
          "tensor(-0.4684)"
         ],
         "type": "scatter",
         "x": [
          0.5
         ],
         "y": [
          1.7731186151504517
         ]
        },
        {
         "hoverinfo": "text",
         "hoveron": "fills",
         "hovertext": "tensor(-0.5577)",
         "marker": {
          "color": "rgb(155, 155, 155)",
          "opacity": 1
         },
         "showlegend": false,
         "text": "tensor(-0.5577)",
         "type": "scatter",
         "x": [
          0,
          1
         ],
         "y": [
          1.4511265754699707,
          1.9853415489196777
         ]
        },
        {
         "hoverinfo": "text",
         "marker": {
          "color": "lightgrey",
          "opacity": 0
         },
         "mode": "markers",
         "showlegend": false,
         "text": [
          "tensor(-0.5577)"
         ],
         "type": "scatter",
         "x": [
          0.5
         ],
         "y": [
          1.7182340621948242
         ]
        },
        {
         "hoverinfo": "text",
         "hoveron": "fills",
         "hovertext": "tensor(0.3705)",
         "marker": {
          "color": "rgb(205, 205, 205)",
          "opacity": 1
         },
         "showlegend": false,
         "text": "tensor(0.3705)",
         "type": "scatter",
         "x": [
          0,
          1
         ],
         "y": [
          1.7493679523468018,
          1.859775185585022
         ]
        },
        {
         "hoverinfo": "text",
         "marker": {
          "color": "lightgrey",
          "opacity": 0
         },
         "mode": "markers",
         "showlegend": false,
         "text": [
          "tensor(0.3705)"
         ],
         "type": "scatter",
         "x": [
          0.5
         ],
         "y": [
          1.8045715689659119
         ]
        },
        {
         "hoverinfo": "text",
         "hoveron": "fills",
         "hovertext": "tensor(0.6218)",
         "marker": {
          "color": "rgb(138, 138, 138)",
          "opacity": 1
         },
         "showlegend": false,
         "text": "tensor(0.6218)",
         "type": "scatter",
         "x": [
          0,
          1
         ],
         "y": [
          1.6202462911605835,
          1.859775185585022
         ]
        },
        {
         "hoverinfo": "text",
         "marker": {
          "color": "lightgrey",
          "opacity": 0
         },
         "mode": "markers",
         "showlegend": false,
         "text": [
          "tensor(0.6218)"
         ],
         "type": "scatter",
         "x": [
          0.5
         ],
         "y": [
          1.7400107383728027
         ]
        },
        {
         "hoverinfo": "text",
         "hoveron": "fills",
         "hovertext": "tensor(0.3047)",
         "marker": {
          "color": "rgb(223, 223, 223)",
          "opacity": 1
         },
         "showlegend": false,
         "text": "tensor(0.3047)",
         "type": "scatter",
         "x": [
          0,
          1
         ],
         "y": [
          1.7493679523468018,
          1.4323781728744507
         ]
        },
        {
         "hoverinfo": "text",
         "marker": {
          "color": "lightgrey",
          "opacity": 0
         },
         "mode": "markers",
         "showlegend": false,
         "text": [
          "tensor(0.3047)"
         ],
         "type": "scatter",
         "x": [
          0.5
         ],
         "y": [
          1.5908730626106262
         ]
        },
        {
         "hoverinfo": "text",
         "hoveron": "fills",
         "hovertext": "tensor(0.3784)",
         "marker": {
          "color": "rgb(203, 203, 203)",
          "opacity": 1
         },
         "showlegend": false,
         "text": "tensor(0.3784)",
         "type": "scatter",
         "x": [
          0,
          1
         ],
         "y": [
          1.1509099006652832,
          1.2539026737213135
         ]
        },
        {
         "hoverinfo": "text",
         "marker": {
          "color": "lightgrey",
          "opacity": 0
         },
         "mode": "markers",
         "showlegend": false,
         "text": [
          "tensor(0.3784)"
         ],
         "type": "scatter",
         "x": [
          0.5
         ],
         "y": [
          1.2024062871932983
         ]
        },
        {
         "hoverinfo": "text",
         "hoveron": "fills",
         "hovertext": "tensor(-0.3419)",
         "marker": {
          "color": "rgb(213, 213, 213)",
          "opacity": 1
         },
         "showlegend": false,
         "text": "tensor(-0.3419)",
         "type": "scatter",
         "x": [
          0,
          1
         ],
         "y": [
          1.1509099006652832,
          0.750662624835968
         ]
        },
        {
         "hoverinfo": "text",
         "marker": {
          "color": "lightgrey",
          "opacity": 0
         },
         "mode": "markers",
         "showlegend": false,
         "text": [
          "tensor(-0.3419)"
         ],
         "type": "scatter",
         "x": [
          0.5
         ],
         "y": [
          0.9507862627506256
         ]
        },
        {
         "hoverinfo": "text",
         "hoveron": "fills",
         "hovertext": "tensor(-0.9080)",
         "marker": {
          "color": "rgb(124, 124, 124)",
          "opacity": 1
         },
         "showlegend": false,
         "text": "tensor(-0.9080)",
         "type": "scatter",
         "x": [
          1,
          2
         ],
         "y": [
          3.3988218307495117,
          3.819406270980835
         ]
        },
        {
         "hoverinfo": "text",
         "marker": {
          "color": "lightgrey",
          "opacity": 0
         },
         "mode": "markers",
         "showlegend": false,
         "text": [
          "tensor(-0.9080)"
         ],
         "type": "scatter",
         "x": [
          1.5
         ],
         "y": [
          3.6091140508651733
         ]
        },
        {
         "hoverinfo": "text",
         "hoveron": "fills",
         "hovertext": "tensor(0.7477)",
         "marker": {
          "color": "rgb(157, 157, 157)",
          "opacity": 1
         },
         "showlegend": false,
         "text": "tensor(0.7477)",
         "type": "scatter",
         "x": [
          1,
          2
         ],
         "y": [
          2.925884485244751,
          3.2139148712158203
         ]
        },
        {
         "hoverinfo": "text",
         "marker": {
          "color": "lightgrey",
          "opacity": 0
         },
         "mode": "markers",
         "showlegend": false,
         "text": [
          "tensor(0.7477)"
         ],
         "type": "scatter",
         "x": [
          1.5
         ],
         "y": [
          3.0698996782302856
         ]
        },
        {
         "hoverinfo": "text",
         "hoveron": "fills",
         "hovertext": "tensor(0.6411)",
         "marker": {
          "color": "rgb(179, 179, 179)",
          "opacity": 1
         },
         "showlegend": false,
         "text": "tensor(0.6411)",
         "type": "scatter",
         "x": [
          1,
          2
         ],
         "y": [
          3.0638983249664307,
          3.029764413833618
         ]
        },
        {
         "hoverinfo": "text",
         "marker": {
          "color": "lightgrey",
          "opacity": 0
         },
         "mode": "markers",
         "showlegend": false,
         "text": [
          "tensor(0.6411)"
         ],
         "type": "scatter",
         "x": [
          1.5
         ],
         "y": [
          3.0468313694000244
         ]
        },
        {
         "hoverinfo": "text",
         "hoveron": "fills",
         "hovertext": "tensor(-0.4609)",
         "marker": {
          "color": "rgb(217, 217, 217)",
          "opacity": 1
         },
         "showlegend": false,
         "text": "tensor(-0.4609)",
         "type": "scatter",
         "x": [
          1,
          2
         ],
         "y": [
          2.4514570236206055,
          3.029764413833618
         ]
        },
        {
         "hoverinfo": "text",
         "marker": {
          "color": "lightgrey",
          "opacity": 0
         },
         "mode": "markers",
         "showlegend": false,
         "text": [
          "tensor(-0.4609)"
         ],
         "type": "scatter",
         "x": [
          1.5
         ],
         "y": [
          2.740610718727112
         ]
        },
        {
         "hoverinfo": "text",
         "hoveron": "fills",
         "hovertext": "tensor(-0.4563)",
         "marker": {
          "color": "rgb(218, 218, 218)",
          "opacity": 1
         },
         "showlegend": false,
         "text": "tensor(-0.4563)",
         "type": "scatter",
         "x": [
          1,
          2
         ],
         "y": [
          3.0638983249664307,
          2.8851993083953857
         ]
        },
        {
         "hoverinfo": "text",
         "marker": {
          "color": "lightgrey",
          "opacity": 0
         },
         "mode": "markers",
         "showlegend": false,
         "text": [
          "tensor(-0.4563)"
         ],
         "type": "scatter",
         "x": [
          1.5
         ],
         "y": [
          2.974548816680908
         ]
        },
        {
         "hoverinfo": "text",
         "hoveron": "fills",
         "hovertext": "tensor(-0.6293)",
         "marker": {
          "color": "rgb(182, 182, 182)",
          "opacity": 1
         },
         "showlegend": false,
         "text": "tensor(-0.6293)",
         "type": "scatter",
         "x": [
          1,
          2
         ],
         "y": [
          2.4514570236206055,
          2.8851993083953857
         ]
        },
        {
         "hoverinfo": "text",
         "marker": {
          "color": "lightgrey",
          "opacity": 0
         },
         "mode": "markers",
         "showlegend": false,
         "text": [
          "tensor(-0.6293)"
         ],
         "type": "scatter",
         "x": [
          1.5
         ],
         "y": [
          2.6683281660079956
         ]
        },
        {
         "hoverinfo": "text",
         "hoveron": "fills",
         "hovertext": "tensor(0.6936)",
         "marker": {
          "color": "rgb(168, 168, 168)",
          "opacity": 1
         },
         "showlegend": false,
         "text": "tensor(0.6936)",
         "type": "scatter",
         "x": [
          1,
          2
         ],
         "y": [
          2.5901923179626465,
          2.7625510692596436
         ]
        },
        {
         "hoverinfo": "text",
         "marker": {
          "color": "lightgrey",
          "opacity": 0
         },
         "mode": "markers",
         "showlegend": false,
         "text": [
          "tensor(0.6936)"
         ],
         "type": "scatter",
         "x": [
          1.5
         ],
         "y": [
          2.676371693611145
         ]
        },
        {
         "hoverinfo": "text",
         "hoveron": "fills",
         "hovertext": "tensor(0.7138)",
         "marker": {
          "color": "rgb(164, 164, 164)",
          "opacity": 1
         },
         "showlegend": false,
         "text": "tensor(0.7138)",
         "type": "scatter",
         "x": [
          1,
          2
         ],
         "y": [
          2.1535778045654297,
          2.6375253200531006
         ]
        },
        {
         "hoverinfo": "text",
         "marker": {
          "color": "lightgrey",
          "opacity": 0
         },
         "mode": "markers",
         "showlegend": false,
         "text": [
          "tensor(0.7138)"
         ],
         "type": "scatter",
         "x": [
          1.5
         ],
         "y": [
          2.395551562309265
         ]
        },
        {
         "hoverinfo": "text",
         "hoveron": "fills",
         "hovertext": "tensor(0.7111)",
         "marker": {
          "color": "rgb(165, 165, 165)",
          "opacity": 1
         },
         "showlegend": false,
         "text": "tensor(0.7111)",
         "type": "scatter",
         "x": [
          1,
          2
         ],
         "y": [
          2.2928051948547363,
          2.4754953384399414
         ]
        },
        {
         "hoverinfo": "text",
         "marker": {
          "color": "lightgrey",
          "opacity": 0
         },
         "mode": "markers",
         "showlegend": false,
         "text": [
          "tensor(0.7111)"
         ],
         "type": "scatter",
         "x": [
          1.5
         ],
         "y": [
          2.384150266647339
         ]
        },
        {
         "hoverinfo": "text",
         "hoveron": "fills",
         "hovertext": "tensor(0.6337)",
         "marker": {
          "color": "rgb(181, 181, 181)",
          "opacity": 1
         },
         "showlegend": false,
         "text": "tensor(0.6337)",
         "type": "scatter",
         "x": [
          1,
          2
         ],
         "y": [
          1.9853415489196777,
          2.415910243988037
         ]
        },
        {
         "hoverinfo": "text",
         "marker": {
          "color": "lightgrey",
          "opacity": 0
         },
         "mode": "markers",
         "showlegend": false,
         "text": [
          "tensor(0.6337)"
         ],
         "type": "scatter",
         "x": [
          1.5
         ],
         "y": [
          2.2006258964538574
         ]
        },
        {
         "hoverinfo": "text",
         "hoveron": "fills",
         "hovertext": "tensor(0.6030)",
         "marker": {
          "color": "rgb(187, 187, 187)",
          "opacity": 1
         },
         "showlegend": false,
         "text": "tensor(0.6030)",
         "type": "scatter",
         "x": [
          1,
          2
         ],
         "y": [
          1.859775185585022,
          2.1083855628967285
         ]
        },
        {
         "hoverinfo": "text",
         "marker": {
          "color": "lightgrey",
          "opacity": 0
         },
         "mode": "markers",
         "showlegend": false,
         "text": [
          "tensor(0.6030)"
         ],
         "type": "scatter",
         "x": [
          1.5
         ],
         "y": [
          1.9840803742408752
         ]
        },
        {
         "hoverinfo": "text",
         "hoveron": "fills",
         "hovertext": "tensor(0.4426)",
         "marker": {
          "color": "rgb(221, 221, 221)",
          "opacity": 1
         },
         "showlegend": false,
         "text": "tensor(0.4426)",
         "type": "scatter",
         "x": [
          1,
          2
         ],
         "y": [
          1.3606553077697754,
          1.891752004623413
         ]
        },
        {
         "hoverinfo": "text",
         "marker": {
          "color": "lightgrey",
          "opacity": 0
         },
         "mode": "markers",
         "showlegend": false,
         "text": [
          "tensor(0.4426)"
         ],
         "type": "scatter",
         "x": [
          1.5
         ],
         "y": [
          1.6262036561965942
         ]
        },
        {
         "hoverinfo": "text",
         "hoveron": "fills",
         "hovertext": "tensor(-0.4398)",
         "marker": {
          "color": "rgb(221, 221, 221)",
          "opacity": 1
         },
         "showlegend": false,
         "text": "tensor(-0.4398)",
         "type": "scatter",
         "x": [
          1,
          2
         ],
         "y": [
          1.2539026737213135,
          1.8769545555114746
         ]
        },
        {
         "hoverinfo": "text",
         "marker": {
          "color": "lightgrey",
          "opacity": 0
         },
         "mode": "markers",
         "showlegend": false,
         "text": [
          "tensor(-0.4398)"
         ],
         "type": "scatter",
         "x": [
          1.5
         ],
         "y": [
          1.565428614616394
         ]
        },
        {
         "hoverinfo": "text",
         "hoveron": "fills",
         "hovertext": "tensor(-0.4717)",
         "marker": {
          "color": "rgb(215, 215, 215)",
          "opacity": 1
         },
         "showlegend": false,
         "text": "tensor(-0.4717)",
         "type": "scatter",
         "x": [
          1,
          2
         ],
         "y": [
          1.1728538274765015,
          1.8769545555114746
         ]
        },
        {
         "hoverinfo": "text",
         "marker": {
          "color": "lightgrey",
          "opacity": 0
         },
         "mode": "markers",
         "showlegend": false,
         "text": [
          "tensor(-0.4717)"
         ],
         "type": "scatter",
         "x": [
          1.5
         ],
         "y": [
          1.524904191493988
         ]
        },
        {
         "hoverinfo": "text",
         "hoveron": "fills",
         "hovertext": "tensor(0.5499)",
         "marker": {
          "color": "rgb(198, 198, 198)",
          "opacity": 1
         },
         "showlegend": false,
         "text": "tensor(0.5499)",
         "type": "scatter",
         "x": [
          1,
          2
         ],
         "y": [
          1.4323781728744507,
          1.7423430681228638
         ]
        },
        {
         "hoverinfo": "text",
         "marker": {
          "color": "lightgrey",
          "opacity": 0
         },
         "mode": "markers",
         "showlegend": false,
         "text": [
          "tensor(0.5499)"
         ],
         "type": "scatter",
         "x": [
          1.5
         ],
         "y": [
          1.5873606204986572
         ]
        },
        {
         "hoverinfo": "text",
         "hoveron": "fills",
         "hovertext": "tensor(-0.4783)",
         "marker": {
          "color": "rgb(213, 213, 213)",
          "opacity": 1
         },
         "showlegend": false,
         "text": "tensor(-0.4783)",
         "type": "scatter",
         "x": [
          1,
          2
         ],
         "y": [
          1.2539026737213135,
          1.642037272453308
         ]
        },
        {
         "hoverinfo": "text",
         "marker": {
          "color": "lightgrey",
          "opacity": 0
         },
         "mode": "markers",
         "showlegend": false,
         "text": [
          "tensor(-0.4783)"
         ],
         "type": "scatter",
         "x": [
          1.5
         ],
         "y": [
          1.4479699730873108
         ]
        },
        {
         "hoverinfo": "text",
         "hoveron": "fills",
         "hovertext": "tensor(0.4599)",
         "marker": {
          "color": "rgb(217, 217, 217)",
          "opacity": 1
         },
         "showlegend": false,
         "text": "tensor(0.4599)",
         "type": "scatter",
         "x": [
          1,
          2
         ],
         "y": [
          1.1728538274765015,
          1.642037272453308
         ]
        },
        {
         "hoverinfo": "text",
         "marker": {
          "color": "lightgrey",
          "opacity": 0
         },
         "mode": "markers",
         "showlegend": false,
         "text": [
          "tensor(0.4599)"
         ],
         "type": "scatter",
         "x": [
          1.5
         ],
         "y": [
          1.4074455499649048
         ]
        },
        {
         "hoverinfo": "text",
         "hoveron": "fills",
         "hovertext": "tensor(0.4628)",
         "marker": {
          "color": "rgb(216, 216, 216)",
          "opacity": 1
         },
         "showlegend": false,
         "text": "tensor(0.4628)",
         "type": "scatter",
         "x": [
          1,
          2
         ],
         "y": [
          0.9606159925460815,
          1.2292578220367432
         ]
        },
        {
         "hoverinfo": "text",
         "marker": {
          "color": "lightgrey",
          "opacity": 0
         },
         "mode": "markers",
         "showlegend": false,
         "text": [
          "tensor(0.4628)"
         ],
         "type": "scatter",
         "x": [
          1.5
         ],
         "y": [
          1.0949369072914124
         ]
        },
        {
         "hoverinfo": "text",
         "hoveron": "fills",
         "hovertext": "tensor(0.4256)",
         "marker": {
          "color": "rgb(224, 224, 224)",
          "opacity": 1
         },
         "showlegend": false,
         "text": "tensor(0.4256)",
         "type": "scatter",
         "x": [
          1,
          2
         ],
         "y": [
          0.08581209927797318,
          0.9304878115653992
         ]
        },
        {
         "hoverinfo": "text",
         "marker": {
          "color": "lightgrey",
          "opacity": 0
         },
         "mode": "markers",
         "showlegend": false,
         "text": [
          "tensor(0.4256)"
         ],
         "type": "scatter",
         "x": [
          1.5
         ],
         "y": [
          0.5081499554216862
         ]
        },
        {
         "hoverinfo": "text",
         "hoveron": "fills",
         "hovertext": "tensor(0.4969)",
         "marker": {
          "color": "rgb(209, 209, 209)",
          "opacity": 1
         },
         "showlegend": false,
         "text": "tensor(0.4969)",
         "type": "scatter",
         "x": [
          1,
          2
         ],
         "y": [
          0.4937719702720642,
          0.9136507511138916
         ]
        },
        {
         "hoverinfo": "text",
         "marker": {
          "color": "lightgrey",
          "opacity": 0
         },
         "mode": "markers",
         "showlegend": false,
         "text": [
          "tensor(0.4969)"
         ],
         "type": "scatter",
         "x": [
          1.5
         ],
         "y": [
          0.7037113606929779
         ]
        },
        {
         "hoverinfo": "text",
         "hoveron": "fills",
         "hovertext": "tensor(0.4961)",
         "marker": {
          "color": "rgb(210, 210, 210)",
          "opacity": 1
         },
         "showlegend": false,
         "text": "tensor(0.4961)",
         "type": "scatter",
         "x": [
          1,
          2
         ],
         "y": [
          0.5001757740974426,
          0.8313707709312439
         ]
        },
        {
         "hoverinfo": "text",
         "marker": {
          "color": "lightgrey",
          "opacity": 0
         },
         "mode": "markers",
         "showlegend": false,
         "text": [
          "tensor(0.4961)"
         ],
         "type": "scatter",
         "x": [
          1.5
         ],
         "y": [
          0.6657732725143433
         ]
        },
        {
         "hoverinfo": "text",
         "hoveron": "fills",
         "hovertext": "tensor(-0.4449)",
         "marker": {
          "color": "rgb(220, 220, 220)",
          "opacity": 1
         },
         "showlegend": false,
         "text": "tensor(-0.4449)",
         "type": "scatter",
         "x": [
          1,
          2
         ],
         "y": [
          0.8402409553527832,
          0.7820936441421509
         ]
        },
        {
         "hoverinfo": "text",
         "marker": {
          "color": "lightgrey",
          "opacity": 0
         },
         "mode": "markers",
         "showlegend": false,
         "text": [
          "tensor(-0.4449)"
         ],
         "type": "scatter",
         "x": [
          1.5
         ],
         "y": [
          0.811167299747467
         ]
        },
        {
         "hoverinfo": "text",
         "hoveron": "fills",
         "hovertext": "tensor(-0.4574)",
         "marker": {
          "color": "rgb(218, 218, 218)",
          "opacity": 1
         },
         "showlegend": false,
         "text": "tensor(-0.4574)",
         "type": "scatter",
         "x": [
          1,
          2
         ],
         "y": [
          0.4205154478549957,
          0.7820936441421509
         ]
        },
        {
         "hoverinfo": "text",
         "marker": {
          "color": "lightgrey",
          "opacity": 0
         },
         "mode": "markers",
         "showlegend": false,
         "text": [
          "tensor(-0.4574)"
         ],
         "type": "scatter",
         "x": [
          1.5
         ],
         "y": [
          0.6013045459985733
         ]
        },
        {
         "hoverinfo": "text",
         "hoveron": "fills",
         "hovertext": "tensor(0.4654)",
         "marker": {
          "color": "rgb(216, 216, 216)",
          "opacity": 1
         },
         "showlegend": false,
         "text": "tensor(0.4654)",
         "type": "scatter",
         "x": [
          1,
          2
         ],
         "y": [
          0.23182013630867004,
          0.7079187035560608
         ]
        },
        {
         "hoverinfo": "text",
         "marker": {
          "color": "lightgrey",
          "opacity": 0
         },
         "mode": "markers",
         "showlegend": false,
         "text": [
          "tensor(0.4654)"
         ],
         "type": "scatter",
         "x": [
          1.5
         ],
         "y": [
          0.4698694199323654
         ]
        },
        {
         "hoverinfo": "text",
         "hoveron": "fills",
         "hovertext": "tensor(0.4377)",
         "marker": {
          "color": "rgb(222, 222, 222)",
          "opacity": 1
         },
         "showlegend": false,
         "text": "tensor(0.4377)",
         "type": "scatter",
         "x": [
          1,
          2
         ],
         "y": [
          0.02058689296245575,
          0.7079187035560608
         ]
        },
        {
         "hoverinfo": "text",
         "marker": {
          "color": "lightgrey",
          "opacity": 0
         },
         "mode": "markers",
         "showlegend": false,
         "text": [
          "tensor(0.4377)"
         ],
         "type": "scatter",
         "x": [
          1.5
         ],
         "y": [
          0.36425279825925827
         ]
        },
        {
         "hoverinfo": "text",
         "hoveron": "fills",
         "hovertext": "tensor(0.4349)",
         "marker": {
          "color": "rgb(222, 222, 222)",
          "opacity": 1
         },
         "showlegend": false,
         "text": "tensor(0.4349)",
         "type": "scatter",
         "x": [
          1,
          2
         ],
         "y": [
          0.35175904631614685,
          0.4370163381099701
         ]
        },
        {
         "hoverinfo": "text",
         "marker": {
          "color": "lightgrey",
          "opacity": 0
         },
         "mode": "markers",
         "showlegend": false,
         "text": [
          "tensor(0.4349)"
         ],
         "type": "scatter",
         "x": [
          1.5
         ],
         "y": [
          0.39438769221305847
         ]
        },
        {
         "hoverinfo": "text",
         "hoveron": "fills",
         "hovertext": "tensor(-0.4724)",
         "marker": {
          "color": "rgb(214, 214, 214)",
          "opacity": 1
         },
         "showlegend": false,
         "text": "tensor(-0.4724)",
         "type": "scatter",
         "x": [
          1,
          2
         ],
         "y": [
          0.2971107065677643,
          0.33818790316581726
         ]
        },
        {
         "hoverinfo": "text",
         "marker": {
          "color": "lightgrey",
          "opacity": 0
         },
         "mode": "markers",
         "showlegend": false,
         "text": [
          "tensor(-0.4724)"
         ],
         "type": "scatter",
         "x": [
          1.5
         ],
         "y": [
          0.31764930486679077
         ]
        },
        {
         "hoverinfo": "text",
         "hoveron": "fills",
         "hovertext": "tensor(0.4274)",
         "marker": {
          "color": "rgb(224, 224, 224)",
          "opacity": 1
         },
         "showlegend": false,
         "text": "tensor(0.4274)",
         "type": "scatter",
         "x": [
          1,
          2
         ],
         "y": [
          0.16902364790439606,
          0.28964293003082275
         ]
        },
        {
         "hoverinfo": "text",
         "marker": {
          "color": "lightgrey",
          "opacity": 0
         },
         "mode": "markers",
         "showlegend": false,
         "text": [
          "tensor(0.4274)"
         ],
         "type": "scatter",
         "x": [
          1.5
         ],
         "y": [
          0.2293332889676094
         ]
        },
        {
         "hoverinfo": "text",
         "hoveron": "fills",
         "hovertext": "tensor(0.9999)",
         "marker": {
          "color": "rgb(105, 105, 105)",
          "opacity": 1
         },
         "showlegend": false,
         "text": "tensor(0.9999)",
         "type": "scatter",
         "x": [
          1,
          2
         ],
         "y": [
          0.0004187003942206502,
          6.126917287474498e-05
         ]
        },
        {
         "hoverinfo": "text",
         "marker": {
          "color": "lightgrey",
          "opacity": 0
         },
         "mode": "markers",
         "showlegend": false,
         "text": [
          "tensor(0.9999)"
         ],
         "type": "scatter",
         "x": [
          1.5
         ],
         "y": [
          0.0002399847835476976
         ]
        },
        {
         "hoverinfo": "text",
         "hoveron": "fills",
         "hovertext": "tensor(0.9997)",
         "marker": {
          "color": "rgb(105, 105, 105)",
          "opacity": 1
         },
         "showlegend": false,
         "text": "tensor(0.9997)",
         "type": "scatter",
         "x": [
          1,
          2
         ],
         "y": [
          8.848335397715346e-09,
          1.8143838431683434e-08
         ]
        },
        {
         "hoverinfo": "text",
         "marker": {
          "color": "lightgrey",
          "opacity": 0
         },
         "mode": "markers",
         "showlegend": false,
         "text": [
          "tensor(0.9997)"
         ],
         "type": "scatter",
         "x": [
          1.5
         ],
         "y": [
          1.349608691469939e-08
         ]
        },
        {
         "hoverinfo": "text",
         "hoveron": "fills",
         "hovertext": "tensor(-0.9997)",
         "marker": {
          "color": "rgb(105, 105, 105)",
          "opacity": 1
         },
         "showlegend": false,
         "text": "tensor(-0.9997)",
         "type": "scatter",
         "x": [
          1,
          2
         ],
         "y": [
          2.6651940654431883e-09,
          6.789466802327427e-20
         ]
        },
        {
         "hoverinfo": "text",
         "marker": {
          "color": "lightgrey",
          "opacity": 0
         },
         "mode": "markers",
         "showlegend": false,
         "text": [
          "tensor(-0.9997)"
         ],
         "type": "scatter",
         "x": [
          1.5
         ],
         "y": [
          1.3325970327555414e-09
         ]
        },
        {
         "hoverinfo": "text",
         "hoveron": "fills",
         "hovertext": "tensor(0.4539)",
         "marker": {
          "color": "rgb(211, 211, 211)",
          "opacity": 1
         },
         "showlegend": false,
         "text": "tensor(0.4539)",
         "type": "scatter",
         "x": [
          2,
          3
         ],
         "y": [
          1.642037272453308,
          6.481027126312256
         ]
        },
        {
         "hoverinfo": "text",
         "marker": {
          "color": "lightgrey",
          "opacity": 0
         },
         "mode": "markers",
         "showlegend": false,
         "text": [
          "tensor(0.4539)"
         ],
         "type": "scatter",
         "x": [
          2.5
         ],
         "y": [
          4.061532199382782
         ]
        },
        {
         "hoverinfo": "text",
         "hoveron": "fills",
         "hovertext": "tensor(0.5352)",
         "marker": {
          "color": "rgb(172, 172, 172)",
          "opacity": 1
         },
         "showlegend": false,
         "text": "tensor(0.5352)",
         "type": "scatter",
         "x": [
          2,
          3
         ],
         "y": [
          3.819406270980835,
          4.1577067375183105
         ]
        },
        {
         "hoverinfo": "text",
         "marker": {
          "color": "lightgrey",
          "opacity": 0
         },
         "mode": "markers",
         "showlegend": false,
         "text": [
          "tensor(0.5352)"
         ],
         "type": "scatter",
         "x": [
          2.5
         ],
         "y": [
          3.9885565042495728
         ]
        },
        {
         "hoverinfo": "text",
         "hoveron": "fills",
         "hovertext": "tensor(-0.6789)",
         "marker": {
          "color": "rgb(105, 105, 105)",
          "opacity": 1
         },
         "showlegend": false,
         "text": "tensor(-0.6789)",
         "type": "scatter",
         "x": [
          2,
          3
         ],
         "y": [
          2.6375253200531006,
          3.4159040451049805
         ]
        },
        {
         "hoverinfo": "text",
         "marker": {
          "color": "lightgrey",
          "opacity": 0
         },
         "mode": "markers",
         "showlegend": false,
         "text": [
          "tensor(-0.6789)"
         ],
         "type": "scatter",
         "x": [
          2.5
         ],
         "y": [
          3.0267146825790405
         ]
        },
        {
         "hoverinfo": "text",
         "hoveron": "fills",
         "hovertext": "tensor(0.4684)",
         "marker": {
          "color": "rgb(204, 204, 204)",
          "opacity": 1
         },
         "showlegend": false,
         "text": "tensor(0.4684)",
         "type": "scatter",
         "x": [
          2,
          3
         ],
         "y": [
          2.8851993083953857,
          3.14890456199646
         ]
        },
        {
         "hoverinfo": "text",
         "marker": {
          "color": "lightgrey",
          "opacity": 0
         },
         "mode": "markers",
         "showlegend": false,
         "text": [
          "tensor(0.4684)"
         ],
         "type": "scatter",
         "x": [
          2.5
         ],
         "y": [
          3.017051935195923
         ]
        },
        {
         "marker": {
          "opacity": 1
         },
         "mode": "markers",
         "showlegend": false,
         "type": "scatter",
         "x": [
          0,
          0,
          0,
          0,
          0,
          0,
          0,
          0,
          0,
          0,
          1,
          1,
          1,
          1,
          1,
          1,
          1,
          1,
          1,
          1,
          1,
          1,
          1,
          1,
          1,
          1,
          1,
          1,
          1,
          1,
          1,
          1,
          1,
          1,
          1,
          1,
          1,
          1,
          1,
          1,
          1,
          1,
          1,
          1,
          1,
          1,
          1,
          1,
          1,
          1,
          1,
          1,
          1,
          1,
          1,
          1,
          1,
          1,
          1,
          1,
          2,
          2,
          2,
          2,
          2,
          2,
          2,
          2,
          2,
          2,
          2,
          2,
          2,
          2,
          2,
          2,
          2,
          2,
          2,
          2,
          2,
          2,
          2,
          2,
          2,
          2,
          2,
          2,
          2,
          2,
          2,
          2,
          2,
          2,
          2,
          2,
          2,
          2,
          2,
          2,
          2,
          2,
          2,
          2,
          2,
          2,
          2,
          2,
          2,
          2,
          3,
          3,
          3,
          3,
          3,
          3,
          3,
          3,
          3,
          3,
          3,
          3,
          3,
          3,
          3,
          3,
          3,
          3,
          3,
          3,
          3,
          3,
          3,
          3,
          3,
          3,
          3,
          3,
          3,
          3,
          3,
          3,
          3,
          3,
          3,
          3,
          3,
          3,
          3,
          3,
          3,
          3,
          3,
          3,
          3,
          3,
          3,
          3,
          3,
          3,
          3,
          3,
          3,
          3,
          3,
          3,
          3,
          3,
          3,
          3,
          3,
          3,
          3,
          3,
          3,
          3,
          3,
          3,
          3,
          3,
          3,
          3,
          3,
          3,
          3,
          3,
          3,
          3,
          3,
          3,
          3,
          3,
          3,
          3,
          3,
          3,
          3,
          3,
          3,
          3,
          3,
          3,
          3,
          3,
          3,
          3,
          3,
          3,
          3,
          3
         ],
         "y": [
          2.628654956817627,
          2.4386801719665527,
          2.284287214279175,
          2.030905246734619,
          2.007646322250366,
          1.7493679523468018,
          1.6202462911605835,
          1.5608956813812256,
          1.4511265754699707,
          1.1509099006652832,
          3.3988218307495117,
          3.0638983249664307,
          2.925884485244751,
          2.5901923179626465,
          2.4514570236206055,
          2.2928051948547363,
          2.1535778045654297,
          1.9853415489196777,
          1.859775185585022,
          1.4323781728744507,
          1.3606553077697754,
          1.2539026737213135,
          1.1728538274765015,
          1.064375877380371,
          1.0184059143066406,
          0.9606159925460815,
          0.9113807082176208,
          0.8402409553527832,
          0.7844992876052856,
          0.750662624835968,
          0.6798605918884277,
          0.6435222625732422,
          0.6230363249778748,
          0.6176316738128662,
          0.5751990675926208,
          0.5364954471588135,
          0.5001757740974426,
          0.4937719702720642,
          0.46748068928718567,
          0.4205154478549957,
          0.37983956933021545,
          0.3581934869289398,
          0.35175904631614685,
          0.3297058045864105,
          0.2971107065677643,
          0.2877233624458313,
          0.2606351375579834,
          0.23182013630867004,
          0.1949544996023178,
          0.1847720742225647,
          0.16902364790439606,
          0.1600569784641266,
          0.11417686939239502,
          0.10234228521585464,
          0.08581209927797318,
          0.06263478845357895,
          0.02058689296245575,
          0.0004187003942206502,
          8.848335397715346e-09,
          2.6651940654431883e-09,
          3.819406270980835,
          3.2139148712158203,
          3.029764413833618,
          2.8851993083953857,
          2.7625510692596436,
          2.6375253200531006,
          2.4754953384399414,
          2.415910243988037,
          2.1083855628967285,
          1.891752004623413,
          1.8769545555114746,
          1.7423430681228638,
          1.642037272453308,
          1.5818525552749634,
          1.5444923639297485,
          1.3587697744369507,
          1.3326082229614258,
          1.2292578220367432,
          1.1971179246902466,
          1.0557148456573486,
          0.976049542427063,
          0.9304878115653992,
          0.9136507511138916,
          0.8381418585777283,
          0.8313707709312439,
          0.7820936441421509,
          0.7563413381576538,
          0.7207916975021362,
          0.7079187035560608,
          0.6665444374084473,
          0.6607252955436707,
          0.6422834396362305,
          0.5803951025009155,
          0.5447577238082886,
          0.5068697333335876,
          0.4967683255672455,
          0.47570085525512695,
          0.4507904350757599,
          0.4370163381099701,
          0.4103935956954956,
          0.377119779586792,
          0.3432748317718506,
          0.33818790316581726,
          0.292643666267395,
          0.28964293003082275,
          0.2683201730251312,
          0.2353632152080536,
          6.126917287474498e-05,
          1.8143838431683434e-08,
          6.789466802327427e-20,
          6.481027126312256,
          4.1577067375183105,
          3.933091640472412,
          3.701925039291382,
          3.4159040451049805,
          3.238633632659912,
          3.14890456199646,
          3.001821517944336,
          2.8773353099823,
          2.7743918895721436,
          2.7379162311553955,
          2.6590662002563477,
          2.453439235687256,
          2.3881711959838867,
          2.333707809448242,
          2.2745070457458496,
          2.2407078742980957,
          2.0865800380706787,
          1.9481667280197144,
          1.8813470602035522,
          1.8699817657470703,
          1.6982113122940063,
          1.6128640174865723,
          1.5328749418258667,
          1.5034641027450562,
          1.414211630821228,
          1.4045145511627197,
          1.340557336807251,
          1.24904465675354,
          1.2073297500610352,
          1.120362401008606,
          1.1113306283950806,
          1.0633388757705688,
          0.9845346808433533,
          0.9656589031219482,
          0.9282264709472656,
          0.9130279421806335,
          0.86879962682724,
          0.8086003661155701,
          0.7877114415168762,
          0.7741994857788086,
          0.7468483448028564,
          0.7190706729888916,
          0.679916501045227,
          0.6671895980834961,
          0.6346267461776733,
          0.6254400014877319,
          0.5782462954521179,
          0.5551578402519226,
          0.5391104817390442,
          0.5140631198883057,
          0.5056736469268799,
          0.48678264021873474,
          0.4705747961997986,
          0.4608762264251709,
          0.4447733163833618,
          0.42874258756637573,
          0.42391180992126465,
          0.4141377806663513,
          0.39597392082214355,
          0.3923368752002716,
          0.37925317883491516,
          0.3749430775642395,
          0.3668924868106842,
          0.3556109368801117,
          0.35410404205322266,
          0.3475981652736664,
          0.3355284035205841,
          0.3272092342376709,
          0.3228914439678192,
          0.3054348826408386,
          0.30043837428092957,
          0.2988490164279938,
          0.29713526368141174,
          0.2871512472629547,
          0.27754896879196167,
          0.2659152150154114,
          0.2650132179260254,
          0.2618209719657898,
          0.2552952170372009,
          0.24920554459095,
          0.2471521645784378,
          0.241185262799263,
          0.23392975330352783,
          0.2287992537021637,
          0.22181372344493866,
          0.2127232551574707,
          0.20772278308868408,
          0.20297043025493622,
          0.19356854259967804,
          0.1924162358045578,
          0.18302473425865173,
          0.17768502235412598,
          0.17294766008853912,
          3.9657678183036005e-12,
          1.0008406970625334e-16,
          7.0730544308547805e-19,
          1.0151985808899206e-30,
          2.7211711182637263e-38,
          2.051083224699317e-38
         ]
        }
       ],
       "layout": {
        "legend": {
         "tracegroupgap": 0
        },
        "margin": {
         "t": 60
        },
        "template": {
         "data": {
          "bar": [
           {
            "error_x": {
             "color": "#2a3f5f"
            },
            "error_y": {
             "color": "#2a3f5f"
            },
            "marker": {
             "line": {
              "color": "#E5ECF6",
              "width": 0.5
             },
             "pattern": {
              "fillmode": "overlay",
              "size": 10,
              "solidity": 0.2
             }
            },
            "type": "bar"
           }
          ],
          "barpolar": [
           {
            "marker": {
             "line": {
              "color": "#E5ECF6",
              "width": 0.5
             },
             "pattern": {
              "fillmode": "overlay",
              "size": 10,
              "solidity": 0.2
             }
            },
            "type": "barpolar"
           }
          ],
          "carpet": [
           {
            "aaxis": {
             "endlinecolor": "#2a3f5f",
             "gridcolor": "white",
             "linecolor": "white",
             "minorgridcolor": "white",
             "startlinecolor": "#2a3f5f"
            },
            "baxis": {
             "endlinecolor": "#2a3f5f",
             "gridcolor": "white",
             "linecolor": "white",
             "minorgridcolor": "white",
             "startlinecolor": "#2a3f5f"
            },
            "type": "carpet"
           }
          ],
          "choropleth": [
           {
            "colorbar": {
             "outlinewidth": 0,
             "ticks": ""
            },
            "type": "choropleth"
           }
          ],
          "contour": [
           {
            "colorbar": {
             "outlinewidth": 0,
             "ticks": ""
            },
            "colorscale": [
             [
              0,
              "#0d0887"
             ],
             [
              0.1111111111111111,
              "#46039f"
             ],
             [
              0.2222222222222222,
              "#7201a8"
             ],
             [
              0.3333333333333333,
              "#9c179e"
             ],
             [
              0.4444444444444444,
              "#bd3786"
             ],
             [
              0.5555555555555556,
              "#d8576b"
             ],
             [
              0.6666666666666666,
              "#ed7953"
             ],
             [
              0.7777777777777778,
              "#fb9f3a"
             ],
             [
              0.8888888888888888,
              "#fdca26"
             ],
             [
              1,
              "#f0f921"
             ]
            ],
            "type": "contour"
           }
          ],
          "contourcarpet": [
           {
            "colorbar": {
             "outlinewidth": 0,
             "ticks": ""
            },
            "type": "contourcarpet"
           }
          ],
          "heatmap": [
           {
            "colorbar": {
             "outlinewidth": 0,
             "ticks": ""
            },
            "colorscale": [
             [
              0,
              "#0d0887"
             ],
             [
              0.1111111111111111,
              "#46039f"
             ],
             [
              0.2222222222222222,
              "#7201a8"
             ],
             [
              0.3333333333333333,
              "#9c179e"
             ],
             [
              0.4444444444444444,
              "#bd3786"
             ],
             [
              0.5555555555555556,
              "#d8576b"
             ],
             [
              0.6666666666666666,
              "#ed7953"
             ],
             [
              0.7777777777777778,
              "#fb9f3a"
             ],
             [
              0.8888888888888888,
              "#fdca26"
             ],
             [
              1,
              "#f0f921"
             ]
            ],
            "type": "heatmap"
           }
          ],
          "heatmapgl": [
           {
            "colorbar": {
             "outlinewidth": 0,
             "ticks": ""
            },
            "colorscale": [
             [
              0,
              "#0d0887"
             ],
             [
              0.1111111111111111,
              "#46039f"
             ],
             [
              0.2222222222222222,
              "#7201a8"
             ],
             [
              0.3333333333333333,
              "#9c179e"
             ],
             [
              0.4444444444444444,
              "#bd3786"
             ],
             [
              0.5555555555555556,
              "#d8576b"
             ],
             [
              0.6666666666666666,
              "#ed7953"
             ],
             [
              0.7777777777777778,
              "#fb9f3a"
             ],
             [
              0.8888888888888888,
              "#fdca26"
             ],
             [
              1,
              "#f0f921"
             ]
            ],
            "type": "heatmapgl"
           }
          ],
          "histogram": [
           {
            "marker": {
             "pattern": {
              "fillmode": "overlay",
              "size": 10,
              "solidity": 0.2
             }
            },
            "type": "histogram"
           }
          ],
          "histogram2d": [
           {
            "colorbar": {
             "outlinewidth": 0,
             "ticks": ""
            },
            "colorscale": [
             [
              0,
              "#0d0887"
             ],
             [
              0.1111111111111111,
              "#46039f"
             ],
             [
              0.2222222222222222,
              "#7201a8"
             ],
             [
              0.3333333333333333,
              "#9c179e"
             ],
             [
              0.4444444444444444,
              "#bd3786"
             ],
             [
              0.5555555555555556,
              "#d8576b"
             ],
             [
              0.6666666666666666,
              "#ed7953"
             ],
             [
              0.7777777777777778,
              "#fb9f3a"
             ],
             [
              0.8888888888888888,
              "#fdca26"
             ],
             [
              1,
              "#f0f921"
             ]
            ],
            "type": "histogram2d"
           }
          ],
          "histogram2dcontour": [
           {
            "colorbar": {
             "outlinewidth": 0,
             "ticks": ""
            },
            "colorscale": [
             [
              0,
              "#0d0887"
             ],
             [
              0.1111111111111111,
              "#46039f"
             ],
             [
              0.2222222222222222,
              "#7201a8"
             ],
             [
              0.3333333333333333,
              "#9c179e"
             ],
             [
              0.4444444444444444,
              "#bd3786"
             ],
             [
              0.5555555555555556,
              "#d8576b"
             ],
             [
              0.6666666666666666,
              "#ed7953"
             ],
             [
              0.7777777777777778,
              "#fb9f3a"
             ],
             [
              0.8888888888888888,
              "#fdca26"
             ],
             [
              1,
              "#f0f921"
             ]
            ],
            "type": "histogram2dcontour"
           }
          ],
          "mesh3d": [
           {
            "colorbar": {
             "outlinewidth": 0,
             "ticks": ""
            },
            "type": "mesh3d"
           }
          ],
          "parcoords": [
           {
            "line": {
             "colorbar": {
              "outlinewidth": 0,
              "ticks": ""
             }
            },
            "type": "parcoords"
           }
          ],
          "pie": [
           {
            "automargin": true,
            "type": "pie"
           }
          ],
          "scatter": [
           {
            "marker": {
             "colorbar": {
              "outlinewidth": 0,
              "ticks": ""
             }
            },
            "type": "scatter"
           }
          ],
          "scatter3d": [
           {
            "line": {
             "colorbar": {
              "outlinewidth": 0,
              "ticks": ""
             }
            },
            "marker": {
             "colorbar": {
              "outlinewidth": 0,
              "ticks": ""
             }
            },
            "type": "scatter3d"
           }
          ],
          "scattercarpet": [
           {
            "marker": {
             "colorbar": {
              "outlinewidth": 0,
              "ticks": ""
             }
            },
            "type": "scattercarpet"
           }
          ],
          "scattergeo": [
           {
            "marker": {
             "colorbar": {
              "outlinewidth": 0,
              "ticks": ""
             }
            },
            "type": "scattergeo"
           }
          ],
          "scattergl": [
           {
            "marker": {
             "colorbar": {
              "outlinewidth": 0,
              "ticks": ""
             }
            },
            "type": "scattergl"
           }
          ],
          "scattermapbox": [
           {
            "marker": {
             "colorbar": {
              "outlinewidth": 0,
              "ticks": ""
             }
            },
            "type": "scattermapbox"
           }
          ],
          "scatterpolar": [
           {
            "marker": {
             "colorbar": {
              "outlinewidth": 0,
              "ticks": ""
             }
            },
            "type": "scatterpolar"
           }
          ],
          "scatterpolargl": [
           {
            "marker": {
             "colorbar": {
              "outlinewidth": 0,
              "ticks": ""
             }
            },
            "type": "scatterpolargl"
           }
          ],
          "scatterternary": [
           {
            "marker": {
             "colorbar": {
              "outlinewidth": 0,
              "ticks": ""
             }
            },
            "type": "scatterternary"
           }
          ],
          "surface": [
           {
            "colorbar": {
             "outlinewidth": 0,
             "ticks": ""
            },
            "colorscale": [
             [
              0,
              "#0d0887"
             ],
             [
              0.1111111111111111,
              "#46039f"
             ],
             [
              0.2222222222222222,
              "#7201a8"
             ],
             [
              0.3333333333333333,
              "#9c179e"
             ],
             [
              0.4444444444444444,
              "#bd3786"
             ],
             [
              0.5555555555555556,
              "#d8576b"
             ],
             [
              0.6666666666666666,
              "#ed7953"
             ],
             [
              0.7777777777777778,
              "#fb9f3a"
             ],
             [
              0.8888888888888888,
              "#fdca26"
             ],
             [
              1,
              "#f0f921"
             ]
            ],
            "type": "surface"
           }
          ],
          "table": [
           {
            "cells": {
             "fill": {
              "color": "#EBF0F8"
             },
             "line": {
              "color": "white"
             }
            },
            "header": {
             "fill": {
              "color": "#C8D4E3"
             },
             "line": {
              "color": "white"
             }
            },
            "type": "table"
           }
          ]
         },
         "layout": {
          "annotationdefaults": {
           "arrowcolor": "#2a3f5f",
           "arrowhead": 0,
           "arrowwidth": 1
          },
          "autotypenumbers": "strict",
          "coloraxis": {
           "colorbar": {
            "outlinewidth": 0,
            "ticks": ""
           }
          },
          "colorscale": {
           "diverging": [
            [
             0,
             "#8e0152"
            ],
            [
             0.1,
             "#c51b7d"
            ],
            [
             0.2,
             "#de77ae"
            ],
            [
             0.3,
             "#f1b6da"
            ],
            [
             0.4,
             "#fde0ef"
            ],
            [
             0.5,
             "#f7f7f7"
            ],
            [
             0.6,
             "#e6f5d0"
            ],
            [
             0.7,
             "#b8e186"
            ],
            [
             0.8,
             "#7fbc41"
            ],
            [
             0.9,
             "#4d9221"
            ],
            [
             1,
             "#276419"
            ]
           ],
           "sequential": [
            [
             0,
             "#0d0887"
            ],
            [
             0.1111111111111111,
             "#46039f"
            ],
            [
             0.2222222222222222,
             "#7201a8"
            ],
            [
             0.3333333333333333,
             "#9c179e"
            ],
            [
             0.4444444444444444,
             "#bd3786"
            ],
            [
             0.5555555555555556,
             "#d8576b"
            ],
            [
             0.6666666666666666,
             "#ed7953"
            ],
            [
             0.7777777777777778,
             "#fb9f3a"
            ],
            [
             0.8888888888888888,
             "#fdca26"
            ],
            [
             1,
             "#f0f921"
            ]
           ],
           "sequentialminus": [
            [
             0,
             "#0d0887"
            ],
            [
             0.1111111111111111,
             "#46039f"
            ],
            [
             0.2222222222222222,
             "#7201a8"
            ],
            [
             0.3333333333333333,
             "#9c179e"
            ],
            [
             0.4444444444444444,
             "#bd3786"
            ],
            [
             0.5555555555555556,
             "#d8576b"
            ],
            [
             0.6666666666666666,
             "#ed7953"
            ],
            [
             0.7777777777777778,
             "#fb9f3a"
            ],
            [
             0.8888888888888888,
             "#fdca26"
            ],
            [
             1,
             "#f0f921"
            ]
           ]
          },
          "colorway": [
           "#636efa",
           "#EF553B",
           "#00cc96",
           "#ab63fa",
           "#FFA15A",
           "#19d3f3",
           "#FF6692",
           "#B6E880",
           "#FF97FF",
           "#FECB52"
          ],
          "font": {
           "color": "#2a3f5f"
          },
          "geo": {
           "bgcolor": "white",
           "lakecolor": "white",
           "landcolor": "#E5ECF6",
           "showlakes": true,
           "showland": true,
           "subunitcolor": "white"
          },
          "hoverlabel": {
           "align": "left"
          },
          "hovermode": "closest",
          "mapbox": {
           "style": "light"
          },
          "paper_bgcolor": "white",
          "plot_bgcolor": "#E5ECF6",
          "polar": {
           "angularaxis": {
            "gridcolor": "white",
            "linecolor": "white",
            "ticks": ""
           },
           "bgcolor": "#E5ECF6",
           "radialaxis": {
            "gridcolor": "white",
            "linecolor": "white",
            "ticks": ""
           }
          },
          "scene": {
           "xaxis": {
            "backgroundcolor": "#E5ECF6",
            "gridcolor": "white",
            "gridwidth": 2,
            "linecolor": "white",
            "showbackground": true,
            "ticks": "",
            "zerolinecolor": "white"
           },
           "yaxis": {
            "backgroundcolor": "#E5ECF6",
            "gridcolor": "white",
            "gridwidth": 2,
            "linecolor": "white",
            "showbackground": true,
            "ticks": "",
            "zerolinecolor": "white"
           },
           "zaxis": {
            "backgroundcolor": "#E5ECF6",
            "gridcolor": "white",
            "gridwidth": 2,
            "linecolor": "white",
            "showbackground": true,
            "ticks": "",
            "zerolinecolor": "white"
           }
          },
          "shapedefaults": {
           "line": {
            "color": "#2a3f5f"
           }
          },
          "ternary": {
           "aaxis": {
            "gridcolor": "white",
            "linecolor": "white",
            "ticks": ""
           },
           "baxis": {
            "gridcolor": "white",
            "linecolor": "white",
            "ticks": ""
           },
           "bgcolor": "#E5ECF6",
           "caxis": {
            "gridcolor": "white",
            "linecolor": "white",
            "ticks": ""
           }
          },
          "title": {
           "x": 0.05
          },
          "xaxis": {
           "automargin": true,
           "gridcolor": "white",
           "linecolor": "white",
           "ticks": "",
           "title": {
            "standoff": 15
           },
           "zerolinecolor": "white",
           "zerolinewidth": 2
          },
          "yaxis": {
           "automargin": true,
           "gridcolor": "white",
           "linecolor": "white",
           "ticks": "",
           "title": {
            "standoff": 15
           },
           "zerolinecolor": "white",
           "zerolinewidth": 2
          }
         }
        },
        "xaxis": {
         "anchor": "y",
         "domain": [
          0,
          1
         ],
         "title": {
          "text": "index"
         }
        },
        "yaxis": {
         "anchor": "x",
         "domain": [
          0,
          1
         ],
         "title": {
          "text": "value"
         }
        }
       }
      },
      "text/html": [
       "<div>                            <div id=\"48f55eb5-3c7f-4462-b16b-4dcb86ae423f\" class=\"plotly-graph-div\" style=\"height:525px; width:100%;\"></div>            <script type=\"text/javascript\">                require([\"plotly\"], function(Plotly) {                    window.PLOTLYENV=window.PLOTLYENV || {};                                    if (document.getElementById(\"48f55eb5-3c7f-4462-b16b-4dcb86ae423f\")) {                    Plotly.newPlot(                        \"48f55eb5-3c7f-4462-b16b-4dcb86ae423f\",                        [{\"hoverinfo\":\"text\",\"hoveron\":\"fills\",\"hovertext\":\"tensor(-0.6291)\",\"marker\":{\"color\":\"rgb(136, 136, 136)\",\"opacity\":1},\"showlegend\":false,\"text\":\"tensor(-0.6291)\",\"x\":[0,1],\"y\":[2.628654956817627,3.3988218307495117],\"type\":\"scatter\"},{\"hoverinfo\":\"text\",\"marker\":{\"color\":\"lightgrey\",\"opacity\":0},\"mode\":\"markers\",\"showlegend\":false,\"text\":[\"tensor(-0.6291)\"],\"x\":[0.5],\"y\":[3.0137383937835693],\"type\":\"scatter\"},{\"hoverinfo\":\"text\",\"hoveron\":\"fills\",\"hovertext\":\"tensor(-0.5877)\",\"marker\":{\"color\":\"rgb(147, 147, 147)\",\"opacity\":1},\"showlegend\":false,\"text\":\"tensor(-0.5877)\",\"x\":[0,1],\"y\":[2.030905246734619,3.3988218307495117],\"type\":\"scatter\"},{\"hoverinfo\":\"text\",\"marker\":{\"color\":\"lightgrey\",\"opacity\":0},\"mode\":\"markers\",\"showlegend\":false,\"text\":[\"tensor(-0.5877)\"],\"x\":[0.5],\"y\":[2.7148635387420654],\"type\":\"scatter\"},{\"hoverinfo\":\"text\",\"hoveron\":\"fills\",\"hovertext\":\"tensor(-0.4224)\",\"marker\":{\"color\":\"rgb(191, 191, 191)\",\"opacity\":1},\"showlegend\":false,\"text\":\"tensor(-0.4224)\",\"x\":[0,1],\"y\":[2.628654956817627,3.0638983249664307],\"type\":\"scatter\"},{\"hoverinfo\":\"text\",\"marker\":{\"color\":\"lightgrey\",\"opacity\":0},\"mode\":\"markers\",\"showlegend\":false,\"text\":[\"tensor(-0.4224)\"],\"x\":[0.5],\"y\":[2.846276640892029],\"type\":\"scatter\"},{\"hoverinfo\":\"text\",\"hoveron\":\"fills\",\"hovertext\":\"tensor(-0.7448)\",\"marker\":{\"color\":\"rgb(105, 105, 105)\",\"opacity\":1},\"showlegend\":false,\"text\":\"tensor(-0.7448)\",\"x\":[0,1],\"y\":[2.284287214279175,3.0638983249664307],\"type\":\"scatter\"},{\"hoverinfo\":\"text\",\"marker\":{\"color\":\"lightgrey\",\"opacity\":0},\"mode\":\"markers\",\"showlegend\":false,\"text\":[\"tensor(-0.7448)\"],\"x\":[0.5],\"y\":[2.6740927696228027],\"type\":\"scatter\"},{\"hoverinfo\":\"text\",\"hoveron\":\"fills\",\"hovertext\":\"tensor(0.7233)\",\"marker\":{\"color\":\"rgb(110, 110, 110)\",\"opacity\":1},\"showlegend\":false,\"text\":\"tensor(0.7233)\",\"x\":[0,1],\"y\":[2.4386801719665527,2.925884485244751],\"type\":\"scatter\"},{\"hoverinfo\":\"text\",\"marker\":{\"color\":\"lightgrey\",\"opacity\":0},\"mode\":\"markers\",\"showlegend\":false,\"text\":[\"tensor(0.7233)\"],\"x\":[0.5],\"y\":[2.682282328605652],\"type\":\"scatter\"},{\"hoverinfo\":\"text\",\"hoveron\":\"fills\",\"hovertext\":\"tensor(-0.3163)\",\"marker\":{\"color\":\"rgb(220, 220, 220)\",\"opacity\":1},\"showlegend\":false,\"text\":\"tensor(-0.3163)\",\"x\":[0,1],\"y\":[2.007646322250366,2.925884485244751],\"type\":\"scatter\"},{\"hoverinfo\":\"text\",\"marker\":{\"color\":\"lightgrey\",\"opacity\":0},\"mode\":\"markers\",\"showlegend\":false,\"text\":[\"tensor(-0.3163)\"],\"x\":[0.5],\"y\":[2.4667654037475586],\"type\":\"scatter\"},{\"hoverinfo\":\"text\",\"hoveron\":\"fills\",\"hovertext\":\"tensor(0.4929)\",\"marker\":{\"color\":\"rgb(172, 172, 172)\",\"opacity\":1},\"showlegend\":false,\"text\":\"tensor(0.4929)\",\"x\":[0,1],\"y\":[2.628654956817627,2.5901923179626465],\"type\":\"scatter\"},{\"hoverinfo\":\"text\",\"marker\":{\"color\":\"lightgrey\",\"opacity\":0},\"mode\":\"markers\",\"showlegend\":false,\"text\":[\"tensor(0.4929)\"],\"x\":[0.5],\"y\":[2.6094236373901367],\"type\":\"scatter\"},{\"hoverinfo\":\"text\",\"hoveron\":\"fills\",\"hovertext\":\"tensor(-0.5003)\",\"marker\":{\"color\":\"rgb(170, 170, 170)\",\"opacity\":1},\"showlegend\":false,\"text\":\"tensor(-0.5003)\",\"x\":[0,1],\"y\":[2.030905246734619,2.5901923179626465],\"type\":\"scatter\"},{\"hoverinfo\":\"text\",\"marker\":{\"color\":\"lightgrey\",\"opacity\":0},\"mode\":\"markers\",\"showlegend\":false,\"text\":[\"tensor(-0.5003)\"],\"x\":[0.5],\"y\":[2.310548782348633],\"type\":\"scatter\"},{\"hoverinfo\":\"text\",\"hoveron\":\"fills\",\"hovertext\":\"tensor(-0.3114)\",\"marker\":{\"color\":\"rgb(221, 221, 221)\",\"opacity\":1},\"showlegend\":false,\"text\":\"tensor(-0.3114)\",\"x\":[0,1],\"y\":[1.7493679523468018,2.5901923179626465],\"type\":\"scatter\"},{\"hoverinfo\":\"text\",\"marker\":{\"color\":\"lightgrey\",\"opacity\":0},\"mode\":\"markers\",\"showlegend\":false,\"text\":[\"tensor(-0.3114)\"],\"x\":[0.5],\"y\":[2.169780135154724],\"type\":\"scatter\"},{\"hoverinfo\":\"text\",\"hoveron\":\"fills\",\"hovertext\":\"tensor(-0.3534)\",\"marker\":{\"color\":\"rgb(210, 210, 210)\",\"opacity\":1},\"showlegend\":false,\"text\":\"tensor(-0.3534)\",\"x\":[0,1],\"y\":[1.4511265754699707,2.5901923179626465],\"type\":\"scatter\"},{\"hoverinfo\":\"text\",\"marker\":{\"color\":\"lightgrey\",\"opacity\":0},\"mode\":\"markers\",\"showlegend\":false,\"text\":[\"tensor(-0.3534)\"],\"x\":[0.5],\"y\":[2.0206594467163086],\"type\":\"scatter\"},{\"hoverinfo\":\"text\",\"hoveron\":\"fills\",\"hovertext\":\"tensor(-0.5862)\",\"marker\":{\"color\":\"rgb(147, 147, 147)\",\"opacity\":1},\"showlegend\":false,\"text\":\"tensor(-0.5862)\",\"x\":[0,1],\"y\":[2.007646322250366,2.4514570236206055],\"type\":\"scatter\"},{\"hoverinfo\":\"text\",\"marker\":{\"color\":\"lightgrey\",\"opacity\":0},\"mode\":\"markers\",\"showlegend\":false,\"text\":[\"tensor(-0.5862)\"],\"x\":[0.5],\"y\":[2.229551672935486],\"type\":\"scatter\"},{\"hoverinfo\":\"text\",\"hoveron\":\"fills\",\"hovertext\":\"tensor(0.3031)\",\"marker\":{\"color\":\"rgb(224, 224, 224)\",\"opacity\":1},\"showlegend\":false,\"text\":\"tensor(0.3031)\",\"x\":[0,1],\"y\":[1.7493679523468018,2.2928051948547363],\"type\":\"scatter\"},{\"hoverinfo\":\"text\",\"marker\":{\"color\":\"lightgrey\",\"opacity\":0},\"mode\":\"markers\",\"showlegend\":false,\"text\":[\"tensor(0.3031)\"],\"x\":[0.5],\"y\":[2.021086573600769],\"type\":\"scatter\"},{\"hoverinfo\":\"text\",\"hoveron\":\"fills\",\"hovertext\":\"tensor(0.6719)\",\"marker\":{\"color\":\"rgb(124, 124, 124)\",\"opacity\":1},\"showlegend\":false,\"text\":\"tensor(0.6719)\",\"x\":[0,1],\"y\":[1.5608956813812256,2.2928051948547363],\"type\":\"scatter\"},{\"hoverinfo\":\"text\",\"marker\":{\"color\":\"lightgrey\",\"opacity\":0},\"mode\":\"markers\",\"showlegend\":false,\"text\":[\"tensor(0.6719)\"],\"x\":[0.5],\"y\":[1.926850438117981],\"type\":\"scatter\"},{\"hoverinfo\":\"text\",\"hoveron\":\"fills\",\"hovertext\":\"tensor(-0.3771)\",\"marker\":{\"color\":\"rgb(204, 204, 204)\",\"opacity\":1},\"showlegend\":false,\"text\":\"tensor(-0.3771)\",\"x\":[0,1],\"y\":[1.4511265754699707,2.2928051948547363],\"type\":\"scatter\"},{\"hoverinfo\":\"text\",\"marker\":{\"color\":\"lightgrey\",\"opacity\":0},\"mode\":\"markers\",\"showlegend\":false,\"text\":[\"tensor(-0.3771)\"],\"x\":[0.5],\"y\":[1.8719658851623535],\"type\":\"scatter\"},{\"hoverinfo\":\"text\",\"hoveron\":\"fills\",\"hovertext\":\"tensor(0.4946)\",\"marker\":{\"color\":\"rgb(172, 172, 172)\",\"opacity\":1},\"showlegend\":false,\"text\":\"tensor(0.4946)\",\"x\":[0,1],\"y\":[2.007646322250366,2.1535778045654297],\"type\":\"scatter\"},{\"hoverinfo\":\"text\",\"marker\":{\"color\":\"lightgrey\",\"opacity\":0},\"mode\":\"markers\",\"showlegend\":false,\"text\":[\"tensor(0.4946)\"],\"x\":[0.5],\"y\":[2.080612063407898],\"type\":\"scatter\"},{\"hoverinfo\":\"text\",\"hoveron\":\"fills\",\"hovertext\":\"tensor(-0.3304)\",\"marker\":{\"color\":\"rgb(216, 216, 216)\",\"opacity\":1},\"showlegend\":false,\"text\":\"tensor(-0.3304)\",\"x\":[0,1],\"y\":[1.7493679523468018,2.1535778045654297],\"type\":\"scatter\"},{\"hoverinfo\":\"text\",\"marker\":{\"color\":\"lightgrey\",\"opacity\":0},\"mode\":\"markers\",\"showlegend\":false,\"text\":[\"tensor(-0.3304)\"],\"x\":[0.5],\"y\":[1.9514728784561157],\"type\":\"scatter\"},{\"hoverinfo\":\"text\",\"hoveron\":\"fills\",\"hovertext\":\"tensor(-0.4684)\",\"marker\":{\"color\":\"rgb(179, 179, 179)\",\"opacity\":1},\"showlegend\":false,\"text\":\"tensor(-0.4684)\",\"x\":[0,1],\"y\":[1.5608956813812256,1.9853415489196777],\"type\":\"scatter\"},{\"hoverinfo\":\"text\",\"marker\":{\"color\":\"lightgrey\",\"opacity\":0},\"mode\":\"markers\",\"showlegend\":false,\"text\":[\"tensor(-0.4684)\"],\"x\":[0.5],\"y\":[1.7731186151504517],\"type\":\"scatter\"},{\"hoverinfo\":\"text\",\"hoveron\":\"fills\",\"hovertext\":\"tensor(-0.5577)\",\"marker\":{\"color\":\"rgb(155, 155, 155)\",\"opacity\":1},\"showlegend\":false,\"text\":\"tensor(-0.5577)\",\"x\":[0,1],\"y\":[1.4511265754699707,1.9853415489196777],\"type\":\"scatter\"},{\"hoverinfo\":\"text\",\"marker\":{\"color\":\"lightgrey\",\"opacity\":0},\"mode\":\"markers\",\"showlegend\":false,\"text\":[\"tensor(-0.5577)\"],\"x\":[0.5],\"y\":[1.7182340621948242],\"type\":\"scatter\"},{\"hoverinfo\":\"text\",\"hoveron\":\"fills\",\"hovertext\":\"tensor(0.3705)\",\"marker\":{\"color\":\"rgb(205, 205, 205)\",\"opacity\":1},\"showlegend\":false,\"text\":\"tensor(0.3705)\",\"x\":[0,1],\"y\":[1.7493679523468018,1.859775185585022],\"type\":\"scatter\"},{\"hoverinfo\":\"text\",\"marker\":{\"color\":\"lightgrey\",\"opacity\":0},\"mode\":\"markers\",\"showlegend\":false,\"text\":[\"tensor(0.3705)\"],\"x\":[0.5],\"y\":[1.8045715689659119],\"type\":\"scatter\"},{\"hoverinfo\":\"text\",\"hoveron\":\"fills\",\"hovertext\":\"tensor(0.6218)\",\"marker\":{\"color\":\"rgb(138, 138, 138)\",\"opacity\":1},\"showlegend\":false,\"text\":\"tensor(0.6218)\",\"x\":[0,1],\"y\":[1.6202462911605835,1.859775185585022],\"type\":\"scatter\"},{\"hoverinfo\":\"text\",\"marker\":{\"color\":\"lightgrey\",\"opacity\":0},\"mode\":\"markers\",\"showlegend\":false,\"text\":[\"tensor(0.6218)\"],\"x\":[0.5],\"y\":[1.7400107383728027],\"type\":\"scatter\"},{\"hoverinfo\":\"text\",\"hoveron\":\"fills\",\"hovertext\":\"tensor(0.3047)\",\"marker\":{\"color\":\"rgb(223, 223, 223)\",\"opacity\":1},\"showlegend\":false,\"text\":\"tensor(0.3047)\",\"x\":[0,1],\"y\":[1.7493679523468018,1.4323781728744507],\"type\":\"scatter\"},{\"hoverinfo\":\"text\",\"marker\":{\"color\":\"lightgrey\",\"opacity\":0},\"mode\":\"markers\",\"showlegend\":false,\"text\":[\"tensor(0.3047)\"],\"x\":[0.5],\"y\":[1.5908730626106262],\"type\":\"scatter\"},{\"hoverinfo\":\"text\",\"hoveron\":\"fills\",\"hovertext\":\"tensor(0.3784)\",\"marker\":{\"color\":\"rgb(203, 203, 203)\",\"opacity\":1},\"showlegend\":false,\"text\":\"tensor(0.3784)\",\"x\":[0,1],\"y\":[1.1509099006652832,1.2539026737213135],\"type\":\"scatter\"},{\"hoverinfo\":\"text\",\"marker\":{\"color\":\"lightgrey\",\"opacity\":0},\"mode\":\"markers\",\"showlegend\":false,\"text\":[\"tensor(0.3784)\"],\"x\":[0.5],\"y\":[1.2024062871932983],\"type\":\"scatter\"},{\"hoverinfo\":\"text\",\"hoveron\":\"fills\",\"hovertext\":\"tensor(-0.3419)\",\"marker\":{\"color\":\"rgb(213, 213, 213)\",\"opacity\":1},\"showlegend\":false,\"text\":\"tensor(-0.3419)\",\"x\":[0,1],\"y\":[1.1509099006652832,0.750662624835968],\"type\":\"scatter\"},{\"hoverinfo\":\"text\",\"marker\":{\"color\":\"lightgrey\",\"opacity\":0},\"mode\":\"markers\",\"showlegend\":false,\"text\":[\"tensor(-0.3419)\"],\"x\":[0.5],\"y\":[0.9507862627506256],\"type\":\"scatter\"},{\"hoverinfo\":\"text\",\"hoveron\":\"fills\",\"hovertext\":\"tensor(-0.9080)\",\"marker\":{\"color\":\"rgb(124, 124, 124)\",\"opacity\":1},\"showlegend\":false,\"text\":\"tensor(-0.9080)\",\"x\":[1,2],\"y\":[3.3988218307495117,3.819406270980835],\"type\":\"scatter\"},{\"hoverinfo\":\"text\",\"marker\":{\"color\":\"lightgrey\",\"opacity\":0},\"mode\":\"markers\",\"showlegend\":false,\"text\":[\"tensor(-0.9080)\"],\"x\":[1.5],\"y\":[3.6091140508651733],\"type\":\"scatter\"},{\"hoverinfo\":\"text\",\"hoveron\":\"fills\",\"hovertext\":\"tensor(0.7477)\",\"marker\":{\"color\":\"rgb(157, 157, 157)\",\"opacity\":1},\"showlegend\":false,\"text\":\"tensor(0.7477)\",\"x\":[1,2],\"y\":[2.925884485244751,3.2139148712158203],\"type\":\"scatter\"},{\"hoverinfo\":\"text\",\"marker\":{\"color\":\"lightgrey\",\"opacity\":0},\"mode\":\"markers\",\"showlegend\":false,\"text\":[\"tensor(0.7477)\"],\"x\":[1.5],\"y\":[3.0698996782302856],\"type\":\"scatter\"},{\"hoverinfo\":\"text\",\"hoveron\":\"fills\",\"hovertext\":\"tensor(0.6411)\",\"marker\":{\"color\":\"rgb(179, 179, 179)\",\"opacity\":1},\"showlegend\":false,\"text\":\"tensor(0.6411)\",\"x\":[1,2],\"y\":[3.0638983249664307,3.029764413833618],\"type\":\"scatter\"},{\"hoverinfo\":\"text\",\"marker\":{\"color\":\"lightgrey\",\"opacity\":0},\"mode\":\"markers\",\"showlegend\":false,\"text\":[\"tensor(0.6411)\"],\"x\":[1.5],\"y\":[3.0468313694000244],\"type\":\"scatter\"},{\"hoverinfo\":\"text\",\"hoveron\":\"fills\",\"hovertext\":\"tensor(-0.4609)\",\"marker\":{\"color\":\"rgb(217, 217, 217)\",\"opacity\":1},\"showlegend\":false,\"text\":\"tensor(-0.4609)\",\"x\":[1,2],\"y\":[2.4514570236206055,3.029764413833618],\"type\":\"scatter\"},{\"hoverinfo\":\"text\",\"marker\":{\"color\":\"lightgrey\",\"opacity\":0},\"mode\":\"markers\",\"showlegend\":false,\"text\":[\"tensor(-0.4609)\"],\"x\":[1.5],\"y\":[2.740610718727112],\"type\":\"scatter\"},{\"hoverinfo\":\"text\",\"hoveron\":\"fills\",\"hovertext\":\"tensor(-0.4563)\",\"marker\":{\"color\":\"rgb(218, 218, 218)\",\"opacity\":1},\"showlegend\":false,\"text\":\"tensor(-0.4563)\",\"x\":[1,2],\"y\":[3.0638983249664307,2.8851993083953857],\"type\":\"scatter\"},{\"hoverinfo\":\"text\",\"marker\":{\"color\":\"lightgrey\",\"opacity\":0},\"mode\":\"markers\",\"showlegend\":false,\"text\":[\"tensor(-0.4563)\"],\"x\":[1.5],\"y\":[2.974548816680908],\"type\":\"scatter\"},{\"hoverinfo\":\"text\",\"hoveron\":\"fills\",\"hovertext\":\"tensor(-0.6293)\",\"marker\":{\"color\":\"rgb(182, 182, 182)\",\"opacity\":1},\"showlegend\":false,\"text\":\"tensor(-0.6293)\",\"x\":[1,2],\"y\":[2.4514570236206055,2.8851993083953857],\"type\":\"scatter\"},{\"hoverinfo\":\"text\",\"marker\":{\"color\":\"lightgrey\",\"opacity\":0},\"mode\":\"markers\",\"showlegend\":false,\"text\":[\"tensor(-0.6293)\"],\"x\":[1.5],\"y\":[2.6683281660079956],\"type\":\"scatter\"},{\"hoverinfo\":\"text\",\"hoveron\":\"fills\",\"hovertext\":\"tensor(0.6936)\",\"marker\":{\"color\":\"rgb(168, 168, 168)\",\"opacity\":1},\"showlegend\":false,\"text\":\"tensor(0.6936)\",\"x\":[1,2],\"y\":[2.5901923179626465,2.7625510692596436],\"type\":\"scatter\"},{\"hoverinfo\":\"text\",\"marker\":{\"color\":\"lightgrey\",\"opacity\":0},\"mode\":\"markers\",\"showlegend\":false,\"text\":[\"tensor(0.6936)\"],\"x\":[1.5],\"y\":[2.676371693611145],\"type\":\"scatter\"},{\"hoverinfo\":\"text\",\"hoveron\":\"fills\",\"hovertext\":\"tensor(0.7138)\",\"marker\":{\"color\":\"rgb(164, 164, 164)\",\"opacity\":1},\"showlegend\":false,\"text\":\"tensor(0.7138)\",\"x\":[1,2],\"y\":[2.1535778045654297,2.6375253200531006],\"type\":\"scatter\"},{\"hoverinfo\":\"text\",\"marker\":{\"color\":\"lightgrey\",\"opacity\":0},\"mode\":\"markers\",\"showlegend\":false,\"text\":[\"tensor(0.7138)\"],\"x\":[1.5],\"y\":[2.395551562309265],\"type\":\"scatter\"},{\"hoverinfo\":\"text\",\"hoveron\":\"fills\",\"hovertext\":\"tensor(0.7111)\",\"marker\":{\"color\":\"rgb(165, 165, 165)\",\"opacity\":1},\"showlegend\":false,\"text\":\"tensor(0.7111)\",\"x\":[1,2],\"y\":[2.2928051948547363,2.4754953384399414],\"type\":\"scatter\"},{\"hoverinfo\":\"text\",\"marker\":{\"color\":\"lightgrey\",\"opacity\":0},\"mode\":\"markers\",\"showlegend\":false,\"text\":[\"tensor(0.7111)\"],\"x\":[1.5],\"y\":[2.384150266647339],\"type\":\"scatter\"},{\"hoverinfo\":\"text\",\"hoveron\":\"fills\",\"hovertext\":\"tensor(0.6337)\",\"marker\":{\"color\":\"rgb(181, 181, 181)\",\"opacity\":1},\"showlegend\":false,\"text\":\"tensor(0.6337)\",\"x\":[1,2],\"y\":[1.9853415489196777,2.415910243988037],\"type\":\"scatter\"},{\"hoverinfo\":\"text\",\"marker\":{\"color\":\"lightgrey\",\"opacity\":0},\"mode\":\"markers\",\"showlegend\":false,\"text\":[\"tensor(0.6337)\"],\"x\":[1.5],\"y\":[2.2006258964538574],\"type\":\"scatter\"},{\"hoverinfo\":\"text\",\"hoveron\":\"fills\",\"hovertext\":\"tensor(0.6030)\",\"marker\":{\"color\":\"rgb(187, 187, 187)\",\"opacity\":1},\"showlegend\":false,\"text\":\"tensor(0.6030)\",\"x\":[1,2],\"y\":[1.859775185585022,2.1083855628967285],\"type\":\"scatter\"},{\"hoverinfo\":\"text\",\"marker\":{\"color\":\"lightgrey\",\"opacity\":0},\"mode\":\"markers\",\"showlegend\":false,\"text\":[\"tensor(0.6030)\"],\"x\":[1.5],\"y\":[1.9840803742408752],\"type\":\"scatter\"},{\"hoverinfo\":\"text\",\"hoveron\":\"fills\",\"hovertext\":\"tensor(0.4426)\",\"marker\":{\"color\":\"rgb(221, 221, 221)\",\"opacity\":1},\"showlegend\":false,\"text\":\"tensor(0.4426)\",\"x\":[1,2],\"y\":[1.3606553077697754,1.891752004623413],\"type\":\"scatter\"},{\"hoverinfo\":\"text\",\"marker\":{\"color\":\"lightgrey\",\"opacity\":0},\"mode\":\"markers\",\"showlegend\":false,\"text\":[\"tensor(0.4426)\"],\"x\":[1.5],\"y\":[1.6262036561965942],\"type\":\"scatter\"},{\"hoverinfo\":\"text\",\"hoveron\":\"fills\",\"hovertext\":\"tensor(-0.4398)\",\"marker\":{\"color\":\"rgb(221, 221, 221)\",\"opacity\":1},\"showlegend\":false,\"text\":\"tensor(-0.4398)\",\"x\":[1,2],\"y\":[1.2539026737213135,1.8769545555114746],\"type\":\"scatter\"},{\"hoverinfo\":\"text\",\"marker\":{\"color\":\"lightgrey\",\"opacity\":0},\"mode\":\"markers\",\"showlegend\":false,\"text\":[\"tensor(-0.4398)\"],\"x\":[1.5],\"y\":[1.565428614616394],\"type\":\"scatter\"},{\"hoverinfo\":\"text\",\"hoveron\":\"fills\",\"hovertext\":\"tensor(-0.4717)\",\"marker\":{\"color\":\"rgb(215, 215, 215)\",\"opacity\":1},\"showlegend\":false,\"text\":\"tensor(-0.4717)\",\"x\":[1,2],\"y\":[1.1728538274765015,1.8769545555114746],\"type\":\"scatter\"},{\"hoverinfo\":\"text\",\"marker\":{\"color\":\"lightgrey\",\"opacity\":0},\"mode\":\"markers\",\"showlegend\":false,\"text\":[\"tensor(-0.4717)\"],\"x\":[1.5],\"y\":[1.524904191493988],\"type\":\"scatter\"},{\"hoverinfo\":\"text\",\"hoveron\":\"fills\",\"hovertext\":\"tensor(0.5499)\",\"marker\":{\"color\":\"rgb(198, 198, 198)\",\"opacity\":1},\"showlegend\":false,\"text\":\"tensor(0.5499)\",\"x\":[1,2],\"y\":[1.4323781728744507,1.7423430681228638],\"type\":\"scatter\"},{\"hoverinfo\":\"text\",\"marker\":{\"color\":\"lightgrey\",\"opacity\":0},\"mode\":\"markers\",\"showlegend\":false,\"text\":[\"tensor(0.5499)\"],\"x\":[1.5],\"y\":[1.5873606204986572],\"type\":\"scatter\"},{\"hoverinfo\":\"text\",\"hoveron\":\"fills\",\"hovertext\":\"tensor(-0.4783)\",\"marker\":{\"color\":\"rgb(213, 213, 213)\",\"opacity\":1},\"showlegend\":false,\"text\":\"tensor(-0.4783)\",\"x\":[1,2],\"y\":[1.2539026737213135,1.642037272453308],\"type\":\"scatter\"},{\"hoverinfo\":\"text\",\"marker\":{\"color\":\"lightgrey\",\"opacity\":0},\"mode\":\"markers\",\"showlegend\":false,\"text\":[\"tensor(-0.4783)\"],\"x\":[1.5],\"y\":[1.4479699730873108],\"type\":\"scatter\"},{\"hoverinfo\":\"text\",\"hoveron\":\"fills\",\"hovertext\":\"tensor(0.4599)\",\"marker\":{\"color\":\"rgb(217, 217, 217)\",\"opacity\":1},\"showlegend\":false,\"text\":\"tensor(0.4599)\",\"x\":[1,2],\"y\":[1.1728538274765015,1.642037272453308],\"type\":\"scatter\"},{\"hoverinfo\":\"text\",\"marker\":{\"color\":\"lightgrey\",\"opacity\":0},\"mode\":\"markers\",\"showlegend\":false,\"text\":[\"tensor(0.4599)\"],\"x\":[1.5],\"y\":[1.4074455499649048],\"type\":\"scatter\"},{\"hoverinfo\":\"text\",\"hoveron\":\"fills\",\"hovertext\":\"tensor(0.4628)\",\"marker\":{\"color\":\"rgb(216, 216, 216)\",\"opacity\":1},\"showlegend\":false,\"text\":\"tensor(0.4628)\",\"x\":[1,2],\"y\":[0.9606159925460815,1.2292578220367432],\"type\":\"scatter\"},{\"hoverinfo\":\"text\",\"marker\":{\"color\":\"lightgrey\",\"opacity\":0},\"mode\":\"markers\",\"showlegend\":false,\"text\":[\"tensor(0.4628)\"],\"x\":[1.5],\"y\":[1.0949369072914124],\"type\":\"scatter\"},{\"hoverinfo\":\"text\",\"hoveron\":\"fills\",\"hovertext\":\"tensor(0.4256)\",\"marker\":{\"color\":\"rgb(224, 224, 224)\",\"opacity\":1},\"showlegend\":false,\"text\":\"tensor(0.4256)\",\"x\":[1,2],\"y\":[0.08581209927797318,0.9304878115653992],\"type\":\"scatter\"},{\"hoverinfo\":\"text\",\"marker\":{\"color\":\"lightgrey\",\"opacity\":0},\"mode\":\"markers\",\"showlegend\":false,\"text\":[\"tensor(0.4256)\"],\"x\":[1.5],\"y\":[0.5081499554216862],\"type\":\"scatter\"},{\"hoverinfo\":\"text\",\"hoveron\":\"fills\",\"hovertext\":\"tensor(0.4969)\",\"marker\":{\"color\":\"rgb(209, 209, 209)\",\"opacity\":1},\"showlegend\":false,\"text\":\"tensor(0.4969)\",\"x\":[1,2],\"y\":[0.4937719702720642,0.9136507511138916],\"type\":\"scatter\"},{\"hoverinfo\":\"text\",\"marker\":{\"color\":\"lightgrey\",\"opacity\":0},\"mode\":\"markers\",\"showlegend\":false,\"text\":[\"tensor(0.4969)\"],\"x\":[1.5],\"y\":[0.7037113606929779],\"type\":\"scatter\"},{\"hoverinfo\":\"text\",\"hoveron\":\"fills\",\"hovertext\":\"tensor(0.4961)\",\"marker\":{\"color\":\"rgb(210, 210, 210)\",\"opacity\":1},\"showlegend\":false,\"text\":\"tensor(0.4961)\",\"x\":[1,2],\"y\":[0.5001757740974426,0.8313707709312439],\"type\":\"scatter\"},{\"hoverinfo\":\"text\",\"marker\":{\"color\":\"lightgrey\",\"opacity\":0},\"mode\":\"markers\",\"showlegend\":false,\"text\":[\"tensor(0.4961)\"],\"x\":[1.5],\"y\":[0.6657732725143433],\"type\":\"scatter\"},{\"hoverinfo\":\"text\",\"hoveron\":\"fills\",\"hovertext\":\"tensor(-0.4449)\",\"marker\":{\"color\":\"rgb(220, 220, 220)\",\"opacity\":1},\"showlegend\":false,\"text\":\"tensor(-0.4449)\",\"x\":[1,2],\"y\":[0.8402409553527832,0.7820936441421509],\"type\":\"scatter\"},{\"hoverinfo\":\"text\",\"marker\":{\"color\":\"lightgrey\",\"opacity\":0},\"mode\":\"markers\",\"showlegend\":false,\"text\":[\"tensor(-0.4449)\"],\"x\":[1.5],\"y\":[0.811167299747467],\"type\":\"scatter\"},{\"hoverinfo\":\"text\",\"hoveron\":\"fills\",\"hovertext\":\"tensor(-0.4574)\",\"marker\":{\"color\":\"rgb(218, 218, 218)\",\"opacity\":1},\"showlegend\":false,\"text\":\"tensor(-0.4574)\",\"x\":[1,2],\"y\":[0.4205154478549957,0.7820936441421509],\"type\":\"scatter\"},{\"hoverinfo\":\"text\",\"marker\":{\"color\":\"lightgrey\",\"opacity\":0},\"mode\":\"markers\",\"showlegend\":false,\"text\":[\"tensor(-0.4574)\"],\"x\":[1.5],\"y\":[0.6013045459985733],\"type\":\"scatter\"},{\"hoverinfo\":\"text\",\"hoveron\":\"fills\",\"hovertext\":\"tensor(0.4654)\",\"marker\":{\"color\":\"rgb(216, 216, 216)\",\"opacity\":1},\"showlegend\":false,\"text\":\"tensor(0.4654)\",\"x\":[1,2],\"y\":[0.23182013630867004,0.7079187035560608],\"type\":\"scatter\"},{\"hoverinfo\":\"text\",\"marker\":{\"color\":\"lightgrey\",\"opacity\":0},\"mode\":\"markers\",\"showlegend\":false,\"text\":[\"tensor(0.4654)\"],\"x\":[1.5],\"y\":[0.4698694199323654],\"type\":\"scatter\"},{\"hoverinfo\":\"text\",\"hoveron\":\"fills\",\"hovertext\":\"tensor(0.4377)\",\"marker\":{\"color\":\"rgb(222, 222, 222)\",\"opacity\":1},\"showlegend\":false,\"text\":\"tensor(0.4377)\",\"x\":[1,2],\"y\":[0.02058689296245575,0.7079187035560608],\"type\":\"scatter\"},{\"hoverinfo\":\"text\",\"marker\":{\"color\":\"lightgrey\",\"opacity\":0},\"mode\":\"markers\",\"showlegend\":false,\"text\":[\"tensor(0.4377)\"],\"x\":[1.5],\"y\":[0.36425279825925827],\"type\":\"scatter\"},{\"hoverinfo\":\"text\",\"hoveron\":\"fills\",\"hovertext\":\"tensor(0.4349)\",\"marker\":{\"color\":\"rgb(222, 222, 222)\",\"opacity\":1},\"showlegend\":false,\"text\":\"tensor(0.4349)\",\"x\":[1,2],\"y\":[0.35175904631614685,0.4370163381099701],\"type\":\"scatter\"},{\"hoverinfo\":\"text\",\"marker\":{\"color\":\"lightgrey\",\"opacity\":0},\"mode\":\"markers\",\"showlegend\":false,\"text\":[\"tensor(0.4349)\"],\"x\":[1.5],\"y\":[0.39438769221305847],\"type\":\"scatter\"},{\"hoverinfo\":\"text\",\"hoveron\":\"fills\",\"hovertext\":\"tensor(-0.4724)\",\"marker\":{\"color\":\"rgb(214, 214, 214)\",\"opacity\":1},\"showlegend\":false,\"text\":\"tensor(-0.4724)\",\"x\":[1,2],\"y\":[0.2971107065677643,0.33818790316581726],\"type\":\"scatter\"},{\"hoverinfo\":\"text\",\"marker\":{\"color\":\"lightgrey\",\"opacity\":0},\"mode\":\"markers\",\"showlegend\":false,\"text\":[\"tensor(-0.4724)\"],\"x\":[1.5],\"y\":[0.31764930486679077],\"type\":\"scatter\"},{\"hoverinfo\":\"text\",\"hoveron\":\"fills\",\"hovertext\":\"tensor(0.4274)\",\"marker\":{\"color\":\"rgb(224, 224, 224)\",\"opacity\":1},\"showlegend\":false,\"text\":\"tensor(0.4274)\",\"x\":[1,2],\"y\":[0.16902364790439606,0.28964293003082275],\"type\":\"scatter\"},{\"hoverinfo\":\"text\",\"marker\":{\"color\":\"lightgrey\",\"opacity\":0},\"mode\":\"markers\",\"showlegend\":false,\"text\":[\"tensor(0.4274)\"],\"x\":[1.5],\"y\":[0.2293332889676094],\"type\":\"scatter\"},{\"hoverinfo\":\"text\",\"hoveron\":\"fills\",\"hovertext\":\"tensor(0.9999)\",\"marker\":{\"color\":\"rgb(105, 105, 105)\",\"opacity\":1},\"showlegend\":false,\"text\":\"tensor(0.9999)\",\"x\":[1,2],\"y\":[0.0004187003942206502,6.126917287474498e-05],\"type\":\"scatter\"},{\"hoverinfo\":\"text\",\"marker\":{\"color\":\"lightgrey\",\"opacity\":0},\"mode\":\"markers\",\"showlegend\":false,\"text\":[\"tensor(0.9999)\"],\"x\":[1.5],\"y\":[0.0002399847835476976],\"type\":\"scatter\"},{\"hoverinfo\":\"text\",\"hoveron\":\"fills\",\"hovertext\":\"tensor(0.9997)\",\"marker\":{\"color\":\"rgb(105, 105, 105)\",\"opacity\":1},\"showlegend\":false,\"text\":\"tensor(0.9997)\",\"x\":[1,2],\"y\":[8.848335397715346e-09,1.8143838431683434e-08],\"type\":\"scatter\"},{\"hoverinfo\":\"text\",\"marker\":{\"color\":\"lightgrey\",\"opacity\":0},\"mode\":\"markers\",\"showlegend\":false,\"text\":[\"tensor(0.9997)\"],\"x\":[1.5],\"y\":[1.349608691469939e-08],\"type\":\"scatter\"},{\"hoverinfo\":\"text\",\"hoveron\":\"fills\",\"hovertext\":\"tensor(-0.9997)\",\"marker\":{\"color\":\"rgb(105, 105, 105)\",\"opacity\":1},\"showlegend\":false,\"text\":\"tensor(-0.9997)\",\"x\":[1,2],\"y\":[2.6651940654431883e-09,6.789466802327427e-20],\"type\":\"scatter\"},{\"hoverinfo\":\"text\",\"marker\":{\"color\":\"lightgrey\",\"opacity\":0},\"mode\":\"markers\",\"showlegend\":false,\"text\":[\"tensor(-0.9997)\"],\"x\":[1.5],\"y\":[1.3325970327555414e-09],\"type\":\"scatter\"},{\"hoverinfo\":\"text\",\"hoveron\":\"fills\",\"hovertext\":\"tensor(0.4539)\",\"marker\":{\"color\":\"rgb(211, 211, 211)\",\"opacity\":1},\"showlegend\":false,\"text\":\"tensor(0.4539)\",\"x\":[2,3],\"y\":[1.642037272453308,6.481027126312256],\"type\":\"scatter\"},{\"hoverinfo\":\"text\",\"marker\":{\"color\":\"lightgrey\",\"opacity\":0},\"mode\":\"markers\",\"showlegend\":false,\"text\":[\"tensor(0.4539)\"],\"x\":[2.5],\"y\":[4.061532199382782],\"type\":\"scatter\"},{\"hoverinfo\":\"text\",\"hoveron\":\"fills\",\"hovertext\":\"tensor(0.5352)\",\"marker\":{\"color\":\"rgb(172, 172, 172)\",\"opacity\":1},\"showlegend\":false,\"text\":\"tensor(0.5352)\",\"x\":[2,3],\"y\":[3.819406270980835,4.1577067375183105],\"type\":\"scatter\"},{\"hoverinfo\":\"text\",\"marker\":{\"color\":\"lightgrey\",\"opacity\":0},\"mode\":\"markers\",\"showlegend\":false,\"text\":[\"tensor(0.5352)\"],\"x\":[2.5],\"y\":[3.9885565042495728],\"type\":\"scatter\"},{\"hoverinfo\":\"text\",\"hoveron\":\"fills\",\"hovertext\":\"tensor(-0.6789)\",\"marker\":{\"color\":\"rgb(105, 105, 105)\",\"opacity\":1},\"showlegend\":false,\"text\":\"tensor(-0.6789)\",\"x\":[2,3],\"y\":[2.6375253200531006,3.4159040451049805],\"type\":\"scatter\"},{\"hoverinfo\":\"text\",\"marker\":{\"color\":\"lightgrey\",\"opacity\":0},\"mode\":\"markers\",\"showlegend\":false,\"text\":[\"tensor(-0.6789)\"],\"x\":[2.5],\"y\":[3.0267146825790405],\"type\":\"scatter\"},{\"hoverinfo\":\"text\",\"hoveron\":\"fills\",\"hovertext\":\"tensor(0.4684)\",\"marker\":{\"color\":\"rgb(204, 204, 204)\",\"opacity\":1},\"showlegend\":false,\"text\":\"tensor(0.4684)\",\"x\":[2,3],\"y\":[2.8851993083953857,3.14890456199646],\"type\":\"scatter\"},{\"hoverinfo\":\"text\",\"marker\":{\"color\":\"lightgrey\",\"opacity\":0},\"mode\":\"markers\",\"showlegend\":false,\"text\":[\"tensor(0.4684)\"],\"x\":[2.5],\"y\":[3.017051935195923],\"type\":\"scatter\"},{\"marker\":{\"opacity\":1},\"mode\":\"markers\",\"showlegend\":false,\"x\":[0,0,0,0,0,0,0,0,0,0,1,1,1,1,1,1,1,1,1,1,1,1,1,1,1,1,1,1,1,1,1,1,1,1,1,1,1,1,1,1,1,1,1,1,1,1,1,1,1,1,1,1,1,1,1,1,1,1,1,1,2,2,2,2,2,2,2,2,2,2,2,2,2,2,2,2,2,2,2,2,2,2,2,2,2,2,2,2,2,2,2,2,2,2,2,2,2,2,2,2,2,2,2,2,2,2,2,2,2,2,3,3,3,3,3,3,3,3,3,3,3,3,3,3,3,3,3,3,3,3,3,3,3,3,3,3,3,3,3,3,3,3,3,3,3,3,3,3,3,3,3,3,3,3,3,3,3,3,3,3,3,3,3,3,3,3,3,3,3,3,3,3,3,3,3,3,3,3,3,3,3,3,3,3,3,3,3,3,3,3,3,3,3,3,3,3,3,3,3,3,3,3,3,3,3,3,3,3,3,3],\"y\":[2.628654956817627,2.4386801719665527,2.284287214279175,2.030905246734619,2.007646322250366,1.7493679523468018,1.6202462911605835,1.5608956813812256,1.4511265754699707,1.1509099006652832,3.3988218307495117,3.0638983249664307,2.925884485244751,2.5901923179626465,2.4514570236206055,2.2928051948547363,2.1535778045654297,1.9853415489196777,1.859775185585022,1.4323781728744507,1.3606553077697754,1.2539026737213135,1.1728538274765015,1.064375877380371,1.0184059143066406,0.9606159925460815,0.9113807082176208,0.8402409553527832,0.7844992876052856,0.750662624835968,0.6798605918884277,0.6435222625732422,0.6230363249778748,0.6176316738128662,0.5751990675926208,0.5364954471588135,0.5001757740974426,0.4937719702720642,0.46748068928718567,0.4205154478549957,0.37983956933021545,0.3581934869289398,0.35175904631614685,0.3297058045864105,0.2971107065677643,0.2877233624458313,0.2606351375579834,0.23182013630867004,0.1949544996023178,0.1847720742225647,0.16902364790439606,0.1600569784641266,0.11417686939239502,0.10234228521585464,0.08581209927797318,0.06263478845357895,0.02058689296245575,0.0004187003942206502,8.848335397715346e-09,2.6651940654431883e-09,3.819406270980835,3.2139148712158203,3.029764413833618,2.8851993083953857,2.7625510692596436,2.6375253200531006,2.4754953384399414,2.415910243988037,2.1083855628967285,1.891752004623413,1.8769545555114746,1.7423430681228638,1.642037272453308,1.5818525552749634,1.5444923639297485,1.3587697744369507,1.3326082229614258,1.2292578220367432,1.1971179246902466,1.0557148456573486,0.976049542427063,0.9304878115653992,0.9136507511138916,0.8381418585777283,0.8313707709312439,0.7820936441421509,0.7563413381576538,0.7207916975021362,0.7079187035560608,0.6665444374084473,0.6607252955436707,0.6422834396362305,0.5803951025009155,0.5447577238082886,0.5068697333335876,0.4967683255672455,0.47570085525512695,0.4507904350757599,0.4370163381099701,0.4103935956954956,0.377119779586792,0.3432748317718506,0.33818790316581726,0.292643666267395,0.28964293003082275,0.2683201730251312,0.2353632152080536,6.126917287474498e-05,1.8143838431683434e-08,6.789466802327427e-20,6.481027126312256,4.1577067375183105,3.933091640472412,3.701925039291382,3.4159040451049805,3.238633632659912,3.14890456199646,3.001821517944336,2.8773353099823,2.7743918895721436,2.7379162311553955,2.6590662002563477,2.453439235687256,2.3881711959838867,2.333707809448242,2.2745070457458496,2.2407078742980957,2.0865800380706787,1.9481667280197144,1.8813470602035522,1.8699817657470703,1.6982113122940063,1.6128640174865723,1.5328749418258667,1.5034641027450562,1.414211630821228,1.4045145511627197,1.340557336807251,1.24904465675354,1.2073297500610352,1.120362401008606,1.1113306283950806,1.0633388757705688,0.9845346808433533,0.9656589031219482,0.9282264709472656,0.9130279421806335,0.86879962682724,0.8086003661155701,0.7877114415168762,0.7741994857788086,0.7468483448028564,0.7190706729888916,0.679916501045227,0.6671895980834961,0.6346267461776733,0.6254400014877319,0.5782462954521179,0.5551578402519226,0.5391104817390442,0.5140631198883057,0.5056736469268799,0.48678264021873474,0.4705747961997986,0.4608762264251709,0.4447733163833618,0.42874258756637573,0.42391180992126465,0.4141377806663513,0.39597392082214355,0.3923368752002716,0.37925317883491516,0.3749430775642395,0.3668924868106842,0.3556109368801117,0.35410404205322266,0.3475981652736664,0.3355284035205841,0.3272092342376709,0.3228914439678192,0.3054348826408386,0.30043837428092957,0.2988490164279938,0.29713526368141174,0.2871512472629547,0.27754896879196167,0.2659152150154114,0.2650132179260254,0.2618209719657898,0.2552952170372009,0.24920554459095,0.2471521645784378,0.241185262799263,0.23392975330352783,0.2287992537021637,0.22181372344493866,0.2127232551574707,0.20772278308868408,0.20297043025493622,0.19356854259967804,0.1924162358045578,0.18302473425865173,0.17768502235412598,0.17294766008853912,3.9657678183036005e-12,1.0008406970625334e-16,7.0730544308547805e-19,1.0151985808899206e-30,2.7211711182637263e-38,2.051083224699317e-38],\"type\":\"scatter\"}],                        {\"template\":{\"data\":{\"bar\":[{\"error_x\":{\"color\":\"#2a3f5f\"},\"error_y\":{\"color\":\"#2a3f5f\"},\"marker\":{\"line\":{\"color\":\"#E5ECF6\",\"width\":0.5},\"pattern\":{\"fillmode\":\"overlay\",\"size\":10,\"solidity\":0.2}},\"type\":\"bar\"}],\"barpolar\":[{\"marker\":{\"line\":{\"color\":\"#E5ECF6\",\"width\":0.5},\"pattern\":{\"fillmode\":\"overlay\",\"size\":10,\"solidity\":0.2}},\"type\":\"barpolar\"}],\"carpet\":[{\"aaxis\":{\"endlinecolor\":\"#2a3f5f\",\"gridcolor\":\"white\",\"linecolor\":\"white\",\"minorgridcolor\":\"white\",\"startlinecolor\":\"#2a3f5f\"},\"baxis\":{\"endlinecolor\":\"#2a3f5f\",\"gridcolor\":\"white\",\"linecolor\":\"white\",\"minorgridcolor\":\"white\",\"startlinecolor\":\"#2a3f5f\"},\"type\":\"carpet\"}],\"choropleth\":[{\"colorbar\":{\"outlinewidth\":0,\"ticks\":\"\"},\"type\":\"choropleth\"}],\"contour\":[{\"colorbar\":{\"outlinewidth\":0,\"ticks\":\"\"},\"colorscale\":[[0.0,\"#0d0887\"],[0.1111111111111111,\"#46039f\"],[0.2222222222222222,\"#7201a8\"],[0.3333333333333333,\"#9c179e\"],[0.4444444444444444,\"#bd3786\"],[0.5555555555555556,\"#d8576b\"],[0.6666666666666666,\"#ed7953\"],[0.7777777777777778,\"#fb9f3a\"],[0.8888888888888888,\"#fdca26\"],[1.0,\"#f0f921\"]],\"type\":\"contour\"}],\"contourcarpet\":[{\"colorbar\":{\"outlinewidth\":0,\"ticks\":\"\"},\"type\":\"contourcarpet\"}],\"heatmap\":[{\"colorbar\":{\"outlinewidth\":0,\"ticks\":\"\"},\"colorscale\":[[0.0,\"#0d0887\"],[0.1111111111111111,\"#46039f\"],[0.2222222222222222,\"#7201a8\"],[0.3333333333333333,\"#9c179e\"],[0.4444444444444444,\"#bd3786\"],[0.5555555555555556,\"#d8576b\"],[0.6666666666666666,\"#ed7953\"],[0.7777777777777778,\"#fb9f3a\"],[0.8888888888888888,\"#fdca26\"],[1.0,\"#f0f921\"]],\"type\":\"heatmap\"}],\"heatmapgl\":[{\"colorbar\":{\"outlinewidth\":0,\"ticks\":\"\"},\"colorscale\":[[0.0,\"#0d0887\"],[0.1111111111111111,\"#46039f\"],[0.2222222222222222,\"#7201a8\"],[0.3333333333333333,\"#9c179e\"],[0.4444444444444444,\"#bd3786\"],[0.5555555555555556,\"#d8576b\"],[0.6666666666666666,\"#ed7953\"],[0.7777777777777778,\"#fb9f3a\"],[0.8888888888888888,\"#fdca26\"],[1.0,\"#f0f921\"]],\"type\":\"heatmapgl\"}],\"histogram\":[{\"marker\":{\"pattern\":{\"fillmode\":\"overlay\",\"size\":10,\"solidity\":0.2}},\"type\":\"histogram\"}],\"histogram2d\":[{\"colorbar\":{\"outlinewidth\":0,\"ticks\":\"\"},\"colorscale\":[[0.0,\"#0d0887\"],[0.1111111111111111,\"#46039f\"],[0.2222222222222222,\"#7201a8\"],[0.3333333333333333,\"#9c179e\"],[0.4444444444444444,\"#bd3786\"],[0.5555555555555556,\"#d8576b\"],[0.6666666666666666,\"#ed7953\"],[0.7777777777777778,\"#fb9f3a\"],[0.8888888888888888,\"#fdca26\"],[1.0,\"#f0f921\"]],\"type\":\"histogram2d\"}],\"histogram2dcontour\":[{\"colorbar\":{\"outlinewidth\":0,\"ticks\":\"\"},\"colorscale\":[[0.0,\"#0d0887\"],[0.1111111111111111,\"#46039f\"],[0.2222222222222222,\"#7201a8\"],[0.3333333333333333,\"#9c179e\"],[0.4444444444444444,\"#bd3786\"],[0.5555555555555556,\"#d8576b\"],[0.6666666666666666,\"#ed7953\"],[0.7777777777777778,\"#fb9f3a\"],[0.8888888888888888,\"#fdca26\"],[1.0,\"#f0f921\"]],\"type\":\"histogram2dcontour\"}],\"mesh3d\":[{\"colorbar\":{\"outlinewidth\":0,\"ticks\":\"\"},\"type\":\"mesh3d\"}],\"parcoords\":[{\"line\":{\"colorbar\":{\"outlinewidth\":0,\"ticks\":\"\"}},\"type\":\"parcoords\"}],\"pie\":[{\"automargin\":true,\"type\":\"pie\"}],\"scatter\":[{\"marker\":{\"colorbar\":{\"outlinewidth\":0,\"ticks\":\"\"}},\"type\":\"scatter\"}],\"scatter3d\":[{\"line\":{\"colorbar\":{\"outlinewidth\":0,\"ticks\":\"\"}},\"marker\":{\"colorbar\":{\"outlinewidth\":0,\"ticks\":\"\"}},\"type\":\"scatter3d\"}],\"scattercarpet\":[{\"marker\":{\"colorbar\":{\"outlinewidth\":0,\"ticks\":\"\"}},\"type\":\"scattercarpet\"}],\"scattergeo\":[{\"marker\":{\"colorbar\":{\"outlinewidth\":0,\"ticks\":\"\"}},\"type\":\"scattergeo\"}],\"scattergl\":[{\"marker\":{\"colorbar\":{\"outlinewidth\":0,\"ticks\":\"\"}},\"type\":\"scattergl\"}],\"scattermapbox\":[{\"marker\":{\"colorbar\":{\"outlinewidth\":0,\"ticks\":\"\"}},\"type\":\"scattermapbox\"}],\"scatterpolar\":[{\"marker\":{\"colorbar\":{\"outlinewidth\":0,\"ticks\":\"\"}},\"type\":\"scatterpolar\"}],\"scatterpolargl\":[{\"marker\":{\"colorbar\":{\"outlinewidth\":0,\"ticks\":\"\"}},\"type\":\"scatterpolargl\"}],\"scatterternary\":[{\"marker\":{\"colorbar\":{\"outlinewidth\":0,\"ticks\":\"\"}},\"type\":\"scatterternary\"}],\"surface\":[{\"colorbar\":{\"outlinewidth\":0,\"ticks\":\"\"},\"colorscale\":[[0.0,\"#0d0887\"],[0.1111111111111111,\"#46039f\"],[0.2222222222222222,\"#7201a8\"],[0.3333333333333333,\"#9c179e\"],[0.4444444444444444,\"#bd3786\"],[0.5555555555555556,\"#d8576b\"],[0.6666666666666666,\"#ed7953\"],[0.7777777777777778,\"#fb9f3a\"],[0.8888888888888888,\"#fdca26\"],[1.0,\"#f0f921\"]],\"type\":\"surface\"}],\"table\":[{\"cells\":{\"fill\":{\"color\":\"#EBF0F8\"},\"line\":{\"color\":\"white\"}},\"header\":{\"fill\":{\"color\":\"#C8D4E3\"},\"line\":{\"color\":\"white\"}},\"type\":\"table\"}]},\"layout\":{\"annotationdefaults\":{\"arrowcolor\":\"#2a3f5f\",\"arrowhead\":0,\"arrowwidth\":1},\"autotypenumbers\":\"strict\",\"coloraxis\":{\"colorbar\":{\"outlinewidth\":0,\"ticks\":\"\"}},\"colorscale\":{\"diverging\":[[0,\"#8e0152\"],[0.1,\"#c51b7d\"],[0.2,\"#de77ae\"],[0.3,\"#f1b6da\"],[0.4,\"#fde0ef\"],[0.5,\"#f7f7f7\"],[0.6,\"#e6f5d0\"],[0.7,\"#b8e186\"],[0.8,\"#7fbc41\"],[0.9,\"#4d9221\"],[1,\"#276419\"]],\"sequential\":[[0.0,\"#0d0887\"],[0.1111111111111111,\"#46039f\"],[0.2222222222222222,\"#7201a8\"],[0.3333333333333333,\"#9c179e\"],[0.4444444444444444,\"#bd3786\"],[0.5555555555555556,\"#d8576b\"],[0.6666666666666666,\"#ed7953\"],[0.7777777777777778,\"#fb9f3a\"],[0.8888888888888888,\"#fdca26\"],[1.0,\"#f0f921\"]],\"sequentialminus\":[[0.0,\"#0d0887\"],[0.1111111111111111,\"#46039f\"],[0.2222222222222222,\"#7201a8\"],[0.3333333333333333,\"#9c179e\"],[0.4444444444444444,\"#bd3786\"],[0.5555555555555556,\"#d8576b\"],[0.6666666666666666,\"#ed7953\"],[0.7777777777777778,\"#fb9f3a\"],[0.8888888888888888,\"#fdca26\"],[1.0,\"#f0f921\"]]},\"colorway\":[\"#636efa\",\"#EF553B\",\"#00cc96\",\"#ab63fa\",\"#FFA15A\",\"#19d3f3\",\"#FF6692\",\"#B6E880\",\"#FF97FF\",\"#FECB52\"],\"font\":{\"color\":\"#2a3f5f\"},\"geo\":{\"bgcolor\":\"white\",\"lakecolor\":\"white\",\"landcolor\":\"#E5ECF6\",\"showlakes\":true,\"showland\":true,\"subunitcolor\":\"white\"},\"hoverlabel\":{\"align\":\"left\"},\"hovermode\":\"closest\",\"mapbox\":{\"style\":\"light\"},\"paper_bgcolor\":\"white\",\"plot_bgcolor\":\"#E5ECF6\",\"polar\":{\"angularaxis\":{\"gridcolor\":\"white\",\"linecolor\":\"white\",\"ticks\":\"\"},\"bgcolor\":\"#E5ECF6\",\"radialaxis\":{\"gridcolor\":\"white\",\"linecolor\":\"white\",\"ticks\":\"\"}},\"scene\":{\"xaxis\":{\"backgroundcolor\":\"#E5ECF6\",\"gridcolor\":\"white\",\"gridwidth\":2,\"linecolor\":\"white\",\"showbackground\":true,\"ticks\":\"\",\"zerolinecolor\":\"white\"},\"yaxis\":{\"backgroundcolor\":\"#E5ECF6\",\"gridcolor\":\"white\",\"gridwidth\":2,\"linecolor\":\"white\",\"showbackground\":true,\"ticks\":\"\",\"zerolinecolor\":\"white\"},\"zaxis\":{\"backgroundcolor\":\"#E5ECF6\",\"gridcolor\":\"white\",\"gridwidth\":2,\"linecolor\":\"white\",\"showbackground\":true,\"ticks\":\"\",\"zerolinecolor\":\"white\"}},\"shapedefaults\":{\"line\":{\"color\":\"#2a3f5f\"}},\"ternary\":{\"aaxis\":{\"gridcolor\":\"white\",\"linecolor\":\"white\",\"ticks\":\"\"},\"baxis\":{\"gridcolor\":\"white\",\"linecolor\":\"white\",\"ticks\":\"\"},\"bgcolor\":\"#E5ECF6\",\"caxis\":{\"gridcolor\":\"white\",\"linecolor\":\"white\",\"ticks\":\"\"}},\"title\":{\"x\":0.05},\"xaxis\":{\"automargin\":true,\"gridcolor\":\"white\",\"linecolor\":\"white\",\"ticks\":\"\",\"title\":{\"standoff\":15},\"zerolinecolor\":\"white\",\"zerolinewidth\":2},\"yaxis\":{\"automargin\":true,\"gridcolor\":\"white\",\"linecolor\":\"white\",\"ticks\":\"\",\"title\":{\"standoff\":15},\"zerolinecolor\":\"white\",\"zerolinewidth\":2}}},\"xaxis\":{\"anchor\":\"y\",\"domain\":[0.0,1.0],\"title\":{\"text\":\"index\"}},\"yaxis\":{\"anchor\":\"x\",\"domain\":[0.0,1.0],\"title\":{\"text\":\"value\"}},\"legend\":{\"tracegroupgap\":0},\"margin\":{\"t\":60}},                        {\"responsive\": true}                    ).then(function(){\n",
       "                            \n",
       "var gd = document.getElementById('48f55eb5-3c7f-4462-b16b-4dcb86ae423f');\n",
       "var x = new MutationObserver(function (mutations, observer) {{\n",
       "        var display = window.getComputedStyle(gd).display;\n",
       "        if (!display || display === 'none') {{\n",
       "            console.log([gd, 'removed!']);\n",
       "            Plotly.purge(gd);\n",
       "            observer.disconnect();\n",
       "        }}\n",
       "}});\n",
       "\n",
       "// Listen for the removal of the full notebook cells\n",
       "var notebookContainer = gd.closest('#notebook-container');\n",
       "if (notebookContainer) {{\n",
       "    x.observe(notebookContainer, {childList: true});\n",
       "}}\n",
       "\n",
       "// Listen for the clearing of the current output cell\n",
       "var outputEl = gd.closest('.output');\n",
       "if (outputEl) {{\n",
       "    x.observe(outputEl, {childList: true});\n",
       "}}\n",
       "\n",
       "                        })                };                });            </script>        </div>"
      ]
     },
     "metadata": {},
     "output_type": "display_data"
    }
   ],
   "source": [
    "attached_weights = list(model.back_linears.parameters())\n",
    "detached_weights = [w.detach() for w in attached_weights]\n",
    "U,S,V=mode_transform(detached_weights)"
   ]
  },
  {
   "cell_type": "code",
   "execution_count": 107,
   "id": "b97496d2",
   "metadata": {},
   "outputs": [
    {
     "data": {
      "image/png": "[encoded data removed]",
      "text/plain": [
       "<Figure size 432x288 with 1 Axes>"
      ]
     },
     "metadata": {
      "needs_background": "light"
     },
     "output_type": "display_data"
    }
   ],
   "source": [
    "print28x28tensor(U[-1][:,0])"
   ]
  },
  {
   "cell_type": "markdown",
   "id": "8d104555",
   "metadata": {},
   "source": [
    "# Attacks on double model "
   ]
  },
  {
   "cell_type": "code",
   "execution_count": 137,
   "id": "ea38944c",
   "metadata": {},
   "outputs": [],
   "source": [
    "class DoubleReflexiveModel(nn.Module):\n",
    "    def __init__(self, model):\n",
    "        super(DoubleReflexiveModel, self).__init__()\n",
    "        assert(isinstance(model,ReflexiveModel))\n",
    "        self.model = model \n",
    "        \n",
    "    def forward(self, x):\n",
    "        x = self.model(x)\n",
    "        x = self.model.decoder(x)\n",
    "        x = self.model(x)\n",
    "        return x\n",
    "\n",
    "double_model = DoubleReflexiveModel(model)"
   ]
  },
  {
   "cell_type": "code",
   "execution_count": 140,
   "id": "f593ecc9",
   "metadata": {},
   "outputs": [
    {
     "data": {
      "text/plain": [
       "5"
      ]
     },
     "execution_count": 140,
     "metadata": {},
     "output_type": "execute_result"
    }
   ],
   "source": [
    "n_batch"
   ]
  },
  {
   "cell_type": "code",
   "execution_count": 138,
   "id": "3d6eb2ef",
   "metadata": {
    "scrolled": false
   },
   "outputs": [
    {
     "name": "stderr",
     "output_type": "stream",
     "text": [
      "  1%|▌                                        | 4/313 [06:33<8:26:59, 98.44s/it]\n"
     ]
    }
   ],
   "source": [
    "source=attack(double_model)"
   ]
  },
  {
   "cell_type": "code",
   "execution_count": 161,
   "id": "e3079bc6",
   "metadata": {},
   "outputs": [
    {
     "name": "stdout",
     "output_type": "stream",
     "text": [
      "------ Accuracy under different attacks  ------\n",
      "Normal  :  90.0  %\n",
      "FGM  :  25.0  %\n",
      "FGM Noise  :  87.5  %\n",
      "CW  :  0.625  %\n",
      "CW Noise  :  90.0  %\n",
      "DeepFool  :  0.0  %\n",
      "DeepFool Noise  :  90.0  %\n"
     ]
    }
   ],
   "source": [
    "print(6*'-',\"Accuracy of double model under different attacks \",6*'-')\n",
    "for alter,name in enumerate(['Normal', 'FGM', 'FGM Noise', 'CW' , 'CW Noise','DeepFool','DeepFool Noise']):\n",
    "    print(name, ' : ',(label.to(DEVICE)==double_model(source[alter].to(DEVICE)).argmax(dim=1)).sum().item()/len(label)*100,' %')"
   ]
  },
  {
   "cell_type": "markdown",
   "id": "f9f236a3",
   "metadata": {},
   "source": [
    "# MSE loss along iterations"
   ]
  },
  {
   "cell_type": "code",
   "execution_count": 193,
   "id": "e511edf8",
   "metadata": {},
   "outputs": [
    {
     "data": {
      "image/png": "[encoded data removed]",
      "text/plain": [
       "<Figure size 432x288 with 1 Axes>"
      ]
     },
     "metadata": {
      "needs_background": "light"
     },
     "output_type": "display_data"
    }
   ],
   "source": [
    "idx = 35\n",
    "alters=[(0,'normal'),(3,'carlini')]\n",
    "it = 10\n",
    "model.eval()\n",
    "for conf in alters:\n",
    "    losses = []\n",
    "    data = source[conf[0],idx].to(DEVICE) \n",
    "    output = data\n",
    "    for _ in range(it):\n",
    "        code = model(output)\n",
    "        output = model.decoder(code)\n",
    "        losses.append(loss_reconst(output,data).item())\n",
    "    plt.plot(losses,label=conf[1])\n",
    "plt.legend()\n",
    "plt.title('MSE Loss along iterations')\n",
    "plt.show()"
   ]
  }
 ],
 "metadata": {
  "kernelspec": {
   "display_name": "Python 3 (ipykernel)",
   "language": "python",
   "name": "python3"
  },
  "language_info": {
   "codemirror_mode": {
    "name": "ipython",
    "version": 3
   },
   "file_extension": ".py",
   "mimetype": "text/x-python",
   "name": "python",
   "nbconvert_exporter": "python",
   "pygments_lexer": "ipython3",
   "version": "3.9.12"
  }
 },
 "nbformat": 4,
 "nbformat_minor": 5
}
