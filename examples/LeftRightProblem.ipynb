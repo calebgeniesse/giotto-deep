{
 "cells": [
  {
   "cell_type": "code",
   "execution_count": 1,
   "id": "88506a01",
   "metadata": {
    "scrolled": true
   },
   "outputs": [
    {
     "name": "stdout",
     "output_type": "stream",
     "text": [
      "Using GPU!\n",
      "Using GPU!\n",
      "Using GPU!\n",
      "No TPUs...\n",
      "\u001b[33mDEPRECATION: Configuring installation scheme with distutils config files is deprecated and will no longer work in the near future. If you are using a Homebrew or Linuxbrew Python, please see discussion at https://github.com/Homebrew/homebrew-core/issues/76621\u001b[0m\u001b[33m\n",
      "\u001b[0mRequirement already satisfied: xitorch in /home/linuxbrew/.linuxbrew/lib/python3.9/site-packages (0.3.0)\n",
      "Requirement already satisfied: numpy>=1.8.2 in /home/linuxbrew/.linuxbrew/lib/python3.9/site-packages (from xitorch) (1.21.6)\n",
      "Requirement already satisfied: torch>=1.8 in /home/linuxbrew/.linuxbrew/lib/python3.9/site-packages (from xitorch) (1.11.0)\n",
      "Requirement already satisfied: scipy>=1.1.0 in /home/linuxbrew/.linuxbrew/lib/python3.9/site-packages (from xitorch) (1.8.0)\n",
      "Requirement already satisfied: typing-extensions in /home/linuxbrew/.linuxbrew/lib/python3.9/site-packages (from torch>=1.8->xitorch) (4.1.1)\n",
      "\u001b[33mDEPRECATION: Configuring installation scheme with distutils config files is deprecated and will no longer work in the near future. If you are using a Homebrew or Linuxbrew Python, please see discussion at https://github.com/Homebrew/homebrew-core/issues/76621\u001b[0m\u001b[33m\n",
      "\u001b[0m\u001b[33mWARNING: You are using pip version 22.0.4; however, version 22.1 is available.\n",
      "You should consider upgrading via the '/home/linuxbrew/.linuxbrew/opt/python@3.9/bin/python3.9 -m pip install --upgrade pip' command.\u001b[0m\u001b[33m\n",
      "\u001b[0mUsing GPU!\n"
     ]
    }
   ],
   "source": [
    "from gdeep.topactivation import TopactivationFC as TFC\n",
    "from gdeep.pipeline import Pipeline\n",
    "from torch.utils.tensorboard import SummaryWriter\n",
    "\n",
    "from gdeep.models import FFNet\n",
    "from torch import nn\n",
    "import torch\n",
    "from gdeep.data import TorchDataLoader\n",
    "from tqdm import tqdm \n",
    "\n",
    "!pip3 install xitorch\n",
    "from gdeep.models import ModelExtractor\n",
    "from gdeep.topactivation.spectral_analysisTorch import LaplacianOperator\n",
    "import matplotlib.pyplot as plt \n",
    "\n",
    "if torch.cuda.is_available():\n",
    "    DEVICE = torch.device(\"cuda\")\n",
    "    print(\"Using GPU!\")\n",
    "else:\n",
    "    DEVICE = torch.device(\"cpu\")\n",
    "\n",
    "\n",
    "def print28x28tensor(tensor):\n",
    "    img=tensor.to('cpu')\n",
    "    pixels = img.reshape((28,28))\n",
    "    plt.imshow(pixels,cmap='gray')\n",
    "    \n",
    "    \n"
   ]
  },
  {
   "cell_type": "code",
   "execution_count": 141,
   "id": "f5e5980c",
   "metadata": {},
   "outputs": [
    {
     "data": {
      "image/png": "[encoded data removed]",
      "text/plain": [
       "<Figure size 432x288 with 1 Axes>"
      ]
     },
     "metadata": {
      "needs_background": "light"
     },
     "output_type": "display_data"
    }
   ],
   "source": [
    "# Generating the dataset \n",
    "dl = TorchDataLoader(name=\"MNIST\")\n",
    "dl_tr, dl_ts = dl.build_dataloaders(batch_size=32)\n",
    "\n",
    "\n",
    "p = 0.7\n",
    "q = 0.3\n",
    "\n",
    "std = torch.ones(1,28,28)/2\n",
    "\n",
    "patternLeft = torch.zeros((1,28,28))\n",
    "patternLeft[0,:,:14] = p \n",
    "patternLeft[0,:,14:] = q\n",
    "patternRight = torch.flip(patternLeft,[2])\n",
    "\n",
    "# Adversarial space\n",
    "std[0,1:-1,1:-1]=0\n",
    "patternRight[0,1:-1,1:-1]=1\n",
    "patternLeft[0,1:-1,1:-1]=1\n",
    "\n",
    "\n",
    "batch_size = 32 \n",
    "n_batch = 100 \n",
    "X = torch.zeros(batch_size*n_batch,1,28,28)\n",
    "label = torch.zeros(batch_size*n_batch,dtype=int)\n",
    "for idx in range(batch_size*n_batch):\n",
    "    side = int(torch.bernoulli(torch.tensor([0.5])).item())\n",
    "    label[idx] = side\n",
    "    if side > 0.5:\n",
    "        X[idx]=torch.bernoulli(patternRight)\n",
    "    else:\n",
    "        X[idx]=torch.bernoulli(patternLeft)\n",
    "        \n",
    "print28x28tensor(X[4])"
   ]
  },
  {
   "cell_type": "code",
   "execution_count": 155,
   "id": "caf88071",
   "metadata": {},
   "outputs": [
    {
     "data": {
      "image/png": "[encoded data removed]",
      "text/plain": [
       "<Figure size 432x288 with 1 Axes>"
      ]
     },
     "metadata": {
      "needs_background": "light"
     },
     "output_type": "display_data"
    }
   ],
   "source": [
    "# Generating the continuous dataset \n",
    "dl = TorchDataLoader(name=\"MNIST\")\n",
    "dl_tr, dl_ts = dl.build_dataloaders(batch_size=32)\n",
    "\n",
    "\n",
    "mask = torch.ones(1,28,28)\n",
    "mask[0,1:-1,1:-1]= 0\n",
    "left = False*torch.zeros((1,28,28),dtype=bool)\n",
    "left[0,:,:14]=True\n",
    "\n",
    "squeeze = 4\n",
    "\n",
    "batch_size = 32 \n",
    "n_batch = 100 \n",
    "X = torch.zeros(batch_size*n_batch,1,28,28)\n",
    "label = torch.zeros(batch_size*n_batch,dtype=int)\n",
    "for idx in range(batch_size*n_batch):\n",
    "    side = int(torch.bernoulli(torch.tensor([0.5])).item())\n",
    "    label[idx] = side\n",
    "    if side > 0.5:\n",
    "        sideMask = left \n",
    "        \n",
    "    else:\n",
    "        sideMask= torch.logical_not(left)\n",
    "        \n",
    "    X[idx]=torch.rand((1,28,28))*mask\n",
    "    \n",
    "    X[idx][sideMask]=(X[idx][sideMask])**(1/squeeze)\n",
    "    nsideMask = torch.logical_not(sideMask)\n",
    "    X[idx][nsideMask]=1-(1-X[idx][nsideMask])**(1/squeeze)\n",
    "print28x28tensor(X[4])"
   ]
  },
  {
   "cell_type": "code",
   "execution_count": 156,
   "id": "80e5901e",
   "metadata": {},
   "outputs": [],
   "source": [
    "\n",
    "import pandas as pd \n",
    "import plotly.express as px\n",
    "import plotly.graph_objects as go\n",
    "import numpy as np \n",
    "import os \n",
    "\n",
    "\n",
    "def mode_transform_save(weights,name,nodeColor='blue',sigmaThreshold=3):\n",
    "    S = []\n",
    "    V = []\n",
    "    U = []\n",
    "    K = []\n",
    "    for layer in weights:\n",
    "        u,s,v= torch.svd(layer)\n",
    "        U.append(u.to('cpu'))\n",
    "        S.append(s.to('cpu'))\n",
    "        V.append(v.to('cpu'))\n",
    "\n",
    "    adjacency = [V[i+1].T@U[i] for i in range(len(V)-1)]\n",
    "\n",
    "\n",
    "\n",
    "    def y_scale(x):\n",
    "        return x \n",
    "        return (x-0.4)**0.2\n",
    "\n",
    "    df = pd.DataFrame({})\n",
    "    fig = px.scatter(df)\n",
    "\n",
    "\n",
    "    #Edges  \n",
    "    for k in range(len(adjacency)):\n",
    "        E2=torch.abs(adjacency[k])\n",
    "        for i in range(E2.shape[0]):\n",
    "            for j in range(E2.shape[1]):\n",
    "                Emin = sigmaThreshold*1/np.sqrt(arch[k+1]) # 3 sigma away from the random uniform baseline \n",
    "                if E2[i,j]>Emin:\n",
    "                    edge = pd.DataFrame({\"x\" : [k,k+1],\"y\": [y_scale(S[k][j]).item(),y_scale(S[k+1][i]).item()]})\n",
    "                    #figEdge = go.scatter.Line(x=[k,k+1],y=[y_scale(S[k][j]),y_scale(S[k+1][i])],fillcolor='grey')\n",
    "\n",
    "                    #fig.add_trace(figEdge)\n",
    "                    coeff = 1-(E2[i,j]-Emin)/(E2.max()-Emin) # A mieux faire \n",
    "                    color = coeff.item()*np.array([120,120,120])+np.array([105,105,105])\n",
    "                    r,g,b=int(color[0]),int(color[1]),int(color[2])\n",
    "                    color = \"rgb\"+str((r,g,b))\n",
    "                    fig.add_scatter(x=edge[\"x\"],y=edge[\"y\"],marker={\"color\":color,\"opacity\":1},hovertext=str(adjacency[k][i,j])\n",
    "                                   ,hoveron=\"fills\",hoverinfo=\"text\",text=str(adjacency[k][i,j]),showlegend=False ) \n",
    "\n",
    "                    middle_node_trace = go.Scatter(\n",
    "                        x=[np.array(edge[\"x\"]).mean()],\n",
    "                        y=[np.array(edge[\"y\"]).mean()],\n",
    "                        text=[str(adjacency[k][i,j])],\n",
    "                        mode='markers',\n",
    "                        hoverinfo='text',\n",
    "                        showlegend=False,\n",
    "                        marker=go.scatter.Marker(\n",
    "                            opacity=0,\n",
    "                            color='lightgrey'\n",
    "                        )\n",
    "                    )\n",
    "\n",
    "                    fig.add_trace(middle_node_trace)\n",
    "\n",
    "\n",
    "\n",
    "\n",
    "    base=0\n",
    "    for i in range (len(S)):\n",
    "        layer_i = pd.DataFrame({'x' : len(S[i])*[i], 'y': y_scale(S[i])})\n",
    "        df = pd.concat([df,layer_i])\n",
    "        base+=len(S[i])\n",
    "\n",
    "\n",
    "    #fig.add_scatter(x=df[\"x\"], y=df[\"y\"])           \n",
    "    node_trace = go.Scatter(\n",
    "        x=df[\"x\"],\n",
    "        y=df[\"y\"],\n",
    "        mode='markers',\n",
    "        showlegend=False,\n",
    "        marker=go.scatter.Marker(\n",
    "            opacity=1,\n",
    "            color = nodeColor\n",
    "        ))\n",
    "\n",
    "    fig.add_trace(node_trace)\n",
    "\n",
    "    #fig.show()\n",
    "    fig.write_image(\"record/\"+name+'.png')\n",
    "    return U,S,V\n",
    "\n",
    "\n",
    "def mode_transform(weights,sigmaThreshold=3):\n",
    "    S = []\n",
    "    V = []\n",
    "    U = []\n",
    "    K = []\n",
    "    for layer in weights:\n",
    "        u,s,v= torch.svd(layer)\n",
    "        U.append(u.to('cpu'))\n",
    "        S.append(s.to('cpu'))\n",
    "        V.append(v.to('cpu'))\n",
    "\n",
    "    adjacency = [V[i+1].T@U[i] for i in range(len(arch)-2)]\n",
    "\n",
    "\n",
    "\n",
    "    def y_scale(x):\n",
    "        return x \n",
    "        return (x-0.4)**0.2\n",
    "\n",
    "    df = pd.DataFrame({})\n",
    "    fig = px.scatter(df)\n",
    "\n",
    "\n",
    "    #Edges  \n",
    "    for k in range(len(adjacency)):\n",
    "        E2=torch.abs(adjacency[k])\n",
    "        for i in range(E2.shape[0]):\n",
    "            for j in range(E2.shape[1]):\n",
    "                Emin = sigmaThreshold*1/np.sqrt(arch[k+1]) # 3 sigma away from the random uniform baseline \n",
    "                if E2[i,j]>Emin:\n",
    "                    edge = pd.DataFrame({\"x\" : [k,k+1],\"y\": [y_scale(S[k][j]).item(),y_scale(S[k+1][i]).item()]})\n",
    "                    #figEdge = go.scatter.Line(x=[k,k+1],y=[y_scale(S[k][j]),y_scale(S[k+1][i])],fillcolor='grey')\n",
    "\n",
    "                    #fig.add_trace(figEdge)\n",
    "                    coeff = 1-(E2[i,j]-Emin)/(E2.max()-Emin) # A mieux faire \n",
    "                    color = coeff.item()*np.array([120,120,120])+np.array([105,105,105])\n",
    "                    r,g,b=int(color[0]),int(color[1]),int(color[2])\n",
    "                    color = \"rgb\"+str((r,g,b))\n",
    "                    fig.add_scatter(x=edge[\"x\"],y=edge[\"y\"],marker={\"color\":color,\"opacity\":1},hovertext=str(adjacency[k][i,j])\n",
    "                                   ,hoveron=\"fills\",hoverinfo=\"text\",text=str(adjacency[k][i,j]),showlegend=False ) \n",
    "\n",
    "                    middle_node_trace = go.Scatter(\n",
    "                        x=[np.array(edge[\"x\"]).mean()],\n",
    "                        y=[np.array(edge[\"y\"]).mean()],\n",
    "                        text=[str(adjacency[k][i,j])],\n",
    "                        mode='markers',\n",
    "                        hoverinfo='text',\n",
    "                        showlegend=False,\n",
    "                        marker=go.scatter.Marker(\n",
    "                            opacity=0,\n",
    "                            color='lightgrey'\n",
    "                        )\n",
    "                    )\n",
    "\n",
    "                    fig.add_trace(middle_node_trace)\n",
    "\n",
    "\n",
    "\n",
    "\n",
    "    base=0\n",
    "    for i in range (len(S)):\n",
    "        layer_i = pd.DataFrame({'x' : len(S[i])*[i], 'y': y_scale(S[i])})\n",
    "        df = pd.concat([df,layer_i])\n",
    "        base+=len(S[i])\n",
    "\n",
    "\n",
    "    #fig.add_scatter(x=df[\"x\"], y=df[\"y\"])           \n",
    "    node_trace = go.Scatter(\n",
    "        x=df[\"x\"],\n",
    "        y=df[\"y\"],\n",
    "        mode='markers',\n",
    "        showlegend=False,\n",
    "        marker=go.scatter.Marker(\n",
    "            opacity=1,\n",
    "        ))\n",
    "\n",
    "    fig.add_trace(node_trace)\n",
    "\n",
    "    fig.show()\n",
    "    return U,S,V\n"
   ]
  },
  {
   "cell_type": "code",
   "execution_count": 362,
   "id": "dc87623b",
   "metadata": {},
   "outputs": [],
   "source": [
    "#from gdeep.data import DataLoaderFromArray -> Useless \n",
    "\n",
    "\n",
    "from foolbox import PyTorchModel\n",
    "from foolbox.attacks import L2FastGradientAttack\n",
    "atkFGM = L2FastGradientAttack()\n",
    "\n",
    "def H(x):\n",
    "    y = torch.abs(x)\n",
    "    return -(y*torch.log(y)).sum()\n",
    "\n",
    "def train_record_new_model(model,X,y,folder,epochs=5,epochs_adv=[]):\n",
    "        \n",
    "    Ntest = 32*30\n",
    "    perm = torch.randperm(len(X))\n",
    "    batch_size=32\n",
    "\n",
    "\n",
    "    X_train = X[perm[Ntest:]]\n",
    "    y_train = y[perm[Ntest:]].type(torch.LongTensor)\n",
    "    X_val = X[perm[:Ntest]]\n",
    "    y_val = y[perm[:Ntest]].type(torch.LongTensor)\n",
    "\n",
    "\n",
    "    #model = nn.Sequential(nn.Flatten(), FFNet(arch,bias=False )).to(DEVICE)\n",
    "    optimizer = torch.optim.SGD(model.parameters(),lr=0.1)\n",
    "    #optimizer = torch.optim.Adam(model.parameters())\n",
    "    loss_fn = nn.CrossEntropyLoss()\n",
    "    \n",
    "    atkFGM = L2FastGradientAttack()\n",
    "    epsilons=[2.0]\n",
    "    \n",
    "    if not os.path.exists('record/'+folder):\n",
    "        os.mkdir('record/'+folder)\n",
    "        \n",
    "        \n",
    "    n_batch = len(X_train)//batch_size\n",
    "    print(\"Number of batch per epoch : \",n_batch)\n",
    "    L1 = torch.zeros((n_batch*epochs,len(arch)-2))\n",
    "    Entropy = torch.zeros((n_batch*epochs,len(arch)-2))\n",
    "    \n",
    "    for epoch in range(epochs):\n",
    "        correct_pred = 0\n",
    "        total_pred = 0\n",
    "        model.train()\n",
    "        for batch_idx in tqdm(range(n_batch)):\n",
    "            if X_train.shape[0]==784:\n",
    "                data = X_train[batch_idx*batch_size:(batch_idx+1)*batch_size].reshape(batch_size,1,28,28).to(DEVICE)\n",
    "            else: \n",
    "                data = X_train[batch_idx*batch_size:(batch_idx+1)*batch_size].to(DEVICE)\n",
    "            \n",
    "            target = y_train[batch_idx*batch_size:(batch_idx+1)*batch_size].to(DEVICE)\n",
    "\n",
    "            weights = [A.detach() for A in list(model.parameters())]\n",
    "            name = folder+'/'+str(epoch)+'_'+str(batch_idx)\n",
    "            \n",
    "            if epoch in epochs_adv:\n",
    "                U,S,V = mode_transform_save(weights,name,nodeColor='red')\n",
    "                fmodel = PyTorchModel(model, bounds=(0, 1), preprocessing=None)\n",
    "                _,clipped_atk,_ = atkFGM(fmodel, data.to(DEVICE), target.to(DEVICE),epsilons=epsilons)\n",
    "                data=clipped_atk[0]\n",
    "            else:\n",
    "                U,S,V = mode_transform_save(weights,name)\n",
    "            \n",
    "            \n",
    "            L1[epoch*n_batch+batch_idx]= torch.tensor([(V[i+1].T@U[i]).norm(1) for i in range(len(V)-1)])\n",
    "            Entropy[epoch*n_batch+batch_idx]= torch.tensor([H(V[i+1].T@U[i]) for i in range(len(V)-1)])\n",
    "            \n",
    "            optimizer.zero_grad()\n",
    "            output = model(data)\n",
    "            \n",
    "            loss = loss_fn(output, target)\n",
    "            \n",
    "            loss.backward()\n",
    "            optimizer.step()\n",
    "\n",
    "            correct_pred+=(output.argmax(dim=1)==target).sum().item()\n",
    "            total_pred += data.shape[0]\n",
    "        print(15*'-'+' ', 'Epoch : ', epoch, ' ' + 15*'-')\n",
    "        print('Train Accuracy : ',correct_pred/total_pred*100, ' %')\n",
    "        model.eval()\n",
    "        correct_pred = 0\n",
    "        total_pred = 0\n",
    "        for batch_idx in range(len(X_val)//batch_size):\n",
    "            if X_val.shape[1]==784:\n",
    "                data = X_val[batch_idx*batch_size:(batch_idx+1)*batch_size].reshape(batch_size,1,28,28).to(DEVICE)\n",
    "            else: \n",
    "                data = X_val[batch_idx*batch_size:(batch_idx+1)*batch_size].to(DEVICE)\n",
    "            target = y_val[batch_idx*batch_size:(batch_idx+1)*batch_size].to(DEVICE)\n",
    "\n",
    "            output = model(data)\n",
    "\n",
    "\n",
    "            correct_pred+=(output.argmax(dim=1)==target).sum().item()\n",
    "            total_pred += data.shape[0]\n",
    "\n",
    "        print('Test Accuracy : ',correct_pred/total_pred*100, ' %') \n",
    "    return model,L1,Entropy "
   ]
  },
  {
   "cell_type": "code",
   "execution_count": 158,
   "id": "ebdfc8b4",
   "metadata": {},
   "outputs": [
    {
     "name": "stdout",
     "output_type": "stream",
     "text": [
      "Number of batch per epoch :  70\n"
     ]
    },
    {
     "name": "stderr",
     "output_type": "stream",
     "text": [
      "100%|███████████████████████████████████████████| 70/70 [00:13<00:00,  5.03it/s]\n"
     ]
    },
    {
     "name": "stdout",
     "output_type": "stream",
     "text": [
      "---------------  Epoch :  0  ---------------\n",
      "Train Accuracy :  94.19642857142857  %\n",
      "Test Accuracy :  100.0  %\n"
     ]
    }
   ],
   "source": [
    "# Training the model \n",
    "arch = [28*28,50,50,50,2]\n",
    "m = nn.Sequential(nn.Flatten(), FFNet(arch,bias=False )).to(DEVICE)\n",
    "m,L1,Entropy= train_record_new_model(m,X,label,'LR1',epochs=1,epochs_adv=[])\n",
    "\n",
    "weights_m = [A.detach().to('cpu') for A in m.parameters()]"
   ]
  },
  {
   "cell_type": "code",
   "execution_count": 171,
   "id": "f030df6c",
   "metadata": {},
   "outputs": [
    {
     "data": {
      "image/png": "[encoded data removed]",
      "text/plain": [
       "<Figure size 432x288 with 1 Axes>"
      ]
     },
     "metadata": {
      "needs_background": "light"
     },
     "output_type": "display_data"
    }
   ],
   "source": [
    "#Attacking \n",
    "from foolbox.attacks import L2CarliniWagnerAttack\n",
    "\n",
    "\n",
    "u,s,v = torch.svd(weights_m[0])\n",
    "fmodel = PyTorchModel(m, bounds=(0, 1), preprocessing=None)\n",
    "\n",
    "atkFGM = L2FastGradientAttack()\n",
    "atk = L2CarliniWagnerAttack()\n",
    "epsilons=[3.0]\n",
    "    \n",
    "data = X\n",
    "target = label\n",
    "_,clipped_atk,_ = atkFGM(fmodel, data.to(DEVICE), target.to(DEVICE),epsilons=epsilons)\n",
    "data_att=clipped_atk[0]\n",
    "print28x28tensor(v[:,0])\n"
   ]
  },
  {
   "cell_type": "code",
   "execution_count": 409,
   "id": "aff22ebb",
   "metadata": {},
   "outputs": [
    {
     "ename": "RuntimeError",
     "evalue": "shape '[28, 28]' is invalid for input of size 2",
     "output_type": "error",
     "traceback": [
      "\u001b[0;31m---------------------------------------------------------------------------\u001b[0m",
      "\u001b[0;31mRuntimeError\u001b[0m                              Traceback (most recent call last)",
      "Input \u001b[0;32mIn [409]\u001b[0m, in \u001b[0;36m<cell line: 3>\u001b[0;34m()\u001b[0m\n\u001b[1;32m      1\u001b[0m \u001b[38;5;66;03m#Visualisation of attacks \u001b[39;00m\n\u001b[1;32m      2\u001b[0m idx \u001b[38;5;241m=\u001b[39m \u001b[38;5;241m1\u001b[39m\n\u001b[0;32m----> 3\u001b[0m \u001b[43mprint28x28tensor\u001b[49m\u001b[43m(\u001b[49m\u001b[38;5;241;43m1\u001b[39;49m\u001b[38;5;241;43m-\u001b[39;49m\u001b[43mdata\u001b[49m\u001b[43m[\u001b[49m\u001b[43midx\u001b[49m\u001b[43m]\u001b[49m\u001b[43m)\u001b[49m\n\u001b[1;32m      4\u001b[0m plt\u001b[38;5;241m.\u001b[39mshow()\n\u001b[1;32m      5\u001b[0m print28x28tensor(\u001b[38;5;241m1\u001b[39m\u001b[38;5;241m-\u001b[39mdata_att[idx])\n",
      "Input \u001b[0;32mIn [1]\u001b[0m, in \u001b[0;36mprint28x28tensor\u001b[0;34m(tensor)\u001b[0m\n\u001b[1;32m     23\u001b[0m \u001b[38;5;28;01mdef\u001b[39;00m \u001b[38;5;21mprint28x28tensor\u001b[39m(tensor):\n\u001b[1;32m     24\u001b[0m     img\u001b[38;5;241m=\u001b[39mtensor\u001b[38;5;241m.\u001b[39mto(\u001b[38;5;124m'\u001b[39m\u001b[38;5;124mcpu\u001b[39m\u001b[38;5;124m'\u001b[39m)\n\u001b[0;32m---> 25\u001b[0m     pixels \u001b[38;5;241m=\u001b[39m \u001b[43mimg\u001b[49m\u001b[38;5;241;43m.\u001b[39;49m\u001b[43mreshape\u001b[49m\u001b[43m(\u001b[49m\u001b[43m(\u001b[49m\u001b[38;5;241;43m28\u001b[39;49m\u001b[43m,\u001b[49m\u001b[38;5;241;43m28\u001b[39;49m\u001b[43m)\u001b[49m\u001b[43m)\u001b[49m\n\u001b[1;32m     26\u001b[0m     plt\u001b[38;5;241m.\u001b[39mimshow(pixels,cmap\u001b[38;5;241m=\u001b[39m\u001b[38;5;124m'\u001b[39m\u001b[38;5;124mgray\u001b[39m\u001b[38;5;124m'\u001b[39m)\n",
      "\u001b[0;31mRuntimeError\u001b[0m: shape '[28, 28]' is invalid for input of size 2"
     ]
    }
   ],
   "source": [
    "#Visualisation of attacks \n",
    "idx = 1\n",
    "print28x28tensor(1-data[idx])\n",
    "plt.show()\n",
    "print28x28tensor(1-data_att[idx])\n"
   ]
  },
  {
   "cell_type": "code",
   "execution_count": 173,
   "id": "9a022a5a",
   "metadata": {},
   "outputs": [
    {
     "name": "stdout",
     "output_type": "stream",
     "text": [
      "Accuracy normale : 100.0\n",
      "Accuracy Attack  :  80.28125\n"
     ]
    }
   ],
   "source": [
    "def test(model,X,y):\n",
    "    output = model(X.to(DEVICE))\n",
    "    pred=output.argmax(dim=1).to('cpu')\n",
    "    return ((pred==y).sum()/X.shape[0]*100).item()\n",
    "\n",
    "print('Accuracy normale :', test(m,data,label))\n",
    "print('Accuracy Attack  : ', test(m,data_att,label))"
   ]
  },
  {
   "cell_type": "markdown",
   "id": "fbddd460",
   "metadata": {},
   "source": [
    "# Non linear problem"
   ]
  },
  {
   "cell_type": "code",
   "execution_count": 253,
   "id": "98dc6c11",
   "metadata": {},
   "outputs": [
    {
     "name": "stdout",
     "output_type": "stream",
     "text": [
      "tensor(0)\n"
     ]
    },
    {
     "data": {
      "image/png": "[encoded data removed]",
      "text/plain": [
       "<Figure size 432x288 with 1 Axes>"
      ]
     },
     "metadata": {
      "needs_background": "light"
     },
     "output_type": "display_data"
    }
   ],
   "source": [
    "# Generating the continuous dataset \n",
    "dl = TorchDataLoader(name=\"MNIST\")\n",
    "dl_tr, dl_ts = dl.build_dataloaders(batch_size=32)\n",
    "\n",
    "\n",
    "mask = torch.ones(1,28,28)\n",
    "mask[0,1:-1,1:-1]= 0\n",
    "left = False*torch.zeros((1,28,28),dtype=bool)\n",
    "left[0,:,:14]=True\n",
    "\n",
    "squeeze = 4\n",
    "\n",
    "batch_size = 32 \n",
    "n_batch = 400 \n",
    "X = torch.zeros(batch_size*n_batch,1,28,28)\n",
    "label = torch.zeros(batch_size*n_batch,dtype=int)\n",
    "for idx in range(batch_size*n_batch):\n",
    "    side = 4*torch.rand(1).item()\n",
    "    label[idx] = side//2\n",
    "    # 4* side : [0,2] : XOR = 1, [2,4], XOR  = 0 \n",
    "    if side >= 2:\n",
    "        sideMask = left + torch.logical_not(left)\n",
    "        if side>=3:\n",
    "            sideMask = torch.logical_not(sideMask)\n",
    "        \n",
    "    else:\n",
    "        sideMask=left \n",
    "        if side >=1:\n",
    "            sideMask= torch.logical_not(sideMask)\n",
    "        \n",
    "    X[idx]=torch.rand((1,28,28))*mask\n",
    "    \n",
    "    X[idx][sideMask]=(X[idx][sideMask])**(1/squeeze)\n",
    "    nsideMask = torch.logical_not(sideMask)\n",
    "    X[idx][nsideMask]=1-(1-X[idx][nsideMask])**(1/squeeze)\n",
    "    \n",
    "print28x28tensor(X[4])\n",
    "print(label[4])"
   ]
  },
  {
   "cell_type": "code",
   "execution_count": 254,
   "id": "1535ca51",
   "metadata": {},
   "outputs": [
    {
     "name": "stdout",
     "output_type": "stream",
     "text": [
      "Number of batch per epoch :  370\n"
     ]
    },
    {
     "name": "stderr",
     "output_type": "stream",
     "text": [
      "100%|█████████████████████████████████████████| 370/370 [01:19<00:00,  4.68it/s]"
     ]
    },
    {
     "name": "stdout",
     "output_type": "stream",
     "text": [
      "---------------  Epoch :  0  ---------------\n",
      "Train Accuracy :  95.48986486486486  %\n",
      "Test Accuracy :  100.0  %\n"
     ]
    },
    {
     "name": "stderr",
     "output_type": "stream",
     "text": [
      "\n"
     ]
    }
   ],
   "source": [
    "# Training the model \n",
    "arch = [28*28,50,50,50,2]\n",
    "m = nn.Sequential(nn.Flatten(), FFNet(arch,bias=False )).to(DEVICE)\n",
    "m,L1,Entropy= train_record_new_model(m,X,label,'LR2_nonLinear',epochs=1,epochs_adv=[])\n",
    "\n",
    "weights_m = [A.detach().to('cpu') for A in m.parameters()]"
   ]
  },
  {
   "cell_type": "code",
   "execution_count": 337,
   "id": "08c04902",
   "metadata": {},
   "outputs": [
    {
     "data": {
      "image/png": "[encoded data removed]",
      "text/plain": [
       "<Figure size 432x288 with 1 Axes>"
      ]
     },
     "metadata": {
      "needs_background": "light"
     },
     "output_type": "display_data"
    }
   ],
   "source": [
    "#Attacking \n",
    "from foolbox.attacks import L2CarliniWagnerAttack\n",
    "\n",
    "\n",
    "u,s,v = torch.svd(weights_m[0])\n",
    "fmodel = PyTorchModel(m, bounds=(0, 1), preprocessing=None)\n",
    "\n",
    "atkFGM = L2FastGradientAttack()\n",
    "atk = L2CarliniWagnerAttack()\n",
    "epsilons=[2.0]\n",
    "    \n",
    "data = X\n",
    "target = label\n",
    "_,clipped_atk,_ = atkFGM(fmodel, data.to(DEVICE), target.to(DEVICE),epsilons=epsilons)\n",
    "data_att=clipped_atk[0]\n",
    "print28x28tensor(v[:,0])\n"
   ]
  },
  {
   "cell_type": "code",
   "execution_count": 272,
   "id": "2334ba65",
   "metadata": {},
   "outputs": [
    {
     "data": {
      "image/png": "[encoded data removed]",
      "text/plain": [
       "<Figure size 432x288 with 1 Axes>"
      ]
     },
     "metadata": {
      "needs_background": "light"
     },
     "output_type": "display_data"
    },
    {
     "name": "stdout",
     "output_type": "stream",
     "text": [
      "Label :  0\n"
     ]
    },
    {
     "data": {
      "image/png": "[encoded data removed]",
      "text/plain": [
       "<Figure size 432x288 with 1 Axes>"
      ]
     },
     "metadata": {
      "needs_background": "light"
     },
     "output_type": "display_data"
    }
   ],
   "source": [
    "#Visualisation of attacks \n",
    "idx = 0\n",
    "print28x28tensor(1-data[idx])\n",
    "plt.show()\n",
    "print28x28tensor(1-data_att[idx])\n",
    "print('Label : ',label[idx].item())"
   ]
  },
  {
   "cell_type": "code",
   "execution_count": 346,
   "id": "b4c251f1",
   "metadata": {},
   "outputs": [
    {
     "name": "stdout",
     "output_type": "stream",
     "text": [
      "Accuracy normale : 100.0\n",
      "Accuracy Attack  :  27.9296875\n",
      "Accuracy removing noise from white canvas 30.109375\n",
      "Accuracy normal (proj 2D feature) 100.0\n",
      "Accuracy attack (proj 2D feature) 28.187501907348633\n"
     ]
    }
   ],
   "source": [
    "# Testing \n",
    "\n",
    "print('Accuracy normale :', test(m,data,label))\n",
    "print('Accuracy Attack  : ', test(m,data_att,label))\n",
    "data_att_cadre= data_att.clone()\n",
    "data_att_cadre[:,0,1:-1,1:-1]=0\n",
    "print('Accuracy removing noise from white canvas',test(m,data_att_cadre,label) )\n",
    "\n",
    "#Projection on 2 most prominent features : \n",
    "u,s,v = torch.svd(weights_m[0])\n",
    "coeffData = torch.einsum('naxy,axyk->nk',data,v[:,:2].reshape(1,28,28,2))\n",
    "projData = torch.einsum('axyk,nk->naxy',v[:,:2].reshape(1,28,28,2),coeffData)\n",
    "print('Accuracy normal (proj 2D feature)', test(m,projData,label))\n",
    "coeffDataAtt = torch.einsum('naxy,axyk->nk',data_att.to('cpu'),v[:,:2].reshape(1,28,28,2))\n",
    "projDataAtt = torch.einsum('axyk,nk->naxy',v[:,:2].reshape(1,28,28,2),coeffDataAtt)\n",
    "print('Accuracy attack (proj 2D feature)', test(m,projDataAtt,label))\n",
    "\n",
    "\n",
    "\n",
    "def succesful_preds(model,X,y):\n",
    "    output = model(X.to(DEVICE))\n",
    "    pred=output.argmax(dim=1).to('cpu')\n",
    "    return (pred==y)\n"
   ]
  },
  {
   "cell_type": "markdown",
   "id": "a5dacf76",
   "metadata": {},
   "source": [
    "Déduction : \n",
    "Ce n'est pas une histoire de dimensionalité, deux dimensions suffisent pour avoir des attaques adversariales "
   ]
  },
  {
   "cell_type": "code",
   "execution_count": 336,
   "id": "7f050346",
   "metadata": {},
   "outputs": [
    {
     "data": {
      "image/png": "[encoded data removed]",
      "text/plain": [
       "<Figure size 432x288 with 1 Axes>"
      ]
     },
     "metadata": {
      "needs_background": "light"
     },
     "output_type": "display_data"
    },
    {
     "name": "stdout",
     "output_type": "stream",
     "text": [
      "Label :  1\n"
     ]
    },
    {
     "data": {
      "image/png": "[encoded data removed]",
      "text/plain": [
       "<Figure size 432x288 with 1 Axes>"
      ]
     },
     "metadata": {
      "needs_background": "light"
     },
     "output_type": "display_data"
    }
   ],
   "source": [
    "#Visualisation of unsuccesful attacks \n",
    "idx = 12\n",
    "\n",
    "succs = succesful_preds(m,data_att,label)\n",
    "#succs = torch.logical_not(succs)\n",
    "\n",
    "print28x28tensor(1-data[succs][idx])\n",
    "plt.show()\n",
    "print28x28tensor(1-data_att[succs][idx])\n",
    "print('Label : ',label[idx].item())"
   ]
  },
  {
   "cell_type": "code",
   "execution_count": 281,
   "id": "683a153a",
   "metadata": {},
   "outputs": [
    {
     "data": {
      "image/png": "[encoded data removed]",
      "text/plain": [
       "<Figure size 432x288 with 1 Axes>"
      ]
     },
     "metadata": {
      "needs_background": "light"
     },
     "output_type": "display_data"
    },
    {
     "name": "stdout",
     "output_type": "stream",
     "text": [
      "Label :  0\n"
     ]
    },
    {
     "data": {
      "image/png": "[encoded data removed]",
      "text/plain": [
       "<Figure size 432x288 with 1 Axes>"
      ]
     },
     "metadata": {
      "needs_background": "light"
     },
     "output_type": "display_data"
    }
   ],
   "source": [
    "#Visualisation of succesful attacks \n",
    "idx = 4\n",
    "\n",
    "succs = succesful_preds(m,data_att,label)\n",
    "succs = torch.logical_not(succs)\n",
    "\n",
    "print28x28tensor(1-data[succs][idx])\n",
    "plt.show()\n",
    "print28x28tensor(1-data_att[succs][idx])\n",
    "print('Label : ',label[idx].item())"
   ]
  },
  {
   "cell_type": "code",
   "execution_count": 321,
   "id": "0aa9c38b",
   "metadata": {},
   "outputs": [
    {
     "data": {
      "image/png": "[encoded data removed]",
      "text/plain": [
       "<Figure size 432x288 with 1 Axes>"
      ]
     },
     "metadata": {
      "needs_background": "light"
     },
     "output_type": "display_data"
    }
   ],
   "source": [
    "masks = torch.zeros((2,1,28,28))\n",
    "masks[0][0,:,:14]=1\n",
    "masks[1][0,:,14:]=1\n",
    "for i in range(2):\n",
    "    masks[i][0,1:-1,1:-1]=0\n",
    "    \n",
    "\n",
    "X_reduced = torch.einsum('naxy,kaxy->nk',data,masks)\n",
    "X_att_reduced = torch.einsum('naxy,kaxy->nk',data_att.to('cpu'),masks)\n",
    "\n",
    "plt.scatter(X_reduced[label==1][:,0],X_reduced[label==1][:,1],color='red',label='1')\n",
    "plt.scatter(X_reduced[label==0][:,0],X_reduced[label==0][:,1],color='orange',label='0')\n",
    "\n",
    "\n",
    "succs = torch.logical_not(succesful_preds(m,data_att,label))\n",
    "X0to1 = X_att_reduced[succs*(label==0)]\n",
    "X1to0 = X_att_reduced[succs*(label==1)]\n",
    "plt.scatter(X0to1[:,0],X0to1[:,1],label='0->1',color='lightcoral')\n",
    "plt.scatter(X1to0[:,0],X1to0[:,1],label='1->0',color='wheat')\n",
    "\n",
    "plt.legend()\n",
    "plt.title('Projection of inputs on 2D generation space')\n",
    "plt.xlim(0,4/3*X_reduced.max())\n",
    "plt.ylim(0,4/3*X_reduced.max())\n",
    "\n",
    "u,s,v = torch.svd(weights_m[0])\n",
    "vecs = (masks.reshape(2,784))@v[:,:2]\n",
    "center = (X_reduced.min()+X_reduced.max())/2\n",
    "plt.arrow(center,center,vecs[0,0],vecs[1,0],head_width=2,color='black')\n",
    "plt.arrow(center,center,vecs[0,1],vecs[1,1],head_width=2,color='black')\n",
    "plt.show()"
   ]
  },
  {
   "cell_type": "code",
   "execution_count": 325,
   "id": "1ee7f03e",
   "metadata": {},
   "outputs": [
    {
     "data": {
      "image/png": "[encoded data removed]",
      "text/plain": [
       "<Figure size 432x288 with 1 Axes>"
      ]
     },
     "metadata": {
      "needs_background": "light"
     },
     "output_type": "display_data"
    }
   ],
   "source": [
    "u,s,v = torch.svd(weights_m[0])\n",
    "v2 = v[:,:2].reshape(1,28,28,2)\n",
    "                  \n",
    "X_reduced = torch.einsum('naxy,axyk->nk',data,v2)\n",
    "X_att_reduced = torch.einsum('naxy,axyk->nk',data_att.to('cpu'),v2)\n",
    "\n",
    "plt.scatter(X_reduced[label==1][:,0],X_reduced[label==1][:,1],color='red',label='1')\n",
    "plt.scatter(X_reduced[label==0][:,0],X_reduced[label==0][:,1],color='orange',label='0')\n",
    "\n",
    "\n",
    "succs = torch.logical_not(succesful_preds(m,data_att,label))\n",
    "X0to1 = X_att_reduced[succs*(label==0)]\n",
    "X1to0 = X_att_reduced[succs*(label==1)]\n",
    "plt.scatter(X0to1[:,0],X0to1[:,1],label='0->1',color='lightcoral')\n",
    "plt.scatter(X1to0[:,0],X1to0[:,1],label='1->0',color='wheat')\n",
    "\n",
    "plt.legend()\n",
    "plt.title('Projection of inputs on 2D feature space')\n",
    "plt.xlim(3.5/3*X_reduced.min(),3.5/3*X_reduced.max())\n",
    "plt.ylim(3.5/3*X_reduced.min(),3.5/3*X_reduced.max())\n",
    "\n",
    "\"\"\"\n",
    "u,s,v = torch.svd(weights_m[0])\n",
    "vecs = (masks.reshape(2,784))@v[:,:2]\n",
    "center = (X_reduced.min()+X_reduced.max())/2\n",
    "plt.arrow(center,center,vecs[0,0],vecs[0,1],head_width=0.2,color='black')\n",
    "plt.arrow(center,center,vecs[1,0],vecs[1,1],head_width=0.2,color='black')\n",
    "\"\"\"\n",
    "plt.show()"
   ]
  },
  {
   "cell_type": "markdown",
   "id": "86b7d281",
   "metadata": {},
   "source": [
    "# The XOR network "
   ]
  },
  {
   "cell_type": "code",
   "execution_count": 357,
   "id": "234de736",
   "metadata": {},
   "outputs": [
    {
     "data": {
      "text/plain": [
       "tensor(0.)"
      ]
     },
     "execution_count": 357,
     "metadata": {},
     "output_type": "execute_result"
    }
   ],
   "source": [
    "torch.round(torch.tensor([0.1,0.5])).sum()%2"
   ]
  },
  {
   "cell_type": "code",
   "execution_count": 406,
   "id": "aeb602df",
   "metadata": {},
   "outputs": [
    {
     "data": {
      "image/png": "[encoded data removed]",
      "text/plain": [
       "<Figure size 432x288 with 1 Axes>"
      ]
     },
     "metadata": {
      "needs_background": "light"
     },
     "output_type": "display_data"
    }
   ],
   "source": [
    "#Generating the dataset \n",
    "batch_size = 32 \n",
    "n_batch = 100 \n",
    "dataXor = torch.zeros(batch_size*n_batch,3)\n",
    "labelXor = torch.zeros(batch_size*n_batch,dtype=int)\n",
    "for idx in range(batch_size*n_batch):\n",
    "    digits = torch.rand(2)\n",
    "    while torch.abs(digits-0.5).min()<0.1:\n",
    "        digits = torch.rand(2)\n",
    "    dataXor[idx][:2] = digits\n",
    "    dataXor[idx][2] = digits[0]*digits[1]\n",
    "    \n",
    "    labelXor[idx] = int((torch.round(dataXor[idx][:2]).sum()%2).item())\n",
    "    \n",
    "plt.scatter(dataXor[labelXor==1][:,0],dataXor[labelXor==1][:,1],color='red',label='1')\n",
    "plt.scatter(dataXor[labelXor==0][:,0],dataXor[labelXor==0][:,1],color='orange',label='0')\n",
    "plt.show()"
   ]
  },
  {
   "cell_type": "code",
   "execution_count": 408,
   "id": "01fe8b57",
   "metadata": {},
   "outputs": [
    {
     "name": "stdout",
     "output_type": "stream",
     "text": [
      "Number of batch per epoch :  70\n"
     ]
    },
    {
     "name": "stderr",
     "output_type": "stream",
     "text": [
      "100%|███████████████████████████████████████████| 70/70 [00:14<00:00,  4.98it/s]\n"
     ]
    },
    {
     "name": "stdout",
     "output_type": "stream",
     "text": [
      "---------------  Epoch :  0  ---------------\n",
      "Train Accuracy :  48.92857142857142  %\n",
      "Test Accuracy :  48.4375  %\n"
     ]
    },
    {
     "name": "stderr",
     "output_type": "stream",
     "text": [
      "100%|███████████████████████████████████████████| 70/70 [00:13<00:00,  5.08it/s]\n"
     ]
    },
    {
     "name": "stdout",
     "output_type": "stream",
     "text": [
      "---------------  Epoch :  1  ---------------\n",
      "Train Accuracy :  50.44642857142857  %\n",
      "Test Accuracy :  53.02083333333333  %\n"
     ]
    },
    {
     "name": "stderr",
     "output_type": "stream",
     "text": [
      "100%|███████████████████████████████████████████| 70/70 [00:13<00:00,  5.37it/s]\n"
     ]
    },
    {
     "name": "stdout",
     "output_type": "stream",
     "text": [
      "---------------  Epoch :  2  ---------------\n",
      "Train Accuracy :  67.36607142857143  %\n",
      "Test Accuracy :  70.41666666666667  %\n"
     ]
    },
    {
     "name": "stderr",
     "output_type": "stream",
     "text": [
      "100%|███████████████████████████████████████████| 70/70 [00:13<00:00,  5.31it/s]\n"
     ]
    },
    {
     "name": "stdout",
     "output_type": "stream",
     "text": [
      "---------------  Epoch :  3  ---------------\n",
      "Train Accuracy :  73.52678571428571  %\n",
      "Test Accuracy :  72.60416666666667  %\n"
     ]
    },
    {
     "name": "stderr",
     "output_type": "stream",
     "text": [
      "100%|███████████████████████████████████████████| 70/70 [00:12<00:00,  5.76it/s]\n"
     ]
    },
    {
     "name": "stdout",
     "output_type": "stream",
     "text": [
      "---------------  Epoch :  4  ---------------\n",
      "Train Accuracy :  69.46428571428571  %\n",
      "Test Accuracy :  68.02083333333333  %\n"
     ]
    },
    {
     "name": "stderr",
     "output_type": "stream",
     "text": [
      "100%|███████████████████████████████████████████| 70/70 [00:11<00:00,  5.90it/s]"
     ]
    },
    {
     "name": "stdout",
     "output_type": "stream",
     "text": [
      "---------------  Epoch :  5  ---------------\n",
      "Train Accuracy :  65.40178571428571  %\n",
      "Test Accuracy :  69.0625  %\n"
     ]
    },
    {
     "name": "stderr",
     "output_type": "stream",
     "text": [
      "\n"
     ]
    }
   ],
   "source": [
    "# Training the model \n",
    "archXor = [3,10,10,10,2]\n",
    "mxor = nn.Sequential(nn.Flatten(), FFNet(archXor,bias=False )).to(DEVICE)\n",
    "mxor,L1,Entropy= train_record_new_model(mxor,dataXor,labelXor,'XOR',epochs=6,epochs_adv=[])\n",
    "\n",
    "weights_xor = [A.detach().to('cpu') for A in mxor.parameters()]"
   ]
  },
  {
   "cell_type": "code",
   "execution_count": 402,
   "id": "00d402dd",
   "metadata": {},
   "outputs": [
    {
     "name": "stdout",
     "output_type": "stream",
     "text": [
      "tensor([ 0.6091, -0.7931])\n",
      "tensor([0.7931, 0.6091])\n"
     ]
    }
   ],
   "source": [
    "#Attacking \n",
    "from foolbox.attacks import L2CarliniWagnerAttack\n",
    "\n",
    "\n",
    "u,s,v = torch.svd(weights_xor[0])\n",
    "fmodel = PyTorchModel(mxor, bounds=(0, 1), preprocessing=None)\n",
    "\n",
    "atkFGM = L2FastGradientAttack()\n",
    "atk = L2CarliniWagnerAttack()\n",
    "epsilons=[0.1]\n",
    "    \n",
    "data = dataXor\n",
    "target = labelXor\n",
    "_,clipped_atk,_ = atkFGM(fmodel, data.to(DEVICE), target.to(DEVICE),epsilons=epsilons)\n",
    "dataXor_att=clipped_atk[0]\n",
    "print(v[:,0])\n",
    "print(v[:,1])\n"
   ]
  },
  {
   "cell_type": "code",
   "execution_count": 403,
   "id": "e30766e9",
   "metadata": {},
   "outputs": [
    {
     "name": "stdout",
     "output_type": "stream",
     "text": [
      "Accuracy normale : 84.09375\n",
      "Accuracy Attack  :  64.75\n"
     ]
    }
   ],
   "source": [
    "# Testing \n",
    "\n",
    "print('Accuracy normale :', test(mxor,dataXor,labelXor))\n",
    "print('Accuracy Attack  : ', test(mxor,dataXor_att.to('cpu'),labelXor))\n"
   ]
  },
  {
   "cell_type": "code",
   "execution_count": 404,
   "id": "f5924257",
   "metadata": {},
   "outputs": [
    {
     "data": {
      "text/plain": [
       "<matplotlib.collections.PathCollection at 0x7f77e0fcd2b0>"
      ]
     },
     "execution_count": 404,
     "metadata": {},
     "output_type": "execute_result"
    },
    {
     "data": {
      "image/png": "[encoded data removed]",
      "text/plain": [
       "<Figure size 432x288 with 1 Axes>"
      ]
     },
     "metadata": {
      "needs_background": "light"
     },
     "output_type": "display_data"
    }
   ],
   "source": [
    "# Plotting attacks \n",
    "plt.scatter(dataXor[labelXor==1][:,0],dataXor[labelXor==1][:,1],color='red',label='1')\n",
    "plt.scatter(dataXor[labelXor==0][:,0],dataXor[labelXor==0][:,1],color='orange',label='0')\n",
    "\n",
    "dataXor_att = dataXor_att.to('cpu') \n",
    "succs = torch.logical_not(succesful_preds(mxor,dataXor_att,labelXor))\n",
    "X0to1 = dataXor_att[succs*(labelXor==0)]\n",
    "X1to0 = dataXor_att[succs*(labelXor==1)]\n",
    "plt.scatter(X0to1[:,0],X0to1[:,1],label='0->1',color='lightcoral')\n",
    "plt.scatter(X1to0[:,0],X1to0[:,1],label='1->0',color='wheat')"
   ]
  },
  {
   "cell_type": "code",
   "execution_count": 401,
   "id": "1a3a3cc7",
   "metadata": {},
   "outputs": [
    {
     "name": "stdout",
     "output_type": "stream",
     "text": [
      "tensor([0.2888, 0.6736])\n",
      "tensor([1.0000, 0.2336])\n"
     ]
    }
   ],
   "source": [
    "idx = 10\n",
    "print(dataXor[idx])\n",
    "print(dataXor_att[idx])"
   ]
  },
  {
   "cell_type": "markdown",
   "id": "c3c33360",
   "metadata": {},
   "source": [
    "# Expé Nicolas : 10 features are enough "
   ]
  },
  {
   "cell_type": "code",
   "execution_count": 410,
   "id": "c6621adc",
   "metadata": {},
   "outputs": [
    {
     "name": "stderr",
     "output_type": "stream",
     "text": [
      " 43%|████████████████▌                      | 799/1875 [00:02<00:03, 356.37it/s]\n"
     ]
    }
   ],
   "source": [
    "# Loading the data \n",
    "activ = torch.load('/home/meller/Documents/giotto-deep/examples/saves/activ_v5')\n",
    "model = torch.load('/home/meller/Documents/giotto-deep/examples/saves/model_v5')\n",
    "activG =torch.load('/home/meller/Documents/giotto-deep/examples/saves/activG_v5')\n",
    "\n",
    "writer = SummaryWriter()\n",
    "dl = TorchDataLoader(name=\"MNIST\")\n",
    "dl_tr, dl_ts = dl.build_dataloaders(batch_size=32)\n",
    "\n",
    "\n",
    "#cpu = torch.ones(1).device\n",
    "\n",
    "\n",
    "arch = [28*28,100,50,50,50, 10]\n",
    "optimizer = torch.optim.SGD\n",
    "loss_fn = nn.CrossEntropyLoss()\n",
    "pipe = Pipeline(model, (dl_tr, dl_ts), loss_fn, writer)\n",
    "\n",
    "\n",
    "me = ModelExtractor(pipe.model, pipe.loss_fn)\n",
    "weights = list(me.get_layers_param().values())\n",
    "\n",
    "\n",
    "predLabel = torch.zeros(activ.shape[0],activ.shape[1])\n",
    "for alter in range(activ.shape[0]):\n",
    "    predLabel[alter] = activ[alter,:,-10:].argmax(dim=1)\n",
    "    \n",
    "    \n",
    "label = torch.zeros(activ[0].shape[0])\n",
    "k_batch = 0 \n",
    "for data, target in tqdm(dl_tr):\n",
    "    label[k_batch*32:(k_batch+1)*32]=target\n",
    "    k_batch+=1\n",
    "    if k_batch*32>=activ[0].shape[0]:\n",
    "        break "
   ]
  },
  {
   "cell_type": "code",
   "execution_count": 413,
   "id": "dd92b53e",
   "metadata": {},
   "outputs": [],
   "source": []
  },
  {
   "cell_type": "code",
   "execution_count": 518,
   "id": "7ee67c62",
   "metadata": {},
   "outputs": [],
   "source": [
    "#from gdeep.data import DataLoaderFromArray -> Useless \n",
    "\n",
    "\n",
    "from foolbox import PyTorchModel\n",
    "from foolbox.attacks import L2FastGradientAttack\n",
    "atkFGM = L2FastGradientAttack()\n",
    "from gdeep.topactivation.spectral_analysisTorch import LaplacianOperator\n",
    "from gdeep.topactivation.svr import SVR\n",
    "\n",
    "import os \n",
    "\n",
    "def train_record_new_model(model,X,y,folder,epochs=5,epochs_adv=[],record=False):\n",
    "        \n",
    "    Ntest = 32*30\n",
    "    perm = torch.randperm(len(X))\n",
    "    batch_size=128\n",
    "\n",
    "\n",
    "    X_train = X[perm[Ntest:]]\n",
    "    y_train = y[perm[Ntest:]].type(torch.LongTensor)\n",
    "    X_val = X[perm[:Ntest]]\n",
    "    y_val = y[perm[:Ntest]].type(torch.LongTensor)\n",
    "\n",
    "\n",
    "    #model = nn.Sequential(nn.Flatten(), FFNet(arch,bias=False )).to(DEVICE)\n",
    "    optimizer = torch.optim.SGD(model.parameters(),lr=0.1)\n",
    "    #optimizer = torch.optim.Adam(model.parameters())\n",
    "    loss_fn = nn.CrossEntropyLoss()\n",
    "    \n",
    "    atkFGM = L2FastGradientAttack()\n",
    "    epsilons=[2.0]\n",
    "    \n",
    "    if record:\n",
    "        if not os.path.exists('record/'+folder):\n",
    "            os.mkdir('record/'+folder)\n",
    "        \n",
    "        \n",
    "    n_batch = len(X_train)//batch_size\n",
    "    print(\"Number of batch per epoch : \",n_batch)\n",
    "    \n",
    "    L1 = torch.zeros((n_batch*epochs,len(arch)-2))\n",
    "    Entropy = torch.zeros((n_batch*epochs,len(arch)-2))\n",
    "    PM = torch.zeros((n_batch*epochs))\n",
    "\n",
    "    \n",
    "    for epoch in range(epochs):\n",
    "        correct_pred = 0\n",
    "        total_pred = 0\n",
    "        model.train()\n",
    "        for batch_idx in tqdm(range(n_batch)):\n",
    "            if X_train.shape[1]==784:\n",
    "                data = X_train[batch_idx*batch_size:(batch_idx+1)*batch_size].reshape(batch_size,1,28,28).to(DEVICE)\n",
    "            else: \n",
    "                data = X_train[batch_idx*batch_size:(batch_idx+1)*batch_size].to(DEVICE)\n",
    "                \n",
    "            target = y_train[batch_idx*batch_size:(batch_idx+1)*batch_size].to(DEVICE)\n",
    "            \n",
    "         \n",
    "            weights = [A.detach() for A in list(model.parameters())]\n",
    "            name = 'record/'+folder+'/'+str(epoch)+'_'+str(batch_idx)\n",
    "\n",
    "            svr = SVR(weights)\n",
    "            if record:\n",
    "                if epoch in epochs_adv:\n",
    "                    svr.plot_save(name,nodeColor='red')\n",
    "                else:\n",
    "                    svr.plot_save(name,nodeColor='blue')\n",
    "            L1[epoch*n_batch+batch_idx]= svr.L1()\n",
    "            Entropy[epoch*n_batch+batch_idx]= svr.entropy()\n",
    "            PM[epoch*n_batch+batch_idx] = svr.pathmetric(svdThreshold=1)\n",
    "\n",
    "            \n",
    "            \n",
    "            if epoch in epochs_adv:\n",
    "                fmodel = PyTorchModel(model, bounds=(0, 1), preprocessing=None)\n",
    "                _,clipped_atk,_ = atkFGM(fmodel, data.to(DEVICE), target.to(DEVICE),epsilons=epsilons)\n",
    "                data=clipped_atk[0]\n",
    "\n",
    "            \n",
    "            \n",
    "         \n",
    "            \n",
    "            optimizer.zero_grad()\n",
    "            output = model(data)\n",
    "            \n",
    "            loss = loss_fn(output, target)\n",
    "            \n",
    "            loss.backward()\n",
    "            optimizer.step()\n",
    "\n",
    "            correct_pred+=(output.argmax(dim=1)==target).sum().item()\n",
    "            total_pred += data.shape[0]\n",
    "        print(15*'-'+' ', 'Epoch : ', epoch, ' ' + 15*'-')\n",
    "        print('Train Accuracy : ',correct_pred/total_pred*100, ' %')\n",
    "        model.eval()\n",
    "        correct_pred = 0\n",
    "        total_pred = 0\n",
    "        for batch_idx in range(len(X_val)//batch_size):\n",
    "            if X_val.shape[1]==784:\n",
    "                data = X_val[batch_idx*batch_size:(batch_idx+1)*batch_size].reshape(batch_size,1,28,28).to(DEVICE)\n",
    "            else: \n",
    "                data = X_val[batch_idx*batch_size:(batch_idx+1)*batch_size].to(DEVICE)\n",
    "            target = y_val[batch_idx*batch_size:(batch_idx+1)*batch_size].to(DEVICE)\n",
    "\n",
    "            output = model(data)\n",
    "\n",
    "\n",
    "            correct_pred+=(output.argmax(dim=1)==target).sum().item()\n",
    "            total_pred += data.shape[0]\n",
    "\n",
    "        print('Test Accuracy : ',correct_pred/total_pred*100, ' %') \n",
    "    return model,L1,Entropy,PM"
   ]
  },
  {
   "cell_type": "code",
   "execution_count": 535,
   "id": "46b09326",
   "metadata": {},
   "outputs": [
    {
     "name": "stdout",
     "output_type": "stream",
     "text": [
      "torch.Size([784, 100])\n"
     ]
    }
   ],
   "source": [
    "n_features = 20\n",
    "_,_,v  = torch.svd(weights[0]) #model driven compression \n",
    "#v,_,_ = torch.svd(activ[0][:,:784].T)#data driven compression \n",
    "\n",
    "\n",
    "\n",
    "print(v.shape)\n",
    "v = v.to('cpu')\n",
    "data = activ[0][:,:784]@v[:,:n_features]\n",
    "\n",
    "arch = [n_features,100,50,50,50, 10]\n",
    "optimizer = torch.optim.SGD\n",
    "model =FFNet(arch,bias=False )\n",
    "\n",
    "\n"
   ]
  },
  {
   "cell_type": "code",
   "execution_count": 527,
   "id": "598f6fc4",
   "metadata": {},
   "outputs": [
    {
     "name": "stdout",
     "output_type": "stream",
     "text": [
      "Number of batch per epoch :  192\n"
     ]
    },
    {
     "name": "stderr",
     "output_type": "stream",
     "text": [
      "100%|█████████████████████████████████████████| 192/192 [00:04<00:00, 48.00it/s]\n"
     ]
    },
    {
     "name": "stdout",
     "output_type": "stream",
     "text": [
      "---------------  Epoch :  0  ---------------\n",
      "Train Accuracy :  38.4521484375  %\n",
      "Test Accuracy :  73.4375  %\n"
     ]
    },
    {
     "name": "stderr",
     "output_type": "stream",
     "text": [
      "100%|█████████████████████████████████████████| 192/192 [00:03<00:00, 49.27it/s]\n"
     ]
    },
    {
     "name": "stdout",
     "output_type": "stream",
     "text": [
      "---------------  Epoch :  1  ---------------\n",
      "Train Accuracy :  82.76774088541666  %\n",
      "Test Accuracy :  85.71428571428571  %\n"
     ]
    },
    {
     "name": "stderr",
     "output_type": "stream",
     "text": [
      "100%|█████████████████████████████████████████| 192/192 [00:03<00:00, 50.94it/s]"
     ]
    },
    {
     "name": "stdout",
     "output_type": "stream",
     "text": [
      "---------------  Epoch :  2  ---------------\n",
      "Train Accuracy :  89.4775390625  %\n",
      "Test Accuracy :  89.50892857142857  %\n"
     ]
    },
    {
     "name": "stderr",
     "output_type": "stream",
     "text": [
      "\n"
     ]
    }
   ],
   "source": [
    "model, _,_,_ = train_record_new_model(model.to(DEVICE),data,label,'none',epochs=3)"
   ]
  },
  {
   "cell_type": "code",
   "execution_count": 537,
   "id": "919a9b09",
   "metadata": {},
   "outputs": [
    {
     "name": "stderr",
     "output_type": "stream",
     "text": [
      "/home/linuxbrew/.linuxbrew/opt/python@3.9/lib/python3.9/site-packages/foolbox/models/pytorch.py:36: UserWarning:\n",
      "\n",
      "The PyTorch model is in training mode and therefore might not be deterministic. Call the eval() method to set it in evaluation mode if this is not intended.\n",
      "\n"
     ]
    }
   ],
   "source": [
    "def test(model,X,y):\n",
    "    output = model(X.to(DEVICE))\n",
    "    pred=output.argmax(dim=1).to('cpu')\n",
    "    return ((pred==y).sum()/X.shape[0]*100).item()\n",
    "\n",
    "epsilons = [2]\n",
    "fmodel = PyTorchModel(model.to(DEVICE), bounds=(-200, 200), preprocessing=None)\n",
    "_,clipped_atk,_ = atkFGM(fmodel, data.to(DEVICE), label.type(torch.LongTensor).to(DEVICE),epsilons=epsilons)\n",
    "data_atk=clipped_atk[0].to('cpu')\n"
   ]
  },
  {
   "cell_type": "code",
   "execution_count": 529,
   "id": "53ffef33",
   "metadata": {},
   "outputs": [
    {
     "name": "stdout",
     "output_type": "stream",
     "text": [
      "Accuracy normale : 90.03515625\n",
      "Accuracy attack : 22.99609375\n"
     ]
    },
    {
     "data": {
      "text/plain": [
       "tensor(2.)"
      ]
     },
     "execution_count": 529,
     "metadata": {},
     "output_type": "execute_result"
    }
   ],
   "source": [
    "print('Accuracy normale :', test(model,data,label))\n",
    "print('Accuracy attack :', test(model,data_atk,label))\n",
    "\n",
    "(data_atk-data)[10].norm()"
   ]
  },
  {
   "cell_type": "code",
   "execution_count": 539,
   "id": "4f1ef03d",
   "metadata": {},
   "outputs": [
    {
     "data": {
      "text/plain": [
       "(array([ 174., 1639., 4833., 7026., 5911., 3483., 1727.,  635.,  149.,\n",
       "          23.]),\n",
       " array([1.817532 , 2.6155388, 3.4135458, 4.211553 , 5.0095596, 5.8075666,\n",
       "        6.6055737, 7.4035807, 8.201588 , 8.999595 , 9.797602 ],\n",
       "       dtype=float32),\n",
       " <BarContainer object of 10 artists>)"
      ]
     },
     "execution_count": 539,
     "metadata": {},
     "output_type": "execute_result"
    },
    {
     "data": {
      "image/png": "[encoded data removed]",
      "text/plain": [
       "<Figure size 432x288 with 1 Axes>"
      ]
     },
     "metadata": {
      "needs_background": "light"
     },
     "output_type": "display_data"
    }
   ],
   "source": [
    "plt.hist(data.norm(dim=1).numpy())"
   ]
  },
  {
   "cell_type": "code",
   "execution_count": 540,
   "id": "22d511f6",
   "metadata": {},
   "outputs": [
    {
     "data": {
      "text/plain": [
       "(array([  48.,  671., 2786., 5830., 7136., 5517., 2704.,  763.,  131.,\n",
       "          14.]),\n",
       " array([ 3.5698273,  4.834766 ,  6.0997043,  7.3646426,  8.629581 ,\n",
       "         9.89452  , 11.159458 , 12.4243965, 13.689335 , 14.954273 ,\n",
       "        16.219212 ], dtype=float32),\n",
       " <BarContainer object of 10 artists>)"
      ]
     },
     "execution_count": 540,
     "metadata": {},
     "output_type": "execute_result"
    },
    {
     "data": {
      "image/png": "[encoded data removed]",
      "text/plain": [
       "<Figure size 432x288 with 1 Axes>"
      ]
     },
     "metadata": {
      "needs_background": "light"
     },
     "output_type": "display_data"
    }
   ],
   "source": [
    "plt.hist(activ[0][:,:784].norm(dim=1).numpy())"
   ]
  },
  {
   "cell_type": "code",
   "execution_count": 538,
   "id": "9f195f6c",
   "metadata": {},
   "outputs": [
    {
     "name": "stdout",
     "output_type": "stream",
     "text": [
      "tensor(5, device='cuda:0')\n"
     ]
    },
    {
     "data": {
      "image/png": "[encoded data removed]",
      "text/plain": [
       "<Figure size 432x288 with 1 Axes>"
      ]
     },
     "metadata": {
      "needs_background": "light"
     },
     "output_type": "display_data"
    },
    {
     "data": {
      "image/png": "[encoded data removed]",
      "text/plain": [
       "<Figure size 432x288 with 1 Axes>"
      ]
     },
     "metadata": {
      "needs_background": "light"
     },
     "output_type": "display_data"
    },
    {
     "data": {
      "image/png": "[encoded data removed]",
      "text/plain": [
       "<Figure size 432x288 with 1 Axes>"
      ]
     },
     "metadata": {
      "needs_background": "light"
     },
     "output_type": "display_data"
    }
   ],
   "source": [
    "# Reconstruction visu : \n",
    "\n",
    "\n",
    "idx = 26\n",
    "print(model(data_atk[idx].to(DEVICE)).argmax())\n",
    "reco = v[:,:n_features]@ data[idx] \n",
    "print28x28tensor(reco)\n",
    "plt.show()\n",
    "print28x28tensor(activ[0][idx,:784])\n",
    "plt.show()\n",
    "reco = v[:,:n_features]@ data_atk[idx] \n",
    "\n",
    "print28x28tensor(reco)"
   ]
  }
 ],
 "metadata": {
  "kernelspec": {
   "display_name": "Python 3 (ipykernel)",
   "language": "python",
   "name": "python3"
  },
  "language_info": {
   "codemirror_mode": {
    "name": "ipython",
    "version": 3
   },
   "file_extension": ".py",
   "mimetype": "text/x-python",
   "name": "python",
   "nbconvert_exporter": "python",
   "pygments_lexer": "ipython3",
   "version": "3.9.12"
  }
 },
 "nbformat": 4,
 "nbformat_minor": 5
}
