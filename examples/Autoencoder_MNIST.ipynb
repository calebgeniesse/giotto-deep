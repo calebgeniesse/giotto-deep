{
 "cells": [
  {
   "cell_type": "code",
   "execution_count": 1,
   "metadata": {},
   "outputs": [
    {
     "name": "stdout",
     "output_type": "stream",
     "text": [
      "Yeah we have a GPU!\n"
     ]
    }
   ],
   "source": [
    "%reload_ext autoreload\n",
    "%autoreload 2\n",
    "\n",
    "import matplotlib.pyplot as plt\n",
    "import numpy as np\n",
    "\n",
    "import torch\n",
    "import torch.nn as nn\n",
    "import torch.optim as optim\n",
    "\n",
    "if torch.cuda.is_available():\n",
    "    print(\"Yeah we have a GPU!\")\n",
    "dev = torch.device(\"cuda\") if torch.cuda.is_available() else torch.device(\"cpu\")\n",
    "\n",
    "import torchvision\n",
    "from torch.autograd import Variable\n",
    "from torch.utils.data import DataLoader\n",
    "from torchvision import transforms\n",
    "from torchvision.utils import save_image\n",
    "from torchvision.datasets import MNIST\n",
    "import os\n",
    "\n",
    "import pandas as pd\n",
    "import plotly.express as px\n",
    "import plotly.graph_objects as go\n",
    "\n",
    "import itertools\n",
    "import time\n",
    "import gc\n",
    "\n",
    "from gdeep.decision_boundary import GradientFlowDecisionBoundaryCalculator, QuasihyperbolicDecisionBoundaryCalculator"
   ]
  },
  {
   "cell_type": "markdown",
   "metadata": {},
   "source": [
    "# Train CNN-Autoencoder"
   ]
  },
  {
   "cell_type": "code",
   "execution_count": 2,
   "metadata": {},
   "outputs": [],
   "source": [
    "# https://github.com/L1aoXingyu/pytorch-beginner/blob/master/08-AutoEncoder/conv_autoencoder.py\n",
    "\n",
    "\n",
    "if not os.path.exists('./mlp_img'):\n",
    "    os.mkdir('./mlp_img')\n",
    "\n",
    "\n",
    "def to_img(x):\n",
    "    x = 0.5 * (x + 1)\n",
    "    x = x.clamp(0, 1)\n",
    "    x = x.view(x.size(0), 1, 28, 28)\n",
    "    return x\n",
    "\n",
    "\n",
    "num_epochs = 100\n",
    "batch_size = 128\n",
    "learning_rate = 1e-3\n",
    "\n",
    "img_transform = transforms.Compose([\n",
    "    transforms.ToTensor(),\n",
    "    transforms.Normalize([0.5], [0.5])\n",
    "])\n",
    "\n",
    "dataset = MNIST('./data', transform=img_transform, download=True)\n",
    "dataloader = DataLoader(dataset, batch_size=batch_size, shuffle=True)\n",
    "\n",
    "\n",
    "class autoencoder(nn.Module):\n",
    "    def __init__(self):\n",
    "        super(autoencoder, self).__init__()\n",
    "        self.encoder = nn.Sequential(\n",
    "            nn.Linear(28 * 28, 128),\n",
    "            nn.ReLU(True),\n",
    "            nn.Linear(128, 64),\n",
    "            nn.ReLU(True),\n",
    "            nn.Linear(64, 12),\n",
    "            nn.ReLU(True),\n",
    "            nn.Linear(12, 3))\n",
    "        self.decoder = nn.Sequential(\n",
    "            nn.Linear(3, 12),\n",
    "            nn.ReLU(True),\n",
    "            nn.Linear(12, 64),\n",
    "            nn.ReLU(True),\n",
    "            nn.Linear(64, 128),\n",
    "            nn.ReLU(True), nn.Linear(128, 28 * 28), nn.Tanh())\n",
    "\n",
    "    def forward(self, x):\n",
    "        x = self.encoder(x)\n",
    "        x = self.decoder(x)\n",
    "        return x\n",
    "\n",
    "\n",
    "model_auto = autoencoder().to(dev)\n",
    "criterion = nn.MSELoss()\n",
    "optimizer = torch.optim.Adam(\n",
    "    model_auto.parameters(), lr=learning_rate, weight_decay=1e-5)"
   ]
  },
  {
   "cell_type": "code",
   "execution_count": 3,
   "metadata": {},
   "outputs": [
    {
     "data": {
      "text/plain": [
       "\"\\nfor epoch in range(num_epochs):\\n    for data in dataloader:\\n        img, _ = data\\n        img = img.view(img.size(0), -1)\\n        img = Variable(img).to(dev)\\n        # ===================forward=====================\\n        output = model_auto(img)\\n        loss = criterion(output, img)\\n        # ===================backward====================\\n        optimizer.zero_grad()\\n        loss.backward()\\n        optimizer.step()\\n    # ===================log========================\\n    print('epoch [{}/{}], loss:{:.4f}'\\n          .format(epoch + 1, num_epochs, loss.data.item()))\\n    if epoch % 10 == 0:\\n        pic = to_img(output.cpu().data)\\n        save_image(pic, 'mlp_img/image_{}.png'.format(epoch))\\n\\ntorch.save(model_auto, 'sim_autoencoder.pth')\\n\""
      ]
     },
     "execution_count": 3,
     "metadata": {},
     "output_type": "execute_result"
    }
   ],
   "source": [
    "\"\"\"\n",
    "for epoch in range(num_epochs):\n",
    "    for data in dataloader:\n",
    "        img, _ = data\n",
    "        img = img.view(img.size(0), -1)\n",
    "        img = Variable(img).to(dev)\n",
    "        # ===================forward=====================\n",
    "        output = model_auto(img)\n",
    "        loss = criterion(output, img)\n",
    "        # ===================backward====================\n",
    "        optimizer.zero_grad()\n",
    "        loss.backward()\n",
    "        optimizer.step()\n",
    "    # ===================log========================\n",
    "    print('epoch [{}/{}], loss:{:.4f}'\n",
    "          .format(epoch + 1, num_epochs, loss.data.item()))\n",
    "    if epoch % 10 == 0:\n",
    "        pic = to_img(output.cpu().data)\n",
    "        save_image(pic, 'mlp_img/image_{}.png'.format(epoch))\n",
    "\n",
    "torch.save(model_auto, 'sim_autoencoder.pth')\n",
    "\"\"\""
   ]
  },
  {
   "cell_type": "code",
   "execution_count": 3,
   "metadata": {},
   "outputs": [
    {
     "data": {
      "text/plain": [
       "autoencoder(\n",
       "  (encoder): Sequential(\n",
       "    (0): Linear(in_features=784, out_features=128, bias=True)\n",
       "    (1): ReLU(inplace=True)\n",
       "    (2): Linear(in_features=128, out_features=64, bias=True)\n",
       "    (3): ReLU(inplace=True)\n",
       "    (4): Linear(in_features=64, out_features=12, bias=True)\n",
       "    (5): ReLU(inplace=True)\n",
       "    (6): Linear(in_features=12, out_features=3, bias=True)\n",
       "  )\n",
       "  (decoder): Sequential(\n",
       "    (0): Linear(in_features=3, out_features=12, bias=True)\n",
       "    (1): ReLU(inplace=True)\n",
       "    (2): Linear(in_features=12, out_features=64, bias=True)\n",
       "    (3): ReLU(inplace=True)\n",
       "    (4): Linear(in_features=64, out_features=128, bias=True)\n",
       "    (5): ReLU(inplace=True)\n",
       "    (6): Linear(in_features=128, out_features=784, bias=True)\n",
       "    (7): Tanh()\n",
       "  )\n",
       ")"
      ]
     },
     "execution_count": 3,
     "metadata": {},
     "output_type": "execute_result"
    }
   ],
   "source": [
    "model_auto = torch.load('sim_autoencoder.pth')\n",
    "model_auto.eval()"
   ]
  },
  {
   "cell_type": "code",
   "execution_count": 5,
   "metadata": {},
   "outputs": [],
   "source": [
    "embedding_df = pd.DataFrame(columns=list('xyzc'))\n",
    "\n",
    "for x, y in itertools.islice(dataloader, 20):\n",
    "    embedded_batch = model_auto.encoder(x.view(x.size(0), -1)).detach().numpy()\n",
    "    embedded_batch_df = pd.DataFrame(\n",
    "        np.concatenate((embedded_batch, y.unsqueeze(1).numpy()), 1),\n",
    "        columns=list('xyzc'))\n",
    "    embedding_df = embedding_df.append(\n",
    "        embedded_batch_df,\n",
    "        ignore_index=True)"
   ]
  },
  {
   "cell_type": "code",
   "execution_count": 6,
   "metadata": {},
   "outputs": [
    {
     "data": {
      "text/plain": [
       "\"\\nfig = px.scatter_3d(embedding_df, x='x', y='y', z='z',\\n              color='c')\\nfig.show()\\n\""
      ]
     },
     "execution_count": 6,
     "metadata": {},
     "output_type": "execute_result"
    }
   ],
   "source": [
    "\"\"\"\n",
    "fig = px.scatter_3d(embedding_df, x='x', y='y', z='z',\n",
    "              color='c')\n",
    "fig.show()\n",
    "\"\"\""
   ]
  },
  {
   "cell_type": "code",
   "execution_count": 4,
   "metadata": {},
   "outputs": [],
   "source": [
    "# https://github.com/pytorch/examples/blob/master/mnist/main.py\n",
    "from __future__ import print_function\n",
    "import argparse\n",
    "import torch\n",
    "import torch.nn as nn\n",
    "import torch.nn.functional as F\n",
    "import torch.optim as optim\n",
    "from torchvision import datasets, transforms\n",
    "from torch.optim.lr_scheduler import StepLR\n",
    "\n",
    "\n",
    "transform=transforms.Compose([\n",
    "    transforms.ToTensor(),\n",
    "    #transforms.Normalize((0.1307,), (0.3081,))\n",
    "    ])\n",
    "\n",
    "batch_size = 64\n",
    "test_batch_size = 64\n",
    "train_kwargs = {'batch_size': batch_size}\n",
    "test_kwargs = {'batch_size': test_batch_size}\n",
    "\n",
    "dataset1 = datasets.MNIST('./data', train=True, download=True,\n",
    "                    transform=transform)\n",
    "dataset2 = datasets.MNIST('./data', train=False,\n",
    "                    transform=transform)\n",
    "train_loader = torch.utils.data.DataLoader(dataset1,**train_kwargs)\n",
    "test_loader = torch.utils.data.DataLoader(dataset2, **test_kwargs)\n",
    "\n",
    "class Net(nn.Module):\n",
    "    def __init__(self):\n",
    "        super(Net, self).__init__()\n",
    "        self.conv1 = nn.Conv2d(1, 32, 3, 1)\n",
    "        self.conv2 = nn.Conv2d(32, 64, 3, 1)\n",
    "        self.dropout1 = nn.Dropout(0.25)\n",
    "        self.dropout2 = nn.Dropout(0.5)\n",
    "        self.fc1 = nn.Linear(9216, 128)\n",
    "        self.fc2 = nn.Linear(128, 10)\n",
    "\n",
    "    def forward(self, x):\n",
    "        x = self.conv1(x)\n",
    "        x = F.relu(x)\n",
    "        x = self.conv2(x)\n",
    "        x = F.relu(x)\n",
    "        x = F.max_pool2d(x, 2)\n",
    "        x = self.dropout1(x)\n",
    "        x = torch.flatten(x, 1)\n",
    "        x = self.fc1(x)\n",
    "        x = F.relu(x)\n",
    "        x = self.dropout2(x)\n",
    "        x = self.fc2(x)\n",
    "        output = F.log_softmax(x, dim=1)\n",
    "        return output\n",
    "\n",
    "\n",
    "def train(log_interval, model, device, train_loader, optimizer, epoch):\n",
    "    model.train()\n",
    "    for batch_idx, (data, target) in enumerate(train_loader):\n",
    "        data, target = data.to(device), target.to(device)\n",
    "        optimizer.zero_grad()\n",
    "        output = model(data)\n",
    "        loss = F.nll_loss(output, target)\n",
    "        loss.backward()\n",
    "        optimizer.step()\n",
    "        if batch_idx % log_interval == 0:\n",
    "            print('Train Epoch: {} [{}/{} ({:.0f}%)]\\tLoss: {:.6f}'.format(\n",
    "                epoch, batch_idx * len(data), len(train_loader.dataset),\n",
    "                100. * batch_idx / len(train_loader), loss.item()))\n",
    "\n",
    "\n",
    "def test(model, device, test_loader):\n",
    "    model.eval()\n",
    "    test_loss = 0\n",
    "    correct = 0\n",
    "    with torch.no_grad():\n",
    "        for data, target in test_loader:\n",
    "            data, target = data.to(device), target.to(device)\n",
    "            output = model(data)\n",
    "            test_loss += F.nll_loss(output, target, reduction='sum').item()  # sum up batch loss\n",
    "            pred = output.argmax(dim=1, keepdim=True)  # get the index of the max log-probability\n",
    "            correct += pred.eq(target.view_as(pred)).sum().item()\n",
    "\n",
    "    test_loss /= len(test_loader.dataset)\n",
    "\n",
    "    print('\\nTest set: Average loss: {:.4f}, Accuracy: {}/{} ({:.0f}%)\\n'.format(\n",
    "        test_loss, correct, len(test_loader.dataset),\n",
    "        100. * correct / len(test_loader.dataset)))"
   ]
  },
  {
   "cell_type": "code",
   "execution_count": 8,
   "metadata": {
    "tags": [
     "outputPrepend"
    ]
   },
   "outputs": [
    {
     "data": {
      "text/plain": [
       "\"\\nseed = 42\\ntorch.manual_seed(seed)\\nbatch_size = 64\\ntest_batch_size = 64\\nlr = 0.01\\ngamma = 0.7\\nepochs = 14\\nlog_interval = 10\\n\\ntrain_kwargs = {'batch_size': batch_size}\\ntest_kwargs = {'batch_size': test_batch_size}\\n\\ntransform=transforms.Compose([\\n    transforms.ToTensor()\\n    ])\\n\\n\\nmodel = Net().to(dev)\\noptimizer = optim.Adadelta(model.parameters(), lr=lr)\\n\\nscheduler = StepLR(optimizer, step_size=1, gamma=gamma)\\nfor epoch in range(1, epochs + 1):\\n    train(log_interval, model, dev, train_loader, optimizer, epoch)\\n    test(model, dev, test_loader)\\n    scheduler.step()\\n\""
      ]
     },
     "execution_count": 8,
     "metadata": {},
     "output_type": "execute_result"
    }
   ],
   "source": [
    "\"\"\"\n",
    "seed = 42\n",
    "torch.manual_seed(seed)\n",
    "batch_size = 64\n",
    "test_batch_size = 64\n",
    "lr = 0.01\n",
    "gamma = 0.7\n",
    "epochs = 14\n",
    "log_interval = 10\n",
    "\n",
    "train_kwargs = {'batch_size': batch_size}\n",
    "test_kwargs = {'batch_size': test_batch_size}\n",
    "\n",
    "transform=transforms.Compose([\n",
    "    transforms.ToTensor()\n",
    "    ])\n",
    "\n",
    "\n",
    "model = Net().to(dev)\n",
    "optimizer = optim.Adadelta(model.parameters(), lr=lr)\n",
    "\n",
    "scheduler = StepLR(optimizer, step_size=1, gamma=gamma)\n",
    "for epoch in range(1, epochs + 1):\n",
    "    train(log_interval, model, dev, train_loader, optimizer, epoch)\n",
    "    test(model, dev, test_loader)\n",
    "    scheduler.step()\n",
    "\"\"\""
   ]
  },
  {
   "cell_type": "code",
   "execution_count": 5,
   "metadata": {},
   "outputs": [
    {
     "data": {
      "text/plain": [
       "Net(\n",
       "  (conv1): Conv2d(1, 32, kernel_size=(3, 3), stride=(1, 1))\n",
       "  (conv2): Conv2d(32, 64, kernel_size=(3, 3), stride=(1, 1))\n",
       "  (dropout1): Dropout(p=0.25, inplace=False)\n",
       "  (dropout2): Dropout(p=0.5, inplace=False)\n",
       "  (fc1): Linear(in_features=9216, out_features=128, bias=True)\n",
       "  (fc2): Linear(in_features=128, out_features=10, bias=True)\n",
       ")"
      ]
     },
     "execution_count": 5,
     "metadata": {},
     "output_type": "execute_result"
    }
   ],
   "source": [
    "#torch.save(model, '/home/reinauer/EPFL/giotto-deep/examples/cnn_minst_10.pth')\n",
    "model = torch.load('cnn_minst_10.pth')\n",
    "model.eval()"
   ]
  },
  {
   "cell_type": "code",
   "execution_count": 8,
   "metadata": {},
   "outputs": [],
   "source": [
    "class LambdaLayer(nn.Module):\n",
    "    def __init__(self, lam):\n",
    "        super().__init__()\n",
    "        self.lam = lam\n",
    "    def forward(self, x):\n",
    "        return self.lam(x)\n",
    "\n",
    "class DBMulticlass(nn.Module):\n",
    "    def forward(self, x):\n",
    "        y = torch.topk(x, 4).values\n",
    "        return (y[:, 0] - y[:, 3]) + 0.5\n",
    "\n",
    "embedding_model_strat = nn.Sequential(model_auto.decoder,\n",
    "                        LambdaLayer(lambda x: x.reshape(-1, 1, 28, 28)),\n",
    "                        model,\n",
    "                        nn.Softmax(),\n",
    "                        DBMulticlass())\n",
    "\n",
    "embedding_model_prob = nn.Sequential(model_auto.decoder, \n",
    "                                     LambdaLayer(lambda x: x.reshape(-1, 1, 28, 28)),\n",
    "                                     model,\n",
    "                                     nn.Softmax())"
   ]
  },
  {
   "cell_type": "code",
   "execution_count": 12,
   "metadata": {},
   "outputs": [
    {
     "data": {
      "text/plain": [
       "tensor([[6.3769e-03, 1.3862e-03, 3.0843e-04, 5.2468e-03, 8.7423e-04, 9.7353e-01,\n",
       "         2.5234e-03, 3.9665e-03, 1.1613e-03, 4.6293e-03],\n",
       "        [8.2451e-03, 1.5615e-03, 3.9490e-04, 5.2104e-03, 9.0703e-04, 9.7040e-01,\n",
       "         2.5090e-03, 4.8394e-03, 1.1421e-03, 4.7929e-03],\n",
       "        [3.0700e-02, 2.4252e-03, 1.6461e-03, 9.9389e-03, 1.9218e-03, 9.1616e-01,\n",
       "         4.8395e-03, 1.9203e-02, 1.3084e-03, 1.1862e-02],\n",
       "        [2.9291e-02, 2.7858e-03, 1.5112e-03, 1.0486e-02, 1.4897e-03, 9.2206e-01,\n",
       "         4.0806e-03, 1.6302e-02, 1.2648e-03, 1.0726e-02],\n",
       "        [7.4159e-03, 1.2680e-03, 3.5179e-04, 5.0203e-03, 1.0316e-03, 9.6855e-01,\n",
       "         3.0822e-03, 5.4678e-03, 1.2121e-03, 6.5993e-03],\n",
       "        [2.7018e-02, 2.9398e-03, 1.4210e-03, 1.1385e-02, 1.4405e-03, 9.2305e-01,\n",
       "         4.0667e-03, 1.6275e-02, 1.2664e-03, 1.1137e-02],\n",
       "        [4.0788e-03, 1.2894e-03, 2.2330e-04, 5.7224e-03, 6.2610e-04, 9.7717e-01,\n",
       "         2.2369e-03, 3.2216e-03, 1.0366e-03, 4.3903e-03],\n",
       "        [2.9715e-02, 2.1789e-03, 1.4170e-03, 1.0158e-02, 1.5827e-03, 9.2041e-01,\n",
       "         4.3081e-03, 1.6718e-02, 1.2699e-03, 1.2240e-02],\n",
       "        [2.0530e-02, 2.1053e-03, 9.7473e-04, 8.9172e-03, 1.2862e-03, 9.4053e-01,\n",
       "         3.7723e-03, 1.1122e-02, 1.2404e-03, 9.5243e-03],\n",
       "        [1.3169e-02, 2.5442e-03, 7.0228e-04, 6.7118e-03, 1.0441e-03, 9.5771e-01,\n",
       "         2.8356e-03, 8.1476e-03, 1.1944e-03, 5.9444e-03]],\n",
       "       grad_fn=<SoftmaxBackward>)"
      ]
     },
     "execution_count": 12,
     "metadata": {},
     "output_type": "execute_result"
    }
   ],
   "source": [
    "embedding_model_prob(torch.rand((10, 3)))"
   ]
  },
  {
   "cell_type": "code",
   "execution_count": 19,
   "metadata": {},
   "outputs": [
    {
     "data": {
      "text/plain": [
       "'\\nn_delta = 20\\nt = np.linspace(-10.5, 10.5, n_delta)\\nx, y, z = np.meshgrid(t,t,t)\\nxyz = torch.from_numpy(np.stack((x, y, z), axis=-1)).reshape(-1, 3)\\nxyz = xyz.type(torch.float32)\\nvalues = embedding_model(xyz).reshape(n_delta, n_delta, n_delta,-1).detach()\\n   \\ntrace_1 = go.Isosurface(\\n    x = x.flatten(),\\n    y = y.flatten(),\\n    z = z.flatten(),\\n    value=values.flatten(),\\n    isomin=0.0,\\n    isomax=0.1)\\n\\nfig = go.FigureWidget([trace_1])\\nfig.show()\\n'"
      ]
     },
     "execution_count": 19,
     "metadata": {},
     "output_type": "execute_result"
    }
   ],
   "source": [
    "\"\"\"\n",
    "n_delta = 20\n",
    "t = np.linspace(-10.5, 10.5, n_delta)\n",
    "x, y, z = np.meshgrid(t,t,t)\n",
    "xyz = torch.from_numpy(np.stack((x, y, z), axis=-1)).reshape(-1, 3)\n",
    "xyz = xyz.type(torch.float32)\n",
    "values = embedding_model(xyz).reshape(n_delta, n_delta, n_delta,-1).detach()\n",
    "   \n",
    "trace_1 = go.Isosurface(\n",
    "    x = x.flatten(),\n",
    "    y = y.flatten(),\n",
    "    z = z.flatten(),\n",
    "    value=values.flatten(),\n",
    "    isomin=0.0,\n",
    "    isomax=0.1)\n",
    "\n",
    "fig = go.FigureWidget([trace_1])\n",
    "fig.show()\n",
    "\"\"\""
   ]
  },
  {
   "cell_type": "code",
   "execution_count": 25,
   "metadata": {},
   "outputs": [
    {
     "data": {
      "text/plain": [
       "Sequential(\n",
       "  (0): Sequential(\n",
       "    (0): Linear(in_features=3, out_features=12, bias=True)\n",
       "    (1): ReLU(inplace=True)\n",
       "    (2): Linear(in_features=12, out_features=64, bias=True)\n",
       "    (3): ReLU(inplace=True)\n",
       "    (4): Linear(in_features=64, out_features=128, bias=True)\n",
       "    (5): ReLU(inplace=True)\n",
       "    (6): Linear(in_features=128, out_features=784, bias=True)\n",
       "    (7): Tanh()\n",
       "  )\n",
       "  (1): LambdaLayer()\n",
       "  (2): Net(\n",
       "    (conv1): Conv2d(1, 32, kernel_size=(3, 3), stride=(1, 1))\n",
       "    (conv2): Conv2d(32, 64, kernel_size=(3, 3), stride=(1, 1))\n",
       "    (dropout1): Dropout(p=0.25, inplace=False)\n",
       "    (dropout2): Dropout(p=0.5, inplace=False)\n",
       "    (fc1): Linear(in_features=9216, out_features=128, bias=True)\n",
       "    (fc2): Linear(in_features=128, out_features=10, bias=True)\n",
       "  )\n",
       "  (3): DBMulticlass()\n",
       ")"
      ]
     },
     "execution_count": 25,
     "metadata": {},
     "output_type": "execute_result"
    }
   ],
   "source": [
    "torch.cuda.empty_cache()\n",
    "\n",
    "embedding_model.to(dev)\n",
    "embedding_model.eval()"
   ]
  },
  {
   "cell_type": "code",
   "execution_count": 26,
   "metadata": {},
   "outputs": [],
   "source": [
    "#del initial_points_batch\n",
    "torch.cuda.empty_cache()"
   ]
  },
  {
   "cell_type": "code",
   "execution_count": 13,
   "metadata": {},
   "outputs": [
    {
     "name": "stdout",
     "output_type": "stream",
     "text": [
      "batch: 1/2 \t    computation time/batch: 9.4228sec\t    number of points: 31\n",
      "\t    median distance2db: 3.838539123535156e-05\n"
     ]
    },
    {
     "ename": "KeyboardInterrupt",
     "evalue": "",
     "output_type": "error",
     "traceback": [
      "\u001b[0;31m---------------------------------------------------------------------------\u001b[0m",
      "\u001b[0;31mKeyboardInterrupt\u001b[0m                         Traceback (most recent call last)",
      "\u001b[0;32m<ipython-input-13-9e02ae5d58c1>\u001b[0m in \u001b[0;36m<module>\u001b[0;34m\u001b[0m\n\u001b[1;32m     19\u001b[0m                 \u001b[0moptimizer\u001b[0m\u001b[0;34m=\u001b[0m\u001b[0;32mlambda\u001b[0m \u001b[0mparams\u001b[0m\u001b[0;34m:\u001b[0m \u001b[0mtorch\u001b[0m\u001b[0;34m.\u001b[0m\u001b[0moptim\u001b[0m\u001b[0;34m.\u001b[0m\u001b[0mAdam\u001b[0m\u001b[0;34m(\u001b[0m\u001b[0mparams\u001b[0m\u001b[0;34m)\u001b[0m\u001b[0;34m\u001b[0m\u001b[0;34m\u001b[0m\u001b[0m\n\u001b[1;32m     20\u001b[0m     )\n\u001b[0;32m---> 21\u001b[0;31m     \u001b[0mg\u001b[0m\u001b[0;34m.\u001b[0m\u001b[0mstep\u001b[0m\u001b[0;34m(\u001b[0m\u001b[0mn_steps\u001b[0m\u001b[0;34m)\u001b[0m\u001b[0;34m\u001b[0m\u001b[0;34m\u001b[0m\u001b[0m\n\u001b[0m\u001b[1;32m     22\u001b[0m \u001b[0;34m\u001b[0m\u001b[0m\n\u001b[1;32m     23\u001b[0m     \u001b[0;31m# Save computed points to DataFrame\u001b[0m\u001b[0;34m\u001b[0m\u001b[0;34m\u001b[0m\u001b[0;34m\u001b[0m\u001b[0m\n",
      "\u001b[0;32m~/Innosuisse/giotto-deep/gdeep/decision_boundary/decision_boundary_calculator.py\u001b[0m in \u001b[0;36mstep\u001b[0;34m(self, number_of_steps)\u001b[0m\n\u001b[1;32m     99\u001b[0m             \u001b[0mloss\u001b[0m \u001b[0;34m=\u001b[0m \u001b[0mtorch\u001b[0m\u001b[0;34m.\u001b[0m\u001b[0msum\u001b[0m\u001b[0;34m(\u001b[0m\u001b[0mself\u001b[0m\u001b[0;34m.\u001b[0m\u001b[0mmodel\u001b[0m\u001b[0;34m(\u001b[0m\u001b[0mself\u001b[0m\u001b[0;34m.\u001b[0m\u001b[0msample_points\u001b[0m\u001b[0;34m)\u001b[0m\u001b[0;34m)\u001b[0m\u001b[0;34m\u001b[0m\u001b[0;34m\u001b[0m\u001b[0m\n\u001b[1;32m    100\u001b[0m             \u001b[0mloss\u001b[0m\u001b[0;34m.\u001b[0m\u001b[0mbackward\u001b[0m\u001b[0;34m(\u001b[0m\u001b[0;34m)\u001b[0m\u001b[0;34m\u001b[0m\u001b[0;34m\u001b[0m\u001b[0m\n\u001b[0;32m--> 101\u001b[0;31m             \u001b[0mself\u001b[0m\u001b[0;34m.\u001b[0m\u001b[0moptimizer\u001b[0m\u001b[0;34m.\u001b[0m\u001b[0mstep\u001b[0m\u001b[0;34m(\u001b[0m\u001b[0;34m)\u001b[0m\u001b[0;34m\u001b[0m\u001b[0;34m\u001b[0m\u001b[0m\n\u001b[0m\u001b[1;32m    102\u001b[0m \u001b[0;34m\u001b[0m\u001b[0m\n\u001b[1;32m    103\u001b[0m     \u001b[0;32mdef\u001b[0m \u001b[0mget_decision_boundary\u001b[0m\u001b[0;34m(\u001b[0m\u001b[0mself\u001b[0m\u001b[0;34m)\u001b[0m \u001b[0;34m->\u001b[0m \u001b[0mtorch\u001b[0m\u001b[0;34m.\u001b[0m\u001b[0mTensor\u001b[0m\u001b[0;34m:\u001b[0m\u001b[0;34m\u001b[0m\u001b[0;34m\u001b[0m\u001b[0m\n",
      "\u001b[0;32m~/conda-envs/giottodeep/lib/python3.8/site-packages/torch/autograd/grad_mode.py\u001b[0m in \u001b[0;36mdecorate_context\u001b[0;34m(*args, **kwargs)\u001b[0m\n\u001b[1;32m     23\u001b[0m         \u001b[0;34m@\u001b[0m\u001b[0mfunctools\u001b[0m\u001b[0;34m.\u001b[0m\u001b[0mwraps\u001b[0m\u001b[0;34m(\u001b[0m\u001b[0mfunc\u001b[0m\u001b[0;34m)\u001b[0m\u001b[0;34m\u001b[0m\u001b[0;34m\u001b[0m\u001b[0m\n\u001b[1;32m     24\u001b[0m         \u001b[0;32mdef\u001b[0m \u001b[0mdecorate_context\u001b[0m\u001b[0;34m(\u001b[0m\u001b[0;34m*\u001b[0m\u001b[0margs\u001b[0m\u001b[0;34m,\u001b[0m \u001b[0;34m**\u001b[0m\u001b[0mkwargs\u001b[0m\u001b[0;34m)\u001b[0m\u001b[0;34m:\u001b[0m\u001b[0;34m\u001b[0m\u001b[0;34m\u001b[0m\u001b[0m\n\u001b[0;32m---> 25\u001b[0;31m             \u001b[0;32mwith\u001b[0m \u001b[0mself\u001b[0m\u001b[0;34m.\u001b[0m\u001b[0m__class__\u001b[0m\u001b[0;34m(\u001b[0m\u001b[0;34m)\u001b[0m\u001b[0;34m:\u001b[0m\u001b[0;34m\u001b[0m\u001b[0;34m\u001b[0m\u001b[0m\n\u001b[0m\u001b[1;32m     26\u001b[0m                 \u001b[0;32mreturn\u001b[0m \u001b[0mfunc\u001b[0m\u001b[0;34m(\u001b[0m\u001b[0;34m*\u001b[0m\u001b[0margs\u001b[0m\u001b[0;34m,\u001b[0m \u001b[0;34m**\u001b[0m\u001b[0mkwargs\u001b[0m\u001b[0;34m)\u001b[0m\u001b[0;34m\u001b[0m\u001b[0;34m\u001b[0m\u001b[0m\n\u001b[1;32m     27\u001b[0m         \u001b[0;32mreturn\u001b[0m \u001b[0mcast\u001b[0m\u001b[0;34m(\u001b[0m\u001b[0mF\u001b[0m\u001b[0;34m,\u001b[0m \u001b[0mdecorate_context\u001b[0m\u001b[0;34m)\u001b[0m\u001b[0;34m\u001b[0m\u001b[0;34m\u001b[0m\u001b[0m\n",
      "\u001b[0;32m~/conda-envs/giottodeep/lib/python3.8/site-packages/torch/autograd/grad_mode.py\u001b[0m in \u001b[0;36m__init__\u001b[0;34m(self)\u001b[0m\n\u001b[1;32m     80\u001b[0m     \u001b[0;32mdef\u001b[0m \u001b[0m__init__\u001b[0m\u001b[0;34m(\u001b[0m\u001b[0mself\u001b[0m\u001b[0;34m)\u001b[0m\u001b[0;34m:\u001b[0m\u001b[0;34m\u001b[0m\u001b[0;34m\u001b[0m\u001b[0m\n\u001b[1;32m     81\u001b[0m         \u001b[0;32mif\u001b[0m \u001b[0;32mnot\u001b[0m \u001b[0mtorch\u001b[0m\u001b[0;34m.\u001b[0m\u001b[0m_jit_internal\u001b[0m\u001b[0;34m.\u001b[0m\u001b[0mis_scripting\u001b[0m\u001b[0;34m(\u001b[0m\u001b[0;34m)\u001b[0m\u001b[0;34m:\u001b[0m\u001b[0;34m\u001b[0m\u001b[0;34m\u001b[0m\u001b[0m\n\u001b[0;32m---> 82\u001b[0;31m             \u001b[0msuper\u001b[0m\u001b[0;34m(\u001b[0m\u001b[0;34m)\u001b[0m\u001b[0;34m.\u001b[0m\u001b[0m__init__\u001b[0m\u001b[0;34m(\u001b[0m\u001b[0;34m)\u001b[0m\u001b[0;34m\u001b[0m\u001b[0;34m\u001b[0m\u001b[0m\n\u001b[0m\u001b[1;32m     83\u001b[0m         \u001b[0mself\u001b[0m\u001b[0;34m.\u001b[0m\u001b[0mprev\u001b[0m \u001b[0;34m=\u001b[0m \u001b[0;32mFalse\u001b[0m\u001b[0;34m\u001b[0m\u001b[0;34m\u001b[0m\u001b[0m\n\u001b[1;32m     84\u001b[0m \u001b[0;34m\u001b[0m\u001b[0m\n",
      "\u001b[0;31mKeyboardInterrupt\u001b[0m: "
     ]
    }
   ],
   "source": [
    "n_steps = 1000\n",
    "precision = 0.01\n",
    "range_db = 70.\n",
    "\n",
    "n_batches = 2#60*12#100\n",
    "batch_size = 200#1500#4000\n",
    "\n",
    "# Initialize DataFrame\n",
    "db_sample_df = pd.DataFrame(columns = [\"x\"+str(i) for i in range(3)])\n",
    "\n",
    "for b in range(n_batches):\n",
    "    tic = time.perf_counter()\n",
    "    # Sample points on decision boundary\n",
    "    initial_points_batch = range_db * torch.rand((batch_size, 3)) - range_db/2.\n",
    "    initial_points_batch = initial_points_batch.to(dev, non_blocking=True)\n",
    "    g = GradientFlowDecisionBoundaryCalculator(\n",
    "                model=embedding_model,\n",
    "                initial_points=initial_points_batch,\n",
    "                optimizer=lambda params: torch.optim.Adam(params)\n",
    "    )\n",
    "    g.step(n_steps)\n",
    "    \n",
    "    # Save computed points to DataFrame\n",
    "    db_sample_tensor = g.get_filtered_decision_boundary(precision)\n",
    "    \n",
    "    median = torch.median(embedding_model(db_sample_tensor) - 0.5).cpu().detach().numpy()\n",
    "    db_sample = db_sample_tensor.to(device='cpu').detach().numpy()\n",
    "    db_sample_df_batch = pd.DataFrame(db_sample, columns = [\"x\"+str(i) for i in range(3)])\n",
    "    \n",
    "    db_sample_df = db_sample_df.append(db_sample_df_batch, ignore_index=True)\n",
    "    \n",
    "    # Delete tensors on cuda\n",
    "    del db_sample_tensor\n",
    "    del initial_points_batch\n",
    "    del db_sample\n",
    "    torch.cuda.empty_cache()\n",
    "    toc = time.perf_counter()\n",
    "    print(f'batch: {b+1}/{n_batches} \\t\\\n",
    "    computation time/batch: {toc - tic:0.4f}sec\\t\\\n",
    "    number of points: {db_sample_df_batch.shape[0]}\\n\\t\\\n",
    "    median distance2db: {median}')\n",
    "    del db_sample_df_batch"
   ]
  },
  {
   "cell_type": "code",
   "execution_count": 27,
   "metadata": {},
   "outputs": [
    {
     "name": "stdout",
     "output_type": "stream",
     "text": [
      "computation DB time/batch: 53.8343\n",
      "batch: 1/1000 \t    computation time/batch: 53.8373sec\t    number of points: 10\n",
      "\t    median distance2db: 0.0007183551788330078\n",
      "computation DB time/batch: 53.9291\n",
      "batch: 2/1000 \t    computation time/batch: 53.9320sec\t    number of points: 16\n",
      "\t    median distance2db: 0.0034782886505126953\n",
      "computation DB time/batch: 54.0758\n",
      "batch: 3/1000 \t    computation time/batch: 54.0785sec\t    number of points: 10\n",
      "\t    median distance2db: 0.002861499786376953\n",
      "computation DB time/batch: 53.9366\n",
      "batch: 4/1000 \t    computation time/batch: 53.9402sec\t    number of points: 12\n",
      "\t    median distance2db: 0.0023703575134277344\n",
      "computation DB time/batch: 53.9631\n",
      "batch: 5/1000 \t    computation time/batch: 53.9659sec\t    number of points: 17\n",
      "\t    median distance2db: 0.0026977062225341797\n",
      "computation DB time/batch: 53.9973\n",
      "batch: 6/1000 \t    computation time/batch: 54.0005sec\t    number of points: 11\n",
      "\t    median distance2db: 0.0010905265808105469\n",
      "computation DB time/batch: 54.0053\n",
      "batch: 7/1000 \t    computation time/batch: 54.0086sec\t    number of points: 18\n",
      "\t    median distance2db: 0.0006862878799438477\n",
      "computation DB time/batch: 54.0044\n",
      "batch: 8/1000 \t    computation time/batch: 54.0077sec\t    number of points: 10\n",
      "\t    median distance2db: 0.0016214847564697266\n",
      "computation DB time/batch: 53.9741\n",
      "batch: 9/1000 \t    computation time/batch: 53.9773sec\t    number of points: 7\n",
      "\t    median distance2db: 0.0002518892288208008\n",
      "computation DB time/batch: 53.9771\n",
      "batch: 10/1000 \t    computation time/batch: 53.9802sec\t    number of points: 13\n",
      "\t    median distance2db: 0.0013856887817382812\n",
      "computation DB time/batch: 53.9817\n",
      "batch: 11/1000 \t    computation time/batch: 53.9849sec\t    number of points: 14\n",
      "\t    median distance2db: 0.00025904178619384766\n",
      "computation DB time/batch: 53.9744\n",
      "batch: 12/1000 \t    computation time/batch: 53.9776sec\t    number of points: 18\n",
      "\t    median distance2db: 0.0005446672439575195\n",
      "computation DB time/batch: 53.9717\n",
      "batch: 13/1000 \t    computation time/batch: 53.9752sec\t    number of points: 18\n",
      "\t    median distance2db: 0.001692056655883789\n",
      "computation DB time/batch: 53.9698\n",
      "batch: 14/1000 \t    computation time/batch: 53.9731sec\t    number of points: 16\n",
      "\t    median distance2db: 0.0008217096328735352\n",
      "computation DB time/batch: 53.9641\n",
      "batch: 15/1000 \t    computation time/batch: 53.9675sec\t    number of points: 15\n",
      "\t    median distance2db: 0.000823974609375\n",
      "computation DB time/batch: 53.9584\n",
      "batch: 16/1000 \t    computation time/batch: 53.9612sec\t    number of points: 8\n",
      "\t    median distance2db: 0.005823969841003418\n",
      "computation DB time/batch: 53.9494\n",
      "batch: 17/1000 \t    computation time/batch: 53.9528sec\t    number of points: 14\n",
      "\t    median distance2db: 0.0013982057571411133\n",
      "computation DB time/batch: 53.9620\n",
      "batch: 18/1000 \t    computation time/batch: 53.9648sec\t    number of points: 19\n",
      "\t    median distance2db: 0.002027750015258789\n",
      "computation DB time/batch: 53.9665\n",
      "batch: 19/1000 \t    computation time/batch: 53.9695sec\t    number of points: 18\n",
      "\t    median distance2db: 0.0025091171264648438\n",
      "computation DB time/batch: 53.9646\n",
      "batch: 20/1000 \t    computation time/batch: 53.9678sec\t    number of points: 12\n",
      "\t    median distance2db: 0.0012111663818359375\n",
      "computation DB time/batch: 53.9852\n",
      "batch: 21/1000 \t    computation time/batch: 53.9880sec\t    number of points: 8\n",
      "\t    median distance2db: 0.0028693675994873047\n",
      "computation DB time/batch: 53.9808\n",
      "batch: 22/1000 \t    computation time/batch: 53.9835sec\t    number of points: 15\n",
      "\t    median distance2db: 0.0022575855255126953\n",
      "computation DB time/batch: 53.9789\n",
      "batch: 23/1000 \t    computation time/batch: 53.9820sec\t    number of points: 9\n",
      "\t    median distance2db: 0.0030504465103149414\n",
      "computation DB time/batch: 53.9778\n",
      "batch: 24/1000 \t    computation time/batch: 53.9808sec\t    number of points: 14\n",
      "\t    median distance2db: 0.002696394920349121\n",
      "computation DB time/batch: 53.9458\n",
      "batch: 25/1000 \t    computation time/batch: 53.9493sec\t    number of points: 12\n",
      "\t    median distance2db: 0.0014241933822631836\n",
      "computation DB time/batch: 53.9290\n",
      "batch: 26/1000 \t    computation time/batch: 53.9323sec\t    number of points: 13\n",
      "\t    median distance2db: 0.002618074417114258\n",
      "computation DB time/batch: 53.9668\n",
      "batch: 27/1000 \t    computation time/batch: 53.9697sec\t    number of points: 14\n",
      "\t    median distance2db: 6.103515625e-05\n",
      "computation DB time/batch: 53.9913\n",
      "batch: 28/1000 \t    computation time/batch: 53.9952sec\t    number of points: 12\n",
      "\t    median distance2db: 0.0020627975463867188\n",
      "computation DB time/batch: 53.9852\n",
      "batch: 29/1000 \t    computation time/batch: 53.9883sec\t    number of points: 13\n",
      "\t    median distance2db: 0.00041413307189941406\n",
      "computation DB time/batch: 54.0156\n",
      "batch: 30/1000 \t    computation time/batch: 54.0188sec\t    number of points: 9\n",
      "\t    median distance2db: 0.002905607223510742\n",
      "computation DB time/batch: 54.0121\n",
      "batch: 31/1000 \t    computation time/batch: 54.0154sec\t    number of points: 6\n",
      "\t    median distance2db: 0.006136417388916016\n",
      "computation DB time/batch: 54.0018\n",
      "batch: 32/1000 \t    computation time/batch: 54.0047sec\t    number of points: 14\n",
      "\t    median distance2db: 0.0014851093292236328\n",
      "computation DB time/batch: 53.9842\n",
      "batch: 33/1000 \t    computation time/batch: 53.9870sec\t    number of points: 14\n",
      "\t    median distance2db: 0.0008685588836669922\n",
      "computation DB time/batch: 53.9833\n",
      "batch: 34/1000 \t    computation time/batch: 53.9862sec\t    number of points: 10\n",
      "\t    median distance2db: 0.001145005226135254\n",
      "computation DB time/batch: 53.9493\n",
      "batch: 35/1000 \t    computation time/batch: 53.9527sec\t    number of points: 11\n",
      "\t    median distance2db: 0.003272414207458496\n",
      "computation DB time/batch: 53.9005\n",
      "batch: 36/1000 \t    computation time/batch: 53.9038sec\t    number of points: 16\n",
      "\t    median distance2db: 0.0012613534927368164\n",
      "computation DB time/batch: 53.9312\n",
      "batch: 37/1000 \t    computation time/batch: 53.9343sec\t    number of points: 8\n",
      "\t    median distance2db: 0.00027751922607421875\n",
      "computation DB time/batch: 53.9712\n",
      "batch: 38/1000 \t    computation time/batch: 53.9744sec\t    number of points: 11\n",
      "\t    median distance2db: 0.0011137723922729492\n",
      "computation DB time/batch: 54.0000\n",
      "batch: 39/1000 \t    computation time/batch: 54.0030sec\t    number of points: 9\n",
      "\t    median distance2db: 0.0031260251998901367\n",
      "computation DB time/batch: 54.0014\n",
      "batch: 40/1000 \t    computation time/batch: 54.0045sec\t    number of points: 11\n",
      "\t    median distance2db: 0.0005038976669311523\n",
      "computation DB time/batch: 53.9974\n",
      "batch: 41/1000 \t    computation time/batch: 54.0013sec\t    number of points: 11\n",
      "\t    median distance2db: 0.0005930662155151367\n",
      "computation DB time/batch: 53.9956\n",
      "batch: 42/1000 \t    computation time/batch: 53.9984sec\t    number of points: 13\n",
      "\t    median distance2db: 0.004531264305114746\n",
      "computation DB time/batch: 53.9584\n",
      "batch: 43/1000 \t    computation time/batch: 53.9614sec\t    number of points: 17\n",
      "\t    median distance2db: 0.0025663375854492188\n",
      "computation DB time/batch: 53.9051\n",
      "batch: 44/1000 \t    computation time/batch: 53.9080sec\t    number of points: 15\n",
      "\t    median distance2db: 0.0022367238998413086\n",
      "computation DB time/batch: 53.9432\n",
      "batch: 45/1000 \t    computation time/batch: 53.9461sec\t    number of points: 10\n",
      "\t    median distance2db: 0.0038028955459594727\n",
      "computation DB time/batch: 53.9842\n",
      "batch: 46/1000 \t    computation time/batch: 53.9875sec\t    number of points: 8\n",
      "\t    median distance2db: 0.0008424520492553711\n",
      "computation DB time/batch: 53.9839\n",
      "batch: 47/1000 \t    computation time/batch: 53.9868sec\t    number of points: 15\n",
      "\t    median distance2db: 0.0026056766510009766\n",
      "computation DB time/batch: 53.9830\n",
      "batch: 48/1000 \t    computation time/batch: 53.9861sec\t    number of points: 15\n",
      "\t    median distance2db: 0.00254058837890625\n",
      "computation DB time/batch: 53.9623\n",
      "batch: 49/1000 \t    computation time/batch: 53.9652sec\t    number of points: 9\n",
      "\t    median distance2db: 0.003989100456237793\n",
      "computation DB time/batch: 53.9686\n",
      "batch: 50/1000 \t    computation time/batch: 53.9714sec\t    number of points: 13\n",
      "\t    median distance2db: 0.00411534309387207\n",
      "computation DB time/batch: 53.9694\n",
      "batch: 51/1000 \t    computation time/batch: 53.9722sec\t    number of points: 21\n",
      "\t    median distance2db: 0.002325773239135742\n"
     ]
    },
    {
     "name": "stdout",
     "output_type": "stream",
     "text": [
      "computation DB time/batch: 53.9689\n",
      "batch: 52/1000 \t    computation time/batch: 53.9726sec\t    number of points: 11\n",
      "\t    median distance2db: 0.0011227130889892578\n",
      "computation DB time/batch: 53.9672\n",
      "batch: 53/1000 \t    computation time/batch: 53.9700sec\t    number of points: 14\n",
      "\t    median distance2db: 0.0021833181381225586\n",
      "computation DB time/batch: 53.9923\n",
      "batch: 54/1000 \t    computation time/batch: 53.9959sec\t    number of points: 11\n",
      "\t    median distance2db: 0.0015270709991455078\n",
      "computation DB time/batch: 53.9923\n",
      "batch: 55/1000 \t    computation time/batch: 53.9963sec\t    number of points: 12\n",
      "\t    median distance2db: 0.0001443624496459961\n",
      "computation DB time/batch: 53.9716\n",
      "batch: 56/1000 \t    computation time/batch: 53.9747sec\t    number of points: 7\n",
      "\t    median distance2db: 0.001255035400390625\n",
      "computation DB time/batch: 53.9188\n",
      "batch: 57/1000 \t    computation time/batch: 53.9219sec\t    number of points: 9\n",
      "\t    median distance2db: 0.0019484758377075195\n",
      "computation DB time/batch: 53.9057\n",
      "batch: 58/1000 \t    computation time/batch: 53.9086sec\t    number of points: 16\n",
      "\t    median distance2db: 0.00027549266815185547\n",
      "computation DB time/batch: 53.9209\n",
      "batch: 59/1000 \t    computation time/batch: 53.9239sec\t    number of points: 10\n",
      "\t    median distance2db: 0.0017261505126953125\n",
      "computation DB time/batch: 53.9293\n",
      "batch: 60/1000 \t    computation time/batch: 53.9321sec\t    number of points: 16\n",
      "\t    median distance2db: 0.0007789134979248047\n",
      "computation DB time/batch: 53.9362\n",
      "batch: 61/1000 \t    computation time/batch: 53.9395sec\t    number of points: 7\n",
      "\t    median distance2db: 0.0021365880966186523\n",
      "computation DB time/batch: 53.9368\n",
      "batch: 62/1000 \t    computation time/batch: 53.9396sec\t    number of points: 18\n",
      "\t    median distance2db: 0.0032416582107543945\n",
      "computation DB time/batch: 53.9426\n",
      "batch: 63/1000 \t    computation time/batch: 53.9459sec\t    number of points: 12\n",
      "\t    median distance2db: 0.0034738779067993164\n",
      "computation DB time/batch: 53.9518\n",
      "batch: 64/1000 \t    computation time/batch: 53.9547sec\t    number of points: 8\n",
      "\t    median distance2db: 0.004176139831542969\n",
      "computation DB time/batch: 53.9468\n",
      "batch: 65/1000 \t    computation time/batch: 53.9496sec\t    number of points: 15\n",
      "\t    median distance2db: 0.00347137451171875\n",
      "computation DB time/batch: 53.9479\n",
      "batch: 66/1000 \t    computation time/batch: 53.9509sec\t    number of points: 16\n",
      "\t    median distance2db: 0.0032068490982055664\n",
      "computation DB time/batch: 53.9499\n",
      "batch: 67/1000 \t    computation time/batch: 53.9527sec\t    number of points: 13\n",
      "\t    median distance2db: 0.00041997432708740234\n",
      "computation DB time/batch: 53.9329\n",
      "batch: 68/1000 \t    computation time/batch: 53.9365sec\t    number of points: 7\n",
      "\t    median distance2db: 4.494190216064453e-05\n",
      "computation DB time/batch: 53.9442\n",
      "batch: 69/1000 \t    computation time/batch: 53.9474sec\t    number of points: 18\n",
      "\t    median distance2db: 0.0013604164123535156\n",
      "computation DB time/batch: 53.9420\n",
      "batch: 70/1000 \t    computation time/batch: 53.9453sec\t    number of points: 14\n",
      "\t    median distance2db: 0.002941608428955078\n",
      "computation DB time/batch: 53.9327\n",
      "batch: 71/1000 \t    computation time/batch: 53.9357sec\t    number of points: 16\n",
      "\t    median distance2db: 0.0010509490966796875\n",
      "computation DB time/batch: 53.9282\n",
      "batch: 72/1000 \t    computation time/batch: 53.9310sec\t    number of points: 14\n",
      "\t    median distance2db: 0.0013120174407958984\n",
      "computation DB time/batch: 53.9422\n",
      "batch: 73/1000 \t    computation time/batch: 53.9452sec\t    number of points: 14\n",
      "\t    median distance2db: 0.001984119415283203\n",
      "computation DB time/batch: 53.9558\n",
      "batch: 74/1000 \t    computation time/batch: 53.9588sec\t    number of points: 13\n",
      "\t    median distance2db: 0.0015234947204589844\n",
      "computation DB time/batch: 53.9488\n",
      "batch: 75/1000 \t    computation time/batch: 53.9516sec\t    number of points: 10\n",
      "\t    median distance2db: 0.0016803741455078125\n",
      "computation DB time/batch: 53.9711\n",
      "batch: 76/1000 \t    computation time/batch: 53.9738sec\t    number of points: 15\n",
      "\t    median distance2db: 0.003894209861755371\n",
      "computation DB time/batch: 53.9649\n",
      "batch: 77/1000 \t    computation time/batch: 53.9678sec\t    number of points: 15\n",
      "\t    median distance2db: 0.0029796361923217773\n",
      "computation DB time/batch: 53.9777\n",
      "batch: 78/1000 \t    computation time/batch: 53.9809sec\t    number of points: 15\n",
      "\t    median distance2db: 0.001512765884399414\n",
      "computation DB time/batch: 53.9784\n",
      "batch: 79/1000 \t    computation time/batch: 53.9815sec\t    number of points: 15\n",
      "\t    median distance2db: 0.0012040138244628906\n",
      "computation DB time/batch: 53.9789\n",
      "batch: 80/1000 \t    computation time/batch: 53.9821sec\t    number of points: 12\n",
      "\t    median distance2db: 0.0028406381607055664\n",
      "computation DB time/batch: 53.9774\n",
      "batch: 81/1000 \t    computation time/batch: 53.9806sec\t    number of points: 6\n",
      "\t    median distance2db: 0.004529714584350586\n",
      "computation DB time/batch: 53.9806\n",
      "batch: 82/1000 \t    computation time/batch: 53.9835sec\t    number of points: 8\n",
      "\t    median distance2db: 0.00015592575073242188\n",
      "computation DB time/batch: 53.9835\n",
      "batch: 83/1000 \t    computation time/batch: 53.9867sec\t    number of points: 17\n",
      "\t    median distance2db: 0.001865983009338379\n",
      "computation DB time/batch: 53.9808\n",
      "batch: 84/1000 \t    computation time/batch: 53.9846sec\t    number of points: 6\n",
      "\t    median distance2db: 0.0001920461654663086\n",
      "computation DB time/batch: 53.9857\n",
      "batch: 85/1000 \t    computation time/batch: 53.9886sec\t    number of points: 15\n",
      "\t    median distance2db: 0.0029698610305786133\n",
      "computation DB time/batch: 54.0040\n",
      "batch: 86/1000 \t    computation time/batch: 54.0074sec\t    number of points: 12\n",
      "\t    median distance2db: 0.002972126007080078\n",
      "computation DB time/batch: 53.9879\n",
      "batch: 87/1000 \t    computation time/batch: 53.9907sec\t    number of points: 15\n",
      "\t    median distance2db: 0.002290487289428711\n",
      "computation DB time/batch: 53.9917\n",
      "batch: 88/1000 \t    computation time/batch: 53.9952sec\t    number of points: 12\n",
      "\t    median distance2db: 0.0046073198318481445\n",
      "computation DB time/batch: 53.9837\n",
      "batch: 89/1000 \t    computation time/batch: 53.9895sec\t    number of points: 14\n",
      "\t    median distance2db: 0.0010172128677368164\n",
      "computation DB time/batch: 53.9992\n",
      "batch: 90/1000 \t    computation time/batch: 54.0022sec\t    number of points: 13\n",
      "\t    median distance2db: 0.0041697025299072266\n",
      "computation DB time/batch: 54.0448\n",
      "batch: 91/1000 \t    computation time/batch: 54.0476sec\t    number of points: 14\n",
      "\t    median distance2db: 0.001572251319885254\n",
      "computation DB time/batch: 54.0300\n",
      "batch: 92/1000 \t    computation time/batch: 54.0331sec\t    number of points: 14\n",
      "\t    median distance2db: 0.002973318099975586\n",
      "computation DB time/batch: 54.0071\n",
      "batch: 93/1000 \t    computation time/batch: 54.0104sec\t    number of points: 12\n",
      "\t    median distance2db: 0.0023767948150634766\n",
      "computation DB time/batch: 53.9495\n",
      "batch: 94/1000 \t    computation time/batch: 53.9527sec\t    number of points: 11\n",
      "\t    median distance2db: 0.0004904270172119141\n",
      "computation DB time/batch: 53.9780\n",
      "batch: 95/1000 \t    computation time/batch: 53.9814sec\t    number of points: 12\n",
      "\t    median distance2db: 0.0036766529083251953\n",
      "computation DB time/batch: 53.9649\n",
      "batch: 96/1000 \t    computation time/batch: 53.9679sec\t    number of points: 17\n",
      "\t    median distance2db: 0.004499673843383789\n",
      "computation DB time/batch: 53.9907\n",
      "batch: 97/1000 \t    computation time/batch: 53.9937sec\t    number of points: 15\n",
      "\t    median distance2db: 0.003856658935546875\n",
      "computation DB time/batch: 53.9911\n",
      "batch: 98/1000 \t    computation time/batch: 53.9947sec\t    number of points: 15\n",
      "\t    median distance2db: 0.0013184547424316406\n",
      "computation DB time/batch: 54.0106\n",
      "batch: 99/1000 \t    computation time/batch: 54.0141sec\t    number of points: 16\n",
      "\t    median distance2db: 0.0027407407760620117\n",
      "computation DB time/batch: 54.0170\n",
      "batch: 100/1000 \t    computation time/batch: 54.0205sec\t    number of points: 13\n",
      "\t    median distance2db: 0.00240933895111084\n",
      "computation DB time/batch: 54.0095\n",
      "batch: 101/1000 \t    computation time/batch: 54.0128sec\t    number of points: 10\n",
      "\t    median distance2db: 0.0015170574188232422\n",
      "computation DB time/batch: 53.9836\n",
      "batch: 102/1000 \t    computation time/batch: 53.9874sec\t    number of points: 14\n",
      "\t    median distance2db: 0.0027382373809814453\n"
     ]
    },
    {
     "name": "stdout",
     "output_type": "stream",
     "text": [
      "computation DB time/batch: 53.8063\n",
      "batch: 103/1000 \t    computation time/batch: 53.8100sec\t    number of points: 11\n",
      "\t    median distance2db: 0.0030012130737304688\n",
      "computation DB time/batch: 53.6167\n",
      "batch: 104/1000 \t    computation time/batch: 53.6199sec\t    number of points: 19\n",
      "\t    median distance2db: 0.0010960102081298828\n",
      "computation DB time/batch: 53.5526\n",
      "batch: 105/1000 \t    computation time/batch: 53.5560sec\t    number of points: 13\n",
      "\t    median distance2db: 0.0018322467803955078\n",
      "computation DB time/batch: 53.5599\n",
      "batch: 106/1000 \t    computation time/batch: 53.5635sec\t    number of points: 12\n",
      "\t    median distance2db: 0.0036640167236328125\n",
      "computation DB time/batch: 54.0839\n",
      "batch: 107/1000 \t    computation time/batch: 54.0866sec\t    number of points: 15\n",
      "\t    median distance2db: 0.0010422468185424805\n",
      "computation DB time/batch: 53.9697\n",
      "batch: 108/1000 \t    computation time/batch: 53.9725sec\t    number of points: 13\n",
      "\t    median distance2db: 0.0021172761917114258\n",
      "computation DB time/batch: 53.9689\n",
      "batch: 109/1000 \t    computation time/batch: 53.9718sec\t    number of points: 15\n",
      "\t    median distance2db: 0.0006639957427978516\n",
      "computation DB time/batch: 53.9319\n",
      "batch: 110/1000 \t    computation time/batch: 53.9347sec\t    number of points: 13\n",
      "\t    median distance2db: 0.0034521818161010742\n",
      "computation DB time/batch: 53.9067\n",
      "batch: 111/1000 \t    computation time/batch: 53.9094sec\t    number of points: 10\n",
      "\t    median distance2db: 0.0002275705337524414\n",
      "computation DB time/batch: 53.9091\n",
      "batch: 112/1000 \t    computation time/batch: 53.9128sec\t    number of points: 11\n",
      "\t    median distance2db: 0.0035785436630249023\n",
      "computation DB time/batch: 53.9016\n",
      "batch: 113/1000 \t    computation time/batch: 53.9044sec\t    number of points: 18\n",
      "\t    median distance2db: 0.0018918514251708984\n",
      "computation DB time/batch: 53.9458\n",
      "batch: 114/1000 \t    computation time/batch: 53.9486sec\t    number of points: 20\n",
      "\t    median distance2db: 0.00043833255767822266\n",
      "computation DB time/batch: 54.0011\n",
      "batch: 115/1000 \t    computation time/batch: 54.0041sec\t    number of points: 15\n",
      "\t    median distance2db: 0.0019550323486328125\n",
      "computation DB time/batch: 54.0063\n",
      "batch: 116/1000 \t    computation time/batch: 54.0091sec\t    number of points: 18\n",
      "\t    median distance2db: 0.0035904645919799805\n",
      "computation DB time/batch: 53.9668\n",
      "batch: 117/1000 \t    computation time/batch: 53.9699sec\t    number of points: 18\n",
      "\t    median distance2db: 0.0012897253036499023\n",
      "computation DB time/batch: 53.9322\n",
      "batch: 118/1000 \t    computation time/batch: 53.9357sec\t    number of points: 7\n",
      "\t    median distance2db: 0.0037685632705688477\n",
      "computation DB time/batch: 53.9226\n",
      "batch: 119/1000 \t    computation time/batch: 53.9256sec\t    number of points: 18\n",
      "\t    median distance2db: 0.002321600914001465\n",
      "computation DB time/batch: 53.9156\n",
      "batch: 120/1000 \t    computation time/batch: 53.9186sec\t    number of points: 18\n",
      "\t    median distance2db: 0.00040340423583984375\n",
      "computation DB time/batch: 53.9056\n",
      "batch: 121/1000 \t    computation time/batch: 53.9091sec\t    number of points: 11\n",
      "\t    median distance2db: 0.001978754997253418\n",
      "computation DB time/batch: 53.9055\n",
      "batch: 122/1000 \t    computation time/batch: 53.9091sec\t    number of points: 11\n",
      "\t    median distance2db: 0.0013012886047363281\n",
      "computation DB time/batch: 53.9361\n",
      "batch: 123/1000 \t    computation time/batch: 53.9394sec\t    number of points: 12\n",
      "\t    median distance2db: 0.0017839670181274414\n",
      "computation DB time/batch: 53.9879\n",
      "batch: 124/1000 \t    computation time/batch: 53.9908sec\t    number of points: 10\n",
      "\t    median distance2db: 0.0019426345825195312\n",
      "computation DB time/batch: 54.0103\n",
      "batch: 125/1000 \t    computation time/batch: 54.0130sec\t    number of points: 9\n",
      "\t    median distance2db: 0.005362510681152344\n",
      "computation DB time/batch: 54.0002\n",
      "batch: 126/1000 \t    computation time/batch: 54.0031sec\t    number of points: 10\n",
      "\t    median distance2db: 0.003398418426513672\n",
      "computation DB time/batch: 53.9641\n",
      "batch: 127/1000 \t    computation time/batch: 53.9674sec\t    number of points: 17\n",
      "\t    median distance2db: 0.0014257431030273438\n",
      "computation DB time/batch: 53.9616\n",
      "batch: 128/1000 \t    computation time/batch: 53.9648sec\t    number of points: 18\n",
      "\t    median distance2db: 0.0019419193267822266\n",
      "computation DB time/batch: 53.9608\n",
      "batch: 129/1000 \t    computation time/batch: 53.9636sec\t    number of points: 15\n",
      "\t    median distance2db: 0.001654505729675293\n",
      "computation DB time/batch: 53.9591\n",
      "batch: 130/1000 \t    computation time/batch: 53.9624sec\t    number of points: 6\n",
      "\t    median distance2db: 0.0009403228759765625\n",
      "computation DB time/batch: 53.9473\n",
      "batch: 131/1000 \t    computation time/batch: 53.9505sec\t    number of points: 17\n",
      "\t    median distance2db: 0.002344965934753418\n",
      "computation DB time/batch: 53.9384\n",
      "batch: 132/1000 \t    computation time/batch: 53.9414sec\t    number of points: 18\n",
      "\t    median distance2db: 0.0021512508392333984\n",
      "computation DB time/batch: 53.9231\n",
      "batch: 133/1000 \t    computation time/batch: 53.9258sec\t    number of points: 10\n",
      "\t    median distance2db: 0.0027152299880981445\n",
      "computation DB time/batch: 53.9094\n",
      "batch: 134/1000 \t    computation time/batch: 53.9125sec\t    number of points: 15\n",
      "\t    median distance2db: 0.0034064054489135742\n",
      "computation DB time/batch: 53.9208\n",
      "batch: 135/1000 \t    computation time/batch: 53.9244sec\t    number of points: 11\n",
      "\t    median distance2db: 0.0009779930114746094\n",
      "computation DB time/batch: 53.9554\n",
      "batch: 136/1000 \t    computation time/batch: 53.9587sec\t    number of points: 11\n",
      "\t    median distance2db: 0.003644108772277832\n",
      "computation DB time/batch: 53.9574\n",
      "batch: 137/1000 \t    computation time/batch: 53.9603sec\t    number of points: 19\n",
      "\t    median distance2db: 0.004917502403259277\n",
      "computation DB time/batch: 53.9667\n",
      "batch: 138/1000 \t    computation time/batch: 53.9695sec\t    number of points: 24\n",
      "\t    median distance2db: 0.0007042884826660156\n",
      "computation DB time/batch: 53.9751\n",
      "batch: 139/1000 \t    computation time/batch: 53.9781sec\t    number of points: 9\n",
      "\t    median distance2db: 0.0031020641326904297\n",
      "computation DB time/batch: 53.9629\n",
      "batch: 140/1000 \t    computation time/batch: 53.9657sec\t    number of points: 9\n",
      "\t    median distance2db: 0.0012159347534179688\n",
      "computation DB time/batch: 53.9718\n",
      "batch: 141/1000 \t    computation time/batch: 53.9751sec\t    number of points: 16\n",
      "\t    median distance2db: 0.004427671432495117\n",
      "computation DB time/batch: 53.9764\n",
      "batch: 142/1000 \t    computation time/batch: 53.9793sec\t    number of points: 15\n",
      "\t    median distance2db: 0.0017131567001342773\n",
      "computation DB time/batch: 53.9903\n",
      "batch: 143/1000 \t    computation time/batch: 53.9935sec\t    number of points: 12\n",
      "\t    median distance2db: 0.00464177131652832\n",
      "computation DB time/batch: 53.9704\n",
      "batch: 144/1000 \t    computation time/batch: 53.9737sec\t    number of points: 15\n",
      "\t    median distance2db: 0.0028744935989379883\n",
      "computation DB time/batch: 53.9604\n",
      "batch: 145/1000 \t    computation time/batch: 53.9634sec\t    number of points: 14\n",
      "\t    median distance2db: 0.0013922452926635742\n",
      "computation DB time/batch: 53.9608\n",
      "batch: 146/1000 \t    computation time/batch: 53.9639sec\t    number of points: 17\n",
      "\t    median distance2db: 0.0006649494171142578\n",
      "computation DB time/batch: 53.9559\n",
      "batch: 147/1000 \t    computation time/batch: 53.9595sec\t    number of points: 6\n",
      "\t    median distance2db: 0.0023883581161499023\n",
      "computation DB time/batch: 53.9571\n",
      "batch: 148/1000 \t    computation time/batch: 53.9609sec\t    number of points: 12\n",
      "\t    median distance2db: 0.0004878044128417969\n",
      "computation DB time/batch: 53.8919\n",
      "batch: 149/1000 \t    computation time/batch: 53.8948sec\t    number of points: 16\n",
      "\t    median distance2db: 0.0009331703186035156\n",
      "computation DB time/batch: 53.9423\n",
      "batch: 150/1000 \t    computation time/batch: 53.9458sec\t    number of points: 5\n",
      "\t    median distance2db: 0.004800200462341309\n",
      "computation DB time/batch: 53.9783\n",
      "batch: 151/1000 \t    computation time/batch: 53.9816sec\t    number of points: 9\n",
      "\t    median distance2db: 0.007081747055053711\n",
      "computation DB time/batch: 53.9241\n",
      "batch: 152/1000 \t    computation time/batch: 53.9269sec\t    number of points: 16\n",
      "\t    median distance2db: 0.0004956722259521484\n",
      "computation DB time/batch: 53.9307\n",
      "batch: 153/1000 \t    computation time/batch: 53.9336sec\t    number of points: 10\n",
      "\t    median distance2db: 0.003471851348876953\n"
     ]
    },
    {
     "name": "stdout",
     "output_type": "stream",
     "text": [
      "computation DB time/batch: 53.9120\n",
      "batch: 154/1000 \t    computation time/batch: 53.9149sec\t    number of points: 15\n",
      "\t    median distance2db: 0.002562403678894043\n",
      "computation DB time/batch: 53.9025\n",
      "batch: 155/1000 \t    computation time/batch: 53.9054sec\t    number of points: 15\n",
      "\t    median distance2db: 0.00024306774139404297\n",
      "computation DB time/batch: 53.9174\n",
      "batch: 156/1000 \t    computation time/batch: 53.9205sec\t    number of points: 15\n",
      "\t    median distance2db: 0.003953695297241211\n",
      "computation DB time/batch: 53.9448\n",
      "batch: 157/1000 \t    computation time/batch: 53.9493sec\t    number of points: 6\n",
      "\t    median distance2db: 0.0005315542221069336\n",
      "computation DB time/batch: 53.9502\n",
      "batch: 158/1000 \t    computation time/batch: 53.9530sec\t    number of points: 9\n",
      "\t    median distance2db: 9.274482727050781e-05\n",
      "computation DB time/batch: 53.9686\n",
      "batch: 159/1000 \t    computation time/batch: 53.9718sec\t    number of points: 17\n",
      "\t    median distance2db: 0.0010788440704345703\n",
      "computation DB time/batch: 53.9514\n",
      "batch: 160/1000 \t    computation time/batch: 53.9543sec\t    number of points: 9\n",
      "\t    median distance2db: 0.0038640499114990234\n",
      "computation DB time/batch: 53.9643\n",
      "batch: 161/1000 \t    computation time/batch: 53.9676sec\t    number of points: 16\n",
      "\t    median distance2db: 0.0006837844848632812\n",
      "computation DB time/batch: 53.9761\n",
      "batch: 162/1000 \t    computation time/batch: 53.9794sec\t    number of points: 11\n",
      "\t    median distance2db: 0.004279017448425293\n",
      "computation DB time/batch: 53.9626\n",
      "batch: 163/1000 \t    computation time/batch: 53.9657sec\t    number of points: 15\n",
      "\t    median distance2db: 0.002482295036315918\n",
      "computation DB time/batch: 53.9439\n",
      "batch: 164/1000 \t    computation time/batch: 53.9470sec\t    number of points: 15\n",
      "\t    median distance2db: 0.005319714546203613\n",
      "computation DB time/batch: 53.9269\n",
      "batch: 165/1000 \t    computation time/batch: 53.9299sec\t    number of points: 17\n",
      "\t    median distance2db: 0.001128554344177246\n",
      "computation DB time/batch: 53.9348\n",
      "batch: 166/1000 \t    computation time/batch: 53.9377sec\t    number of points: 10\n",
      "\t    median distance2db: 0.0010815858840942383\n",
      "computation DB time/batch: 53.9641\n",
      "batch: 167/1000 \t    computation time/batch: 53.9669sec\t    number of points: 10\n",
      "\t    median distance2db: 0.0015289783477783203\n",
      "computation DB time/batch: 53.9633\n",
      "batch: 168/1000 \t    computation time/batch: 53.9664sec\t    number of points: 13\n",
      "\t    median distance2db: 0.004109859466552734\n",
      "computation DB time/batch: 53.9613\n",
      "batch: 169/1000 \t    computation time/batch: 53.9641sec\t    number of points: 16\n",
      "\t    median distance2db: 0.0009533166885375977\n",
      "computation DB time/batch: 53.9845\n",
      "batch: 170/1000 \t    computation time/batch: 53.9883sec\t    number of points: 11\n",
      "\t    median distance2db: 0.004441499710083008\n",
      "computation DB time/batch: 53.9815\n",
      "batch: 171/1000 \t    computation time/batch: 53.9843sec\t    number of points: 14\n",
      "\t    median distance2db: 0.005242824554443359\n",
      "computation DB time/batch: 53.9792\n",
      "batch: 172/1000 \t    computation time/batch: 53.9823sec\t    number of points: 14\n",
      "\t    median distance2db: 0.0018973350524902344\n",
      "computation DB time/batch: 53.9865\n",
      "batch: 173/1000 \t    computation time/batch: 53.9898sec\t    number of points: 10\n",
      "\t    median distance2db: 0.0012069940567016602\n",
      "computation DB time/batch: 53.9829\n",
      "batch: 174/1000 \t    computation time/batch: 53.9860sec\t    number of points: 20\n",
      "\t    median distance2db: 0.0025415420532226562\n",
      "computation DB time/batch: 53.9838\n",
      "batch: 175/1000 \t    computation time/batch: 53.9872sec\t    number of points: 16\n",
      "\t    median distance2db: 0.002817869186401367\n",
      "computation DB time/batch: 53.9850\n",
      "batch: 176/1000 \t    computation time/batch: 53.9882sec\t    number of points: 15\n",
      "\t    median distance2db: 0.00113677978515625\n",
      "computation DB time/batch: 53.9876\n",
      "batch: 177/1000 \t    computation time/batch: 53.9911sec\t    number of points: 12\n",
      "\t    median distance2db: 0.0018761157989501953\n",
      "computation DB time/batch: 53.9852\n",
      "batch: 178/1000 \t    computation time/batch: 53.9881sec\t    number of points: 16\n",
      "\t    median distance2db: 0.0018084049224853516\n",
      "computation DB time/batch: 53.9950\n",
      "batch: 179/1000 \t    computation time/batch: 53.9990sec\t    number of points: 11\n",
      "\t    median distance2db: 0.002980947494506836\n",
      "computation DB time/batch: 53.9392\n",
      "batch: 180/1000 \t    computation time/batch: 53.9421sec\t    number of points: 21\n",
      "\t    median distance2db: 0.0020216703414916992\n",
      "computation DB time/batch: 53.9117\n",
      "batch: 181/1000 \t    computation time/batch: 53.9150sec\t    number of points: 11\n",
      "\t    median distance2db: 0.004667043685913086\n",
      "computation DB time/batch: 53.8906\n",
      "batch: 182/1000 \t    computation time/batch: 53.8934sec\t    number of points: 16\n",
      "\t    median distance2db: 0.003938078880310059\n",
      "computation DB time/batch: 53.9380\n",
      "batch: 183/1000 \t    computation time/batch: 53.9415sec\t    number of points: 6\n",
      "\t    median distance2db: 0.0006760358810424805\n",
      "computation DB time/batch: 53.9675\n",
      "batch: 184/1000 \t    computation time/batch: 53.9704sec\t    number of points: 13\n",
      "\t    median distance2db: 0.0012339353561401367\n",
      "computation DB time/batch: 53.9632\n",
      "batch: 185/1000 \t    computation time/batch: 53.9670sec\t    number of points: 6\n",
      "\t    median distance2db: 0.0020852088928222656\n",
      "computation DB time/batch: 53.9839\n",
      "batch: 186/1000 \t    computation time/batch: 53.9870sec\t    number of points: 9\n",
      "\t    median distance2db: 0.001271963119506836\n",
      "computation DB time/batch: 53.9994\n",
      "batch: 187/1000 \t    computation time/batch: 54.0023sec\t    number of points: 13\n",
      "\t    median distance2db: 0.004233241081237793\n",
      "computation DB time/batch: 53.9983\n",
      "batch: 188/1000 \t    computation time/batch: 54.0012sec\t    number of points: 16\n",
      "\t    median distance2db: 0.0015764236450195312\n",
      "computation DB time/batch: 53.9640\n",
      "batch: 189/1000 \t    computation time/batch: 53.9669sec\t    number of points: 19\n",
      "\t    median distance2db: 0.0012508630752563477\n",
      "computation DB time/batch: 53.9343\n",
      "batch: 190/1000 \t    computation time/batch: 53.9379sec\t    number of points: 12\n",
      "\t    median distance2db: 0.003094315528869629\n",
      "computation DB time/batch: 53.9156\n",
      "batch: 191/1000 \t    computation time/batch: 53.9187sec\t    number of points: 15\n",
      "\t    median distance2db: 0.0013794898986816406\n",
      "computation DB time/batch: 53.9156\n",
      "batch: 192/1000 \t    computation time/batch: 53.9194sec\t    number of points: 11\n",
      "\t    median distance2db: 0.001375436782836914\n",
      "computation DB time/batch: 53.9355\n",
      "batch: 193/1000 \t    computation time/batch: 53.9391sec\t    number of points: 12\n",
      "\t    median distance2db: 0.004881739616394043\n",
      "computation DB time/batch: 53.9739\n",
      "batch: 194/1000 \t    computation time/batch: 53.9769sec\t    number of points: 13\n",
      "\t    median distance2db: 0.0024404525756835938\n",
      "computation DB time/batch: 53.9689\n",
      "batch: 195/1000 \t    computation time/batch: 53.9718sec\t    number of points: 13\n",
      "\t    median distance2db: 0.0008413791656494141\n",
      "computation DB time/batch: 53.9916\n",
      "batch: 196/1000 \t    computation time/batch: 53.9945sec\t    number of points: 17\n",
      "\t    median distance2db: 0.0017391443252563477\n",
      "computation DB time/batch: 54.0065\n",
      "batch: 197/1000 \t    computation time/batch: 54.0099sec\t    number of points: 6\n",
      "\t    median distance2db: 0.0019129514694213867\n",
      "computation DB time/batch: 53.9731\n",
      "batch: 198/1000 \t    computation time/batch: 53.9759sec\t    number of points: 10\n",
      "\t    median distance2db: 0.0018998384475708008\n",
      "computation DB time/batch: 53.9391\n",
      "batch: 199/1000 \t    computation time/batch: 53.9425sec\t    number of points: 12\n",
      "\t    median distance2db: 0.0016705989837646484\n",
      "computation DB time/batch: 53.9109\n",
      "batch: 200/1000 \t    computation time/batch: 53.9140sec\t    number of points: 16\n",
      "\t    median distance2db: 0.0008985996246337891\n",
      "computation DB time/batch: 53.9098\n",
      "batch: 201/1000 \t    computation time/batch: 53.9136sec\t    number of points: 7\n",
      "\t    median distance2db: 0.0010412931442260742\n",
      "computation DB time/batch: 53.9251\n",
      "batch: 202/1000 \t    computation time/batch: 53.9283sec\t    number of points: 17\n",
      "\t    median distance2db: 0.0017971992492675781\n",
      "computation DB time/batch: 53.9714\n",
      "batch: 203/1000 \t    computation time/batch: 53.9745sec\t    number of points: 16\n",
      "\t    median distance2db: 0.0004450082778930664\n",
      "computation DB time/batch: 53.9833\n",
      "batch: 204/1000 \t    computation time/batch: 53.9863sec\t    number of points: 15\n",
      "\t    median distance2db: 0.0009958744049072266\n"
     ]
    },
    {
     "name": "stdout",
     "output_type": "stream",
     "text": [
      "computation DB time/batch: 53.9896\n",
      "batch: 205/1000 \t    computation time/batch: 53.9925sec\t    number of points: 17\n",
      "\t    median distance2db: 0.003932952880859375\n",
      "computation DB time/batch: 53.9923\n",
      "batch: 206/1000 \t    computation time/batch: 53.9953sec\t    number of points: 18\n",
      "\t    median distance2db: 0.002730727195739746\n",
      "computation DB time/batch: 53.9532\n",
      "batch: 207/1000 \t    computation time/batch: 53.9562sec\t    number of points: 17\n",
      "\t    median distance2db: 0.002228379249572754\n",
      "computation DB time/batch: 53.9197\n",
      "batch: 208/1000 \t    computation time/batch: 53.9228sec\t    number of points: 9\n",
      "\t    median distance2db: 0.004935622215270996\n",
      "computation DB time/batch: 53.9158\n",
      "batch: 209/1000 \t    computation time/batch: 53.9185sec\t    number of points: 14\n",
      "\t    median distance2db: 0.0012112855911254883\n",
      "computation DB time/batch: 53.9687\n",
      "batch: 210/1000 \t    computation time/batch: 53.9716sec\t    number of points: 17\n",
      "\t    median distance2db: 0.001924753189086914\n",
      "computation DB time/batch: 53.9985\n",
      "batch: 211/1000 \t    computation time/batch: 54.0011sec\t    number of points: 8\n",
      "\t    median distance2db: 0.002173781394958496\n",
      "computation DB time/batch: 53.9571\n",
      "batch: 212/1000 \t    computation time/batch: 53.9601sec\t    number of points: 13\n",
      "\t    median distance2db: 0.0009330511093139648\n",
      "computation DB time/batch: 53.9091\n",
      "batch: 213/1000 \t    computation time/batch: 53.9121sec\t    number of points: 17\n",
      "\t    median distance2db: 0.0017598867416381836\n",
      "computation DB time/batch: 53.9332\n",
      "batch: 214/1000 \t    computation time/batch: 53.9363sec\t    number of points: 13\n",
      "\t    median distance2db: 0.0026464462280273438\n",
      "computation DB time/batch: 53.9819\n",
      "batch: 215/1000 \t    computation time/batch: 53.9849sec\t    number of points: 10\n",
      "\t    median distance2db: 0.0013922452926635742\n",
      "computation DB time/batch: 53.9999\n",
      "batch: 216/1000 \t    computation time/batch: 54.0029sec\t    number of points: 10\n",
      "\t    median distance2db: 0.0003426074981689453\n",
      "computation DB time/batch: 53.9543\n",
      "batch: 217/1000 \t    computation time/batch: 53.9574sec\t    number of points: 16\n",
      "\t    median distance2db: 0.0025748014450073242\n",
      "computation DB time/batch: 53.9147\n",
      "batch: 218/1000 \t    computation time/batch: 53.9181sec\t    number of points: 12\n",
      "\t    median distance2db: 0.0020824670791625977\n",
      "computation DB time/batch: 53.9376\n",
      "batch: 219/1000 \t    computation time/batch: 53.9406sec\t    number of points: 14\n",
      "\t    median distance2db: 0.002803325653076172\n",
      "computation DB time/batch: 53.9521\n",
      "batch: 220/1000 \t    computation time/batch: 53.9551sec\t    number of points: 8\n",
      "\t    median distance2db: 0.00019276142120361328\n",
      "computation DB time/batch: 53.9614\n",
      "batch: 221/1000 \t    computation time/batch: 53.9645sec\t    number of points: 13\n",
      "\t    median distance2db: 0.002239823341369629\n",
      "computation DB time/batch: 53.9616\n",
      "batch: 222/1000 \t    computation time/batch: 53.9645sec\t    number of points: 20\n",
      "\t    median distance2db: 0.0037616491317749023\n",
      "computation DB time/batch: 53.9664\n",
      "batch: 223/1000 \t    computation time/batch: 53.9699sec\t    number of points: 24\n",
      "\t    median distance2db: 0.001809835433959961\n",
      "computation DB time/batch: 53.9724\n",
      "batch: 224/1000 \t    computation time/batch: 53.9757sec\t    number of points: 7\n",
      "\t    median distance2db: 0.0049010515213012695\n",
      "computation DB time/batch: 53.9704\n",
      "batch: 225/1000 \t    computation time/batch: 53.9732sec\t    number of points: 13\n",
      "\t    median distance2db: 0.0005983114242553711\n",
      "computation DB time/batch: 53.9623\n",
      "batch: 226/1000 \t    computation time/batch: 53.9653sec\t    number of points: 13\n",
      "\t    median distance2db: 0.0031862258911132812\n",
      "computation DB time/batch: 53.9218\n",
      "batch: 227/1000 \t    computation time/batch: 53.9244sec\t    number of points: 9\n",
      "\t    median distance2db: 0.00372922420501709\n",
      "computation DB time/batch: 53.9180\n",
      "batch: 228/1000 \t    computation time/batch: 53.9209sec\t    number of points: 9\n",
      "\t    median distance2db: 0.0026378631591796875\n",
      "computation DB time/batch: 53.9533\n",
      "batch: 229/1000 \t    computation time/batch: 53.9565sec\t    number of points: 15\n",
      "\t    median distance2db: 0.0016169548034667969\n",
      "computation DB time/batch: 53.9700\n",
      "batch: 230/1000 \t    computation time/batch: 53.9734sec\t    number of points: 12\n",
      "\t    median distance2db: 0.002279043197631836\n",
      "computation DB time/batch: 53.9798\n",
      "batch: 231/1000 \t    computation time/batch: 53.9827sec\t    number of points: 14\n",
      "\t    median distance2db: 0.003918766975402832\n",
      "computation DB time/batch: 53.9937\n",
      "batch: 232/1000 \t    computation time/batch: 53.9970sec\t    number of points: 10\n",
      "\t    median distance2db: 0.002518296241760254\n",
      "computation DB time/batch: 53.9789\n",
      "batch: 233/1000 \t    computation time/batch: 53.9827sec\t    number of points: 22\n",
      "\t    median distance2db: 0.00196230411529541\n",
      "computation DB time/batch: 53.9710\n",
      "batch: 234/1000 \t    computation time/batch: 53.9740sec\t    number of points: 9\n",
      "\t    median distance2db: 0.002300262451171875\n",
      "computation DB time/batch: 53.9680\n",
      "batch: 235/1000 \t    computation time/batch: 53.9712sec\t    number of points: 9\n",
      "\t    median distance2db: 0.0009567737579345703\n",
      "computation DB time/batch: 53.9622\n",
      "batch: 236/1000 \t    computation time/batch: 53.9650sec\t    number of points: 16\n",
      "\t    median distance2db: 0.001874685287475586\n",
      "computation DB time/batch: 53.9647\n",
      "batch: 237/1000 \t    computation time/batch: 53.9677sec\t    number of points: 9\n",
      "\t    median distance2db: 0.0025562047958374023\n",
      "computation DB time/batch: 53.9490\n",
      "batch: 238/1000 \t    computation time/batch: 53.9521sec\t    number of points: 13\n",
      "\t    median distance2db: 0.0008759498596191406\n",
      "computation DB time/batch: 53.9637\n",
      "batch: 239/1000 \t    computation time/batch: 53.9667sec\t    number of points: 17\n",
      "\t    median distance2db: 0.0028649568557739258\n",
      "computation DB time/batch: 53.9594\n",
      "batch: 240/1000 \t    computation time/batch: 53.9625sec\t    number of points: 11\n",
      "\t    median distance2db: 0.0039931535720825195\n",
      "computation DB time/batch: 53.9673\n",
      "batch: 241/1000 \t    computation time/batch: 53.9701sec\t    number of points: 9\n",
      "\t    median distance2db: 0.0008034706115722656\n",
      "computation DB time/batch: 53.9694\n",
      "batch: 242/1000 \t    computation time/batch: 53.9727sec\t    number of points: 10\n",
      "\t    median distance2db: 0.0025856494903564453\n",
      "computation DB time/batch: 53.9653\n",
      "batch: 243/1000 \t    computation time/batch: 53.9687sec\t    number of points: 17\n",
      "\t    median distance2db: 0.002724766731262207\n",
      "computation DB time/batch: 53.9696\n",
      "batch: 244/1000 \t    computation time/batch: 53.9728sec\t    number of points: 16\n",
      "\t    median distance2db: 0.0035164356231689453\n",
      "computation DB time/batch: 53.9881\n",
      "batch: 245/1000 \t    computation time/batch: 53.9909sec\t    number of points: 13\n",
      "\t    median distance2db: 0.0001672506332397461\n",
      "computation DB time/batch: 53.9965\n",
      "batch: 246/1000 \t    computation time/batch: 53.9996sec\t    number of points: 23\n",
      "\t    median distance2db: 0.003406047821044922\n",
      "computation DB time/batch: 54.0102\n",
      "batch: 247/1000 \t    computation time/batch: 54.0140sec\t    number of points: 11\n",
      "\t    median distance2db: 0.0015761852264404297\n",
      "computation DB time/batch: 53.9863\n",
      "batch: 248/1000 \t    computation time/batch: 53.9893sec\t    number of points: 15\n",
      "\t    median distance2db: 0.001972198486328125\n",
      "computation DB time/batch: 53.9465\n",
      "batch: 249/1000 \t    computation time/batch: 53.9497sec\t    number of points: 13\n",
      "\t    median distance2db: 0.0038912296295166016\n",
      "computation DB time/batch: 53.8975\n",
      "batch: 250/1000 \t    computation time/batch: 53.9010sec\t    number of points: 11\n",
      "\t    median distance2db: 0.000950932502746582\n",
      "computation DB time/batch: 53.9488\n",
      "batch: 251/1000 \t    computation time/batch: 53.9523sec\t    number of points: 12\n",
      "\t    median distance2db: 0.0021208524703979492\n",
      "computation DB time/batch: 53.9618\n",
      "batch: 252/1000 \t    computation time/batch: 53.9647sec\t    number of points: 15\n",
      "\t    median distance2db: 0.0006822347640991211\n",
      "computation DB time/batch: 53.9932\n",
      "batch: 253/1000 \t    computation time/batch: 53.9964sec\t    number of points: 20\n",
      "\t    median distance2db: 0.003512859344482422\n",
      "computation DB time/batch: 53.9885\n",
      "batch: 254/1000 \t    computation time/batch: 53.9916sec\t    number of points: 13\n",
      "\t    median distance2db: 0.0019154548645019531\n",
      "computation DB time/batch: 53.9994\n",
      "batch: 255/1000 \t    computation time/batch: 54.0030sec\t    number of points: 12\n",
      "\t    median distance2db: 0.0037508010864257812\n"
     ]
    },
    {
     "name": "stdout",
     "output_type": "stream",
     "text": [
      "computation DB time/batch: 53.9839\n",
      "batch: 256/1000 \t    computation time/batch: 53.9865sec\t    number of points: 21\n",
      "\t    median distance2db: 0.002942800521850586\n",
      "computation DB time/batch: 53.9581\n",
      "batch: 257/1000 \t    computation time/batch: 53.9611sec\t    number of points: 15\n",
      "\t    median distance2db: 0.001292109489440918\n",
      "computation DB time/batch: 53.9151\n",
      "batch: 258/1000 \t    computation time/batch: 53.9184sec\t    number of points: 9\n",
      "\t    median distance2db: 0.002125978469848633\n",
      "computation DB time/batch: 53.9377\n",
      "batch: 259/1000 \t    computation time/batch: 53.9409sec\t    number of points: 13\n",
      "\t    median distance2db: 0.002240896224975586\n",
      "computation DB time/batch: 53.9966\n",
      "batch: 260/1000 \t    computation time/batch: 53.9995sec\t    number of points: 18\n",
      "\t    median distance2db: 0.0016776323318481445\n",
      "computation DB time/batch: 53.9468\n",
      "batch: 261/1000 \t    computation time/batch: 53.9504sec\t    number of points: 11\n",
      "\t    median distance2db: 0.0014691352844238281\n",
      "computation DB time/batch: 53.9075\n",
      "batch: 262/1000 \t    computation time/batch: 53.9110sec\t    number of points: 11\n",
      "\t    median distance2db: 0.0017434358596801758\n",
      "computation DB time/batch: 53.9239\n",
      "batch: 263/1000 \t    computation time/batch: 53.9270sec\t    number of points: 17\n",
      "\t    median distance2db: 0.0017437934875488281\n",
      "computation DB time/batch: 53.9699\n",
      "batch: 264/1000 \t    computation time/batch: 53.9726sec\t    number of points: 13\n",
      "\t    median distance2db: 0.0022448301315307617\n",
      "computation DB time/batch: 54.0078\n",
      "batch: 265/1000 \t    computation time/batch: 54.0107sec\t    number of points: 17\n",
      "\t    median distance2db: 0.0014289617538452148\n",
      "computation DB time/batch: 53.9926\n",
      "batch: 266/1000 \t    computation time/batch: 53.9954sec\t    number of points: 15\n",
      "\t    median distance2db: 0.0037069320678710938\n",
      "computation DB time/batch: 53.9283\n",
      "batch: 267/1000 \t    computation time/batch: 53.9313sec\t    number of points: 14\n",
      "\t    median distance2db: 0.0017690658569335938\n",
      "computation DB time/batch: 53.9184\n",
      "batch: 268/1000 \t    computation time/batch: 53.9219sec\t    number of points: 11\n",
      "\t    median distance2db: 0.0028688907623291016\n",
      "computation DB time/batch: 53.9214\n",
      "batch: 269/1000 \t    computation time/batch: 53.9248sec\t    number of points: 12\n",
      "\t    median distance2db: 0.0007278919219970703\n",
      "computation DB time/batch: 53.9471\n",
      "batch: 270/1000 \t    computation time/batch: 53.9502sec\t    number of points: 15\n",
      "\t    median distance2db: 0.0012519359588623047\n",
      "computation DB time/batch: 53.9726\n",
      "batch: 271/1000 \t    computation time/batch: 53.9754sec\t    number of points: 9\n",
      "\t    median distance2db: 0.006244063377380371\n",
      "computation DB time/batch: 53.9877\n",
      "batch: 272/1000 \t    computation time/batch: 53.9910sec\t    number of points: 15\n",
      "\t    median distance2db: 0.0013462305068969727\n",
      "computation DB time/batch: 53.9706\n",
      "batch: 273/1000 \t    computation time/batch: 53.9735sec\t    number of points: 15\n",
      "\t    median distance2db: 0.0018842220306396484\n",
      "computation DB time/batch: 53.9265\n",
      "batch: 274/1000 \t    computation time/batch: 53.9295sec\t    number of points: 16\n",
      "\t    median distance2db: 0.0007026195526123047\n",
      "computation DB time/batch: 53.9184\n",
      "batch: 275/1000 \t    computation time/batch: 53.9215sec\t    number of points: 14\n",
      "\t    median distance2db: 0.0014622211456298828\n",
      "computation DB time/batch: 53.9022\n",
      "batch: 276/1000 \t    computation time/batch: 53.9052sec\t    number of points: 10\n",
      "\t    median distance2db: 0.0015263557434082031\n",
      "computation DB time/batch: 53.9334\n",
      "batch: 277/1000 \t    computation time/batch: 53.9364sec\t    number of points: 13\n",
      "\t    median distance2db: 0.001734018325805664\n",
      "computation DB time/batch: 53.9625\n",
      "batch: 278/1000 \t    computation time/batch: 53.9656sec\t    number of points: 20\n",
      "\t    median distance2db: 0.0011142492294311523\n",
      "computation DB time/batch: 53.9947\n",
      "batch: 279/1000 \t    computation time/batch: 53.9981sec\t    number of points: 11\n",
      "\t    median distance2db: 0.0030771493911743164\n",
      "computation DB time/batch: 53.9678\n",
      "batch: 280/1000 \t    computation time/batch: 53.9712sec\t    number of points: 6\n",
      "\t    median distance2db: 0.0007270574569702148\n",
      "computation DB time/batch: 53.9353\n",
      "batch: 281/1000 \t    computation time/batch: 53.9386sec\t    number of points: 18\n",
      "\t    median distance2db: 0.001248478889465332\n",
      "computation DB time/batch: 53.9070\n",
      "batch: 282/1000 \t    computation time/batch: 53.9105sec\t    number of points: 12\n",
      "\t    median distance2db: 0.0037804841995239258\n",
      "computation DB time/batch: 53.9060\n",
      "batch: 283/1000 \t    computation time/batch: 53.9087sec\t    number of points: 15\n",
      "\t    median distance2db: 0.0018227100372314453\n",
      "computation DB time/batch: 53.8884\n",
      "batch: 284/1000 \t    computation time/batch: 53.8915sec\t    number of points: 13\n",
      "\t    median distance2db: 0.001307845115661621\n",
      "computation DB time/batch: 53.8827\n",
      "batch: 285/1000 \t    computation time/batch: 53.8855sec\t    number of points: 16\n",
      "\t    median distance2db: 0.0013918876647949219\n",
      "computation DB time/batch: 53.8861\n",
      "batch: 286/1000 \t    computation time/batch: 53.8893sec\t    number of points: 10\n",
      "\t    median distance2db: 0.0021893978118896484\n",
      "computation DB time/batch: 53.9139\n",
      "batch: 287/1000 \t    computation time/batch: 53.9167sec\t    number of points: 9\n",
      "\t    median distance2db: 0.00037932395935058594\n",
      "computation DB time/batch: 53.9382\n",
      "batch: 288/1000 \t    computation time/batch: 53.9410sec\t    number of points: 13\n",
      "\t    median distance2db: 0.0021839141845703125\n",
      "computation DB time/batch: 53.9540\n",
      "batch: 289/1000 \t    computation time/batch: 53.9570sec\t    number of points: 17\n",
      "\t    median distance2db: 0.0007797479629516602\n",
      "computation DB time/batch: 53.9522\n",
      "batch: 290/1000 \t    computation time/batch: 53.9555sec\t    number of points: 6\n",
      "\t    median distance2db: 0.00046956539154052734\n",
      "computation DB time/batch: 53.9675\n",
      "batch: 291/1000 \t    computation time/batch: 53.9704sec\t    number of points: 13\n",
      "\t    median distance2db: 0.0007039308547973633\n",
      "computation DB time/batch: 53.9538\n",
      "batch: 292/1000 \t    computation time/batch: 53.9574sec\t    number of points: 11\n",
      "\t    median distance2db: 0.0027468204498291016\n",
      "computation DB time/batch: 53.9053\n",
      "batch: 293/1000 \t    computation time/batch: 53.9083sec\t    number of points: 18\n",
      "\t    median distance2db: 0.0026204586029052734\n",
      "computation DB time/batch: 53.8987\n",
      "batch: 294/1000 \t    computation time/batch: 53.9017sec\t    number of points: 8\n",
      "\t    median distance2db: 0.0007151365280151367\n",
      "computation DB time/batch: 53.9493\n",
      "batch: 295/1000 \t    computation time/batch: 53.9523sec\t    number of points: 24\n",
      "\t    median distance2db: 0.0016710758209228516\n",
      "computation DB time/batch: 53.9618\n",
      "batch: 296/1000 \t    computation time/batch: 53.9649sec\t    number of points: 10\n",
      "\t    median distance2db: 0.003808140754699707\n",
      "computation DB time/batch: 53.9841\n",
      "batch: 297/1000 \t    computation time/batch: 53.9872sec\t    number of points: 17\n",
      "\t    median distance2db: 0.005190014839172363\n",
      "computation DB time/batch: 53.9475\n",
      "batch: 298/1000 \t    computation time/batch: 53.9508sec\t    number of points: 11\n",
      "\t    median distance2db: 0.001148223876953125\n",
      "computation DB time/batch: 53.8934\n",
      "batch: 299/1000 \t    computation time/batch: 53.8963sec\t    number of points: 16\n",
      "\t    median distance2db: 0.0016649961471557617\n",
      "computation DB time/batch: 53.9015\n",
      "batch: 300/1000 \t    computation time/batch: 53.9043sec\t    number of points: 14\n",
      "\t    median distance2db: 0.0005686283111572266\n",
      "computation DB time/batch: 53.9198\n",
      "batch: 301/1000 \t    computation time/batch: 53.9235sec\t    number of points: 11\n",
      "\t    median distance2db: 0.0010565519332885742\n",
      "computation DB time/batch: 53.9157\n",
      "batch: 302/1000 \t    computation time/batch: 53.9191sec\t    number of points: 7\n",
      "\t    median distance2db: 0.004662513732910156\n",
      "computation DB time/batch: 53.9588\n",
      "batch: 303/1000 \t    computation time/batch: 53.9616sec\t    number of points: 14\n",
      "\t    median distance2db: 0.00042068958282470703\n",
      "computation DB time/batch: 53.9590\n",
      "batch: 304/1000 \t    computation time/batch: 53.9618sec\t    number of points: 13\n",
      "\t    median distance2db: 0.002573847770690918\n",
      "computation DB time/batch: 53.9673\n",
      "batch: 305/1000 \t    computation time/batch: 53.9706sec\t    number of points: 7\n",
      "\t    median distance2db: 0.0023314952850341797\n",
      "computation DB time/batch: 53.9624\n",
      "batch: 306/1000 \t    computation time/batch: 53.9653sec\t    number of points: 9\n",
      "\t    median distance2db: 0.002198457717895508\n"
     ]
    },
    {
     "name": "stdout",
     "output_type": "stream",
     "text": [
      "computation DB time/batch: 53.9839\n",
      "batch: 307/1000 \t    computation time/batch: 53.9871sec\t    number of points: 17\n",
      "\t    median distance2db: 0.002936124801635742\n",
      "computation DB time/batch: 53.9733\n",
      "batch: 308/1000 \t    computation time/batch: 53.9766sec\t    number of points: 12\n",
      "\t    median distance2db: 0.0017962455749511719\n",
      "computation DB time/batch: 53.9720\n",
      "batch: 309/1000 \t    computation time/batch: 53.9754sec\t    number of points: 12\n",
      "\t    median distance2db: 0.0020993947982788086\n",
      "computation DB time/batch: 53.9721\n",
      "batch: 310/1000 \t    computation time/batch: 53.9755sec\t    number of points: 8\n",
      "\t    median distance2db: 0.004068613052368164\n",
      "computation DB time/batch: 53.9650\n",
      "batch: 311/1000 \t    computation time/batch: 53.9677sec\t    number of points: 10\n",
      "\t    median distance2db: 0.0013141632080078125\n",
      "computation DB time/batch: 53.9711\n",
      "batch: 312/1000 \t    computation time/batch: 53.9751sec\t    number of points: 7\n",
      "\t    median distance2db: 0.004049897193908691\n",
      "computation DB time/batch: 53.9515\n",
      "batch: 313/1000 \t    computation time/batch: 53.9546sec\t    number of points: 14\n",
      "\t    median distance2db: 0.002671480178833008\n",
      "computation DB time/batch: 53.9505\n",
      "batch: 314/1000 \t    computation time/batch: 53.9533sec\t    number of points: 17\n",
      "\t    median distance2db: 0.0019669532775878906\n",
      "computation DB time/batch: 53.9467\n",
      "batch: 315/1000 \t    computation time/batch: 53.9497sec\t    number of points: 13\n",
      "\t    median distance2db: 0.002794027328491211\n",
      "computation DB time/batch: 53.9106\n",
      "batch: 316/1000 \t    computation time/batch: 53.9142sec\t    number of points: 15\n",
      "\t    median distance2db: 0.0017582178115844727\n",
      "computation DB time/batch: 54.2614\n",
      "batch: 317/1000 \t    computation time/batch: 54.2809sec\t    number of points: 12\n",
      "\t    median distance2db: 0.0019707679748535156\n",
      "computation DB time/batch: 53.9117\n",
      "batch: 318/1000 \t    computation time/batch: 53.9145sec\t    number of points: 13\n",
      "\t    median distance2db: 0.0019867420196533203\n",
      "computation DB time/batch: 53.9756\n",
      "batch: 319/1000 \t    computation time/batch: 53.9790sec\t    number of points: 11\n",
      "\t    median distance2db: 0.0036498308181762695\n",
      "computation DB time/batch: 53.9776\n",
      "batch: 320/1000 \t    computation time/batch: 53.9806sec\t    number of points: 13\n",
      "\t    median distance2db: 0.0031827688217163086\n",
      "computation DB time/batch: 54.0201\n",
      "batch: 321/1000 \t    computation time/batch: 54.0235sec\t    number of points: 23\n",
      "\t    median distance2db: 0.00228273868560791\n",
      "computation DB time/batch: 53.9927\n",
      "batch: 322/1000 \t    computation time/batch: 53.9960sec\t    number of points: 18\n",
      "\t    median distance2db: 0.0019439458847045898\n",
      "computation DB time/batch: 53.9954\n",
      "batch: 323/1000 \t    computation time/batch: 53.9988sec\t    number of points: 11\n",
      "\t    median distance2db: 0.0015337467193603516\n",
      "computation DB time/batch: 53.8207\n",
      "batch: 324/1000 \t    computation time/batch: 53.8237sec\t    number of points: 19\n",
      "\t    median distance2db: 0.00276947021484375\n",
      "computation DB time/batch: 53.6891\n",
      "batch: 325/1000 \t    computation time/batch: 53.6927sec\t    number of points: 15\n",
      "\t    median distance2db: 0.0016181468963623047\n",
      "computation DB time/batch: 53.6152\n",
      "batch: 326/1000 \t    computation time/batch: 53.6184sec\t    number of points: 14\n",
      "\t    median distance2db: 0.003395676612854004\n",
      "computation DB time/batch: 53.7023\n",
      "batch: 327/1000 \t    computation time/batch: 53.7058sec\t    number of points: 11\n",
      "\t    median distance2db: 0.0005835294723510742\n",
      "computation DB time/batch: 53.8241\n",
      "batch: 328/1000 \t    computation time/batch: 53.8273sec\t    number of points: 10\n",
      "\t    median distance2db: 0.0012636184692382812\n",
      "computation DB time/batch: 53.6788\n",
      "batch: 329/1000 \t    computation time/batch: 53.6818sec\t    number of points: 10\n",
      "\t    median distance2db: 0.00529170036315918\n",
      "computation DB time/batch: 53.9114\n",
      "batch: 330/1000 \t    computation time/batch: 53.9146sec\t    number of points: 17\n",
      "\t    median distance2db: 0.002190232276916504\n",
      "computation DB time/batch: 53.9724\n",
      "batch: 331/1000 \t    computation time/batch: 53.9758sec\t    number of points: 12\n",
      "\t    median distance2db: 0.0005866289138793945\n",
      "computation DB time/batch: 53.9360\n",
      "batch: 332/1000 \t    computation time/batch: 53.9392sec\t    number of points: 17\n",
      "\t    median distance2db: 0.0031044483184814453\n",
      "computation DB time/batch: 54.3668\n",
      "batch: 333/1000 \t    computation time/batch: 54.3705sec\t    number of points: 12\n",
      "\t    median distance2db: 0.00021255016326904297\n",
      "computation DB time/batch: 53.9890\n",
      "batch: 334/1000 \t    computation time/batch: 53.9919sec\t    number of points: 14\n",
      "\t    median distance2db: 0.004878997802734375\n",
      "computation DB time/batch: 54.0039\n",
      "batch: 335/1000 \t    computation time/batch: 54.0070sec\t    number of points: 16\n",
      "\t    median distance2db: 0.0028723478317260742\n",
      "computation DB time/batch: 53.9862\n",
      "batch: 336/1000 \t    computation time/batch: 53.9894sec\t    number of points: 13\n",
      "\t    median distance2db: 0.0018004179000854492\n",
      "computation DB time/batch: 53.9859\n",
      "batch: 337/1000 \t    computation time/batch: 53.9891sec\t    number of points: 20\n",
      "\t    median distance2db: 0.0029299259185791016\n",
      "computation DB time/batch: 53.9909\n",
      "batch: 338/1000 \t    computation time/batch: 53.9938sec\t    number of points: 17\n",
      "\t    median distance2db: 0.0023767948150634766\n",
      "computation DB time/batch: 53.9881\n",
      "batch: 339/1000 \t    computation time/batch: 53.9911sec\t    number of points: 15\n",
      "\t    median distance2db: 0.0027832984924316406\n",
      "computation DB time/batch: 53.9739\n",
      "batch: 340/1000 \t    computation time/batch: 53.9771sec\t    number of points: 16\n",
      "\t    median distance2db: 0.0018608570098876953\n",
      "computation DB time/batch: 53.9827\n",
      "batch: 341/1000 \t    computation time/batch: 53.9858sec\t    number of points: 17\n",
      "\t    median distance2db: 0.0049697160720825195\n",
      "computation DB time/batch: 53.9819\n",
      "batch: 342/1000 \t    computation time/batch: 53.9859sec\t    number of points: 12\n",
      "\t    median distance2db: 0.00042700767517089844\n",
      "computation DB time/batch: 53.9577\n",
      "batch: 343/1000 \t    computation time/batch: 53.9611sec\t    number of points: 12\n",
      "\t    median distance2db: 0.00342404842376709\n",
      "computation DB time/batch: 53.9502\n",
      "batch: 344/1000 \t    computation time/batch: 53.9534sec\t    number of points: 11\n",
      "\t    median distance2db: 0.0034706592559814453\n",
      "computation DB time/batch: 53.9514\n",
      "batch: 345/1000 \t    computation time/batch: 53.9547sec\t    number of points: 11\n",
      "\t    median distance2db: 0.0012981891632080078\n",
      "computation DB time/batch: 53.9437\n",
      "batch: 346/1000 \t    computation time/batch: 53.9468sec\t    number of points: 15\n",
      "\t    median distance2db: 0.0009909868240356445\n",
      "computation DB time/batch: 53.9410\n",
      "batch: 347/1000 \t    computation time/batch: 53.9444sec\t    number of points: 13\n",
      "\t    median distance2db: 0.0024166107177734375\n",
      "computation DB time/batch: 53.9526\n",
      "batch: 348/1000 \t    computation time/batch: 53.9559sec\t    number of points: 14\n",
      "\t    median distance2db: 0.0006089210510253906\n",
      "computation DB time/batch: 53.9777\n",
      "batch: 349/1000 \t    computation time/batch: 53.9810sec\t    number of points: 10\n",
      "\t    median distance2db: 0.0025107860565185547\n",
      "computation DB time/batch: 53.9795\n",
      "batch: 350/1000 \t    computation time/batch: 53.9837sec\t    number of points: 12\n",
      "\t    median distance2db: 0.0035904645919799805\n",
      "computation DB time/batch: 53.9713\n",
      "batch: 351/1000 \t    computation time/batch: 53.9749sec\t    number of points: 9\n",
      "\t    median distance2db: 0.0024546384811401367\n",
      "computation DB time/batch: 53.9612\n",
      "batch: 352/1000 \t    computation time/batch: 53.9650sec\t    number of points: 19\n",
      "\t    median distance2db: 0.0025806427001953125\n",
      "computation DB time/batch: 53.9703\n",
      "batch: 353/1000 \t    computation time/batch: 53.9734sec\t    number of points: 13\n",
      "\t    median distance2db: 0.0029354095458984375\n",
      "computation DB time/batch: 53.9578\n",
      "batch: 354/1000 \t    computation time/batch: 53.9616sec\t    number of points: 9\n",
      "\t    median distance2db: 0.0029081106185913086\n",
      "computation DB time/batch: 54.0178\n",
      "batch: 355/1000 \t    computation time/batch: 54.0215sec\t    number of points: 9\n",
      "\t    median distance2db: 0.00245511531829834\n",
      "computation DB time/batch: 53.9176\n",
      "batch: 356/1000 \t    computation time/batch: 53.9202sec\t    number of points: 8\n",
      "\t    median distance2db: 0.0015331506729125977\n",
      "computation DB time/batch: 54.0225\n",
      "batch: 357/1000 \t    computation time/batch: 54.0260sec\t    number of points: 12\n",
      "\t    median distance2db: 0.001756429672241211\n"
     ]
    },
    {
     "name": "stdout",
     "output_type": "stream",
     "text": [
      "computation DB time/batch: 53.9974\n",
      "batch: 358/1000 \t    computation time/batch: 54.0002sec\t    number of points: 8\n",
      "\t    median distance2db: 0.0004285573959350586\n",
      "computation DB time/batch: 53.9699\n",
      "batch: 359/1000 \t    computation time/batch: 53.9728sec\t    number of points: 16\n",
      "\t    median distance2db: 0.0022019147872924805\n",
      "computation DB time/batch: 53.9336\n",
      "batch: 360/1000 \t    computation time/batch: 53.9362sec\t    number of points: 13\n",
      "\t    median distance2db: 0.0017614364624023438\n",
      "computation DB time/batch: 53.9372\n",
      "batch: 361/1000 \t    computation time/batch: 53.9403sec\t    number of points: 8\n",
      "\t    median distance2db: 0.0008990764617919922\n",
      "computation DB time/batch: 53.9146\n",
      "batch: 362/1000 \t    computation time/batch: 53.9178sec\t    number of points: 11\n",
      "\t    median distance2db: 0.0009930133819580078\n",
      "computation DB time/batch: 53.9094\n",
      "batch: 363/1000 \t    computation time/batch: 53.9126sec\t    number of points: 12\n",
      "\t    median distance2db: 0.002027273178100586\n",
      "computation DB time/batch: 53.9018\n",
      "batch: 364/1000 \t    computation time/batch: 53.9053sec\t    number of points: 12\n",
      "\t    median distance2db: 0.0013331174850463867\n",
      "computation DB time/batch: 53.9004\n",
      "batch: 365/1000 \t    computation time/batch: 53.9037sec\t    number of points: 9\n",
      "\t    median distance2db: 0.0017241239547729492\n",
      "computation DB time/batch: 53.9050\n",
      "batch: 366/1000 \t    computation time/batch: 53.9085sec\t    number of points: 17\n",
      "\t    median distance2db: 0.0012054443359375\n",
      "computation DB time/batch: 53.9192\n",
      "batch: 367/1000 \t    computation time/batch: 53.9226sec\t    number of points: 8\n",
      "\t    median distance2db: 0.007598161697387695\n",
      "computation DB time/batch: 53.9485\n",
      "batch: 368/1000 \t    computation time/batch: 53.9522sec\t    number of points: 12\n",
      "\t    median distance2db: 0.0018883943557739258\n",
      "computation DB time/batch: 53.9782\n",
      "batch: 369/1000 \t    computation time/batch: 53.9813sec\t    number of points: 15\n",
      "\t    median distance2db: 0.00034677982330322266\n",
      "computation DB time/batch: 54.0054\n",
      "batch: 370/1000 \t    computation time/batch: 54.0094sec\t    number of points: 11\n",
      "\t    median distance2db: 0.005082130432128906\n",
      "computation DB time/batch: 53.9981\n",
      "batch: 371/1000 \t    computation time/batch: 54.0008sec\t    number of points: 21\n",
      "\t    median distance2db: 0.001625657081604004\n",
      "computation DB time/batch: 53.9910\n",
      "batch: 372/1000 \t    computation time/batch: 53.9943sec\t    number of points: 16\n",
      "\t    median distance2db: 0.0014636516571044922\n",
      "computation DB time/batch: 53.9773\n",
      "batch: 373/1000 \t    computation time/batch: 53.9803sec\t    number of points: 15\n",
      "\t    median distance2db: 0.0013158321380615234\n",
      "computation DB time/batch: 54.0165\n",
      "batch: 374/1000 \t    computation time/batch: 54.0196sec\t    number of points: 9\n",
      "\t    median distance2db: 0.0015081167221069336\n",
      "computation DB time/batch: 54.0113\n",
      "batch: 375/1000 \t    computation time/batch: 54.0142sec\t    number of points: 16\n",
      "\t    median distance2db: 0.0012634992599487305\n",
      "computation DB time/batch: 53.9988\n",
      "batch: 376/1000 \t    computation time/batch: 54.0020sec\t    number of points: 17\n",
      "\t    median distance2db: 0.002086043357849121\n",
      "computation DB time/batch: 53.9766\n",
      "batch: 377/1000 \t    computation time/batch: 53.9795sec\t    number of points: 10\n",
      "\t    median distance2db: 0.004441261291503906\n",
      "computation DB time/batch: 53.9698\n",
      "batch: 378/1000 \t    computation time/batch: 53.9726sec\t    number of points: 15\n",
      "\t    median distance2db: 0.001013636589050293\n",
      "computation DB time/batch: 53.9877\n",
      "batch: 379/1000 \t    computation time/batch: 53.9917sec\t    number of points: 11\n",
      "\t    median distance2db: 0.0010132789611816406\n",
      "computation DB time/batch: 53.9946\n",
      "batch: 380/1000 \t    computation time/batch: 53.9985sec\t    number of points: 12\n",
      "\t    median distance2db: 0.0032279491424560547\n",
      "computation DB time/batch: 53.9956\n",
      "batch: 381/1000 \t    computation time/batch: 53.9992sec\t    number of points: 14\n",
      "\t    median distance2db: 0.0026264190673828125\n",
      "computation DB time/batch: 53.9974\n",
      "batch: 382/1000 \t    computation time/batch: 54.0003sec\t    number of points: 13\n",
      "\t    median distance2db: 0.0016777515411376953\n",
      "computation DB time/batch: 53.9600\n",
      "batch: 383/1000 \t    computation time/batch: 53.9631sec\t    number of points: 15\n",
      "\t    median distance2db: 0.0012145042419433594\n",
      "computation DB time/batch: 53.9090\n",
      "batch: 384/1000 \t    computation time/batch: 53.9120sec\t    number of points: 13\n",
      "\t    median distance2db: 0.003777146339416504\n",
      "computation DB time/batch: 53.9337\n",
      "batch: 385/1000 \t    computation time/batch: 53.9367sec\t    number of points: 16\n",
      "\t    median distance2db: 0.0010039806365966797\n",
      "computation DB time/batch: 53.9675\n",
      "batch: 386/1000 \t    computation time/batch: 53.9705sec\t    number of points: 17\n",
      "\t    median distance2db: 0.0018476247787475586\n",
      "computation DB time/batch: 53.9827\n",
      "batch: 387/1000 \t    computation time/batch: 53.9859sec\t    number of points: 15\n",
      "\t    median distance2db: 0.0013394355773925781\n",
      "computation DB time/batch: 53.9755\n",
      "batch: 388/1000 \t    computation time/batch: 53.9786sec\t    number of points: 9\n",
      "\t    median distance2db: 0.002050638198852539\n",
      "computation DB time/batch: 53.9909\n",
      "batch: 389/1000 \t    computation time/batch: 53.9936sec\t    number of points: 15\n",
      "\t    median distance2db: 0.0024771690368652344\n",
      "computation DB time/batch: 53.9818\n",
      "batch: 390/1000 \t    computation time/batch: 53.9850sec\t    number of points: 17\n",
      "\t    median distance2db: 0.0029494762420654297\n",
      "computation DB time/batch: 53.9837\n",
      "batch: 391/1000 \t    computation time/batch: 53.9870sec\t    number of points: 13\n",
      "\t    median distance2db: 0.0009472370147705078\n",
      "computation DB time/batch: 53.9846\n",
      "batch: 392/1000 \t    computation time/batch: 53.9876sec\t    number of points: 17\n",
      "\t    median distance2db: 0.0007393360137939453\n",
      "computation DB time/batch: 53.9782\n",
      "batch: 393/1000 \t    computation time/batch: 53.9810sec\t    number of points: 14\n",
      "\t    median distance2db: 0.0007827281951904297\n",
      "computation DB time/batch: 53.9816\n",
      "batch: 394/1000 \t    computation time/batch: 53.9847sec\t    number of points: 9\n",
      "\t    median distance2db: 0.0016775131225585938\n",
      "computation DB time/batch: 53.9729\n",
      "batch: 395/1000 \t    computation time/batch: 53.9768sec\t    number of points: 6\n",
      "\t    median distance2db: 0.0007039308547973633\n",
      "computation DB time/batch: 53.9768\n",
      "batch: 396/1000 \t    computation time/batch: 53.9798sec\t    number of points: 19\n",
      "\t    median distance2db: 0.0027670860290527344\n",
      "computation DB time/batch: 53.9817\n",
      "batch: 397/1000 \t    computation time/batch: 53.9845sec\t    number of points: 8\n",
      "\t    median distance2db: 0.0032935142517089844\n",
      "computation DB time/batch: 53.9697\n",
      "batch: 398/1000 \t    computation time/batch: 53.9730sec\t    number of points: 11\n",
      "\t    median distance2db: 0.001623392105102539\n",
      "computation DB time/batch: 53.9766\n",
      "batch: 399/1000 \t    computation time/batch: 53.9798sec\t    number of points: 16\n",
      "\t    median distance2db: 0.0013447999954223633\n",
      "computation DB time/batch: 53.9697\n",
      "batch: 400/1000 \t    computation time/batch: 53.9727sec\t    number of points: 10\n",
      "\t    median distance2db: 0.0002105236053466797\n",
      "computation DB time/batch: 53.9815\n",
      "batch: 401/1000 \t    computation time/batch: 53.9846sec\t    number of points: 16\n",
      "\t    median distance2db: 0.0014858245849609375\n",
      "computation DB time/batch: 53.9492\n",
      "batch: 402/1000 \t    computation time/batch: 53.9522sec\t    number of points: 16\n",
      "\t    median distance2db: 0.0008647441864013672\n",
      "computation DB time/batch: 54.0071\n",
      "batch: 403/1000 \t    computation time/batch: 54.0102sec\t    number of points: 15\n",
      "\t    median distance2db: 0.00229799747467041\n",
      "computation DB time/batch: 53.9969\n",
      "batch: 404/1000 \t    computation time/batch: 53.9997sec\t    number of points: 13\n",
      "\t    median distance2db: 0.0034700632095336914\n",
      "computation DB time/batch: 53.9903\n",
      "batch: 405/1000 \t    computation time/batch: 53.9935sec\t    number of points: 12\n",
      "\t    median distance2db: 0.004662752151489258\n",
      "computation DB time/batch: 53.9881\n",
      "batch: 406/1000 \t    computation time/batch: 53.9910sec\t    number of points: 16\n",
      "\t    median distance2db: 0.003377199172973633\n",
      "computation DB time/batch: 54.0011\n",
      "batch: 407/1000 \t    computation time/batch: 54.0041sec\t    number of points: 13\n",
      "\t    median distance2db: 0.002532482147216797\n",
      "computation DB time/batch: 54.0008\n",
      "batch: 408/1000 \t    computation time/batch: 54.0041sec\t    number of points: 12\n",
      "\t    median distance2db: 0.0006562471389770508\n"
     ]
    },
    {
     "name": "stdout",
     "output_type": "stream",
     "text": [
      "computation DB time/batch: 53.9805\n",
      "batch: 409/1000 \t    computation time/batch: 53.9836sec\t    number of points: 9\n",
      "\t    median distance2db: 0.001432657241821289\n",
      "computation DB time/batch: 53.9781\n",
      "batch: 410/1000 \t    computation time/batch: 53.9813sec\t    number of points: 22\n",
      "\t    median distance2db: 0.0006687641143798828\n",
      "computation DB time/batch: 53.9668\n",
      "batch: 411/1000 \t    computation time/batch: 53.9698sec\t    number of points: 8\n",
      "\t    median distance2db: 0.0012153387069702148\n",
      "computation DB time/batch: 53.9684\n",
      "batch: 412/1000 \t    computation time/batch: 53.9720sec\t    number of points: 11\n",
      "\t    median distance2db: 0.0021653175354003906\n",
      "computation DB time/batch: 53.9651\n",
      "batch: 413/1000 \t    computation time/batch: 53.9679sec\t    number of points: 17\n",
      "\t    median distance2db: 0.0013948678970336914\n",
      "computation DB time/batch: 53.9689\n",
      "batch: 414/1000 \t    computation time/batch: 53.9719sec\t    number of points: 24\n",
      "\t    median distance2db: 0.0015000104904174805\n",
      "computation DB time/batch: 53.9477\n",
      "batch: 415/1000 \t    computation time/batch: 53.9507sec\t    number of points: 18\n",
      "\t    median distance2db: 0.0011725425720214844\n",
      "computation DB time/batch: 53.9446\n",
      "batch: 416/1000 \t    computation time/batch: 53.9474sec\t    number of points: 16\n",
      "\t    median distance2db: 0.0023436546325683594\n",
      "computation DB time/batch: 53.9381\n",
      "batch: 417/1000 \t    computation time/batch: 53.9412sec\t    number of points: 19\n",
      "\t    median distance2db: 0.004569888114929199\n",
      "computation DB time/batch: 53.9529\n",
      "batch: 418/1000 \t    computation time/batch: 53.9557sec\t    number of points: 17\n",
      "\t    median distance2db: 0.0014191865921020508\n",
      "computation DB time/batch: 53.9492\n",
      "batch: 419/1000 \t    computation time/batch: 53.9523sec\t    number of points: 15\n",
      "\t    median distance2db: 0.0018651485443115234\n",
      "computation DB time/batch: 53.9429\n",
      "batch: 420/1000 \t    computation time/batch: 53.9456sec\t    number of points: 16\n",
      "\t    median distance2db: 0.0012023448944091797\n",
      "computation DB time/batch: 53.9437\n",
      "batch: 421/1000 \t    computation time/batch: 53.9472sec\t    number of points: 7\n",
      "\t    median distance2db: 0.0010372400283813477\n",
      "computation DB time/batch: 53.9215\n",
      "batch: 422/1000 \t    computation time/batch: 53.9243sec\t    number of points: 18\n",
      "\t    median distance2db: 0.0016609430313110352\n",
      "computation DB time/batch: 53.9522\n",
      "batch: 423/1000 \t    computation time/batch: 53.9552sec\t    number of points: 8\n",
      "\t    median distance2db: 0.00016307830810546875\n",
      "computation DB time/batch: 53.9368\n",
      "batch: 424/1000 \t    computation time/batch: 53.9401sec\t    number of points: 10\n",
      "\t    median distance2db: 0.0036438703536987305\n",
      "computation DB time/batch: 53.9387\n",
      "batch: 425/1000 \t    computation time/batch: 53.9416sec\t    number of points: 13\n",
      "\t    median distance2db: 0.0010699033737182617\n",
      "computation DB time/batch: 53.9538\n",
      "batch: 426/1000 \t    computation time/batch: 53.9567sec\t    number of points: 15\n",
      "\t    median distance2db: 0.0007249116897583008\n",
      "computation DB time/batch: 53.9455\n",
      "batch: 427/1000 \t    computation time/batch: 53.9488sec\t    number of points: 12\n",
      "\t    median distance2db: 0.001796722412109375\n",
      "computation DB time/batch: 53.9469\n",
      "batch: 428/1000 \t    computation time/batch: 53.9504sec\t    number of points: 12\n",
      "\t    median distance2db: 0.003392457962036133\n",
      "computation DB time/batch: 53.9420\n",
      "batch: 429/1000 \t    computation time/batch: 53.9449sec\t    number of points: 18\n",
      "\t    median distance2db: 0.0013647079467773438\n",
      "computation DB time/batch: 53.9651\n",
      "batch: 430/1000 \t    computation time/batch: 53.9690sec\t    number of points: 12\n",
      "\t    median distance2db: 0.0021167993545532227\n",
      "computation DB time/batch: 53.9547\n",
      "batch: 431/1000 \t    computation time/batch: 53.9575sec\t    number of points: 9\n",
      "\t    median distance2db: 0.0039397478103637695\n",
      "computation DB time/batch: 53.9638\n",
      "batch: 432/1000 \t    computation time/batch: 53.9668sec\t    number of points: 14\n",
      "\t    median distance2db: 0.002841472625732422\n",
      "computation DB time/batch: 53.9670\n",
      "batch: 433/1000 \t    computation time/batch: 53.9698sec\t    number of points: 13\n",
      "\t    median distance2db: 0.0013315677642822266\n",
      "computation DB time/batch: 53.9681\n",
      "batch: 434/1000 \t    computation time/batch: 53.9711sec\t    number of points: 15\n",
      "\t    median distance2db: 0.0044547319412231445\n",
      "computation DB time/batch: 53.9562\n",
      "batch: 435/1000 \t    computation time/batch: 53.9599sec\t    number of points: 11\n",
      "\t    median distance2db: 0.0027347803115844727\n",
      "computation DB time/batch: 53.9583\n",
      "batch: 436/1000 \t    computation time/batch: 53.9613sec\t    number of points: 17\n",
      "\t    median distance2db: 0.003233194351196289\n",
      "computation DB time/batch: 53.9630\n",
      "batch: 437/1000 \t    computation time/batch: 53.9661sec\t    number of points: 14\n",
      "\t    median distance2db: 0.00030612945556640625\n",
      "computation DB time/batch: 53.9594\n",
      "batch: 438/1000 \t    computation time/batch: 53.9626sec\t    number of points: 12\n",
      "\t    median distance2db: 0.0023310184478759766\n",
      "computation DB time/batch: 53.9627\n",
      "batch: 439/1000 \t    computation time/batch: 53.9662sec\t    number of points: 14\n",
      "\t    median distance2db: 0.0015126466751098633\n",
      "computation DB time/batch: 53.9642\n",
      "batch: 440/1000 \t    computation time/batch: 53.9675sec\t    number of points: 9\n",
      "\t    median distance2db: 0.004662871360778809\n",
      "computation DB time/batch: 53.9698\n",
      "batch: 441/1000 \t    computation time/batch: 53.9728sec\t    number of points: 17\n",
      "\t    median distance2db: 0.0012576580047607422\n",
      "computation DB time/batch: 53.9552\n",
      "batch: 442/1000 \t    computation time/batch: 53.9579sec\t    number of points: 13\n",
      "\t    median distance2db: 0.0020846128463745117\n",
      "computation DB time/batch: 53.9451\n",
      "batch: 443/1000 \t    computation time/batch: 53.9485sec\t    number of points: 7\n",
      "\t    median distance2db: 0.0027168989181518555\n",
      "computation DB time/batch: 53.9375\n",
      "batch: 444/1000 \t    computation time/batch: 53.9409sec\t    number of points: 12\n",
      "\t    median distance2db: 0.0020009279251098633\n",
      "computation DB time/batch: 53.9415\n",
      "batch: 445/1000 \t    computation time/batch: 53.9446sec\t    number of points: 8\n",
      "\t    median distance2db: 0.0014954805374145508\n",
      "computation DB time/batch: 53.9276\n",
      "batch: 446/1000 \t    computation time/batch: 53.9310sec\t    number of points: 7\n",
      "\t    median distance2db: 0.0011973381042480469\n",
      "computation DB time/batch: 53.9185\n",
      "batch: 447/1000 \t    computation time/batch: 53.9220sec\t    number of points: 12\n",
      "\t    median distance2db: 0.0016020536422729492\n",
      "computation DB time/batch: 53.9311\n",
      "batch: 448/1000 \t    computation time/batch: 53.9341sec\t    number of points: 18\n",
      "\t    median distance2db: 0.0038107633590698242\n",
      "computation DB time/batch: 53.9295\n",
      "batch: 449/1000 \t    computation time/batch: 53.9322sec\t    number of points: 14\n",
      "\t    median distance2db: 0.0013322830200195312\n",
      "computation DB time/batch: 53.9479\n",
      "batch: 450/1000 \t    computation time/batch: 53.9512sec\t    number of points: 12\n",
      "\t    median distance2db: 0.0006730556488037109\n",
      "computation DB time/batch: 53.9427\n",
      "batch: 451/1000 \t    computation time/batch: 53.9455sec\t    number of points: 16\n",
      "\t    median distance2db: 0.001410365104675293\n",
      "computation DB time/batch: 53.9280\n",
      "batch: 452/1000 \t    computation time/batch: 53.9309sec\t    number of points: 18\n",
      "\t    median distance2db: 0.0028107166290283203\n",
      "computation DB time/batch: 53.9751\n",
      "batch: 453/1000 \t    computation time/batch: 53.9781sec\t    number of points: 10\n",
      "\t    median distance2db: 0.0009347200393676758\n",
      "computation DB time/batch: 53.9560\n",
      "batch: 454/1000 \t    computation time/batch: 53.9591sec\t    number of points: 15\n",
      "\t    median distance2db: 0.001555800437927246\n",
      "computation DB time/batch: 53.9677\n",
      "batch: 455/1000 \t    computation time/batch: 53.9708sec\t    number of points: 16\n",
      "\t    median distance2db: 0.0011000633239746094\n",
      "computation DB time/batch: 53.9610\n",
      "batch: 456/1000 \t    computation time/batch: 53.9641sec\t    number of points: 14\n",
      "\t    median distance2db: 0.0013862848281860352\n",
      "computation DB time/batch: 53.9672\n",
      "batch: 457/1000 \t    computation time/batch: 53.9703sec\t    number of points: 13\n",
      "\t    median distance2db: 0.0012596845626831055\n",
      "computation DB time/batch: 53.9601\n",
      "batch: 458/1000 \t    computation time/batch: 53.9636sec\t    number of points: 7\n",
      "\t    median distance2db: 0.0011588335037231445\n",
      "computation DB time/batch: 53.9492\n",
      "batch: 459/1000 \t    computation time/batch: 53.9523sec\t    number of points: 13\n",
      "\t    median distance2db: 0.0019153356552124023\n"
     ]
    },
    {
     "name": "stdout",
     "output_type": "stream",
     "text": [
      "computation DB time/batch: 53.9493\n",
      "batch: 460/1000 \t    computation time/batch: 53.9521sec\t    number of points: 13\n",
      "\t    median distance2db: 0.0016123056411743164\n",
      "computation DB time/batch: 53.9486\n",
      "batch: 461/1000 \t    computation time/batch: 53.9517sec\t    number of points: 8\n",
      "\t    median distance2db: 0.0025490522384643555\n",
      "computation DB time/batch: 53.9455\n",
      "batch: 462/1000 \t    computation time/batch: 53.9481sec\t    number of points: 16\n",
      "\t    median distance2db: 0.0019015073776245117\n",
      "computation DB time/batch: 53.9648\n",
      "batch: 463/1000 \t    computation time/batch: 53.9679sec\t    number of points: 18\n",
      "\t    median distance2db: 0.0029120445251464844\n",
      "computation DB time/batch: 53.9461\n",
      "batch: 464/1000 \t    computation time/batch: 53.9489sec\t    number of points: 17\n",
      "\t    median distance2db: 0.0016921758651733398\n",
      "computation DB time/batch: 53.9471\n",
      "batch: 465/1000 \t    computation time/batch: 53.9500sec\t    number of points: 20\n",
      "\t    median distance2db: 0.000774383544921875\n",
      "computation DB time/batch: 53.9439\n",
      "batch: 466/1000 \t    computation time/batch: 53.9468sec\t    number of points: 20\n",
      "\t    median distance2db: 0.002300262451171875\n",
      "computation DB time/batch: 53.9381\n",
      "batch: 467/1000 \t    computation time/batch: 53.9409sec\t    number of points: 20\n",
      "\t    median distance2db: 0.00430750846862793\n",
      "computation DB time/batch: 53.9439\n",
      "batch: 468/1000 \t    computation time/batch: 53.9470sec\t    number of points: 17\n",
      "\t    median distance2db: 0.001483321189880371\n",
      "computation DB time/batch: 53.9497\n",
      "batch: 469/1000 \t    computation time/batch: 53.9527sec\t    number of points: 14\n",
      "\t    median distance2db: 0.0005565881729125977\n",
      "computation DB time/batch: 53.9234\n",
      "batch: 470/1000 \t    computation time/batch: 53.9270sec\t    number of points: 12\n",
      "\t    median distance2db: 0.002023458480834961\n",
      "computation DB time/batch: 53.9275\n",
      "batch: 471/1000 \t    computation time/batch: 53.9303sec\t    number of points: 16\n",
      "\t    median distance2db: 0.0035496950149536133\n",
      "computation DB time/batch: 53.9329\n",
      "batch: 472/1000 \t    computation time/batch: 53.9364sec\t    number of points: 12\n",
      "\t    median distance2db: 0.0005638599395751953\n",
      "computation DB time/batch: 53.9371\n",
      "batch: 473/1000 \t    computation time/batch: 53.9400sec\t    number of points: 17\n",
      "\t    median distance2db: 0.0025213956832885742\n",
      "computation DB time/batch: 53.9329\n",
      "batch: 474/1000 \t    computation time/batch: 53.9360sec\t    number of points: 10\n",
      "\t    median distance2db: 0.0002911090850830078\n",
      "computation DB time/batch: 53.9260\n",
      "batch: 475/1000 \t    computation time/batch: 53.9290sec\t    number of points: 15\n",
      "\t    median distance2db: 0.0024051666259765625\n",
      "computation DB time/batch: 53.9297\n",
      "batch: 476/1000 \t    computation time/batch: 53.9331sec\t    number of points: 12\n",
      "\t    median distance2db: 0.00025534629821777344\n",
      "computation DB time/batch: 53.9249\n",
      "batch: 477/1000 \t    computation time/batch: 53.9279sec\t    number of points: 16\n",
      "\t    median distance2db: 0.0028352737426757812\n",
      "computation DB time/batch: 53.9050\n",
      "batch: 478/1000 \t    computation time/batch: 53.9078sec\t    number of points: 19\n",
      "\t    median distance2db: 0.007027149200439453\n",
      "computation DB time/batch: 53.9523\n",
      "batch: 479/1000 \t    computation time/batch: 53.9558sec\t    number of points: 13\n",
      "\t    median distance2db: 0.006395101547241211\n",
      "computation DB time/batch: 53.9365\n",
      "batch: 480/1000 \t    computation time/batch: 53.9397sec\t    number of points: 15\n",
      "\t    median distance2db: 0.0006403923034667969\n",
      "computation DB time/batch: 53.9353\n",
      "batch: 481/1000 \t    computation time/batch: 53.9383sec\t    number of points: 10\n",
      "\t    median distance2db: 0.001562356948852539\n",
      "computation DB time/batch: 53.9555\n",
      "batch: 482/1000 \t    computation time/batch: 53.9583sec\t    number of points: 18\n",
      "\t    median distance2db: 0.0004622936248779297\n",
      "computation DB time/batch: 53.9803\n",
      "batch: 483/1000 \t    computation time/batch: 53.9838sec\t    number of points: 13\n",
      "\t    median distance2db: 0.0018385648727416992\n",
      "computation DB time/batch: 53.9827\n",
      "batch: 484/1000 \t    computation time/batch: 53.9857sec\t    number of points: 16\n",
      "\t    median distance2db: 0.0003210306167602539\n",
      "computation DB time/batch: 53.9819\n",
      "batch: 485/1000 \t    computation time/batch: 53.9848sec\t    number of points: 16\n",
      "\t    median distance2db: 0.002762913703918457\n",
      "computation DB time/batch: 53.9793\n",
      "batch: 486/1000 \t    computation time/batch: 53.9826sec\t    number of points: 12\n",
      "\t    median distance2db: 0.0012918710708618164\n",
      "computation DB time/batch: 53.9706\n",
      "batch: 487/1000 \t    computation time/batch: 53.9737sec\t    number of points: 8\n",
      "\t    median distance2db: 0.004377841949462891\n",
      "computation DB time/batch: 53.9840\n",
      "batch: 488/1000 \t    computation time/batch: 53.9871sec\t    number of points: 16\n",
      "\t    median distance2db: 0.001385331153869629\n",
      "computation DB time/batch: 53.9686\n",
      "batch: 489/1000 \t    computation time/batch: 53.9716sec\t    number of points: 15\n",
      "\t    median distance2db: 0.0006414651870727539\n",
      "computation DB time/batch: 53.9850\n",
      "batch: 490/1000 \t    computation time/batch: 53.9881sec\t    number of points: 17\n",
      "\t    median distance2db: 0.0013279914855957031\n",
      "computation DB time/batch: 53.9747\n",
      "batch: 491/1000 \t    computation time/batch: 53.9775sec\t    number of points: 13\n",
      "\t    median distance2db: 0.002161264419555664\n",
      "computation DB time/batch: 53.9801\n",
      "batch: 492/1000 \t    computation time/batch: 53.9829sec\t    number of points: 13\n",
      "\t    median distance2db: 0.0037071704864501953\n",
      "computation DB time/batch: 53.9748\n",
      "batch: 493/1000 \t    computation time/batch: 53.9776sec\t    number of points: 14\n",
      "\t    median distance2db: 0.001103520393371582\n",
      "computation DB time/batch: 53.9794\n",
      "batch: 494/1000 \t    computation time/batch: 53.9821sec\t    number of points: 14\n",
      "\t    median distance2db: 0.0005728006362915039\n",
      "computation DB time/batch: 53.9737\n",
      "batch: 495/1000 \t    computation time/batch: 53.9768sec\t    number of points: 18\n",
      "\t    median distance2db: 0.00040924549102783203\n",
      "computation DB time/batch: 53.9784\n",
      "batch: 496/1000 \t    computation time/batch: 53.9812sec\t    number of points: 10\n",
      "\t    median distance2db: 0.00037741661071777344\n",
      "computation DB time/batch: 53.9712\n",
      "batch: 497/1000 \t    computation time/batch: 53.9748sec\t    number of points: 11\n",
      "\t    median distance2db: 0.0018241405487060547\n",
      "computation DB time/batch: 53.9550\n",
      "batch: 498/1000 \t    computation time/batch: 53.9587sec\t    number of points: 7\n",
      "\t    median distance2db: 0.0006946325302124023\n",
      "computation DB time/batch: 53.9705\n",
      "batch: 499/1000 \t    computation time/batch: 53.9736sec\t    number of points: 14\n",
      "\t    median distance2db: 0.0039108991622924805\n",
      "computation DB time/batch: 53.9584\n",
      "batch: 500/1000 \t    computation time/batch: 53.9611sec\t    number of points: 8\n",
      "\t    median distance2db: 0.004177093505859375\n",
      "computation DB time/batch: 53.9083\n",
      "batch: 501/1000 \t    computation time/batch: 53.9114sec\t    number of points: 17\n",
      "\t    median distance2db: 0.0021219253540039062\n",
      "computation DB time/batch: 53.8893\n",
      "batch: 502/1000 \t    computation time/batch: 53.8921sec\t    number of points: 13\n",
      "\t    median distance2db: 0.001439809799194336\n",
      "computation DB time/batch: 53.9689\n",
      "batch: 503/1000 \t    computation time/batch: 53.9720sec\t    number of points: 18\n",
      "\t    median distance2db: 0.0015698671340942383\n",
      "computation DB time/batch: 53.9646\n",
      "batch: 504/1000 \t    computation time/batch: 53.9675sec\t    number of points: 10\n",
      "\t    median distance2db: 0.0034449100494384766\n",
      "computation DB time/batch: 53.9973\n",
      "batch: 505/1000 \t    computation time/batch: 54.0007sec\t    number of points: 11\n",
      "\t    median distance2db: 0.0017925500869750977\n",
      "computation DB time/batch: 53.9910\n",
      "batch: 506/1000 \t    computation time/batch: 53.9940sec\t    number of points: 13\n",
      "\t    median distance2db: 0.0012822151184082031\n",
      "computation DB time/batch: 54.0035\n",
      "batch: 507/1000 \t    computation time/batch: 54.0063sec\t    number of points: 13\n",
      "\t    median distance2db: 0.001453995704650879\n",
      "computation DB time/batch: 54.0051\n",
      "batch: 508/1000 \t    computation time/batch: 54.0084sec\t    number of points: 10\n",
      "\t    median distance2db: 0.0008261203765869141\n",
      "computation DB time/batch: 54.0223\n",
      "batch: 509/1000 \t    computation time/batch: 54.0253sec\t    number of points: 14\n",
      "\t    median distance2db: 0.0009849071502685547\n",
      "computation DB time/batch: 54.0198\n",
      "batch: 510/1000 \t    computation time/batch: 54.0227sec\t    number of points: 18\n",
      "\t    median distance2db: 0.001328110694885254\n"
     ]
    },
    {
     "name": "stdout",
     "output_type": "stream",
     "text": [
      "computation DB time/batch: 54.0197\n",
      "batch: 511/1000 \t    computation time/batch: 54.0225sec\t    number of points: 16\n",
      "\t    median distance2db: 0.001773238182067871\n",
      "computation DB time/batch: 54.0022\n",
      "batch: 512/1000 \t    computation time/batch: 54.0058sec\t    number of points: 18\n",
      "\t    median distance2db: 0.0011856555938720703\n",
      "computation DB time/batch: 53.9846\n",
      "batch: 513/1000 \t    computation time/batch: 53.9875sec\t    number of points: 8\n",
      "\t    median distance2db: 0.0014739036560058594\n",
      "computation DB time/batch: 53.9455\n",
      "batch: 514/1000 \t    computation time/batch: 53.9489sec\t    number of points: 12\n",
      "\t    median distance2db: 0.0015149116516113281\n",
      "computation DB time/batch: 53.9234\n",
      "batch: 515/1000 \t    computation time/batch: 53.9263sec\t    number of points: 14\n",
      "\t    median distance2db: 0.0037659406661987305\n",
      "computation DB time/batch: 53.9593\n",
      "batch: 516/1000 \t    computation time/batch: 53.9623sec\t    number of points: 18\n",
      "\t    median distance2db: 0.0011932849884033203\n",
      "computation DB time/batch: 53.9832\n",
      "batch: 517/1000 \t    computation time/batch: 53.9863sec\t    number of points: 14\n",
      "\t    median distance2db: 0.003136754035949707\n",
      "computation DB time/batch: 53.9748\n",
      "batch: 518/1000 \t    computation time/batch: 53.9777sec\t    number of points: 10\n",
      "\t    median distance2db: 0.0008144378662109375\n",
      "computation DB time/batch: 53.9954\n",
      "batch: 519/1000 \t    computation time/batch: 53.9985sec\t    number of points: 14\n",
      "\t    median distance2db: 0.0033491849899291992\n",
      "computation DB time/batch: 53.9941\n",
      "batch: 520/1000 \t    computation time/batch: 53.9972sec\t    number of points: 8\n",
      "\t    median distance2db: 0.0002162456512451172\n",
      "computation DB time/batch: 53.9836\n",
      "batch: 521/1000 \t    computation time/batch: 53.9866sec\t    number of points: 18\n",
      "\t    median distance2db: 0.000943303108215332\n",
      "computation DB time/batch: 53.9916\n",
      "batch: 522/1000 \t    computation time/batch: 53.9943sec\t    number of points: 17\n",
      "\t    median distance2db: 0.0016576051712036133\n",
      "computation DB time/batch: 53.9886\n",
      "batch: 523/1000 \t    computation time/batch: 53.9916sec\t    number of points: 15\n",
      "\t    median distance2db: 0.001946091651916504\n",
      "computation DB time/batch: 53.9742\n",
      "batch: 524/1000 \t    computation time/batch: 53.9772sec\t    number of points: 10\n",
      "\t    median distance2db: 0.001497507095336914\n",
      "computation DB time/batch: 53.9815\n",
      "batch: 525/1000 \t    computation time/batch: 53.9846sec\t    number of points: 8\n",
      "\t    median distance2db: 0.0023096799850463867\n",
      "computation DB time/batch: 53.9754\n",
      "batch: 526/1000 \t    computation time/batch: 53.9782sec\t    number of points: 9\n",
      "\t    median distance2db: 0.0011979341506958008\n",
      "computation DB time/batch: 53.9899\n",
      "batch: 527/1000 \t    computation time/batch: 53.9937sec\t    number of points: 11\n",
      "\t    median distance2db: 0.0017570257186889648\n",
      "computation DB time/batch: 53.9888\n",
      "batch: 528/1000 \t    computation time/batch: 53.9918sec\t    number of points: 15\n",
      "\t    median distance2db: 0.0016171932220458984\n",
      "computation DB time/batch: 53.9874\n",
      "batch: 529/1000 \t    computation time/batch: 53.9905sec\t    number of points: 8\n",
      "\t    median distance2db: 2.1338462829589844e-05\n",
      "computation DB time/batch: 53.9830\n",
      "batch: 530/1000 \t    computation time/batch: 53.9862sec\t    number of points: 13\n",
      "\t    median distance2db: 0.0017285346984863281\n",
      "computation DB time/batch: 53.9713\n",
      "batch: 531/1000 \t    computation time/batch: 53.9747sec\t    number of points: 12\n",
      "\t    median distance2db: 0.0031256675720214844\n",
      "computation DB time/batch: 53.9762\n",
      "batch: 532/1000 \t    computation time/batch: 53.9798sec\t    number of points: 12\n",
      "\t    median distance2db: 0.0012545585632324219\n",
      "computation DB time/batch: 53.9802\n",
      "batch: 533/1000 \t    computation time/batch: 53.9835sec\t    number of points: 17\n",
      "\t    median distance2db: 0.0038979053497314453\n",
      "computation DB time/batch: 53.9810\n",
      "batch: 534/1000 \t    computation time/batch: 53.9843sec\t    number of points: 16\n",
      "\t    median distance2db: 0.0009330511093139648\n",
      "computation DB time/batch: 53.9729\n",
      "batch: 535/1000 \t    computation time/batch: 53.9759sec\t    number of points: 16\n",
      "\t    median distance2db: 0.0013179779052734375\n",
      "computation DB time/batch: 53.9672\n",
      "batch: 536/1000 \t    computation time/batch: 53.9702sec\t    number of points: 16\n",
      "\t    median distance2db: 0.0032672882080078125\n",
      "computation DB time/batch: 53.9538\n",
      "batch: 537/1000 \t    computation time/batch: 53.9569sec\t    number of points: 15\n",
      "\t    median distance2db: 0.0018837451934814453\n",
      "computation DB time/batch: 53.9645\n",
      "batch: 538/1000 \t    computation time/batch: 53.9676sec\t    number of points: 14\n",
      "\t    median distance2db: 0.0017504692077636719\n",
      "computation DB time/batch: 53.9662\n",
      "batch: 539/1000 \t    computation time/batch: 53.9692sec\t    number of points: 18\n",
      "\t    median distance2db: 0.00030982494354248047\n",
      "computation DB time/batch: 54.0080\n",
      "batch: 540/1000 \t    computation time/batch: 54.0116sec\t    number of points: 12\n",
      "\t    median distance2db: 0.0016012191772460938\n",
      "computation DB time/batch: 53.9761\n",
      "batch: 541/1000 \t    computation time/batch: 53.9796sec\t    number of points: 11\n",
      "\t    median distance2db: 0.0007429122924804688\n",
      "computation DB time/batch: 54.0018\n",
      "batch: 542/1000 \t    computation time/batch: 54.0058sec\t    number of points: 12\n",
      "\t    median distance2db: 0.0013238191604614258\n",
      "computation DB time/batch: 53.9811\n",
      "batch: 543/1000 \t    computation time/batch: 53.9840sec\t    number of points: 13\n",
      "\t    median distance2db: 0.0012738704681396484\n",
      "computation DB time/batch: 54.0127\n",
      "batch: 544/1000 \t    computation time/batch: 54.0159sec\t    number of points: 27\n",
      "\t    median distance2db: 0.0006384849548339844\n",
      "computation DB time/batch: 54.0081\n",
      "batch: 545/1000 \t    computation time/batch: 54.0113sec\t    number of points: 19\n",
      "\t    median distance2db: 0.001328587532043457\n",
      "computation DB time/batch: 54.0181\n",
      "batch: 546/1000 \t    computation time/batch: 54.0212sec\t    number of points: 9\n",
      "\t    median distance2db: 0.0014060735702514648\n",
      "computation DB time/batch: 53.9796\n",
      "batch: 547/1000 \t    computation time/batch: 53.9833sec\t    number of points: 12\n",
      "\t    median distance2db: 0.0014677047729492188\n",
      "computation DB time/batch: 53.9439\n",
      "batch: 548/1000 \t    computation time/batch: 53.9471sec\t    number of points: 13\n",
      "\t    median distance2db: 0.0016037225723266602\n",
      "computation DB time/batch: 53.9308\n",
      "batch: 549/1000 \t    computation time/batch: 53.9341sec\t    number of points: 10\n",
      "\t    median distance2db: 0.0033180713653564453\n",
      "computation DB time/batch: 53.9269\n",
      "batch: 550/1000 \t    computation time/batch: 53.9305sec\t    number of points: 12\n",
      "\t    median distance2db: 0.0010423660278320312\n",
      "computation DB time/batch: 53.9437\n",
      "batch: 551/1000 \t    computation time/batch: 53.9469sec\t    number of points: 9\n",
      "\t    median distance2db: 0.0018047094345092773\n",
      "computation DB time/batch: 53.9441\n",
      "batch: 552/1000 \t    computation time/batch: 53.9470sec\t    number of points: 8\n",
      "\t    median distance2db: 0.0027130842208862305\n",
      "computation DB time/batch: 54.0117\n",
      "batch: 553/1000 \t    computation time/batch: 54.0153sec\t    number of points: 11\n",
      "\t    median distance2db: 0.0030442476272583008\n",
      "computation DB time/batch: 54.0030\n",
      "batch: 554/1000 \t    computation time/batch: 54.0065sec\t    number of points: 11\n",
      "\t    median distance2db: 0.0016374588012695312\n",
      "computation DB time/batch: 54.0290\n",
      "batch: 555/1000 \t    computation time/batch: 54.0321sec\t    number of points: 14\n",
      "\t    median distance2db: 0.0009478330612182617\n",
      "computation DB time/batch: 54.0074\n",
      "batch: 556/1000 \t    computation time/batch: 54.0108sec\t    number of points: 13\n",
      "\t    median distance2db: 0.002979278564453125\n",
      "computation DB time/batch: 54.0238\n",
      "batch: 557/1000 \t    computation time/batch: 54.0287sec\t    number of points: 16\n",
      "\t    median distance2db: 0.002925872802734375\n",
      "computation DB time/batch: 53.9957\n",
      "batch: 558/1000 \t    computation time/batch: 53.9987sec\t    number of points: 9\n",
      "\t    median distance2db: 0.003409147262573242\n",
      "computation DB time/batch: 53.9634\n",
      "batch: 559/1000 \t    computation time/batch: 53.9666sec\t    number of points: 14\n",
      "\t    median distance2db: 0.00010383129119873047\n",
      "computation DB time/batch: 53.9590\n",
      "batch: 560/1000 \t    computation time/batch: 53.9627sec\t    number of points: 12\n",
      "\t    median distance2db: 0.001307845115661621\n",
      "computation DB time/batch: 53.9723\n",
      "batch: 561/1000 \t    computation time/batch: 53.9758sec\t    number of points: 10\n",
      "\t    median distance2db: 0.0010558366775512695\n"
     ]
    },
    {
     "name": "stdout",
     "output_type": "stream",
     "text": [
      "computation DB time/batch: 53.9870\n",
      "batch: 562/1000 \t    computation time/batch: 53.9911sec\t    number of points: 19\n",
      "\t    median distance2db: 0.0018775463104248047\n",
      "computation DB time/batch: 53.9569\n",
      "batch: 563/1000 \t    computation time/batch: 53.9604sec\t    number of points: 10\n",
      "\t    median distance2db: 0.0007016658782958984\n",
      "computation DB time/batch: 53.8754\n",
      "batch: 564/1000 \t    computation time/batch: 53.8787sec\t    number of points: 17\n",
      "\t    median distance2db: 0.003270864486694336\n",
      "computation DB time/batch: 53.7341\n",
      "batch: 565/1000 \t    computation time/batch: 53.7374sec\t    number of points: 9\n",
      "\t    median distance2db: 0.0046231746673583984\n",
      "computation DB time/batch: 53.6673\n",
      "batch: 566/1000 \t    computation time/batch: 53.6706sec\t    number of points: 17\n",
      "\t    median distance2db: 0.0020879507064819336\n",
      "computation DB time/batch: 53.5830\n",
      "batch: 567/1000 \t    computation time/batch: 53.5863sec\t    number of points: 9\n",
      "\t    median distance2db: 0.001729726791381836\n",
      "computation DB time/batch: 53.5460\n",
      "batch: 568/1000 \t    computation time/batch: 53.5500sec\t    number of points: 10\n",
      "\t    median distance2db: 0.004422426223754883\n",
      "computation DB time/batch: 53.5167\n",
      "batch: 569/1000 \t    computation time/batch: 53.5199sec\t    number of points: 19\n",
      "\t    median distance2db: 0.0021246671676635742\n",
      "computation DB time/batch: 53.5278\n",
      "batch: 570/1000 \t    computation time/batch: 53.5311sec\t    number of points: 8\n",
      "\t    median distance2db: 0.0019328594207763672\n",
      "computation DB time/batch: 53.4931\n",
      "batch: 571/1000 \t    computation time/batch: 53.4970sec\t    number of points: 12\n",
      "\t    median distance2db: 0.0015617609024047852\n",
      "computation DB time/batch: 53.4893\n",
      "batch: 572/1000 \t    computation time/batch: 53.4932sec\t    number of points: 12\n",
      "\t    median distance2db: 0.001997709274291992\n",
      "computation DB time/batch: 53.4763\n",
      "batch: 573/1000 \t    computation time/batch: 53.4796sec\t    number of points: 13\n",
      "\t    median distance2db: 0.0008454322814941406\n",
      "computation DB time/batch: 53.5403\n",
      "batch: 574/1000 \t    computation time/batch: 53.5434sec\t    number of points: 14\n",
      "\t    median distance2db: 0.00305938720703125\n",
      "computation DB time/batch: 53.5788\n",
      "batch: 575/1000 \t    computation time/batch: 53.5818sec\t    number of points: 14\n",
      "\t    median distance2db: 0.0023473501205444336\n",
      "computation DB time/batch: 53.5867\n",
      "batch: 576/1000 \t    computation time/batch: 53.5902sec\t    number of points: 16\n",
      "\t    median distance2db: 0.0014638900756835938\n",
      "computation DB time/batch: 53.6011\n",
      "batch: 577/1000 \t    computation time/batch: 53.6050sec\t    number of points: 7\n",
      "\t    median distance2db: 0.004509091377258301\n",
      "computation DB time/batch: 53.5960\n",
      "batch: 578/1000 \t    computation time/batch: 53.5999sec\t    number of points: 12\n",
      "\t    median distance2db: 0.003623485565185547\n",
      "computation DB time/batch: 53.5637\n",
      "batch: 579/1000 \t    computation time/batch: 53.5669sec\t    number of points: 15\n",
      "\t    median distance2db: 0.001553654670715332\n",
      "computation DB time/batch: 53.6032\n",
      "batch: 580/1000 \t    computation time/batch: 53.6070sec\t    number of points: 11\n",
      "\t    median distance2db: 0.0012011528015136719\n",
      "computation DB time/batch: 53.5728\n",
      "batch: 581/1000 \t    computation time/batch: 53.5767sec\t    number of points: 11\n",
      "\t    median distance2db: 0.003450632095336914\n",
      "computation DB time/batch: 53.5261\n",
      "batch: 582/1000 \t    computation time/batch: 53.5296sec\t    number of points: 11\n",
      "\t    median distance2db: 0.0008333921432495117\n",
      "computation DB time/batch: 53.5353\n",
      "batch: 583/1000 \t    computation time/batch: 53.5387sec\t    number of points: 15\n",
      "\t    median distance2db: 0.0004178285598754883\n",
      "computation DB time/batch: 53.5010\n",
      "batch: 584/1000 \t    computation time/batch: 53.5046sec\t    number of points: 11\n",
      "\t    median distance2db: 0.001119375228881836\n",
      "computation DB time/batch: 53.5065\n",
      "batch: 585/1000 \t    computation time/batch: 53.5096sec\t    number of points: 13\n",
      "\t    median distance2db: 0.0011324882507324219\n",
      "computation DB time/batch: 53.5030\n",
      "batch: 586/1000 \t    computation time/batch: 53.5065sec\t    number of points: 10\n",
      "\t    median distance2db: 0.0006655454635620117\n",
      "computation DB time/batch: 53.5810\n",
      "batch: 587/1000 \t    computation time/batch: 53.5848sec\t    number of points: 11\n",
      "\t    median distance2db: 0.0023043155670166016\n",
      "computation DB time/batch: 53.5971\n",
      "batch: 588/1000 \t    computation time/batch: 53.6005sec\t    number of points: 9\n",
      "\t    median distance2db: 0.005090951919555664\n",
      "computation DB time/batch: 53.5916\n",
      "batch: 589/1000 \t    computation time/batch: 53.5947sec\t    number of points: 16\n",
      "\t    median distance2db: 0.001717209815979004\n",
      "computation DB time/batch: 53.6778\n",
      "batch: 590/1000 \t    computation time/batch: 53.6809sec\t    number of points: 14\n",
      "\t    median distance2db: 0.001358628273010254\n",
      "computation DB time/batch: 53.6377\n",
      "batch: 591/1000 \t    computation time/batch: 53.6409sec\t    number of points: 16\n",
      "\t    median distance2db: 0.0025148391723632812\n",
      "computation DB time/batch: 53.6683\n",
      "batch: 592/1000 \t    computation time/batch: 53.6715sec\t    number of points: 10\n",
      "\t    median distance2db: 0.0013893842697143555\n",
      "computation DB time/batch: 53.5772\n",
      "batch: 593/1000 \t    computation time/batch: 53.5807sec\t    number of points: 13\n",
      "\t    median distance2db: 0.0024785995483398438\n",
      "computation DB time/batch: 53.5353\n",
      "batch: 594/1000 \t    computation time/batch: 53.5388sec\t    number of points: 15\n",
      "\t    median distance2db: 0.0008566379547119141\n",
      "computation DB time/batch: 53.5193\n",
      "batch: 595/1000 \t    computation time/batch: 53.5226sec\t    number of points: 18\n",
      "\t    median distance2db: 0.0013616085052490234\n",
      "computation DB time/batch: 53.6434\n",
      "batch: 596/1000 \t    computation time/batch: 53.6465sec\t    number of points: 10\n",
      "\t    median distance2db: 0.001498103141784668\n",
      "computation DB time/batch: 53.6553\n",
      "batch: 597/1000 \t    computation time/batch: 53.6584sec\t    number of points: 13\n",
      "\t    median distance2db: 0.0031921863555908203\n",
      "computation DB time/batch: 53.5331\n",
      "batch: 598/1000 \t    computation time/batch: 53.5365sec\t    number of points: 10\n",
      "\t    median distance2db: 0.0015521049499511719\n",
      "computation DB time/batch: 53.5626\n",
      "batch: 599/1000 \t    computation time/batch: 53.5658sec\t    number of points: 10\n",
      "\t    median distance2db: 0.0008653402328491211\n",
      "computation DB time/batch: 53.5996\n",
      "batch: 600/1000 \t    computation time/batch: 53.6031sec\t    number of points: 12\n",
      "\t    median distance2db: 0.003137350082397461\n",
      "computation DB time/batch: 53.5725\n",
      "batch: 601/1000 \t    computation time/batch: 53.5759sec\t    number of points: 13\n",
      "\t    median distance2db: 0.0009102821350097656\n",
      "computation DB time/batch: 53.5022\n",
      "batch: 602/1000 \t    computation time/batch: 53.5055sec\t    number of points: 14\n",
      "\t    median distance2db: 0.0012875795364379883\n",
      "computation DB time/batch: 53.5528\n",
      "batch: 603/1000 \t    computation time/batch: 53.5563sec\t    number of points: 11\n",
      "\t    median distance2db: 0.0025779008865356445\n",
      "computation DB time/batch: 53.6043\n",
      "batch: 604/1000 \t    computation time/batch: 53.6074sec\t    number of points: 14\n",
      "\t    median distance2db: 0.0040857791900634766\n",
      "computation DB time/batch: 53.5172\n",
      "batch: 605/1000 \t    computation time/batch: 53.5205sec\t    number of points: 14\n",
      "\t    median distance2db: 0.0010350942611694336\n",
      "computation DB time/batch: 53.5178\n",
      "batch: 606/1000 \t    computation time/batch: 53.5215sec\t    number of points: 7\n",
      "\t    median distance2db: 0.0012181997299194336\n",
      "computation DB time/batch: 53.5512\n",
      "batch: 607/1000 \t    computation time/batch: 53.5545sec\t    number of points: 17\n",
      "\t    median distance2db: 0.002232789993286133\n",
      "computation DB time/batch: 53.5862\n",
      "batch: 608/1000 \t    computation time/batch: 53.5899sec\t    number of points: 16\n",
      "\t    median distance2db: 0.0022367238998413086\n",
      "computation DB time/batch: 53.5896\n",
      "batch: 609/1000 \t    computation time/batch: 53.5929sec\t    number of points: 14\n",
      "\t    median distance2db: 0.001608729362487793\n",
      "computation DB time/batch: 53.5415\n",
      "batch: 610/1000 \t    computation time/batch: 53.5452sec\t    number of points: 12\n",
      "\t    median distance2db: 0.0030535459518432617\n",
      "computation DB time/batch: 53.5553\n",
      "batch: 611/1000 \t    computation time/batch: 53.5590sec\t    number of points: 11\n",
      "\t    median distance2db: 0.007037997245788574\n",
      "computation DB time/batch: 53.6342\n",
      "batch: 612/1000 \t    computation time/batch: 53.6372sec\t    number of points: 13\n",
      "\t    median distance2db: 0.0018731355667114258\n"
     ]
    },
    {
     "name": "stdout",
     "output_type": "stream",
     "text": [
      "computation DB time/batch: 53.5731\n",
      "batch: 613/1000 \t    computation time/batch: 53.5771sec\t    number of points: 11\n",
      "\t    median distance2db: 0.0003044605255126953\n",
      "computation DB time/batch: 53.5748\n",
      "batch: 614/1000 \t    computation time/batch: 53.5780sec\t    number of points: 9\n",
      "\t    median distance2db: 0.004656314849853516\n",
      "computation DB time/batch: 53.5891\n",
      "batch: 615/1000 \t    computation time/batch: 53.5922sec\t    number of points: 15\n",
      "\t    median distance2db: 0.0013821125030517578\n",
      "computation DB time/batch: 53.6217\n",
      "batch: 616/1000 \t    computation time/batch: 53.6253sec\t    number of points: 15\n",
      "\t    median distance2db: 0.0004620552062988281\n",
      "computation DB time/batch: 53.6434\n",
      "batch: 617/1000 \t    computation time/batch: 53.6468sec\t    number of points: 15\n",
      "\t    median distance2db: 0.0018737316131591797\n",
      "computation DB time/batch: 53.6038\n",
      "batch: 618/1000 \t    computation time/batch: 53.6068sec\t    number of points: 15\n",
      "\t    median distance2db: 0.002009868621826172\n",
      "computation DB time/batch: 53.6025\n",
      "batch: 619/1000 \t    computation time/batch: 53.6057sec\t    number of points: 14\n",
      "\t    median distance2db: 0.0006333589553833008\n",
      "computation DB time/batch: 53.6123\n",
      "batch: 620/1000 \t    computation time/batch: 53.6155sec\t    number of points: 16\n",
      "\t    median distance2db: 0.0021021366119384766\n",
      "computation DB time/batch: 53.5677\n",
      "batch: 621/1000 \t    computation time/batch: 53.5714sec\t    number of points: 11\n",
      "\t    median distance2db: 0.0017119646072387695\n",
      "computation DB time/batch: 53.5826\n",
      "batch: 622/1000 \t    computation time/batch: 53.5858sec\t    number of points: 15\n",
      "\t    median distance2db: 0.0007315874099731445\n",
      "computation DB time/batch: 53.6283\n",
      "batch: 623/1000 \t    computation time/batch: 53.6318sec\t    number of points: 17\n",
      "\t    median distance2db: 0.0016148090362548828\n",
      "computation DB time/batch: 53.6676\n",
      "batch: 624/1000 \t    computation time/batch: 53.6709sec\t    number of points: 9\n",
      "\t    median distance2db: 0.0006771087646484375\n",
      "computation DB time/batch: 53.6349\n",
      "batch: 625/1000 \t    computation time/batch: 53.6381sec\t    number of points: 18\n",
      "\t    median distance2db: 0.0020914077758789062\n",
      "computation DB time/batch: 53.6243\n",
      "batch: 626/1000 \t    computation time/batch: 53.6278sec\t    number of points: 10\n",
      "\t    median distance2db: 0.0018472671508789062\n",
      "computation DB time/batch: 53.6539\n",
      "batch: 627/1000 \t    computation time/batch: 53.6570sec\t    number of points: 16\n",
      "\t    median distance2db: 0.005757451057434082\n",
      "computation DB time/batch: 53.7130\n",
      "batch: 628/1000 \t    computation time/batch: 53.7164sec\t    number of points: 14\n",
      "\t    median distance2db: 0.002048492431640625\n",
      "computation DB time/batch: 53.7589\n",
      "batch: 629/1000 \t    computation time/batch: 53.7627sec\t    number of points: 12\n",
      "\t    median distance2db: 0.001918792724609375\n",
      "computation DB time/batch: 53.6567\n",
      "batch: 630/1000 \t    computation time/batch: 53.6600sec\t    number of points: 8\n",
      "\t    median distance2db: 0.0031071901321411133\n",
      "computation DB time/batch: 53.6310\n",
      "batch: 631/1000 \t    computation time/batch: 53.6345sec\t    number of points: 14\n",
      "\t    median distance2db: 0.0027652978897094727\n",
      "computation DB time/batch: 53.7123\n",
      "batch: 632/1000 \t    computation time/batch: 53.7160sec\t    number of points: 11\n",
      "\t    median distance2db: 0.0024930238723754883\n",
      "computation DB time/batch: 53.6557\n",
      "batch: 633/1000 \t    computation time/batch: 53.6596sec\t    number of points: 12\n",
      "\t    median distance2db: 0.0013213157653808594\n",
      "computation DB time/batch: 53.7517\n",
      "batch: 634/1000 \t    computation time/batch: 53.7552sec\t    number of points: 11\n",
      "\t    median distance2db: 0.0011255741119384766\n",
      "computation DB time/batch: 53.9337\n",
      "batch: 635/1000 \t    computation time/batch: 53.9368sec\t    number of points: 21\n",
      "\t    median distance2db: 0.002013564109802246\n",
      "computation DB time/batch: 53.7706\n",
      "batch: 636/1000 \t    computation time/batch: 53.7738sec\t    number of points: 13\n",
      "\t    median distance2db: 0.0015425682067871094\n",
      "computation DB time/batch: 53.9401\n",
      "batch: 637/1000 \t    computation time/batch: 53.9436sec\t    number of points: 14\n",
      "\t    median distance2db: 0.0018743276596069336\n",
      "computation DB time/batch: 53.9126\n",
      "batch: 638/1000 \t    computation time/batch: 53.9161sec\t    number of points: 9\n",
      "\t    median distance2db: 0.00211334228515625\n",
      "computation DB time/batch: 53.8283\n",
      "batch: 639/1000 \t    computation time/batch: 53.8314sec\t    number of points: 14\n",
      "\t    median distance2db: 0.0007482767105102539\n",
      "computation DB time/batch: 53.8668\n",
      "batch: 640/1000 \t    computation time/batch: 53.8699sec\t    number of points: 17\n",
      "\t    median distance2db: 0.0006407499313354492\n",
      "computation DB time/batch: 53.7827\n",
      "batch: 641/1000 \t    computation time/batch: 53.7860sec\t    number of points: 9\n",
      "\t    median distance2db: 0.002396225929260254\n",
      "computation DB time/batch: 53.8435\n",
      "batch: 642/1000 \t    computation time/batch: 53.8466sec\t    number of points: 15\n",
      "\t    median distance2db: 0.0035518407821655273\n",
      "computation DB time/batch: 53.8170\n",
      "batch: 643/1000 \t    computation time/batch: 53.8204sec\t    number of points: 15\n",
      "\t    median distance2db: 0.003977775573730469\n",
      "computation DB time/batch: 53.7432\n",
      "batch: 644/1000 \t    computation time/batch: 53.7469sec\t    number of points: 20\n",
      "\t    median distance2db: 0.001328587532043457\n",
      "computation DB time/batch: 53.7199\n",
      "batch: 645/1000 \t    computation time/batch: 53.7234sec\t    number of points: 12\n",
      "\t    median distance2db: 0.002133965492248535\n",
      "computation DB time/batch: 53.6765\n",
      "batch: 646/1000 \t    computation time/batch: 53.6803sec\t    number of points: 13\n",
      "\t    median distance2db: 0.001565098762512207\n",
      "computation DB time/batch: 53.7655\n",
      "batch: 647/1000 \t    computation time/batch: 53.7688sec\t    number of points: 14\n",
      "\t    median distance2db: 0.0010704994201660156\n",
      "computation DB time/batch: 53.7680\n",
      "batch: 648/1000 \t    computation time/batch: 53.7712sec\t    number of points: 14\n",
      "\t    median distance2db: 0.0005620718002319336\n",
      "computation DB time/batch: 53.8464\n",
      "batch: 649/1000 \t    computation time/batch: 53.8494sec\t    number of points: 9\n",
      "\t    median distance2db: 0.0024548768997192383\n",
      "computation DB time/batch: 53.9185\n",
      "batch: 650/1000 \t    computation time/batch: 53.9216sec\t    number of points: 13\n",
      "\t    median distance2db: 0.0008734464645385742\n",
      "computation DB time/batch: 53.7436\n",
      "batch: 651/1000 \t    computation time/batch: 53.7468sec\t    number of points: 15\n",
      "\t    median distance2db: 0.003897547721862793\n",
      "computation DB time/batch: 53.7485\n",
      "batch: 652/1000 \t    computation time/batch: 53.7524sec\t    number of points: 11\n",
      "\t    median distance2db: 0.00395655632019043\n",
      "computation DB time/batch: 54.0572\n",
      "batch: 653/1000 \t    computation time/batch: 54.0603sec\t    number of points: 13\n",
      "\t    median distance2db: 0.001242518424987793\n",
      "computation DB time/batch: 53.8576\n",
      "batch: 654/1000 \t    computation time/batch: 53.8606sec\t    number of points: 18\n",
      "\t    median distance2db: 0.0025507211685180664\n",
      "computation DB time/batch: 53.8819\n",
      "batch: 655/1000 \t    computation time/batch: 53.8852sec\t    number of points: 13\n",
      "\t    median distance2db: 0.0012693405151367188\n",
      "computation DB time/batch: 54.0311\n",
      "batch: 656/1000 \t    computation time/batch: 54.0342sec\t    number of points: 15\n",
      "\t    median distance2db: 0.003274083137512207\n",
      "computation DB time/batch: 54.0059\n",
      "batch: 657/1000 \t    computation time/batch: 54.0095sec\t    number of points: 12\n",
      "\t    median distance2db: 0.0015690326690673828\n",
      "computation DB time/batch: 53.9216\n",
      "batch: 658/1000 \t    computation time/batch: 53.9248sec\t    number of points: 16\n",
      "\t    median distance2db: 0.003308534622192383\n",
      "computation DB time/batch: 53.9529\n",
      "batch: 659/1000 \t    computation time/batch: 53.9563sec\t    number of points: 11\n",
      "\t    median distance2db: 0.0016107559204101562\n",
      "computation DB time/batch: 53.9340\n",
      "batch: 660/1000 \t    computation time/batch: 53.9382sec\t    number of points: 7\n",
      "\t    median distance2db: 0.0013021230697631836\n",
      "computation DB time/batch: 54.0011\n",
      "batch: 661/1000 \t    computation time/batch: 54.0046sec\t    number of points: 11\n",
      "\t    median distance2db: 0.0005512237548828125\n",
      "computation DB time/batch: 54.0075\n",
      "batch: 662/1000 \t    computation time/batch: 54.0105sec\t    number of points: 15\n",
      "\t    median distance2db: 0.0037060976028442383\n",
      "computation DB time/batch: 54.0265\n",
      "batch: 663/1000 \t    computation time/batch: 54.0294sec\t    number of points: 4\n",
      "\t    median distance2db: 0.00027167797088623047\n"
     ]
    },
    {
     "name": "stdout",
     "output_type": "stream",
     "text": [
      "computation DB time/batch: 53.9685\n",
      "batch: 664/1000 \t    computation time/batch: 53.9717sec\t    number of points: 16\n",
      "\t    median distance2db: 0.0012756586074829102\n",
      "computation DB time/batch: 53.9523\n",
      "batch: 665/1000 \t    computation time/batch: 53.9553sec\t    number of points: 19\n",
      "\t    median distance2db: 0.0038770437240600586\n",
      "computation DB time/batch: 53.9801\n",
      "batch: 666/1000 \t    computation time/batch: 53.9836sec\t    number of points: 14\n",
      "\t    median distance2db: 0.0038001537322998047\n",
      "computation DB time/batch: 54.0244\n",
      "batch: 667/1000 \t    computation time/batch: 54.0275sec\t    number of points: 9\n",
      "\t    median distance2db: 0.0008622407913208008\n",
      "computation DB time/batch: 54.0028\n",
      "batch: 668/1000 \t    computation time/batch: 54.0058sec\t    number of points: 14\n",
      "\t    median distance2db: 0.0008553266525268555\n",
      "computation DB time/batch: 54.0345\n",
      "batch: 669/1000 \t    computation time/batch: 54.0378sec\t    number of points: 12\n",
      "\t    median distance2db: 0.0006380081176757812\n",
      "computation DB time/batch: 54.0208\n",
      "batch: 670/1000 \t    computation time/batch: 54.0239sec\t    number of points: 16\n",
      "\t    median distance2db: 0.0013734102249145508\n",
      "computation DB time/batch: 54.0227\n",
      "batch: 671/1000 \t    computation time/batch: 54.0258sec\t    number of points: 14\n",
      "\t    median distance2db: 0.0036890506744384766\n",
      "computation DB time/batch: 53.9930\n",
      "batch: 672/1000 \t    computation time/batch: 53.9962sec\t    number of points: 13\n",
      "\t    median distance2db: 0.003876924514770508\n",
      "computation DB time/batch: 54.0042\n",
      "batch: 673/1000 \t    computation time/batch: 54.0073sec\t    number of points: 13\n",
      "\t    median distance2db: 0.0015093088150024414\n",
      "computation DB time/batch: 53.9824\n",
      "batch: 674/1000 \t    computation time/batch: 53.9853sec\t    number of points: 10\n",
      "\t    median distance2db: 0.0016295909881591797\n",
      "computation DB time/batch: 53.9935\n",
      "batch: 675/1000 \t    computation time/batch: 53.9974sec\t    number of points: 17\n",
      "\t    median distance2db: 0.001798391342163086\n",
      "computation DB time/batch: 53.9982\n",
      "batch: 676/1000 \t    computation time/batch: 54.0016sec\t    number of points: 12\n",
      "\t    median distance2db: 0.0012460947036743164\n",
      "computation DB time/batch: 53.9686\n",
      "batch: 677/1000 \t    computation time/batch: 53.9718sec\t    number of points: 9\n",
      "\t    median distance2db: 0.0008072853088378906\n",
      "computation DB time/batch: 53.9639\n",
      "batch: 678/1000 \t    computation time/batch: 53.9669sec\t    number of points: 10\n",
      "\t    median distance2db: 0.00011539459228515625\n",
      "computation DB time/batch: 53.9695\n",
      "batch: 679/1000 \t    computation time/batch: 53.9727sec\t    number of points: 9\n",
      "\t    median distance2db: 0.0040132999420166016\n",
      "computation DB time/batch: 53.9645\n",
      "batch: 680/1000 \t    computation time/batch: 53.9675sec\t    number of points: 13\n",
      "\t    median distance2db: 0.0032470226287841797\n",
      "computation DB time/batch: 53.9735\n",
      "batch: 681/1000 \t    computation time/batch: 53.9769sec\t    number of points: 13\n",
      "\t    median distance2db: 0.0012958049774169922\n",
      "computation DB time/batch: 53.9962\n",
      "batch: 682/1000 \t    computation time/batch: 53.9992sec\t    number of points: 8\n",
      "\t    median distance2db: 0.0012733936309814453\n",
      "computation DB time/batch: 53.9963\n",
      "batch: 683/1000 \t    computation time/batch: 53.9993sec\t    number of points: 17\n",
      "\t    median distance2db: 0.0029001235961914062\n",
      "computation DB time/batch: 53.9909\n",
      "batch: 684/1000 \t    computation time/batch: 53.9960sec\t    number of points: 22\n",
      "\t    median distance2db: 0.002576470375061035\n",
      "computation DB time/batch: 53.9973\n",
      "batch: 685/1000 \t    computation time/batch: 54.0003sec\t    number of points: 21\n",
      "\t    median distance2db: 0.003622770309448242\n",
      "computation DB time/batch: 53.9999\n",
      "batch: 686/1000 \t    computation time/batch: 54.0030sec\t    number of points: 16\n",
      "\t    median distance2db: 0.002177715301513672\n",
      "computation DB time/batch: 54.0111\n",
      "batch: 687/1000 \t    computation time/batch: 54.0149sec\t    number of points: 11\n",
      "\t    median distance2db: 0.0014635324478149414\n",
      "computation DB time/batch: 53.9919\n",
      "batch: 688/1000 \t    computation time/batch: 53.9954sec\t    number of points: 11\n",
      "\t    median distance2db: 0.0017848014831542969\n",
      "computation DB time/batch: 54.0028\n",
      "batch: 689/1000 \t    computation time/batch: 54.0059sec\t    number of points: 16\n",
      "\t    median distance2db: 0.0020753145217895508\n",
      "computation DB time/batch: 53.9995\n",
      "batch: 690/1000 \t    computation time/batch: 54.0029sec\t    number of points: 14\n",
      "\t    median distance2db: 0.0013337135314941406\n",
      "computation DB time/batch: 53.9990\n",
      "batch: 691/1000 \t    computation time/batch: 54.0022sec\t    number of points: 15\n",
      "\t    median distance2db: 0.002644658088684082\n",
      "computation DB time/batch: 54.0217\n",
      "batch: 692/1000 \t    computation time/batch: 54.0247sec\t    number of points: 14\n",
      "\t    median distance2db: 0.0023207664489746094\n",
      "computation DB time/batch: 54.0026\n",
      "batch: 693/1000 \t    computation time/batch: 54.0055sec\t    number of points: 14\n",
      "\t    median distance2db: 0.0006961822509765625\n",
      "computation DB time/batch: 54.0045\n",
      "batch: 694/1000 \t    computation time/batch: 54.0073sec\t    number of points: 13\n",
      "\t    median distance2db: 0.0035184621810913086\n",
      "computation DB time/batch: 53.9957\n",
      "batch: 695/1000 \t    computation time/batch: 53.9997sec\t    number of points: 10\n",
      "\t    median distance2db: 0.0025206804275512695\n",
      "computation DB time/batch: 53.9997\n",
      "batch: 696/1000 \t    computation time/batch: 54.0029sec\t    number of points: 16\n",
      "\t    median distance2db: 0.002011418342590332\n",
      "computation DB time/batch: 53.9739\n",
      "batch: 697/1000 \t    computation time/batch: 53.9771sec\t    number of points: 13\n",
      "\t    median distance2db: 0.0049457550048828125\n",
      "computation DB time/batch: 53.9709\n",
      "batch: 698/1000 \t    computation time/batch: 53.9739sec\t    number of points: 10\n",
      "\t    median distance2db: 0.0019837617874145508\n",
      "computation DB time/batch: 53.9549\n",
      "batch: 699/1000 \t    computation time/batch: 53.9586sec\t    number of points: 11\n",
      "\t    median distance2db: 0.000996708869934082\n",
      "computation DB time/batch: 53.9595\n",
      "batch: 700/1000 \t    computation time/batch: 53.9633sec\t    number of points: 12\n",
      "\t    median distance2db: 0.0030510425567626953\n",
      "computation DB time/batch: 53.9560\n",
      "batch: 701/1000 \t    computation time/batch: 53.9592sec\t    number of points: 18\n",
      "\t    median distance2db: 0.00272524356842041\n",
      "computation DB time/batch: 53.9632\n",
      "batch: 702/1000 \t    computation time/batch: 53.9663sec\t    number of points: 14\n",
      "\t    median distance2db: 0.0021451711654663086\n",
      "computation DB time/batch: 53.9891\n",
      "batch: 703/1000 \t    computation time/batch: 53.9924sec\t    number of points: 11\n",
      "\t    median distance2db: 0.0020668506622314453\n",
      "computation DB time/batch: 53.9764\n",
      "batch: 704/1000 \t    computation time/batch: 53.9796sec\t    number of points: 14\n",
      "\t    median distance2db: 0.0033457279205322266\n",
      "computation DB time/batch: 53.9930\n",
      "batch: 705/1000 \t    computation time/batch: 53.9964sec\t    number of points: 18\n",
      "\t    median distance2db: 0.0010707378387451172\n",
      "computation DB time/batch: 53.9787\n",
      "batch: 706/1000 \t    computation time/batch: 53.9824sec\t    number of points: 25\n",
      "\t    median distance2db: 0.0010836124420166016\n",
      "computation DB time/batch: 54.0047\n",
      "batch: 707/1000 \t    computation time/batch: 54.0077sec\t    number of points: 18\n",
      "\t    median distance2db: 0.003838181495666504\n",
      "computation DB time/batch: 53.9959\n",
      "batch: 708/1000 \t    computation time/batch: 53.9988sec\t    number of points: 13\n",
      "\t    median distance2db: 0.0005093812942504883\n",
      "computation DB time/batch: 54.0063\n",
      "batch: 709/1000 \t    computation time/batch: 54.0098sec\t    number of points: 11\n",
      "\t    median distance2db: 0.0030922889709472656\n",
      "computation DB time/batch: 53.9709\n",
      "batch: 710/1000 \t    computation time/batch: 53.9740sec\t    number of points: 19\n",
      "\t    median distance2db: 0.004035830497741699\n",
      "computation DB time/batch: 53.9990\n",
      "batch: 711/1000 \t    computation time/batch: 54.0024sec\t    number of points: 10\n",
      "\t    median distance2db: 0.0037279129028320312\n",
      "computation DB time/batch: 53.9854\n",
      "batch: 712/1000 \t    computation time/batch: 53.9893sec\t    number of points: 11\n",
      "\t    median distance2db: 0.0005921125411987305\n",
      "computation DB time/batch: 53.9640\n",
      "batch: 713/1000 \t    computation time/batch: 53.9669sec\t    number of points: 17\n",
      "\t    median distance2db: 0.000855565071105957\n",
      "computation DB time/batch: 53.9771\n",
      "batch: 714/1000 \t    computation time/batch: 53.9800sec\t    number of points: 13\n",
      "\t    median distance2db: 0.001408696174621582\n"
     ]
    },
    {
     "name": "stdout",
     "output_type": "stream",
     "text": [
      "computation DB time/batch: 53.9768\n",
      "batch: 715/1000 \t    computation time/batch: 53.9804sec\t    number of points: 7\n",
      "\t    median distance2db: 0.002598285675048828\n",
      "computation DB time/batch: 53.9616\n",
      "batch: 716/1000 \t    computation time/batch: 53.9647sec\t    number of points: 14\n",
      "\t    median distance2db: 0.002942800521850586\n",
      "computation DB time/batch: 53.9670\n",
      "batch: 717/1000 \t    computation time/batch: 53.9711sec\t    number of points: 7\n",
      "\t    median distance2db: 0.002062082290649414\n",
      "computation DB time/batch: 53.9680\n",
      "batch: 718/1000 \t    computation time/batch: 53.9709sec\t    number of points: 18\n",
      "\t    median distance2db: 0.0009320974349975586\n",
      "computation DB time/batch: 53.9791\n",
      "batch: 719/1000 \t    computation time/batch: 53.9823sec\t    number of points: 14\n",
      "\t    median distance2db: 0.0022431612014770508\n",
      "computation DB time/batch: 53.9592\n",
      "batch: 720/1000 \t    computation time/batch: 53.9626sec\t    number of points: 14\n",
      "\t    median distance2db: 0.0031867027282714844\n",
      "computation DB time/batch: 53.9728\n",
      "batch: 721/1000 \t    computation time/batch: 53.9764sec\t    number of points: 12\n",
      "\t    median distance2db: 0.0015088319778442383\n",
      "computation DB time/batch: 53.9559\n",
      "batch: 722/1000 \t    computation time/batch: 53.9592sec\t    number of points: 11\n",
      "\t    median distance2db: 0.005360722541809082\n",
      "computation DB time/batch: 53.9617\n",
      "batch: 723/1000 \t    computation time/batch: 53.9653sec\t    number of points: 11\n",
      "\t    median distance2db: 0.0007845163345336914\n",
      "computation DB time/batch: 53.9519\n",
      "batch: 724/1000 \t    computation time/batch: 53.9550sec\t    number of points: 13\n",
      "\t    median distance2db: 0.0011647939682006836\n",
      "computation DB time/batch: 53.9572\n",
      "batch: 725/1000 \t    computation time/batch: 53.9604sec\t    number of points: 14\n",
      "\t    median distance2db: 0.0030596256256103516\n",
      "computation DB time/batch: 53.9640\n",
      "batch: 726/1000 \t    computation time/batch: 53.9676sec\t    number of points: 12\n",
      "\t    median distance2db: 0.002202630043029785\n",
      "computation DB time/batch: 53.9595\n",
      "batch: 727/1000 \t    computation time/batch: 53.9624sec\t    number of points: 20\n",
      "\t    median distance2db: 0.001399993896484375\n",
      "computation DB time/batch: 53.9717\n",
      "batch: 728/1000 \t    computation time/batch: 53.9748sec\t    number of points: 17\n",
      "\t    median distance2db: 0.002100825309753418\n",
      "computation DB time/batch: 53.9556\n",
      "batch: 729/1000 \t    computation time/batch: 53.9586sec\t    number of points: 9\n",
      "\t    median distance2db: 0.0026102066040039062\n",
      "computation DB time/batch: 53.9425\n",
      "batch: 730/1000 \t    computation time/batch: 53.9458sec\t    number of points: 13\n",
      "\t    median distance2db: 0.003059864044189453\n",
      "computation DB time/batch: 53.9524\n",
      "batch: 731/1000 \t    computation time/batch: 53.9556sec\t    number of points: 15\n",
      "\t    median distance2db: 0.0027903318405151367\n",
      "computation DB time/batch: 53.9779\n",
      "batch: 732/1000 \t    computation time/batch: 53.9810sec\t    number of points: 13\n",
      "\t    median distance2db: 0.0005468130111694336\n",
      "computation DB time/batch: 53.9801\n",
      "batch: 733/1000 \t    computation time/batch: 53.9836sec\t    number of points: 12\n",
      "\t    median distance2db: 0.0006879568099975586\n",
      "computation DB time/batch: 53.9826\n",
      "batch: 734/1000 \t    computation time/batch: 53.9860sec\t    number of points: 19\n",
      "\t    median distance2db: 0.0008471012115478516\n",
      "computation DB time/batch: 53.9735\n",
      "batch: 735/1000 \t    computation time/batch: 53.9768sec\t    number of points: 18\n",
      "\t    median distance2db: 0.0007333755493164062\n",
      "computation DB time/batch: 53.9924\n",
      "batch: 736/1000 \t    computation time/batch: 53.9954sec\t    number of points: 14\n",
      "\t    median distance2db: 0.0015535354614257812\n",
      "computation DB time/batch: 53.9922\n",
      "batch: 737/1000 \t    computation time/batch: 53.9953sec\t    number of points: 15\n",
      "\t    median distance2db: 0.0012629032135009766\n",
      "computation DB time/batch: 53.9832\n",
      "batch: 738/1000 \t    computation time/batch: 53.9865sec\t    number of points: 11\n",
      "\t    median distance2db: 0.001096963882446289\n",
      "computation DB time/batch: 53.9773\n",
      "batch: 739/1000 \t    computation time/batch: 53.9811sec\t    number of points: 12\n",
      "\t    median distance2db: 0.003222346305847168\n",
      "computation DB time/batch: 53.9749\n",
      "batch: 740/1000 \t    computation time/batch: 53.9785sec\t    number of points: 12\n",
      "\t    median distance2db: 0.0006198883056640625\n",
      "computation DB time/batch: 53.9729\n",
      "batch: 741/1000 \t    computation time/batch: 53.9762sec\t    number of points: 9\n",
      "\t    median distance2db: 0.0029143095016479492\n",
      "computation DB time/batch: 53.9721\n",
      "batch: 742/1000 \t    computation time/batch: 53.9752sec\t    number of points: 17\n",
      "\t    median distance2db: 0.0023086071014404297\n",
      "computation DB time/batch: 53.9861\n",
      "batch: 743/1000 \t    computation time/batch: 53.9891sec\t    number of points: 13\n",
      "\t    median distance2db: 0.0008913278579711914\n",
      "computation DB time/batch: 53.9747\n",
      "batch: 744/1000 \t    computation time/batch: 53.9778sec\t    number of points: 9\n",
      "\t    median distance2db: 0.0024607181549072266\n",
      "computation DB time/batch: 53.9781\n",
      "batch: 745/1000 \t    computation time/batch: 53.9809sec\t    number of points: 17\n",
      "\t    median distance2db: 0.005024313926696777\n",
      "computation DB time/batch: 53.9690\n",
      "batch: 746/1000 \t    computation time/batch: 53.9730sec\t    number of points: 12\n",
      "\t    median distance2db: 0.0020972490310668945\n",
      "computation DB time/batch: 53.9802\n",
      "batch: 747/1000 \t    computation time/batch: 53.9835sec\t    number of points: 11\n",
      "\t    median distance2db: 0.003966569900512695\n",
      "computation DB time/batch: 53.9746\n",
      "batch: 748/1000 \t    computation time/batch: 53.9779sec\t    number of points: 13\n",
      "\t    median distance2db: 0.0030759572982788086\n",
      "computation DB time/batch: 53.9638\n",
      "batch: 749/1000 \t    computation time/batch: 53.9668sec\t    number of points: 10\n",
      "\t    median distance2db: 0.0005643367767333984\n",
      "computation DB time/batch: 53.9701\n",
      "batch: 750/1000 \t    computation time/batch: 53.9733sec\t    number of points: 8\n",
      "\t    median distance2db: 0.00010585784912109375\n",
      "computation DB time/batch: 53.9645\n",
      "batch: 751/1000 \t    computation time/batch: 53.9674sec\t    number of points: 9\n",
      "\t    median distance2db: 0.0015588998794555664\n",
      "computation DB time/batch: 53.9774\n",
      "batch: 752/1000 \t    computation time/batch: 53.9802sec\t    number of points: 8\n",
      "\t    median distance2db: 0.0036112070083618164\n",
      "computation DB time/batch: 54.0002\n",
      "batch: 753/1000 \t    computation time/batch: 54.0030sec\t    number of points: 13\n",
      "\t    median distance2db: 0.004000186920166016\n",
      "computation DB time/batch: 53.9901\n",
      "batch: 754/1000 \t    computation time/batch: 53.9931sec\t    number of points: 9\n",
      "\t    median distance2db: 0.00244903564453125\n",
      "computation DB time/batch: 54.0129\n",
      "batch: 755/1000 \t    computation time/batch: 54.0162sec\t    number of points: 17\n",
      "\t    median distance2db: 0.002960681915283203\n",
      "computation DB time/batch: 54.0049\n",
      "batch: 756/1000 \t    computation time/batch: 54.0078sec\t    number of points: 22\n",
      "\t    median distance2db: 0.000655055046081543\n",
      "computation DB time/batch: 54.0081\n",
      "batch: 757/1000 \t    computation time/batch: 54.0111sec\t    number of points: 20\n",
      "\t    median distance2db: 0.0025671720504760742\n",
      "computation DB time/batch: 53.9829\n",
      "batch: 758/1000 \t    computation time/batch: 53.9862sec\t    number of points: 11\n",
      "\t    median distance2db: 0.0021702051162719727\n",
      "computation DB time/batch: 53.9673\n",
      "batch: 759/1000 \t    computation time/batch: 53.9702sec\t    number of points: 15\n",
      "\t    median distance2db: 0.0010592937469482422\n",
      "computation DB time/batch: 53.9675\n",
      "batch: 760/1000 \t    computation time/batch: 53.9705sec\t    number of points: 13\n",
      "\t    median distance2db: 0.002969503402709961\n",
      "computation DB time/batch: 53.9673\n",
      "batch: 761/1000 \t    computation time/batch: 53.9702sec\t    number of points: 13\n",
      "\t    median distance2db: 0.0009834766387939453\n",
      "computation DB time/batch: 53.9447\n",
      "batch: 762/1000 \t    computation time/batch: 53.9475sec\t    number of points: 14\n",
      "\t    median distance2db: 0.003956317901611328\n",
      "computation DB time/batch: 53.9332\n",
      "batch: 763/1000 \t    computation time/batch: 53.9362sec\t    number of points: 13\n",
      "\t    median distance2db: 0.0009714365005493164\n",
      "computation DB time/batch: 53.9422\n",
      "batch: 764/1000 \t    computation time/batch: 53.9454sec\t    number of points: 15\n",
      "\t    median distance2db: 0.001544952392578125\n",
      "computation DB time/batch: 53.9372\n",
      "batch: 765/1000 \t    computation time/batch: 53.9406sec\t    number of points: 12\n",
      "\t    median distance2db: 0.0006337165832519531\n"
     ]
    },
    {
     "name": "stdout",
     "output_type": "stream",
     "text": [
      "computation DB time/batch: 53.9359\n",
      "batch: 766/1000 \t    computation time/batch: 53.9389sec\t    number of points: 13\n",
      "\t    median distance2db: 0.0006694793701171875\n",
      "computation DB time/batch: 53.9259\n",
      "batch: 767/1000 \t    computation time/batch: 53.9286sec\t    number of points: 10\n",
      "\t    median distance2db: 0.00043702125549316406\n",
      "computation DB time/batch: 53.9533\n",
      "batch: 768/1000 \t    computation time/batch: 53.9564sec\t    number of points: 13\n",
      "\t    median distance2db: 0.0028668642044067383\n",
      "computation DB time/batch: 53.9853\n",
      "batch: 769/1000 \t    computation time/batch: 53.9880sec\t    number of points: 15\n",
      "\t    median distance2db: 0.004914641380310059\n",
      "computation DB time/batch: 54.0073\n",
      "batch: 770/1000 \t    computation time/batch: 54.0110sec\t    number of points: 6\n",
      "\t    median distance2db: 0.001940608024597168\n",
      "computation DB time/batch: 53.9640\n",
      "batch: 771/1000 \t    computation time/batch: 53.9670sec\t    number of points: 10\n",
      "\t    median distance2db: 0.003809809684753418\n",
      "computation DB time/batch: 53.9565\n",
      "batch: 772/1000 \t    computation time/batch: 53.9594sec\t    number of points: 9\n",
      "\t    median distance2db: 0.001499176025390625\n",
      "computation DB time/batch: 53.9589\n",
      "batch: 773/1000 \t    computation time/batch: 53.9618sec\t    number of points: 15\n",
      "\t    median distance2db: 0.002627849578857422\n",
      "computation DB time/batch: 53.9983\n",
      "batch: 774/1000 \t    computation time/batch: 54.0011sec\t    number of points: 19\n",
      "\t    median distance2db: 0.0030107498168945312\n",
      "computation DB time/batch: 53.9760\n",
      "batch: 775/1000 \t    computation time/batch: 53.9794sec\t    number of points: 12\n",
      "\t    median distance2db: 0.0024057626724243164\n",
      "computation DB time/batch: 53.9547\n",
      "batch: 776/1000 \t    computation time/batch: 53.9579sec\t    number of points: 9\n",
      "\t    median distance2db: 0.005771279335021973\n",
      "computation DB time/batch: 53.9459\n",
      "batch: 777/1000 \t    computation time/batch: 53.9488sec\t    number of points: 10\n",
      "\t    median distance2db: 0.003033161163330078\n",
      "computation DB time/batch: 53.9416\n",
      "batch: 778/1000 \t    computation time/batch: 53.9446sec\t    number of points: 17\n",
      "\t    median distance2db: 0.002167344093322754\n",
      "computation DB time/batch: 53.9419\n",
      "batch: 779/1000 \t    computation time/batch: 53.9450sec\t    number of points: 15\n",
      "\t    median distance2db: 0.0029413700103759766\n",
      "computation DB time/batch: 53.9198\n",
      "batch: 780/1000 \t    computation time/batch: 53.9232sec\t    number of points: 7\n",
      "\t    median distance2db: 0.0004686117172241211\n",
      "computation DB time/batch: 53.9243\n",
      "batch: 781/1000 \t    computation time/batch: 53.9272sec\t    number of points: 16\n",
      "\t    median distance2db: 0.001016855239868164\n",
      "computation DB time/batch: 53.9275\n",
      "batch: 782/1000 \t    computation time/batch: 53.9302sec\t    number of points: 18\n",
      "\t    median distance2db: 0.0022028684616088867\n",
      "computation DB time/batch: 53.9196\n",
      "batch: 783/1000 \t    computation time/batch: 53.9228sec\t    number of points: 11\n",
      "\t    median distance2db: 0.0015584230422973633\n",
      "computation DB time/batch: 53.9166\n",
      "batch: 784/1000 \t    computation time/batch: 53.9197sec\t    number of points: 10\n",
      "\t    median distance2db: 0.0001246929168701172\n",
      "computation DB time/batch: 53.9275\n",
      "batch: 785/1000 \t    computation time/batch: 53.9310sec\t    number of points: 16\n",
      "\t    median distance2db: 0.0008817911148071289\n",
      "computation DB time/batch: 53.9189\n",
      "batch: 786/1000 \t    computation time/batch: 53.9219sec\t    number of points: 14\n",
      "\t    median distance2db: 0.0037709474563598633\n",
      "computation DB time/batch: 53.9357\n",
      "batch: 787/1000 \t    computation time/batch: 53.9390sec\t    number of points: 12\n",
      "\t    median distance2db: 0.0005034208297729492\n",
      "computation DB time/batch: 53.9439\n",
      "batch: 788/1000 \t    computation time/batch: 53.9469sec\t    number of points: 14\n",
      "\t    median distance2db: 0.001794576644897461\n",
      "computation DB time/batch: 53.9884\n",
      "batch: 789/1000 \t    computation time/batch: 53.9912sec\t    number of points: 13\n",
      "\t    median distance2db: 0.0028940439224243164\n",
      "computation DB time/batch: 54.0174\n",
      "batch: 790/1000 \t    computation time/batch: 54.0209sec\t    number of points: 12\n",
      "\t    median distance2db: 0.0024099349975585938\n",
      "computation DB time/batch: 54.0017\n",
      "batch: 791/1000 \t    computation time/batch: 54.0047sec\t    number of points: 9\n",
      "\t    median distance2db: 0.004909038543701172\n",
      "computation DB time/batch: 53.9772\n",
      "batch: 792/1000 \t    computation time/batch: 53.9801sec\t    number of points: 13\n",
      "\t    median distance2db: 0.0011469125747680664\n",
      "computation DB time/batch: 53.9621\n",
      "batch: 793/1000 \t    computation time/batch: 53.9651sec\t    number of points: 8\n",
      "\t    median distance2db: 0.00019049644470214844\n",
      "computation DB time/batch: 53.9454\n",
      "batch: 794/1000 \t    computation time/batch: 53.9484sec\t    number of points: 5\n",
      "\t    median distance2db: 0.0020085573196411133\n",
      "computation DB time/batch: 53.9432\n",
      "batch: 795/1000 \t    computation time/batch: 53.9462sec\t    number of points: 14\n",
      "\t    median distance2db: 0.0016127824783325195\n",
      "computation DB time/batch: 53.9135\n",
      "batch: 796/1000 \t    computation time/batch: 53.9163sec\t    number of points: 19\n",
      "\t    median distance2db: 0.0039092302322387695\n",
      "computation DB time/batch: 53.9247\n",
      "batch: 797/1000 \t    computation time/batch: 53.9278sec\t    number of points: 20\n",
      "\t    median distance2db: 0.0012732744216918945\n",
      "computation DB time/batch: 53.9245\n",
      "batch: 798/1000 \t    computation time/batch: 53.9274sec\t    number of points: 5\n",
      "\t    median distance2db: 0.0024881362915039062\n",
      "computation DB time/batch: 53.9525\n",
      "batch: 799/1000 \t    computation time/batch: 53.9558sec\t    number of points: 10\n",
      "\t    median distance2db: 0.0030704736709594727\n",
      "computation DB time/batch: 53.9466\n",
      "batch: 800/1000 \t    computation time/batch: 53.9496sec\t    number of points: 16\n",
      "\t    median distance2db: 0.0028499364852905273\n",
      "computation DB time/batch: 53.9459\n",
      "batch: 801/1000 \t    computation time/batch: 53.9488sec\t    number of points: 14\n",
      "\t    median distance2db: 0.0015391111373901367\n",
      "computation DB time/batch: 53.9239\n",
      "batch: 802/1000 \t    computation time/batch: 53.9269sec\t    number of points: 13\n",
      "\t    median distance2db: 0.0026105642318725586\n",
      "computation DB time/batch: 53.9693\n",
      "batch: 803/1000 \t    computation time/batch: 53.9721sec\t    number of points: 10\n",
      "\t    median distance2db: 0.0019174814224243164\n",
      "computation DB time/batch: 53.9527\n",
      "batch: 804/1000 \t    computation time/batch: 53.9557sec\t    number of points: 21\n",
      "\t    median distance2db: 0.0006344318389892578\n",
      "computation DB time/batch: 53.9575\n",
      "batch: 805/1000 \t    computation time/batch: 53.9609sec\t    number of points: 7\n",
      "\t    median distance2db: 0.0027065277099609375\n",
      "computation DB time/batch: 53.9409\n",
      "batch: 806/1000 \t    computation time/batch: 53.9443sec\t    number of points: 16\n",
      "\t    median distance2db: 0.0029805898666381836\n",
      "computation DB time/batch: 53.9547\n",
      "batch: 807/1000 \t    computation time/batch: 53.9580sec\t    number of points: 13\n",
      "\t    median distance2db: 0.004644632339477539\n",
      "computation DB time/batch: 53.9400\n",
      "batch: 808/1000 \t    computation time/batch: 53.9430sec\t    number of points: 18\n",
      "\t    median distance2db: 0.0022923946380615234\n",
      "computation DB time/batch: 53.9577\n",
      "batch: 809/1000 \t    computation time/batch: 53.9613sec\t    number of points: 12\n",
      "\t    median distance2db: 0.003276228904724121\n",
      "computation DB time/batch: 53.9256\n",
      "batch: 810/1000 \t    computation time/batch: 53.9287sec\t    number of points: 9\n",
      "\t    median distance2db: 0.0012657642364501953\n",
      "computation DB time/batch: 53.9501\n",
      "batch: 811/1000 \t    computation time/batch: 53.9529sec\t    number of points: 20\n",
      "\t    median distance2db: 0.0010176897048950195\n",
      "computation DB time/batch: 53.9296\n",
      "batch: 812/1000 \t    computation time/batch: 53.9329sec\t    number of points: 12\n",
      "\t    median distance2db: 0.0021196603775024414\n",
      "computation DB time/batch: 53.9366\n",
      "batch: 813/1000 \t    computation time/batch: 53.9396sec\t    number of points: 15\n",
      "\t    median distance2db: 0.002454400062561035\n",
      "computation DB time/batch: 53.9742\n",
      "batch: 814/1000 \t    computation time/batch: 53.9780sec\t    number of points: 11\n",
      "\t    median distance2db: 0.0006073713302612305\n",
      "computation DB time/batch: 53.9923\n",
      "batch: 815/1000 \t    computation time/batch: 53.9954sec\t    number of points: 17\n",
      "\t    median distance2db: 0.0011006593704223633\n",
      "computation DB time/batch: 53.9718\n",
      "batch: 816/1000 \t    computation time/batch: 53.9746sec\t    number of points: 22\n",
      "\t    median distance2db: 0.004416823387145996\n"
     ]
    },
    {
     "name": "stdout",
     "output_type": "stream",
     "text": [
      "computation DB time/batch: 53.9391\n",
      "batch: 817/1000 \t    computation time/batch: 53.9422sec\t    number of points: 15\n",
      "\t    median distance2db: 0.0028723478317260742\n",
      "computation DB time/batch: 53.9158\n",
      "batch: 818/1000 \t    computation time/batch: 53.9185sec\t    number of points: 13\n",
      "\t    median distance2db: 0.0016623735427856445\n",
      "computation DB time/batch: 53.9028\n",
      "batch: 819/1000 \t    computation time/batch: 53.9061sec\t    number of points: 17\n",
      "\t    median distance2db: 0.0010516643524169922\n",
      "computation DB time/batch: 53.9000\n",
      "batch: 820/1000 \t    computation time/batch: 53.9027sec\t    number of points: 14\n",
      "\t    median distance2db: 0.00352632999420166\n",
      "computation DB time/batch: 53.9190\n",
      "batch: 821/1000 \t    computation time/batch: 53.9221sec\t    number of points: 14\n",
      "\t    median distance2db: 0.006494641304016113\n",
      "computation DB time/batch: 53.9647\n",
      "batch: 822/1000 \t    computation time/batch: 53.9676sec\t    number of points: 9\n",
      "\t    median distance2db: 9.691715240478516e-05\n",
      "computation DB time/batch: 53.9857\n",
      "batch: 823/1000 \t    computation time/batch: 53.9885sec\t    number of points: 14\n",
      "\t    median distance2db: 0.0017441511154174805\n",
      "computation DB time/batch: 53.9798\n",
      "batch: 824/1000 \t    computation time/batch: 53.9830sec\t    number of points: 9\n",
      "\t    median distance2db: 0.004435896873474121\n",
      "computation DB time/batch: 53.9457\n",
      "batch: 825/1000 \t    computation time/batch: 53.9492sec\t    number of points: 11\n",
      "\t    median distance2db: 0.0033979415893554688\n",
      "computation DB time/batch: 53.9273\n",
      "batch: 826/1000 \t    computation time/batch: 53.9305sec\t    number of points: 19\n",
      "\t    median distance2db: 0.0009975433349609375\n",
      "computation DB time/batch: 53.9104\n",
      "batch: 827/1000 \t    computation time/batch: 53.9134sec\t    number of points: 10\n",
      "\t    median distance2db: 0.0032824277877807617\n",
      "computation DB time/batch: 53.9042\n",
      "batch: 828/1000 \t    computation time/batch: 53.9073sec\t    number of points: 16\n",
      "\t    median distance2db: 0.003258228302001953\n",
      "computation DB time/batch: 53.9099\n",
      "batch: 829/1000 \t    computation time/batch: 53.9134sec\t    number of points: 11\n",
      "\t    median distance2db: 0.0013191699981689453\n",
      "computation DB time/batch: 53.9149\n",
      "batch: 830/1000 \t    computation time/batch: 53.9183sec\t    number of points: 13\n",
      "\t    median distance2db: 0.0013233423233032227\n",
      "computation DB time/batch: 53.9028\n",
      "batch: 831/1000 \t    computation time/batch: 53.9056sec\t    number of points: 15\n",
      "\t    median distance2db: 0.004215359687805176\n",
      "computation DB time/batch: 53.8886\n",
      "batch: 832/1000 \t    computation time/batch: 53.8915sec\t    number of points: 16\n",
      "\t    median distance2db: 0.0004445314407348633\n",
      "computation DB time/batch: 53.9019\n",
      "batch: 833/1000 \t    computation time/batch: 53.9048sec\t    number of points: 20\n",
      "\t    median distance2db: 0.0010304450988769531\n",
      "computation DB time/batch: 53.8982\n",
      "batch: 834/1000 \t    computation time/batch: 53.9011sec\t    number of points: 15\n",
      "\t    median distance2db: 0.0013425350189208984\n",
      "computation DB time/batch: 53.9648\n",
      "batch: 835/1000 \t    computation time/batch: 53.9676sec\t    number of points: 16\n",
      "\t    median distance2db: 0.0005124807357788086\n",
      "computation DB time/batch: 53.9891\n",
      "batch: 836/1000 \t    computation time/batch: 53.9923sec\t    number of points: 9\n",
      "\t    median distance2db: 0.0027055740356445312\n",
      "computation DB time/batch: 53.9557\n",
      "batch: 837/1000 \t    computation time/batch: 53.9588sec\t    number of points: 18\n",
      "\t    median distance2db: 0.0016968250274658203\n",
      "computation DB time/batch: 53.9518\n",
      "batch: 838/1000 \t    computation time/batch: 53.9545sec\t    number of points: 20\n",
      "\t    median distance2db: 0.0011365413665771484\n",
      "computation DB time/batch: 53.9461\n",
      "batch: 839/1000 \t    computation time/batch: 53.9494sec\t    number of points: 20\n",
      "\t    median distance2db: 0.0010346174240112305\n",
      "computation DB time/batch: 53.9459\n",
      "batch: 840/1000 \t    computation time/batch: 53.9488sec\t    number of points: 20\n",
      "\t    median distance2db: 0.001132965087890625\n",
      "computation DB time/batch: 53.9377\n",
      "batch: 841/1000 \t    computation time/batch: 53.9407sec\t    number of points: 15\n",
      "\t    median distance2db: 0.0015851259231567383\n",
      "computation DB time/batch: 53.9286\n",
      "batch: 842/1000 \t    computation time/batch: 53.9316sec\t    number of points: 22\n",
      "\t    median distance2db: 0.001013040542602539\n",
      "computation DB time/batch: 53.9463\n",
      "batch: 843/1000 \t    computation time/batch: 53.9491sec\t    number of points: 8\n",
      "\t    median distance2db: 0.00040924549102783203\n",
      "computation DB time/batch: 53.9815\n",
      "batch: 844/1000 \t    computation time/batch: 53.9848sec\t    number of points: 17\n",
      "\t    median distance2db: 0.0024504661560058594\n",
      "computation DB time/batch: 53.9773\n",
      "batch: 845/1000 \t    computation time/batch: 53.9803sec\t    number of points: 14\n",
      "\t    median distance2db: 0.0014559030532836914\n",
      "computation DB time/batch: 53.9504\n",
      "batch: 846/1000 \t    computation time/batch: 53.9533sec\t    number of points: 9\n",
      "\t    median distance2db: 0.0026208162307739258\n",
      "computation DB time/batch: 53.9290\n",
      "batch: 847/1000 \t    computation time/batch: 53.9323sec\t    number of points: 12\n",
      "\t    median distance2db: 0.0015473365783691406\n",
      "computation DB time/batch: 53.9028\n",
      "batch: 848/1000 \t    computation time/batch: 53.9060sec\t    number of points: 19\n",
      "\t    median distance2db: 0.0021611452102661133\n",
      "computation DB time/batch: 53.9156\n",
      "batch: 849/1000 \t    computation time/batch: 53.9184sec\t    number of points: 16\n",
      "\t    median distance2db: 0.0002995729446411133\n",
      "computation DB time/batch: 53.9582\n",
      "batch: 850/1000 \t    computation time/batch: 53.9612sec\t    number of points: 15\n",
      "\t    median distance2db: 0.0014613866806030273\n",
      "computation DB time/batch: 53.9695\n",
      "batch: 851/1000 \t    computation time/batch: 53.9724sec\t    number of points: 20\n",
      "\t    median distance2db: 0.0016471147537231445\n",
      "computation DB time/batch: 53.9837\n",
      "batch: 852/1000 \t    computation time/batch: 53.9867sec\t    number of points: 13\n",
      "\t    median distance2db: 0.0025845766067504883\n",
      "computation DB time/batch: 54.0331\n",
      "batch: 853/1000 \t    computation time/batch: 54.0363sec\t    number of points: 8\n",
      "\t    median distance2db: 0.005796909332275391\n",
      "computation DB time/batch: 54.0117\n",
      "batch: 854/1000 \t    computation time/batch: 54.0147sec\t    number of points: 10\n",
      "\t    median distance2db: 0.0034568309783935547\n",
      "computation DB time/batch: 53.9983\n",
      "batch: 855/1000 \t    computation time/batch: 54.0013sec\t    number of points: 16\n",
      "\t    median distance2db: 0.0023796558380126953\n",
      "computation DB time/batch: 53.9809\n",
      "batch: 856/1000 \t    computation time/batch: 53.9838sec\t    number of points: 13\n",
      "\t    median distance2db: 0.0010449886322021484\n",
      "computation DB time/batch: 54.0243\n",
      "batch: 857/1000 \t    computation time/batch: 54.0271sec\t    number of points: 13\n",
      "\t    median distance2db: 0.001310586929321289\n",
      "computation DB time/batch: 54.0317\n",
      "batch: 858/1000 \t    computation time/batch: 54.0355sec\t    number of points: 12\n",
      "\t    median distance2db: 0.0007586479187011719\n",
      "computation DB time/batch: 53.9740\n",
      "batch: 859/1000 \t    computation time/batch: 53.9774sec\t    number of points: 14\n",
      "\t    median distance2db: 0.004816412925720215\n",
      "computation DB time/batch: 53.9442\n",
      "batch: 860/1000 \t    computation time/batch: 53.9473sec\t    number of points: 9\n",
      "\t    median distance2db: 0.0037611722946166992\n",
      "computation DB time/batch: 53.9344\n",
      "batch: 861/1000 \t    computation time/batch: 53.9377sec\t    number of points: 11\n",
      "\t    median distance2db: 0.00023829936981201172\n",
      "computation DB time/batch: 53.9254\n",
      "batch: 862/1000 \t    computation time/batch: 53.9284sec\t    number of points: 18\n",
      "\t    median distance2db: 0.0029141902923583984\n",
      "computation DB time/batch: 53.9320\n",
      "batch: 863/1000 \t    computation time/batch: 53.9352sec\t    number of points: 12\n",
      "\t    median distance2db: 0.0022362470626831055\n",
      "computation DB time/batch: 53.9176\n",
      "batch: 864/1000 \t    computation time/batch: 53.9209sec\t    number of points: 12\n",
      "\t    median distance2db: 0.004618525505065918\n",
      "computation DB time/batch: 53.9128\n",
      "batch: 865/1000 \t    computation time/batch: 53.9156sec\t    number of points: 16\n",
      "\t    median distance2db: 0.0025686025619506836\n",
      "computation DB time/batch: 53.9157\n",
      "batch: 866/1000 \t    computation time/batch: 53.9187sec\t    number of points: 9\n",
      "\t    median distance2db: 0.004793882369995117\n",
      "computation DB time/batch: 53.9202\n",
      "batch: 867/1000 \t    computation time/batch: 53.9236sec\t    number of points: 11\n",
      "\t    median distance2db: 0.0029015541076660156\n"
     ]
    },
    {
     "name": "stdout",
     "output_type": "stream",
     "text": [
      "computation DB time/batch: 53.9349\n",
      "batch: 868/1000 \t    computation time/batch: 53.9380sec\t    number of points: 16\n",
      "\t    median distance2db: 0.0012805461883544922\n",
      "computation DB time/batch: 53.9844\n",
      "batch: 869/1000 \t    computation time/batch: 53.9873sec\t    number of points: 15\n",
      "\t    median distance2db: 0.0018360614776611328\n",
      "computation DB time/batch: 53.9959\n",
      "batch: 870/1000 \t    computation time/batch: 53.9989sec\t    number of points: 15\n",
      "\t    median distance2db: 0.0010439157485961914\n",
      "computation DB time/batch: 53.9833\n",
      "batch: 871/1000 \t    computation time/batch: 53.9860sec\t    number of points: 10\n",
      "\t    median distance2db: 0.0037169456481933594\n",
      "computation DB time/batch: 53.9556\n",
      "batch: 872/1000 \t    computation time/batch: 53.9590sec\t    number of points: 12\n",
      "\t    median distance2db: 0.00040841102600097656\n",
      "computation DB time/batch: 53.9285\n",
      "batch: 873/1000 \t    computation time/batch: 53.9316sec\t    number of points: 19\n",
      "\t    median distance2db: 0.0011867284774780273\n",
      "computation DB time/batch: 53.9132\n",
      "batch: 874/1000 \t    computation time/batch: 53.9165sec\t    number of points: 14\n",
      "\t    median distance2db: 0.0025606155395507812\n",
      "computation DB time/batch: 53.9097\n",
      "batch: 875/1000 \t    computation time/batch: 53.9126sec\t    number of points: 15\n",
      "\t    median distance2db: 0.0014244318008422852\n",
      "computation DB time/batch: 53.9131\n",
      "batch: 876/1000 \t    computation time/batch: 53.9160sec\t    number of points: 17\n",
      "\t    median distance2db: 0.0025140047073364258\n",
      "computation DB time/batch: 53.9143\n",
      "batch: 877/1000 \t    computation time/batch: 53.9179sec\t    number of points: 11\n",
      "\t    median distance2db: 0.004305243492126465\n",
      "computation DB time/batch: 53.9076\n",
      "batch: 878/1000 \t    computation time/batch: 53.9103sec\t    number of points: 20\n",
      "\t    median distance2db: 0.004562854766845703\n",
      "computation DB time/batch: 53.9108\n",
      "batch: 879/1000 \t    computation time/batch: 53.9140sec\t    number of points: 8\n",
      "\t    median distance2db: 0.004952073097229004\n",
      "computation DB time/batch: 53.9260\n",
      "batch: 880/1000 \t    computation time/batch: 53.9289sec\t    number of points: 8\n",
      "\t    median distance2db: 0.0023882389068603516\n",
      "computation DB time/batch: 53.9336\n",
      "batch: 881/1000 \t    computation time/batch: 53.9365sec\t    number of points: 13\n",
      "\t    median distance2db: 0.005725979804992676\n",
      "computation DB time/batch: 53.9466\n",
      "batch: 882/1000 \t    computation time/batch: 53.9494sec\t    number of points: 14\n",
      "\t    median distance2db: 0.0005103349685668945\n",
      "computation DB time/batch: 53.9457\n",
      "batch: 883/1000 \t    computation time/batch: 53.9484sec\t    number of points: 19\n",
      "\t    median distance2db: 0.0010023117065429688\n",
      "computation DB time/batch: 53.9747\n",
      "batch: 884/1000 \t    computation time/batch: 53.9779sec\t    number of points: 15\n",
      "\t    median distance2db: 0.0006763935089111328\n",
      "computation DB time/batch: 54.0136\n",
      "batch: 885/1000 \t    computation time/batch: 54.0166sec\t    number of points: 9\n",
      "\t    median distance2db: 0.004865407943725586\n",
      "computation DB time/batch: 53.9952\n",
      "batch: 886/1000 \t    computation time/batch: 53.9984sec\t    number of points: 16\n",
      "\t    median distance2db: 0.0023325681686401367\n",
      "computation DB time/batch: 53.9705\n",
      "batch: 887/1000 \t    computation time/batch: 53.9734sec\t    number of points: 10\n",
      "\t    median distance2db: 0.0034110546112060547\n",
      "computation DB time/batch: 53.9712\n",
      "batch: 888/1000 \t    computation time/batch: 53.9750sec\t    number of points: 11\n",
      "\t    median distance2db: 0.0027338266372680664\n",
      "computation DB time/batch: 53.9640\n",
      "batch: 889/1000 \t    computation time/batch: 53.9672sec\t    number of points: 22\n",
      "\t    median distance2db: 0.002655625343322754\n",
      "computation DB time/batch: 53.9635\n",
      "batch: 890/1000 \t    computation time/batch: 53.9668sec\t    number of points: 9\n",
      "\t    median distance2db: 0.0014424324035644531\n",
      "computation DB time/batch: 53.9602\n",
      "batch: 891/1000 \t    computation time/batch: 53.9635sec\t    number of points: 12\n",
      "\t    median distance2db: 0.00022554397583007812\n",
      "computation DB time/batch: 53.9591\n",
      "batch: 892/1000 \t    computation time/batch: 53.9620sec\t    number of points: 9\n",
      "\t    median distance2db: 0.001461029052734375\n",
      "computation DB time/batch: 53.9504\n",
      "batch: 893/1000 \t    computation time/batch: 53.9533sec\t    number of points: 10\n",
      "\t    median distance2db: 0.0007815361022949219\n",
      "computation DB time/batch: 53.9671\n",
      "batch: 894/1000 \t    computation time/batch: 53.9703sec\t    number of points: 15\n",
      "\t    median distance2db: 0.0028933286666870117\n",
      "computation DB time/batch: 53.9623\n",
      "batch: 895/1000 \t    computation time/batch: 53.9656sec\t    number of points: 11\n",
      "\t    median distance2db: 0.0013419389724731445\n",
      "computation DB time/batch: 53.9579\n",
      "batch: 896/1000 \t    computation time/batch: 53.9610sec\t    number of points: 17\n",
      "\t    median distance2db: 0.0026798248291015625\n",
      "computation DB time/batch: 53.9589\n",
      "batch: 897/1000 \t    computation time/batch: 53.9624sec\t    number of points: 12\n",
      "\t    median distance2db: 0.0011140108108520508\n",
      "computation DB time/batch: 53.9546\n",
      "batch: 898/1000 \t    computation time/batch: 53.9581sec\t    number of points: 12\n",
      "\t    median distance2db: 0.001147627830505371\n",
      "computation DB time/batch: 53.9548\n",
      "batch: 899/1000 \t    computation time/batch: 53.9581sec\t    number of points: 21\n",
      "\t    median distance2db: 0.0020525455474853516\n",
      "computation DB time/batch: 53.9418\n",
      "batch: 900/1000 \t    computation time/batch: 53.9447sec\t    number of points: 14\n",
      "\t    median distance2db: 0.0004999637603759766\n",
      "computation DB time/batch: 53.9394\n",
      "batch: 901/1000 \t    computation time/batch: 53.9424sec\t    number of points: 13\n",
      "\t    median distance2db: 0.0008788108825683594\n",
      "computation DB time/batch: 53.9177\n",
      "batch: 902/1000 \t    computation time/batch: 53.9210sec\t    number of points: 8\n",
      "\t    median distance2db: 0.0003402233123779297\n",
      "computation DB time/batch: 53.9704\n",
      "batch: 903/1000 \t    computation time/batch: 53.9736sec\t    number of points: 16\n",
      "\t    median distance2db: 0.0007728338241577148\n",
      "computation DB time/batch: 53.9710\n",
      "batch: 904/1000 \t    computation time/batch: 53.9745sec\t    number of points: 7\n",
      "\t    median distance2db: 0.005142807960510254\n",
      "computation DB time/batch: 53.9319\n",
      "batch: 905/1000 \t    computation time/batch: 53.9347sec\t    number of points: 14\n",
      "\t    median distance2db: 0.002872467041015625\n",
      "computation DB time/batch: 53.9356\n",
      "batch: 906/1000 \t    computation time/batch: 53.9390sec\t    number of points: 7\n",
      "\t    median distance2db: 0.0025724172592163086\n",
      "computation DB time/batch: 53.9014\n",
      "batch: 907/1000 \t    computation time/batch: 53.9044sec\t    number of points: 15\n",
      "\t    median distance2db: 0.0010262727737426758\n",
      "computation DB time/batch: 53.9426\n",
      "batch: 908/1000 \t    computation time/batch: 53.9455sec\t    number of points: 16\n",
      "\t    median distance2db: 0.0026617050170898438\n",
      "computation DB time/batch: 53.9619\n",
      "batch: 909/1000 \t    computation time/batch: 53.9653sec\t    number of points: 11\n",
      "\t    median distance2db: 0.0028630495071411133\n"
     ]
    },
    {
     "ename": "KeyboardInterrupt",
     "evalue": "",
     "output_type": "error",
     "traceback": [
      "\u001b[0;31m---------------------------------------------------------------------------\u001b[0m",
      "\u001b[0;31mKeyboardInterrupt\u001b[0m                         Traceback (most recent call last)",
      "\u001b[0;32m<ipython-input-27-7e14f68705e7>\u001b[0m in \u001b[0;36m<module>\u001b[0;34m\u001b[0m\n\u001b[1;32m     28\u001b[0m                 \u001b[0mintegrator\u001b[0m\u001b[0;34m=\u001b[0m\u001b[0;32mNone\u001b[0m\u001b[0;34m\u001b[0m\u001b[0;34m\u001b[0m\u001b[0m\n\u001b[1;32m     29\u001b[0m     )\n\u001b[0;32m---> 30\u001b[0;31m     \u001b[0mg\u001b[0m\u001b[0;34m.\u001b[0m\u001b[0mstep\u001b[0m\u001b[0;34m(\u001b[0m\u001b[0mn_steps\u001b[0m\u001b[0;34m)\u001b[0m\u001b[0;34m\u001b[0m\u001b[0;34m\u001b[0m\u001b[0m\n\u001b[0m\u001b[1;32m     31\u001b[0m \u001b[0;34m\u001b[0m\u001b[0m\n\u001b[1;32m     32\u001b[0m     \u001b[0;31m# Save computed points to DataFrame\u001b[0m\u001b[0;34m\u001b[0m\u001b[0;34m\u001b[0m\u001b[0;34m\u001b[0m\u001b[0m\n",
      "\u001b[0;32m~/Innosuisse/giotto-deep/gdeep/decision_boundary/decision_boundary_calculator.py\u001b[0m in \u001b[0;36mstep\u001b[0;34m(self, number_of_steps)\u001b[0m\n\u001b[1;32m    201\u001b[0m         \u001b[0;31m# t = torch.arange(0, 3e0, 2e-3)\u001b[0m\u001b[0;34m\u001b[0m\u001b[0;34m\u001b[0m\u001b[0;34m\u001b[0m\u001b[0m\n\u001b[1;32m    202\u001b[0m \u001b[0;34m\u001b[0m\u001b[0m\n\u001b[0;32m--> 203\u001b[0;31m         ode_solver_output = odeint(odes, ode_initial_conditions, \n\u001b[0m\u001b[1;32m    204\u001b[0m                                    torch.tensor([0, number_of_steps * step_size],\n\u001b[1;32m    205\u001b[0m                                    dtype=self.points.dtype, device=self.points.device),\n",
      "\u001b[0;32m~/conda-envs/giottodeep/lib/python3.8/site-packages/torchdiffeq/_impl/odeint.py\u001b[0m in \u001b[0;36modeint\u001b[0;34m(func, y0, t, rtol, atol, method, options)\u001b[0m\n\u001b[1;32m     63\u001b[0m \u001b[0;34m\u001b[0m\u001b[0m\n\u001b[1;32m     64\u001b[0m     \u001b[0msolver\u001b[0m \u001b[0;34m=\u001b[0m \u001b[0mSOLVERS\u001b[0m\u001b[0;34m[\u001b[0m\u001b[0mmethod\u001b[0m\u001b[0;34m]\u001b[0m\u001b[0;34m(\u001b[0m\u001b[0mfunc\u001b[0m\u001b[0;34m=\u001b[0m\u001b[0mfunc\u001b[0m\u001b[0;34m,\u001b[0m \u001b[0my0\u001b[0m\u001b[0;34m=\u001b[0m\u001b[0my0\u001b[0m\u001b[0;34m,\u001b[0m \u001b[0mrtol\u001b[0m\u001b[0;34m=\u001b[0m\u001b[0mrtol\u001b[0m\u001b[0;34m,\u001b[0m \u001b[0matol\u001b[0m\u001b[0;34m=\u001b[0m\u001b[0matol\u001b[0m\u001b[0;34m,\u001b[0m \u001b[0;34m**\u001b[0m\u001b[0moptions\u001b[0m\u001b[0;34m)\u001b[0m\u001b[0;34m\u001b[0m\u001b[0;34m\u001b[0m\u001b[0m\n\u001b[0;32m---> 65\u001b[0;31m     \u001b[0msolution\u001b[0m \u001b[0;34m=\u001b[0m \u001b[0msolver\u001b[0m\u001b[0;34m.\u001b[0m\u001b[0mintegrate\u001b[0m\u001b[0;34m(\u001b[0m\u001b[0mt\u001b[0m\u001b[0;34m)\u001b[0m\u001b[0;34m\u001b[0m\u001b[0;34m\u001b[0m\u001b[0m\n\u001b[0m\u001b[1;32m     66\u001b[0m \u001b[0;34m\u001b[0m\u001b[0m\n\u001b[1;32m     67\u001b[0m     \u001b[0;32mif\u001b[0m \u001b[0mshapes\u001b[0m \u001b[0;32mis\u001b[0m \u001b[0;32mnot\u001b[0m \u001b[0;32mNone\u001b[0m\u001b[0;34m:\u001b[0m\u001b[0;34m\u001b[0m\u001b[0;34m\u001b[0m\u001b[0m\n",
      "\u001b[0;32m~/conda-envs/giottodeep/lib/python3.8/site-packages/torchdiffeq/_impl/solvers.py\u001b[0m in \u001b[0;36mintegrate\u001b[0;34m(self, t)\u001b[0m\n\u001b[1;32m     88\u001b[0m             \u001b[0my1\u001b[0m \u001b[0;34m=\u001b[0m \u001b[0my0\u001b[0m \u001b[0;34m+\u001b[0m \u001b[0mdy\u001b[0m\u001b[0;34m\u001b[0m\u001b[0;34m\u001b[0m\u001b[0m\n\u001b[1;32m     89\u001b[0m \u001b[0;34m\u001b[0m\u001b[0m\n\u001b[0;32m---> 90\u001b[0;31m             \u001b[0;32mwhile\u001b[0m \u001b[0mj\u001b[0m \u001b[0;34m<\u001b[0m \u001b[0mlen\u001b[0m\u001b[0;34m(\u001b[0m\u001b[0mt\u001b[0m\u001b[0;34m)\u001b[0m \u001b[0;32mand\u001b[0m \u001b[0mt1\u001b[0m \u001b[0;34m>=\u001b[0m \u001b[0mt\u001b[0m\u001b[0;34m[\u001b[0m\u001b[0mj\u001b[0m\u001b[0;34m]\u001b[0m\u001b[0;34m:\u001b[0m\u001b[0;34m\u001b[0m\u001b[0;34m\u001b[0m\u001b[0m\n\u001b[0m\u001b[1;32m     91\u001b[0m                 \u001b[0msolution\u001b[0m\u001b[0;34m[\u001b[0m\u001b[0mj\u001b[0m\u001b[0;34m]\u001b[0m \u001b[0;34m=\u001b[0m \u001b[0mself\u001b[0m\u001b[0;34m.\u001b[0m\u001b[0m_linear_interp\u001b[0m\u001b[0;34m(\u001b[0m\u001b[0mt0\u001b[0m\u001b[0;34m,\u001b[0m \u001b[0mt1\u001b[0m\u001b[0;34m,\u001b[0m \u001b[0my0\u001b[0m\u001b[0;34m,\u001b[0m \u001b[0my1\u001b[0m\u001b[0;34m,\u001b[0m \u001b[0mt\u001b[0m\u001b[0;34m[\u001b[0m\u001b[0mj\u001b[0m\u001b[0;34m]\u001b[0m\u001b[0;34m)\u001b[0m\u001b[0;34m\u001b[0m\u001b[0;34m\u001b[0m\u001b[0m\n\u001b[1;32m     92\u001b[0m                 \u001b[0mj\u001b[0m \u001b[0;34m+=\u001b[0m \u001b[0;36m1\u001b[0m\u001b[0;34m\u001b[0m\u001b[0;34m\u001b[0m\u001b[0m\n",
      "\u001b[0;31mKeyboardInterrupt\u001b[0m: "
     ]
    }
   ],
   "source": [
    "n_steps = 100\n",
    "precision = 0.01\n",
    "range_db = 70.\n",
    "\n",
    "n_batches = 1000\n",
    "batch_size = 3000#4000\n",
    "\n",
    "# Initialize DataFrame\n",
    "db_sample_df = pd.DataFrame(columns = [\"x\"+str(i) for i in range(3)])\n",
    "\n",
    "for b in range(n_batches):\n",
    "    tic = time.perf_counter()\n",
    "    # Sample points on decision boundary\n",
    "    initial_points_batch = range_db * torch.rand((batch_size, 3)) - range_db/2.\n",
    "    initial_points_batch = initial_points_batch.to(dev, non_blocking=True)\n",
    "    \n",
    "    initial_points_batch.requires_grad = False\n",
    "    delta = torch.zeros_like(initial_points_batch, requires_grad=True).to(dev)\n",
    "    loss = embedding_model(initial_points_batch + delta).sum()\n",
    "    loss.backward()\n",
    "    initial_vectors = delta.grad.detach()\n",
    "    \n",
    "    \n",
    "    g = QuasihyperbolicDecisionBoundaryCalculator(\n",
    "                model=embedding_model,\n",
    "                initial_points=initial_points_batch,\n",
    "                initial_vectors=initial_vectors,\n",
    "                integrator=None\n",
    "    )\n",
    "    g.step(n_steps)\n",
    "    \n",
    "    # Save computed points to DataFrame\n",
    "    db_sample_tensor = g.get_filtered_decision_boundary(precision)\n",
    "    toc = time.perf_counter()\n",
    "    print(f'computation DB time/batch: {toc - tic:0.4f}')\n",
    "    \n",
    "    median = torch.median(embedding_model(db_sample_tensor) - 0.5).cpu().detach().numpy()\n",
    "    db_sample = db_sample_tensor.to(device='cpu').detach().numpy()\n",
    "    db_sample_df_batch = pd.DataFrame(db_sample, columns = [\"x\"+str(i) for i in range(3)])\n",
    "    \n",
    "    db_sample_df = db_sample_df.append(db_sample_df_batch, ignore_index=True)\n",
    "    \n",
    "    # Delete tensors on cuda\n",
    "    del db_sample_tensor\n",
    "    del initial_points_batch\n",
    "    del db_sample\n",
    "    toc = time.perf_counter()\n",
    "    print(f'batch: {b+1}/{n_batches} \\t\\\n",
    "    computation time/batch: {toc - tic:0.4f}sec\\t\\\n",
    "    number of points: {db_sample_df_batch.shape[0]}\\n\\t\\\n",
    "    median distance2db: {median}')\n",
    "    del db_sample_df_batch\n",
    "    del initial_vectors\n",
    "    del g\n",
    "    del delta\n",
    "    torch.cuda.empty_cache()\n",
    "    gc.collect()\n",
    "    if b%50 == 0:\n",
    "        db_sample_df.to_csv(f'computed_points_codim_3_1M_{b:04d}.csv')"
   ]
  },
  {
   "cell_type": "code",
   "execution_count": null,
   "metadata": {},
   "outputs": [],
   "source": [
    "db_sample_df.to_csv('computed_codim_3points_1M.csv')"
   ]
  },
  {
   "cell_type": "code",
   "execution_count": 14,
   "metadata": {},
   "outputs": [
    {
     "name": "stdout",
     "output_type": "stream",
     "text": [
      "computed_points_1M_0010.csv\n"
     ]
    }
   ],
   "source": [
    "print(f'computed_points_1M_{10:04d}.csv')"
   ]
  },
  {
   "cell_type": "code",
   "execution_count": 49,
   "metadata": {},
   "outputs": [
    {
     "name": "stdout",
     "output_type": "stream",
     "text": [
      "Number of points: (52, 3)\n"
     ]
    },
    {
     "data": {
      "application/vnd.plotly.v1+json": {
       "config": {
        "plotlyServerURL": "https://plot.ly"
       },
       "data": [
        {
         "hovertemplate": "x0=%{x}<br>x1=%{y}<br>x2=%{z}<extra></extra>",
         "legendgroup": "",
         "marker": {
          "color": "#636efa",
          "symbol": "circle"
         },
         "mode": "markers",
         "name": "",
         "scene": "scene",
         "showlegend": false,
         "type": "scatter3d",
         "x": [
          -10.282544136047363,
          -27.28460693359375,
          -33.811737060546875,
          28.305986404418945,
          1.216386318206787,
          7.800750732421875,
          4.047580242156982,
          -22.340282440185547,
          -13.72254753112793,
          0.9143197536468506,
          11.377936363220215,
          -6.049320220947266,
          -18.472137451171875,
          5.23144006729126,
          -14.58596420288086,
          -25.18048095703125,
          -21.33672523498535,
          -27.3912353515625,
          10.72272777557373,
          -32.112571716308594,
          12.20594310760498,
          -22.59006690979004,
          6.559144020080566,
          7.15255880355835,
          -30.862201690673828,
          -3.227771520614624,
          -4.296969890594482,
          16.4634952545166,
          21.372343063354492,
          -18.22385597229004,
          21.292131423950195,
          -29.025672912597656,
          -27.77157211303711,
          -27.146568298339844,
          -25.970218658447266,
          18.679019927978516,
          14.219969749450684,
          -5.660981178283691,
          4.564764022827148,
          -6.190901756286621,
          -7.183500289916992,
          -3.734499931335449,
          11.882675170898438,
          -26.040401458740234,
          -20.854915618896484,
          -8.639400482177734,
          6.455092430114746,
          10.07215690612793,
          -21.786638259887695,
          7.168974876403809,
          15.127103805541992,
          4.090364933013916
         ],
         "y": [
          17.726659774780273,
          29.09257698059082,
          24.875694274902344,
          -29.06460189819336,
          14.191756248474121,
          -22.40517807006836,
          -3.4191553592681885,
          15.289070129394531,
          10.437580108642578,
          -4.3726301193237305,
          -24.265687942504883,
          6.470673084259033,
          9.826269149780273,
          -11.216261863708496,
          -6.649245262145996,
          29.164112091064453,
          1.5182706117630005,
          -5.4538893699646,
          -20.288799285888672,
          20.93588638305664,
          -14.034098625183105,
          -28.804367065429688,
          30.403501510620117,
          -25.565589904785156,
          30.96394157409668,
          -3.758161783218384,
          -18.873592376708984,
          -28.288713455200195,
          -33.33740234375,
          2.603642702102661,
          16.949522018432617,
          25.920930862426758,
          -24.87555694580078,
          28.754188537597656,
          -28.542234420776367,
          -28.034732818603516,
          -28.71390724182129,
          -4.280957221984863,
          -16.090314865112305,
          12.875905990600586,
          0.16004104912281036,
          -4.015754222869873,
          7.8759446144104,
          31.26640510559082,
          -21.767662048339844,
          26.399980545043945,
          8.682930946350098,
          33.65842056274414,
          -11.946667671203613,
          19.15669822692871,
          1.5999070405960083,
          -28.60540771484375
         ],
         "z": [
          -28.353355407714844,
          14.8692626953125,
          32.54549789428711,
          -29.3358097076416,
          28.66283416748047,
          21.950244903564453,
          14.50936222076416,
          5.109539985656738,
          5.889629364013672,
          18.48543357849121,
          1.4002350568771362,
          0.9009798765182495,
          8.376100540161133,
          -7.9410719871521,
          -1.3484708070755005,
          -8.195347785949707,
          6.245172023773193,
          25.939746856689453,
          -9.606463432312012,
          21.963634490966797,
          -8.20451545715332,
          19.80562400817871,
          24.769107818603516,
          14.062935829162598,
          20.430591583251953,
          -21.679967880249023,
          16.15061378479004,
          -3.186367988586426,
          -31.52379608154297,
          19.781171798706055,
          31.477731704711914,
          -1.271475911140442,
          15.242050170898438,
          15.597110748291016,
          -10.165035247802734,
          -11.713628768920898,
          -4.814000606536865,
          -28.990812301635742,
          13.188407897949219,
          18.45534896850586,
          21.942384719848633,
          16.027305603027344,
          -22.79541778564453,
          35.00323486328125,
          -4.121817588806152,
          24.180830001831055,
          25.889331817626953,
          31.724592208862305,
          -4.569664478302002,
          34.02423095703125,
          27.446073532104492,
          10.654050827026367
         ]
        }
       ],
       "layout": {
        "legend": {
         "tracegroupgap": 0
        },
        "margin": {
         "t": 60
        },
        "scene": {
         "domain": {
          "x": [
           0,
           1
          ],
          "y": [
           0,
           1
          ]
         },
         "xaxis": {
          "title": {
           "text": "x0"
          }
         },
         "yaxis": {
          "title": {
           "text": "x1"
          }
         },
         "zaxis": {
          "title": {
           "text": "x2"
          }
         }
        },
        "template": {
         "data": {
          "bar": [
           {
            "error_x": {
             "color": "#2a3f5f"
            },
            "error_y": {
             "color": "#2a3f5f"
            },
            "marker": {
             "line": {
              "color": "#E5ECF6",
              "width": 0.5
             }
            },
            "type": "bar"
           }
          ],
          "barpolar": [
           {
            "marker": {
             "line": {
              "color": "#E5ECF6",
              "width": 0.5
             }
            },
            "type": "barpolar"
           }
          ],
          "carpet": [
           {
            "aaxis": {
             "endlinecolor": "#2a3f5f",
             "gridcolor": "white",
             "linecolor": "white",
             "minorgridcolor": "white",
             "startlinecolor": "#2a3f5f"
            },
            "baxis": {
             "endlinecolor": "#2a3f5f",
             "gridcolor": "white",
             "linecolor": "white",
             "minorgridcolor": "white",
             "startlinecolor": "#2a3f5f"
            },
            "type": "carpet"
           }
          ],
          "choropleth": [
           {
            "colorbar": {
             "outlinewidth": 0,
             "ticks": ""
            },
            "type": "choropleth"
           }
          ],
          "contour": [
           {
            "colorbar": {
             "outlinewidth": 0,
             "ticks": ""
            },
            "colorscale": [
             [
              0,
              "#0d0887"
             ],
             [
              0.1111111111111111,
              "#46039f"
             ],
             [
              0.2222222222222222,
              "#7201a8"
             ],
             [
              0.3333333333333333,
              "#9c179e"
             ],
             [
              0.4444444444444444,
              "#bd3786"
             ],
             [
              0.5555555555555556,
              "#d8576b"
             ],
             [
              0.6666666666666666,
              "#ed7953"
             ],
             [
              0.7777777777777778,
              "#fb9f3a"
             ],
             [
              0.8888888888888888,
              "#fdca26"
             ],
             [
              1,
              "#f0f921"
             ]
            ],
            "type": "contour"
           }
          ],
          "contourcarpet": [
           {
            "colorbar": {
             "outlinewidth": 0,
             "ticks": ""
            },
            "type": "contourcarpet"
           }
          ],
          "heatmap": [
           {
            "colorbar": {
             "outlinewidth": 0,
             "ticks": ""
            },
            "colorscale": [
             [
              0,
              "#0d0887"
             ],
             [
              0.1111111111111111,
              "#46039f"
             ],
             [
              0.2222222222222222,
              "#7201a8"
             ],
             [
              0.3333333333333333,
              "#9c179e"
             ],
             [
              0.4444444444444444,
              "#bd3786"
             ],
             [
              0.5555555555555556,
              "#d8576b"
             ],
             [
              0.6666666666666666,
              "#ed7953"
             ],
             [
              0.7777777777777778,
              "#fb9f3a"
             ],
             [
              0.8888888888888888,
              "#fdca26"
             ],
             [
              1,
              "#f0f921"
             ]
            ],
            "type": "heatmap"
           }
          ],
          "heatmapgl": [
           {
            "colorbar": {
             "outlinewidth": 0,
             "ticks": ""
            },
            "colorscale": [
             [
              0,
              "#0d0887"
             ],
             [
              0.1111111111111111,
              "#46039f"
             ],
             [
              0.2222222222222222,
              "#7201a8"
             ],
             [
              0.3333333333333333,
              "#9c179e"
             ],
             [
              0.4444444444444444,
              "#bd3786"
             ],
             [
              0.5555555555555556,
              "#d8576b"
             ],
             [
              0.6666666666666666,
              "#ed7953"
             ],
             [
              0.7777777777777778,
              "#fb9f3a"
             ],
             [
              0.8888888888888888,
              "#fdca26"
             ],
             [
              1,
              "#f0f921"
             ]
            ],
            "type": "heatmapgl"
           }
          ],
          "histogram": [
           {
            "marker": {
             "colorbar": {
              "outlinewidth": 0,
              "ticks": ""
             }
            },
            "type": "histogram"
           }
          ],
          "histogram2d": [
           {
            "colorbar": {
             "outlinewidth": 0,
             "ticks": ""
            },
            "colorscale": [
             [
              0,
              "#0d0887"
             ],
             [
              0.1111111111111111,
              "#46039f"
             ],
             [
              0.2222222222222222,
              "#7201a8"
             ],
             [
              0.3333333333333333,
              "#9c179e"
             ],
             [
              0.4444444444444444,
              "#bd3786"
             ],
             [
              0.5555555555555556,
              "#d8576b"
             ],
             [
              0.6666666666666666,
              "#ed7953"
             ],
             [
              0.7777777777777778,
              "#fb9f3a"
             ],
             [
              0.8888888888888888,
              "#fdca26"
             ],
             [
              1,
              "#f0f921"
             ]
            ],
            "type": "histogram2d"
           }
          ],
          "histogram2dcontour": [
           {
            "colorbar": {
             "outlinewidth": 0,
             "ticks": ""
            },
            "colorscale": [
             [
              0,
              "#0d0887"
             ],
             [
              0.1111111111111111,
              "#46039f"
             ],
             [
              0.2222222222222222,
              "#7201a8"
             ],
             [
              0.3333333333333333,
              "#9c179e"
             ],
             [
              0.4444444444444444,
              "#bd3786"
             ],
             [
              0.5555555555555556,
              "#d8576b"
             ],
             [
              0.6666666666666666,
              "#ed7953"
             ],
             [
              0.7777777777777778,
              "#fb9f3a"
             ],
             [
              0.8888888888888888,
              "#fdca26"
             ],
             [
              1,
              "#f0f921"
             ]
            ],
            "type": "histogram2dcontour"
           }
          ],
          "mesh3d": [
           {
            "colorbar": {
             "outlinewidth": 0,
             "ticks": ""
            },
            "type": "mesh3d"
           }
          ],
          "parcoords": [
           {
            "line": {
             "colorbar": {
              "outlinewidth": 0,
              "ticks": ""
             }
            },
            "type": "parcoords"
           }
          ],
          "pie": [
           {
            "automargin": true,
            "type": "pie"
           }
          ],
          "scatter": [
           {
            "marker": {
             "colorbar": {
              "outlinewidth": 0,
              "ticks": ""
             }
            },
            "type": "scatter"
           }
          ],
          "scatter3d": [
           {
            "line": {
             "colorbar": {
              "outlinewidth": 0,
              "ticks": ""
             }
            },
            "marker": {
             "colorbar": {
              "outlinewidth": 0,
              "ticks": ""
             }
            },
            "type": "scatter3d"
           }
          ],
          "scattercarpet": [
           {
            "marker": {
             "colorbar": {
              "outlinewidth": 0,
              "ticks": ""
             }
            },
            "type": "scattercarpet"
           }
          ],
          "scattergeo": [
           {
            "marker": {
             "colorbar": {
              "outlinewidth": 0,
              "ticks": ""
             }
            },
            "type": "scattergeo"
           }
          ],
          "scattergl": [
           {
            "marker": {
             "colorbar": {
              "outlinewidth": 0,
              "ticks": ""
             }
            },
            "type": "scattergl"
           }
          ],
          "scattermapbox": [
           {
            "marker": {
             "colorbar": {
              "outlinewidth": 0,
              "ticks": ""
             }
            },
            "type": "scattermapbox"
           }
          ],
          "scatterpolar": [
           {
            "marker": {
             "colorbar": {
              "outlinewidth": 0,
              "ticks": ""
             }
            },
            "type": "scatterpolar"
           }
          ],
          "scatterpolargl": [
           {
            "marker": {
             "colorbar": {
              "outlinewidth": 0,
              "ticks": ""
             }
            },
            "type": "scatterpolargl"
           }
          ],
          "scatterternary": [
           {
            "marker": {
             "colorbar": {
              "outlinewidth": 0,
              "ticks": ""
             }
            },
            "type": "scatterternary"
           }
          ],
          "surface": [
           {
            "colorbar": {
             "outlinewidth": 0,
             "ticks": ""
            },
            "colorscale": [
             [
              0,
              "#0d0887"
             ],
             [
              0.1111111111111111,
              "#46039f"
             ],
             [
              0.2222222222222222,
              "#7201a8"
             ],
             [
              0.3333333333333333,
              "#9c179e"
             ],
             [
              0.4444444444444444,
              "#bd3786"
             ],
             [
              0.5555555555555556,
              "#d8576b"
             ],
             [
              0.6666666666666666,
              "#ed7953"
             ],
             [
              0.7777777777777778,
              "#fb9f3a"
             ],
             [
              0.8888888888888888,
              "#fdca26"
             ],
             [
              1,
              "#f0f921"
             ]
            ],
            "type": "surface"
           }
          ],
          "table": [
           {
            "cells": {
             "fill": {
              "color": "#EBF0F8"
             },
             "line": {
              "color": "white"
             }
            },
            "header": {
             "fill": {
              "color": "#C8D4E3"
             },
             "line": {
              "color": "white"
             }
            },
            "type": "table"
           }
          ]
         },
         "layout": {
          "annotationdefaults": {
           "arrowcolor": "#2a3f5f",
           "arrowhead": 0,
           "arrowwidth": 1
          },
          "autotypenumbers": "strict",
          "coloraxis": {
           "colorbar": {
            "outlinewidth": 0,
            "ticks": ""
           }
          },
          "colorscale": {
           "diverging": [
            [
             0,
             "#8e0152"
            ],
            [
             0.1,
             "#c51b7d"
            ],
            [
             0.2,
             "#de77ae"
            ],
            [
             0.3,
             "#f1b6da"
            ],
            [
             0.4,
             "#fde0ef"
            ],
            [
             0.5,
             "#f7f7f7"
            ],
            [
             0.6,
             "#e6f5d0"
            ],
            [
             0.7,
             "#b8e186"
            ],
            [
             0.8,
             "#7fbc41"
            ],
            [
             0.9,
             "#4d9221"
            ],
            [
             1,
             "#276419"
            ]
           ],
           "sequential": [
            [
             0,
             "#0d0887"
            ],
            [
             0.1111111111111111,
             "#46039f"
            ],
            [
             0.2222222222222222,
             "#7201a8"
            ],
            [
             0.3333333333333333,
             "#9c179e"
            ],
            [
             0.4444444444444444,
             "#bd3786"
            ],
            [
             0.5555555555555556,
             "#d8576b"
            ],
            [
             0.6666666666666666,
             "#ed7953"
            ],
            [
             0.7777777777777778,
             "#fb9f3a"
            ],
            [
             0.8888888888888888,
             "#fdca26"
            ],
            [
             1,
             "#f0f921"
            ]
           ],
           "sequentialminus": [
            [
             0,
             "#0d0887"
            ],
            [
             0.1111111111111111,
             "#46039f"
            ],
            [
             0.2222222222222222,
             "#7201a8"
            ],
            [
             0.3333333333333333,
             "#9c179e"
            ],
            [
             0.4444444444444444,
             "#bd3786"
            ],
            [
             0.5555555555555556,
             "#d8576b"
            ],
            [
             0.6666666666666666,
             "#ed7953"
            ],
            [
             0.7777777777777778,
             "#fb9f3a"
            ],
            [
             0.8888888888888888,
             "#fdca26"
            ],
            [
             1,
             "#f0f921"
            ]
           ]
          },
          "colorway": [
           "#636efa",
           "#EF553B",
           "#00cc96",
           "#ab63fa",
           "#FFA15A",
           "#19d3f3",
           "#FF6692",
           "#B6E880",
           "#FF97FF",
           "#FECB52"
          ],
          "font": {
           "color": "#2a3f5f"
          },
          "geo": {
           "bgcolor": "white",
           "lakecolor": "white",
           "landcolor": "#E5ECF6",
           "showlakes": true,
           "showland": true,
           "subunitcolor": "white"
          },
          "hoverlabel": {
           "align": "left"
          },
          "hovermode": "closest",
          "mapbox": {
           "style": "light"
          },
          "paper_bgcolor": "white",
          "plot_bgcolor": "#E5ECF6",
          "polar": {
           "angularaxis": {
            "gridcolor": "white",
            "linecolor": "white",
            "ticks": ""
           },
           "bgcolor": "#E5ECF6",
           "radialaxis": {
            "gridcolor": "white",
            "linecolor": "white",
            "ticks": ""
           }
          },
          "scene": {
           "xaxis": {
            "backgroundcolor": "#E5ECF6",
            "gridcolor": "white",
            "gridwidth": 2,
            "linecolor": "white",
            "showbackground": true,
            "ticks": "",
            "zerolinecolor": "white"
           },
           "yaxis": {
            "backgroundcolor": "#E5ECF6",
            "gridcolor": "white",
            "gridwidth": 2,
            "linecolor": "white",
            "showbackground": true,
            "ticks": "",
            "zerolinecolor": "white"
           },
           "zaxis": {
            "backgroundcolor": "#E5ECF6",
            "gridcolor": "white",
            "gridwidth": 2,
            "linecolor": "white",
            "showbackground": true,
            "ticks": "",
            "zerolinecolor": "white"
           }
          },
          "shapedefaults": {
           "line": {
            "color": "#2a3f5f"
           }
          },
          "ternary": {
           "aaxis": {
            "gridcolor": "white",
            "linecolor": "white",
            "ticks": ""
           },
           "baxis": {
            "gridcolor": "white",
            "linecolor": "white",
            "ticks": ""
           },
           "bgcolor": "#E5ECF6",
           "caxis": {
            "gridcolor": "white",
            "linecolor": "white",
            "ticks": ""
           }
          },
          "title": {
           "x": 0.05
          },
          "xaxis": {
           "automargin": true,
           "gridcolor": "white",
           "linecolor": "white",
           "ticks": "",
           "title": {
            "standoff": 15
           },
           "zerolinecolor": "white",
           "zerolinewidth": 2
          },
          "yaxis": {
           "automargin": true,
           "gridcolor": "white",
           "linecolor": "white",
           "ticks": "",
           "title": {
            "standoff": 15
           },
           "zerolinecolor": "white",
           "zerolinewidth": 2
          }
         }
        }
       }
      },
      "text/html": [
       "<div>                            <div id=\"0056ca9d-5fc1-4d29-b8bd-b712c75e1fd6\" class=\"plotly-graph-div\" style=\"height:525px; width:100%;\"></div>            <script type=\"text/javascript\">                require([\"plotly\"], function(Plotly) {                    window.PLOTLYENV=window.PLOTLYENV || {};                                    if (document.getElementById(\"0056ca9d-5fc1-4d29-b8bd-b712c75e1fd6\")) {                    Plotly.newPlot(                        \"0056ca9d-5fc1-4d29-b8bd-b712c75e1fd6\",                        [{\"hovertemplate\": \"x0=%{x}<br>x1=%{y}<br>x2=%{z}<extra></extra>\", \"legendgroup\": \"\", \"marker\": {\"color\": \"#636efa\", \"symbol\": \"circle\"}, \"mode\": \"markers\", \"name\": \"\", \"scene\": \"scene\", \"showlegend\": false, \"type\": \"scatter3d\", \"x\": [-10.282544136047363, -27.28460693359375, -33.811737060546875, 28.305986404418945, 1.216386318206787, 7.800750732421875, 4.047580242156982, -22.340282440185547, -13.72254753112793, 0.9143197536468506, 11.377936363220215, -6.049320220947266, -18.472137451171875, 5.23144006729126, -14.58596420288086, -25.18048095703125, -21.33672523498535, -27.3912353515625, 10.72272777557373, -32.112571716308594, 12.20594310760498, -22.59006690979004, 6.559144020080566, 7.15255880355835, -30.862201690673828, -3.227771520614624, -4.296969890594482, 16.4634952545166, 21.372343063354492, -18.22385597229004, 21.292131423950195, -29.025672912597656, -27.77157211303711, -27.146568298339844, -25.970218658447266, 18.679019927978516, 14.219969749450684, -5.660981178283691, 4.564764022827148, -6.190901756286621, -7.183500289916992, -3.734499931335449, 11.882675170898438, -26.040401458740234, -20.854915618896484, -8.639400482177734, 6.455092430114746, 10.07215690612793, -21.786638259887695, 7.168974876403809, 15.127103805541992, 4.090364933013916], \"y\": [17.726659774780273, 29.09257698059082, 24.875694274902344, -29.06460189819336, 14.191756248474121, -22.40517807006836, -3.4191553592681885, 15.289070129394531, 10.437580108642578, -4.3726301193237305, -24.265687942504883, 6.470673084259033, 9.826269149780273, -11.216261863708496, -6.649245262145996, 29.164112091064453, 1.5182706117630005, -5.4538893699646, -20.288799285888672, 20.93588638305664, -14.034098625183105, -28.804367065429688, 30.403501510620117, -25.565589904785156, 30.96394157409668, -3.758161783218384, -18.873592376708984, -28.288713455200195, -33.33740234375, 2.603642702102661, 16.949522018432617, 25.920930862426758, -24.87555694580078, 28.754188537597656, -28.542234420776367, -28.034732818603516, -28.71390724182129, -4.280957221984863, -16.090314865112305, 12.875905990600586, 0.16004104912281036, -4.015754222869873, 7.8759446144104, 31.26640510559082, -21.767662048339844, 26.399980545043945, 8.682930946350098, 33.65842056274414, -11.946667671203613, 19.15669822692871, 1.5999070405960083, -28.60540771484375], \"z\": [-28.353355407714844, 14.8692626953125, 32.54549789428711, -29.3358097076416, 28.66283416748047, 21.950244903564453, 14.50936222076416, 5.109539985656738, 5.889629364013672, 18.48543357849121, 1.4002350568771362, 0.9009798765182495, 8.376100540161133, -7.9410719871521, -1.3484708070755005, -8.195347785949707, 6.245172023773193, 25.939746856689453, -9.606463432312012, 21.963634490966797, -8.20451545715332, 19.80562400817871, 24.769107818603516, 14.062935829162598, 20.430591583251953, -21.679967880249023, 16.15061378479004, -3.186367988586426, -31.52379608154297, 19.781171798706055, 31.477731704711914, -1.271475911140442, 15.242050170898438, 15.597110748291016, -10.165035247802734, -11.713628768920898, -4.814000606536865, -28.990812301635742, 13.188407897949219, 18.45534896850586, 21.942384719848633, 16.027305603027344, -22.79541778564453, 35.00323486328125, -4.121817588806152, 24.180830001831055, 25.889331817626953, 31.724592208862305, -4.569664478302002, 34.02423095703125, 27.446073532104492, 10.654050827026367]}],                        {\"legend\": {\"tracegroupgap\": 0}, \"margin\": {\"t\": 60}, \"scene\": {\"domain\": {\"x\": [0.0, 1.0], \"y\": [0.0, 1.0]}, \"xaxis\": {\"title\": {\"text\": \"x0\"}}, \"yaxis\": {\"title\": {\"text\": \"x1\"}}, \"zaxis\": {\"title\": {\"text\": \"x2\"}}}, \"template\": {\"data\": {\"bar\": [{\"error_x\": {\"color\": \"#2a3f5f\"}, \"error_y\": {\"color\": \"#2a3f5f\"}, \"marker\": {\"line\": {\"color\": \"#E5ECF6\", \"width\": 0.5}}, \"type\": \"bar\"}], \"barpolar\": [{\"marker\": {\"line\": {\"color\": \"#E5ECF6\", \"width\": 0.5}}, \"type\": \"barpolar\"}], \"carpet\": [{\"aaxis\": {\"endlinecolor\": \"#2a3f5f\", \"gridcolor\": \"white\", \"linecolor\": \"white\", \"minorgridcolor\": \"white\", \"startlinecolor\": \"#2a3f5f\"}, \"baxis\": {\"endlinecolor\": \"#2a3f5f\", \"gridcolor\": \"white\", \"linecolor\": \"white\", \"minorgridcolor\": \"white\", \"startlinecolor\": \"#2a3f5f\"}, \"type\": \"carpet\"}], \"choropleth\": [{\"colorbar\": {\"outlinewidth\": 0, \"ticks\": \"\"}, \"type\": \"choropleth\"}], \"contour\": [{\"colorbar\": {\"outlinewidth\": 0, \"ticks\": \"\"}, \"colorscale\": [[0.0, \"#0d0887\"], [0.1111111111111111, \"#46039f\"], [0.2222222222222222, \"#7201a8\"], [0.3333333333333333, \"#9c179e\"], [0.4444444444444444, \"#bd3786\"], [0.5555555555555556, \"#d8576b\"], [0.6666666666666666, \"#ed7953\"], [0.7777777777777778, \"#fb9f3a\"], [0.8888888888888888, \"#fdca26\"], [1.0, \"#f0f921\"]], \"type\": \"contour\"}], \"contourcarpet\": [{\"colorbar\": {\"outlinewidth\": 0, \"ticks\": \"\"}, \"type\": \"contourcarpet\"}], \"heatmap\": [{\"colorbar\": {\"outlinewidth\": 0, \"ticks\": \"\"}, \"colorscale\": [[0.0, \"#0d0887\"], [0.1111111111111111, \"#46039f\"], [0.2222222222222222, \"#7201a8\"], [0.3333333333333333, \"#9c179e\"], [0.4444444444444444, \"#bd3786\"], [0.5555555555555556, \"#d8576b\"], [0.6666666666666666, \"#ed7953\"], [0.7777777777777778, \"#fb9f3a\"], [0.8888888888888888, \"#fdca26\"], [1.0, \"#f0f921\"]], \"type\": \"heatmap\"}], \"heatmapgl\": [{\"colorbar\": {\"outlinewidth\": 0, \"ticks\": \"\"}, \"colorscale\": [[0.0, \"#0d0887\"], [0.1111111111111111, \"#46039f\"], [0.2222222222222222, \"#7201a8\"], [0.3333333333333333, \"#9c179e\"], [0.4444444444444444, \"#bd3786\"], [0.5555555555555556, \"#d8576b\"], [0.6666666666666666, \"#ed7953\"], [0.7777777777777778, \"#fb9f3a\"], [0.8888888888888888, \"#fdca26\"], [1.0, \"#f0f921\"]], \"type\": \"heatmapgl\"}], \"histogram\": [{\"marker\": {\"colorbar\": {\"outlinewidth\": 0, \"ticks\": \"\"}}, \"type\": \"histogram\"}], \"histogram2d\": [{\"colorbar\": {\"outlinewidth\": 0, \"ticks\": \"\"}, \"colorscale\": [[0.0, \"#0d0887\"], [0.1111111111111111, \"#46039f\"], [0.2222222222222222, \"#7201a8\"], [0.3333333333333333, \"#9c179e\"], [0.4444444444444444, \"#bd3786\"], [0.5555555555555556, \"#d8576b\"], [0.6666666666666666, \"#ed7953\"], [0.7777777777777778, \"#fb9f3a\"], [0.8888888888888888, \"#fdca26\"], [1.0, \"#f0f921\"]], \"type\": \"histogram2d\"}], \"histogram2dcontour\": [{\"colorbar\": {\"outlinewidth\": 0, \"ticks\": \"\"}, \"colorscale\": [[0.0, \"#0d0887\"], [0.1111111111111111, \"#46039f\"], [0.2222222222222222, \"#7201a8\"], [0.3333333333333333, \"#9c179e\"], [0.4444444444444444, \"#bd3786\"], [0.5555555555555556, \"#d8576b\"], [0.6666666666666666, \"#ed7953\"], [0.7777777777777778, \"#fb9f3a\"], [0.8888888888888888, \"#fdca26\"], [1.0, \"#f0f921\"]], \"type\": \"histogram2dcontour\"}], \"mesh3d\": [{\"colorbar\": {\"outlinewidth\": 0, \"ticks\": \"\"}, \"type\": \"mesh3d\"}], \"parcoords\": [{\"line\": {\"colorbar\": {\"outlinewidth\": 0, \"ticks\": \"\"}}, \"type\": \"parcoords\"}], \"pie\": [{\"automargin\": true, \"type\": \"pie\"}], \"scatter\": [{\"marker\": {\"colorbar\": {\"outlinewidth\": 0, \"ticks\": \"\"}}, \"type\": \"scatter\"}], \"scatter3d\": [{\"line\": {\"colorbar\": {\"outlinewidth\": 0, \"ticks\": \"\"}}, \"marker\": {\"colorbar\": {\"outlinewidth\": 0, \"ticks\": \"\"}}, \"type\": \"scatter3d\"}], \"scattercarpet\": [{\"marker\": {\"colorbar\": {\"outlinewidth\": 0, \"ticks\": \"\"}}, \"type\": \"scattercarpet\"}], \"scattergeo\": [{\"marker\": {\"colorbar\": {\"outlinewidth\": 0, \"ticks\": \"\"}}, \"type\": \"scattergeo\"}], \"scattergl\": [{\"marker\": {\"colorbar\": {\"outlinewidth\": 0, \"ticks\": \"\"}}, \"type\": \"scattergl\"}], \"scattermapbox\": [{\"marker\": {\"colorbar\": {\"outlinewidth\": 0, \"ticks\": \"\"}}, \"type\": \"scattermapbox\"}], \"scatterpolar\": [{\"marker\": {\"colorbar\": {\"outlinewidth\": 0, \"ticks\": \"\"}}, \"type\": \"scatterpolar\"}], \"scatterpolargl\": [{\"marker\": {\"colorbar\": {\"outlinewidth\": 0, \"ticks\": \"\"}}, \"type\": \"scatterpolargl\"}], \"scatterternary\": [{\"marker\": {\"colorbar\": {\"outlinewidth\": 0, \"ticks\": \"\"}}, \"type\": \"scatterternary\"}], \"surface\": [{\"colorbar\": {\"outlinewidth\": 0, \"ticks\": \"\"}, \"colorscale\": [[0.0, \"#0d0887\"], [0.1111111111111111, \"#46039f\"], [0.2222222222222222, \"#7201a8\"], [0.3333333333333333, \"#9c179e\"], [0.4444444444444444, \"#bd3786\"], [0.5555555555555556, \"#d8576b\"], [0.6666666666666666, \"#ed7953\"], [0.7777777777777778, \"#fb9f3a\"], [0.8888888888888888, \"#fdca26\"], [1.0, \"#f0f921\"]], \"type\": \"surface\"}], \"table\": [{\"cells\": {\"fill\": {\"color\": \"#EBF0F8\"}, \"line\": {\"color\": \"white\"}}, \"header\": {\"fill\": {\"color\": \"#C8D4E3\"}, \"line\": {\"color\": \"white\"}}, \"type\": \"table\"}]}, \"layout\": {\"annotationdefaults\": {\"arrowcolor\": \"#2a3f5f\", \"arrowhead\": 0, \"arrowwidth\": 1}, \"autotypenumbers\": \"strict\", \"coloraxis\": {\"colorbar\": {\"outlinewidth\": 0, \"ticks\": \"\"}}, \"colorscale\": {\"diverging\": [[0, \"#8e0152\"], [0.1, \"#c51b7d\"], [0.2, \"#de77ae\"], [0.3, \"#f1b6da\"], [0.4, \"#fde0ef\"], [0.5, \"#f7f7f7\"], [0.6, \"#e6f5d0\"], [0.7, \"#b8e186\"], [0.8, \"#7fbc41\"], [0.9, \"#4d9221\"], [1, \"#276419\"]], \"sequential\": [[0.0, \"#0d0887\"], [0.1111111111111111, \"#46039f\"], [0.2222222222222222, \"#7201a8\"], [0.3333333333333333, \"#9c179e\"], [0.4444444444444444, \"#bd3786\"], [0.5555555555555556, \"#d8576b\"], [0.6666666666666666, \"#ed7953\"], [0.7777777777777778, \"#fb9f3a\"], [0.8888888888888888, \"#fdca26\"], [1.0, \"#f0f921\"]], \"sequentialminus\": [[0.0, \"#0d0887\"], [0.1111111111111111, \"#46039f\"], [0.2222222222222222, \"#7201a8\"], [0.3333333333333333, \"#9c179e\"], [0.4444444444444444, \"#bd3786\"], [0.5555555555555556, \"#d8576b\"], [0.6666666666666666, \"#ed7953\"], [0.7777777777777778, \"#fb9f3a\"], [0.8888888888888888, \"#fdca26\"], [1.0, \"#f0f921\"]]}, \"colorway\": [\"#636efa\", \"#EF553B\", \"#00cc96\", \"#ab63fa\", \"#FFA15A\", \"#19d3f3\", \"#FF6692\", \"#B6E880\", \"#FF97FF\", \"#FECB52\"], \"font\": {\"color\": \"#2a3f5f\"}, \"geo\": {\"bgcolor\": \"white\", \"lakecolor\": \"white\", \"landcolor\": \"#E5ECF6\", \"showlakes\": true, \"showland\": true, \"subunitcolor\": \"white\"}, \"hoverlabel\": {\"align\": \"left\"}, \"hovermode\": \"closest\", \"mapbox\": {\"style\": \"light\"}, \"paper_bgcolor\": \"white\", \"plot_bgcolor\": \"#E5ECF6\", \"polar\": {\"angularaxis\": {\"gridcolor\": \"white\", \"linecolor\": \"white\", \"ticks\": \"\"}, \"bgcolor\": \"#E5ECF6\", \"radialaxis\": {\"gridcolor\": \"white\", \"linecolor\": \"white\", \"ticks\": \"\"}}, \"scene\": {\"xaxis\": {\"backgroundcolor\": \"#E5ECF6\", \"gridcolor\": \"white\", \"gridwidth\": 2, \"linecolor\": \"white\", \"showbackground\": true, \"ticks\": \"\", \"zerolinecolor\": \"white\"}, \"yaxis\": {\"backgroundcolor\": \"#E5ECF6\", \"gridcolor\": \"white\", \"gridwidth\": 2, \"linecolor\": \"white\", \"showbackground\": true, \"ticks\": \"\", \"zerolinecolor\": \"white\"}, \"zaxis\": {\"backgroundcolor\": \"#E5ECF6\", \"gridcolor\": \"white\", \"gridwidth\": 2, \"linecolor\": \"white\", \"showbackground\": true, \"ticks\": \"\", \"zerolinecolor\": \"white\"}}, \"shapedefaults\": {\"line\": {\"color\": \"#2a3f5f\"}}, \"ternary\": {\"aaxis\": {\"gridcolor\": \"white\", \"linecolor\": \"white\", \"ticks\": \"\"}, \"baxis\": {\"gridcolor\": \"white\", \"linecolor\": \"white\", \"ticks\": \"\"}, \"bgcolor\": \"#E5ECF6\", \"caxis\": {\"gridcolor\": \"white\", \"linecolor\": \"white\", \"ticks\": \"\"}}, \"title\": {\"x\": 0.05}, \"xaxis\": {\"automargin\": true, \"gridcolor\": \"white\", \"linecolor\": \"white\", \"ticks\": \"\", \"title\": {\"standoff\": 15}, \"zerolinecolor\": \"white\", \"zerolinewidth\": 2}, \"yaxis\": {\"automargin\": true, \"gridcolor\": \"white\", \"linecolor\": \"white\", \"ticks\": \"\", \"title\": {\"standoff\": 15}, \"zerolinecolor\": \"white\", \"zerolinewidth\": 2}}}},                        {\"responsive\": true}                    ).then(function(){\n",
       "                            \n",
       "var gd = document.getElementById('0056ca9d-5fc1-4d29-b8bd-b712c75e1fd6');\n",
       "var x = new MutationObserver(function (mutations, observer) {{\n",
       "        var display = window.getComputedStyle(gd).display;\n",
       "        if (!display || display === 'none') {{\n",
       "            console.log([gd, 'removed!']);\n",
       "            Plotly.purge(gd);\n",
       "            observer.disconnect();\n",
       "        }}\n",
       "}});\n",
       "\n",
       "// Listen for the removal of the full notebook cells\n",
       "var notebookContainer = gd.closest('#notebook-container');\n",
       "if (notebookContainer) {{\n",
       "    x.observe(notebookContainer, {childList: true});\n",
       "}}\n",
       "\n",
       "// Listen for the clearing of the current output cell\n",
       "var outputEl = gd.closest('.output');\n",
       "if (outputEl) {{\n",
       "    x.observe(outputEl, {childList: true});\n",
       "}}\n",
       "\n",
       "                        })                };                });            </script>        </div>"
      ]
     },
     "metadata": {},
     "output_type": "display_data"
    }
   ],
   "source": [
    "print(f'Number of points: {db_sample_df.shape}')\n",
    "\n",
    "fig = px.scatter_3d(db_sample_df[:1000], x='x0', y='x1', z='x2')\n",
    "fig.show()"
   ]
  },
  {
   "cell_type": "code",
   "execution_count": null,
   "metadata": {},
   "outputs": [],
   "source": [
    "db_sample_df.to_csv('DB_3d_MNIST.csv')"
   ]
  },
  {
   "cell_type": "code",
   "execution_count": 51,
   "metadata": {},
   "outputs": [
    {
     "name": "stdout",
     "output_type": "stream",
     "text": [
      "Number of points: (106, 3)\n"
     ]
    },
    {
     "data": {
      "application/vnd.plotly.v1+json": {
       "config": {
        "plotlyServerURL": "https://plot.ly"
       },
       "data": [
        {
         "hovertemplate": "x0=%{x}<br>x1=%{y}<br>x2=%{z}<extra></extra>",
         "legendgroup": "",
         "marker": {
          "color": "#636efa",
          "symbol": "circle"
         },
         "mode": "markers",
         "name": "",
         "scene": "scene",
         "showlegend": false,
         "type": "scatter3d",
         "x": [
          19.239654541015625,
          -30.214553833007812,
          -19.980541229248047,
          -19.230247497558594,
          -18.665088653564453,
          11.807743072509766,
          16.840078353881836,
          -19.317110061645508,
          -51.8192138671875,
          4.0145955085754395,
          15.791741371154785,
          14.83867359161377,
          -9.53484058380127,
          19.71636390686035,
          11.16198444366455,
          -34.6403923034668,
          -38.3023681640625,
          -10.576807975769043,
          21.94754409790039,
          -26.933612823486328,
          11.662528991699219,
          21.54416847229004,
          18.92066192626953,
          22.527599334716797,
          9.876812934875488,
          28.83673858642578,
          32.4459114074707,
          21.91065788269043,
          -17.897403717041016,
          -3.4171934127807617,
          35.7183723449707,
          -13.332934379577637,
          -42.28324508666992,
          -5.0580854415893555,
          3.615084171295166,
          -19.57041358947754,
          11.679457664489746,
          24.17938804626465,
          22.423919677734375,
          39.075172424316406,
          -31.540307998657227,
          -31.972034454345703,
          -18.63327407836914,
          -7.1139631271362305,
          -6.41195821762085,
          5.789811134338379,
          -10.98792552947998,
          17.620182037353516,
          9.466997146606445,
          -38.18135070800781,
          23.966354370117188,
          22.717771530151367,
          -19.566757202148438,
          -37.1947135925293,
          15.883633613586426,
          5.5532965660095215,
          -34.722801208496094,
          2.9691243171691895,
          0.262107789516449,
          -10.944779396057129,
          -26.076332092285156,
          2.962583303451538,
          9.177228927612305,
          -5.872618675231934,
          -4.196045875549316,
          -8.42429256439209,
          11.287345886230469,
          23.097192764282227,
          -0.5264502763748169,
          -20.506460189819336,
          1.5228475332260132,
          0.6229628324508667,
          -21.03496551513672,
          1.7500237226486206,
          0.15693974494934082,
          -2.1227753162384033,
          16.468730926513672,
          -16.708297729492188,
          32.793827056884766,
          -8.087067604064941,
          -64.4951400756836,
          10.402259826660156,
          16.082656860351562,
          -33.14274978637695,
          -25.572338104248047,
          -11.453144073486328,
          -12.673238754272461,
          1.0576286315917969,
          10.773589134216309,
          3.7740888595581055,
          -14.195639610290527,
          -35.133514404296875,
          -13.180327415466309,
          -5.368241786956787,
          15.188639640808105,
          7.924132347106934,
          26.149030685424805,
          -20.478487014770508,
          -16.288780212402344,
          -0.2595553398132324,
          -9.390742301940918,
          -16.580768585205078,
          -19.956022262573242,
          1.7532823085784912,
          6.970976829528809,
          33.381710052490234
         ],
         "y": [
          28.200271606445312,
          -10.159319877624512,
          -31.861499786376953,
          19.772188186645508,
          18.05179214477539,
          -31.000932693481445,
          -26.18259048461914,
          9.586624145507812,
          0.9408184289932251,
          -2.459398031234741,
          -13.29138469696045,
          -27.776687622070312,
          -1.321563720703125,
          1.0561809539794922,
          -19.551576614379883,
          -21.089611053466797,
          0.8712317943572998,
          -38.504791259765625,
          -2.2241644859313965,
          28.581594467163086,
          19.533519744873047,
          -28.37994384765625,
          -33.88177490234375,
          16.997316360473633,
          -19.180858612060547,
          29.87217903137207,
          5.388037204742432,
          5.894099712371826,
          -14.32213020324707,
          9.83974552154541,
          28.14579963684082,
          -17.326194763183594,
          37.552555084228516,
          -15.579249382019043,
          20.44489097595215,
          -28.17951202392578,
          -11.01443099975586,
          -36.711788177490234,
          -21.684406280517578,
          -5.191462516784668,
          2.4235405921936035,
          19.5524845123291,
          -21.38707733154297,
          -24.389589309692383,
          -7.907264709472656,
          -4.978616714477539,
          -14.906881332397461,
          -2.308816432952881,
          -32.48134994506836,
          36.4105110168457,
          4.389291763305664,
          -38.0097541809082,
          1.1876987218856812,
          40.73971939086914,
          15.067594528198242,
          15.701761245727539,
          34.67240524291992,
          25.10228729248047,
          -3.6378650665283203,
          -14.273575782775879,
          16.76898956298828,
          23.85988998413086,
          -31.70090675354004,
          -22.113431930541992,
          20.80821990966797,
          28.351226806640625,
          -31.780725479125977,
          -6.485334396362305,
          34.07459259033203,
          0.42955997586250305,
          -30.82329750061035,
          30.99334716796875,
          -23.2517147064209,
          33.706241607666016,
          14.49933910369873,
          -32.433956146240234,
          20.77708625793457,
          19.455745697021484,
          30.45807647705078,
          -22.54670524597168,
          -37.59484100341797,
          -3.7966525554656982,
          -25.838909149169922,
          -22.081253051757812,
          -36.10100173950195,
          22.103944778442383,
          5.144248008728027,
          2.4294652938842773,
          -29.692907333374023,
          -4.1819167137146,
          -35.13793182373047,
          40.025169372558594,
          24.965126037597656,
          -32.105857849121094,
          8.813606262207031,
          -12.367501258850098,
          2.6793882846832275,
          -26.870115280151367,
          2.86470890045166,
          31.84398078918457,
          -9.813952445983887,
          1.0405290126800537,
          14.884310722351074,
          25.454931259155273,
          24.390012741088867,
          -60.25160217285156
         ],
         "z": [
          -4.950960159301758,
          -3.8119800090789795,
          -13.057583808898926,
          -4.615029811859131,
          -3.4719700813293457,
          1.1945838928222656,
          -7.27700662612915,
          -41.871673583984375,
          10.400651931762695,
          12.687010765075684,
          -22.600948333740234,
          -14.908946990966797,
          -35.36684799194336,
          18.695476531982422,
          -14.711153030395508,
          -7.851142406463623,
          7.8021979331970215,
          -10.11655330657959,
          23.276575088500977,
          15.139469146728516,
          33.46267318725586,
          -14.300259590148926,
          -21.719274520874023,
          -6.30016565322876,
          30.327871322631836,
          -13.95661449432373,
          -32.4907341003418,
          35.7867317199707,
          -3.3389039039611816,
          12.14349365234375,
          -16.529285430908203,
          23.68992042541504,
          -11.06197452545166,
          18.24269676208496,
          20.03379249572754,
          24.025358200073242,
          -16.86874771118164,
          -15.392500877380371,
          -28.800621032714844,
          42.09877014160156,
          9.837996482849121,
          7.085812091827393,
          18.375186920166016,
          18.03493881225586,
          21.634748458862305,
          -26.204952239990234,
          19.80584144592285,
          -21.897571563720703,
          16.811065673828125,
          -11.105313301086426,
          -24.614727020263672,
          -28.840492248535156,
          21.10658836364746,
          -12.763696670532227,
          -16.376611709594727,
          -20.495702743530273,
          -10.607813835144043,
          23.147502899169922,
          -17.102333068847656,
          19.833070755004883,
          5.303028106689453,
          -5.903030872344971,
          16.42306900024414,
          -3.847114324569702,
          -24.845691680908203,
          -11.748297691345215,
          22.645095825195312,
          -28.83568572998047,
          24.558191299438477,
          21.175867080688477,
          11.092366218566895,
          32.44044876098633,
          17.214122772216797,
          -16.764755249023438,
          -18.39082908630371,
          -5.828402996063232,
          31.593090057373047,
          1.8846194744110107,
          -15.595630645751953,
          5.058797836303711,
          -13.073055267333984,
          20.94780921936035,
          -5.611969947814941,
          18.2047176361084,
          -16.062042236328125,
          0.43584731221199036,
          15.768383979797363,
          33.389949798583984,
          23.68901824951172,
          29.980247497558594,
          26.67324447631836,
          -12.392383575439453,
          10.52178955078125,
          1.889743447303772,
          32.801448822021484,
          32.45029067993164,
          -28.840606689453125,
          -0.4883566200733185,
          19.078536987304688,
          14.999964714050293,
          25.805194854736328,
          22.94367027282715,
          -43.82991409301758,
          14.081329345703125,
          -10.035035133361816,
          -28.51333236694336
         ]
        }
       ],
       "layout": {
        "legend": {
         "tracegroupgap": 0
        },
        "margin": {
         "t": 60
        },
        "scene": {
         "domain": {
          "x": [
           0,
           1
          ],
          "y": [
           0,
           1
          ]
         },
         "xaxis": {
          "title": {
           "text": "x0"
          }
         },
         "yaxis": {
          "title": {
           "text": "x1"
          }
         },
         "zaxis": {
          "title": {
           "text": "x2"
          }
         }
        },
        "template": {
         "data": {
          "bar": [
           {
            "error_x": {
             "color": "#2a3f5f"
            },
            "error_y": {
             "color": "#2a3f5f"
            },
            "marker": {
             "line": {
              "color": "#E5ECF6",
              "width": 0.5
             }
            },
            "type": "bar"
           }
          ],
          "barpolar": [
           {
            "marker": {
             "line": {
              "color": "#E5ECF6",
              "width": 0.5
             }
            },
            "type": "barpolar"
           }
          ],
          "carpet": [
           {
            "aaxis": {
             "endlinecolor": "#2a3f5f",
             "gridcolor": "white",
             "linecolor": "white",
             "minorgridcolor": "white",
             "startlinecolor": "#2a3f5f"
            },
            "baxis": {
             "endlinecolor": "#2a3f5f",
             "gridcolor": "white",
             "linecolor": "white",
             "minorgridcolor": "white",
             "startlinecolor": "#2a3f5f"
            },
            "type": "carpet"
           }
          ],
          "choropleth": [
           {
            "colorbar": {
             "outlinewidth": 0,
             "ticks": ""
            },
            "type": "choropleth"
           }
          ],
          "contour": [
           {
            "colorbar": {
             "outlinewidth": 0,
             "ticks": ""
            },
            "colorscale": [
             [
              0,
              "#0d0887"
             ],
             [
              0.1111111111111111,
              "#46039f"
             ],
             [
              0.2222222222222222,
              "#7201a8"
             ],
             [
              0.3333333333333333,
              "#9c179e"
             ],
             [
              0.4444444444444444,
              "#bd3786"
             ],
             [
              0.5555555555555556,
              "#d8576b"
             ],
             [
              0.6666666666666666,
              "#ed7953"
             ],
             [
              0.7777777777777778,
              "#fb9f3a"
             ],
             [
              0.8888888888888888,
              "#fdca26"
             ],
             [
              1,
              "#f0f921"
             ]
            ],
            "type": "contour"
           }
          ],
          "contourcarpet": [
           {
            "colorbar": {
             "outlinewidth": 0,
             "ticks": ""
            },
            "type": "contourcarpet"
           }
          ],
          "heatmap": [
           {
            "colorbar": {
             "outlinewidth": 0,
             "ticks": ""
            },
            "colorscale": [
             [
              0,
              "#0d0887"
             ],
             [
              0.1111111111111111,
              "#46039f"
             ],
             [
              0.2222222222222222,
              "#7201a8"
             ],
             [
              0.3333333333333333,
              "#9c179e"
             ],
             [
              0.4444444444444444,
              "#bd3786"
             ],
             [
              0.5555555555555556,
              "#d8576b"
             ],
             [
              0.6666666666666666,
              "#ed7953"
             ],
             [
              0.7777777777777778,
              "#fb9f3a"
             ],
             [
              0.8888888888888888,
              "#fdca26"
             ],
             [
              1,
              "#f0f921"
             ]
            ],
            "type": "heatmap"
           }
          ],
          "heatmapgl": [
           {
            "colorbar": {
             "outlinewidth": 0,
             "ticks": ""
            },
            "colorscale": [
             [
              0,
              "#0d0887"
             ],
             [
              0.1111111111111111,
              "#46039f"
             ],
             [
              0.2222222222222222,
              "#7201a8"
             ],
             [
              0.3333333333333333,
              "#9c179e"
             ],
             [
              0.4444444444444444,
              "#bd3786"
             ],
             [
              0.5555555555555556,
              "#d8576b"
             ],
             [
              0.6666666666666666,
              "#ed7953"
             ],
             [
              0.7777777777777778,
              "#fb9f3a"
             ],
             [
              0.8888888888888888,
              "#fdca26"
             ],
             [
              1,
              "#f0f921"
             ]
            ],
            "type": "heatmapgl"
           }
          ],
          "histogram": [
           {
            "marker": {
             "colorbar": {
              "outlinewidth": 0,
              "ticks": ""
             }
            },
            "type": "histogram"
           }
          ],
          "histogram2d": [
           {
            "colorbar": {
             "outlinewidth": 0,
             "ticks": ""
            },
            "colorscale": [
             [
              0,
              "#0d0887"
             ],
             [
              0.1111111111111111,
              "#46039f"
             ],
             [
              0.2222222222222222,
              "#7201a8"
             ],
             [
              0.3333333333333333,
              "#9c179e"
             ],
             [
              0.4444444444444444,
              "#bd3786"
             ],
             [
              0.5555555555555556,
              "#d8576b"
             ],
             [
              0.6666666666666666,
              "#ed7953"
             ],
             [
              0.7777777777777778,
              "#fb9f3a"
             ],
             [
              0.8888888888888888,
              "#fdca26"
             ],
             [
              1,
              "#f0f921"
             ]
            ],
            "type": "histogram2d"
           }
          ],
          "histogram2dcontour": [
           {
            "colorbar": {
             "outlinewidth": 0,
             "ticks": ""
            },
            "colorscale": [
             [
              0,
              "#0d0887"
             ],
             [
              0.1111111111111111,
              "#46039f"
             ],
             [
              0.2222222222222222,
              "#7201a8"
             ],
             [
              0.3333333333333333,
              "#9c179e"
             ],
             [
              0.4444444444444444,
              "#bd3786"
             ],
             [
              0.5555555555555556,
              "#d8576b"
             ],
             [
              0.6666666666666666,
              "#ed7953"
             ],
             [
              0.7777777777777778,
              "#fb9f3a"
             ],
             [
              0.8888888888888888,
              "#fdca26"
             ],
             [
              1,
              "#f0f921"
             ]
            ],
            "type": "histogram2dcontour"
           }
          ],
          "mesh3d": [
           {
            "colorbar": {
             "outlinewidth": 0,
             "ticks": ""
            },
            "type": "mesh3d"
           }
          ],
          "parcoords": [
           {
            "line": {
             "colorbar": {
              "outlinewidth": 0,
              "ticks": ""
             }
            },
            "type": "parcoords"
           }
          ],
          "pie": [
           {
            "automargin": true,
            "type": "pie"
           }
          ],
          "scatter": [
           {
            "marker": {
             "colorbar": {
              "outlinewidth": 0,
              "ticks": ""
             }
            },
            "type": "scatter"
           }
          ],
          "scatter3d": [
           {
            "line": {
             "colorbar": {
              "outlinewidth": 0,
              "ticks": ""
             }
            },
            "marker": {
             "colorbar": {
              "outlinewidth": 0,
              "ticks": ""
             }
            },
            "type": "scatter3d"
           }
          ],
          "scattercarpet": [
           {
            "marker": {
             "colorbar": {
              "outlinewidth": 0,
              "ticks": ""
             }
            },
            "type": "scattercarpet"
           }
          ],
          "scattergeo": [
           {
            "marker": {
             "colorbar": {
              "outlinewidth": 0,
              "ticks": ""
             }
            },
            "type": "scattergeo"
           }
          ],
          "scattergl": [
           {
            "marker": {
             "colorbar": {
              "outlinewidth": 0,
              "ticks": ""
             }
            },
            "type": "scattergl"
           }
          ],
          "scattermapbox": [
           {
            "marker": {
             "colorbar": {
              "outlinewidth": 0,
              "ticks": ""
             }
            },
            "type": "scattermapbox"
           }
          ],
          "scatterpolar": [
           {
            "marker": {
             "colorbar": {
              "outlinewidth": 0,
              "ticks": ""
             }
            },
            "type": "scatterpolar"
           }
          ],
          "scatterpolargl": [
           {
            "marker": {
             "colorbar": {
              "outlinewidth": 0,
              "ticks": ""
             }
            },
            "type": "scatterpolargl"
           }
          ],
          "scatterternary": [
           {
            "marker": {
             "colorbar": {
              "outlinewidth": 0,
              "ticks": ""
             }
            },
            "type": "scatterternary"
           }
          ],
          "surface": [
           {
            "colorbar": {
             "outlinewidth": 0,
             "ticks": ""
            },
            "colorscale": [
             [
              0,
              "#0d0887"
             ],
             [
              0.1111111111111111,
              "#46039f"
             ],
             [
              0.2222222222222222,
              "#7201a8"
             ],
             [
              0.3333333333333333,
              "#9c179e"
             ],
             [
              0.4444444444444444,
              "#bd3786"
             ],
             [
              0.5555555555555556,
              "#d8576b"
             ],
             [
              0.6666666666666666,
              "#ed7953"
             ],
             [
              0.7777777777777778,
              "#fb9f3a"
             ],
             [
              0.8888888888888888,
              "#fdca26"
             ],
             [
              1,
              "#f0f921"
             ]
            ],
            "type": "surface"
           }
          ],
          "table": [
           {
            "cells": {
             "fill": {
              "color": "#EBF0F8"
             },
             "line": {
              "color": "white"
             }
            },
            "header": {
             "fill": {
              "color": "#C8D4E3"
             },
             "line": {
              "color": "white"
             }
            },
            "type": "table"
           }
          ]
         },
         "layout": {
          "annotationdefaults": {
           "arrowcolor": "#2a3f5f",
           "arrowhead": 0,
           "arrowwidth": 1
          },
          "autotypenumbers": "strict",
          "coloraxis": {
           "colorbar": {
            "outlinewidth": 0,
            "ticks": ""
           }
          },
          "colorscale": {
           "diverging": [
            [
             0,
             "#8e0152"
            ],
            [
             0.1,
             "#c51b7d"
            ],
            [
             0.2,
             "#de77ae"
            ],
            [
             0.3,
             "#f1b6da"
            ],
            [
             0.4,
             "#fde0ef"
            ],
            [
             0.5,
             "#f7f7f7"
            ],
            [
             0.6,
             "#e6f5d0"
            ],
            [
             0.7,
             "#b8e186"
            ],
            [
             0.8,
             "#7fbc41"
            ],
            [
             0.9,
             "#4d9221"
            ],
            [
             1,
             "#276419"
            ]
           ],
           "sequential": [
            [
             0,
             "#0d0887"
            ],
            [
             0.1111111111111111,
             "#46039f"
            ],
            [
             0.2222222222222222,
             "#7201a8"
            ],
            [
             0.3333333333333333,
             "#9c179e"
            ],
            [
             0.4444444444444444,
             "#bd3786"
            ],
            [
             0.5555555555555556,
             "#d8576b"
            ],
            [
             0.6666666666666666,
             "#ed7953"
            ],
            [
             0.7777777777777778,
             "#fb9f3a"
            ],
            [
             0.8888888888888888,
             "#fdca26"
            ],
            [
             1,
             "#f0f921"
            ]
           ],
           "sequentialminus": [
            [
             0,
             "#0d0887"
            ],
            [
             0.1111111111111111,
             "#46039f"
            ],
            [
             0.2222222222222222,
             "#7201a8"
            ],
            [
             0.3333333333333333,
             "#9c179e"
            ],
            [
             0.4444444444444444,
             "#bd3786"
            ],
            [
             0.5555555555555556,
             "#d8576b"
            ],
            [
             0.6666666666666666,
             "#ed7953"
            ],
            [
             0.7777777777777778,
             "#fb9f3a"
            ],
            [
             0.8888888888888888,
             "#fdca26"
            ],
            [
             1,
             "#f0f921"
            ]
           ]
          },
          "colorway": [
           "#636efa",
           "#EF553B",
           "#00cc96",
           "#ab63fa",
           "#FFA15A",
           "#19d3f3",
           "#FF6692",
           "#B6E880",
           "#FF97FF",
           "#FECB52"
          ],
          "font": {
           "color": "#2a3f5f"
          },
          "geo": {
           "bgcolor": "white",
           "lakecolor": "white",
           "landcolor": "#E5ECF6",
           "showlakes": true,
           "showland": true,
           "subunitcolor": "white"
          },
          "hoverlabel": {
           "align": "left"
          },
          "hovermode": "closest",
          "mapbox": {
           "style": "light"
          },
          "paper_bgcolor": "white",
          "plot_bgcolor": "#E5ECF6",
          "polar": {
           "angularaxis": {
            "gridcolor": "white",
            "linecolor": "white",
            "ticks": ""
           },
           "bgcolor": "#E5ECF6",
           "radialaxis": {
            "gridcolor": "white",
            "linecolor": "white",
            "ticks": ""
           }
          },
          "scene": {
           "xaxis": {
            "backgroundcolor": "#E5ECF6",
            "gridcolor": "white",
            "gridwidth": 2,
            "linecolor": "white",
            "showbackground": true,
            "ticks": "",
            "zerolinecolor": "white"
           },
           "yaxis": {
            "backgroundcolor": "#E5ECF6",
            "gridcolor": "white",
            "gridwidth": 2,
            "linecolor": "white",
            "showbackground": true,
            "ticks": "",
            "zerolinecolor": "white"
           },
           "zaxis": {
            "backgroundcolor": "#E5ECF6",
            "gridcolor": "white",
            "gridwidth": 2,
            "linecolor": "white",
            "showbackground": true,
            "ticks": "",
            "zerolinecolor": "white"
           }
          },
          "shapedefaults": {
           "line": {
            "color": "#2a3f5f"
           }
          },
          "ternary": {
           "aaxis": {
            "gridcolor": "white",
            "linecolor": "white",
            "ticks": ""
           },
           "baxis": {
            "gridcolor": "white",
            "linecolor": "white",
            "ticks": ""
           },
           "bgcolor": "#E5ECF6",
           "caxis": {
            "gridcolor": "white",
            "linecolor": "white",
            "ticks": ""
           }
          },
          "title": {
           "x": 0.05
          },
          "xaxis": {
           "automargin": true,
           "gridcolor": "white",
           "linecolor": "white",
           "ticks": "",
           "title": {
            "standoff": 15
           },
           "zerolinecolor": "white",
           "zerolinewidth": 2
          },
          "yaxis": {
           "automargin": true,
           "gridcolor": "white",
           "linecolor": "white",
           "ticks": "",
           "title": {
            "standoff": 15
           },
           "zerolinecolor": "white",
           "zerolinewidth": 2
          }
         }
        }
       }
      },
      "text/html": [
       "<div>                            <div id=\"23484f29-9a13-48a0-bf53-d9897a25a4c0\" class=\"plotly-graph-div\" style=\"height:525px; width:100%;\"></div>            <script type=\"text/javascript\">                require([\"plotly\"], function(Plotly) {                    window.PLOTLYENV=window.PLOTLYENV || {};                                    if (document.getElementById(\"23484f29-9a13-48a0-bf53-d9897a25a4c0\")) {                    Plotly.newPlot(                        \"23484f29-9a13-48a0-bf53-d9897a25a4c0\",                        [{\"hovertemplate\": \"x0=%{x}<br>x1=%{y}<br>x2=%{z}<extra></extra>\", \"legendgroup\": \"\", \"marker\": {\"color\": \"#636efa\", \"symbol\": \"circle\"}, \"mode\": \"markers\", \"name\": \"\", \"scene\": \"scene\", \"showlegend\": false, \"type\": \"scatter3d\", \"x\": [19.239654541015625, -30.214553833007812, -19.980541229248047, -19.230247497558594, -18.665088653564453, 11.807743072509766, 16.840078353881836, -19.317110061645508, -51.8192138671875, 4.0145955085754395, 15.791741371154785, 14.83867359161377, -9.53484058380127, 19.71636390686035, 11.16198444366455, -34.6403923034668, -38.3023681640625, -10.576807975769043, 21.94754409790039, -26.933612823486328, 11.662528991699219, 21.54416847229004, 18.92066192626953, 22.527599334716797, 9.876812934875488, 28.83673858642578, 32.4459114074707, 21.91065788269043, -17.897403717041016, -3.4171934127807617, 35.7183723449707, -13.332934379577637, -42.28324508666992, -5.0580854415893555, 3.615084171295166, -19.57041358947754, 11.679457664489746, 24.17938804626465, 22.423919677734375, 39.075172424316406, -31.540307998657227, -31.972034454345703, -18.63327407836914, -7.1139631271362305, -6.41195821762085, 5.789811134338379, -10.98792552947998, 17.620182037353516, 9.466997146606445, -38.18135070800781, 23.966354370117188, 22.717771530151367, -19.566757202148438, -37.1947135925293, 15.883633613586426, 5.5532965660095215, -34.722801208496094, 2.9691243171691895, 0.262107789516449, -10.944779396057129, -26.076332092285156, 2.962583303451538, 9.177228927612305, -5.872618675231934, -4.196045875549316, -8.42429256439209, 11.287345886230469, 23.097192764282227, -0.5264502763748169, -20.506460189819336, 1.5228475332260132, 0.6229628324508667, -21.03496551513672, 1.7500237226486206, 0.15693974494934082, -2.1227753162384033, 16.468730926513672, -16.708297729492188, 32.793827056884766, -8.087067604064941, -64.4951400756836, 10.402259826660156, 16.082656860351562, -33.14274978637695, -25.572338104248047, -11.453144073486328, -12.673238754272461, 1.0576286315917969, 10.773589134216309, 3.7740888595581055, -14.195639610290527, -35.133514404296875, -13.180327415466309, -5.368241786956787, 15.188639640808105, 7.924132347106934, 26.149030685424805, -20.478487014770508, -16.288780212402344, -0.2595553398132324, -9.390742301940918, -16.580768585205078, -19.956022262573242, 1.7532823085784912, 6.970976829528809, 33.381710052490234], \"y\": [28.200271606445312, -10.159319877624512, -31.861499786376953, 19.772188186645508, 18.05179214477539, -31.000932693481445, -26.18259048461914, 9.586624145507812, 0.9408184289932251, -2.459398031234741, -13.29138469696045, -27.776687622070312, -1.321563720703125, 1.0561809539794922, -19.551576614379883, -21.089611053466797, 0.8712317943572998, -38.504791259765625, -2.2241644859313965, 28.581594467163086, 19.533519744873047, -28.37994384765625, -33.88177490234375, 16.997316360473633, -19.180858612060547, 29.87217903137207, 5.388037204742432, 5.894099712371826, -14.32213020324707, 9.83974552154541, 28.14579963684082, -17.326194763183594, 37.552555084228516, -15.579249382019043, 20.44489097595215, -28.17951202392578, -11.01443099975586, -36.711788177490234, -21.684406280517578, -5.191462516784668, 2.4235405921936035, 19.5524845123291, -21.38707733154297, -24.389589309692383, -7.907264709472656, -4.978616714477539, -14.906881332397461, -2.308816432952881, -32.48134994506836, 36.4105110168457, 4.389291763305664, -38.0097541809082, 1.1876987218856812, 40.73971939086914, 15.067594528198242, 15.701761245727539, 34.67240524291992, 25.10228729248047, -3.6378650665283203, -14.273575782775879, 16.76898956298828, 23.85988998413086, -31.70090675354004, -22.113431930541992, 20.80821990966797, 28.351226806640625, -31.780725479125977, -6.485334396362305, 34.07459259033203, 0.42955997586250305, -30.82329750061035, 30.99334716796875, -23.2517147064209, 33.706241607666016, 14.49933910369873, -32.433956146240234, 20.77708625793457, 19.455745697021484, 30.45807647705078, -22.54670524597168, -37.59484100341797, -3.7966525554656982, -25.838909149169922, -22.081253051757812, -36.10100173950195, 22.103944778442383, 5.144248008728027, 2.4294652938842773, -29.692907333374023, -4.1819167137146, -35.13793182373047, 40.025169372558594, 24.965126037597656, -32.105857849121094, 8.813606262207031, -12.367501258850098, 2.6793882846832275, -26.870115280151367, 2.86470890045166, 31.84398078918457, -9.813952445983887, 1.0405290126800537, 14.884310722351074, 25.454931259155273, 24.390012741088867, -60.25160217285156], \"z\": [-4.950960159301758, -3.8119800090789795, -13.057583808898926, -4.615029811859131, -3.4719700813293457, 1.1945838928222656, -7.27700662612915, -41.871673583984375, 10.400651931762695, 12.687010765075684, -22.600948333740234, -14.908946990966797, -35.36684799194336, 18.695476531982422, -14.711153030395508, -7.851142406463623, 7.8021979331970215, -10.11655330657959, 23.276575088500977, 15.139469146728516, 33.46267318725586, -14.300259590148926, -21.719274520874023, -6.30016565322876, 30.327871322631836, -13.95661449432373, -32.4907341003418, 35.7867317199707, -3.3389039039611816, 12.14349365234375, -16.529285430908203, 23.68992042541504, -11.06197452545166, 18.24269676208496, 20.03379249572754, 24.025358200073242, -16.86874771118164, -15.392500877380371, -28.800621032714844, 42.09877014160156, 9.837996482849121, 7.085812091827393, 18.375186920166016, 18.03493881225586, 21.634748458862305, -26.204952239990234, 19.80584144592285, -21.897571563720703, 16.811065673828125, -11.105313301086426, -24.614727020263672, -28.840492248535156, 21.10658836364746, -12.763696670532227, -16.376611709594727, -20.495702743530273, -10.607813835144043, 23.147502899169922, -17.102333068847656, 19.833070755004883, 5.303028106689453, -5.903030872344971, 16.42306900024414, -3.847114324569702, -24.845691680908203, -11.748297691345215, 22.645095825195312, -28.83568572998047, 24.558191299438477, 21.175867080688477, 11.092366218566895, 32.44044876098633, 17.214122772216797, -16.764755249023438, -18.39082908630371, -5.828402996063232, 31.593090057373047, 1.8846194744110107, -15.595630645751953, 5.058797836303711, -13.073055267333984, 20.94780921936035, -5.611969947814941, 18.2047176361084, -16.062042236328125, 0.43584731221199036, 15.768383979797363, 33.389949798583984, 23.68901824951172, 29.980247497558594, 26.67324447631836, -12.392383575439453, 10.52178955078125, 1.889743447303772, 32.801448822021484, 32.45029067993164, -28.840606689453125, -0.4883566200733185, 19.078536987304688, 14.999964714050293, 25.805194854736328, 22.94367027282715, -43.82991409301758, 14.081329345703125, -10.035035133361816, -28.51333236694336]}],                        {\"legend\": {\"tracegroupgap\": 0}, \"margin\": {\"t\": 60}, \"scene\": {\"domain\": {\"x\": [0.0, 1.0], \"y\": [0.0, 1.0]}, \"xaxis\": {\"title\": {\"text\": \"x0\"}}, \"yaxis\": {\"title\": {\"text\": \"x1\"}}, \"zaxis\": {\"title\": {\"text\": \"x2\"}}}, \"template\": {\"data\": {\"bar\": [{\"error_x\": {\"color\": \"#2a3f5f\"}, \"error_y\": {\"color\": \"#2a3f5f\"}, \"marker\": {\"line\": {\"color\": \"#E5ECF6\", \"width\": 0.5}}, \"type\": \"bar\"}], \"barpolar\": [{\"marker\": {\"line\": {\"color\": \"#E5ECF6\", \"width\": 0.5}}, \"type\": \"barpolar\"}], \"carpet\": [{\"aaxis\": {\"endlinecolor\": \"#2a3f5f\", \"gridcolor\": \"white\", \"linecolor\": \"white\", \"minorgridcolor\": \"white\", \"startlinecolor\": \"#2a3f5f\"}, \"baxis\": {\"endlinecolor\": \"#2a3f5f\", \"gridcolor\": \"white\", \"linecolor\": \"white\", \"minorgridcolor\": \"white\", \"startlinecolor\": \"#2a3f5f\"}, \"type\": \"carpet\"}], \"choropleth\": [{\"colorbar\": {\"outlinewidth\": 0, \"ticks\": \"\"}, \"type\": \"choropleth\"}], \"contour\": [{\"colorbar\": {\"outlinewidth\": 0, \"ticks\": \"\"}, \"colorscale\": [[0.0, \"#0d0887\"], [0.1111111111111111, \"#46039f\"], [0.2222222222222222, \"#7201a8\"], [0.3333333333333333, \"#9c179e\"], [0.4444444444444444, \"#bd3786\"], [0.5555555555555556, \"#d8576b\"], [0.6666666666666666, \"#ed7953\"], [0.7777777777777778, \"#fb9f3a\"], [0.8888888888888888, \"#fdca26\"], [1.0, \"#f0f921\"]], \"type\": \"contour\"}], \"contourcarpet\": [{\"colorbar\": {\"outlinewidth\": 0, \"ticks\": \"\"}, \"type\": \"contourcarpet\"}], \"heatmap\": [{\"colorbar\": {\"outlinewidth\": 0, \"ticks\": \"\"}, \"colorscale\": [[0.0, \"#0d0887\"], [0.1111111111111111, \"#46039f\"], [0.2222222222222222, \"#7201a8\"], [0.3333333333333333, \"#9c179e\"], [0.4444444444444444, \"#bd3786\"], [0.5555555555555556, \"#d8576b\"], [0.6666666666666666, \"#ed7953\"], [0.7777777777777778, \"#fb9f3a\"], [0.8888888888888888, \"#fdca26\"], [1.0, \"#f0f921\"]], \"type\": \"heatmap\"}], \"heatmapgl\": [{\"colorbar\": {\"outlinewidth\": 0, \"ticks\": \"\"}, \"colorscale\": [[0.0, \"#0d0887\"], [0.1111111111111111, \"#46039f\"], [0.2222222222222222, \"#7201a8\"], [0.3333333333333333, \"#9c179e\"], [0.4444444444444444, \"#bd3786\"], [0.5555555555555556, \"#d8576b\"], [0.6666666666666666, \"#ed7953\"], [0.7777777777777778, \"#fb9f3a\"], [0.8888888888888888, \"#fdca26\"], [1.0, \"#f0f921\"]], \"type\": \"heatmapgl\"}], \"histogram\": [{\"marker\": {\"colorbar\": {\"outlinewidth\": 0, \"ticks\": \"\"}}, \"type\": \"histogram\"}], \"histogram2d\": [{\"colorbar\": {\"outlinewidth\": 0, \"ticks\": \"\"}, \"colorscale\": [[0.0, \"#0d0887\"], [0.1111111111111111, \"#46039f\"], [0.2222222222222222, \"#7201a8\"], [0.3333333333333333, \"#9c179e\"], [0.4444444444444444, \"#bd3786\"], [0.5555555555555556, \"#d8576b\"], [0.6666666666666666, \"#ed7953\"], [0.7777777777777778, \"#fb9f3a\"], [0.8888888888888888, \"#fdca26\"], [1.0, \"#f0f921\"]], \"type\": \"histogram2d\"}], \"histogram2dcontour\": [{\"colorbar\": {\"outlinewidth\": 0, \"ticks\": \"\"}, \"colorscale\": [[0.0, \"#0d0887\"], [0.1111111111111111, \"#46039f\"], [0.2222222222222222, \"#7201a8\"], [0.3333333333333333, \"#9c179e\"], [0.4444444444444444, \"#bd3786\"], [0.5555555555555556, \"#d8576b\"], [0.6666666666666666, \"#ed7953\"], [0.7777777777777778, \"#fb9f3a\"], [0.8888888888888888, \"#fdca26\"], [1.0, \"#f0f921\"]], \"type\": \"histogram2dcontour\"}], \"mesh3d\": [{\"colorbar\": {\"outlinewidth\": 0, \"ticks\": \"\"}, \"type\": \"mesh3d\"}], \"parcoords\": [{\"line\": {\"colorbar\": {\"outlinewidth\": 0, \"ticks\": \"\"}}, \"type\": \"parcoords\"}], \"pie\": [{\"automargin\": true, \"type\": \"pie\"}], \"scatter\": [{\"marker\": {\"colorbar\": {\"outlinewidth\": 0, \"ticks\": \"\"}}, \"type\": \"scatter\"}], \"scatter3d\": [{\"line\": {\"colorbar\": {\"outlinewidth\": 0, \"ticks\": \"\"}}, \"marker\": {\"colorbar\": {\"outlinewidth\": 0, \"ticks\": \"\"}}, \"type\": \"scatter3d\"}], \"scattercarpet\": [{\"marker\": {\"colorbar\": {\"outlinewidth\": 0, \"ticks\": \"\"}}, \"type\": \"scattercarpet\"}], \"scattergeo\": [{\"marker\": {\"colorbar\": {\"outlinewidth\": 0, \"ticks\": \"\"}}, \"type\": \"scattergeo\"}], \"scattergl\": [{\"marker\": {\"colorbar\": {\"outlinewidth\": 0, \"ticks\": \"\"}}, \"type\": \"scattergl\"}], \"scattermapbox\": [{\"marker\": {\"colorbar\": {\"outlinewidth\": 0, \"ticks\": \"\"}}, \"type\": \"scattermapbox\"}], \"scatterpolar\": [{\"marker\": {\"colorbar\": {\"outlinewidth\": 0, \"ticks\": \"\"}}, \"type\": \"scatterpolar\"}], \"scatterpolargl\": [{\"marker\": {\"colorbar\": {\"outlinewidth\": 0, \"ticks\": \"\"}}, \"type\": \"scatterpolargl\"}], \"scatterternary\": [{\"marker\": {\"colorbar\": {\"outlinewidth\": 0, \"ticks\": \"\"}}, \"type\": \"scatterternary\"}], \"surface\": [{\"colorbar\": {\"outlinewidth\": 0, \"ticks\": \"\"}, \"colorscale\": [[0.0, \"#0d0887\"], [0.1111111111111111, \"#46039f\"], [0.2222222222222222, \"#7201a8\"], [0.3333333333333333, \"#9c179e\"], [0.4444444444444444, \"#bd3786\"], [0.5555555555555556, \"#d8576b\"], [0.6666666666666666, \"#ed7953\"], [0.7777777777777778, \"#fb9f3a\"], [0.8888888888888888, \"#fdca26\"], [1.0, \"#f0f921\"]], \"type\": \"surface\"}], \"table\": [{\"cells\": {\"fill\": {\"color\": \"#EBF0F8\"}, \"line\": {\"color\": \"white\"}}, \"header\": {\"fill\": {\"color\": \"#C8D4E3\"}, \"line\": {\"color\": \"white\"}}, \"type\": \"table\"}]}, \"layout\": {\"annotationdefaults\": {\"arrowcolor\": \"#2a3f5f\", \"arrowhead\": 0, \"arrowwidth\": 1}, \"autotypenumbers\": \"strict\", \"coloraxis\": {\"colorbar\": {\"outlinewidth\": 0, \"ticks\": \"\"}}, \"colorscale\": {\"diverging\": [[0, \"#8e0152\"], [0.1, \"#c51b7d\"], [0.2, \"#de77ae\"], [0.3, \"#f1b6da\"], [0.4, \"#fde0ef\"], [0.5, \"#f7f7f7\"], [0.6, \"#e6f5d0\"], [0.7, \"#b8e186\"], [0.8, \"#7fbc41\"], [0.9, \"#4d9221\"], [1, \"#276419\"]], \"sequential\": [[0.0, \"#0d0887\"], [0.1111111111111111, \"#46039f\"], [0.2222222222222222, \"#7201a8\"], [0.3333333333333333, \"#9c179e\"], [0.4444444444444444, \"#bd3786\"], [0.5555555555555556, \"#d8576b\"], [0.6666666666666666, \"#ed7953\"], [0.7777777777777778, \"#fb9f3a\"], [0.8888888888888888, \"#fdca26\"], [1.0, \"#f0f921\"]], \"sequentialminus\": [[0.0, \"#0d0887\"], [0.1111111111111111, \"#46039f\"], [0.2222222222222222, \"#7201a8\"], [0.3333333333333333, \"#9c179e\"], [0.4444444444444444, \"#bd3786\"], [0.5555555555555556, \"#d8576b\"], [0.6666666666666666, \"#ed7953\"], [0.7777777777777778, \"#fb9f3a\"], [0.8888888888888888, \"#fdca26\"], [1.0, \"#f0f921\"]]}, \"colorway\": [\"#636efa\", \"#EF553B\", \"#00cc96\", \"#ab63fa\", \"#FFA15A\", \"#19d3f3\", \"#FF6692\", \"#B6E880\", \"#FF97FF\", \"#FECB52\"], \"font\": {\"color\": \"#2a3f5f\"}, \"geo\": {\"bgcolor\": \"white\", \"lakecolor\": \"white\", \"landcolor\": \"#E5ECF6\", \"showlakes\": true, \"showland\": true, \"subunitcolor\": \"white\"}, \"hoverlabel\": {\"align\": \"left\"}, \"hovermode\": \"closest\", \"mapbox\": {\"style\": \"light\"}, \"paper_bgcolor\": \"white\", \"plot_bgcolor\": \"#E5ECF6\", \"polar\": {\"angularaxis\": {\"gridcolor\": \"white\", \"linecolor\": \"white\", \"ticks\": \"\"}, \"bgcolor\": \"#E5ECF6\", \"radialaxis\": {\"gridcolor\": \"white\", \"linecolor\": \"white\", \"ticks\": \"\"}}, \"scene\": {\"xaxis\": {\"backgroundcolor\": \"#E5ECF6\", \"gridcolor\": \"white\", \"gridwidth\": 2, \"linecolor\": \"white\", \"showbackground\": true, \"ticks\": \"\", \"zerolinecolor\": \"white\"}, \"yaxis\": {\"backgroundcolor\": \"#E5ECF6\", \"gridcolor\": \"white\", \"gridwidth\": 2, \"linecolor\": \"white\", \"showbackground\": true, \"ticks\": \"\", \"zerolinecolor\": \"white\"}, \"zaxis\": {\"backgroundcolor\": \"#E5ECF6\", \"gridcolor\": \"white\", \"gridwidth\": 2, \"linecolor\": \"white\", \"showbackground\": true, \"ticks\": \"\", \"zerolinecolor\": \"white\"}}, \"shapedefaults\": {\"line\": {\"color\": \"#2a3f5f\"}}, \"ternary\": {\"aaxis\": {\"gridcolor\": \"white\", \"linecolor\": \"white\", \"ticks\": \"\"}, \"baxis\": {\"gridcolor\": \"white\", \"linecolor\": \"white\", \"ticks\": \"\"}, \"bgcolor\": \"#E5ECF6\", \"caxis\": {\"gridcolor\": \"white\", \"linecolor\": \"white\", \"ticks\": \"\"}}, \"title\": {\"x\": 0.05}, \"xaxis\": {\"automargin\": true, \"gridcolor\": \"white\", \"linecolor\": \"white\", \"ticks\": \"\", \"title\": {\"standoff\": 15}, \"zerolinecolor\": \"white\", \"zerolinewidth\": 2}, \"yaxis\": {\"automargin\": true, \"gridcolor\": \"white\", \"linecolor\": \"white\", \"ticks\": \"\", \"title\": {\"standoff\": 15}, \"zerolinecolor\": \"white\", \"zerolinewidth\": 2}}}},                        {\"responsive\": true}                    ).then(function(){\n",
       "                            \n",
       "var gd = document.getElementById('23484f29-9a13-48a0-bf53-d9897a25a4c0');\n",
       "var x = new MutationObserver(function (mutations, observer) {{\n",
       "        var display = window.getComputedStyle(gd).display;\n",
       "        if (!display || display === 'none') {{\n",
       "            console.log([gd, 'removed!']);\n",
       "            Plotly.purge(gd);\n",
       "            observer.disconnect();\n",
       "        }}\n",
       "}});\n",
       "\n",
       "// Listen for the removal of the full notebook cells\n",
       "var notebookContainer = gd.closest('#notebook-container');\n",
       "if (notebookContainer) {{\n",
       "    x.observe(notebookContainer, {childList: true});\n",
       "}}\n",
       "\n",
       "// Listen for the clearing of the current output cell\n",
       "var outputEl = gd.closest('.output');\n",
       "if (outputEl) {{\n",
       "    x.observe(outputEl, {childList: true});\n",
       "}}\n",
       "\n",
       "                        })                };                });            </script>        </div>"
      ]
     },
     "metadata": {},
     "output_type": "display_data"
    }
   ],
   "source": [
    "print(f'Number of points: {db_sample_df.shape}')\n",
    "\n",
    "fig = px.scatter_3d(db_sample_df[:1000], x='x0', y='x1', z='x2')\n",
    "fig.show()"
   ]
  },
  {
   "cell_type": "code",
   "execution_count": 41,
   "metadata": {},
   "outputs": [],
   "source": [
    "embedding_model_multi = nn.Sequential(model_auto.decoder,\n",
    "                    LambdaLayer(lambda x: x.reshape(-1, 1, 28, 28)),\n",
    "                    model)"
   ]
  },
  {
   "cell_type": "code",
   "execution_count": 44,
   "metadata": {},
   "outputs": [
    {
     "data": {
      "text/plain": [
       "Sequential(\n",
       "  (0): Sequential(\n",
       "    (0): Linear(in_features=3, out_features=12, bias=True)\n",
       "    (1): ReLU(inplace=True)\n",
       "    (2): Linear(in_features=12, out_features=64, bias=True)\n",
       "    (3): ReLU(inplace=True)\n",
       "    (4): Linear(in_features=64, out_features=128, bias=True)\n",
       "    (5): ReLU(inplace=True)\n",
       "    (6): Linear(in_features=128, out_features=784, bias=True)\n",
       "    (7): Tanh()\n",
       "  )\n",
       "  (1): LambdaLayer()\n",
       "  (2): Net(\n",
       "    (conv1): Conv2d(1, 32, kernel_size=(3, 3), stride=(1, 1))\n",
       "    (conv2): Conv2d(32, 64, kernel_size=(3, 3), stride=(1, 1))\n",
       "    (dropout1): Dropout(p=0.25, inplace=False)\n",
       "    (dropout2): Dropout(p=0.5, inplace=False)\n",
       "    (fc1): Linear(in_features=9216, out_features=128, bias=True)\n",
       "    (fc2): Linear(in_features=128, out_features=10, bias=True)\n",
       "  )\n",
       ")"
      ]
     },
     "execution_count": 44,
     "metadata": {},
     "output_type": "execute_result"
    }
   ],
   "source": [
    "embedding_model_multi.to('cpu')"
   ]
  },
  {
   "cell_type": "code",
   "execution_count": 45,
   "metadata": {},
   "outputs": [],
   "source": [
    "db_tensor = torch.tensor(db_sample_df.values)\n",
    "db_tensor_logit = embedding_model_multi(db_tensor)\n",
    "max_top2 = torch.topk(db_tensor_logit, 2).indices.max(axis=1)\n",
    "db_class = {}\n",
    "for digit_class in range(10):\n",
    "    db_class[digit_class] = {}\n",
    "    db_class[digit_class]['tensor'] = max_top2.values == digit_class\n",
    "    db_class[digit_class]['idx'] = torch.nonzero(db_class[digit_class]['tensor'])"
   ]
  },
  {
   "cell_type": "code",
   "execution_count": 46,
   "metadata": {},
   "outputs": [],
   "source": [
    "db_sample_class_df = pd.DataFrame(columns=['class'])\n",
    "\n",
    "for digit_class in range(10):\n",
    "    db_sample_class_df = db_sample_class_df.append(pd.DataFrame(db_class[digit_class]['idx'][:,0].shape[0]*[digit_class], columns=['class'], index=db_class[digit_class]['idx'][:,0].numpy()))"
   ]
  },
  {
   "cell_type": "code",
   "execution_count": null,
   "metadata": {},
   "outputs": [],
   "source": [
    "db_sample_normal_df = pd.DataFrame(columns = [\"dx\"+str(i) for i in range(3)])\n",
    "\n",
    "for digit_class in range(10):\n",
    "    x = db_tensor[db_class[digit_class]['tensor']]\n",
    "    if x.shape[0] != 0:\n",
    "        x.requires_grad = False\n",
    "        delta = torch.zeros_like(x, requires_grad=True)\n",
    "        loss = torch.sum(embedding_model_multi(x + delta)[:, digit_class])\n",
    "        loss.backward()\n",
    "        x_gradient = delta.grad.detach().numpy()\n",
    "        x_norm = x_gradient/np.sqrt((x_gradient**2).sum(axis=1, keepdims=True))\n",
    "\n",
    "        db_sample_normal_df = db_sample_normal_df.append(\n",
    "            pd.DataFrame(data=x_norm,\n",
    "                columns = [\"dx\"+str(i) for i in range(3)],\n",
    "                index=db_class[digit_class]['idx'].numpy()[:,0])\n",
    "        )"
   ]
  },
  {
   "cell_type": "code",
   "execution_count": null,
   "metadata": {},
   "outputs": [],
   "source": [
    "db_mesh_input = pd.concat([db_sample_df, db_sample_normal_df, db_sample_class_df], axis=1, join='inner')"
   ]
  }
 ],
 "metadata": {
  "kernelspec": {
   "display_name": "Python [conda env:giottodeep]",
   "language": "python",
   "name": "conda-env-giottodeep-py"
  },
  "language_info": {
   "codemirror_mode": {
    "name": "ipython",
    "version": 3
   },
   "file_extension": ".py",
   "mimetype": "text/x-python",
   "name": "python",
   "nbconvert_exporter": "python",
   "pygments_lexer": "ipython3",
   "version": "3.8.6"
  }
 },
 "nbformat": 4,
 "nbformat_minor": 2
}
