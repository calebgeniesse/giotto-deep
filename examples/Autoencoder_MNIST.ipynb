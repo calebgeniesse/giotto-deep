{
 "cells": [
  {
   "cell_type": "code",
   "execution_count": 1,
   "metadata": {},
   "outputs": [
    {
     "name": "stdout",
     "output_type": "stream",
     "text": [
      "Yeah we have a GPU!\n"
     ]
    }
   ],
   "source": [
    "%reload_ext autoreload\n",
    "%autoreload 2\n",
    "\n",
    "import matplotlib.pyplot as plt\n",
    "import numpy as np\n",
    "\n",
    "import torch\n",
    "import torch.nn as nn\n",
    "import torch.optim as optim\n",
    "\n",
    "if torch.cuda.is_available():\n",
    "    print(\"Yeah we have a GPU!\")\n",
    "dev = torch.device(\"cuda\") if torch.cuda.is_available() else torch.device(\"cpu\")\n",
    "\n",
    "import torchvision\n",
    "from torch.autograd import Variable\n",
    "from torch.utils.data import DataLoader\n",
    "from torchvision import transforms\n",
    "from torchvision.utils import save_image\n",
    "from torchvision.datasets import MNIST\n",
    "import os\n",
    "\n",
    "import pandas as pd\n",
    "import plotly.express as px\n",
    "import plotly.graph_objects as go\n",
    "\n",
    "import itertools\n",
    "import time\n",
    "import gc\n",
    "\n",
    "from gdeep.decision_boundary import GradientFlowDecisionBoundaryCalculator, QuasihyperbolicDecisionBoundaryCalculator"
   ]
  },
  {
   "cell_type": "markdown",
   "metadata": {},
   "source": [
    "# Train CNN-Autoencoder"
   ]
  },
  {
   "cell_type": "code",
   "execution_count": 4,
   "metadata": {},
   "outputs": [],
   "source": [
    "# https://github.com/L1aoXingyu/pytorch-beginner/blob/master/08-AutoEncoder/conv_autoencoder.py\n",
    "\n",
    "\n",
    "if not os.path.exists('./mlp_img'):\n",
    "    os.mkdir('./mlp_img')\n",
    "\n",
    "\n",
    "def to_img(x):\n",
    "    x = 0.5 * (x + 1)\n",
    "    x = x.clamp(0, 1)\n",
    "    x = x.view(x.size(0), 1, 28, 28)\n",
    "    return x\n",
    "\n",
    "\n",
    "num_epochs = 100\n",
    "batch_size = 128\n",
    "learning_rate = 1e-3\n",
    "\n",
    "img_transform = transforms.Compose([\n",
    "    transforms.ToTensor(),\n",
    "    transforms.Normalize([0.5], [0.5])\n",
    "])\n",
    "\n",
    "dataset = MNIST('./data', transform=img_transform, download=True)\n",
    "dataloader = DataLoader(dataset, batch_size=batch_size, shuffle=True)\n",
    "\n",
    "\n",
    "class autoencoder(nn.Module):\n",
    "    def __init__(self):\n",
    "        super(autoencoder, self).__init__()\n",
    "        self.encoder = nn.Sequential(\n",
    "            nn.Linear(28 * 28, 128),\n",
    "            nn.ReLU(True),\n",
    "            nn.Linear(128, 64),\n",
    "            nn.ReLU(True),\n",
    "            nn.Linear(64, 12),\n",
    "            nn.ReLU(True),\n",
    "            nn.Linear(12, 3))\n",
    "        self.decoder = nn.Sequential(\n",
    "            nn.Linear(3, 12),\n",
    "            nn.ReLU(True),\n",
    "            nn.Linear(12, 64),\n",
    "            nn.ReLU(True),\n",
    "            nn.Linear(64, 128),\n",
    "            nn.ReLU(True), nn.Linear(128, 28 * 28), nn.Tanh())\n",
    "\n",
    "    def forward(self, x):\n",
    "        x = self.encoder(x)\n",
    "        x = self.decoder(x)\n",
    "        return x\n",
    "\n",
    "\n",
    "model_auto = autoencoder().to(dev)\n",
    "criterion = nn.MSELoss()\n",
    "optimizer = torch.optim.Adam(\n",
    "    model_auto.parameters(), lr=learning_rate, weight_decay=1e-5)"
   ]
  },
  {
   "cell_type": "code",
   "execution_count": 4,
   "metadata": {},
   "outputs": [
    {
     "data": {
      "text/plain": [
       "\"\\nfor epoch in range(num_epochs):\\n    for data in dataloader:\\n        img, _ = data\\n        img = img.view(img.size(0), -1)\\n        img = Variable(img).to(dev)\\n        # ===================forward=====================\\n        output = model_auto(img)\\n        loss = criterion(output, img)\\n        # ===================backward====================\\n        optimizer.zero_grad()\\n        loss.backward()\\n        optimizer.step()\\n    # ===================log========================\\n    print('epoch [{}/{}], loss:{:.4f}'\\n          .format(epoch + 1, num_epochs, loss.data.item()))\\n    if epoch % 10 == 0:\\n        pic = to_img(output.cpu().data)\\n        save_image(pic, 'mlp_img/image_{}.png'.format(epoch))\\n\\ntorch.save(model_auto, 'sim_autoencoder.pth')\\n\""
      ]
     },
     "execution_count": 4,
     "metadata": {},
     "output_type": "execute_result"
    }
   ],
   "source": [
    "\"\"\"\n",
    "for epoch in range(num_epochs):\n",
    "    for data in dataloader:\n",
    "        img, _ = data\n",
    "        img = img.view(img.size(0), -1)\n",
    "        img = Variable(img).to(dev)\n",
    "        # ===================forward=====================\n",
    "        output = model_auto(img)\n",
    "        loss = criterion(output, img)\n",
    "        # ===================backward====================\n",
    "        optimizer.zero_grad()\n",
    "        loss.backward()\n",
    "        optimizer.step()\n",
    "    # ===================log========================\n",
    "    print('epoch [{}/{}], loss:{:.4f}'\n",
    "          .format(epoch + 1, num_epochs, loss.data.item()))\n",
    "    if epoch % 10 == 0:\n",
    "        pic = to_img(output.cpu().data)\n",
    "        save_image(pic, 'mlp_img/image_{}.png'.format(epoch))\n",
    "\n",
    "torch.save(model_auto, 'sim_autoencoder.pth')\n",
    "\"\"\""
   ]
  },
  {
   "cell_type": "code",
   "execution_count": 5,
   "metadata": {},
   "outputs": [
    {
     "data": {
      "text/plain": [
       "autoencoder(\n",
       "  (encoder): Sequential(\n",
       "    (0): Linear(in_features=784, out_features=128, bias=True)\n",
       "    (1): ReLU(inplace=True)\n",
       "    (2): Linear(in_features=128, out_features=64, bias=True)\n",
       "    (3): ReLU(inplace=True)\n",
       "    (4): Linear(in_features=64, out_features=12, bias=True)\n",
       "    (5): ReLU(inplace=True)\n",
       "    (6): Linear(in_features=12, out_features=3, bias=True)\n",
       "  )\n",
       "  (decoder): Sequential(\n",
       "    (0): Linear(in_features=3, out_features=12, bias=True)\n",
       "    (1): ReLU(inplace=True)\n",
       "    (2): Linear(in_features=12, out_features=64, bias=True)\n",
       "    (3): ReLU(inplace=True)\n",
       "    (4): Linear(in_features=64, out_features=128, bias=True)\n",
       "    (5): ReLU(inplace=True)\n",
       "    (6): Linear(in_features=128, out_features=784, bias=True)\n",
       "    (7): Tanh()\n",
       "  )\n",
       ")"
      ]
     },
     "execution_count": 5,
     "metadata": {},
     "output_type": "execute_result"
    }
   ],
   "source": [
    "model_auto = torch.load('sim_autoencoder.pth')\n",
    "model_auto.eval()"
   ]
  },
  {
   "cell_type": "code",
   "execution_count": 7,
   "metadata": {},
   "outputs": [],
   "source": [
    "embedding_df = pd.DataFrame(columns=list('xyzc'))\n",
    "\n",
    "for x, y in itertools.islice(dataloader, 20):\n",
    "    embedded_batch = model_auto.encoder(x.view(x.size(0), -1)).detach().numpy()\n",
    "    embedded_batch_df = pd.DataFrame(\n",
    "        np.concatenate((embedded_batch, y.unsqueeze(1).numpy()), 1),\n",
    "        columns=list('xyzc'))\n",
    "    embedding_df = embedding_df.append(\n",
    "        embedded_batch_df,\n",
    "        ignore_index=True)"
   ]
  },
  {
   "cell_type": "code",
   "execution_count": 7,
   "metadata": {},
   "outputs": [
    {
     "data": {
      "text/plain": [
       "\"\\nfig = px.scatter_3d(embedding_df, x='x', y='y', z='z',\\n              color='c')\\nfig.show()\\n\""
      ]
     },
     "execution_count": 7,
     "metadata": {},
     "output_type": "execute_result"
    }
   ],
   "source": [
    "\"\"\"\n",
    "fig = px.scatter_3d(embedding_df, x='x', y='y', z='z',\n",
    "              color='c')\n",
    "fig.show()\n",
    "\"\"\""
   ]
  },
  {
   "cell_type": "code",
   "execution_count": 8,
   "metadata": {},
   "outputs": [],
   "source": [
    "# https://github.com/pytorch/examples/blob/master/mnist/main.py\n",
    "from __future__ import print_function\n",
    "import argparse\n",
    "import torch\n",
    "import torch.nn as nn\n",
    "import torch.nn.functional as F\n",
    "import torch.optim as optim\n",
    "from torchvision import datasets, transforms\n",
    "from torch.optim.lr_scheduler import StepLR\n",
    "\n",
    "\n",
    "transform=transforms.Compose([\n",
    "    transforms.ToTensor(),\n",
    "    #transforms.Normalize((0.1307,), (0.3081,))\n",
    "    ])\n",
    "\n",
    "batch_size = 64\n",
    "test_batch_size = 64\n",
    "train_kwargs = {'batch_size': batch_size}\n",
    "test_kwargs = {'batch_size': test_batch_size}\n",
    "\n",
    "dataset1 = datasets.MNIST('./data', train=True, download=True,\n",
    "                    transform=transform)\n",
    "dataset2 = datasets.MNIST('./data', train=False,\n",
    "                    transform=transform)\n",
    "train_loader = torch.utils.data.DataLoader(dataset1,**train_kwargs)\n",
    "test_loader = torch.utils.data.DataLoader(dataset2, **test_kwargs)\n",
    "\n",
    "class Net(nn.Module):\n",
    "    def __init__(self):\n",
    "        super(Net, self).__init__()\n",
    "        self.conv1 = nn.Conv2d(1, 32, 3, 1)\n",
    "        self.conv2 = nn.Conv2d(32, 64, 3, 1)\n",
    "        self.dropout1 = nn.Dropout(0.25)\n",
    "        self.dropout2 = nn.Dropout(0.5)\n",
    "        self.fc1 = nn.Linear(9216, 128)\n",
    "        self.fc2 = nn.Linear(128, 10)\n",
    "\n",
    "    def forward(self, x):\n",
    "        x = self.conv1(x)\n",
    "        x = F.relu(x)\n",
    "        x = self.conv2(x)\n",
    "        x = F.relu(x)\n",
    "        x = F.max_pool2d(x, 2)\n",
    "        x = self.dropout1(x)\n",
    "        x = torch.flatten(x, 1)\n",
    "        x = self.fc1(x)\n",
    "        x = F.relu(x)\n",
    "        x = self.dropout2(x)\n",
    "        x = self.fc2(x)\n",
    "        output = F.log_softmax(x, dim=1)\n",
    "        return output\n",
    "\n",
    "\n",
    "def train(log_interval, model, device, train_loader, optimizer, epoch):\n",
    "    model.train()\n",
    "    for batch_idx, (data, target) in enumerate(train_loader):\n",
    "        data, target = data.to(device), target.to(device)\n",
    "        optimizer.zero_grad()\n",
    "        output = model(data)\n",
    "        loss = F.nll_loss(output, target)\n",
    "        loss.backward()\n",
    "        optimizer.step()\n",
    "        if batch_idx % log_interval == 0:\n",
    "            print('Train Epoch: {} [{}/{} ({:.0f}%)]\\tLoss: {:.6f}'.format(\n",
    "                epoch, batch_idx * len(data), len(train_loader.dataset),\n",
    "                100. * batch_idx / len(train_loader), loss.item()))\n",
    "\n",
    "\n",
    "def test(model, device, test_loader):\n",
    "    model.eval()\n",
    "    test_loss = 0\n",
    "    correct = 0\n",
    "    with torch.no_grad():\n",
    "        for data, target in test_loader:\n",
    "            data, target = data.to(device), target.to(device)\n",
    "            output = model(data)\n",
    "            test_loss += F.nll_loss(output, target, reduction='sum').item()  # sum up batch loss\n",
    "            pred = output.argmax(dim=1, keepdim=True)  # get the index of the max log-probability\n",
    "            correct += pred.eq(target.view_as(pred)).sum().item()\n",
    "\n",
    "    test_loss /= len(test_loader.dataset)\n",
    "\n",
    "    print('\\nTest set: Average loss: {:.4f}, Accuracy: {}/{} ({:.0f}%)\\n'.format(\n",
    "        test_loss, correct, len(test_loader.dataset),\n",
    "        100. * correct / len(test_loader.dataset)))"
   ]
  },
  {
   "cell_type": "code",
   "execution_count": 9,
   "metadata": {
    "tags": [
     "outputPrepend"
    ]
   },
   "outputs": [
    {
     "data": {
      "text/plain": [
       "\"\\nseed = 42\\ntorch.manual_seed(seed)\\nbatch_size = 64\\ntest_batch_size = 64\\nlr = 0.01\\ngamma = 0.7\\nepochs = 14\\nlog_interval = 10\\n\\ntrain_kwargs = {'batch_size': batch_size}\\ntest_kwargs = {'batch_size': test_batch_size}\\n\\ntransform=transforms.Compose([\\n    transforms.ToTensor()\\n    ])\\n\\n\\nmodel = Net().to(dev)\\noptimizer = optim.Adadelta(model.parameters(), lr=lr)\\n\\nscheduler = StepLR(optimizer, step_size=1, gamma=gamma)\\nfor epoch in range(1, epochs + 1):\\n    train(log_interval, model, dev, train_loader, optimizer, epoch)\\n    test(model, dev, test_loader)\\n    scheduler.step()\\n\""
      ]
     },
     "execution_count": 9,
     "metadata": {},
     "output_type": "execute_result"
    }
   ],
   "source": [
    "\"\"\"\n",
    "seed = 42\n",
    "torch.manual_seed(seed)\n",
    "batch_size = 64\n",
    "test_batch_size = 64\n",
    "lr = 0.01\n",
    "gamma = 0.7\n",
    "epochs = 14\n",
    "log_interval = 10\n",
    "\n",
    "train_kwargs = {'batch_size': batch_size}\n",
    "test_kwargs = {'batch_size': test_batch_size}\n",
    "\n",
    "transform=transforms.Compose([\n",
    "    transforms.ToTensor()\n",
    "    ])\n",
    "\n",
    "\n",
    "model = Net().to(dev)\n",
    "optimizer = optim.Adadelta(model.parameters(), lr=lr)\n",
    "\n",
    "scheduler = StepLR(optimizer, step_size=1, gamma=gamma)\n",
    "for epoch in range(1, epochs + 1):\n",
    "    train(log_interval, model, dev, train_loader, optimizer, epoch)\n",
    "    test(model, dev, test_loader)\n",
    "    scheduler.step()\n",
    "\"\"\""
   ]
  },
  {
   "cell_type": "code",
   "execution_count": 9,
   "metadata": {},
   "outputs": [
    {
     "data": {
      "text/plain": [
       "Net(\n",
       "  (conv1): Conv2d(1, 32, kernel_size=(3, 3), stride=(1, 1))\n",
       "  (conv2): Conv2d(32, 64, kernel_size=(3, 3), stride=(1, 1))\n",
       "  (dropout1): Dropout(p=0.25, inplace=False)\n",
       "  (dropout2): Dropout(p=0.5, inplace=False)\n",
       "  (fc1): Linear(in_features=9216, out_features=128, bias=True)\n",
       "  (fc2): Linear(in_features=128, out_features=10, bias=True)\n",
       ")"
      ]
     },
     "execution_count": 9,
     "metadata": {},
     "output_type": "execute_result"
    }
   ],
   "source": [
    "#torch.save(model, '/home/reinauer/EPFL/giotto-deep/examples/cnn_minst_10.pth')\n",
    "model = torch.load('cnn_minst_10.pth')\n",
    "model.eval()"
   ]
  },
  {
   "cell_type": "code",
   "execution_count": 10,
   "metadata": {},
   "outputs": [],
   "source": [
    "class LambdaLayer(nn.Module):\n",
    "    def __init__(self, lam):\n",
    "        super().__init__()\n",
    "        self.lam = lam\n",
    "    def forward(self, x):\n",
    "        return self.lam(x)\n",
    "\n",
    "class DBMulticlass(nn.Module):\n",
    "    def forward(self, x):\n",
    "        y = torch.topk(x, 2).values\n",
    "        return (y[:, 0] - y[:, 1]) + 0.5\n",
    "\n",
    "embedding_model = nn.Sequential(model_auto.decoder,\n",
    "                    LambdaLayer(lambda x: x.reshape(-1, 1, 28, 28)),\n",
    "                    model,\n",
    "                    DBMulticlass())"
   ]
  },
  {
   "cell_type": "code",
   "execution_count": 12,
   "metadata": {},
   "outputs": [
    {
     "data": {
      "text/plain": [
       "'\\nn_delta = 20\\nt = np.linspace(-10.5, 10.5, n_delta)\\nx, y, z = np.meshgrid(t,t,t)\\nxyz = torch.from_numpy(np.stack((x, y, z), axis=-1)).reshape(-1, 3)\\nxyz = xyz.type(torch.float32)\\nvalues = embedding_model(xyz).reshape(n_delta, n_delta, n_delta,-1).detach()\\n   \\ntrace_1 = go.Isosurface(\\n    x = x.flatten(),\\n    y = y.flatten(),\\n    z = z.flatten(),\\n    value=values.flatten(),\\n    isomin=0.0,\\n    isomax=0.1)\\n\\nfig = go.FigureWidget([trace_1])\\nfig.show()\\n'"
      ]
     },
     "execution_count": 12,
     "metadata": {},
     "output_type": "execute_result"
    }
   ],
   "source": [
    "\"\"\"\n",
    "n_delta = 20\n",
    "t = np.linspace(-10.5, 10.5, n_delta)\n",
    "x, y, z = np.meshgrid(t,t,t)\n",
    "xyz = torch.from_numpy(np.stack((x, y, z), axis=-1)).reshape(-1, 3)\n",
    "xyz = xyz.type(torch.float32)\n",
    "values = embedding_model(xyz).reshape(n_delta, n_delta, n_delta,-1).detach()\n",
    "   \n",
    "trace_1 = go.Isosurface(\n",
    "    x = x.flatten(),\n",
    "    y = y.flatten(),\n",
    "    z = z.flatten(),\n",
    "    value=values.flatten(),\n",
    "    isomin=0.0,\n",
    "    isomax=0.1)\n",
    "\n",
    "fig = go.FigureWidget([trace_1])\n",
    "fig.show()\n",
    "\"\"\""
   ]
  },
  {
   "cell_type": "code",
   "execution_count": 11,
   "metadata": {},
   "outputs": [
    {
     "data": {
      "text/plain": [
       "Sequential(\n",
       "  (0): Sequential(\n",
       "    (0): Linear(in_features=3, out_features=12, bias=True)\n",
       "    (1): ReLU(inplace=True)\n",
       "    (2): Linear(in_features=12, out_features=64, bias=True)\n",
       "    (3): ReLU(inplace=True)\n",
       "    (4): Linear(in_features=64, out_features=128, bias=True)\n",
       "    (5): ReLU(inplace=True)\n",
       "    (6): Linear(in_features=128, out_features=784, bias=True)\n",
       "    (7): Tanh()\n",
       "  )\n",
       "  (1): LambdaLayer()\n",
       "  (2): Net(\n",
       "    (conv1): Conv2d(1, 32, kernel_size=(3, 3), stride=(1, 1))\n",
       "    (conv2): Conv2d(32, 64, kernel_size=(3, 3), stride=(1, 1))\n",
       "    (dropout1): Dropout(p=0.25, inplace=False)\n",
       "    (dropout2): Dropout(p=0.5, inplace=False)\n",
       "    (fc1): Linear(in_features=9216, out_features=128, bias=True)\n",
       "    (fc2): Linear(in_features=128, out_features=10, bias=True)\n",
       "  )\n",
       "  (3): DBMulticlass()\n",
       ")"
      ]
     },
     "execution_count": 11,
     "metadata": {},
     "output_type": "execute_result"
    }
   ],
   "source": [
    "torch.cuda.empty_cache()\n",
    "\n",
    "embedding_model.to(dev)\n",
    "embedding_model.eval()"
   ]
  },
  {
   "cell_type": "code",
   "execution_count": 12,
   "metadata": {},
   "outputs": [],
   "source": [
    "#del initial_points_batch\n",
    "torch.cuda.empty_cache()"
   ]
  },
  {
   "cell_type": "code",
   "execution_count": 13,
   "metadata": {},
   "outputs": [
    {
     "name": "stdout",
     "output_type": "stream",
     "text": [
      "batch: 1/2 \t    computation time/batch: 9.4228sec\t    number of points: 31\n",
      "\t    median distance2db: 3.838539123535156e-05\n"
     ]
    },
    {
     "ename": "KeyboardInterrupt",
     "evalue": "",
     "output_type": "error",
     "traceback": [
      "\u001b[0;31m---------------------------------------------------------------------------\u001b[0m",
      "\u001b[0;31mKeyboardInterrupt\u001b[0m                         Traceback (most recent call last)",
      "\u001b[0;32m<ipython-input-13-9e02ae5d58c1>\u001b[0m in \u001b[0;36m<module>\u001b[0;34m\u001b[0m\n\u001b[1;32m     19\u001b[0m                 \u001b[0moptimizer\u001b[0m\u001b[0;34m=\u001b[0m\u001b[0;32mlambda\u001b[0m \u001b[0mparams\u001b[0m\u001b[0;34m:\u001b[0m \u001b[0mtorch\u001b[0m\u001b[0;34m.\u001b[0m\u001b[0moptim\u001b[0m\u001b[0;34m.\u001b[0m\u001b[0mAdam\u001b[0m\u001b[0;34m(\u001b[0m\u001b[0mparams\u001b[0m\u001b[0;34m)\u001b[0m\u001b[0;34m\u001b[0m\u001b[0;34m\u001b[0m\u001b[0m\n\u001b[1;32m     20\u001b[0m     )\n\u001b[0;32m---> 21\u001b[0;31m     \u001b[0mg\u001b[0m\u001b[0;34m.\u001b[0m\u001b[0mstep\u001b[0m\u001b[0;34m(\u001b[0m\u001b[0mn_steps\u001b[0m\u001b[0;34m)\u001b[0m\u001b[0;34m\u001b[0m\u001b[0;34m\u001b[0m\u001b[0m\n\u001b[0m\u001b[1;32m     22\u001b[0m \u001b[0;34m\u001b[0m\u001b[0m\n\u001b[1;32m     23\u001b[0m     \u001b[0;31m# Save computed points to DataFrame\u001b[0m\u001b[0;34m\u001b[0m\u001b[0;34m\u001b[0m\u001b[0;34m\u001b[0m\u001b[0m\n",
      "\u001b[0;32m~/Innosuisse/giotto-deep/gdeep/decision_boundary/decision_boundary_calculator.py\u001b[0m in \u001b[0;36mstep\u001b[0;34m(self, number_of_steps)\u001b[0m\n\u001b[1;32m     99\u001b[0m             \u001b[0mloss\u001b[0m \u001b[0;34m=\u001b[0m \u001b[0mtorch\u001b[0m\u001b[0;34m.\u001b[0m\u001b[0msum\u001b[0m\u001b[0;34m(\u001b[0m\u001b[0mself\u001b[0m\u001b[0;34m.\u001b[0m\u001b[0mmodel\u001b[0m\u001b[0;34m(\u001b[0m\u001b[0mself\u001b[0m\u001b[0;34m.\u001b[0m\u001b[0msample_points\u001b[0m\u001b[0;34m)\u001b[0m\u001b[0;34m)\u001b[0m\u001b[0;34m\u001b[0m\u001b[0;34m\u001b[0m\u001b[0m\n\u001b[1;32m    100\u001b[0m             \u001b[0mloss\u001b[0m\u001b[0;34m.\u001b[0m\u001b[0mbackward\u001b[0m\u001b[0;34m(\u001b[0m\u001b[0;34m)\u001b[0m\u001b[0;34m\u001b[0m\u001b[0;34m\u001b[0m\u001b[0m\n\u001b[0;32m--> 101\u001b[0;31m             \u001b[0mself\u001b[0m\u001b[0;34m.\u001b[0m\u001b[0moptimizer\u001b[0m\u001b[0;34m.\u001b[0m\u001b[0mstep\u001b[0m\u001b[0;34m(\u001b[0m\u001b[0;34m)\u001b[0m\u001b[0;34m\u001b[0m\u001b[0;34m\u001b[0m\u001b[0m\n\u001b[0m\u001b[1;32m    102\u001b[0m \u001b[0;34m\u001b[0m\u001b[0m\n\u001b[1;32m    103\u001b[0m     \u001b[0;32mdef\u001b[0m \u001b[0mget_decision_boundary\u001b[0m\u001b[0;34m(\u001b[0m\u001b[0mself\u001b[0m\u001b[0;34m)\u001b[0m \u001b[0;34m->\u001b[0m \u001b[0mtorch\u001b[0m\u001b[0;34m.\u001b[0m\u001b[0mTensor\u001b[0m\u001b[0;34m:\u001b[0m\u001b[0;34m\u001b[0m\u001b[0;34m\u001b[0m\u001b[0m\n",
      "\u001b[0;32m~/conda-envs/giottodeep/lib/python3.8/site-packages/torch/autograd/grad_mode.py\u001b[0m in \u001b[0;36mdecorate_context\u001b[0;34m(*args, **kwargs)\u001b[0m\n\u001b[1;32m     23\u001b[0m         \u001b[0;34m@\u001b[0m\u001b[0mfunctools\u001b[0m\u001b[0;34m.\u001b[0m\u001b[0mwraps\u001b[0m\u001b[0;34m(\u001b[0m\u001b[0mfunc\u001b[0m\u001b[0;34m)\u001b[0m\u001b[0;34m\u001b[0m\u001b[0;34m\u001b[0m\u001b[0m\n\u001b[1;32m     24\u001b[0m         \u001b[0;32mdef\u001b[0m \u001b[0mdecorate_context\u001b[0m\u001b[0;34m(\u001b[0m\u001b[0;34m*\u001b[0m\u001b[0margs\u001b[0m\u001b[0;34m,\u001b[0m \u001b[0;34m**\u001b[0m\u001b[0mkwargs\u001b[0m\u001b[0;34m)\u001b[0m\u001b[0;34m:\u001b[0m\u001b[0;34m\u001b[0m\u001b[0;34m\u001b[0m\u001b[0m\n\u001b[0;32m---> 25\u001b[0;31m             \u001b[0;32mwith\u001b[0m \u001b[0mself\u001b[0m\u001b[0;34m.\u001b[0m\u001b[0m__class__\u001b[0m\u001b[0;34m(\u001b[0m\u001b[0;34m)\u001b[0m\u001b[0;34m:\u001b[0m\u001b[0;34m\u001b[0m\u001b[0;34m\u001b[0m\u001b[0m\n\u001b[0m\u001b[1;32m     26\u001b[0m                 \u001b[0;32mreturn\u001b[0m \u001b[0mfunc\u001b[0m\u001b[0;34m(\u001b[0m\u001b[0;34m*\u001b[0m\u001b[0margs\u001b[0m\u001b[0;34m,\u001b[0m \u001b[0;34m**\u001b[0m\u001b[0mkwargs\u001b[0m\u001b[0;34m)\u001b[0m\u001b[0;34m\u001b[0m\u001b[0;34m\u001b[0m\u001b[0m\n\u001b[1;32m     27\u001b[0m         \u001b[0;32mreturn\u001b[0m \u001b[0mcast\u001b[0m\u001b[0;34m(\u001b[0m\u001b[0mF\u001b[0m\u001b[0;34m,\u001b[0m \u001b[0mdecorate_context\u001b[0m\u001b[0;34m)\u001b[0m\u001b[0;34m\u001b[0m\u001b[0;34m\u001b[0m\u001b[0m\n",
      "\u001b[0;32m~/conda-envs/giottodeep/lib/python3.8/site-packages/torch/autograd/grad_mode.py\u001b[0m in \u001b[0;36m__init__\u001b[0;34m(self)\u001b[0m\n\u001b[1;32m     80\u001b[0m     \u001b[0;32mdef\u001b[0m \u001b[0m__init__\u001b[0m\u001b[0;34m(\u001b[0m\u001b[0mself\u001b[0m\u001b[0;34m)\u001b[0m\u001b[0;34m:\u001b[0m\u001b[0;34m\u001b[0m\u001b[0;34m\u001b[0m\u001b[0m\n\u001b[1;32m     81\u001b[0m         \u001b[0;32mif\u001b[0m \u001b[0;32mnot\u001b[0m \u001b[0mtorch\u001b[0m\u001b[0;34m.\u001b[0m\u001b[0m_jit_internal\u001b[0m\u001b[0;34m.\u001b[0m\u001b[0mis_scripting\u001b[0m\u001b[0;34m(\u001b[0m\u001b[0;34m)\u001b[0m\u001b[0;34m:\u001b[0m\u001b[0;34m\u001b[0m\u001b[0;34m\u001b[0m\u001b[0m\n\u001b[0;32m---> 82\u001b[0;31m             \u001b[0msuper\u001b[0m\u001b[0;34m(\u001b[0m\u001b[0;34m)\u001b[0m\u001b[0;34m.\u001b[0m\u001b[0m__init__\u001b[0m\u001b[0;34m(\u001b[0m\u001b[0;34m)\u001b[0m\u001b[0;34m\u001b[0m\u001b[0;34m\u001b[0m\u001b[0m\n\u001b[0m\u001b[1;32m     83\u001b[0m         \u001b[0mself\u001b[0m\u001b[0;34m.\u001b[0m\u001b[0mprev\u001b[0m \u001b[0;34m=\u001b[0m \u001b[0;32mFalse\u001b[0m\u001b[0;34m\u001b[0m\u001b[0;34m\u001b[0m\u001b[0m\n\u001b[1;32m     84\u001b[0m \u001b[0;34m\u001b[0m\u001b[0m\n",
      "\u001b[0;31mKeyboardInterrupt\u001b[0m: "
     ]
    }
   ],
   "source": [
    "n_steps = 1000\n",
    "precision = 0.01\n",
    "range_db = 70.\n",
    "\n",
    "n_batches = 2#60*12#100\n",
    "batch_size = 200#1500#4000\n",
    "\n",
    "# Initialize DataFrame\n",
    "db_sample_df = pd.DataFrame(columns = [\"x\"+str(i) for i in range(3)])\n",
    "\n",
    "for b in range(n_batches):\n",
    "    tic = time.perf_counter()\n",
    "    # Sample points on decision boundary\n",
    "    initial_points_batch = range_db * torch.rand((batch_size, 3)) - range_db/2.\n",
    "    initial_points_batch = initial_points_batch.to(dev, non_blocking=True)\n",
    "    g = GradientFlowDecisionBoundaryCalculator(\n",
    "                model=embedding_model,\n",
    "                initial_points=initial_points_batch,\n",
    "                optimizer=lambda params: torch.optim.Adam(params)\n",
    "    )\n",
    "    g.step(n_steps)\n",
    "    \n",
    "    # Save computed points to DataFrame\n",
    "    db_sample_tensor = g.get_filtered_decision_boundary(precision)\n",
    "    \n",
    "    median = torch.median(embedding_model(db_sample_tensor) - 0.5).cpu().detach().numpy()\n",
    "    db_sample = db_sample_tensor.to(device='cpu').detach().numpy()\n",
    "    db_sample_df_batch = pd.DataFrame(db_sample, columns = [\"x\"+str(i) for i in range(3)])\n",
    "    \n",
    "    db_sample_df = db_sample_df.append(db_sample_df_batch, ignore_index=True)\n",
    "    \n",
    "    # Delete tensors on cuda\n",
    "    del db_sample_tensor\n",
    "    del initial_points_batch\n",
    "    del db_sample\n",
    "    torch.cuda.empty_cache()\n",
    "    toc = time.perf_counter()\n",
    "    print(f'batch: {b+1}/{n_batches} \\t\\\n",
    "    computation time/batch: {toc - tic:0.4f}sec\\t\\\n",
    "    number of points: {db_sample_df_batch.shape[0]}\\n\\t\\\n",
    "    median distance2db: {median}')\n",
    "    del db_sample_df_batch"
   ]
  },
  {
   "cell_type": "code",
   "execution_count": 15,
   "metadata": {},
   "outputs": [
    {
     "name": "stdout",
     "output_type": "stream",
     "text": [
      "computation DB time/batch: 56.3714\n",
      "batch: 1/1000 \t    computation time/batch: 56.3980sec\t    number of points: 859\n",
      "\t    median distance2db: 1.1324882507324219e-05\n",
      "computation DB time/batch: 55.8976\n",
      "batch: 2/1000 \t    computation time/batch: 55.9126sec\t    number of points: 851\n",
      "\t    median distance2db: 1.3828277587890625e-05\n",
      "computation DB time/batch: 56.1642\n",
      "batch: 3/1000 \t    computation time/batch: 56.1788sec\t    number of points: 853\n",
      "\t    median distance2db: 9.775161743164062e-06\n",
      "computation DB time/batch: 55.9077\n",
      "batch: 4/1000 \t    computation time/batch: 55.9231sec\t    number of points: 895\n",
      "\t    median distance2db: 1.1444091796875e-05\n",
      "computation DB time/batch: 55.9013\n",
      "batch: 5/1000 \t    computation time/batch: 55.9170sec\t    number of points: 896\n",
      "\t    median distance2db: 1.1920928955078125e-05\n",
      "computation DB time/batch: 55.9706\n",
      "batch: 6/1000 \t    computation time/batch: 55.9861sec\t    number of points: 895\n",
      "\t    median distance2db: 1.0967254638671875e-05\n",
      "computation DB time/batch: 56.0573\n",
      "batch: 7/1000 \t    computation time/batch: 56.0733sec\t    number of points: 918\n",
      "\t    median distance2db: 1.2278556823730469e-05\n",
      "computation DB time/batch: 56.0866\n",
      "batch: 8/1000 \t    computation time/batch: 56.1022sec\t    number of points: 876\n",
      "\t    median distance2db: 1.7881393432617188e-05\n",
      "computation DB time/batch: 56.1546\n",
      "batch: 9/1000 \t    computation time/batch: 56.1697sec\t    number of points: 865\n",
      "\t    median distance2db: 1.1086463928222656e-05\n",
      "computation DB time/batch: 56.0625\n",
      "batch: 10/1000 \t    computation time/batch: 56.0777sec\t    number of points: 870\n",
      "\t    median distance2db: 1.1563301086425781e-05\n",
      "computation DB time/batch: 56.0890\n",
      "batch: 11/1000 \t    computation time/batch: 56.1051sec\t    number of points: 919\n",
      "\t    median distance2db: 1.430511474609375e-05\n",
      "computation DB time/batch: 56.0316\n",
      "batch: 12/1000 \t    computation time/batch: 56.0481sec\t    number of points: 896\n",
      "\t    median distance2db: 7.867813110351562e-06\n",
      "computation DB time/batch: 56.0897\n",
      "batch: 13/1000 \t    computation time/batch: 56.1047sec\t    number of points: 869\n",
      "\t    median distance2db: 1.4424324035644531e-05\n",
      "computation DB time/batch: 56.0976\n",
      "batch: 14/1000 \t    computation time/batch: 56.1137sec\t    number of points: 882\n",
      "\t    median distance2db: 1.33514404296875e-05\n",
      "computation DB time/batch: 56.1519\n",
      "batch: 15/1000 \t    computation time/batch: 56.1673sec\t    number of points: 882\n",
      "\t    median distance2db: 2.2172927856445312e-05\n",
      "computation DB time/batch: 56.0975\n",
      "batch: 16/1000 \t    computation time/batch: 56.1133sec\t    number of points: 881\n",
      "\t    median distance2db: 8.106231689453125e-06\n",
      "computation DB time/batch: 56.1074\n",
      "batch: 17/1000 \t    computation time/batch: 56.1227sec\t    number of points: 877\n",
      "\t    median distance2db: 1.0251998901367188e-05\n",
      "computation DB time/batch: 56.0666\n",
      "batch: 18/1000 \t    computation time/batch: 56.0825sec\t    number of points: 908\n",
      "\t    median distance2db: 1.049041748046875e-05\n",
      "computation DB time/batch: 56.1465\n",
      "batch: 19/1000 \t    computation time/batch: 56.1626sec\t    number of points: 911\n",
      "\t    median distance2db: 1.1920928955078125e-05\n",
      "computation DB time/batch: 56.0889\n",
      "batch: 20/1000 \t    computation time/batch: 56.1049sec\t    number of points: 903\n",
      "\t    median distance2db: 1.2278556823730469e-05\n",
      "computation DB time/batch: 56.1078\n",
      "batch: 21/1000 \t    computation time/batch: 56.1234sec\t    number of points: 882\n",
      "\t    median distance2db: 1.3589859008789062e-05\n",
      "computation DB time/batch: 56.0607\n",
      "batch: 22/1000 \t    computation time/batch: 56.0755sec\t    number of points: 857\n",
      "\t    median distance2db: 1.6570091247558594e-05\n",
      "computation DB time/batch: 56.0835\n",
      "batch: 23/1000 \t    computation time/batch: 56.1003sec\t    number of points: 966\n",
      "\t    median distance2db: 1.0848045349121094e-05\n",
      "computation DB time/batch: 55.9136\n",
      "batch: 24/1000 \t    computation time/batch: 55.9304sec\t    number of points: 941\n",
      "\t    median distance2db: 1.049041748046875e-05\n",
      "computation DB time/batch: 56.1621\n",
      "batch: 25/1000 \t    computation time/batch: 56.1781sec\t    number of points: 899\n",
      "\t    median distance2db: 1.52587890625e-05\n",
      "computation DB time/batch: 56.2489\n",
      "batch: 26/1000 \t    computation time/batch: 56.2649sec\t    number of points: 923\n",
      "\t    median distance2db: 1.5020370483398438e-05\n",
      "computation DB time/batch: 55.9954\n",
      "batch: 27/1000 \t    computation time/batch: 56.0110sec\t    number of points: 882\n",
      "\t    median distance2db: 9.5367431640625e-06\n",
      "computation DB time/batch: 56.1585\n",
      "batch: 28/1000 \t    computation time/batch: 56.1749sec\t    number of points: 901\n",
      "\t    median distance2db: 1.8596649169921875e-05\n",
      "computation DB time/batch: 56.1808\n",
      "batch: 29/1000 \t    computation time/batch: 56.1977sec\t    number of points: 884\n",
      "\t    median distance2db: 1.5974044799804688e-05\n",
      "computation DB time/batch: 55.9594\n",
      "batch: 30/1000 \t    computation time/batch: 55.9747sec\t    number of points: 882\n",
      "\t    median distance2db: 8.225440979003906e-06\n",
      "computation DB time/batch: 55.9318\n",
      "batch: 31/1000 \t    computation time/batch: 55.9481sec\t    number of points: 911\n",
      "\t    median distance2db: 1.0132789611816406e-05\n",
      "computation DB time/batch: 55.8735\n",
      "batch: 32/1000 \t    computation time/batch: 55.8893sec\t    number of points: 898\n",
      "\t    median distance2db: 9.5367431640625e-06\n",
      "computation DB time/batch: 55.8369\n",
      "batch: 33/1000 \t    computation time/batch: 55.8522sec\t    number of points: 886\n",
      "\t    median distance2db: 7.62939453125e-06\n",
      "computation DB time/batch: 55.9484\n",
      "batch: 34/1000 \t    computation time/batch: 55.9637sec\t    number of points: 871\n",
      "\t    median distance2db: 1.33514404296875e-05\n",
      "computation DB time/batch: 55.9600\n",
      "batch: 35/1000 \t    computation time/batch: 55.9751sec\t    number of points: 853\n",
      "\t    median distance2db: 8.58306884765625e-06\n",
      "computation DB time/batch: 56.0559\n",
      "batch: 36/1000 \t    computation time/batch: 56.0720sec\t    number of points: 849\n",
      "\t    median distance2db: 1.990795135498047e-05\n",
      "computation DB time/batch: 56.0989\n",
      "batch: 37/1000 \t    computation time/batch: 56.1147sec\t    number of points: 899\n",
      "\t    median distance2db: 1.5020370483398438e-05\n",
      "computation DB time/batch: 56.1735\n",
      "batch: 38/1000 \t    computation time/batch: 56.1888sec\t    number of points: 846\n",
      "\t    median distance2db: 1.6450881958007812e-05\n",
      "computation DB time/batch: 56.2791\n",
      "batch: 39/1000 \t    computation time/batch: 56.2955sec\t    number of points: 924\n",
      "\t    median distance2db: 1.71661376953125e-05\n",
      "computation DB time/batch: 56.1717\n",
      "batch: 40/1000 \t    computation time/batch: 56.1877sec\t    number of points: 886\n",
      "\t    median distance2db: 1.2159347534179688e-05\n",
      "computation DB time/batch: 56.2056\n",
      "batch: 41/1000 \t    computation time/batch: 56.2213sec\t    number of points: 892\n",
      "\t    median distance2db: 8.821487426757812e-06\n",
      "computation DB time/batch: 56.1897\n",
      "batch: 42/1000 \t    computation time/batch: 56.2051sec\t    number of points: 866\n",
      "\t    median distance2db: 1.1086463928222656e-05\n",
      "computation DB time/batch: 56.2172\n",
      "batch: 43/1000 \t    computation time/batch: 56.2318sec\t    number of points: 855\n",
      "\t    median distance2db: 1.4543533325195312e-05\n",
      "computation DB time/batch: 56.1762\n",
      "batch: 44/1000 \t    computation time/batch: 56.1924sec\t    number of points: 933\n",
      "\t    median distance2db: 1.0132789611816406e-05\n",
      "computation DB time/batch: 56.1130\n",
      "batch: 45/1000 \t    computation time/batch: 56.1281sec\t    number of points: 841\n",
      "\t    median distance2db: 9.059906005859375e-06\n",
      "computation DB time/batch: 55.8540\n",
      "batch: 46/1000 \t    computation time/batch: 55.8707sec\t    number of points: 912\n",
      "\t    median distance2db: 1.430511474609375e-05\n",
      "computation DB time/batch: 56.0677\n",
      "batch: 47/1000 \t    computation time/batch: 56.0842sec\t    number of points: 916\n",
      "\t    median distance2db: 1.3113021850585938e-05\n",
      "computation DB time/batch: 56.1432\n",
      "batch: 48/1000 \t    computation time/batch: 56.1585sec\t    number of points: 838\n",
      "\t    median distance2db: 8.344650268554688e-06\n",
      "computation DB time/batch: 56.2297\n",
      "batch: 49/1000 \t    computation time/batch: 56.2452sec\t    number of points: 877\n",
      "\t    median distance2db: 1.6689300537109375e-05\n",
      "computation DB time/batch: 56.1952\n",
      "batch: 50/1000 \t    computation time/batch: 56.2107sec\t    number of points: 895\n",
      "\t    median distance2db: 1.0251998901367188e-05\n",
      "computation DB time/batch: 56.1983\n",
      "batch: 51/1000 \t    computation time/batch: 56.2140sec\t    number of points: 861\n",
      "\t    median distance2db: 1.811981201171875e-05\n"
     ]
    },
    {
     "name": "stdout",
     "output_type": "stream",
     "text": [
      "computation DB time/batch: 56.1271\n",
      "batch: 52/1000 \t    computation time/batch: 56.1431sec\t    number of points: 904\n",
      "\t    median distance2db: 1.0371208190917969e-05\n",
      "computation DB time/batch: 56.1814\n",
      "batch: 53/1000 \t    computation time/batch: 56.1969sec\t    number of points: 863\n",
      "\t    median distance2db: 1.239776611328125e-05\n",
      "computation DB time/batch: 56.2459\n",
      "batch: 54/1000 \t    computation time/batch: 56.2615sec\t    number of points: 919\n",
      "\t    median distance2db: 1.2636184692382812e-05\n",
      "computation DB time/batch: 56.2619\n",
      "batch: 55/1000 \t    computation time/batch: 56.2783sec\t    number of points: 926\n",
      "\t    median distance2db: 1.633167266845703e-05\n",
      "computation DB time/batch: 56.0964\n",
      "batch: 56/1000 \t    computation time/batch: 56.1124sec\t    number of points: 899\n",
      "\t    median distance2db: 1.0251998901367188e-05\n",
      "computation DB time/batch: 56.0267\n",
      "batch: 57/1000 \t    computation time/batch: 56.0424sec\t    number of points: 896\n",
      "\t    median distance2db: 1.3113021850585938e-05\n",
      "computation DB time/batch: 55.9718\n",
      "batch: 58/1000 \t    computation time/batch: 55.9877sec\t    number of points: 913\n",
      "\t    median distance2db: 1.728534698486328e-05\n",
      "computation DB time/batch: 55.9926\n",
      "batch: 59/1000 \t    computation time/batch: 56.0084sec\t    number of points: 883\n",
      "\t    median distance2db: 7.867813110351562e-06\n",
      "computation DB time/batch: 55.9756\n",
      "batch: 60/1000 \t    computation time/batch: 55.9931sec\t    number of points: 931\n",
      "\t    median distance2db: 1.633167266845703e-05\n",
      "computation DB time/batch: 56.0346\n",
      "batch: 61/1000 \t    computation time/batch: 56.0510sec\t    number of points: 903\n",
      "\t    median distance2db: 2.0623207092285156e-05\n",
      "computation DB time/batch: 55.9862\n",
      "batch: 62/1000 \t    computation time/batch: 56.0018sec\t    number of points: 880\n",
      "\t    median distance2db: 1.1682510375976562e-05\n",
      "computation DB time/batch: 56.0157\n",
      "batch: 63/1000 \t    computation time/batch: 56.0322sec\t    number of points: 888\n",
      "\t    median distance2db: 1.52587890625e-05\n",
      "computation DB time/batch: 55.9623\n",
      "batch: 64/1000 \t    computation time/batch: 55.9777sec\t    number of points: 888\n",
      "\t    median distance2db: 9.298324584960938e-06\n",
      "computation DB time/batch: 55.9673\n",
      "batch: 65/1000 \t    computation time/batch: 55.9832sec\t    number of points: 913\n",
      "\t    median distance2db: 2.682209014892578e-05\n",
      "computation DB time/batch: 56.0628\n",
      "batch: 66/1000 \t    computation time/batch: 56.0789sec\t    number of points: 889\n",
      "\t    median distance2db: 1.430511474609375e-05\n",
      "computation DB time/batch: 56.0390\n",
      "batch: 67/1000 \t    computation time/batch: 56.0533sec\t    number of points: 828\n",
      "\t    median distance2db: 2.205371856689453e-05\n",
      "computation DB time/batch: 55.9779\n",
      "batch: 68/1000 \t    computation time/batch: 55.9938sec\t    number of points: 916\n",
      "\t    median distance2db: 8.106231689453125e-06\n",
      "computation DB time/batch: 56.0319\n",
      "batch: 69/1000 \t    computation time/batch: 56.0471sec\t    number of points: 898\n",
      "\t    median distance2db: 1.1801719665527344e-05\n",
      "computation DB time/batch: 55.9471\n",
      "batch: 70/1000 \t    computation time/batch: 55.9637sec\t    number of points: 931\n",
      "\t    median distance2db: 1.8835067749023438e-05\n",
      "computation DB time/batch: 56.0417\n",
      "batch: 71/1000 \t    computation time/batch: 56.0573sec\t    number of points: 883\n",
      "\t    median distance2db: 1.4781951904296875e-05\n",
      "computation DB time/batch: 55.9492\n",
      "batch: 72/1000 \t    computation time/batch: 55.9651sec\t    number of points: 911\n",
      "\t    median distance2db: 1.4662742614746094e-05\n",
      "computation DB time/batch: 56.1132\n",
      "batch: 73/1000 \t    computation time/batch: 56.1291sec\t    number of points: 914\n",
      "\t    median distance2db: 1.7642974853515625e-05\n",
      "computation DB time/batch: 56.2395\n",
      "batch: 74/1000 \t    computation time/batch: 56.2552sec\t    number of points: 861\n",
      "\t    median distance2db: 1.2159347534179688e-05\n",
      "computation DB time/batch: 56.1053\n",
      "batch: 75/1000 \t    computation time/batch: 56.1207sec\t    number of points: 896\n",
      "\t    median distance2db: 2.9087066650390625e-05\n",
      "computation DB time/batch: 55.9111\n",
      "batch: 76/1000 \t    computation time/batch: 55.9275sec\t    number of points: 872\n",
      "\t    median distance2db: 1.1920928955078125e-05\n",
      "computation DB time/batch: 55.9504\n",
      "batch: 77/1000 \t    computation time/batch: 55.9668sec\t    number of points: 906\n",
      "\t    median distance2db: 1.3828277587890625e-05\n",
      "computation DB time/batch: 55.9371\n",
      "batch: 78/1000 \t    computation time/batch: 55.9536sec\t    number of points: 903\n",
      "\t    median distance2db: 1.1444091796875e-05\n",
      "computation DB time/batch: 55.9140\n",
      "batch: 79/1000 \t    computation time/batch: 55.9287sec\t    number of points: 838\n",
      "\t    median distance2db: 1.6689300537109375e-05\n",
      "computation DB time/batch: 55.9228\n",
      "batch: 80/1000 \t    computation time/batch: 55.9382sec\t    number of points: 864\n",
      "\t    median distance2db: 1.4901161193847656e-05\n",
      "computation DB time/batch: 55.9529\n",
      "batch: 81/1000 \t    computation time/batch: 55.9689sec\t    number of points: 900\n",
      "\t    median distance2db: 2.3126602172851562e-05\n",
      "computation DB time/batch: 55.9346\n",
      "batch: 82/1000 \t    computation time/batch: 55.9502sec\t    number of points: 906\n",
      "\t    median distance2db: 1.5735626220703125e-05\n",
      "computation DB time/batch: 56.0698\n",
      "batch: 83/1000 \t    computation time/batch: 56.0856sec\t    number of points: 887\n",
      "\t    median distance2db: 1.2874603271484375e-05\n",
      "computation DB time/batch: 56.0417\n",
      "batch: 84/1000 \t    computation time/batch: 56.0571sec\t    number of points: 881\n",
      "\t    median distance2db: 2.002716064453125e-05\n",
      "computation DB time/batch: 56.1631\n",
      "batch: 85/1000 \t    computation time/batch: 56.1795sec\t    number of points: 907\n",
      "\t    median distance2db: 1.1801719665527344e-05\n",
      "computation DB time/batch: 56.1198\n",
      "batch: 86/1000 \t    computation time/batch: 56.1353sec\t    number of points: 875\n",
      "\t    median distance2db: 1.5139579772949219e-05\n",
      "computation DB time/batch: 56.1680\n",
      "batch: 87/1000 \t    computation time/batch: 56.1845sec\t    number of points: 915\n",
      "\t    median distance2db: 1.3470649719238281e-05\n",
      "computation DB time/batch: 56.2207\n",
      "batch: 88/1000 \t    computation time/batch: 56.2368sec\t    number of points: 915\n",
      "\t    median distance2db: 1.3828277587890625e-05\n",
      "computation DB time/batch: 56.2426\n",
      "batch: 89/1000 \t    computation time/batch: 56.2581sec\t    number of points: 896\n",
      "\t    median distance2db: 1.633167266845703e-05\n",
      "computation DB time/batch: 56.3537\n",
      "batch: 90/1000 \t    computation time/batch: 56.3693sec\t    number of points: 867\n",
      "\t    median distance2db: 2.193450927734375e-05\n",
      "computation DB time/batch: 56.3357\n",
      "batch: 91/1000 \t    computation time/batch: 56.3526sec\t    number of points: 898\n",
      "\t    median distance2db: 1.6450881958007812e-05\n",
      "computation DB time/batch: 56.2692\n",
      "batch: 92/1000 \t    computation time/batch: 56.2852sec\t    number of points: 873\n",
      "\t    median distance2db: 1.239776611328125e-05\n",
      "computation DB time/batch: 56.1934\n",
      "batch: 93/1000 \t    computation time/batch: 56.2095sec\t    number of points: 892\n",
      "\t    median distance2db: 9.894371032714844e-06\n",
      "computation DB time/batch: 56.1171\n",
      "batch: 94/1000 \t    computation time/batch: 56.1332sec\t    number of points: 928\n",
      "\t    median distance2db: 1.239776611328125e-05\n",
      "computation DB time/batch: 56.1563\n",
      "batch: 95/1000 \t    computation time/batch: 56.1726sec\t    number of points: 899\n",
      "\t    median distance2db: 1.049041748046875e-05\n",
      "computation DB time/batch: 56.1368\n",
      "batch: 96/1000 \t    computation time/batch: 56.1531sec\t    number of points: 924\n",
      "\t    median distance2db: 1.4781951904296875e-05\n",
      "computation DB time/batch: 56.2754\n",
      "batch: 97/1000 \t    computation time/batch: 56.2906sec\t    number of points: 835\n",
      "\t    median distance2db: 1.52587890625e-05\n",
      "computation DB time/batch: 56.1233\n",
      "batch: 98/1000 \t    computation time/batch: 56.1394sec\t    number of points: 893\n",
      "\t    median distance2db: 7.3909759521484375e-06\n",
      "computation DB time/batch: 56.1776\n",
      "batch: 99/1000 \t    computation time/batch: 56.1932sec\t    number of points: 913\n",
      "\t    median distance2db: 1.0371208190917969e-05\n",
      "computation DB time/batch: 56.0974\n",
      "batch: 100/1000 \t    computation time/batch: 56.1133sec\t    number of points: 896\n",
      "\t    median distance2db: 1.0728836059570312e-05\n",
      "computation DB time/batch: 56.0939\n",
      "batch: 101/1000 \t    computation time/batch: 56.1092sec\t    number of points: 874\n",
      "\t    median distance2db: 1.5974044799804688e-05\n",
      "computation DB time/batch: 56.0949\n",
      "batch: 102/1000 \t    computation time/batch: 56.1111sec\t    number of points: 878\n",
      "\t    median distance2db: 1.633167266845703e-05\n"
     ]
    },
    {
     "name": "stdout",
     "output_type": "stream",
     "text": [
      "computation DB time/batch: 56.1398\n",
      "batch: 103/1000 \t    computation time/batch: 56.1552sec\t    number of points: 887\n",
      "\t    median distance2db: 1.6450881958007812e-05\n",
      "computation DB time/batch: 56.1192\n",
      "batch: 104/1000 \t    computation time/batch: 56.1353sec\t    number of points: 902\n",
      "\t    median distance2db: 7.62939453125e-06\n",
      "computation DB time/batch: 56.0895\n",
      "batch: 105/1000 \t    computation time/batch: 56.1051sec\t    number of points: 884\n",
      "\t    median distance2db: 2.4199485778808594e-05\n",
      "computation DB time/batch: 56.0755\n",
      "batch: 106/1000 \t    computation time/batch: 56.0924sec\t    number of points: 947\n",
      "\t    median distance2db: 1.4662742614746094e-05\n",
      "computation DB time/batch: 56.1327\n",
      "batch: 107/1000 \t    computation time/batch: 56.1506sec\t    number of points: 886\n",
      "\t    median distance2db: 9.5367431640625e-06\n",
      "computation DB time/batch: 56.1415\n",
      "batch: 108/1000 \t    computation time/batch: 56.1580sec\t    number of points: 896\n",
      "\t    median distance2db: 2.1457672119140625e-05\n",
      "computation DB time/batch: 56.1765\n",
      "batch: 109/1000 \t    computation time/batch: 56.1918sec\t    number of points: 876\n",
      "\t    median distance2db: 1.430511474609375e-05\n",
      "computation DB time/batch: 56.1544\n",
      "batch: 110/1000 \t    computation time/batch: 56.1703sec\t    number of points: 862\n",
      "\t    median distance2db: 1.0609626770019531e-05\n",
      "computation DB time/batch: 56.1308\n",
      "batch: 111/1000 \t    computation time/batch: 56.1462sec\t    number of points: 865\n",
      "\t    median distance2db: 1.430511474609375e-05\n",
      "computation DB time/batch: 56.1294\n",
      "batch: 112/1000 \t    computation time/batch: 56.1449sec\t    number of points: 870\n",
      "\t    median distance2db: 1.1682510375976562e-05\n",
      "computation DB time/batch: 56.0728\n",
      "batch: 113/1000 \t    computation time/batch: 56.0894sec\t    number of points: 922\n",
      "\t    median distance2db: 1.5854835510253906e-05\n",
      "computation DB time/batch: 56.0114\n",
      "batch: 114/1000 \t    computation time/batch: 56.0275sec\t    number of points: 887\n",
      "\t    median distance2db: 8.940696716308594e-06\n",
      "computation DB time/batch: 56.0291\n",
      "batch: 115/1000 \t    computation time/batch: 56.0454sec\t    number of points: 897\n",
      "\t    median distance2db: 9.5367431640625e-06\n",
      "computation DB time/batch: 56.0500\n",
      "batch: 116/1000 \t    computation time/batch: 56.0656sec\t    number of points: 898\n",
      "\t    median distance2db: 1.4781951904296875e-05\n",
      "computation DB time/batch: 56.0605\n",
      "batch: 117/1000 \t    computation time/batch: 56.0758sec\t    number of points: 857\n",
      "\t    median distance2db: 1.3470649719238281e-05\n",
      "computation DB time/batch: 55.9949\n",
      "batch: 118/1000 \t    computation time/batch: 56.0103sec\t    number of points: 874\n",
      "\t    median distance2db: 1.5735626220703125e-05\n",
      "computation DB time/batch: 55.9806\n",
      "batch: 119/1000 \t    computation time/batch: 55.9965sec\t    number of points: 879\n",
      "\t    median distance2db: 1.1086463928222656e-05\n",
      "computation DB time/batch: 55.9719\n",
      "batch: 120/1000 \t    computation time/batch: 55.9873sec\t    number of points: 900\n",
      "\t    median distance2db: 1.4066696166992188e-05\n",
      "computation DB time/batch: 56.0527\n",
      "batch: 121/1000 \t    computation time/batch: 56.0685sec\t    number of points: 872\n",
      "\t    median distance2db: 9.417533874511719e-06\n",
      "computation DB time/batch: 56.0437\n",
      "batch: 122/1000 \t    computation time/batch: 56.0602sec\t    number of points: 912\n",
      "\t    median distance2db: 1.8596649169921875e-05\n",
      "computation DB time/batch: 56.0872\n",
      "batch: 123/1000 \t    computation time/batch: 56.1042sec\t    number of points: 898\n",
      "\t    median distance2db: 1.8477439880371094e-05\n",
      "computation DB time/batch: 56.1468\n",
      "batch: 124/1000 \t    computation time/batch: 56.1631sec\t    number of points: 906\n",
      "\t    median distance2db: 1.5020370483398438e-05\n",
      "computation DB time/batch: 56.1357\n",
      "batch: 125/1000 \t    computation time/batch: 56.1521sec\t    number of points: 889\n",
      "\t    median distance2db: 1.2755393981933594e-05\n",
      "computation DB time/batch: 56.0241\n",
      "batch: 126/1000 \t    computation time/batch: 56.0396sec\t    number of points: 874\n",
      "\t    median distance2db: 1.2874603271484375e-05\n",
      "computation DB time/batch: 56.1118\n",
      "batch: 127/1000 \t    computation time/batch: 56.1281sec\t    number of points: 922\n",
      "\t    median distance2db: 1.239776611328125e-05\n",
      "computation DB time/batch: 56.0918\n",
      "batch: 128/1000 \t    computation time/batch: 56.1080sec\t    number of points: 887\n",
      "\t    median distance2db: 1.9431114196777344e-05\n",
      "computation DB time/batch: 56.1482\n",
      "batch: 129/1000 \t    computation time/batch: 56.1635sec\t    number of points: 860\n",
      "\t    median distance2db: 1.4662742614746094e-05\n",
      "computation DB time/batch: 56.1351\n",
      "batch: 130/1000 \t    computation time/batch: 56.1503sec\t    number of points: 859\n",
      "\t    median distance2db: 1.1920928955078125e-05\n",
      "computation DB time/batch: 56.1751\n",
      "batch: 131/1000 \t    computation time/batch: 56.1912sec\t    number of points: 923\n",
      "\t    median distance2db: 1.33514404296875e-05\n",
      "computation DB time/batch: 56.1340\n",
      "batch: 132/1000 \t    computation time/batch: 56.1503sec\t    number of points: 881\n",
      "\t    median distance2db: 1.4901161193847656e-05\n",
      "computation DB time/batch: 55.9789\n",
      "batch: 133/1000 \t    computation time/batch: 55.9948sec\t    number of points: 876\n",
      "\t    median distance2db: 1.3113021850585938e-05\n",
      "computation DB time/batch: 55.9738\n",
      "batch: 134/1000 \t    computation time/batch: 55.9900sec\t    number of points: 892\n",
      "\t    median distance2db: 1.728534698486328e-05\n",
      "computation DB time/batch: 55.9221\n",
      "batch: 135/1000 \t    computation time/batch: 55.9381sec\t    number of points: 878\n",
      "\t    median distance2db: 1.3709068298339844e-05\n",
      "computation DB time/batch: 55.9964\n",
      "batch: 136/1000 \t    computation time/batch: 56.0124sec\t    number of points: 928\n",
      "\t    median distance2db: 9.775161743164062e-06\n",
      "computation DB time/batch: 55.9590\n",
      "batch: 137/1000 \t    computation time/batch: 55.9754sec\t    number of points: 886\n",
      "\t    median distance2db: 1.5497207641601562e-05\n",
      "computation DB time/batch: 55.8951\n",
      "batch: 138/1000 \t    computation time/batch: 55.9118sec\t    number of points: 881\n",
      "\t    median distance2db: 1.4543533325195312e-05\n",
      "computation DB time/batch: 55.9205\n",
      "batch: 139/1000 \t    computation time/batch: 55.9362sec\t    number of points: 845\n",
      "\t    median distance2db: 1.1205673217773438e-05\n",
      "computation DB time/batch: 55.8606\n",
      "batch: 140/1000 \t    computation time/batch: 55.8767sec\t    number of points: 853\n",
      "\t    median distance2db: 1.9550323486328125e-05\n",
      "computation DB time/batch: 55.9070\n",
      "batch: 141/1000 \t    computation time/batch: 55.9228sec\t    number of points: 914\n",
      "\t    median distance2db: 1.8835067749023438e-05\n",
      "computation DB time/batch: 55.9414\n",
      "batch: 142/1000 \t    computation time/batch: 55.9574sec\t    number of points: 910\n",
      "\t    median distance2db: 1.4424324035644531e-05\n",
      "computation DB time/batch: 56.1897\n",
      "batch: 143/1000 \t    computation time/batch: 56.2061sec\t    number of points: 901\n",
      "\t    median distance2db: 1.2278556823730469e-05\n",
      "computation DB time/batch: 56.2385\n",
      "batch: 144/1000 \t    computation time/batch: 56.2546sec\t    number of points: 881\n",
      "\t    median distance2db: 9.298324584960938e-06\n",
      "computation DB time/batch: 56.1144\n",
      "batch: 145/1000 \t    computation time/batch: 56.1304sec\t    number of points: 896\n",
      "\t    median distance2db: 1.049041748046875e-05\n",
      "computation DB time/batch: 55.9771\n",
      "batch: 146/1000 \t    computation time/batch: 55.9931sec\t    number of points: 893\n",
      "\t    median distance2db: 1.1444091796875e-05\n",
      "computation DB time/batch: 55.9144\n",
      "batch: 147/1000 \t    computation time/batch: 55.9299sec\t    number of points: 854\n",
      "\t    median distance2db: 1.430511474609375e-05\n",
      "computation DB time/batch: 55.9121\n",
      "batch: 148/1000 \t    computation time/batch: 55.9276sec\t    number of points: 892\n",
      "\t    median distance2db: 1.0728836059570312e-05\n",
      "computation DB time/batch: 55.9875\n",
      "batch: 149/1000 \t    computation time/batch: 56.0038sec\t    number of points: 887\n",
      "\t    median distance2db: 1.5735626220703125e-05\n",
      "computation DB time/batch: 56.0930\n",
      "batch: 150/1000 \t    computation time/batch: 56.1084sec\t    number of points: 867\n",
      "\t    median distance2db: 1.6689300537109375e-05\n",
      "computation DB time/batch: 56.0399\n",
      "batch: 151/1000 \t    computation time/batch: 56.0560sec\t    number of points: 868\n",
      "\t    median distance2db: 2.300739288330078e-05\n",
      "computation DB time/batch: 56.1497\n",
      "batch: 152/1000 \t    computation time/batch: 56.1655sec\t    number of points: 859\n",
      "\t    median distance2db: 1.430511474609375e-05\n"
     ]
    },
    {
     "name": "stdout",
     "output_type": "stream",
     "text": [
      "computation DB time/batch: 56.2035\n",
      "batch: 153/1000 \t    computation time/batch: 56.2199sec\t    number of points: 894\n",
      "\t    median distance2db: 1.3828277587890625e-05\n",
      "computation DB time/batch: 56.1415\n",
      "batch: 154/1000 \t    computation time/batch: 56.1576sec\t    number of points: 894\n",
      "\t    median distance2db: 7.867813110351562e-06\n",
      "computation DB time/batch: 56.1729\n",
      "batch: 155/1000 \t    computation time/batch: 56.1898sec\t    number of points: 910\n",
      "\t    median distance2db: 9.059906005859375e-06\n",
      "computation DB time/batch: 56.1842\n",
      "batch: 156/1000 \t    computation time/batch: 56.2001sec\t    number of points: 892\n",
      "\t    median distance2db: 1.633167266845703e-05\n",
      "computation DB time/batch: 56.2173\n",
      "batch: 157/1000 \t    computation time/batch: 56.2339sec\t    number of points: 920\n",
      "\t    median distance2db: 1.6450881958007812e-05\n",
      "computation DB time/batch: 56.2287\n",
      "batch: 158/1000 \t    computation time/batch: 56.2453sec\t    number of points: 918\n",
      "\t    median distance2db: 9.417533874511719e-06\n",
      "computation DB time/batch: 56.1818\n",
      "batch: 159/1000 \t    computation time/batch: 56.1983sec\t    number of points: 915\n",
      "\t    median distance2db: 1.049041748046875e-05\n",
      "computation DB time/batch: 56.1598\n",
      "batch: 160/1000 \t    computation time/batch: 56.1759sec\t    number of points: 896\n",
      "\t    median distance2db: 1.1205673217773438e-05\n",
      "computation DB time/batch: 56.1402\n",
      "batch: 161/1000 \t    computation time/batch: 56.1562sec\t    number of points: 914\n",
      "\t    median distance2db: 1.8358230590820312e-05\n",
      "computation DB time/batch: 56.1904\n",
      "batch: 162/1000 \t    computation time/batch: 56.2065sec\t    number of points: 871\n",
      "\t    median distance2db: 9.417533874511719e-06\n",
      "computation DB time/batch: 56.1949\n",
      "batch: 163/1000 \t    computation time/batch: 56.2102sec\t    number of points: 876\n",
      "\t    median distance2db: 1.5616416931152344e-05\n",
      "computation DB time/batch: 56.2307\n",
      "batch: 164/1000 \t    computation time/batch: 56.2474sec\t    number of points: 911\n",
      "\t    median distance2db: 9.655952453613281e-06\n",
      "computation DB time/batch: 56.1775\n",
      "batch: 165/1000 \t    computation time/batch: 56.1928sec\t    number of points: 873\n",
      "\t    median distance2db: 1.800060272216797e-05\n",
      "computation DB time/batch: 56.1537\n",
      "batch: 166/1000 \t    computation time/batch: 56.1696sec\t    number of points: 848\n",
      "\t    median distance2db: 1.919269561767578e-05\n",
      "computation DB time/batch: 56.1868\n",
      "batch: 167/1000 \t    computation time/batch: 56.2024sec\t    number of points: 895\n",
      "\t    median distance2db: 1.2636184692382812e-05\n",
      "computation DB time/batch: 56.1679\n",
      "batch: 168/1000 \t    computation time/batch: 56.1845sec\t    number of points: 916\n",
      "\t    median distance2db: 1.2993812561035156e-05\n",
      "computation DB time/batch: 56.2171\n",
      "batch: 169/1000 \t    computation time/batch: 56.2341sec\t    number of points: 933\n",
      "\t    median distance2db: 1.633167266845703e-05\n",
      "computation DB time/batch: 56.1981\n",
      "batch: 170/1000 \t    computation time/batch: 56.2143sec\t    number of points: 870\n",
      "\t    median distance2db: 1.7404556274414062e-05\n",
      "computation DB time/batch: 56.2252\n",
      "batch: 171/1000 \t    computation time/batch: 56.2427sec\t    number of points: 962\n",
      "\t    median distance2db: 7.510185241699219e-06\n",
      "computation DB time/batch: 56.1592\n",
      "batch: 172/1000 \t    computation time/batch: 56.1760sec\t    number of points: 889\n",
      "\t    median distance2db: 1.621246337890625e-05\n",
      "computation DB time/batch: 56.0752\n",
      "batch: 173/1000 \t    computation time/batch: 56.0915sec\t    number of points: 908\n",
      "\t    median distance2db: 1.4781951904296875e-05\n",
      "computation DB time/batch: 56.1513\n",
      "batch: 174/1000 \t    computation time/batch: 56.1672sec\t    number of points: 871\n",
      "\t    median distance2db: 1.239776611328125e-05\n",
      "computation DB time/batch: 56.0997\n",
      "batch: 175/1000 \t    computation time/batch: 56.1154sec\t    number of points: 877\n",
      "\t    median distance2db: 8.821487426757812e-06\n",
      "computation DB time/batch: 56.1598\n",
      "batch: 176/1000 \t    computation time/batch: 56.1756sec\t    number of points: 884\n",
      "\t    median distance2db: 1.2874603271484375e-05\n",
      "computation DB time/batch: 56.2179\n",
      "batch: 177/1000 \t    computation time/batch: 56.2344sec\t    number of points: 904\n",
      "\t    median distance2db: 1.1920928955078125e-05\n",
      "computation DB time/batch: 56.2353\n",
      "batch: 178/1000 \t    computation time/batch: 56.2514sec\t    number of points: 878\n",
      "\t    median distance2db: 1.3232231140136719e-05\n",
      "computation DB time/batch: 56.1214\n",
      "batch: 179/1000 \t    computation time/batch: 56.1378sec\t    number of points: 897\n",
      "\t    median distance2db: 9.298324584960938e-06\n",
      "computation DB time/batch: 56.1268\n",
      "batch: 180/1000 \t    computation time/batch: 56.1431sec\t    number of points: 897\n",
      "\t    median distance2db: 1.1682510375976562e-05\n",
      "computation DB time/batch: 56.0995\n",
      "batch: 181/1000 \t    computation time/batch: 56.1154sec\t    number of points: 902\n",
      "\t    median distance2db: 1.8835067749023438e-05\n",
      "computation DB time/batch: 56.1230\n",
      "batch: 182/1000 \t    computation time/batch: 56.1397sec\t    number of points: 919\n",
      "\t    median distance2db: 1.537799835205078e-05\n",
      "computation DB time/batch: 56.1746\n",
      "batch: 183/1000 \t    computation time/batch: 56.1907sec\t    number of points: 867\n",
      "\t    median distance2db: 1.3113021850585938e-05\n",
      "computation DB time/batch: 56.1833\n",
      "batch: 184/1000 \t    computation time/batch: 56.1990sec\t    number of points: 842\n",
      "\t    median distance2db: 1.4543533325195312e-05\n",
      "computation DB time/batch: 56.1993\n",
      "batch: 185/1000 \t    computation time/batch: 56.2156sec\t    number of points: 849\n",
      "\t    median distance2db: 1.1920928955078125e-05\n",
      "computation DB time/batch: 56.1370\n",
      "batch: 186/1000 \t    computation time/batch: 56.1532sec\t    number of points: 882\n",
      "\t    median distance2db: 9.298324584960938e-06\n",
      "computation DB time/batch: 56.1566\n",
      "batch: 187/1000 \t    computation time/batch: 56.1739sec\t    number of points: 924\n",
      "\t    median distance2db: 1.919269561767578e-05\n",
      "computation DB time/batch: 56.1265\n",
      "batch: 188/1000 \t    computation time/batch: 56.1425sec\t    number of points: 905\n",
      "\t    median distance2db: 1.239776611328125e-05\n",
      "computation DB time/batch: 56.1356\n",
      "batch: 189/1000 \t    computation time/batch: 56.1520sec\t    number of points: 911\n",
      "\t    median distance2db: 1.0967254638671875e-05\n",
      "computation DB time/batch: 56.1901\n",
      "batch: 190/1000 \t    computation time/batch: 56.2064sec\t    number of points: 909\n",
      "\t    median distance2db: 1.2993812561035156e-05\n",
      "computation DB time/batch: 56.2053\n",
      "batch: 191/1000 \t    computation time/batch: 56.2211sec\t    number of points: 889\n",
      "\t    median distance2db: 1.621246337890625e-05\n",
      "computation DB time/batch: 56.1303\n",
      "batch: 192/1000 \t    computation time/batch: 56.1458sec\t    number of points: 840\n",
      "\t    median distance2db: 9.5367431640625e-06\n",
      "computation DB time/batch: 56.1857\n",
      "batch: 193/1000 \t    computation time/batch: 56.2018sec\t    number of points: 897\n",
      "\t    median distance2db: 1.4543533325195312e-05\n",
      "computation DB time/batch: 56.1236\n",
      "batch: 194/1000 \t    computation time/batch: 56.1389sec\t    number of points: 862\n",
      "\t    median distance2db: 1.5020370483398438e-05\n",
      "computation DB time/batch: 56.1424\n",
      "batch: 195/1000 \t    computation time/batch: 56.1581sec\t    number of points: 876\n",
      "\t    median distance2db: 2.0265579223632812e-05\n",
      "computation DB time/batch: 56.1414\n",
      "batch: 196/1000 \t    computation time/batch: 56.1579sec\t    number of points: 899\n",
      "\t    median distance2db: 1.0132789611816406e-05\n",
      "computation DB time/batch: 56.2304\n",
      "batch: 197/1000 \t    computation time/batch: 56.2463sec\t    number of points: 879\n",
      "\t    median distance2db: 1.3947486877441406e-05\n",
      "computation DB time/batch: 56.1965\n",
      "batch: 198/1000 \t    computation time/batch: 56.2137sec\t    number of points: 941\n",
      "\t    median distance2db: 2.0503997802734375e-05\n",
      "computation DB time/batch: 56.1786\n",
      "batch: 199/1000 \t    computation time/batch: 56.1946sec\t    number of points: 889\n",
      "\t    median distance2db: 1.621246337890625e-05\n",
      "computation DB time/batch: 56.1888\n",
      "batch: 200/1000 \t    computation time/batch: 56.2053sec\t    number of points: 895\n",
      "\t    median distance2db: 2.276897430419922e-05\n",
      "computation DB time/batch: 56.2234\n",
      "batch: 201/1000 \t    computation time/batch: 56.2397sec\t    number of points: 876\n",
      "\t    median distance2db: 1.4543533325195312e-05\n",
      "computation DB time/batch: 56.1547\n",
      "batch: 202/1000 \t    computation time/batch: 56.1710sec\t    number of points: 911\n",
      "\t    median distance2db: 2.2411346435546875e-05\n"
     ]
    },
    {
     "name": "stdout",
     "output_type": "stream",
     "text": [
      "computation DB time/batch: 56.3025\n",
      "batch: 203/1000 \t    computation time/batch: 56.3190sec\t    number of points: 925\n",
      "\t    median distance2db: 8.106231689453125e-06\n",
      "computation DB time/batch: 56.1885\n",
      "batch: 204/1000 \t    computation time/batch: 56.2045sec\t    number of points: 843\n",
      "\t    median distance2db: 1.1563301086425781e-05\n",
      "computation DB time/batch: 56.2598\n",
      "batch: 205/1000 \t    computation time/batch: 56.2768sec\t    number of points: 922\n",
      "\t    median distance2db: 1.6450881958007812e-05\n",
      "computation DB time/batch: 56.1950\n",
      "batch: 206/1000 \t    computation time/batch: 56.2108sec\t    number of points: 840\n",
      "\t    median distance2db: 2.002716064453125e-05\n",
      "computation DB time/batch: 56.1728\n",
      "batch: 207/1000 \t    computation time/batch: 56.1893sec\t    number of points: 901\n",
      "\t    median distance2db: 2.3484230041503906e-05\n",
      "computation DB time/batch: 56.1725\n",
      "batch: 208/1000 \t    computation time/batch: 56.1889sec\t    number of points: 906\n",
      "\t    median distance2db: 2.5510787963867188e-05\n",
      "computation DB time/batch: 56.1205\n",
      "batch: 209/1000 \t    computation time/batch: 56.1368sec\t    number of points: 887\n",
      "\t    median distance2db: 1.1682510375976562e-05\n",
      "computation DB time/batch: 56.0328\n",
      "batch: 210/1000 \t    computation time/batch: 56.0487sec\t    number of points: 919\n",
      "\t    median distance2db: 1.239776611328125e-05\n",
      "computation DB time/batch: 56.1252\n",
      "batch: 211/1000 \t    computation time/batch: 56.1423sec\t    number of points: 921\n",
      "\t    median distance2db: 1.2159347534179688e-05\n",
      "computation DB time/batch: 56.1592\n",
      "batch: 212/1000 \t    computation time/batch: 56.1754sec\t    number of points: 879\n",
      "\t    median distance2db: 1.1563301086425781e-05\n",
      "computation DB time/batch: 56.1739\n",
      "batch: 213/1000 \t    computation time/batch: 56.1902sec\t    number of points: 882\n",
      "\t    median distance2db: 1.52587890625e-05\n",
      "computation DB time/batch: 56.1186\n",
      "batch: 214/1000 \t    computation time/batch: 56.1338sec\t    number of points: 863\n",
      "\t    median distance2db: 1.4066696166992188e-05\n",
      "computation DB time/batch: 56.0951\n",
      "batch: 215/1000 \t    computation time/batch: 56.1109sec\t    number of points: 851\n",
      "\t    median distance2db: 1.2874603271484375e-05\n",
      "computation DB time/batch: 56.1367\n",
      "batch: 216/1000 \t    computation time/batch: 56.1535sec\t    number of points: 912\n",
      "\t    median distance2db: 1.6570091247558594e-05\n",
      "computation DB time/batch: 56.0690\n",
      "batch: 217/1000 \t    computation time/batch: 56.0858sec\t    number of points: 888\n",
      "\t    median distance2db: 1.0967254638671875e-05\n",
      "computation DB time/batch: 56.1311\n",
      "batch: 218/1000 \t    computation time/batch: 56.1477sec\t    number of points: 939\n",
      "\t    median distance2db: 1.239776611328125e-05\n",
      "computation DB time/batch: 56.1137\n",
      "batch: 219/1000 \t    computation time/batch: 56.1297sec\t    number of points: 872\n",
      "\t    median distance2db: 1.049041748046875e-05\n",
      "computation DB time/batch: 56.1446\n",
      "batch: 220/1000 \t    computation time/batch: 56.1611sec\t    number of points: 887\n",
      "\t    median distance2db: 1.704692840576172e-05\n",
      "computation DB time/batch: 56.1146\n",
      "batch: 221/1000 \t    computation time/batch: 56.1314sec\t    number of points: 881\n",
      "\t    median distance2db: 8.821487426757812e-06\n",
      "computation DB time/batch: 56.0910\n",
      "batch: 222/1000 \t    computation time/batch: 56.1072sec\t    number of points: 879\n",
      "\t    median distance2db: 1.8715858459472656e-05\n",
      "computation DB time/batch: 56.0719\n",
      "batch: 223/1000 \t    computation time/batch: 56.0879sec\t    number of points: 914\n",
      "\t    median distance2db: 1.33514404296875e-05\n",
      "computation DB time/batch: 56.0974\n",
      "batch: 224/1000 \t    computation time/batch: 56.1137sec\t    number of points: 865\n",
      "\t    median distance2db: 8.106231689453125e-06\n",
      "computation DB time/batch: 56.1123\n",
      "batch: 225/1000 \t    computation time/batch: 56.1278sec\t    number of points: 852\n",
      "\t    median distance2db: 1.0967254638671875e-05\n",
      "computation DB time/batch: 56.1404\n",
      "batch: 226/1000 \t    computation time/batch: 56.1567sec\t    number of points: 916\n",
      "\t    median distance2db: 1.3828277587890625e-05\n",
      "computation DB time/batch: 56.1540\n",
      "batch: 227/1000 \t    computation time/batch: 56.1699sec\t    number of points: 876\n",
      "\t    median distance2db: 1.430511474609375e-05\n",
      "computation DB time/batch: 56.1480\n",
      "batch: 228/1000 \t    computation time/batch: 56.1648sec\t    number of points: 943\n",
      "\t    median distance2db: 1.1563301086425781e-05\n",
      "computation DB time/batch: 56.0814\n",
      "batch: 229/1000 \t    computation time/batch: 56.0974sec\t    number of points: 900\n",
      "\t    median distance2db: 2.1457672119140625e-05\n",
      "computation DB time/batch: 56.0944\n",
      "batch: 230/1000 \t    computation time/batch: 56.1107sec\t    number of points: 872\n",
      "\t    median distance2db: 2.288818359375e-05\n",
      "computation DB time/batch: 56.1640\n",
      "batch: 231/1000 \t    computation time/batch: 56.1802sec\t    number of points: 882\n",
      "\t    median distance2db: 1.9550323486328125e-05\n",
      "computation DB time/batch: 56.0803\n",
      "batch: 232/1000 \t    computation time/batch: 56.0972sec\t    number of points: 892\n",
      "\t    median distance2db: 1.1920928955078125e-05\n",
      "computation DB time/batch: 56.1822\n",
      "batch: 233/1000 \t    computation time/batch: 56.1983sec\t    number of points: 905\n",
      "\t    median distance2db: 9.417533874511719e-06\n",
      "computation DB time/batch: 56.0774\n",
      "batch: 234/1000 \t    computation time/batch: 56.0937sec\t    number of points: 865\n",
      "\t    median distance2db: 9.059906005859375e-06\n",
      "computation DB time/batch: 56.0766\n",
      "batch: 235/1000 \t    computation time/batch: 56.0924sec\t    number of points: 877\n",
      "\t    median distance2db: 1.6689300537109375e-05\n",
      "computation DB time/batch: 56.0912\n",
      "batch: 236/1000 \t    computation time/batch: 56.1084sec\t    number of points: 905\n",
      "\t    median distance2db: 1.3113021850585938e-05\n",
      "computation DB time/batch: 56.0739\n",
      "batch: 237/1000 \t    computation time/batch: 56.0907sec\t    number of points: 906\n",
      "\t    median distance2db: 1.3589859008789062e-05\n",
      "computation DB time/batch: 55.9844\n",
      "batch: 238/1000 \t    computation time/batch: 56.0005sec\t    number of points: 894\n",
      "\t    median distance2db: 3.0040740966796875e-05\n",
      "computation DB time/batch: 56.0482\n",
      "batch: 239/1000 \t    computation time/batch: 56.0644sec\t    number of points: 872\n",
      "\t    median distance2db: 1.2159347534179688e-05\n",
      "computation DB time/batch: 56.0027\n",
      "batch: 240/1000 \t    computation time/batch: 56.0192sec\t    number of points: 936\n",
      "\t    median distance2db: 9.298324584960938e-06\n",
      "computation DB time/batch: 56.0922\n",
      "batch: 241/1000 \t    computation time/batch: 56.1085sec\t    number of points: 878\n",
      "\t    median distance2db: 1.2636184692382812e-05\n",
      "computation DB time/batch: 56.0556\n",
      "batch: 242/1000 \t    computation time/batch: 56.0715sec\t    number of points: 881\n",
      "\t    median distance2db: 1.6927719116210938e-05\n",
      "computation DB time/batch: 56.0524\n",
      "batch: 243/1000 \t    computation time/batch: 56.0686sec\t    number of points: 890\n",
      "\t    median distance2db: 2.014636993408203e-05\n",
      "computation DB time/batch: 56.0142\n",
      "batch: 244/1000 \t    computation time/batch: 56.0300sec\t    number of points: 863\n",
      "\t    median distance2db: 1.7404556274414062e-05\n",
      "computation DB time/batch: 55.9809\n",
      "batch: 245/1000 \t    computation time/batch: 55.9973sec\t    number of points: 886\n",
      "\t    median distance2db: 1.4424324035644531e-05\n",
      "computation DB time/batch: 56.0057\n",
      "batch: 246/1000 \t    computation time/batch: 56.0212sec\t    number of points: 862\n",
      "\t    median distance2db: 1.3828277587890625e-05\n",
      "computation DB time/batch: 56.0115\n",
      "batch: 247/1000 \t    computation time/batch: 56.0278sec\t    number of points: 873\n",
      "\t    median distance2db: 1.33514404296875e-05\n",
      "computation DB time/batch: 56.0623\n",
      "batch: 248/1000 \t    computation time/batch: 56.0782sec\t    number of points: 887\n",
      "\t    median distance2db: 1.1444091796875e-05\n",
      "computation DB time/batch: 56.1514\n",
      "batch: 249/1000 \t    computation time/batch: 56.1679sec\t    number of points: 896\n",
      "\t    median distance2db: 1.1086463928222656e-05\n",
      "computation DB time/batch: 56.2116\n",
      "batch: 250/1000 \t    computation time/batch: 56.2288sec\t    number of points: 915\n",
      "\t    median distance2db: 9.5367431640625e-06\n",
      "computation DB time/batch: 56.2047\n",
      "batch: 251/1000 \t    computation time/batch: 56.2216sec\t    number of points: 881\n",
      "\t    median distance2db: 1.239776611328125e-05\n",
      "computation DB time/batch: 56.1011\n",
      "batch: 252/1000 \t    computation time/batch: 56.1168sec\t    number of points: 880\n",
      "\t    median distance2db: 1.0371208190917969e-05\n"
     ]
    },
    {
     "name": "stdout",
     "output_type": "stream",
     "text": [
      "computation DB time/batch: 56.1337\n",
      "batch: 253/1000 \t    computation time/batch: 56.1500sec\t    number of points: 874\n",
      "\t    median distance2db: 1.5497207641601562e-05\n",
      "computation DB time/batch: 56.1713\n",
      "batch: 254/1000 \t    computation time/batch: 56.1872sec\t    number of points: 870\n",
      "\t    median distance2db: 1.704692840576172e-05\n",
      "computation DB time/batch: 56.1393\n",
      "batch: 255/1000 \t    computation time/batch: 56.1551sec\t    number of points: 863\n",
      "\t    median distance2db: 1.2874603271484375e-05\n",
      "computation DB time/batch: 56.1928\n",
      "batch: 256/1000 \t    computation time/batch: 56.2098sec\t    number of points: 920\n",
      "\t    median distance2db: 1.1444091796875e-05\n",
      "computation DB time/batch: 56.1505\n",
      "batch: 257/1000 \t    computation time/batch: 56.1669sec\t    number of points: 910\n",
      "\t    median distance2db: 2.2172927856445312e-05\n",
      "computation DB time/batch: 56.2393\n",
      "batch: 260/1000 \t    computation time/batch: 56.2555sec\t    number of points: 870\n",
      "\t    median distance2db: 1.1920928955078125e-05\n",
      "computation DB time/batch: 56.2371\n",
      "batch: 261/1000 \t    computation time/batch: 56.2537sec\t    number of points: 889\n",
      "\t    median distance2db: 1.4066696166992188e-05\n",
      "computation DB time/batch: 56.2049\n",
      "batch: 262/1000 \t    computation time/batch: 56.2219sec\t    number of points: 917\n",
      "\t    median distance2db: 2.2172927856445312e-05\n",
      "computation DB time/batch: 56.2058\n",
      "batch: 263/1000 \t    computation time/batch: 56.2215sec\t    number of points: 857\n",
      "\t    median distance2db: 1.7642974853515625e-05\n",
      "computation DB time/batch: 56.1556\n",
      "batch: 264/1000 \t    computation time/batch: 56.1720sec\t    number of points: 891\n",
      "\t    median distance2db: 1.811981201171875e-05\n",
      "computation DB time/batch: 56.2675\n",
      "batch: 265/1000 \t    computation time/batch: 56.2841sec\t    number of points: 914\n",
      "\t    median distance2db: 1.1920928955078125e-05\n",
      "computation DB time/batch: 56.2005\n",
      "batch: 266/1000 \t    computation time/batch: 56.2180sec\t    number of points: 928\n",
      "\t    median distance2db: 1.1205673217773438e-05\n",
      "computation DB time/batch: 56.1506\n",
      "batch: 267/1000 \t    computation time/batch: 56.1665sec\t    number of points: 877\n",
      "\t    median distance2db: 9.5367431640625e-06\n",
      "computation DB time/batch: 56.0916\n",
      "batch: 268/1000 \t    computation time/batch: 56.1085sec\t    number of points: 909\n",
      "\t    median distance2db: 9.5367431640625e-06\n",
      "computation DB time/batch: 56.0140\n",
      "batch: 269/1000 \t    computation time/batch: 56.0302sec\t    number of points: 891\n",
      "\t    median distance2db: 8.702278137207031e-06\n",
      "computation DB time/batch: 56.0419\n",
      "batch: 270/1000 \t    computation time/batch: 56.0575sec\t    number of points: 884\n",
      "\t    median distance2db: 9.5367431640625e-06\n",
      "computation DB time/batch: 55.9896\n",
      "batch: 271/1000 \t    computation time/batch: 56.0057sec\t    number of points: 898\n",
      "\t    median distance2db: 1.800060272216797e-05\n",
      "computation DB time/batch: 56.1076\n",
      "batch: 272/1000 \t    computation time/batch: 56.1237sec\t    number of points: 878\n",
      "\t    median distance2db: 2.658367156982422e-05\n",
      "computation DB time/batch: 56.0772\n",
      "batch: 273/1000 \t    computation time/batch: 56.0930sec\t    number of points: 875\n",
      "\t    median distance2db: 1.7881393432617188e-05\n",
      "computation DB time/batch: 56.0632\n",
      "batch: 274/1000 \t    computation time/batch: 56.0791sec\t    number of points: 866\n",
      "\t    median distance2db: 1.6927719116210938e-05\n",
      "computation DB time/batch: 56.0176\n",
      "batch: 275/1000 \t    computation time/batch: 56.0347sec\t    number of points: 913\n",
      "\t    median distance2db: 1.5020370483398438e-05\n",
      "computation DB time/batch: 56.0528\n",
      "batch: 276/1000 \t    computation time/batch: 56.0690sec\t    number of points: 905\n",
      "\t    median distance2db: 1.0251998901367188e-05\n",
      "computation DB time/batch: 56.0796\n",
      "batch: 277/1000 \t    computation time/batch: 56.0958sec\t    number of points: 858\n",
      "\t    median distance2db: 1.0728836059570312e-05\n",
      "computation DB time/batch: 55.9785\n",
      "batch: 278/1000 \t    computation time/batch: 55.9944sec\t    number of points: 847\n",
      "\t    median distance2db: 8.225440979003906e-06\n",
      "computation DB time/batch: 56.0727\n",
      "batch: 279/1000 \t    computation time/batch: 56.0896sec\t    number of points: 885\n",
      "\t    median distance2db: 1.71661376953125e-05\n",
      "computation DB time/batch: 56.0864\n",
      "batch: 280/1000 \t    computation time/batch: 56.1029sec\t    number of points: 886\n",
      "\t    median distance2db: 1.4662742614746094e-05\n",
      "computation DB time/batch: 56.0707\n",
      "batch: 281/1000 \t    computation time/batch: 56.0878sec\t    number of points: 886\n",
      "\t    median distance2db: 1.3947486877441406e-05\n",
      "computation DB time/batch: 56.0810\n",
      "batch: 282/1000 \t    computation time/batch: 56.0976sec\t    number of points: 886\n",
      "\t    median distance2db: 1.33514404296875e-05\n",
      "computation DB time/batch: 56.0672\n",
      "batch: 283/1000 \t    computation time/batch: 56.0843sec\t    number of points: 930\n",
      "\t    median distance2db: 1.9073486328125e-05\n",
      "computation DB time/batch: 56.0272\n",
      "batch: 284/1000 \t    computation time/batch: 56.0432sec\t    number of points: 866\n",
      "\t    median distance2db: 1.52587890625e-05\n",
      "computation DB time/batch: 55.9894\n",
      "batch: 285/1000 \t    computation time/batch: 56.0058sec\t    number of points: 875\n",
      "\t    median distance2db: 1.4781951904296875e-05\n",
      "computation DB time/batch: 55.9973\n",
      "batch: 286/1000 \t    computation time/batch: 56.0132sec\t    number of points: 888\n",
      "\t    median distance2db: 2.4557113647460938e-05\n",
      "computation DB time/batch: 56.0168\n",
      "batch: 287/1000 \t    computation time/batch: 56.0325sec\t    number of points: 865\n",
      "\t    median distance2db: 1.1205673217773438e-05\n",
      "computation DB time/batch: 55.9823\n",
      "batch: 288/1000 \t    computation time/batch: 55.9990sec\t    number of points: 878\n",
      "\t    median distance2db: 9.894371032714844e-06\n",
      "computation DB time/batch: 56.0227\n",
      "batch: 289/1000 \t    computation time/batch: 56.0388sec\t    number of points: 874\n",
      "\t    median distance2db: 8.58306884765625e-06\n",
      "computation DB time/batch: 55.9743\n",
      "batch: 290/1000 \t    computation time/batch: 55.9910sec\t    number of points: 870\n",
      "\t    median distance2db: 1.4662742614746094e-05\n",
      "computation DB time/batch: 55.9659\n",
      "batch: 291/1000 \t    computation time/batch: 55.9824sec\t    number of points: 918\n",
      "\t    median distance2db: 1.049041748046875e-05\n",
      "computation DB time/batch: 55.9723\n",
      "batch: 292/1000 \t    computation time/batch: 55.9897sec\t    number of points: 922\n",
      "\t    median distance2db: 1.2636184692382812e-05\n",
      "computation DB time/batch: 56.0132\n",
      "batch: 293/1000 \t    computation time/batch: 56.0296sec\t    number of points: 873\n",
      "\t    median distance2db: 9.5367431640625e-06\n",
      "computation DB time/batch: 56.0551\n",
      "batch: 294/1000 \t    computation time/batch: 56.0722sec\t    number of points: 882\n",
      "\t    median distance2db: 1.0967254638671875e-05\n",
      "computation DB time/batch: 56.1503\n",
      "batch: 295/1000 \t    computation time/batch: 56.1678sec\t    number of points: 919\n",
      "\t    median distance2db: 1.1682510375976562e-05\n",
      "computation DB time/batch: 56.2199\n",
      "batch: 296/1000 \t    computation time/batch: 56.2375sec\t    number of points: 930\n",
      "\t    median distance2db: 8.58306884765625e-06\n",
      "computation DB time/batch: 56.1122\n",
      "batch: 297/1000 \t    computation time/batch: 56.1284sec\t    number of points: 885\n",
      "\t    median distance2db: 1.5020370483398438e-05\n",
      "computation DB time/batch: 55.9986\n",
      "batch: 298/1000 \t    computation time/batch: 56.0154sec\t    number of points: 867\n",
      "\t    median distance2db: 1.0728836059570312e-05\n",
      "computation DB time/batch: 56.0525\n",
      "batch: 299/1000 \t    computation time/batch: 56.0690sec\t    number of points: 912\n",
      "\t    median distance2db: 9.894371032714844e-06\n",
      "computation DB time/batch: 55.9918\n",
      "batch: 300/1000 \t    computation time/batch: 56.0078sec\t    number of points: 853\n",
      "\t    median distance2db: 1.33514404296875e-05\n",
      "computation DB time/batch: 56.0685\n",
      "batch: 301/1000 \t    computation time/batch: 56.0851sec\t    number of points: 881\n",
      "\t    median distance2db: 1.4781951904296875e-05\n",
      "computation DB time/batch: 55.9827\n",
      "batch: 302/1000 \t    computation time/batch: 55.9994sec\t    number of points: 891\n",
      "\t    median distance2db: 9.5367431640625e-06\n",
      "computation DB time/batch: 56.1276\n",
      "batch: 303/1000 \t    computation time/batch: 56.1444sec\t    number of points: 896\n",
      "\t    median distance2db: 7.62939453125e-06\n",
      "computation DB time/batch: 56.1535\n",
      "batch: 304/1000 \t    computation time/batch: 56.1709sec\t    number of points: 904\n",
      "\t    median distance2db: 1.3828277587890625e-05\n"
     ]
    },
    {
     "name": "stdout",
     "output_type": "stream",
     "text": [
      "computation DB time/batch: 56.1723\n",
      "batch: 305/1000 \t    computation time/batch: 56.1892sec\t    number of points: 896\n",
      "\t    median distance2db: 1.1920928955078125e-05\n",
      "computation DB time/batch: 56.1317\n",
      "batch: 306/1000 \t    computation time/batch: 56.1478sec\t    number of points: 880\n",
      "\t    median distance2db: 1.049041748046875e-05\n",
      "computation DB time/batch: 56.0954\n",
      "batch: 307/1000 \t    computation time/batch: 56.1123sec\t    number of points: 890\n",
      "\t    median distance2db: 1.8358230590820312e-05\n",
      "computation DB time/batch: 56.0857\n",
      "batch: 308/1000 \t    computation time/batch: 56.1019sec\t    number of points: 877\n",
      "\t    median distance2db: 1.5020370483398438e-05\n",
      "computation DB time/batch: 56.1089\n",
      "batch: 309/1000 \t    computation time/batch: 56.1251sec\t    number of points: 846\n",
      "\t    median distance2db: 8.821487426757812e-06\n",
      "computation DB time/batch: 56.0782\n",
      "batch: 310/1000 \t    computation time/batch: 56.0950sec\t    number of points: 896\n",
      "\t    median distance2db: 1.6808509826660156e-05\n",
      "computation DB time/batch: 56.1628\n",
      "batch: 311/1000 \t    computation time/batch: 56.1797sec\t    number of points: 897\n",
      "\t    median distance2db: 1.0967254638671875e-05\n",
      "computation DB time/batch: 56.0788\n",
      "batch: 312/1000 \t    computation time/batch: 56.0961sec\t    number of points: 915\n",
      "\t    median distance2db: 8.463859558105469e-06\n",
      "computation DB time/batch: 56.1126\n",
      "batch: 313/1000 \t    computation time/batch: 56.1296sec\t    number of points: 882\n",
      "\t    median distance2db: 9.059906005859375e-06\n",
      "computation DB time/batch: 56.0246\n",
      "batch: 314/1000 \t    computation time/batch: 56.0410sec\t    number of points: 882\n",
      "\t    median distance2db: 2.4557113647460938e-05\n",
      "computation DB time/batch: 56.0533\n",
      "batch: 315/1000 \t    computation time/batch: 56.0700sec\t    number of points: 899\n",
      "\t    median distance2db: 8.106231689453125e-06\n",
      "computation DB time/batch: 56.1164\n",
      "batch: 316/1000 \t    computation time/batch: 56.1323sec\t    number of points: 851\n",
      "\t    median distance2db: 1.2755393981933594e-05\n",
      "computation DB time/batch: 56.1343\n",
      "batch: 317/1000 \t    computation time/batch: 56.1511sec\t    number of points: 903\n",
      "\t    median distance2db: 1.1086463928222656e-05\n",
      "computation DB time/batch: 56.1661\n",
      "batch: 318/1000 \t    computation time/batch: 56.1832sec\t    number of points: 926\n",
      "\t    median distance2db: 1.6808509826660156e-05\n",
      "computation DB time/batch: 56.0811\n",
      "batch: 319/1000 \t    computation time/batch: 56.0982sec\t    number of points: 901\n",
      "\t    median distance2db: 1.1920928955078125e-05\n",
      "computation DB time/batch: 56.1270\n",
      "batch: 320/1000 \t    computation time/batch: 56.1438sec\t    number of points: 875\n",
      "\t    median distance2db: 1.3113021850585938e-05\n",
      "computation DB time/batch: 56.0975\n",
      "batch: 321/1000 \t    computation time/batch: 56.1143sec\t    number of points: 889\n",
      "\t    median distance2db: 9.894371032714844e-06\n",
      "computation DB time/batch: 56.1337\n",
      "batch: 322/1000 \t    computation time/batch: 56.1510sec\t    number of points: 893\n",
      "\t    median distance2db: 1.5616416931152344e-05\n",
      "computation DB time/batch: 56.1855\n",
      "batch: 323/1000 \t    computation time/batch: 56.2024sec\t    number of points: 907\n",
      "\t    median distance2db: 1.621246337890625e-05\n",
      "computation DB time/batch: 56.0639\n",
      "batch: 324/1000 \t    computation time/batch: 56.0803sec\t    number of points: 865\n",
      "\t    median distance2db: 1.4066696166992188e-05\n",
      "computation DB time/batch: 56.2042\n",
      "batch: 325/1000 \t    computation time/batch: 56.2217sec\t    number of points: 894\n",
      "\t    median distance2db: 1.1920928955078125e-05\n",
      "computation DB time/batch: 56.1928\n",
      "batch: 326/1000 \t    computation time/batch: 56.2100sec\t    number of points: 886\n",
      "\t    median distance2db: 1.4424324035644531e-05\n",
      "computation DB time/batch: 56.2483\n",
      "batch: 327/1000 \t    computation time/batch: 56.2660sec\t    number of points: 922\n",
      "\t    median distance2db: 1.1444091796875e-05\n",
      "computation DB time/batch: 56.1994\n",
      "batch: 328/1000 \t    computation time/batch: 56.2160sec\t    number of points: 835\n",
      "\t    median distance2db: 8.344650268554688e-06\n",
      "computation DB time/batch: 56.0352\n",
      "batch: 329/1000 \t    computation time/batch: 56.0508sec\t    number of points: 853\n",
      "\t    median distance2db: 1.1563301086425781e-05\n",
      "computation DB time/batch: 56.0436\n",
      "batch: 330/1000 \t    computation time/batch: 56.0614sec\t    number of points: 937\n",
      "\t    median distance2db: 1.33514404296875e-05\n",
      "computation DB time/batch: 56.1047\n",
      "batch: 331/1000 \t    computation time/batch: 56.1218sec\t    number of points: 913\n",
      "\t    median distance2db: 1.5020370483398438e-05\n",
      "computation DB time/batch: 56.1807\n",
      "batch: 332/1000 \t    computation time/batch: 56.1972sec\t    number of points: 879\n",
      "\t    median distance2db: 1.4662742614746094e-05\n",
      "computation DB time/batch: 56.2166\n",
      "batch: 333/1000 \t    computation time/batch: 56.2339sec\t    number of points: 915\n",
      "\t    median distance2db: 1.1563301086425781e-05\n",
      "computation DB time/batch: 56.1366\n",
      "batch: 334/1000 \t    computation time/batch: 56.1524sec\t    number of points: 859\n",
      "\t    median distance2db: 1.3828277587890625e-05\n",
      "computation DB time/batch: 56.2623\n",
      "batch: 335/1000 \t    computation time/batch: 56.2789sec\t    number of points: 873\n",
      "\t    median distance2db: 1.049041748046875e-05\n",
      "computation DB time/batch: 56.1272\n",
      "batch: 336/1000 \t    computation time/batch: 56.1432sec\t    number of points: 856\n",
      "\t    median distance2db: 1.2636184692382812e-05\n",
      "computation DB time/batch: 56.1702\n",
      "batch: 337/1000 \t    computation time/batch: 56.1868sec\t    number of points: 896\n",
      "\t    median distance2db: 7.033348083496094e-06\n",
      "computation DB time/batch: 56.0828\n",
      "batch: 338/1000 \t    computation time/batch: 56.0998sec\t    number of points: 897\n",
      "\t    median distance2db: 1.3589859008789062e-05\n",
      "computation DB time/batch: 56.1317\n",
      "batch: 339/1000 \t    computation time/batch: 56.1490sec\t    number of points: 896\n",
      "\t    median distance2db: 1.1444091796875e-05\n",
      "computation DB time/batch: 56.2016\n",
      "batch: 340/1000 \t    computation time/batch: 56.2173sec\t    number of points: 838\n",
      "\t    median distance2db: 1.0848045349121094e-05\n",
      "computation DB time/batch: 56.2341\n",
      "batch: 341/1000 \t    computation time/batch: 56.2515sec\t    number of points: 881\n",
      "\t    median distance2db: 1.1324882507324219e-05\n",
      "computation DB time/batch: 56.2579\n",
      "batch: 342/1000 \t    computation time/batch: 56.2746sec\t    number of points: 873\n",
      "\t    median distance2db: 7.3909759521484375e-06\n",
      "computation DB time/batch: 56.1055\n",
      "batch: 343/1000 \t    computation time/batch: 56.1224sec\t    number of points: 875\n",
      "\t    median distance2db: 2.1696090698242188e-05\n",
      "computation DB time/batch: 56.0609\n",
      "batch: 344/1000 \t    computation time/batch: 56.0771sec\t    number of points: 895\n",
      "\t    median distance2db: 1.7642974853515625e-05\n",
      "computation DB time/batch: 56.0791\n",
      "batch: 345/1000 \t    computation time/batch: 56.0957sec\t    number of points: 926\n",
      "\t    median distance2db: 1.2159347534179688e-05\n",
      "computation DB time/batch: 56.0773\n",
      "batch: 346/1000 \t    computation time/batch: 56.0940sec\t    number of points: 916\n",
      "\t    median distance2db: 1.1920928955078125e-05\n",
      "computation DB time/batch: 56.1363\n",
      "batch: 347/1000 \t    computation time/batch: 56.1528sec\t    number of points: 911\n",
      "\t    median distance2db: 9.655952453613281e-06\n",
      "computation DB time/batch: 56.1011\n",
      "batch: 348/1000 \t    computation time/batch: 56.1174sec\t    number of points: 867\n",
      "\t    median distance2db: 1.8358230590820312e-05\n",
      "computation DB time/batch: 56.1189\n",
      "batch: 349/1000 \t    computation time/batch: 56.1356sec\t    number of points: 893\n",
      "\t    median distance2db: 1.3828277587890625e-05\n",
      "computation DB time/batch: 56.0489\n",
      "batch: 350/1000 \t    computation time/batch: 56.0660sec\t    number of points: 898\n",
      "\t    median distance2db: 1.5020370483398438e-05\n",
      "computation DB time/batch: 55.9706\n",
      "batch: 351/1000 \t    computation time/batch: 55.9867sec\t    number of points: 868\n",
      "\t    median distance2db: 9.775161743164062e-06\n",
      "computation DB time/batch: 55.9572\n",
      "batch: 352/1000 \t    computation time/batch: 55.9742sec\t    number of points: 882\n",
      "\t    median distance2db: 1.9669532775878906e-05\n",
      "computation DB time/batch: 56.0806\n",
      "batch: 353/1000 \t    computation time/batch: 56.0963sec\t    number of points: 856\n",
      "\t    median distance2db: 1.4066696166992188e-05\n",
      "computation DB time/batch: 56.0649\n",
      "batch: 354/1000 \t    computation time/batch: 56.0817sec\t    number of points: 870\n",
      "\t    median distance2db: 1.537799835205078e-05\n"
     ]
    },
    {
     "name": "stdout",
     "output_type": "stream",
     "text": [
      "computation DB time/batch: 56.2368\n",
      "batch: 355/1000 \t    computation time/batch: 56.2538sec\t    number of points: 891\n",
      "\t    median distance2db: 1.9311904907226562e-05\n",
      "computation DB time/batch: 56.2117\n",
      "batch: 356/1000 \t    computation time/batch: 56.2291sec\t    number of points: 908\n",
      "\t    median distance2db: 1.8835067749023438e-05\n",
      "computation DB time/batch: 56.2195\n",
      "batch: 357/1000 \t    computation time/batch: 56.2358sec\t    number of points: 842\n",
      "\t    median distance2db: 1.6927719116210938e-05\n",
      "computation DB time/batch: 56.0689\n",
      "batch: 358/1000 \t    computation time/batch: 56.0857sec\t    number of points: 888\n",
      "\t    median distance2db: 9.298324584960938e-06\n",
      "computation DB time/batch: 56.1765\n",
      "batch: 359/1000 \t    computation time/batch: 56.1928sec\t    number of points: 870\n",
      "\t    median distance2db: 1.33514404296875e-05\n",
      "computation DB time/batch: 56.1701\n",
      "batch: 360/1000 \t    computation time/batch: 56.1870sec\t    number of points: 888\n",
      "\t    median distance2db: 1.1920928955078125e-05\n",
      "computation DB time/batch: 56.2179\n",
      "batch: 361/1000 \t    computation time/batch: 56.2341sec\t    number of points: 882\n",
      "\t    median distance2db: 2.0503997802734375e-05\n",
      "computation DB time/batch: 56.1366\n",
      "batch: 362/1000 \t    computation time/batch: 56.1528sec\t    number of points: 822\n",
      "\t    median distance2db: 1.3589859008789062e-05\n",
      "computation DB time/batch: 56.2546\n",
      "batch: 363/1000 \t    computation time/batch: 56.2714sec\t    number of points: 902\n",
      "\t    median distance2db: 9.059906005859375e-06\n",
      "computation DB time/batch: 56.1097\n",
      "batch: 364/1000 \t    computation time/batch: 56.1261sec\t    number of points: 874\n",
      "\t    median distance2db: 1.239776611328125e-05\n",
      "computation DB time/batch: 56.1147\n",
      "batch: 365/1000 \t    computation time/batch: 56.1308sec\t    number of points: 880\n",
      "\t    median distance2db: 1.1563301086425781e-05\n",
      "computation DB time/batch: 56.0512\n",
      "batch: 366/1000 \t    computation time/batch: 56.0678sec\t    number of points: 887\n",
      "\t    median distance2db: 1.3828277587890625e-05\n",
      "computation DB time/batch: 56.0710\n",
      "batch: 367/1000 \t    computation time/batch: 56.0869sec\t    number of points: 847\n",
      "\t    median distance2db: 1.0013580322265625e-05\n",
      "computation DB time/batch: 56.0323\n",
      "batch: 368/1000 \t    computation time/batch: 56.0485sec\t    number of points: 871\n",
      "\t    median distance2db: 9.5367431640625e-06\n",
      "computation DB time/batch: 56.0815\n",
      "batch: 369/1000 \t    computation time/batch: 56.0991sec\t    number of points: 952\n",
      "\t    median distance2db: 8.940696716308594e-06\n",
      "computation DB time/batch: 55.9727\n",
      "batch: 370/1000 \t    computation time/batch: 55.9887sec\t    number of points: 821\n",
      "\t    median distance2db: 9.417533874511719e-06\n",
      "computation DB time/batch: 55.9462\n",
      "batch: 371/1000 \t    computation time/batch: 55.9632sec\t    number of points: 885\n",
      "\t    median distance2db: 1.811981201171875e-05\n",
      "computation DB time/batch: 55.9443\n",
      "batch: 372/1000 \t    computation time/batch: 55.9616sec\t    number of points: 898\n",
      "\t    median distance2db: 9.417533874511719e-06\n",
      "computation DB time/batch: 55.9290\n",
      "batch: 373/1000 \t    computation time/batch: 55.9462sec\t    number of points: 905\n",
      "\t    median distance2db: 1.3113021850585938e-05\n",
      "computation DB time/batch: 55.9205\n",
      "batch: 374/1000 \t    computation time/batch: 55.9369sec\t    number of points: 894\n",
      "\t    median distance2db: 2.2411346435546875e-05\n",
      "computation DB time/batch: 55.9518\n",
      "batch: 375/1000 \t    computation time/batch: 55.9680sec\t    number of points: 840\n",
      "\t    median distance2db: 1.8715858459472656e-05\n",
      "computation DB time/batch: 56.0206\n",
      "batch: 376/1000 \t    computation time/batch: 56.0377sec\t    number of points: 941\n",
      "\t    median distance2db: 1.2516975402832031e-05\n",
      "computation DB time/batch: 56.1017\n",
      "batch: 377/1000 \t    computation time/batch: 56.1198sec\t    number of points: 948\n",
      "\t    median distance2db: 1.9073486328125e-05\n",
      "computation DB time/batch: 56.1007\n",
      "batch: 378/1000 \t    computation time/batch: 56.1171sec\t    number of points: 903\n",
      "\t    median distance2db: 9.775161743164062e-06\n",
      "computation DB time/batch: 56.0938\n",
      "batch: 379/1000 \t    computation time/batch: 56.1108sec\t    number of points: 882\n",
      "\t    median distance2db: 1.3709068298339844e-05\n",
      "computation DB time/batch: 55.9941\n",
      "batch: 380/1000 \t    computation time/batch: 56.0108sec\t    number of points: 913\n",
      "\t    median distance2db: 1.2874603271484375e-05\n",
      "computation DB time/batch: 56.0085\n",
      "batch: 381/1000 \t    computation time/batch: 56.0252sec\t    number of points: 911\n",
      "\t    median distance2db: 1.7642974853515625e-05\n",
      "computation DB time/batch: 55.9375\n",
      "batch: 382/1000 \t    computation time/batch: 55.9538sec\t    number of points: 862\n",
      "\t    median distance2db: 7.3909759521484375e-06\n",
      "computation DB time/batch: 56.1219\n",
      "batch: 383/1000 \t    computation time/batch: 56.1382sec\t    number of points: 891\n",
      "\t    median distance2db: 1.33514404296875e-05\n",
      "computation DB time/batch: 56.0223\n",
      "batch: 384/1000 \t    computation time/batch: 56.0396sec\t    number of points: 889\n",
      "\t    median distance2db: 1.049041748046875e-05\n",
      "computation DB time/batch: 55.9659\n",
      "batch: 385/1000 \t    computation time/batch: 55.9824sec\t    number of points: 876\n",
      "\t    median distance2db: 1.6570091247558594e-05\n",
      "computation DB time/batch: 55.9039\n",
      "batch: 386/1000 \t    computation time/batch: 55.9212sec\t    number of points: 891\n",
      "\t    median distance2db: 1.3470649719238281e-05\n",
      "computation DB time/batch: 55.9433\n",
      "batch: 387/1000 \t    computation time/batch: 55.9600sec\t    number of points: 916\n",
      "\t    median distance2db: 1.3470649719238281e-05\n",
      "computation DB time/batch: 55.9014\n",
      "batch: 388/1000 \t    computation time/batch: 55.9181sec\t    number of points: 908\n",
      "\t    median distance2db: 1.5497207641601562e-05\n",
      "computation DB time/batch: 55.8578\n",
      "batch: 389/1000 \t    computation time/batch: 55.8739sec\t    number of points: 845\n",
      "\t    median distance2db: 1.7642974853515625e-05\n",
      "computation DB time/batch: 55.8735\n",
      "batch: 390/1000 \t    computation time/batch: 55.8911sec\t    number of points: 924\n",
      "\t    median distance2db: 1.3828277587890625e-05\n",
      "computation DB time/batch: 55.8798\n",
      "batch: 391/1000 \t    computation time/batch: 55.8961sec\t    number of points: 890\n",
      "\t    median distance2db: 8.702278137207031e-06\n",
      "computation DB time/batch: 55.9698\n",
      "batch: 392/1000 \t    computation time/batch: 55.9864sec\t    number of points: 887\n",
      "\t    median distance2db: 1.430511474609375e-05\n",
      "computation DB time/batch: 56.0080\n",
      "batch: 393/1000 \t    computation time/batch: 56.0243sec\t    number of points: 910\n",
      "\t    median distance2db: 6.794929504394531e-06\n",
      "computation DB time/batch: 56.0040\n",
      "batch: 394/1000 \t    computation time/batch: 56.0205sec\t    number of points: 858\n",
      "\t    median distance2db: 1.1920928955078125e-05\n",
      "computation DB time/batch: 56.0964\n",
      "batch: 395/1000 \t    computation time/batch: 56.1132sec\t    number of points: 898\n",
      "\t    median distance2db: 1.8358230590820312e-05\n",
      "computation DB time/batch: 56.1473\n",
      "batch: 396/1000 \t    computation time/batch: 56.1639sec\t    number of points: 876\n",
      "\t    median distance2db: 1.6450881958007812e-05\n",
      "computation DB time/batch: 56.2305\n",
      "batch: 397/1000 \t    computation time/batch: 56.2474sec\t    number of points: 896\n",
      "\t    median distance2db: 2.47955322265625e-05\n",
      "computation DB time/batch: 56.2100\n",
      "batch: 398/1000 \t    computation time/batch: 56.2260sec\t    number of points: 877\n",
      "\t    median distance2db: 1.2278556823730469e-05\n",
      "computation DB time/batch: 56.2526\n",
      "batch: 399/1000 \t    computation time/batch: 56.2690sec\t    number of points: 890\n",
      "\t    median distance2db: 1.1920928955078125e-05\n",
      "computation DB time/batch: 56.2810\n",
      "batch: 400/1000 \t    computation time/batch: 56.2982sec\t    number of points: 914\n",
      "\t    median distance2db: 1.4066696166992188e-05\n",
      "computation DB time/batch: 56.2494\n",
      "batch: 401/1000 \t    computation time/batch: 56.2662sec\t    number of points: 904\n",
      "\t    median distance2db: 8.58306884765625e-06\n",
      "computation DB time/batch: 56.1583\n",
      "batch: 402/1000 \t    computation time/batch: 56.1755sec\t    number of points: 897\n",
      "\t    median distance2db: 1.71661376953125e-05\n",
      "computation DB time/batch: 56.1516\n",
      "batch: 403/1000 \t    computation time/batch: 56.1678sec\t    number of points: 857\n",
      "\t    median distance2db: 1.2636184692382812e-05\n",
      "computation DB time/batch: 56.2310\n",
      "batch: 404/1000 \t    computation time/batch: 56.2465sec\t    number of points: 855\n",
      "\t    median distance2db: 1.3589859008789062e-05\n"
     ]
    },
    {
     "name": "stdout",
     "output_type": "stream",
     "text": [
      "computation DB time/batch: 56.2451\n",
      "batch: 405/1000 \t    computation time/batch: 56.2617sec\t    number of points: 891\n",
      "\t    median distance2db: 1.1563301086425781e-05\n",
      "computation DB time/batch: 56.2369\n",
      "batch: 406/1000 \t    computation time/batch: 56.2535sec\t    number of points: 917\n",
      "\t    median distance2db: 9.5367431640625e-06\n",
      "computation DB time/batch: 56.2764\n",
      "batch: 407/1000 \t    computation time/batch: 56.2927sec\t    number of points: 866\n",
      "\t    median distance2db: 1.52587890625e-05\n",
      "computation DB time/batch: 56.2102\n",
      "batch: 408/1000 \t    computation time/batch: 56.2265sec\t    number of points: 882\n",
      "\t    median distance2db: 1.7404556274414062e-05\n",
      "computation DB time/batch: 56.1967\n",
      "batch: 409/1000 \t    computation time/batch: 56.2131sec\t    number of points: 879\n",
      "\t    median distance2db: 1.621246337890625e-05\n",
      "computation DB time/batch: 56.1457\n",
      "batch: 410/1000 \t    computation time/batch: 56.1617sec\t    number of points: 895\n",
      "\t    median distance2db: 1.1086463928222656e-05\n",
      "computation DB time/batch: 56.1721\n",
      "batch: 411/1000 \t    computation time/batch: 56.1886sec\t    number of points: 892\n",
      "\t    median distance2db: 2.7418136596679688e-05\n",
      "computation DB time/batch: 56.1589\n",
      "batch: 412/1000 \t    computation time/batch: 56.1757sec\t    number of points: 896\n",
      "\t    median distance2db: 1.4543533325195312e-05\n",
      "computation DB time/batch: 56.2645\n",
      "batch: 413/1000 \t    computation time/batch: 56.2811sec\t    number of points: 884\n",
      "\t    median distance2db: 8.344650268554688e-06\n",
      "computation DB time/batch: 56.1979\n",
      "batch: 414/1000 \t    computation time/batch: 56.2151sec\t    number of points: 892\n",
      "\t    median distance2db: 1.1920928955078125e-05\n",
      "computation DB time/batch: 56.2309\n",
      "batch: 415/1000 \t    computation time/batch: 56.2480sec\t    number of points: 908\n",
      "\t    median distance2db: 1.2636184692382812e-05\n",
      "computation DB time/batch: 56.2580\n",
      "batch: 416/1000 \t    computation time/batch: 56.2744sec\t    number of points: 882\n",
      "\t    median distance2db: 1.8477439880371094e-05\n",
      "computation DB time/batch: 56.2206\n",
      "batch: 417/1000 \t    computation time/batch: 56.2376sec\t    number of points: 881\n",
      "\t    median distance2db: 8.225440979003906e-06\n",
      "computation DB time/batch: 56.1800\n",
      "batch: 418/1000 \t    computation time/batch: 56.1975sec\t    number of points: 919\n",
      "\t    median distance2db: 9.775161743164062e-06\n",
      "computation DB time/batch: 56.1543\n",
      "batch: 419/1000 \t    computation time/batch: 56.1711sec\t    number of points: 923\n",
      "\t    median distance2db: 1.3470649719238281e-05\n",
      "computation DB time/batch: 56.0901\n",
      "batch: 420/1000 \t    computation time/batch: 56.1059sec\t    number of points: 846\n",
      "\t    median distance2db: 1.4543533325195312e-05\n",
      "computation DB time/batch: 56.2006\n",
      "batch: 421/1000 \t    computation time/batch: 56.2172sec\t    number of points: 867\n",
      "\t    median distance2db: 1.3589859008789062e-05\n",
      "computation DB time/batch: 56.1026\n",
      "batch: 422/1000 \t    computation time/batch: 56.1196sec\t    number of points: 911\n",
      "\t    median distance2db: 1.3589859008789062e-05\n",
      "computation DB time/batch: 56.0762\n",
      "batch: 423/1000 \t    computation time/batch: 56.0932sec\t    number of points: 900\n",
      "\t    median distance2db: 2.0503997802734375e-05\n",
      "computation DB time/batch: 56.0546\n",
      "batch: 424/1000 \t    computation time/batch: 56.0711sec\t    number of points: 884\n",
      "\t    median distance2db: 1.2636184692382812e-05\n",
      "computation DB time/batch: 56.1067\n",
      "batch: 425/1000 \t    computation time/batch: 56.1232sec\t    number of points: 903\n",
      "\t    median distance2db: 1.6689300537109375e-05\n",
      "computation DB time/batch: 56.0791\n",
      "batch: 426/1000 \t    computation time/batch: 56.0954sec\t    number of points: 862\n",
      "\t    median distance2db: 1.1086463928222656e-05\n",
      "computation DB time/batch: 56.0689\n",
      "batch: 427/1000 \t    computation time/batch: 56.0855sec\t    number of points: 879\n",
      "\t    median distance2db: 1.3589859008789062e-05\n",
      "computation DB time/batch: 56.0248\n",
      "batch: 428/1000 \t    computation time/batch: 56.0412sec\t    number of points: 872\n",
      "\t    median distance2db: 1.9073486328125e-05\n",
      "computation DB time/batch: 56.1622\n",
      "batch: 429/1000 \t    computation time/batch: 56.1790sec\t    number of points: 918\n",
      "\t    median distance2db: 2.002716064453125e-05\n",
      "computation DB time/batch: 55.9915\n",
      "batch: 430/1000 \t    computation time/batch: 56.0079sec\t    number of points: 885\n",
      "\t    median distance2db: 1.0848045349121094e-05\n",
      "computation DB time/batch: 56.0567\n",
      "batch: 431/1000 \t    computation time/batch: 56.0734sec\t    number of points: 873\n",
      "\t    median distance2db: 2.288818359375e-05\n",
      "computation DB time/batch: 55.9829\n",
      "batch: 432/1000 \t    computation time/batch: 55.9988sec\t    number of points: 866\n",
      "\t    median distance2db: 1.52587890625e-05\n",
      "computation DB time/batch: 56.0688\n",
      "batch: 433/1000 \t    computation time/batch: 56.0846sec\t    number of points: 850\n",
      "\t    median distance2db: 1.0013580322265625e-05\n",
      "computation DB time/batch: 56.0981\n",
      "batch: 434/1000 \t    computation time/batch: 56.1136sec\t    number of points: 830\n",
      "\t    median distance2db: 1.6689300537109375e-05\n",
      "computation DB time/batch: 56.1180\n",
      "batch: 435/1000 \t    computation time/batch: 56.1340sec\t    number of points: 877\n",
      "\t    median distance2db: 1.0728836059570312e-05\n",
      "computation DB time/batch: 56.0016\n",
      "batch: 436/1000 \t    computation time/batch: 56.0179sec\t    number of points: 869\n",
      "\t    median distance2db: 1.0013580322265625e-05\n",
      "computation DB time/batch: 56.0369\n",
      "batch: 437/1000 \t    computation time/batch: 56.0539sec\t    number of points: 892\n",
      "\t    median distance2db: 2.181529998779297e-05\n",
      "computation DB time/batch: 56.0096\n",
      "batch: 438/1000 \t    computation time/batch: 56.0261sec\t    number of points: 897\n",
      "\t    median distance2db: 1.3113021850585938e-05\n",
      "computation DB time/batch: 55.9773\n",
      "batch: 439/1000 \t    computation time/batch: 55.9934sec\t    number of points: 885\n",
      "\t    median distance2db: 8.344650268554688e-06\n",
      "computation DB time/batch: 56.0162\n",
      "batch: 440/1000 \t    computation time/batch: 56.0326sec\t    number of points: 864\n",
      "\t    median distance2db: 1.9311904907226562e-05\n",
      "computation DB time/batch: 56.0313\n",
      "batch: 441/1000 \t    computation time/batch: 56.0474sec\t    number of points: 828\n",
      "\t    median distance2db: 8.58306884765625e-06\n",
      "computation DB time/batch: 56.1157\n",
      "batch: 442/1000 \t    computation time/batch: 56.1318sec\t    number of points: 873\n",
      "\t    median distance2db: 1.1682510375976562e-05\n",
      "computation DB time/batch: 56.0473\n",
      "batch: 443/1000 \t    computation time/batch: 56.0632sec\t    number of points: 858\n",
      "\t    median distance2db: 1.2159347534179688e-05\n",
      "computation DB time/batch: 56.0591\n",
      "batch: 444/1000 \t    computation time/batch: 56.0760sec\t    number of points: 907\n",
      "\t    median distance2db: 9.5367431640625e-06\n",
      "computation DB time/batch: 55.9975\n",
      "batch: 445/1000 \t    computation time/batch: 56.0142sec\t    number of points: 912\n",
      "\t    median distance2db: 1.2159347534179688e-05\n",
      "computation DB time/batch: 55.9742\n",
      "batch: 446/1000 \t    computation time/batch: 55.9912sec\t    number of points: 892\n",
      "\t    median distance2db: 1.1563301086425781e-05\n",
      "computation DB time/batch: 55.9946\n",
      "batch: 447/1000 \t    computation time/batch: 56.0108sec\t    number of points: 854\n",
      "\t    median distance2db: 1.3828277587890625e-05\n",
      "computation DB time/batch: 55.9846\n",
      "batch: 448/1000 \t    computation time/batch: 56.0016sec\t    number of points: 898\n",
      "\t    median distance2db: 1.0967254638671875e-05\n",
      "computation DB time/batch: 56.0006\n",
      "batch: 449/1000 \t    computation time/batch: 56.0173sec\t    number of points: 905\n",
      "\t    median distance2db: 1.895427703857422e-05\n",
      "computation DB time/batch: 55.9822\n",
      "batch: 450/1000 \t    computation time/batch: 55.9993sec\t    number of points: 918\n",
      "\t    median distance2db: 1.621246337890625e-05\n",
      "computation DB time/batch: 56.0167\n",
      "batch: 451/1000 \t    computation time/batch: 56.0328sec\t    number of points: 873\n",
      "\t    median distance2db: 2.0265579223632812e-05\n",
      "computation DB time/batch: 56.1019\n",
      "batch: 452/1000 \t    computation time/batch: 56.1188sec\t    number of points: 873\n",
      "\t    median distance2db: 1.4066696166992188e-05\n",
      "computation DB time/batch: 56.2420\n",
      "batch: 453/1000 \t    computation time/batch: 56.2588sec\t    number of points: 917\n",
      "\t    median distance2db: 1.0848045349121094e-05\n",
      "computation DB time/batch: 56.0299\n",
      "batch: 454/1000 \t    computation time/batch: 56.0468sec\t    number of points: 892\n",
      "\t    median distance2db: 1.633167266845703e-05\n"
     ]
    },
    {
     "name": "stdout",
     "output_type": "stream",
     "text": [
      "computation DB time/batch: 56.0254\n",
      "batch: 455/1000 \t    computation time/batch: 56.0415sec\t    number of points: 849\n",
      "\t    median distance2db: 2.193450927734375e-05\n",
      "computation DB time/batch: 56.0122\n",
      "batch: 456/1000 \t    computation time/batch: 56.0293sec\t    number of points: 912\n",
      "\t    median distance2db: 1.7404556274414062e-05\n",
      "computation DB time/batch: 56.0740\n",
      "batch: 457/1000 \t    computation time/batch: 56.0901sec\t    number of points: 852\n",
      "\t    median distance2db: 1.1563301086425781e-05\n",
      "computation DB time/batch: 56.0611\n",
      "batch: 458/1000 \t    computation time/batch: 56.0786sec\t    number of points: 920\n",
      "\t    median distance2db: 1.0132789611816406e-05\n",
      "computation DB time/batch: 56.0184\n",
      "batch: 459/1000 \t    computation time/batch: 56.0352sec\t    number of points: 889\n",
      "\t    median distance2db: 1.33514404296875e-05\n",
      "computation DB time/batch: 55.9317\n",
      "batch: 460/1000 \t    computation time/batch: 55.9482sec\t    number of points: 870\n",
      "\t    median distance2db: 1.049041748046875e-05\n",
      "computation DB time/batch: 55.9444\n",
      "batch: 461/1000 \t    computation time/batch: 55.9622sec\t    number of points: 927\n",
      "\t    median distance2db: 1.6689300537109375e-05\n",
      "computation DB time/batch: 55.9259\n",
      "batch: 462/1000 \t    computation time/batch: 55.9422sec\t    number of points: 868\n",
      "\t    median distance2db: 1.728534698486328e-05\n",
      "computation DB time/batch: 55.9905\n",
      "batch: 463/1000 \t    computation time/batch: 56.0078sec\t    number of points: 926\n",
      "\t    median distance2db: 1.0251998901367188e-05\n",
      "computation DB time/batch: 56.0170\n",
      "batch: 464/1000 \t    computation time/batch: 56.0322sec\t    number of points: 848\n",
      "\t    median distance2db: 8.106231689453125e-06\n",
      "computation DB time/batch: 56.0281\n",
      "batch: 465/1000 \t    computation time/batch: 56.0455sec\t    number of points: 913\n",
      "\t    median distance2db: 1.1682510375976562e-05\n",
      "computation DB time/batch: 55.9314\n",
      "batch: 466/1000 \t    computation time/batch: 55.9475sec\t    number of points: 879\n",
      "\t    median distance2db: 1.0371208190917969e-05\n",
      "computation DB time/batch: 55.9104\n",
      "batch: 467/1000 \t    computation time/batch: 55.9267sec\t    number of points: 860\n",
      "\t    median distance2db: 1.71661376953125e-05\n",
      "computation DB time/batch: 55.9035\n",
      "batch: 468/1000 \t    computation time/batch: 55.9202sec\t    number of points: 887\n",
      "\t    median distance2db: 7.748603820800781e-06\n",
      "computation DB time/batch: 56.0049\n",
      "batch: 469/1000 \t    computation time/batch: 56.0220sec\t    number of points: 900\n",
      "\t    median distance2db: 1.0132789611816406e-05\n",
      "computation DB time/batch: 56.0290\n",
      "batch: 470/1000 \t    computation time/batch: 56.0460sec\t    number of points: 906\n",
      "\t    median distance2db: 2.181529998779297e-05\n",
      "computation DB time/batch: 56.0935\n",
      "batch: 471/1000 \t    computation time/batch: 56.1099sec\t    number of points: 843\n",
      "\t    median distance2db: 1.2636184692382812e-05\n",
      "computation DB time/batch: 56.1159\n",
      "batch: 472/1000 \t    computation time/batch: 56.1314sec\t    number of points: 870\n",
      "\t    median distance2db: 1.2040138244628906e-05\n",
      "computation DB time/batch: 56.1263\n",
      "batch: 473/1000 \t    computation time/batch: 56.1432sec\t    number of points: 890\n",
      "\t    median distance2db: 1.8477439880371094e-05\n",
      "computation DB time/batch: 56.0109\n",
      "batch: 474/1000 \t    computation time/batch: 56.0279sec\t    number of points: 908\n",
      "\t    median distance2db: 1.4781951904296875e-05\n",
      "computation DB time/batch: 56.0547\n",
      "batch: 475/1000 \t    computation time/batch: 56.0721sec\t    number of points: 913\n",
      "\t    median distance2db: 1.4781951904296875e-05\n",
      "computation DB time/batch: 56.0505\n",
      "batch: 476/1000 \t    computation time/batch: 56.0680sec\t    number of points: 909\n",
      "\t    median distance2db: 1.3828277587890625e-05\n",
      "computation DB time/batch: 56.1536\n",
      "batch: 477/1000 \t    computation time/batch: 56.1703sec\t    number of points: 868\n",
      "\t    median distance2db: 1.1682510375976562e-05\n",
      "computation DB time/batch: 56.1394\n",
      "batch: 478/1000 \t    computation time/batch: 56.1559sec\t    number of points: 857\n",
      "\t    median distance2db: 8.58306884765625e-06\n",
      "computation DB time/batch: 56.2180\n",
      "batch: 479/1000 \t    computation time/batch: 56.2339sec\t    number of points: 880\n",
      "\t    median distance2db: 1.2755393981933594e-05\n",
      "computation DB time/batch: 56.1565\n",
      "batch: 480/1000 \t    computation time/batch: 56.1723sec\t    number of points: 841\n",
      "\t    median distance2db: 1.0967254638671875e-05\n",
      "computation DB time/batch: 56.1625\n",
      "batch: 481/1000 \t    computation time/batch: 56.1792sec\t    number of points: 921\n",
      "\t    median distance2db: 1.0609626770019531e-05\n",
      "computation DB time/batch: 56.1008\n",
      "batch: 482/1000 \t    computation time/batch: 56.1178sec\t    number of points: 885\n",
      "\t    median distance2db: 1.4543533325195312e-05\n",
      "computation DB time/batch: 56.1428\n",
      "batch: 483/1000 \t    computation time/batch: 56.1591sec\t    number of points: 911\n",
      "\t    median distance2db: 1.3947486877441406e-05\n",
      "computation DB time/batch: 56.1330\n",
      "batch: 484/1000 \t    computation time/batch: 56.1505sec\t    number of points: 918\n",
      "\t    median distance2db: 1.1801719665527344e-05\n",
      "computation DB time/batch: 56.2155\n",
      "batch: 485/1000 \t    computation time/batch: 56.2317sec\t    number of points: 851\n",
      "\t    median distance2db: 1.0609626770019531e-05\n",
      "computation DB time/batch: 56.1955\n",
      "batch: 486/1000 \t    computation time/batch: 56.2133sec\t    number of points: 902\n",
      "\t    median distance2db: 1.0967254638671875e-05\n",
      "computation DB time/batch: 56.1773\n",
      "batch: 487/1000 \t    computation time/batch: 56.1938sec\t    number of points: 866\n",
      "\t    median distance2db: 9.894371032714844e-06\n",
      "computation DB time/batch: 56.0807\n",
      "batch: 488/1000 \t    computation time/batch: 56.0977sec\t    number of points: 884\n",
      "\t    median distance2db: 1.33514404296875e-05\n",
      "computation DB time/batch: 56.1373\n",
      "batch: 489/1000 \t    computation time/batch: 56.1540sec\t    number of points: 906\n",
      "\t    median distance2db: 1.609325408935547e-05\n",
      "computation DB time/batch: 56.1509\n",
      "batch: 490/1000 \t    computation time/batch: 56.1674sec\t    number of points: 875\n",
      "\t    median distance2db: 2.0265579223632812e-05\n",
      "computation DB time/batch: 56.1631\n",
      "batch: 491/1000 \t    computation time/batch: 56.1802sec\t    number of points: 882\n",
      "\t    median distance2db: 1.1682510375976562e-05\n",
      "computation DB time/batch: 56.1766\n",
      "batch: 492/1000 \t    computation time/batch: 56.1933sec\t    number of points: 888\n",
      "\t    median distance2db: 1.1920928955078125e-05\n",
      "computation DB time/batch: 56.1931\n",
      "batch: 493/1000 \t    computation time/batch: 56.2098sec\t    number of points: 885\n",
      "\t    median distance2db: 1.1682510375976562e-05\n",
      "computation DB time/batch: 56.1477\n",
      "batch: 494/1000 \t    computation time/batch: 56.1651sec\t    number of points: 939\n",
      "\t    median distance2db: 1.71661376953125e-05\n",
      "computation DB time/batch: 56.1342\n",
      "batch: 495/1000 \t    computation time/batch: 56.1505sec\t    number of points: 871\n",
      "\t    median distance2db: 2.0384788513183594e-05\n",
      "computation DB time/batch: 56.0560\n",
      "batch: 496/1000 \t    computation time/batch: 56.0723sec\t    number of points: 896\n",
      "\t    median distance2db: 1.4662742614746094e-05\n",
      "computation DB time/batch: 56.1498\n",
      "batch: 497/1000 \t    computation time/batch: 56.1670sec\t    number of points: 925\n",
      "\t    median distance2db: 1.71661376953125e-05\n",
      "computation DB time/batch: 56.1253\n",
      "batch: 498/1000 \t    computation time/batch: 56.1421sec\t    number of points: 897\n",
      "\t    median distance2db: 2.1219253540039062e-05\n",
      "computation DB time/batch: 56.1549\n",
      "batch: 499/1000 \t    computation time/batch: 56.1726sec\t    number of points: 912\n",
      "\t    median distance2db: 1.0728836059570312e-05\n",
      "computation DB time/batch: 56.1526\n",
      "batch: 500/1000 \t    computation time/batch: 56.1699sec\t    number of points: 922\n",
      "\t    median distance2db: 1.1920928955078125e-05\n",
      "computation DB time/batch: 56.1749\n",
      "batch: 501/1000 \t    computation time/batch: 56.1914sec\t    number of points: 895\n",
      "\t    median distance2db: 1.9788742065429688e-05\n",
      "computation DB time/batch: 56.0159\n",
      "batch: 502/1000 \t    computation time/batch: 56.0323sec\t    number of points: 875\n",
      "\t    median distance2db: 1.990795135498047e-05\n",
      "computation DB time/batch: 56.0971\n",
      "batch: 503/1000 \t    computation time/batch: 56.1147sec\t    number of points: 924\n",
      "\t    median distance2db: 1.33514404296875e-05\n",
      "computation DB time/batch: 56.0885\n",
      "batch: 504/1000 \t    computation time/batch: 56.1054sec\t    number of points: 901\n",
      "\t    median distance2db: 1.5497207641601562e-05\n"
     ]
    },
    {
     "name": "stdout",
     "output_type": "stream",
     "text": [
      "computation DB time/batch: 56.1550\n",
      "batch: 505/1000 \t    computation time/batch: 56.1718sec\t    number of points: 884\n",
      "\t    median distance2db: 1.0371208190917969e-05\n",
      "computation DB time/batch: 56.1829\n",
      "batch: 506/1000 \t    computation time/batch: 56.2002sec\t    number of points: 867\n",
      "\t    median distance2db: 1.430511474609375e-05\n",
      "computation DB time/batch: 56.2174\n",
      "batch: 507/1000 \t    computation time/batch: 56.2344sec\t    number of points: 920\n",
      "\t    median distance2db: 1.5020370483398438e-05\n",
      "computation DB time/batch: 56.1656\n",
      "batch: 508/1000 \t    computation time/batch: 56.1823sec\t    number of points: 874\n",
      "\t    median distance2db: 1.1682510375976562e-05\n",
      "computation DB time/batch: 56.1734\n",
      "batch: 509/1000 \t    computation time/batch: 56.1891sec\t    number of points: 861\n",
      "\t    median distance2db: 1.33514404296875e-05\n",
      "computation DB time/batch: 56.1274\n",
      "batch: 510/1000 \t    computation time/batch: 56.1439sec\t    number of points: 895\n",
      "\t    median distance2db: 1.2159347534179688e-05\n",
      "computation DB time/batch: 56.1775\n",
      "batch: 511/1000 \t    computation time/batch: 56.1948sec\t    number of points: 945\n",
      "\t    median distance2db: 1.33514404296875e-05\n",
      "computation DB time/batch: 56.0931\n",
      "batch: 512/1000 \t    computation time/batch: 56.1100sec\t    number of points: 912\n",
      "\t    median distance2db: 8.702278137207031e-06\n",
      "computation DB time/batch: 56.2018\n",
      "batch: 513/1000 \t    computation time/batch: 56.2186sec\t    number of points: 913\n",
      "\t    median distance2db: 1.1682510375976562e-05\n",
      "computation DB time/batch: 56.1873\n",
      "batch: 514/1000 \t    computation time/batch: 56.2051sec\t    number of points: 946\n",
      "\t    median distance2db: 1.9311904907226562e-05\n",
      "computation DB time/batch: 56.2182\n",
      "batch: 515/1000 \t    computation time/batch: 56.2347sec\t    number of points: 906\n",
      "\t    median distance2db: 8.940696716308594e-06\n",
      "computation DB time/batch: 56.2130\n",
      "batch: 516/1000 \t    computation time/batch: 56.2307sec\t    number of points: 920\n",
      "\t    median distance2db: 1.2874603271484375e-05\n",
      "computation DB time/batch: 56.1556\n",
      "batch: 517/1000 \t    computation time/batch: 56.1725sec\t    number of points: 889\n",
      "\t    median distance2db: 1.2993812561035156e-05\n",
      "computation DB time/batch: 56.1395\n",
      "batch: 518/1000 \t    computation time/batch: 56.1571sec\t    number of points: 888\n",
      "\t    median distance2db: 1.5616416931152344e-05\n",
      "computation DB time/batch: 56.1310\n",
      "batch: 519/1000 \t    computation time/batch: 56.1480sec\t    number of points: 922\n",
      "\t    median distance2db: 1.52587890625e-05\n",
      "computation DB time/batch: 56.0989\n",
      "batch: 520/1000 \t    computation time/batch: 56.1163sec\t    number of points: 912\n",
      "\t    median distance2db: 1.4781951904296875e-05\n",
      "computation DB time/batch: 56.1094\n",
      "batch: 521/1000 \t    computation time/batch: 56.1261sec\t    number of points: 884\n",
      "\t    median distance2db: 2.288818359375e-05\n",
      "computation DB time/batch: 56.1088\n",
      "batch: 522/1000 \t    computation time/batch: 56.1270sec\t    number of points: 932\n",
      "\t    median distance2db: 1.3709068298339844e-05\n",
      "computation DB time/batch: 56.1254\n",
      "batch: 523/1000 \t    computation time/batch: 56.1422sec\t    number of points: 870\n",
      "\t    median distance2db: 7.152557373046875e-06\n",
      "computation DB time/batch: 56.1603\n",
      "batch: 524/1000 \t    computation time/batch: 56.1776sec\t    number of points: 901\n",
      "\t    median distance2db: 9.298324584960938e-06\n",
      "computation DB time/batch: 56.2174\n",
      "batch: 525/1000 \t    computation time/batch: 56.2343sec\t    number of points: 871\n",
      "\t    median distance2db: 8.702278137207031e-06\n",
      "computation DB time/batch: 56.1534\n",
      "batch: 526/1000 \t    computation time/batch: 56.1701sec\t    number of points: 888\n",
      "\t    median distance2db: 2.1219253540039062e-05\n",
      "computation DB time/batch: 56.1337\n",
      "batch: 527/1000 \t    computation time/batch: 56.1506sec\t    number of points: 915\n",
      "\t    median distance2db: 1.5139579772949219e-05\n",
      "computation DB time/batch: 56.1334\n",
      "batch: 528/1000 \t    computation time/batch: 56.1501sec\t    number of points: 898\n",
      "\t    median distance2db: 1.2278556823730469e-05\n",
      "computation DB time/batch: 56.1314\n",
      "batch: 529/1000 \t    computation time/batch: 56.1488sec\t    number of points: 912\n",
      "\t    median distance2db: 2.205371856689453e-05\n",
      "computation DB time/batch: 56.1396\n",
      "batch: 530/1000 \t    computation time/batch: 56.1561sec\t    number of points: 877\n",
      "\t    median distance2db: 9.059906005859375e-06\n",
      "computation DB time/batch: 56.2197\n",
      "batch: 531/1000 \t    computation time/batch: 56.2364sec\t    number of points: 902\n",
      "\t    median distance2db: 1.1205673217773438e-05\n",
      "computation DB time/batch: 56.2663\n",
      "batch: 532/1000 \t    computation time/batch: 56.2826sec\t    number of points: 873\n",
      "\t    median distance2db: 2.086162567138672e-05\n",
      "computation DB time/batch: 56.0753\n",
      "batch: 533/1000 \t    computation time/batch: 56.0932sec\t    number of points: 927\n",
      "\t    median distance2db: 1.3113021850585938e-05\n",
      "computation DB time/batch: 56.0243\n",
      "batch: 534/1000 \t    computation time/batch: 56.0412sec\t    number of points: 900\n",
      "\t    median distance2db: 2.181529998779297e-05\n",
      "computation DB time/batch: 55.9660\n",
      "batch: 535/1000 \t    computation time/batch: 55.9826sec\t    number of points: 848\n",
      "\t    median distance2db: 1.049041748046875e-05\n",
      "computation DB time/batch: 56.0339\n",
      "batch: 536/1000 \t    computation time/batch: 56.0497sec\t    number of points: 829\n",
      "\t    median distance2db: 9.417533874511719e-06\n",
      "computation DB time/batch: 56.0487\n",
      "batch: 537/1000 \t    computation time/batch: 56.0660sec\t    number of points: 906\n",
      "\t    median distance2db: 1.0967254638671875e-05\n",
      "computation DB time/batch: 56.0112\n",
      "batch: 538/1000 \t    computation time/batch: 56.0283sec\t    number of points: 900\n",
      "\t    median distance2db: 9.775161743164062e-06\n",
      "computation DB time/batch: 56.0610\n",
      "batch: 539/1000 \t    computation time/batch: 56.0772sec\t    number of points: 864\n",
      "\t    median distance2db: 1.1205673217773438e-05\n",
      "computation DB time/batch: 55.9651\n",
      "batch: 540/1000 \t    computation time/batch: 55.9826sec\t    number of points: 954\n",
      "\t    median distance2db: 1.33514404296875e-05\n",
      "computation DB time/batch: 56.0335\n",
      "batch: 541/1000 \t    computation time/batch: 56.0500sec\t    number of points: 866\n",
      "\t    median distance2db: 1.3828277587890625e-05\n",
      "computation DB time/batch: 56.0193\n",
      "batch: 542/1000 \t    computation time/batch: 56.0366sec\t    number of points: 913\n",
      "\t    median distance2db: 1.621246337890625e-05\n",
      "computation DB time/batch: 55.9825\n",
      "batch: 543/1000 \t    computation time/batch: 55.9986sec\t    number of points: 868\n",
      "\t    median distance2db: 1.0251998901367188e-05\n",
      "computation DB time/batch: 55.9269\n",
      "batch: 544/1000 \t    computation time/batch: 55.9436sec\t    number of points: 876\n",
      "\t    median distance2db: 1.0728836059570312e-05\n",
      "computation DB time/batch: 55.8858\n",
      "batch: 545/1000 \t    computation time/batch: 55.9023sec\t    number of points: 892\n",
      "\t    median distance2db: 1.0848045349121094e-05\n",
      "computation DB time/batch: 55.9350\n",
      "batch: 546/1000 \t    computation time/batch: 55.9513sec\t    number of points: 856\n",
      "\t    median distance2db: 1.3232231140136719e-05\n",
      "computation DB time/batch: 55.9019\n",
      "batch: 547/1000 \t    computation time/batch: 55.9189sec\t    number of points: 913\n",
      "\t    median distance2db: 2.002716064453125e-05\n",
      "computation DB time/batch: 55.9724\n",
      "batch: 548/1000 \t    computation time/batch: 55.9892sec\t    number of points: 890\n",
      "\t    median distance2db: 1.2874603271484375e-05\n",
      "computation DB time/batch: 55.9663\n",
      "batch: 549/1000 \t    computation time/batch: 55.9831sec\t    number of points: 895\n",
      "\t    median distance2db: 2.1338462829589844e-05\n",
      "computation DB time/batch: 55.9331\n",
      "batch: 550/1000 \t    computation time/batch: 55.9508sec\t    number of points: 887\n",
      "\t    median distance2db: 1.9073486328125e-05\n",
      "computation DB time/batch: 55.9500\n",
      "batch: 551/1000 \t    computation time/batch: 55.9669sec\t    number of points: 892\n",
      "\t    median distance2db: 1.0967254638671875e-05\n",
      "computation DB time/batch: 55.9372\n",
      "batch: 552/1000 \t    computation time/batch: 55.9551sec\t    number of points: 904\n",
      "\t    median distance2db: 1.800060272216797e-05\n",
      "computation DB time/batch: 56.2460\n",
      "batch: 553/1000 \t    computation time/batch: 56.2631sec\t    number of points: 904\n",
      "\t    median distance2db: 1.3470649719238281e-05\n",
      "computation DB time/batch: 55.8826\n",
      "batch: 554/1000 \t    computation time/batch: 55.8988sec\t    number of points: 835\n",
      "\t    median distance2db: 1.33514404296875e-05\n"
     ]
    },
    {
     "name": "stdout",
     "output_type": "stream",
     "text": [
      "computation DB time/batch: 55.9005\n",
      "batch: 555/1000 \t    computation time/batch: 55.9179sec\t    number of points: 931\n",
      "\t    median distance2db: 1.5497207641601562e-05\n",
      "computation DB time/batch: 55.9515\n",
      "batch: 556/1000 \t    computation time/batch: 55.9687sec\t    number of points: 904\n",
      "\t    median distance2db: 8.106231689453125e-06\n",
      "computation DB time/batch: 55.9927\n",
      "batch: 557/1000 \t    computation time/batch: 56.0102sec\t    number of points: 889\n",
      "\t    median distance2db: 1.5974044799804688e-05\n",
      "computation DB time/batch: 55.9607\n",
      "batch: 558/1000 \t    computation time/batch: 55.9765sec\t    number of points: 848\n",
      "\t    median distance2db: 1.2636184692382812e-05\n",
      "computation DB time/batch: 55.9601\n",
      "batch: 559/1000 \t    computation time/batch: 55.9778sec\t    number of points: 930\n",
      "\t    median distance2db: 1.0013580322265625e-05\n",
      "computation DB time/batch: 55.9160\n",
      "batch: 560/1000 \t    computation time/batch: 55.9325sec\t    number of points: 896\n",
      "\t    median distance2db: 8.225440979003906e-06\n",
      "computation DB time/batch: 55.9158\n",
      "batch: 561/1000 \t    computation time/batch: 55.9327sec\t    number of points: 890\n",
      "\t    median distance2db: 1.1444091796875e-05\n",
      "computation DB time/batch: 55.9300\n",
      "batch: 562/1000 \t    computation time/batch: 55.9467sec\t    number of points: 897\n",
      "\t    median distance2db: 1.52587890625e-05\n",
      "computation DB time/batch: 56.0056\n",
      "batch: 563/1000 \t    computation time/batch: 56.0218sec\t    number of points: 860\n",
      "\t    median distance2db: 1.1801719665527344e-05\n",
      "computation DB time/batch: 55.9993\n",
      "batch: 564/1000 \t    computation time/batch: 56.0153sec\t    number of points: 880\n",
      "\t    median distance2db: 1.3947486877441406e-05\n",
      "computation DB time/batch: 56.0090\n",
      "batch: 565/1000 \t    computation time/batch: 56.0259sec\t    number of points: 896\n",
      "\t    median distance2db: 9.059906005859375e-06\n",
      "computation DB time/batch: 56.0063\n",
      "batch: 566/1000 \t    computation time/batch: 56.0233sec\t    number of points: 885\n",
      "\t    median distance2db: 1.7642974853515625e-05\n",
      "computation DB time/batch: 56.0015\n",
      "batch: 567/1000 \t    computation time/batch: 56.0187sec\t    number of points: 883\n",
      "\t    median distance2db: 1.6927719116210938e-05\n",
      "computation DB time/batch: 55.9745\n",
      "batch: 568/1000 \t    computation time/batch: 55.9910sec\t    number of points: 884\n",
      "\t    median distance2db: 2.3126602172851562e-05\n",
      "computation DB time/batch: 55.9468\n",
      "batch: 569/1000 \t    computation time/batch: 55.9637sec\t    number of points: 873\n",
      "\t    median distance2db: 1.2874603271484375e-05\n",
      "computation DB time/batch: 55.8996\n",
      "batch: 570/1000 \t    computation time/batch: 55.9162sec\t    number of points: 859\n",
      "\t    median distance2db: 1.2874603271484375e-05\n",
      "computation DB time/batch: 55.9658\n",
      "batch: 571/1000 \t    computation time/batch: 55.9821sec\t    number of points: 877\n",
      "\t    median distance2db: 1.2278556823730469e-05\n",
      "computation DB time/batch: 55.9797\n",
      "batch: 572/1000 \t    computation time/batch: 55.9960sec\t    number of points: 861\n",
      "\t    median distance2db: 1.2159347534179688e-05\n",
      "computation DB time/batch: 55.9891\n",
      "batch: 573/1000 \t    computation time/batch: 56.0059sec\t    number of points: 886\n",
      "\t    median distance2db: 8.821487426757812e-06\n",
      "computation DB time/batch: 56.0030\n",
      "batch: 574/1000 \t    computation time/batch: 56.0192sec\t    number of points: 845\n",
      "\t    median distance2db: 9.059906005859375e-06\n",
      "computation DB time/batch: 56.0525\n",
      "batch: 575/1000 \t    computation time/batch: 56.0695sec\t    number of points: 919\n",
      "\t    median distance2db: 2.0503997802734375e-05\n",
      "computation DB time/batch: 55.9524\n",
      "batch: 576/1000 \t    computation time/batch: 55.9698sec\t    number of points: 903\n",
      "\t    median distance2db: 2.1338462829589844e-05\n",
      "computation DB time/batch: 55.9236\n",
      "batch: 577/1000 \t    computation time/batch: 55.9397sec\t    number of points: 856\n",
      "\t    median distance2db: 2.110004425048828e-05\n",
      "computation DB time/batch: 55.9843\n",
      "batch: 578/1000 \t    computation time/batch: 56.0018sec\t    number of points: 898\n",
      "\t    median distance2db: 9.179115295410156e-06\n",
      "computation DB time/batch: 56.0471\n",
      "batch: 579/1000 \t    computation time/batch: 56.0642sec\t    number of points: 889\n",
      "\t    median distance2db: 1.239776611328125e-05\n",
      "computation DB time/batch: 56.1220\n",
      "batch: 580/1000 \t    computation time/batch: 56.1393sec\t    number of points: 884\n",
      "\t    median distance2db: 9.894371032714844e-06\n",
      "computation DB time/batch: 56.1795\n",
      "batch: 581/1000 \t    computation time/batch: 56.1966sec\t    number of points: 902\n",
      "\t    median distance2db: 1.2040138244628906e-05\n",
      "computation DB time/batch: 56.2716\n",
      "batch: 582/1000 \t    computation time/batch: 56.2887sec\t    number of points: 866\n",
      "\t    median distance2db: 8.106231689453125e-06\n",
      "computation DB time/batch: 56.2182\n",
      "batch: 583/1000 \t    computation time/batch: 56.2349sec\t    number of points: 895\n",
      "\t    median distance2db: 1.537799835205078e-05\n",
      "computation DB time/batch: 56.1248\n",
      "batch: 584/1000 \t    computation time/batch: 56.1423sec\t    number of points: 893\n",
      "\t    median distance2db: 2.3365020751953125e-05\n",
      "computation DB time/batch: 56.1232\n",
      "batch: 585/1000 \t    computation time/batch: 56.1398sec\t    number of points: 849\n",
      "\t    median distance2db: 1.8596649169921875e-05\n",
      "computation DB time/batch: 56.0935\n",
      "batch: 586/1000 \t    computation time/batch: 56.1100sec\t    number of points: 899\n",
      "\t    median distance2db: 1.71661376953125e-05\n",
      "computation DB time/batch: 56.1357\n",
      "batch: 587/1000 \t    computation time/batch: 56.1527sec\t    number of points: 903\n",
      "\t    median distance2db: 1.4066696166992188e-05\n",
      "computation DB time/batch: 56.1507\n",
      "batch: 588/1000 \t    computation time/batch: 56.1676sec\t    number of points: 906\n",
      "\t    median distance2db: 2.2530555725097656e-05\n",
      "computation DB time/batch: 56.1418\n",
      "batch: 589/1000 \t    computation time/batch: 56.1594sec\t    number of points: 899\n",
      "\t    median distance2db: 1.0013580322265625e-05\n",
      "computation DB time/batch: 56.2070\n",
      "batch: 590/1000 \t    computation time/batch: 56.2230sec\t    number of points: 867\n",
      "\t    median distance2db: 7.867813110351562e-06\n",
      "computation DB time/batch: 56.0702\n",
      "batch: 591/1000 \t    computation time/batch: 56.0879sec\t    number of points: 904\n",
      "\t    median distance2db: 1.0967254638671875e-05\n",
      "computation DB time/batch: 56.0919\n",
      "batch: 592/1000 \t    computation time/batch: 56.1082sec\t    number of points: 862\n",
      "\t    median distance2db: 1.3589859008789062e-05\n",
      "computation DB time/batch: 56.1005\n",
      "batch: 593/1000 \t    computation time/batch: 56.1179sec\t    number of points: 896\n",
      "\t    median distance2db: 1.9550323486328125e-05\n",
      "computation DB time/batch: 56.1164\n",
      "batch: 594/1000 \t    computation time/batch: 56.1328sec\t    number of points: 867\n",
      "\t    median distance2db: 1.2516975402832031e-05\n",
      "computation DB time/batch: 56.1665\n",
      "batch: 595/1000 \t    computation time/batch: 56.1842sec\t    number of points: 900\n",
      "\t    median distance2db: 8.106231689453125e-06\n",
      "computation DB time/batch: 56.1284\n",
      "batch: 596/1000 \t    computation time/batch: 56.1447sec\t    number of points: 872\n",
      "\t    median distance2db: 8.344650268554688e-06\n",
      "computation DB time/batch: 56.1386\n",
      "batch: 597/1000 \t    computation time/batch: 56.1554sec\t    number of points: 880\n",
      "\t    median distance2db: 3.409385681152344e-05\n",
      "computation DB time/batch: 56.0395\n",
      "batch: 598/1000 \t    computation time/batch: 56.0563sec\t    number of points: 862\n",
      "\t    median distance2db: 1.6808509826660156e-05\n",
      "computation DB time/batch: 56.0880\n",
      "batch: 599/1000 \t    computation time/batch: 56.1053sec\t    number of points: 845\n",
      "\t    median distance2db: 1.1563301086425781e-05\n",
      "computation DB time/batch: 56.0585\n",
      "batch: 600/1000 \t    computation time/batch: 56.0752sec\t    number of points: 874\n",
      "\t    median distance2db: 1.2516975402832031e-05\n",
      "computation DB time/batch: 56.0561\n",
      "batch: 601/1000 \t    computation time/batch: 56.0729sec\t    number of points: 889\n",
      "\t    median distance2db: 1.8596649169921875e-05\n",
      "computation DB time/batch: 56.1936\n",
      "batch: 602/1000 \t    computation time/batch: 56.2108sec\t    number of points: 900\n",
      "\t    median distance2db: 1.1920928955078125e-05\n",
      "computation DB time/batch: 55.9223\n",
      "batch: 603/1000 \t    computation time/batch: 55.9394sec\t    number of points: 925\n",
      "\t    median distance2db: 1.3828277587890625e-05\n",
      "computation DB time/batch: 55.9413\n",
      "batch: 604/1000 \t    computation time/batch: 55.9578sec\t    number of points: 863\n",
      "\t    median distance2db: 2.1219253540039062e-05\n"
     ]
    },
    {
     "name": "stdout",
     "output_type": "stream",
     "text": [
      "computation DB time/batch: 56.0959\n",
      "batch: 605/1000 \t    computation time/batch: 56.1123sec\t    number of points: 853\n",
      "\t    median distance2db: 1.7881393432617188e-05\n",
      "computation DB time/batch: 56.0462\n",
      "batch: 606/1000 \t    computation time/batch: 56.0635sec\t    number of points: 902\n",
      "\t    median distance2db: 1.1205673217773438e-05\n",
      "computation DB time/batch: 56.0905\n",
      "batch: 607/1000 \t    computation time/batch: 56.1077sec\t    number of points: 906\n",
      "\t    median distance2db: 1.8358230590820312e-05\n",
      "computation DB time/batch: 56.0017\n",
      "batch: 608/1000 \t    computation time/batch: 56.0184sec\t    number of points: 881\n",
      "\t    median distance2db: 1.3828277587890625e-05\n",
      "computation DB time/batch: 56.1379\n",
      "batch: 609/1000 \t    computation time/batch: 56.1543sec\t    number of points: 866\n",
      "\t    median distance2db: 1.0967254638671875e-05\n",
      "computation DB time/batch: 56.0745\n",
      "batch: 610/1000 \t    computation time/batch: 56.0920sec\t    number of points: 887\n",
      "\t    median distance2db: 1.0967254638671875e-05\n",
      "computation DB time/batch: 56.1950\n",
      "batch: 611/1000 \t    computation time/batch: 56.2121sec\t    number of points: 905\n",
      "\t    median distance2db: 9.059906005859375e-06\n",
      "computation DB time/batch: 56.1615\n",
      "batch: 612/1000 \t    computation time/batch: 56.1793sec\t    number of points: 913\n",
      "\t    median distance2db: 1.2636184692382812e-05\n",
      "computation DB time/batch: 56.1630\n",
      "batch: 613/1000 \t    computation time/batch: 56.1804sec\t    number of points: 903\n",
      "\t    median distance2db: 1.049041748046875e-05\n",
      "computation DB time/batch: 56.1638\n",
      "batch: 614/1000 \t    computation time/batch: 56.1811sec\t    number of points: 900\n",
      "\t    median distance2db: 2.1696090698242188e-05\n",
      "computation DB time/batch: 56.1251\n",
      "batch: 615/1000 \t    computation time/batch: 56.1426sec\t    number of points: 932\n",
      "\t    median distance2db: 1.5735626220703125e-05\n",
      "computation DB time/batch: 56.1273\n",
      "batch: 616/1000 \t    computation time/batch: 56.1446sec\t    number of points: 882\n",
      "\t    median distance2db: 1.33514404296875e-05\n",
      "computation DB time/batch: 56.1512\n",
      "batch: 617/1000 \t    computation time/batch: 56.1682sec\t    number of points: 897\n",
      "\t    median distance2db: 1.2636184692382812e-05\n",
      "computation DB time/batch: 56.2026\n",
      "batch: 618/1000 \t    computation time/batch: 56.2187sec\t    number of points: 855\n",
      "\t    median distance2db: 1.3709068298339844e-05\n",
      "computation DB time/batch: 56.1914\n",
      "batch: 619/1000 \t    computation time/batch: 56.2087sec\t    number of points: 914\n",
      "\t    median distance2db: 1.5497207641601562e-05\n",
      "computation DB time/batch: 56.1751\n",
      "batch: 620/1000 \t    computation time/batch: 56.1917sec\t    number of points: 884\n",
      "\t    median distance2db: 1.52587890625e-05\n",
      "computation DB time/batch: 56.1007\n",
      "batch: 621/1000 \t    computation time/batch: 56.1180sec\t    number of points: 907\n",
      "\t    median distance2db: 9.5367431640625e-06\n",
      "computation DB time/batch: 56.0798\n",
      "batch: 622/1000 \t    computation time/batch: 56.0962sec\t    number of points: 857\n",
      "\t    median distance2db: 1.0848045349121094e-05\n",
      "computation DB time/batch: 56.0794\n",
      "batch: 623/1000 \t    computation time/batch: 56.0972sec\t    number of points: 932\n",
      "\t    median distance2db: 1.609325408935547e-05\n",
      "computation DB time/batch: 56.1409\n",
      "batch: 624/1000 \t    computation time/batch: 56.1578sec\t    number of points: 896\n",
      "\t    median distance2db: 1.704692840576172e-05\n",
      "computation DB time/batch: 56.1513\n",
      "batch: 625/1000 \t    computation time/batch: 56.1682sec\t    number of points: 893\n",
      "\t    median distance2db: 1.5616416931152344e-05\n",
      "computation DB time/batch: 56.1622\n",
      "batch: 626/1000 \t    computation time/batch: 56.1793sec\t    number of points: 870\n",
      "\t    median distance2db: 1.6927719116210938e-05\n",
      "computation DB time/batch: 56.0801\n",
      "batch: 627/1000 \t    computation time/batch: 56.0981sec\t    number of points: 904\n",
      "\t    median distance2db: 1.633167266845703e-05\n",
      "computation DB time/batch: 56.0612\n",
      "batch: 628/1000 \t    computation time/batch: 56.0785sec\t    number of points: 922\n",
      "\t    median distance2db: 9.179115295410156e-06\n",
      "computation DB time/batch: 56.0948\n",
      "batch: 629/1000 \t    computation time/batch: 56.1117sec\t    number of points: 857\n",
      "\t    median distance2db: 1.1205673217773438e-05\n",
      "computation DB time/batch: 56.1634\n",
      "batch: 630/1000 \t    computation time/batch: 56.1803sec\t    number of points: 882\n",
      "\t    median distance2db: 1.5735626220703125e-05\n",
      "computation DB time/batch: 56.1597\n",
      "batch: 631/1000 \t    computation time/batch: 56.1769sec\t    number of points: 885\n",
      "\t    median distance2db: 1.1563301086425781e-05\n",
      "computation DB time/batch: 55.9792\n",
      "batch: 632/1000 \t    computation time/batch: 55.9960sec\t    number of points: 890\n",
      "\t    median distance2db: 8.58306884765625e-06\n",
      "computation DB time/batch: 55.8477\n",
      "batch: 633/1000 \t    computation time/batch: 55.8643sec\t    number of points: 850\n",
      "\t    median distance2db: 1.0013580322265625e-05\n",
      "computation DB time/batch: 55.8148\n",
      "batch: 634/1000 \t    computation time/batch: 55.8319sec\t    number of points: 884\n",
      "\t    median distance2db: 1.5497207641601562e-05\n",
      "computation DB time/batch: 55.8912\n",
      "batch: 635/1000 \t    computation time/batch: 55.9078sec\t    number of points: 859\n",
      "\t    median distance2db: 1.4781951904296875e-05\n",
      "computation DB time/batch: 55.9168\n",
      "batch: 636/1000 \t    computation time/batch: 55.9344sec\t    number of points: 929\n",
      "\t    median distance2db: 1.4901161193847656e-05\n",
      "computation DB time/batch: 55.8999\n",
      "batch: 637/1000 \t    computation time/batch: 55.9165sec\t    number of points: 886\n",
      "\t    median distance2db: 1.0967254638671875e-05\n",
      "computation DB time/batch: 55.8959\n",
      "batch: 638/1000 \t    computation time/batch: 55.9140sec\t    number of points: 937\n",
      "\t    median distance2db: 2.4557113647460938e-05\n",
      "computation DB time/batch: 55.9684\n",
      "batch: 639/1000 \t    computation time/batch: 55.9855sec\t    number of points: 882\n",
      "\t    median distance2db: 1.811981201171875e-05\n",
      "computation DB time/batch: 55.9101\n",
      "batch: 640/1000 \t    computation time/batch: 55.9274sec\t    number of points: 865\n",
      "\t    median distance2db: 2.09808349609375e-05\n",
      "computation DB time/batch: 55.9200\n",
      "batch: 641/1000 \t    computation time/batch: 55.9363sec\t    number of points: 852\n",
      "\t    median distance2db: 1.0967254638671875e-05\n",
      "computation DB time/batch: 56.0128\n",
      "batch: 642/1000 \t    computation time/batch: 56.0307sec\t    number of points: 896\n",
      "\t    median distance2db: 1.0013580322265625e-05\n",
      "computation DB time/batch: 56.1936\n",
      "batch: 643/1000 \t    computation time/batch: 56.2110sec\t    number of points: 902\n",
      "\t    median distance2db: 9.775161743164062e-06\n",
      "computation DB time/batch: 56.2426\n",
      "batch: 644/1000 \t    computation time/batch: 56.2607sec\t    number of points: 879\n",
      "\t    median distance2db: 1.2278556823730469e-05\n",
      "computation DB time/batch: 56.2852\n",
      "batch: 645/1000 \t    computation time/batch: 56.3018sec\t    number of points: 864\n",
      "\t    median distance2db: 2.4080276489257812e-05\n",
      "computation DB time/batch: 56.2456\n",
      "batch: 646/1000 \t    computation time/batch: 56.2629sec\t    number of points: 873\n",
      "\t    median distance2db: 1.3470649719238281e-05\n",
      "computation DB time/batch: 56.2572\n",
      "batch: 647/1000 \t    computation time/batch: 56.2749sec\t    number of points: 945\n",
      "\t    median distance2db: 1.3828277587890625e-05\n",
      "computation DB time/batch: 56.1528\n",
      "batch: 648/1000 \t    computation time/batch: 56.1701sec\t    number of points: 922\n",
      "\t    median distance2db: 1.6570091247558594e-05\n",
      "computation DB time/batch: 56.1461\n",
      "batch: 649/1000 \t    computation time/batch: 56.1633sec\t    number of points: 870\n",
      "\t    median distance2db: 2.0503997802734375e-05\n",
      "computation DB time/batch: 56.0318\n",
      "batch: 650/1000 \t    computation time/batch: 56.0489sec\t    number of points: 898\n",
      "\t    median distance2db: 7.3909759521484375e-06\n",
      "computation DB time/batch: 56.0825\n",
      "batch: 651/1000 \t    computation time/batch: 56.1000sec\t    number of points: 911\n",
      "\t    median distance2db: 1.5497207641601562e-05\n",
      "computation DB time/batch: 56.1180\n",
      "batch: 652/1000 \t    computation time/batch: 56.1355sec\t    number of points: 904\n",
      "\t    median distance2db: 1.2516975402832031e-05\n",
      "computation DB time/batch: 55.9047\n",
      "batch: 653/1000 \t    computation time/batch: 55.9217sec\t    number of points: 828\n",
      "\t    median distance2db: 1.4781951904296875e-05\n",
      "computation DB time/batch: 56.0251\n",
      "batch: 654/1000 \t    computation time/batch: 56.0418sec\t    number of points: 843\n",
      "\t    median distance2db: 1.4901161193847656e-05\n"
     ]
    },
    {
     "name": "stdout",
     "output_type": "stream",
     "text": [
      "computation DB time/batch: 56.1506\n",
      "batch: 655/1000 \t    computation time/batch: 56.1675sec\t    number of points: 857\n",
      "\t    median distance2db: 1.0013580322265625e-05\n",
      "computation DB time/batch: 55.8357\n",
      "batch: 656/1000 \t    computation time/batch: 55.8527sec\t    number of points: 885\n",
      "\t    median distance2db: 1.0251998901367188e-05\n",
      "computation DB time/batch: 55.9749\n",
      "batch: 657/1000 \t    computation time/batch: 55.9931sec\t    number of points: 885\n",
      "\t    median distance2db: 1.728534698486328e-05\n",
      "computation DB time/batch: 56.1802\n",
      "batch: 658/1000 \t    computation time/batch: 56.1972sec\t    number of points: 892\n",
      "\t    median distance2db: 1.1205673217773438e-05\n",
      "computation DB time/batch: 56.2112\n",
      "batch: 659/1000 \t    computation time/batch: 56.2280sec\t    number of points: 852\n",
      "\t    median distance2db: 2.1576881408691406e-05\n",
      "computation DB time/batch: 55.8263\n",
      "batch: 660/1000 \t    computation time/batch: 55.8438sec\t    number of points: 922\n",
      "\t    median distance2db: 1.0371208190917969e-05\n",
      "computation DB time/batch: 56.1426\n",
      "batch: 661/1000 \t    computation time/batch: 56.1599sec\t    number of points: 876\n",
      "\t    median distance2db: 1.1205673217773438e-05\n",
      "computation DB time/batch: 56.1166\n",
      "batch: 662/1000 \t    computation time/batch: 56.1341sec\t    number of points: 909\n",
      "\t    median distance2db: 8.344650268554688e-06\n",
      "computation DB time/batch: 56.1461\n",
      "batch: 663/1000 \t    computation time/batch: 56.1633sec\t    number of points: 879\n",
      "\t    median distance2db: 2.0503997802734375e-05\n",
      "computation DB time/batch: 55.9276\n",
      "batch: 664/1000 \t    computation time/batch: 55.9443sec\t    number of points: 895\n",
      "\t    median distance2db: 1.5974044799804688e-05\n",
      "computation DB time/batch: 55.8722\n",
      "batch: 665/1000 \t    computation time/batch: 55.8892sec\t    number of points: 888\n",
      "\t    median distance2db: 1.430511474609375e-05\n",
      "computation DB time/batch: 55.9745\n",
      "batch: 666/1000 \t    computation time/batch: 55.9918sec\t    number of points: 877\n",
      "\t    median distance2db: 1.621246337890625e-05\n",
      "computation DB time/batch: 56.0430\n",
      "batch: 667/1000 \t    computation time/batch: 56.0601sec\t    number of points: 894\n",
      "\t    median distance2db: 1.0132789611816406e-05\n",
      "computation DB time/batch: 56.0241\n",
      "batch: 668/1000 \t    computation time/batch: 56.0409sec\t    number of points: 861\n",
      "\t    median distance2db: 1.4543533325195312e-05\n",
      "computation DB time/batch: 55.9087\n",
      "batch: 669/1000 \t    computation time/batch: 55.9255sec\t    number of points: 879\n",
      "\t    median distance2db: 1.1444091796875e-05\n",
      "computation DB time/batch: 56.0648\n",
      "batch: 670/1000 \t    computation time/batch: 56.0818sec\t    number of points: 864\n",
      "\t    median distance2db: 1.4424324035644531e-05\n",
      "computation DB time/batch: 56.0669\n",
      "batch: 671/1000 \t    computation time/batch: 56.0835sec\t    number of points: 850\n",
      "\t    median distance2db: 2.3603439331054688e-05\n",
      "computation DB time/batch: 56.1345\n",
      "batch: 672/1000 \t    computation time/batch: 56.1529sec\t    number of points: 889\n",
      "\t    median distance2db: 9.894371032714844e-06\n",
      "computation DB time/batch: 56.2120\n",
      "batch: 673/1000 \t    computation time/batch: 56.2297sec\t    number of points: 922\n",
      "\t    median distance2db: 2.288818359375e-05\n",
      "computation DB time/batch: 55.9230\n",
      "batch: 674/1000 \t    computation time/batch: 55.9406sec\t    number of points: 896\n",
      "\t    median distance2db: 1.0967254638671875e-05\n",
      "computation DB time/batch: 56.1274\n",
      "batch: 675/1000 \t    computation time/batch: 56.1442sec\t    number of points: 904\n",
      "\t    median distance2db: 1.7642974853515625e-05\n",
      "computation DB time/batch: 56.0856\n",
      "batch: 676/1000 \t    computation time/batch: 56.1026sec\t    number of points: 879\n",
      "\t    median distance2db: 2.6702880859375e-05\n",
      "computation DB time/batch: 56.0089\n",
      "batch: 677/1000 \t    computation time/batch: 56.0266sec\t    number of points: 905\n",
      "\t    median distance2db: 2.4318695068359375e-05\n",
      "computation DB time/batch: 55.9697\n",
      "batch: 678/1000 \t    computation time/batch: 55.9872sec\t    number of points: 911\n",
      "\t    median distance2db: 1.239776611328125e-05\n",
      "computation DB time/batch: 56.1329\n",
      "batch: 679/1000 \t    computation time/batch: 56.1498sec\t    number of points: 871\n",
      "\t    median distance2db: 9.5367431640625e-06\n",
      "computation DB time/batch: 55.8848\n",
      "batch: 680/1000 \t    computation time/batch: 55.9018sec\t    number of points: 879\n",
      "\t    median distance2db: 1.1205673217773438e-05\n",
      "computation DB time/batch: 56.1815\n",
      "batch: 681/1000 \t    computation time/batch: 56.1988sec\t    number of points: 896\n",
      "\t    median distance2db: 1.1682510375976562e-05\n",
      "computation DB time/batch: 55.9290\n",
      "batch: 682/1000 \t    computation time/batch: 55.9468sec\t    number of points: 936\n",
      "\t    median distance2db: 1.5139579772949219e-05\n",
      "computation DB time/batch: 56.1917\n",
      "batch: 683/1000 \t    computation time/batch: 56.2096sec\t    number of points: 890\n",
      "\t    median distance2db: 8.821487426757812e-06\n",
      "computation DB time/batch: 56.0386\n",
      "batch: 684/1000 \t    computation time/batch: 56.0563sec\t    number of points: 926\n",
      "\t    median distance2db: 1.6808509826660156e-05\n",
      "computation DB time/batch: 55.9605\n",
      "batch: 685/1000 \t    computation time/batch: 55.9777sec\t    number of points: 902\n",
      "\t    median distance2db: 1.3470649719238281e-05\n",
      "computation DB time/batch: 55.8073\n",
      "batch: 686/1000 \t    computation time/batch: 55.8239sec\t    number of points: 871\n",
      "\t    median distance2db: 1.1205673217773438e-05\n",
      "computation DB time/batch: 56.0115\n",
      "batch: 687/1000 \t    computation time/batch: 56.0289sec\t    number of points: 871\n",
      "\t    median distance2db: 1.1563301086425781e-05\n",
      "computation DB time/batch: 55.9760\n",
      "batch: 688/1000 \t    computation time/batch: 55.9930sec\t    number of points: 887\n",
      "\t    median distance2db: 1.430511474609375e-05\n",
      "computation DB time/batch: 55.9589\n",
      "batch: 689/1000 \t    computation time/batch: 55.9764sec\t    number of points: 859\n",
      "\t    median distance2db: 2.3126602172851562e-05\n",
      "computation DB time/batch: 55.8925\n",
      "batch: 690/1000 \t    computation time/batch: 55.9096sec\t    number of points: 902\n",
      "\t    median distance2db: 1.4066696166992188e-05\n",
      "computation DB time/batch: 55.8339\n",
      "batch: 691/1000 \t    computation time/batch: 55.8511sec\t    number of points: 882\n",
      "\t    median distance2db: 1.049041748046875e-05\n",
      "computation DB time/batch: 55.8939\n",
      "batch: 692/1000 \t    computation time/batch: 55.9106sec\t    number of points: 895\n",
      "\t    median distance2db: 1.049041748046875e-05\n",
      "computation DB time/batch: 55.8751\n",
      "batch: 693/1000 \t    computation time/batch: 55.8921sec\t    number of points: 883\n",
      "\t    median distance2db: 1.1920928955078125e-05\n",
      "computation DB time/batch: 55.9238\n",
      "batch: 694/1000 \t    computation time/batch: 55.9409sec\t    number of points: 883\n",
      "\t    median distance2db: 1.1920928955078125e-05\n",
      "computation DB time/batch: 55.9544\n",
      "batch: 695/1000 \t    computation time/batch: 55.9712sec\t    number of points: 873\n",
      "\t    median distance2db: 1.2159347534179688e-05\n",
      "computation DB time/batch: 56.0480\n",
      "batch: 696/1000 \t    computation time/batch: 56.0657sec\t    number of points: 906\n",
      "\t    median distance2db: 7.62939453125e-06\n",
      "computation DB time/batch: 55.9305\n",
      "batch: 697/1000 \t    computation time/batch: 55.9469sec\t    number of points: 863\n",
      "\t    median distance2db: 1.8358230590820312e-05\n",
      "computation DB time/batch: 55.8815\n",
      "batch: 698/1000 \t    computation time/batch: 55.8992sec\t    number of points: 900\n",
      "\t    median distance2db: 1.0251998901367188e-05\n",
      "computation DB time/batch: 55.8563\n",
      "batch: 699/1000 \t    computation time/batch: 55.8731sec\t    number of points: 901\n",
      "\t    median distance2db: 1.3947486877441406e-05\n",
      "computation DB time/batch: 56.0667\n",
      "batch: 700/1000 \t    computation time/batch: 56.0845sec\t    number of points: 867\n",
      "\t    median distance2db: 1.0848045349121094e-05\n",
      "computation DB time/batch: 56.1729\n",
      "batch: 701/1000 \t    computation time/batch: 56.1906sec\t    number of points: 913\n",
      "\t    median distance2db: 1.3828277587890625e-05\n",
      "computation DB time/batch: 55.9218\n",
      "batch: 702/1000 \t    computation time/batch: 55.9397sec\t    number of points: 876\n",
      "\t    median distance2db: 1.6450881958007812e-05\n",
      "computation DB time/batch: 56.0011\n",
      "batch: 703/1000 \t    computation time/batch: 56.0177sec\t    number of points: 898\n",
      "\t    median distance2db: 2.0503997802734375e-05\n",
      "computation DB time/batch: 55.9202\n",
      "batch: 704/1000 \t    computation time/batch: 55.9383sec\t    number of points: 891\n",
      "\t    median distance2db: 1.5974044799804688e-05\n"
     ]
    },
    {
     "name": "stdout",
     "output_type": "stream",
     "text": [
      "computation DB time/batch: 56.1477\n",
      "batch: 705/1000 \t    computation time/batch: 56.1648sec\t    number of points: 885\n",
      "\t    median distance2db: 1.3828277587890625e-05\n",
      "computation DB time/batch: 55.8938\n",
      "batch: 706/1000 \t    computation time/batch: 55.9109sec\t    number of points: 903\n",
      "\t    median distance2db: 1.3232231140136719e-05\n",
      "computation DB time/batch: 55.8385\n",
      "batch: 707/1000 \t    computation time/batch: 55.8555sec\t    number of points: 892\n",
      "\t    median distance2db: 1.0609626770019531e-05\n",
      "computation DB time/batch: 55.7400\n",
      "batch: 708/1000 \t    computation time/batch: 55.7576sec\t    number of points: 916\n",
      "\t    median distance2db: 2.2649765014648438e-05\n",
      "computation DB time/batch: 56.0256\n",
      "batch: 709/1000 \t    computation time/batch: 56.0427sec\t    number of points: 889\n",
      "\t    median distance2db: 1.9669532775878906e-05\n",
      "computation DB time/batch: 56.0370\n",
      "batch: 710/1000 \t    computation time/batch: 56.0532sec\t    number of points: 840\n",
      "\t    median distance2db: 1.7881393432617188e-05\n",
      "computation DB time/batch: 55.9858\n",
      "batch: 711/1000 \t    computation time/batch: 56.0033sec\t    number of points: 894\n",
      "\t    median distance2db: 1.33514404296875e-05\n",
      "computation DB time/batch: 56.1732\n",
      "batch: 712/1000 \t    computation time/batch: 56.1904sec\t    number of points: 885\n",
      "\t    median distance2db: 1.5974044799804688e-05\n",
      "computation DB time/batch: 56.0951\n",
      "batch: 713/1000 \t    computation time/batch: 56.1123sec\t    number of points: 875\n",
      "\t    median distance2db: 2.0265579223632812e-05\n",
      "computation DB time/batch: 56.0011\n",
      "batch: 714/1000 \t    computation time/batch: 56.0187sec\t    number of points: 883\n",
      "\t    median distance2db: 1.895427703857422e-05\n",
      "computation DB time/batch: 55.8304\n",
      "batch: 715/1000 \t    computation time/batch: 55.8480sec\t    number of points: 886\n",
      "\t    median distance2db: 1.1205673217773438e-05\n",
      "computation DB time/batch: 55.9083\n",
      "batch: 716/1000 \t    computation time/batch: 55.9259sec\t    number of points: 897\n",
      "\t    median distance2db: 1.1801719665527344e-05\n",
      "computation DB time/batch: 55.8824\n",
      "batch: 717/1000 \t    computation time/batch: 55.9002sec\t    number of points: 893\n",
      "\t    median distance2db: 1.7523765563964844e-05\n",
      "computation DB time/batch: 55.9159\n",
      "batch: 718/1000 \t    computation time/batch: 55.9331sec\t    number of points: 889\n",
      "\t    median distance2db: 1.8596649169921875e-05\n",
      "computation DB time/batch: 56.0262\n",
      "batch: 719/1000 \t    computation time/batch: 56.0438sec\t    number of points: 876\n",
      "\t    median distance2db: 1.0251998901367188e-05\n",
      "computation DB time/batch: 55.9861\n",
      "batch: 720/1000 \t    computation time/batch: 56.0040sec\t    number of points: 921\n",
      "\t    median distance2db: 2.0623207092285156e-05\n",
      "computation DB time/batch: 56.0036\n",
      "batch: 721/1000 \t    computation time/batch: 56.0210sec\t    number of points: 877\n",
      "\t    median distance2db: 1.7404556274414062e-05\n",
      "computation DB time/batch: 55.8904\n",
      "batch: 722/1000 \t    computation time/batch: 55.9079sec\t    number of points: 916\n",
      "\t    median distance2db: 2.086162567138672e-05\n",
      "computation DB time/batch: 56.1858\n",
      "batch: 723/1000 \t    computation time/batch: 56.2028sec\t    number of points: 874\n",
      "\t    median distance2db: 1.1682510375976562e-05\n",
      "computation DB time/batch: 56.0177\n",
      "batch: 724/1000 \t    computation time/batch: 56.0342sec\t    number of points: 863\n",
      "\t    median distance2db: 1.9550323486328125e-05\n",
      "computation DB time/batch: 55.7657\n",
      "batch: 725/1000 \t    computation time/batch: 55.7834sec\t    number of points: 906\n",
      "\t    median distance2db: 8.344650268554688e-06\n",
      "computation DB time/batch: 56.1591\n",
      "batch: 726/1000 \t    computation time/batch: 56.1756sec\t    number of points: 873\n",
      "\t    median distance2db: 1.3113021850585938e-05\n",
      "computation DB time/batch: 55.8802\n",
      "batch: 727/1000 \t    computation time/batch: 55.8978sec\t    number of points: 910\n",
      "\t    median distance2db: 1.919269561767578e-05\n",
      "computation DB time/batch: 55.9414\n",
      "batch: 728/1000 \t    computation time/batch: 55.9599sec\t    number of points: 942\n",
      "\t    median distance2db: 2.288818359375e-05\n",
      "computation DB time/batch: 55.7821\n",
      "batch: 729/1000 \t    computation time/batch: 55.7986sec\t    number of points: 871\n",
      "\t    median distance2db: 1.3947486877441406e-05\n",
      "computation DB time/batch: 56.0528\n",
      "batch: 730/1000 \t    computation time/batch: 56.0696sec\t    number of points: 883\n",
      "\t    median distance2db: 8.940696716308594e-06\n",
      "computation DB time/batch: 55.9518\n",
      "batch: 731/1000 \t    computation time/batch: 55.9694sec\t    number of points: 914\n",
      "\t    median distance2db: 1.1920928955078125e-05\n",
      "computation DB time/batch: 55.8587\n",
      "batch: 732/1000 \t    computation time/batch: 55.8761sec\t    number of points: 839\n",
      "\t    median distance2db: 1.8358230590820312e-05\n",
      "computation DB time/batch: 56.1940\n",
      "batch: 733/1000 \t    computation time/batch: 56.2111sec\t    number of points: 923\n",
      "\t    median distance2db: 9.5367431640625e-06\n",
      "computation DB time/batch: 55.8615\n",
      "batch: 734/1000 \t    computation time/batch: 55.8791sec\t    number of points: 907\n",
      "\t    median distance2db: 1.71661376953125e-05\n",
      "computation DB time/batch: 56.1525\n",
      "batch: 735/1000 \t    computation time/batch: 56.1706sec\t    number of points: 933\n",
      "\t    median distance2db: 1.8358230590820312e-05\n",
      "computation DB time/batch: 55.9281\n",
      "batch: 736/1000 \t    computation time/batch: 55.9453sec\t    number of points: 887\n",
      "\t    median distance2db: 2.1576881408691406e-05\n",
      "computation DB time/batch: 55.8615\n",
      "batch: 737/1000 \t    computation time/batch: 55.8780sec\t    number of points: 850\n",
      "\t    median distance2db: 1.33514404296875e-05\n",
      "computation DB time/batch: 56.2085\n",
      "batch: 738/1000 \t    computation time/batch: 56.2265sec\t    number of points: 920\n",
      "\t    median distance2db: 1.5854835510253906e-05\n",
      "computation DB time/batch: 55.9595\n",
      "batch: 739/1000 \t    computation time/batch: 55.9762sec\t    number of points: 872\n",
      "\t    median distance2db: 1.33514404296875e-05\n",
      "computation DB time/batch: 55.9556\n",
      "batch: 740/1000 \t    computation time/batch: 55.9735sec\t    number of points: 889\n",
      "\t    median distance2db: 1.2278556823730469e-05\n",
      "computation DB time/batch: 56.0711\n",
      "batch: 741/1000 \t    computation time/batch: 56.0883sec\t    number of points: 884\n",
      "\t    median distance2db: 8.702278137207031e-06\n",
      "computation DB time/batch: 56.0753\n",
      "batch: 742/1000 \t    computation time/batch: 56.0929sec\t    number of points: 901\n",
      "\t    median distance2db: 1.4781951904296875e-05\n",
      "computation DB time/batch: 56.1312\n",
      "batch: 743/1000 \t    computation time/batch: 56.1490sec\t    number of points: 898\n",
      "\t    median distance2db: 1.33514404296875e-05\n",
      "computation DB time/batch: 56.2070\n",
      "batch: 744/1000 \t    computation time/batch: 56.2244sec\t    number of points: 867\n",
      "\t    median distance2db: 8.58306884765625e-06\n",
      "computation DB time/batch: 55.8953\n",
      "batch: 745/1000 \t    computation time/batch: 55.9125sec\t    number of points: 864\n",
      "\t    median distance2db: 1.811981201171875e-05\n",
      "computation DB time/batch: 56.1463\n",
      "batch: 746/1000 \t    computation time/batch: 56.1638sec\t    number of points: 876\n",
      "\t    median distance2db: 1.3947486877441406e-05\n",
      "computation DB time/batch: 55.9097\n",
      "batch: 747/1000 \t    computation time/batch: 55.9272sec\t    number of points: 871\n",
      "\t    median distance2db: 1.3709068298339844e-05\n",
      "computation DB time/batch: 56.0569\n",
      "batch: 748/1000 \t    computation time/batch: 56.0741sec\t    number of points: 873\n",
      "\t    median distance2db: 2.0503997802734375e-05\n",
      "computation DB time/batch: 55.8886\n",
      "batch: 749/1000 \t    computation time/batch: 55.9063sec\t    number of points: 919\n",
      "\t    median distance2db: 1.609325408935547e-05\n",
      "computation DB time/batch: 55.9278\n",
      "batch: 750/1000 \t    computation time/batch: 55.9446sec\t    number of points: 861\n",
      "\t    median distance2db: 1.0371208190917969e-05\n",
      "computation DB time/batch: 56.0091\n",
      "batch: 751/1000 \t    computation time/batch: 56.0264sec\t    number of points: 857\n",
      "\t    median distance2db: 1.990795135498047e-05\n",
      "computation DB time/batch: 56.0971\n",
      "batch: 752/1000 \t    computation time/batch: 56.1145sec\t    number of points: 904\n",
      "\t    median distance2db: 1.5139579772949219e-05\n",
      "computation DB time/batch: 55.8608\n",
      "batch: 753/1000 \t    computation time/batch: 55.8782sec\t    number of points: 867\n",
      "\t    median distance2db: 1.2516975402832031e-05\n",
      "computation DB time/batch: 55.8113\n",
      "batch: 754/1000 \t    computation time/batch: 55.8280sec\t    number of points: 848\n",
      "\t    median distance2db: 1.8358230590820312e-05\n"
     ]
    },
    {
     "name": "stdout",
     "output_type": "stream",
     "text": [
      "computation DB time/batch: 56.0018\n",
      "batch: 755/1000 \t    computation time/batch: 56.0189sec\t    number of points: 884\n",
      "\t    median distance2db: 1.3470649719238281e-05\n",
      "computation DB time/batch: 56.0969\n",
      "batch: 756/1000 \t    computation time/batch: 56.1145sec\t    number of points: 907\n",
      "\t    median distance2db: 1.1920928955078125e-05\n",
      "computation DB time/batch: 55.8541\n",
      "batch: 757/1000 \t    computation time/batch: 55.8709sec\t    number of points: 865\n",
      "\t    median distance2db: 1.2516975402832031e-05\n",
      "computation DB time/batch: 56.2006\n",
      "batch: 758/1000 \t    computation time/batch: 56.2170sec\t    number of points: 829\n",
      "\t    median distance2db: 9.298324584960938e-06\n",
      "computation DB time/batch: 55.9374\n",
      "batch: 759/1000 \t    computation time/batch: 55.9545sec\t    number of points: 882\n",
      "\t    median distance2db: 1.2159347534179688e-05\n",
      "computation DB time/batch: 56.0069\n",
      "batch: 760/1000 \t    computation time/batch: 56.0251sec\t    number of points: 929\n",
      "\t    median distance2db: 1.5020370483398438e-05\n",
      "computation DB time/batch: 55.9782\n",
      "batch: 761/1000 \t    computation time/batch: 55.9958sec\t    number of points: 919\n",
      "\t    median distance2db: 1.811981201171875e-05\n",
      "computation DB time/batch: 56.1461\n",
      "batch: 762/1000 \t    computation time/batch: 56.1642sec\t    number of points: 878\n",
      "\t    median distance2db: 1.2278556823730469e-05\n",
      "computation DB time/batch: 56.0229\n",
      "batch: 763/1000 \t    computation time/batch: 56.0398sec\t    number of points: 884\n",
      "\t    median distance2db: 1.4781951904296875e-05\n",
      "computation DB time/batch: 55.9219\n",
      "batch: 764/1000 \t    computation time/batch: 55.9392sec\t    number of points: 848\n",
      "\t    median distance2db: 1.2755393981933594e-05\n",
      "computation DB time/batch: 55.9678\n",
      "batch: 765/1000 \t    computation time/batch: 55.9856sec\t    number of points: 915\n",
      "\t    median distance2db: 7.152557373046875e-06\n",
      "computation DB time/batch: 56.0016\n",
      "batch: 766/1000 \t    computation time/batch: 56.0193sec\t    number of points: 872\n",
      "\t    median distance2db: 1.4424324035644531e-05\n",
      "computation DB time/batch: 56.1209\n",
      "batch: 767/1000 \t    computation time/batch: 56.1376sec\t    number of points: 843\n",
      "\t    median distance2db: 1.33514404296875e-05\n",
      "computation DB time/batch: 55.9356\n",
      "batch: 768/1000 \t    computation time/batch: 55.9528sec\t    number of points: 887\n",
      "\t    median distance2db: 1.9073486328125e-05\n",
      "computation DB time/batch: 55.9665\n",
      "batch: 769/1000 \t    computation time/batch: 55.9837sec\t    number of points: 897\n",
      "\t    median distance2db: 1.5735626220703125e-05\n",
      "computation DB time/batch: 55.8785\n",
      "batch: 770/1000 \t    computation time/batch: 55.8954sec\t    number of points: 881\n",
      "\t    median distance2db: 1.1444091796875e-05\n",
      "computation DB time/batch: 55.8297\n",
      "batch: 771/1000 \t    computation time/batch: 55.8462sec\t    number of points: 875\n",
      "\t    median distance2db: 1.621246337890625e-05\n",
      "computation DB time/batch: 55.8586\n",
      "batch: 772/1000 \t    computation time/batch: 55.8760sec\t    number of points: 888\n",
      "\t    median distance2db: 2.6464462280273438e-05\n",
      "computation DB time/batch: 55.8031\n",
      "batch: 773/1000 \t    computation time/batch: 55.8196sec\t    number of points: 860\n",
      "\t    median distance2db: 7.033348083496094e-06\n",
      "computation DB time/batch: 55.8906\n",
      "batch: 774/1000 \t    computation time/batch: 55.9077sec\t    number of points: 860\n",
      "\t    median distance2db: 1.4781951904296875e-05\n",
      "computation DB time/batch: 56.0638\n",
      "batch: 775/1000 \t    computation time/batch: 56.0821sec\t    number of points: 896\n",
      "\t    median distance2db: 1.5616416931152344e-05\n",
      "computation DB time/batch: 55.9700\n",
      "batch: 776/1000 \t    computation time/batch: 55.9877sec\t    number of points: 918\n",
      "\t    median distance2db: 1.52587890625e-05\n",
      "computation DB time/batch: 56.1109\n",
      "batch: 777/1000 \t    computation time/batch: 56.1289sec\t    number of points: 887\n",
      "\t    median distance2db: 1.1920928955078125e-05\n",
      "computation DB time/batch: 56.0172\n",
      "batch: 778/1000 \t    computation time/batch: 56.0348sec\t    number of points: 878\n",
      "\t    median distance2db: 1.0251998901367188e-05\n",
      "computation DB time/batch: 55.9640\n",
      "batch: 779/1000 \t    computation time/batch: 55.9820sec\t    number of points: 926\n",
      "\t    median distance2db: 1.1086463928222656e-05\n",
      "computation DB time/batch: 56.1156\n",
      "batch: 780/1000 \t    computation time/batch: 56.1331sec\t    number of points: 895\n",
      "\t    median distance2db: 9.417533874511719e-06\n",
      "computation DB time/batch: 56.0860\n",
      "batch: 781/1000 \t    computation time/batch: 56.1032sec\t    number of points: 833\n",
      "\t    median distance2db: 1.9550323486328125e-05\n",
      "computation DB time/batch: 55.9181\n",
      "batch: 782/1000 \t    computation time/batch: 55.9352sec\t    number of points: 895\n",
      "\t    median distance2db: 1.537799835205078e-05\n",
      "computation DB time/batch: 56.1000\n",
      "batch: 783/1000 \t    computation time/batch: 56.1173sec\t    number of points: 896\n",
      "\t    median distance2db: 1.239776611328125e-05\n",
      "computation DB time/batch: 56.1280\n",
      "batch: 784/1000 \t    computation time/batch: 56.1457sec\t    number of points: 934\n",
      "\t    median distance2db: 1.0251998901367188e-05\n",
      "computation DB time/batch: 56.1575\n",
      "batch: 785/1000 \t    computation time/batch: 56.1757sec\t    number of points: 911\n",
      "\t    median distance2db: 1.5497207641601562e-05\n",
      "computation DB time/batch: 56.1724\n",
      "batch: 786/1000 \t    computation time/batch: 56.1901sec\t    number of points: 914\n",
      "\t    median distance2db: 1.8715858459472656e-05\n",
      "computation DB time/batch: 55.9363\n",
      "batch: 787/1000 \t    computation time/batch: 55.9538sec\t    number of points: 923\n",
      "\t    median distance2db: 1.1563301086425781e-05\n",
      "computation DB time/batch: 55.8716\n",
      "batch: 788/1000 \t    computation time/batch: 55.8885sec\t    number of points: 836\n",
      "\t    median distance2db: 1.1682510375976562e-05\n",
      "computation DB time/batch: 55.8342\n",
      "batch: 789/1000 \t    computation time/batch: 55.8518sec\t    number of points: 906\n",
      "\t    median distance2db: 1.2040138244628906e-05\n",
      "computation DB time/batch: 55.8532\n",
      "batch: 790/1000 \t    computation time/batch: 55.8715sec\t    number of points: 931\n",
      "\t    median distance2db: 1.33514404296875e-05\n",
      "computation DB time/batch: 55.9919\n",
      "batch: 791/1000 \t    computation time/batch: 56.0085sec\t    number of points: 862\n",
      "\t    median distance2db: 1.2636184692382812e-05\n",
      "computation DB time/batch: 55.9607\n",
      "batch: 792/1000 \t    computation time/batch: 55.9786sec\t    number of points: 868\n",
      "\t    median distance2db: 9.5367431640625e-06\n",
      "computation DB time/batch: 55.9765\n",
      "batch: 793/1000 \t    computation time/batch: 55.9937sec\t    number of points: 864\n",
      "\t    median distance2db: 1.6927719116210938e-05\n",
      "computation DB time/batch: 55.8555\n",
      "batch: 794/1000 \t    computation time/batch: 55.8732sec\t    number of points: 893\n",
      "\t    median distance2db: 7.748603820800781e-06\n",
      "computation DB time/batch: 55.8895\n",
      "batch: 795/1000 \t    computation time/batch: 55.9067sec\t    number of points: 904\n",
      "\t    median distance2db: 1.1444091796875e-05\n",
      "computation DB time/batch: 55.8169\n",
      "batch: 796/1000 \t    computation time/batch: 55.8340sec\t    number of points: 866\n",
      "\t    median distance2db: 1.6808509826660156e-05\n",
      "computation DB time/batch: 56.0303\n",
      "batch: 797/1000 \t    computation time/batch: 56.0479sec\t    number of points: 901\n",
      "\t    median distance2db: 1.5139579772949219e-05\n",
      "computation DB time/batch: 55.9105\n",
      "batch: 798/1000 \t    computation time/batch: 55.9278sec\t    number of points: 845\n",
      "\t    median distance2db: 1.5974044799804688e-05\n",
      "computation DB time/batch: 55.9706\n",
      "batch: 799/1000 \t    computation time/batch: 55.9886sec\t    number of points: 942\n",
      "\t    median distance2db: 1.1444091796875e-05\n",
      "computation DB time/batch: 55.9113\n",
      "batch: 800/1000 \t    computation time/batch: 55.9293sec\t    number of points: 931\n",
      "\t    median distance2db: 2.1457672119140625e-05\n",
      "computation DB time/batch: 55.8952\n",
      "batch: 801/1000 \t    computation time/batch: 55.9131sec\t    number of points: 906\n",
      "\t    median distance2db: 1.4543533325195312e-05\n",
      "computation DB time/batch: 56.1073\n",
      "batch: 802/1000 \t    computation time/batch: 56.1245sec\t    number of points: 880\n",
      "\t    median distance2db: 1.52587890625e-05\n",
      "computation DB time/batch: 55.8889\n",
      "batch: 803/1000 \t    computation time/batch: 55.9062sec\t    number of points: 887\n",
      "\t    median distance2db: 1.7762184143066406e-05\n",
      "computation DB time/batch: 55.7409\n",
      "batch: 804/1000 \t    computation time/batch: 55.7579sec\t    number of points: 868\n",
      "\t    median distance2db: 1.1444091796875e-05\n"
     ]
    },
    {
     "name": "stdout",
     "output_type": "stream",
     "text": [
      "computation DB time/batch: 55.8779\n",
      "batch: 805/1000 \t    computation time/batch: 55.8960sec\t    number of points: 918\n",
      "\t    median distance2db: 1.2159347534179688e-05\n",
      "computation DB time/batch: 56.0990\n",
      "batch: 806/1000 \t    computation time/batch: 56.1165sec\t    number of points: 897\n",
      "\t    median distance2db: 1.3113021850585938e-05\n",
      "computation DB time/batch: 55.8279\n",
      "batch: 807/1000 \t    computation time/batch: 55.8452sec\t    number of points: 849\n",
      "\t    median distance2db: 2.1696090698242188e-05\n",
      "computation DB time/batch: 55.8329\n",
      "batch: 808/1000 \t    computation time/batch: 55.8505sec\t    number of points: 909\n",
      "\t    median distance2db: 1.9550323486328125e-05\n",
      "computation DB time/batch: 55.9285\n",
      "batch: 809/1000 \t    computation time/batch: 55.9459sec\t    number of points: 868\n",
      "\t    median distance2db: 1.4662742614746094e-05\n",
      "computation DB time/batch: 55.8860\n",
      "batch: 810/1000 \t    computation time/batch: 55.9024sec\t    number of points: 839\n",
      "\t    median distance2db: 1.3828277587890625e-05\n",
      "computation DB time/batch: 56.0373\n",
      "batch: 811/1000 \t    computation time/batch: 56.0550sec\t    number of points: 870\n",
      "\t    median distance2db: 2.8848648071289062e-05\n",
      "computation DB time/batch: 56.0410\n",
      "batch: 812/1000 \t    computation time/batch: 56.0589sec\t    number of points: 923\n",
      "\t    median distance2db: 1.6927719116210938e-05\n",
      "computation DB time/batch: 56.1188\n",
      "batch: 813/1000 \t    computation time/batch: 56.1363sec\t    number of points: 898\n",
      "\t    median distance2db: 1.2874603271484375e-05\n",
      "computation DB time/batch: 55.7756\n",
      "batch: 814/1000 \t    computation time/batch: 55.7933sec\t    number of points: 910\n",
      "\t    median distance2db: 1.239776611328125e-05\n",
      "computation DB time/batch: 55.8827\n",
      "batch: 815/1000 \t    computation time/batch: 55.8996sec\t    number of points: 854\n",
      "\t    median distance2db: 1.4781951904296875e-05\n",
      "computation DB time/batch: 55.9625\n",
      "batch: 816/1000 \t    computation time/batch: 55.9805sec\t    number of points: 921\n",
      "\t    median distance2db: 2.0503997802734375e-05\n",
      "computation DB time/batch: 55.8834\n",
      "batch: 817/1000 \t    computation time/batch: 55.9014sec\t    number of points: 918\n",
      "\t    median distance2db: 1.609325408935547e-05\n",
      "computation DB time/batch: 55.9502\n",
      "batch: 818/1000 \t    computation time/batch: 55.9672sec\t    number of points: 873\n",
      "\t    median distance2db: 1.33514404296875e-05\n",
      "computation DB time/batch: 55.9400\n",
      "batch: 819/1000 \t    computation time/batch: 55.9577sec\t    number of points: 917\n",
      "\t    median distance2db: 7.3909759521484375e-06\n",
      "computation DB time/batch: 56.0838\n",
      "batch: 820/1000 \t    computation time/batch: 56.1014sec\t    number of points: 881\n",
      "\t    median distance2db: 1.7404556274414062e-05\n",
      "computation DB time/batch: 55.8359\n",
      "batch: 821/1000 \t    computation time/batch: 55.8527sec\t    number of points: 843\n",
      "\t    median distance2db: 1.9550323486328125e-05\n",
      "computation DB time/batch: 55.9921\n",
      "batch: 822/1000 \t    computation time/batch: 56.0098sec\t    number of points: 882\n",
      "\t    median distance2db: 1.0371208190917969e-05\n",
      "computation DB time/batch: 56.0608\n",
      "batch: 823/1000 \t    computation time/batch: 56.0786sec\t    number of points: 904\n",
      "\t    median distance2db: 1.430511474609375e-05\n",
      "computation DB time/batch: 55.9128\n",
      "batch: 824/1000 \t    computation time/batch: 55.9304sec\t    number of points: 867\n",
      "\t    median distance2db: 8.344650268554688e-06\n",
      "computation DB time/batch: 55.9897\n",
      "batch: 825/1000 \t    computation time/batch: 56.0065sec\t    number of points: 866\n",
      "\t    median distance2db: 1.239776611328125e-05\n",
      "computation DB time/batch: 56.0562\n",
      "batch: 826/1000 \t    computation time/batch: 56.0745sec\t    number of points: 887\n",
      "\t    median distance2db: 1.728534698486328e-05\n",
      "computation DB time/batch: 55.9721\n",
      "batch: 827/1000 \t    computation time/batch: 55.9895sec\t    number of points: 886\n",
      "\t    median distance2db: 1.3589859008789062e-05\n",
      "computation DB time/batch: 56.0606\n",
      "batch: 828/1000 \t    computation time/batch: 56.0784sec\t    number of points: 885\n",
      "\t    median distance2db: 1.8358230590820312e-05\n",
      "computation DB time/batch: 56.1438\n",
      "batch: 829/1000 \t    computation time/batch: 56.1625sec\t    number of points: 951\n",
      "\t    median distance2db: 1.1920928955078125e-05\n",
      "computation DB time/batch: 56.0486\n",
      "batch: 830/1000 \t    computation time/batch: 56.0668sec\t    number of points: 905\n",
      "\t    median distance2db: 2.5987625122070312e-05\n",
      "computation DB time/batch: 56.0205\n",
      "batch: 831/1000 \t    computation time/batch: 56.0378sec\t    number of points: 876\n",
      "\t    median distance2db: 1.9073486328125e-05\n",
      "computation DB time/batch: 56.0521\n",
      "batch: 832/1000 \t    computation time/batch: 56.0700sec\t    number of points: 890\n",
      "\t    median distance2db: 9.298324584960938e-06\n",
      "computation DB time/batch: 55.9054\n",
      "batch: 833/1000 \t    computation time/batch: 55.9232sec\t    number of points: 925\n",
      "\t    median distance2db: 1.5139579772949219e-05\n",
      "computation DB time/batch: 56.0474\n",
      "batch: 834/1000 \t    computation time/batch: 56.0651sec\t    number of points: 912\n",
      "\t    median distance2db: 1.1444091796875e-05\n",
      "computation DB time/batch: 55.9081\n",
      "batch: 835/1000 \t    computation time/batch: 55.9258sec\t    number of points: 902\n",
      "\t    median distance2db: 1.0371208190917969e-05\n",
      "computation DB time/batch: 55.9527\n",
      "batch: 836/1000 \t    computation time/batch: 55.9706sec\t    number of points: 885\n",
      "\t    median distance2db: 8.58306884765625e-06\n",
      "computation DB time/batch: 55.9285\n",
      "batch: 837/1000 \t    computation time/batch: 55.9455sec\t    number of points: 853\n",
      "\t    median distance2db: 1.3113021850585938e-05\n",
      "computation DB time/batch: 55.9061\n",
      "batch: 838/1000 \t    computation time/batch: 55.9231sec\t    number of points: 853\n",
      "\t    median distance2db: 1.2516975402832031e-05\n",
      "computation DB time/batch: 56.0449\n",
      "batch: 839/1000 \t    computation time/batch: 56.0634sec\t    number of points: 926\n",
      "\t    median distance2db: 1.0013580322265625e-05\n",
      "computation DB time/batch: 56.1611\n",
      "batch: 840/1000 \t    computation time/batch: 56.1791sec\t    number of points: 915\n",
      "\t    median distance2db: 1.239776611328125e-05\n",
      "computation DB time/batch: 56.1340\n",
      "batch: 841/1000 \t    computation time/batch: 56.1510sec\t    number of points: 833\n",
      "\t    median distance2db: 1.239776611328125e-05\n",
      "computation DB time/batch: 56.0269\n",
      "batch: 842/1000 \t    computation time/batch: 56.0441sec\t    number of points: 865\n",
      "\t    median distance2db: 8.58306884765625e-06\n",
      "computation DB time/batch: 56.0095\n",
      "batch: 843/1000 \t    computation time/batch: 56.0272sec\t    number of points: 866\n",
      "\t    median distance2db: 1.4066696166992188e-05\n",
      "computation DB time/batch: 55.9124\n",
      "batch: 844/1000 \t    computation time/batch: 55.9297sec\t    number of points: 895\n",
      "\t    median distance2db: 1.4424324035644531e-05\n",
      "computation DB time/batch: 55.9055\n",
      "batch: 845/1000 \t    computation time/batch: 55.9235sec\t    number of points: 898\n",
      "\t    median distance2db: 1.430511474609375e-05\n",
      "computation DB time/batch: 55.8969\n",
      "batch: 846/1000 \t    computation time/batch: 55.9139sec\t    number of points: 867\n",
      "\t    median distance2db: 1.5974044799804688e-05\n",
      "computation DB time/batch: 55.9576\n",
      "batch: 847/1000 \t    computation time/batch: 55.9748sec\t    number of points: 860\n",
      "\t    median distance2db: 1.430511474609375e-05\n",
      "computation DB time/batch: 56.0594\n",
      "batch: 848/1000 \t    computation time/batch: 56.0762sec\t    number of points: 837\n",
      "\t    median distance2db: 1.3828277587890625e-05\n",
      "computation DB time/batch: 56.0510\n",
      "batch: 849/1000 \t    computation time/batch: 56.0681sec\t    number of points: 845\n",
      "\t    median distance2db: 9.059906005859375e-06\n",
      "computation DB time/batch: 56.1692\n",
      "batch: 850/1000 \t    computation time/batch: 56.1859sec\t    number of points: 860\n",
      "\t    median distance2db: 1.1682510375976562e-05\n",
      "computation DB time/batch: 55.8793\n",
      "batch: 851/1000 \t    computation time/batch: 55.8963sec\t    number of points: 866\n",
      "\t    median distance2db: 1.2516975402832031e-05\n",
      "computation DB time/batch: 56.1470\n",
      "batch: 852/1000 \t    computation time/batch: 56.1655sec\t    number of points: 933\n",
      "\t    median distance2db: 1.049041748046875e-05\n",
      "computation DB time/batch: 55.8636\n",
      "batch: 853/1000 \t    computation time/batch: 55.8815sec\t    number of points: 896\n",
      "\t    median distance2db: 1.5735626220703125e-05\n",
      "computation DB time/batch: 56.1082\n",
      "batch: 854/1000 \t    computation time/batch: 56.1259sec\t    number of points: 904\n",
      "\t    median distance2db: 2.3126602172851562e-05\n"
     ]
    },
    {
     "name": "stdout",
     "output_type": "stream",
     "text": [
      "computation DB time/batch: 55.8569\n",
      "batch: 855/1000 \t    computation time/batch: 55.8750sec\t    number of points: 915\n",
      "\t    median distance2db: 1.621246337890625e-05\n",
      "computation DB time/batch: 56.1055\n",
      "batch: 856/1000 \t    computation time/batch: 56.1241sec\t    number of points: 913\n",
      "\t    median distance2db: 1.919269561767578e-05\n",
      "computation DB time/batch: 55.9532\n",
      "batch: 857/1000 \t    computation time/batch: 55.9707sec\t    number of points: 879\n",
      "\t    median distance2db: 1.7523765563964844e-05\n",
      "computation DB time/batch: 56.2574\n",
      "batch: 858/1000 \t    computation time/batch: 56.2757sec\t    number of points: 916\n",
      "\t    median distance2db: 1.9073486328125e-05\n",
      "computation DB time/batch: 55.8743\n",
      "batch: 859/1000 \t    computation time/batch: 55.8917sec\t    number of points: 900\n",
      "\t    median distance2db: 1.0728836059570312e-05\n",
      "computation DB time/batch: 55.7728\n",
      "batch: 860/1000 \t    computation time/batch: 55.7902sec\t    number of points: 874\n",
      "\t    median distance2db: 7.62939453125e-06\n",
      "computation DB time/batch: 55.8512\n",
      "batch: 861/1000 \t    computation time/batch: 55.8684sec\t    number of points: 877\n",
      "\t    median distance2db: 8.106231689453125e-06\n",
      "computation DB time/batch: 56.1153\n",
      "batch: 862/1000 \t    computation time/batch: 56.1332sec\t    number of points: 900\n",
      "\t    median distance2db: 1.5735626220703125e-05\n",
      "computation DB time/batch: 56.0733\n",
      "batch: 863/1000 \t    computation time/batch: 56.0910sec\t    number of points: 908\n",
      "\t    median distance2db: 9.655952453613281e-06\n",
      "computation DB time/batch: 55.8566\n",
      "batch: 864/1000 \t    computation time/batch: 55.8736sec\t    number of points: 844\n",
      "\t    median distance2db: 1.1324882507324219e-05\n",
      "computation DB time/batch: 55.9889\n",
      "batch: 865/1000 \t    computation time/batch: 56.0071sec\t    number of points: 935\n",
      "\t    median distance2db: 1.0013580322265625e-05\n",
      "computation DB time/batch: 55.9658\n",
      "batch: 866/1000 \t    computation time/batch: 55.9834sec\t    number of points: 899\n",
      "\t    median distance2db: 1.2636184692382812e-05\n",
      "computation DB time/batch: 56.1328\n",
      "batch: 867/1000 \t    computation time/batch: 56.1512sec\t    number of points: 932\n",
      "\t    median distance2db: 1.0967254638671875e-05\n",
      "computation DB time/batch: 56.0711\n",
      "batch: 868/1000 \t    computation time/batch: 56.0881sec\t    number of points: 877\n",
      "\t    median distance2db: 1.3947486877441406e-05\n",
      "computation DB time/batch: 56.0070\n",
      "batch: 869/1000 \t    computation time/batch: 56.0249sec\t    number of points: 921\n",
      "\t    median distance2db: 1.704692840576172e-05\n",
      "computation DB time/batch: 55.9769\n",
      "batch: 870/1000 \t    computation time/batch: 55.9946sec\t    number of points: 867\n",
      "\t    median distance2db: 1.0848045349121094e-05\n",
      "computation DB time/batch: 56.0222\n",
      "batch: 871/1000 \t    computation time/batch: 56.0402sec\t    number of points: 908\n",
      "\t    median distance2db: 1.2516975402832031e-05\n",
      "computation DB time/batch: 56.1461\n",
      "batch: 872/1000 \t    computation time/batch: 56.1632sec\t    number of points: 882\n",
      "\t    median distance2db: 1.049041748046875e-05\n",
      "computation DB time/batch: 55.9915\n",
      "batch: 873/1000 \t    computation time/batch: 56.0087sec\t    number of points: 877\n",
      "\t    median distance2db: 1.0728836059570312e-05\n",
      "computation DB time/batch: 55.8257\n",
      "batch: 874/1000 \t    computation time/batch: 55.8433sec\t    number of points: 883\n",
      "\t    median distance2db: 1.0728836059570312e-05\n",
      "computation DB time/batch: 55.9341\n",
      "batch: 875/1000 \t    computation time/batch: 55.9513sec\t    number of points: 845\n",
      "\t    median distance2db: 1.430511474609375e-05\n",
      "computation DB time/batch: 55.9825\n",
      "batch: 876/1000 \t    computation time/batch: 56.0004sec\t    number of points: 912\n",
      "\t    median distance2db: 1.3113021850585938e-05\n",
      "computation DB time/batch: 55.8233\n",
      "batch: 877/1000 \t    computation time/batch: 55.8411sec\t    number of points: 879\n",
      "\t    median distance2db: 2.6702880859375e-05\n",
      "computation DB time/batch: 56.1184\n",
      "batch: 878/1000 \t    computation time/batch: 56.1365sec\t    number of points: 938\n",
      "\t    median distance2db: 1.8596649169921875e-05\n",
      "computation DB time/batch: 55.9906\n",
      "batch: 879/1000 \t    computation time/batch: 56.0087sec\t    number of points: 884\n",
      "\t    median distance2db: 1.8596649169921875e-05\n",
      "computation DB time/batch: 55.7247\n",
      "batch: 880/1000 \t    computation time/batch: 55.7426sec\t    number of points: 868\n",
      "\t    median distance2db: 1.2636184692382812e-05\n",
      "computation DB time/batch: 56.0034\n",
      "batch: 881/1000 \t    computation time/batch: 56.0203sec\t    number of points: 882\n",
      "\t    median distance2db: 1.4781951904296875e-05\n",
      "computation DB time/batch: 55.9082\n",
      "batch: 882/1000 \t    computation time/batch: 55.9267sec\t    number of points: 934\n",
      "\t    median distance2db: 1.4781951904296875e-05\n",
      "computation DB time/batch: 56.0276\n",
      "batch: 883/1000 \t    computation time/batch: 56.0449sec\t    number of points: 897\n",
      "\t    median distance2db: 1.5497207641601562e-05\n",
      "computation DB time/batch: 55.7426\n",
      "batch: 884/1000 \t    computation time/batch: 55.7610sec\t    number of points: 932\n",
      "\t    median distance2db: 1.1920928955078125e-05\n",
      "computation DB time/batch: 56.0226\n",
      "batch: 885/1000 \t    computation time/batch: 56.0397sec\t    number of points: 897\n",
      "\t    median distance2db: 1.7642974853515625e-05\n",
      "computation DB time/batch: 56.0364\n",
      "batch: 886/1000 \t    computation time/batch: 56.0540sec\t    number of points: 864\n",
      "\t    median distance2db: 1.0609626770019531e-05\n",
      "computation DB time/batch: 56.0204\n",
      "batch: 887/1000 \t    computation time/batch: 56.0383sec\t    number of points: 911\n",
      "\t    median distance2db: 1.5735626220703125e-05\n",
      "computation DB time/batch: 55.9478\n",
      "batch: 888/1000 \t    computation time/batch: 55.9653sec\t    number of points: 869\n",
      "\t    median distance2db: 1.71661376953125e-05\n",
      "computation DB time/batch: 56.0875\n",
      "batch: 889/1000 \t    computation time/batch: 56.1052sec\t    number of points: 884\n",
      "\t    median distance2db: 1.8835067749023438e-05\n",
      "computation DB time/batch: 56.1764\n",
      "batch: 890/1000 \t    computation time/batch: 56.1946sec\t    number of points: 873\n",
      "\t    median distance2db: 1.1682510375976562e-05\n",
      "computation DB time/batch: 55.9007\n",
      "batch: 891/1000 \t    computation time/batch: 55.9182sec\t    number of points: 870\n",
      "\t    median distance2db: 1.0967254638671875e-05\n",
      "computation DB time/batch: 56.0143\n",
      "batch: 892/1000 \t    computation time/batch: 56.0331sec\t    number of points: 930\n",
      "\t    median distance2db: 7.748603820800781e-06\n",
      "computation DB time/batch: 56.0030\n",
      "batch: 893/1000 \t    computation time/batch: 56.0206sec\t    number of points: 889\n",
      "\t    median distance2db: 1.3828277587890625e-05\n",
      "computation DB time/batch: 55.9771\n",
      "batch: 894/1000 \t    computation time/batch: 55.9951sec\t    number of points: 914\n",
      "\t    median distance2db: 1.2159347534179688e-05\n",
      "computation DB time/batch: 56.0285\n",
      "batch: 895/1000 \t    computation time/batch: 56.0462sec\t    number of points: 895\n",
      "\t    median distance2db: 1.049041748046875e-05\n",
      "computation DB time/batch: 55.7526\n",
      "batch: 896/1000 \t    computation time/batch: 55.7698sec\t    number of points: 868\n",
      "\t    median distance2db: 1.2874603271484375e-05\n",
      "computation DB time/batch: 56.1506\n",
      "batch: 897/1000 \t    computation time/batch: 56.1687sec\t    number of points: 935\n",
      "\t    median distance2db: 1.2874603271484375e-05\n",
      "computation DB time/batch: 55.7944\n",
      "batch: 898/1000 \t    computation time/batch: 55.8120sec\t    number of points: 899\n",
      "\t    median distance2db: 1.0848045349121094e-05\n",
      "computation DB time/batch: 56.1417\n",
      "batch: 899/1000 \t    computation time/batch: 56.1590sec\t    number of points: 854\n",
      "\t    median distance2db: 1.0967254638671875e-05\n",
      "computation DB time/batch: 56.0558\n",
      "batch: 900/1000 \t    computation time/batch: 56.0738sec\t    number of points: 912\n",
      "\t    median distance2db: 1.0013580322265625e-05\n",
      "computation DB time/batch: 56.0006\n",
      "batch: 901/1000 \t    computation time/batch: 56.0191sec\t    number of points: 925\n",
      "\t    median distance2db: 9.298324584960938e-06\n",
      "computation DB time/batch: 56.0561\n",
      "batch: 902/1000 \t    computation time/batch: 56.0731sec\t    number of points: 895\n",
      "\t    median distance2db: 1.4781951904296875e-05\n",
      "computation DB time/batch: 56.1309\n",
      "batch: 903/1000 \t    computation time/batch: 56.1490sec\t    number of points: 908\n",
      "\t    median distance2db: 1.1086463928222656e-05\n",
      "computation DB time/batch: 55.8510\n",
      "batch: 904/1000 \t    computation time/batch: 55.8687sec\t    number of points: 909\n",
      "\t    median distance2db: 1.5974044799804688e-05\n"
     ]
    },
    {
     "name": "stdout",
     "output_type": "stream",
     "text": [
      "computation DB time/batch: 56.1209\n",
      "batch: 905/1000 \t    computation time/batch: 56.1389sec\t    number of points: 897\n",
      "\t    median distance2db: 8.821487426757812e-06\n",
      "computation DB time/batch: 56.2451\n",
      "batch: 906/1000 \t    computation time/batch: 56.2633sec\t    number of points: 868\n",
      "\t    median distance2db: 1.0371208190917969e-05\n",
      "computation DB time/batch: 55.8929\n",
      "batch: 907/1000 \t    computation time/batch: 55.9107sec\t    number of points: 895\n",
      "\t    median distance2db: 1.8358230590820312e-05\n",
      "computation DB time/batch: 56.0491\n",
      "batch: 908/1000 \t    computation time/batch: 56.0669sec\t    number of points: 928\n",
      "\t    median distance2db: 1.049041748046875e-05\n",
      "computation DB time/batch: 56.0642\n",
      "batch: 909/1000 \t    computation time/batch: 56.0819sec\t    number of points: 891\n",
      "\t    median distance2db: 1.430511474609375e-05\n",
      "computation DB time/batch: 56.1700\n",
      "batch: 910/1000 \t    computation time/batch: 56.1869sec\t    number of points: 858\n",
      "\t    median distance2db: 1.2636184692382812e-05\n",
      "computation DB time/batch: 56.0792\n",
      "batch: 911/1000 \t    computation time/batch: 56.0973sec\t    number of points: 912\n",
      "\t    median distance2db: 1.1682510375976562e-05\n",
      "computation DB time/batch: 55.7766\n",
      "batch: 912/1000 \t    computation time/batch: 55.7938sec\t    number of points: 873\n",
      "\t    median distance2db: 1.6450881958007812e-05\n",
      "computation DB time/batch: 56.0914\n",
      "batch: 913/1000 \t    computation time/batch: 56.1089sec\t    number of points: 904\n",
      "\t    median distance2db: 1.811981201171875e-05\n",
      "computation DB time/batch: 56.1136\n",
      "batch: 914/1000 \t    computation time/batch: 56.1311sec\t    number of points: 885\n",
      "\t    median distance2db: 1.1205673217773438e-05\n",
      "computation DB time/batch: 55.7592\n",
      "batch: 915/1000 \t    computation time/batch: 55.7760sec\t    number of points: 856\n",
      "\t    median distance2db: 1.1920928955078125e-05\n",
      "computation DB time/batch: 56.0973\n",
      "batch: 916/1000 \t    computation time/batch: 56.1146sec\t    number of points: 849\n",
      "\t    median distance2db: 9.059906005859375e-06\n",
      "computation DB time/batch: 55.9226\n",
      "batch: 917/1000 \t    computation time/batch: 55.9397sec\t    number of points: 827\n",
      "\t    median distance2db: 1.0967254638671875e-05\n",
      "computation DB time/batch: 55.8905\n",
      "batch: 918/1000 \t    computation time/batch: 55.9091sec\t    number of points: 906\n",
      "\t    median distance2db: 1.1205673217773438e-05\n",
      "computation DB time/batch: 56.1859\n",
      "batch: 919/1000 \t    computation time/batch: 56.2031sec\t    number of points: 861\n",
      "\t    median distance2db: 1.430511474609375e-05\n",
      "computation DB time/batch: 55.9842\n",
      "batch: 920/1000 \t    computation time/batch: 56.0027sec\t    number of points: 888\n",
      "\t    median distance2db: 1.239776611328125e-05\n",
      "computation DB time/batch: 55.9695\n",
      "batch: 921/1000 \t    computation time/batch: 55.9866sec\t    number of points: 882\n",
      "\t    median distance2db: 1.2993812561035156e-05\n",
      "computation DB time/batch: 56.0991\n",
      "batch: 922/1000 \t    computation time/batch: 56.1172sec\t    number of points: 865\n",
      "\t    median distance2db: 1.0609626770019531e-05\n",
      "computation DB time/batch: 56.2850\n",
      "batch: 923/1000 \t    computation time/batch: 56.3031sec\t    number of points: 904\n",
      "\t    median distance2db: 1.1920928955078125e-05\n",
      "computation DB time/batch: 55.9386\n",
      "batch: 924/1000 \t    computation time/batch: 55.9571sec\t    number of points: 901\n",
      "\t    median distance2db: 1.239776611328125e-05\n",
      "computation DB time/batch: 55.9765\n",
      "batch: 925/1000 \t    computation time/batch: 55.9934sec\t    number of points: 887\n",
      "\t    median distance2db: 7.152557373046875e-06\n",
      "computation DB time/batch: 55.8495\n",
      "batch: 926/1000 \t    computation time/batch: 55.8659sec\t    number of points: 829\n",
      "\t    median distance2db: 2.205371856689453e-05\n",
      "computation DB time/batch: 55.8277\n",
      "batch: 927/1000 \t    computation time/batch: 55.8452sec\t    number of points: 893\n",
      "\t    median distance2db: 1.33514404296875e-05\n",
      "computation DB time/batch: 55.8549\n",
      "batch: 928/1000 \t    computation time/batch: 55.8724sec\t    number of points: 885\n",
      "\t    median distance2db: 1.8477439880371094e-05\n",
      "computation DB time/batch: 56.0209\n",
      "batch: 929/1000 \t    computation time/batch: 56.0389sec\t    number of points: 907\n",
      "\t    median distance2db: 2.1457672119140625e-05\n",
      "computation DB time/batch: 55.9807\n",
      "batch: 930/1000 \t    computation time/batch: 55.9985sec\t    number of points: 881\n",
      "\t    median distance2db: 1.7642974853515625e-05\n",
      "computation DB time/batch: 56.1497\n",
      "batch: 931/1000 \t    computation time/batch: 56.1676sec\t    number of points: 876\n",
      "\t    median distance2db: 8.940696716308594e-06\n",
      "computation DB time/batch: 56.1050\n",
      "batch: 932/1000 \t    computation time/batch: 56.1222sec\t    number of points: 859\n",
      "\t    median distance2db: 1.4543533325195312e-05\n",
      "computation DB time/batch: 56.0597\n",
      "batch: 933/1000 \t    computation time/batch: 56.0782sec\t    number of points: 896\n",
      "\t    median distance2db: 1.4066696166992188e-05\n",
      "computation DB time/batch: 55.8620\n",
      "batch: 934/1000 \t    computation time/batch: 55.8798sec\t    number of points: 924\n",
      "\t    median distance2db: 1.71661376953125e-05\n",
      "computation DB time/batch: 55.8631\n",
      "batch: 935/1000 \t    computation time/batch: 55.8814sec\t    number of points: 921\n",
      "\t    median distance2db: 1.3113021850585938e-05\n",
      "computation DB time/batch: 55.7613\n",
      "batch: 936/1000 \t    computation time/batch: 55.7781sec\t    number of points: 866\n",
      "\t    median distance2db: 1.6450881958007812e-05\n",
      "computation DB time/batch: 55.9286\n",
      "batch: 937/1000 \t    computation time/batch: 55.9466sec\t    number of points: 885\n",
      "\t    median distance2db: 1.049041748046875e-05\n",
      "computation DB time/batch: 56.1454\n",
      "batch: 938/1000 \t    computation time/batch: 56.1634sec\t    number of points: 873\n",
      "\t    median distance2db: 9.059906005859375e-06\n",
      "computation DB time/batch: 56.2411\n",
      "batch: 939/1000 \t    computation time/batch: 56.2601sec\t    number of points: 919\n",
      "\t    median distance2db: 1.919269561767578e-05\n",
      "computation DB time/batch: 56.1949\n",
      "batch: 940/1000 \t    computation time/batch: 56.2127sec\t    number of points: 915\n",
      "\t    median distance2db: 1.1801719665527344e-05\n",
      "computation DB time/batch: 56.1157\n",
      "batch: 941/1000 \t    computation time/batch: 56.1337sec\t    number of points: 924\n",
      "\t    median distance2db: 1.0013580322265625e-05\n",
      "computation DB time/batch: 55.9033\n",
      "batch: 942/1000 \t    computation time/batch: 55.9205sec\t    number of points: 907\n",
      "\t    median distance2db: 7.62939453125e-06\n",
      "computation DB time/batch: 55.7896\n",
      "batch: 943/1000 \t    computation time/batch: 55.8071sec\t    number of points: 888\n",
      "\t    median distance2db: 1.0251998901367188e-05\n",
      "computation DB time/batch: 55.8045\n",
      "batch: 944/1000 \t    computation time/batch: 55.8224sec\t    number of points: 891\n",
      "\t    median distance2db: 2.9802322387695312e-05\n",
      "computation DB time/batch: 55.9309\n",
      "batch: 945/1000 \t    computation time/batch: 55.9491sec\t    number of points: 917\n",
      "\t    median distance2db: 1.1205673217773438e-05\n",
      "computation DB time/batch: 56.0467\n",
      "batch: 946/1000 \t    computation time/batch: 56.0640sec\t    number of points: 830\n",
      "\t    median distance2db: 1.5020370483398438e-05\n",
      "computation DB time/batch: 56.2286\n",
      "batch: 947/1000 \t    computation time/batch: 56.2461sec\t    number of points: 882\n",
      "\t    median distance2db: 1.621246337890625e-05\n",
      "computation DB time/batch: 56.0739\n",
      "batch: 948/1000 \t    computation time/batch: 56.0921sec\t    number of points: 916\n",
      "\t    median distance2db: 8.225440979003906e-06\n",
      "computation DB time/batch: 55.9388\n",
      "batch: 949/1000 \t    computation time/batch: 55.9560sec\t    number of points: 859\n",
      "\t    median distance2db: 1.3709068298339844e-05\n",
      "computation DB time/batch: 55.8838\n",
      "batch: 950/1000 \t    computation time/batch: 55.9020sec\t    number of points: 888\n",
      "\t    median distance2db: 1.430511474609375e-05\n",
      "computation DB time/batch: 55.8037\n",
      "batch: 951/1000 \t    computation time/batch: 55.8213sec\t    number of points: 897\n",
      "\t    median distance2db: 1.9311904907226562e-05\n",
      "computation DB time/batch: 56.1148\n",
      "batch: 952/1000 \t    computation time/batch: 56.1325sec\t    number of points: 898\n",
      "\t    median distance2db: 1.0371208190917969e-05\n",
      "computation DB time/batch: 55.9829\n",
      "batch: 953/1000 \t    computation time/batch: 56.0005sec\t    number of points: 894\n",
      "\t    median distance2db: 7.033348083496094e-06\n",
      "computation DB time/batch: 55.9159\n",
      "batch: 954/1000 \t    computation time/batch: 55.9344sec\t    number of points: 866\n",
      "\t    median distance2db: 1.7404556274414062e-05\n"
     ]
    },
    {
     "name": "stdout",
     "output_type": "stream",
     "text": [
      "computation DB time/batch: 55.8747\n",
      "batch: 955/1000 \t    computation time/batch: 55.8920sec\t    number of points: 857\n",
      "\t    median distance2db: 1.537799835205078e-05\n",
      "computation DB time/batch: 55.8933\n",
      "batch: 956/1000 \t    computation time/batch: 55.9113sec\t    number of points: 883\n",
      "\t    median distance2db: 2.014636993408203e-05\n",
      "computation DB time/batch: 55.8974\n",
      "batch: 957/1000 \t    computation time/batch: 55.9149sec\t    number of points: 840\n",
      "\t    median distance2db: 1.0848045349121094e-05\n",
      "computation DB time/batch: 55.8897\n",
      "batch: 958/1000 \t    computation time/batch: 55.9066sec\t    number of points: 833\n",
      "\t    median distance2db: 1.33514404296875e-05\n",
      "computation DB time/batch: 55.9461\n",
      "batch: 959/1000 \t    computation time/batch: 55.9634sec\t    number of points: 862\n",
      "\t    median distance2db: 9.298324584960938e-06\n",
      "computation DB time/batch: 55.9347\n",
      "batch: 960/1000 \t    computation time/batch: 55.9516sec\t    number of points: 840\n",
      "\t    median distance2db: 2.0503997802734375e-05\n",
      "computation DB time/batch: 55.9854\n",
      "batch: 961/1000 \t    computation time/batch: 56.0035sec\t    number of points: 900\n",
      "\t    median distance2db: 9.059906005859375e-06\n",
      "computation DB time/batch: 56.1864\n",
      "batch: 962/1000 \t    computation time/batch: 56.2042sec\t    number of points: 923\n",
      "\t    median distance2db: 1.621246337890625e-05\n",
      "computation DB time/batch: 55.9608\n",
      "batch: 963/1000 \t    computation time/batch: 55.9791sec\t    number of points: 926\n",
      "\t    median distance2db: 1.811981201171875e-05\n",
      "computation DB time/batch: 55.8371\n",
      "batch: 964/1000 \t    computation time/batch: 55.8553sec\t    number of points: 889\n",
      "\t    median distance2db: 1.5735626220703125e-05\n",
      "computation DB time/batch: 55.7821\n",
      "batch: 965/1000 \t    computation time/batch: 55.8003sec\t    number of points: 911\n",
      "\t    median distance2db: 1.2874603271484375e-05\n",
      "computation DB time/batch: 55.9645\n",
      "batch: 966/1000 \t    computation time/batch: 55.9827sec\t    number of points: 887\n",
      "\t    median distance2db: 1.0371208190917969e-05\n",
      "computation DB time/batch: 55.9764\n",
      "batch: 967/1000 \t    computation time/batch: 55.9941sec\t    number of points: 891\n",
      "\t    median distance2db: 1.811981201171875e-05\n",
      "computation DB time/batch: 55.9674\n",
      "batch: 968/1000 \t    computation time/batch: 55.9847sec\t    number of points: 842\n",
      "\t    median distance2db: 1.7642974853515625e-05\n",
      "computation DB time/batch: 55.9331\n",
      "batch: 969/1000 \t    computation time/batch: 55.9512sec\t    number of points: 889\n",
      "\t    median distance2db: 1.3828277587890625e-05\n",
      "computation DB time/batch: 55.9451\n",
      "batch: 970/1000 \t    computation time/batch: 55.9629sec\t    number of points: 874\n",
      "\t    median distance2db: 2.1576881408691406e-05\n",
      "computation DB time/batch: 55.8973\n",
      "batch: 971/1000 \t    computation time/batch: 55.9158sec\t    number of points: 885\n",
      "\t    median distance2db: 1.1920928955078125e-05\n",
      "computation DB time/batch: 55.9098\n",
      "batch: 972/1000 \t    computation time/batch: 55.9273sec\t    number of points: 871\n",
      "\t    median distance2db: 1.0609626770019531e-05\n",
      "computation DB time/batch: 55.9178\n",
      "batch: 973/1000 \t    computation time/batch: 55.9355sec\t    number of points: 891\n",
      "\t    median distance2db: 1.1563301086425781e-05\n",
      "computation DB time/batch: 55.9987\n",
      "batch: 974/1000 \t    computation time/batch: 56.0158sec\t    number of points: 838\n",
      "\t    median distance2db: 1.1801719665527344e-05\n",
      "computation DB time/batch: 56.0025\n",
      "batch: 975/1000 \t    computation time/batch: 56.0202sec\t    number of points: 885\n",
      "\t    median distance2db: 2.2172927856445312e-05\n",
      "computation DB time/batch: 56.0480\n",
      "batch: 976/1000 \t    computation time/batch: 56.0661sec\t    number of points: 897\n",
      "\t    median distance2db: 1.3828277587890625e-05\n",
      "computation DB time/batch: 56.0240\n",
      "batch: 977/1000 \t    computation time/batch: 56.0421sec\t    number of points: 928\n",
      "\t    median distance2db: 2.3126602172851562e-05\n",
      "computation DB time/batch: 56.3037\n",
      "batch: 978/1000 \t    computation time/batch: 56.3213sec\t    number of points: 852\n",
      "\t    median distance2db: 9.179115295410156e-06\n",
      "computation DB time/batch: 55.8378\n",
      "batch: 979/1000 \t    computation time/batch: 55.8559sec\t    number of points: 882\n",
      "\t    median distance2db: 1.895427703857422e-05\n",
      "computation DB time/batch: 56.1549\n",
      "batch: 980/1000 \t    computation time/batch: 56.1737sec\t    number of points: 908\n",
      "\t    median distance2db: 1.52587890625e-05\n",
      "computation DB time/batch: 55.7724\n",
      "batch: 981/1000 \t    computation time/batch: 55.7897sec\t    number of points: 848\n",
      "\t    median distance2db: 1.5616416931152344e-05\n",
      "computation DB time/batch: 55.8212\n",
      "batch: 982/1000 \t    computation time/batch: 55.8397sec\t    number of points: 896\n",
      "\t    median distance2db: 1.239776611328125e-05\n",
      "computation DB time/batch: 56.0570\n",
      "batch: 983/1000 \t    computation time/batch: 56.0746sec\t    number of points: 884\n",
      "\t    median distance2db: 1.1444091796875e-05\n",
      "computation DB time/batch: 55.7408\n",
      "batch: 984/1000 \t    computation time/batch: 55.7594sec\t    number of points: 924\n",
      "\t    median distance2db: 1.1682510375976562e-05\n",
      "computation DB time/batch: 55.2542\n",
      "batch: 985/1000 \t    computation time/batch: 55.2717sec\t    number of points: 858\n",
      "\t    median distance2db: 1.4781951904296875e-05\n",
      "computation DB time/batch: 55.2168\n",
      "batch: 986/1000 \t    computation time/batch: 55.2350sec\t    number of points: 865\n",
      "\t    median distance2db: 1.2636184692382812e-05\n",
      "computation DB time/batch: 55.2107\n",
      "batch: 987/1000 \t    computation time/batch: 55.2287sec\t    number of points: 912\n",
      "\t    median distance2db: 7.748603820800781e-06\n",
      "computation DB time/batch: 55.2127\n",
      "batch: 988/1000 \t    computation time/batch: 55.2307sec\t    number of points: 940\n",
      "\t    median distance2db: 1.430511474609375e-05\n",
      "computation DB time/batch: 55.1888\n",
      "batch: 989/1000 \t    computation time/batch: 55.2065sec\t    number of points: 886\n",
      "\t    median distance2db: 1.1324882507324219e-05\n",
      "computation DB time/batch: 55.2152\n",
      "batch: 990/1000 \t    computation time/batch: 55.2329sec\t    number of points: 918\n",
      "\t    median distance2db: 1.7523765563964844e-05\n",
      "computation DB time/batch: 55.1922\n",
      "batch: 991/1000 \t    computation time/batch: 55.2099sec\t    number of points: 893\n",
      "\t    median distance2db: 1.4424324035644531e-05\n",
      "computation DB time/batch: 55.2064\n",
      "batch: 992/1000 \t    computation time/batch: 55.2238sec\t    number of points: 885\n",
      "\t    median distance2db: 1.3828277587890625e-05\n",
      "computation DB time/batch: 55.1243\n",
      "batch: 993/1000 \t    computation time/batch: 55.1430sec\t    number of points: 919\n",
      "\t    median distance2db: 1.1444091796875e-05\n",
      "computation DB time/batch: 55.2212\n",
      "batch: 994/1000 \t    computation time/batch: 55.2381sec\t    number of points: 876\n",
      "\t    median distance2db: 1.5020370483398438e-05\n",
      "computation DB time/batch: 55.2372\n",
      "batch: 995/1000 \t    computation time/batch: 55.2554sec\t    number of points: 904\n",
      "\t    median distance2db: 1.5497207641601562e-05\n",
      "computation DB time/batch: 55.2231\n",
      "batch: 996/1000 \t    computation time/batch: 55.2403sec\t    number of points: 872\n",
      "\t    median distance2db: 9.417533874511719e-06\n",
      "computation DB time/batch: 55.2461\n",
      "batch: 997/1000 \t    computation time/batch: 55.2642sec\t    number of points: 880\n",
      "\t    median distance2db: 1.2516975402832031e-05\n",
      "computation DB time/batch: 55.1972\n",
      "batch: 998/1000 \t    computation time/batch: 55.2139sec\t    number of points: 841\n",
      "\t    median distance2db: 1.0132789611816406e-05\n",
      "computation DB time/batch: 55.2796\n",
      "batch: 999/1000 \t    computation time/batch: 55.2977sec\t    number of points: 873\n",
      "\t    median distance2db: 1.9550323486328125e-05\n",
      "computation DB time/batch: 55.2468\n",
      "batch: 1000/1000 \t    computation time/batch: 55.2638sec\t    number of points: 898\n",
      "\t    median distance2db: 1.8596649169921875e-05\n"
     ]
    }
   ],
   "source": [
    "n_steps = 100\n",
    "precision = 0.01\n",
    "range_db = 70.\n",
    "\n",
    "n_batches = 1000\n",
    "batch_size = 3000#4000\n",
    "\n",
    "# Initialize DataFrame\n",
    "db_sample_df = pd.DataFrame(columns = [\"x\"+str(i) for i in range(3)])\n",
    "\n",
    "for b in range(n_batches):\n",
    "    tic = time.perf_counter()\n",
    "    # Sample points on decision boundary\n",
    "    initial_points_batch = range_db * torch.rand((batch_size, 3)) - range_db/2.\n",
    "    initial_points_batch = initial_points_batch.to(dev, non_blocking=True)\n",
    "    \n",
    "    initial_points_batch.requires_grad = False\n",
    "    delta = torch.zeros_like(initial_points_batch, requires_grad=True).to(dev)\n",
    "    loss = embedding_model(initial_points_batch + delta).sum()\n",
    "    loss.backward()\n",
    "    initial_vectors = delta.grad.detach()\n",
    "    \n",
    "    \n",
    "    g = QuasihyperbolicDecisionBoundaryCalculator(\n",
    "                model=embedding_model,\n",
    "                initial_points=initial_points_batch,\n",
    "                initial_vectors=initial_vectors,\n",
    "                integrator=None\n",
    "    )\n",
    "    g.step(n_steps)\n",
    "    \n",
    "    # Save computed points to DataFrame\n",
    "    db_sample_tensor = g.get_filtered_decision_boundary(precision)\n",
    "    toc = time.perf_counter()\n",
    "    print(f'computation DB time/batch: {toc - tic:0.4f}')\n",
    "    \n",
    "    median = torch.median(embedding_model(db_sample_tensor) - 0.5).cpu().detach().numpy()\n",
    "    db_sample = db_sample_tensor.to(device='cpu').detach().numpy()\n",
    "    db_sample_df_batch = pd.DataFrame(db_sample, columns = [\"x\"+str(i) for i in range(3)])\n",
    "    \n",
    "    db_sample_df = db_sample_df.append(db_sample_df_batch, ignore_index=True)\n",
    "    \n",
    "    # Delete tensors on cuda\n",
    "    del db_sample_tensor\n",
    "    del initial_points_batch\n",
    "    del db_sample\n",
    "    toc = time.perf_counter()\n",
    "    print(f'batch: {b+1}/{n_batches} \\t\\\n",
    "    computation time/batch: {toc - tic:0.4f}sec\\t\\\n",
    "    number of points: {db_sample_df_batch.shape[0]}\\n\\t\\\n",
    "    median distance2db: {median}')\n",
    "    del db_sample_df_batch\n",
    "    del initial_vectors\n",
    "    del g\n",
    "    del delta\n",
    "    torch.cuda.empty_cache()\n",
    "    gc.collect()\n",
    "    if b%50 == 0:\n",
    "        db_sample_df.to_csv(f'computed_points_1M_{b:04d}.csv')"
   ]
  },
  {
   "cell_type": "code",
   "execution_count": 16,
   "metadata": {},
   "outputs": [],
   "source": [
    "db_sample_df.to_csv('computed_points_1M.csv')"
   ]
  },
  {
   "cell_type": "code",
   "execution_count": 14,
   "metadata": {},
   "outputs": [
    {
     "name": "stdout",
     "output_type": "stream",
     "text": [
      "computed_points_1M_0010.csv\n"
     ]
    }
   ],
   "source": [
    "print(f'computed_points_1M_{10:04d}.csv')"
   ]
  },
  {
   "cell_type": "code",
   "execution_count": 49,
   "metadata": {},
   "outputs": [
    {
     "name": "stdout",
     "output_type": "stream",
     "text": [
      "Number of points: (52, 3)\n"
     ]
    },
    {
     "data": {
      "application/vnd.plotly.v1+json": {
       "config": {
        "plotlyServerURL": "https://plot.ly"
       },
       "data": [
        {
         "hovertemplate": "x0=%{x}<br>x1=%{y}<br>x2=%{z}<extra></extra>",
         "legendgroup": "",
         "marker": {
          "color": "#636efa",
          "symbol": "circle"
         },
         "mode": "markers",
         "name": "",
         "scene": "scene",
         "showlegend": false,
         "type": "scatter3d",
         "x": [
          -10.282544136047363,
          -27.28460693359375,
          -33.811737060546875,
          28.305986404418945,
          1.216386318206787,
          7.800750732421875,
          4.047580242156982,
          -22.340282440185547,
          -13.72254753112793,
          0.9143197536468506,
          11.377936363220215,
          -6.049320220947266,
          -18.472137451171875,
          5.23144006729126,
          -14.58596420288086,
          -25.18048095703125,
          -21.33672523498535,
          -27.3912353515625,
          10.72272777557373,
          -32.112571716308594,
          12.20594310760498,
          -22.59006690979004,
          6.559144020080566,
          7.15255880355835,
          -30.862201690673828,
          -3.227771520614624,
          -4.296969890594482,
          16.4634952545166,
          21.372343063354492,
          -18.22385597229004,
          21.292131423950195,
          -29.025672912597656,
          -27.77157211303711,
          -27.146568298339844,
          -25.970218658447266,
          18.679019927978516,
          14.219969749450684,
          -5.660981178283691,
          4.564764022827148,
          -6.190901756286621,
          -7.183500289916992,
          -3.734499931335449,
          11.882675170898438,
          -26.040401458740234,
          -20.854915618896484,
          -8.639400482177734,
          6.455092430114746,
          10.07215690612793,
          -21.786638259887695,
          7.168974876403809,
          15.127103805541992,
          4.090364933013916
         ],
         "y": [
          17.726659774780273,
          29.09257698059082,
          24.875694274902344,
          -29.06460189819336,
          14.191756248474121,
          -22.40517807006836,
          -3.4191553592681885,
          15.289070129394531,
          10.437580108642578,
          -4.3726301193237305,
          -24.265687942504883,
          6.470673084259033,
          9.826269149780273,
          -11.216261863708496,
          -6.649245262145996,
          29.164112091064453,
          1.5182706117630005,
          -5.4538893699646,
          -20.288799285888672,
          20.93588638305664,
          -14.034098625183105,
          -28.804367065429688,
          30.403501510620117,
          -25.565589904785156,
          30.96394157409668,
          -3.758161783218384,
          -18.873592376708984,
          -28.288713455200195,
          -33.33740234375,
          2.603642702102661,
          16.949522018432617,
          25.920930862426758,
          -24.87555694580078,
          28.754188537597656,
          -28.542234420776367,
          -28.034732818603516,
          -28.71390724182129,
          -4.280957221984863,
          -16.090314865112305,
          12.875905990600586,
          0.16004104912281036,
          -4.015754222869873,
          7.8759446144104,
          31.26640510559082,
          -21.767662048339844,
          26.399980545043945,
          8.682930946350098,
          33.65842056274414,
          -11.946667671203613,
          19.15669822692871,
          1.5999070405960083,
          -28.60540771484375
         ],
         "z": [
          -28.353355407714844,
          14.8692626953125,
          32.54549789428711,
          -29.3358097076416,
          28.66283416748047,
          21.950244903564453,
          14.50936222076416,
          5.109539985656738,
          5.889629364013672,
          18.48543357849121,
          1.4002350568771362,
          0.9009798765182495,
          8.376100540161133,
          -7.9410719871521,
          -1.3484708070755005,
          -8.195347785949707,
          6.245172023773193,
          25.939746856689453,
          -9.606463432312012,
          21.963634490966797,
          -8.20451545715332,
          19.80562400817871,
          24.769107818603516,
          14.062935829162598,
          20.430591583251953,
          -21.679967880249023,
          16.15061378479004,
          -3.186367988586426,
          -31.52379608154297,
          19.781171798706055,
          31.477731704711914,
          -1.271475911140442,
          15.242050170898438,
          15.597110748291016,
          -10.165035247802734,
          -11.713628768920898,
          -4.814000606536865,
          -28.990812301635742,
          13.188407897949219,
          18.45534896850586,
          21.942384719848633,
          16.027305603027344,
          -22.79541778564453,
          35.00323486328125,
          -4.121817588806152,
          24.180830001831055,
          25.889331817626953,
          31.724592208862305,
          -4.569664478302002,
          34.02423095703125,
          27.446073532104492,
          10.654050827026367
         ]
        }
       ],
       "layout": {
        "legend": {
         "tracegroupgap": 0
        },
        "margin": {
         "t": 60
        },
        "scene": {
         "domain": {
          "x": [
           0,
           1
          ],
          "y": [
           0,
           1
          ]
         },
         "xaxis": {
          "title": {
           "text": "x0"
          }
         },
         "yaxis": {
          "title": {
           "text": "x1"
          }
         },
         "zaxis": {
          "title": {
           "text": "x2"
          }
         }
        },
        "template": {
         "data": {
          "bar": [
           {
            "error_x": {
             "color": "#2a3f5f"
            },
            "error_y": {
             "color": "#2a3f5f"
            },
            "marker": {
             "line": {
              "color": "#E5ECF6",
              "width": 0.5
             }
            },
            "type": "bar"
           }
          ],
          "barpolar": [
           {
            "marker": {
             "line": {
              "color": "#E5ECF6",
              "width": 0.5
             }
            },
            "type": "barpolar"
           }
          ],
          "carpet": [
           {
            "aaxis": {
             "endlinecolor": "#2a3f5f",
             "gridcolor": "white",
             "linecolor": "white",
             "minorgridcolor": "white",
             "startlinecolor": "#2a3f5f"
            },
            "baxis": {
             "endlinecolor": "#2a3f5f",
             "gridcolor": "white",
             "linecolor": "white",
             "minorgridcolor": "white",
             "startlinecolor": "#2a3f5f"
            },
            "type": "carpet"
           }
          ],
          "choropleth": [
           {
            "colorbar": {
             "outlinewidth": 0,
             "ticks": ""
            },
            "type": "choropleth"
           }
          ],
          "contour": [
           {
            "colorbar": {
             "outlinewidth": 0,
             "ticks": ""
            },
            "colorscale": [
             [
              0,
              "#0d0887"
             ],
             [
              0.1111111111111111,
              "#46039f"
             ],
             [
              0.2222222222222222,
              "#7201a8"
             ],
             [
              0.3333333333333333,
              "#9c179e"
             ],
             [
              0.4444444444444444,
              "#bd3786"
             ],
             [
              0.5555555555555556,
              "#d8576b"
             ],
             [
              0.6666666666666666,
              "#ed7953"
             ],
             [
              0.7777777777777778,
              "#fb9f3a"
             ],
             [
              0.8888888888888888,
              "#fdca26"
             ],
             [
              1,
              "#f0f921"
             ]
            ],
            "type": "contour"
           }
          ],
          "contourcarpet": [
           {
            "colorbar": {
             "outlinewidth": 0,
             "ticks": ""
            },
            "type": "contourcarpet"
           }
          ],
          "heatmap": [
           {
            "colorbar": {
             "outlinewidth": 0,
             "ticks": ""
            },
            "colorscale": [
             [
              0,
              "#0d0887"
             ],
             [
              0.1111111111111111,
              "#46039f"
             ],
             [
              0.2222222222222222,
              "#7201a8"
             ],
             [
              0.3333333333333333,
              "#9c179e"
             ],
             [
              0.4444444444444444,
              "#bd3786"
             ],
             [
              0.5555555555555556,
              "#d8576b"
             ],
             [
              0.6666666666666666,
              "#ed7953"
             ],
             [
              0.7777777777777778,
              "#fb9f3a"
             ],
             [
              0.8888888888888888,
              "#fdca26"
             ],
             [
              1,
              "#f0f921"
             ]
            ],
            "type": "heatmap"
           }
          ],
          "heatmapgl": [
           {
            "colorbar": {
             "outlinewidth": 0,
             "ticks": ""
            },
            "colorscale": [
             [
              0,
              "#0d0887"
             ],
             [
              0.1111111111111111,
              "#46039f"
             ],
             [
              0.2222222222222222,
              "#7201a8"
             ],
             [
              0.3333333333333333,
              "#9c179e"
             ],
             [
              0.4444444444444444,
              "#bd3786"
             ],
             [
              0.5555555555555556,
              "#d8576b"
             ],
             [
              0.6666666666666666,
              "#ed7953"
             ],
             [
              0.7777777777777778,
              "#fb9f3a"
             ],
             [
              0.8888888888888888,
              "#fdca26"
             ],
             [
              1,
              "#f0f921"
             ]
            ],
            "type": "heatmapgl"
           }
          ],
          "histogram": [
           {
            "marker": {
             "colorbar": {
              "outlinewidth": 0,
              "ticks": ""
             }
            },
            "type": "histogram"
           }
          ],
          "histogram2d": [
           {
            "colorbar": {
             "outlinewidth": 0,
             "ticks": ""
            },
            "colorscale": [
             [
              0,
              "#0d0887"
             ],
             [
              0.1111111111111111,
              "#46039f"
             ],
             [
              0.2222222222222222,
              "#7201a8"
             ],
             [
              0.3333333333333333,
              "#9c179e"
             ],
             [
              0.4444444444444444,
              "#bd3786"
             ],
             [
              0.5555555555555556,
              "#d8576b"
             ],
             [
              0.6666666666666666,
              "#ed7953"
             ],
             [
              0.7777777777777778,
              "#fb9f3a"
             ],
             [
              0.8888888888888888,
              "#fdca26"
             ],
             [
              1,
              "#f0f921"
             ]
            ],
            "type": "histogram2d"
           }
          ],
          "histogram2dcontour": [
           {
            "colorbar": {
             "outlinewidth": 0,
             "ticks": ""
            },
            "colorscale": [
             [
              0,
              "#0d0887"
             ],
             [
              0.1111111111111111,
              "#46039f"
             ],
             [
              0.2222222222222222,
              "#7201a8"
             ],
             [
              0.3333333333333333,
              "#9c179e"
             ],
             [
              0.4444444444444444,
              "#bd3786"
             ],
             [
              0.5555555555555556,
              "#d8576b"
             ],
             [
              0.6666666666666666,
              "#ed7953"
             ],
             [
              0.7777777777777778,
              "#fb9f3a"
             ],
             [
              0.8888888888888888,
              "#fdca26"
             ],
             [
              1,
              "#f0f921"
             ]
            ],
            "type": "histogram2dcontour"
           }
          ],
          "mesh3d": [
           {
            "colorbar": {
             "outlinewidth": 0,
             "ticks": ""
            },
            "type": "mesh3d"
           }
          ],
          "parcoords": [
           {
            "line": {
             "colorbar": {
              "outlinewidth": 0,
              "ticks": ""
             }
            },
            "type": "parcoords"
           }
          ],
          "pie": [
           {
            "automargin": true,
            "type": "pie"
           }
          ],
          "scatter": [
           {
            "marker": {
             "colorbar": {
              "outlinewidth": 0,
              "ticks": ""
             }
            },
            "type": "scatter"
           }
          ],
          "scatter3d": [
           {
            "line": {
             "colorbar": {
              "outlinewidth": 0,
              "ticks": ""
             }
            },
            "marker": {
             "colorbar": {
              "outlinewidth": 0,
              "ticks": ""
             }
            },
            "type": "scatter3d"
           }
          ],
          "scattercarpet": [
           {
            "marker": {
             "colorbar": {
              "outlinewidth": 0,
              "ticks": ""
             }
            },
            "type": "scattercarpet"
           }
          ],
          "scattergeo": [
           {
            "marker": {
             "colorbar": {
              "outlinewidth": 0,
              "ticks": ""
             }
            },
            "type": "scattergeo"
           }
          ],
          "scattergl": [
           {
            "marker": {
             "colorbar": {
              "outlinewidth": 0,
              "ticks": ""
             }
            },
            "type": "scattergl"
           }
          ],
          "scattermapbox": [
           {
            "marker": {
             "colorbar": {
              "outlinewidth": 0,
              "ticks": ""
             }
            },
            "type": "scattermapbox"
           }
          ],
          "scatterpolar": [
           {
            "marker": {
             "colorbar": {
              "outlinewidth": 0,
              "ticks": ""
             }
            },
            "type": "scatterpolar"
           }
          ],
          "scatterpolargl": [
           {
            "marker": {
             "colorbar": {
              "outlinewidth": 0,
              "ticks": ""
             }
            },
            "type": "scatterpolargl"
           }
          ],
          "scatterternary": [
           {
            "marker": {
             "colorbar": {
              "outlinewidth": 0,
              "ticks": ""
             }
            },
            "type": "scatterternary"
           }
          ],
          "surface": [
           {
            "colorbar": {
             "outlinewidth": 0,
             "ticks": ""
            },
            "colorscale": [
             [
              0,
              "#0d0887"
             ],
             [
              0.1111111111111111,
              "#46039f"
             ],
             [
              0.2222222222222222,
              "#7201a8"
             ],
             [
              0.3333333333333333,
              "#9c179e"
             ],
             [
              0.4444444444444444,
              "#bd3786"
             ],
             [
              0.5555555555555556,
              "#d8576b"
             ],
             [
              0.6666666666666666,
              "#ed7953"
             ],
             [
              0.7777777777777778,
              "#fb9f3a"
             ],
             [
              0.8888888888888888,
              "#fdca26"
             ],
             [
              1,
              "#f0f921"
             ]
            ],
            "type": "surface"
           }
          ],
          "table": [
           {
            "cells": {
             "fill": {
              "color": "#EBF0F8"
             },
             "line": {
              "color": "white"
             }
            },
            "header": {
             "fill": {
              "color": "#C8D4E3"
             },
             "line": {
              "color": "white"
             }
            },
            "type": "table"
           }
          ]
         },
         "layout": {
          "annotationdefaults": {
           "arrowcolor": "#2a3f5f",
           "arrowhead": 0,
           "arrowwidth": 1
          },
          "autotypenumbers": "strict",
          "coloraxis": {
           "colorbar": {
            "outlinewidth": 0,
            "ticks": ""
           }
          },
          "colorscale": {
           "diverging": [
            [
             0,
             "#8e0152"
            ],
            [
             0.1,
             "#c51b7d"
            ],
            [
             0.2,
             "#de77ae"
            ],
            [
             0.3,
             "#f1b6da"
            ],
            [
             0.4,
             "#fde0ef"
            ],
            [
             0.5,
             "#f7f7f7"
            ],
            [
             0.6,
             "#e6f5d0"
            ],
            [
             0.7,
             "#b8e186"
            ],
            [
             0.8,
             "#7fbc41"
            ],
            [
             0.9,
             "#4d9221"
            ],
            [
             1,
             "#276419"
            ]
           ],
           "sequential": [
            [
             0,
             "#0d0887"
            ],
            [
             0.1111111111111111,
             "#46039f"
            ],
            [
             0.2222222222222222,
             "#7201a8"
            ],
            [
             0.3333333333333333,
             "#9c179e"
            ],
            [
             0.4444444444444444,
             "#bd3786"
            ],
            [
             0.5555555555555556,
             "#d8576b"
            ],
            [
             0.6666666666666666,
             "#ed7953"
            ],
            [
             0.7777777777777778,
             "#fb9f3a"
            ],
            [
             0.8888888888888888,
             "#fdca26"
            ],
            [
             1,
             "#f0f921"
            ]
           ],
           "sequentialminus": [
            [
             0,
             "#0d0887"
            ],
            [
             0.1111111111111111,
             "#46039f"
            ],
            [
             0.2222222222222222,
             "#7201a8"
            ],
            [
             0.3333333333333333,
             "#9c179e"
            ],
            [
             0.4444444444444444,
             "#bd3786"
            ],
            [
             0.5555555555555556,
             "#d8576b"
            ],
            [
             0.6666666666666666,
             "#ed7953"
            ],
            [
             0.7777777777777778,
             "#fb9f3a"
            ],
            [
             0.8888888888888888,
             "#fdca26"
            ],
            [
             1,
             "#f0f921"
            ]
           ]
          },
          "colorway": [
           "#636efa",
           "#EF553B",
           "#00cc96",
           "#ab63fa",
           "#FFA15A",
           "#19d3f3",
           "#FF6692",
           "#B6E880",
           "#FF97FF",
           "#FECB52"
          ],
          "font": {
           "color": "#2a3f5f"
          },
          "geo": {
           "bgcolor": "white",
           "lakecolor": "white",
           "landcolor": "#E5ECF6",
           "showlakes": true,
           "showland": true,
           "subunitcolor": "white"
          },
          "hoverlabel": {
           "align": "left"
          },
          "hovermode": "closest",
          "mapbox": {
           "style": "light"
          },
          "paper_bgcolor": "white",
          "plot_bgcolor": "#E5ECF6",
          "polar": {
           "angularaxis": {
            "gridcolor": "white",
            "linecolor": "white",
            "ticks": ""
           },
           "bgcolor": "#E5ECF6",
           "radialaxis": {
            "gridcolor": "white",
            "linecolor": "white",
            "ticks": ""
           }
          },
          "scene": {
           "xaxis": {
            "backgroundcolor": "#E5ECF6",
            "gridcolor": "white",
            "gridwidth": 2,
            "linecolor": "white",
            "showbackground": true,
            "ticks": "",
            "zerolinecolor": "white"
           },
           "yaxis": {
            "backgroundcolor": "#E5ECF6",
            "gridcolor": "white",
            "gridwidth": 2,
            "linecolor": "white",
            "showbackground": true,
            "ticks": "",
            "zerolinecolor": "white"
           },
           "zaxis": {
            "backgroundcolor": "#E5ECF6",
            "gridcolor": "white",
            "gridwidth": 2,
            "linecolor": "white",
            "showbackground": true,
            "ticks": "",
            "zerolinecolor": "white"
           }
          },
          "shapedefaults": {
           "line": {
            "color": "#2a3f5f"
           }
          },
          "ternary": {
           "aaxis": {
            "gridcolor": "white",
            "linecolor": "white",
            "ticks": ""
           },
           "baxis": {
            "gridcolor": "white",
            "linecolor": "white",
            "ticks": ""
           },
           "bgcolor": "#E5ECF6",
           "caxis": {
            "gridcolor": "white",
            "linecolor": "white",
            "ticks": ""
           }
          },
          "title": {
           "x": 0.05
          },
          "xaxis": {
           "automargin": true,
           "gridcolor": "white",
           "linecolor": "white",
           "ticks": "",
           "title": {
            "standoff": 15
           },
           "zerolinecolor": "white",
           "zerolinewidth": 2
          },
          "yaxis": {
           "automargin": true,
           "gridcolor": "white",
           "linecolor": "white",
           "ticks": "",
           "title": {
            "standoff": 15
           },
           "zerolinecolor": "white",
           "zerolinewidth": 2
          }
         }
        }
       }
      },
      "text/html": [
       "<div>                            <div id=\"0056ca9d-5fc1-4d29-b8bd-b712c75e1fd6\" class=\"plotly-graph-div\" style=\"height:525px; width:100%;\"></div>            <script type=\"text/javascript\">                require([\"plotly\"], function(Plotly) {                    window.PLOTLYENV=window.PLOTLYENV || {};                                    if (document.getElementById(\"0056ca9d-5fc1-4d29-b8bd-b712c75e1fd6\")) {                    Plotly.newPlot(                        \"0056ca9d-5fc1-4d29-b8bd-b712c75e1fd6\",                        [{\"hovertemplate\": \"x0=%{x}<br>x1=%{y}<br>x2=%{z}<extra></extra>\", \"legendgroup\": \"\", \"marker\": {\"color\": \"#636efa\", \"symbol\": \"circle\"}, \"mode\": \"markers\", \"name\": \"\", \"scene\": \"scene\", \"showlegend\": false, \"type\": \"scatter3d\", \"x\": [-10.282544136047363, -27.28460693359375, -33.811737060546875, 28.305986404418945, 1.216386318206787, 7.800750732421875, 4.047580242156982, -22.340282440185547, -13.72254753112793, 0.9143197536468506, 11.377936363220215, -6.049320220947266, -18.472137451171875, 5.23144006729126, -14.58596420288086, -25.18048095703125, -21.33672523498535, -27.3912353515625, 10.72272777557373, -32.112571716308594, 12.20594310760498, -22.59006690979004, 6.559144020080566, 7.15255880355835, -30.862201690673828, -3.227771520614624, -4.296969890594482, 16.4634952545166, 21.372343063354492, -18.22385597229004, 21.292131423950195, -29.025672912597656, -27.77157211303711, -27.146568298339844, -25.970218658447266, 18.679019927978516, 14.219969749450684, -5.660981178283691, 4.564764022827148, -6.190901756286621, -7.183500289916992, -3.734499931335449, 11.882675170898438, -26.040401458740234, -20.854915618896484, -8.639400482177734, 6.455092430114746, 10.07215690612793, -21.786638259887695, 7.168974876403809, 15.127103805541992, 4.090364933013916], \"y\": [17.726659774780273, 29.09257698059082, 24.875694274902344, -29.06460189819336, 14.191756248474121, -22.40517807006836, -3.4191553592681885, 15.289070129394531, 10.437580108642578, -4.3726301193237305, -24.265687942504883, 6.470673084259033, 9.826269149780273, -11.216261863708496, -6.649245262145996, 29.164112091064453, 1.5182706117630005, -5.4538893699646, -20.288799285888672, 20.93588638305664, -14.034098625183105, -28.804367065429688, 30.403501510620117, -25.565589904785156, 30.96394157409668, -3.758161783218384, -18.873592376708984, -28.288713455200195, -33.33740234375, 2.603642702102661, 16.949522018432617, 25.920930862426758, -24.87555694580078, 28.754188537597656, -28.542234420776367, -28.034732818603516, -28.71390724182129, -4.280957221984863, -16.090314865112305, 12.875905990600586, 0.16004104912281036, -4.015754222869873, 7.8759446144104, 31.26640510559082, -21.767662048339844, 26.399980545043945, 8.682930946350098, 33.65842056274414, -11.946667671203613, 19.15669822692871, 1.5999070405960083, -28.60540771484375], \"z\": [-28.353355407714844, 14.8692626953125, 32.54549789428711, -29.3358097076416, 28.66283416748047, 21.950244903564453, 14.50936222076416, 5.109539985656738, 5.889629364013672, 18.48543357849121, 1.4002350568771362, 0.9009798765182495, 8.376100540161133, -7.9410719871521, -1.3484708070755005, -8.195347785949707, 6.245172023773193, 25.939746856689453, -9.606463432312012, 21.963634490966797, -8.20451545715332, 19.80562400817871, 24.769107818603516, 14.062935829162598, 20.430591583251953, -21.679967880249023, 16.15061378479004, -3.186367988586426, -31.52379608154297, 19.781171798706055, 31.477731704711914, -1.271475911140442, 15.242050170898438, 15.597110748291016, -10.165035247802734, -11.713628768920898, -4.814000606536865, -28.990812301635742, 13.188407897949219, 18.45534896850586, 21.942384719848633, 16.027305603027344, -22.79541778564453, 35.00323486328125, -4.121817588806152, 24.180830001831055, 25.889331817626953, 31.724592208862305, -4.569664478302002, 34.02423095703125, 27.446073532104492, 10.654050827026367]}],                        {\"legend\": {\"tracegroupgap\": 0}, \"margin\": {\"t\": 60}, \"scene\": {\"domain\": {\"x\": [0.0, 1.0], \"y\": [0.0, 1.0]}, \"xaxis\": {\"title\": {\"text\": \"x0\"}}, \"yaxis\": {\"title\": {\"text\": \"x1\"}}, \"zaxis\": {\"title\": {\"text\": \"x2\"}}}, \"template\": {\"data\": {\"bar\": [{\"error_x\": {\"color\": \"#2a3f5f\"}, \"error_y\": {\"color\": \"#2a3f5f\"}, \"marker\": {\"line\": {\"color\": \"#E5ECF6\", \"width\": 0.5}}, \"type\": \"bar\"}], \"barpolar\": [{\"marker\": {\"line\": {\"color\": \"#E5ECF6\", \"width\": 0.5}}, \"type\": \"barpolar\"}], \"carpet\": [{\"aaxis\": {\"endlinecolor\": \"#2a3f5f\", \"gridcolor\": \"white\", \"linecolor\": \"white\", \"minorgridcolor\": \"white\", \"startlinecolor\": \"#2a3f5f\"}, \"baxis\": {\"endlinecolor\": \"#2a3f5f\", \"gridcolor\": \"white\", \"linecolor\": \"white\", \"minorgridcolor\": \"white\", \"startlinecolor\": \"#2a3f5f\"}, \"type\": \"carpet\"}], \"choropleth\": [{\"colorbar\": {\"outlinewidth\": 0, \"ticks\": \"\"}, \"type\": \"choropleth\"}], \"contour\": [{\"colorbar\": {\"outlinewidth\": 0, \"ticks\": \"\"}, \"colorscale\": [[0.0, \"#0d0887\"], [0.1111111111111111, \"#46039f\"], [0.2222222222222222, \"#7201a8\"], [0.3333333333333333, \"#9c179e\"], [0.4444444444444444, \"#bd3786\"], [0.5555555555555556, \"#d8576b\"], [0.6666666666666666, \"#ed7953\"], [0.7777777777777778, \"#fb9f3a\"], [0.8888888888888888, \"#fdca26\"], [1.0, \"#f0f921\"]], \"type\": \"contour\"}], \"contourcarpet\": [{\"colorbar\": {\"outlinewidth\": 0, \"ticks\": \"\"}, \"type\": \"contourcarpet\"}], \"heatmap\": [{\"colorbar\": {\"outlinewidth\": 0, \"ticks\": \"\"}, \"colorscale\": [[0.0, \"#0d0887\"], [0.1111111111111111, \"#46039f\"], [0.2222222222222222, \"#7201a8\"], [0.3333333333333333, \"#9c179e\"], [0.4444444444444444, \"#bd3786\"], [0.5555555555555556, \"#d8576b\"], [0.6666666666666666, \"#ed7953\"], [0.7777777777777778, \"#fb9f3a\"], [0.8888888888888888, \"#fdca26\"], [1.0, \"#f0f921\"]], \"type\": \"heatmap\"}], \"heatmapgl\": [{\"colorbar\": {\"outlinewidth\": 0, \"ticks\": \"\"}, \"colorscale\": [[0.0, \"#0d0887\"], [0.1111111111111111, \"#46039f\"], [0.2222222222222222, \"#7201a8\"], [0.3333333333333333, \"#9c179e\"], [0.4444444444444444, \"#bd3786\"], [0.5555555555555556, \"#d8576b\"], [0.6666666666666666, \"#ed7953\"], [0.7777777777777778, \"#fb9f3a\"], [0.8888888888888888, \"#fdca26\"], [1.0, \"#f0f921\"]], \"type\": \"heatmapgl\"}], \"histogram\": [{\"marker\": {\"colorbar\": {\"outlinewidth\": 0, \"ticks\": \"\"}}, \"type\": \"histogram\"}], \"histogram2d\": [{\"colorbar\": {\"outlinewidth\": 0, \"ticks\": \"\"}, \"colorscale\": [[0.0, \"#0d0887\"], [0.1111111111111111, \"#46039f\"], [0.2222222222222222, \"#7201a8\"], [0.3333333333333333, \"#9c179e\"], [0.4444444444444444, \"#bd3786\"], [0.5555555555555556, \"#d8576b\"], [0.6666666666666666, \"#ed7953\"], [0.7777777777777778, \"#fb9f3a\"], [0.8888888888888888, \"#fdca26\"], [1.0, \"#f0f921\"]], \"type\": \"histogram2d\"}], \"histogram2dcontour\": [{\"colorbar\": {\"outlinewidth\": 0, \"ticks\": \"\"}, \"colorscale\": [[0.0, \"#0d0887\"], [0.1111111111111111, \"#46039f\"], [0.2222222222222222, \"#7201a8\"], [0.3333333333333333, \"#9c179e\"], [0.4444444444444444, \"#bd3786\"], [0.5555555555555556, \"#d8576b\"], [0.6666666666666666, \"#ed7953\"], [0.7777777777777778, \"#fb9f3a\"], [0.8888888888888888, \"#fdca26\"], [1.0, \"#f0f921\"]], \"type\": \"histogram2dcontour\"}], \"mesh3d\": [{\"colorbar\": {\"outlinewidth\": 0, \"ticks\": \"\"}, \"type\": \"mesh3d\"}], \"parcoords\": [{\"line\": {\"colorbar\": {\"outlinewidth\": 0, \"ticks\": \"\"}}, \"type\": \"parcoords\"}], \"pie\": [{\"automargin\": true, \"type\": \"pie\"}], \"scatter\": [{\"marker\": {\"colorbar\": {\"outlinewidth\": 0, \"ticks\": \"\"}}, \"type\": \"scatter\"}], \"scatter3d\": [{\"line\": {\"colorbar\": {\"outlinewidth\": 0, \"ticks\": \"\"}}, \"marker\": {\"colorbar\": {\"outlinewidth\": 0, \"ticks\": \"\"}}, \"type\": \"scatter3d\"}], \"scattercarpet\": [{\"marker\": {\"colorbar\": {\"outlinewidth\": 0, \"ticks\": \"\"}}, \"type\": \"scattercarpet\"}], \"scattergeo\": [{\"marker\": {\"colorbar\": {\"outlinewidth\": 0, \"ticks\": \"\"}}, \"type\": \"scattergeo\"}], \"scattergl\": [{\"marker\": {\"colorbar\": {\"outlinewidth\": 0, \"ticks\": \"\"}}, \"type\": \"scattergl\"}], \"scattermapbox\": [{\"marker\": {\"colorbar\": {\"outlinewidth\": 0, \"ticks\": \"\"}}, \"type\": \"scattermapbox\"}], \"scatterpolar\": [{\"marker\": {\"colorbar\": {\"outlinewidth\": 0, \"ticks\": \"\"}}, \"type\": \"scatterpolar\"}], \"scatterpolargl\": [{\"marker\": {\"colorbar\": {\"outlinewidth\": 0, \"ticks\": \"\"}}, \"type\": \"scatterpolargl\"}], \"scatterternary\": [{\"marker\": {\"colorbar\": {\"outlinewidth\": 0, \"ticks\": \"\"}}, \"type\": \"scatterternary\"}], \"surface\": [{\"colorbar\": {\"outlinewidth\": 0, \"ticks\": \"\"}, \"colorscale\": [[0.0, \"#0d0887\"], [0.1111111111111111, \"#46039f\"], [0.2222222222222222, \"#7201a8\"], [0.3333333333333333, \"#9c179e\"], [0.4444444444444444, \"#bd3786\"], [0.5555555555555556, \"#d8576b\"], [0.6666666666666666, \"#ed7953\"], [0.7777777777777778, \"#fb9f3a\"], [0.8888888888888888, \"#fdca26\"], [1.0, \"#f0f921\"]], \"type\": \"surface\"}], \"table\": [{\"cells\": {\"fill\": {\"color\": \"#EBF0F8\"}, \"line\": {\"color\": \"white\"}}, \"header\": {\"fill\": {\"color\": \"#C8D4E3\"}, \"line\": {\"color\": \"white\"}}, \"type\": \"table\"}]}, \"layout\": {\"annotationdefaults\": {\"arrowcolor\": \"#2a3f5f\", \"arrowhead\": 0, \"arrowwidth\": 1}, \"autotypenumbers\": \"strict\", \"coloraxis\": {\"colorbar\": {\"outlinewidth\": 0, \"ticks\": \"\"}}, \"colorscale\": {\"diverging\": [[0, \"#8e0152\"], [0.1, \"#c51b7d\"], [0.2, \"#de77ae\"], [0.3, \"#f1b6da\"], [0.4, \"#fde0ef\"], [0.5, \"#f7f7f7\"], [0.6, \"#e6f5d0\"], [0.7, \"#b8e186\"], [0.8, \"#7fbc41\"], [0.9, \"#4d9221\"], [1, \"#276419\"]], \"sequential\": [[0.0, \"#0d0887\"], [0.1111111111111111, \"#46039f\"], [0.2222222222222222, \"#7201a8\"], [0.3333333333333333, \"#9c179e\"], [0.4444444444444444, \"#bd3786\"], [0.5555555555555556, \"#d8576b\"], [0.6666666666666666, \"#ed7953\"], [0.7777777777777778, \"#fb9f3a\"], [0.8888888888888888, \"#fdca26\"], [1.0, \"#f0f921\"]], \"sequentialminus\": [[0.0, \"#0d0887\"], [0.1111111111111111, \"#46039f\"], [0.2222222222222222, \"#7201a8\"], [0.3333333333333333, \"#9c179e\"], [0.4444444444444444, \"#bd3786\"], [0.5555555555555556, \"#d8576b\"], [0.6666666666666666, \"#ed7953\"], [0.7777777777777778, \"#fb9f3a\"], [0.8888888888888888, \"#fdca26\"], [1.0, \"#f0f921\"]]}, \"colorway\": [\"#636efa\", \"#EF553B\", \"#00cc96\", \"#ab63fa\", \"#FFA15A\", \"#19d3f3\", \"#FF6692\", \"#B6E880\", \"#FF97FF\", \"#FECB52\"], \"font\": {\"color\": \"#2a3f5f\"}, \"geo\": {\"bgcolor\": \"white\", \"lakecolor\": \"white\", \"landcolor\": \"#E5ECF6\", \"showlakes\": true, \"showland\": true, \"subunitcolor\": \"white\"}, \"hoverlabel\": {\"align\": \"left\"}, \"hovermode\": \"closest\", \"mapbox\": {\"style\": \"light\"}, \"paper_bgcolor\": \"white\", \"plot_bgcolor\": \"#E5ECF6\", \"polar\": {\"angularaxis\": {\"gridcolor\": \"white\", \"linecolor\": \"white\", \"ticks\": \"\"}, \"bgcolor\": \"#E5ECF6\", \"radialaxis\": {\"gridcolor\": \"white\", \"linecolor\": \"white\", \"ticks\": \"\"}}, \"scene\": {\"xaxis\": {\"backgroundcolor\": \"#E5ECF6\", \"gridcolor\": \"white\", \"gridwidth\": 2, \"linecolor\": \"white\", \"showbackground\": true, \"ticks\": \"\", \"zerolinecolor\": \"white\"}, \"yaxis\": {\"backgroundcolor\": \"#E5ECF6\", \"gridcolor\": \"white\", \"gridwidth\": 2, \"linecolor\": \"white\", \"showbackground\": true, \"ticks\": \"\", \"zerolinecolor\": \"white\"}, \"zaxis\": {\"backgroundcolor\": \"#E5ECF6\", \"gridcolor\": \"white\", \"gridwidth\": 2, \"linecolor\": \"white\", \"showbackground\": true, \"ticks\": \"\", \"zerolinecolor\": \"white\"}}, \"shapedefaults\": {\"line\": {\"color\": \"#2a3f5f\"}}, \"ternary\": {\"aaxis\": {\"gridcolor\": \"white\", \"linecolor\": \"white\", \"ticks\": \"\"}, \"baxis\": {\"gridcolor\": \"white\", \"linecolor\": \"white\", \"ticks\": \"\"}, \"bgcolor\": \"#E5ECF6\", \"caxis\": {\"gridcolor\": \"white\", \"linecolor\": \"white\", \"ticks\": \"\"}}, \"title\": {\"x\": 0.05}, \"xaxis\": {\"automargin\": true, \"gridcolor\": \"white\", \"linecolor\": \"white\", \"ticks\": \"\", \"title\": {\"standoff\": 15}, \"zerolinecolor\": \"white\", \"zerolinewidth\": 2}, \"yaxis\": {\"automargin\": true, \"gridcolor\": \"white\", \"linecolor\": \"white\", \"ticks\": \"\", \"title\": {\"standoff\": 15}, \"zerolinecolor\": \"white\", \"zerolinewidth\": 2}}}},                        {\"responsive\": true}                    ).then(function(){\n",
       "                            \n",
       "var gd = document.getElementById('0056ca9d-5fc1-4d29-b8bd-b712c75e1fd6');\n",
       "var x = new MutationObserver(function (mutations, observer) {{\n",
       "        var display = window.getComputedStyle(gd).display;\n",
       "        if (!display || display === 'none') {{\n",
       "            console.log([gd, 'removed!']);\n",
       "            Plotly.purge(gd);\n",
       "            observer.disconnect();\n",
       "        }}\n",
       "}});\n",
       "\n",
       "// Listen for the removal of the full notebook cells\n",
       "var notebookContainer = gd.closest('#notebook-container');\n",
       "if (notebookContainer) {{\n",
       "    x.observe(notebookContainer, {childList: true});\n",
       "}}\n",
       "\n",
       "// Listen for the clearing of the current output cell\n",
       "var outputEl = gd.closest('.output');\n",
       "if (outputEl) {{\n",
       "    x.observe(outputEl, {childList: true});\n",
       "}}\n",
       "\n",
       "                        })                };                });            </script>        </div>"
      ]
     },
     "metadata": {},
     "output_type": "display_data"
    }
   ],
   "source": [
    "print(f'Number of points: {db_sample_df.shape}')\n",
    "\n",
    "fig = px.scatter_3d(db_sample_df[:1000], x='x0', y='x1', z='x2')\n",
    "fig.show()"
   ]
  },
  {
   "cell_type": "code",
   "execution_count": null,
   "metadata": {},
   "outputs": [],
   "source": [
    "db_sample_df.to_csv('DB_3d_MNIST.csv')"
   ]
  },
  {
   "cell_type": "code",
   "execution_count": 51,
   "metadata": {},
   "outputs": [
    {
     "name": "stdout",
     "output_type": "stream",
     "text": [
      "Number of points: (106, 3)\n"
     ]
    },
    {
     "data": {
      "application/vnd.plotly.v1+json": {
       "config": {
        "plotlyServerURL": "https://plot.ly"
       },
       "data": [
        {
         "hovertemplate": "x0=%{x}<br>x1=%{y}<br>x2=%{z}<extra></extra>",
         "legendgroup": "",
         "marker": {
          "color": "#636efa",
          "symbol": "circle"
         },
         "mode": "markers",
         "name": "",
         "scene": "scene",
         "showlegend": false,
         "type": "scatter3d",
         "x": [
          19.239654541015625,
          -30.214553833007812,
          -19.980541229248047,
          -19.230247497558594,
          -18.665088653564453,
          11.807743072509766,
          16.840078353881836,
          -19.317110061645508,
          -51.8192138671875,
          4.0145955085754395,
          15.791741371154785,
          14.83867359161377,
          -9.53484058380127,
          19.71636390686035,
          11.16198444366455,
          -34.6403923034668,
          -38.3023681640625,
          -10.576807975769043,
          21.94754409790039,
          -26.933612823486328,
          11.662528991699219,
          21.54416847229004,
          18.92066192626953,
          22.527599334716797,
          9.876812934875488,
          28.83673858642578,
          32.4459114074707,
          21.91065788269043,
          -17.897403717041016,
          -3.4171934127807617,
          35.7183723449707,
          -13.332934379577637,
          -42.28324508666992,
          -5.0580854415893555,
          3.615084171295166,
          -19.57041358947754,
          11.679457664489746,
          24.17938804626465,
          22.423919677734375,
          39.075172424316406,
          -31.540307998657227,
          -31.972034454345703,
          -18.63327407836914,
          -7.1139631271362305,
          -6.41195821762085,
          5.789811134338379,
          -10.98792552947998,
          17.620182037353516,
          9.466997146606445,
          -38.18135070800781,
          23.966354370117188,
          22.717771530151367,
          -19.566757202148438,
          -37.1947135925293,
          15.883633613586426,
          5.5532965660095215,
          -34.722801208496094,
          2.9691243171691895,
          0.262107789516449,
          -10.944779396057129,
          -26.076332092285156,
          2.962583303451538,
          9.177228927612305,
          -5.872618675231934,
          -4.196045875549316,
          -8.42429256439209,
          11.287345886230469,
          23.097192764282227,
          -0.5264502763748169,
          -20.506460189819336,
          1.5228475332260132,
          0.6229628324508667,
          -21.03496551513672,
          1.7500237226486206,
          0.15693974494934082,
          -2.1227753162384033,
          16.468730926513672,
          -16.708297729492188,
          32.793827056884766,
          -8.087067604064941,
          -64.4951400756836,
          10.402259826660156,
          16.082656860351562,
          -33.14274978637695,
          -25.572338104248047,
          -11.453144073486328,
          -12.673238754272461,
          1.0576286315917969,
          10.773589134216309,
          3.7740888595581055,
          -14.195639610290527,
          -35.133514404296875,
          -13.180327415466309,
          -5.368241786956787,
          15.188639640808105,
          7.924132347106934,
          26.149030685424805,
          -20.478487014770508,
          -16.288780212402344,
          -0.2595553398132324,
          -9.390742301940918,
          -16.580768585205078,
          -19.956022262573242,
          1.7532823085784912,
          6.970976829528809,
          33.381710052490234
         ],
         "y": [
          28.200271606445312,
          -10.159319877624512,
          -31.861499786376953,
          19.772188186645508,
          18.05179214477539,
          -31.000932693481445,
          -26.18259048461914,
          9.586624145507812,
          0.9408184289932251,
          -2.459398031234741,
          -13.29138469696045,
          -27.776687622070312,
          -1.321563720703125,
          1.0561809539794922,
          -19.551576614379883,
          -21.089611053466797,
          0.8712317943572998,
          -38.504791259765625,
          -2.2241644859313965,
          28.581594467163086,
          19.533519744873047,
          -28.37994384765625,
          -33.88177490234375,
          16.997316360473633,
          -19.180858612060547,
          29.87217903137207,
          5.388037204742432,
          5.894099712371826,
          -14.32213020324707,
          9.83974552154541,
          28.14579963684082,
          -17.326194763183594,
          37.552555084228516,
          -15.579249382019043,
          20.44489097595215,
          -28.17951202392578,
          -11.01443099975586,
          -36.711788177490234,
          -21.684406280517578,
          -5.191462516784668,
          2.4235405921936035,
          19.5524845123291,
          -21.38707733154297,
          -24.389589309692383,
          -7.907264709472656,
          -4.978616714477539,
          -14.906881332397461,
          -2.308816432952881,
          -32.48134994506836,
          36.4105110168457,
          4.389291763305664,
          -38.0097541809082,
          1.1876987218856812,
          40.73971939086914,
          15.067594528198242,
          15.701761245727539,
          34.67240524291992,
          25.10228729248047,
          -3.6378650665283203,
          -14.273575782775879,
          16.76898956298828,
          23.85988998413086,
          -31.70090675354004,
          -22.113431930541992,
          20.80821990966797,
          28.351226806640625,
          -31.780725479125977,
          -6.485334396362305,
          34.07459259033203,
          0.42955997586250305,
          -30.82329750061035,
          30.99334716796875,
          -23.2517147064209,
          33.706241607666016,
          14.49933910369873,
          -32.433956146240234,
          20.77708625793457,
          19.455745697021484,
          30.45807647705078,
          -22.54670524597168,
          -37.59484100341797,
          -3.7966525554656982,
          -25.838909149169922,
          -22.081253051757812,
          -36.10100173950195,
          22.103944778442383,
          5.144248008728027,
          2.4294652938842773,
          -29.692907333374023,
          -4.1819167137146,
          -35.13793182373047,
          40.025169372558594,
          24.965126037597656,
          -32.105857849121094,
          8.813606262207031,
          -12.367501258850098,
          2.6793882846832275,
          -26.870115280151367,
          2.86470890045166,
          31.84398078918457,
          -9.813952445983887,
          1.0405290126800537,
          14.884310722351074,
          25.454931259155273,
          24.390012741088867,
          -60.25160217285156
         ],
         "z": [
          -4.950960159301758,
          -3.8119800090789795,
          -13.057583808898926,
          -4.615029811859131,
          -3.4719700813293457,
          1.1945838928222656,
          -7.27700662612915,
          -41.871673583984375,
          10.400651931762695,
          12.687010765075684,
          -22.600948333740234,
          -14.908946990966797,
          -35.36684799194336,
          18.695476531982422,
          -14.711153030395508,
          -7.851142406463623,
          7.8021979331970215,
          -10.11655330657959,
          23.276575088500977,
          15.139469146728516,
          33.46267318725586,
          -14.300259590148926,
          -21.719274520874023,
          -6.30016565322876,
          30.327871322631836,
          -13.95661449432373,
          -32.4907341003418,
          35.7867317199707,
          -3.3389039039611816,
          12.14349365234375,
          -16.529285430908203,
          23.68992042541504,
          -11.06197452545166,
          18.24269676208496,
          20.03379249572754,
          24.025358200073242,
          -16.86874771118164,
          -15.392500877380371,
          -28.800621032714844,
          42.09877014160156,
          9.837996482849121,
          7.085812091827393,
          18.375186920166016,
          18.03493881225586,
          21.634748458862305,
          -26.204952239990234,
          19.80584144592285,
          -21.897571563720703,
          16.811065673828125,
          -11.105313301086426,
          -24.614727020263672,
          -28.840492248535156,
          21.10658836364746,
          -12.763696670532227,
          -16.376611709594727,
          -20.495702743530273,
          -10.607813835144043,
          23.147502899169922,
          -17.102333068847656,
          19.833070755004883,
          5.303028106689453,
          -5.903030872344971,
          16.42306900024414,
          -3.847114324569702,
          -24.845691680908203,
          -11.748297691345215,
          22.645095825195312,
          -28.83568572998047,
          24.558191299438477,
          21.175867080688477,
          11.092366218566895,
          32.44044876098633,
          17.214122772216797,
          -16.764755249023438,
          -18.39082908630371,
          -5.828402996063232,
          31.593090057373047,
          1.8846194744110107,
          -15.595630645751953,
          5.058797836303711,
          -13.073055267333984,
          20.94780921936035,
          -5.611969947814941,
          18.2047176361084,
          -16.062042236328125,
          0.43584731221199036,
          15.768383979797363,
          33.389949798583984,
          23.68901824951172,
          29.980247497558594,
          26.67324447631836,
          -12.392383575439453,
          10.52178955078125,
          1.889743447303772,
          32.801448822021484,
          32.45029067993164,
          -28.840606689453125,
          -0.4883566200733185,
          19.078536987304688,
          14.999964714050293,
          25.805194854736328,
          22.94367027282715,
          -43.82991409301758,
          14.081329345703125,
          -10.035035133361816,
          -28.51333236694336
         ]
        }
       ],
       "layout": {
        "legend": {
         "tracegroupgap": 0
        },
        "margin": {
         "t": 60
        },
        "scene": {
         "domain": {
          "x": [
           0,
           1
          ],
          "y": [
           0,
           1
          ]
         },
         "xaxis": {
          "title": {
           "text": "x0"
          }
         },
         "yaxis": {
          "title": {
           "text": "x1"
          }
         },
         "zaxis": {
          "title": {
           "text": "x2"
          }
         }
        },
        "template": {
         "data": {
          "bar": [
           {
            "error_x": {
             "color": "#2a3f5f"
            },
            "error_y": {
             "color": "#2a3f5f"
            },
            "marker": {
             "line": {
              "color": "#E5ECF6",
              "width": 0.5
             }
            },
            "type": "bar"
           }
          ],
          "barpolar": [
           {
            "marker": {
             "line": {
              "color": "#E5ECF6",
              "width": 0.5
             }
            },
            "type": "barpolar"
           }
          ],
          "carpet": [
           {
            "aaxis": {
             "endlinecolor": "#2a3f5f",
             "gridcolor": "white",
             "linecolor": "white",
             "minorgridcolor": "white",
             "startlinecolor": "#2a3f5f"
            },
            "baxis": {
             "endlinecolor": "#2a3f5f",
             "gridcolor": "white",
             "linecolor": "white",
             "minorgridcolor": "white",
             "startlinecolor": "#2a3f5f"
            },
            "type": "carpet"
           }
          ],
          "choropleth": [
           {
            "colorbar": {
             "outlinewidth": 0,
             "ticks": ""
            },
            "type": "choropleth"
           }
          ],
          "contour": [
           {
            "colorbar": {
             "outlinewidth": 0,
             "ticks": ""
            },
            "colorscale": [
             [
              0,
              "#0d0887"
             ],
             [
              0.1111111111111111,
              "#46039f"
             ],
             [
              0.2222222222222222,
              "#7201a8"
             ],
             [
              0.3333333333333333,
              "#9c179e"
             ],
             [
              0.4444444444444444,
              "#bd3786"
             ],
             [
              0.5555555555555556,
              "#d8576b"
             ],
             [
              0.6666666666666666,
              "#ed7953"
             ],
             [
              0.7777777777777778,
              "#fb9f3a"
             ],
             [
              0.8888888888888888,
              "#fdca26"
             ],
             [
              1,
              "#f0f921"
             ]
            ],
            "type": "contour"
           }
          ],
          "contourcarpet": [
           {
            "colorbar": {
             "outlinewidth": 0,
             "ticks": ""
            },
            "type": "contourcarpet"
           }
          ],
          "heatmap": [
           {
            "colorbar": {
             "outlinewidth": 0,
             "ticks": ""
            },
            "colorscale": [
             [
              0,
              "#0d0887"
             ],
             [
              0.1111111111111111,
              "#46039f"
             ],
             [
              0.2222222222222222,
              "#7201a8"
             ],
             [
              0.3333333333333333,
              "#9c179e"
             ],
             [
              0.4444444444444444,
              "#bd3786"
             ],
             [
              0.5555555555555556,
              "#d8576b"
             ],
             [
              0.6666666666666666,
              "#ed7953"
             ],
             [
              0.7777777777777778,
              "#fb9f3a"
             ],
             [
              0.8888888888888888,
              "#fdca26"
             ],
             [
              1,
              "#f0f921"
             ]
            ],
            "type": "heatmap"
           }
          ],
          "heatmapgl": [
           {
            "colorbar": {
             "outlinewidth": 0,
             "ticks": ""
            },
            "colorscale": [
             [
              0,
              "#0d0887"
             ],
             [
              0.1111111111111111,
              "#46039f"
             ],
             [
              0.2222222222222222,
              "#7201a8"
             ],
             [
              0.3333333333333333,
              "#9c179e"
             ],
             [
              0.4444444444444444,
              "#bd3786"
             ],
             [
              0.5555555555555556,
              "#d8576b"
             ],
             [
              0.6666666666666666,
              "#ed7953"
             ],
             [
              0.7777777777777778,
              "#fb9f3a"
             ],
             [
              0.8888888888888888,
              "#fdca26"
             ],
             [
              1,
              "#f0f921"
             ]
            ],
            "type": "heatmapgl"
           }
          ],
          "histogram": [
           {
            "marker": {
             "colorbar": {
              "outlinewidth": 0,
              "ticks": ""
             }
            },
            "type": "histogram"
           }
          ],
          "histogram2d": [
           {
            "colorbar": {
             "outlinewidth": 0,
             "ticks": ""
            },
            "colorscale": [
             [
              0,
              "#0d0887"
             ],
             [
              0.1111111111111111,
              "#46039f"
             ],
             [
              0.2222222222222222,
              "#7201a8"
             ],
             [
              0.3333333333333333,
              "#9c179e"
             ],
             [
              0.4444444444444444,
              "#bd3786"
             ],
             [
              0.5555555555555556,
              "#d8576b"
             ],
             [
              0.6666666666666666,
              "#ed7953"
             ],
             [
              0.7777777777777778,
              "#fb9f3a"
             ],
             [
              0.8888888888888888,
              "#fdca26"
             ],
             [
              1,
              "#f0f921"
             ]
            ],
            "type": "histogram2d"
           }
          ],
          "histogram2dcontour": [
           {
            "colorbar": {
             "outlinewidth": 0,
             "ticks": ""
            },
            "colorscale": [
             [
              0,
              "#0d0887"
             ],
             [
              0.1111111111111111,
              "#46039f"
             ],
             [
              0.2222222222222222,
              "#7201a8"
             ],
             [
              0.3333333333333333,
              "#9c179e"
             ],
             [
              0.4444444444444444,
              "#bd3786"
             ],
             [
              0.5555555555555556,
              "#d8576b"
             ],
             [
              0.6666666666666666,
              "#ed7953"
             ],
             [
              0.7777777777777778,
              "#fb9f3a"
             ],
             [
              0.8888888888888888,
              "#fdca26"
             ],
             [
              1,
              "#f0f921"
             ]
            ],
            "type": "histogram2dcontour"
           }
          ],
          "mesh3d": [
           {
            "colorbar": {
             "outlinewidth": 0,
             "ticks": ""
            },
            "type": "mesh3d"
           }
          ],
          "parcoords": [
           {
            "line": {
             "colorbar": {
              "outlinewidth": 0,
              "ticks": ""
             }
            },
            "type": "parcoords"
           }
          ],
          "pie": [
           {
            "automargin": true,
            "type": "pie"
           }
          ],
          "scatter": [
           {
            "marker": {
             "colorbar": {
              "outlinewidth": 0,
              "ticks": ""
             }
            },
            "type": "scatter"
           }
          ],
          "scatter3d": [
           {
            "line": {
             "colorbar": {
              "outlinewidth": 0,
              "ticks": ""
             }
            },
            "marker": {
             "colorbar": {
              "outlinewidth": 0,
              "ticks": ""
             }
            },
            "type": "scatter3d"
           }
          ],
          "scattercarpet": [
           {
            "marker": {
             "colorbar": {
              "outlinewidth": 0,
              "ticks": ""
             }
            },
            "type": "scattercarpet"
           }
          ],
          "scattergeo": [
           {
            "marker": {
             "colorbar": {
              "outlinewidth": 0,
              "ticks": ""
             }
            },
            "type": "scattergeo"
           }
          ],
          "scattergl": [
           {
            "marker": {
             "colorbar": {
              "outlinewidth": 0,
              "ticks": ""
             }
            },
            "type": "scattergl"
           }
          ],
          "scattermapbox": [
           {
            "marker": {
             "colorbar": {
              "outlinewidth": 0,
              "ticks": ""
             }
            },
            "type": "scattermapbox"
           }
          ],
          "scatterpolar": [
           {
            "marker": {
             "colorbar": {
              "outlinewidth": 0,
              "ticks": ""
             }
            },
            "type": "scatterpolar"
           }
          ],
          "scatterpolargl": [
           {
            "marker": {
             "colorbar": {
              "outlinewidth": 0,
              "ticks": ""
             }
            },
            "type": "scatterpolargl"
           }
          ],
          "scatterternary": [
           {
            "marker": {
             "colorbar": {
              "outlinewidth": 0,
              "ticks": ""
             }
            },
            "type": "scatterternary"
           }
          ],
          "surface": [
           {
            "colorbar": {
             "outlinewidth": 0,
             "ticks": ""
            },
            "colorscale": [
             [
              0,
              "#0d0887"
             ],
             [
              0.1111111111111111,
              "#46039f"
             ],
             [
              0.2222222222222222,
              "#7201a8"
             ],
             [
              0.3333333333333333,
              "#9c179e"
             ],
             [
              0.4444444444444444,
              "#bd3786"
             ],
             [
              0.5555555555555556,
              "#d8576b"
             ],
             [
              0.6666666666666666,
              "#ed7953"
             ],
             [
              0.7777777777777778,
              "#fb9f3a"
             ],
             [
              0.8888888888888888,
              "#fdca26"
             ],
             [
              1,
              "#f0f921"
             ]
            ],
            "type": "surface"
           }
          ],
          "table": [
           {
            "cells": {
             "fill": {
              "color": "#EBF0F8"
             },
             "line": {
              "color": "white"
             }
            },
            "header": {
             "fill": {
              "color": "#C8D4E3"
             },
             "line": {
              "color": "white"
             }
            },
            "type": "table"
           }
          ]
         },
         "layout": {
          "annotationdefaults": {
           "arrowcolor": "#2a3f5f",
           "arrowhead": 0,
           "arrowwidth": 1
          },
          "autotypenumbers": "strict",
          "coloraxis": {
           "colorbar": {
            "outlinewidth": 0,
            "ticks": ""
           }
          },
          "colorscale": {
           "diverging": [
            [
             0,
             "#8e0152"
            ],
            [
             0.1,
             "#c51b7d"
            ],
            [
             0.2,
             "#de77ae"
            ],
            [
             0.3,
             "#f1b6da"
            ],
            [
             0.4,
             "#fde0ef"
            ],
            [
             0.5,
             "#f7f7f7"
            ],
            [
             0.6,
             "#e6f5d0"
            ],
            [
             0.7,
             "#b8e186"
            ],
            [
             0.8,
             "#7fbc41"
            ],
            [
             0.9,
             "#4d9221"
            ],
            [
             1,
             "#276419"
            ]
           ],
           "sequential": [
            [
             0,
             "#0d0887"
            ],
            [
             0.1111111111111111,
             "#46039f"
            ],
            [
             0.2222222222222222,
             "#7201a8"
            ],
            [
             0.3333333333333333,
             "#9c179e"
            ],
            [
             0.4444444444444444,
             "#bd3786"
            ],
            [
             0.5555555555555556,
             "#d8576b"
            ],
            [
             0.6666666666666666,
             "#ed7953"
            ],
            [
             0.7777777777777778,
             "#fb9f3a"
            ],
            [
             0.8888888888888888,
             "#fdca26"
            ],
            [
             1,
             "#f0f921"
            ]
           ],
           "sequentialminus": [
            [
             0,
             "#0d0887"
            ],
            [
             0.1111111111111111,
             "#46039f"
            ],
            [
             0.2222222222222222,
             "#7201a8"
            ],
            [
             0.3333333333333333,
             "#9c179e"
            ],
            [
             0.4444444444444444,
             "#bd3786"
            ],
            [
             0.5555555555555556,
             "#d8576b"
            ],
            [
             0.6666666666666666,
             "#ed7953"
            ],
            [
             0.7777777777777778,
             "#fb9f3a"
            ],
            [
             0.8888888888888888,
             "#fdca26"
            ],
            [
             1,
             "#f0f921"
            ]
           ]
          },
          "colorway": [
           "#636efa",
           "#EF553B",
           "#00cc96",
           "#ab63fa",
           "#FFA15A",
           "#19d3f3",
           "#FF6692",
           "#B6E880",
           "#FF97FF",
           "#FECB52"
          ],
          "font": {
           "color": "#2a3f5f"
          },
          "geo": {
           "bgcolor": "white",
           "lakecolor": "white",
           "landcolor": "#E5ECF6",
           "showlakes": true,
           "showland": true,
           "subunitcolor": "white"
          },
          "hoverlabel": {
           "align": "left"
          },
          "hovermode": "closest",
          "mapbox": {
           "style": "light"
          },
          "paper_bgcolor": "white",
          "plot_bgcolor": "#E5ECF6",
          "polar": {
           "angularaxis": {
            "gridcolor": "white",
            "linecolor": "white",
            "ticks": ""
           },
           "bgcolor": "#E5ECF6",
           "radialaxis": {
            "gridcolor": "white",
            "linecolor": "white",
            "ticks": ""
           }
          },
          "scene": {
           "xaxis": {
            "backgroundcolor": "#E5ECF6",
            "gridcolor": "white",
            "gridwidth": 2,
            "linecolor": "white",
            "showbackground": true,
            "ticks": "",
            "zerolinecolor": "white"
           },
           "yaxis": {
            "backgroundcolor": "#E5ECF6",
            "gridcolor": "white",
            "gridwidth": 2,
            "linecolor": "white",
            "showbackground": true,
            "ticks": "",
            "zerolinecolor": "white"
           },
           "zaxis": {
            "backgroundcolor": "#E5ECF6",
            "gridcolor": "white",
            "gridwidth": 2,
            "linecolor": "white",
            "showbackground": true,
            "ticks": "",
            "zerolinecolor": "white"
           }
          },
          "shapedefaults": {
           "line": {
            "color": "#2a3f5f"
           }
          },
          "ternary": {
           "aaxis": {
            "gridcolor": "white",
            "linecolor": "white",
            "ticks": ""
           },
           "baxis": {
            "gridcolor": "white",
            "linecolor": "white",
            "ticks": ""
           },
           "bgcolor": "#E5ECF6",
           "caxis": {
            "gridcolor": "white",
            "linecolor": "white",
            "ticks": ""
           }
          },
          "title": {
           "x": 0.05
          },
          "xaxis": {
           "automargin": true,
           "gridcolor": "white",
           "linecolor": "white",
           "ticks": "",
           "title": {
            "standoff": 15
           },
           "zerolinecolor": "white",
           "zerolinewidth": 2
          },
          "yaxis": {
           "automargin": true,
           "gridcolor": "white",
           "linecolor": "white",
           "ticks": "",
           "title": {
            "standoff": 15
           },
           "zerolinecolor": "white",
           "zerolinewidth": 2
          }
         }
        }
       }
      },
      "text/html": [
       "<div>                            <div id=\"23484f29-9a13-48a0-bf53-d9897a25a4c0\" class=\"plotly-graph-div\" style=\"height:525px; width:100%;\"></div>            <script type=\"text/javascript\">                require([\"plotly\"], function(Plotly) {                    window.PLOTLYENV=window.PLOTLYENV || {};                                    if (document.getElementById(\"23484f29-9a13-48a0-bf53-d9897a25a4c0\")) {                    Plotly.newPlot(                        \"23484f29-9a13-48a0-bf53-d9897a25a4c0\",                        [{\"hovertemplate\": \"x0=%{x}<br>x1=%{y}<br>x2=%{z}<extra></extra>\", \"legendgroup\": \"\", \"marker\": {\"color\": \"#636efa\", \"symbol\": \"circle\"}, \"mode\": \"markers\", \"name\": \"\", \"scene\": \"scene\", \"showlegend\": false, \"type\": \"scatter3d\", \"x\": [19.239654541015625, -30.214553833007812, -19.980541229248047, -19.230247497558594, -18.665088653564453, 11.807743072509766, 16.840078353881836, -19.317110061645508, -51.8192138671875, 4.0145955085754395, 15.791741371154785, 14.83867359161377, -9.53484058380127, 19.71636390686035, 11.16198444366455, -34.6403923034668, -38.3023681640625, -10.576807975769043, 21.94754409790039, -26.933612823486328, 11.662528991699219, 21.54416847229004, 18.92066192626953, 22.527599334716797, 9.876812934875488, 28.83673858642578, 32.4459114074707, 21.91065788269043, -17.897403717041016, -3.4171934127807617, 35.7183723449707, -13.332934379577637, -42.28324508666992, -5.0580854415893555, 3.615084171295166, -19.57041358947754, 11.679457664489746, 24.17938804626465, 22.423919677734375, 39.075172424316406, -31.540307998657227, -31.972034454345703, -18.63327407836914, -7.1139631271362305, -6.41195821762085, 5.789811134338379, -10.98792552947998, 17.620182037353516, 9.466997146606445, -38.18135070800781, 23.966354370117188, 22.717771530151367, -19.566757202148438, -37.1947135925293, 15.883633613586426, 5.5532965660095215, -34.722801208496094, 2.9691243171691895, 0.262107789516449, -10.944779396057129, -26.076332092285156, 2.962583303451538, 9.177228927612305, -5.872618675231934, -4.196045875549316, -8.42429256439209, 11.287345886230469, 23.097192764282227, -0.5264502763748169, -20.506460189819336, 1.5228475332260132, 0.6229628324508667, -21.03496551513672, 1.7500237226486206, 0.15693974494934082, -2.1227753162384033, 16.468730926513672, -16.708297729492188, 32.793827056884766, -8.087067604064941, -64.4951400756836, 10.402259826660156, 16.082656860351562, -33.14274978637695, -25.572338104248047, -11.453144073486328, -12.673238754272461, 1.0576286315917969, 10.773589134216309, 3.7740888595581055, -14.195639610290527, -35.133514404296875, -13.180327415466309, -5.368241786956787, 15.188639640808105, 7.924132347106934, 26.149030685424805, -20.478487014770508, -16.288780212402344, -0.2595553398132324, -9.390742301940918, -16.580768585205078, -19.956022262573242, 1.7532823085784912, 6.970976829528809, 33.381710052490234], \"y\": [28.200271606445312, -10.159319877624512, -31.861499786376953, 19.772188186645508, 18.05179214477539, -31.000932693481445, -26.18259048461914, 9.586624145507812, 0.9408184289932251, -2.459398031234741, -13.29138469696045, -27.776687622070312, -1.321563720703125, 1.0561809539794922, -19.551576614379883, -21.089611053466797, 0.8712317943572998, -38.504791259765625, -2.2241644859313965, 28.581594467163086, 19.533519744873047, -28.37994384765625, -33.88177490234375, 16.997316360473633, -19.180858612060547, 29.87217903137207, 5.388037204742432, 5.894099712371826, -14.32213020324707, 9.83974552154541, 28.14579963684082, -17.326194763183594, 37.552555084228516, -15.579249382019043, 20.44489097595215, -28.17951202392578, -11.01443099975586, -36.711788177490234, -21.684406280517578, -5.191462516784668, 2.4235405921936035, 19.5524845123291, -21.38707733154297, -24.389589309692383, -7.907264709472656, -4.978616714477539, -14.906881332397461, -2.308816432952881, -32.48134994506836, 36.4105110168457, 4.389291763305664, -38.0097541809082, 1.1876987218856812, 40.73971939086914, 15.067594528198242, 15.701761245727539, 34.67240524291992, 25.10228729248047, -3.6378650665283203, -14.273575782775879, 16.76898956298828, 23.85988998413086, -31.70090675354004, -22.113431930541992, 20.80821990966797, 28.351226806640625, -31.780725479125977, -6.485334396362305, 34.07459259033203, 0.42955997586250305, -30.82329750061035, 30.99334716796875, -23.2517147064209, 33.706241607666016, 14.49933910369873, -32.433956146240234, 20.77708625793457, 19.455745697021484, 30.45807647705078, -22.54670524597168, -37.59484100341797, -3.7966525554656982, -25.838909149169922, -22.081253051757812, -36.10100173950195, 22.103944778442383, 5.144248008728027, 2.4294652938842773, -29.692907333374023, -4.1819167137146, -35.13793182373047, 40.025169372558594, 24.965126037597656, -32.105857849121094, 8.813606262207031, -12.367501258850098, 2.6793882846832275, -26.870115280151367, 2.86470890045166, 31.84398078918457, -9.813952445983887, 1.0405290126800537, 14.884310722351074, 25.454931259155273, 24.390012741088867, -60.25160217285156], \"z\": [-4.950960159301758, -3.8119800090789795, -13.057583808898926, -4.615029811859131, -3.4719700813293457, 1.1945838928222656, -7.27700662612915, -41.871673583984375, 10.400651931762695, 12.687010765075684, -22.600948333740234, -14.908946990966797, -35.36684799194336, 18.695476531982422, -14.711153030395508, -7.851142406463623, 7.8021979331970215, -10.11655330657959, 23.276575088500977, 15.139469146728516, 33.46267318725586, -14.300259590148926, -21.719274520874023, -6.30016565322876, 30.327871322631836, -13.95661449432373, -32.4907341003418, 35.7867317199707, -3.3389039039611816, 12.14349365234375, -16.529285430908203, 23.68992042541504, -11.06197452545166, 18.24269676208496, 20.03379249572754, 24.025358200073242, -16.86874771118164, -15.392500877380371, -28.800621032714844, 42.09877014160156, 9.837996482849121, 7.085812091827393, 18.375186920166016, 18.03493881225586, 21.634748458862305, -26.204952239990234, 19.80584144592285, -21.897571563720703, 16.811065673828125, -11.105313301086426, -24.614727020263672, -28.840492248535156, 21.10658836364746, -12.763696670532227, -16.376611709594727, -20.495702743530273, -10.607813835144043, 23.147502899169922, -17.102333068847656, 19.833070755004883, 5.303028106689453, -5.903030872344971, 16.42306900024414, -3.847114324569702, -24.845691680908203, -11.748297691345215, 22.645095825195312, -28.83568572998047, 24.558191299438477, 21.175867080688477, 11.092366218566895, 32.44044876098633, 17.214122772216797, -16.764755249023438, -18.39082908630371, -5.828402996063232, 31.593090057373047, 1.8846194744110107, -15.595630645751953, 5.058797836303711, -13.073055267333984, 20.94780921936035, -5.611969947814941, 18.2047176361084, -16.062042236328125, 0.43584731221199036, 15.768383979797363, 33.389949798583984, 23.68901824951172, 29.980247497558594, 26.67324447631836, -12.392383575439453, 10.52178955078125, 1.889743447303772, 32.801448822021484, 32.45029067993164, -28.840606689453125, -0.4883566200733185, 19.078536987304688, 14.999964714050293, 25.805194854736328, 22.94367027282715, -43.82991409301758, 14.081329345703125, -10.035035133361816, -28.51333236694336]}],                        {\"legend\": {\"tracegroupgap\": 0}, \"margin\": {\"t\": 60}, \"scene\": {\"domain\": {\"x\": [0.0, 1.0], \"y\": [0.0, 1.0]}, \"xaxis\": {\"title\": {\"text\": \"x0\"}}, \"yaxis\": {\"title\": {\"text\": \"x1\"}}, \"zaxis\": {\"title\": {\"text\": \"x2\"}}}, \"template\": {\"data\": {\"bar\": [{\"error_x\": {\"color\": \"#2a3f5f\"}, \"error_y\": {\"color\": \"#2a3f5f\"}, \"marker\": {\"line\": {\"color\": \"#E5ECF6\", \"width\": 0.5}}, \"type\": \"bar\"}], \"barpolar\": [{\"marker\": {\"line\": {\"color\": \"#E5ECF6\", \"width\": 0.5}}, \"type\": \"barpolar\"}], \"carpet\": [{\"aaxis\": {\"endlinecolor\": \"#2a3f5f\", \"gridcolor\": \"white\", \"linecolor\": \"white\", \"minorgridcolor\": \"white\", \"startlinecolor\": \"#2a3f5f\"}, \"baxis\": {\"endlinecolor\": \"#2a3f5f\", \"gridcolor\": \"white\", \"linecolor\": \"white\", \"minorgridcolor\": \"white\", \"startlinecolor\": \"#2a3f5f\"}, \"type\": \"carpet\"}], \"choropleth\": [{\"colorbar\": {\"outlinewidth\": 0, \"ticks\": \"\"}, \"type\": \"choropleth\"}], \"contour\": [{\"colorbar\": {\"outlinewidth\": 0, \"ticks\": \"\"}, \"colorscale\": [[0.0, \"#0d0887\"], [0.1111111111111111, \"#46039f\"], [0.2222222222222222, \"#7201a8\"], [0.3333333333333333, \"#9c179e\"], [0.4444444444444444, \"#bd3786\"], [0.5555555555555556, \"#d8576b\"], [0.6666666666666666, \"#ed7953\"], [0.7777777777777778, \"#fb9f3a\"], [0.8888888888888888, \"#fdca26\"], [1.0, \"#f0f921\"]], \"type\": \"contour\"}], \"contourcarpet\": [{\"colorbar\": {\"outlinewidth\": 0, \"ticks\": \"\"}, \"type\": \"contourcarpet\"}], \"heatmap\": [{\"colorbar\": {\"outlinewidth\": 0, \"ticks\": \"\"}, \"colorscale\": [[0.0, \"#0d0887\"], [0.1111111111111111, \"#46039f\"], [0.2222222222222222, \"#7201a8\"], [0.3333333333333333, \"#9c179e\"], [0.4444444444444444, \"#bd3786\"], [0.5555555555555556, \"#d8576b\"], [0.6666666666666666, \"#ed7953\"], [0.7777777777777778, \"#fb9f3a\"], [0.8888888888888888, \"#fdca26\"], [1.0, \"#f0f921\"]], \"type\": \"heatmap\"}], \"heatmapgl\": [{\"colorbar\": {\"outlinewidth\": 0, \"ticks\": \"\"}, \"colorscale\": [[0.0, \"#0d0887\"], [0.1111111111111111, \"#46039f\"], [0.2222222222222222, \"#7201a8\"], [0.3333333333333333, \"#9c179e\"], [0.4444444444444444, \"#bd3786\"], [0.5555555555555556, \"#d8576b\"], [0.6666666666666666, \"#ed7953\"], [0.7777777777777778, \"#fb9f3a\"], [0.8888888888888888, \"#fdca26\"], [1.0, \"#f0f921\"]], \"type\": \"heatmapgl\"}], \"histogram\": [{\"marker\": {\"colorbar\": {\"outlinewidth\": 0, \"ticks\": \"\"}}, \"type\": \"histogram\"}], \"histogram2d\": [{\"colorbar\": {\"outlinewidth\": 0, \"ticks\": \"\"}, \"colorscale\": [[0.0, \"#0d0887\"], [0.1111111111111111, \"#46039f\"], [0.2222222222222222, \"#7201a8\"], [0.3333333333333333, \"#9c179e\"], [0.4444444444444444, \"#bd3786\"], [0.5555555555555556, \"#d8576b\"], [0.6666666666666666, \"#ed7953\"], [0.7777777777777778, \"#fb9f3a\"], [0.8888888888888888, \"#fdca26\"], [1.0, \"#f0f921\"]], \"type\": \"histogram2d\"}], \"histogram2dcontour\": [{\"colorbar\": {\"outlinewidth\": 0, \"ticks\": \"\"}, \"colorscale\": [[0.0, \"#0d0887\"], [0.1111111111111111, \"#46039f\"], [0.2222222222222222, \"#7201a8\"], [0.3333333333333333, \"#9c179e\"], [0.4444444444444444, \"#bd3786\"], [0.5555555555555556, \"#d8576b\"], [0.6666666666666666, \"#ed7953\"], [0.7777777777777778, \"#fb9f3a\"], [0.8888888888888888, \"#fdca26\"], [1.0, \"#f0f921\"]], \"type\": \"histogram2dcontour\"}], \"mesh3d\": [{\"colorbar\": {\"outlinewidth\": 0, \"ticks\": \"\"}, \"type\": \"mesh3d\"}], \"parcoords\": [{\"line\": {\"colorbar\": {\"outlinewidth\": 0, \"ticks\": \"\"}}, \"type\": \"parcoords\"}], \"pie\": [{\"automargin\": true, \"type\": \"pie\"}], \"scatter\": [{\"marker\": {\"colorbar\": {\"outlinewidth\": 0, \"ticks\": \"\"}}, \"type\": \"scatter\"}], \"scatter3d\": [{\"line\": {\"colorbar\": {\"outlinewidth\": 0, \"ticks\": \"\"}}, \"marker\": {\"colorbar\": {\"outlinewidth\": 0, \"ticks\": \"\"}}, \"type\": \"scatter3d\"}], \"scattercarpet\": [{\"marker\": {\"colorbar\": {\"outlinewidth\": 0, \"ticks\": \"\"}}, \"type\": \"scattercarpet\"}], \"scattergeo\": [{\"marker\": {\"colorbar\": {\"outlinewidth\": 0, \"ticks\": \"\"}}, \"type\": \"scattergeo\"}], \"scattergl\": [{\"marker\": {\"colorbar\": {\"outlinewidth\": 0, \"ticks\": \"\"}}, \"type\": \"scattergl\"}], \"scattermapbox\": [{\"marker\": {\"colorbar\": {\"outlinewidth\": 0, \"ticks\": \"\"}}, \"type\": \"scattermapbox\"}], \"scatterpolar\": [{\"marker\": {\"colorbar\": {\"outlinewidth\": 0, \"ticks\": \"\"}}, \"type\": \"scatterpolar\"}], \"scatterpolargl\": [{\"marker\": {\"colorbar\": {\"outlinewidth\": 0, \"ticks\": \"\"}}, \"type\": \"scatterpolargl\"}], \"scatterternary\": [{\"marker\": {\"colorbar\": {\"outlinewidth\": 0, \"ticks\": \"\"}}, \"type\": \"scatterternary\"}], \"surface\": [{\"colorbar\": {\"outlinewidth\": 0, \"ticks\": \"\"}, \"colorscale\": [[0.0, \"#0d0887\"], [0.1111111111111111, \"#46039f\"], [0.2222222222222222, \"#7201a8\"], [0.3333333333333333, \"#9c179e\"], [0.4444444444444444, \"#bd3786\"], [0.5555555555555556, \"#d8576b\"], [0.6666666666666666, \"#ed7953\"], [0.7777777777777778, \"#fb9f3a\"], [0.8888888888888888, \"#fdca26\"], [1.0, \"#f0f921\"]], \"type\": \"surface\"}], \"table\": [{\"cells\": {\"fill\": {\"color\": \"#EBF0F8\"}, \"line\": {\"color\": \"white\"}}, \"header\": {\"fill\": {\"color\": \"#C8D4E3\"}, \"line\": {\"color\": \"white\"}}, \"type\": \"table\"}]}, \"layout\": {\"annotationdefaults\": {\"arrowcolor\": \"#2a3f5f\", \"arrowhead\": 0, \"arrowwidth\": 1}, \"autotypenumbers\": \"strict\", \"coloraxis\": {\"colorbar\": {\"outlinewidth\": 0, \"ticks\": \"\"}}, \"colorscale\": {\"diverging\": [[0, \"#8e0152\"], [0.1, \"#c51b7d\"], [0.2, \"#de77ae\"], [0.3, \"#f1b6da\"], [0.4, \"#fde0ef\"], [0.5, \"#f7f7f7\"], [0.6, \"#e6f5d0\"], [0.7, \"#b8e186\"], [0.8, \"#7fbc41\"], [0.9, \"#4d9221\"], [1, \"#276419\"]], \"sequential\": [[0.0, \"#0d0887\"], [0.1111111111111111, \"#46039f\"], [0.2222222222222222, \"#7201a8\"], [0.3333333333333333, \"#9c179e\"], [0.4444444444444444, \"#bd3786\"], [0.5555555555555556, \"#d8576b\"], [0.6666666666666666, \"#ed7953\"], [0.7777777777777778, \"#fb9f3a\"], [0.8888888888888888, \"#fdca26\"], [1.0, \"#f0f921\"]], \"sequentialminus\": [[0.0, \"#0d0887\"], [0.1111111111111111, \"#46039f\"], [0.2222222222222222, \"#7201a8\"], [0.3333333333333333, \"#9c179e\"], [0.4444444444444444, \"#bd3786\"], [0.5555555555555556, \"#d8576b\"], [0.6666666666666666, \"#ed7953\"], [0.7777777777777778, \"#fb9f3a\"], [0.8888888888888888, \"#fdca26\"], [1.0, \"#f0f921\"]]}, \"colorway\": [\"#636efa\", \"#EF553B\", \"#00cc96\", \"#ab63fa\", \"#FFA15A\", \"#19d3f3\", \"#FF6692\", \"#B6E880\", \"#FF97FF\", \"#FECB52\"], \"font\": {\"color\": \"#2a3f5f\"}, \"geo\": {\"bgcolor\": \"white\", \"lakecolor\": \"white\", \"landcolor\": \"#E5ECF6\", \"showlakes\": true, \"showland\": true, \"subunitcolor\": \"white\"}, \"hoverlabel\": {\"align\": \"left\"}, \"hovermode\": \"closest\", \"mapbox\": {\"style\": \"light\"}, \"paper_bgcolor\": \"white\", \"plot_bgcolor\": \"#E5ECF6\", \"polar\": {\"angularaxis\": {\"gridcolor\": \"white\", \"linecolor\": \"white\", \"ticks\": \"\"}, \"bgcolor\": \"#E5ECF6\", \"radialaxis\": {\"gridcolor\": \"white\", \"linecolor\": \"white\", \"ticks\": \"\"}}, \"scene\": {\"xaxis\": {\"backgroundcolor\": \"#E5ECF6\", \"gridcolor\": \"white\", \"gridwidth\": 2, \"linecolor\": \"white\", \"showbackground\": true, \"ticks\": \"\", \"zerolinecolor\": \"white\"}, \"yaxis\": {\"backgroundcolor\": \"#E5ECF6\", \"gridcolor\": \"white\", \"gridwidth\": 2, \"linecolor\": \"white\", \"showbackground\": true, \"ticks\": \"\", \"zerolinecolor\": \"white\"}, \"zaxis\": {\"backgroundcolor\": \"#E5ECF6\", \"gridcolor\": \"white\", \"gridwidth\": 2, \"linecolor\": \"white\", \"showbackground\": true, \"ticks\": \"\", \"zerolinecolor\": \"white\"}}, \"shapedefaults\": {\"line\": {\"color\": \"#2a3f5f\"}}, \"ternary\": {\"aaxis\": {\"gridcolor\": \"white\", \"linecolor\": \"white\", \"ticks\": \"\"}, \"baxis\": {\"gridcolor\": \"white\", \"linecolor\": \"white\", \"ticks\": \"\"}, \"bgcolor\": \"#E5ECF6\", \"caxis\": {\"gridcolor\": \"white\", \"linecolor\": \"white\", \"ticks\": \"\"}}, \"title\": {\"x\": 0.05}, \"xaxis\": {\"automargin\": true, \"gridcolor\": \"white\", \"linecolor\": \"white\", \"ticks\": \"\", \"title\": {\"standoff\": 15}, \"zerolinecolor\": \"white\", \"zerolinewidth\": 2}, \"yaxis\": {\"automargin\": true, \"gridcolor\": \"white\", \"linecolor\": \"white\", \"ticks\": \"\", \"title\": {\"standoff\": 15}, \"zerolinecolor\": \"white\", \"zerolinewidth\": 2}}}},                        {\"responsive\": true}                    ).then(function(){\n",
       "                            \n",
       "var gd = document.getElementById('23484f29-9a13-48a0-bf53-d9897a25a4c0');\n",
       "var x = new MutationObserver(function (mutations, observer) {{\n",
       "        var display = window.getComputedStyle(gd).display;\n",
       "        if (!display || display === 'none') {{\n",
       "            console.log([gd, 'removed!']);\n",
       "            Plotly.purge(gd);\n",
       "            observer.disconnect();\n",
       "        }}\n",
       "}});\n",
       "\n",
       "// Listen for the removal of the full notebook cells\n",
       "var notebookContainer = gd.closest('#notebook-container');\n",
       "if (notebookContainer) {{\n",
       "    x.observe(notebookContainer, {childList: true});\n",
       "}}\n",
       "\n",
       "// Listen for the clearing of the current output cell\n",
       "var outputEl = gd.closest('.output');\n",
       "if (outputEl) {{\n",
       "    x.observe(outputEl, {childList: true});\n",
       "}}\n",
       "\n",
       "                        })                };                });            </script>        </div>"
      ]
     },
     "metadata": {},
     "output_type": "display_data"
    }
   ],
   "source": [
    "print(f'Number of points: {db_sample_df.shape}')\n",
    "\n",
    "fig = px.scatter_3d(db_sample_df[:1000], x='x0', y='x1', z='x2')\n",
    "fig.show()"
   ]
  },
  {
   "cell_type": "code",
   "execution_count": 41,
   "metadata": {},
   "outputs": [],
   "source": [
    "embedding_model_multi = nn.Sequential(model_auto.decoder,\n",
    "                    LambdaLayer(lambda x: x.reshape(-1, 1, 28, 28)),\n",
    "                    model)"
   ]
  },
  {
   "cell_type": "code",
   "execution_count": 44,
   "metadata": {},
   "outputs": [
    {
     "data": {
      "text/plain": [
       "Sequential(\n",
       "  (0): Sequential(\n",
       "    (0): Linear(in_features=3, out_features=12, bias=True)\n",
       "    (1): ReLU(inplace=True)\n",
       "    (2): Linear(in_features=12, out_features=64, bias=True)\n",
       "    (3): ReLU(inplace=True)\n",
       "    (4): Linear(in_features=64, out_features=128, bias=True)\n",
       "    (5): ReLU(inplace=True)\n",
       "    (6): Linear(in_features=128, out_features=784, bias=True)\n",
       "    (7): Tanh()\n",
       "  )\n",
       "  (1): LambdaLayer()\n",
       "  (2): Net(\n",
       "    (conv1): Conv2d(1, 32, kernel_size=(3, 3), stride=(1, 1))\n",
       "    (conv2): Conv2d(32, 64, kernel_size=(3, 3), stride=(1, 1))\n",
       "    (dropout1): Dropout(p=0.25, inplace=False)\n",
       "    (dropout2): Dropout(p=0.5, inplace=False)\n",
       "    (fc1): Linear(in_features=9216, out_features=128, bias=True)\n",
       "    (fc2): Linear(in_features=128, out_features=10, bias=True)\n",
       "  )\n",
       ")"
      ]
     },
     "execution_count": 44,
     "metadata": {},
     "output_type": "execute_result"
    }
   ],
   "source": [
    "embedding_model_multi.to('cpu')"
   ]
  },
  {
   "cell_type": "code",
   "execution_count": 45,
   "metadata": {},
   "outputs": [],
   "source": [
    "db_tensor = torch.tensor(db_sample_df.values)\n",
    "db_tensor_logit = embedding_model_multi(db_tensor)\n",
    "max_top2 = torch.topk(db_tensor_logit, 2).indices.max(axis=1)\n",
    "db_class = {}\n",
    "for digit_class in range(10):\n",
    "    db_class[digit_class] = {}\n",
    "    db_class[digit_class]['tensor'] = max_top2.values == digit_class\n",
    "    db_class[digit_class]['idx'] = torch.nonzero(db_class[digit_class]['tensor'])"
   ]
  },
  {
   "cell_type": "code",
   "execution_count": 46,
   "metadata": {},
   "outputs": [],
   "source": [
    "db_sample_class_df = pd.DataFrame(columns=['class'])\n",
    "\n",
    "for digit_class in range(10):\n",
    "    db_sample_class_df = db_sample_class_df.append(pd.DataFrame(db_class[digit_class]['idx'][:,0].shape[0]*[digit_class], columns=['class'], index=db_class[digit_class]['idx'][:,0].numpy()))"
   ]
  },
  {
   "cell_type": "code",
   "execution_count": null,
   "metadata": {},
   "outputs": [],
   "source": [
    "db_sample_normal_df = pd.DataFrame(columns = [\"dx\"+str(i) for i in range(3)])\n",
    "\n",
    "for digit_class in range(10):\n",
    "    x = db_tensor[db_class[digit_class]['tensor']]\n",
    "    if x.shape[0] != 0:\n",
    "        x.requires_grad = False\n",
    "        delta = torch.zeros_like(x, requires_grad=True)\n",
    "        loss = torch.sum(embedding_model_multi(x + delta)[:, digit_class])\n",
    "        loss.backward()\n",
    "        x_gradient = delta.grad.detach().numpy()\n",
    "        x_norm = x_gradient/np.sqrt((x_gradient**2).sum(axis=1, keepdims=True))\n",
    "\n",
    "        db_sample_normal_df = db_sample_normal_df.append(\n",
    "            pd.DataFrame(data=x_norm,\n",
    "                columns = [\"dx\"+str(i) for i in range(3)],\n",
    "                index=db_class[digit_class]['idx'].numpy()[:,0])\n",
    "        )"
   ]
  },
  {
   "cell_type": "code",
   "execution_count": null,
   "metadata": {},
   "outputs": [],
   "source": [
    "db_mesh_input = pd.concat([db_sample_df, db_sample_normal_df, db_sample_class_df], axis=1, join='inner')"
   ]
  }
 ],
 "metadata": {
  "kernelspec": {
   "display_name": "Python [conda env:giottodeep]",
   "language": "python",
   "name": "conda-env-giottodeep-py"
  },
  "language_info": {
   "codemirror_mode": {
    "name": "ipython",
    "version": 3
   },
   "file_extension": ".py",
   "mimetype": "text/x-python",
   "name": "python",
   "nbconvert_exporter": "python",
   "pygments_lexer": "ipython3",
   "version": "3.8.6"
  }
 },
 "nbformat": 4,
 "nbformat_minor": 2
}
