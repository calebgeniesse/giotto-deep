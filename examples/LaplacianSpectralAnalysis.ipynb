{
 "cells": [
  {
   "cell_type": "code",
   "execution_count": 215,
   "id": "e191750e",
   "metadata": {},
   "outputs": [],
   "source": [
    "from gdeep.topactivation import TopactivationFC as TFC\n",
    "from gdeep.pipeline import Pipeline\n",
    "from torch.utils.tensorboard import SummaryWriter\n",
    "\n",
    "from gdeep.models import FFNet\n",
    "from torch import nn\n",
    "import torch\n",
    "from gdeep.data import TorchDataLoader"
   ]
  },
  {
   "cell_type": "code",
   "execution_count": 216,
   "id": "da25024f",
   "metadata": {},
   "outputs": [
    {
     "name": "stdout",
     "output_type": "stream",
     "text": [
      "\u001b[33mDEPRECATION: Configuring installation scheme with distutils config files is deprecated and will no longer work in the near future. If you are using a Homebrew or Linuxbrew Python, please see discussion at https://github.com/Homebrew/homebrew-core/issues/76621\u001b[0m\u001b[33m\n",
      "\u001b[0mRequirement already satisfied: xitorch in /home/linuxbrew/.linuxbrew/lib/python3.9/site-packages (0.3.0)\n",
      "Requirement already satisfied: numpy>=1.8.2 in /home/linuxbrew/.linuxbrew/lib/python3.9/site-packages (from xitorch) (1.22.3)\n",
      "Requirement already satisfied: scipy>=1.1.0 in /home/linuxbrew/.linuxbrew/lib/python3.9/site-packages (from xitorch) (1.8.0)\n",
      "Requirement already satisfied: torch>=1.8 in /home/linuxbrew/.linuxbrew/lib/python3.9/site-packages (from xitorch) (1.11.0)\n",
      "Requirement already satisfied: typing-extensions in /home/linuxbrew/.linuxbrew/lib/python3.9/site-packages (from torch>=1.8->xitorch) (4.1.1)\n",
      "\u001b[33mDEPRECATION: Configuring installation scheme with distutils config files is deprecated and will no longer work in the near future. If you are using a Homebrew or Linuxbrew Python, please see discussion at https://github.com/Homebrew/homebrew-core/issues/76621\u001b[0m\u001b[33m\n",
      "\u001b[0mUsing GPU!\n"
     ]
    }
   ],
   "source": [
    "!pip3 install xitorch\n",
    "from gdeep.models import ModelExtractor\n",
    "from gdeep.topactivation.spectral_analysisTorch import LaplacianOperator\n",
    "import matplotlib.pyplot as plt \n",
    "\n",
    "if torch.cuda.is_available():\n",
    "    DEVICE = torch.device(\"cuda\")\n",
    "    print(\"Using GPU!\")\n",
    "else:\n",
    "    DEVICE = torch.device(\"cpu\")\n"
   ]
  },
  {
   "cell_type": "code",
   "execution_count": 217,
   "id": "a10527a5",
   "metadata": {},
   "outputs": [],
   "source": [
    "writer = SummaryWriter()\n",
    "dl = TorchDataLoader(name=\"MNIST\")\n",
    "dl_tr, dl_ts = dl.build_dataloaders(batch_size=32)\n",
    "\n",
    "arch = [28*28, 50, 50, 10]\n",
    "model = nn.Sequential(nn.Flatten(), FFNet(arch,bias=False ))\n",
    "loss_fn = nn.CrossEntropyLoss()\n",
    "pipe = Pipeline(model, (dl_tr, dl_ts), loss_fn, writer)\n",
    "\n",
    "\n",
    "#cpu = torch.ones(1).device\n",
    "\n",
    "me = ModelExtractor(pipe.model, pipe.loss_fn)\n",
    "weights = list(me.get_layers_param().values())\n",
    "#weights = [layer.to(cpu) for layer in weights]\n",
    "lapOp = LaplacianOperator(weights)"
   ]
  },
  {
   "cell_type": "code",
   "execution_count": 212,
   "id": "799b5f64",
   "metadata": {
    "scrolled": true
   },
   "outputs": [],
   "source": [
    "u,v=lapOp.diagonalize()"
   ]
  },
  {
   "cell_type": "markdown",
   "id": "d1eaac97",
   "metadata": {},
   "source": [
    "# Spectrum with no training "
   ]
  },
  {
   "cell_type": "code",
   "execution_count": 213,
   "id": "56421007",
   "metadata": {},
   "outputs": [
    {
     "data": {
      "image/png": "[encoded data removed]",
      "text/plain": [
       "<Figure size 432x288 with 1 Axes>"
      ]
     },
     "metadata": {
      "needs_background": "light"
     },
     "output_type": "display_data"
    }
   ],
   "source": [
    "u = u.to('cpu')\n",
    "plt.hist(u.numpy(),bins=300)\n",
    "plt.show()"
   ]
  },
  {
   "cell_type": "markdown",
   "id": "961cdfc4",
   "metadata": {},
   "source": [
    "# Training the model "
   ]
  },
  {
   "cell_type": "code",
   "execution_count": 214,
   "id": "f9339be9",
   "metadata": {},
   "outputs": [
    {
     "name": "stdout",
     "output_type": "stream",
     "text": [
      "Epoch 1\n",
      "-------------------------------\n",
      "Batch training loss:  0.9478217343456434  \tBatch training accuracy:  73.00174760853568  \t[ 1359 / 1500 ]                     \r"
     ]
    },
    {
     "ename": "KeyboardInterrupt",
     "evalue": "",
     "output_type": "error",
     "traceback": [
      "\u001b[0;31m---------------------------------------------------------------------------\u001b[0m",
      "\u001b[0;31mKeyboardInterrupt\u001b[0m                         Traceback (most recent call last)",
      "Input \u001b[0;32mIn [214]\u001b[0m, in \u001b[0;36m<cell line: 2>\u001b[0;34m()\u001b[0m\n\u001b[1;32m      1\u001b[0m optimizer \u001b[38;5;241m=\u001b[39m torch\u001b[38;5;241m.\u001b[39moptim\u001b[38;5;241m.\u001b[39mSGD\n\u001b[0;32m----> 2\u001b[0m \u001b[43mpipe\u001b[49m\u001b[38;5;241;43m.\u001b[39;49m\u001b[43mtrain\u001b[49m\u001b[43m(\u001b[49m\u001b[43moptimizer\u001b[49m\u001b[43m,\u001b[49m\u001b[43m \u001b[49m\u001b[38;5;241;43m1\u001b[39;49m\u001b[43m,\u001b[49m\u001b[43m \u001b[49m\u001b[38;5;28;43;01mFalse\u001b[39;49;00m\u001b[43m,\u001b[49m\u001b[43m \u001b[49m\u001b[43m{\u001b[49m\u001b[38;5;124;43m\"\u001b[39;49m\u001b[38;5;124;43mlr\u001b[39;49m\u001b[38;5;124;43m\"\u001b[39;49m\u001b[43m:\u001b[49m\u001b[43m \u001b[49m\u001b[38;5;241;43m0.1\u001b[39;49m\u001b[43m}\u001b[49m\u001b[43m,\u001b[49m\u001b[43m \u001b[49m\u001b[43mn_accumulated_grads\u001b[49m\u001b[38;5;241;43m=\u001b[39;49m\u001b[38;5;241;43m5\u001b[39;49m\u001b[43m)\u001b[49m\n",
      "File \u001b[0;32m~/Documents/giotto-deep/gdeep/pipeline/pipeline.py:660\u001b[0m, in \u001b[0;36mPipeline.train\u001b[0;34m(self, optimizer, n_epochs, cross_validation, optimizers_param, dataloaders_param, lr_scheduler, scheduler_params, optuna_params, profiling, parallel_tpu, keep_training, store_grad_layer_hist, n_accumulated_grads, writer_tag)\u001b[0m\n\u001b[1;32m    655\u001b[0m \u001b[38;5;28mself\u001b[39m\u001b[38;5;241m.\u001b[39m_init_optimizer_and_scheduler(keep_training, cross_validation,\n\u001b[1;32m    656\u001b[0m                                    optimizer, optimizers_param,\n\u001b[1;32m    657\u001b[0m                                    lr_scheduler, scheduler_params)\n\u001b[1;32m    659\u001b[0m \u001b[38;5;28;01mif\u001b[39;00m parallel_tpu \u001b[38;5;241m==\u001b[39m \u001b[38;5;28;01mFalse\u001b[39;00m:\n\u001b[0;32m--> 660\u001b[0m     valloss, valacc \u001b[38;5;241m=\u001b[39m \u001b[38;5;28;43mself\u001b[39;49m\u001b[38;5;241;43m.\u001b[39;49m\u001b[43m_training_loops\u001b[49m\u001b[43m(\u001b[49m\u001b[43mn_epochs\u001b[49m\u001b[43m,\u001b[49m\u001b[43m \u001b[49m\u001b[43mdl_tr\u001b[49m\u001b[43m,\u001b[49m\n\u001b[1;32m    661\u001b[0m \u001b[43m                                       \u001b[49m\u001b[43mdl_val\u001b[49m\u001b[43m,\u001b[49m\u001b[43m \u001b[49m\u001b[43mlr_scheduler\u001b[49m\u001b[43m,\u001b[49m\u001b[43m \u001b[49m\u001b[38;5;28;43mself\u001b[39;49m\u001b[38;5;241;43m.\u001b[39;49m\u001b[43mscheduler\u001b[49m\u001b[43m,\u001b[49m\n\u001b[1;32m    662\u001b[0m \u001b[43m                                       \u001b[49m\u001b[43mprof\u001b[49m\u001b[43m,\u001b[49m\u001b[43m \u001b[49m\u001b[43mcheck_optuna\u001b[49m\u001b[43m,\u001b[49m\u001b[43m \u001b[49m\u001b[43msearch_metric\u001b[49m\u001b[43m,\u001b[49m\n\u001b[1;32m    663\u001b[0m \u001b[43m                                       \u001b[49m\u001b[43mtrial\u001b[49m\u001b[43m,\u001b[49m\u001b[43m \u001b[49m\u001b[38;5;241;43m0\u001b[39;49m\u001b[43m,\u001b[49m\u001b[43m \u001b[49m\u001b[43mwriter_tag\u001b[49m\u001b[43m)\u001b[49m\n\u001b[1;32m    664\u001b[0m \u001b[38;5;28;01melse\u001b[39;00m:\n\u001b[1;32m    665\u001b[0m     valloss, valacc \u001b[38;5;241m=\u001b[39m \u001b[38;5;28mself\u001b[39m\u001b[38;5;241m.\u001b[39mparallel_tpu_training_loops(n_epochs, dl_tr,\n\u001b[1;32m    666\u001b[0m                                        dl_val, optimizers_param, lr_scheduler,\n\u001b[1;32m    667\u001b[0m                                        \u001b[38;5;28mself\u001b[39m\u001b[38;5;241m.\u001b[39mscheduler,\n\u001b[1;32m    668\u001b[0m                                        prof, check_optuna, search_metric,\n\u001b[1;32m    669\u001b[0m                                        trial, \u001b[38;5;241m0\u001b[39m)\n",
      "File \u001b[0;32m~/Documents/giotto-deep/gdeep/pipeline/pipeline.py:731\u001b[0m, in \u001b[0;36mPipeline._training_loops\u001b[0;34m(self, n_epochs, dl_tr, dl_val, lr_scheduler, scheduler, prof, check_optuna, search_metric, trial, cross_validation, writer_tag)\u001b[0m\n\u001b[1;32m    729\u001b[0m \u001b[38;5;28mself\u001b[39m\u001b[38;5;241m.\u001b[39mval_epoch \u001b[38;5;241m=\u001b[39m t\n\u001b[1;32m    730\u001b[0m \u001b[38;5;28mself\u001b[39m\u001b[38;5;241m.\u001b[39mtrain_epoch \u001b[38;5;241m=\u001b[39m t\n\u001b[0;32m--> 731\u001b[0m \u001b[38;5;28;43mself\u001b[39;49m\u001b[38;5;241;43m.\u001b[39;49m\u001b[43m_train_loop\u001b[49m\u001b[43m(\u001b[49m\u001b[43mdl_tr\u001b[49m\u001b[43m,\u001b[49m\u001b[43m \u001b[49m\u001b[43mwriter_tag\u001b[49m\u001b[43m)\u001b[49m\n\u001b[1;32m    732\u001b[0m me \u001b[38;5;241m=\u001b[39m ModelExtractor(\u001b[38;5;28mself\u001b[39m\u001b[38;5;241m.\u001b[39mmodel, \u001b[38;5;28mself\u001b[39m\u001b[38;5;241m.\u001b[39mloss_fn)\n\u001b[1;32m    733\u001b[0m \u001b[38;5;28;01mif\u001b[39;00m \u001b[38;5;28mself\u001b[39m\u001b[38;5;241m.\u001b[39mstore_grad_layer_hist:\n",
      "File \u001b[0;32m~/Documents/giotto-deep/gdeep/pipeline/pipeline.py:260\u001b[0m, in \u001b[0;36mPipeline._train_loop\u001b[0;34m(self, dl_tr, writer_tag)\u001b[0m\n\u001b[1;32m    257\u001b[0m tik \u001b[38;5;241m=\u001b[39m time\u001b[38;5;241m.\u001b[39mtime()\n\u001b[1;32m    258\u001b[0m \u001b[38;5;28;01massert\u001b[39;00m \u001b[38;5;28mself\u001b[39m\u001b[38;5;241m.\u001b[39mn_accumulated_grads \u001b[38;5;241m<\u001b[39m\u001b[38;5;241m=\u001b[39m steps, \u001b[38;5;124m\"\u001b[39m\u001b[38;5;124mThe number of\u001b[39m\u001b[38;5;124m\"\u001b[39m \u001b[38;5;241m+\u001b[39m \\\n\u001b[1;32m    259\u001b[0m                                           \u001b[38;5;124m\"\u001b[39m\u001b[38;5;124m accumulated gradients shall be diminished!\u001b[39m\u001b[38;5;124m\"\u001b[39m\n\u001b[0;32m--> 260\u001b[0m correct, t_loss \u001b[38;5;241m=\u001b[39m \u001b[38;5;28;43mself\u001b[39;49m\u001b[38;5;241;43m.\u001b[39;49m\u001b[43m_inner_train_loop\u001b[49m\u001b[43m(\u001b[49m\u001b[43mdl_tr\u001b[49m\u001b[43m,\u001b[49m\u001b[43m \u001b[49m\n\u001b[1;32m    261\u001b[0m \u001b[43m                                         \u001b[49m\u001b[43mwriter_tag\u001b[49m\u001b[43m,\u001b[49m\n\u001b[1;32m    262\u001b[0m \u001b[43m                                         \u001b[49m\u001b[43msize\u001b[49m\u001b[43m,\u001b[49m\u001b[43m \u001b[49m\u001b[43msteps\u001b[49m\u001b[43m,\u001b[49m\n\u001b[1;32m    263\u001b[0m \u001b[43m                                         \u001b[49m\u001b[43mloss\u001b[49m\u001b[43m,\u001b[49m\n\u001b[1;32m    264\u001b[0m \u001b[43m                                         \u001b[49m\u001b[43mt_loss\u001b[49m\u001b[43m,\u001b[49m\n\u001b[1;32m    265\u001b[0m \u001b[43m                                         \u001b[49m\u001b[43mcorrect\u001b[49m\u001b[43m)\u001b[49m\n\u001b[1;32m    266\u001b[0m \u001b[38;5;28mprint\u001b[39m(\u001b[38;5;124mf\u001b[39m\u001b[38;5;124m\"\u001b[39m\u001b[38;5;124mEpoch training loss: \u001b[39m\u001b[38;5;132;01m{\u001b[39;00mt_loss\u001b[38;5;132;01m:\u001b[39;00m\u001b[38;5;124m>8f\u001b[39m\u001b[38;5;132;01m}\u001b[39;00m\u001b[38;5;124m \u001b[39m\u001b[38;5;130;01m\\t\u001b[39;00m\u001b[38;5;124mEpoch training accuracy: \u001b[39m\u001b[38;5;132;01m{\u001b[39;00m(correct\u001b[38;5;241m*\u001b[39m\u001b[38;5;241m100\u001b[39m)\u001b[38;5;132;01m:\u001b[39;00m\u001b[38;5;124m.2f\u001b[39m\u001b[38;5;132;01m}\u001b[39;00m\u001b[38;5;124m% \u001b[39m\u001b[38;5;124m\"\u001b[39m\u001b[38;5;241m.\u001b[39mljust(\u001b[38;5;241m100\u001b[39m))\n\u001b[1;32m    267\u001b[0m \u001b[38;5;28;01mtry\u001b[39;00m:\n",
      "File \u001b[0;32m~/Documents/giotto-deep/gdeep/pipeline/pipeline.py:231\u001b[0m, in \u001b[0;36mPipeline._inner_train_loop\u001b[0;34m(self, dl_tr, writer_tag, size, steps, loss, t_loss, correct)\u001b[0m\n\u001b[1;32m    229\u001b[0m     \u001b[38;5;28;01mexcept\u001b[39;00m \u001b[38;5;167;01mAttributeError\u001b[39;00m:\n\u001b[1;32m    230\u001b[0m         \u001b[38;5;28;01mpass\u001b[39;00m\n\u001b[0;32m--> 231\u001b[0m     t_loss \u001b[38;5;241m=\u001b[39m \u001b[38;5;28;43mself\u001b[39;49m\u001b[38;5;241;43m.\u001b[39;49m\u001b[43m_optimisation_step\u001b[49m\u001b[43m(\u001b[49m\u001b[43mdl_tr\u001b[49m\u001b[43m,\u001b[49m\u001b[43m \u001b[49m\u001b[43msteps\u001b[49m\u001b[43m,\u001b[49m\u001b[43m \u001b[49m\u001b[43mloss\u001b[49m\u001b[43m,\u001b[49m\u001b[43m \u001b[49m\n\u001b[1;32m    232\u001b[0m \u001b[43m                            \u001b[49m\u001b[43mt_loss\u001b[49m\u001b[43m,\u001b[49m\u001b[43m \u001b[49m\u001b[43mcorrect\u001b[49m\u001b[43m,\u001b[49m\u001b[43m \u001b[49m\u001b[43mbatch\u001b[49m\u001b[43m,\u001b[49m\u001b[43m \u001b[49m\u001b[43mclosure\u001b[49m\u001b[43m)\u001b[49m\n\u001b[1;32m    233\u001b[0m \u001b[38;5;66;03m# accuracy:\u001b[39;00m\n\u001b[1;32m    234\u001b[0m correct \u001b[38;5;241m/\u001b[39m\u001b[38;5;241m=\u001b[39m size\n",
      "File \u001b[0;32m~/Documents/giotto-deep/gdeep/pipeline/pipeline.py:176\u001b[0m, in \u001b[0;36mPipeline._optimisation_step\u001b[0;34m(self, dl_tr, steps, loss, t_loss, correct, batch, closure)\u001b[0m\n\u001b[1;32m    174\u001b[0m \u001b[38;5;28;01melse\u001b[39;00m:\n\u001b[1;32m    175\u001b[0m     \u001b[38;5;28;01mtry\u001b[39;00m:\n\u001b[0;32m--> 176\u001b[0m         \u001b[43mtorch\u001b[49m\u001b[38;5;241;43m.\u001b[39;49m\u001b[43mnn\u001b[49m\u001b[38;5;241;43m.\u001b[39;49m\u001b[43mutils\u001b[49m\u001b[38;5;241;43m.\u001b[39;49m\u001b[43mclip_grad_norm_\u001b[49m\u001b[43m(\u001b[49m\u001b[38;5;28;43mself\u001b[39;49m\u001b[38;5;241;43m.\u001b[39;49m\u001b[43mmodel\u001b[49m\u001b[38;5;241;43m.\u001b[39;49m\u001b[43mparameters\u001b[49m\u001b[43m(\u001b[49m\u001b[43m)\u001b[49m\u001b[43m,\u001b[49m\u001b[43m \u001b[49m\u001b[38;5;28;43mself\u001b[39;49m\u001b[38;5;241;43m.\u001b[39;49m\u001b[43mclip\u001b[49m\u001b[43m)\u001b[49m\n\u001b[1;32m    177\u001b[0m         \u001b[38;5;28mself\u001b[39m\u001b[38;5;241m.\u001b[39moptimizer\u001b[38;5;241m.\u001b[39mstep()\n\u001b[1;32m    178\u001b[0m     \u001b[38;5;28;01mexcept\u001b[39;00m (MissingClosureError, ):\n",
      "File \u001b[0;32m/home/linuxbrew/.linuxbrew/opt/python@3.9/lib/python3.9/site-packages/torch/nn/utils/clip_grad.py:42\u001b[0m, in \u001b[0;36mclip_grad_norm_\u001b[0;34m(parameters, max_norm, norm_type, error_if_nonfinite)\u001b[0m\n\u001b[1;32m     40\u001b[0m     total_norm \u001b[38;5;241m=\u001b[39m norms[\u001b[38;5;241m0\u001b[39m] \u001b[38;5;28;01mif\u001b[39;00m \u001b[38;5;28mlen\u001b[39m(norms) \u001b[38;5;241m==\u001b[39m \u001b[38;5;241m1\u001b[39m \u001b[38;5;28;01melse\u001b[39;00m torch\u001b[38;5;241m.\u001b[39mmax(torch\u001b[38;5;241m.\u001b[39mstack(norms))\n\u001b[1;32m     41\u001b[0m \u001b[38;5;28;01melse\u001b[39;00m:\n\u001b[0;32m---> 42\u001b[0m     total_norm \u001b[38;5;241m=\u001b[39m torch\u001b[38;5;241m.\u001b[39mnorm(torch\u001b[38;5;241m.\u001b[39mstack([torch\u001b[38;5;241m.\u001b[39mnorm(p\u001b[38;5;241m.\u001b[39mgrad\u001b[38;5;241m.\u001b[39mdetach(), norm_type)\u001b[38;5;241m.\u001b[39mto(device) \u001b[38;5;28;01mfor\u001b[39;00m p \u001b[38;5;129;01min\u001b[39;00m parameters]), norm_type)\n\u001b[1;32m     43\u001b[0m \u001b[38;5;28;01mif\u001b[39;00m error_if_nonfinite \u001b[38;5;129;01mand\u001b[39;00m torch\u001b[38;5;241m.\u001b[39mlogical_or(total_norm\u001b[38;5;241m.\u001b[39misnan(), total_norm\u001b[38;5;241m.\u001b[39misinf()):\n\u001b[1;32m     44\u001b[0m     \u001b[38;5;28;01mraise\u001b[39;00m \u001b[38;5;167;01mRuntimeError\u001b[39;00m(\n\u001b[1;32m     45\u001b[0m         \u001b[38;5;124mf\u001b[39m\u001b[38;5;124m'\u001b[39m\u001b[38;5;124mThe total norm of order \u001b[39m\u001b[38;5;132;01m{\u001b[39;00mnorm_type\u001b[38;5;132;01m}\u001b[39;00m\u001b[38;5;124m for gradients from \u001b[39m\u001b[38;5;124m'\u001b[39m\n\u001b[1;32m     46\u001b[0m         \u001b[38;5;124m'\u001b[39m\u001b[38;5;124m`parameters` is non-finite, so it cannot be clipped. To disable \u001b[39m\u001b[38;5;124m'\u001b[39m\n\u001b[1;32m     47\u001b[0m         \u001b[38;5;124m'\u001b[39m\u001b[38;5;124mthis error and scale the gradients by the non-finite norm anyway, \u001b[39m\u001b[38;5;124m'\u001b[39m\n\u001b[1;32m     48\u001b[0m         \u001b[38;5;124m'\u001b[39m\u001b[38;5;124mset `error_if_nonfinite=False`\u001b[39m\u001b[38;5;124m'\u001b[39m)\n",
      "File \u001b[0;32m/home/linuxbrew/.linuxbrew/opt/python@3.9/lib/python3.9/site-packages/torch/nn/utils/clip_grad.py:42\u001b[0m, in \u001b[0;36m<listcomp>\u001b[0;34m(.0)\u001b[0m\n\u001b[1;32m     40\u001b[0m     total_norm \u001b[38;5;241m=\u001b[39m norms[\u001b[38;5;241m0\u001b[39m] \u001b[38;5;28;01mif\u001b[39;00m \u001b[38;5;28mlen\u001b[39m(norms) \u001b[38;5;241m==\u001b[39m \u001b[38;5;241m1\u001b[39m \u001b[38;5;28;01melse\u001b[39;00m torch\u001b[38;5;241m.\u001b[39mmax(torch\u001b[38;5;241m.\u001b[39mstack(norms))\n\u001b[1;32m     41\u001b[0m \u001b[38;5;28;01melse\u001b[39;00m:\n\u001b[0;32m---> 42\u001b[0m     total_norm \u001b[38;5;241m=\u001b[39m torch\u001b[38;5;241m.\u001b[39mnorm(torch\u001b[38;5;241m.\u001b[39mstack([torch\u001b[38;5;241m.\u001b[39mnorm(\u001b[43mp\u001b[49m\u001b[38;5;241;43m.\u001b[39;49m\u001b[43mgrad\u001b[49m\u001b[38;5;241;43m.\u001b[39;49m\u001b[43mdetach\u001b[49m\u001b[43m(\u001b[49m\u001b[43m)\u001b[49m, norm_type)\u001b[38;5;241m.\u001b[39mto(device) \u001b[38;5;28;01mfor\u001b[39;00m p \u001b[38;5;129;01min\u001b[39;00m parameters]), norm_type)\n\u001b[1;32m     43\u001b[0m \u001b[38;5;28;01mif\u001b[39;00m error_if_nonfinite \u001b[38;5;129;01mand\u001b[39;00m torch\u001b[38;5;241m.\u001b[39mlogical_or(total_norm\u001b[38;5;241m.\u001b[39misnan(), total_norm\u001b[38;5;241m.\u001b[39misinf()):\n\u001b[1;32m     44\u001b[0m     \u001b[38;5;28;01mraise\u001b[39;00m \u001b[38;5;167;01mRuntimeError\u001b[39;00m(\n\u001b[1;32m     45\u001b[0m         \u001b[38;5;124mf\u001b[39m\u001b[38;5;124m'\u001b[39m\u001b[38;5;124mThe total norm of order \u001b[39m\u001b[38;5;132;01m{\u001b[39;00mnorm_type\u001b[38;5;132;01m}\u001b[39;00m\u001b[38;5;124m for gradients from \u001b[39m\u001b[38;5;124m'\u001b[39m\n\u001b[1;32m     46\u001b[0m         \u001b[38;5;124m'\u001b[39m\u001b[38;5;124m`parameters` is non-finite, so it cannot be clipped. To disable \u001b[39m\u001b[38;5;124m'\u001b[39m\n\u001b[1;32m     47\u001b[0m         \u001b[38;5;124m'\u001b[39m\u001b[38;5;124mthis error and scale the gradients by the non-finite norm anyway, \u001b[39m\u001b[38;5;124m'\u001b[39m\n\u001b[1;32m     48\u001b[0m         \u001b[38;5;124m'\u001b[39m\u001b[38;5;124mset `error_if_nonfinite=False`\u001b[39m\u001b[38;5;124m'\u001b[39m)\n",
      "\u001b[0;31mKeyboardInterrupt\u001b[0m: "
     ]
    }
   ],
   "source": [
    "\n",
    "optimizer = torch.optim.SGD\n",
    "pipe.train(optimizer, 1, False, {\"lr\": 0.1}, n_accumulated_grads=5)"
   ]
  },
  {
   "cell_type": "markdown",
   "id": "46fd5107",
   "metadata": {},
   "source": [
    "# Spectrum after training "
   ]
  },
  {
   "cell_type": "code",
   "execution_count": null,
   "id": "de1a1acd",
   "metadata": {},
   "outputs": [],
   "source": [
    "me = ModelExtractor(pipe.model, pipe.loss_fn)\n",
    "weights = list(me.get_layers_param().values())\n",
    "#weights = [layer.to(cpu) for layer in weights]\n",
    "lapOp = LaplacianOperator(weights)\n",
    "uTrained,vTrained = lapOp.diagonalize()"
   ]
  },
  {
   "cell_type": "code",
   "execution_count": null,
   "id": "e3ad18e8",
   "metadata": {},
   "outputs": [],
   "source": [
    "uTrained = uTrained.to('cpu')\n",
    "plt.figure(1)\n",
    "plt.subplot(211)\n",
    "plt.hist(u.numpy(),bins=300,range=(-3,3))\n",
    "plt.subplot(212)\n",
    "plt.hist(uTrained.numpy(),bins=300,range=(-3,3))\n",
    "plt.show()"
   ]
  },
  {
   "cell_type": "markdown",
   "id": "d8b318ec",
   "metadata": {},
   "source": [
    "# Spectrum evolution"
   ]
  },
  {
   "cell_type": "code",
   "execution_count": null,
   "id": "86bd124b",
   "metadata": {},
   "outputs": [],
   "source": [
    "arch = [28*28, 50, 50, 10]\n",
    "model = nn.Sequential(nn.Flatten(), FFNet(arch,bias=True))\n",
    "pipe = Pipeline(model, (dl_tr, dl_ts), loss_fn, writer)\n",
    "\n",
    "\n",
    "epochs = 2\n",
    "\n",
    "\n",
    "plt.figure(1)\n",
    "epochs=epochs+1\n",
    "for i in range(epochs):\n",
    "    #Display spectrum : \n",
    "    me = ModelExtractor(pipe.model, pipe.loss_fn)\n",
    "    weights = list(me.get_layers_param().values())\n",
    "    weights = [weight for weight in weights if len(weight.shape)==2]\n",
    "    #weights = [layer.to(cpu) for layer in weights]\n",
    "    lapOp = LaplacianOperator(weights)\n",
    "    u,v = lapOp.diagonalize()\n",
    "    plt.subplot(100*epochs + 11+i)\n",
    "    plt.hist(u.to('cpu').numpy(),bins=300,range=(-2,2))\n",
    "    #Train : \n",
    "    pipe.train(optimizer, 1, False, {\"lr\": 0.1}, n_accumulated_grads=5,keep_training=True)\n",
    "    \n",
    "\n",
    "plt.show()"
   ]
  },
  {
   "cell_type": "code",
   "execution_count": null,
   "id": "fe980d09",
   "metadata": {},
   "outputs": [],
   "source": [
    "#Plotting eigenvectors \n",
    "idx = 6\n",
    "\n",
    "img =-v.T[idx][:28*28].to('cpu')\n",
    "pixels = img.reshape((28, 28))\n",
    "plt.imshow(pixels, cmap='gray')\n",
    "\n",
    "\n",
    "print(u[285])"
   ]
  },
  {
   "cell_type": "markdown",
   "id": "6cb9aa30",
   "metadata": {},
   "source": [
    "# With absolute value : "
   ]
  },
  {
   "cell_type": "code",
   "execution_count": null,
   "id": "d8ebeaad",
   "metadata": {},
   "outputs": [],
   "source": [
    "arch = [28*28, 50, 50, 10]\n",
    "model = nn.Sequential(nn.Flatten(), FFNet(arch,bias=False ))\n",
    "pipe = Pipeline(model, (dl_tr, dl_ts), loss_fn, writer)\n",
    "\n",
    "\n",
    "epochs = 4\n",
    "\n",
    "plt.figure(1)\n",
    "for i in range(2):\n",
    "    #Display spectrum : \n",
    "    me = ModelExtractor(pipe.model, pipe.loss_fn)\n",
    "    weights = list(me.get_layers_param().values())\n",
    "    #weights = [layer.to(cpu) for layer in weights]\n",
    "    lapOp = LaplacianOperator(weights,positivation='abs')\n",
    "    uabs,vabs = lapOp.diagonalize()\n",
    "    plt.subplot(epochs*100+11+i)\n",
    "    plt.hist(uabs.to('cpu').numpy(),bins=300,range=(-3,3),color='orange')\n",
    "    #Train : \n",
    "    pipe.train(optimizer, 1, False, {\"lr\": 0.1}, n_accumulated_grads=5,keep_training=True)\n",
    "    \n",
    "\n",
    "plt.show()"
   ]
  },
  {
   "cell_type": "code",
   "execution_count": null,
   "id": "a9be283a",
   "metadata": {},
   "outputs": [],
   "source": [
    "#Plotting eigenvectors \n",
    "idx = -8\n",
    "print(uabs[idx])\n",
    "\n",
    "img = vabs.T[idx][:28*28].to('cpu')\n",
    "pixels = img.reshape((28, 28))\n",
    "plt.imshow(pixels, cmap='gray')\n",
    "\n"
   ]
  },
  {
   "cell_type": "markdown",
   "id": "ef13628a",
   "metadata": {},
   "source": [
    "# With ReLU"
   ]
  },
  {
   "cell_type": "code",
   "execution_count": null,
   "id": "57119c01",
   "metadata": {},
   "outputs": [],
   "source": [
    "arch = [28*28, 50, 50, 10]\n",
    "model = nn.Sequential(nn.Flatten(), FFNet(arch,bias=False ))\n",
    "pipe = Pipeline(model, (dl_tr, dl_ts), loss_fn, writer)\n",
    "\n",
    "\n",
    "epochs = 4\n",
    "\n",
    "plt.figure(1)\n",
    "for i in range(2):\n",
    "    #Display spectrum : \n",
    "    me = ModelExtractor(pipe.model, pipe.loss_fn)\n",
    "    weights = list(me.get_layers_param().values())\n",
    "    weights = [weight for weight in weights if len(weight.shape)==2]\n",
    "    #weights = [layer.to(cpu) for layer in weights]\n",
    "    lapOp = LaplacianOperator(weights,positivation='relu')\n",
    "    urelu,vrelu = lapOp.diagonalize()\n",
    "    plt.subplot(epochs*100+11+i)\n",
    "    plt.hist(urelu.to('cpu').numpy(),bins=300,range=(-3,3),color='green')\n",
    "    #Train : \n",
    "    pipe.train(optimizer, 1, False, {\"lr\": 0.1}, n_accumulated_grads=5,keep_training=True)\n",
    "    \n",
    "\n",
    "plt.show()"
   ]
  },
  {
   "cell_type": "code",
   "execution_count": null,
   "id": "de7fd838",
   "metadata": {},
   "outputs": [],
   "source": [
    "#Plotting eigenvectors \n",
    "idx = 789\n",
    "print(urelu[idx])\n",
    "\n",
    "img = vrelu.T[idx][:28*28].to('cpu')\n",
    "pixels = img.reshape((28, 28))\n",
    "plt.imshow(pixels, cmap='gray')\n",
    "\n",
    "print(vrelu.shape)\n",
    "print(-vrelu.T[idx][-10:])\n",
    "(-vrelu.T[idx][-10:]).argmax()"
   ]
  },
  {
   "cell_type": "code",
   "execution_count": null,
   "id": "be246d58",
   "metadata": {},
   "outputs": [],
   "source": [
    "torch.argmax(torch.abs(vrelu.T[-5][:10]))"
   ]
  },
  {
   "cell_type": "markdown",
   "id": "2cf77575",
   "metadata": {},
   "source": [
    "# High spectrum tests"
   ]
  },
  {
   "cell_type": "code",
   "execution_count": null,
   "id": "4a9235b1",
   "metadata": {},
   "outputs": [],
   "source": [
    "plt.hist(uabs.to('cpu')[28*28:].numpy(),bins=300,color='green')\n",
    "plt.show()"
   ]
  },
  {
   "cell_type": "code",
   "execution_count": null,
   "id": "052e2a34",
   "metadata": {},
   "outputs": [],
   "source": [
    "import time \n",
    "#Plotting eigenvectors \n",
    "idx = 888\n",
    "print(uabs[idx])\n",
    "\n",
    "\n",
    "def saveEigenImages():\n",
    "    i=28*28\n",
    "    while i <893:\n",
    "        idx = i \n",
    "        if vabs.T[idx][:28*28].mean()<(vabs.T[idx][:28*28].max()+vabs.T[idx][:28*28].min())/2:\n",
    "            vabs.T[idx]=-vabs.T[idx]\n",
    "        img = vabs.T[idx][:28*28].to('cpu')\n",
    "        pixels = img.reshape((28, 28))\n",
    "        plt.imshow(pixels, cmap='gray')\n",
    "        plt.savefig('lapInputLayer' + \"/eigenVec%02d.png\" % idx)\n",
    "        plt.show()\n",
    "\n",
    "        i +=1 \n"
   ]
  },
  {
   "cell_type": "code",
   "execution_count": null,
   "id": "137d2503",
   "metadata": {},
   "outputs": [],
   "source": [
    "!ls"
   ]
  },
  {
   "cell_type": "markdown",
   "id": "44dbf252",
   "metadata": {},
   "source": [
    "# Binary mode"
   ]
  },
  {
   "cell_type": "code",
   "execution_count": null,
   "id": "a651a7f8",
   "metadata": {
    "scrolled": false
   },
   "outputs": [],
   "source": [
    "from torchvision import datasets\n",
    "from torchvision.transforms import ToTensor\n",
    "from gdeep.data import DataLoaderFromArray\n",
    "from torch.utils.data import DataLoader, random_split\n",
    "\n",
    "\n",
    "writer = SummaryWriter()\n",
    "dl = TorchDataLoader(name=\"MNIST\")\n",
    "\n",
    "dl_tr, dl_ts = dl.build_dataloaders(batch_size=32)\n",
    "\n",
    "\n",
    "dataset = datasets.MNIST(root='./data',transform=ToTensor())\n",
    "idx  = torch.logical_or(dataset.targets==4,dataset.targets==6)\n",
    "dataset.targets = ((dataset.targets[idx]-4)/2).int()\n",
    "dataset.data = dataset.data[idx]\n",
    "\n",
    "\n",
    "my_dl = DataLoader(dataset)\n",
    "\n",
    "\n",
    "train_len = int(len(dataset)*5/6)\n",
    "train_set, test_set = random_split(dataset, [train_len, int(len(dataset)) - train_len])\n",
    "\n",
    "dl_tr2 = DataLoader(train_set, batch_size=32, shuffle=True) # Train dataloader\n",
    "dl_ts2 = DataLoader(test_set, batch_size=32, shuffle=False) # Test set \n",
    "\n",
    "\n",
    "\"\"\" Crappy stuff \n",
    "j = int(len(data)*5/6) \n",
    "print(data.type())\n",
    "\n",
    "\n",
    "dl2 = DataLoaderFromArray(data[:j].unsqueeze(1),targets[:j],X_val=data[j:].unsqueeze(1),y_val=targets[j:])\n",
    "dl_tr2, dl_ts2,_ = dl2.build_dataloaders(batch_size=32)\n",
    "\n",
    "\n",
    "\n",
    "#dl_tr2.dataset = [(x[0],int(x[1].item())) for x in dl_tr2.dataset]\n",
    "    \n",
    "#dl_ts2.dataset = [(x[0],int(x[1].item())) for x in dl_ts2.dataset]\n",
    "\n",
    "print(len(dl_tr),len(dl_ts))\n",
    "print(len(dl_tr2),len(dl_ts2))\n",
    "\"\"\""
   ]
  },
  {
   "cell_type": "code",
   "execution_count": null,
   "id": "5fa9a7f9",
   "metadata": {},
   "outputs": [],
   "source": [
    "for x in dl_ts2.dataset:\n",
    "    print(x[0].type())\n",
    "    break "
   ]
  },
  {
   "cell_type": "code",
   "execution_count": null,
   "id": "05f8cef0",
   "metadata": {},
   "outputs": [],
   "source": [
    "\n",
    "\n",
    "arch = [28*28, 50, 50, 50, 2]\n",
    "model = nn.Sequential(nn.Flatten(), FFNet(arch,bias=False ))\n",
    "pipe = Pipeline(model, (dl_tr2, dl_ts2), loss_fn, writer)\n",
    "\n",
    "\n",
    "epochs = 3\n",
    "overfit = True\n",
    "\n",
    "\n",
    "if overfit:\n",
    "    for epoch in range(150):\n",
    "         pipe.train(optimizer, 1, False, {\"lr\": 0.1}, n_accumulated_grads=5,keep_training=True)\n",
    "\n",
    "plt.figure(1)\n",
    "for i in range(epochs):\n",
    "    #Display spectrum : \n",
    "    me = ModelExtractor(pipe.model, pipe.loss_fn)\n",
    "    weights = list(me.get_layers_param().values())\n",
    "    #weights = [layer.to(cpu) for layer in weights]\n",
    "    lapOp = LaplacianOperator(weights,positivation='relu')\n",
    "    ubin,vbin = lapOp.diagonalize()\n",
    "    plt.subplot(epochs*100+11+i)\n",
    "    plt.hist(ubin.to('cpu').numpy(),bins=300,color='black')\n",
    "    #Train : \n",
    "    pipe.train(optimizer, 1, False, {\"lr\": 0.1}, n_accumulated_grads=5,keep_training=True)\n",
    "    \n",
    "\n",
    "plt.show()"
   ]
  },
  {
   "cell_type": "code",
   "execution_count": null,
   "id": "def19872",
   "metadata": {},
   "outputs": [],
   "source": [
    "def saveEigenImages2():\n",
    "    i=28*28-5\n",
    "    while i <len(vbin.T):\n",
    "        idx = i \n",
    "        if vbin.T[idx][:28*28].mean()<(vbin.T[idx][:28*28].max()+vbin.T[idx][:28*28].min())/2:\n",
    "            vbin.T[idx]=-vbin.T[idx]\n",
    "        img = vbin.T[idx][:28*28].to('cpu')\n",
    "        pixels = img.reshape((28, 28))\n",
    "        plt.imshow(pixels, cmap='gray')\n",
    "        plt.savefig('lapInputLayerBin' + \"/eigenVec%02d.png\" % idx)\n",
    "        plt.show()\n",
    "\n",
    "        i +=1 \n",
    "\n",
    "saveEigenImages2()"
   ]
  },
  {
   "cell_type": "code",
   "execution_count": null,
   "id": "57176229",
   "metadata": {},
   "outputs": [],
   "source": [
    "#Plotting eigenvectors \n",
    "idx = 815\n",
    "print(ubin[idx])\n",
    "img = vbin.T[idx][:28*28].to('cpu')\n",
    "pixels = img.reshape((28, 28))\n",
    "plt.imshow(pixels, cmap='gray')\n",
    "print(-vbin.T[idx][-10:])\n",
    "(-vbin.T[idx][-10:]).argmax()\n",
    "\n"
   ]
  },
  {
   "cell_type": "code",
   "execution_count": null,
   "id": "e4a57a91",
   "metadata": {},
   "outputs": [],
   "source": [
    "vbin.T[28*28+25][872]\n"
   ]
  },
  {
   "cell_type": "markdown",
   "id": "352d0339",
   "metadata": {},
   "source": [
    "# Getting to know the eigenvectors : metrics "
   ]
  },
  {
   "cell_type": "markdown",
   "id": "9dee1ff1",
   "metadata": {},
   "source": [
    "- sign \n",
    "- Total entropy \n",
    "- Argmax \n",
    "- value at argmax \n",
    "- spatial correlations on input "
   ]
  },
  {
   "cell_type": "code",
   "execution_count": null,
   "id": "2ec53e6f",
   "metadata": {},
   "outputs": [],
   "source": [
    "def positivise(v):\n",
    "    \"\"\"Transforme le signe de chaque colonne de la matrice v de sorte à ce que l'argmax soit de signe positif \"\"\"\n",
    "    res = torch.zeros(v.shape)\n",
    "    for idx in range(len(v.T)):\n",
    "        res[:,idx]=torch.sign(v.T[idx][torch.abs(v.T[idx]).argmax()])*v.T[idx]\n",
    "    return res \n",
    "        \n",
    "def sign(vec):\n",
    "    \"\"\"Détermine la fraction de signes - pour un vecteur propre vec\"\"\"\n",
    "    return (torch.relu(-torch.sign(vec)).sum())/len(vec)\n",
    "\n",
    "def maxValue(vec):\n",
    "    return vec.max()\n",
    "\n",
    "def argMax(vec):\n",
    "    return vec.argmax()"
   ]
  },
  {
   "cell_type": "code",
   "execution_count": null,
   "id": "0593707f",
   "metadata": {},
   "outputs": [],
   "source": [
    "v = res.T[0]\n",
    "print(torch.sign(v.T[torch.abs(v.T).argmax()]))"
   ]
  },
  {
   "cell_type": "code",
   "execution_count": null,
   "id": "dfbbe7f9",
   "metadata": {},
   "outputs": [],
   "source": [
    "vbin = positivise(vbin)\n",
    "vbin=vbin.to('cpu')\n",
    "ubin = ubin.to('cpu')\n",
    "plt.scatter(ubin[28*28:],[argMax(vec) for vec in vbin.T[28*28:]])\n",
    "plt.title('argmax of eigenvector as a function of eigenvalue')\n",
    "plt.ylim(780,940)\n",
    "plt.show()"
   ]
  },
  {
   "cell_type": "code",
   "execution_count": null,
   "id": "68a1a9d6",
   "metadata": {},
   "outputs": [],
   "source": [
    "plt.scatter(ubin,[maxValue(vec) for vec in vbin.T])\n",
    "plt.title('maximum value of eigenvector as a function of eigenvalue')"
   ]
  },
  {
   "cell_type": "markdown",
   "id": "76f44b00",
   "metadata": {},
   "source": [
    "# Attaques adversariales "
   ]
  },
  {
   "cell_type": "code",
   "execution_count": 218,
   "id": "f9d906d2",
   "metadata": {},
   "outputs": [
    {
     "name": "stdout",
     "output_type": "stream",
     "text": [
      "Epoch 1\n",
      "-------------------------------\n",
      "Epoch training loss: 0.958780 \tEpoch training accuracy: 72.43%                                                               \n",
      "Time taken for this epoch: 7.00s\n",
      "Learning rate value: 0.10000000\n",
      "Validation results: \n",
      " Accuracy: 87.33%,                 Avg loss: 0.413775 \n",
      "\n",
      "Epoch 1\n",
      "-------------------------------\n",
      "Epoch training loss: 0.339787 \tEpoch training accuracy: 90.29%                                      00 ]                      \n",
      "Time taken for this epoch: 6.00s\n",
      "Learning rate value: 0.10000000\n",
      "Validation results: \n",
      " Accuracy: 91.62%,                 Avg loss: 0.294548 \n",
      "\n",
      "Epoch 1\n",
      "-------------------------------\n",
      "Epoch training loss: 0.270056 \tEpoch training accuracy: 92.42%                                                                \n",
      "Time taken for this epoch: 6.00s\n",
      "Learning rate value: 0.10000000\n",
      "Validation results: \n",
      " Accuracy: 93.00%,                 Avg loss: 0.240412 \n",
      "\n",
      "Epoch 1\n",
      "-------------------------------\n",
      "Epoch training loss: 0.228947 \tEpoch training accuracy: 93.49%                                                                \n",
      "Time taken for this epoch: 7.00s\n",
      "Learning rate value: 0.10000000\n",
      "Validation results: \n",
      " Accuracy: 93.95%,                 Avg loss: 0.210191 \n",
      "\n"
     ]
    }
   ],
   "source": [
    "arch = [28*28, 50, 50, 10]\n",
    "model = nn.Sequential(nn.Flatten(), FFNet(arch,bias=False ))\n",
    "pipe = Pipeline(model, (dl_tr, dl_ts), loss_fn, writer)\n",
    "\n",
    "\n",
    "epochs = 4\n",
    "\n",
    "\n",
    "for i in range(epochs):\n",
    "    #Train : \n",
    "    pipe.train(optimizer, 1, False, {\"lr\": 0.1}, n_accumulated_grads=5,keep_training=True)\n",
    "    \n",
    "    \n",
    "me = ModelExtractor(pipe.model, pipe.loss_fn)\n",
    "weights = list(me.get_layers_param().values())\n",
    "#weights = [layer.to(cpu) for layer in weights]\n",
    "lapOp = LaplacianOperator(weights,positivation='abs')\n",
    "u,v = lapOp.diagonalize()\n",
    "\n",
    "\n",
    "\n"
   ]
  },
  {
   "cell_type": "code",
   "execution_count": 219,
   "id": "0f27a9ce",
   "metadata": {},
   "outputs": [
    {
     "data": {
      "image/png": "[encoded data removed]",
      "text/plain": [
       "<Figure size 432x288 with 1 Axes>"
      ]
     },
     "metadata": {
      "needs_background": "light"
     },
     "output_type": "display_data"
    }
   ],
   "source": [
    "plt.hist(u.to('cpu').numpy(),bins=300,color='orange')\n",
    "plt.show()\n"
   ]
  },
  {
   "cell_type": "code",
   "execution_count": 220,
   "id": "3d72d1be",
   "metadata": {},
   "outputs": [],
   "source": [
    "epsilon = 0.1\n",
    "topactiv = TFC(pipe,arch)\n",
    "dl = TorchDataLoader(name=\"MNIST\")\n",
    "dl_tr, dl_ts = dl.build_dataloaders(batch_size=32)\n",
    "\n",
    "\n",
    "for data, target in dl_tr: \n",
    "    data_noised = data+(0.2*torch.rand(data.shape)-0.1)\n",
    "    data=data.to(DEVICE) ##SUBOPTIMAL !!!\n",
    "    target = target.to(DEVICE)\n",
    "    data_perturbed = topactiv.fgsm_attack(data, target,epsilon)\n",
    "    normal_activation = torch.cat(me.get_activations(data)[:-2],dim=1)\n",
    "    perturbed_activation = torch.cat(me.get_activations(data_perturbed)[:-2],dim=1)\n",
    "    noised_activation= torch.cat(me.get_activations(data_noised)[:-2],dim=1)\n",
    "    break \n",
    "    \n",
    "# Weird last layers to see "
   ]
  },
  {
   "cell_type": "code",
   "execution_count": null,
   "id": "8f83b4c7",
   "metadata": {},
   "outputs": [],
   "source": [
    "normal_activation.shape"
   ]
  },
  {
   "cell_type": "code",
   "execution_count": null,
   "id": "9a3d7b0b",
   "metadata": {},
   "outputs": [],
   "source": [
    "for x in perturbed_activation:\n",
    "    if (x.shape)[1]==10:\n",
    "        print(x[0])"
   ]
  },
  {
   "cell_type": "code",
   "execution_count": null,
   "id": "80aca1ab",
   "metadata": {},
   "outputs": [],
   "source": [
    "v.shape"
   ]
  },
  {
   "cell_type": "code",
   "execution_count": 223,
   "id": "6e4e3684",
   "metadata": {
    "scrolled": true
   },
   "outputs": [
    {
     "data": {
      "text/plain": [
       "<matplotlib.collections.PathCollection at 0x7f7370c77a00>"
      ]
     },
     "execution_count": 223,
     "metadata": {},
     "output_type": "execute_result"
    },
    {
     "data": {
      "image/png": "[encoded data removed]",
      "text/plain": [
       "<Figure size 432x288 with 1 Axes>"
      ]
     },
     "metadata": {
      "needs_background": "light"
     },
     "output_type": "display_data"
    }
   ],
   "source": [
    "idx = 3\n",
    "normal_activation = normal_activation.to('cpu')\n",
    "perturbed_activation = perturbed_activation.to('cpu')\n",
    "noised_activation =  noised_activation.to('cpu')\n",
    "\n",
    "v=v.to('cpu')\n",
    "plt.scatter(v.T@normal_activation[idx]/normal_activation[idx].max(),v.T@perturbed_activation[idx]/perturbed_activation[idx].max())\n",
    "plt.scatter(v.T@normal_activation[idx]/normal_activation[idx].max(),v.T@noised_activation[idx]/noised_activation[idx].max())"
   ]
  },
  {
   "cell_type": "code",
   "execution_count": null,
   "id": "7e2f4356",
   "metadata": {},
   "outputs": [],
   "source": [
    "\n",
    "(data.to('cpu')[2]-data_noised[2]).max()"
   ]
  }
 ],
 "metadata": {
  "kernelspec": {
   "display_name": "Python 3 (ipykernel)",
   "language": "python",
   "name": "python3"
  },
  "language_info": {
   "codemirror_mode": {
    "name": "ipython",
    "version": 3
   },
   "file_extension": ".py",
   "mimetype": "text/x-python",
   "name": "python",
   "nbconvert_exporter": "python",
   "pygments_lexer": "ipython3",
   "version": "3.9.12"
  }
 },
 "nbformat": 4,
 "nbformat_minor": 5
}
