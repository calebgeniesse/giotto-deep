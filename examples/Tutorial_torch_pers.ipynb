{
 "cells": [
  {
   "cell_type": "markdown",
   "metadata": {},
   "source": [
    "# Import packages and define a function to study"
   ]
  },
  {
   "cell_type": "code",
   "execution_count": null,
   "metadata": {},
   "outputs": [],
   "source": [
    "import torch\n",
    "import torch.nn as nn\n",
    "import gdeep.torch_pers as tp\n",
    "from sklearn.cluster import DBSCAN\n",
    "\n",
    "class Mishra(nn.Module):\n",
    "    def __init__(self):\n",
    "        super().__init__()\n",
    "        \n",
    "\n",
    "    def forward(self, x):\n",
    "        alpha = torch.tensor([-10, -6.5], requires_grad=True)\n",
    "        x = torch.mul(x,alpha)\n",
    "        x = torch.sin(x[1])*torch.exp((1-torch.cos(x[0]))**2) + torch.cos(x[0])*torch.exp((1-torch.sin(x[1]))**2) + (x[0] - x[1])**2\n",
    "        return x"
   ]
  },
  {
   "cell_type": "code",
   "execution_count": null,
   "metadata": {},
   "outputs": [],
   "source": [
    "import pandas as pd\n",
    "import plotly.express as px\n",
    "\n",
    "l = 50\n",
    "net = Mishra()\n",
    "df = pd.DataFrame()\n",
    "inputs = [[x/l,y/l] for x in range(0 , l ) for y in range(0, l)]\n",
    "df['x'] = [x[0] for x in inputs]\n",
    "df['y'] = [x[1] for x in inputs]\n",
    "df['f'] = [ net(torch.tensor(x)).item() for x in inputs]\n",
    "fig = px.scatter_3d(df, x = 'x', y='y', z='f', color = 'f')\n",
    "fig.show()"
   ]
  },
  {
   "cell_type": "markdown",
   "metadata": {},
   "source": [
    "## We start by computing the Smale Quiver of the function"
   ]
  },
  {
   "cell_type": "code",
   "execution_count": null,
   "metadata": {},
   "outputs": [],
   "source": [
    "smale = tp.SmaleQuiverComputer(n_epochs = 10, lr = 0.0001, clusterer = DBSCAN(eps = 0.1,min_samples=5))\n",
    "smale.fit(Mishra, [2], 200)"
   ]
  },
  {
   "cell_type": "code",
   "execution_count": null,
   "metadata": {},
   "outputs": [],
   "source": [
    "Q = smale.quiver_to_plot\n",
    "Q.show('smale_quiver.html')"
   ]
  },
  {
   "cell_type": "markdown",
   "metadata": {},
   "source": [
    "## We then extract the 0th barcode from the Smale-Quiver"
   ]
  },
  {
   "cell_type": "code",
   "execution_count": null,
   "metadata": {},
   "outputs": [],
   "source": [
    "from gtda.plotting import plot_diagram\n",
    "PC = tp.PersistenceComputer(smale.quiver)\n",
    "diagram = PC.get_persistence()\n",
    "plot_diagram(diagram)"
   ]
  },
  {
   "cell_type": "code",
   "execution_count": null,
   "metadata": {
    "scrolled": false
   },
   "outputs": [],
   "source": []
  },
  {
   "cell_type": "code",
   "execution_count": null,
   "metadata": {},
   "outputs": [],
   "source": []
  },
  {
   "cell_type": "code",
   "execution_count": null,
   "metadata": {},
   "outputs": [],
   "source": []
  }
 ],
 "metadata": {
  "kernelspec": {
   "display_name": "Python 3",
   "language": "python",
   "name": "python3"
  },
  "language_info": {
   "codemirror_mode": {
    "name": "ipython",
    "version": 3
   },
   "file_extension": ".py",
   "mimetype": "text/x-python",
   "name": "python",
   "nbconvert_exporter": "python",
   "pygments_lexer": "ipython3",
   "version": "3.7.4"
  }
 },
 "nbformat": 4,
 "nbformat_minor": 2
}
