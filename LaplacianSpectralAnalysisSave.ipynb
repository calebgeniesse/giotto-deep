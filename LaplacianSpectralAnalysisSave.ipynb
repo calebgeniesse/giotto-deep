{
 "cells": [
  {
   "cell_type": "code",
   "execution_count": 1,
   "id": "735daa6d",
   "metadata": {},
   "outputs": [
    {
     "name": "stdout",
     "output_type": "stream",
     "text": [
      "/home/meller/Documents/giotto-deep_save/examples\r\n"
     ]
    }
   ],
   "source": [
    "!pwd"
   ]
  },
  {
   "cell_type": "code",
   "execution_count": 5,
   "id": "f80e45e0",
   "metadata": {},
   "outputs": [
    {
     "ename": "ImportError",
     "evalue": "cannot import name 'TopactivationFC' from 'gdeep.topactivation' (unknown location)",
     "output_type": "error",
     "traceback": [
      "\u001b[0;31m---------------------------------------------------------------------------\u001b[0m",
      "\u001b[0;31mImportError\u001b[0m                               Traceback (most recent call last)",
      "Input \u001b[0;32mIn [5]\u001b[0m, in \u001b[0;36m<cell line: 1>\u001b[0;34m()\u001b[0m\n\u001b[0;32m----> 1\u001b[0m \u001b[38;5;28;01mfrom\u001b[39;00m \u001b[38;5;21;01mgdeep\u001b[39;00m\u001b[38;5;21;01m.\u001b[39;00m\u001b[38;5;21;01mtopactivation\u001b[39;00m \u001b[38;5;28;01mimport\u001b[39;00m TopactivationFC\n",
      "\u001b[0;31mImportError\u001b[0m: cannot import name 'TopactivationFC' from 'gdeep.topactivation' (unknown location)"
     ]
    }
   ],
   "source": [
    "from gdeep.topactivation import TopactivationFC"
   ]
  },
  {
   "cell_type": "code",
   "execution_count": 2,
   "id": "e191750e",
   "metadata": {},
   "outputs": [
    {
     "ename": "ImportError",
     "evalue": "cannot import name 'TopactivationFC' from 'gdeep.topactivation' (unknown location)",
     "output_type": "error",
     "traceback": [
      "\u001b[0;31m---------------------------------------------------------------------------\u001b[0m",
      "\u001b[0;31mImportError\u001b[0m                               Traceback (most recent call last)",
      "Input \u001b[0;32mIn [2]\u001b[0m, in \u001b[0;36m<cell line: 1>\u001b[0;34m()\u001b[0m\n\u001b[0;32m----> 1\u001b[0m \u001b[38;5;28;01mfrom\u001b[39;00m \u001b[38;5;21;01mgdeep\u001b[39;00m\u001b[38;5;21;01m.\u001b[39;00m\u001b[38;5;21;01mtopactivation\u001b[39;00m \u001b[38;5;28;01mimport\u001b[39;00m TopactivationFC \u001b[38;5;28;01mas\u001b[39;00m TFC\n\u001b[1;32m      2\u001b[0m \u001b[38;5;28;01mfrom\u001b[39;00m \u001b[38;5;21;01mgdeep\u001b[39;00m\u001b[38;5;21;01m.\u001b[39;00m\u001b[38;5;21;01mpipeline\u001b[39;00m \u001b[38;5;28;01mimport\u001b[39;00m Pipeline\n\u001b[1;32m      3\u001b[0m \u001b[38;5;28;01mfrom\u001b[39;00m \u001b[38;5;21;01mtorch\u001b[39;00m\u001b[38;5;21;01m.\u001b[39;00m\u001b[38;5;21;01mutils\u001b[39;00m\u001b[38;5;21;01m.\u001b[39;00m\u001b[38;5;21;01mtensorboard\u001b[39;00m \u001b[38;5;28;01mimport\u001b[39;00m SummaryWriter\n",
      "\u001b[0;31mImportError\u001b[0m: cannot import name 'TopactivationFC' from 'gdeep.topactivation' (unknown location)"
     ]
    }
   ],
   "source": [
    "from gdeep.topactivation import TopactivationFC as TFC\n",
    "from gdeep.pipeline import Pipeline\n",
    "from torch.utils.tensorboard import SummaryWriter\n",
    "\n",
    "from gdeep.models import FFNet\n",
    "from torch import nn\n",
    "import torch\n",
    "from gdeep.data import TorchDataLoader"
   ]
  },
  {
   "cell_type": "code",
   "execution_count": null,
   "id": "da25024f",
   "metadata": {},
   "outputs": [],
   "source": [
    "!pip3 install xitorch\n",
    "from gdeep.models import ModelExtractor\n",
    "from gdeep.topactivation.spectral_analysisTorch import LaplacianOperator\n",
    "import matplotlib.pyplot as plt \n",
    "\n",
    "if torch.cuda.is_available():\n",
    "    DEVICE = torch.device(\"cuda\")\n",
    "    print(\"Using GPU!\")\n",
    "else:\n",
    "    DEVICE = torch.device(\"cpu\")\n"
   ]
  },
  {
   "cell_type": "code",
   "execution_count": null,
   "id": "a10527a5",
   "metadata": {},
   "outputs": [],
   "source": [
    "writer = SummaryWriter()\n",
    "dl = TorchDataLoader(name=\"MNIST\")\n",
    "dl_tr, dl_ts = dl.build_dataloaders(batch_size=32)\n",
    "\n",
    "arch = [28*28, 50, 50, 10]\n",
    "model = nn.Sequential(nn.Flatten(), FFNet(arch,bias=False ))\n",
    "loss_fn = nn.CrossEntropyLoss()\n",
    "pipe = Pipeline(model, (dl_tr, dl_ts), loss_fn, writer)\n",
    "\n",
    "\n",
    "#cpu = torch.ones(1).device\n",
    "\n",
    "me = ModelExtractor(pipe.model, pipe.loss_fn)\n",
    "weights = list(me.get_layers_param().values())\n",
    "#weights = [layer.to(cpu) for layer in weights]\n",
    "lapOp = LaplacianOperator(weights)"
   ]
  },
  {
   "cell_type": "code",
   "execution_count": null,
   "id": "799b5f64",
   "metadata": {
    "scrolled": true
   },
   "outputs": [],
   "source": [
    "u,v=lapOp.diagonalize()"
   ]
  },
  {
   "cell_type": "markdown",
   "id": "d1eaac97",
   "metadata": {},
   "source": [
    "# Spectrum with no training "
   ]
  },
  {
   "cell_type": "code",
   "execution_count": null,
   "id": "56421007",
   "metadata": {},
   "outputs": [],
   "source": [
    "u = u.to('cpu')\n",
    "plt.hist(u.numpy(),bins=300)\n",
    "plt.show()"
   ]
  },
  {
   "cell_type": "markdown",
   "id": "961cdfc4",
   "metadata": {},
   "source": [
    "# Training the model "
   ]
  },
  {
   "cell_type": "code",
   "execution_count": null,
   "id": "f9339be9",
   "metadata": {},
   "outputs": [],
   "source": [
    "\n",
    "optimizer = torch.optim.SGD\n",
    "pipe.train(optimizer, 1, False, {\"lr\": 0.1}, n_accumulated_grads=5)"
   ]
  },
  {
   "cell_type": "markdown",
   "id": "46fd5107",
   "metadata": {},
   "source": [
    "# Spectrum after training "
   ]
  },
  {
   "cell_type": "code",
   "execution_count": null,
   "id": "de1a1acd",
   "metadata": {},
   "outputs": [],
   "source": [
    "me = ModelExtractor(pipe.model, pipe.loss_fn)\n",
    "weights = list(me.get_layers_param().values())\n",
    "#weights = [layer.to(cpu) for layer in weights]\n",
    "lapOp = LaplacianOperator(weights)\n",
    "uTrained,vTrained = lapOp.diagonalize()"
   ]
  },
  {
   "cell_type": "code",
   "execution_count": null,
   "id": "e3ad18e8",
   "metadata": {},
   "outputs": [],
   "source": [
    "uTrained = uTrained.to('cpu')\n",
    "plt.figure(1)\n",
    "plt.subplot(211)\n",
    "plt.hist(u.numpy(),bins=300,range=(-3,3))\n",
    "plt.subplot(212)\n",
    "plt.hist(uTrained.numpy(),bins=300,range=(-3,3))\n",
    "plt.show()"
   ]
  },
  {
   "cell_type": "markdown",
   "id": "d8b318ec",
   "metadata": {},
   "source": [
    "# Spectrum evolution"
   ]
  },
  {
   "cell_type": "code",
   "execution_count": null,
   "id": "86bd124b",
   "metadata": {},
   "outputs": [],
   "source": [
    "arch = [28*28, 50, 50, 10]\n",
    "model = nn.Sequential(nn.Flatten(), FFNet(arch,bias=True))\n",
    "pipe = Pipeline(model, (dl_tr, dl_ts), loss_fn, writer)\n",
    "\n",
    "\n",
    "epochs = 2\n",
    "\n",
    "\n",
    "plt.figure(1)\n",
    "epochs=epochs+1\n",
    "for i in range(epochs):\n",
    "    #Display spectrum : \n",
    "    me = ModelExtractor(pipe.model, pipe.loss_fn)\n",
    "    weights = list(me.get_layers_param().values())\n",
    "    weights = [weight for weight in weights if len(weight.shape)==2]\n",
    "    #weights = [layer.to(cpu) for layer in weights]\n",
    "    lapOp = LaplacianOperator(weights)\n",
    "    u,v = lapOp.diagonalize()\n",
    "    plt.subplot(100*epochs + 11+i)\n",
    "    plt.hist(u.to('cpu').numpy(),bins=300,range=(-2,2))\n",
    "    #Train : \n",
    "    pipe.train(optimizer, 1, False, {\"lr\": 0.1}, n_accumulated_grads=5,keep_training=True)\n",
    "    \n",
    "\n",
    "plt.show()"
   ]
  },
  {
   "cell_type": "code",
   "execution_count": null,
   "id": "fe980d09",
   "metadata": {},
   "outputs": [],
   "source": [
    "#Plotting eigenvectors \n",
    "idx = 6\n",
    "\n",
    "img =-v.T[idx][:28*28].to('cpu')\n",
    "pixels = img.reshape((28, 28))\n",
    "plt.imshow(pixels, cmap='gray')\n",
    "\n",
    "\n",
    "print(u[285])"
   ]
  },
  {
   "cell_type": "markdown",
   "id": "6cb9aa30",
   "metadata": {},
   "source": [
    "# With absolute value : "
   ]
  },
  {
   "cell_type": "code",
   "execution_count": null,
   "id": "d8ebeaad",
   "metadata": {},
   "outputs": [],
   "source": [
    "arch = [28*28, 50, 50, 10]\n",
    "model = nn.Sequential(nn.Flatten(), FFNet(arch,bias=False ))\n",
    "pipe = Pipeline(model, (dl_tr, dl_ts), loss_fn, writer)\n",
    "\n",
    "\n",
    "epochs = 4\n",
    "\n",
    "plt.figure(1)\n",
    "for i in range(2):\n",
    "    #Display spectrum : \n",
    "    me = ModelExtractor(pipe.model, pipe.loss_fn)\n",
    "    weights = list(me.get_layers_param().values())\n",
    "    #weights = [layer.to(cpu) for layer in weights]\n",
    "    lapOp = LaplacianOperator(weights,positivation='abs')\n",
    "    uabs,vabs = lapOp.diagonalize()\n",
    "    plt.subplot(epochs*100+11+i)\n",
    "    plt.hist(uabs.to('cpu').numpy(),bins=300,range=(-3,3),color='orange')\n",
    "    #Train : \n",
    "    pipe.train(optimizer, 1, False, {\"lr\": 0.1}, n_accumulated_grads=5,keep_training=True)\n",
    "    \n",
    "\n",
    "plt.show()"
   ]
  },
  {
   "cell_type": "code",
   "execution_count": null,
   "id": "a9be283a",
   "metadata": {},
   "outputs": [],
   "source": [
    "#Plotting eigenvectors \n",
    "idx = -8\n",
    "print(uabs[idx])\n",
    "\n",
    "img = vabs.T[idx][:28*28].to('cpu')\n",
    "pixels = img.reshape((28, 28))\n",
    "plt.imshow(pixels, cmap='gray')\n",
    "\n"
   ]
  },
  {
   "cell_type": "markdown",
   "id": "ef13628a",
   "metadata": {},
   "source": [
    "# With ReLU"
   ]
  },
  {
   "cell_type": "code",
   "execution_count": null,
   "id": "57119c01",
   "metadata": {},
   "outputs": [],
   "source": [
    "arch = [28*28, 50, 50, 10]\n",
    "model = nn.Sequential(nn.Flatten(), FFNet(arch,bias=False ))\n",
    "pipe = Pipeline(model, (dl_tr, dl_ts), loss_fn, writer)\n",
    "\n",
    "\n",
    "epochs = 4\n",
    "\n",
    "plt.figure(1)\n",
    "for i in range(2):\n",
    "    #Display spectrum : \n",
    "    me = ModelExtractor(pipe.model, pipe.loss_fn)\n",
    "    weights = list(me.get_layers_param().values())\n",
    "    weights = [weight for weight in weights if len(weight.shape)==2]\n",
    "    #weights = [layer.to(cpu) for layer in weights]\n",
    "    lapOp = LaplacianOperator(weights,positivation='relu')\n",
    "    urelu,vrelu = lapOp.diagonalize()\n",
    "    plt.subplot(epochs*100+11+i)\n",
    "    plt.hist(urelu.to('cpu').numpy(),bins=300,range=(-3,3),color='green')\n",
    "    #Train : \n",
    "    pipe.train(optimizer, 1, False, {\"lr\": 0.1}, n_accumulated_grads=5,keep_training=True)\n",
    "    \n",
    "\n",
    "plt.show()"
   ]
  },
  {
   "cell_type": "code",
   "execution_count": null,
   "id": "de7fd838",
   "metadata": {},
   "outputs": [],
   "source": [
    "#Plotting eigenvectors \n",
    "idx = 789\n",
    "print(urelu[idx])\n",
    "\n",
    "img = vrelu.T[idx][:28*28].to('cpu')\n",
    "pixels = img.reshape((28, 28))\n",
    "plt.imshow(pixels, cmap='gray')\n",
    "\n",
    "print(vrelu.shape)\n",
    "print(-vrelu.T[idx][-10:])\n",
    "(-vrelu.T[idx][-10:]).argmax()"
   ]
  },
  {
   "cell_type": "code",
   "execution_count": null,
   "id": "be246d58",
   "metadata": {},
   "outputs": [],
   "source": [
    "torch.argmax(torch.abs(vrelu.T[-5][:10]))"
   ]
  },
  {
   "cell_type": "markdown",
   "id": "2cf77575",
   "metadata": {},
   "source": [
    "# High spectrum tests"
   ]
  },
  {
   "cell_type": "code",
   "execution_count": null,
   "id": "4a9235b1",
   "metadata": {},
   "outputs": [],
   "source": [
    "plt.hist(uabs.to('cpu')[28*28:].numpy(),bins=300,color='green')\n",
    "plt.show()"
   ]
  },
  {
   "cell_type": "code",
   "execution_count": null,
   "id": "052e2a34",
   "metadata": {},
   "outputs": [],
   "source": [
    "import time \n",
    "#Plotting eigenvectors \n",
    "idx = 888\n",
    "print(uabs[idx])\n",
    "\n",
    "\n",
    "def saveEigenImages():\n",
    "    i=28*28\n",
    "    while i <893:\n",
    "        idx = i \n",
    "        if vabs.T[idx][:28*28].mean()<(vabs.T[idx][:28*28].max()+vabs.T[idx][:28*28].min())/2:\n",
    "            vabs.T[idx]=-vabs.T[idx]\n",
    "        img = vabs.T[idx][:28*28].to('cpu')\n",
    "        pixels = img.reshape((28, 28))\n",
    "        plt.imshow(pixels, cmap='gray')\n",
    "        plt.savefig('lapInputLayer' + \"/eigenVec%02d.png\" % idx)\n",
    "        plt.show()\n",
    "\n",
    "        i +=1 \n"
   ]
  },
  {
   "cell_type": "code",
   "execution_count": null,
   "id": "137d2503",
   "metadata": {},
   "outputs": [],
   "source": [
    "!ls"
   ]
  },
  {
   "cell_type": "markdown",
   "id": "44dbf252",
   "metadata": {},
   "source": [
    "# Binary mode"
   ]
  },
  {
   "cell_type": "code",
   "execution_count": null,
   "id": "a651a7f8",
   "metadata": {
    "scrolled": false
   },
   "outputs": [],
   "source": [
    "from torchvision import datasets\n",
    "from torchvision.transforms import ToTensor\n",
    "from gdeep.data import DataLoaderFromArray\n",
    "from torch.utils.data import DataLoader, random_split\n",
    "\n",
    "\n",
    "writer = SummaryWriter()\n",
    "dl = TorchDataLoader(name=\"MNIST\")\n",
    "\n",
    "dl_tr, dl_ts = dl.build_dataloaders(batch_size=32)\n",
    "\n",
    "\n",
    "dataset = datasets.MNIST(root='./data',transform=ToTensor())\n",
    "idx  = torch.logical_or(dataset.targets==4,dataset.targets==6)\n",
    "dataset.targets = ((dataset.targets[idx]-4)/2).int()\n",
    "dataset.data = dataset.data[idx]\n",
    "\n",
    "\n",
    "my_dl = DataLoader(dataset)\n",
    "\n",
    "\n",
    "train_len = int(len(dataset)*5/6)\n",
    "train_set, test_set = random_split(dataset, [train_len, int(len(dataset)) - train_len])\n",
    "\n",
    "dl_tr2 = DataLoader(train_set, batch_size=32, shuffle=True) # Train dataloader\n",
    "dl_ts2 = DataLoader(test_set, batch_size=32, shuffle=False) # Test set \n",
    "\n",
    "\n",
    "\"\"\" Crappy stuff \n",
    "j = int(len(data)*5/6) \n",
    "print(data.type())\n",
    "\n",
    "\n",
    "dl2 = DataLoaderFromArray(data[:j].unsqueeze(1),targets[:j],X_val=data[j:].unsqueeze(1),y_val=targets[j:])\n",
    "dl_tr2, dl_ts2,_ = dl2.build_dataloaders(batch_size=32)\n",
    "\n",
    "\n",
    "\n",
    "#dl_tr2.dataset = [(x[0],int(x[1].item())) for x in dl_tr2.dataset]\n",
    "    \n",
    "#dl_ts2.dataset = [(x[0],int(x[1].item())) for x in dl_ts2.dataset]\n",
    "\n",
    "print(len(dl_tr),len(dl_ts))\n",
    "print(len(dl_tr2),len(dl_ts2))\n",
    "\"\"\""
   ]
  },
  {
   "cell_type": "code",
   "execution_count": null,
   "id": "5fa9a7f9",
   "metadata": {},
   "outputs": [],
   "source": [
    "for x in dl_ts2.dataset:\n",
    "    print(x[0].type())\n",
    "    break "
   ]
  },
  {
   "cell_type": "code",
   "execution_count": null,
   "id": "05f8cef0",
   "metadata": {},
   "outputs": [],
   "source": [
    "\n",
    "\n",
    "arch = [28*28, 50, 50, 2]\n",
    "model = nn.Sequential(nn.Flatten(), FFNet(arch,bias=False ))\n",
    "pipe = Pipeline(model, (dl_tr2, dl_ts2), loss_fn, writer)\n",
    "\n",
    "\n",
    "epochs = 4\n",
    "\n",
    "plt.figure(1)\n",
    "for i in range(2):\n",
    "    #Display spectrum : \n",
    "    me = ModelExtractor(pipe.model, pipe.loss_fn)\n",
    "    weights = list(me.get_layers_param().values())\n",
    "    #weights = [layer.to(cpu) for layer in weights]\n",
    "    lapOp = LaplacianOperator(weights,positivation='abs')\n",
    "    ubin,vbin = lapOp.diagonalize()\n",
    "    plt.subplot(epochs*100+11+i)\n",
    "    plt.hist(ubin.to('cpu').numpy(),bins=300,color='black')\n",
    "    #Train : \n",
    "    pipe.train(optimizer, 1, False, {\"lr\": 0.1}, n_accumulated_grads=5,keep_training=True)\n",
    "    \n",
    "\n",
    "plt.show()"
   ]
  },
  {
   "cell_type": "code",
   "execution_count": null,
   "id": "def19872",
   "metadata": {},
   "outputs": [],
   "source": [
    "def saveEigenImages2():\n",
    "    i=28*28-5\n",
    "    while i <893:\n",
    "        idx = i \n",
    "        if vbin.T[idx][:28*28].mean()<(vbin.T[idx][:28*28].max()+vbin.T[idx][:28*28].min())/2:\n",
    "            vbin.T[idx]=-vbin.T[idx]\n",
    "        img = vbin.T[idx][:28*28].to('cpu')\n",
    "        pixels = img.reshape((28, 28))\n",
    "        plt.imshow(pixels, cmap='gray')\n",
    "        plt.savefig('lapInputLayerBin' + \"/eigenVec%02d.png\" % idx)\n",
    "        plt.show()\n",
    "\n",
    "        i +=1 \n",
    "\n",
    "saveEigenImages2()"
   ]
  },
  {
   "cell_type": "code",
   "execution_count": null,
   "id": "57176229",
   "metadata": {},
   "outputs": [],
   "source": [
    "#Plotting eigenvectors \n",
    "idx = 28*28-5\n",
    "print(ubin[idx])\n",
    "img = vbin.T[idx][:28*28].to('cpu')\n",
    "pixels = img.reshape((28, 28))\n",
    "plt.imshow(pixels, cmap='gray')\n",
    "print(-vbin.T[idx][-10:])\n",
    "(-vbin.T[idx][-10:]).argmax()\n",
    "\n"
   ]
  }
 ],
 "metadata": {
  "kernelspec": {
   "display_name": "Python 3 (ipykernel)",
   "language": "python",
   "name": "python3"
  },
  "language_info": {
   "codemirror_mode": {
    "name": "ipython",
    "version": 3
   },
   "file_extension": ".py",
   "mimetype": "text/x-python",
   "name": "python",
   "nbconvert_exporter": "python",
   "pygments_lexer": "ipython3",
   "version": "3.9.12"
  }
 },
 "nbformat": 4,
 "nbformat_minor": 5
}
